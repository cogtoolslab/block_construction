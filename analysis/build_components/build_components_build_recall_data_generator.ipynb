{
 "cells": [
  {
   "cell_type": "code",
   "execution_count": 1,
   "id": "48a76ce9",
   "metadata": {},
   "outputs": [],
   "source": [
    "import os\n",
    "import sys\n",
    "import urllib, io\n",
    "import pickle\n",
    "\n",
    "import numpy as np\n",
    "import scipy.stats as stats\n",
    "import pandas as pd\n",
    "from sklearn.metrics import euclidean_distances, jaccard_score, pairwise_distances\n",
    "\n",
    "import pymongo as pm\n",
    "from collections import Counter\n",
    "import json\n",
    "import re\n",
    "import ast\n",
    "\n",
    "from PIL import Image, ImageOps, ImageDraw, ImageFont \n",
    "from IPython.core.display import HTML \n",
    "\n",
    "from io import BytesIO\n",
    "import base64\n",
    "import requests\n",
    "\n",
    "import  matplotlib\n",
    "from matplotlib import pylab, mlab, pyplot\n",
    "%matplotlib inline\n",
    "from IPython.core.pylabtools import figsize, getfigs\n",
    "plt = pyplot\n",
    "import matplotlib as mpl\n",
    "mpl.rcParams['pdf.fonttype'] = 42\n",
    "\n",
    "import seaborn as sns\n",
    "sns.set_context('talk')\n",
    "sns.set_style('darkgrid')\n",
    "\n",
    "from IPython.display import clear_output\n",
    "\n",
    "import warnings\n",
    "warnings.filterwarnings(\"ignore\", category=DeprecationWarning)\n",
    "warnings.filterwarnings(\"ignore\", message=\"numpy.dtype size changed\")\n",
    "warnings.filterwarnings(\"ignore\", message=\"numpy.ufunc size changed\")\n",
    "\n",
    "sys.path.append(\"../../stimuli/block_utils/\")\n",
    "import blockworld_utils as utils"
   ]
  },
  {
   "cell_type": "code",
   "execution_count": 2,
   "id": "42cbae1a",
   "metadata": {},
   "outputs": [],
   "source": [
    "experiment_name = 'build_components'\n",
    "\n",
    "## directory & file hierarchy\n",
    "proj_dir = os.path.abspath('../..')\n",
    "datavol_dir = os.path.join(proj_dir,'data')\n",
    "analysis_dir = os.path.abspath(os.path.join(os.getcwd(),'..'))\n",
    "results_dir = os.path.join(analysis_dir,'results')\n",
    "\n",
    "# paths specific to this experiment\n",
    "experiment_results_dir = os.path.join(results_dir, experiment_name)\n",
    "plot_dir = os.path.join(experiment_results_dir,'plots')\n",
    "csv_dir = os.path.join(experiment_results_dir,'csv')\n",
    "json_dir = os.path.join(experiment_results_dir,'json')\n",
    "\n",
    "png_dir = os.path.abspath(os.path.join(datavol_dir,'png'))\n",
    "jefan_dir = os.path.join(analysis_dir,'jefan')\n",
    "will_dir = os.path.join(analysis_dir,'will')\n",
    "\n",
    "## add helpers to python path\n",
    "if os.path.join(proj_dir,'stimuli') not in sys.path:\n",
    "    sys.path.append(os.path.join(proj_dir,'stimuli'))\n",
    "    \n",
    "if not os.path.exists(results_dir):\n",
    "    os.makedirs(results_dir)\n",
    "    \n",
    "if not os.path.exists(plot_dir):\n",
    "    os.makedirs(plot_dir)   \n",
    "    \n",
    "if not os.path.exists(csv_dir):\n",
    "    os.makedirs(csv_dir)       "
   ]
  },
  {
   "cell_type": "code",
   "execution_count": 3,
   "id": "82df79fd",
   "metadata": {},
   "outputs": [],
   "source": [
    "# set vars \n",
    "auth = pd.read_csv(os.path.join(proj_dir, 'auth.txt'), header = None) # this auth.txt file contains the password for the sketchloop user\n",
    "pswd = auth.values[0][0]\n",
    "user = 'sketchloop'\n",
    "host = 'cogtoolslab.org' ## cocolab ip address\n",
    "\n",
    "# have to fix this to be able to analyze from local\n",
    "import pymongo as pm\n",
    "conn = pm.MongoClient('mongodb://sketchloop:' + pswd + '@127.0.0.1')\n",
    "db = conn['block_construction']\n",
    "coll = db['build_components']\n",
    "\n",
    "# which iteration name should we use?\n",
    "iteration_name = 'build_components_build_recall_prolific_pilot_12_towers'\n",
    "iteration_names = [iteration_name]"
   ]
  },
  {
   "cell_type": "code",
   "execution_count": 4,
   "id": "fcbe340e",
   "metadata": {},
   "outputs": [
    {
     "name": "stdout",
     "output_type": "stream",
     "text": [
      "1811\n"
     ]
    }
   ],
   "source": [
    "# all data\n",
    "query = coll.find({\"$and\":[\n",
    "                        {'iterationName': { '$in': iteration_names }},\n",
    "                        ]})\n",
    "df_all = pd.DataFrame(query)\n",
    "print(len(df_all))"
   ]
  },
  {
   "cell_type": "code",
   "execution_count": 5,
   "id": "1878694f",
   "metadata": {},
   "outputs": [
    {
     "name": "stdout",
     "output_type": "stream",
     "text": [
      "0\n"
     ]
    }
   ],
   "source": [
    "# load metadata\n",
    "query = coll.find({\"$and\":[\n",
    "                        {'datatype':'metadata'},\n",
    "                        {'iterationName': { '$in': iteration_names }},\n",
    "                        ]})\n",
    "df_meta = pd.DataFrame(query)\n",
    "print(len(df_meta))"
   ]
  },
  {
   "cell_type": "code",
   "execution_count": 6,
   "id": "f6380862",
   "metadata": {},
   "outputs": [
    {
     "name": "stdout",
     "output_type": "stream",
     "text": [
      "120\n"
     ]
    }
   ],
   "source": [
    "# learning/ exposure trials\n",
    "learn_conditions = ['block-tower-viewing','block-tower-building-undo']\n",
    "\n",
    "query = coll.find({\"$and\":[\n",
    "                        {'iterationName': { '$in': iteration_names }},\n",
    "                        {'trial_type':{ '$in': learn_conditions }},\n",
    "                        ]})\n",
    "df_learn = pd.DataFrame(query)\n",
    "print(len(df_learn))"
   ]
  },
  {
   "cell_type": "code",
   "execution_count": 7,
   "id": "9f9a0442",
   "metadata": {},
   "outputs": [
    {
     "data": {
      "text/plain": [
       "array(['trial_end', 'reset', 'block_placement', 'block_undo_placement',\n",
       "       'recalled_tower', 'block_redo_placement'], dtype=object)"
      ]
     },
     "execution_count": 7,
     "metadata": {},
     "output_type": "execute_result"
    }
   ],
   "source": [
    "df_all.datatype.unique()"
   ]
  },
  {
   "cell_type": "code",
   "execution_count": 8,
   "id": "2b6b8ce6",
   "metadata": {},
   "outputs": [
    {
     "name": "stdout",
     "output_type": "stream",
     "text": [
      "1343\n"
     ]
    }
   ],
   "source": [
    "# block placements\n",
    "query = coll.find({\"$and\":[\n",
    "                        {'datatype':'block_placement'},\n",
    "                        {'iterationName': { '$in': iteration_names }},\n",
    "                        ]})\n",
    "df_blocks = pd.DataFrame(query)\n",
    "print(len(df_blocks))"
   ]
  },
  {
   "cell_type": "code",
   "execution_count": 9,
   "id": "adc16567",
   "metadata": {},
   "outputs": [
    {
     "name": "stdout",
     "output_type": "stream",
     "text": [
      "10\n"
     ]
    }
   ],
   "source": [
    "# old-new judgements\n",
    "query = coll.find({\"$and\":[\n",
    "                        {'iterationName': { '$in': iteration_names }},\n",
    "                        {'trial_type':'block-tower-build-recall'},\n",
    "                        ]})\n",
    "df_recall_trial = pd.DataFrame(query)\n",
    "print(len(df_recall_trial))"
   ]
  },
  {
   "cell_type": "code",
   "execution_count": 10,
   "id": "578e5b31",
   "metadata": {},
   "outputs": [
    {
     "name": "stdout",
     "output_type": "stream",
     "text": [
      "65\n"
     ]
    }
   ],
   "source": [
    "# old-new judgements\n",
    "query = coll.find({\"$and\":[\n",
    "                        {'iterationName': { '$in': iteration_names }},\n",
    "                        {'datatype':'recalled_tower'},\n",
    "                        ]})\n",
    "df_recalled_towers = pd.DataFrame(query)\n",
    "print(len(df_recalled_towers))"
   ]
  },
  {
   "cell_type": "code",
   "execution_count": 11,
   "id": "f908b78a",
   "metadata": {},
   "outputs": [
    {
     "data": {
      "text/plain": [
       "[{'technical': '', 'confused': '', 'comments': ''},\n",
       " {'technical': 'No technical difficulties',\n",
       "  'confused': 'The instructions were quite clear ',\n",
       "  'comments': 'My short term memory seem to have become a slight blocker for the final part of the experiment'},\n",
       " {'technical': 'no',\n",
       "  'confused': 'no',\n",
       "  'comments': 'this was excellent thank you '},\n",
       " {'technical': 'no', 'confused': 'no', 'comments': 'It was difficult!'},\n",
       " {'technical': 'No', 'confused': 'No', 'comments': 'NA'},\n",
       " {'technical': '',\n",
       "  'confused': '',\n",
       "  'comments': 'Difficult to recall initial shapes are just a few others'},\n",
       " {'technical': '', 'confused': '', 'comments': ''},\n",
       " {'technical': 'No technical difficulties',\n",
       "  'confused': \"Having to look at various  towers and then build different ones was confusing. I also didn't figure out how to use the undo ctrl+z until the very end\",\n",
       "  'comments': ''},\n",
       " {'technical': 'sometimes the click didnt work at first',\n",
       "  'confused': 'No. ',\n",
       "  'comments': 'Thanks for the opportunity, I found it quite interesting'},\n",
       " {'technical': 'No it was all good thank you - the study worked well',\n",
       "  'confused': 'No it was all clear and self explanatary',\n",
       "  'comments': 'It was an interesting study to take part in and difficult to remember all the shapes as they were in their own way not much different than each other. Enjoyable but thought provoking and most intriguing. Many thanks. '}]"
      ]
     },
     "execution_count": 11,
     "metadata": {},
     "output_type": "execute_result"
    }
   ],
   "source": [
    "# look at survey responses\n",
    "list(df_all[df_all.trial_type == 'survey-text']['response'])"
   ]
  },
  {
   "cell_type": "markdown",
   "id": "6be8ccd0",
   "metadata": {},
   "source": [
    "### Exclusion criteria"
   ]
  },
  {
   "cell_type": "code",
   "execution_count": null,
   "id": "5020c1bc",
   "metadata": {},
   "outputs": [],
   "source": [
    "df_all_trial = df_learn.append(df_recall, ignore_index=True)"
   ]
  },
  {
   "cell_type": "code",
   "execution_count": null,
   "id": "2d90d2bc",
   "metadata": {},
   "outputs": [],
   "source": [
    "# remove experimenter data\n",
    "remove_tests = False\n",
    "\n",
    "if remove_tests:\n",
    "    df_build = df_build[~df_build.workerID.isna()]\n",
    "    df_survey = df_survey[~df_survey.workerID.isna()]\n",
    "    df_learn = df_learn[~df_learn.workerID.isna()]\n",
    "    df_recall = df_recall[~df_recall.workerID.isna()]"
   ]
  },
  {
   "cell_type": "code",
   "execution_count": null,
   "id": "6fbb9560",
   "metadata": {},
   "outputs": [],
   "source": [
    "# remove incomplete datasets\n",
    "remove_incomplete_datasets = True\n",
    "n_expected_trials = 36\n",
    "\n",
    "if remove_incomplete_datasets:\n",
    "    a = df_all_trial.groupby('gameID').apply(len) == n_expected_trials\n",
    "    complete_zipping_set_gameIDs = list(a[a].index)\n",
    "    df_trials = df_all_trial[df_all_trial.gameID.isin(complete_zipping_set_gameIDs)]\n",
    "    df_learn = df_learn[df_learn.gameID.isin(complete_zipping_set_gameIDs)]\n",
    "    df_recall = df_recall[df_recall.gameID.isin(complete_zipping_set_gameIDs)]\n",
    "    \n",
    "    incomplete_zipping_set_gameIDs = list(a[~a].index)\n",
    "    print(str(len(incomplete_zipping_set_gameIDs)) + ' ppts removed for incomplete data')\n",
    "    print(str(len(complete_zipping_set_gameIDs)) + ' ppts left')\n",
    "else: \n",
    "    print('No ppts removed')"
   ]
  },
  {
   "cell_type": "markdown",
   "id": "8795589b",
   "metadata": {},
   "source": [
    "#### Flag potentially weird behaviors\n",
    "\n",
    "Flag:\n",
    "- < 50% accuracy?\n",
    "- button bashing on recall trials?\n",
    "- fast rts on recall trials?"
   ]
  },
  {
   "cell_type": "code",
   "execution_count": 21,
   "id": "551661d9",
   "metadata": {},
   "outputs": [
    {
     "name": "stderr",
     "output_type": "stream",
     "text": [
      "/var/folders/4y/_czpmr7d3gb8b80x7wh36g1c0000gn/T/ipykernel_59220/1779546431.py:1: FutureWarning: The frame.append method is deprecated and will be removed from pandas in a future version. Use pandas.concat instead.\n",
      "  df_trial = df_learn.append(df_recall_trial, ignore_index=True)\n"
     ]
    }
   ],
   "source": [
    "df_trial = df_learn.append(df_recall_trial, ignore_index=True)"
   ]
  },
  {
   "cell_type": "markdown",
   "id": "5292084c",
   "metadata": {},
   "source": [
    "### Save data to csv"
   ]
  },
  {
   "cell_type": "code",
   "execution_count": 22,
   "id": "8ef8cf57",
   "metadata": {},
   "outputs": [],
   "source": [
    "df_learn.to_csv(experiment_results_dir + '/df_learn_{}.csv'.format(iteration_name))\n",
    "df_trial.to_csv(experiment_results_dir + '/df_trial_{}.csv'.format(iteration_name))\n",
    "df_recall_trial.to_csv(experiment_results_dir + '/df_recall_trial_{}.csv'.format(iteration_name))\n",
    "df_recalled_towers.to_csv(experiment_results_dir + '/df_recalled_towers_{}.csv'.format(iteration_name))\n",
    "df_blocks.to_csv(experiment_results_dir + '/df_blocks_{}.csv'.format(iteration_name))"
   ]
  },
  {
   "cell_type": "code",
   "execution_count": null,
   "id": "5cc883de",
   "metadata": {},
   "outputs": [],
   "source": [
    "df_trial = pd.read_csv(experiment_results_dir + '/df_trial_{}.csv'.format(iteration_name))\n",
    "df_trial"
   ]
  },
  {
   "cell_type": "code",
   "execution_count": null,
   "id": "903119c5",
   "metadata": {},
   "outputs": [],
   "source": []
  }
 ],
 "metadata": {
  "kernelspec": {
   "display_name": "Python 3 (ipykernel)",
   "language": "python",
   "name": "python3"
  },
  "language_info": {
   "codemirror_mode": {
    "name": "ipython",
    "version": 3
   },
   "file_extension": ".py",
   "mimetype": "text/x-python",
   "name": "python",
   "nbconvert_exporter": "python",
   "pygments_lexer": "ipython3",
   "version": "3.9.16"
  }
 },
 "nbformat": 4,
 "nbformat_minor": 5
}
