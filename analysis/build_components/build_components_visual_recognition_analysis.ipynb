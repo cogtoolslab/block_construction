{
 "cells": [
  {
   "cell_type": "code",
   "execution_count": null,
   "id": "dfc8b22f",
   "metadata": {},
   "outputs": [],
   "source": [
    "import os\n",
    "import sys\n",
    "import urllib, io\n",
    "import pickle\n",
    "\n",
    "import numpy as np\n",
    "import scipy.stats as stats\n",
    "import pandas as pd\n",
    "from sklearn.metrics import euclidean_distances, jaccard_score, pairwise_distances\n",
    "\n",
    "import pymongo as pm\n",
    "from collections import Counter\n",
    "import json\n",
    "import re\n",
    "import ast\n",
    "\n",
    "from PIL import Image, ImageOps, ImageDraw, ImageFont \n",
    "from IPython.core.display import HTML \n",
    "\n",
    "from io import BytesIO\n",
    "import base64\n",
    "import requests\n",
    "\n",
    "import  matplotlib\n",
    "from matplotlib import pylab, mlab, pyplot\n",
    "%matplotlib inline\n",
    "from IPython.core.pylabtools import figsize, getfigs\n",
    "plt = pyplot\n",
    "import matplotlib as mpl\n",
    "mpl.rcParams['pdf.fonttype'] = 42\n",
    "\n",
    "import seaborn as sns\n",
    "sns.set_context('talk')\n",
    "sns.set_style('darkgrid')\n",
    "\n",
    "from IPython.display import clear_output\n",
    "\n",
    "import warnings\n",
    "warnings.filterwarnings(\"ignore\", category=DeprecationWarning)\n",
    "warnings.filterwarnings(\"ignore\", message=\"numpy.dtype size changed\")\n",
    "warnings.filterwarnings(\"ignore\", message=\"numpy.ufunc size changed\")\n",
    "\n",
    "sys.path.append(\"../../stimuli/block_utils/\")\n",
    "import blockworld_utils as utils"
   ]
  },
  {
   "cell_type": "code",
   "execution_count": null,
   "id": "204bcaf9",
   "metadata": {},
   "outputs": [],
   "source": [
    "experiment_name = 'build_components'\n",
    "\n",
    "## directory & file hierarchy\n",
    "proj_dir = os.path.abspath('../..')\n",
    "datavol_dir = os.path.join(proj_dir,'data')\n",
    "analysis_dir = os.path.abspath(os.path.join(os.getcwd(),'..'))\n",
    "results_dir = os.path.join(analysis_dir,'results')\n",
    "\n",
    "# paths specific to this experiment\n",
    "experiment_results_dir = os.path.join(results_dir, experiment_name)\n",
    "plot_dir = os.path.join(experiment_results_dir,'plots')\n",
    "csv_dir = os.path.join(experiment_results_dir,'csv')\n",
    "json_dir = os.path.join(experiment_results_dir,'json')\n",
    "\n",
    "png_dir = os.path.abspath(os.path.join(datavol_dir,'png'))\n",
    "jefan_dir = os.path.join(analysis_dir,'jefan')\n",
    "will_dir = os.path.join(analysis_dir,'will')\n",
    "\n",
    "## add helpers to python path\n",
    "if os.path.join(proj_dir,'stimuli') not in sys.path:\n",
    "    sys.path.append(os.path.join(proj_dir,'stimuli'))\n",
    "    \n",
    "if not os.path.exists(results_dir):\n",
    "    os.makedirs(results_dir)\n",
    "    \n",
    "if not os.path.exists(plot_dir):\n",
    "    os.makedirs(plot_dir)   \n",
    "    \n",
    "if not os.path.exists(csv_dir):\n",
    "    os.makedirs(csv_dir)       "
   ]
  },
  {
   "cell_type": "code",
   "execution_count": 78,
   "id": "6cf0cfd2",
   "metadata": {},
   "outputs": [],
   "source": [
    "import poster_plot_settings\n",
    "from poster_plot_settings import palette"
   ]
  },
  {
   "cell_type": "code",
   "execution_count": null,
   "id": "cbf39890",
   "metadata": {},
   "outputs": [],
   "source": []
  },
  {
   "cell_type": "code",
   "execution_count": 4,
   "id": "b676bf75",
   "metadata": {},
   "outputs": [],
   "source": [
    "# which iteration name should we use?\n",
    "iteration_name = 'build_components_pilot_2'"
   ]
  },
  {
   "cell_type": "markdown",
   "id": "6b54c9e1",
   "metadata": {},
   "source": [
    "### Load csvs from dataframe generator"
   ]
  },
  {
   "cell_type": "code",
   "execution_count": 5,
   "id": "3a209160",
   "metadata": {},
   "outputs": [],
   "source": [
    "df_trial = pd.read_csv(experiment_results_dir + '/df_trial_{}.csv'.format(iteration_name))"
   ]
  },
  {
   "cell_type": "code",
   "execution_count": 6,
   "id": "f6267320",
   "metadata": {},
   "outputs": [],
   "source": [
    "df_recog = df_trial[df_trial.trial_type == \"block-tower-old-new\"].reset_index().drop(columns=['index', 'Unnamed: 0'])"
   ]
  },
  {
   "cell_type": "code",
   "execution_count": 7,
   "id": "6101b549",
   "metadata": {},
   "outputs": [],
   "source": [
    "df_encode = df_trial[~(df_trial.trial_type == \"block-tower-old-new\")].reset_index().drop(columns=['index', 'Unnamed: 0'])"
   ]
  },
  {
   "cell_type": "code",
   "execution_count": 8,
   "id": "e17f4694",
   "metadata": {},
   "outputs": [],
   "source": [
    "df_blocks = pd.read_csv(experiment_results_dir + '/df_blocks_{}.csv'.format(iteration_name))"
   ]
  },
  {
   "cell_type": "markdown",
   "id": "5c9e9cb1",
   "metadata": {},
   "source": [
    "## Add useful columns"
   ]
  },
  {
   "cell_type": "code",
   "execution_count": 9,
   "id": "4881f956",
   "metadata": {},
   "outputs": [],
   "source": [
    "### Utils\n",
    "\n",
    "def get_block_map(blocks):\n",
    "    return utils.worldify(ast.literal_eval(blocks)).block_map[2:,0:4]\n",
    "\n",
    "def mean_tower(group):\n",
    "    return np.mean(group['square_map'])"
   ]
  },
  {
   "cell_type": "code",
   "execution_count": null,
   "id": "ff1607d8",
   "metadata": {},
   "outputs": [],
   "source": []
  },
  {
   "cell_type": "markdown",
   "id": "c3320212",
   "metadata": {},
   "source": [
    "### stimulus info"
   ]
  },
  {
   "cell_type": "code",
   "execution_count": 10,
   "id": "a5750bd8",
   "metadata": {},
   "outputs": [],
   "source": [
    "# import stim dataframes\n",
    "df_towers = pd.read_csv('../../stimuli/block_utils/ambiguous/ambiguous_composite_towers.csv')"
   ]
  },
  {
   "cell_type": "code",
   "execution_count": 11,
   "id": "e3fc980d",
   "metadata": {},
   "outputs": [],
   "source": [
    "df_towers['tower_id'] = df_towers.tower_id_tall"
   ]
  },
  {
   "cell_type": "code",
   "execution_count": 12,
   "id": "e72f72bf",
   "metadata": {},
   "outputs": [],
   "source": [
    "df_recog = df_recog.merge(df_towers[['tower_id','stim_wide']], on = 'tower_id')\n",
    "df_recog['square_map'] = df_recog['stim_wide'].apply(lambda x: get_block_map(x))"
   ]
  },
  {
   "cell_type": "markdown",
   "id": "f72f0a06",
   "metadata": {},
   "source": [
    "### Timing data"
   ]
  },
  {
   "cell_type": "code",
   "execution_count": 13,
   "id": "6f813f6d",
   "metadata": {
    "scrolled": true
   },
   "outputs": [],
   "source": [
    "# df_build['trial_num'] = df_build.trial_index - 3\n",
    "# df_build['trial_num']\n",
    "\n",
    "# build_start = df_build[df_build.trial_num == 0][['gameID','trial_start_time']]\n",
    "# build_start = build_start.rename(columns = {'trial_start_time': 'build_start_time'})\n",
    "\n",
    "# build_finish = df_build[df_build.trial_num == 15][['gameID','timeAbsolute']]\n",
    "# build_finish = build_finish.rename(columns= {'timeAbsolute':'build_finish_time'})\n",
    "# build_timing = build_start.merge(build_finish, on='gameID')\n",
    "# build_timing['build_duration'] = build_timing['build_finish_time'] - build_timing['build_start_time']\n",
    "# build_timing['build_duration_min'] = build_timing['build_duration'] / (1000 * 60)\n",
    "# build_timing"
   ]
  },
  {
   "cell_type": "markdown",
   "id": "f2258ccc",
   "metadata": {},
   "source": [
    "#### export for stats"
   ]
  },
  {
   "cell_type": "code",
   "execution_count": 14,
   "id": "92879627",
   "metadata": {},
   "outputs": [],
   "source": [
    "save = False\n",
    "\n",
    "if save:\n",
    "    filename = '../../results/build_components/csv/df_trial_{}.csv'.format(iteration_name)\n",
    "    df_trial.to_csv(filename)\n",
    "    print(filename)"
   ]
  },
  {
   "cell_type": "markdown",
   "id": "1e2bad55",
   "metadata": {},
   "source": [
    "# Analysis "
   ]
  },
  {
   "cell_type": "markdown",
   "id": "c7193dfb",
   "metadata": {},
   "source": [
    "### Analysis setup"
   ]
  },
  {
   "cell_type": "markdown",
   "id": "86d4b394",
   "metadata": {},
   "source": [
    "### plot setup"
   ]
  },
  {
   "cell_type": "code",
   "execution_count": 15,
   "id": "55795457",
   "metadata": {},
   "outputs": [],
   "source": [
    "# sns.set_context('poster')\n",
    "# sns.set(font_scale=1.2)\n",
    "# sns.set_style('whitegrid', {'font.family':'sans-serif', 'font.sans-serif':'Avenir'})"
   ]
  },
  {
   "cell_type": "code",
   "execution_count": 56,
   "id": "8b5c2e92",
   "metadata": {},
   "outputs": [],
   "source": [
    "# Calculate 95% CI for each group\n",
    "def calculate_ci(data, conf_level=0.95):\n",
    "    mean = np.mean(data)\n",
    "    sem = stats.sem(data)\n",
    "    ci = sem * stats.t.ppf((1 + conf_level) / 2, len(data) - 1)\n",
    "    return ci"
   ]
  },
  {
   "cell_type": "markdown",
   "id": "2b3258a8",
   "metadata": {},
   "source": [
    "## Key analyses"
   ]
  },
  {
   "cell_type": "markdown",
   "id": "1f23a91a",
   "metadata": {},
   "source": [
    "### Condition difference in accuracy"
   ]
  },
  {
   "cell_type": "code",
   "execution_count": 16,
   "id": "53dd13b1",
   "metadata": {},
   "outputs": [],
   "source": [
    "df_recog['novelty'] = ['new' if condition == 'foil' else 'old' for condition in df_recog.condition]"
   ]
  },
  {
   "cell_type": "code",
   "execution_count": 17,
   "id": "4052491f",
   "metadata": {},
   "outputs": [
    {
     "data": {
      "text/plain": [
       "True"
      ]
     },
     "execution_count": 17,
     "metadata": {},
     "output_type": "execute_result"
    }
   ],
   "source": [
    "# double check accuracy calculations\n",
    "df_recog['response_correct_recalc'] = ((df_recog.response_meaning == 'new') & (df_recog.condition == 'foil')) | \\\n",
    "                                       ((df_recog.response_meaning == 'old') & (df_recog.condition != 'foil'))\n",
    "\n",
    "df_recog['response_correct_recalc'].equals(df_recog['response_correct'].astype(bool))"
   ]
  },
  {
   "cell_type": "code",
   "execution_count": 18,
   "id": "e4ee8587",
   "metadata": {},
   "outputs": [],
   "source": [
    "df_recog['responded_old'] = df_recog.response_meaning.apply(lambda x: 1 if x=='old' else 0)"
   ]
  },
  {
   "cell_type": "code",
   "execution_count": 19,
   "id": "5214299f",
   "metadata": {},
   "outputs": [
    {
     "data": {
      "text/plain": [
       "0.6683333333333333"
      ]
     },
     "execution_count": 19,
     "metadata": {},
     "output_type": "execute_result"
    }
   ],
   "source": [
    "df_recog.groupby('gameID')['response_correct'].mean().mean()"
   ]
  },
  {
   "cell_type": "code",
   "execution_count": 20,
   "id": "25b1c50e",
   "metadata": {},
   "outputs": [
    {
     "data": {
      "text/plain": [
       "(0.0, 1.0)"
      ]
     },
     "execution_count": 20,
     "metadata": {},
     "output_type": "execute_result"
    },
    {
     "data": {
      "image/png": "[encoded data removed]",
      "text/plain": [
       "<Figure size 600x600 with 1 Axes>"
      ]
     },
     "metadata": {},
     "output_type": "display_data"
    }
   ],
   "source": [
    "fig = plt.figure(figsize=(6,6))\n",
    "\n",
    "sns.barplot(data = df_recog, \n",
    "            y = \"response_correct\",\n",
    "            x = \"gameID\")\n",
    "plt.ylim((0,1))"
   ]
  },
  {
   "cell_type": "code",
   "execution_count": 59,
   "id": "f311a176",
   "metadata": {},
   "outputs": [
    {
     "data": {
      "text/html": [
       "<div>\n",
       "<style scoped>\n",
       "    .dataframe tbody tr th:only-of-type {\n",
       "        vertical-align: middle;\n",
       "    }\n",
       "\n",
       "    .dataframe tbody tr th {\n",
       "        vertical-align: top;\n",
       "    }\n",
       "\n",
       "    .dataframe thead th {\n",
       "        text-align: right;\n",
       "    }\n",
       "</style>\n",
       "<table border=\"1\" class=\"dataframe\">\n",
       "  <thead>\n",
       "    <tr style=\"text-align: right;\">\n",
       "      <th></th>\n",
       "      <th>_id</th>\n",
       "      <th>trial_start_time</th>\n",
       "      <th>trial_finish_time</th>\n",
       "      <th>condition</th>\n",
       "      <th>stimulus</th>\n",
       "      <th>response</th>\n",
       "      <th>trial_num</th>\n",
       "      <th>block_str</th>\n",
       "      <th>tower_id</th>\n",
       "      <th>tower_A_tall_id</th>\n",
       "      <th>...</th>\n",
       "      <th>n_resets</th>\n",
       "      <th>rt</th>\n",
       "      <th>novelty</th>\n",
       "      <th>response_meaning</th>\n",
       "      <th>response_correct</th>\n",
       "      <th>key_presses</th>\n",
       "      <th>stim_wide</th>\n",
       "      <th>square_map</th>\n",
       "      <th>response_correct_recalc</th>\n",
       "      <th>responded_old</th>\n",
       "    </tr>\n",
       "  </thead>\n",
       "  <tbody>\n",
       "    <tr>\n",
       "      <th>0</th>\n",
       "      <td>637e7c93c178f27685c4f6b0</td>\n",
       "      <td>1.669234e+12</td>\n",
       "      <td>1.669234e+12</td>\n",
       "      <td>foil</td>\n",
       "      <td>{'blocks': [{'x': 0, 'y': 0, 'height': 1, 'wid...</td>\n",
       "      <td>z</td>\n",
       "      <td>13</td>\n",
       "      <td>0000000000000000101100001010000011100000011000...</td>\n",
       "      <td>talls_111_125</td>\n",
       "      <td>tall_111</td>\n",
       "      <td>...</td>\n",
       "      <td>NaN</td>\n",
       "      <td>6253.0</td>\n",
       "      <td>new</td>\n",
       "      <td>new</td>\n",
       "      <td>1.0</td>\n",
       "      <td>1.0</td>\n",
       "      <td>[{'x': 0, 'y': 0, 'height': 1, 'width': 2}, {'...</td>\n",
       "      <td>[[1, 0, 1, 1], [1, 0, 1, 0], [1, 1, 1, 0], [0,...</td>\n",
       "      <td>True</td>\n",
       "      <td>0</td>\n",
       "    </tr>\n",
       "    <tr>\n",
       "      <th>1</th>\n",
       "      <td>637e7dacc178f27685c4f767</td>\n",
       "      <td>1.669234e+12</td>\n",
       "      <td>1.669234e+12</td>\n",
       "      <td>view</td>\n",
       "      <td>{'blocks': [{'x': 0, 'y': 0, 'height': 1, 'wid...</td>\n",
       "      <td>m</td>\n",
       "      <td>18</td>\n",
       "      <td>0000000000000000101100001010000011100000011000...</td>\n",
       "      <td>talls_111_125</td>\n",
       "      <td>tall_111</td>\n",
       "      <td>...</td>\n",
       "      <td>NaN</td>\n",
       "      <td>2948.7</td>\n",
       "      <td>old</td>\n",
       "      <td>old</td>\n",
       "      <td>1.0</td>\n",
       "      <td>1.0</td>\n",
       "      <td>[{'x': 0, 'y': 0, 'height': 1, 'width': 2}, {'...</td>\n",
       "      <td>[[1, 0, 1, 1], [1, 0, 1, 0], [1, 1, 1, 0], [0,...</td>\n",
       "      <td>True</td>\n",
       "      <td>1</td>\n",
       "    </tr>\n",
       "    <tr>\n",
       "      <th>2</th>\n",
       "      <td>637e7f0fc178f27685c4f7f1</td>\n",
       "      <td>1.669234e+12</td>\n",
       "      <td>1.669234e+12</td>\n",
       "      <td>build</td>\n",
       "      <td>{'blocks': [{'x': 0, 'y': 0, 'height': 1, 'wid...</td>\n",
       "      <td>m</td>\n",
       "      <td>18</td>\n",
       "      <td>0000000000000000101100001010000011100000011000...</td>\n",
       "      <td>talls_111_125</td>\n",
       "      <td>tall_111</td>\n",
       "      <td>...</td>\n",
       "      <td>NaN</td>\n",
       "      <td>776.4</td>\n",
       "      <td>old</td>\n",
       "      <td>new</td>\n",
       "      <td>0.0</td>\n",
       "      <td>1.0</td>\n",
       "      <td>[{'x': 0, 'y': 0, 'height': 1, 'width': 2}, {'...</td>\n",
       "      <td>[[1, 0, 1, 1], [1, 0, 1, 0], [1, 1, 1, 0], [0,...</td>\n",
       "      <td>False</td>\n",
       "      <td>0</td>\n",
       "    </tr>\n",
       "    <tr>\n",
       "      <th>3</th>\n",
       "      <td>637e7f77c178f27685c4f828</td>\n",
       "      <td>1.669235e+12</td>\n",
       "      <td>1.669235e+12</td>\n",
       "      <td>foil</td>\n",
       "      <td>{'blocks': [{'x': 0, 'y': 0, 'height': 1, 'wid...</td>\n",
       "      <td>z</td>\n",
       "      <td>24</td>\n",
       "      <td>0000000000000000101100001010000011100000011000...</td>\n",
       "      <td>talls_111_125</td>\n",
       "      <td>tall_111</td>\n",
       "      <td>...</td>\n",
       "      <td>NaN</td>\n",
       "      <td>1480.4</td>\n",
       "      <td>new</td>\n",
       "      <td>new</td>\n",
       "      <td>1.0</td>\n",
       "      <td>1.0</td>\n",
       "      <td>[{'x': 0, 'y': 0, 'height': 1, 'width': 2}, {'...</td>\n",
       "      <td>[[1, 0, 1, 1], [1, 0, 1, 0], [1, 1, 1, 0], [0,...</td>\n",
       "      <td>True</td>\n",
       "      <td>0</td>\n",
       "    </tr>\n",
       "    <tr>\n",
       "      <th>4</th>\n",
       "      <td>637e809ec178f27685c4f85e</td>\n",
       "      <td>1.669235e+12</td>\n",
       "      <td>1.669235e+12</td>\n",
       "      <td>foil</td>\n",
       "      <td>{'blocks': [{'x': 0, 'y': 0, 'height': 1, 'wid...</td>\n",
       "      <td>z</td>\n",
       "      <td>14</td>\n",
       "      <td>0000000000000000101100001010000011100000011000...</td>\n",
       "      <td>talls_111_125</td>\n",
       "      <td>tall_111</td>\n",
       "      <td>...</td>\n",
       "      <td>NaN</td>\n",
       "      <td>2456.0</td>\n",
       "      <td>new</td>\n",
       "      <td>old</td>\n",
       "      <td>0.0</td>\n",
       "      <td>1.0</td>\n",
       "      <td>[{'x': 0, 'y': 0, 'height': 1, 'width': 2}, {'...</td>\n",
       "      <td>[[1, 0, 1, 1], [1, 0, 1, 0], [1, 1, 1, 0], [0,...</td>\n",
       "      <td>False</td>\n",
       "      <td>1</td>\n",
       "    </tr>\n",
       "    <tr>\n",
       "      <th>...</th>\n",
       "      <td>...</td>\n",
       "      <td>...</td>\n",
       "      <td>...</td>\n",
       "      <td>...</td>\n",
       "      <td>...</td>\n",
       "      <td>...</td>\n",
       "      <td>...</td>\n",
       "      <td>...</td>\n",
       "      <td>...</td>\n",
       "      <td>...</td>\n",
       "      <td>...</td>\n",
       "      <td>...</td>\n",
       "      <td>...</td>\n",
       "      <td>...</td>\n",
       "      <td>...</td>\n",
       "      <td>...</td>\n",
       "      <td>...</td>\n",
       "      <td>...</td>\n",
       "      <td>...</td>\n",
       "      <td>...</td>\n",
       "      <td>...</td>\n",
       "    </tr>\n",
       "    <tr>\n",
       "      <th>1195</th>\n",
       "      <td>637ea3aec178f27685c50d7a</td>\n",
       "      <td>1.669244e+12</td>\n",
       "      <td>1.669244e+12</td>\n",
       "      <td>view</td>\n",
       "      <td>{'blocks': [{'x': 0, 'y': 0, 'height': 2, 'wid...</td>\n",
       "      <td>m</td>\n",
       "      <td>29</td>\n",
       "      <td>0000000000000000111100001010000010100000111000...</td>\n",
       "      <td>talls_127_125</td>\n",
       "      <td>tall_127</td>\n",
       "      <td>...</td>\n",
       "      <td>NaN</td>\n",
       "      <td>1766.5</td>\n",
       "      <td>old</td>\n",
       "      <td>old</td>\n",
       "      <td>1.0</td>\n",
       "      <td>1.0</td>\n",
       "      <td>[{'x': 0, 'y': 0, 'height': 2, 'width': 1}, {'...</td>\n",
       "      <td>[[1, 1, 1, 1], [1, 0, 1, 0], [1, 0, 1, 0], [1,...</td>\n",
       "      <td>True</td>\n",
       "      <td>1</td>\n",
       "    </tr>\n",
       "    <tr>\n",
       "      <th>1196</th>\n",
       "      <td>637ea43fc178f27685c50dd6</td>\n",
       "      <td>1.669244e+12</td>\n",
       "      <td>1.669244e+12</td>\n",
       "      <td>build</td>\n",
       "      <td>{'blocks': [{'x': 0, 'y': 0, 'height': 2, 'wid...</td>\n",
       "      <td>m</td>\n",
       "      <td>31</td>\n",
       "      <td>0000000000000000111100001010000010100000111000...</td>\n",
       "      <td>talls_127_125</td>\n",
       "      <td>tall_127</td>\n",
       "      <td>...</td>\n",
       "      <td>NaN</td>\n",
       "      <td>10420.4</td>\n",
       "      <td>old</td>\n",
       "      <td>new</td>\n",
       "      <td>0.0</td>\n",
       "      <td>1.0</td>\n",
       "      <td>[{'x': 0, 'y': 0, 'height': 2, 'width': 1}, {'...</td>\n",
       "      <td>[[1, 1, 1, 1], [1, 0, 1, 0], [1, 0, 1, 0], [1,...</td>\n",
       "      <td>False</td>\n",
       "      <td>0</td>\n",
       "    </tr>\n",
       "    <tr>\n",
       "      <th>1197</th>\n",
       "      <td>637ea469c178f27685c50dec</td>\n",
       "      <td>1.669244e+12</td>\n",
       "      <td>1.669244e+12</td>\n",
       "      <td>foil</td>\n",
       "      <td>{'blocks': [{'x': 0, 'y': 0, 'height': 2, 'wid...</td>\n",
       "      <td>m</td>\n",
       "      <td>16</td>\n",
       "      <td>0000000000000000111100001010000010100000111000...</td>\n",
       "      <td>talls_127_125</td>\n",
       "      <td>tall_127</td>\n",
       "      <td>...</td>\n",
       "      <td>NaN</td>\n",
       "      <td>3946.0</td>\n",
       "      <td>new</td>\n",
       "      <td>new</td>\n",
       "      <td>1.0</td>\n",
       "      <td>1.0</td>\n",
       "      <td>[{'x': 0, 'y': 0, 'height': 2, 'width': 1}, {'...</td>\n",
       "      <td>[[1, 1, 1, 1], [1, 0, 1, 0], [1, 0, 1, 0], [1,...</td>\n",
       "      <td>True</td>\n",
       "      <td>0</td>\n",
       "    </tr>\n",
       "    <tr>\n",
       "      <th>1198</th>\n",
       "      <td>637ea46dc178f27685c50dee</td>\n",
       "      <td>1.669244e+12</td>\n",
       "      <td>1.669244e+12</td>\n",
       "      <td>foil</td>\n",
       "      <td>{'blocks': [{'x': 0, 'y': 0, 'height': 2, 'wid...</td>\n",
       "      <td>m</td>\n",
       "      <td>27</td>\n",
       "      <td>0000000000000000111100001010000010100000111000...</td>\n",
       "      <td>talls_127_125</td>\n",
       "      <td>tall_127</td>\n",
       "      <td>...</td>\n",
       "      <td>NaN</td>\n",
       "      <td>1245.6</td>\n",
       "      <td>new</td>\n",
       "      <td>old</td>\n",
       "      <td>0.0</td>\n",
       "      <td>1.0</td>\n",
       "      <td>[{'x': 0, 'y': 0, 'height': 2, 'width': 1}, {'...</td>\n",
       "      <td>[[1, 1, 1, 1], [1, 0, 1, 0], [1, 0, 1, 0], [1,...</td>\n",
       "      <td>False</td>\n",
       "      <td>1</td>\n",
       "    </tr>\n",
       "    <tr>\n",
       "      <th>1199</th>\n",
       "      <td>637ea962c178f27685c50e99</td>\n",
       "      <td>1.669245e+12</td>\n",
       "      <td>1.669245e+12</td>\n",
       "      <td>foil</td>\n",
       "      <td>{'blocks': [{'x': 0, 'y': 0, 'height': 2, 'wid...</td>\n",
       "      <td>z</td>\n",
       "      <td>20</td>\n",
       "      <td>0000000000000000111100001010000010100000111000...</td>\n",
       "      <td>talls_127_125</td>\n",
       "      <td>tall_127</td>\n",
       "      <td>...</td>\n",
       "      <td>NaN</td>\n",
       "      <td>2918.6</td>\n",
       "      <td>new</td>\n",
       "      <td>new</td>\n",
       "      <td>1.0</td>\n",
       "      <td>1.0</td>\n",
       "      <td>[{'x': 0, 'y': 0, 'height': 2, 'width': 1}, {'...</td>\n",
       "      <td>[[1, 1, 1, 1], [1, 0, 1, 0], [1, 0, 1, 0], [1,...</td>\n",
       "      <td>True</td>\n",
       "      <td>0</td>\n",
       "    </tr>\n",
       "  </tbody>\n",
       "</table>\n",
       "<p>1200 rows × 44 columns</p>\n",
       "</div>"
      ],
      "text/plain": [
       "                           _id  trial_start_time  trial_finish_time condition  \\\n",
       "0     637e7c93c178f27685c4f6b0      1.669234e+12       1.669234e+12      foil   \n",
       "1     637e7dacc178f27685c4f767      1.669234e+12       1.669234e+12      view   \n",
       "2     637e7f0fc178f27685c4f7f1      1.669234e+12       1.669234e+12     build   \n",
       "3     637e7f77c178f27685c4f828      1.669235e+12       1.669235e+12      foil   \n",
       "4     637e809ec178f27685c4f85e      1.669235e+12       1.669235e+12      foil   \n",
       "...                        ...               ...                ...       ...   \n",
       "1195  637ea3aec178f27685c50d7a      1.669244e+12       1.669244e+12      view   \n",
       "1196  637ea43fc178f27685c50dd6      1.669244e+12       1.669244e+12     build   \n",
       "1197  637ea469c178f27685c50dec      1.669244e+12       1.669244e+12      foil   \n",
       "1198  637ea46dc178f27685c50dee      1.669244e+12       1.669244e+12      foil   \n",
       "1199  637ea962c178f27685c50e99      1.669245e+12       1.669245e+12      foil   \n",
       "\n",
       "                                               stimulus response  trial_num  \\\n",
       "0     {'blocks': [{'x': 0, 'y': 0, 'height': 1, 'wid...        z         13   \n",
       "1     {'blocks': [{'x': 0, 'y': 0, 'height': 1, 'wid...        m         18   \n",
       "2     {'blocks': [{'x': 0, 'y': 0, 'height': 1, 'wid...        m         18   \n",
       "3     {'blocks': [{'x': 0, 'y': 0, 'height': 1, 'wid...        z         24   \n",
       "4     {'blocks': [{'x': 0, 'y': 0, 'height': 1, 'wid...        z         14   \n",
       "...                                                 ...      ...        ...   \n",
       "1195  {'blocks': [{'x': 0, 'y': 0, 'height': 2, 'wid...        m         29   \n",
       "1196  {'blocks': [{'x': 0, 'y': 0, 'height': 2, 'wid...        m         31   \n",
       "1197  {'blocks': [{'x': 0, 'y': 0, 'height': 2, 'wid...        m         16   \n",
       "1198  {'blocks': [{'x': 0, 'y': 0, 'height': 2, 'wid...        m         27   \n",
       "1199  {'blocks': [{'x': 0, 'y': 0, 'height': 2, 'wid...        z         20   \n",
       "\n",
       "                                              block_str       tower_id  \\\n",
       "0     0000000000000000101100001010000011100000011000...  talls_111_125   \n",
       "1     0000000000000000101100001010000011100000011000...  talls_111_125   \n",
       "2     0000000000000000101100001010000011100000011000...  talls_111_125   \n",
       "3     0000000000000000101100001010000011100000011000...  talls_111_125   \n",
       "4     0000000000000000101100001010000011100000011000...  talls_111_125   \n",
       "...                                                 ...            ...   \n",
       "1195  0000000000000000111100001010000010100000111000...  talls_127_125   \n",
       "1196  0000000000000000111100001010000010100000111000...  talls_127_125   \n",
       "1197  0000000000000000111100001010000010100000111000...  talls_127_125   \n",
       "1198  0000000000000000111100001010000010100000111000...  talls_127_125   \n",
       "1199  0000000000000000111100001010000010100000111000...  talls_127_125   \n",
       "\n",
       "     tower_A_tall_id  ... n_resets       rt novelty response_meaning  \\\n",
       "0           tall_111  ...      NaN   6253.0     new              new   \n",
       "1           tall_111  ...      NaN   2948.7     old              old   \n",
       "2           tall_111  ...      NaN    776.4     old              new   \n",
       "3           tall_111  ...      NaN   1480.4     new              new   \n",
       "4           tall_111  ...      NaN   2456.0     new              old   \n",
       "...              ...  ...      ...      ...     ...              ...   \n",
       "1195        tall_127  ...      NaN   1766.5     old              old   \n",
       "1196        tall_127  ...      NaN  10420.4     old              new   \n",
       "1197        tall_127  ...      NaN   3946.0     new              new   \n",
       "1198        tall_127  ...      NaN   1245.6     new              old   \n",
       "1199        tall_127  ...      NaN   2918.6     new              new   \n",
       "\n",
       "     response_correct key_presses  \\\n",
       "0                 1.0         1.0   \n",
       "1                 1.0         1.0   \n",
       "2                 0.0         1.0   \n",
       "3                 1.0         1.0   \n",
       "4                 0.0         1.0   \n",
       "...               ...         ...   \n",
       "1195              1.0         1.0   \n",
       "1196              0.0         1.0   \n",
       "1197              1.0         1.0   \n",
       "1198              0.0         1.0   \n",
       "1199              1.0         1.0   \n",
       "\n",
       "                                              stim_wide  \\\n",
       "0     [{'x': 0, 'y': 0, 'height': 1, 'width': 2}, {'...   \n",
       "1     [{'x': 0, 'y': 0, 'height': 1, 'width': 2}, {'...   \n",
       "2     [{'x': 0, 'y': 0, 'height': 1, 'width': 2}, {'...   \n",
       "3     [{'x': 0, 'y': 0, 'height': 1, 'width': 2}, {'...   \n",
       "4     [{'x': 0, 'y': 0, 'height': 1, 'width': 2}, {'...   \n",
       "...                                                 ...   \n",
       "1195  [{'x': 0, 'y': 0, 'height': 2, 'width': 1}, {'...   \n",
       "1196  [{'x': 0, 'y': 0, 'height': 2, 'width': 1}, {'...   \n",
       "1197  [{'x': 0, 'y': 0, 'height': 2, 'width': 1}, {'...   \n",
       "1198  [{'x': 0, 'y': 0, 'height': 2, 'width': 1}, {'...   \n",
       "1199  [{'x': 0, 'y': 0, 'height': 2, 'width': 1}, {'...   \n",
       "\n",
       "                                             square_map  \\\n",
       "0     [[1, 0, 1, 1], [1, 0, 1, 0], [1, 1, 1, 0], [0,...   \n",
       "1     [[1, 0, 1, 1], [1, 0, 1, 0], [1, 1, 1, 0], [0,...   \n",
       "2     [[1, 0, 1, 1], [1, 0, 1, 0], [1, 1, 1, 0], [0,...   \n",
       "3     [[1, 0, 1, 1], [1, 0, 1, 0], [1, 1, 1, 0], [0,...   \n",
       "4     [[1, 0, 1, 1], [1, 0, 1, 0], [1, 1, 1, 0], [0,...   \n",
       "...                                                 ...   \n",
       "1195  [[1, 1, 1, 1], [1, 0, 1, 0], [1, 0, 1, 0], [1,...   \n",
       "1196  [[1, 1, 1, 1], [1, 0, 1, 0], [1, 0, 1, 0], [1,...   \n",
       "1197  [[1, 1, 1, 1], [1, 0, 1, 0], [1, 0, 1, 0], [1,...   \n",
       "1198  [[1, 1, 1, 1], [1, 0, 1, 0], [1, 0, 1, 0], [1,...   \n",
       "1199  [[1, 1, 1, 1], [1, 0, 1, 0], [1, 0, 1, 0], [1,...   \n",
       "\n",
       "     response_correct_recalc responded_old  \n",
       "0                       True             0  \n",
       "1                       True             1  \n",
       "2                      False             0  \n",
       "3                       True             0  \n",
       "4                      False             1  \n",
       "...                      ...           ...  \n",
       "1195                    True             1  \n",
       "1196                   False             0  \n",
       "1197                    True             0  \n",
       "1198                   False             1  \n",
       "1199                    True             0  \n",
       "\n",
       "[1200 rows x 44 columns]"
      ]
     },
     "execution_count": 59,
     "metadata": {},
     "output_type": "execute_result"
    }
   ],
   "source": [
    "df_recog"
   ]
  },
  {
   "cell_type": "code",
   "execution_count": 79,
   "id": "85d7c71b",
   "metadata": {},
   "outputs": [
    {
     "data": {
      "image/png": "[encoded data removed]",
      "text/plain": [
       "<Figure size 400x600 with 1 Axes>"
      ]
     },
     "metadata": {},
     "output_type": "display_data"
    }
   ],
   "source": [
    "fig, ax = plt.subplots(figsize=(4,6))\n",
    "\n",
    "# sem_foil = df_recog[df_recog[\"condition\"] == \"foil\"][\"response_correct\"].sem()\n",
    "# sem_build = df_recog[df_recog[\"condition\"] == \"build\"][\"response_correct\"].sem()\n",
    "# sem_view = df_recog[df_recog[\"condition\"] == \"view\"][\"response_correct\"].sem()\n",
    "# sem = [sem_foil, sem_build, sem_view]\n",
    "\n",
    "ci_foil  =  calculate_ci(df_recog[df_recog[\"condition\"] == \"foil\"][\"response_correct\"])\n",
    "ci_build =  calculate_ci(df_recog[df_recog[\"condition\"] == \"build\"][\"response_correct\"])\n",
    "ci_view  =  calculate_ci(df_recog[df_recog[\"condition\"] == \"view\"][\"response_correct\"])\n",
    "ci = [ci_foil, ci_build, ci_view]\n",
    "\n",
    "sns.barplot(data = df_recog, \n",
    "            y = \"response_correct\", \n",
    "            x = \"condition\",\n",
    "            order = ['foil','build','view'],\n",
    "            errorbar=None,\n",
    "            yerr = ci,\n",
    "            palette=palette)\n",
    "\n",
    "plt.legend([],[], frameon=False)\n",
    "\n",
    "\n",
    "plt.ylim((0,1))\n",
    "plt.axhline(0.5, color = 'gray', linestyle = '--',)\n",
    "plt.ylabel('recognition accuracy')\n",
    "plt.xlabel('')\n",
    "\n",
    "for spine in fig.gca().spines.values():\n",
    "    spine.set_zorder(1)\n",
    "    spine.set_color('black')\n",
    "plt.savefig('../results/build_components/plots/vis_rec_condition_accuracy.pdf', bbox_inches='tight')\n",
    "plt.show()\n",
    "# save the plot with the cut-off region included\n"
   ]
  },
  {
   "cell_type": "code",
   "execution_count": 51,
   "id": "42a3e34e",
   "metadata": {
    "scrolled": false
   },
   "outputs": [
    {
     "data": {
      "image/png": "[encoded data removed]",
      "text/plain": [
       "<Figure size 400x600 with 1 Axes>"
      ]
     },
     "metadata": {},
     "output_type": "display_data"
    }
   ],
   "source": [
    "fig = plt.figure()\n",
    "sns.barplot(data = df_recog, \n",
    "            y = \"responded_old\", \n",
    "            order = ['foil','build','view'],\n",
    "            x = \"condition\",\n",
    "            palette=palette)\n",
    "plt.ylim((0,1))\n",
    "plt.axhline(0.5, color = 'gray', linestyle = '--',)\n",
    "\n",
    "for spine in fig.gca().spines.values():\n",
    "    spine.set_zorder(1)\n",
    "    spine.set_color('black')\n",
    "    \n",
    "plt.show()"
   ]
  },
  {
   "cell_type": "code",
   "execution_count": 33,
   "id": "f08ee969",
   "metadata": {},
   "outputs": [
    {
     "data": {
      "text/plain": [
       "<AxesSubplot:xlabel='gameID', ylabel='response_correct'>"
      ]
     },
     "execution_count": 33,
     "metadata": {},
     "output_type": "execute_result"
    },
    {
     "data": {
      "image/png": "[encoded data removed]",
      "text/plain": [
       "<Figure size 2000x600 with 1 Axes>"
      ]
     },
     "metadata": {},
     "output_type": "display_data"
    }
   ],
   "source": [
    "fig = plt.figure(figsize=(20,6))\n",
    "\n",
    "sns.barplot(data = df_recog, \n",
    "            y = \"response_correct\", \n",
    "            x = \"gameID\",\n",
    "            hue = \"condition\",\n",
    "            palette=palette)"
   ]
  },
  {
   "cell_type": "code",
   "execution_count": 37,
   "id": "f757560e",
   "metadata": {},
   "outputs": [
    {
     "data": {
      "text/plain": [
       "<matplotlib.legend.Legend at 0x7fa6e1fecd90>"
      ]
     },
     "execution_count": 37,
     "metadata": {},
     "output_type": "execute_result"
    },
    {
     "data": {
      "image/png": "[encoded data removed]",
      "text/plain": [
       "<Figure size 1000x1000 with 1 Axes>"
      ]
     },
     "metadata": {},
     "output_type": "display_data"
    }
   ],
   "source": [
    "fig = plt.figure(figsize=(10,10))\n",
    "\n",
    "sns.pointplot(data = df_recog, \n",
    "            y = \"response_correct_recalc\", \n",
    "            x = \"condition\",\n",
    "            hue=\"gameID\")\n",
    "# plt.legend(bbox_to_anchor=(1,1))\n",
    "plt.legend([],[], frameon=False)\n"
   ]
  },
  {
   "cell_type": "code",
   "execution_count": 35,
   "id": "c454166c",
   "metadata": {},
   "outputs": [],
   "source": [
    "# visualize all responses\n",
    "# df_recog.groupby('gameID').response.apply(lambda g : ''.join([x for x in g]))"
   ]
  },
  {
   "cell_type": "markdown",
   "id": "f761b7e4",
   "metadata": {},
   "source": [
    "### Condition difference in d'"
   ]
  },
  {
   "cell_type": "markdown",
   "id": "44fa0fc6",
   "metadata": {},
   "source": [
    "hit rate H: proportion of YES trials to which subject responded YES =  P(\"yes\" | YES)\n",
    "false alarm rate F: proportion of NO trials to which subject responded YES  = P(\"yes\" | NO)\n",
    "d' = z(H) - z(F)\n",
    "\n",
    "\n",
    "comparing d' for build and view conditions.\n",
    "In each of these we can look at the hit rate.\n",
    "But the false alarm rate isn't tied to the hit rate (i.e. false alarms don't have a condition).\\\n",
    "\n",
    "\n",
    "For each participant, for each condition:\n",
    "- Hit: number of old trials to which ppt responded *old*\n",
    "- Miss: number of old trials to which ppt responded *new*\n",
    "- False alarm: number of new trials to which ppt responded *old*\n",
    "- Correct rejection: number of new trials to which ppt responded *new*"
   ]
  },
  {
   "cell_type": "code",
   "execution_count": 38,
   "id": "0b81a0e7",
   "metadata": {},
   "outputs": [],
   "source": [
    "def detection_measures(df_group):\n",
    "    olds = df_group[df_group.novelty == 'old']\n",
    "    news = df_group[df_group.novelty == 'new']\n",
    "    \n",
    "    # raw counts\n",
    "    n_hit = len(olds[olds['response_meaning'] == 'old'])\n",
    "    n_miss = len(olds[olds['response_meaning'] == 'new'])\n",
    "    n_false_alarm = len(news[news['response_meaning'] == 'old'])\n",
    "    n_correct_reject = len(news[news['response_meaning'] == 'new'])\n",
    "    \n",
    "    return pd.Series({'n_hit': n_hit,\n",
    "            'n_miss' : n_miss,\n",
    "            'n_false_alarm' : n_false_alarm,\n",
    "            'n_correct_reject' : n_correct_reject,\n",
    "            'n_old_trials' : len(olds),\n",
    "            'n_new_trials': len(news)\n",
    "           })"
   ]
  },
  {
   "cell_type": "code",
   "execution_count": 39,
   "id": "2b6059e4",
   "metadata": {},
   "outputs": [],
   "source": [
    "view_measures = df_recog[df_recog.condition.isin(['view','foil'])].groupby(['gameID']).apply(detection_measures)\n",
    "build_measures = df_recog[df_recog.condition.isin(['build','foil'])].groupby(['gameID']).apply(detection_measures)\n",
    "\n",
    "view_measures['condition'] = 'view'\n",
    "build_measures['condition'] = 'build'\n",
    "\n",
    "view_measures = view_measures.reset_index()\n",
    "build_measures = build_measures.reset_index()"
   ]
  },
  {
   "cell_type": "code",
   "execution_count": 40,
   "id": "02e6a568",
   "metadata": {},
   "outputs": [
    {
     "name": "stderr",
     "output_type": "stream",
     "text": [
      "/var/folders/4y/_czpmr7d3gb8b80x7wh36g1c0000gn/T/ipykernel_96756/3205101272.py:1: FutureWarning: The frame.append method is deprecated and will be removed from pandas in a future version. Use pandas.concat instead.\n",
      "  condition_measures = view_measures.append(build_measures, ignore_index=True)\n"
     ]
    }
   ],
   "source": [
    "condition_measures = view_measures.append(build_measures, ignore_index=True)"
   ]
  },
  {
   "cell_type": "code",
   "execution_count": 41,
   "id": "5da732d4",
   "metadata": {},
   "outputs": [
    {
     "data": {
      "text/html": [
       "<div>\n",
       "<style scoped>\n",
       "    .dataframe tbody tr th:only-of-type {\n",
       "        vertical-align: middle;\n",
       "    }\n",
       "\n",
       "    .dataframe tbody tr th {\n",
       "        vertical-align: top;\n",
       "    }\n",
       "\n",
       "    .dataframe thead th {\n",
       "        text-align: right;\n",
       "    }\n",
       "</style>\n",
       "<table border=\"1\" class=\"dataframe\">\n",
       "  <thead>\n",
       "    <tr style=\"text-align: right;\">\n",
       "      <th></th>\n",
       "      <th>gameID</th>\n",
       "      <th>n_hit</th>\n",
       "      <th>n_miss</th>\n",
       "      <th>n_false_alarm</th>\n",
       "      <th>n_correct_reject</th>\n",
       "      <th>n_old_trials</th>\n",
       "      <th>n_new_trials</th>\n",
       "      <th>condition</th>\n",
       "    </tr>\n",
       "  </thead>\n",
       "  <tbody>\n",
       "    <tr>\n",
       "      <th>0</th>\n",
       "      <td>0055-d0778fd4-bbbb-4844-83f2-e7205ae10151</td>\n",
       "      <td>4</td>\n",
       "      <td>2</td>\n",
       "      <td>4</td>\n",
       "      <td>8</td>\n",
       "      <td>6</td>\n",
       "      <td>12</td>\n",
       "      <td>view</td>\n",
       "    </tr>\n",
       "    <tr>\n",
       "      <th>1</th>\n",
       "      <td>0090-2fd40afa-1888-4d40-872f-684039d135c5</td>\n",
       "      <td>5</td>\n",
       "      <td>1</td>\n",
       "      <td>2</td>\n",
       "      <td>10</td>\n",
       "      <td>6</td>\n",
       "      <td>12</td>\n",
       "      <td>view</td>\n",
       "    </tr>\n",
       "    <tr>\n",
       "      <th>2</th>\n",
       "      <td>0653-f5a64817-a7eb-4b21-8cb9-2de1a2c80902</td>\n",
       "      <td>0</td>\n",
       "      <td>6</td>\n",
       "      <td>9</td>\n",
       "      <td>3</td>\n",
       "      <td>6</td>\n",
       "      <td>12</td>\n",
       "      <td>view</td>\n",
       "    </tr>\n",
       "    <tr>\n",
       "      <th>3</th>\n",
       "      <td>0687-78f0cb7d-7793-4ea1-9e38-12b1cfb7c632</td>\n",
       "      <td>5</td>\n",
       "      <td>1</td>\n",
       "      <td>1</td>\n",
       "      <td>11</td>\n",
       "      <td>6</td>\n",
       "      <td>12</td>\n",
       "      <td>view</td>\n",
       "    </tr>\n",
       "    <tr>\n",
       "      <th>4</th>\n",
       "      <td>0717-d8a3d2c4-639d-4895-8579-f98799c4a7f0</td>\n",
       "      <td>5</td>\n",
       "      <td>1</td>\n",
       "      <td>2</td>\n",
       "      <td>10</td>\n",
       "      <td>6</td>\n",
       "      <td>12</td>\n",
       "      <td>view</td>\n",
       "    </tr>\n",
       "    <tr>\n",
       "      <th>...</th>\n",
       "      <td>...</td>\n",
       "      <td>...</td>\n",
       "      <td>...</td>\n",
       "      <td>...</td>\n",
       "      <td>...</td>\n",
       "      <td>...</td>\n",
       "      <td>...</td>\n",
       "      <td>...</td>\n",
       "    </tr>\n",
       "    <tr>\n",
       "      <th>95</th>\n",
       "      <td>9012-5712f831-675d-4ffb-901b-3d7b6a3fc8e4</td>\n",
       "      <td>3</td>\n",
       "      <td>3</td>\n",
       "      <td>5</td>\n",
       "      <td>7</td>\n",
       "      <td>6</td>\n",
       "      <td>12</td>\n",
       "      <td>build</td>\n",
       "    </tr>\n",
       "    <tr>\n",
       "      <th>96</th>\n",
       "      <td>9322-e0e5a478-a32d-4cdd-95bf-cf266b74c134</td>\n",
       "      <td>3</td>\n",
       "      <td>3</td>\n",
       "      <td>4</td>\n",
       "      <td>8</td>\n",
       "      <td>6</td>\n",
       "      <td>12</td>\n",
       "      <td>build</td>\n",
       "    </tr>\n",
       "    <tr>\n",
       "      <th>97</th>\n",
       "      <td>9863-8d2f7634-ea6e-4abe-95d6-ae0ef5fa02b6</td>\n",
       "      <td>4</td>\n",
       "      <td>2</td>\n",
       "      <td>4</td>\n",
       "      <td>8</td>\n",
       "      <td>6</td>\n",
       "      <td>12</td>\n",
       "      <td>build</td>\n",
       "    </tr>\n",
       "    <tr>\n",
       "      <th>98</th>\n",
       "      <td>9963-2ff0d52d-fd46-40cf-8472-587ba3ff6a77</td>\n",
       "      <td>4</td>\n",
       "      <td>2</td>\n",
       "      <td>3</td>\n",
       "      <td>9</td>\n",
       "      <td>6</td>\n",
       "      <td>12</td>\n",
       "      <td>build</td>\n",
       "    </tr>\n",
       "    <tr>\n",
       "      <th>99</th>\n",
       "      <td>9967-0409bbad-ac1c-46a8-8b0b-9f9a0deff968</td>\n",
       "      <td>4</td>\n",
       "      <td>2</td>\n",
       "      <td>0</td>\n",
       "      <td>12</td>\n",
       "      <td>6</td>\n",
       "      <td>12</td>\n",
       "      <td>build</td>\n",
       "    </tr>\n",
       "  </tbody>\n",
       "</table>\n",
       "<p>100 rows × 8 columns</p>\n",
       "</div>"
      ],
      "text/plain": [
       "                                       gameID  n_hit  n_miss  n_false_alarm  \\\n",
       "0   0055-d0778fd4-bbbb-4844-83f2-e7205ae10151      4       2              4   \n",
       "1   0090-2fd40afa-1888-4d40-872f-684039d135c5      5       1              2   \n",
       "2   0653-f5a64817-a7eb-4b21-8cb9-2de1a2c80902      0       6              9   \n",
       "3   0687-78f0cb7d-7793-4ea1-9e38-12b1cfb7c632      5       1              1   \n",
       "4   0717-d8a3d2c4-639d-4895-8579-f98799c4a7f0      5       1              2   \n",
       "..                                        ...    ...     ...            ...   \n",
       "95  9012-5712f831-675d-4ffb-901b-3d7b6a3fc8e4      3       3              5   \n",
       "96  9322-e0e5a478-a32d-4cdd-95bf-cf266b74c134      3       3              4   \n",
       "97  9863-8d2f7634-ea6e-4abe-95d6-ae0ef5fa02b6      4       2              4   \n",
       "98  9963-2ff0d52d-fd46-40cf-8472-587ba3ff6a77      4       2              3   \n",
       "99  9967-0409bbad-ac1c-46a8-8b0b-9f9a0deff968      4       2              0   \n",
       "\n",
       "    n_correct_reject  n_old_trials  n_new_trials condition  \n",
       "0                  8             6            12      view  \n",
       "1                 10             6            12      view  \n",
       "2                  3             6            12      view  \n",
       "3                 11             6            12      view  \n",
       "4                 10             6            12      view  \n",
       "..               ...           ...           ...       ...  \n",
       "95                 7             6            12     build  \n",
       "96                 8             6            12     build  \n",
       "97                 8             6            12     build  \n",
       "98                 9             6            12     build  \n",
       "99                12             6            12     build  \n",
       "\n",
       "[100 rows x 8 columns]"
      ]
     },
     "execution_count": 41,
     "metadata": {},
     "output_type": "execute_result"
    }
   ],
   "source": [
    "condition_measures"
   ]
  },
  {
   "cell_type": "code",
   "execution_count": 42,
   "id": "43222f55",
   "metadata": {},
   "outputs": [],
   "source": [
    "from scipy.stats import norm\n",
    "\n",
    "Z = norm.ppf"
   ]
  },
  {
   "cell_type": "code",
   "execution_count": 43,
   "id": "284f491d",
   "metadata": {},
   "outputs": [],
   "source": [
    "def old_new_d_prime(df):\n",
    "    '''\n",
    "    Old trials are 'yes' trials. As in 'yes I remember this'.\n",
    "\n",
    "    For this design, F will be the same for both conditions (build and view).\n",
    "    '''\n",
    "    H = df['n_hit'] / df['n_old_trials']\n",
    "    \n",
    "    # replace HIT rates to avoid inf d-prime\n",
    "    if H == 1: \n",
    "        H = 0.9999\n",
    "    if H == 0:\n",
    "        H = 0.0001\n",
    "    \n",
    "    \n",
    "    F = df['n_false_alarm'] / df['n_new_trials'] \n",
    "    \n",
    "    # replace FA rates to avoid inf d-prime\n",
    "    if F == 1: \n",
    "        F = 0.9999\n",
    "    if F == 0: \n",
    "        F = 0.0001\n",
    "    \n",
    "    d_prime = Z(H) - Z(F)\n",
    "    \n",
    "    return d_prime"
   ]
  },
  {
   "cell_type": "code",
   "execution_count": 44,
   "id": "798734cc",
   "metadata": {},
   "outputs": [],
   "source": [
    "condition_measures['d_prime'] = condition_measures.apply(lambda row: old_new_d_prime(row), axis=1)"
   ]
  },
  {
   "cell_type": "code",
   "execution_count": 80,
   "id": "1e4b77d4",
   "metadata": {},
   "outputs": [
    {
     "data": {
      "image/png": "[encoded data removed]",
      "text/plain": [
       "<Figure size 266.667x600 with 1 Axes>"
      ]
     },
     "metadata": {},
     "output_type": "display_data"
    }
   ],
   "source": [
    "fig = plt.figure(figsize=(4/(3/2),6))\n",
    "\n",
    "# sem_build = condition_measures[condition_measures[\"condition\"] == \"build\"][\"d_prime\"].sem()\n",
    "# sem_view = condition_measures[condition_measures[\"condition\"] == \"view\"][\"d_prime\"].sem()\n",
    "# sem = [sem_build, sem_view]\n",
    "\n",
    "ci_build =  calculate_ci(condition_measures[condition_measures[\"condition\"] == \"build\"][\"d_prime\"])\n",
    "ci_view =  calculate_ci(condition_measures[condition_measures[\"condition\"] == \"view\"][\"d_prime\"])\n",
    "ci = [ci_build, ci_view]\n",
    "\n",
    "sns.barplot(data = condition_measures, \n",
    "            y = \"d_prime\", \n",
    "            x = \"condition\",\n",
    "            order = ['build', 'view'],\n",
    "            errorbar=None,\n",
    "            yerr = ci,\n",
    "            palette=palette)\n",
    "\n",
    "plt.ylabel('d\\'')\n",
    "plt.ylim((0,2.5))\n",
    "plt.xlabel('')\n",
    "\n",
    "\n",
    "# sns.lineplot(data = condition_measures,\n",
    "#              y = \"d_prime\",\n",
    "#              x = \"condition\",\n",
    "#              hue = \"gameID\",\n",
    "#              palette=[\"#222\"],\n",
    "#              alpha=0.5,\n",
    "#              linewidth=1,\n",
    "# #              ax=ax,\n",
    "# #              errorbar=None\n",
    "#             )\n",
    "\n",
    "\n",
    "\n",
    "plt.legend([],[], frameon=False)\n",
    "\n",
    "for spine in fig.gca().spines.values():\n",
    "    spine.set_zorder(1)\n",
    "    spine.set_color('black')\n",
    "\n",
    "fig.savefig('../results/build_components/plots/vis_rec_condition_d_prime.pdf', bbox_inches='tight')"
   ]
  },
  {
   "cell_type": "code",
   "execution_count": 46,
   "id": "a4505f56",
   "metadata": {},
   "outputs": [
    {
     "data": {
      "text/plain": [
       "condition\n",
       "build    0.905926\n",
       "view     1.846695\n",
       "Name: d_prime, dtype: float64"
      ]
     },
     "execution_count": 46,
     "metadata": {},
     "output_type": "execute_result"
    }
   ],
   "source": [
    "condition_measures.groupby('condition')['d_prime'].mean()"
   ]
  },
  {
   "cell_type": "code",
   "execution_count": null,
   "id": "6b171ce2",
   "metadata": {},
   "outputs": [],
   "source": [
    "fig = plt.figure(figsize=(10,10))\n",
    "\n",
    "sns.pointplot(data = condition_measures, \n",
    "            y = \"d_prime\", \n",
    "            x = \"condition\",\n",
    "            hue = \"gameID\")\n",
    "\n",
    "plt.legend([],[], frameon=False)"
   ]
  },
  {
   "cell_type": "markdown",
   "id": "4be02c6e",
   "metadata": {},
   "source": [
    "### Effect of tower"
   ]
  },
  {
   "cell_type": "code",
   "execution_count": null,
   "id": "986b394e",
   "metadata": {},
   "outputs": [],
   "source": [
    "def show_tower(url, ax):\n",
    "    response = requests.get(url)\n",
    "    img = Image.open(BytesIO(response.content))\n",
    "#     plt.figure(figsize=(2,1))\n",
    "    ax.imshow(img)\n",
    "    ax.axis('off')\n",
    "    \n",
    "def show_tower_subplot(tower_id,\n",
    "                      ax,\n",
    "              url_stem = \"https://zipping-composites-monochrome-png-rerender.s3.amazonaws.com/tower_4_block_unique_silhouettes_composites_monochrome_png_rerender_{}.png\"):\n",
    "    \n",
    "    response = requests.get(url_stem.format(tower_id))\n",
    "    img = Image.open(BytesIO(response.content))\n",
    "    ax.imshow(img)\n",
    "    ax.axis('off')\n",
    "    ax.set_title(tower_id)\n",
    "    "
   ]
  },
  {
   "cell_type": "code",
   "execution_count": null,
   "id": "61257c63",
   "metadata": {},
   "outputs": [],
   "source": [
    "tower_ids = list(np.sort(df_recog.tower_id.unique()))"
   ]
  },
  {
   "cell_type": "code",
   "execution_count": null,
   "id": "7303e64a",
   "metadata": {},
   "outputs": [],
   "source": [
    "plt.figure(figsize = (10,10))\n",
    "sns.pointplot(data = df_recog[df_recog.condition != 'foil'],\n",
    "            y = 'response_correct',\n",
    "            x = 'condition',\n",
    "            hue = 'tower_id',\n",
    "            hue_order=tower_ids)\n",
    "# plt.xticks(rotation = 45)\n",
    "plt.legend(bbox_to_anchor = (1,1))\n",
    "\n",
    "plt.title('')"
   ]
  },
  {
   "cell_type": "code",
   "execution_count": null,
   "id": "5be1ba70",
   "metadata": {},
   "outputs": [],
   "source": [
    "plt.figure(figsize = (20,6))\n",
    "sns.barplot(data = df_recog[df_recog.condition != 'foil'],\n",
    "            y = 'response_correct',\n",
    "            x = 'tower_id',\n",
    "#             hue = 'condition',\n",
    "            order=tower_ids)\n",
    "plt.xticks(rotation = 90)\n",
    "plt.legend(bbox_to_anchor = (1,1))"
   ]
  },
  {
   "cell_type": "code",
   "execution_count": null,
   "id": "f357acaa",
   "metadata": {
    "scrolled": false
   },
   "outputs": [],
   "source": [
    "n_row = 3\n",
    "fig, axs = plt.subplots(n_row, int(len(tower_ids)/n_row), figsize=(20,6))\n",
    "\n",
    "for i, tower in enumerate(tower_ids):\n",
    "    show_tower_subplot(tower, axs[int(np.floor(i/(len(tower_ids)/n_row))), i%(int(len(tower_ids)/n_row))])"
   ]
  },
  {
   "cell_type": "markdown",
   "id": "637b4ad9",
   "metadata": {},
   "source": [
    "## Building measures"
   ]
  },
  {
   "cell_type": "markdown",
   "id": "9851b927",
   "metadata": {},
   "source": [
    "#### Build time\n",
    "\n",
    "relative_time: time between start and end of building trial. This includes *all* attempts, i.e. time including resets."
   ]
  },
  {
   "cell_type": "code",
   "execution_count": null,
   "id": "8a575d8a",
   "metadata": {},
   "outputs": [],
   "source": [
    "df_build = df_encode[df_encode.trial_type == 'block-tower-building']"
   ]
  },
  {
   "cell_type": "code",
   "execution_count": null,
   "id": "216842bf",
   "metadata": {},
   "outputs": [],
   "source": [
    "build_times = df_build.groupby('gameID')[['relative_time']].mean().reset_index()"
   ]
  },
  {
   "cell_type": "code",
   "execution_count": null,
   "id": "fe993333",
   "metadata": {},
   "outputs": [],
   "source": [
    "plt.figure(figsize =(10,6))\n",
    "\n",
    "sns.barplot(data = df_build,\n",
    "            x = 'gameID',\n",
    "            y = 'relative_time',\n",
    "            )"
   ]
  },
  {
   "cell_type": "code",
   "execution_count": null,
   "id": "dfb6b861",
   "metadata": {},
   "outputs": [],
   "source": [
    "sns.histplot(build_times,\n",
    "            x = 'relative_time',\n",
    "            log_scale=False,\n",
    "            bins=10)"
   ]
  },
  {
   "cell_type": "code",
   "execution_count": null,
   "id": "5a778bc6",
   "metadata": {},
   "outputs": [],
   "source": [
    "build_times.mean()"
   ]
  },
  {
   "cell_type": "markdown",
   "id": "2af23ae8",
   "metadata": {},
   "source": [
    "Average build time is a lot longer than the 15 seconds people have to view the structure. "
   ]
  },
  {
   "cell_type": "markdown",
   "id": "70843562",
   "metadata": {},
   "source": [
    "### Resets"
   ]
  },
  {
   "cell_type": "code",
   "execution_count": null,
   "id": "b3f60270",
   "metadata": {},
   "outputs": [],
   "source": [
    "reset_means = df_build.groupby('gameID')[['n_resets']].mean().reset_index()"
   ]
  },
  {
   "cell_type": "code",
   "execution_count": null,
   "id": "f3b35b2f",
   "metadata": {},
   "outputs": [],
   "source": [
    "# raw trials\n",
    "sns.histplot(df_build,\n",
    "            x = 'n_resets',\n",
    "            log_scale=False,\n",
    "            bins=10)"
   ]
  },
  {
   "cell_type": "code",
   "execution_count": null,
   "id": "1d5a885d",
   "metadata": {},
   "outputs": [],
   "source": [
    "# mean for ppts\n",
    "sns.histplot(reset_means,\n",
    "            x = 'n_resets',\n",
    "            log_scale=False,\n",
    "            bins=10)"
   ]
  },
  {
   "cell_type": "markdown",
   "id": "a3a4c238",
   "metadata": {},
   "source": [
    "## Time measures\n",
    "\n",
    "These plots seem to suggest that the longer you wait between encoding and recall, the worse your memory of that item."
   ]
  },
  {
   "cell_type": "code",
   "execution_count": null,
   "id": "c6600f85",
   "metadata": {},
   "outputs": [],
   "source": [
    "# this dataframe contains recognition trials only from targets (i.e. non-foils)\n",
    "# it is augmented with additional variables from here onwards\n",
    "df_recog_target = df_recog[df_recog.condition != 'foil']"
   ]
  },
  {
   "cell_type": "markdown",
   "id": "a5ffb699",
   "metadata": {},
   "source": [
    "#### Encoding trial number\n",
    "\n",
    "Were the targets that were viewed/ built later remembered better?\n",
    "Looks like that may be the case.\n",
    "Also looks like a slight primacy bias?"
   ]
  },
  {
   "cell_type": "code",
   "execution_count": null,
   "id": "dd6d526f",
   "metadata": {},
   "outputs": [],
   "source": [
    "df_encode['encode_trial_num'] = df_encode.trial_num"
   ]
  },
  {
   "cell_type": "code",
   "execution_count": null,
   "id": "4834cac1",
   "metadata": {},
   "outputs": [],
   "source": [
    "df_recog_target = df_recog_target.merge(df_encode[df_encode.condition != 'foil']\\\n",
    "                                        [['gameID', 'tower_id','encode_trial_num']], \n",
    "                                        on = ['gameID','tower_id'])"
   ]
  },
  {
   "cell_type": "code",
   "execution_count": null,
   "id": "e1a17ac0",
   "metadata": {
    "scrolled": true
   },
   "outputs": [],
   "source": [
    "sns.lineplot(data = df_recog_target,\n",
    "                x = 'encode_trial_num',\n",
    "                y = 'response_correct')\n",
    "plt.axhline(0.5, color = 'r', linestyle = '--',)"
   ]
  },
  {
   "cell_type": "markdown",
   "id": "6f3f36ea",
   "metadata": {},
   "source": [
    "#### Recog trial number\n",
    "\n",
    "Were the targets that were probed earlier remembered better?"
   ]
  },
  {
   "cell_type": "code",
   "execution_count": null,
   "id": "e76efbe0",
   "metadata": {},
   "outputs": [],
   "source": [
    "df_recog['recog_trial_num'] = df_recog.trial_num - 12\n",
    "df_recog_target['recog_trial_num'] = df_recog_target.trial_num - 12"
   ]
  },
  {
   "cell_type": "code",
   "execution_count": null,
   "id": "8bc4847d",
   "metadata": {
    "scrolled": true
   },
   "outputs": [],
   "source": [
    "sns.lineplot(data = df_recog,\n",
    "                x = 'recog_trial_num',\n",
    "                y = 'response_correct')\n",
    "plt.axhline(0.5, color = 'r', linestyle = '--',)"
   ]
  },
  {
   "cell_type": "markdown",
   "id": "67691793",
   "metadata": {},
   "source": [
    "#### Number of trials between encoding and recognition\n",
    "\n",
    "Were the targets with a smaller gap (number of trials) between encoding and recognition better remembered?\n",
    "\n",
    "Eyeballing this graph it does look like the longer between encoding and recognition trials, the worse the performance."
   ]
  },
  {
   "cell_type": "code",
   "execution_count": null,
   "id": "954761fa",
   "metadata": {},
   "outputs": [],
   "source": [
    "def trial_diff(df, col='trial_num'):\n",
    "    return df[col].max() - df[col].min()"
   ]
  },
  {
   "cell_type": "code",
   "execution_count": null,
   "id": "d4fb3778",
   "metadata": {
    "scrolled": false
   },
   "outputs": [],
   "source": [
    "trial_diffs = df_trial[df_trial.condition != 'foil'].groupby(['gameID','tower_id']).apply(trial_diff).reset_index()"
   ]
  },
  {
   "cell_type": "code",
   "execution_count": null,
   "id": "f8f187a9",
   "metadata": {},
   "outputs": [],
   "source": [
    "trial_diffs = trial_diffs.rename(columns = {0: 'trial_diff'})"
   ]
  },
  {
   "cell_type": "code",
   "execution_count": null,
   "id": "a49bc2b4",
   "metadata": {},
   "outputs": [],
   "source": [
    "df_recog_target = df_recog_target.merge(trial_diffs, on=['gameID','tower_id'])"
   ]
  },
  {
   "cell_type": "code",
   "execution_count": null,
   "id": "8c642f62",
   "metadata": {},
   "outputs": [],
   "source": [
    "sns.lineplot(data = df_recog_target,\n",
    "                x = 'trial_diff',\n",
    "                y = 'response_correct')\n",
    "\n",
    "plt.axhline(0.5, color = 'r', linestyle = '--',)"
   ]
  },
  {
   "cell_type": "markdown",
   "id": "35a328a6",
   "metadata": {},
   "source": [
    "#### Duration between encoding and recognition\n",
    "\n",
    "Were the targets with a smaller gap (absolute time) between encoding and recognition better remembered?"
   ]
  },
  {
   "cell_type": "code",
   "execution_count": null,
   "id": "ef31676c",
   "metadata": {
    "scrolled": false
   },
   "outputs": [],
   "source": [
    "trial_time_diffs = df_trial[df_trial.condition != 'foil']\\\n",
    "    .groupby(['gameID','tower_id']).apply(lambda group: trial_diff(group, col='trial_start_time')).reset_index()"
   ]
  },
  {
   "cell_type": "code",
   "execution_count": null,
   "id": "83c21e85",
   "metadata": {},
   "outputs": [],
   "source": [
    "trial_time_diffs = trial_time_diffs.rename(columns = {0: 'trial_time_diff'})"
   ]
  },
  {
   "cell_type": "code",
   "execution_count": null,
   "id": "82101384",
   "metadata": {},
   "outputs": [],
   "source": [
    "df_recog_target = df_recog_target.merge(trial_time_diffs, on=['gameID','tower_id'])"
   ]
  },
  {
   "cell_type": "code",
   "execution_count": null,
   "id": "a870a222",
   "metadata": {},
   "outputs": [],
   "source": [
    "df_recog_target['trial_time_diff_bin'] = pd.cut(df_recog_target.trial_time_diff, 10)"
   ]
  },
  {
   "cell_type": "code",
   "execution_count": null,
   "id": "f73c5508",
   "metadata": {},
   "outputs": [],
   "source": [
    "plt.figure(figsize=(10,6))\n",
    "\n",
    "sns.barplot(data = df_recog_target,\n",
    "                x = 'trial_time_diff_bin',\n",
    "                y = 'response_correct')\n",
    "\n",
    "plt.axhline(0.5, color = 'r', linestyle = '--',)"
   ]
  },
  {
   "cell_type": "code",
   "execution_count": null,
   "id": "7b023e5b",
   "metadata": {},
   "outputs": [],
   "source": [
    "df_recog_target['trial_log_time_diff_bin'] = pd.cut(np.log(df_recog_target.trial_time_diff), 10)"
   ]
  },
  {
   "cell_type": "code",
   "execution_count": null,
   "id": "81c6fe83",
   "metadata": {},
   "outputs": [],
   "source": [
    "plt.figure(figsize=(10,6))\n",
    "\n",
    "sns.barplot(data = df_recog_target,\n",
    "                x = 'trial_log_time_diff_bin',\n",
    "                y = 'response_correct')\n",
    "\n",
    "plt.axhline(0.5, color = 'r', linestyle = '--',)"
   ]
  },
  {
   "cell_type": "markdown",
   "id": "5d0b05b6",
   "metadata": {},
   "source": [
    "### Check for reasonable distribution of temporal differences between conditions"
   ]
  },
  {
   "cell_type": "code",
   "execution_count": null,
   "id": "46d6e620",
   "metadata": {},
   "outputs": [],
   "source": [
    "df_condition_means = df_recog_target.groupby(['gameID','condition']).mean().reset_index()"
   ]
  },
  {
   "cell_type": "code",
   "execution_count": null,
   "id": "1ed15d85",
   "metadata": {},
   "outputs": [],
   "source": [
    "sns.pointplot(data = df_recog_target,\n",
    "            x = 'condition',\n",
    "            y = 'trial_diff',\n",
    "            hue = 'gameID')\n",
    "plt.legend([],[], frameon=False)"
   ]
  },
  {
   "cell_type": "code",
   "execution_count": null,
   "id": "abb29af4",
   "metadata": {},
   "outputs": [],
   "source": [
    "sns.pointplot(data = df_recog_target,\n",
    "            x = 'condition',\n",
    "            y = 'trial_time_diff',\n",
    "            hue = 'gameID')\n",
    "plt.legend([],[], frameon=False)"
   ]
  },
  {
   "cell_type": "code",
   "execution_count": null,
   "id": "c0c11423",
   "metadata": {},
   "outputs": [],
   "source": [
    "def condition_diff(df, cols = ['d_prime']):\n",
    "    '''\n",
    "    Returns difference between build and view conditions for variables in cols\n",
    "    '''\n",
    "#     print(df.condition)\n",
    "    \n",
    "    diffs = df[df.condition=='view'][cols].iloc[0] - df[df.condition=='build'][cols].iloc[0] \n",
    "    \n",
    "    \n",
    "    diffs = diffs.rename({col : col + '_diff' for col in cols})\n",
    "    \n",
    "    return diffs"
   ]
  },
  {
   "cell_type": "code",
   "execution_count": null,
   "id": "be6c679e",
   "metadata": {},
   "outputs": [],
   "source": [
    "# used below as predictor of d' differences\n",
    "condition_time_diffs = df_condition_means.groupby(['gameID']).apply(lambda df: condition_diff(df, cols = ['trial_diff',\n",
    "                                                                                   'recog_trial_num' ,\n",
    "                                                                                   'encode_trial_num',\n",
    "                                                                                   'trial_time_diff']))"
   ]
  },
  {
   "cell_type": "markdown",
   "id": "392171c6",
   "metadata": {},
   "source": [
    "## Properties of stimuli/ kinds of errors"
   ]
  },
  {
   "cell_type": "markdown",
   "id": "6978142e",
   "metadata": {},
   "source": [
    "### Holistic measures of similarity"
   ]
  },
  {
   "cell_type": "code",
   "execution_count": null,
   "id": "0ab00b31",
   "metadata": {},
   "outputs": [],
   "source": [
    "### Measures\n",
    "\n",
    "def jaccard_distance(a, b):\n",
    "    return 1 - jaccard_score(a, b, average = 'micro')\n",
    "\n",
    "def euclidean_distance(a, b):\n",
    "    return math.dist(a.flatten(), b.flatten())\n",
    "\n",
    "def euc_2(a, b):\n",
    "    return np.linalg.norm(a-b)\n",
    "\n",
    "\n",
    "### Calculate variabilities\n",
    "\n",
    "def between_group_var(group_a, group_b, metric = euc_2):\n",
    "    \n",
    "    both_groups = group_a.copy().append(group_b.copy(), ignore_index = True)\n",
    "    \n",
    "    y_bar = mean_tower(both_groups)\n",
    "    \n",
    "    group_a_mean = mean_tower(group_a)\n",
    "    group_b_mean = mean_tower(group_b)\n",
    "    \n",
    "    inside_sum = [(len(group_a) * ((metric(group_a_mean, y_bar))**2)), (len(group_b) * ((metric(group_b_mean, y_bar))**2))]\n",
    "    \n",
    "#     distances = np.array([[jaccard_distance(tower_a, tower_b) for tower_b in group_a['square_map']] for tower_a in group_b['square_map']])\n",
    "    \n",
    "#     squared_distances = np.square(distances)\n",
    "\n",
    "    var = np.sum(inside_sum)\n",
    "    \n",
    "    return var\n",
    "    \n",
    "\n",
    "def within_group_var(group_a, group_b, metric = euc_2):\n",
    "    '''\n",
    "    Calculates variance using errors i.e. distances from the mean,\n",
    "    where mean is literally the pointwise mean the map of blocks\n",
    "    \n",
    "    e.g. mean of these\n",
    "    [[0, 0, 0, 0],      [[0, 0, 0, 0],\n",
    "     [0, 1, 1, 0],       [0, 0, 0, 0],\n",
    "     [0, 1, 1, 0],       [0, 1, 1, 1],\n",
    "     [0, 1, 1, 0]]       [0, 1, 1, 1]] \n",
    "\n",
    "    is:\n",
    "    [[0, 0, 0, 0],\n",
    "     [0,.5,.5, 0],\n",
    "     [0, 1, 1,.5],\n",
    "     [0, 1, 1,.5]]\n",
    "     \n",
    "    This means we can't use jaccard or any other measure of similarity that requires discrete values.\n",
    "    '''\n",
    "    \n",
    "    total_observations = len(group_a) + len(group_b)\n",
    "    \n",
    "    group_vars = []\n",
    "    \n",
    "    for group in [group_a, group_b]:\n",
    "        \n",
    "        group_mean = mean_tower(group)\n",
    "\n",
    "        errors = group['square_map'].apply(lambda tower: metric(tower, group_mean))\n",
    "        \n",
    "        sqrd_errors = np.square(errors)\n",
    "\n",
    "        sum_sqrd_errors = np.sum(sqrd_errors)\n",
    "        \n",
    "        group_var = sum_sqrd_errors/(total_observations - 2) # 2 is number of groups\n",
    "        \n",
    "        group_vars.append(group_var)\n",
    "    \n",
    "    sum_vars = sum(group_vars)\n",
    "    \n",
    "    return sum_vars\n",
    "\n",
    "\n",
    "def get_variabilities(df, metric = euc_2):\n",
    "    \n",
    "    # group contains recall trials from a single ppt\n",
    "    \n",
    "    build_group = df[df.condition == 'build']\n",
    "    view_group  = df[df.condition == 'view']\n",
    "    foil_group  = df[df.condition == 'foil']\n",
    "    \n",
    "    group_variabilities = {\n",
    "        'build_between_group_var' : between_group_var(build_group, foil_group, metric = metric),\n",
    "        'build_within_group_var' : within_group_var(build_group, foil_group, metric = metric),\n",
    "        'view_between_group_var'  : between_group_var(view_group, foil_group, metric = metric),\n",
    "        'view_within_group_var'  : within_group_var(view_group, foil_group, metric = metric),\n",
    "    }\n",
    "    \n",
    "    group_variabilities['build_f_ratio'] = group_variabilities['build_between_group_var'] / group_variabilities['build_within_group_var']\n",
    "    group_variabilities['view_f_ratio'] = group_variabilities['view_between_group_var'] / group_variabilities['view_within_group_var']\n",
    "    \n",
    "    return pd.Series(group_variabilities)"
   ]
  },
  {
   "cell_type": "markdown",
   "id": "0a7b0dbb",
   "metadata": {},
   "source": [
    "#### Euclidean Distance"
   ]
  },
  {
   "cell_type": "code",
   "execution_count": null,
   "id": "03aed68c",
   "metadata": {},
   "outputs": [],
   "source": [
    "df_variabilities = df_recog.groupby(['gameID']).apply(\\\n",
    "                        lambda group : get_variabilities (group, metric = euc_2)).reset_index()     "
   ]
  },
  {
   "cell_type": "code",
   "execution_count": null,
   "id": "781165af",
   "metadata": {},
   "outputs": [],
   "source": [
    "# tidy dataframe\n",
    "build_variabilities = df_variabilities[['build_between_group_var','build_within_group_var','build_f_ratio','gameID']].copy()\n",
    "build_variabilities['condition'] = 'build'\n",
    "view_variabilities = df_variabilities[['view_between_group_var','view_within_group_var','view_f_ratio','gameID']].copy()\n",
    "view_variabilities['condition'] = 'view'\n",
    "\n",
    "build_variabilities = build_variabilities.rename(columns = {'build_between_group_var': 'between_group_var',\n",
    "                                      'build_within_group_var': 'within_group_var',\n",
    "                                      'build_f_ratio': 'f_ratio'})\n",
    "\n",
    "view_variabilities = view_variabilities.rename(columns = {'view_between_group_var': 'between_group_var',\n",
    "                                     'view_within_group_var': 'within_group_var',\n",
    "                                     'view_f_ratio': 'f_ratio'})\n",
    "\n",
    "df_variabilities_tidy = build_variabilities.append(view_variabilities, ignore_index=True)\n",
    "df_variabilities_tidy['measure'] = 'euclidean'\n",
    "df_variabilities_tidy"
   ]
  },
  {
   "cell_type": "markdown",
   "id": "c1fc30a9",
   "metadata": {},
   "source": [
    "### Export condition measures csvs"
   ]
  },
  {
   "cell_type": "code",
   "execution_count": null,
   "id": "39fa148b",
   "metadata": {},
   "outputs": [],
   "source": [
    "condition_measures_expanded = condition_measures.copy().merge(df_variabilities_tidy, on = ['gameID','condition'])"
   ]
  },
  {
   "cell_type": "code",
   "execution_count": null,
   "id": "af648d91",
   "metadata": {},
   "outputs": [],
   "source": [
    "condition_measures_expanded.to_csv('../../results/build_components/csv/df_condition_measures_{}.csv'.format(iteration_name))"
   ]
  },
  {
   "cell_type": "code",
   "execution_count": null,
   "id": "e849abf4",
   "metadata": {},
   "outputs": [],
   "source": [
    "# df_recog.to_csv('../../results/build_components/csv/df_recog_{}.csv'.format(iteration_name))"
   ]
  },
  {
   "cell_type": "code",
   "execution_count": null,
   "id": "155a112d",
   "metadata": {},
   "outputs": [],
   "source": [
    "sns.scatterplot(\n",
    "    data = condition_measures_expanded,\n",
    "    x = 'f_ratio',\n",
    "    y = 'd_prime',\n",
    "    hue = 'condition'\n",
    ")"
   ]
  },
  {
   "cell_type": "markdown",
   "id": "b9293759",
   "metadata": {},
   "source": [
    "#### Jaccard similarity\n",
    "\n",
    "https://scikit-learn.org/stable/modules/generated/sklearn.metrics.jaccard_score.html"
   ]
  },
  {
   "cell_type": "code",
   "execution_count": null,
   "id": "bd80601f",
   "metadata": {},
   "outputs": [],
   "source": [
    "# You cannot calculate the Jaccard score between continuous variables\n",
    "\n",
    "# df_variabilities = df_recog.groupby(['gameID']).apply(\\\n",
    "#                         lambda group : get_variabilities (group, metric = jaccard_distance)).reset_index()                                                      "
   ]
  },
  {
   "cell_type": "markdown",
   "id": "3a4ce74c",
   "metadata": {},
   "source": [
    "### Procedural and part-based measures of similarity\n",
    "\n",
    "Rather than holistic measures of visual similarity leading to errors, perhaps people mistake towers that are built in similar ways for each other.\n",
    "\n",
    "Note that 'visual' vs. 'procedural' might not reflect a natural distinction.\n",
    "'Holistic' vs. 'part based' might be more accurate.\n",
    "\n",
    "But if I can look into procedural measures (i.e. this *would* be built in a similar way to another tower).\n"
   ]
  },
  {
   "cell_type": "code",
   "execution_count": null,
   "id": "0a1e1f75",
   "metadata": {},
   "outputs": [],
   "source": []
  },
  {
   "cell_type": "markdown",
   "id": "76677680",
   "metadata": {},
   "source": [
    "#### More likely to make mistake if built/ viewed chunk?\n",
    "\n",
    "Lots of these towers shared parts (i.e. top or bottom half) with other towers. Are people more likely to false alarm if they have:\n",
    "- viewed a shared part previously\n",
    "- built a shared part previously\n",
    "- built or viewed a shared part previously\n",
    "- built or viewed a shared part more times (i.e. ordinal predictor)"
   ]
  },
  {
   "cell_type": "code",
   "execution_count": null,
   "id": "a6d1381d",
   "metadata": {},
   "outputs": [],
   "source": [
    "# proportion of foil trials that were false alarmed, broken down by part seen previously, part not seen previously\n",
    "\n",
    "\n"
   ]
  },
  {
   "cell_type": "code",
   "execution_count": null,
   "id": "ee661020",
   "metadata": {},
   "outputs": [],
   "source": [
    "proportion of foil trials that were false alarmed, broken down by:\n",
    "- part seen previously in building trial only\n",
    "- part seen previously in view trial only\n",
    "- part seen previously in both view and build\n",
    "- part not seen previously"
   ]
  },
  {
   "cell_type": "markdown",
   "id": "174d560c",
   "metadata": {},
   "source": [
    "#### Starting with just wide parts\n",
    "\n",
    "this asks whether a chunk has been seen before in a specific condition and gives a binary yes or no answer.\n",
    "alternatively, we could *count* the amount of times a chunk has been seen before"
   ]
  },
  {
   "cell_type": "code",
   "execution_count": null,
   "id": "75db12ad",
   "metadata": {},
   "outputs": [],
   "source": [
    "# which parts have been seen before?\n",
    "old_part_bottom = df_encode.groupby(['gameID','condition']).apply(lambda row: list(pd.unique(row['tower_A_wide_id']))).reset_index()\n",
    "old_part_top = df_encode.groupby(['gameID','condition']).apply(lambda row: list(pd.unique(row['tower_B_wide_id']))).reset_index()\n",
    "old_part_either = df_encode.groupby(['gameID','condition']).apply(\\\n",
    "                lambda row: list(pd.unique(row['tower_A_wide_id'].append(row['tower_B_wide_id']))))"
   ]
  },
  {
   "cell_type": "code",
   "execution_count": null,
   "id": "b745a647",
   "metadata": {},
   "outputs": [],
   "source": [
    "old_part_either['0055-d0778fd4-bbbb-4844-83f2-e7205ae10151','build']"
   ]
  },
  {
   "cell_type": "code",
   "execution_count": null,
   "id": "0c5458ac",
   "metadata": {},
   "outputs": [],
   "source": [
    "# binary yes/ no\n",
    "\n",
    "def saw_parts(row, condition = 'either', parts = ['tower_A_wide_id', 'tower_B_wide_id']):\n",
    "    \n",
    "    recog_parts = list(row[parts])\n",
    "#     print(recog_parts)\n",
    "    \n",
    "    if condition == 'either':\n",
    "        seen_parts = old_part_either[row.gameID, 'view'] + old_part_either[row.gameID, 'build']\n",
    "    else:\n",
    "        seen_parts = old_part_either[row.gameID, condition]\n",
    "        \n",
    "#     print(seen_parts)\n",
    "    overlap = len(set(recog_parts).intersection(set(seen_parts)))\n",
    "    \n",
    "    return overlap > 0"
   ]
  },
  {
   "cell_type": "code",
   "execution_count": null,
   "id": "a004b4b7",
   "metadata": {},
   "outputs": [],
   "source": [
    "df_recog['1plus_wide_part_built'] = df_recog.apply(lambda row: saw_parts(row,  condition = 'build', parts = ['tower_A_wide_id', 'tower_B_wide_id']), axis = 1)\n",
    "df_recog['1plus_wide_part_viewed'] = df_recog.apply(lambda row: saw_parts(row,  condition = 'view', parts = ['tower_A_wide_id', 'tower_B_wide_id']), axis = 1)\n",
    "df_recog['1plus_wide_part_built'] = df_recog.apply(lambda row: saw_parts(row,  condition = 'either', parts = ['tower_A_wide_id', 'tower_B_wide_id']), axis = 1)\n",
    "\n",
    "# check that 'either' condition is disjunction of built and viewed\n",
    "assert (df_recog['1plus_wide_part_built'] | df_recog['1plus_wide_part_viewed']).equals(df_recog['1plus_wide_part_built'])"
   ]
  },
  {
   "cell_type": "code",
   "execution_count": null,
   "id": "cfe7d530",
   "metadata": {},
   "outputs": [],
   "source": []
  },
  {
   "cell_type": "code",
   "execution_count": null,
   "id": "278fe338",
   "metadata": {},
   "outputs": [],
   "source": [
    "# careful here: you can view and build only one of the parts (don't just sum these)\n",
    "# (but you can sum them to find number of times that part was built for familiarity)\n",
    "n_parts_viewed = ...\n",
    "n_parts_built = ...\n",
    "\n",
    "n_times_part_seen = 0 # calculated differently! not with unique used above\n",
    "\n"
   ]
  },
  {
   "cell_type": "markdown",
   "id": "dedf0109",
   "metadata": {},
   "source": [
    "## Explore reasons for larger differences in d' between view and build"
   ]
  },
  {
   "cell_type": "code",
   "execution_count": null,
   "id": "9a9362d8",
   "metadata": {},
   "outputs": [],
   "source": [
    "condition_measures_diffs = condition_measures_expanded.groupby('gameID').apply(condition_diff)"
   ]
  },
  {
   "cell_type": "code",
   "execution_count": null,
   "id": "d5dcfd6c",
   "metadata": {},
   "outputs": [],
   "source": [
    "ppt_accuracy = df_recog.groupby('gameID')[['response_correct']].mean().reset_index()"
   ]
  },
  {
   "cell_type": "code",
   "execution_count": null,
   "id": "f7e12a02",
   "metadata": {},
   "outputs": [],
   "source": [
    "condition_measures_diffs = condition_measures_diffs.copy().merge(ppt_accuracy, on='gameID')\\\n",
    "                                                   .merge(build_times, on='gameID')\\\n",
    "                                                   .merge(reset_means, on='gameID')\\\n",
    "                                                   .merge(condition_time_diffs, on = 'gameID')"
   ]
  },
  {
   "cell_type": "code",
   "execution_count": null,
   "id": "1a5bde71",
   "metadata": {},
   "outputs": [],
   "source": [
    "condition_measures_diffs"
   ]
  },
  {
   "cell_type": "markdown",
   "id": "9577dfd0",
   "metadata": {},
   "source": [
    "#### distribution of differences in d' between conditions.\n",
    "Positive difference indicates that d' was greater for view condition"
   ]
  },
  {
   "cell_type": "code",
   "execution_count": null,
   "id": "6b6dd1dc",
   "metadata": {},
   "outputs": [],
   "source": [
    "sns.histplot(condition_measures_diffs.d_prime_diff, bins=15)"
   ]
  },
  {
   "cell_type": "markdown",
   "id": "4b614073",
   "metadata": {},
   "source": [
    "#### Temporal differences"
   ]
  },
  {
   "cell_type": "code",
   "execution_count": null,
   "id": "3b3272ae",
   "metadata": {},
   "outputs": [],
   "source": [
    "# average number of trials between encoding and recognition\n",
    "sns.scatterplot(data = condition_measures_diffs,\n",
    "                x = 'trial_diff_diff',\n",
    "                y = 'd_prime_diff')"
   ]
  },
  {
   "cell_type": "code",
   "execution_count": null,
   "id": "65835281",
   "metadata": {},
   "outputs": [],
   "source": [
    "# average time between encoding and recognition\n",
    "sns.scatterplot(data = condition_measures_diffs,\n",
    "                x = 'trial_time_diff_diff',\n",
    "                y = 'd_prime_diff')"
   ]
  },
  {
   "cell_type": "code",
   "execution_count": null,
   "id": "73579304",
   "metadata": {},
   "outputs": [],
   "source": [
    "# are encoding trials just later for view condition? Nope\n",
    "sns.scatterplot(data = condition_measures_diffs,\n",
    "                x = 'encode_trial_num_diff',\n",
    "                y = 'd_prime_diff')"
   ]
  },
  {
   "cell_type": "code",
   "execution_count": null,
   "id": "da2b99e8",
   "metadata": {},
   "outputs": [],
   "source": [
    "# are recogntion trials just earlier for view condition? Nope\n",
    "sns.scatterplot(data = condition_measures_diffs,\n",
    "                x = 'recog_trial_num_diff',\n",
    "                y = 'd_prime_diff')"
   ]
  },
  {
   "cell_type": "markdown",
   "id": "7f752ecc",
   "metadata": {},
   "source": [
    "#### average build time"
   ]
  },
  {
   "cell_type": "code",
   "execution_count": null,
   "id": "2c20dd61",
   "metadata": {},
   "outputs": [],
   "source": [
    "sns.scatterplot(data = condition_measures_diffs,\n",
    "                x = 'relative_time',\n",
    "                y = 'd_prime_diff')"
   ]
  },
  {
   "cell_type": "markdown",
   "id": "ec1c356f",
   "metadata": {},
   "source": [
    "#### average number of resets"
   ]
  },
  {
   "cell_type": "code",
   "execution_count": null,
   "id": "e28cb768",
   "metadata": {},
   "outputs": [],
   "source": [
    "sns.scatterplot(data = condition_measures_diffs,\n",
    "                x = 'n_resets',\n",
    "                y = 'd_prime_diff')"
   ]
  },
  {
   "cell_type": "markdown",
   "id": "ec17da67",
   "metadata": {},
   "source": [
    "#### average accuracy"
   ]
  },
  {
   "cell_type": "code",
   "execution_count": null,
   "id": "81f963f0",
   "metadata": {},
   "outputs": [],
   "source": [
    "sns.scatterplot(data = condition_measures_diffs,\n",
    "                x = 'response_correct',\n",
    "                y = 'd_prime_diff')"
   ]
  },
  {
   "cell_type": "markdown",
   "id": "fd60eef1",
   "metadata": {},
   "source": [
    "### Other"
   ]
  },
  {
   "cell_type": "markdown",
   "id": "3e697281",
   "metadata": {},
   "source": [
    "### Other"
   ]
  },
  {
   "cell_type": "markdown",
   "id": "bb3dff37",
   "metadata": {},
   "source": [
    "### Other"
   ]
  },
  {
   "cell_type": "code",
   "execution_count": null,
   "id": "dbc321df",
   "metadata": {},
   "outputs": [],
   "source": []
  }
 ],
 "metadata": {
  "kernelspec": {
   "display_name": "Python 3 (ipykernel)",
   "language": "python",
   "name": "python3"
  },
  "language_info": {
   "codemirror_mode": {
    "name": "ipython",
    "version": 3
   },
   "file_extension": ".py",
   "mimetype": "text/x-python",
   "name": "python",
   "nbconvert_exporter": "python",
   "pygments_lexer": "ipython3",
   "version": "3.9.16"
  }
 },
 "nbformat": 4,
 "nbformat_minor": 5
}
