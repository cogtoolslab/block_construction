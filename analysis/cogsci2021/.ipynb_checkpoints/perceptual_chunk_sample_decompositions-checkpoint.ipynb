{
 "cells": [
  {
   "cell_type": "code",
   "execution_count": 10,
   "metadata": {},
   "outputs": [],
   "source": [
    "import os\n",
    "import sys\n",
    "import urllib, io\n",
    "os.getcwd()\n",
    "sys.path.append(\"..\")\n",
    "sys.path.append(\"../utils\")\n",
    "proj_dir = os.path.abspath('../..')\n",
    "\n",
    "import numpy as np\n",
    "import scipy.stats as stats\n",
    "import pandas as pd\n",
    "\n",
    "from scipy.spatial import distance\n",
    "from sklearn.cluster import SpectralBiclustering\n",
    "from sklearn.cluster import AffinityPropagation\n",
    "from sklearn.cluster import KMeans\n",
    "from sklearn.manifold import TSNE\n",
    "\n",
    "from collections import Counter\n",
    "import json\n",
    "import re\n",
    "import ast\n",
    "import random\n",
    "\n",
    "import importlib\n",
    "\n",
    "from PIL import Image, ImageOps, ImageDraw, ImageFont \n",
    "\n",
    "from io import BytesIO\n",
    "import base64\n",
    "\n",
    "import  matplotlib\n",
    "from matplotlib import pylab, mlab, pyplot\n",
    "%matplotlib inline\n",
    "from IPython.core.pylabtools import figsize, getfigs\n",
    "plt = pyplot\n",
    "import matplotlib as mpl\n",
    "mpl.rcParams['pdf.fonttype'] = 42\n",
    "\n",
    "import seaborn as sns\n",
    "sns.set_context('talk')\n",
    "sns.set_style('darkgrid')\n",
    "\n",
    "from IPython.display import clear_output\n",
    "\n",
    "import warnings\n",
    "warnings.filterwarnings(\"ignore\", category=DeprecationWarning)\n",
    "warnings.filterwarnings(\"ignore\", message=\"numpy.dtype size changed\")\n",
    "warnings.filterwarnings(\"ignore\", message=\"numpy.ufunc size changed\")\n",
    "\n",
    "import pickle\n",
    "import nltk\n",
    "\n",
    "import drawing_utils as drawing\n",
    "\n",
    "import block_construction_helpers as bc\n"
   ]
  },
  {
   "cell_type": "code",
   "execution_count": 2,
   "metadata": {},
   "outputs": [],
   "source": [
    "experiment_name = 'perceptual_chunks'\n",
    "\n",
    "## directory & file hierarchy\n",
    "proj_dir = os.path.abspath('..')\n",
    "datavol_dir = os.path.join(proj_dir,'data')\n",
    "analysis_dir = os.path.abspath(os.path.join(os.getcwd(),'..'))\n",
    "results_dir = os.path.join(proj_dir,'results')\n",
    "\n",
    "# paths specific to this experiment\n",
    "experiment_results_dir = os.path.join(results_dir, experiment_name)\n",
    "plot_dir = os.path.join(experiment_results_dir,'plots')\n",
    "csv_dir = os.path.join(experiment_results_dir,'csv')\n",
    "json_dir = os.path.join(experiment_results_dir,'json')\n",
    "\n",
    "# paths to silhouette data\n",
    "silhouette_results_dir = os.path.join(results_dir, 'silhouette')\n",
    "silhouette_csv_dir = os.path.join(silhouette_results_dir,'csv')\n",
    "\n",
    "png_dir = os.path.abspath(os.path.join(datavol_dir,'png'))\n",
    "jefan_dir = os.path.join(analysis_dir,'jefan')\n",
    "will_dir = os.path.join(analysis_dir,'will')\n",
    "\n",
    "## add helpers to python path\n",
    "if os.path.join(proj_dir,'stimuli') not in sys.path:\n",
    "    sys.path.append(os.path.join(proj_dir,'stimuli'))\n",
    "    \n",
    "if not os.path.exists(results_dir):\n",
    "    os.makedirs(results_dir)\n",
    "    \n",
    "if not os.path.exists(plot_dir):\n",
    "    os.makedirs(plot_dir)   \n",
    "    \n",
    "if not os.path.exists(csv_dir):\n",
    "    os.makedirs(csv_dir)       "
   ]
  },
  {
   "cell_type": "code",
   "execution_count": 3,
   "metadata": {},
   "outputs": [],
   "source": [
    "# latest iteration name to include\n",
    "iteration_name = 'pilot_0c'\n",
    "iteration_names = ['pilot_0','pilot_0b','pilot_0c']\n",
    "\n",
    "# variables to check integrity of data\n",
    "numTrials = 8"
   ]
  },
  {
   "cell_type": "code",
   "execution_count": 4,
   "metadata": {},
   "outputs": [],
   "source": [
    "# open pickled dataframes\n",
    "\n",
    "trial_path_p = os.path.join(csv_dir,'perceptual_chunks_trial_{}.p'.format(iteration_name))\n",
    "df_perc_trial = pickle.load( open(trial_path_p, \"rb\" ))\n",
    "\n",
    "# not used in this analysis\n",
    "# color_path_p = os.path.join(csv_dir,'perceptual_chunks_color_{}.p'.format(iteration_name))\n",
    "# df_color = pickle.load( open(color_path_p, \"rb\" ))"
   ]
  },
  {
   "cell_type": "code",
   "execution_count": 5,
   "metadata": {},
   "outputs": [],
   "source": [
    "# filter participant that didn't follow instructions\n",
    "df_perc_trial = df_perc_trial[df_perc_trial.flag=='none']\n",
    "# df_color = df_color[df_perc_trial.flag=='none']"
   ]
  },
  {
   "cell_type": "code",
   "execution_count": 6,
   "metadata": {},
   "outputs": [
    {
     "name": "stdout",
     "output_type": "stream",
     "text": [
      "49 ppts loaded\n"
     ]
    }
   ],
   "source": [
    "# useful vars\n",
    "ppts = np.sort(df_perc_trial.gameID.unique())\n",
    "targets = np.sort(df_perc_trial.targetName.unique())\n",
    "n_ppt = len(ppts)\n",
    "print(str(n_ppt) + ' ppts loaded')"
   ]
  },
  {
   "cell_type": "code",
   "execution_count": 7,
   "metadata": {},
   "outputs": [],
   "source": [
    "# for each structure, throw all chunks from all decompositions into a giant list\n",
    "\n",
    "def addPerceptualChunks(chunk_list, decomposition, group_number):\n",
    "    '''\n",
    "    Checks whether a chunk with that group number exists in the decomposition and adds it to chunk_list \n",
    "    '''\n",
    "    chunk = (decomposition==group_number)*1\n",
    "    if chunk.any():\n",
    "        chunk_list.append(bc.cropped_chunk_to_string(chunk))\n",
    "        \n",
    "        \n",
    "# create dict of target to chunk list\n",
    "perceptual_chunks = {}\n",
    "\n",
    "for target in targets:\n",
    "    \n",
    "    perceptual_chunks[target] = []\n",
    "    \n",
    "    for group in range(1,9):\n",
    "        df_perc_trial[df_perc_trial.targetName==target].structureGrid.apply(\\\n",
    "            lambda decomposition: addPerceptualChunks(perceptual_chunks[target],\n",
    "                                                                        decomposition,\n",
    "                                                                        group))\n",
    "\n",
    "# count and sort chunks\n",
    "perceptual_chunk_counters = {target: dict(Counter(perceptual_chunks[target]).most_common()) for target in targets}"
   ]
  },
  {
   "cell_type": "code",
   "execution_count": 8,
   "metadata": {},
   "outputs": [],
   "source": [
    "def convert_dict_to_list(chunk_str_counter):\n",
    "    \n",
    "    chunk_list = []\n",
    "    for chunk in chunk_str_counter.keys():\n",
    "        chunk_list += [chunk for i in range(0, chunk_str_counter[chunk])]\n",
    "    \n",
    "    return chunk_list\n",
    "\n",
    "def sample_chunk(chunk_list):\n",
    "    next_chunk = random.choice(chunk_list)\n",
    "    \n",
    "    chunk_list = [chunk for chunk in chunk_list if chunk != next_chunk] # remove chunk from list\n",
    "    \n",
    "    return next_chunk\n",
    "\n",
    "def is_complete(world, target):\n",
    "    target_map = bc.get_target_cropped(target)\n",
    "    binary_world = world > 0\n",
    "    return np.all(binary_world == target_map)\n",
    "    \n",
    "\n",
    "def create_decomposition(target, sample_max):\n",
    "    chunk_str_counter = perceptual_chunk_counters[target]\n",
    "    chunk_list = convert_dict_to_list(chunk_str_counter)\n",
    "    \n",
    "    success = False\n",
    "    \n",
    "    while (not success):\n",
    "        world = np.zeros((8,8))\n",
    "\n",
    "        samples_left = sample_max\n",
    "        chunk_index = 1\n",
    "\n",
    "        while (samples_left > 0) & (not is_complete(world, target)):\n",
    "            next_chunk_str = sample_chunk(chunk_list)\n",
    "            next_chunk = bc.chunk_str_to_cropped_array(next_chunk_str)\n",
    "            if np.max(world + next_chunk*chunk_index) == chunk_index:\n",
    "                world = world + next_chunk*chunk_index\n",
    "                samples_left = sample_max\n",
    "                chunk_index += 1\n",
    "            else:\n",
    "                samples_left -= 1\n",
    "\n",
    "        success = is_complete(world, target)\n",
    "    \n",
    "    return world\n",
    "        "
   ]
  },
  {
   "cell_type": "code",
   "execution_count": 11,
   "metadata": {},
   "outputs": [],
   "source": [
    "attempts = 10\n",
    "generated_decompositions = {}\n",
    "\n",
    "for target in targets:\n",
    "    generated_decompositions[target] = {}\n",
    "    \n",
    "    for attempt in range(0, attempts):\n",
    "        generated_decompositions[target][attempt] = create_decomposition(target, 100)"
   ]
  },
  {
   "cell_type": "code",
   "execution_count": 12,
   "metadata": {},
   "outputs": [
    {
     "data": {
      "image/png": "[encoded data removed]",
      "text/plain": [
       "<Figure size 1440x1440 with 80 Axes>"
      ]
     },
     "metadata": {},
     "output_type": "display_data"
    }
   ],
   "source": [
    "# visualize all participant's chunks\n",
    "\n",
    "visualize = True\n",
    "\n",
    "if visualize:\n",
    "\n",
    "    fig, axs = plt.subplots(attempts, len(targets), figsize=(20,2*attempts))\n",
    "\n",
    "    for i in range(0, attempts):\n",
    "\n",
    "        for j, target in enumerate(targets):\n",
    "\n",
    "            chunks_cropped = generated_decompositions[target][i]\n",
    "            chunks = np.zeros((18,13))\n",
    "            chunks[5:13,0:8] = chunks_cropped\n",
    "            chunks = np.rot90(chunks)\n",
    "            axs[i,j].axis('off')\n",
    "            axs[i,j].imshow(chunks, cmap='Set3')\n",
    "            "
   ]
  },
  {
   "cell_type": "code",
   "execution_count": null,
   "metadata": {},
   "outputs": [],
   "source": []
  }
 ],
 "metadata": {
  "kernelspec": {
   "display_name": "Python 3",
   "language": "python",
   "name": "python3"
  },
  "language_info": {
   "codemirror_mode": {
    "name": "ipython",
    "version": 3
   },
   "file_extension": ".py",
   "mimetype": "text/x-python",
   "name": "python",
   "nbconvert_exporter": "python",
   "pygments_lexer": "ipython3",
   "version": "3.7.4"
  }
 },
 "nbformat": 4,
 "nbformat_minor": 2
}
