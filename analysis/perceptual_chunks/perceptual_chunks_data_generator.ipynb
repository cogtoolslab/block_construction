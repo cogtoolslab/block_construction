{
 "cells": [
  {
   "cell_type": "code",
   "execution_count": 63,
   "metadata": {},
   "outputs": [],
   "source": [
    "import os\n",
    "import sys\n",
    "import urllib, io\n",
    "import pickle\n",
    "\n",
    "import numpy as np\n",
    "import scipy.stats as stats\n",
    "import pandas as pd\n",
    "\n",
    "import pymongo as pm\n",
    "from collections import Counter\n",
    "import json\n",
    "import re\n",
    "import ast\n",
    "\n",
    "from PIL import Image, ImageOps, ImageDraw, ImageFont \n",
    "\n",
    "from io import BytesIO\n",
    "import base64\n",
    "\n",
    "import  matplotlib\n",
    "from matplotlib import pylab, mlab, pyplot\n",
    "%matplotlib inline\n",
    "from IPython.core.pylabtools import figsize, getfigs\n",
    "plt = pyplot\n",
    "import matplotlib as mpl\n",
    "mpl.rcParams['pdf.fonttype'] = 42\n",
    "\n",
    "import seaborn as sns\n",
    "sns.set_context('talk')\n",
    "sns.set_style('darkgrid')\n",
    "\n",
    "from IPython.display import clear_output\n",
    "\n",
    "import warnings\n",
    "warnings.filterwarnings(\"ignore\", category=DeprecationWarning)\n",
    "warnings.filterwarnings(\"ignore\", message=\"numpy.dtype size changed\")\n",
    "warnings.filterwarnings(\"ignore\", message=\"numpy.ufunc size changed\")"
   ]
  },
  {
   "cell_type": "code",
   "execution_count": 64,
   "metadata": {},
   "outputs": [],
   "source": [
    "experiment_name = 'perceptual_chunks'\n",
    "\n",
    "## directory & file hierarchy\n",
    "proj_dir = os.path.abspath('..')\n",
    "datavol_dir = os.path.join(proj_dir,'data')\n",
    "analysis_dir = os.path.abspath(os.path.join(os.getcwd(),'..'))\n",
    "results_dir = os.path.join(proj_dir,'results')\n",
    "\n",
    "# paths specific to this experiment\n",
    "experiment_results_dir = os.path.join(results_dir, experiment_name)\n",
    "plot_dir = os.path.join(experiment_results_dir,'plots')\n",
    "csv_dir = os.path.join(experiment_results_dir,'csv')\n",
    "json_dir = os.path.join(experiment_results_dir,'json')\n",
    "\n",
    "png_dir = os.path.abspath(os.path.join(datavol_dir,'png'))\n",
    "jefan_dir = os.path.join(analysis_dir,'jefan')\n",
    "will_dir = os.path.join(analysis_dir,'will')\n",
    "\n",
    "## add helpers to python path\n",
    "if os.path.join(proj_dir,'stimuli') not in sys.path:\n",
    "    sys.path.append(os.path.join(proj_dir,'stimuli'))\n",
    "    \n",
    "if not os.path.exists(results_dir):\n",
    "    os.makedirs(results_dir)\n",
    "    \n",
    "if not os.path.exists(plot_dir):\n",
    "    os.makedirs(plot_dir)   \n",
    "    \n",
    "if not os.path.exists(csv_dir):\n",
    "    os.makedirs(csv_dir)       "
   ]
  },
  {
   "cell_type": "code",
   "execution_count": 65,
   "metadata": {},
   "outputs": [],
   "source": [
    "# set vars \n",
    "auth = pd.read_csv(os.path.join(analysis_dir,'auth.txt'), header = None) # this auth.txt file contains the password for the sketchloop user\n",
    "pswd = auth.values[0][0]\n",
    "user = 'sketchloop'\n",
    "host = 'cogtoolslab.org' ## cocolab ip address\n",
    "\n",
    "# have to fix this to be able to analyze from local\n",
    "import pymongo as pm\n",
    "conn = pm.MongoClient('mongodb://sketchloop:' + pswd + '@127.0.0.1')\n",
    "db = conn['block_construction']\n",
    "coll = db['perceptual_chunks']\n",
    "\n",
    "# which iteration name should we use?\n",
    "iteration_name = 'pilot_0c'\n",
    "iteration_names = ['pilot_0','pilot_0b','pilot_0c']\n",
    "\n",
    "# variables to check integrity of data\n",
    "numTrials = 8"
   ]
  },
  {
   "cell_type": "code",
   "execution_count": 67,
   "metadata": {},
   "outputs": [
    {
     "data": {
      "text/html": [
       "<div>\n",
       "<style scoped>\n",
       "    .dataframe tbody tr th:only-of-type {\n",
       "        vertical-align: middle;\n",
       "    }\n",
       "\n",
       "    .dataframe tbody tr th {\n",
       "        vertical-align: top;\n",
       "    }\n",
       "\n",
       "    .dataframe thead th {\n",
       "        text-align: right;\n",
       "    }\n",
       "</style>\n",
       "<table border=\"1\" class=\"dataframe\">\n",
       "  <thead>\n",
       "    <tr style=\"text-align: right;\">\n",
       "      <th></th>\n",
       "    </tr>\n",
       "  </thead>\n",
       "  <tbody>\n",
       "  </tbody>\n",
       "</table>\n",
       "</div>"
      ],
      "text/plain": [
       "Empty DataFrame\n",
       "Columns: []\n",
       "Index: []"
      ]
     },
     "execution_count": 67,
     "metadata": {},
     "output_type": "execute_result"
    }
   ],
   "source": [
    "query = coll.find({\"$and\":[\n",
    "                        {'trialType':'normal-trial'},\n",
    "                        {'eventType':'trialEnd'},\n",
    "                        {'iterationName': { '$in': iteration_names }}, #use this if one iteration name\n",
    "                        {'prolificPID': '5b681e2c7a68ea0001ca7f08'}]\n",
    "                     })\n",
    "pd.DataFrame(query)"
   ]
  },
  {
   "cell_type": "markdown",
   "metadata": {},
   "source": [
    "## Data Cleaning"
   ]
  },
  {
   "cell_type": "code",
   "execution_count": 68,
   "metadata": {},
   "outputs": [
    {
     "name": "stdout",
     "output_type": "stream",
     "text": [
      "50 participants found\n"
     ]
    }
   ],
   "source": [
    "# Find people who have completed all trials\n",
    "query = coll.find({\"$and\":[\n",
    "                        {'trialType':'normal-trial'},\n",
    "                        {'eventType':'trialEnd'},\n",
    "                        {'iterationName': { '$in': iteration_names }}, #use this if one iteration name\n",
    "                        {'trialNum': numTrials-1}]\n",
    "                     })\n",
    "\n",
    "complete_data_df = pd.DataFrame(query.sort('absoluteTime'))\n",
    "complete_data_ids = list(complete_data_df['gameID'])\n",
    "print(str(len(complete_data_ids)) + ' participants found')"
   ]
  },
  {
   "cell_type": "markdown",
   "metadata": {},
   "source": [
    "## Trial Types"
   ]
  },
  {
   "cell_type": "code",
   "execution_count": 69,
   "metadata": {},
   "outputs": [],
   "source": [
    "# Filter for full datasets\n",
    "query = coll.find({\"$and\":[\n",
    "                         {'trialType':'normal-trial'},\n",
    "                         {'eventType':'trialEnd'},\n",
    "                         {'iterationName': { '$in': iteration_names }},\n",
    "                         {'gameID': { '$in': complete_data_ids } }\n",
    "                        ]\n",
    "                     })\n",
    "\n",
    "df_trial = pd.DataFrame(list(query.sort('absoluteTime')))\n",
    "\n",
    "df_trial = df_trial[['trialType', 'trialNum', 'targetName', 'bitmap', 'stimGrid', 'nReset', 'timeReset',\n",
    "       'trialStartTime', 'lastActionTime', 'iterationName', 'devMode',\n",
    "       'absoluteTime', 'eventType', 'gameID', 'gameGrid', 'gameStartTime',\n",
    "       'relativeGameDuration', 'relativeTrialDuration', 'nChunksHighlighted',\n",
    "       'highlightColors']]\n",
    "\n",
    "df_trial['structureGrid'] = df_trial['gameGrid'].apply(lambda grid: np.array(grid)[5:13,0:8])\n",
    "\n",
    "df_trial = df_trial.sort_values(by=['gameID', 'absoluteTime'])"
   ]
  },
  {
   "cell_type": "code",
   "execution_count": 70,
   "metadata": {},
   "outputs": [],
   "source": [
    "query = coll.find({\"$and\":[\n",
    "                         {'trialType':'normal-trial'},\n",
    "                         {'eventType':'colorChange'},\n",
    "                         {'iterationName': { '$in': ['pilot_0','pilot_0b'] }},\n",
    "                         {'gameID': { '$in': complete_data_ids } }\n",
    "                        ]\n",
    "                     })\n",
    "\n",
    "df_color = pd.DataFrame(list(query.sort('absoluteTime')))"
   ]
  },
  {
   "cell_type": "code",
   "execution_count": 71,
   "metadata": {},
   "outputs": [],
   "source": [
    "# Filter for full datasets\n",
    "query = coll.find({\"$and\":[\n",
    "                         {'trialType':'normal-trial'},\n",
    "                         {'eventType':'colorChange'},\n",
    "                         {'iterationName': { '$in': ['pilot_0','pilot_0b'] }},\n",
    "                         {'gameID': { '$in': complete_data_ids } }\n",
    "                        ]\n",
    "                     })\n",
    "\n",
    "df_color = pd.DataFrame(list(query.sort('absoluteTime')))\n",
    "\n",
    "df_color = df_color[['trialType', 'trialNum', 'targetName', 'bitmap', 'stimGrid', 'nReset', 'timeReset',\n",
    "       'trialStartTime', 'lastActionTime', 'iterationName', 'devMode',\n",
    "       'absoluteTime', 'eventType', 'gameID', 'gameGrid', 'gameStartTime',\n",
    "       'relativeGameDuration', 'relativeTrialDuration', 'nChunksHighlighted',\n",
    "       'highlightColors', 'colorType', 'dragSource', 'squaresSelected',\n",
    "       'nSquaresSelected', 'nSquaresChanged', 'totalChunkSize',\n",
    "       'newColorGroup', 'thinkingTime','releaseToReleaseInterval',\n",
    "       'releaseToPressInterval', 'mouseDownTime', 'actionDuration', 'nAction']]\n",
    "\n",
    "df_color['structureGrid'] = df_color['gameGrid'].apply(lambda grid: np.array(grid)[5:13,0:8])\n",
    "\n",
    "df_color = df_color.rename(columns = {'thinkingTime':'releaseToReleaseInterval_from_thinkingTime'}) #renamed in experiment after first two ppts\n",
    "# df_color = df_color.sort_values(by=['gameID', 'absoluteTime'])\n",
    "# df_color"
   ]
  },
  {
   "cell_type": "code",
   "execution_count": 72,
   "metadata": {},
   "outputs": [
    {
     "data": {
      "text/html": [
       "<div>\n",
       "<style scoped>\n",
       "    .dataframe tbody tr th:only-of-type {\n",
       "        vertical-align: middle;\n",
       "    }\n",
       "\n",
       "    .dataframe tbody tr th {\n",
       "        vertical-align: top;\n",
       "    }\n",
       "\n",
       "    .dataframe thead th {\n",
       "        text-align: right;\n",
       "    }\n",
       "</style>\n",
       "<table border=\"1\" class=\"dataframe\">\n",
       "  <thead>\n",
       "    <tr style=\"text-align: right;\">\n",
       "      <th></th>\n",
       "      <th>gameStartTime</th>\n",
       "      <th>comments</th>\n",
       "      <th>strategy</th>\n",
       "      <th>didCorrectly</th>\n",
       "      <th>notColorBlind</th>\n",
       "      <th>totalTimeAfterInstructions</th>\n",
       "    </tr>\n",
       "  </thead>\n",
       "  <tbody>\n",
       "    <tr>\n",
       "      <th>0</th>\n",
       "      <td>1.607546e+12</td>\n",
       "      <td></td>\n",
       "      <td></td>\n",
       "      <td>Yes</td>\n",
       "      <td>Yes</td>\n",
       "      <td>198679</td>\n",
       "    </tr>\n",
       "    <tr>\n",
       "      <th>1</th>\n",
       "      <td>1.607546e+12</td>\n",
       "      <td>No~~~</td>\n",
       "      <td>I colored the squares first and then the rest~~~</td>\n",
       "      <td>Yes</td>\n",
       "      <td>Yes</td>\n",
       "      <td>394523</td>\n",
       "    </tr>\n",
       "    <tr>\n",
       "      <th>2</th>\n",
       "      <td>1.607622e+12</td>\n",
       "      <td>No~~~</td>\n",
       "      <td>Colouring in the biggest areas I could with on...</td>\n",
       "      <td>Yes</td>\n",
       "      <td>Yes</td>\n",
       "      <td>259825</td>\n",
       "    </tr>\n",
       "    <tr>\n",
       "      <th>3</th>\n",
       "      <td>1.607622e+12</td>\n",
       "      <td>No</td>\n",
       "      <td>Splitting the shapes into four sided sections ...</td>\n",
       "      <td>Yes</td>\n",
       "      <td>Yes</td>\n",
       "      <td>299151</td>\n",
       "    </tr>\n",
       "    <tr>\n",
       "      <th>4</th>\n",
       "      <td>1.607623e+12</td>\n",
       "      <td>No problems</td>\n",
       "      <td>I tried to make the largest shapes possible an...</td>\n",
       "      <td>Yes</td>\n",
       "      <td>Yes</td>\n",
       "      <td>264475</td>\n",
       "    </tr>\n",
       "    <tr>\n",
       "      <th>5</th>\n",
       "      <td>1.607623e+12</td>\n",
       "      <td>no</td>\n",
       "      <td>I was colouring shapes based off what felt rig...</td>\n",
       "      <td>Yes</td>\n",
       "      <td>Yes</td>\n",
       "      <td>215023</td>\n",
       "    </tr>\n",
       "    <tr>\n",
       "      <th>6</th>\n",
       "      <td>1.607623e+12</td>\n",
       "      <td>No</td>\n",
       "      <td>Trying to be as symmetrical as possible</td>\n",
       "      <td>Yes</td>\n",
       "      <td>Yes</td>\n",
       "      <td>211615</td>\n",
       "    </tr>\n",
       "    <tr>\n",
       "      <th>7</th>\n",
       "      <td>1.607623e+12</td>\n",
       "      <td>n/a</td>\n",
       "      <td>I tried to identify square patterns within the...</td>\n",
       "      <td>Yes</td>\n",
       "      <td>Yes</td>\n",
       "      <td>232065</td>\n",
       "    </tr>\n",
       "    <tr>\n",
       "      <th>8</th>\n",
       "      <td>1.607623e+12</td>\n",
       "      <td>no</td>\n",
       "      <td>i just tried to find matching shapes</td>\n",
       "      <td>Yes</td>\n",
       "      <td>Yes</td>\n",
       "      <td>425715</td>\n",
       "    </tr>\n",
       "    <tr>\n",
       "      <th>9</th>\n",
       "      <td>1.607623e+12</td>\n",
       "      <td>No</td>\n",
       "      <td>Just saw shapes and filled them in</td>\n",
       "      <td>Yes</td>\n",
       "      <td>Yes</td>\n",
       "      <td>1176834</td>\n",
       "    </tr>\n",
       "    <tr>\n",
       "      <th>10</th>\n",
       "      <td>1.607627e+12</td>\n",
       "      <td>No</td>\n",
       "      <td>I split things in the middle~~~ i try to creat...</td>\n",
       "      <td>Yes</td>\n",
       "      <td>Yes</td>\n",
       "      <td>302529</td>\n",
       "    </tr>\n",
       "  </tbody>\n",
       "</table>\n",
       "</div>"
      ],
      "text/plain": [
       "    gameStartTime     comments  \\\n",
       "0    1.607546e+12                \n",
       "1    1.607546e+12        No~~~   \n",
       "2    1.607622e+12        No~~~   \n",
       "3    1.607622e+12           No   \n",
       "4    1.607623e+12  No problems   \n",
       "5    1.607623e+12           no   \n",
       "6    1.607623e+12           No   \n",
       "7    1.607623e+12          n/a   \n",
       "8    1.607623e+12           no   \n",
       "9    1.607623e+12           No   \n",
       "10   1.607627e+12           No   \n",
       "\n",
       "                                             strategy didCorrectly  \\\n",
       "0                                                              Yes   \n",
       "1    I colored the squares first and then the rest~~~          Yes   \n",
       "2   Colouring in the biggest areas I could with on...          Yes   \n",
       "3   Splitting the shapes into four sided sections ...          Yes   \n",
       "4   I tried to make the largest shapes possible an...          Yes   \n",
       "5   I was colouring shapes based off what felt rig...          Yes   \n",
       "6             Trying to be as symmetrical as possible          Yes   \n",
       "7   I tried to identify square patterns within the...          Yes   \n",
       "8                i just tried to find matching shapes          Yes   \n",
       "9                  Just saw shapes and filled them in          Yes   \n",
       "10  I split things in the middle~~~ i try to creat...          Yes   \n",
       "\n",
       "   notColorBlind  totalTimeAfterInstructions  \n",
       "0            Yes                      198679  \n",
       "1            Yes                      394523  \n",
       "2            Yes                      259825  \n",
       "3            Yes                      299151  \n",
       "4            Yes                      264475  \n",
       "5            Yes                      215023  \n",
       "6            Yes                      211615  \n",
       "7            Yes                      232065  \n",
       "8            Yes                      425715  \n",
       "9            Yes                     1176834  \n",
       "10           Yes                      302529  "
      ]
     },
     "execution_count": 72,
     "metadata": {},
     "output_type": "execute_result"
    }
   ],
   "source": [
    "# look at survey responses\n",
    "query = coll.find({\"$and\":[\n",
    "                         {'trialType':'normal-trial'},\n",
    "                         {'eventType':'survey'},\n",
    "                         {'iterationName': { '$in': ['pilot_0','pilot_0b'] }},\n",
    "                         {'gameID': { '$in': complete_data_ids } }\n",
    "                        ]\n",
    "                     })\n",
    "\n",
    "df_survey = pd.DataFrame(list(query.sort('absoluteTime')))\n",
    "\n",
    "df_survey = df_survey[['gameStartTime', 'comments', 'strategy', \n",
    "                       'didCorrectly', 'colorBlind','totalTimeAfterInstructions']]\n",
    "df_survey.rename(columns = {'colorBlind':'notColorBlind'})"
   ]
  },
  {
   "cell_type": "markdown",
   "metadata": {},
   "source": [
    "## Save data"
   ]
  },
  {
   "cell_type": "code",
   "execution_count": 73,
   "metadata": {},
   "outputs": [],
   "source": [
    "# # save to csvs (not used- use pickle instead)\n",
    "\n",
    "# trial_path = os.path.join(csv_dir,'perceptual_chunks_trial_{}.csv'.format(iteration_name))\n",
    "# df_trial.to_csv(trial_path)\n",
    "# color_path = os.path.join(csv_dir,'perceptual_chunks_color_{}.csv'.format(iteration_name))\n",
    "# df_color.to_csv(color_path)\n",
    "# survey_path = os.path.join(csv_dir,'perceptual_chunks_survey_{}.csv'.format(iteration_name))\n",
    "# df_survey.to_csv(survey_path)"
   ]
  },
  {
   "cell_type": "code",
   "execution_count": 74,
   "metadata": {},
   "outputs": [],
   "source": [
    "trial_path_p = os.path.join(csv_dir,'perceptual_chunks_trial_{}.p'.format(iteration_name))\n",
    "pickle.dump(df_trial, open(trial_path_p, \"wb\" ))"
   ]
  },
  {
   "cell_type": "code",
   "execution_count": 75,
   "metadata": {},
   "outputs": [],
   "source": [
    "color_path_p = os.path.join(csv_dir,'perceptual_chunks_color_{}.p'.format(iteration_name))\n",
    "pickle.dump(df_color, open(color_path_p, \"wb\" ))"
   ]
  },
  {
   "cell_type": "code",
   "execution_count": 76,
   "metadata": {},
   "outputs": [],
   "source": [
    "survey_path_p = os.path.join(csv_dir,'perceptual_chunks_survey_{}.p'.format(iteration_name))\n",
    "pickle.dump(df_survey, open(survey_path_p, \"wb\" ))"
   ]
  },
  {
   "cell_type": "markdown",
   "metadata": {},
   "source": [
    "## Inspect data"
   ]
  },
  {
   "cell_type": "code",
   "execution_count": 77,
   "metadata": {
    "scrolled": false
   },
   "outputs": [
    {
     "data": {
      "image/png": "[encoded data removed]",
      "text/plain": [
       "<Figure size 1440x7200 with 400 Axes>"
      ]
     },
     "metadata": {},
     "output_type": "display_data"
    }
   ],
   "source": [
    "# visualize all participant's chunks\n",
    "\n",
    "ppts = complete_data_ids\n",
    "targets = df_trial.targetName.unique()\n",
    "n_ppt = len(ppts)\n",
    "\n",
    "fig, axs = plt.subplots(n_ppt, numTrials, figsize=(20,2*n_ppt))\n",
    "\n",
    "for i, ppt in enumerate(ppts):\n",
    "\n",
    "    for j, target in enumerate(targets):\n",
    "\n",
    "        chunks = df_trial[(df_trial.gameID==ppt) & (df_trial.targetName==target)]['gameGrid'].iloc[0]\n",
    "        chunks = np.rot90(chunks)\n",
    "        axs[i,j].axis('off')\n",
    "        axs[i,j].imshow(chunks, cmap='Set3')"
   ]
  },
  {
   "cell_type": "code",
   "execution_count": null,
   "metadata": {
    "scrolled": false
   },
   "outputs": [],
   "source": [
    "# visualize one participant's chunks\n",
    "\n",
    "ppt_num = -1 #-1 for latest ppt\n",
    "gameID = complete_data_ids[ppt_num]\n",
    "\n",
    "# gameID = '' # or manually enter a gameID\n",
    "\n",
    "df_test = df_trial[df_trial.gameID==gameID].reset_index()\n",
    "\n",
    "for i in range(0,8):\n",
    "\n",
    "    chunks = df_test.loc[i,'gameGrid']\n",
    "\n",
    "    av_map = np.rot90(chunks)\n",
    "    fig, ax = plt.subplots(figsize=(3,2))\n",
    "    ax.axis('off')\n",
    "    ax.imshow(av_map, cmap='Set3')"
   ]
  },
  {
   "cell_type": "code",
   "execution_count": null,
   "metadata": {},
   "outputs": [],
   "source": []
  },
  {
   "cell_type": "code",
   "execution_count": 49,
   "metadata": {},
   "outputs": [
    {
     "name": "stdout",
     "output_type": "stream",
     "text": [
      "/bin/sh: tunnel_cogtoolslab: command not found\r\n"
     ]
    }
   ],
   "source": []
  },
  {
   "cell_type": "code",
   "execution_count": null,
   "metadata": {},
   "outputs": [],
   "source": []
  }
 ],
 "metadata": {
  "kernelspec": {
   "display_name": "Python 3",
   "language": "python",
   "name": "python3"
  },
  "language_info": {
   "codemirror_mode": {
    "name": "ipython",
    "version": 3
   },
   "file_extension": ".py",
   "mimetype": "text/x-python",
   "name": "python",
   "nbconvert_exporter": "python",
   "pygments_lexer": "ipython3",
   "version": "3.7.4"
  }
 },
 "nbformat": 4,
 "nbformat_minor": 2
}
