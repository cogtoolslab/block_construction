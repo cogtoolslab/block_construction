{
 "cells": [
  {
   "cell_type": "code",
   "execution_count": 1,
   "metadata": {},
   "outputs": [
    {
     "name": "stderr",
     "output_type": "stream",
     "text": [
      "/Users/will/anaconda3/lib/python3.7/site-packages/statsmodels/tools/_testing.py:19: FutureWarning: pandas.util.testing is deprecated. Use the functions in the public API at pandas.testing instead.\n",
      "  import pandas.util.testing as tm\n"
     ]
    }
   ],
   "source": [
    "import os\n",
    "import sys\n",
    "import urllib, io\n",
    "os.getcwd()\n",
    "sys.path.append(\"..\")\n",
    "sys.path.append(\"../utils\")\n",
    "proj_dir = os.path.abspath('../..')\n",
    "\n",
    "import numpy as np\n",
    "import scipy.stats as stats\n",
    "import pandas as pd\n",
    "\n",
    "from scipy.spatial import distance\n",
    "from sklearn.cluster import SpectralBiclustering\n",
    "from sklearn.cluster import AffinityPropagation\n",
    "from sklearn.cluster import KMeans\n",
    "from sklearn.manifold import TSNE\n",
    "\n",
    "import pymongo as pm\n",
    "from collections import Counter\n",
    "import json\n",
    "import re\n",
    "import ast\n",
    "\n",
    "import importlib\n",
    "\n",
    "from PIL import Image, ImageOps, ImageDraw, ImageFont \n",
    "\n",
    "from io import BytesIO\n",
    "import base64\n",
    "\n",
    "import  matplotlib\n",
    "from matplotlib import pylab, mlab, pyplot\n",
    "%matplotlib inline\n",
    "from IPython.core.pylabtools import figsize, getfigs\n",
    "plt = pyplot\n",
    "import matplotlib as mpl\n",
    "mpl.rcParams['pdf.fonttype'] = 42\n",
    "\n",
    "import seaborn as sns\n",
    "sns.set_context('talk')\n",
    "sns.set_style('darkgrid')\n",
    "\n",
    "from IPython.display import clear_output\n",
    "\n",
    "import warnings\n",
    "warnings.filterwarnings(\"ignore\", category=DeprecationWarning)\n",
    "warnings.filterwarnings(\"ignore\", message=\"numpy.dtype size changed\")\n",
    "warnings.filterwarnings(\"ignore\", message=\"numpy.ufunc size changed\")\n",
    "\n",
    "import pickle\n",
    "import nltk\n",
    "\n",
    "import drawing_utils as drawing\n",
    "\n",
    "import block_construction_helpers as bc"
   ]
  },
  {
   "cell_type": "code",
   "execution_count": 2,
   "metadata": {},
   "outputs": [],
   "source": [
    "experiment_name = 'perceptual_chunks'\n",
    "\n",
    "## directory & file hierarchy\n",
    "proj_dir = os.path.abspath('..')\n",
    "datavol_dir = os.path.join(proj_dir,'data')\n",
    "analysis_dir = os.path.abspath(os.path.join(os.getcwd(),'..'))\n",
    "results_dir = os.path.join(proj_dir,'results')\n",
    "\n",
    "# paths specific to this experiment\n",
    "experiment_results_dir = os.path.join(results_dir, experiment_name)\n",
    "plot_dir = os.path.join(experiment_results_dir,'plots')\n",
    "csv_dir = os.path.join(experiment_results_dir,'csv')\n",
    "json_dir = os.path.join(experiment_results_dir,'json')\n",
    "\n",
    "# paths to silhouette data\n",
    "silhouette_results_dir = os.path.join(results_dir, 'silhouette')\n",
    "silhouette_csv_dir = os.path.join(silhouette_results_dir,'csv')\n",
    "\n",
    "png_dir = os.path.abspath(os.path.join(datavol_dir,'png'))\n",
    "jefan_dir = os.path.join(analysis_dir,'jefan')\n",
    "will_dir = os.path.join(analysis_dir,'will')\n",
    "\n",
    "## add helpers to python path\n",
    "if os.path.join(proj_dir,'stimuli') not in sys.path:\n",
    "    sys.path.append(os.path.join(proj_dir,'stimuli'))\n",
    "    \n",
    "if not os.path.exists(results_dir):\n",
    "    os.makedirs(results_dir)\n",
    "    \n",
    "if not os.path.exists(plot_dir):\n",
    "    os.makedirs(plot_dir)   \n",
    "    \n",
    "if not os.path.exists(csv_dir):\n",
    "    os.makedirs(csv_dir)       "
   ]
  },
  {
   "cell_type": "code",
   "execution_count": 3,
   "metadata": {},
   "outputs": [],
   "source": [
    "# set vars \n",
    "auth = pd.read_csv(os.path.join(analysis_dir,'auth.txt'), header = None) # this auth.txt file contains the password for the sketchloop user\n",
    "pswd = auth.values[0][0]\n",
    "user = 'sketchloop'\n",
    "host = 'cogtoolslab.org' ## cocolab ip address\n",
    "\n",
    "# have to fix this to be able to analyze from local\n",
    "import pymongo as pm\n",
    "conn = pm.MongoClient('mongodb://sketchloop:' + pswd + '@127.0.0.1')\n",
    "db = conn['block_construction']\n",
    "coll = db['perceptual_chunks']\n",
    "\n",
    "# latest iteration name to include\n",
    "iteration_name = 'pilot_0c'\n",
    "iteration_names = ['pilot_0','pilot_0b','pilot_0c']\n",
    "\n",
    "# variables to check integrity of data\n",
    "numTrials = 8"
   ]
  },
  {
   "cell_type": "code",
   "execution_count": 4,
   "metadata": {},
   "outputs": [],
   "source": [
    "# load csvs outputted from data generator\n",
    "\n",
    "# trial_path = os.path.join(csv_dir,'perceptual_chunks_trial_{}.csv'.format(iteration_name))\n",
    "# df_trial = pd.read_csv(trial_path)\n",
    "\n",
    "# color_path = os.path.join(csv_dir,'perceptual_chunks_color_{}.csv'.format(iteration_name))\n",
    "# df_color = pd.read_csv(trial_path)"
   ]
  },
  {
   "cell_type": "code",
   "execution_count": 5,
   "metadata": {},
   "outputs": [],
   "source": [
    "# open pickled dataframes\n",
    "\n",
    "trial_path_p = os.path.join(csv_dir,'perceptual_chunks_trial_{}.p'.format(iteration_name))\n",
    "df_trial = pickle.load( open(trial_path_p, \"rb\" ))\n",
    "\n",
    "color_path_p = os.path.join(csv_dir,'perceptual_chunks_color_{}.p'.format(iteration_name))\n",
    "df_color = pickle.load( open(color_path_p, \"rb\" ))"
   ]
  },
  {
   "cell_type": "code",
   "execution_count": 6,
   "metadata": {},
   "outputs": [
    {
     "name": "stdout",
     "output_type": "stream",
     "text": [
      "50 ppts loaded\n"
     ]
    }
   ],
   "source": [
    "# useful vars\n",
    "ppts = np.sort(df_trial.gameID.unique())\n",
    "targets = np.sort(df_trial.targetName.unique())\n",
    "n_ppt = len(ppts)\n",
    "print(str(n_ppt) + ' ppts loaded')"
   ]
  },
  {
   "cell_type": "markdown",
   "metadata": {},
   "source": [
    "## Visualizations"
   ]
  },
  {
   "cell_type": "code",
   "execution_count": null,
   "metadata": {
    "scrolled": false
   },
   "outputs": [],
   "source": [
    "# visualize all participant's chunks\n",
    "\n",
    "fig, axs = plt.subplots(n_ppt, numTrials, figsize=(20,2*n_ppt))\n",
    "\n",
    "for i, ppt in enumerate(ppts):\n",
    "\n",
    "    for j, target in enumerate(targets):\n",
    "\n",
    "        chunks = df_trial[(df_trial.gameID==ppt) & (df_trial.targetName==target)]['gameGrid'].iloc[0]\n",
    "        chunks = np.rot90(chunks)\n",
    "        axs[i,j].axis('off')\n",
    "        axs[i,j].imshow(chunks, cmap='Set3')"
   ]
  },
  {
   "cell_type": "code",
   "execution_count": null,
   "metadata": {},
   "outputs": [],
   "source": [
    "fig = plt.figure(figsize=(10,6))\n",
    "sns.set_context('poster')\n",
    "sns.set_style('whitegrid', {'legend':False})\n",
    "sns.set(style=\"ticks\", rc={\"lines.linewidth\": 0.7})\n",
    "sns.barplot(data=df_trial, y='nChunksHighlighted',x='targetName', order=targets)"
   ]
  },
  {
   "cell_type": "code",
   "execution_count": null,
   "metadata": {},
   "outputs": [],
   "source": [
    "# visualize all participant's chunks\n",
    "\n",
    "fig, axs = plt.subplots(n_ppt, numTrials, figsize=(20,2*n_ppt))\n",
    "\n",
    "for i, ppt in enumerate(ppts):\n",
    "\n",
    "    for j, target in enumerate(targets):\n",
    "\n",
    "        chunks = df_trial[(df_trial.gameID==ppt) & (df_trial.targetName==target)]['structureGrid'].iloc[0]\n",
    "        chunks = np.rot90(chunks)\n",
    "        axs[i,j].axis('off')\n",
    "        axs[i,j].imshow(chunks, cmap='Set3')"
   ]
  },
  {
   "cell_type": "markdown",
   "metadata": {},
   "source": [
    "## Perceptual chunk analysis notes\n",
    "\n",
    "\n",
    "### Properties of the chunk painting process\n",
    "- size of chunk colored in over time\n",
    "    - distinguish adding to the same chunk from creating new ones\n",
    "- average position of colored square over trial\n",
    "    - is it bottom to top?\n",
    "\n",
    "### Simple properties of perceptual chunks as predictors of difficulty/ complexity\n",
    "- Number of perceptual chunks in each structure, as a measure of (perceptual) complexity\n",
    "- Proportion of perceptual chunks that can't be made with blocks provided (as a measure of difficulty)\n",
    "- Variance in perceptual chunks as a measure of 'knowing what to do first' when building (e.g. thinking time pre first block)\n",
    "    - calculate using edit distance below\n",
    "\n",
    "### Strategies for comparing perceptual chunks with procedural chunks\n",
    "\n",
    "Within *perceptual* chunks:\n",
    "- Find an edit distance\n",
    "    - cost: +1 for changing a square, 0 for changing color of all members of a group to a unique color\n",
    "- Find a unique 'median' perceptual decomposition\n",
    "    - minimum edit distance to all decompositions\n",
    "\n",
    "Currently, our *procedural* chunk measures don't give us a full decomposition.\n",
    "Bag of chunks:\n",
    "- Proportion of perceptual chunks that are also procedural chunks\n",
    "    - i.e. get the overlap in distributions\n",
    "    - Would need to think about chunk sizes, as well as popularity: don't want to be systematically skimming-off the procedural chunks that could match.\n",
    "    - As a measure of difficulty?\n",
    "- Find the most popular procedural chunks in all reconstructions\n",
    "    - Are these more likely to be within, or crossing, a perceptual chunk? Compare to some baseline.\n",
    "    - Do procedural chunks become less tied to the perceptual ones with practice? \n",
    "\n",
    "Alternatively, we could find a way to obtain decompositions from procedural chunks.\n",
    "\n",
    "\n",
    "#### Once we have a metric:\n",
    "- Pre vs. in post: do people start off with perceptual chunks but move on to procedural ones?\n",
    "\n",
    "\n",
    "### Future analyses and experiments \n",
    "- Do *perceptual parses* change with building experience?\n",
    "- How consistent are perceptual parses for an individual?\n",
    "    - Do they become more consistent with building practice?\n",
    "    \n",
    "\n",
    "\n"
   ]
  },
  {
   "cell_type": "markdown",
   "metadata": {},
   "source": [
    "## Properties of chunk painting process\n",
    "\n",
    "The main purpose of this experiment was to obtain perceptual decompositions. The process of recording them is less relevant to our goals, however we include some basic analyses.\n",
    "\n",
    "#### Notes about data generation process:\n",
    "\n",
    "- To add a chunk people could either click once to change the color on one square (colorType='click') or drag color from a square (colorType='drag'). If they dragged from an empty square, the color would auto-increment to a new color. Clicks on individual squares cycle through colors, so we expect many more clicks than drags.\n",
    "- People may also overwrite previously colored squares. Therefore the recording of one particular chunk may span several color events, and may also be distributed among other coloring events unrelated to that chunk.\n",
    "\n",
    "- For each coloring event, we record the squares changed, the new color group (1-8), the number of chunks currently highlighted (number of colors on shape not including the default grey), and timing data.\n",
    "\n",
    "\n"
   ]
  },
  {
   "cell_type": "code",
   "execution_count": null,
   "metadata": {},
   "outputs": [],
   "source": [
    "# how many grid-squares selected?\n",
    "\n",
    "sns.scatterplot(data=df_color, x='relativeTrialDuration', y='nSquaresSelected')"
   ]
  },
  {
   "cell_type": "code",
   "execution_count": null,
   "metadata": {},
   "outputs": [],
   "source": [
    "# do people highlight the largest chunks first?\n",
    "# although- nChunksHighlighted isn't the same as finishing a chunk. \n",
    "# e.g. nChunks hilighted stays the same if you just extend a chunk a little bit. So larger n will be smaller\n",
    "\n",
    "fig = plt.figure(figsize=(10,6))\n",
    "sns.set_context('poster')\n",
    "sns.set_style('whitegrid', {'legend':False})\n",
    "sns.set(style=\"ticks\", rc={\"lines.linewidth\": 0.7})\n",
    "sns.pointplot(data=df_color, x='nChunksHighlighted', y='nSquaresSelected')\n",
    "#sns.swarmplot(data=df_color, x='nChunksHighlighted', y='nSquaresSelected')"
   ]
  },
  {
   "cell_type": "code",
   "execution_count": null,
   "metadata": {},
   "outputs": [],
   "source": []
  },
  {
   "cell_type": "markdown",
   "metadata": {},
   "source": [
    "## Perceptual chunks as predictors of difficulty/ complexity"
   ]
  },
  {
   "cell_type": "markdown",
   "metadata": {},
   "source": [
    "### Number of perceptual chunks in each structure\n",
    "\n",
    "This is a potential measure of structure difficulty, particularly for early trials where we expect perceptual decompositions to more strongly structure participant's plans.\n",
    "I'd predict that structures with a greater number of perceptual chunks require more extensive planning."
   ]
  },
  {
   "cell_type": "code",
   "execution_count": null,
   "metadata": {},
   "outputs": [],
   "source": [
    "fig = plt.figure(figsize=(10,6))\n",
    "sns.set_context('poster')\n",
    "sns.set_style('whitegrid', {'legend':False})\n",
    "sns.set(style=\"ticks\", rc={\"lines.linewidth\": 0.7})\n",
    "g = sns.FacetGrid(df_trial, col=\"targetName\", col_order=targets)\n",
    "g.map(sns.countplot, \"nChunksHighlighted\", order=range(2,9));"
   ]
  },
  {
   "cell_type": "code",
   "execution_count": null,
   "metadata": {},
   "outputs": [],
   "source": [
    "fig = plt.figure(figsize=(10,6))\n",
    "sns.set_context('poster')\n",
    "sns.set_style('whitegrid', {'legend':False})\n",
    "sns.set(style=\"ticks\", rc={\"lines.linewidth\": 0.7})\n",
    "sns.barplot(data=df_trial, y='nChunksHighlighted',x='targetName', order=targets)"
   ]
  },
  {
   "cell_type": "code",
   "execution_count": null,
   "metadata": {},
   "outputs": [],
   "source": [
    "fig = plt.figure(figsize=(10,6))\n",
    "sns.set_context('poster')\n",
    "sns.set_style('whitegrid', {'legend':False})\n",
    "sns.set(style=\"ticks\", rc={\"lines.linewidth\": 0.7})\n",
    "sns.swarmplot(data=df_trial, y='nChunksHighlighted',x='targetName', order=targets)"
   ]
  },
  {
   "cell_type": "code",
   "execution_count": null,
   "metadata": {},
   "outputs": [],
   "source": []
  },
  {
   "cell_type": "markdown",
   "metadata": {},
   "source": [
    "### Comparing perceptual chunks with building procedures"
   ]
  },
  {
   "cell_type": "code",
   "execution_count": 102,
   "metadata": {},
   "outputs": [],
   "source": [
    "def chunks_from_KMeans(chunks,\n",
    "                       k_values = [10, 20],\n",
    "                       thresholds = [0.4]):\n",
    "\n",
    "    kms = {}\n",
    "\n",
    "    df_kms = pd.DataFrame()\n",
    "\n",
    "    for target in targets:\n",
    "\n",
    "        kms[target] = {}\n",
    "\n",
    "        for n_cluster in k_values:\n",
    "\n",
    "            feature_mat = np.array(chunks[target])\n",
    "\n",
    "            # get the mean number of chunks for that structure\n",
    "            meanNChunks = np.round(df_trial.groupby('targetName')['nChunksHighlighted'].mean()).astype(int).to_dict()\n",
    "\n",
    "            # group into n clusters where n is the mean amount of chunks for that structure\n",
    "            # kmeans = KMeans(n_clusters=meanNChunks[target], random_state=0).fit(feature_mat)\n",
    "            kms[target][n_cluster] = KMeans(n_clusters=n_cluster, random_state=0).fit(feature_mat)\n",
    "\n",
    "            for threshold in thresholds:\n",
    "\n",
    "                df_kms = df_kms.append(\n",
    "                    {\n",
    "                        'cluster_method': 'k-means',\n",
    "                        'cluster_object': kms[target][n_cluster],\n",
    "                        'targetName': target,\n",
    "                        'n_cluster': n_cluster,\n",
    "                        'cluster_centers': kms[target][n_cluster].cluster_centers_,\n",
    "                        'chunks': (kms[target][n_cluster].cluster_centers_>=threshold)*1,\n",
    "                        'threshold': threshold,\n",
    "                        'inertia': kms[target][n_cluster].inertia_,\n",
    "\n",
    "                    },\n",
    "                    ignore_index=True\n",
    "                )\n",
    "                \n",
    "                \n",
    "    return df_kms\n",
    "            \n",
    "\n",
    "def chunks_from_affinity_prop(feature_mats, damping_values = [0.74]):\n",
    "\n",
    "    clusters = {}\n",
    "    df_AP = pd.DataFrame()\n",
    "\n",
    "    for target in targets:\n",
    "        \n",
    "        clusters[target] = {}\n",
    "\n",
    "        for d in damping_values:\n",
    "\n",
    "            clusters[target][d] = AffinityPropagation(damping=d).fit(feature_mats[target])\n",
    "            \n",
    "            df_AP = df_AP.append(\n",
    "                    {\n",
    "                        'cluster_method': 'affinity_propagation',\n",
    "                        'cluster_object':  clusters[target][d],\n",
    "                        'targetName': target,\n",
    "                        'n_cluster': len(clusters[target][d].cluster_centers_indices_),\n",
    "                        'chunks': clusters[target][d].cluster_centers_,\n",
    "                        'damping': d,\n",
    "\n",
    "                    },\n",
    "                    ignore_index=True\n",
    "                )\n",
    "            \n",
    "            \n",
    "    return df_AP\n",
    "\n",
    "\n",
    "\n",
    "        #     sorted_chunks = feature_mat[np.argsort(kmeans.labels_),:]"
   ]
  },
  {
   "cell_type": "markdown",
   "metadata": {},
   "source": [
    "#### Create dictionaries of chunks (for k-means), and distance matrices between chunks (for affinity propagation)"
   ]
  },
  {
   "cell_type": "code",
   "execution_count": 103,
   "metadata": {},
   "outputs": [],
   "source": [
    "def addPerceptualChunks(chunk_list, decomposition, group_number):\n",
    "    '''\n",
    "    Checks whether a chunk with that group number exists in the decomposition and adds it to chunk_list \n",
    "    '''\n",
    "    chunk = (decomposition==group_number)*1\n",
    "    if chunk.any():\n",
    "        chunk_list.append(chunk)"
   ]
  },
  {
   "cell_type": "code",
   "execution_count": 104,
   "metadata": {},
   "outputs": [],
   "source": [
    "# for each structure, throw all chunks from all decompositions into a giant list\n",
    "\n",
    "perceptual_chunks = {}\n",
    "\n",
    "for target in targets:\n",
    "    \n",
    "    perceptual_chunks[target] = []\n",
    "    \n",
    "    for group in range(1,9):\n",
    "        df_trial[df_trial.targetName==target].structureGrid.apply(\\\n",
    "            lambda decomposition: addPerceptualChunks(perceptual_chunks[target],\n",
    "                                                                        decomposition,\n",
    "                                                                        group))\n"
   ]
  },
  {
   "cell_type": "code",
   "execution_count": 105,
   "metadata": {},
   "outputs": [],
   "source": [
    "# create distance matrices between chunks within each structure\n",
    "\n",
    "dmats = {}\n",
    "chunks = {}\n",
    "\n",
    "for target in targets:\n",
    "    \n",
    "    chunks[target] = [chunk.flatten() for chunk in perceptual_chunks[target]] \n",
    "    \n",
    "    dmats[target] = np.zeros((len(chunks[target]), len(chunks[target])))\n",
    "    \n",
    "    for i, chunk_i in enumerate(chunks[target]):\n",
    "        for j, chunk_j in enumerate(chunks[target]):\n",
    "            dmats[target][i,j] = distance.euclidean(chunk_i, chunk_j)\n"
   ]
  },
  {
   "cell_type": "markdown",
   "metadata": {},
   "source": [
    "#### Cluster using affinity propagation. \n",
    "Provides us with exemplar, and allows us to filter out clusters with few members"
   ]
  },
  {
   "cell_type": "code",
   "execution_count": 106,
   "metadata": {},
   "outputs": [],
   "source": [
    "# create arrays (nsamples, nfeatures)\n",
    "\n",
    "feature_mats = {}\n",
    "\n",
    "for target in targets:\n",
    "    \n",
    "    flat_chunks = [chunk.flatten() for chunk in perceptual_chunks[target]]\n",
    "    feature_mats[target] = np.array(flat_chunks)"
   ]
  },
  {
   "cell_type": "code",
   "execution_count": 107,
   "metadata": {},
   "outputs": [],
   "source": [
    "# # create clustering for each target\n",
    "\n",
    "# clusters = {}\n",
    "# for target in targets:\n",
    "#     clusters[target] = AffinityPropagation(damping=0.75).fit(feature_mats[target])\n",
    "    "
   ]
  },
  {
   "cell_type": "markdown",
   "metadata": {},
   "source": [
    "#### Do clustering"
   ]
  },
  {
   "cell_type": "code",
   "execution_count": 108,
   "metadata": {},
   "outputs": [],
   "source": [
    "# Do clustering\n",
    "\n",
    "df_ap = chunks_from_affinity_prop(feature_mats, damping_values = [0.74])\n",
    "df_kms = chunks_from_KMeans(chunks)\n",
    "\n",
    "df_chunk_clusters = df_ap.append(df_kms).reset_index()\n"
   ]
  },
  {
   "cell_type": "markdown",
   "metadata": {},
   "source": [
    "#### Load in building procedures from block_silhouette, and find all world-deltas for all reconstructions"
   ]
  },
  {
   "cell_type": "code",
   "execution_count": 109,
   "metadata": {},
   "outputs": [],
   "source": [
    "# load in procedural data from silhouette experiment\n",
    "\n",
    "silhouette_world_path = os.path.join(silhouette_csv_dir,'procedural_chunks_world_states_{}.p'.format('Exp2Pilot3_all'))\n",
    "df_proc_world_states = pickle.load( open(silhouette_world_path, \"rb\" ))\n",
    "\n",
    "\n",
    "silhouette_trial_path = os.path.join(silhouette_csv_dir,'block_silhouette_{}_good.csv'.format('Exp2Pilot3_all'))\n",
    "df_proc_trial = pd.read_csv(silhouette_trial_path)\n"
   ]
  },
  {
   "cell_type": "code",
   "execution_count": 114,
   "metadata": {},
   "outputs": [],
   "source": [
    "# find all chunks for all structures (so we can search for the structures that involve this chunk)\n",
    "\n",
    "chunk_range = range(2,15)\n",
    "\n",
    "df_target_grouped = df_proc_world_states.groupby(['gameID','targetName','repetition'])['flatDiscreteWorldStr']\n",
    "\n",
    "df_proc_chunks = df_proc_trial.copy()\n",
    "\n",
    "for chunk_size in chunk_range:\n",
    "\n",
    "    # for each reconstruction, get a list of ngrams of that length\n",
    "    df_ngrams = df_target_grouped.agg(lambda ws: list(nltk.ngrams(list(ws), chunk_size))).reset_index()\n",
    "    \n",
    "    # find the chunks (world deltas) from those ngrams   \n",
    "    df_ngrams['world_diff'] = df_ngrams['flatDiscreteWorldStr'].apply(lambda ngrams:\n",
    "                                     [\"\".join([str(int(a)) for a in \n",
    "                                      list(\n",
    "                                          np.logical_xor(np.array(list(ngram[-1])).astype(np.bool), \n",
    "                                          np.array(list(ngram[0])).astype(np.bool))\n",
    "                                          )])\n",
    "                                     for ngram in ngrams])\n",
    "      \n",
    "    df_ngrams = df_ngrams.rename(columns={\"flatDiscreteWorldStr\": str(chunk_size)+'_grams',\n",
    "                                          \"world_diff\": str(chunk_size)+'_chunks'})\n",
    "    \n",
    "    df_proc_chunks = df_proc_chunks.merge(df_ngrams, how='left', on=['gameID','targetName','repetition'])"
   ]
  },
  {
   "cell_type": "code",
   "execution_count": 115,
   "metadata": {},
   "outputs": [],
   "source": [
    "# get the chunks of all window sizes (if that window size exists), then combine into one big list of all sizes\n",
    "\n",
    "df_proc_chunks['all_chunks'] = df_proc_chunks[[(str(chunk_window)+'_chunks') \\\n",
    "                    for chunk_window in chunk_range if (str(chunk_window)+'_chunks') in df_proc_chunks.columns]]\\\n",
    ".apply(lambda row: [chunk for chunks in list(row) for chunk in chunks], axis=1)\n"
   ]
  },
  {
   "cell_type": "markdown",
   "metadata": {},
   "source": [
    "#### Search building procedures for world-deltas identified in perceptual chunks"
   ]
  },
  {
   "cell_type": "code",
   "execution_count": 155,
   "metadata": {},
   "outputs": [
    {
     "name": "stderr",
     "output_type": "stream",
     "text": [
      "/Users/will/anaconda3/lib/python3.7/site-packages/ipykernel_launcher.py:51: RuntimeWarning: invalid value encountered in long_scalars\n",
      "/Users/will/anaconda3/lib/python3.7/site-packages/ipykernel_launcher.py:51: RuntimeWarning: invalid value encountered in long_scalars\n"
     ]
    }
   ],
   "source": [
    "# for each exemplar with more than 3 members, count proportion of reconstructions in pre, and number of reconstructions in post\n",
    "\n",
    "cluster_counts = pd.DataFrame()\n",
    "\n",
    "n_cluster = 20\n",
    "\n",
    "for target in targets:\n",
    "    \n",
    "#     row = df_chunk_clusters[(df_chunk_clusters.targetName == target) & \n",
    "#                             (df_chunk_clusters.cluster_method=='affinity_propagation') & \n",
    "#                             (df_chunk_clusters.damping==0.74)].reset_index()\n",
    "    \n",
    "    row = df_chunk_clusters[(df_chunk_clusters.targetName == target) & \n",
    "                            (df_chunk_clusters.cluster_method=='k-means') & \n",
    "                            (df_chunk_clusters.n_cluster==n_cluster)].reset_index()\n",
    "    \n",
    "    \n",
    "    labels = row.cluster_object[0].labels_\n",
    "    \n",
    "    for cluster_number, exemplar in enumerate(row.chunks[0]):\n",
    "        \n",
    "        chunk_array = exemplar.reshape((8,8))\n",
    "        \n",
    "        chunk_str = bc.cropped_chunk_to_string(chunk_array)\n",
    "        \n",
    "        n_cluster_members = sum(labels == cluster_number)\n",
    "        \n",
    "        if n_cluster_members >= 3:\n",
    "            \n",
    "            props = {}\n",
    "        \n",
    "            for phase in ['pre','post']:\n",
    "\n",
    "                subset_for_target = df_proc_chunks[(df_proc_chunks.blockFell == False) &\n",
    "                                                   (df_proc_chunks.targetName == target) &\n",
    "                                                   (df_proc_chunks.phase == phase)]\n",
    "\n",
    "                subset_with_chunk = subset_for_target[(subset_for_target['all_chunks']\\\n",
    "                                                       .apply(lambda chunks: chunk_str in chunks))]\n",
    "\n",
    "                row = {\n",
    "                    'targetName': target,\n",
    "                    'phase': phase,\n",
    "                    'chunk_str': chunk_str,\n",
    "                    'chunk_array': chunk_array,\n",
    "                    'n_cluster_members': n_cluster_members,\n",
    "    #                 'reconstructions_with_chunk': list(subset_with_chunk['discreteWorld']),\n",
    "                    'total_phase_reconstructions': subset_for_target.shape[0],\n",
    "                    'n_with_chunk': subset_with_chunk.shape[0],\n",
    "                    'chunk_id': cluster_number,\n",
    "                    'chunk_height': np.sum(np.dot(np.sum(chunk_array, axis=0),np.arange(8)))/np.sum(chunk_array) + 0.5,\n",
    "                    'proportion_with_chunk': subset_with_chunk.shape[0] /subset_for_target.shape[0]\n",
    "\n",
    "                }\n",
    "                \n",
    "                props[phase] = subset_with_chunk.shape[0] /subset_for_target.shape[0]\n",
    "\n",
    "                cluster_counts = cluster_counts.append(row,ignore_index=True)\n",
    "                \n",
    "            cluster_counts.loc[(cluster_counts.targetName == target) & (cluster_counts.chunk_str == chunk_str), 'difference'] = props['post'] - props['pre']\n",
    "\n"
   ]
  },
  {
   "cell_type": "markdown",
   "metadata": {},
   "source": [
    "### How often are the shapes described by percepta\n",
    "\n",
    "Clustering has given us a set of 'perceptual chunks'. We now look at building procedures to see how often reconstructions contained each chunk. If consecutive actions yield a world-delta that is the same shape as a perceptual chunk, we say that that chunk was built."
   ]
  },
  {
   "cell_type": "code",
   "execution_count": 117,
   "metadata": {},
   "outputs": [
    {
     "data": {
      "text/plain": [
       "<matplotlib.axes._subplots.AxesSubplot at 0x7fa2e2394350>"
      ]
     },
     "execution_count": 117,
     "metadata": {},
     "output_type": "execute_result"
    },
    {
     "data": {
      "image/png": "[encoded data removed]",
      "text/plain": [
       "<Figure size 720x432 with 1 Axes>"
      ]
     },
     "metadata": {},
     "output_type": "display_data"
    }
   ],
   "source": [
    "# Were perceptual chunks built more in the first or final repetition? By structure\n",
    "\n",
    "fig = plt.figure(figsize=(10,6))\n",
    "sns.set_context('poster')\n",
    "sns.set_style('whitegrid', {'legend':False})\n",
    "sns.set(style=\"ticks\", rc={\"lines.linewidth\": 0.7})\n",
    "sns.pointplot(data=cluster_counts, x='phase', y='proportion_with_chunk', hue='targetName')"
   ]
  },
  {
   "cell_type": "code",
   "execution_count": 118,
   "metadata": {
    "scrolled": true
   },
   "outputs": [
    {
     "data": {
      "text/plain": [
       "<seaborn.axisgrid.FacetGrid at 0x7fa2e9c3e750>"
      ]
     },
     "execution_count": 118,
     "metadata": {},
     "output_type": "execute_result"
    },
    {
     "data": {
      "text/plain": [
       "<Figure size 1008x720 with 0 Axes>"
      ]
     },
     "metadata": {},
     "output_type": "display_data"
    },
    {
     "data": {
      "image/png": "[encoded data removed]",
      "text/plain": [
       "<Figure size 1728x216 with 8 Axes>"
      ]
     },
     "metadata": {},
     "output_type": "display_data"
    }
   ],
   "source": [
    "# How many chunks were build more, and how many were built less?\n",
    "\n",
    "fig = plt.figure(figsize=(14,10))\n",
    "sns.set_context('poster')\n",
    "sns.set_style('whitegrid', {'legend':False})\n",
    "sns.set(style=\"ticks\", rc={\"lines.linewidth\": 0.7})\n",
    "g = sns.FacetGrid(data=cluster_counts, col=\"targetName\", hue=\"chunk_str\", col_order=targets)\n",
    "g.map(sns.pointplot,\"phase\",\"proportion_with_chunk\", order=['pre','post'])"
   ]
  },
  {
   "cell_type": "code",
   "execution_count": 119,
   "metadata": {},
   "outputs": [
    {
     "data": {
      "text/plain": [
       "<seaborn.axisgrid.FacetGrid at 0x7fa2f47a9890>"
      ]
     },
     "execution_count": 119,
     "metadata": {},
     "output_type": "execute_result"
    },
    {
     "data": {
      "text/plain": [
       "<Figure size 1008x720 with 0 Axes>"
      ]
     },
     "metadata": {},
     "output_type": "display_data"
    },
    {
     "data": {
      "image/png": "[encoded data removed]",
      "text/plain": [
       "<Figure size 1728x216 with 8 Axes>"
      ]
     },
     "metadata": {},
     "output_type": "display_data"
    }
   ],
   "source": [
    "# How many chunks were build more, and how many were built less?\n",
    "\n",
    "fig = plt.figure(figsize=(14,10))\n",
    "sns.set_context('poster')\n",
    "sns.set_style('whitegrid', {'legend':False})\n",
    "sns.set(style=\"ticks\", rc={\"lines.linewidth\": 0.7})\n",
    "# just select one phase\n",
    "g = sns.FacetGrid(data=cluster_counts[cluster_counts.phase=='post'], col=\"targetName\", col_order=targets)\n",
    "g.map(sns.distplot,\"difference\")"
   ]
  },
  {
   "cell_type": "code",
   "execution_count": 120,
   "metadata": {},
   "outputs": [
    {
     "data": {
      "text/plain": [
       "<matplotlib.axes._subplots.AxesSubplot at 0x7fa2ec01e750>"
      ]
     },
     "execution_count": 120,
     "metadata": {},
     "output_type": "execute_result"
    },
    {
     "data": {
      "image/png": "[encoded data removed]",
      "text/plain": [
       "<Figure size 432x288 with 1 Axes>"
      ]
     },
     "metadata": {},
     "output_type": "display_data"
    }
   ],
   "source": [
    "sns.distplot(cluster_counts[cluster_counts.phase=='post']['difference'], rug=True)"
   ]
  },
  {
   "cell_type": "code",
   "execution_count": 122,
   "metadata": {},
   "outputs": [
    {
     "data": {
      "text/plain": [
       "<matplotlib.axes._subplots.AxesSubplot at 0x7fa2f03ebe10>"
      ]
     },
     "execution_count": 122,
     "metadata": {},
     "output_type": "execute_result"
    },
    {
     "data": {
      "image/png": "[encoded data removed]",
      "text/plain": [
       "<Figure size 432x288 with 1 Axes>"
      ]
     },
     "metadata": {},
     "output_type": "display_data"
    }
   ],
   "source": [
    "sns.swarmplot(y='difference',x='targetName', data=cluster_counts[cluster_counts.phase=='post'], dodge=True)"
   ]
  },
  {
   "cell_type": "code",
   "execution_count": 157,
   "metadata": {},
   "outputs": [],
   "source": [
    "def draw_row_chunk(row):\n",
    "    axs[row.name].axis('off')\n",
    "    chunk = bc.cropped_chunk_to_string(row.chunk_array)\n",
    "    drawing.show_chunk([chunk], axs[row.name], target=row.targetName)"
   ]
  },
  {
   "cell_type": "code",
   "execution_count": 158,
   "metadata": {
    "scrolled": false
   },
   "outputs": [
    {
     "data": {
      "image/png": "[encoded data removed]",
      "text/plain": [
       "<Figure size 288x10080 with 35 Axes>"
      ]
     },
     "metadata": {},
     "output_type": "display_data"
    }
   ],
   "source": [
    "# show chunks built less over time \n",
    "df_negative_diffs = cluster_counts[(cluster_counts.phase=='post') & (cluster_counts.difference < 0)].reset_index()\n",
    "n_chunks = df_negative_diffs.shape[0]\n",
    "fig, axs = plt.subplots(n_chunks, figsize=(4,n_chunks*4)) \n",
    "\n",
    "_ = df_negative_diffs.apply(lambda row: draw_row_chunk(row), axis=1)\n"
   ]
  },
  {
   "cell_type": "code",
   "execution_count": 159,
   "metadata": {
    "scrolled": false
   },
   "outputs": [
    {
     "data": {
      "image/png": "[encoded data removed]",
      "text/plain": [
       "<Figure size 288x8640 with 30 Axes>"
      ]
     },
     "metadata": {},
     "output_type": "display_data"
    }
   ],
   "source": [
    "# show chunks built a lot more over time \n",
    "df_negative_diffs = cluster_counts[(cluster_counts.phase=='post') & (cluster_counts.difference > 0.15)].reset_index()\n",
    "n_chunks = df_negative_diffs.shape[0]\n",
    "fig, axs = plt.subplots(n_chunks, figsize=(4,n_chunks*4)) \n",
    "\n",
    "_ = df_negative_diffs.apply(lambda row: draw_row_chunk(row), axis=1)"
   ]
  },
  {
   "cell_type": "code",
   "execution_count": 164,
   "metadata": {},
   "outputs": [
    {
     "data": {
      "text/plain": [
       "<matplotlib.axes._subplots.AxesSubplot at 0x7fa2cd961610>"
      ]
     },
     "execution_count": 164,
     "metadata": {},
     "output_type": "execute_result"
    },
    {
     "data": {
      "image/png": "[encoded data removed]",
      "text/plain": [
       "<Figure size 432x288 with 1 Axes>"
      ]
     },
     "metadata": {},
     "output_type": "display_data"
    }
   ],
   "source": [
    "sns.scatterplot(data=cluster_counts, x='difference',y='chunk_height')"
   ]
  },
  {
   "cell_type": "code",
   "execution_count": 90,
   "metadata": {},
   "outputs": [
    {
     "data": {
      "text/html": [
       "<div>\n",
       "<style scoped>\n",
       "    .dataframe tbody tr th:only-of-type {\n",
       "        vertical-align: middle;\n",
       "    }\n",
       "\n",
       "    .dataframe tbody tr th {\n",
       "        vertical-align: top;\n",
       "    }\n",
       "\n",
       "    .dataframe thead th {\n",
       "        text-align: right;\n",
       "    }\n",
       "</style>\n",
       "<table border=\"1\" class=\"dataframe\">\n",
       "  <thead>\n",
       "    <tr style=\"text-align: right;\">\n",
       "      <th></th>\n",
       "      <th>index</th>\n",
       "      <th>chunk_array</th>\n",
       "      <th>chunk_id</th>\n",
       "      <th>chunk_str</th>\n",
       "      <th>n_cluster_members</th>\n",
       "      <th>n_with_chunk</th>\n",
       "      <th>phase</th>\n",
       "      <th>proportion_with_chunk</th>\n",
       "      <th>targetName</th>\n",
       "      <th>total_phase_reconstructions</th>\n",
       "      <th>difference</th>\n",
       "    </tr>\n",
       "  </thead>\n",
       "  <tbody>\n",
       "    <tr>\n",
       "      <th>0</th>\n",
       "      <td>15</td>\n",
       "      <td>[[0, 0, 0, 0, 0, 0, 0, 0], [0, 0, 0, 0, 0, 0, ...</td>\n",
       "      <td>7.0</td>\n",
       "      <td>0000000000000000000000000000000000000000000000...</td>\n",
       "      <td>12.0</td>\n",
       "      <td>7.0</td>\n",
       "      <td>post</td>\n",
       "      <td>0.073684</td>\n",
       "      <td>hand_selected_004</td>\n",
       "      <td>95.0</td>\n",
       "      <td>-0.073684</td>\n",
       "    </tr>\n",
       "    <tr>\n",
       "      <th>1</th>\n",
       "      <td>21</td>\n",
       "      <td>[[1, 1, 1, 1, 0, 0, 0, 0], [1, 1, 1, 1, 0, 0, ...</td>\n",
       "      <td>0.0</td>\n",
       "      <td>0000000000000000000000000000000000000000000000...</td>\n",
       "      <td>33.0</td>\n",
       "      <td>31.0</td>\n",
       "      <td>post</td>\n",
       "      <td>0.303922</td>\n",
       "      <td>hand_selected_005</td>\n",
       "      <td>102.0</td>\n",
       "      <td>-0.224814</td>\n",
       "    </tr>\n",
       "    <tr>\n",
       "      <th>2</th>\n",
       "      <td>27</td>\n",
       "      <td>[[0, 0, 0, 0, 0, 0, 0, 0], [0, 0, 0, 0, 0, 0, ...</td>\n",
       "      <td>3.0</td>\n",
       "      <td>0000000000000000000000000000000000000000000000...</td>\n",
       "      <td>16.0</td>\n",
       "      <td>24.0</td>\n",
       "      <td>post</td>\n",
       "      <td>0.235294</td>\n",
       "      <td>hand_selected_005</td>\n",
       "      <td>102.0</td>\n",
       "      <td>-0.132522</td>\n",
       "    </tr>\n",
       "    <tr>\n",
       "      <th>3</th>\n",
       "      <td>39</td>\n",
       "      <td>[[0, 0, 0, 0, 0, 0, 0, 0], [0, 0, 0, 0, 0, 0, ...</td>\n",
       "      <td>9.0</td>\n",
       "      <td>0000000000000000000000000000000000000000000000...</td>\n",
       "      <td>7.0</td>\n",
       "      <td>4.0</td>\n",
       "      <td>post</td>\n",
       "      <td>0.039216</td>\n",
       "      <td>hand_selected_005</td>\n",
       "      <td>102.0</td>\n",
       "      <td>-0.041244</td>\n",
       "    </tr>\n",
       "    <tr>\n",
       "      <th>4</th>\n",
       "      <td>53</td>\n",
       "      <td>[[0, 0, 0, 0, 0, 0, 0, 0], [0, 0, 0, 0, 0, 0, ...</td>\n",
       "      <td>6.0</td>\n",
       "      <td>0000000000000000000000000000000000000000000000...</td>\n",
       "      <td>41.0</td>\n",
       "      <td>61.0</td>\n",
       "      <td>post</td>\n",
       "      <td>0.762500</td>\n",
       "      <td>hand_selected_006</td>\n",
       "      <td>80.0</td>\n",
       "      <td>-0.021284</td>\n",
       "    </tr>\n",
       "    <tr>\n",
       "      <th>5</th>\n",
       "      <td>69</td>\n",
       "      <td>[[0, 0, 0, 0, 0, 0, 0, 0], [1, 1, 1, 1, 0, 0, ...</td>\n",
       "      <td>4.0</td>\n",
       "      <td>0000000000000000000000000000000000000000000000...</td>\n",
       "      <td>22.0</td>\n",
       "      <td>16.0</td>\n",
       "      <td>post</td>\n",
       "      <td>0.183908</td>\n",
       "      <td>hand_selected_008</td>\n",
       "      <td>87.0</td>\n",
       "      <td>-0.018624</td>\n",
       "    </tr>\n",
       "    <tr>\n",
       "      <th>6</th>\n",
       "      <td>75</td>\n",
       "      <td>[[0, 0, 0, 0, 0, 0, 0, 0], [0, 0, 0, 0, 0, 0, ...</td>\n",
       "      <td>7.0</td>\n",
       "      <td>0000000000000000000000000000000000000000000000...</td>\n",
       "      <td>16.0</td>\n",
       "      <td>0.0</td>\n",
       "      <td>post</td>\n",
       "      <td>0.000000</td>\n",
       "      <td>hand_selected_008</td>\n",
       "      <td>87.0</td>\n",
       "      <td>-0.012658</td>\n",
       "    </tr>\n",
       "    <tr>\n",
       "      <th>7</th>\n",
       "      <td>79</td>\n",
       "      <td>[[0, 0, 0, 0, 1, 1, 0, 0], [0, 0, 0, 0, 0, 0, ...</td>\n",
       "      <td>9.0</td>\n",
       "      <td>0000000000000000000000000000000000000000000000...</td>\n",
       "      <td>26.0</td>\n",
       "      <td>0.0</td>\n",
       "      <td>post</td>\n",
       "      <td>0.000000</td>\n",
       "      <td>hand_selected_008</td>\n",
       "      <td>87.0</td>\n",
       "      <td>-0.012658</td>\n",
       "    </tr>\n",
       "    <tr>\n",
       "      <th>8</th>\n",
       "      <td>113</td>\n",
       "      <td>[[0, 0, 0, 0, 0, 0, 0, 0], [1, 1, 1, 1, 0, 0, ...</td>\n",
       "      <td>6.0</td>\n",
       "      <td>0000000000000000000000000000000000000000000000...</td>\n",
       "      <td>17.0</td>\n",
       "      <td>0.0</td>\n",
       "      <td>post</td>\n",
       "      <td>0.000000</td>\n",
       "      <td>hand_selected_011</td>\n",
       "      <td>86.0</td>\n",
       "      <td>-0.051282</td>\n",
       "    </tr>\n",
       "    <tr>\n",
       "      <th>9</th>\n",
       "      <td>123</td>\n",
       "      <td>[[1, 1, 1, 1, 1, 1, 1, 1], [0, 0, 0, 0, 1, 1, ...</td>\n",
       "      <td>1.0</td>\n",
       "      <td>0000000000000000000000000000000000000000000000...</td>\n",
       "      <td>7.0</td>\n",
       "      <td>0.0</td>\n",
       "      <td>post</td>\n",
       "      <td>0.000000</td>\n",
       "      <td>hand_selected_012</td>\n",
       "      <td>93.0</td>\n",
       "      <td>-0.010989</td>\n",
       "    </tr>\n",
       "    <tr>\n",
       "      <th>10</th>\n",
       "      <td>125</td>\n",
       "      <td>[[0, 0, 0, 0, 0, 0, 0, 0], [0, 0, 0, 0, 0, 0, ...</td>\n",
       "      <td>2.0</td>\n",
       "      <td>0000000000000000000000000000000000000000000000...</td>\n",
       "      <td>46.0</td>\n",
       "      <td>2.0</td>\n",
       "      <td>post</td>\n",
       "      <td>0.021505</td>\n",
       "      <td>hand_selected_012</td>\n",
       "      <td>93.0</td>\n",
       "      <td>-0.000473</td>\n",
       "    </tr>\n",
       "    <tr>\n",
       "      <th>11</th>\n",
       "      <td>127</td>\n",
       "      <td>[[1, 1, 1, 1, 1, 1, 1, 1], [0, 0, 0, 0, 0, 0, ...</td>\n",
       "      <td>3.0</td>\n",
       "      <td>0000000000000000000000000000000000000000000000...</td>\n",
       "      <td>15.0</td>\n",
       "      <td>2.0</td>\n",
       "      <td>post</td>\n",
       "      <td>0.021505</td>\n",
       "      <td>hand_selected_012</td>\n",
       "      <td>93.0</td>\n",
       "      <td>-0.066407</td>\n",
       "    </tr>\n",
       "    <tr>\n",
       "      <th>12</th>\n",
       "      <td>129</td>\n",
       "      <td>[[0, 0, 0, 0, 0, 0, 0, 0], [0, 0, 0, 0, 0, 0, ...</td>\n",
       "      <td>4.0</td>\n",
       "      <td>0000000000000000000000000000000000000000000000...</td>\n",
       "      <td>21.0</td>\n",
       "      <td>16.0</td>\n",
       "      <td>post</td>\n",
       "      <td>0.172043</td>\n",
       "      <td>hand_selected_012</td>\n",
       "      <td>93.0</td>\n",
       "      <td>-0.003781</td>\n",
       "    </tr>\n",
       "    <tr>\n",
       "      <th>13</th>\n",
       "      <td>135</td>\n",
       "      <td>[[1, 1, 1, 1, 0, 0, 0, 0], [0, 0, 0, 0, 0, 0, ...</td>\n",
       "      <td>7.0</td>\n",
       "      <td>0000000000000000000000000000000000000000000000...</td>\n",
       "      <td>30.0</td>\n",
       "      <td>70.0</td>\n",
       "      <td>post</td>\n",
       "      <td>0.752688</td>\n",
       "      <td>hand_selected_012</td>\n",
       "      <td>93.0</td>\n",
       "      <td>-0.016543</td>\n",
       "    </tr>\n",
       "    <tr>\n",
       "      <th>14</th>\n",
       "      <td>139</td>\n",
       "      <td>[[0, 0, 0, 0, 0, 0, 0, 0], [0, 0, 0, 0, 0, 0, ...</td>\n",
       "      <td>9.0</td>\n",
       "      <td>0000000000000000000000000000000000000000000000...</td>\n",
       "      <td>21.0</td>\n",
       "      <td>16.0</td>\n",
       "      <td>post</td>\n",
       "      <td>0.172043</td>\n",
       "      <td>hand_selected_012</td>\n",
       "      <td>93.0</td>\n",
       "      <td>-0.113671</td>\n",
       "    </tr>\n",
       "    <tr>\n",
       "      <th>15</th>\n",
       "      <td>155</td>\n",
       "      <td>[[0, 0, 0, 0, 0, 0, 0, 0], [0, 0, 0, 0, 0, 0, ...</td>\n",
       "      <td>7.0</td>\n",
       "      <td>0000000000000000000000000000000000000000000000...</td>\n",
       "      <td>5.0</td>\n",
       "      <td>3.0</td>\n",
       "      <td>post</td>\n",
       "      <td>0.030303</td>\n",
       "      <td>hand_selected_016</td>\n",
       "      <td>99.0</td>\n",
       "      <td>-0.058586</td>\n",
       "    </tr>\n",
       "    <tr>\n",
       "      <th>16</th>\n",
       "      <td>157</td>\n",
       "      <td>[[0, 0, 0, 0, 0, 0, 0, 0], [0, 0, 0, 0, 0, 0, ...</td>\n",
       "      <td>8.0</td>\n",
       "      <td>0000000000000000000000000000000000000000000000...</td>\n",
       "      <td>11.0</td>\n",
       "      <td>8.0</td>\n",
       "      <td>post</td>\n",
       "      <td>0.080808</td>\n",
       "      <td>hand_selected_016</td>\n",
       "      <td>99.0</td>\n",
       "      <td>-0.041414</td>\n",
       "    </tr>\n",
       "    <tr>\n",
       "      <th>17</th>\n",
       "      <td>159</td>\n",
       "      <td>[[0, 0, 0, 0, 0, 0, 0, 0], [0, 1, 1, 0, 0, 0, ...</td>\n",
       "      <td>9.0</td>\n",
       "      <td>0000000000000000000000000000000000000000000000...</td>\n",
       "      <td>12.0</td>\n",
       "      <td>18.0</td>\n",
       "      <td>post</td>\n",
       "      <td>0.181818</td>\n",
       "      <td>hand_selected_016</td>\n",
       "      <td>99.0</td>\n",
       "      <td>-0.062626</td>\n",
       "    </tr>\n",
       "  </tbody>\n",
       "</table>\n",
       "</div>"
      ],
      "text/plain": [
       "    index                                        chunk_array  chunk_id  \\\n",
       "0      15  [[0, 0, 0, 0, 0, 0, 0, 0], [0, 0, 0, 0, 0, 0, ...       7.0   \n",
       "1      21  [[1, 1, 1, 1, 0, 0, 0, 0], [1, 1, 1, 1, 0, 0, ...       0.0   \n",
       "2      27  [[0, 0, 0, 0, 0, 0, 0, 0], [0, 0, 0, 0, 0, 0, ...       3.0   \n",
       "3      39  [[0, 0, 0, 0, 0, 0, 0, 0], [0, 0, 0, 0, 0, 0, ...       9.0   \n",
       "4      53  [[0, 0, 0, 0, 0, 0, 0, 0], [0, 0, 0, 0, 0, 0, ...       6.0   \n",
       "5      69  [[0, 0, 0, 0, 0, 0, 0, 0], [1, 1, 1, 1, 0, 0, ...       4.0   \n",
       "6      75  [[0, 0, 0, 0, 0, 0, 0, 0], [0, 0, 0, 0, 0, 0, ...       7.0   \n",
       "7      79  [[0, 0, 0, 0, 1, 1, 0, 0], [0, 0, 0, 0, 0, 0, ...       9.0   \n",
       "8     113  [[0, 0, 0, 0, 0, 0, 0, 0], [1, 1, 1, 1, 0, 0, ...       6.0   \n",
       "9     123  [[1, 1, 1, 1, 1, 1, 1, 1], [0, 0, 0, 0, 1, 1, ...       1.0   \n",
       "10    125  [[0, 0, 0, 0, 0, 0, 0, 0], [0, 0, 0, 0, 0, 0, ...       2.0   \n",
       "11    127  [[1, 1, 1, 1, 1, 1, 1, 1], [0, 0, 0, 0, 0, 0, ...       3.0   \n",
       "12    129  [[0, 0, 0, 0, 0, 0, 0, 0], [0, 0, 0, 0, 0, 0, ...       4.0   \n",
       "13    135  [[1, 1, 1, 1, 0, 0, 0, 0], [0, 0, 0, 0, 0, 0, ...       7.0   \n",
       "14    139  [[0, 0, 0, 0, 0, 0, 0, 0], [0, 0, 0, 0, 0, 0, ...       9.0   \n",
       "15    155  [[0, 0, 0, 0, 0, 0, 0, 0], [0, 0, 0, 0, 0, 0, ...       7.0   \n",
       "16    157  [[0, 0, 0, 0, 0, 0, 0, 0], [0, 0, 0, 0, 0, 0, ...       8.0   \n",
       "17    159  [[0, 0, 0, 0, 0, 0, 0, 0], [0, 1, 1, 0, 0, 0, ...       9.0   \n",
       "\n",
       "                                            chunk_str  n_cluster_members  \\\n",
       "0   0000000000000000000000000000000000000000000000...               12.0   \n",
       "1   0000000000000000000000000000000000000000000000...               33.0   \n",
       "2   0000000000000000000000000000000000000000000000...               16.0   \n",
       "3   0000000000000000000000000000000000000000000000...                7.0   \n",
       "4   0000000000000000000000000000000000000000000000...               41.0   \n",
       "5   0000000000000000000000000000000000000000000000...               22.0   \n",
       "6   0000000000000000000000000000000000000000000000...               16.0   \n",
       "7   0000000000000000000000000000000000000000000000...               26.0   \n",
       "8   0000000000000000000000000000000000000000000000...               17.0   \n",
       "9   0000000000000000000000000000000000000000000000...                7.0   \n",
       "10  0000000000000000000000000000000000000000000000...               46.0   \n",
       "11  0000000000000000000000000000000000000000000000...               15.0   \n",
       "12  0000000000000000000000000000000000000000000000...               21.0   \n",
       "13  0000000000000000000000000000000000000000000000...               30.0   \n",
       "14  0000000000000000000000000000000000000000000000...               21.0   \n",
       "15  0000000000000000000000000000000000000000000000...                5.0   \n",
       "16  0000000000000000000000000000000000000000000000...               11.0   \n",
       "17  0000000000000000000000000000000000000000000000...               12.0   \n",
       "\n",
       "    n_with_chunk phase  proportion_with_chunk         targetName  \\\n",
       "0            7.0  post               0.073684  hand_selected_004   \n",
       "1           31.0  post               0.303922  hand_selected_005   \n",
       "2           24.0  post               0.235294  hand_selected_005   \n",
       "3            4.0  post               0.039216  hand_selected_005   \n",
       "4           61.0  post               0.762500  hand_selected_006   \n",
       "5           16.0  post               0.183908  hand_selected_008   \n",
       "6            0.0  post               0.000000  hand_selected_008   \n",
       "7            0.0  post               0.000000  hand_selected_008   \n",
       "8            0.0  post               0.000000  hand_selected_011   \n",
       "9            0.0  post               0.000000  hand_selected_012   \n",
       "10           2.0  post               0.021505  hand_selected_012   \n",
       "11           2.0  post               0.021505  hand_selected_012   \n",
       "12          16.0  post               0.172043  hand_selected_012   \n",
       "13          70.0  post               0.752688  hand_selected_012   \n",
       "14          16.0  post               0.172043  hand_selected_012   \n",
       "15           3.0  post               0.030303  hand_selected_016   \n",
       "16           8.0  post               0.080808  hand_selected_016   \n",
       "17          18.0  post               0.181818  hand_selected_016   \n",
       "\n",
       "    total_phase_reconstructions  difference  \n",
       "0                          95.0   -0.073684  \n",
       "1                         102.0   -0.224814  \n",
       "2                         102.0   -0.132522  \n",
       "3                         102.0   -0.041244  \n",
       "4                          80.0   -0.021284  \n",
       "5                          87.0   -0.018624  \n",
       "6                          87.0   -0.012658  \n",
       "7                          87.0   -0.012658  \n",
       "8                          86.0   -0.051282  \n",
       "9                          93.0   -0.010989  \n",
       "10                         93.0   -0.000473  \n",
       "11                         93.0   -0.066407  \n",
       "12                         93.0   -0.003781  \n",
       "13                         93.0   -0.016543  \n",
       "14                         93.0   -0.113671  \n",
       "15                         99.0   -0.058586  \n",
       "16                         99.0   -0.041414  \n",
       "17                         99.0   -0.062626  "
      ]
     },
     "execution_count": 90,
     "metadata": {},
     "output_type": "execute_result"
    }
   ],
   "source": [
    "cluster_counts[(cluster_counts.phase=='post') & (cluster_counts.difference < 0)].reset_index()"
   ]
  },
  {
   "cell_type": "code",
   "execution_count": null,
   "metadata": {},
   "outputs": [],
   "source": [
    "fig = plt.figure(figsize=(10,6))\n",
    "sns.set_context('poster')\n",
    "sns.set_style('whitegrid', {'legend':False})\n",
    "sns.set(style=\"ticks\", rc={\"lines.linewidth\": 0.7})\n",
    "sns.pointplot(data=cluster_counts, x='phase', y='proportion_with_chunk', hue='targetName')"
   ]
  },
  {
   "cell_type": "code",
   "execution_count": null,
   "metadata": {
    "scrolled": true
   },
   "outputs": [],
   "source": [
    "fig = plt.figure(figsize=(14,10))\n",
    "sns.set_context('poster')\n",
    "sns.set_style('whitegrid', {'legend':False})\n",
    "sns.set(style=\"ticks\", rc={\"lines.linewidth\": 0.7})\n",
    "g = sns.FacetGrid(data=cluster_counts, col=\"targetName\", hue=\"chunk_id\", col_order=targets)\n",
    "g.map(sns.pointplot,\"phase\",\"proportion_with_chunk\", order=['pre','post'])"
   ]
  },
  {
   "cell_type": "code",
   "execution_count": null,
   "metadata": {},
   "outputs": [],
   "source": [
    "# inspect one target\n",
    "target = 'hand_selected_016'\n",
    "\n",
    "fig = plt.figure(figsize=(10,6))\n",
    "sns.set_context('poster')\n",
    "sns.set_style('whitegrid')\n",
    "sns.set(style=\"ticks\", rc={\"lines.linewidth\": 0.7})\n",
    "sns.pointplot(data=cluster_counts[cluster_counts.targetName== target],\\\n",
    "              x='phase', y='proportion_with_chunk', hue='chunk_id')"
   ]
  },
  {
   "cell_type": "code",
   "execution_count": null,
   "metadata": {
    "scrolled": false
   },
   "outputs": [],
   "source": [
    "# print chunks from \n",
    "\n",
    "chunks = df_chunk_clusters[(df_chunk_clusters.targetName == target) & \n",
    "                          (df_chunk_clusters.cluster_method=='k-means') & \n",
    "                          (df_chunk_clusters.n_cluster==10)].reset_index().chunks[0]\n",
    "\n",
    "n_chunks = len(chunks)\n",
    "\n",
    "fig, axs = plt.subplots(n_chunks, figsize=(4,n_chunks*4)) \n",
    "\n",
    "target_name = df_proc_chunks.iloc[30]['targetName']\n",
    "\n",
    "for j, chunk in enumerate(chunks):\n",
    "    axs[j].axis('off')\n",
    "    drawing.show_chunk([bc.cropped_chunk_to_string(chunk.reshape((8,8)))], axs[j], target=target)\n",
    "    axs[j].set_title(str(j))"
   ]
  },
  {
   "cell_type": "markdown",
   "metadata": {},
   "source": [
    "## Exploration"
   ]
  },
  {
   "cell_type": "markdown",
   "metadata": {},
   "source": [
    "For each structure I've got a list of all chunks from all decompositions. \n",
    "I'm now clustering these to give us something to compare to building procedures (either a median, or exemplar, or set of chunks from that cluster).\n",
    "As I see it there are two sensible ways of clustering:\n",
    "1. Use biclustering where k = the mean number of chunks assigned to that structure.\n",
    "    - this seems intuitive and works fairly well, but in trying to assign every single chunk to a cluster it ends up with some messier clusters. It seems like a bad decision to force obscure chunks into a cluster.\n",
    "2. Use affinity propagation\n",
    "    - this seems the better strategy. Here we don't have to prespecify the number of chunks, and we can just throw away any clusters with few members. It also clusters by finding an exemplar, which gives us something simple to work with when comparing with procedures.\n"
   ]
  },
  {
   "cell_type": "markdown",
   "metadata": {},
   "source": [
    "#### Cluster using biclustering, where k = mean number of chunks for that structure.\n",
    "Looks cool, but probably not the best clustering method as it forces every chunk into a cluster. Maybe some chunks are completely different from the others and we'd rather throw them away."
   ]
  },
  {
   "cell_type": "code",
   "execution_count": null,
   "metadata": {
    "scrolled": false
   },
   "outputs": [],
   "source": [
    "target = 'hand_selected_012'\n",
    "\n",
    "# get the mean number of chunks for that structure\n",
    "meanNChunks = np.round(df_trial.groupby('targetName')['nChunksHighlighted'].mean()).astype(int).to_dict()\n",
    "\n",
    "# group into n clusters where n is the mean amount of chunks for that structure\n",
    "\n",
    "clustering = SpectralBiclustering(n_clusters=meanNChunks[target], random_state=0).fit(dmats[target]) # https://scikit-learn.org/stable/auto_examples/bicluster/plot_spectral_biclustering.html\n",
    "order = clustering.row_labels_\n",
    "\n",
    "sorted_rdm = dmats[target][np.argsort(clustering.row_labels_)]\n",
    "sorted_rdm = sorted_rdm[:, np.argsort(clustering.column_labels_)]\n",
    "\n",
    "img1 = plt.matshow(dmats[target])\n",
    "plt.axis('off')\n",
    "plt.colorbar()\n",
    "img2 = plt.matshow(sorted_rdm)\n",
    "plt.axis('off')\n",
    "img1.set_cmap('hot')\n",
    "img2.set_cmap('hot')\n",
    "plt.colorbar()"
   ]
  },
  {
   "cell_type": "markdown",
   "metadata": {},
   "source": [
    "#### cluster using k-means"
   ]
  },
  {
   "cell_type": "code",
   "execution_count": null,
   "metadata": {},
   "outputs": [],
   "source": [
    "# explore k-means\n",
    "\n",
    "target = 'hand_selected_012'\n",
    "\n",
    "feature_mat = np.array(chunks[target])\n",
    "\n",
    "# get the mean number of chunks for that structure\n",
    "meanNChunks = np.round(df_trial.groupby('targetName')['nChunksHighlighted'].mean()).astype(int).to_dict()\n",
    "\n",
    "# group into n clusters where n is the mean amount of chunks for that structure\n",
    "kmeans = KMeans(n_clusters=meanNChunks[target], random_state=0).fit(feature_mat)\n",
    "# kmeans = KMeans(n_clusters=19, random_state=0).fit(feature_mat)\n",
    "\n",
    "order = kmeans.labels_\n",
    "\n",
    "sorted_chunks = feature_mat[np.argsort(kmeans.labels_),:]"
   ]
  },
  {
   "cell_type": "code",
   "execution_count": null,
   "metadata": {
    "scrolled": true
   },
   "outputs": [],
   "source": [
    "# kmeans.labels_\n",
    "\n",
    "# for i in range(sorted_chunks.shape[0]):\n",
    "#     plt.matshow(np.rot90(np.reshape(sorted_chunks[i,:],(8,8))))\n",
    "#     plt.axis('off')\n",
    "#     plt.title(np.sort(kmeans.labels_)[i])"
   ]
  },
  {
   "cell_type": "code",
   "execution_count": null,
   "metadata": {
    "scrolled": true
   },
   "outputs": [],
   "source": [
    "for prototype in kmeans.cluster_centers_:\n",
    "    fig = plt.figure(figsize=(1,1))\n",
    "    img1 = plt.imshow(np.rot90(prototype.reshape((8,8))))\n",
    "    plt.axis('off')"
   ]
  },
  {
   "cell_type": "code",
   "execution_count": null,
   "metadata": {},
   "outputs": [],
   "source": [
    "# round up to get possible chunks\n",
    "\n",
    "threshold = 0.4\n",
    "\n",
    "for prototype in (kmeans.cluster_centers_>=threshold)*1:\n",
    "    fig = plt.figure(figsize=(1,1))\n",
    "    img1 = plt.imshow(np.rot90(prototype.reshape((8,8))))\n",
    "    plt.axis('off')\n",
    "\n"
   ]
  },
  {
   "cell_type": "code",
   "execution_count": null,
   "metadata": {},
   "outputs": [],
   "source": [
    "# explore parameters of k-means that minimize objective"
   ]
  },
  {
   "cell_type": "code",
   "execution_count": null,
   "metadata": {},
   "outputs": [],
   "source": [
    "# number of clusters\n",
    "\n",
    "kms = {}\n",
    "\n",
    "df_kms = pd.DataFrame()\n",
    "\n",
    "for target in targets:\n",
    "    \n",
    "    kms[target] = {}\n",
    "    \n",
    "    for n_cluster in range(3,20):\n",
    "        \n",
    "        feature_mat = np.array(chunks[target])\n",
    "\n",
    "        # get the mean number of chunks for that structure\n",
    "        meanNChunks = np.round(df_trial.groupby('targetName')['nChunksHighlighted'].mean()).astype(int).to_dict()\n",
    "\n",
    "        # group into n clusters where n is the mean amount of chunks for that structure\n",
    "        # kmeans = KMeans(n_clusters=meanNChunks[target], random_state=0).fit(feature_mat)\n",
    "        kms[target][n_cluster] = KMeans(n_clusters=n_cluster, random_state=0).fit(feature_mat)\n",
    "        \n",
    "        df_kms = df_kms.append(\n",
    "            {\n",
    "                'targetName': target,\n",
    "                'n_cluster': n_cluster,\n",
    "                'kmeans': kms[target][n_cluster],\n",
    "                'inertia': kms[target][n_cluster].inertia_\n",
    "            },\n",
    "            ignore_index=True\n",
    "        )\n",
    "\n",
    "#     sorted_chunks = feature_mat[np.argsort(kmeans.labels_),:]"
   ]
  },
  {
   "cell_type": "code",
   "execution_count": null,
   "metadata": {
    "scrolled": true
   },
   "outputs": [],
   "source": [
    "sns.lineplot(x='n_cluster', y='inertia',hue='targetName',data=df_kms)\n",
    "plt.legend(bbox_to_anchor=(1.05, 1), loc=2, borderaxespad=0.)"
   ]
  },
  {
   "cell_type": "markdown",
   "metadata": {},
   "source": [
    "#### Visualize clusters"
   ]
  },
  {
   "cell_type": "code",
   "execution_count": null,
   "metadata": {},
   "outputs": [],
   "source": [
    "target = 'hand_selected_006'"
   ]
  },
  {
   "cell_type": "code",
   "execution_count": null,
   "metadata": {},
   "outputs": [],
   "source": [
    "# Explore clustering\n",
    "\n",
    "clustering = clusters[target]\n",
    "\n",
    "labels = clustering.labels_\n",
    "\n",
    "cluster_centers_indices = clustering.cluster_centers_indices_\n",
    "cluster_centers_ = clustering.cluster_centers_\n",
    "\n",
    "n_clusters_ = len(cluster_centers_indices)\n",
    "\n",
    "print(str(n_clusters_) + ' clusters')\n"
   ]
  },
  {
   "cell_type": "code",
   "execution_count": null,
   "metadata": {
    "scrolled": false
   },
   "outputs": [],
   "source": [
    "label = 0\n",
    "\n",
    "for label in np.unique(labels):\n",
    "\n",
    "    chunk_cluster = featureMats[target][labels==label,:].sum(axis=0).reshape((8,8))\n",
    "    \n",
    "    fig = plt.figure(figsize=(1,1))\n",
    "    img1 = plt.imshow(np.rot90(chunk_cluster))\n",
    "    plt.title(str(featureMats[target][labels==label,:].shape[0]))\n",
    "    plt.axis('off')"
   ]
  },
  {
   "cell_type": "code",
   "execution_count": null,
   "metadata": {
    "scrolled": false
   },
   "outputs": [],
   "source": [
    "for exemplar in cluster_centers_:\n",
    "    fig = plt.figure(figsize=(1,1))\n",
    "    img1 = plt.imshow(np.rot90(exemplar.reshape((8,8))))\n",
    "    plt.axis('off')"
   ]
  },
  {
   "cell_type": "markdown",
   "metadata": {},
   "source": [
    "Next:\n",
    "\n",
    "- For each chunk:\n",
    "    - go through action sequences to see:\n",
    "        - number of exact matches\n",
    "        - ratio of contained vs. spanning\n",
    "        \n",
    "Somewhere I have a way of searching action sequences by world-diff, which should be the same representation as these perceptual chunks (once they've been aligned in an 18x13 gridworld)\n",
    "\n",
    "Lots of testing needed at this stage"
   ]
  },
  {
   "cell_type": "markdown",
   "metadata": {},
   "source": [
    "consider:\n",
    "\n",
    "- construct dataframe with all world differences.\n",
    "    - i.e. action 0-1, 0-2, 0-3, 1-2, 1-3, etc.\n",
    "    - would be large.\n",
    "    - (gameID, targetName, trialNum, rep, condition, world-diff, action_1, action_2, window)\n",
    "- see if there's a match, if so +1"
   ]
  },
  {
   "cell_type": "code",
   "execution_count": null,
   "metadata": {},
   "outputs": [],
   "source": []
  },
  {
   "cell_type": "code",
   "execution_count": null,
   "metadata": {},
   "outputs": [],
   "source": [
    "# construct dataframe with all world differences.\n",
    "# i.e. action 0-1, 0-2, 0-3, 1-2, 1-3, etc.\n",
    "# (gameID, targetName, trialNum, rep, condition, world-diff, action_1, action_2, window)\n"
   ]
  },
  {
   "cell_type": "markdown",
   "metadata": {},
   "source": [
    "#### Example of searching for reconstructions containing perceptual chunk"
   ]
  },
  {
   "cell_type": "code",
   "execution_count": null,
   "metadata": {},
   "outputs": [],
   "source": [
    "n_chunks = len(df_proc_chunks.iloc[30]['all_chunks'])\n",
    "\n",
    "fig, axs = plt.subplots(n_chunks, figsize=(4,n_chunks*4)) \n",
    "\n",
    "target_name = df_proc_chunks.iloc[30]['targetName']\n",
    "\n",
    "for j, chunk in enumerate(df_proc_chunks.iloc[30]['all_chunks']):\n",
    "    axs[j].axis('off')\n",
    "    drawing.show_chunk([chunk], axs[j], target=target_name)\n",
    "    "
   ]
  },
  {
   "cell_type": "code",
   "execution_count": null,
   "metadata": {},
   "outputs": [],
   "source": [
    "# find the structures with that chunk (assumes chunk in same format, and a given window size)\n",
    "\n",
    "target = 'hand_selected_012'\n",
    "# convert perceptual chunks into string\n",
    "chunk_str = bc.cropped_chunk_to_string(cluster_centers_[0].reshape((8,8)))\n",
    "\n",
    "\n",
    "subset_with_chunk = df_proc_chunks[(df_proc_chunks.targetName == target) & \n",
    "                              (df_proc_chunks['all_chunks'].apply(lambda chunks: chunk_str in chunks))]\n"
   ]
  },
  {
   "cell_type": "code",
   "execution_count": null,
   "metadata": {},
   "outputs": [],
   "source": [
    "# draw all reconstructions for h\n",
    "\n",
    "drawing.draw_reconstructions(subset_with_chunk)"
   ]
  },
  {
   "cell_type": "markdown",
   "metadata": {},
   "source": [
    "#### Find proportion of reconstructions with each chunk\n",
    "\n",
    "Questions:\n",
    "- some average of cluster members, or exemplars?\n",
    "- do I use all clusters, take a pre-specified number, or drop clusters with few members?\n",
    "    - I'm fairly sure I should drop clusters with few members, but not sure of the exact criteria I should use"
   ]
  },
  {
   "cell_type": "code",
   "execution_count": null,
   "metadata": {},
   "outputs": [],
   "source": [
    "# for each exemplar with more than 3 members, count proportion of reconstructions in pre, and number of reconstructions in post\n",
    "\n",
    "cluster_counts = pd.DataFrame()\n",
    "\n",
    "for target in targets:\n",
    "    \n",
    "    for cluster_number, exemplar in enumerate(clusters[target].cluster_centers_):\n",
    "        \n",
    "        chunk_str = bc.cropped_chunk_to_string(exemplar.reshape((8,8)))\n",
    "        \n",
    "        n_cluster_members = sum(clusters[target].labels_ == cluster_number)\n",
    "        \n",
    "        if n_cluster_members > 3:\n",
    "        \n",
    "            for phase in ['pre','post']:\n",
    "\n",
    "                subset_for_target = df_proc_chunks[(df_proc_chunks.blockFell == False) &\n",
    "                                                   (df_proc_chunks.targetName == target) &\n",
    "                                                   (df_proc_chunks.phase == phase)]\n",
    "\n",
    "                subset_with_chunk = subset_for_target[(subset_for_target['all_chunks']\\\n",
    "                                                       .apply(lambda chunks: chunk_str in chunks))]\n",
    "\n",
    "                row = {\n",
    "                    'targetName': target,\n",
    "                    'phase': phase,\n",
    "                    'chunk_str': chunk_str,\n",
    "                    'n_cluster_members': n_cluster_members,\n",
    "    #                 'reconstructions_with_chunk': list(subset_with_chunk['discreteWorld']),\n",
    "                    'total_phase_reconstructions': subset_for_target.shape[0],\n",
    "                    'n_with_chunk': subset_with_chunk.shape[0],\n",
    "                    'proportion_with_chunk': subset_with_chunk.shape[0] /subset_for_target.shape[0]\n",
    "\n",
    "                }\n",
    "\n",
    "                cluster_counts = cluster_counts.append(row,ignore_index=True)\n",
    "\n"
   ]
  },
  {
   "cell_type": "code",
   "execution_count": null,
   "metadata": {},
   "outputs": [],
   "source": [
    "cluster_counts"
   ]
  },
  {
   "cell_type": "code",
   "execution_count": null,
   "metadata": {},
   "outputs": [],
   "source": [
    "fig = plt.figure(figsize=(10,6))\n",
    "sns.set_context('poster')\n",
    "sns.set_style('whitegrid', {'legend':False})\n",
    "sns.set(style=\"ticks\", rc={\"lines.linewidth\": 0.7})\n",
    "sns.pointplot(data=cluster_counts, x='phase', y='proportion_with_chunk', hue='targetName')"
   ]
  },
  {
   "cell_type": "code",
   "execution_count": null,
   "metadata": {
    "scrolled": true
   },
   "outputs": [],
   "source": [
    "fig = plt.figure(figsize=(10,6))\n",
    "sns.set_context('poster')\n",
    "sns.set_style('whitegrid', {'legend':False})\n",
    "sns.set(style=\"ticks\", rc={\"lines.linewidth\": 0.7})\n",
    "g = sns.FacetGrid(data=cluster_counts, col=\"targetName\", hue=\"chunk_str\", col_order=targets)\n",
    "g.map(sns.pointplot,\"phase\",\"proportion_with_chunk\", order=['pre','post'])"
   ]
  },
  {
   "cell_type": "code",
   "execution_count": null,
   "metadata": {},
   "outputs": [],
   "source": [
    "cluster_counts[cluster_counts.targetName=='hand_selected_006']"
   ]
  },
  {
   "cell_type": "code",
   "execution_count": null,
   "metadata": {},
   "outputs": [],
   "source": [
    "\n",
    "\n",
    "drawing.show_chunk([chunk], axs[j], target='hand_selected_006')"
   ]
  },
  {
   "cell_type": "markdown",
   "metadata": {},
   "source": [
    "Facetgrid:\n",
    "Facet is silhouette\n",
    "Dot is chunk\n",
    "\n",
    "difference score\n",
    "\n",
    "Slope is stat we're interested in\n",
    "\n",
    "___\n",
    "Spatial biases:\n",
    "Chunks near the top more likely to appear more at the end?\n",
    "\n",
    "Popular chunks:\n",
    "Can popularity be explained by perceptual biases?\n",
    "Are more popular chunks ones that appear less at the end?\n",
    "(are less popular chunks relatively flat pre to post?)\n",
    "\n",
    "___\n",
    "Keep returning to: is convergence explained by convergence to perceptual chunks? Or something else- not perceptual chunks?\n",
    "\n",
    "\n"
   ]
  },
  {
   "cell_type": "code",
   "execution_count": null,
   "metadata": {},
   "outputs": [],
   "source": [
    "# Distribution of differences between pre and post\n",
    "\n",
    "cluster_counts.groupby('chunk_str')"
   ]
  },
  {
   "cell_type": "markdown",
   "metadata": {},
   "source": [
    "## TO DO next:\n",
    "\n",
    "- Try a different clustering method (k-means) in addition to affinity propagation\n",
    "    - Try a range of k\n",
    "    - Search parameter space for\n",
    "    - This will give us something that confirms we have stable cluster\n",
    "\n",
    "- More thoroughly explore the differences in chunks used between pre and post\n",
    "    - Distribution of differences (proportion post minus proportion pre)\n",
    "        - Of chunks that go up- who are they?\n",
    "        - Of chunks that go down- who are they?\n",
    "\n",
    "- Try *ratio of contained vs. spanning*, instead of *proportion of chunks that are exact match*\n",
    "\n"
   ]
  },
  {
   "cell_type": "code",
   "execution_count": null,
   "metadata": {},
   "outputs": [],
   "source": []
  }
 ],
 "metadata": {
  "kernelspec": {
   "display_name": "Python 3",
   "language": "python",
   "name": "python3"
  },
  "language_info": {
   "codemirror_mode": {
    "name": "ipython",
    "version": 3
   },
   "file_extension": ".py",
   "mimetype": "text/x-python",
   "name": "python",
   "nbconvert_exporter": "python",
   "pygments_lexer": "ipython3",
   "version": "3.7.4"
  }
 },
 "nbformat": 4,
 "nbformat_minor": 2
}
