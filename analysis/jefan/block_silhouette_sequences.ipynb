{
 "cells": [
  {
   "cell_type": "code",
   "execution_count": 29,
   "metadata": {},
   "outputs": [],
   "source": [
    "import os\n",
    "import sys\n",
    "import urllib, io\n",
    "os.getcwd()\n",
    "sys.path.append(\"..\")\n",
    "proj_dir = os.path.abspath('../..')\n",
    "\n",
    "if os.path.join(proj_dir,'stimuli') not in sys.path:\n",
    "    sys.path.append(os.path.join(proj_dir,'stimuli'))\n",
    "\n",
    "import numpy as np\n",
    "import scipy.stats as stats\n",
    "import pandas as pd\n",
    "from scipy.spatial import distance\n",
    "from random import random\n",
    "from sklearn.cluster import SpectralBiclustering\n",
    "import itertools\n",
    "\n",
    "import pymongo as pm\n",
    "from collections import Counter\n",
    "import json\n",
    "import re\n",
    "import ast\n",
    "\n",
    "from PIL import Image, ImageOps, ImageDraw, ImageFont \n",
    "\n",
    "from io import BytesIO\n",
    "import base64\n",
    "\n",
    "import  matplotlib\n",
    "from matplotlib import pylab, mlab, pyplot\n",
    "%matplotlib inline\n",
    "from IPython.core.pylabtools import figsize, getfigs\n",
    "plt = pyplot\n",
    "import matplotlib as mpl\n",
    "mpl.rcParams['pdf.fonttype'] = 42\n",
    "from matplotlib import colors\n",
    "\n",
    "import seaborn as sns\n",
    "sns.set_context('talk')\n",
    "sns.set_style('darkgrid')\n",
    "\n",
    "from IPython.display import clear_output\n",
    "\n",
    "import warnings\n",
    "warnings.filterwarnings(\"ignore\", category=DeprecationWarning)\n",
    "warnings.filterwarnings(\"ignore\", message=\"numpy.dtype size changed\")\n",
    "warnings.filterwarnings(\"ignore\", message=\"numpy.ufunc size changed\")"
   ]
  },
  {
   "cell_type": "code",
   "execution_count": 32,
   "metadata": {},
   "outputs": [],
   "source": [
    "## directory & file hierarchy\n",
    "proj_dir = os.path.abspath('../..')\n",
    "datavol_dir = os.path.join(proj_dir,'data')\n",
    "analysis_dir = os.path.abspath(os.path.join(os.getcwd(),'..'))\n",
    "results_dir = os.path.join(analysis_dir,'results')\n",
    "stim_dir = os.path.join(proj_dir,'stimuli')\n",
    "plot_dir = os.path.join(results_dir,'plots')\n",
    "csv_dir = os.path.join(results_dir,'csv')\n",
    "json_dir = os.path.join(results_dir,'json')\n",
    "exp_dir = os.path.abspath(os.path.join(proj_dir,'experiments'))\n",
    "png_dir = os.path.abspath(os.path.join(datavol_dir,'png'))\n",
    "jefan_dir = os.path.join(analysis_dir,'jefan')\n",
    "will_dir = os.path.join(analysis_dir,'will')\n",
    "\n",
    "## add helpers to python path\n",
    "if os.path.join(proj_dir,'stimuli') not in sys.path:\n",
    "    sys.path.append(os.path.join(proj_dir,'stimuli'))\n",
    "    \n",
    "## add helpers to python path\n",
    "import sys\n",
    "if os.path.join(proj_dir, 'analysis','utils') not in sys.path:\n",
    "    sys.path.append(os.path.join(proj_dir, 'analysis','utils'))\n",
    "    \n",
    "import blockworld_helpers as utils\n",
    "import drawing_utils as drawing\n",
    "import importlib\n",
    "import scoring\n",
    "import rda    \n",
    "    \n",
    "if not os.path.exists(results_dir):\n",
    "    os.makedirs(results_dir)\n",
    "    \n",
    "if not os.path.exists(plot_dir):\n",
    "    os.makedirs(plot_dir)   \n",
    "    \n",
    "if not os.path.exists(csv_dir):\n",
    "    os.makedirs(csv_dir)       "
   ]
  },
  {
   "cell_type": "code",
   "execution_count": 33,
   "metadata": {},
   "outputs": [
    {
     "data": {
      "text/plain": [
       "'/Users/judithfan/block_construction/stimuli'"
      ]
     },
     "execution_count": 33,
     "metadata": {},
     "output_type": "execute_result"
    }
   ],
   "source": [
    "stim_dir"
   ]
  },
  {
   "cell_type": "code",
   "execution_count": 34,
   "metadata": {},
   "outputs": [],
   "source": [
    "iteration_name = 'Exp2Pilot3'\n",
    "num_trials = 24 #for sanity checks"
   ]
  },
  {
   "cell_type": "code",
   "execution_count": 35,
   "metadata": {},
   "outputs": [
    {
     "name": "stdout",
     "output_type": "stream",
     "text": [
      "49 participants total\n"
     ]
    }
   ],
   "source": [
    "# Data already compiled into dataframes in CogSci 2020 Dataframe Generator\n",
    "\n",
    "# trial_end data\n",
    "trial_path = os.path.join(csv_dir,'block_silhouette_{}_good.csv'.format(iteration_name))\n",
    "df = pd.read_csv(trial_path)\n",
    "\n",
    "# # initial_block data\n",
    "initial_path = os.path.join(csv_dir,'block_silhouette_initial_{}_good.csv'.format(iteration_name))\n",
    "dfi = pd.read_csv(initial_path)\n",
    "\n",
    "# # settled_block data\n",
    "settled_path = os.path.join(csv_dir,'block_silhouette_settled_{}_good.csv'.format(iteration_name))\n",
    "dfs = pd.read_csv(settled_path)\n",
    "\n",
    "# # Sanity Check- same participants in each dataset.\n",
    "df_participants = df.gameID.unique()\n",
    "dfs_participants = dfs.gameID.unique()\n",
    "assert Counter(df_participants) == Counter(dfs_participants)\n",
    "\n",
    "n_before_outliers = len(df_participants)\n",
    "print(str(n_before_outliers) + ' participants total')\n",
    "\n",
    "dfi['usableDiscreteWorld'] = dfi['discreteWorld'].apply(lambda a: 1+(-1)*np.array(ast.literal_eval(a)))\n",
    "dfi['flatDiscreteWorld'] = dfi['discreteWorld'].apply(lambda a: (1+(-1)*np.array(ast.literal_eval(a))).flatten())"
   ]
  },
  {
   "cell_type": "code",
   "execution_count": 36,
   "metadata": {},
   "outputs": [
    {
     "data": {
      "text/plain": [
       "Index(['Unnamed: 0', 'gameID', 'trialNum', 'phase', 'condition', 'eventType',\n",
       "       'targetName', 'repetition', 'targetID', 'blockNum', 'nullScore',\n",
       "       'incrementalScore', 'normedIncrementalScore', 'rawScoreDiscrete',\n",
       "       'incrementalNormedScoreDiscretePrevious', 'score', 'currBonus',\n",
       "       'timeAbsolute', 'timeRelative', 'timeBlockSelected', 'timeBlockPlaced',\n",
       "       'relativePlacementTime', 'discreteWorld', 'vertices', 'blockKind',\n",
       "       'blockColorID', 'blockColor', 'blockCenterX', 'blockCenterY', 'x_index',\n",
       "       'y_index', 'x_discrete', 'y_discrete', 'width_discrete',\n",
       "       'height_discrete', 'buggy', 'usableDiscreteWorld', 'flatDiscreteWorld'],\n",
       "      dtype='object')"
      ]
     },
     "execution_count": 36,
     "metadata": {},
     "output_type": "execute_result"
    }
   ],
   "source": [
    "dfi.columns"
   ]
  },
  {
   "cell_type": "markdown",
   "metadata": {},
   "source": [
    "## Actions\n",
    "\n",
    "Placement of block: <w,h,x,y>\n",
    "\n",
    "Only certain placements are possible at any one time: i.e. those just above the current tower (including in holes).\n",
    "\n",
    "Consider set of actions as possible block placements *inside the silhouette* plus an error action- placing a block anywhere outside the silhouette.\n"
   ]
  },
  {
   "cell_type": "code",
   "execution_count": 37,
   "metadata": {},
   "outputs": [],
   "source": [
    "blocks = np.array([[1,2],[2,1],[2,2],[2,4],[4,2]]) # block dimensions\n",
    "locations = np.arange(0,8) # locations to place blocks- inside 8x8 grid only"
   ]
  },
  {
   "cell_type": "markdown",
   "metadata": {},
   "source": [
    "### Maps of silhouette"
   ]
  },
  {
   "cell_type": "code",
   "execution_count": 8,
   "metadata": {},
   "outputs": [
    {
     "name": "stdout",
     "output_type": "stream",
     "text": [
      "Loaded 8 structures.\n"
     ]
    }
   ],
   "source": [
    "target_dir = os.path.join(stim_dir,'hand_selected_e2_subset')\n",
    "\n",
    "## load in list of structures\n",
    "file_list = os.listdir(target_dir)\n",
    "file_list = [x for x in file_list if not (x.startswith('.'))]\n",
    "\n",
    "print('Loaded {} structures.'.format(len(file_list)))\n",
    "\n",
    "target_blocks_dict = {}\n",
    "\n",
    "## loop through list of good sequences, and build list of versions, each containing a trial list \n",
    "Meta = [] ## initialize list of all trial lists\n",
    "for i,f in enumerate(file_list):\n",
    "    target = pd.read_json(os.path.join(target_dir,f)) ## stim list\n",
    "    targetName = f.split('.')[0]\n",
    "    targetBlocks = list(target['blocks'].values)\n",
    "    target_blocks_dict[targetName] = targetBlocks"
   ]
  },
  {
   "cell_type": "code",
   "execution_count": 9,
   "metadata": {},
   "outputs": [],
   "source": [
    "stimWidth = 8\n",
    "worldWidth = 18\n",
    "worldHeight = 13\n",
    "\n",
    "target_maps = {}\n",
    "\n",
    "for i, (target_name, block_list) in enumerate(target_blocks_dict.items()):\n",
    "    #block_list = target_blocks_dict['hand_selected_009']\n",
    "    target_map = np.zeros([worldWidth,worldHeight])\n",
    "\n",
    "    for block in block_list:\n",
    "        # add block to map\n",
    "        width = block['width']\n",
    "        height = block['height']\n",
    "        blockLeft = int((worldWidth-stimWidth)/2) + block['x']\n",
    "        blockBottom = block['y']\n",
    "        blockTop = blockBottom + height\n",
    "        blockRight = blockLeft + width\n",
    "\n",
    "        #console.log('width', width);\n",
    "        #console.log('height', height);\n",
    "        #console.log('blockLeft', blockLeft);\n",
    "        #console.log('blockBottom', blockBottom);\n",
    "        for y in range(blockBottom,blockTop):\n",
    "            for x in range(blockLeft, blockRight):\n",
    "                target_map[x][y] = 1\n",
    "    \n",
    "    target_maps[target_name] = target_map\n",
    "    "
   ]
  },
  {
   "cell_type": "code",
   "execution_count": 10,
   "metadata": {},
   "outputs": [
    {
     "data": {
      "image/png": "[encoded data removed]",
      "text/plain": [
       "<Figure size 432x288 with 1 Axes>"
      ]
     },
     "metadata": {
      "needs_background": "light"
     },
     "output_type": "display_data"
    },
    {
     "data": {
      "image/png": "[encoded data removed]",
      "text/plain": [
       "<Figure size 432x288 with 1 Axes>"
      ]
     },
     "metadata": {
      "needs_background": "light"
     },
     "output_type": "display_data"
    },
    {
     "data": {
      "image/png": "[encoded data removed]",
      "text/plain": [
       "<Figure size 432x288 with 1 Axes>"
      ]
     },
     "metadata": {
      "needs_background": "light"
     },
     "output_type": "display_data"
    },
    {
     "data": {
      "image/png": "[encoded data removed]",
      "text/plain": [
       "<Figure size 432x288 with 1 Axes>"
      ]
     },
     "metadata": {
      "needs_background": "light"
     },
     "output_type": "display_data"
    },
    {
     "data": {
      "image/png": "[encoded data removed]",
      "text/plain": [
       "<Figure size 432x288 with 1 Axes>"
      ]
     },
     "metadata": {
      "needs_background": "light"
     },
     "output_type": "display_data"
    },
    {
     "data": {
      "image/png": "[encoded data removed]",
      "text/plain": [
       "<Figure size 432x288 with 1 Axes>"
      ]
     },
     "metadata": {
      "needs_background": "light"
     },
     "output_type": "display_data"
    },
    {
     "data": {
      "image/png": "[encoded data removed]",
      "text/plain": [
       "<Figure size 432x288 with 1 Axes>"
      ]
     },
     "metadata": {
      "needs_background": "light"
     },
     "output_type": "display_data"
    },
    {
     "data": {
      "image/png": "[encoded data removed]",
      "text/plain": [
       "<Figure size 432x288 with 1 Axes>"
      ]
     },
     "metadata": {
      "needs_background": "light"
     },
     "output_type": "display_data"
    }
   ],
   "source": [
    "for i, (target_name, target_map) in enumerate(target_maps.items()):\n",
    "    silhouette = 1*np.logical_not(target_map)\n",
    "    silhouette = np.rot90(silhouette)\n",
    "    fig, ax = plt.subplots()\n",
    "    ax.axis('off')\n",
    "    ax.imshow(silhouette)"
   ]
  },
  {
   "cell_type": "markdown",
   "metadata": {},
   "source": [
    "### Enumerate actions within silhouette"
   ]
  },
  {
   "cell_type": "code",
   "execution_count": 11,
   "metadata": {},
   "outputs": [
    {
     "data": {
      "text/plain": [
       "<matplotlib.image.AxesImage at 0x7f801069bf28>"
      ]
     },
     "execution_count": 11,
     "metadata": {},
     "output_type": "execute_result"
    },
    {
     "data": {
      "image/png": "[encoded data removed]",
      "text/plain": [
       "<Figure size 432x288 with 1 Axes>"
      ]
     },
     "metadata": {
      "needs_background": "light"
     },
     "output_type": "display_data"
    }
   ],
   "source": [
    "silhouette = 1*np.logical_not(target_maps['hand_selected_012'])\n",
    "silhouette = np.rot90(silhouette)\n",
    "fig, ax = plt.subplots()\n",
    "ax.axis('off')\n",
    "ax.imshow(silhouette)"
   ]
  },
  {
   "cell_type": "code",
   "execution_count": 12,
   "metadata": {},
   "outputs": [],
   "source": [
    "tm = target_maps['hand_selected_012']"
   ]
  },
  {
   "cell_type": "code",
   "execution_count": 13,
   "metadata": {},
   "outputs": [
    {
     "data": {
      "text/plain": [
       "array([[1., 1., 1., 1., 1., 1., 1., 1.],\n",
       "       [0., 0., 0., 0., 1., 1., 1., 1.],\n",
       "       [0., 0., 0., 0., 1., 1., 1., 1.],\n",
       "       [1., 1., 1., 1., 1., 1., 1., 1.],\n",
       "       [1., 1., 1., 1., 1., 1., 1., 1.],\n",
       "       [1., 1., 0., 0., 0., 0., 0., 0.],\n",
       "       [1., 1., 1., 1., 1., 1., 1., 1.]])"
      ]
     },
     "execution_count": 13,
     "metadata": {},
     "output_type": "execute_result"
    }
   ],
   "source": [
    "tm[5:12,0:8] # Slice only the silhouette"
   ]
  },
  {
   "cell_type": "markdown",
   "metadata": {},
   "source": [
    "for a current world state:\n",
    "find set of viable actions\n",
    "\n",
    "iterate through layers (keep track of floors?)\n",
    "for each block find viable locations\n",
    "or \n",
    "for each location find viable blocks\n",
    "\n",
    "some of these paths will lead to dead ends"
   ]
  },
  {
   "cell_type": "code",
   "execution_count": null,
   "metadata": {},
   "outputs": [],
   "source": []
  },
  {
   "cell_type": "markdown",
   "metadata": {},
   "source": [
    "## Actual distributions of human behavior\n",
    "\n",
    "Look at the sequences of actions people actually take\n",
    "And see how close they are\n",
    "Do they end up closer (by rep 4)?\n",
    "\n",
    "Similarity:\n",
    "Closer if: \n",
    "Same blocks in same place\n",
    "Same blocks in same placed placed at similar time"
   ]
  },
  {
   "cell_type": "code",
   "execution_count": 14,
   "metadata": {},
   "outputs": [],
   "source": [
    "dfi['usableDiscreteWorld'] = dfi['discreteWorld'].apply(lambda a: 1+(-1)*np.array(ast.literal_eval(a)))\n",
    "dfi['flatDiscreteWorld'] = dfi['discreteWorld'].apply(lambda a: (1+(-1)*np.array(ast.literal_eval(a))).flatten())"
   ]
  },
  {
   "cell_type": "code",
   "execution_count": 15,
   "metadata": {
    "scrolled": true
   },
   "outputs": [
    {
     "data": {
      "text/plain": [
       "array([0, 0, 0, 0, 0, 0, 0, 0, 0, 0, 0, 0, 0, 0, 0, 0, 0, 0, 0, 0, 0, 0,\n",
       "       0, 0, 0, 0, 0, 0, 0, 0, 0, 0, 0, 0, 0, 0, 0, 0, 0, 0, 0, 0, 0, 0,\n",
       "       0, 0, 0, 0, 0, 0, 0, 0, 0, 0, 0, 0, 0, 0, 0, 0, 0, 0, 0, 0, 0, 0,\n",
       "       0, 0, 0, 0, 0, 0, 0, 0, 0, 0, 0, 0, 0, 0, 0, 0, 0, 0, 0, 0, 0, 0,\n",
       "       0, 0, 0, 0, 0, 0, 0, 0, 0, 0, 0, 0, 0, 0, 0, 0, 0, 0, 0, 0, 0, 0,\n",
       "       0, 0, 0, 0, 0, 0, 0, 0, 0, 0, 0, 0, 0, 0, 0, 0, 0, 0, 0, 0, 0, 0,\n",
       "       0, 0, 0, 0, 0, 0, 0, 0, 0, 0, 0, 1, 1, 1, 1, 0, 0, 0, 0, 0, 0, 0,\n",
       "       0, 0, 1, 1, 1, 1, 0, 0, 0, 0, 0, 0, 0, 0, 0, 0, 0, 0, 0, 0, 0, 0,\n",
       "       0, 0, 0, 0, 0, 0, 0, 0, 0, 0, 0, 0, 0, 0, 0, 0, 0, 0, 0, 0, 0, 0,\n",
       "       0, 0, 0, 0, 0, 0, 0, 0, 0, 0, 0, 0, 0, 0, 0, 0, 0, 0, 0, 0, 0, 0,\n",
       "       0, 0, 0, 0, 0, 0, 0, 0, 0, 0, 0, 0, 0, 0])"
      ]
     },
     "execution_count": 15,
     "metadata": {},
     "output_type": "execute_result"
    }
   ],
   "source": [
    "# We have sequences of world states, of length n where n is the number of blocks placed\n",
    "# Each layer is a block placement\n",
    "dfi['flatDiscreteWorld'][0]"
   ]
  },
  {
   "cell_type": "markdown",
   "metadata": {},
   "source": [
    "Vector representing where blocks have been placed\n",
    "Want to look at sequences of these\n",
    "If people complete the silhouette, these vectors will be the same\n",
    "Differing numbers of blocks mean the list of these vectors will be different lengths"
   ]
  },
  {
   "cell_type": "markdown",
   "metadata": {},
   "source": [
    "## Get world states by time step"
   ]
  },
  {
   "cell_type": "code",
   "execution_count": 16,
   "metadata": {},
   "outputs": [],
   "source": [
    "# get world state EVERY SECOND\n",
    "# i.e. the flatDiscreteWorld for the highest time preceding i \n",
    "# for every participant, for every structure\n",
    "\n",
    "targets = np.sort(df['targetName'].unique())\n",
    "ppts = np.sort(df['gameID'].unique())\n",
    "\n",
    "n_targets = df['targetName'].nunique()\n",
    "n_ppts = df['gameID'].nunique()\n",
    "\n",
    "m = np.zeros((n_targets,n_ppts,61,13*18)) #number of seconds, number of squares in grid\n",
    "\n",
    "for t, t_name in enumerate(targets):\n",
    "    for p, p_id in enumerate(ppts):\n",
    "        subset = dfi[(dfi.targetName==t_name) & (dfi.gameID==p_id) & (dfi.phase=='pre')]\n",
    "        prev_world = np.zeros(13*18)\n",
    "        i = 0\n",
    "        for index, row in subset.iterrows():\n",
    "            while ((i*1000 < row['relativePlacementTime']) & ((i*1000)<60000)):\n",
    "                m[t,p,i,:] = prev_world\n",
    "                i += 1\n",
    "            prev_world = row['flatDiscreteWorld']\n",
    "        while (i < 60):\n",
    "            m[t,p,i,:] = prev_world\n",
    "            i += 1\n"
   ]
  },
  {
   "cell_type": "code",
   "execution_count": 17,
   "metadata": {},
   "outputs": [],
   "source": [
    "# get world state EVERY 10 SECONDS\n",
    "# i.e. the flatDiscreteWorld for the highest time preceding i \n",
    "# PRE PHASE, for every participant, for every structure\n",
    "\n",
    "targets = np.sort(df['targetName'].unique())\n",
    "ppts = np.sort(df['gameID'].unique())\n",
    "\n",
    "n_targets = df['targetName'].nunique()\n",
    "n_ppts = df['gameID'].nunique()\n",
    "\n",
    "m = np.zeros((n_targets,n_ppts,6,13*18)) #number of seconds, number of squares in grid\n",
    "\n",
    "for t, t_name in enumerate(targets):\n",
    "    for p, p_id in enumerate(ppts):\n",
    "        subset = dfi[(dfi.targetName==t_name) & (dfi.gameID==p_id) & (dfi.phase=='pre')]\n",
    "        prev_world = np.zeros(13*18)\n",
    "        i = 0\n",
    "        for index, row in subset.iterrows():\n",
    "            while ((i*10000 < row['relativePlacementTime']) & ((i*10000)<60000)):\n",
    "                m[t,p,i,:] = prev_world\n",
    "                i += 1\n",
    "            prev_world = row['flatDiscreteWorld']\n",
    "        while (i < 6):\n",
    "            m[t,p,i,:] = prev_world\n",
    "            i += 1\n"
   ]
  },
  {
   "cell_type": "code",
   "execution_count": 18,
   "metadata": {},
   "outputs": [],
   "source": [
    "# get world state EVERY 10 SECONDS\n",
    "# i.e. the flatDiscreteWorld for the highest time preceding i \n",
    "# POST PHASE, for every participant, for every structure\n",
    "\n",
    "targets = np.sort(df['targetName'].unique())\n",
    "ppts = np.sort(df['gameID'].unique())\n",
    "\n",
    "n_targets = df['targetName'].nunique()\n",
    "n_ppts = df['gameID'].nunique()\n",
    "\n",
    "m2 = np.zeros((n_targets,n_ppts,6,13*18)) #number of seconds, number of squares in grid\n",
    "\n",
    "for t, t_name in enumerate(targets):\n",
    "    for p, p_id in enumerate(ppts):\n",
    "        subset = dfi[(dfi.targetName==t_name) & (dfi.gameID==p_id) & (dfi.phase=='post')]\n",
    "        prev_world = np.zeros(13*18)\n",
    "        i = 0\n",
    "        for index, row in subset.iterrows():\n",
    "            while ((i*10000 < row['relativePlacementTime']) & ((i*10000)<60000)):\n",
    "                m2[t,p,i,:] = prev_world\n",
    "                i += 1\n",
    "            prev_world = row['flatDiscreteWorld']\n",
    "        while (i < 6):\n",
    "            m2[t,p,i,:] = prev_world\n",
    "            i += 1\n"
   ]
  },
  {
   "cell_type": "code",
   "execution_count": 21,
   "metadata": {},
   "outputs": [],
   "source": [
    "# (targets, participants, seconds, squares)\n",
    "# for one target, get all participants\n",
    "# mat = m[3,:,50,:]"
   ]
  },
  {
   "cell_type": "markdown",
   "metadata": {},
   "source": [
    "## Explore matrix creation (compare ppt world state for a given structure over time)"
   ]
  },
  {
   "cell_type": "code",
   "execution_count": 22,
   "metadata": {
    "scrolled": true
   },
   "outputs": [
    {
     "data": {
      "text/plain": [
       "<matplotlib.colorbar.Colorbar at 0x7f80106db240>"
      ]
     },
     "execution_count": 22,
     "metadata": {},
     "output_type": "execute_result"
    },
    {
     "data": {
      "image/png": "[encoded data removed]",
      "text/plain": [
       "<Figure size 288x288 with 2 Axes>"
      ]
     },
     "metadata": {
      "needs_background": "light"
     },
     "output_type": "display_data"
    }
   ],
   "source": [
    "# Create rdm for a given structure and time step (all ppts, one phase)\n",
    "\n",
    "mat = m[3,:,1,:]\n",
    "n_rows = mat.shape[0]\n",
    "\n",
    "rdm = np.zeros((n_rows,n_rows))\n",
    "\n",
    "for i in range (0, n_rows): # row dim\n",
    "    for j in range (0, n_rows): # row dim\n",
    "        rdm[i,j] = distance.euclidean(mat[i,:],mat[j,:])\n",
    "        \n",
    "\n",
    "img = plt.matshow(rdm)\n",
    "img.set_cmap('hot')\n",
    "plt.axis('off')\n",
    "plt.savefig(\"test.png\", bbox_inches='tight')\n",
    "plt.colorbar()"
   ]
  },
  {
   "cell_type": "code",
   "execution_count": 23,
   "metadata": {},
   "outputs": [
    {
     "data": {
      "text/plain": [
       "<matplotlib.colorbar.Colorbar at 0x7f80907fd2b0>"
      ]
     },
     "execution_count": 23,
     "metadata": {},
     "output_type": "execute_result"
    },
    {
     "data": {
      "image/png": "[encoded data removed]",
      "text/plain": [
       "<Figure size 288x288 with 2 Axes>"
      ]
     },
     "metadata": {
      "needs_background": "light"
     },
     "output_type": "display_data"
    },
    {
     "data": {
      "image/png": "[encoded data removed]",
      "text/plain": [
       "<Figure size 288x288 with 2 Axes>"
      ]
     },
     "metadata": {
      "needs_background": "light"
     },
     "output_type": "display_data"
    }
   ],
   "source": [
    "# Use biclustering to arrange rows and columns. \n",
    "# This seems ok, except you have to specify the amount of clusters and the initial random state seems to have quite a large effect\n",
    "\n",
    "mat = m[1,:,2,:]\n",
    "n_rows = mat.shape[0]\n",
    "\n",
    "rdm = np.zeros((n_rows,n_rows))\n",
    "\n",
    "for i in range (0, n_rows): # row dim\n",
    "    for j in range (0, n_rows): # row dim\n",
    "        rdm[i,j] = distance.euclidean(mat[i,:],mat[j,:])\n",
    "\n",
    "clustering = SpectralBiclustering(n_clusters=5, random_state=0).fit(rdm) # https://scikit-learn.org/stable/auto_examples/bicluster/plot_spectral_biclustering.html\n",
    "order = clustering.row_labels_\n",
    "\n",
    "sorted_rdm = rdm[np.argsort(clustering.row_labels_)]\n",
    "sorted_rdm = sorted_rdm[:, np.argsort(clustering.column_labels_)]\n",
    "\n",
    "img1 = plt.matshow(rdm)\n",
    "plt.axis('off')\n",
    "plt.colorbar()\n",
    "img2 = plt.matshow(sorted_rdm)\n",
    "plt.axis('off')\n",
    "img1.set_cmap('hot')\n",
    "img2.set_cmap('hot')\n",
    "plt.colorbar()"
   ]
  },
  {
   "cell_type": "code",
   "execution_count": 25,
   "metadata": {},
   "outputs": [],
   "source": [
    "# importlib.reload(scoring)"
   ]
  },
  {
   "cell_type": "code",
   "execution_count": 26,
   "metadata": {
    "scrolled": false
   },
   "outputs": [
    {
     "ename": "NameError",
     "evalue": "name 'scoring' is not defined",
     "output_type": "error",
     "traceback": [
      "\u001b[0;31m---------------------------------------------------------------------------\u001b[0m",
      "\u001b[0;31mNameError\u001b[0m                                 Traceback (most recent call last)",
      "\u001b[0;32m<ipython-input-26-970bc61955f1>\u001b[0m in \u001b[0;36m<module>\u001b[0;34m\u001b[0m\n\u001b[1;32m     11\u001b[0m     \u001b[0;32mfor\u001b[0m \u001b[0mi\u001b[0m \u001b[0;32min\u001b[0m \u001b[0mrange\u001b[0m \u001b[0;34m(\u001b[0m\u001b[0;36m0\u001b[0m\u001b[0;34m,\u001b[0m \u001b[0mn_rows\u001b[0m\u001b[0;34m)\u001b[0m\u001b[0;34m:\u001b[0m \u001b[0;31m# row dim\u001b[0m\u001b[0;34m\u001b[0m\u001b[0;34m\u001b[0m\u001b[0m\n\u001b[1;32m     12\u001b[0m         \u001b[0;32mfor\u001b[0m \u001b[0mj\u001b[0m \u001b[0;32min\u001b[0m \u001b[0mrange\u001b[0m \u001b[0;34m(\u001b[0m\u001b[0;36m0\u001b[0m\u001b[0;34m,\u001b[0m \u001b[0mn_rows\u001b[0m\u001b[0;34m)\u001b[0m\u001b[0;34m:\u001b[0m \u001b[0;31m# row dim\u001b[0m\u001b[0;34m\u001b[0m\u001b[0;34m\u001b[0m\u001b[0m\n\u001b[0;32m---> 13\u001b[0;31m             \u001b[0mrdm\u001b[0m\u001b[0;34m[\u001b[0m\u001b[0mi\u001b[0m\u001b[0;34m,\u001b[0m\u001b[0mj\u001b[0m\u001b[0;34m,\u001b[0m\u001b[0mstep\u001b[0m\u001b[0;34m]\u001b[0m \u001b[0;34m=\u001b[0m \u001b[0mscoring\u001b[0m\u001b[0;34m.\u001b[0m\u001b[0mget_jaccard\u001b[0m\u001b[0;34m(\u001b[0m\u001b[0mmat\u001b[0m\u001b[0;34m[\u001b[0m\u001b[0mi\u001b[0m\u001b[0;34m,\u001b[0m\u001b[0mstep\u001b[0m\u001b[0;34m,\u001b[0m\u001b[0;34m:\u001b[0m\u001b[0;34m]\u001b[0m\u001b[0;34m,\u001b[0m\u001b[0mmat\u001b[0m\u001b[0;34m[\u001b[0m\u001b[0mj\u001b[0m\u001b[0;34m,\u001b[0m\u001b[0mstep\u001b[0m\u001b[0;34m,\u001b[0m\u001b[0;34m:\u001b[0m\u001b[0;34m]\u001b[0m\u001b[0;34m)\u001b[0m\u001b[0;34m\u001b[0m\u001b[0;34m\u001b[0m\u001b[0m\n\u001b[0m\u001b[1;32m     14\u001b[0m \u001b[0;34m\u001b[0m\u001b[0m\n\u001b[1;32m     15\u001b[0m \u001b[0;32mfor\u001b[0m \u001b[0mstep\u001b[0m \u001b[0;32min\u001b[0m \u001b[0mrange\u001b[0m\u001b[0;34m(\u001b[0m\u001b[0;36m0\u001b[0m\u001b[0;34m,\u001b[0m\u001b[0mtime_steps\u001b[0m\u001b[0;34m)\u001b[0m\u001b[0;34m:\u001b[0m\u001b[0;34m\u001b[0m\u001b[0;34m\u001b[0m\u001b[0m\n",
      "\u001b[0;31mNameError\u001b[0m: name 'scoring' is not defined"
     ]
    }
   ],
   "source": [
    "# Create and display RDMs for one structure (all ppts, one phase)\n",
    "\n",
    "mat = m[3,:,:,:]\n",
    "\n",
    "n_rows = mat.shape[0]\n",
    "time_steps = mat.shape[1]\n",
    "\n",
    "rdm = np.zeros((n_rows,n_rows, time_steps))\n",
    "\n",
    "for step in range(0,time_steps):\n",
    "    for i in range (0, n_rows): # row dim\n",
    "        for j in range (0, n_rows): # row dim\n",
    "            rdm[i,j,step] = scoring.get_jaccard(mat[i,step,:],mat[j,step,:])\n",
    "        \n",
    "for step in range(0,time_steps):\n",
    "    img = plt.matshow(rdm[:,:,step])\n",
    "    img.set_cmap('hot')\n",
    "    plt.axis('off')\n",
    "    plt.savefig(\"test.png\", bbox_inches='tight')\n",
    "    plt.colorbar()"
   ]
  },
  {
   "cell_type": "markdown",
   "metadata": {},
   "source": [
    "## Sequences of world states by action"
   ]
  },
  {
   "cell_type": "code",
   "execution_count": null,
   "metadata": {
    "scrolled": false
   },
   "outputs": [],
   "source": [
    "# Spread flatDiscreteWorld over columns\n",
    "\n",
    "dfic = dfi[dfi.condition=='repeated']\n",
    "dfic = dfic[['targetName','gameID','blockNum','repetition','flatDiscreteWorld']]\n",
    "\n",
    "# Create index names\n",
    "# for i in range(0,len(dfi['flatDiscreteWorld'][0])):\n",
    "#     inds.append('w_' + str(i).zfill(3))\n",
    "\n",
    "# Create columns from values in flatDiscreteWorld\n",
    "world_cols = dfic.apply(lambda x: pd.Series(x['flatDiscreteWorld']), axis=1)\n",
    "dfic = pd.concat([dfic, world_cols], axis=1)"
   ]
  },
  {
   "cell_type": "code",
   "execution_count": null,
   "metadata": {},
   "outputs": [],
   "source": [
    "# Make empty values for non-existent blockNums \n",
    "\n",
    "targets = np.sort(df['targetName'].unique())\n",
    "ppts = np.sort(df['gameID'].unique())\n",
    "reps = np.sort(df['repetition'].unique())\n",
    "max_actions = dfic['blockNum'].max()\n",
    "\n",
    "n_targets = df['targetName'].nunique()\n",
    "n_ppts = df['gameID'].nunique()\n",
    "n_reps = df['repetition'].nunique()\n",
    "n_grid_squares = 13*18\n",
    "\n",
    "# create multi-index\n",
    "block_placement_index = (\n",
    "    pd.MultiIndex\n",
    "    .from_product(\n",
    "        iterables=[targets, ppts, reps, range(1,max_actions + 1)],\n",
    "        names=['targetName', 'gameID','repetition','blockNum']\n",
    "    )\n",
    ")\n",
    "\n",
    "# set indexes, then replace with full product index, filling blank values with NaNs \n",
    "world_states = dfic.set_index(['targetName', 'gameID','repetition','blockNum']).\\\n",
    "    reindex(index=block_placement_index, fill_value=np.nan).reset_index()"
   ]
  },
  {
   "cell_type": "code",
   "execution_count": null,
   "metadata": {
    "scrolled": false
   },
   "outputs": [],
   "source": [
    "# Get scores for each pair of repetitions\n",
    "\n",
    "importlib.reload(scoring)\n",
    "\n",
    "rep_pairs = list(combinations_with_replacement(reps,2))\n",
    "\n",
    "def get_scores(x):\n",
    "    tmp_df = pd.DataFrame(rep_pairs,\n",
    "                          columns=['rep_a','rep_b'])\n",
    "    #tmp_df = tmp_df.assign(score=lambda r: x[x.repetition==r.rep_a]['flatDiscreteWorld'])\n",
    "    tmp_df['score'] = tmp_df.apply(lambda r: scoring.get_jaccard(\\\n",
    "                            x[x.repetition==r.rep_a].iloc[:,5:].values,\\\n",
    "                            x[x.repetition==r.rep_b].iloc[:,5:].values),\\\n",
    "                                                    axis=1)\n",
    "    return tmp_df\n",
    "\n",
    "scores_df = world_states.groupby(['targetName','gameID','blockNum']).apply(lambda x: get_scores(x))\\\n",
    "                               .reset_index()"
   ]
  },
  {
   "cell_type": "code",
   "execution_count": 20,
   "metadata": {},
   "outputs": [
    {
     "ename": "NameError",
     "evalue": "name 'scores_df' is not defined",
     "output_type": "error",
     "traceback": [
      "\u001b[0;31m---------------------------------------------------------------------------\u001b[0m",
      "\u001b[0;31mNameError\u001b[0m                                 Traceback (most recent call last)",
      "\u001b[0;32m<ipython-input-20-889363c6d2ab>\u001b[0m in \u001b[0;36m<module>\u001b[0;34m\u001b[0m\n\u001b[1;32m      1\u001b[0m \u001b[0;31m# Add convenient names for pairs of repeititons\u001b[0m\u001b[0;34m\u001b[0m\u001b[0;34m\u001b[0m\u001b[0;34m\u001b[0m\u001b[0m\n\u001b[0;32m----> 2\u001b[0;31m \u001b[0mscores_df\u001b[0m\u001b[0;34m[\u001b[0m\u001b[0;34m'reps'\u001b[0m\u001b[0;34m]\u001b[0m \u001b[0;34m=\u001b[0m \u001b[0mscores_df\u001b[0m\u001b[0;34m.\u001b[0m\u001b[0mapply\u001b[0m\u001b[0;34m(\u001b[0m\u001b[0;32mlambda\u001b[0m \u001b[0mrow\u001b[0m\u001b[0;34m:\u001b[0m \u001b[0mstr\u001b[0m\u001b[0;34m(\u001b[0m\u001b[0mint\u001b[0m\u001b[0;34m(\u001b[0m\u001b[0mrow\u001b[0m\u001b[0;34m.\u001b[0m\u001b[0mrep_a\u001b[0m\u001b[0;34m)\u001b[0m\u001b[0;34m)\u001b[0m \u001b[0;34m+\u001b[0m \u001b[0;34m' to '\u001b[0m \u001b[0;34m+\u001b[0m \u001b[0mstr\u001b[0m\u001b[0;34m(\u001b[0m\u001b[0mint\u001b[0m\u001b[0;34m(\u001b[0m\u001b[0mrow\u001b[0m\u001b[0;34m.\u001b[0m\u001b[0mrep_b\u001b[0m\u001b[0;34m)\u001b[0m\u001b[0;34m)\u001b[0m\u001b[0;34m,\u001b[0m \u001b[0maxis\u001b[0m \u001b[0;34m=\u001b[0m \u001b[0;36m1\u001b[0m\u001b[0;34m)\u001b[0m\u001b[0;34m\u001b[0m\u001b[0;34m\u001b[0m\u001b[0m\n\u001b[0m",
      "\u001b[0;31mNameError\u001b[0m: name 'scores_df' is not defined"
     ]
    }
   ],
   "source": [
    "# Add convenient names for pairs of repeititons\n",
    "scores_df['reps'] = scores_df.apply(lambda row: str(int(row.rep_a)) + ' to ' + str(int(row.rep_b)), axis = 1) "
   ]
  },
  {
   "cell_type": "code",
   "execution_count": null,
   "metadata": {},
   "outputs": [],
   "source": [
    "scores_sample = scores_df[scores_df.reps.isin(['0 to 1','1 to 2','2 to 3'])]\n",
    "\n",
    "g = sns.FacetGrid(scores_sample, col=\"targetName\", col_wrap=2, height=6, hue=\"reps\")\n",
    "g.map(sns.lineplot, \"blockNum\", \"score\");\n",
    "plt.legend(bbox_to_anchor=(1.0,1))"
   ]
  },
  {
   "cell_type": "code",
   "execution_count": null,
   "metadata": {},
   "outputs": [],
   "source": [
    "# Label pairs of repetitions by amount of overlap\n",
    "\n",
    "def same_diff_from_jaccard(j):\n",
    "    if np.isnan(j):\n",
    "        return 'no values'\n",
    "    elif j==1:\n",
    "        return 'same'\n",
    "    elif j==0:\n",
    "        return 'no overlap'\n",
    "    else:\n",
    "        return 'overlap'\n",
    "    \n",
    "v_s = np.vectorize(same_diff_from_jaccard)\n",
    "    \n",
    "scores_df['samediff'] = v_s(scores_df.score)"
   ]
  },
  {
   "cell_type": "code",
   "execution_count": null,
   "metadata": {
    "scrolled": false
   },
   "outputs": [],
   "source": [
    "scores_sample = scores_df[(scores_df.targetName==targets[0]) & (scores_df.reps.isin(['0 to 1','1 to 2','2 to 3']))]\n",
    "\n",
    "# g = sns.FacetGrid(scores_sample, col=\"reps\", col_wrap=2, height=6, hue=\"samediff\")\n",
    "# g.map(sns.barplot, \"blockNum\", );\n",
    "# plt.legend(bbox_to_anchor=(1.0,1))"
   ]
  },
  {
   "cell_type": "code",
   "execution_count": null,
   "metadata": {},
   "outputs": [],
   "source": [
    "scores_df.groupby(['targetName','blockNum','reps'])['samediff'].value_counts()"
   ]
  },
  {
   "cell_type": "code",
   "execution_count": null,
   "metadata": {},
   "outputs": [],
   "source": []
  },
  {
   "cell_type": "code",
   "execution_count": null,
   "metadata": {},
   "outputs": [],
   "source": []
  },
  {
   "cell_type": "code",
   "execution_count": null,
   "metadata": {
    "scrolled": false
   },
   "outputs": [],
   "source": [
    "# calculate all distances\n",
    "\n",
    "# each small multiple is a target structure\n",
    "# rows and columns are repetitions\n",
    "# each value is a within participant, within structure, within action index, across repetition distance\n",
    "# each layer is an action\n",
    "targets = np.sort(df['targetName'].unique())\n",
    "ppts = np.sort(df['gameID'].unique())\n",
    "reps = np.sort(df['repetition'].unique())\n",
    "\n",
    "n_targets = df['targetName'].nunique()\n",
    "n_ppts = df['gameID'].nunique()\n",
    "n_reps = df['repetition'].nunique()\n",
    "n_grid_squares = 13*18\n",
    "\n",
    "max_actions = df['numBlocks'].max()\n",
    "\n",
    "dfic = dfi[['targetName','gameID','blockNum','condition','repetition','flatDiscreteWorld']]\n",
    "dfic = dfic[dfic.condition=='repeated']\n",
    "\n",
    "n_rows = n_reps\n",
    "n_cols = n_reps\n",
    "\n",
    "all_dists = np.zeros((n_targets, n_ppts, max_actions, n_rows, n_cols))\n",
    "\n",
    "df_dists = pd.DataFrame(columns=['target', 'participant', 'block_num','rep_a','rep_b','dist'])\n",
    "\n",
    "for t in range(0, n_targets):\n",
    "    for p in range(0, n_ppts):\n",
    "        for a in range(0, max_actions):\n",
    "            for rep_a in range (0, n_rows): # row dim\n",
    "                for rep_b in range (0, n_cols): # col dim\n",
    "                    world_a = all_worlds[t,p,a,rep_a,:]\n",
    "                    world_b = all_worlds[t,p,a,rep_b,:]\n",
    "                    all_dists[t,p,a,rep_a,rep_b] = scoring.get_jaccard(world_a,world_b)\n",
    "#                     df_dists = df_dists.append({'target': t,\n",
    "#                                     'participant': p, \n",
    "#                                     'block_num': a,\n",
    "#                                     'rep_a': rep_a,\n",
    "#                                     'rep_b': rep_b,\n",
    "#                                     'dist':scoring.get_jaccard(world_a,world_b)}, ignore_index=True)"
   ]
  },
  {
   "cell_type": "code",
   "execution_count": null,
   "metadata": {},
   "outputs": [],
   "source": [
    "v_jaccard = np.vectorize(scoring.get_jaccard)"
   ]
  },
  {
   "cell_type": "code",
   "execution_count": null,
   "metadata": {},
   "outputs": [],
   "source": [
    "img = plt.matshow(all_dists[1,3,8,:,:])\n",
    "img.set_cmap('hot')\n",
    "plt.axis('off')\n",
    "plt.colorbar()"
   ]
  },
  {
   "cell_type": "code",
   "execution_count": null,
   "metadata": {
    "scrolled": true
   },
   "outputs": [],
   "source": [
    "for action in range(0, max_actions):\n",
    "    action_dists = all_dists[1,:,action,:,:]\n",
    "    img.set_cmap('hot')\n",
    "    norm = plt.Normalize(0, 1)\n",
    "    img = plt.matshow(np.nanmean(action_dists, axis=0), norm=norm)\n",
    "    plt.axis('off')\n",
    "    plt.colorbar()"
   ]
  },
  {
   "cell_type": "code",
   "execution_count": null,
   "metadata": {},
   "outputs": [],
   "source": [
    "plt.set_cmap('hot')\n",
    "cmap = plt.cm.get_cmap()\n",
    "cmap.set_bad(color='green')\n",
    "norm = plt.Normalize(0, 1)\n",
    "\n",
    "for action in range(0, max_actions):\n",
    "    img = plt.matshow(all_dists[0,5,action,:,:], cmap = cmap, norm=norm)\n",
    "    plt.axis('off')\n",
    "    plt.colorbar()"
   ]
  },
  {
   "cell_type": "code",
   "execution_count": null,
   "metadata": {},
   "outputs": [],
   "source": [
    "#all_dists = (n_targets, n_ppts, max_actions, n_rows, n_cols)"
   ]
  },
  {
   "cell_type": "code",
   "execution_count": null,
   "metadata": {},
   "outputs": [],
   "source": [
    "mean_dists_ppts = np.mean(all_dists[:,:,:,:,:], axis = 1)\n",
    "mean_dists_ppts.shape"
   ]
  },
  {
   "cell_type": "code",
   "execution_count": null,
   "metadata": {},
   "outputs": [],
   "source": [
    "df_dists['reps'] = df_dists.apply(lambda row: str(int(row.rep_a)) + ' to ' + str(int(row.rep_b)), axis = 1) "
   ]
  },
  {
   "cell_type": "code",
   "execution_count": null,
   "metadata": {},
   "outputs": [],
   "source": [
    "#fig = plt.figure(figsize=(10,6))\n",
    "g = sns.FacetGrid(df_dists, row=\"target\", hue=\"rep_a\")\n",
    "g.map(sns.scatterplot, \"block_num\", \"dist\")"
   ]
  },
  {
   "cell_type": "code",
   "execution_count": null,
   "metadata": {
    "scrolled": false
   },
   "outputs": [],
   "source": [
    "fig = plt.figure()\n",
    "fig.set_size_inches(12, 16)\n",
    "sns.set(style=\"ticks\", rc={\"lines.linewidth\": 1})\n",
    "g = sns.FacetGrid(df_dists, col=\"target\", hue=\"reps\", col_wrap=2, height=8)\n",
    "g.map(sns.scatterplot, \"block_num\", \"dist\", s=15)\n",
    "g.map(sns.lineplot, \"block_num\", \"dist\")\n",
    "\n",
    "\n",
    "#g.map(sns.lineplot, \"block_num\", \"dist\")"
   ]
  },
  {
   "cell_type": "code",
   "execution_count": null,
   "metadata": {},
   "outputs": [],
   "source": [
    "df_dists.reps.unique()"
   ]
  },
  {
   "cell_type": "code",
   "execution_count": null,
   "metadata": {
    "scrolled": false
   },
   "outputs": [],
   "source": [
    "fig = plt.figure()\n",
    "fig.set_size_inches(12, 16)\n",
    "sns.set(style=\"ticks\", rc={\"lines.linewidth\": 1})\n",
    "g = sns.FacetGrid(df_dists[(df_dists.target==0) & (df_dists.participant.isin(range(0,5)))], col=\"reps\", hue=\"participant\", col_wrap=4, height=6)\n",
    "g.map(sns.scatterplot, \"block_num\", \"dist\", s=15)\n",
    "g.map(sns.pointplot, \"block_num\", \"dist\")\n"
   ]
  },
  {
   "cell_type": "code",
   "execution_count": null,
   "metadata": {
    "scrolled": false
   },
   "outputs": [],
   "source": [
    "target = 0\n",
    "\n",
    "fig = plt.figure(figsize=(10, 20))\n",
    "\n",
    "for t in range(0, n_targets): \n",
    "    plt.subplot(4,2,t+1)\n",
    "    plt.plot(mean_dists_ppts[t,:,0,1], label=\"1 to 2\", color=line_cmap[0])\n",
    "    #plt.plot(mean_dists_ppts[t,:,0,2], label=\"1 to 3\", color=line_cmap[1])\n",
    "    #plt.plot(mean_dists_ppts[t,:,0,3], label=\"1 to 4\", color=line_cmap[2])\n",
    "    plt.plot(mean_dists_ppts[t,:,1,2], label=\"2 to 3\", color=line_cmap[3])\n",
    "    #plt.plot(mean_dists_ppts[t,:,1,3], label=\"2 to 4\", color=line_cmap[4])\n",
    "    plt.plot(mean_dists_ppts[t,:,2,3], label=\"3 to 4\", color=line_cmap[5])\n",
    "plt.legend()\n",
    "box = ax.get_position()\n",
    "ax.set_position([box.x0, box.y0, box.width * 0.8, box.height])"
   ]
  },
  {
   "cell_type": "code",
   "execution_count": null,
   "metadata": {},
   "outputs": [],
   "source": []
  },
  {
   "cell_type": "code",
   "execution_count": null,
   "metadata": {},
   "outputs": [],
   "source": [
    "target = 0\n",
    "\n",
    "fig = plt.figure(figsize=(10, 20))\n",
    "\n",
    "for t in range(0, n_targets): \n",
    "    plt.subplot(4,2,t+1)\n",
    "    plt.plot(mean_dists_ppts[t,:,0,1], label=\"1 to 2\", color=line_cmap[0])\n",
    "    plt.scatter(x = all_dists[:,t,1,0,1], label=\"1 to 2\", color=line_cmap[0])\n",
    "    #plt.plot(mean_dists_ppts[t,:,0,2], label=\"1 to 3\", color=line_cmap[1])\n",
    "    #plt.plot(mean_dists_ppts[t,:,0,3], label=\"1 to 4\", color=line_cmap[2])\n",
    "    plt.plot(mean_dists_ppts[t,:,1,2], label=\"2 to 3\", color=line_cmap[3])\n",
    "    #plt.plot(mean_dists_ppts[t,:,1,3], label=\"2 to 4\", color=line_cmap[4])\n",
    "    plt.plot(mean_dists_ppts[t,:,2,3], label=\"3 to 4\", color=line_cmap[5])\n",
    "plt.legend()\n",
    "box = ax.get_position()\n",
    "ax.set_position([box.x0, box.y0, box.width * 0.8, box.height])"
   ]
  },
  {
   "cell_type": "code",
   "execution_count": null,
   "metadata": {},
   "outputs": [],
   "source": []
  },
  {
   "cell_type": "markdown",
   "metadata": {},
   "source": [
    "At each time point\n",
    "Relative proportion of full/partial/zero overlap\n",
    "Each point has a distribution of Jaccard numbers\n",
    "\n",
    "\n",
    "Over time, integration- area under curves"
   ]
  },
  {
   "cell_type": "code",
   "execution_count": null,
   "metadata": {},
   "outputs": [],
   "source": [
    "target = 0\n",
    "\n",
    "fig = plt.figure(figsize=(10, 20))\n",
    "\n",
    "for t in range(0, n_targets): \n",
    "    plt.subplot(4,2,t+1)\n",
    "    plt.plot(all_dists[t,1,:,0,1], label=\"1 to 2\", color=line_cmap[0])\n",
    "    plt.plot(all_dists[t,1,:,0,2], label=\"1 to 3\", color=line_cmap[1])\n",
    "    plt.plot(all_dists[t,1,:,0,3], label=\"1 to 4\", color=line_cmap[2])\n",
    "    plt.plot(all_dists[t,1,:,1,2], label=\"2 to 3\", color=line_cmap[3])\n",
    "    plt.plot(all_dists[t,1,:,1,3], label=\"2 to 4\", color=line_cmap[4])\n",
    "    plt.plot(all_dists[t,1,:,2,3], label=\"3 to 4\", color=line_cmap[5])\n",
    "plt.legend()\n",
    "box = ax.get_position()\n",
    "ax.set_position([box.x0, box.y0, box.width * 0.8, box.height])\n",
    "    \n"
   ]
  },
  {
   "cell_type": "markdown",
   "metadata": {},
   "source": [
    "## Test Jaccard"
   ]
  },
  {
   "cell_type": "code",
   "execution_count": null,
   "metadata": {},
   "outputs": [],
   "source": [
    "arr1, arr2 = np.zeros((13,18)), np.zeros((13,18))\n",
    "\n",
    "arr1[0:2,6:10] = 1\n",
    "plt.matshow(arr1)\n",
    "print('arr1: ', np.count_nonzero(arr1))\n",
    "\n",
    "arr2[0:2,7:11] = 1\n",
    "print('arr2: ', np.count_nonzero(arr1))\n",
    "plt.matshow(arr2)\n",
    "\n",
    "print('Jaccard: ', scoring.get_jaccard(arr1,arr2))"
   ]
  },
  {
   "cell_type": "code",
   "execution_count": null,
   "metadata": {},
   "outputs": [],
   "source": []
  },
  {
   "cell_type": "code",
   "execution_count": null,
   "metadata": {},
   "outputs": [],
   "source": [
    "importlib.reload(rda)\n",
    "\n",
    "all_dists, all_values = rda.rda_from_df(dfi[(dfi.gameID == ppts[0])], \n",
    "    row_col='repetition', \n",
    "    value_col='flatDiscreteWorld',\n",
    "    small_multiple_col='targetName', \n",
    "    layer_col='blockNum')"
   ]
  },
  {
   "cell_type": "code",
   "execution_count": null,
   "metadata": {},
   "outputs": [],
   "source": [
    "all_dists.shape"
   ]
  },
  {
   "cell_type": "code",
   "execution_count": null,
   "metadata": {},
   "outputs": [],
   "source": [
    "\"afa \" +\\\n",
    "str(\"!E\") +\\\n",
    "\"f\""
   ]
  },
  {
   "cell_type": "code",
   "execution_count": null,
   "metadata": {},
   "outputs": [],
   "source": []
  }
 ],
 "metadata": {
  "kernelspec": {
   "display_name": "Python 3",
   "language": "python",
   "name": "python3"
  },
  "language_info": {
   "codemirror_mode": {
    "name": "ipython",
    "version": 3
   },
   "file_extension": ".py",
   "mimetype": "text/x-python",
   "name": "python",
   "nbconvert_exporter": "python",
   "pygments_lexer": "ipython3",
   "version": "3.7.3"
  }
 },
 "nbformat": 4,
 "nbformat_minor": 2
}
