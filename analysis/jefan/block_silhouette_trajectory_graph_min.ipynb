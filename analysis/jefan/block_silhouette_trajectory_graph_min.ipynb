{
 "cells": [
  {
   "cell_type": "code",
   "execution_count": null,
   "metadata": {},
   "outputs": [],
   "source": [
    "import os\n",
    "import sys\n",
    "import urllib, io\n",
    "os.getcwd()\n",
    "sys.path.append(\"..\")\n",
    "sys.path.append(\"../utils\")\n",
    "proj_dir = os.path.abspath('../..')\n",
    "\n",
    "## add helpers to python path\n",
    "if os.path.join(proj_dir,'stimuli') not in sys.path:\n",
    "    sys.path.append(os.path.join(proj_dir,'stimuli'))\n",
    "\n",
    "import numpy as np\n",
    "import scipy.stats as stats\n",
    "import pandas as pd\n",
    "from scipy.spatial import distance\n",
    "from scipy import ndimage\n",
    "from random import random\n",
    "from sklearn.cluster import SpectralBiclustering\n",
    "import itertools\n",
    "\n",
    "import pymongo as pm\n",
    "from collections import Counter\n",
    "import json\n",
    "import re\n",
    "import ast\n",
    "\n",
    "from PIL import Image, ImageOps, ImageDraw, ImageFont \n",
    "\n",
    "from io import BytesIO\n",
    "import base64\n",
    "\n",
    "import  matplotlib\n",
    "from matplotlib import pylab, mlab, pyplot\n",
    "%matplotlib inline\n",
    "from IPython.core.pylabtools import figsize, getfigs\n",
    "plt = pyplot\n",
    "import matplotlib as mpl\n",
    "mpl.rcParams['pdf.fonttype'] = 42\n",
    "from matplotlib import colors\n",
    "\n",
    "import seaborn as sns\n",
    "sns.set_context('talk')\n",
    "sns.set_style('darkgrid')\n",
    "\n",
    "from IPython.display import clear_output\n",
    "\n",
    "import warnings\n",
    "warnings.filterwarnings(\"ignore\", category=DeprecationWarning)\n",
    "warnings.filterwarnings(\"ignore\", message=\"numpy.dtype size changed\")\n",
    "warnings.filterwarnings(\"ignore\", message=\"numpy.ufunc size changed\")\n",
    "\n",
    "import plotly\n",
    "import plotly.graph_objects as go\n",
    "import plotly.io as pio\n",
    "pio.orca.config.use_xvfb = True\n",
    "plotly.io.orca.config.save()\n",
    "\n",
    "# import blockworld_helpers as utils\n",
    "# import drawing_utils as drawing\n",
    "# import scoring\n",
    "# import rda\n",
    "\n",
    "import importlib\n",
    "import graph as g"
   ]
  },
  {
   "cell_type": "code",
   "execution_count": null,
   "metadata": {},
   "outputs": [],
   "source": [
    "## directory & file hierarchy\n",
    "proj_dir = os.path.abspath('../..')\n",
    "datavol_dir = os.path.join(proj_dir,'data')\n",
    "analysis_dir = os.path.abspath(os.path.join(os.getcwd(),'..'))\n",
    "results_dir = os.path.join(analysis_dir,'results')\n",
    "stim_dir = os.path.join(proj_dir,'stimuli')\n",
    "plot_dir = os.path.join(results_dir,'plots')\n",
    "csv_dir = os.path.join(results_dir,'csv')\n",
    "json_dir = os.path.join(results_dir,'json')\n",
    "exp_dir = os.path.abspath(os.path.join(proj_dir,'experiments'))\n",
    "png_dir = os.path.abspath(os.path.join(datavol_dir,'png'))\n",
    "jefan_dir = os.path.join(analysis_dir,'jefan')\n",
    "will_dir = os.path.join(analysis_dir,'will')\n",
    "    \n",
    "if not os.path.exists(results_dir):\n",
    "    os.makedirs(results_dir)\n",
    "    \n",
    "if not os.path.exists(plot_dir):\n",
    "    os.makedirs(plot_dir)   \n",
    "    \n",
    "if not os.path.exists(csv_dir):\n",
    "    os.makedirs(csv_dir)       "
   ]
  },
  {
   "cell_type": "markdown",
   "metadata": {},
   "source": [
    "### load in data"
   ]
  },
  {
   "cell_type": "code",
   "execution_count": null,
   "metadata": {},
   "outputs": [],
   "source": [
    "iteration_name = 'Exp2Pilot3'\n",
    "num_trials = 24 #for sanity checks"
   ]
  },
  {
   "cell_type": "code",
   "execution_count": null,
   "metadata": {},
   "outputs": [],
   "source": [
    "# Data already compiled into dataframes in CogSci 2020 Dataframe Generator\n",
    "\n",
    "# trial_end data\n",
    "trial_path = os.path.join(csv_dir,'block_silhouette_{}_good.csv'.format(iteration_name))\n",
    "df = pd.read_csv(trial_path)\n",
    "\n",
    "# # initial_block data\n",
    "initial_path = os.path.join(csv_dir,'block_silhouette_initial_{}_good.csv'.format(iteration_name))\n",
    "dfi = pd.read_csv(initial_path)\n",
    "\n",
    "# # settled_block data\n",
    "settled_path = os.path.join(csv_dir,'block_silhouette_settled_{}_good.csv'.format(iteration_name))\n",
    "dfs = pd.read_csv(settled_path)\n",
    "\n",
    "# # Sanity Check- same participants in each dataset.\n",
    "df_participants = df.gameID.unique()\n",
    "dfs_participants = dfs.gameID.unique()\n",
    "assert Counter(df_participants) == Counter(dfs_participants)\n",
    "\n",
    "n_before_outliers = len(df_participants)\n",
    "print(str(n_before_outliers) + ' participants total')"
   ]
  },
  {
   "cell_type": "markdown",
   "metadata": {},
   "source": [
    "### apply preprocessing"
   ]
  },
  {
   "cell_type": "code",
   "execution_count": null,
   "metadata": {},
   "outputs": [],
   "source": [
    "targets = np.sort(df['targetName'].unique())\n",
    "ppts = np.sort(df['gameID'].unique())\n",
    "reps = np.sort(df['repetition'].unique())\n",
    "\n",
    "dfi['usableDiscreteWorld'] = dfi['discreteWorld'].apply(lambda a: 1+(-1)*np.array(ast.literal_eval(a)))\n",
    "dfi['flatDiscreteWorld'] = dfi['discreteWorld'].apply(lambda a: (1+(-1)*np.array(ast.literal_eval(a))).flatten())\n",
    "\n",
    "dfic = dfi.copy()\n",
    "#dfic = dfi[dfi.condition=='repeated']\n",
    "dfic = dfic[['targetName','gameID','blockNum','repetition','phase_extended','flatDiscreteWorld','usableDiscreteWorld','rawF1DiscreteScore']]\n",
    "dfic['discreteWorld'] = dfic['usableDiscreteWorld']\n",
    "dfic['flatDiscreteWorldStr'] = dfic['flatDiscreteWorld'].apply(g.convert_to_str)\n",
    "\n",
    "max_actions = dfic['blockNum'].max()"
   ]
  },
  {
   "cell_type": "markdown",
   "metadata": {},
   "source": [
    "### make trajectory graph"
   ]
  },
  {
   "cell_type": "code",
   "execution_count": null,
   "metadata": {
    "scrolled": false
   },
   "outputs": [],
   "source": [
    "importlib.reload(g) ## reimport graph utils\n",
    "phases = ['pre', 'post']\n",
    "for this_target in targets[:1]:\n",
    "    for this_phase in phases:\n",
    "        g.plot_trajectory_graph(data = dfic, \n",
    "                                target = this_target, \n",
    "                                phase = this_phase, \n",
    "                                save=True, \n",
    "                                out_dir = plot_dir,\n",
    "                                extension = 'test',\n",
    "                                x_lower_bound = 4,\n",
    "                                x_upper_bound = 13,\n",
    "                                edge_width_scale_factor = 0.8,\n",
    "                                node_size_scale_factor = 0.8)"
   ]
  },
  {
   "cell_type": "code",
   "execution_count": null,
   "metadata": {},
   "outputs": [],
   "source": []
  }
 ],
 "metadata": {
  "kernelspec": {
   "display_name": "Python 3",
   "language": "python",
   "name": "python3"
  },
  "language_info": {
   "codemirror_mode": {
    "name": "ipython",
    "version": 3
   },
   "file_extension": ".py",
   "mimetype": "text/x-python",
   "name": "python",
   "nbconvert_exporter": "python",
   "pygments_lexer": "ipython3",
   "version": "3.7.3"
  }
 },
 "nbformat": 4,
 "nbformat_minor": 2
}
