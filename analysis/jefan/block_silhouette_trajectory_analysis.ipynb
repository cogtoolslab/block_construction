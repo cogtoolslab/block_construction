{
 "cells": [
  {
   "cell_type": "code",
   "execution_count": 1,
   "metadata": {},
   "outputs": [],
   "source": [
    "import os\n",
    "import sys\n",
    "import urllib, io\n",
    "os.getcwd()\n",
    "sys.path.append(\"..\")\n",
    "sys.path.append(\"../utils\")\n",
    "proj_dir = os.path.abspath('../..')\n",
    "\n",
    "## add helpers to python path\n",
    "if os.path.join(proj_dir,'stimuli') not in sys.path:\n",
    "    sys.path.append(os.path.join(proj_dir,'stimuli'))\n",
    "\n",
    "import numpy as np\n",
    "import scipy.stats as stats\n",
    "import pandas as pd\n",
    "from scipy.spatial import distance\n",
    "from scipy import ndimage\n",
    "from random import random\n",
    "from sklearn.cluster import SpectralBiclustering\n",
    "import itertools\n",
    "\n",
    "import pymongo as pm\n",
    "from collections import Counter\n",
    "import json\n",
    "import re\n",
    "import ast\n",
    "\n",
    "from PIL import Image, ImageOps, ImageDraw, ImageFont \n",
    "\n",
    "from io import BytesIO\n",
    "import base64\n",
    "\n",
    "import  matplotlib\n",
    "from matplotlib import pylab, mlab, pyplot\n",
    "%matplotlib inline\n",
    "from IPython.core.pylabtools import figsize, getfigs\n",
    "plt = pyplot\n",
    "import matplotlib as mpl\n",
    "mpl.rcParams['pdf.fonttype'] = 42\n",
    "from matplotlib import colors\n",
    "\n",
    "import seaborn as sns\n",
    "sns.set_context('talk')\n",
    "sns.set_style('darkgrid')\n",
    "\n",
    "from IPython.display import clear_output\n",
    "\n",
    "import warnings\n",
    "warnings.filterwarnings(\"ignore\", category=DeprecationWarning)\n",
    "warnings.filterwarnings(\"ignore\", message=\"numpy.dtype size changed\")\n",
    "warnings.filterwarnings(\"ignore\", message=\"numpy.ufunc size changed\")\n",
    "\n",
    "import plotly\n",
    "import plotly.graph_objects as go\n",
    "import plotly.io as pio\n",
    "pio.orca.config.use_xvfb = True\n",
    "plotly.io.orca.config.save()\n",
    "\n",
    "import importlib\n",
    "import graph as g"
   ]
  },
  {
   "cell_type": "code",
   "execution_count": 2,
   "metadata": {},
   "outputs": [],
   "source": [
    "## directory & file hierarchy\n",
    "proj_dir = os.path.abspath('../..')\n",
    "datavol_dir = os.path.join(proj_dir,'data')\n",
    "analysis_dir = os.path.abspath(os.path.join(os.getcwd(),'..'))\n",
    "results_dir = os.path.join(analysis_dir,'results')\n",
    "stim_dir = os.path.join(proj_dir,'stimuli')\n",
    "plot_dir = os.path.join(results_dir,'plots')\n",
    "csv_dir = os.path.join(results_dir,'csv')\n",
    "json_dir = os.path.join(results_dir,'json')\n",
    "exp_dir = os.path.abspath(os.path.join(proj_dir,'experiments'))\n",
    "png_dir = os.path.abspath(os.path.join(datavol_dir,'png'))\n",
    "jefan_dir = os.path.join(analysis_dir,'jefan')\n",
    "will_dir = os.path.join(analysis_dir,'will')\n",
    "    \n",
    "if not os.path.exists(results_dir):\n",
    "    os.makedirs(results_dir)\n",
    "    \n",
    "if not os.path.exists(plot_dir):\n",
    "    os.makedirs(plot_dir)   \n",
    "    \n",
    "if not os.path.exists(csv_dir):\n",
    "    os.makedirs(csv_dir)       "
   ]
  },
  {
   "cell_type": "markdown",
   "metadata": {},
   "source": [
    "### load in data"
   ]
  },
  {
   "cell_type": "code",
   "execution_count": 3,
   "metadata": {},
   "outputs": [],
   "source": [
    "iteration_name = 'Exp2Pilot3'\n",
    "num_trials = 24 #for sanity checks"
   ]
  },
  {
   "cell_type": "code",
   "execution_count": 4,
   "metadata": {},
   "outputs": [
    {
     "name": "stdout",
     "output_type": "stream",
     "text": [
      "49 participants total\n"
     ]
    }
   ],
   "source": [
    "# Data already compiled into dataframes in CogSci 2020 Dataframe Generator\n",
    "\n",
    "# trial_end data\n",
    "trial_path = os.path.join(csv_dir,'block_silhouette_{}_good.csv'.format(iteration_name))\n",
    "df = pd.read_csv(trial_path)\n",
    "\n",
    "# # initial_block data\n",
    "initial_path = os.path.join(csv_dir,'block_silhouette_initial_{}_good.csv'.format(iteration_name))\n",
    "dfi = pd.read_csv(initial_path)\n",
    "\n",
    "# # settled_block data\n",
    "settled_path = os.path.join(csv_dir,'block_silhouette_settled_{}_good.csv'.format(iteration_name))\n",
    "dfs = pd.read_csv(settled_path)\n",
    "\n",
    "# # Sanity Check- same participants in each dataset.\n",
    "df_participants = df.gameID.unique()\n",
    "dfs_participants = dfs.gameID.unique()\n",
    "assert Counter(df_participants) == Counter(dfs_participants)\n",
    "\n",
    "n_before_outliers = len(df_participants)\n",
    "print(str(n_before_outliers) + ' participants total')"
   ]
  },
  {
   "cell_type": "markdown",
   "metadata": {},
   "source": [
    "### apply preprocessing"
   ]
  },
  {
   "cell_type": "code",
   "execution_count": 5,
   "metadata": {},
   "outputs": [],
   "source": [
    "targets = np.sort(df['targetName'].unique())\n",
    "ppts = np.sort(df['gameID'].unique())\n",
    "reps = np.sort(df['repetition'].unique())\n",
    "\n",
    "dfi['usableDiscreteWorld'] = dfi['discreteWorld'].apply(lambda a: 1+(-1)*np.array(ast.literal_eval(a)))\n",
    "dfi['flatDiscreteWorld'] = dfi['discreteWorld'].apply(lambda a: (1+(-1)*np.array(ast.literal_eval(a))).flatten())\n",
    "\n",
    "dfic = dfi.copy()\n",
    "#dfic = dfi[dfi.condition=='repeated']\n",
    "dfic = dfic[['targetName','gameID','blockNum','repetition','phase_extended','flatDiscreteWorld','usableDiscreteWorld','rawF1DiscreteScore']]\n",
    "dfic['discreteWorld'] = dfic['usableDiscreteWorld']\n",
    "dfic['flatDiscreteWorldStr'] = dfic['flatDiscreteWorld'].apply(g.convert_to_str)\n",
    "\n",
    "max_actions = dfic['blockNum'].max()"
   ]
  },
  {
   "cell_type": "markdown",
   "metadata": {},
   "source": [
    "### make trajectory graph"
   ]
  },
  {
   "cell_type": "code",
   "execution_count": 7,
   "metadata": {
    "scrolled": false
   },
   "outputs": [
    {
     "name": "stderr",
     "output_type": "stream",
     "text": [
      "/home/jefan/anaconda3/lib/python3.7/site-packages/scipy/ndimage/measurements.py:1359: RuntimeWarning:\n",
      "\n",
      "invalid value encountered in double_scalars\n",
      "\n"
     ]
    },
    {
     "data": {
      "application/vnd.plotly.v1+json": {
       "config": {
        "plotlyServerURL": "https://plot.ly"
       },
       "data": [
        {
         "hoverinfo": "none",
         "line": {
          "color": "#2e2e2e",
          "width": 0.8
         },
         "mode": "lines",
         "opacity": 0.1,
         "type": "scatter",
         "x": [
          8.5,
          11.5
         ],
         "y": [
          0,
          0.07142857142857144
         ]
        },
        {
         "hoverinfo": "none",
         "line": {
          "color": "#2e2e2e",
          "width": 21.6
         },
         "mode": "lines",
         "opacity": 0.95,
         "type": "scatter",
         "x": [
          8.5,
          6.5
         ],
         "y": [
          0,
          0.2666666666666667
         ]
        },
        {
         "hoverinfo": "none",
         "line": {
          "color": "#2e2e2e",
          "width": 0.8
         },
         "mode": "lines",
         "opacity": 0.1,
         "type": "scatter",
         "x": [
          8.5,
          12.5
         ],
         "y": [
          0,
          0
         ]
        },
        {
         "hoverinfo": "none",
         "line": {
          "color": "#2e2e2e",
          "width": 0.8
         },
         "mode": "lines",
         "opacity": 0.1,
         "type": "scatter",
         "x": [
          8.5,
          12.5
         ],
         "y": [
          0,
          0.06666666666666668
         ]
        },
        {
         "hoverinfo": "none",
         "line": {
          "color": "#2e2e2e",
          "width": 9.600000000000001
         },
         "mode": "lines",
         "opacity": 0.95,
         "type": "scatter",
         "x": [
          8.5,
          10.5
         ],
         "y": [
          0,
          0.14285714285714288
         ]
        },
        {
         "hoverinfo": "none",
         "line": {
          "color": "#2e2e2e",
          "width": 2.4000000000000004
         },
         "mode": "lines",
         "opacity": 0.5,
         "type": "scatter",
         "x": [
          8.5,
          7.5
         ],
         "y": [
          0,
          0.14285714285714288
         ]
        },
        {
         "hoverinfo": "none",
         "line": {
          "color": "#2e2e2e",
          "width": 1.6
         },
         "mode": "lines",
         "opacity": 0.3,
         "type": "scatter",
         "x": [
          8.5,
          10.5
         ],
         "y": [
          0,
          0.2666666666666667
         ]
        },
        {
         "hoverinfo": "none",
         "line": {
          "color": "#2e2e2e",
          "width": 0.8
         },
         "mode": "lines",
         "opacity": 0.1,
         "type": "scatter",
         "x": [
          8.5,
          7.5
         ],
         "y": [
          0,
          0.2666666666666667
         ]
        },
        {
         "hoverinfo": "none",
         "line": {
          "color": "#2e2e2e",
          "width": 0.8
         },
         "mode": "lines",
         "opacity": 0.1,
         "type": "scatter",
         "x": [
          8.5,
          5.5
         ],
         "y": [
          0,
          0.2
         ]
        },
        {
         "hoverinfo": "none",
         "line": {
          "color": "#2e2e2e",
          "width": 0.8
         },
         "mode": "lines",
         "opacity": 0.1,
         "type": "scatter",
         "x": [
          11.5,
          8.833333333333334
         ],
         "y": [
          0.07142857142857144,
          0.25
         ]
        },
        {
         "hoverinfo": "none",
         "line": {
          "color": "#2e2e2e",
          "width": 0.8
         },
         "mode": "lines",
         "opacity": 0.1,
         "type": "scatter",
         "x": [
          12.5,
          9.833333333333334
         ],
         "y": [
          0,
          0.1875
         ]
        },
        {
         "hoverinfo": "none",
         "line": {
          "color": "#2e2e2e",
          "width": 4.800000000000001
         },
         "mode": "lines",
         "opacity": 0.95,
         "type": "scatter",
         "x": [
          10.5,
          7.833333333333333
         ],
         "y": [
          0.14285714285714288,
          0.375
         ]
        },
        {
         "hoverinfo": "none",
         "line": {
          "color": "#2e2e2e",
          "width": 3.2
         },
         "mode": "lines",
         "opacity": 0.7,
         "type": "scatter",
         "x": [
          10.5,
          10.5
         ],
         "y": [
          0.14285714285714288,
          0.375
         ]
        },
        {
         "hoverinfo": "none",
         "line": {
          "color": "#2e2e2e",
          "width": 0.8
         },
         "mode": "lines",
         "opacity": 0.1,
         "type": "scatter",
         "x": [
          10.5,
          9
         ],
         "y": [
          0.14285714285714288,
          0.2666666666666667
         ]
        },
        {
         "hoverinfo": "none",
         "line": {
          "color": "#2e2e2e",
          "width": 0.8
         },
         "mode": "lines",
         "opacity": 0.1,
         "type": "scatter",
         "x": [
          10.5,
          7.166666666666667
         ],
         "y": [
          0.14285714285714288,
          0.3125
         ]
        },
        {
         "hoverinfo": "none",
         "line": {
          "color": "#2e2e2e",
          "width": 0.8
         },
         "mode": "lines",
         "opacity": 0.1,
         "type": "scatter",
         "x": [
          7.5,
          8.333333333333334
         ],
         "y": [
          0.14285714285714288,
          0.20689655172413796
         ]
        },
        {
         "hoverinfo": "none",
         "line": {
          "color": "#2e2e2e",
          "width": 0.8
         },
         "mode": "lines",
         "opacity": 0.1,
         "type": "scatter",
         "x": [
          7.5,
          9
         ],
         "y": [
          0.14285714285714288,
          0.2666666666666667
         ]
        },
        {
         "hoverinfo": "none",
         "line": {
          "color": "#2e2e2e",
          "width": 0.8
         },
         "mode": "lines",
         "opacity": 0.1,
         "type": "scatter",
         "x": [
          7.5,
          6.5
         ],
         "y": [
          0.14285714285714288,
          0.2666666666666667
         ]
        },
        {
         "hoverinfo": "none",
         "line": {
          "color": "#2e2e2e",
          "width": 0.8
         },
         "mode": "lines",
         "opacity": 0.1,
         "type": "scatter",
         "x": [
          8.833333333333334,
          8.071428571428571
         ],
         "y": [
          0.25,
          0.4444444444444444
         ]
        },
        {
         "hoverinfo": "none",
         "line": {
          "color": "#2e2e2e",
          "width": 0.8
         },
         "mode": "lines",
         "opacity": 0.1,
         "type": "scatter",
         "x": [
          9.833333333333334,
          11.357142857142858
         ],
         "y": [
          0.1875,
          0.2777777777777778
         ]
        },
        {
         "hoverinfo": "none",
         "line": {
          "color": "#2e2e2e",
          "width": 0.8
         },
         "mode": "lines",
         "opacity": 0.1,
         "type": "scatter",
         "x": [
          7.833333333333333,
          7.75
         ],
         "y": [
          0.375,
          0.42424242424242425
         ]
        },
        {
         "hoverinfo": "none",
         "line": {
          "color": "#2e2e2e",
          "width": 7.2
         },
         "mode": "lines",
         "opacity": 0.95,
         "type": "scatter",
         "x": [
          7.833333333333333,
          9.357142857142858
         ],
         "y": [
          0.375,
          0.5555555555555556
         ]
        },
        {
         "hoverinfo": "none",
         "line": {
          "color": "#2e2e2e",
          "width": 4
         },
         "mode": "lines",
         "opacity": 0.95,
         "type": "scatter",
         "x": [
          7.833333333333333,
          7.25
         ],
         "y": [
          0.375,
          0.42424242424242425
         ]
        },
        {
         "hoverinfo": "none",
         "line": {
          "color": "#2e2e2e",
          "width": 0.8
         },
         "mode": "lines",
         "opacity": 0.1,
         "type": "scatter",
         "x": [
          7.833333333333333,
          9
         ],
         "y": [
          0.375,
          0.3529411764705882
         ]
        },
        {
         "hoverinfo": "none",
         "line": {
          "color": "#2e2e2e",
          "width": 0.8
         },
         "mode": "lines",
         "opacity": 0.1,
         "type": "scatter",
         "x": [
          7.833333333333333,
          7.071428571428571
         ],
         "y": [
          0.375,
          0.5277777777777778
         ]
        },
        {
         "hoverinfo": "none",
         "line": {
          "color": "#2e2e2e",
          "width": 0.8
         },
         "mode": "lines",
         "opacity": 0.1,
         "type": "scatter",
         "x": [
          7.833333333333333,
          7.3
         ],
         "y": [
          0.375,
          0.4705882352941176
         ]
        },
        {
         "hoverinfo": "none",
         "line": {
          "color": "#2e2e2e",
          "width": 0.8
         },
         "mode": "lines",
         "opacity": 0.1,
         "type": "scatter",
         "x": [
          7.833333333333333,
          7.5
         ],
         "y": [
          0.375,
          0.42424242424242425
         ]
        },
        {
         "hoverinfo": "none",
         "line": {
          "color": "#2e2e2e",
          "width": 1.6
         },
         "mode": "lines",
         "opacity": 0.3,
         "type": "scatter",
         "x": [
          7.833333333333333,
          7.642857142857143
         ],
         "y": [
          0.375,
          0.5555555555555556
         ]
        },
        {
         "hoverinfo": "none",
         "line": {
          "color": "#2e2e2e",
          "width": 0.8
         },
         "mode": "lines",
         "opacity": 0.1,
         "type": "scatter",
         "x": [
          10.5,
          9.375
         ],
         "y": [
          0.375,
          0.5555555555555556
         ]
        },
        {
         "hoverinfo": "none",
         "line": {
          "color": "#2e2e2e",
          "width": 0.8
         },
         "mode": "lines",
         "opacity": 0.1,
         "type": "scatter",
         "x": [
          10.5,
          9.357142857142858
         ],
         "y": [
          0.375,
          0.5555555555555556
         ]
        },
        {
         "hoverinfo": "none",
         "line": {
          "color": "#2e2e2e",
          "width": 0.8
         },
         "mode": "lines",
         "opacity": 0.1,
         "type": "scatter",
         "x": [
          10.5,
          10
         ],
         "y": [
          0.375,
          0.4705882352941176
         ]
        },
        {
         "hoverinfo": "none",
         "line": {
          "color": "#2e2e2e",
          "width": 0.8
         },
         "mode": "lines",
         "opacity": 0.1,
         "type": "scatter",
         "x": [
          10.5,
          9.071428571428571
         ],
         "y": [
          0.375,
          0.5
         ]
        },
        {
         "hoverinfo": "none",
         "line": {
          "color": "#2e2e2e",
          "width": 0.8
         },
         "mode": "lines",
         "opacity": 0.1,
         "type": "scatter",
         "x": [
          6.125,
          7
         ],
         "y": [
          0.375,
          0.4705882352941176
         ]
        },
        {
         "hoverinfo": "none",
         "line": {
          "color": "#2e2e2e",
          "width": 0.8
         },
         "mode": "lines",
         "opacity": 0.1,
         "type": "scatter",
         "x": [
          8.166666666666666,
          7.214285714285714
         ],
         "y": [
          0.3125,
          0.4722222222222222
         ]
        },
        {
         "hoverinfo": "none",
         "line": {
          "color": "#2e2e2e",
          "width": 0.8
         },
         "mode": "lines",
         "opacity": 0.1,
         "type": "scatter",
         "x": [
          5.571428571428571,
          6.666666666666667
         ],
         "y": [
          0.28124999999999994,
          0.38235294117647056
         ]
        },
        {
         "hoverinfo": "none",
         "line": {
          "color": "#2e2e2e",
          "width": 0.8
         },
         "mode": "lines",
         "opacity": 0.1,
         "type": "scatter",
         "x": [
          7.166666666666667,
          7.285714285714286
         ],
         "y": [
          0.3125,
          0.3636363636363637
         ]
        },
        {
         "hoverinfo": "none",
         "line": {
          "color": "#2e2e2e",
          "width": 0.8
         },
         "mode": "lines",
         "opacity": 0.1,
         "type": "scatter",
         "x": [
          6.428571428571429,
          6.444444444444445
         ],
         "y": [
          0.3125,
          0.3636363636363637
         ]
        },
        {
         "hoverinfo": "none",
         "line": {
          "color": "#2e2e2e",
          "width": 0.8
         },
         "mode": "lines",
         "opacity": 0.1,
         "type": "scatter",
         "x": [
          6.833333333333333,
          6.642857142857143
         ],
         "y": [
          0.25,
          0.4166666666666667
         ]
        },
        {
         "hoverinfo": "none",
         "line": {
          "color": "#2e2e2e",
          "width": 0.8
         },
         "mode": "lines",
         "opacity": 0.1,
         "type": "scatter",
         "x": [
          8.071428571428571,
          8.166666666666666
         ],
         "y": [
          0.4444444444444444,
          0.6
         ]
        },
        {
         "hoverinfo": "none",
         "line": {
          "color": "#2e2e2e",
          "width": 0.8
         },
         "mode": "lines",
         "opacity": 0.1,
         "type": "scatter",
         "x": [
          11.357142857142858,
          11.3
         ],
         "y": [
          0.2777777777777778,
          0.45
         ]
        },
        {
         "hoverinfo": "none",
         "line": {
          "color": "#2e2e2e",
          "width": 0.8
         },
         "mode": "lines",
         "opacity": 0.1,
         "type": "scatter",
         "x": [
          6.846153846153846,
          6.8
         ],
         "y": [
          0.5,
          0.5789473684210527
         ]
        },
        {
         "hoverinfo": "none",
         "line": {
          "color": "#2e2e2e",
          "width": 0.8
         },
         "mode": "lines",
         "opacity": 0.1,
         "type": "scatter",
         "x": [
          9.375,
          10.071428571428571
         ],
         "y": [
          0.5555555555555556,
          0.7000000000000001
         ]
        },
        {
         "hoverinfo": "none",
         "line": {
          "color": "#2e2e2e",
          "width": 0.8
         },
         "mode": "lines",
         "opacity": 0.1,
         "type": "scatter",
         "x": [
          9.357142857142858,
          9.9
         ],
         "y": [
          0.5555555555555556,
          0.5945945945945945
         ]
        },
        {
         "hoverinfo": "none",
         "line": {
          "color": "#2e2e2e",
          "width": 1.6
         },
         "mode": "lines",
         "opacity": 0.3,
         "type": "scatter",
         "x": [
          9.357142857142858,
          9.5
         ],
         "y": [
          0.5555555555555556,
          0.5945945945945945
         ]
        },
        {
         "hoverinfo": "none",
         "line": {
          "color": "#2e2e2e",
          "width": 0.8
         },
         "mode": "lines",
         "opacity": 0.1,
         "type": "scatter",
         "x": [
          9.357142857142858,
          8.5
         ],
         "y": [
          0.5555555555555556,
          0.6749999999999999
         ]
        },
        {
         "hoverinfo": "none",
         "line": {
          "color": "#2e2e2e",
          "width": 0.8
         },
         "mode": "lines",
         "opacity": 0.1,
         "type": "scatter",
         "x": [
          9.357142857142858,
          9.6
         ],
         "y": [
          0.5555555555555556,
          0.5945945945945945
         ]
        },
        {
         "hoverinfo": "none",
         "line": {
          "color": "#2e2e2e",
          "width": 0.8
         },
         "mode": "lines",
         "opacity": 0.1,
         "type": "scatter",
         "x": [
          9.357142857142858,
          8.7
         ],
         "y": [
          0.5555555555555556,
          0.7000000000000001
         ]
        },
        {
         "hoverinfo": "none",
         "line": {
          "color": "#2e2e2e",
          "width": 2.4000000000000004
         },
         "mode": "lines",
         "opacity": 0.5,
         "type": "scatter",
         "x": [
          9.357142857142858,
          9.5
         ],
         "y": [
          0.5555555555555556,
          0.631578947368421
         ]
        },
        {
         "hoverinfo": "none",
         "line": {
          "color": "#2e2e2e",
          "width": 0.8
         },
         "mode": "lines",
         "opacity": 0.1,
         "type": "scatter",
         "x": [
          9.357142857142858,
          10.5
         ],
         "y": [
          0.5555555555555556,
          0.7000000000000001
         ]
        },
        {
         "hoverinfo": "none",
         "line": {
          "color": "#2e2e2e",
          "width": 0.8
         },
         "mode": "lines",
         "opacity": 0.1,
         "type": "scatter",
         "x": [
          9.357142857142858,
          9.7
         ],
         "y": [
          0.5555555555555556,
          0.5945945945945945
         ]
        },
        {
         "hoverinfo": "none",
         "line": {
          "color": "#2e2e2e",
          "width": 0.8
         },
         "mode": "lines",
         "opacity": 0.1,
         "type": "scatter",
         "x": [
          10.375,
          11
         ],
         "y": [
          0.5555555555555556,
          0.631578947368421
         ]
        },
        {
         "hoverinfo": "none",
         "line": {
          "color": "#2e2e2e",
          "width": 0.8
         },
         "mode": "lines",
         "opacity": 0.1,
         "type": "scatter",
         "x": [
          9.466666666666667,
          10.307692307692308
         ],
         "y": [
          0.5555555555555556,
          0.7000000000000001
         ]
        },
        {
         "hoverinfo": "none",
         "line": {
          "color": "#2e2e2e",
          "width": 0.8
         },
         "mode": "lines",
         "opacity": 0.1,
         "type": "scatter",
         "x": [
          9.5,
          11.5
         ],
         "y": [
          0.4444444444444444,
          0.4736842105263157
         ]
        },
        {
         "hoverinfo": "none",
         "line": {
          "color": "#2e2e2e",
          "width": 0.8
         },
         "mode": "lines",
         "opacity": 0.1,
         "type": "scatter",
         "x": [
          7.071428571428571,
          7.5
         ],
         "y": [
          0.5277777777777778,
          0.6052631578947368
         ]
        },
        {
         "hoverinfo": "none",
         "line": {
          "color": "#2e2e2e",
          "width": 0.8
         },
         "mode": "lines",
         "opacity": 0.1,
         "type": "scatter",
         "x": [
          7.071428571428571,
          8.5
         ],
         "y": [
          0.5277777777777778,
          0.6749999999999999
         ]
        },
        {
         "hoverinfo": "none",
         "line": {
          "color": "#2e2e2e",
          "width": 0.8
         },
         "mode": "lines",
         "opacity": 0.1,
         "type": "scatter",
         "x": [
          7.25,
          8
         ],
         "y": [
          0.5555555555555556,
          0.7000000000000001
         ]
        },
        {
         "hoverinfo": "none",
         "line": {
          "color": "#2e2e2e",
          "width": 0.8
         },
         "mode": "lines",
         "opacity": 0.1,
         "type": "scatter",
         "x": [
          8.785714285714286,
          9
         ],
         "y": [
          0.5555555555555556,
          0.5945945945945945
         ]
        },
        {
         "hoverinfo": "none",
         "line": {
          "color": "#2e2e2e",
          "width": 0.8
         },
         "mode": "lines",
         "opacity": 0.1,
         "type": "scatter",
         "x": [
          7.214285714285714,
          7.5
         ],
         "y": [
          0.4722222222222222,
          0.625
         ]
        },
        {
         "hoverinfo": "none",
         "line": {
          "color": "#2e2e2e",
          "width": 0.8
         },
         "mode": "lines",
         "opacity": 0.1,
         "type": "scatter",
         "x": [
          8.214285714285714,
          8.4
         ],
         "y": [
          0.5555555555555556,
          0.5945945945945945
         ]
        },
        {
         "hoverinfo": "none",
         "line": {
          "color": "#2e2e2e",
          "width": 0.8
         },
         "mode": "lines",
         "opacity": 0.1,
         "type": "scatter",
         "x": [
          7.642857142857143,
          8.833333333333334
         ],
         "y": [
          0.5555555555555556,
          0.631578947368421
         ]
        },
        {
         "hoverinfo": "none",
         "line": {
          "color": "#2e2e2e",
          "width": 0.8
         },
         "mode": "lines",
         "opacity": 0.1,
         "type": "scatter",
         "x": [
          7.642857142857143,
          8.166666666666666
         ],
         "y": [
          0.5555555555555556,
          0.7000000000000001
         ]
        },
        {
         "hoverinfo": "none",
         "line": {
          "color": "#2e2e2e",
          "width": 0.8
         },
         "mode": "lines",
         "opacity": 0.1,
         "type": "scatter",
         "x": [
          7.071428571428571,
          7.3
         ],
         "y": [
          0.5555555555555556,
          0.5945945945945945
         ]
        },
        {
         "hoverinfo": "none",
         "line": {
          "color": "#2e2e2e",
          "width": 0.8
         },
         "mode": "lines",
         "opacity": 0.1,
         "type": "scatter",
         "x": [
          9.071428571428571,
          9.3
         ],
         "y": [
          0.5,
          0.5135135135135135
         ]
        },
        {
         "hoverinfo": "none",
         "line": {
          "color": "#2e2e2e",
          "width": 0.8
         },
         "mode": "lines",
         "opacity": 0.1,
         "type": "scatter",
         "x": [
          6.5,
          7.5
         ],
         "y": [
          0.5,
          0.6
         ]
        },
        {
         "hoverinfo": "none",
         "line": {
          "color": "#2e2e2e",
          "width": 0.8
         },
         "mode": "lines",
         "opacity": 0.1,
         "type": "scatter",
         "x": [
          6.642857142857143,
          7
         ],
         "y": [
          0.4166666666666667,
          0.4594594594594594
         ]
        },
        {
         "hoverinfo": "none",
         "line": {
          "color": "#2e2e2e",
          "width": 0.8
         },
         "mode": "lines",
         "opacity": 0.1,
         "type": "scatter",
         "x": [
          5.666666666666667,
          8.166666666666666
         ],
         "y": [
          0.33333333333333337,
          0.5
         ]
        },
        {
         "hoverinfo": "none",
         "line": {
          "color": "#2e2e2e",
          "width": 0.8
         },
         "mode": "lines",
         "opacity": 0.1,
         "type": "scatter",
         "x": [
          8.166666666666666,
          8.7
         ],
         "y": [
          0.6,
          0.7272727272727274
         ]
        },
        {
         "hoverinfo": "none",
         "line": {
          "color": "#2e2e2e",
          "width": 0.8
         },
         "mode": "lines",
         "opacity": 0.1,
         "type": "scatter",
         "x": [
          6.8,
          7.857142857142857
         ],
         "y": [
          0.6,
          0.7272727272727274
         ]
        },
        {
         "hoverinfo": "none",
         "line": {
          "color": "#2e2e2e",
          "width": 0.8
         },
         "mode": "lines",
         "opacity": 0.1,
         "type": "scatter",
         "x": [
          11.3,
          10.5
         ],
         "y": [
          0.45,
          0.5909090909090908
         ]
        },
        {
         "hoverinfo": "none",
         "line": {
          "color": "#2e2e2e",
          "width": 0.8
         },
         "mode": "lines",
         "opacity": 0.1,
         "type": "scatter",
         "x": [
          10.071428571428571,
          10.227272727272727
         ],
         "y": [
          0.7000000000000001,
          0.8181818181818181
         ]
        },
        {
         "hoverinfo": "none",
         "line": {
          "color": "#2e2e2e",
          "width": 1.6
         },
         "mode": "lines",
         "opacity": 0.3,
         "type": "scatter",
         "x": [
          8.5,
          8.4
         ],
         "y": [
          0.7000000000000001,
          0.7317073170731707
         ]
        },
        {
         "hoverinfo": "none",
         "line": {
          "color": "#2e2e2e",
          "width": 0.8
         },
         "mode": "lines",
         "opacity": 0.1,
         "type": "scatter",
         "x": [
          8.5,
          10
         ],
         "y": [
          0.6749999999999999,
          0.7954545454545455
         ]
        },
        {
         "hoverinfo": "none",
         "line": {
          "color": "#2e2e2e",
          "width": 0.8
         },
         "mode": "lines",
         "opacity": 0.1,
         "type": "scatter",
         "x": [
          8.5,
          9.5
         ],
         "y": [
          0.6749999999999999,
          0.7954545454545455
         ]
        },
        {
         "hoverinfo": "none",
         "line": {
          "color": "#2e2e2e",
          "width": 0.8
         },
         "mode": "lines",
         "opacity": 0.1,
         "type": "scatter",
         "x": [
          10.75,
          10.5
         ],
         "y": [
          0.7000000000000001,
          0.7619047619047621
         ]
        },
        {
         "hoverinfo": "none",
         "line": {
          "color": "#2e2e2e",
          "width": 0.8
         },
         "mode": "lines",
         "opacity": 0.1,
         "type": "scatter",
         "x": [
          8.7,
          9.5
         ],
         "y": [
          0.7000000000000001,
          0.8181818181818181
         ]
        },
        {
         "hoverinfo": "none",
         "line": {
          "color": "#2e2e2e",
          "width": 0.8
         },
         "mode": "lines",
         "opacity": 0.1,
         "type": "scatter",
         "x": [
          10.307692307692308,
          10.588235294117647
         ],
         "y": [
          0.7000000000000001,
          0.7619047619047621
         ]
        },
        {
         "hoverinfo": "none",
         "line": {
          "color": "#2e2e2e",
          "width": 0.8
         },
         "mode": "lines",
         "opacity": 0.1,
         "type": "scatter",
         "x": [
          10.166666666666666,
          9
         ],
         "y": [
          0.55,
          0.5952380952380952
         ]
        },
        {
         "hoverinfo": "none",
         "line": {
          "color": "#2e2e2e",
          "width": 0.8
         },
         "mode": "lines",
         "opacity": 0.1,
         "type": "scatter",
         "x": [
          7,
          7.3
         ],
         "y": [
          0.6,
          0.6666666666666667
         ]
        },
        {
         "hoverinfo": "none",
         "line": {
          "color": "#2e2e2e",
          "width": 0.8
         },
         "mode": "lines",
         "opacity": 0.1,
         "type": "scatter",
         "x": [
          8,
          9
         ],
         "y": [
          0.7000000000000001,
          0.8181818181818181
         ]
        },
        {
         "hoverinfo": "none",
         "line": {
          "color": "#2e2e2e",
          "width": 0.8
         },
         "mode": "lines",
         "opacity": 0.1,
         "type": "scatter",
         "x": [
          9.5,
          8.375
         ],
         "y": [
          0.625,
          0.6097560975609756
         ]
        },
        {
         "hoverinfo": "none",
         "line": {
          "color": "#2e2e2e",
          "width": 0.8
         },
         "mode": "lines",
         "opacity": 0.1,
         "type": "scatter",
         "x": [
          8.625,
          9.5625
         ],
         "y": [
          0.7000000000000001,
          0.8181818181818181
         ]
        },
        {
         "hoverinfo": "none",
         "line": {
          "color": "#2e2e2e",
          "width": 0.8
         },
         "mode": "lines",
         "opacity": 0.1,
         "type": "scatter",
         "x": [
          8.625,
          8.0625
         ],
         "y": [
          0.7000000000000001,
          0.8181818181818181
         ]
        },
        {
         "hoverinfo": "none",
         "line": {
          "color": "#2e2e2e",
          "width": 0.8
         },
         "mode": "lines",
         "opacity": 0.1,
         "type": "scatter",
         "x": [
          10.5,
          10.5
         ],
         "y": [
          0.7000000000000001,
          0.8181818181818181
         ]
        },
        {
         "hoverinfo": "none",
         "line": {
          "color": "#2e2e2e",
          "width": 0.8
         },
         "mode": "lines",
         "opacity": 0.1,
         "type": "scatter",
         "x": [
          8.444444444444445,
          8.461538461538462
         ],
         "y": [
          0.7000000000000001,
          0.7619047619047621
         ]
        },
        {
         "hoverinfo": "none",
         "line": {
          "color": "#2e2e2e",
          "width": 0.8
         },
         "mode": "lines",
         "opacity": 0.1,
         "type": "scatter",
         "x": [
          8.166666666666666,
          8.071428571428571
         ],
         "y": [
          0.7000000000000001,
          0.7317073170731707
         ]
        },
        {
         "hoverinfo": "none",
         "line": {
          "color": "#2e2e2e",
          "width": 0.8
         },
         "mode": "lines",
         "opacity": 0.1,
         "type": "scatter",
         "x": [
          9,
          8.11111111111111
         ],
         "y": [
          0.625,
          0.6097560975609756
         ]
        },
        {
         "hoverinfo": "none",
         "line": {
          "color": "#2e2e2e",
          "width": 0.8
         },
         "mode": "lines",
         "opacity": 0.1,
         "type": "scatter",
         "x": [
          7.5,
          8.38888888888889
         ],
         "y": [
          0.6,
          0.7272727272727274
         ]
        },
        {
         "hoverinfo": "none",
         "line": {
          "color": "#2e2e2e",
          "width": 0.8
         },
         "mode": "lines",
         "opacity": 0.1,
         "type": "scatter",
         "x": [
          7,
          7.4375
         ],
         "y": [
          0.6,
          0.7272727272727274
         ]
        },
        {
         "hoverinfo": "none",
         "line": {
          "color": "#2e2e2e",
          "width": 0.8
         },
         "mode": "lines",
         "opacity": 0.1,
         "type": "scatter",
         "x": [
          8.166666666666666,
          7.5
         ],
         "y": [
          0.5,
          0.6136363636363638
         ]
        },
        {
         "hoverinfo": "none",
         "line": {
          "color": "#2e2e2e",
          "width": 0.8
         },
         "mode": "lines",
         "opacity": 0.1,
         "type": "scatter",
         "x": [
          8.7,
          9.5
         ],
         "y": [
          0.7272727272727274,
          0.8333333333333333
         ]
        },
        {
         "hoverinfo": "none",
         "line": {
          "color": "#2e2e2e",
          "width": 0.8
         },
         "mode": "lines",
         "opacity": 0.1,
         "type": "scatter",
         "x": [
          7.857142857142857,
          9
         ],
         "y": [
          0.7272727272727274,
          0.8333333333333333
         ]
        },
        {
         "hoverinfo": "none",
         "line": {
          "color": "#2e2e2e",
          "width": 0.8
         },
         "mode": "lines",
         "opacity": 0.1,
         "type": "scatter",
         "x": [
          10.5,
          10.5
         ],
         "y": [
          0.5909090909090908,
          0.7083333333333333
         ]
        },
        {
         "hoverinfo": "none",
         "line": {
          "color": "#2e2e2e",
          "width": 0.8
         },
         "mode": "lines",
         "opacity": 0.1,
         "type": "scatter",
         "x": [
          10,
          9.833333333333334
         ],
         "y": [
          0.7954545454545455,
          0.8260869565217392
         ]
        },
        {
         "hoverinfo": "none",
         "line": {
          "color": "#2e2e2e",
          "width": 0.8
         },
         "mode": "lines",
         "opacity": 0.1,
         "type": "scatter",
         "x": [
          10.5,
          10.5
         ],
         "y": [
          0.8181818181818181,
          0.8478260869565216
         ]
        },
        {
         "hoverinfo": "none",
         "line": {
          "color": "#2e2e2e",
          "width": 0.8
         },
         "mode": "lines",
         "opacity": 0.1,
         "type": "scatter",
         "x": [
          10.5,
          10.5
         ],
         "y": [
          0.8181818181818181,
          0.8444444444444443
         ]
        },
        {
         "hoverinfo": "none",
         "line": {
          "color": "#2e2e2e",
          "width": 0.8
         },
         "mode": "lines",
         "opacity": 0.1,
         "type": "scatter",
         "x": [
          8.588235294117647,
          8.5
         ],
         "y": [
          0.8181818181818181,
          0.8444444444444443
         ]
        },
        {
         "hoverinfo": "none",
         "line": {
          "color": "#2e2e2e",
          "width": 0.8
         },
         "mode": "lines",
         "opacity": 0.1,
         "type": "scatter",
         "x": [
          9.5,
          9.785714285714286
         ],
         "y": [
          0.8181818181818181,
          0.8444444444444443
         ]
        },
        {
         "hoverinfo": "none",
         "line": {
          "color": "#2e2e2e",
          "width": 0.8
         },
         "mode": "lines",
         "opacity": 0.1,
         "type": "scatter",
         "x": [
          9,
          8.5
         ],
         "y": [
          0.5681818181818181,
          0.5434782608695652
         ]
        },
        {
         "hoverinfo": "none",
         "line": {
          "color": "#2e2e2e",
          "width": 0.8
         },
         "mode": "lines",
         "opacity": 0.1,
         "type": "scatter",
         "x": [
          9.5,
          10.5
         ],
         "y": [
          0.7954545454545455,
          0.8958333333333334
         ]
        },
        {
         "hoverinfo": "none",
         "line": {
          "color": "#2e2e2e",
          "width": 0.8
         },
         "mode": "lines",
         "opacity": 0.1,
         "type": "scatter",
         "x": [
          7.3,
          7.5
         ],
         "y": [
          0.7272727272727274,
          0.7826086956521738
         ]
        },
        {
         "hoverinfo": "none",
         "line": {
          "color": "#2e2e2e",
          "width": 0.8
         },
         "mode": "lines",
         "opacity": 0.1,
         "type": "scatter",
         "x": [
          7.923076923076923,
          8
         ],
         "y": [
          0.7045454545454546,
          0.7333333333333333
         ]
        },
        {
         "hoverinfo": "none",
         "line": {
          "color": "#2e2e2e",
          "width": 0.8
         },
         "mode": "lines",
         "opacity": 0.1,
         "type": "scatter",
         "x": [
          9.5625,
          9.23076923076923
         ],
         "y": [
          0.8181818181818181,
          0.8695652173913044
         ]
        },
        {
         "hoverinfo": "none",
         "line": {
          "color": "#2e2e2e",
          "width": 0.8
         },
         "mode": "lines",
         "opacity": 0.1,
         "type": "scatter",
         "x": [
          8.0625,
          8.5
         ],
         "y": [
          0.8181818181818181,
          0.9166666666666666
         ]
        },
        {
         "hoverinfo": "none",
         "line": {
          "color": "#2e2e2e",
          "width": 0.8
         },
         "mode": "lines",
         "opacity": 0.1,
         "type": "scatter",
         "x": [
          10.642857142857142,
          10.5
         ],
         "y": [
          0.75,
          0.7777777777777778
         ]
        },
        {
         "hoverinfo": "none",
         "line": {
          "color": "#2e2e2e",
          "width": 0.8
         },
         "mode": "lines",
         "opacity": 0.1,
         "type": "scatter",
         "x": [
          8.5,
          8.857142857142858
         ],
         "y": [
          0.8181818181818181,
          0.8444444444444443
         ]
        },
        {
         "hoverinfo": "none",
         "line": {
          "color": "#2e2e2e",
          "width": 0.8
         },
         "mode": "lines",
         "opacity": 0.1,
         "type": "scatter",
         "x": [
          8.38888888888889,
          9.071428571428571
         ],
         "y": [
          0.7272727272727274,
          0.7333333333333333
         ]
        },
        {
         "hoverinfo": "none",
         "line": {
          "color": "#2e2e2e",
          "width": 0.8
         },
         "mode": "lines",
         "opacity": 0.1,
         "type": "scatter",
         "x": [
          7.5,
          5.5
         ],
         "y": [
          0.6136363636363638,
          0.6249999999999999
         ]
        },
        {
         "hoverinfo": "none",
         "line": {
          "color": "#2e2e2e",
          "width": 0.8
         },
         "mode": "lines",
         "opacity": 0.1,
         "type": "scatter",
         "x": [
          9,
          9.8
         ],
         "y": [
          0.8333333333333333,
          0.9230769230769232
         ]
        },
        {
         "hoverinfo": "none",
         "line": {
          "color": "#2e2e2e",
          "width": 0.8
         },
         "mode": "lines",
         "opacity": 0.1,
         "type": "scatter",
         "x": [
          8.785714285714286,
          8.75
         ],
         "y": [
          0.8333333333333333,
          0.8571428571428572
         ]
        },
        {
         "hoverinfo": "none",
         "line": {
          "color": "#2e2e2e",
          "width": 0.8
         },
         "mode": "lines",
         "opacity": 0.1,
         "type": "scatter",
         "x": [
          9.9,
          9.909090909090908
         ],
         "y": [
          0.875,
          0.8979591836734695
         ]
        },
        {
         "hoverinfo": "none",
         "line": {
          "color": "#2e2e2e",
          "width": 1.6
         },
         "mode": "lines",
         "opacity": 0.3,
         "type": "scatter",
         "x": [
          10.5,
          10.071428571428571
         ],
         "y": [
          0.8958333333333334,
          0.94
         ]
        },
        {
         "hoverinfo": "none",
         "line": {
          "color": "#2e2e2e",
          "width": 1.6
         },
         "mode": "lines",
         "opacity": 0.3,
         "type": "scatter",
         "x": [
          9.5,
          9.214285714285714
         ],
         "y": [
          0.9166666666666666,
          0.9387755102040816
         ]
        },
        {
         "hoverinfo": "none",
         "line": {
          "color": "#2e2e2e",
          "width": 0.8
         },
         "mode": "lines",
         "opacity": 0.1,
         "type": "scatter",
         "x": [
          5.5,
          6.5
         ],
         "y": [
          0.5416666666666667,
          0.6
         ]
        },
        {
         "hoverinfo": "none",
         "line": {
          "color": "#2e2e2e",
          "width": 0.8
         },
         "mode": "lines",
         "opacity": 0.1,
         "type": "scatter",
         "x": [
          10,
          9
         ],
         "y": [
          0.8125000000000001,
          0.8163265306122449
         ]
        },
        {
         "hoverinfo": "none",
         "line": {
          "color": "#2e2e2e",
          "width": 0.8
         },
         "mode": "lines",
         "opacity": 0.1,
         "type": "scatter",
         "x": [
          9.1,
          9.5
         ],
         "y": [
          0.9166666666666666,
          0.9387755102040816
         ]
        },
        {
         "hoverinfo": "none",
         "line": {
          "color": "#2e2e2e",
          "width": 0.8
         },
         "mode": "lines",
         "opacity": 0.1,
         "type": "scatter",
         "x": [
          8.5,
          9.5
         ],
         "y": [
          0.9166666666666666,
          1
         ]
        },
        {
         "hoverinfo": "none",
         "line": {
          "color": "#2e2e2e",
          "width": 3.2
         },
         "mode": "lines",
         "opacity": 0.7,
         "type": "scatter",
         "x": [
          6.5,
          6
         ],
         "y": [
          0.2666666666666667,
          0.25806451612903225
         ]
        },
        {
         "hoverinfo": "none",
         "line": {
          "color": "#2e2e2e",
          "width": 10.4
         },
         "mode": "lines",
         "opacity": 0.95,
         "type": "scatter",
         "x": [
          6.5,
          7.833333333333333
         ],
         "y": [
          0.2666666666666667,
          0.375
         ]
        },
        {
         "hoverinfo": "none",
         "line": {
          "color": "#2e2e2e",
          "width": 1.6
         },
         "mode": "lines",
         "opacity": 0.3,
         "type": "scatter",
         "x": [
          6.5,
          6.3
         ],
         "y": [
          0.2666666666666667,
          0.3225806451612904
         ]
        },
        {
         "hoverinfo": "none",
         "line": {
          "color": "#2e2e2e",
          "width": 0.8
         },
         "mode": "lines",
         "opacity": 0.1,
         "type": "scatter",
         "x": [
          6.5,
          7.2
         ],
         "y": [
          0.2666666666666667,
          0.3225806451612904
         ]
        },
        {
         "hoverinfo": "none",
         "line": {
          "color": "#2e2e2e",
          "width": 3.2
         },
         "mode": "lines",
         "opacity": 0.7,
         "type": "scatter",
         "x": [
          6.5,
          6.5
         ],
         "y": [
          0.2666666666666667,
          0.44117647058823534
         ]
        },
        {
         "hoverinfo": "none",
         "line": {
          "color": "#2e2e2e",
          "width": 0.8
         },
         "mode": "lines",
         "opacity": 0.1,
         "type": "scatter",
         "x": [
          6.5,
          7.166666666666667
         ],
         "y": [
          0.2666666666666667,
          0.4705882352941176
         ]
        },
        {
         "hoverinfo": "none",
         "line": {
          "color": "#2e2e2e",
          "width": 0.8
         },
         "mode": "lines",
         "opacity": 0.1,
         "type": "scatter",
         "x": [
          6.5,
          8.9
         ],
         "y": [
          0.2666666666666667,
          0.4705882352941176
         ]
        },
        {
         "hoverinfo": "none",
         "line": {
          "color": "#2e2e2e",
          "width": 0.8
         },
         "mode": "lines",
         "opacity": 0.1,
         "type": "scatter",
         "x": [
          6.5,
          8.166666666666666
         ],
         "y": [
          0.2666666666666667,
          0.3125
         ]
        },
        {
         "hoverinfo": "none",
         "line": {
          "color": "#2e2e2e",
          "width": 0.8
         },
         "mode": "lines",
         "opacity": 0.1,
         "type": "scatter",
         "x": [
          6.5,
          4.7
         ],
         "y": [
          0.2666666666666667,
          0.2352941176470588
         ]
        },
        {
         "hoverinfo": "none",
         "line": {
          "color": "#2e2e2e",
          "width": 0.8
         },
         "mode": "lines",
         "opacity": 0.1,
         "type": "scatter",
         "x": [
          12.5,
          12.5
         ],
         "y": [
          0.06666666666666668,
          0.1764705882352941
         ]
        },
        {
         "hoverinfo": "none",
         "line": {
          "color": "#2e2e2e",
          "width": 1.6
         },
         "mode": "lines",
         "opacity": 0.3,
         "type": "scatter",
         "x": [
          9,
          10
         ],
         "y": [
          0.2666666666666667,
          0.4705882352941176
         ]
        },
        {
         "hoverinfo": "none",
         "line": {
          "color": "#2e2e2e",
          "width": 0.8
         },
         "mode": "lines",
         "opacity": 0.1,
         "type": "scatter",
         "x": [
          9,
          7.833333333333333
         ],
         "y": [
          0.2666666666666667,
          0.375
         ]
        },
        {
         "hoverinfo": "none",
         "line": {
          "color": "#2e2e2e",
          "width": 1.6
         },
         "mode": "lines",
         "opacity": 0.3,
         "type": "scatter",
         "x": [
          10.5,
          8.9
         ],
         "y": [
          0.2666666666666667,
          0.4705882352941176
         ]
        },
        {
         "hoverinfo": "none",
         "line": {
          "color": "#2e2e2e",
          "width": 0.8
         },
         "mode": "lines",
         "opacity": 0.1,
         "type": "scatter",
         "x": [
          7.5,
          9
         ],
         "y": [
          0.2666666666666667,
          0.4705882352941176
         ]
        },
        {
         "hoverinfo": "none",
         "line": {
          "color": "#2e2e2e",
          "width": 0.8
         },
         "mode": "lines",
         "opacity": 0.1,
         "type": "scatter",
         "x": [
          5.5,
          6.833333333333333
         ],
         "y": [
          0.2,
          0.25
         ]
        },
        {
         "hoverinfo": "none",
         "line": {
          "color": "#2e2e2e",
          "width": 0.8
         },
         "mode": "lines",
         "opacity": 0.1,
         "type": "scatter",
         "x": [
          6,
          5.777777777777778
         ],
         "y": [
          0.25806451612903225,
          0.3333333333333333
         ]
        },
        {
         "hoverinfo": "none",
         "line": {
          "color": "#2e2e2e",
          "width": 0.8
         },
         "mode": "lines",
         "opacity": 0.1,
         "type": "scatter",
         "x": [
          6,
          5.571428571428571
         ],
         "y": [
          0.25806451612903225,
          0.28124999999999994
         ]
        },
        {
         "hoverinfo": "none",
         "line": {
          "color": "#2e2e2e",
          "width": 0.8
         },
         "mode": "lines",
         "opacity": 0.1,
         "type": "scatter",
         "x": [
          6,
          6.428571428571429
         ],
         "y": [
          0.25806451612903225,
          0.3125
         ]
        },
        {
         "hoverinfo": "none",
         "line": {
          "color": "#2e2e2e",
          "width": 0.8
         },
         "mode": "lines",
         "opacity": 0.1,
         "type": "scatter",
         "x": [
          6,
          6.923076923076923
         ],
         "y": [
          0.25806451612903225,
          0.4571428571428572
         ]
        },
        {
         "hoverinfo": "none",
         "line": {
          "color": "#2e2e2e",
          "width": 0.8
         },
         "mode": "lines",
         "opacity": 0.1,
         "type": "scatter",
         "x": [
          6.3,
          6.125
         ],
         "y": [
          0.3225806451612904,
          0.375
         ]
        },
        {
         "hoverinfo": "none",
         "line": {
          "color": "#2e2e2e",
          "width": 0.8
         },
         "mode": "lines",
         "opacity": 0.1,
         "type": "scatter",
         "x": [
          6.3,
          7.25
         ],
         "y": [
          0.3225806451612904,
          0.42424242424242425
         ]
        },
        {
         "hoverinfo": "none",
         "line": {
          "color": "#2e2e2e",
          "width": 0.8
         },
         "mode": "lines",
         "opacity": 0.1,
         "type": "scatter",
         "x": [
          7.2,
          7.833333333333333
         ],
         "y": [
          0.3225806451612904,
          0.375
         ]
        },
        {
         "hoverinfo": "none",
         "line": {
          "color": "#2e2e2e",
          "width": 0.8
         },
         "mode": "lines",
         "opacity": 0.1,
         "type": "scatter",
         "x": [
          5.777777777777778,
          6.3076923076923075
         ],
         "y": [
          0.3333333333333333,
          0.42857142857142855
         ]
        },
        {
         "hoverinfo": "none",
         "line": {
          "color": "#2e2e2e",
          "width": 0.8
         },
         "mode": "lines",
         "opacity": 0.1,
         "type": "scatter",
         "x": [
          7.75,
          7.3
         ],
         "y": [
          0.42424242424242425,
          0.4705882352941176
         ]
        },
        {
         "hoverinfo": "none",
         "line": {
          "color": "#2e2e2e",
          "width": 0.8
         },
         "mode": "lines",
         "opacity": 0.1,
         "type": "scatter",
         "x": [
          7.25,
          9.5
         ],
         "y": [
          0.42424242424242425,
          0.5945945945945945
         ]
        },
        {
         "hoverinfo": "none",
         "line": {
          "color": "#2e2e2e",
          "width": 0.8
         },
         "mode": "lines",
         "opacity": 0.1,
         "type": "scatter",
         "x": [
          7.25,
          6.8
         ],
         "y": [
          0.42424242424242425,
          0.411764705882353
         ]
        },
        {
         "hoverinfo": "none",
         "line": {
          "color": "#2e2e2e",
          "width": 0.8
         },
         "mode": "lines",
         "opacity": 0.1,
         "type": "scatter",
         "x": [
          7.25,
          7.1
         ],
         "y": [
          0.42424242424242425,
          0.5945945945945945
         ]
        },
        {
         "hoverinfo": "none",
         "line": {
          "color": "#2e2e2e",
          "width": 0.8
         },
         "mode": "lines",
         "opacity": 0.1,
         "type": "scatter",
         "x": [
          7.25,
          7
         ],
         "y": [
          0.42424242424242425,
          0.4705882352941176
         ]
        },
        {
         "hoverinfo": "none",
         "line": {
          "color": "#2e2e2e",
          "width": 0.8
         },
         "mode": "lines",
         "opacity": 0.1,
         "type": "scatter",
         "x": [
          7.25,
          7.9
         ],
         "y": [
          0.42424242424242425,
          0.5945945945945945
         ]
        },
        {
         "hoverinfo": "none",
         "line": {
          "color": "#2e2e2e",
          "width": 0.8
         },
         "mode": "lines",
         "opacity": 0.1,
         "type": "scatter",
         "x": [
          7.25,
          7.3
         ],
         "y": [
          0.42424242424242425,
          0.4705882352941176
         ]
        },
        {
         "hoverinfo": "none",
         "line": {
          "color": "#2e2e2e",
          "width": 0.8
         },
         "mode": "lines",
         "opacity": 0.1,
         "type": "scatter",
         "x": [
          7.5,
          9.7
         ],
         "y": [
          0.42424242424242425,
          0.5945945945945945
         ]
        },
        {
         "hoverinfo": "none",
         "line": {
          "color": "#2e2e2e",
          "width": 0.8
         },
         "mode": "lines",
         "opacity": 0.1,
         "type": "scatter",
         "x": [
          7.285714285714286,
          10.5
         ],
         "y": [
          0.3636363636363637,
          0.5405405405405405
         ]
        },
        {
         "hoverinfo": "none",
         "line": {
          "color": "#2e2e2e",
          "width": 0.8
         },
         "mode": "lines",
         "opacity": 0.1,
         "type": "scatter",
         "x": [
          6.3076923076923075,
          6.833333333333333
         ],
         "y": [
          0.42857142857142855,
          0.5135135135135135
         ]
        },
        {
         "hoverinfo": "none",
         "line": {
          "color": "#2e2e2e",
          "width": 0.8
         },
         "mode": "lines",
         "opacity": 0.1,
         "type": "scatter",
         "x": [
          7,
          6.846153846153846
         ],
         "y": [
          0.4571428571428572,
          0.5
         ]
        },
        {
         "hoverinfo": "none",
         "line": {
          "color": "#2e2e2e",
          "width": 0.8
         },
         "mode": "lines",
         "opacity": 0.1,
         "type": "scatter",
         "x": [
          6.666666666666667,
          6.642857142857143
         ],
         "y": [
          0.4571428571428572,
          0.6153846153846155
         ]
        },
        {
         "hoverinfo": "none",
         "line": {
          "color": "#2e2e2e",
          "width": 0.8
         },
         "mode": "lines",
         "opacity": 0.1,
         "type": "scatter",
         "x": [
          9.692307692307692,
          9.466666666666667
         ],
         "y": [
          0.5142857142857142,
          0.5555555555555556
         ]
        },
        {
         "hoverinfo": "none",
         "line": {
          "color": "#2e2e2e",
          "width": 0.8
         },
         "mode": "lines",
         "opacity": 0.1,
         "type": "scatter",
         "x": [
          6.769230769230769,
          7.071428571428571
         ],
         "y": [
          0.4857142857142858,
          0.5277777777777778
         ]
        },
        {
         "hoverinfo": "none",
         "line": {
          "color": "#2e2e2e",
          "width": 0.8
         },
         "mode": "lines",
         "opacity": 0.1,
         "type": "scatter",
         "x": [
          6.923076923076923,
          6.833333333333333
         ],
         "y": [
          0.4571428571428572,
          0.5135135135135135
         ]
        },
        {
         "hoverinfo": "none",
         "line": {
          "color": "#2e2e2e",
          "width": 0.8
         },
         "mode": "lines",
         "opacity": 0.1,
         "type": "scatter",
         "x": [
          6.833333333333333,
          6.714285714285714
         ],
         "y": [
          0.5135135135135135,
          0.5263157894736842
         ]
        },
        {
         "hoverinfo": "none",
         "line": {
          "color": "#2e2e2e",
          "width": 0.8
         },
         "mode": "lines",
         "opacity": 0.1,
         "type": "scatter",
         "x": [
          6.833333333333333,
          7
         ],
         "y": [
          0.5135135135135135,
          0.5897435897435898
         ]
        },
        {
         "hoverinfo": "none",
         "line": {
          "color": "#2e2e2e",
          "width": 0.8
         },
         "mode": "lines",
         "opacity": 0.1,
         "type": "scatter",
         "x": [
          9.9,
          9.166666666666666
         ],
         "y": [
          0.5945945945945945,
          0.631578947368421
         ]
        },
        {
         "hoverinfo": "none",
         "line": {
          "color": "#2e2e2e",
          "width": 0.8
         },
         "mode": "lines",
         "opacity": 0.1,
         "type": "scatter",
         "x": [
          9.5,
          9.166666666666666
         ],
         "y": [
          0.5945945945945945,
          0.631578947368421
         ]
        },
        {
         "hoverinfo": "none",
         "line": {
          "color": "#2e2e2e",
          "width": 0.8
         },
         "mode": "lines",
         "opacity": 0.1,
         "type": "scatter",
         "x": [
          9.5,
          8.7
         ],
         "y": [
          0.5945945945945945,
          0.7317073170731707
         ]
        },
        {
         "hoverinfo": "none",
         "line": {
          "color": "#2e2e2e",
          "width": 0.8
         },
         "mode": "lines",
         "opacity": 0.1,
         "type": "scatter",
         "x": [
          9.5,
          8.928571428571429
         ],
         "y": [
          0.5945945945945945,
          0.6666666666666666
         ]
        },
        {
         "hoverinfo": "none",
         "line": {
          "color": "#2e2e2e",
          "width": 0.8
         },
         "mode": "lines",
         "opacity": 0.1,
         "type": "scatter",
         "x": [
          9.6,
          9
         ],
         "y": [
          0.5945945945945945,
          0.6666666666666666
         ]
        },
        {
         "hoverinfo": "none",
         "line": {
          "color": "#2e2e2e",
          "width": 0.8
         },
         "mode": "lines",
         "opacity": 0.1,
         "type": "scatter",
         "x": [
          9,
          9.923076923076923
         ],
         "y": [
          0.5945945945945945,
          0.7317073170731707
         ]
        },
        {
         "hoverinfo": "none",
         "line": {
          "color": "#2e2e2e",
          "width": 0.8
         },
         "mode": "lines",
         "opacity": 0.1,
         "type": "scatter",
         "x": [
          7.1,
          6.916666666666667
         ],
         "y": [
          0.5945945945945945,
          0.631578947368421
         ]
        },
        {
         "hoverinfo": "none",
         "line": {
          "color": "#2e2e2e",
          "width": 0.8
         },
         "mode": "lines",
         "opacity": 0.1,
         "type": "scatter",
         "x": [
          8.4,
          8.916666666666666
         ],
         "y": [
          0.5945945945945945,
          0.631578947368421
         ]
        },
        {
         "hoverinfo": "none",
         "line": {
          "color": "#2e2e2e",
          "width": 1.6
         },
         "mode": "lines",
         "opacity": 0.3,
         "type": "scatter",
         "x": [
          9.7,
          9.416666666666666
         ],
         "y": [
          0.5945945945945945,
          0.631578947368421
         ]
        },
        {
         "hoverinfo": "none",
         "line": {
          "color": "#2e2e2e",
          "width": 0.8
         },
         "mode": "lines",
         "opacity": 0.1,
         "type": "scatter",
         "x": [
          7.9,
          7.583333333333333
         ],
         "y": [
          0.5945945945945945,
          0.631578947368421
         ]
        },
        {
         "hoverinfo": "none",
         "line": {
          "color": "#2e2e2e",
          "width": 0.8
         },
         "mode": "lines",
         "opacity": 0.1,
         "type": "scatter",
         "x": [
          10.5,
          10.5
         ],
         "y": [
          0.5405405405405405,
          0.6829268292682926
         ]
        },
        {
         "hoverinfo": "none",
         "line": {
          "color": "#2e2e2e",
          "width": 0.8
         },
         "mode": "lines",
         "opacity": 0.1,
         "type": "scatter",
         "x": [
          7.3,
          8.5
         ],
         "y": [
          0.5945945945945945,
          0.7317073170731707
         ]
        },
        {
         "hoverinfo": "none",
         "line": {
          "color": "#2e2e2e",
          "width": 0.8
         },
         "mode": "lines",
         "opacity": 0.1,
         "type": "scatter",
         "x": [
          9.3,
          8.785714285714286
         ],
         "y": [
          0.5135135135135135,
          0.5897435897435898
         ]
        },
        {
         "hoverinfo": "none",
         "line": {
          "color": "#2e2e2e",
          "width": 0.8
         },
         "mode": "lines",
         "opacity": 0.1,
         "type": "scatter",
         "x": [
          7,
          8
         ],
         "y": [
          0.4594594594594594,
          0.5384615384615384
         ]
        },
        {
         "hoverinfo": "none",
         "line": {
          "color": "#2e2e2e",
          "width": 0.8
         },
         "mode": "lines",
         "opacity": 0.1,
         "type": "scatter",
         "x": [
          6.714285714285714,
          6.8
         ],
         "y": [
          0.5263157894736842,
          0.6
         ]
        },
        {
         "hoverinfo": "none",
         "line": {
          "color": "#2e2e2e",
          "width": 0.8
         },
         "mode": "lines",
         "opacity": 0.1,
         "type": "scatter",
         "x": [
          12.5,
          11.357142857142858
         ],
         "y": [
          0.3157894736842105,
          0.4761904761904762
         ]
        },
        {
         "hoverinfo": "none",
         "line": {
          "color": "#2e2e2e",
          "width": 0.8
         },
         "mode": "lines",
         "opacity": 0.1,
         "type": "scatter",
         "x": [
          6.8,
          8.75
         ],
         "y": [
          0.5789473684210527,
          0.7142857142857143
         ]
        },
        {
         "hoverinfo": "none",
         "line": {
          "color": "#2e2e2e",
          "width": 1.6
         },
         "mode": "lines",
         "opacity": 0.3,
         "type": "scatter",
         "x": [
          9.166666666666666,
          8.5
         ],
         "y": [
          0.631578947368421,
          0.7000000000000001
         ]
        },
        {
         "hoverinfo": "none",
         "line": {
          "color": "#2e2e2e",
          "width": 0.8
         },
         "mode": "lines",
         "opacity": 0.1,
         "type": "scatter",
         "x": [
          7.583333333333333,
          9.583333333333334
         ],
         "y": [
          0.631578947368421,
          0.7619047619047621
         ]
        },
        {
         "hoverinfo": "none",
         "line": {
          "color": "#2e2e2e",
          "width": 0.8
         },
         "mode": "lines",
         "opacity": 0.1,
         "type": "scatter",
         "x": [
          7.583333333333333,
          8.625
         ],
         "y": [
          0.631578947368421,
          0.7000000000000001
         ]
        },
        {
         "hoverinfo": "none",
         "line": {
          "color": "#2e2e2e",
          "width": 0.8
         },
         "mode": "lines",
         "opacity": 0.1,
         "type": "scatter",
         "x": [
          11,
          10.75
         ],
         "y": [
          0.631578947368421,
          0.7000000000000001
         ]
        },
        {
         "hoverinfo": "none",
         "line": {
          "color": "#2e2e2e",
          "width": 2.4000000000000004
         },
         "mode": "lines",
         "opacity": 0.5,
         "type": "scatter",
         "x": [
          9.5,
          9
         ],
         "y": [
          0.631578947368421,
          0.6666666666666666
         ]
        },
        {
         "hoverinfo": "none",
         "line": {
          "color": "#2e2e2e",
          "width": 0.8
         },
         "mode": "lines",
         "opacity": 0.1,
         "type": "scatter",
         "x": [
          11.5,
          10.166666666666666
         ],
         "y": [
          0.4736842105263157,
          0.55
         ]
        },
        {
         "hoverinfo": "none",
         "line": {
          "color": "#2e2e2e",
          "width": 0.8
         },
         "mode": "lines",
         "opacity": 0.1,
         "type": "scatter",
         "x": [
          7.5,
          8.5
         ],
         "y": [
          0.6052631578947368,
          0.6749999999999999
         ]
        },
        {
         "hoverinfo": "none",
         "line": {
          "color": "#2e2e2e",
          "width": 0.8
         },
         "mode": "lines",
         "opacity": 0.1,
         "type": "scatter",
         "x": [
          7,
          7
         ],
         "y": [
          0.5789473684210527,
          0.6
         ]
        },
        {
         "hoverinfo": "none",
         "line": {
          "color": "#2e2e2e",
          "width": 0.8
         },
         "mode": "lines",
         "opacity": 0.1,
         "type": "scatter",
         "x": [
          6.916666666666667,
          8.25
         ],
         "y": [
          0.631578947368421,
          0.7619047619047621
         ]
        },
        {
         "hoverinfo": "none",
         "line": {
          "color": "#2e2e2e",
          "width": 0.8
         },
         "mode": "lines",
         "opacity": 0.1,
         "type": "scatter",
         "x": [
          8.916666666666666,
          9.285714285714286
         ],
         "y": [
          0.631578947368421,
          0.5714285714285714
         ]
        },
        {
         "hoverinfo": "none",
         "line": {
          "color": "#2e2e2e",
          "width": 0.8
         },
         "mode": "lines",
         "opacity": 0.1,
         "type": "scatter",
         "x": [
          9.3,
          9.5
         ],
         "y": [
          0.5526315789473685,
          0.625
         ]
        },
        {
         "hoverinfo": "none",
         "line": {
          "color": "#2e2e2e",
          "width": 0.8
         },
         "mode": "lines",
         "opacity": 0.1,
         "type": "scatter",
         "x": [
          8.916666666666666,
          8.625
         ],
         "y": [
          0.631578947368421,
          0.7000000000000001
         ]
        },
        {
         "hoverinfo": "none",
         "line": {
          "color": "#2e2e2e",
          "width": 0.8
         },
         "mode": "lines",
         "opacity": 0.1,
         "type": "scatter",
         "x": [
          9.416666666666666,
          9.071428571428571
         ],
         "y": [
          0.631578947368421,
          0.6666666666666666
         ]
        },
        {
         "hoverinfo": "none",
         "line": {
          "color": "#2e2e2e",
          "width": 0.8
         },
         "mode": "lines",
         "opacity": 0.1,
         "type": "scatter",
         "x": [
          9.416666666666666,
          8.444444444444445
         ],
         "y": [
          0.631578947368421,
          0.7000000000000001
         ]
        },
        {
         "hoverinfo": "none",
         "line": {
          "color": "#2e2e2e",
          "width": 1.6
         },
         "mode": "lines",
         "opacity": 0.3,
         "type": "scatter",
         "x": [
          7.833333333333333,
          9.357142857142858
         ],
         "y": [
          0.6052631578947368,
          0.7380952380952379
         ]
        },
        {
         "hoverinfo": "none",
         "line": {
          "color": "#2e2e2e",
          "width": 0.8
         },
         "mode": "lines",
         "opacity": 0.1,
         "type": "scatter",
         "x": [
          8.5,
          9.071428571428571
         ],
         "y": [
          0.631578947368421,
          0.7619047619047621
         ]
        },
        {
         "hoverinfo": "none",
         "line": {
          "color": "#2e2e2e",
          "width": 0.8
         },
         "mode": "lines",
         "opacity": 0.1,
         "type": "scatter",
         "x": [
          9.8,
          9.5
         ],
         "y": [
          0.9230769230769232,
          0.962962962962963
         ]
        },
        {
         "hoverinfo": "none",
         "line": {
          "color": "#2e2e2e",
          "width": 0.8
         },
         "mode": "lines",
         "opacity": 0.1,
         "type": "scatter",
         "x": [
          9.5,
          9.5
         ],
         "y": [
          0.9807692307692308,
          0.981132075471698
         ]
        },
        {
         "hoverinfo": "none",
         "line": {
          "color": "#2e2e2e",
          "width": 0.8
         },
         "mode": "lines",
         "opacity": 0.1,
         "type": "scatter",
         "x": [
          9.5,
          9
         ],
         "y": [
          0.962962962962963,
          0.9454545454545454
         ]
        },
        {
         "hoverinfo": "none",
         "line": {
          "color": "#2e2e2e",
          "width": 0.8
         },
         "mode": "lines",
         "opacity": 0.1,
         "type": "scatter",
         "x": [
          9.214285714285714,
          9.25
         ],
         "y": [
          0.962962962962963,
          0.9454545454545454
         ]
        },
        {
         "hoverinfo": "none",
         "line": {
          "color": "#2e2e2e",
          "width": 0.8
         },
         "mode": "lines",
         "opacity": 0.1,
         "type": "scatter",
         "x": [
          10.5,
          9.5
         ],
         "y": [
          0.8148148148148148,
          0.8275862068965517
         ]
        },
        {
         "hoverinfo": "none",
         "line": {
          "color": "#2e2e2e",
          "width": 0.8
         },
         "mode": "lines",
         "opacity": 0.1,
         "type": "scatter",
         "x": [
          9.25,
          9.5
         ],
         "y": [
          0.9454545454545454,
          0.9285714285714286
         ]
        },
        {
         "hoverinfo": "none",
         "line": {
          "color": "#2e2e2e",
          "width": 0.8
         },
         "mode": "lines",
         "opacity": 0.1,
         "type": "scatter",
         "x": [
          12.5,
          12.5
         ],
         "y": [
          0.1764705882352941,
          0.3157894736842105
         ]
        },
        {
         "hoverinfo": "none",
         "line": {
          "color": "#2e2e2e",
          "width": 0.8
         },
         "mode": "lines",
         "opacity": 0.1,
         "type": "scatter",
         "x": [
          7.3,
          7
         ],
         "y": [
          0.4705882352941176,
          0.4571428571428572
         ]
        },
        {
         "hoverinfo": "none",
         "line": {
          "color": "#2e2e2e",
          "width": 0.8
         },
         "mode": "lines",
         "opacity": 0.1,
         "type": "scatter",
         "x": [
          7.3,
          7.071428571428571
         ],
         "y": [
          0.4705882352941176,
          0.5555555555555556
         ]
        },
        {
         "hoverinfo": "none",
         "line": {
          "color": "#2e2e2e",
          "width": 0.8
         },
         "mode": "lines",
         "opacity": 0.1,
         "type": "scatter",
         "x": [
          7,
          7.583333333333333
         ],
         "y": [
          0.4705882352941176,
          0.631578947368421
         ]
        },
        {
         "hoverinfo": "none",
         "line": {
          "color": "#2e2e2e",
          "width": 0.8
         },
         "mode": "lines",
         "opacity": 0.1,
         "type": "scatter",
         "x": [
          7,
          8.916666666666666
         ],
         "y": [
          0.4705882352941176,
          0.631578947368421
         ]
        },
        {
         "hoverinfo": "none",
         "line": {
          "color": "#2e2e2e",
          "width": 0.8
         },
         "mode": "lines",
         "opacity": 0.1,
         "type": "scatter",
         "x": [
          10,
          10.375
         ],
         "y": [
          0.4705882352941176,
          0.5555555555555556
         ]
        },
        {
         "hoverinfo": "none",
         "line": {
          "color": "#2e2e2e",
          "width": 0.8
         },
         "mode": "lines",
         "opacity": 0.1,
         "type": "scatter",
         "x": [
          10,
          9.357142857142858
         ],
         "y": [
          0.4705882352941176,
          0.5555555555555556
         ]
        },
        {
         "hoverinfo": "none",
         "line": {
          "color": "#2e2e2e",
          "width": 0.8
         },
         "mode": "lines",
         "opacity": 0.1,
         "type": "scatter",
         "x": [
          10,
          9.692307692307692
         ],
         "y": [
          0.4705882352941176,
          0.5142857142857142
         ]
        },
        {
         "hoverinfo": "none",
         "line": {
          "color": "#2e2e2e",
          "width": 0.8
         },
         "mode": "lines",
         "opacity": 0.1,
         "type": "scatter",
         "x": [
          6.8,
          6.666666666666667
         ],
         "y": [
          0.411764705882353,
          0.4571428571428572
         ]
        },
        {
         "hoverinfo": "none",
         "line": {
          "color": "#2e2e2e",
          "width": 0.8
         },
         "mode": "lines",
         "opacity": 0.1,
         "type": "scatter",
         "x": [
          9,
          9.5
         ],
         "y": [
          0.3529411764705882,
          0.4444444444444444
         ]
        },
        {
         "hoverinfo": "none",
         "line": {
          "color": "#2e2e2e",
          "width": 0.8
         },
         "mode": "lines",
         "opacity": 0.1,
         "type": "scatter",
         "x": [
          6.5,
          7
         ],
         "y": [
          0.44117647058823534,
          0.5789473684210527
         ]
        },
        {
         "hoverinfo": "none",
         "line": {
          "color": "#2e2e2e",
          "width": 0.8
         },
         "mode": "lines",
         "opacity": 0.1,
         "type": "scatter",
         "x": [
          6.5,
          6.769230769230769
         ],
         "y": [
          0.44117647058823534,
          0.4857142857142858
         ]
        },
        {
         "hoverinfo": "none",
         "line": {
          "color": "#2e2e2e",
          "width": 0.8
         },
         "mode": "lines",
         "opacity": 0.1,
         "type": "scatter",
         "x": [
          6.5,
          7.833333333333333
         ],
         "y": [
          0.44117647058823534,
          0.6052631578947368
         ]
        },
        {
         "hoverinfo": "none",
         "line": {
          "color": "#2e2e2e",
          "width": 0.8
         },
         "mode": "lines",
         "opacity": 0.1,
         "type": "scatter",
         "x": [
          6.5,
          6.5
         ],
         "y": [
          0.44117647058823534,
          0.5
         ]
        },
        {
         "hoverinfo": "none",
         "line": {
          "color": "#2e2e2e",
          "width": 0.8
         },
         "mode": "lines",
         "opacity": 0.1,
         "type": "scatter",
         "x": [
          7.166666666666667,
          7.25
         ],
         "y": [
          0.4705882352941176,
          0.5555555555555556
         ]
        },
        {
         "hoverinfo": "none",
         "line": {
          "color": "#2e2e2e",
          "width": 0.8
         },
         "mode": "lines",
         "opacity": 0.1,
         "type": "scatter",
         "x": [
          8.9,
          8.785714285714286
         ],
         "y": [
          0.4705882352941176,
          0.5555555555555556
         ]
        },
        {
         "hoverinfo": "none",
         "line": {
          "color": "#2e2e2e",
          "width": 0.8
         },
         "mode": "lines",
         "opacity": 0.1,
         "type": "scatter",
         "x": [
          8.9,
          8.214285714285714
         ],
         "y": [
          0.4705882352941176,
          0.5555555555555556
         ]
        },
        {
         "hoverinfo": "none",
         "line": {
          "color": "#2e2e2e",
          "width": 0.8
         },
         "mode": "lines",
         "opacity": 0.1,
         "type": "scatter",
         "x": [
          8.9,
          8.5
         ],
         "y": [
          0.4705882352941176,
          0.631578947368421
         ]
        },
        {
         "hoverinfo": "none",
         "line": {
          "color": "#2e2e2e",
          "width": 0.8
         },
         "mode": "lines",
         "opacity": 0.1,
         "type": "scatter",
         "x": [
          6.666666666666667,
          9.3
         ],
         "y": [
          0.38235294117647056,
          0.5526315789473685
         ]
        },
        {
         "hoverinfo": "none",
         "line": {
          "color": "#2e2e2e",
          "width": 0.8
         },
         "mode": "lines",
         "opacity": 0.1,
         "type": "scatter",
         "x": [
          7.3,
          9.833333333333334
         ],
         "y": [
          0.4705882352941176,
          0.631578947368421
         ]
        },
        {
         "hoverinfo": "none",
         "line": {
          "color": "#2e2e2e",
          "width": 0.8
         },
         "mode": "lines",
         "opacity": 0.1,
         "type": "scatter",
         "x": [
          9,
          7.833333333333333
         ],
         "y": [
          0.4705882352941176,
          0.6052631578947368
         ]
        },
        {
         "hoverinfo": "none",
         "line": {
          "color": "#2e2e2e",
          "width": 0.8
         },
         "mode": "lines",
         "opacity": 0.1,
         "type": "scatter",
         "x": [
          4.7,
          5.666666666666667
         ],
         "y": [
          0.2352941176470588,
          0.33333333333333337
         ]
        },
        {
         "hoverinfo": "none",
         "line": {
          "color": "#2e2e2e",
          "width": 0.8
         },
         "mode": "lines",
         "opacity": 0.1,
         "type": "scatter",
         "x": [
          11.357142857142858,
          10.944444444444445
         ],
         "y": [
          0.4761904761904762,
          0.5454545454545455
         ]
        },
        {
         "hoverinfo": "none",
         "line": {
          "color": "#2e2e2e",
          "width": 0.8
         },
         "mode": "lines",
         "opacity": 0.1,
         "type": "scatter",
         "x": [
          8.75,
          8.2
         ],
         "y": [
          0.7142857142857143,
          0.7826086956521738
         ]
        },
        {
         "hoverinfo": "none",
         "line": {
          "color": "#2e2e2e",
          "width": 0.8
         },
         "mode": "lines",
         "opacity": 0.1,
         "type": "scatter",
         "x": [
          8.583333333333334,
          9
         ],
         "y": [
          0.7619047619047621,
          0.7906976744186047
         ]
        },
        {
         "hoverinfo": "none",
         "line": {
          "color": "#2e2e2e",
          "width": 0.8
         },
         "mode": "lines",
         "opacity": 0.1,
         "type": "scatter",
         "x": [
          9.583333333333334,
          8.615384615384615
         ],
         "y": [
          0.7619047619047621,
          0.8695652173913044
         ]
        },
        {
         "hoverinfo": "none",
         "line": {
          "color": "#2e2e2e",
          "width": 1.6
         },
         "mode": "lines",
         "opacity": 0.3,
         "type": "scatter",
         "x": [
          8.25,
          9.23076923076923
         ],
         "y": [
          0.7619047619047621,
          0.8695652173913044
         ]
        },
        {
         "hoverinfo": "none",
         "line": {
          "color": "#2e2e2e",
          "width": 0.8
         },
         "mode": "lines",
         "opacity": 0.1,
         "type": "scatter",
         "x": [
          10.5,
          10.5
         ],
         "y": [
          0.7619047619047621,
          0.8181818181818181
         ]
        },
        {
         "hoverinfo": "none",
         "line": {
          "color": "#2e2e2e",
          "width": 0.8
         },
         "mode": "lines",
         "opacity": 0.1,
         "type": "scatter",
         "x": [
          10.588235294117647,
          10.473684210526315
         ],
         "y": [
          0.7619047619047621,
          0.7906976744186047
         ]
        },
        {
         "hoverinfo": "none",
         "line": {
          "color": "#2e2e2e",
          "width": 0.8
         },
         "mode": "lines",
         "opacity": 0.1,
         "type": "scatter",
         "x": [
          9,
          9
         ],
         "y": [
          0.5952380952380952,
          0.5681818181818181
         ]
        },
        {
         "hoverinfo": "none",
         "line": {
          "color": "#2e2e2e",
          "width": 0.8
         },
         "mode": "lines",
         "opacity": 0.1,
         "type": "scatter",
         "x": [
          7.3,
          7.3
         ],
         "y": [
          0.6666666666666667,
          0.7272727272727274
         ]
        },
        {
         "hoverinfo": "none",
         "line": {
          "color": "#2e2e2e",
          "width": 0.8
         },
         "mode": "lines",
         "opacity": 0.1,
         "type": "scatter",
         "x": [
          8.11111111111111,
          7.818181818181818
         ],
         "y": [
          0.6428571428571429,
          0.6744186046511628
         ]
        },
        {
         "hoverinfo": "none",
         "line": {
          "color": "#2e2e2e",
          "width": 0.8
         },
         "mode": "lines",
         "opacity": 0.1,
         "type": "scatter",
         "x": [
          8.461538461538462,
          8.266666666666667
         ],
         "y": [
          0.7619047619047621,
          0.7906976744186047
         ]
        },
        {
         "hoverinfo": "none",
         "line": {
          "color": "#2e2e2e",
          "width": 0.8
         },
         "mode": "lines",
         "opacity": 0.1,
         "type": "scatter",
         "x": [
          9.357142857142858,
          9.357142857142858
         ],
         "y": [
          0.7380952380952379,
          0.7209302325581395
         ]
        },
        {
         "hoverinfo": "none",
         "line": {
          "color": "#2e2e2e",
          "width": 0.8
         },
         "mode": "lines",
         "opacity": 0.1,
         "type": "scatter",
         "x": [
          9.357142857142858,
          8.5
         ],
         "y": [
          0.7380952380952379,
          0.7826086956521738
         ]
        },
        {
         "hoverinfo": "none",
         "line": {
          "color": "#2e2e2e",
          "width": 0.8
         },
         "mode": "lines",
         "opacity": 0.1,
         "type": "scatter",
         "x": [
          10.5,
          10.5
         ],
         "y": [
          0.6904761904761905,
          0.7209302325581395
         ]
        },
        {
         "hoverinfo": "none",
         "line": {
          "color": "#2e2e2e",
          "width": 0.8
         },
         "mode": "lines",
         "opacity": 0.1,
         "type": "scatter",
         "x": [
          8.25,
          8.5
         ],
         "y": [
          0.7619047619047621,
          0.8181818181818181
         ]
        },
        {
         "hoverinfo": "none",
         "line": {
          "color": "#2e2e2e",
          "width": 0.8
         },
         "mode": "lines",
         "opacity": 0.1,
         "type": "scatter",
         "x": [
          7.818181818181818,
          7.923076923076923
         ],
         "y": [
          0.6428571428571429,
          0.6744186046511628
         ]
        },
        {
         "hoverinfo": "none",
         "line": {
          "color": "#2e2e2e",
          "width": 0.8
         },
         "mode": "lines",
         "opacity": 0.1,
         "type": "scatter",
         "x": [
          9.071428571428571,
          9.5
         ],
         "y": [
          0.7619047619047621,
          0.8695652173913044
         ]
        },
        {
         "hoverinfo": "none",
         "line": {
          "color": "#2e2e2e",
          "width": 0.8
         },
         "mode": "lines",
         "opacity": 0.1,
         "type": "scatter",
         "x": [
          8.2,
          8.785714285714286
         ],
         "y": [
          0.7826086956521738,
          0.8333333333333333
         ]
        },
        {
         "hoverinfo": "none",
         "line": {
          "color": "#2e2e2e",
          "width": 0.8
         },
         "mode": "lines",
         "opacity": 0.1,
         "type": "scatter",
         "x": [
          9.833333333333334,
          9.9
         ],
         "y": [
          0.8260869565217392,
          0.875
         ]
        },
        {
         "hoverinfo": "none",
         "line": {
          "color": "#2e2e2e",
          "width": 1.6
         },
         "mode": "lines",
         "opacity": 0.3,
         "type": "scatter",
         "x": [
          9.23076923076923,
          8.928571428571429
         ],
         "y": [
          0.8695652173913044,
          0.96
         ]
        },
        {
         "hoverinfo": "none",
         "line": {
          "color": "#2e2e2e",
          "width": 0.8
         },
         "mode": "lines",
         "opacity": 0.1,
         "type": "scatter",
         "x": [
          9.23076923076923,
          9
         ],
         "y": [
          0.8695652173913044,
          0.8936170212765957
         ]
        },
        {
         "hoverinfo": "none",
         "line": {
          "color": "#2e2e2e",
          "width": 0.8
         },
         "mode": "lines",
         "opacity": 0.1,
         "type": "scatter",
         "x": [
          10.5,
          10.5
         ],
         "y": [
          0.8478260869565216,
          0.8958333333333334
         ]
        },
        {
         "hoverinfo": "none",
         "line": {
          "color": "#2e2e2e",
          "width": 0.8
         },
         "mode": "lines",
         "opacity": 0.1,
         "type": "scatter",
         "x": [
          9.75,
          9.5
         ],
         "y": [
          0.8695652173913044,
          0.8936170212765957
         ]
        },
        {
         "hoverinfo": "none",
         "line": {
          "color": "#2e2e2e",
          "width": 0.8
         },
         "mode": "lines",
         "opacity": 0.1,
         "type": "scatter",
         "x": [
          8.5,
          5.5
         ],
         "y": [
          0.5434782608695652,
          0.5416666666666667
         ]
        },
        {
         "hoverinfo": "none",
         "line": {
          "color": "#2e2e2e",
          "width": 0.8
         },
         "mode": "lines",
         "opacity": 0.1,
         "type": "scatter",
         "x": [
          7.5,
          7.777777777777778
         ],
         "y": [
          0.7826086956521738,
          0.8085106382978723
         ]
        },
        {
         "hoverinfo": "none",
         "line": {
          "color": "#2e2e2e",
          "width": 0.8
         },
         "mode": "lines",
         "opacity": 0.1,
         "type": "scatter",
         "x": [
          9.214285714285714,
          9.25
         ],
         "y": [
          0.8695652173913044,
          0.8936170212765957
         ]
        },
        {
         "hoverinfo": "none",
         "line": {
          "color": "#2e2e2e",
          "width": 1.6
         },
         "mode": "lines",
         "opacity": 0.3,
         "type": "scatter",
         "x": [
          9.5,
          9.222222222222221
         ],
         "y": [
          0.8695652173913044,
          0.8936170212765957
         ]
        },
        {
         "hoverinfo": "none",
         "line": {
          "color": "#2e2e2e",
          "width": 0.8
         },
         "mode": "lines",
         "opacity": 0.1,
         "type": "scatter",
         "x": [
          8.88888888888889,
          9.181818181818182
         ],
         "y": [
          0.7608695652173914,
          0.7872340425531914
         ]
        },
        {
         "hoverinfo": "none",
         "line": {
          "color": "#2e2e2e",
          "width": 0.8
         },
         "mode": "lines",
         "opacity": 0.1,
         "type": "scatter",
         "x": [
          9.071428571428571,
          9
         ],
         "y": [
          0.8695652173913044,
          0.8936170212765957
         ]
        },
        {
         "hoverinfo": "none",
         "line": {
          "color": "#2e2e2e",
          "width": 0.8
         },
         "mode": "lines",
         "opacity": 0.1,
         "type": "scatter",
         "x": [
          8.5,
          9.5
         ],
         "y": [
          0.7826086956521738,
          0.8799999999999999
         ]
        },
        {
         "hoverinfo": "none",
         "line": {
          "color": "#2e2e2e",
          "width": 0.8
         },
         "mode": "lines",
         "opacity": 0.1,
         "type": "scatter",
         "x": [
          8.75,
          8.5
         ],
         "y": [
          0.8571428571428572,
          0.86
         ]
        },
        {
         "hoverinfo": "none",
         "line": {
          "color": "#2e2e2e",
          "width": 0.8
         },
         "mode": "lines",
         "opacity": 0.1,
         "type": "scatter",
         "x": [
          9.909090909090908,
          9.8
         ],
         "y": [
          0.8979591836734695,
          0.9411764705882352
         ]
        },
        {
         "hoverinfo": "none",
         "line": {
          "color": "#2e2e2e",
          "width": 0.8
         },
         "mode": "lines",
         "opacity": 0.1,
         "type": "scatter",
         "x": [
          8.7,
          9.5
         ],
         "y": [
          0.8979591836734695,
          0.981132075471698
         ]
        },
        {
         "hoverinfo": "none",
         "line": {
          "color": "#2e2e2e",
          "width": 1.6
         },
         "mode": "lines",
         "opacity": 0.3,
         "type": "scatter",
         "x": [
          9.214285714285714,
          9.25
         ],
         "y": [
          0.9387755102040816,
          0.96
         ]
        },
        {
         "hoverinfo": "none",
         "line": {
          "color": "#2e2e2e",
          "width": 0.8
         },
         "mode": "lines",
         "opacity": 0.1,
         "type": "scatter",
         "x": [
          8.928571428571429,
          9.5
         ],
         "y": [
          0.9387755102040816,
          0.9803921568627452
         ]
        },
        {
         "hoverinfo": "none",
         "line": {
          "color": "#2e2e2e",
          "width": 0.8
         },
         "mode": "lines",
         "opacity": 0.1,
         "type": "scatter",
         "x": [
          9,
          8.11111111111111
         ],
         "y": [
          0.8163265306122449,
          0.8
         ]
        },
        {
         "hoverinfo": "none",
         "line": {
          "color": "#2e2e2e",
          "width": 0.8
         },
         "mode": "lines",
         "opacity": 0.1,
         "type": "scatter",
         "x": [
          9.5,
          9.214285714285714
         ],
         "y": [
          0.9387755102040816,
          0.96
         ]
        },
        {
         "hoverinfo": "none",
         "line": {
          "color": "#2e2e2e",
          "width": 0.8
         },
         "mode": "lines",
         "opacity": 0.1,
         "type": "scatter",
         "x": [
          10.5,
          9.166666666666666
         ],
         "y": [
          0.836734693877551,
          0.8431372549019608
         ]
        },
        {
         "hoverinfo": "none",
         "line": {
          "color": "#2e2e2e",
          "width": 0.8
         },
         "mode": "lines",
         "opacity": 0.1,
         "type": "scatter",
         "x": [
          7.928571428571429,
          8.5
         ],
         "y": [
          0.7755102040816326,
          0.8235294117647058
         ]
        },
        {
         "hoverinfo": "none",
         "line": {
          "color": "#2e2e2e",
          "width": 1.6
         },
         "mode": "lines",
         "opacity": 0.3,
         "type": "scatter",
         "x": [
          8.928571428571429,
          9.5
         ],
         "y": [
          0.96,
          1
         ]
        },
        {
         "hoverinfo": "none",
         "line": {
          "color": "#2e2e2e",
          "width": 0.8
         },
         "mode": "lines",
         "opacity": 0.1,
         "type": "scatter",
         "x": [
          10.071428571428571,
          9.5
         ],
         "y": [
          0.94,
          0.9807692307692308
         ]
        },
        {
         "hoverinfo": "none",
         "line": {
          "color": "#2e2e2e",
          "width": 1.6
         },
         "mode": "lines",
         "opacity": 0.3,
         "type": "scatter",
         "x": [
          9.25,
          9.5
         ],
         "y": [
          0.96,
          0.9803921568627452
         ]
        },
        {
         "hoverinfo": "none",
         "line": {
          "color": "#2e2e2e",
          "width": 0.8
         },
         "mode": "lines",
         "opacity": 0.1,
         "type": "scatter",
         "x": [
          6.5,
          8.5
         ],
         "y": [
          0.6,
          0.5555555555555555
         ]
        },
        {
         "hoverinfo": "none",
         "line": {
          "color": "#2e2e2e",
          "width": 0.8
         },
         "mode": "lines",
         "opacity": 0.1,
         "type": "scatter",
         "x": [
          8.11111111111111,
          7.818181818181818
         ],
         "y": [
          0.8,
          0.8039215686274509
         ]
        },
        {
         "hoverinfo": "none",
         "line": {
          "color": "#2e2e2e",
          "width": 0.8
         },
         "mode": "lines",
         "opacity": 0.1,
         "type": "scatter",
         "x": [
          9.214285714285714,
          9.25
         ],
         "y": [
          0.96,
          0.9803921568627452
         ]
        },
        {
         "hoverinfo": "none",
         "line": {
          "color": "#2e2e2e",
          "width": 0.8
         },
         "mode": "lines",
         "opacity": 0.1,
         "type": "scatter",
         "x": [
          9.5,
          10.5
         ],
         "y": [
          0.8799999999999999,
          0.8148148148148148
         ]
        },
        {
         "hoverinfo": "none",
         "line": {
          "color": "#2e2e2e",
          "width": 0.8
         },
         "mode": "lines",
         "opacity": 0.1,
         "type": "scatter",
         "x": [
          8.4,
          8.583333333333334
         ],
         "y": [
          0.7317073170731707,
          0.7619047619047621
         ]
        },
        {
         "hoverinfo": "none",
         "line": {
          "color": "#2e2e2e",
          "width": 0.8
         },
         "mode": "lines",
         "opacity": 0.1,
         "type": "scatter",
         "x": [
          8.7,
          8.25
         ],
         "y": [
          0.7317073170731707,
          0.7619047619047621
         ]
        },
        {
         "hoverinfo": "none",
         "line": {
          "color": "#2e2e2e",
          "width": 0.8
         },
         "mode": "lines",
         "opacity": 0.1,
         "type": "scatter",
         "x": [
          8.454545454545455,
          8.733333333333333
         ],
         "y": [
          0.7317073170731707,
          0.7906976744186047
         ]
        },
        {
         "hoverinfo": "none",
         "line": {
          "color": "#2e2e2e",
          "width": 0.8
         },
         "mode": "lines",
         "opacity": 0.1,
         "type": "scatter",
         "x": [
          9.923076923076923,
          9.588235294117647
         ],
         "y": [
          0.7317073170731707,
          0.7906976744186047
         ]
        },
        {
         "hoverinfo": "none",
         "line": {
          "color": "#2e2e2e",
          "width": 0.8
         },
         "mode": "lines",
         "opacity": 0.1,
         "type": "scatter",
         "x": [
          8.375,
          8.11111111111111
         ],
         "y": [
          0.6097560975609756,
          0.6428571428571429
         ]
        },
        {
         "hoverinfo": "none",
         "line": {
          "color": "#2e2e2e",
          "width": 0.8
         },
         "mode": "lines",
         "opacity": 0.1,
         "type": "scatter",
         "x": [
          10.5,
          10.5
         ],
         "y": [
          0.6829268292682926,
          0.6904761904761905
         ]
        },
        {
         "hoverinfo": "none",
         "line": {
          "color": "#2e2e2e",
          "width": 0.8
         },
         "mode": "lines",
         "opacity": 0.1,
         "type": "scatter",
         "x": [
          8.5,
          9.071428571428571
         ],
         "y": [
          0.7317073170731707,
          0.8444444444444443
         ]
        },
        {
         "hoverinfo": "none",
         "line": {
          "color": "#2e2e2e",
          "width": 0.8
         },
         "mode": "lines",
         "opacity": 0.1,
         "type": "scatter",
         "x": [
          8.071428571428571,
          8.25
         ],
         "y": [
          0.7317073170731707,
          0.7619047619047621
         ]
        },
        {
         "hoverinfo": "none",
         "line": {
          "color": "#2e2e2e",
          "width": 0.8
         },
         "mode": "lines",
         "opacity": 0.1,
         "type": "scatter",
         "x": [
          8.11111111111111,
          7.818181818181818
         ],
         "y": [
          0.6097560975609756,
          0.6428571428571429
         ]
        },
        {
         "hoverinfo": "none",
         "line": {
          "color": "#2e2e2e",
          "width": 0.8
         },
         "mode": "lines",
         "opacity": 0.1,
         "type": "scatter",
         "x": [
          9,
          9.8
         ],
         "y": [
          0.7906976744186047,
          0.8936170212765957
         ]
        },
        {
         "hoverinfo": "none",
         "line": {
          "color": "#2e2e2e",
          "width": 0.8
         },
         "mode": "lines",
         "opacity": 0.1,
         "type": "scatter",
         "x": [
          7.785714285714286,
          7.1
         ],
         "y": [
          0.7441860465116279,
          0.7999999999999999
         ]
        },
        {
         "hoverinfo": "none",
         "line": {
          "color": "#2e2e2e",
          "width": 0.8
         },
         "mode": "lines",
         "opacity": 0.1,
         "type": "scatter",
         "x": [
          8.733333333333333,
          8.588235294117647
         ],
         "y": [
          0.7906976744186047,
          0.8181818181818181
         ]
        },
        {
         "hoverinfo": "none",
         "line": {
          "color": "#2e2e2e",
          "width": 1.6
         },
         "mode": "lines",
         "opacity": 0.3,
         "type": "scatter",
         "x": [
          8.733333333333333,
          9.5
         ],
         "y": [
          0.7906976744186047,
          0.8444444444444443
         ]
        },
        {
         "hoverinfo": "none",
         "line": {
          "color": "#2e2e2e",
          "width": 0.8
         },
         "mode": "lines",
         "opacity": 0.1,
         "type": "scatter",
         "x": [
          9.588235294117647,
          9.5
         ],
         "y": [
          0.7906976744186047,
          0.8444444444444443
         ]
        },
        {
         "hoverinfo": "none",
         "line": {
          "color": "#2e2e2e",
          "width": 0.8
         },
         "mode": "lines",
         "opacity": 0.1,
         "type": "scatter",
         "x": [
          7.818181818181818,
          7.923076923076923
         ],
         "y": [
          0.6744186046511628,
          0.7045454545454546
         ]
        },
        {
         "hoverinfo": "none",
         "line": {
          "color": "#2e2e2e",
          "width": 0.8
         },
         "mode": "lines",
         "opacity": 0.1,
         "type": "scatter",
         "x": [
          9.866666666666667,
          9.647058823529411
         ],
         "y": [
          0.7906976744186047,
          0.8181818181818181
         ]
        },
        {
         "hoverinfo": "none",
         "line": {
          "color": "#2e2e2e",
          "width": 0.8
         },
         "mode": "lines",
         "opacity": 0.1,
         "type": "scatter",
         "x": [
          8.266666666666667,
          8.583333333333334
         ],
         "y": [
          0.7906976744186047,
          0.8444444444444443
         ]
        },
        {
         "hoverinfo": "none",
         "line": {
          "color": "#2e2e2e",
          "width": 0.8
         },
         "mode": "lines",
         "opacity": 0.1,
         "type": "scatter",
         "x": [
          10.5,
          10.642857142857142
         ],
         "y": [
          0.7209302325581395,
          0.75
         ]
        },
        {
         "hoverinfo": "none",
         "line": {
          "color": "#2e2e2e",
          "width": 0.8
         },
         "mode": "lines",
         "opacity": 0.1,
         "type": "scatter",
         "x": [
          7.923076923076923,
          7.3076923076923075
         ],
         "y": [
          0.6744186046511628,
          0.74468085106383
         ]
        },
        {
         "hoverinfo": "none",
         "line": {
          "color": "#2e2e2e",
          "width": 0.8
         },
         "mode": "lines",
         "opacity": 0.1,
         "type": "scatter",
         "x": [
          7.733333333333333,
          8.5
         ],
         "y": [
          0.6511627906976744,
          0.7111111111111111
         ]
        },
        {
         "hoverinfo": "none",
         "line": {
          "color": "#2e2e2e",
          "width": 1.6
         },
         "mode": "lines",
         "opacity": 0.3,
         "type": "scatter",
         "x": [
          9.25,
          9.5
         ],
         "y": [
          0.8936170212765957,
          0.9166666666666666
         ]
        },
        {
         "hoverinfo": "none",
         "line": {
          "color": "#2e2e2e",
          "width": 0.8
         },
         "mode": "lines",
         "opacity": 0.1,
         "type": "scatter",
         "x": [
          9.5,
          9.5
         ],
         "y": [
          0.8936170212765957,
          0.9166666666666666
         ]
        },
        {
         "hoverinfo": "none",
         "line": {
          "color": "#2e2e2e",
          "width": 0.8
         },
         "mode": "lines",
         "opacity": 0.1,
         "type": "scatter",
         "x": [
          9.222222222222221,
          9
         ],
         "y": [
          0.8936170212765957,
          0.9166666666666666
         ]
        },
        {
         "hoverinfo": "none",
         "line": {
          "color": "#2e2e2e",
          "width": 0.8
         },
         "mode": "lines",
         "opacity": 0.1,
         "type": "scatter",
         "x": [
          9.181818181818182,
          10
         ],
         "y": [
          0.7872340425531914,
          0.8125000000000001
         ]
        },
        {
         "hoverinfo": "none",
         "line": {
          "color": "#2e2e2e",
          "width": 0.8
         },
         "mode": "lines",
         "opacity": 0.1,
         "type": "scatter",
         "x": [
          9,
          9.1
         ],
         "y": [
          0.8936170212765957,
          0.9166666666666666
         ]
        },
        {
         "hoverinfo": "none",
         "line": {
          "color": "#2e2e2e",
          "width": 0.8
         },
         "mode": "lines",
         "opacity": 0.1,
         "type": "scatter",
         "x": [
          7.3076923076923075,
          7.3
         ],
         "y": [
          0.74468085106383,
          0.7500000000000001
         ]
        },
        {
         "hoverinfo": "none",
         "line": {
          "color": "#2e2e2e",
          "width": 0.8
         },
         "mode": "lines",
         "opacity": 0.1,
         "type": "scatter",
         "x": [
          8,
          7.928571428571429
         ],
         "y": [
          0.7234042553191489,
          0.7755102040816326
         ]
        },
        {
         "hoverinfo": "none",
         "line": {
          "color": "#2e2e2e",
          "width": 0.8
         },
         "mode": "lines",
         "opacity": 0.1,
         "type": "scatter",
         "x": [
          9.8,
          9.5
         ],
         "y": [
          0.9411764705882352,
          0.981132075471698
         ]
        },
        {
         "hoverinfo": "none",
         "line": {
          "color": "#2e2e2e",
          "width": 0.8
         },
         "mode": "lines",
         "opacity": 0.1,
         "type": "scatter",
         "x": [
          9.25,
          9.5
         ],
         "y": [
          0.9803921568627452,
          1
         ]
        },
        {
         "hoverinfo": "none",
         "line": {
          "color": "#2e2e2e",
          "width": 0.8
         },
         "mode": "lines",
         "opacity": 0.1,
         "type": "scatter",
         "x": [
          9.166666666666666,
          9
         ],
         "y": [
          0.8431372549019608,
          0.8653846153846154
         ]
        },
        {
         "hoverinfo": "none",
         "line": {
          "color": "#2e2e2e",
          "width": 0.8
         },
         "mode": "lines",
         "opacity": 0.1,
         "type": "scatter",
         "x": [
          9.5,
          9.214285714285714
         ],
         "y": [
          0.981132075471698,
          0.962962962962963
         ]
        },
        {
         "hoverinfo": "none",
         "line": {
          "color": "#2e2e2e",
          "width": 0.8
         },
         "mode": "lines",
         "opacity": 0.1,
         "type": "scatter",
         "x": [
          9.5,
          9.5
         ],
         "y": [
          0.9285714285714286,
          0.912280701754386
         ]
        },
        {
         "hoverinfo": "none",
         "line": {
          "color": "#2e2e2e",
          "width": 0.8
         },
         "mode": "lines",
         "opacity": 0.1,
         "type": "scatter",
         "x": [
          9.5,
          9.5
         ],
         "y": [
          0.912280701754386,
          0.8965517241379308
         ]
        },
        {
         "hoverinfo": "none",
         "line": {
          "color": "#2e2e2e",
          "width": 0.8
         },
         "mode": "lines",
         "opacity": 0.1,
         "type": "scatter",
         "x": [
          9.5,
          9.31578947368421
         ],
         "y": [
          0.8275862068965517,
          0.8135593220338984
         ]
        },
        {
         "hoverinfo": "none",
         "line": {
          "color": "#2e2e2e",
          "width": 0.8
         },
         "mode": "lines",
         "opacity": 0.1,
         "type": "scatter",
         "x": [
          8.333333333333334,
          9
         ],
         "y": [
          0.20689655172413796,
          0.2666666666666667
         ]
        },
        {
         "hoverinfo": "none",
         "line": {
          "color": "#2e2e2e",
          "width": 0.8
         },
         "mode": "lines",
         "opacity": 0.1,
         "type": "scatter",
         "x": [
          6.642857142857143,
          7.785714285714286
         ],
         "y": [
          0.6153846153846155,
          0.7441860465116279
         ]
        },
        {
         "hoverinfo": "none",
         "line": {
          "color": "#2e2e2e",
          "width": 1.6
         },
         "mode": "lines",
         "opacity": 0.3,
         "type": "scatter",
         "x": [
          9,
          8.733333333333333
         ],
         "y": [
          0.6666666666666666,
          0.7906976744186047
         ]
        },
        {
         "hoverinfo": "none",
         "line": {
          "color": "#2e2e2e",
          "width": 0.8
         },
         "mode": "lines",
         "opacity": 0.1,
         "type": "scatter",
         "x": [
          9,
          8.454545454545455
         ],
         "y": [
          0.6666666666666666,
          0.7317073170731707
         ]
        },
        {
         "hoverinfo": "none",
         "line": {
          "color": "#2e2e2e",
          "width": 0.8
         },
         "mode": "lines",
         "opacity": 0.1,
         "type": "scatter",
         "x": [
          9,
          9.8
         ],
         "y": [
          0.6666666666666666,
          0.7906976744186047
         ]
        },
        {
         "hoverinfo": "none",
         "line": {
          "color": "#2e2e2e",
          "width": 0.8
         },
         "mode": "lines",
         "opacity": 0.1,
         "type": "scatter",
         "x": [
          8.928571428571429,
          8.625
         ],
         "y": [
          0.6666666666666666,
          0.7000000000000001
         ]
        },
        {
         "hoverinfo": "none",
         "line": {
          "color": "#2e2e2e",
          "width": 0.8
         },
         "mode": "lines",
         "opacity": 0.1,
         "type": "scatter",
         "x": [
          9.071428571428571,
          9.866666666666667
         ],
         "y": [
          0.6666666666666666,
          0.7906976744186047
         ]
        },
        {
         "hoverinfo": "none",
         "line": {
          "color": "#2e2e2e",
          "width": 0.8
         },
         "mode": "lines",
         "opacity": 0.1,
         "type": "scatter",
         "x": [
          8.785714285714286,
          9
         ],
         "y": [
          0.5897435897435898,
          0.625
         ]
        },
        {
         "hoverinfo": "none",
         "line": {
          "color": "#2e2e2e",
          "width": 0.8
         },
         "mode": "lines",
         "opacity": 0.1,
         "type": "scatter",
         "x": [
          7,
          7
         ],
         "y": [
          0.5897435897435898,
          0.6
         ]
        },
        {
         "hoverinfo": "none",
         "line": {
          "color": "#2e2e2e",
          "width": 0.8
         },
         "mode": "lines",
         "opacity": 0.1,
         "type": "scatter",
         "x": [
          8,
          7.733333333333333
         ],
         "y": [
          0.5384615384615384,
          0.6511627906976744
         ]
        },
        {
         "hoverinfo": "none",
         "line": {
          "color": "#2e2e2e",
          "width": 0.8
         },
         "mode": "lines",
         "opacity": 0.1,
         "type": "scatter",
         "x": [
          7.1,
          8.7
         ],
         "y": [
          0.7999999999999999,
          0.8979591836734695
         ]
        },
        {
         "hoverinfo": "none",
         "line": {
          "color": "#2e2e2e",
          "width": 0.8
         },
         "mode": "lines",
         "opacity": 0.1,
         "type": "scatter",
         "x": [
          8.5,
          9.25
         ],
         "y": [
          0.8444444444444443,
          0.8936170212765957
         ]
        },
        {
         "hoverinfo": "none",
         "line": {
          "color": "#2e2e2e",
          "width": 0.8
         },
         "mode": "lines",
         "opacity": 0.1,
         "type": "scatter",
         "x": [
          9.785714285714286,
          9.75
         ],
         "y": [
          0.8444444444444443,
          0.8695652173913044
         ]
        },
        {
         "hoverinfo": "none",
         "line": {
          "color": "#2e2e2e",
          "width": 0.8
         },
         "mode": "lines",
         "opacity": 0.1,
         "type": "scatter",
         "x": [
          9.5,
          8.928571428571429
         ],
         "y": [
          0.8444444444444443,
          0.9387755102040816
         ]
        },
        {
         "hoverinfo": "none",
         "line": {
          "color": "#2e2e2e",
          "width": 0.8
         },
         "mode": "lines",
         "opacity": 0.1,
         "type": "scatter",
         "x": [
          9.5,
          9.214285714285714
         ],
         "y": [
          0.8444444444444443,
          0.8695652173913044
         ]
        },
        {
         "hoverinfo": "none",
         "line": {
          "color": "#2e2e2e",
          "width": 0.8
         },
         "mode": "lines",
         "opacity": 0.1,
         "type": "scatter",
         "x": [
          9.5,
          9.5
         ],
         "y": [
          0.8444444444444443,
          0.8695652173913044
         ]
        },
        {
         "hoverinfo": "none",
         "line": {
          "color": "#2e2e2e",
          "width": 0.8
         },
         "mode": "lines",
         "opacity": 0.1,
         "type": "scatter",
         "x": [
          8,
          8.88888888888889
         ],
         "y": [
          0.7333333333333333,
          0.7608695652173914
         ]
        },
        {
         "hoverinfo": "none",
         "line": {
          "color": "#2e2e2e",
          "width": 0.8
         },
         "mode": "lines",
         "opacity": 0.1,
         "type": "scatter",
         "x": [
          10.5,
          10.5
         ],
         "y": [
          0.8444444444444443,
          0.8936170212765957
         ]
        },
        {
         "hoverinfo": "none",
         "line": {
          "color": "#2e2e2e",
          "width": 0.8
         },
         "mode": "lines",
         "opacity": 0.1,
         "type": "scatter",
         "x": [
          8.583333333333334,
          9.071428571428571
         ],
         "y": [
          0.8444444444444443,
          0.8695652173913044
         ]
        },
        {
         "hoverinfo": "none",
         "line": {
          "color": "#2e2e2e",
          "width": 0.8
         },
         "mode": "lines",
         "opacity": 0.1,
         "type": "scatter",
         "x": [
          10.5,
          10.5
         ],
         "y": [
          0.7777777777777778,
          0.836734693877551
         ]
        },
        {
         "hoverinfo": "none",
         "line": {
          "color": "#2e2e2e",
          "width": 0.8
         },
         "mode": "lines",
         "opacity": 0.1,
         "type": "scatter",
         "x": [
          8.5,
          8
         ],
         "y": [
          0.7111111111111111,
          0.7234042553191489
         ]
        },
        {
         "hoverinfo": "text",
         "marker": {
          "color": "#2e2e2e",
          "colorscale": [
           [
            0,
            "rgb(255,255,255)"
           ],
           [
            0.125,
            "rgb(240,240,240)"
           ],
           [
            0.25,
            "rgb(217,217,217)"
           ],
           [
            0.375,
            "rgb(189,189,189)"
           ],
           [
            0.5,
            "rgb(150,150,150)"
           ],
           [
            0.625,
            "rgb(115,115,115)"
           ],
           [
            0.75,
            "rgb(82,82,82)"
           ],
           [
            0.875,
            "rgb(37,37,37)"
           ],
           [
            1,
            "rgb(0,0,0)"
           ]
          ],
          "line": {
           "color": "#FFF",
           "width": 0
          },
          "opacity": 1,
          "reversescale": true,
          "size": [
           40,
           0.8,
           0.8,
           9.600000000000001,
           2.4000000000000004,
           0.8,
           0.8,
           16.8,
           3.2,
           0.8,
           0.8,
           0.8,
           0.8,
           0.8,
           0.8,
           0.8,
           0.8,
           0.8,
           0.8,
           8.8,
           0.8,
           0.8,
           0.8,
           1.6,
           0.8,
           0.8,
           0.8,
           0.8,
           1.6,
           0.8,
           0.8,
           0.8,
           0.8,
           0.8,
           0.8,
           0.8,
           0.8,
           0.8,
           1.6,
           1.6,
           0.8,
           0.8,
           0.8,
           0.8,
           0.8,
           0.8,
           0.8,
           0.8,
           0.8,
           2.4000000000000004,
           0.8,
           0.8,
           0.8,
           0.8,
           0.8,
           0.8,
           0.8,
           0.8,
           0.8,
           0.8,
           0.8,
           0.8,
           0.8,
           1.6,
           0.8,
           0.8,
           0.8,
           0.8,
           0.8,
           0.8,
           0.8,
           0.8,
           0.8,
           0.8,
           0.8,
           0.8,
           0.8,
           0.8,
           0.8,
           0.8,
           0.8,
           0.8,
           0.8,
           0.8,
           1.6,
           2.4000000000000004,
           0.8,
           0.8,
           0.8,
           0.8,
           0.8,
           0.8,
           0.8,
           22.400000000000002,
           0.8,
           2.4000000000000004,
           1.6,
           0.8,
           0.8,
           3.2,
           1.6,
           0.8,
           0.8,
           0.8,
           4.800000000000001,
           0.8,
           0.8,
           0.8,
           0.8,
           0.8,
           0.8,
           0.8,
           0.8,
           0.8,
           1.6,
           0.8,
           2.4000000000000004,
           0.8,
           0.8,
           0.8,
           0.8,
           1.6,
           0.8,
           0.8,
           0.8,
           0.8,
           0.8,
           0.8,
           0.8,
           0.8,
           1.6,
           1.6,
           0.8,
           2.4000000000000004,
           0.8,
           0.8,
           0.8,
           0.8,
           0.8,
           0.8,
           0.8,
           0.8,
           1.6,
           1.6,
           0.8,
           0.8,
           0.8,
           3.2,
           0.8,
           0.8,
           0.8,
           0.8,
           0.8,
           0.8,
           0.8,
           0.8,
           0.8,
           1.6,
           1.6,
           2.4000000000000004,
           0.8,
           0.8,
           3.2,
           0.8,
           2.4000000000000004,
           0.8,
           0.8,
           0.8,
           0.8,
           0.8,
           0.8,
           0.8,
           0.8,
           1.6,
           0.8,
           0.8,
           0.8,
           0.8,
           0.8,
           0.8,
           0.8,
           1.6,
           0.8,
           0.8,
           0.8,
           0.8,
           0.8,
           0.8,
           0.8,
           2.4000000000000004,
           0.8,
           0.8,
           0.8,
           0.8,
           0.8,
           1.6,
           0.8,
           0.8,
           0.8,
           0.8,
           0.8,
           0.8,
           1.6,
           0.8,
           0.8,
           0.8,
           0.8,
           0.8,
           0.8,
           1.6,
           1.6,
           1.6,
           0.8,
           0.8,
           0.8,
           0.8,
           1.6,
           0.8,
           0.8,
           0.8,
           0.8,
           0.8,
           0.8,
           0.8,
           0.8,
           0.8,
           0.8,
           2.4000000000000004,
           0.8,
           0.8,
           0.8,
           0.8,
           0.8,
           0.8,
           0.8,
           0.8,
           0.8,
           0.8,
           0.8,
           1.6,
           0.8,
           0.8,
           1.6,
           0.8,
           0.8,
           0.8,
           0.8,
           0.8,
           0.8,
           0.8,
           2.4000000000000004,
           0.8,
           0.8,
           0.8,
           0.8,
           1.6,
           0.8,
           0.8,
           0.8,
           0.8,
           0.8,
           0.8,
           0.8,
           3.2,
           0.8,
           0.8,
           0.8,
           0.8,
           0.8,
           0.8,
           0.8,
           0.8,
           1.6,
           0.8,
           0.8,
           0.8,
           0.8,
           0.8,
           0.8,
           0.8,
           0.8,
           0.8,
           0.8
          ]
         },
         "mode": "markers",
         "type": "scatter",
         "x": [
          8.5,
          11.5,
          12.5,
          10.5,
          7.5,
          8.833333333333334,
          9.833333333333334,
          7.833333333333333,
          10.5,
          6.125,
          8.166666666666666,
          5.571428571428571,
          7.166666666666667,
          6.428571428571429,
          6.833333333333333,
          8.071428571428571,
          11.357142857142858,
          6.846153846153846,
          9.375,
          9.357142857142858,
          10.375,
          9.466666666666667,
          9.5,
          7.071428571428571,
          7.25,
          8.785714285714286,
          7.214285714285714,
          8.214285714285714,
          7.642857142857143,
          7.071428571428571,
          9.071428571428571,
          6.5,
          6.642857142857143,
          5.666666666666667,
          8.166666666666666,
          6.8,
          11.3,
          10.071428571428571,
          8.5,
          8.5,
          10.75,
          8.7,
          10.307692307692308,
          10.166666666666666,
          7,
          8,
          8.5,
          7.5,
          9.5,
          8.625,
          10.5,
          8.444444444444445,
          8.166666666666666,
          9,
          7.5,
          7,
          8.166666666666666,
          8.7,
          7.857142857142857,
          10.5,
          10.944444444444445,
          10.227272727272727,
          10,
          10.5,
          8.588235294117647,
          9.5,
          9,
          9.5,
          7.3,
          9,
          7.923076923076923,
          9.5625,
          8.0625,
          9.647058823529411,
          10.642857142857142,
          8.5,
          8.38888888888889,
          7.4375,
          7.5,
          9.5,
          9,
          10.5,
          8.785714285714286,
          9.9,
          10.5,
          9.5,
          5.5,
          10,
          9.1,
          8.5,
          7.3,
          9,
          5.5,
          6.5,
          12.5,
          9,
          10.5,
          7.5,
          5.5,
          6,
          6.3,
          7.2,
          5.777777777777778,
          7.75,
          7.25,
          7.5,
          7.285714285714286,
          6.444444444444445,
          6.3076923076923075,
          7,
          6.666666666666667,
          9.692307692307692,
          6.769230769230769,
          6.923076923076923,
          6.833333333333333,
          9.9,
          9.5,
          9.6,
          9,
          7.1,
          8.4,
          9.7,
          7.9,
          10.5,
          7.3,
          9.3,
          7,
          6.714285714285714,
          12.5,
          6.8,
          9.166666666666666,
          7.583333333333333,
          11,
          9.5,
          11.5,
          7.5,
          7,
          6.916666666666667,
          8.916666666666666,
          9.3,
          8.916666666666666,
          9.833333333333334,
          9.416666666666666,
          7.833333333333333,
          8.833333333333334,
          8.5,
          9.8,
          9.5,
          9.5,
          9,
          9.5,
          9.214285714285714,
          8.5,
          10.5,
          9,
          9.25,
          12.5,
          7.3,
          7,
          10,
          6.8,
          9,
          6.5,
          7.166666666666667,
          8.9,
          6.666666666666667,
          7.3,
          9,
          4.7,
          11.357142857142858,
          8.75,
          8.583333333333334,
          9.583333333333334,
          8.25,
          10.5,
          10.588235294117647,
          9,
          7.3,
          9.285714285714286,
          8.11111111111111,
          8.461538461538462,
          9.357142857142858,
          10.5,
          8.25,
          7.818181818181818,
          9.071428571428571,
          8.2,
          9.833333333333334,
          8.615384615384615,
          9.23076923076923,
          10.5,
          9.75,
          8.5,
          7.5,
          9.214285714285714,
          9.5,
          8.88888888888889,
          9.071428571428571,
          8.5,
          8.75,
          9.909090909090908,
          8.7,
          9.214285714285714,
          8.928571428571429,
          9,
          9.5,
          10.5,
          7.928571428571429,
          8.5,
          8.928571428571429,
          10.071428571428571,
          9.25,
          6.5,
          8.11111111111111,
          9.214285714285714,
          9.5,
          8.4,
          8.7,
          8.454545454545455,
          9.923076923076923,
          8.375,
          10.5,
          8.5,
          8.071428571428571,
          8.11111111111111,
          9,
          7.785714285714286,
          8.733333333333333,
          10.473684210526315,
          9.588235294117647,
          7.818181818181818,
          9.866666666666667,
          8.266666666666667,
          9.357142857142858,
          9.8,
          10.5,
          7.923076923076923,
          7.733333333333333,
          9.8,
          9.25,
          9.5,
          7.777777777777778,
          9.222222222222221,
          9.181818181818182,
          9,
          10.5,
          9,
          7.3076923076923075,
          8,
          9.8,
          9.5,
          7.818181818181818,
          9.25,
          9.166666666666666,
          8.5,
          9.5,
          9.5,
          9.5,
          9.5,
          9.5,
          9.5,
          8.333333333333334,
          6.642857142857143,
          9,
          8.928571428571429,
          9.071428571428571,
          8.785714285714286,
          7,
          8,
          7.1,
          8.5,
          9.785714285714286,
          9.5,
          9.5,
          8,
          10.5,
          8.583333333333334,
          10.5,
          9.071428571428571,
          8.857142857142858,
          9.071428571428571,
          8.5,
          9.31578947368421
         ],
         "y": [
          0,
          0.07142857142857144,
          0,
          0.14285714285714288,
          0.14285714285714288,
          0.25,
          0.1875,
          0.375,
          0.375,
          0.375,
          0.3125,
          0.28124999999999994,
          0.3125,
          0.3125,
          0.25,
          0.4444444444444444,
          0.2777777777777778,
          0.5,
          0.5555555555555556,
          0.5555555555555556,
          0.5555555555555556,
          0.5555555555555556,
          0.4444444444444444,
          0.5277777777777778,
          0.5555555555555556,
          0.5555555555555556,
          0.4722222222222222,
          0.5555555555555556,
          0.5555555555555556,
          0.5555555555555556,
          0.5,
          0.5,
          0.4166666666666667,
          0.33333333333333337,
          0.6,
          0.6,
          0.45,
          0.7000000000000001,
          0.7000000000000001,
          0.6749999999999999,
          0.7000000000000001,
          0.7000000000000001,
          0.7000000000000001,
          0.55,
          0.6,
          0.7000000000000001,
          0.6749999999999999,
          0.625,
          0.625,
          0.7000000000000001,
          0.7000000000000001,
          0.7000000000000001,
          0.7000000000000001,
          0.625,
          0.6,
          0.6,
          0.5,
          0.7272727272727274,
          0.7272727272727274,
          0.5909090909090908,
          0.5454545454545455,
          0.8181818181818181,
          0.7954545454545455,
          0.8181818181818181,
          0.8181818181818181,
          0.8181818181818181,
          0.5681818181818181,
          0.7954545454545455,
          0.7272727272727274,
          0.8181818181818181,
          0.7045454545454546,
          0.8181818181818181,
          0.8181818181818181,
          0.8181818181818181,
          0.75,
          0.8181818181818181,
          0.7272727272727274,
          0.7272727272727274,
          0.6136363636363638,
          0.8333333333333333,
          0.8333333333333333,
          0.7083333333333333,
          0.8333333333333333,
          0.875,
          0.8958333333333334,
          0.9166666666666666,
          0.5416666666666667,
          0.8125000000000001,
          0.9166666666666666,
          0.9166666666666666,
          0.7500000000000001,
          0.9166666666666666,
          0.6249999999999999,
          0.2666666666666667,
          0.06666666666666668,
          0.2666666666666667,
          0.2666666666666667,
          0.2666666666666667,
          0.2,
          0.25806451612903225,
          0.3225806451612904,
          0.3225806451612904,
          0.3333333333333333,
          0.42424242424242425,
          0.42424242424242425,
          0.42424242424242425,
          0.3636363636363637,
          0.3636363636363637,
          0.42857142857142855,
          0.4571428571428572,
          0.4571428571428572,
          0.5142857142857142,
          0.4857142857142858,
          0.4571428571428572,
          0.5135135135135135,
          0.5945945945945945,
          0.5945945945945945,
          0.5945945945945945,
          0.5945945945945945,
          0.5945945945945945,
          0.5945945945945945,
          0.5945945945945945,
          0.5945945945945945,
          0.5405405405405405,
          0.5945945945945945,
          0.5135135135135135,
          0.4594594594594594,
          0.5263157894736842,
          0.3157894736842105,
          0.5789473684210527,
          0.631578947368421,
          0.631578947368421,
          0.631578947368421,
          0.631578947368421,
          0.4736842105263157,
          0.6052631578947368,
          0.5789473684210527,
          0.631578947368421,
          0.631578947368421,
          0.5526315789473685,
          0.631578947368421,
          0.631578947368421,
          0.631578947368421,
          0.6052631578947368,
          0.631578947368421,
          0.631578947368421,
          0.9230769230769232,
          1,
          0.9807692307692308,
          0.8653846153846154,
          0.962962962962963,
          0.962962962962963,
          0.5555555555555555,
          0.8148148148148148,
          0.9454545454545454,
          0.9454545454545454,
          0.1764705882352941,
          0.4705882352941176,
          0.4705882352941176,
          0.4705882352941176,
          0.411764705882353,
          0.3529411764705882,
          0.44117647058823534,
          0.4705882352941176,
          0.4705882352941176,
          0.38235294117647056,
          0.4705882352941176,
          0.4705882352941176,
          0.2352941176470588,
          0.4761904761904762,
          0.7142857142857143,
          0.7619047619047621,
          0.7619047619047621,
          0.7619047619047621,
          0.7619047619047621,
          0.7619047619047621,
          0.5952380952380952,
          0.6666666666666667,
          0.5714285714285714,
          0.6428571428571429,
          0.7619047619047621,
          0.7380952380952379,
          0.6904761904761905,
          0.7619047619047621,
          0.6428571428571429,
          0.7619047619047621,
          0.7826086956521738,
          0.8260869565217392,
          0.8695652173913044,
          0.8695652173913044,
          0.8478260869565216,
          0.8695652173913044,
          0.5434782608695652,
          0.7826086956521738,
          0.8695652173913044,
          0.8695652173913044,
          0.7608695652173914,
          0.8695652173913044,
          0.7826086956521738,
          0.8571428571428572,
          0.8979591836734695,
          0.8979591836734695,
          0.9387755102040816,
          0.9387755102040816,
          0.8163265306122449,
          0.9387755102040816,
          0.836734693877551,
          0.7755102040816326,
          0.86,
          0.96,
          0.94,
          0.96,
          0.6,
          0.8,
          0.96,
          0.8799999999999999,
          0.7317073170731707,
          0.7317073170731707,
          0.7317073170731707,
          0.7317073170731707,
          0.6097560975609756,
          0.6829268292682926,
          0.7317073170731707,
          0.7317073170731707,
          0.6097560975609756,
          0.7906976744186047,
          0.7441860465116279,
          0.7906976744186047,
          0.7906976744186047,
          0.7906976744186047,
          0.6744186046511628,
          0.7906976744186047,
          0.7906976744186047,
          0.7209302325581395,
          0.7906976744186047,
          0.7209302325581395,
          0.6744186046511628,
          0.6511627906976744,
          0.8936170212765957,
          0.8936170212765957,
          0.8936170212765957,
          0.8085106382978723,
          0.8936170212765957,
          0.7872340425531914,
          0.8936170212765957,
          0.8936170212765957,
          0.8936170212765957,
          0.74468085106383,
          0.7234042553191489,
          0.9411764705882352,
          0.9803921568627452,
          0.8039215686274509,
          0.9803921568627452,
          0.8431372549019608,
          0.8235294117647058,
          0.981132075471698,
          0.981132075471698,
          0.9285714285714286,
          0.912280701754386,
          0.8965517241379308,
          0.8275862068965517,
          0.20689655172413796,
          0.6153846153846155,
          0.6666666666666666,
          0.6666666666666666,
          0.6666666666666666,
          0.5897435897435898,
          0.5897435897435898,
          0.5384615384615384,
          0.7999999999999999,
          0.8444444444444443,
          0.8444444444444443,
          0.8444444444444443,
          0.8444444444444443,
          0.7333333333333333,
          0.8444444444444443,
          0.8444444444444443,
          0.7777777777777778,
          0.8444444444444443,
          0.8444444444444443,
          0.7333333333333333,
          0.7111111111111111,
          0.8135593220338984
         ]
        }
       ],
       "layout": {
        "height": 400,
        "hovermode": "closest",
        "margin": {
         "b": 20,
         "l": 5,
         "r": 5,
         "t": 40
        },
        "shapes": [
         {
          "line": {
           "color": "black",
           "dash": "dot",
           "width": 1
          },
          "type": "line",
          "x0": 4,
          "x1": 13,
          "y0": 1,
          "y1": 1
         },
         {
          "line": {
           "color": "black",
           "dash": "dot",
           "width": 1
          },
          "type": "line",
          "x0": 4,
          "x1": 13,
          "y0": 0,
          "y1": 0
         }
        ],
        "showlegend": false,
        "template": {
         "data": {
          "bar": [
           {
            "error_x": {
             "color": "rgb(36,36,36)"
            },
            "error_y": {
             "color": "rgb(36,36,36)"
            },
            "marker": {
             "line": {
              "color": "white",
              "width": 0.5
             }
            },
            "type": "bar"
           }
          ],
          "barpolar": [
           {
            "marker": {
             "line": {
              "color": "white",
              "width": 0.5
             }
            },
            "type": "barpolar"
           }
          ],
          "carpet": [
           {
            "aaxis": {
             "endlinecolor": "rgb(36,36,36)",
             "gridcolor": "white",
             "linecolor": "white",
             "minorgridcolor": "white",
             "startlinecolor": "rgb(36,36,36)"
            },
            "baxis": {
             "endlinecolor": "rgb(36,36,36)",
             "gridcolor": "white",
             "linecolor": "white",
             "minorgridcolor": "white",
             "startlinecolor": "rgb(36,36,36)"
            },
            "type": "carpet"
           }
          ],
          "choropleth": [
           {
            "colorbar": {
             "outlinewidth": 1,
             "tickcolor": "rgb(36,36,36)",
             "ticks": "outside"
            },
            "type": "choropleth"
           }
          ],
          "contour": [
           {
            "colorbar": {
             "outlinewidth": 1,
             "tickcolor": "rgb(36,36,36)",
             "ticks": "outside"
            },
            "colorscale": [
             [
              0,
              "#440154"
             ],
             [
              0.1111111111111111,
              "#482878"
             ],
             [
              0.2222222222222222,
              "#3e4989"
             ],
             [
              0.3333333333333333,
              "#31688e"
             ],
             [
              0.4444444444444444,
              "#26828e"
             ],
             [
              0.5555555555555556,
              "#1f9e89"
             ],
             [
              0.6666666666666666,
              "#35b779"
             ],
             [
              0.7777777777777778,
              "#6ece58"
             ],
             [
              0.8888888888888888,
              "#b5de2b"
             ],
             [
              1,
              "#fde725"
             ]
            ],
            "type": "contour"
           }
          ],
          "contourcarpet": [
           {
            "colorbar": {
             "outlinewidth": 1,
             "tickcolor": "rgb(36,36,36)",
             "ticks": "outside"
            },
            "type": "contourcarpet"
           }
          ],
          "heatmap": [
           {
            "colorbar": {
             "outlinewidth": 1,
             "tickcolor": "rgb(36,36,36)",
             "ticks": "outside"
            },
            "colorscale": [
             [
              0,
              "#440154"
             ],
             [
              0.1111111111111111,
              "#482878"
             ],
             [
              0.2222222222222222,
              "#3e4989"
             ],
             [
              0.3333333333333333,
              "#31688e"
             ],
             [
              0.4444444444444444,
              "#26828e"
             ],
             [
              0.5555555555555556,
              "#1f9e89"
             ],
             [
              0.6666666666666666,
              "#35b779"
             ],
             [
              0.7777777777777778,
              "#6ece58"
             ],
             [
              0.8888888888888888,
              "#b5de2b"
             ],
             [
              1,
              "#fde725"
             ]
            ],
            "type": "heatmap"
           }
          ],
          "heatmapgl": [
           {
            "colorbar": {
             "outlinewidth": 1,
             "tickcolor": "rgb(36,36,36)",
             "ticks": "outside"
            },
            "colorscale": [
             [
              0,
              "#440154"
             ],
             [
              0.1111111111111111,
              "#482878"
             ],
             [
              0.2222222222222222,
              "#3e4989"
             ],
             [
              0.3333333333333333,
              "#31688e"
             ],
             [
              0.4444444444444444,
              "#26828e"
             ],
             [
              0.5555555555555556,
              "#1f9e89"
             ],
             [
              0.6666666666666666,
              "#35b779"
             ],
             [
              0.7777777777777778,
              "#6ece58"
             ],
             [
              0.8888888888888888,
              "#b5de2b"
             ],
             [
              1,
              "#fde725"
             ]
            ],
            "type": "heatmapgl"
           }
          ],
          "histogram": [
           {
            "marker": {
             "line": {
              "color": "white",
              "width": 0.6
             }
            },
            "type": "histogram"
           }
          ],
          "histogram2d": [
           {
            "colorbar": {
             "outlinewidth": 1,
             "tickcolor": "rgb(36,36,36)",
             "ticks": "outside"
            },
            "colorscale": [
             [
              0,
              "#440154"
             ],
             [
              0.1111111111111111,
              "#482878"
             ],
             [
              0.2222222222222222,
              "#3e4989"
             ],
             [
              0.3333333333333333,
              "#31688e"
             ],
             [
              0.4444444444444444,
              "#26828e"
             ],
             [
              0.5555555555555556,
              "#1f9e89"
             ],
             [
              0.6666666666666666,
              "#35b779"
             ],
             [
              0.7777777777777778,
              "#6ece58"
             ],
             [
              0.8888888888888888,
              "#b5de2b"
             ],
             [
              1,
              "#fde725"
             ]
            ],
            "type": "histogram2d"
           }
          ],
          "histogram2dcontour": [
           {
            "colorbar": {
             "outlinewidth": 1,
             "tickcolor": "rgb(36,36,36)",
             "ticks": "outside"
            },
            "colorscale": [
             [
              0,
              "#440154"
             ],
             [
              0.1111111111111111,
              "#482878"
             ],
             [
              0.2222222222222222,
              "#3e4989"
             ],
             [
              0.3333333333333333,
              "#31688e"
             ],
             [
              0.4444444444444444,
              "#26828e"
             ],
             [
              0.5555555555555556,
              "#1f9e89"
             ],
             [
              0.6666666666666666,
              "#35b779"
             ],
             [
              0.7777777777777778,
              "#6ece58"
             ],
             [
              0.8888888888888888,
              "#b5de2b"
             ],
             [
              1,
              "#fde725"
             ]
            ],
            "type": "histogram2dcontour"
           }
          ],
          "mesh3d": [
           {
            "colorbar": {
             "outlinewidth": 1,
             "tickcolor": "rgb(36,36,36)",
             "ticks": "outside"
            },
            "type": "mesh3d"
           }
          ],
          "parcoords": [
           {
            "line": {
             "colorbar": {
              "outlinewidth": 1,
              "tickcolor": "rgb(36,36,36)",
              "ticks": "outside"
             }
            },
            "type": "parcoords"
           }
          ],
          "pie": [
           {
            "automargin": true,
            "type": "pie"
           }
          ],
          "scatter": [
           {
            "marker": {
             "colorbar": {
              "outlinewidth": 1,
              "tickcolor": "rgb(36,36,36)",
              "ticks": "outside"
             }
            },
            "type": "scatter"
           }
          ],
          "scatter3d": [
           {
            "line": {
             "colorbar": {
              "outlinewidth": 1,
              "tickcolor": "rgb(36,36,36)",
              "ticks": "outside"
             }
            },
            "marker": {
             "colorbar": {
              "outlinewidth": 1,
              "tickcolor": "rgb(36,36,36)",
              "ticks": "outside"
             }
            },
            "type": "scatter3d"
           }
          ],
          "scattercarpet": [
           {
            "marker": {
             "colorbar": {
              "outlinewidth": 1,
              "tickcolor": "rgb(36,36,36)",
              "ticks": "outside"
             }
            },
            "type": "scattercarpet"
           }
          ],
          "scattergeo": [
           {
            "marker": {
             "colorbar": {
              "outlinewidth": 1,
              "tickcolor": "rgb(36,36,36)",
              "ticks": "outside"
             }
            },
            "type": "scattergeo"
           }
          ],
          "scattergl": [
           {
            "marker": {
             "colorbar": {
              "outlinewidth": 1,
              "tickcolor": "rgb(36,36,36)",
              "ticks": "outside"
             }
            },
            "type": "scattergl"
           }
          ],
          "scattermapbox": [
           {
            "marker": {
             "colorbar": {
              "outlinewidth": 1,
              "tickcolor": "rgb(36,36,36)",
              "ticks": "outside"
             }
            },
            "type": "scattermapbox"
           }
          ],
          "scatterpolar": [
           {
            "marker": {
             "colorbar": {
              "outlinewidth": 1,
              "tickcolor": "rgb(36,36,36)",
              "ticks": "outside"
             }
            },
            "type": "scatterpolar"
           }
          ],
          "scatterpolargl": [
           {
            "marker": {
             "colorbar": {
              "outlinewidth": 1,
              "tickcolor": "rgb(36,36,36)",
              "ticks": "outside"
             }
            },
            "type": "scatterpolargl"
           }
          ],
          "scatterternary": [
           {
            "marker": {
             "colorbar": {
              "outlinewidth": 1,
              "tickcolor": "rgb(36,36,36)",
              "ticks": "outside"
             }
            },
            "type": "scatterternary"
           }
          ],
          "surface": [
           {
            "colorbar": {
             "outlinewidth": 1,
             "tickcolor": "rgb(36,36,36)",
             "ticks": "outside"
            },
            "colorscale": [
             [
              0,
              "#440154"
             ],
             [
              0.1111111111111111,
              "#482878"
             ],
             [
              0.2222222222222222,
              "#3e4989"
             ],
             [
              0.3333333333333333,
              "#31688e"
             ],
             [
              0.4444444444444444,
              "#26828e"
             ],
             [
              0.5555555555555556,
              "#1f9e89"
             ],
             [
              0.6666666666666666,
              "#35b779"
             ],
             [
              0.7777777777777778,
              "#6ece58"
             ],
             [
              0.8888888888888888,
              "#b5de2b"
             ],
             [
              1,
              "#fde725"
             ]
            ],
            "type": "surface"
           }
          ],
          "table": [
           {
            "cells": {
             "fill": {
              "color": "rgb(237,237,237)"
             },
             "line": {
              "color": "white"
             }
            },
            "header": {
             "fill": {
              "color": "rgb(217,217,217)"
             },
             "line": {
              "color": "white"
             }
            },
            "type": "table"
           }
          ]
         },
         "layout": {
          "annotationdefaults": {
           "arrowhead": 0,
           "arrowwidth": 1
          },
          "coloraxis": {
           "colorbar": {
            "outlinewidth": 1,
            "tickcolor": "rgb(36,36,36)",
            "ticks": "outside"
           }
          },
          "colorscale": {
           "diverging": [
            [
             0,
             "rgb(103,0,31)"
            ],
            [
             0.1,
             "rgb(178,24,43)"
            ],
            [
             0.2,
             "rgb(214,96,77)"
            ],
            [
             0.3,
             "rgb(244,165,130)"
            ],
            [
             0.4,
             "rgb(253,219,199)"
            ],
            [
             0.5,
             "rgb(247,247,247)"
            ],
            [
             0.6,
             "rgb(209,229,240)"
            ],
            [
             0.7,
             "rgb(146,197,222)"
            ],
            [
             0.8,
             "rgb(67,147,195)"
            ],
            [
             0.9,
             "rgb(33,102,172)"
            ],
            [
             1,
             "rgb(5,48,97)"
            ]
           ],
           "sequential": [
            [
             0,
             "#440154"
            ],
            [
             0.1111111111111111,
             "#482878"
            ],
            [
             0.2222222222222222,
             "#3e4989"
            ],
            [
             0.3333333333333333,
             "#31688e"
            ],
            [
             0.4444444444444444,
             "#26828e"
            ],
            [
             0.5555555555555556,
             "#1f9e89"
            ],
            [
             0.6666666666666666,
             "#35b779"
            ],
            [
             0.7777777777777778,
             "#6ece58"
            ],
            [
             0.8888888888888888,
             "#b5de2b"
            ],
            [
             1,
             "#fde725"
            ]
           ],
           "sequentialminus": [
            [
             0,
             "#440154"
            ],
            [
             0.1111111111111111,
             "#482878"
            ],
            [
             0.2222222222222222,
             "#3e4989"
            ],
            [
             0.3333333333333333,
             "#31688e"
            ],
            [
             0.4444444444444444,
             "#26828e"
            ],
            [
             0.5555555555555556,
             "#1f9e89"
            ],
            [
             0.6666666666666666,
             "#35b779"
            ],
            [
             0.7777777777777778,
             "#6ece58"
            ],
            [
             0.8888888888888888,
             "#b5de2b"
            ],
            [
             1,
             "#fde725"
            ]
           ]
          },
          "colorway": [
           "#1F77B4",
           "#FF7F0E",
           "#2CA02C",
           "#D62728",
           "#9467BD",
           "#8C564B",
           "#E377C2",
           "#7F7F7F",
           "#BCBD22",
           "#17BECF"
          ],
          "font": {
           "color": "rgb(36,36,36)"
          },
          "geo": {
           "bgcolor": "white",
           "lakecolor": "white",
           "landcolor": "white",
           "showlakes": true,
           "showland": true,
           "subunitcolor": "white"
          },
          "hoverlabel": {
           "align": "left"
          },
          "hovermode": "closest",
          "mapbox": {
           "style": "light"
          },
          "paper_bgcolor": "white",
          "plot_bgcolor": "white",
          "polar": {
           "angularaxis": {
            "gridcolor": "rgb(232,232,232)",
            "linecolor": "rgb(36,36,36)",
            "showgrid": false,
            "showline": true,
            "ticks": "outside"
           },
           "bgcolor": "white",
           "radialaxis": {
            "gridcolor": "rgb(232,232,232)",
            "linecolor": "rgb(36,36,36)",
            "showgrid": false,
            "showline": true,
            "ticks": "outside"
           }
          },
          "scene": {
           "xaxis": {
            "backgroundcolor": "white",
            "gridcolor": "rgb(232,232,232)",
            "gridwidth": 2,
            "linecolor": "rgb(36,36,36)",
            "showbackground": true,
            "showgrid": false,
            "showline": true,
            "ticks": "outside",
            "zeroline": false,
            "zerolinecolor": "rgb(36,36,36)"
           },
           "yaxis": {
            "backgroundcolor": "white",
            "gridcolor": "rgb(232,232,232)",
            "gridwidth": 2,
            "linecolor": "rgb(36,36,36)",
            "showbackground": true,
            "showgrid": false,
            "showline": true,
            "ticks": "outside",
            "zeroline": false,
            "zerolinecolor": "rgb(36,36,36)"
           },
           "zaxis": {
            "backgroundcolor": "white",
            "gridcolor": "rgb(232,232,232)",
            "gridwidth": 2,
            "linecolor": "rgb(36,36,36)",
            "showbackground": true,
            "showgrid": false,
            "showline": true,
            "ticks": "outside",
            "zeroline": false,
            "zerolinecolor": "rgb(36,36,36)"
           }
          },
          "shapedefaults": {
           "fillcolor": "black",
           "line": {
            "width": 0
           },
           "opacity": 0.3
          },
          "ternary": {
           "aaxis": {
            "gridcolor": "rgb(232,232,232)",
            "linecolor": "rgb(36,36,36)",
            "showgrid": false,
            "showline": true,
            "ticks": "outside"
           },
           "baxis": {
            "gridcolor": "rgb(232,232,232)",
            "linecolor": "rgb(36,36,36)",
            "showgrid": false,
            "showline": true,
            "ticks": "outside"
           },
           "bgcolor": "white",
           "caxis": {
            "gridcolor": "rgb(232,232,232)",
            "linecolor": "rgb(36,36,36)",
            "showgrid": false,
            "showline": true,
            "ticks": "outside"
           }
          },
          "title": {
           "x": 0.05
          },
          "xaxis": {
           "automargin": true,
           "gridcolor": "rgb(232,232,232)",
           "linecolor": "rgb(36,36,36)",
           "showgrid": false,
           "showline": true,
           "ticks": "outside",
           "title": {
            "standoff": 15
           },
           "zeroline": false,
           "zerolinecolor": "rgb(36,36,36)"
          },
          "yaxis": {
           "automargin": true,
           "gridcolor": "rgb(232,232,232)",
           "linecolor": "rgb(36,36,36)",
           "showgrid": false,
           "showline": true,
           "ticks": "outside",
           "title": {
            "standoff": 15
           },
           "zeroline": false,
           "zerolinecolor": "rgb(36,36,36)"
          }
         }
        },
        "title": {
         "font": {
          "size": 22
         },
         "text": "structure 1 | pre"
        },
        "width": 600,
        "xaxis": {
         "range": [
          4,
          13
         ],
         "showgrid": false,
         "visible": false,
         "zeroline": true
        },
        "yaxis": {
         "range": [
          -0.1,
          1.05
         ],
         "showgrid": false,
         "tickfont": {
          "color": "black",
          "family": "Helvetica",
          "size": 24
         },
         "title": {
          "font": {
           "color": "black",
           "family": "Helvetica",
           "size": 24
          },
          "text": "F1 score"
         }
        }
       }
      },
      "text/html": [
       "<div>\n",
       "        \n",
       "        \n",
       "            <div id=\"09e28af1-6f77-45e3-95c5-96806820e320\" class=\"plotly-graph-div\" style=\"height:400px; width:600px;\"></div>\n",
       "            <script type=\"text/javascript\">\n",
       "                require([\"plotly\"], function(Plotly) {\n",
       "                    window.PLOTLYENV=window.PLOTLYENV || {};\n",
       "                    \n",
       "                if (document.getElementById(\"09e28af1-6f77-45e3-95c5-96806820e320\")) {\n",
       "                    Plotly.newPlot(\n",
       "                        '09e28af1-6f77-45e3-95c5-96806820e320',\n",
       "                        [{\"hoverinfo\": \"none\", \"line\": {\"color\": \"#2e2e2e\", \"width\": 0.8}, \"mode\": \"lines\", \"opacity\": 0.1, \"type\": \"scatter\", \"x\": [8.5, 11.5], \"y\": [0, 0.07142857142857144]}, {\"hoverinfo\": \"none\", \"line\": {\"color\": \"#2e2e2e\", \"width\": 21.6}, \"mode\": \"lines\", \"opacity\": 0.95, \"type\": \"scatter\", \"x\": [8.5, 6.5], \"y\": [0, 0.2666666666666667]}, {\"hoverinfo\": \"none\", \"line\": {\"color\": \"#2e2e2e\", \"width\": 0.8}, \"mode\": \"lines\", \"opacity\": 0.1, \"type\": \"scatter\", \"x\": [8.5, 12.5], \"y\": [0, 0.0]}, {\"hoverinfo\": \"none\", \"line\": {\"color\": \"#2e2e2e\", \"width\": 0.8}, \"mode\": \"lines\", \"opacity\": 0.1, \"type\": \"scatter\", \"x\": [8.5, 12.5], \"y\": [0, 0.06666666666666668]}, {\"hoverinfo\": \"none\", \"line\": {\"color\": \"#2e2e2e\", \"width\": 9.600000000000001}, \"mode\": \"lines\", \"opacity\": 0.95, \"type\": \"scatter\", \"x\": [8.5, 10.5], \"y\": [0, 0.14285714285714288]}, {\"hoverinfo\": \"none\", \"line\": {\"color\": \"#2e2e2e\", \"width\": 2.4000000000000004}, \"mode\": \"lines\", \"opacity\": 0.5, \"type\": \"scatter\", \"x\": [8.5, 7.5], \"y\": [0, 0.14285714285714288]}, {\"hoverinfo\": \"none\", \"line\": {\"color\": \"#2e2e2e\", \"width\": 1.6}, \"mode\": \"lines\", \"opacity\": 0.3, \"type\": \"scatter\", \"x\": [8.5, 10.5], \"y\": [0, 0.2666666666666667]}, {\"hoverinfo\": \"none\", \"line\": {\"color\": \"#2e2e2e\", \"width\": 0.8}, \"mode\": \"lines\", \"opacity\": 0.1, \"type\": \"scatter\", \"x\": [8.5, 7.5], \"y\": [0, 0.2666666666666667]}, {\"hoverinfo\": \"none\", \"line\": {\"color\": \"#2e2e2e\", \"width\": 0.8}, \"mode\": \"lines\", \"opacity\": 0.1, \"type\": \"scatter\", \"x\": [8.5, 5.5], \"y\": [0, 0.2]}, {\"hoverinfo\": \"none\", \"line\": {\"color\": \"#2e2e2e\", \"width\": 0.8}, \"mode\": \"lines\", \"opacity\": 0.1, \"type\": \"scatter\", \"x\": [11.5, 8.833333333333334], \"y\": [0.07142857142857144, 0.25]}, {\"hoverinfo\": \"none\", \"line\": {\"color\": \"#2e2e2e\", \"width\": 0.8}, \"mode\": \"lines\", \"opacity\": 0.1, \"type\": \"scatter\", \"x\": [12.5, 9.833333333333334], \"y\": [0.0, 0.1875]}, {\"hoverinfo\": \"none\", \"line\": {\"color\": \"#2e2e2e\", \"width\": 4.800000000000001}, \"mode\": \"lines\", \"opacity\": 0.95, \"type\": \"scatter\", \"x\": [10.5, 7.833333333333333], \"y\": [0.14285714285714288, 0.375]}, {\"hoverinfo\": \"none\", \"line\": {\"color\": \"#2e2e2e\", \"width\": 3.2}, \"mode\": \"lines\", \"opacity\": 0.7, \"type\": \"scatter\", \"x\": [10.5, 10.5], \"y\": [0.14285714285714288, 0.375]}, {\"hoverinfo\": \"none\", \"line\": {\"color\": \"#2e2e2e\", \"width\": 0.8}, \"mode\": \"lines\", \"opacity\": 0.1, \"type\": \"scatter\", \"x\": [10.5, 9.0], \"y\": [0.14285714285714288, 0.2666666666666667]}, {\"hoverinfo\": \"none\", \"line\": {\"color\": \"#2e2e2e\", \"width\": 0.8}, \"mode\": \"lines\", \"opacity\": 0.1, \"type\": \"scatter\", \"x\": [10.5, 7.166666666666667], \"y\": [0.14285714285714288, 0.3125]}, {\"hoverinfo\": \"none\", \"line\": {\"color\": \"#2e2e2e\", \"width\": 0.8}, \"mode\": \"lines\", \"opacity\": 0.1, \"type\": \"scatter\", \"x\": [7.5, 8.333333333333334], \"y\": [0.14285714285714288, 0.20689655172413796]}, {\"hoverinfo\": \"none\", \"line\": {\"color\": \"#2e2e2e\", \"width\": 0.8}, \"mode\": \"lines\", \"opacity\": 0.1, \"type\": \"scatter\", \"x\": [7.5, 9.0], \"y\": [0.14285714285714288, 0.2666666666666667]}, {\"hoverinfo\": \"none\", \"line\": {\"color\": \"#2e2e2e\", \"width\": 0.8}, \"mode\": \"lines\", \"opacity\": 0.1, \"type\": \"scatter\", \"x\": [7.5, 6.5], \"y\": [0.14285714285714288, 0.2666666666666667]}, {\"hoverinfo\": \"none\", \"line\": {\"color\": \"#2e2e2e\", \"width\": 0.8}, \"mode\": \"lines\", \"opacity\": 0.1, \"type\": \"scatter\", \"x\": [8.833333333333334, 8.071428571428571], \"y\": [0.25, 0.4444444444444444]}, {\"hoverinfo\": \"none\", \"line\": {\"color\": \"#2e2e2e\", \"width\": 0.8}, \"mode\": \"lines\", \"opacity\": 0.1, \"type\": \"scatter\", \"x\": [9.833333333333334, 11.357142857142858], \"y\": [0.1875, 0.2777777777777778]}, {\"hoverinfo\": \"none\", \"line\": {\"color\": \"#2e2e2e\", \"width\": 0.8}, \"mode\": \"lines\", \"opacity\": 0.1, \"type\": \"scatter\", \"x\": [7.833333333333333, 7.75], \"y\": [0.375, 0.42424242424242425]}, {\"hoverinfo\": \"none\", \"line\": {\"color\": \"#2e2e2e\", \"width\": 7.2}, \"mode\": \"lines\", \"opacity\": 0.95, \"type\": \"scatter\", \"x\": [7.833333333333333, 9.357142857142858], \"y\": [0.375, 0.5555555555555556]}, {\"hoverinfo\": \"none\", \"line\": {\"color\": \"#2e2e2e\", \"width\": 4.0}, \"mode\": \"lines\", \"opacity\": 0.95, \"type\": \"scatter\", \"x\": [7.833333333333333, 7.25], \"y\": [0.375, 0.42424242424242425]}, {\"hoverinfo\": \"none\", \"line\": {\"color\": \"#2e2e2e\", \"width\": 0.8}, \"mode\": \"lines\", \"opacity\": 0.1, \"type\": \"scatter\", \"x\": [7.833333333333333, 9.0], \"y\": [0.375, 0.3529411764705882]}, {\"hoverinfo\": \"none\", \"line\": {\"color\": \"#2e2e2e\", \"width\": 0.8}, \"mode\": \"lines\", \"opacity\": 0.1, \"type\": \"scatter\", \"x\": [7.833333333333333, 7.071428571428571], \"y\": [0.375, 0.5277777777777778]}, {\"hoverinfo\": \"none\", \"line\": {\"color\": \"#2e2e2e\", \"width\": 0.8}, \"mode\": \"lines\", \"opacity\": 0.1, \"type\": \"scatter\", \"x\": [7.833333333333333, 7.3], \"y\": [0.375, 0.4705882352941176]}, {\"hoverinfo\": \"none\", \"line\": {\"color\": \"#2e2e2e\", \"width\": 0.8}, \"mode\": \"lines\", \"opacity\": 0.1, \"type\": \"scatter\", \"x\": [7.833333333333333, 7.5], \"y\": [0.375, 0.42424242424242425]}, {\"hoverinfo\": \"none\", \"line\": {\"color\": \"#2e2e2e\", \"width\": 1.6}, \"mode\": \"lines\", \"opacity\": 0.3, \"type\": \"scatter\", \"x\": [7.833333333333333, 7.642857142857143], \"y\": [0.375, 0.5555555555555556]}, {\"hoverinfo\": \"none\", \"line\": {\"color\": \"#2e2e2e\", \"width\": 0.8}, \"mode\": \"lines\", \"opacity\": 0.1, \"type\": \"scatter\", \"x\": [10.5, 9.375], \"y\": [0.375, 0.5555555555555556]}, {\"hoverinfo\": \"none\", \"line\": {\"color\": \"#2e2e2e\", \"width\": 0.8}, \"mode\": \"lines\", \"opacity\": 0.1, \"type\": \"scatter\", \"x\": [10.5, 9.357142857142858], \"y\": [0.375, 0.5555555555555556]}, {\"hoverinfo\": \"none\", \"line\": {\"color\": \"#2e2e2e\", \"width\": 0.8}, \"mode\": \"lines\", \"opacity\": 0.1, \"type\": \"scatter\", \"x\": [10.5, 10.0], \"y\": [0.375, 0.4705882352941176]}, {\"hoverinfo\": \"none\", \"line\": {\"color\": \"#2e2e2e\", \"width\": 0.8}, \"mode\": \"lines\", \"opacity\": 0.1, \"type\": \"scatter\", \"x\": [10.5, 9.071428571428571], \"y\": [0.375, 0.5]}, {\"hoverinfo\": \"none\", \"line\": {\"color\": \"#2e2e2e\", \"width\": 0.8}, \"mode\": \"lines\", \"opacity\": 0.1, \"type\": \"scatter\", \"x\": [6.125, 7.0], \"y\": [0.375, 0.4705882352941176]}, {\"hoverinfo\": \"none\", \"line\": {\"color\": \"#2e2e2e\", \"width\": 0.8}, \"mode\": \"lines\", \"opacity\": 0.1, \"type\": \"scatter\", \"x\": [8.166666666666666, 7.214285714285714], \"y\": [0.3125, 0.4722222222222222]}, {\"hoverinfo\": \"none\", \"line\": {\"color\": \"#2e2e2e\", \"width\": 0.8}, \"mode\": \"lines\", \"opacity\": 0.1, \"type\": \"scatter\", \"x\": [5.571428571428571, 6.666666666666667], \"y\": [0.28124999999999994, 0.38235294117647056]}, {\"hoverinfo\": \"none\", \"line\": {\"color\": \"#2e2e2e\", \"width\": 0.8}, \"mode\": \"lines\", \"opacity\": 0.1, \"type\": \"scatter\", \"x\": [7.166666666666667, 7.285714285714286], \"y\": [0.3125, 0.3636363636363637]}, {\"hoverinfo\": \"none\", \"line\": {\"color\": \"#2e2e2e\", \"width\": 0.8}, \"mode\": \"lines\", \"opacity\": 0.1, \"type\": \"scatter\", \"x\": [6.428571428571429, 6.444444444444445], \"y\": [0.3125, 0.3636363636363637]}, {\"hoverinfo\": \"none\", \"line\": {\"color\": \"#2e2e2e\", \"width\": 0.8}, \"mode\": \"lines\", \"opacity\": 0.1, \"type\": \"scatter\", \"x\": [6.833333333333333, 6.642857142857143], \"y\": [0.25, 0.4166666666666667]}, {\"hoverinfo\": \"none\", \"line\": {\"color\": \"#2e2e2e\", \"width\": 0.8}, \"mode\": \"lines\", \"opacity\": 0.1, \"type\": \"scatter\", \"x\": [8.071428571428571, 8.166666666666666], \"y\": [0.4444444444444444, 0.6]}, {\"hoverinfo\": \"none\", \"line\": {\"color\": \"#2e2e2e\", \"width\": 0.8}, \"mode\": \"lines\", \"opacity\": 0.1, \"type\": \"scatter\", \"x\": [11.357142857142858, 11.3], \"y\": [0.2777777777777778, 0.45]}, {\"hoverinfo\": \"none\", \"line\": {\"color\": \"#2e2e2e\", \"width\": 0.8}, \"mode\": \"lines\", \"opacity\": 0.1, \"type\": \"scatter\", \"x\": [6.846153846153846, 6.8], \"y\": [0.5, 0.5789473684210527]}, {\"hoverinfo\": \"none\", \"line\": {\"color\": \"#2e2e2e\", \"width\": 0.8}, \"mode\": \"lines\", \"opacity\": 0.1, \"type\": \"scatter\", \"x\": [9.375, 10.071428571428571], \"y\": [0.5555555555555556, 0.7000000000000001]}, {\"hoverinfo\": \"none\", \"line\": {\"color\": \"#2e2e2e\", \"width\": 0.8}, \"mode\": \"lines\", \"opacity\": 0.1, \"type\": \"scatter\", \"x\": [9.357142857142858, 9.9], \"y\": [0.5555555555555556, 0.5945945945945945]}, {\"hoverinfo\": \"none\", \"line\": {\"color\": \"#2e2e2e\", \"width\": 1.6}, \"mode\": \"lines\", \"opacity\": 0.3, \"type\": \"scatter\", \"x\": [9.357142857142858, 9.5], \"y\": [0.5555555555555556, 0.5945945945945945]}, {\"hoverinfo\": \"none\", \"line\": {\"color\": \"#2e2e2e\", \"width\": 0.8}, \"mode\": \"lines\", \"opacity\": 0.1, \"type\": \"scatter\", \"x\": [9.357142857142858, 8.5], \"y\": [0.5555555555555556, 0.6749999999999999]}, {\"hoverinfo\": \"none\", \"line\": {\"color\": \"#2e2e2e\", \"width\": 0.8}, \"mode\": \"lines\", \"opacity\": 0.1, \"type\": \"scatter\", \"x\": [9.357142857142858, 9.6], \"y\": [0.5555555555555556, 0.5945945945945945]}, {\"hoverinfo\": \"none\", \"line\": {\"color\": \"#2e2e2e\", \"width\": 0.8}, \"mode\": \"lines\", \"opacity\": 0.1, \"type\": \"scatter\", \"x\": [9.357142857142858, 8.7], \"y\": [0.5555555555555556, 0.7000000000000001]}, {\"hoverinfo\": \"none\", \"line\": {\"color\": \"#2e2e2e\", \"width\": 2.4000000000000004}, \"mode\": \"lines\", \"opacity\": 0.5, \"type\": \"scatter\", \"x\": [9.357142857142858, 9.5], \"y\": [0.5555555555555556, 0.631578947368421]}, {\"hoverinfo\": \"none\", \"line\": {\"color\": \"#2e2e2e\", \"width\": 0.8}, \"mode\": \"lines\", \"opacity\": 0.1, \"type\": \"scatter\", \"x\": [9.357142857142858, 10.5], \"y\": [0.5555555555555556, 0.7000000000000001]}, {\"hoverinfo\": \"none\", \"line\": {\"color\": \"#2e2e2e\", \"width\": 0.8}, \"mode\": \"lines\", \"opacity\": 0.1, \"type\": \"scatter\", \"x\": [9.357142857142858, 9.7], \"y\": [0.5555555555555556, 0.5945945945945945]}, {\"hoverinfo\": \"none\", \"line\": {\"color\": \"#2e2e2e\", \"width\": 0.8}, \"mode\": \"lines\", \"opacity\": 0.1, \"type\": \"scatter\", \"x\": [10.375, 11.0], \"y\": [0.5555555555555556, 0.631578947368421]}, {\"hoverinfo\": \"none\", \"line\": {\"color\": \"#2e2e2e\", \"width\": 0.8}, \"mode\": \"lines\", \"opacity\": 0.1, \"type\": \"scatter\", \"x\": [9.466666666666667, 10.307692307692308], \"y\": [0.5555555555555556, 0.7000000000000001]}, {\"hoverinfo\": \"none\", \"line\": {\"color\": \"#2e2e2e\", \"width\": 0.8}, \"mode\": \"lines\", \"opacity\": 0.1, \"type\": \"scatter\", \"x\": [9.5, 11.5], \"y\": [0.4444444444444444, 0.4736842105263157]}, {\"hoverinfo\": \"none\", \"line\": {\"color\": \"#2e2e2e\", \"width\": 0.8}, \"mode\": \"lines\", \"opacity\": 0.1, \"type\": \"scatter\", \"x\": [7.071428571428571, 7.5], \"y\": [0.5277777777777778, 0.6052631578947368]}, {\"hoverinfo\": \"none\", \"line\": {\"color\": \"#2e2e2e\", \"width\": 0.8}, \"mode\": \"lines\", \"opacity\": 0.1, \"type\": \"scatter\", \"x\": [7.071428571428571, 8.5], \"y\": [0.5277777777777778, 0.6749999999999999]}, {\"hoverinfo\": \"none\", \"line\": {\"color\": \"#2e2e2e\", \"width\": 0.8}, \"mode\": \"lines\", \"opacity\": 0.1, \"type\": \"scatter\", \"x\": [7.25, 8.0], \"y\": [0.5555555555555556, 0.7000000000000001]}, {\"hoverinfo\": \"none\", \"line\": {\"color\": \"#2e2e2e\", \"width\": 0.8}, \"mode\": \"lines\", \"opacity\": 0.1, \"type\": \"scatter\", \"x\": [8.785714285714286, 9.0], \"y\": [0.5555555555555556, 0.5945945945945945]}, {\"hoverinfo\": \"none\", \"line\": {\"color\": \"#2e2e2e\", \"width\": 0.8}, \"mode\": \"lines\", \"opacity\": 0.1, \"type\": \"scatter\", \"x\": [7.214285714285714, 7.5], \"y\": [0.4722222222222222, 0.625]}, {\"hoverinfo\": \"none\", \"line\": {\"color\": \"#2e2e2e\", \"width\": 0.8}, \"mode\": \"lines\", \"opacity\": 0.1, \"type\": \"scatter\", \"x\": [8.214285714285714, 8.4], \"y\": [0.5555555555555556, 0.5945945945945945]}, {\"hoverinfo\": \"none\", \"line\": {\"color\": \"#2e2e2e\", \"width\": 0.8}, \"mode\": \"lines\", \"opacity\": 0.1, \"type\": \"scatter\", \"x\": [7.642857142857143, 8.833333333333334], \"y\": [0.5555555555555556, 0.631578947368421]}, {\"hoverinfo\": \"none\", \"line\": {\"color\": \"#2e2e2e\", \"width\": 0.8}, \"mode\": \"lines\", \"opacity\": 0.1, \"type\": \"scatter\", \"x\": [7.642857142857143, 8.166666666666666], \"y\": [0.5555555555555556, 0.7000000000000001]}, {\"hoverinfo\": \"none\", \"line\": {\"color\": \"#2e2e2e\", \"width\": 0.8}, \"mode\": \"lines\", \"opacity\": 0.1, \"type\": \"scatter\", \"x\": [7.071428571428571, 7.3], \"y\": [0.5555555555555556, 0.5945945945945945]}, {\"hoverinfo\": \"none\", \"line\": {\"color\": \"#2e2e2e\", \"width\": 0.8}, \"mode\": \"lines\", \"opacity\": 0.1, \"type\": \"scatter\", \"x\": [9.071428571428571, 9.3], \"y\": [0.5, 0.5135135135135135]}, {\"hoverinfo\": \"none\", \"line\": {\"color\": \"#2e2e2e\", \"width\": 0.8}, \"mode\": \"lines\", \"opacity\": 0.1, \"type\": \"scatter\", \"x\": [6.5, 7.5], \"y\": [0.5, 0.6]}, {\"hoverinfo\": \"none\", \"line\": {\"color\": \"#2e2e2e\", \"width\": 0.8}, \"mode\": \"lines\", \"opacity\": 0.1, \"type\": \"scatter\", \"x\": [6.642857142857143, 7.0], \"y\": [0.4166666666666667, 0.4594594594594594]}, {\"hoverinfo\": \"none\", \"line\": {\"color\": \"#2e2e2e\", \"width\": 0.8}, \"mode\": \"lines\", \"opacity\": 0.1, \"type\": \"scatter\", \"x\": [5.666666666666667, 8.166666666666666], \"y\": [0.33333333333333337, 0.5]}, {\"hoverinfo\": \"none\", \"line\": {\"color\": \"#2e2e2e\", \"width\": 0.8}, \"mode\": \"lines\", \"opacity\": 0.1, \"type\": \"scatter\", \"x\": [8.166666666666666, 8.7], \"y\": [0.6, 0.7272727272727274]}, {\"hoverinfo\": \"none\", \"line\": {\"color\": \"#2e2e2e\", \"width\": 0.8}, \"mode\": \"lines\", \"opacity\": 0.1, \"type\": \"scatter\", \"x\": [6.8, 7.857142857142857], \"y\": [0.6, 0.7272727272727274]}, {\"hoverinfo\": \"none\", \"line\": {\"color\": \"#2e2e2e\", \"width\": 0.8}, \"mode\": \"lines\", \"opacity\": 0.1, \"type\": \"scatter\", \"x\": [11.3, 10.5], \"y\": [0.45, 0.5909090909090908]}, {\"hoverinfo\": \"none\", \"line\": {\"color\": \"#2e2e2e\", \"width\": 0.8}, \"mode\": \"lines\", \"opacity\": 0.1, \"type\": \"scatter\", \"x\": [10.071428571428571, 10.227272727272727], \"y\": [0.7000000000000001, 0.8181818181818181]}, {\"hoverinfo\": \"none\", \"line\": {\"color\": \"#2e2e2e\", \"width\": 1.6}, \"mode\": \"lines\", \"opacity\": 0.3, \"type\": \"scatter\", \"x\": [8.5, 8.4], \"y\": [0.7000000000000001, 0.7317073170731707]}, {\"hoverinfo\": \"none\", \"line\": {\"color\": \"#2e2e2e\", \"width\": 0.8}, \"mode\": \"lines\", \"opacity\": 0.1, \"type\": \"scatter\", \"x\": [8.5, 10.0], \"y\": [0.6749999999999999, 0.7954545454545455]}, {\"hoverinfo\": \"none\", \"line\": {\"color\": \"#2e2e2e\", \"width\": 0.8}, \"mode\": \"lines\", \"opacity\": 0.1, \"type\": \"scatter\", \"x\": [8.5, 9.5], \"y\": [0.6749999999999999, 0.7954545454545455]}, {\"hoverinfo\": \"none\", \"line\": {\"color\": \"#2e2e2e\", \"width\": 0.8}, \"mode\": \"lines\", \"opacity\": 0.1, \"type\": \"scatter\", \"x\": [10.75, 10.5], \"y\": [0.7000000000000001, 0.7619047619047621]}, {\"hoverinfo\": \"none\", \"line\": {\"color\": \"#2e2e2e\", \"width\": 0.8}, \"mode\": \"lines\", \"opacity\": 0.1, \"type\": \"scatter\", \"x\": [8.7, 9.5], \"y\": [0.7000000000000001, 0.8181818181818181]}, {\"hoverinfo\": \"none\", \"line\": {\"color\": \"#2e2e2e\", \"width\": 0.8}, \"mode\": \"lines\", \"opacity\": 0.1, \"type\": \"scatter\", \"x\": [10.307692307692308, 10.588235294117647], \"y\": [0.7000000000000001, 0.7619047619047621]}, {\"hoverinfo\": \"none\", \"line\": {\"color\": \"#2e2e2e\", \"width\": 0.8}, \"mode\": \"lines\", \"opacity\": 0.1, \"type\": \"scatter\", \"x\": [10.166666666666666, 9.0], \"y\": [0.55, 0.5952380952380952]}, {\"hoverinfo\": \"none\", \"line\": {\"color\": \"#2e2e2e\", \"width\": 0.8}, \"mode\": \"lines\", \"opacity\": 0.1, \"type\": \"scatter\", \"x\": [7.0, 7.3], \"y\": [0.6, 0.6666666666666667]}, {\"hoverinfo\": \"none\", \"line\": {\"color\": \"#2e2e2e\", \"width\": 0.8}, \"mode\": \"lines\", \"opacity\": 0.1, \"type\": \"scatter\", \"x\": [8.0, 9.0], \"y\": [0.7000000000000001, 0.8181818181818181]}, {\"hoverinfo\": \"none\", \"line\": {\"color\": \"#2e2e2e\", \"width\": 0.8}, \"mode\": \"lines\", \"opacity\": 0.1, \"type\": \"scatter\", \"x\": [9.5, 8.375], \"y\": [0.625, 0.6097560975609756]}, {\"hoverinfo\": \"none\", \"line\": {\"color\": \"#2e2e2e\", \"width\": 0.8}, \"mode\": \"lines\", \"opacity\": 0.1, \"type\": \"scatter\", \"x\": [8.625, 9.5625], \"y\": [0.7000000000000001, 0.8181818181818181]}, {\"hoverinfo\": \"none\", \"line\": {\"color\": \"#2e2e2e\", \"width\": 0.8}, \"mode\": \"lines\", \"opacity\": 0.1, \"type\": \"scatter\", \"x\": [8.625, 8.0625], \"y\": [0.7000000000000001, 0.8181818181818181]}, {\"hoverinfo\": \"none\", \"line\": {\"color\": \"#2e2e2e\", \"width\": 0.8}, \"mode\": \"lines\", \"opacity\": 0.1, \"type\": \"scatter\", \"x\": [10.5, 10.5], \"y\": [0.7000000000000001, 0.8181818181818181]}, {\"hoverinfo\": \"none\", \"line\": {\"color\": \"#2e2e2e\", \"width\": 0.8}, \"mode\": \"lines\", \"opacity\": 0.1, \"type\": \"scatter\", \"x\": [8.444444444444445, 8.461538461538462], \"y\": [0.7000000000000001, 0.7619047619047621]}, {\"hoverinfo\": \"none\", \"line\": {\"color\": \"#2e2e2e\", \"width\": 0.8}, \"mode\": \"lines\", \"opacity\": 0.1, \"type\": \"scatter\", \"x\": [8.166666666666666, 8.071428571428571], \"y\": [0.7000000000000001, 0.7317073170731707]}, {\"hoverinfo\": \"none\", \"line\": {\"color\": \"#2e2e2e\", \"width\": 0.8}, \"mode\": \"lines\", \"opacity\": 0.1, \"type\": \"scatter\", \"x\": [9.0, 8.11111111111111], \"y\": [0.625, 0.6097560975609756]}, {\"hoverinfo\": \"none\", \"line\": {\"color\": \"#2e2e2e\", \"width\": 0.8}, \"mode\": \"lines\", \"opacity\": 0.1, \"type\": \"scatter\", \"x\": [7.5, 8.38888888888889], \"y\": [0.6, 0.7272727272727274]}, {\"hoverinfo\": \"none\", \"line\": {\"color\": \"#2e2e2e\", \"width\": 0.8}, \"mode\": \"lines\", \"opacity\": 0.1, \"type\": \"scatter\", \"x\": [7.0, 7.4375], \"y\": [0.6, 0.7272727272727274]}, {\"hoverinfo\": \"none\", \"line\": {\"color\": \"#2e2e2e\", \"width\": 0.8}, \"mode\": \"lines\", \"opacity\": 0.1, \"type\": \"scatter\", \"x\": [8.166666666666666, 7.5], \"y\": [0.5, 0.6136363636363638]}, {\"hoverinfo\": \"none\", \"line\": {\"color\": \"#2e2e2e\", \"width\": 0.8}, \"mode\": \"lines\", \"opacity\": 0.1, \"type\": \"scatter\", \"x\": [8.7, 9.5], \"y\": [0.7272727272727274, 0.8333333333333333]}, {\"hoverinfo\": \"none\", \"line\": {\"color\": \"#2e2e2e\", \"width\": 0.8}, \"mode\": \"lines\", \"opacity\": 0.1, \"type\": \"scatter\", \"x\": [7.857142857142857, 9.0], \"y\": [0.7272727272727274, 0.8333333333333333]}, {\"hoverinfo\": \"none\", \"line\": {\"color\": \"#2e2e2e\", \"width\": 0.8}, \"mode\": \"lines\", \"opacity\": 0.1, \"type\": \"scatter\", \"x\": [10.5, 10.5], \"y\": [0.5909090909090908, 0.7083333333333333]}, {\"hoverinfo\": \"none\", \"line\": {\"color\": \"#2e2e2e\", \"width\": 0.8}, \"mode\": \"lines\", \"opacity\": 0.1, \"type\": \"scatter\", \"x\": [10.0, 9.833333333333334], \"y\": [0.7954545454545455, 0.8260869565217392]}, {\"hoverinfo\": \"none\", \"line\": {\"color\": \"#2e2e2e\", \"width\": 0.8}, \"mode\": \"lines\", \"opacity\": 0.1, \"type\": \"scatter\", \"x\": [10.5, 10.5], \"y\": [0.8181818181818181, 0.8478260869565216]}, {\"hoverinfo\": \"none\", \"line\": {\"color\": \"#2e2e2e\", \"width\": 0.8}, \"mode\": \"lines\", \"opacity\": 0.1, \"type\": \"scatter\", \"x\": [10.5, 10.5], \"y\": [0.8181818181818181, 0.8444444444444443]}, {\"hoverinfo\": \"none\", \"line\": {\"color\": \"#2e2e2e\", \"width\": 0.8}, \"mode\": \"lines\", \"opacity\": 0.1, \"type\": \"scatter\", \"x\": [8.588235294117647, 8.5], \"y\": [0.8181818181818181, 0.8444444444444443]}, {\"hoverinfo\": \"none\", \"line\": {\"color\": \"#2e2e2e\", \"width\": 0.8}, \"mode\": \"lines\", \"opacity\": 0.1, \"type\": \"scatter\", \"x\": [9.5, 9.785714285714286], \"y\": [0.8181818181818181, 0.8444444444444443]}, {\"hoverinfo\": \"none\", \"line\": {\"color\": \"#2e2e2e\", \"width\": 0.8}, \"mode\": \"lines\", \"opacity\": 0.1, \"type\": \"scatter\", \"x\": [9.0, 8.5], \"y\": [0.5681818181818181, 0.5434782608695652]}, {\"hoverinfo\": \"none\", \"line\": {\"color\": \"#2e2e2e\", \"width\": 0.8}, \"mode\": \"lines\", \"opacity\": 0.1, \"type\": \"scatter\", \"x\": [9.5, 10.5], \"y\": [0.7954545454545455, 0.8958333333333334]}, {\"hoverinfo\": \"none\", \"line\": {\"color\": \"#2e2e2e\", \"width\": 0.8}, \"mode\": \"lines\", \"opacity\": 0.1, \"type\": \"scatter\", \"x\": [7.3, 7.5], \"y\": [0.7272727272727274, 0.7826086956521738]}, {\"hoverinfo\": \"none\", \"line\": {\"color\": \"#2e2e2e\", \"width\": 0.8}, \"mode\": \"lines\", \"opacity\": 0.1, \"type\": \"scatter\", \"x\": [7.923076923076923, 8.0], \"y\": [0.7045454545454546, 0.7333333333333333]}, {\"hoverinfo\": \"none\", \"line\": {\"color\": \"#2e2e2e\", \"width\": 0.8}, \"mode\": \"lines\", \"opacity\": 0.1, \"type\": \"scatter\", \"x\": [9.5625, 9.23076923076923], \"y\": [0.8181818181818181, 0.8695652173913044]}, {\"hoverinfo\": \"none\", \"line\": {\"color\": \"#2e2e2e\", \"width\": 0.8}, \"mode\": \"lines\", \"opacity\": 0.1, \"type\": \"scatter\", \"x\": [8.0625, 8.5], \"y\": [0.8181818181818181, 0.9166666666666666]}, {\"hoverinfo\": \"none\", \"line\": {\"color\": \"#2e2e2e\", \"width\": 0.8}, \"mode\": \"lines\", \"opacity\": 0.1, \"type\": \"scatter\", \"x\": [10.642857142857142, 10.5], \"y\": [0.75, 0.7777777777777778]}, {\"hoverinfo\": \"none\", \"line\": {\"color\": \"#2e2e2e\", \"width\": 0.8}, \"mode\": \"lines\", \"opacity\": 0.1, \"type\": \"scatter\", \"x\": [8.5, 8.857142857142858], \"y\": [0.8181818181818181, 0.8444444444444443]}, {\"hoverinfo\": \"none\", \"line\": {\"color\": \"#2e2e2e\", \"width\": 0.8}, \"mode\": \"lines\", \"opacity\": 0.1, \"type\": \"scatter\", \"x\": [8.38888888888889, 9.071428571428571], \"y\": [0.7272727272727274, 0.7333333333333333]}, {\"hoverinfo\": \"none\", \"line\": {\"color\": \"#2e2e2e\", \"width\": 0.8}, \"mode\": \"lines\", \"opacity\": 0.1, \"type\": \"scatter\", \"x\": [7.5, 5.5], \"y\": [0.6136363636363638, 0.6249999999999999]}, {\"hoverinfo\": \"none\", \"line\": {\"color\": \"#2e2e2e\", \"width\": 0.8}, \"mode\": \"lines\", \"opacity\": 0.1, \"type\": \"scatter\", \"x\": [9.0, 9.8], \"y\": [0.8333333333333333, 0.9230769230769232]}, {\"hoverinfo\": \"none\", \"line\": {\"color\": \"#2e2e2e\", \"width\": 0.8}, \"mode\": \"lines\", \"opacity\": 0.1, \"type\": \"scatter\", \"x\": [8.785714285714286, 8.75], \"y\": [0.8333333333333333, 0.8571428571428572]}, {\"hoverinfo\": \"none\", \"line\": {\"color\": \"#2e2e2e\", \"width\": 0.8}, \"mode\": \"lines\", \"opacity\": 0.1, \"type\": \"scatter\", \"x\": [9.9, 9.909090909090908], \"y\": [0.875, 0.8979591836734695]}, {\"hoverinfo\": \"none\", \"line\": {\"color\": \"#2e2e2e\", \"width\": 1.6}, \"mode\": \"lines\", \"opacity\": 0.3, \"type\": \"scatter\", \"x\": [10.5, 10.071428571428571], \"y\": [0.8958333333333334, 0.94]}, {\"hoverinfo\": \"none\", \"line\": {\"color\": \"#2e2e2e\", \"width\": 1.6}, \"mode\": \"lines\", \"opacity\": 0.3, \"type\": \"scatter\", \"x\": [9.5, 9.214285714285714], \"y\": [0.9166666666666666, 0.9387755102040816]}, {\"hoverinfo\": \"none\", \"line\": {\"color\": \"#2e2e2e\", \"width\": 0.8}, \"mode\": \"lines\", \"opacity\": 0.1, \"type\": \"scatter\", \"x\": [5.5, 6.5], \"y\": [0.5416666666666667, 0.6]}, {\"hoverinfo\": \"none\", \"line\": {\"color\": \"#2e2e2e\", \"width\": 0.8}, \"mode\": \"lines\", \"opacity\": 0.1, \"type\": \"scatter\", \"x\": [10.0, 9.0], \"y\": [0.8125000000000001, 0.8163265306122449]}, {\"hoverinfo\": \"none\", \"line\": {\"color\": \"#2e2e2e\", \"width\": 0.8}, \"mode\": \"lines\", \"opacity\": 0.1, \"type\": \"scatter\", \"x\": [9.1, 9.5], \"y\": [0.9166666666666666, 0.9387755102040816]}, {\"hoverinfo\": \"none\", \"line\": {\"color\": \"#2e2e2e\", \"width\": 0.8}, \"mode\": \"lines\", \"opacity\": 0.1, \"type\": \"scatter\", \"x\": [8.5, 9.5], \"y\": [0.9166666666666666, 1.0]}, {\"hoverinfo\": \"none\", \"line\": {\"color\": \"#2e2e2e\", \"width\": 3.2}, \"mode\": \"lines\", \"opacity\": 0.7, \"type\": \"scatter\", \"x\": [6.5, 6.0], \"y\": [0.2666666666666667, 0.25806451612903225]}, {\"hoverinfo\": \"none\", \"line\": {\"color\": \"#2e2e2e\", \"width\": 10.4}, \"mode\": \"lines\", \"opacity\": 0.95, \"type\": \"scatter\", \"x\": [6.5, 7.833333333333333], \"y\": [0.2666666666666667, 0.375]}, {\"hoverinfo\": \"none\", \"line\": {\"color\": \"#2e2e2e\", \"width\": 1.6}, \"mode\": \"lines\", \"opacity\": 0.3, \"type\": \"scatter\", \"x\": [6.5, 6.3], \"y\": [0.2666666666666667, 0.3225806451612904]}, {\"hoverinfo\": \"none\", \"line\": {\"color\": \"#2e2e2e\", \"width\": 0.8}, \"mode\": \"lines\", \"opacity\": 0.1, \"type\": \"scatter\", \"x\": [6.5, 7.2], \"y\": [0.2666666666666667, 0.3225806451612904]}, {\"hoverinfo\": \"none\", \"line\": {\"color\": \"#2e2e2e\", \"width\": 3.2}, \"mode\": \"lines\", \"opacity\": 0.7, \"type\": \"scatter\", \"x\": [6.5, 6.5], \"y\": [0.2666666666666667, 0.44117647058823534]}, {\"hoverinfo\": \"none\", \"line\": {\"color\": \"#2e2e2e\", \"width\": 0.8}, \"mode\": \"lines\", \"opacity\": 0.1, \"type\": \"scatter\", \"x\": [6.5, 7.166666666666667], \"y\": [0.2666666666666667, 0.4705882352941176]}, {\"hoverinfo\": \"none\", \"line\": {\"color\": \"#2e2e2e\", \"width\": 0.8}, \"mode\": \"lines\", \"opacity\": 0.1, \"type\": \"scatter\", \"x\": [6.5, 8.9], \"y\": [0.2666666666666667, 0.4705882352941176]}, {\"hoverinfo\": \"none\", \"line\": {\"color\": \"#2e2e2e\", \"width\": 0.8}, \"mode\": \"lines\", \"opacity\": 0.1, \"type\": \"scatter\", \"x\": [6.5, 8.166666666666666], \"y\": [0.2666666666666667, 0.3125]}, {\"hoverinfo\": \"none\", \"line\": {\"color\": \"#2e2e2e\", \"width\": 0.8}, \"mode\": \"lines\", \"opacity\": 0.1, \"type\": \"scatter\", \"x\": [6.5, 4.7], \"y\": [0.2666666666666667, 0.2352941176470588]}, {\"hoverinfo\": \"none\", \"line\": {\"color\": \"#2e2e2e\", \"width\": 0.8}, \"mode\": \"lines\", \"opacity\": 0.1, \"type\": \"scatter\", \"x\": [12.5, 12.5], \"y\": [0.06666666666666668, 0.1764705882352941]}, {\"hoverinfo\": \"none\", \"line\": {\"color\": \"#2e2e2e\", \"width\": 1.6}, \"mode\": \"lines\", \"opacity\": 0.3, \"type\": \"scatter\", \"x\": [9.0, 10.0], \"y\": [0.2666666666666667, 0.4705882352941176]}, {\"hoverinfo\": \"none\", \"line\": {\"color\": \"#2e2e2e\", \"width\": 0.8}, \"mode\": \"lines\", \"opacity\": 0.1, \"type\": \"scatter\", \"x\": [9.0, 7.833333333333333], \"y\": [0.2666666666666667, 0.375]}, {\"hoverinfo\": \"none\", \"line\": {\"color\": \"#2e2e2e\", \"width\": 1.6}, \"mode\": \"lines\", \"opacity\": 0.3, \"type\": \"scatter\", \"x\": [10.5, 8.9], \"y\": [0.2666666666666667, 0.4705882352941176]}, {\"hoverinfo\": \"none\", \"line\": {\"color\": \"#2e2e2e\", \"width\": 0.8}, \"mode\": \"lines\", \"opacity\": 0.1, \"type\": \"scatter\", \"x\": [7.5, 9.0], \"y\": [0.2666666666666667, 0.4705882352941176]}, {\"hoverinfo\": \"none\", \"line\": {\"color\": \"#2e2e2e\", \"width\": 0.8}, \"mode\": \"lines\", \"opacity\": 0.1, \"type\": \"scatter\", \"x\": [5.5, 6.833333333333333], \"y\": [0.2, 0.25]}, {\"hoverinfo\": \"none\", \"line\": {\"color\": \"#2e2e2e\", \"width\": 0.8}, \"mode\": \"lines\", \"opacity\": 0.1, \"type\": \"scatter\", \"x\": [6.0, 5.777777777777778], \"y\": [0.25806451612903225, 0.3333333333333333]}, {\"hoverinfo\": \"none\", \"line\": {\"color\": \"#2e2e2e\", \"width\": 0.8}, \"mode\": \"lines\", \"opacity\": 0.1, \"type\": \"scatter\", \"x\": [6.0, 5.571428571428571], \"y\": [0.25806451612903225, 0.28124999999999994]}, {\"hoverinfo\": \"none\", \"line\": {\"color\": \"#2e2e2e\", \"width\": 0.8}, \"mode\": \"lines\", \"opacity\": 0.1, \"type\": \"scatter\", \"x\": [6.0, 6.428571428571429], \"y\": [0.25806451612903225, 0.3125]}, {\"hoverinfo\": \"none\", \"line\": {\"color\": \"#2e2e2e\", \"width\": 0.8}, \"mode\": \"lines\", \"opacity\": 0.1, \"type\": \"scatter\", \"x\": [6.0, 6.923076923076923], \"y\": [0.25806451612903225, 0.4571428571428572]}, {\"hoverinfo\": \"none\", \"line\": {\"color\": \"#2e2e2e\", \"width\": 0.8}, \"mode\": \"lines\", \"opacity\": 0.1, \"type\": \"scatter\", \"x\": [6.3, 6.125], \"y\": [0.3225806451612904, 0.375]}, {\"hoverinfo\": \"none\", \"line\": {\"color\": \"#2e2e2e\", \"width\": 0.8}, \"mode\": \"lines\", \"opacity\": 0.1, \"type\": \"scatter\", \"x\": [6.3, 7.25], \"y\": [0.3225806451612904, 0.42424242424242425]}, {\"hoverinfo\": \"none\", \"line\": {\"color\": \"#2e2e2e\", \"width\": 0.8}, \"mode\": \"lines\", \"opacity\": 0.1, \"type\": \"scatter\", \"x\": [7.2, 7.833333333333333], \"y\": [0.3225806451612904, 0.375]}, {\"hoverinfo\": \"none\", \"line\": {\"color\": \"#2e2e2e\", \"width\": 0.8}, \"mode\": \"lines\", \"opacity\": 0.1, \"type\": \"scatter\", \"x\": [5.777777777777778, 6.3076923076923075], \"y\": [0.3333333333333333, 0.42857142857142855]}, {\"hoverinfo\": \"none\", \"line\": {\"color\": \"#2e2e2e\", \"width\": 0.8}, \"mode\": \"lines\", \"opacity\": 0.1, \"type\": \"scatter\", \"x\": [7.75, 7.3], \"y\": [0.42424242424242425, 0.4705882352941176]}, {\"hoverinfo\": \"none\", \"line\": {\"color\": \"#2e2e2e\", \"width\": 0.8}, \"mode\": \"lines\", \"opacity\": 0.1, \"type\": \"scatter\", \"x\": [7.25, 9.5], \"y\": [0.42424242424242425, 0.5945945945945945]}, {\"hoverinfo\": \"none\", \"line\": {\"color\": \"#2e2e2e\", \"width\": 0.8}, \"mode\": \"lines\", \"opacity\": 0.1, \"type\": \"scatter\", \"x\": [7.25, 6.8], \"y\": [0.42424242424242425, 0.411764705882353]}, {\"hoverinfo\": \"none\", \"line\": {\"color\": \"#2e2e2e\", \"width\": 0.8}, \"mode\": \"lines\", \"opacity\": 0.1, \"type\": \"scatter\", \"x\": [7.25, 7.1], \"y\": [0.42424242424242425, 0.5945945945945945]}, {\"hoverinfo\": \"none\", \"line\": {\"color\": \"#2e2e2e\", \"width\": 0.8}, \"mode\": \"lines\", \"opacity\": 0.1, \"type\": \"scatter\", \"x\": [7.25, 7.0], \"y\": [0.42424242424242425, 0.4705882352941176]}, {\"hoverinfo\": \"none\", \"line\": {\"color\": \"#2e2e2e\", \"width\": 0.8}, \"mode\": \"lines\", \"opacity\": 0.1, \"type\": \"scatter\", \"x\": [7.25, 7.9], \"y\": [0.42424242424242425, 0.5945945945945945]}, {\"hoverinfo\": \"none\", \"line\": {\"color\": \"#2e2e2e\", \"width\": 0.8}, \"mode\": \"lines\", \"opacity\": 0.1, \"type\": \"scatter\", \"x\": [7.25, 7.3], \"y\": [0.42424242424242425, 0.4705882352941176]}, {\"hoverinfo\": \"none\", \"line\": {\"color\": \"#2e2e2e\", \"width\": 0.8}, \"mode\": \"lines\", \"opacity\": 0.1, \"type\": \"scatter\", \"x\": [7.5, 9.7], \"y\": [0.42424242424242425, 0.5945945945945945]}, {\"hoverinfo\": \"none\", \"line\": {\"color\": \"#2e2e2e\", \"width\": 0.8}, \"mode\": \"lines\", \"opacity\": 0.1, \"type\": \"scatter\", \"x\": [7.285714285714286, 10.5], \"y\": [0.3636363636363637, 0.5405405405405405]}, {\"hoverinfo\": \"none\", \"line\": {\"color\": \"#2e2e2e\", \"width\": 0.8}, \"mode\": \"lines\", \"opacity\": 0.1, \"type\": \"scatter\", \"x\": [6.3076923076923075, 6.833333333333333], \"y\": [0.42857142857142855, 0.5135135135135135]}, {\"hoverinfo\": \"none\", \"line\": {\"color\": \"#2e2e2e\", \"width\": 0.8}, \"mode\": \"lines\", \"opacity\": 0.1, \"type\": \"scatter\", \"x\": [7.0, 6.846153846153846], \"y\": [0.4571428571428572, 0.5]}, {\"hoverinfo\": \"none\", \"line\": {\"color\": \"#2e2e2e\", \"width\": 0.8}, \"mode\": \"lines\", \"opacity\": 0.1, \"type\": \"scatter\", \"x\": [6.666666666666667, 6.642857142857143], \"y\": [0.4571428571428572, 0.6153846153846155]}, {\"hoverinfo\": \"none\", \"line\": {\"color\": \"#2e2e2e\", \"width\": 0.8}, \"mode\": \"lines\", \"opacity\": 0.1, \"type\": \"scatter\", \"x\": [9.692307692307692, 9.466666666666667], \"y\": [0.5142857142857142, 0.5555555555555556]}, {\"hoverinfo\": \"none\", \"line\": {\"color\": \"#2e2e2e\", \"width\": 0.8}, \"mode\": \"lines\", \"opacity\": 0.1, \"type\": \"scatter\", \"x\": [6.769230769230769, 7.071428571428571], \"y\": [0.4857142857142858, 0.5277777777777778]}, {\"hoverinfo\": \"none\", \"line\": {\"color\": \"#2e2e2e\", \"width\": 0.8}, \"mode\": \"lines\", \"opacity\": 0.1, \"type\": \"scatter\", \"x\": [6.923076923076923, 6.833333333333333], \"y\": [0.4571428571428572, 0.5135135135135135]}, {\"hoverinfo\": \"none\", \"line\": {\"color\": \"#2e2e2e\", \"width\": 0.8}, \"mode\": \"lines\", \"opacity\": 0.1, \"type\": \"scatter\", \"x\": [6.833333333333333, 6.714285714285714], \"y\": [0.5135135135135135, 0.5263157894736842]}, {\"hoverinfo\": \"none\", \"line\": {\"color\": \"#2e2e2e\", \"width\": 0.8}, \"mode\": \"lines\", \"opacity\": 0.1, \"type\": \"scatter\", \"x\": [6.833333333333333, 7.0], \"y\": [0.5135135135135135, 0.5897435897435898]}, {\"hoverinfo\": \"none\", \"line\": {\"color\": \"#2e2e2e\", \"width\": 0.8}, \"mode\": \"lines\", \"opacity\": 0.1, \"type\": \"scatter\", \"x\": [9.9, 9.166666666666666], \"y\": [0.5945945945945945, 0.631578947368421]}, {\"hoverinfo\": \"none\", \"line\": {\"color\": \"#2e2e2e\", \"width\": 0.8}, \"mode\": \"lines\", \"opacity\": 0.1, \"type\": \"scatter\", \"x\": [9.5, 9.166666666666666], \"y\": [0.5945945945945945, 0.631578947368421]}, {\"hoverinfo\": \"none\", \"line\": {\"color\": \"#2e2e2e\", \"width\": 0.8}, \"mode\": \"lines\", \"opacity\": 0.1, \"type\": \"scatter\", \"x\": [9.5, 8.7], \"y\": [0.5945945945945945, 0.7317073170731707]}, {\"hoverinfo\": \"none\", \"line\": {\"color\": \"#2e2e2e\", \"width\": 0.8}, \"mode\": \"lines\", \"opacity\": 0.1, \"type\": \"scatter\", \"x\": [9.5, 8.928571428571429], \"y\": [0.5945945945945945, 0.6666666666666666]}, {\"hoverinfo\": \"none\", \"line\": {\"color\": \"#2e2e2e\", \"width\": 0.8}, \"mode\": \"lines\", \"opacity\": 0.1, \"type\": \"scatter\", \"x\": [9.6, 9.0], \"y\": [0.5945945945945945, 0.6666666666666666]}, {\"hoverinfo\": \"none\", \"line\": {\"color\": \"#2e2e2e\", \"width\": 0.8}, \"mode\": \"lines\", \"opacity\": 0.1, \"type\": \"scatter\", \"x\": [9.0, 9.923076923076923], \"y\": [0.5945945945945945, 0.7317073170731707]}, {\"hoverinfo\": \"none\", \"line\": {\"color\": \"#2e2e2e\", \"width\": 0.8}, \"mode\": \"lines\", \"opacity\": 0.1, \"type\": \"scatter\", \"x\": [7.1, 6.916666666666667], \"y\": [0.5945945945945945, 0.631578947368421]}, {\"hoverinfo\": \"none\", \"line\": {\"color\": \"#2e2e2e\", \"width\": 0.8}, \"mode\": \"lines\", \"opacity\": 0.1, \"type\": \"scatter\", \"x\": [8.4, 8.916666666666666], \"y\": [0.5945945945945945, 0.631578947368421]}, {\"hoverinfo\": \"none\", \"line\": {\"color\": \"#2e2e2e\", \"width\": 1.6}, \"mode\": \"lines\", \"opacity\": 0.3, \"type\": \"scatter\", \"x\": [9.7, 9.416666666666666], \"y\": [0.5945945945945945, 0.631578947368421]}, {\"hoverinfo\": \"none\", \"line\": {\"color\": \"#2e2e2e\", \"width\": 0.8}, \"mode\": \"lines\", \"opacity\": 0.1, \"type\": \"scatter\", \"x\": [7.9, 7.583333333333333], \"y\": [0.5945945945945945, 0.631578947368421]}, {\"hoverinfo\": \"none\", \"line\": {\"color\": \"#2e2e2e\", \"width\": 0.8}, \"mode\": \"lines\", \"opacity\": 0.1, \"type\": \"scatter\", \"x\": [10.5, 10.5], \"y\": [0.5405405405405405, 0.6829268292682926]}, {\"hoverinfo\": \"none\", \"line\": {\"color\": \"#2e2e2e\", \"width\": 0.8}, \"mode\": \"lines\", \"opacity\": 0.1, \"type\": \"scatter\", \"x\": [7.3, 8.5], \"y\": [0.5945945945945945, 0.7317073170731707]}, {\"hoverinfo\": \"none\", \"line\": {\"color\": \"#2e2e2e\", \"width\": 0.8}, \"mode\": \"lines\", \"opacity\": 0.1, \"type\": \"scatter\", \"x\": [9.3, 8.785714285714286], \"y\": [0.5135135135135135, 0.5897435897435898]}, {\"hoverinfo\": \"none\", \"line\": {\"color\": \"#2e2e2e\", \"width\": 0.8}, \"mode\": \"lines\", \"opacity\": 0.1, \"type\": \"scatter\", \"x\": [7.0, 8.0], \"y\": [0.4594594594594594, 0.5384615384615384]}, {\"hoverinfo\": \"none\", \"line\": {\"color\": \"#2e2e2e\", \"width\": 0.8}, \"mode\": \"lines\", \"opacity\": 0.1, \"type\": \"scatter\", \"x\": [6.714285714285714, 6.8], \"y\": [0.5263157894736842, 0.6]}, {\"hoverinfo\": \"none\", \"line\": {\"color\": \"#2e2e2e\", \"width\": 0.8}, \"mode\": \"lines\", \"opacity\": 0.1, \"type\": \"scatter\", \"x\": [12.5, 11.357142857142858], \"y\": [0.3157894736842105, 0.4761904761904762]}, {\"hoverinfo\": \"none\", \"line\": {\"color\": \"#2e2e2e\", \"width\": 0.8}, \"mode\": \"lines\", \"opacity\": 0.1, \"type\": \"scatter\", \"x\": [6.8, 8.75], \"y\": [0.5789473684210527, 0.7142857142857143]}, {\"hoverinfo\": \"none\", \"line\": {\"color\": \"#2e2e2e\", \"width\": 1.6}, \"mode\": \"lines\", \"opacity\": 0.3, \"type\": \"scatter\", \"x\": [9.166666666666666, 8.5], \"y\": [0.631578947368421, 0.7000000000000001]}, {\"hoverinfo\": \"none\", \"line\": {\"color\": \"#2e2e2e\", \"width\": 0.8}, \"mode\": \"lines\", \"opacity\": 0.1, \"type\": \"scatter\", \"x\": [7.583333333333333, 9.583333333333334], \"y\": [0.631578947368421, 0.7619047619047621]}, {\"hoverinfo\": \"none\", \"line\": {\"color\": \"#2e2e2e\", \"width\": 0.8}, \"mode\": \"lines\", \"opacity\": 0.1, \"type\": \"scatter\", \"x\": [7.583333333333333, 8.625], \"y\": [0.631578947368421, 0.7000000000000001]}, {\"hoverinfo\": \"none\", \"line\": {\"color\": \"#2e2e2e\", \"width\": 0.8}, \"mode\": \"lines\", \"opacity\": 0.1, \"type\": \"scatter\", \"x\": [11.0, 10.75], \"y\": [0.631578947368421, 0.7000000000000001]}, {\"hoverinfo\": \"none\", \"line\": {\"color\": \"#2e2e2e\", \"width\": 2.4000000000000004}, \"mode\": \"lines\", \"opacity\": 0.5, \"type\": \"scatter\", \"x\": [9.5, 9.0], \"y\": [0.631578947368421, 0.6666666666666666]}, {\"hoverinfo\": \"none\", \"line\": {\"color\": \"#2e2e2e\", \"width\": 0.8}, \"mode\": \"lines\", \"opacity\": 0.1, \"type\": \"scatter\", \"x\": [11.5, 10.166666666666666], \"y\": [0.4736842105263157, 0.55]}, {\"hoverinfo\": \"none\", \"line\": {\"color\": \"#2e2e2e\", \"width\": 0.8}, \"mode\": \"lines\", \"opacity\": 0.1, \"type\": \"scatter\", \"x\": [7.5, 8.5], \"y\": [0.6052631578947368, 0.6749999999999999]}, {\"hoverinfo\": \"none\", \"line\": {\"color\": \"#2e2e2e\", \"width\": 0.8}, \"mode\": \"lines\", \"opacity\": 0.1, \"type\": \"scatter\", \"x\": [7.0, 7.0], \"y\": [0.5789473684210527, 0.6]}, {\"hoverinfo\": \"none\", \"line\": {\"color\": \"#2e2e2e\", \"width\": 0.8}, \"mode\": \"lines\", \"opacity\": 0.1, \"type\": \"scatter\", \"x\": [6.916666666666667, 8.25], \"y\": [0.631578947368421, 0.7619047619047621]}, {\"hoverinfo\": \"none\", \"line\": {\"color\": \"#2e2e2e\", \"width\": 0.8}, \"mode\": \"lines\", \"opacity\": 0.1, \"type\": \"scatter\", \"x\": [8.916666666666666, 9.285714285714286], \"y\": [0.631578947368421, 0.5714285714285714]}, {\"hoverinfo\": \"none\", \"line\": {\"color\": \"#2e2e2e\", \"width\": 0.8}, \"mode\": \"lines\", \"opacity\": 0.1, \"type\": \"scatter\", \"x\": [9.3, 9.5], \"y\": [0.5526315789473685, 0.625]}, {\"hoverinfo\": \"none\", \"line\": {\"color\": \"#2e2e2e\", \"width\": 0.8}, \"mode\": \"lines\", \"opacity\": 0.1, \"type\": \"scatter\", \"x\": [8.916666666666666, 8.625], \"y\": [0.631578947368421, 0.7000000000000001]}, {\"hoverinfo\": \"none\", \"line\": {\"color\": \"#2e2e2e\", \"width\": 0.8}, \"mode\": \"lines\", \"opacity\": 0.1, \"type\": \"scatter\", \"x\": [9.416666666666666, 9.071428571428571], \"y\": [0.631578947368421, 0.6666666666666666]}, {\"hoverinfo\": \"none\", \"line\": {\"color\": \"#2e2e2e\", \"width\": 0.8}, \"mode\": \"lines\", \"opacity\": 0.1, \"type\": \"scatter\", \"x\": [9.416666666666666, 8.444444444444445], \"y\": [0.631578947368421, 0.7000000000000001]}, {\"hoverinfo\": \"none\", \"line\": {\"color\": \"#2e2e2e\", \"width\": 1.6}, \"mode\": \"lines\", \"opacity\": 0.3, \"type\": \"scatter\", \"x\": [7.833333333333333, 9.357142857142858], \"y\": [0.6052631578947368, 0.7380952380952379]}, {\"hoverinfo\": \"none\", \"line\": {\"color\": \"#2e2e2e\", \"width\": 0.8}, \"mode\": \"lines\", \"opacity\": 0.1, \"type\": \"scatter\", \"x\": [8.5, 9.071428571428571], \"y\": [0.631578947368421, 0.7619047619047621]}, {\"hoverinfo\": \"none\", \"line\": {\"color\": \"#2e2e2e\", \"width\": 0.8}, \"mode\": \"lines\", \"opacity\": 0.1, \"type\": \"scatter\", \"x\": [9.8, 9.5], \"y\": [0.9230769230769232, 0.962962962962963]}, {\"hoverinfo\": \"none\", \"line\": {\"color\": \"#2e2e2e\", \"width\": 0.8}, \"mode\": \"lines\", \"opacity\": 0.1, \"type\": \"scatter\", \"x\": [9.5, 9.5], \"y\": [0.9807692307692308, 0.981132075471698]}, {\"hoverinfo\": \"none\", \"line\": {\"color\": \"#2e2e2e\", \"width\": 0.8}, \"mode\": \"lines\", \"opacity\": 0.1, \"type\": \"scatter\", \"x\": [9.5, 9.0], \"y\": [0.962962962962963, 0.9454545454545454]}, {\"hoverinfo\": \"none\", \"line\": {\"color\": \"#2e2e2e\", \"width\": 0.8}, \"mode\": \"lines\", \"opacity\": 0.1, \"type\": \"scatter\", \"x\": [9.214285714285714, 9.25], \"y\": [0.962962962962963, 0.9454545454545454]}, {\"hoverinfo\": \"none\", \"line\": {\"color\": \"#2e2e2e\", \"width\": 0.8}, \"mode\": \"lines\", \"opacity\": 0.1, \"type\": \"scatter\", \"x\": [10.5, 9.5], \"y\": [0.8148148148148148, 0.8275862068965517]}, {\"hoverinfo\": \"none\", \"line\": {\"color\": \"#2e2e2e\", \"width\": 0.8}, \"mode\": \"lines\", \"opacity\": 0.1, \"type\": \"scatter\", \"x\": [9.25, 9.5], \"y\": [0.9454545454545454, 0.9285714285714286]}, {\"hoverinfo\": \"none\", \"line\": {\"color\": \"#2e2e2e\", \"width\": 0.8}, \"mode\": \"lines\", \"opacity\": 0.1, \"type\": \"scatter\", \"x\": [12.5, 12.5], \"y\": [0.1764705882352941, 0.3157894736842105]}, {\"hoverinfo\": \"none\", \"line\": {\"color\": \"#2e2e2e\", \"width\": 0.8}, \"mode\": \"lines\", \"opacity\": 0.1, \"type\": \"scatter\", \"x\": [7.3, 7.0], \"y\": [0.4705882352941176, 0.4571428571428572]}, {\"hoverinfo\": \"none\", \"line\": {\"color\": \"#2e2e2e\", \"width\": 0.8}, \"mode\": \"lines\", \"opacity\": 0.1, \"type\": \"scatter\", \"x\": [7.3, 7.071428571428571], \"y\": [0.4705882352941176, 0.5555555555555556]}, {\"hoverinfo\": \"none\", \"line\": {\"color\": \"#2e2e2e\", \"width\": 0.8}, \"mode\": \"lines\", \"opacity\": 0.1, \"type\": \"scatter\", \"x\": [7.0, 7.583333333333333], \"y\": [0.4705882352941176, 0.631578947368421]}, {\"hoverinfo\": \"none\", \"line\": {\"color\": \"#2e2e2e\", \"width\": 0.8}, \"mode\": \"lines\", \"opacity\": 0.1, \"type\": \"scatter\", \"x\": [7.0, 8.916666666666666], \"y\": [0.4705882352941176, 0.631578947368421]}, {\"hoverinfo\": \"none\", \"line\": {\"color\": \"#2e2e2e\", \"width\": 0.8}, \"mode\": \"lines\", \"opacity\": 0.1, \"type\": \"scatter\", \"x\": [10.0, 10.375], \"y\": [0.4705882352941176, 0.5555555555555556]}, {\"hoverinfo\": \"none\", \"line\": {\"color\": \"#2e2e2e\", \"width\": 0.8}, \"mode\": \"lines\", \"opacity\": 0.1, \"type\": \"scatter\", \"x\": [10.0, 9.357142857142858], \"y\": [0.4705882352941176, 0.5555555555555556]}, {\"hoverinfo\": \"none\", \"line\": {\"color\": \"#2e2e2e\", \"width\": 0.8}, \"mode\": \"lines\", \"opacity\": 0.1, \"type\": \"scatter\", \"x\": [10.0, 9.692307692307692], \"y\": [0.4705882352941176, 0.5142857142857142]}, {\"hoverinfo\": \"none\", \"line\": {\"color\": \"#2e2e2e\", \"width\": 0.8}, \"mode\": \"lines\", \"opacity\": 0.1, \"type\": \"scatter\", \"x\": [6.8, 6.666666666666667], \"y\": [0.411764705882353, 0.4571428571428572]}, {\"hoverinfo\": \"none\", \"line\": {\"color\": \"#2e2e2e\", \"width\": 0.8}, \"mode\": \"lines\", \"opacity\": 0.1, \"type\": \"scatter\", \"x\": [9.0, 9.5], \"y\": [0.3529411764705882, 0.4444444444444444]}, {\"hoverinfo\": \"none\", \"line\": {\"color\": \"#2e2e2e\", \"width\": 0.8}, \"mode\": \"lines\", \"opacity\": 0.1, \"type\": \"scatter\", \"x\": [6.5, 7.0], \"y\": [0.44117647058823534, 0.5789473684210527]}, {\"hoverinfo\": \"none\", \"line\": {\"color\": \"#2e2e2e\", \"width\": 0.8}, \"mode\": \"lines\", \"opacity\": 0.1, \"type\": \"scatter\", \"x\": [6.5, 6.769230769230769], \"y\": [0.44117647058823534, 0.4857142857142858]}, {\"hoverinfo\": \"none\", \"line\": {\"color\": \"#2e2e2e\", \"width\": 0.8}, \"mode\": \"lines\", \"opacity\": 0.1, \"type\": \"scatter\", \"x\": [6.5, 7.833333333333333], \"y\": [0.44117647058823534, 0.6052631578947368]}, {\"hoverinfo\": \"none\", \"line\": {\"color\": \"#2e2e2e\", \"width\": 0.8}, \"mode\": \"lines\", \"opacity\": 0.1, \"type\": \"scatter\", \"x\": [6.5, 6.5], \"y\": [0.44117647058823534, 0.5]}, {\"hoverinfo\": \"none\", \"line\": {\"color\": \"#2e2e2e\", \"width\": 0.8}, \"mode\": \"lines\", \"opacity\": 0.1, \"type\": \"scatter\", \"x\": [7.166666666666667, 7.25], \"y\": [0.4705882352941176, 0.5555555555555556]}, {\"hoverinfo\": \"none\", \"line\": {\"color\": \"#2e2e2e\", \"width\": 0.8}, \"mode\": \"lines\", \"opacity\": 0.1, \"type\": \"scatter\", \"x\": [8.9, 8.785714285714286], \"y\": [0.4705882352941176, 0.5555555555555556]}, {\"hoverinfo\": \"none\", \"line\": {\"color\": \"#2e2e2e\", \"width\": 0.8}, \"mode\": \"lines\", \"opacity\": 0.1, \"type\": \"scatter\", \"x\": [8.9, 8.214285714285714], \"y\": [0.4705882352941176, 0.5555555555555556]}, {\"hoverinfo\": \"none\", \"line\": {\"color\": \"#2e2e2e\", \"width\": 0.8}, \"mode\": \"lines\", \"opacity\": 0.1, \"type\": \"scatter\", \"x\": [8.9, 8.5], \"y\": [0.4705882352941176, 0.631578947368421]}, {\"hoverinfo\": \"none\", \"line\": {\"color\": \"#2e2e2e\", \"width\": 0.8}, \"mode\": \"lines\", \"opacity\": 0.1, \"type\": \"scatter\", \"x\": [6.666666666666667, 9.3], \"y\": [0.38235294117647056, 0.5526315789473685]}, {\"hoverinfo\": \"none\", \"line\": {\"color\": \"#2e2e2e\", \"width\": 0.8}, \"mode\": \"lines\", \"opacity\": 0.1, \"type\": \"scatter\", \"x\": [7.3, 9.833333333333334], \"y\": [0.4705882352941176, 0.631578947368421]}, {\"hoverinfo\": \"none\", \"line\": {\"color\": \"#2e2e2e\", \"width\": 0.8}, \"mode\": \"lines\", \"opacity\": 0.1, \"type\": \"scatter\", \"x\": [9.0, 7.833333333333333], \"y\": [0.4705882352941176, 0.6052631578947368]}, {\"hoverinfo\": \"none\", \"line\": {\"color\": \"#2e2e2e\", \"width\": 0.8}, \"mode\": \"lines\", \"opacity\": 0.1, \"type\": \"scatter\", \"x\": [4.7, 5.666666666666667], \"y\": [0.2352941176470588, 0.33333333333333337]}, {\"hoverinfo\": \"none\", \"line\": {\"color\": \"#2e2e2e\", \"width\": 0.8}, \"mode\": \"lines\", \"opacity\": 0.1, \"type\": \"scatter\", \"x\": [11.357142857142858, 10.944444444444445], \"y\": [0.4761904761904762, 0.5454545454545455]}, {\"hoverinfo\": \"none\", \"line\": {\"color\": \"#2e2e2e\", \"width\": 0.8}, \"mode\": \"lines\", \"opacity\": 0.1, \"type\": \"scatter\", \"x\": [8.75, 8.2], \"y\": [0.7142857142857143, 0.7826086956521738]}, {\"hoverinfo\": \"none\", \"line\": {\"color\": \"#2e2e2e\", \"width\": 0.8}, \"mode\": \"lines\", \"opacity\": 0.1, \"type\": \"scatter\", \"x\": [8.583333333333334, 9.0], \"y\": [0.7619047619047621, 0.7906976744186047]}, {\"hoverinfo\": \"none\", \"line\": {\"color\": \"#2e2e2e\", \"width\": 0.8}, \"mode\": \"lines\", \"opacity\": 0.1, \"type\": \"scatter\", \"x\": [9.583333333333334, 8.615384615384615], \"y\": [0.7619047619047621, 0.8695652173913044]}, {\"hoverinfo\": \"none\", \"line\": {\"color\": \"#2e2e2e\", \"width\": 1.6}, \"mode\": \"lines\", \"opacity\": 0.3, \"type\": \"scatter\", \"x\": [8.25, 9.23076923076923], \"y\": [0.7619047619047621, 0.8695652173913044]}, {\"hoverinfo\": \"none\", \"line\": {\"color\": \"#2e2e2e\", \"width\": 0.8}, \"mode\": \"lines\", \"opacity\": 0.1, \"type\": \"scatter\", \"x\": [10.5, 10.5], \"y\": [0.7619047619047621, 0.8181818181818181]}, {\"hoverinfo\": \"none\", \"line\": {\"color\": \"#2e2e2e\", \"width\": 0.8}, \"mode\": \"lines\", \"opacity\": 0.1, \"type\": \"scatter\", \"x\": [10.588235294117647, 10.473684210526315], \"y\": [0.7619047619047621, 0.7906976744186047]}, {\"hoverinfo\": \"none\", \"line\": {\"color\": \"#2e2e2e\", \"width\": 0.8}, \"mode\": \"lines\", \"opacity\": 0.1, \"type\": \"scatter\", \"x\": [9.0, 9.0], \"y\": [0.5952380952380952, 0.5681818181818181]}, {\"hoverinfo\": \"none\", \"line\": {\"color\": \"#2e2e2e\", \"width\": 0.8}, \"mode\": \"lines\", \"opacity\": 0.1, \"type\": \"scatter\", \"x\": [7.3, 7.3], \"y\": [0.6666666666666667, 0.7272727272727274]}, {\"hoverinfo\": \"none\", \"line\": {\"color\": \"#2e2e2e\", \"width\": 0.8}, \"mode\": \"lines\", \"opacity\": 0.1, \"type\": \"scatter\", \"x\": [8.11111111111111, 7.818181818181818], \"y\": [0.6428571428571429, 0.6744186046511628]}, {\"hoverinfo\": \"none\", \"line\": {\"color\": \"#2e2e2e\", \"width\": 0.8}, \"mode\": \"lines\", \"opacity\": 0.1, \"type\": \"scatter\", \"x\": [8.461538461538462, 8.266666666666667], \"y\": [0.7619047619047621, 0.7906976744186047]}, {\"hoverinfo\": \"none\", \"line\": {\"color\": \"#2e2e2e\", \"width\": 0.8}, \"mode\": \"lines\", \"opacity\": 0.1, \"type\": \"scatter\", \"x\": [9.357142857142858, 9.357142857142858], \"y\": [0.7380952380952379, 0.7209302325581395]}, {\"hoverinfo\": \"none\", \"line\": {\"color\": \"#2e2e2e\", \"width\": 0.8}, \"mode\": \"lines\", \"opacity\": 0.1, \"type\": \"scatter\", \"x\": [9.357142857142858, 8.5], \"y\": [0.7380952380952379, 0.7826086956521738]}, {\"hoverinfo\": \"none\", \"line\": {\"color\": \"#2e2e2e\", \"width\": 0.8}, \"mode\": \"lines\", \"opacity\": 0.1, \"type\": \"scatter\", \"x\": [10.5, 10.5], \"y\": [0.6904761904761905, 0.7209302325581395]}, {\"hoverinfo\": \"none\", \"line\": {\"color\": \"#2e2e2e\", \"width\": 0.8}, \"mode\": \"lines\", \"opacity\": 0.1, \"type\": \"scatter\", \"x\": [8.25, 8.5], \"y\": [0.7619047619047621, 0.8181818181818181]}, {\"hoverinfo\": \"none\", \"line\": {\"color\": \"#2e2e2e\", \"width\": 0.8}, \"mode\": \"lines\", \"opacity\": 0.1, \"type\": \"scatter\", \"x\": [7.818181818181818, 7.923076923076923], \"y\": [0.6428571428571429, 0.6744186046511628]}, {\"hoverinfo\": \"none\", \"line\": {\"color\": \"#2e2e2e\", \"width\": 0.8}, \"mode\": \"lines\", \"opacity\": 0.1, \"type\": \"scatter\", \"x\": [9.071428571428571, 9.5], \"y\": [0.7619047619047621, 0.8695652173913044]}, {\"hoverinfo\": \"none\", \"line\": {\"color\": \"#2e2e2e\", \"width\": 0.8}, \"mode\": \"lines\", \"opacity\": 0.1, \"type\": \"scatter\", \"x\": [8.2, 8.785714285714286], \"y\": [0.7826086956521738, 0.8333333333333333]}, {\"hoverinfo\": \"none\", \"line\": {\"color\": \"#2e2e2e\", \"width\": 0.8}, \"mode\": \"lines\", \"opacity\": 0.1, \"type\": \"scatter\", \"x\": [9.833333333333334, 9.9], \"y\": [0.8260869565217392, 0.875]}, {\"hoverinfo\": \"none\", \"line\": {\"color\": \"#2e2e2e\", \"width\": 1.6}, \"mode\": \"lines\", \"opacity\": 0.3, \"type\": \"scatter\", \"x\": [9.23076923076923, 8.928571428571429], \"y\": [0.8695652173913044, 0.96]}, {\"hoverinfo\": \"none\", \"line\": {\"color\": \"#2e2e2e\", \"width\": 0.8}, \"mode\": \"lines\", \"opacity\": 0.1, \"type\": \"scatter\", \"x\": [9.23076923076923, 9.0], \"y\": [0.8695652173913044, 0.8936170212765957]}, {\"hoverinfo\": \"none\", \"line\": {\"color\": \"#2e2e2e\", \"width\": 0.8}, \"mode\": \"lines\", \"opacity\": 0.1, \"type\": \"scatter\", \"x\": [10.5, 10.5], \"y\": [0.8478260869565216, 0.8958333333333334]}, {\"hoverinfo\": \"none\", \"line\": {\"color\": \"#2e2e2e\", \"width\": 0.8}, \"mode\": \"lines\", \"opacity\": 0.1, \"type\": \"scatter\", \"x\": [9.75, 9.5], \"y\": [0.8695652173913044, 0.8936170212765957]}, {\"hoverinfo\": \"none\", \"line\": {\"color\": \"#2e2e2e\", \"width\": 0.8}, \"mode\": \"lines\", \"opacity\": 0.1, \"type\": \"scatter\", \"x\": [8.5, 5.5], \"y\": [0.5434782608695652, 0.5416666666666667]}, {\"hoverinfo\": \"none\", \"line\": {\"color\": \"#2e2e2e\", \"width\": 0.8}, \"mode\": \"lines\", \"opacity\": 0.1, \"type\": \"scatter\", \"x\": [7.5, 7.777777777777778], \"y\": [0.7826086956521738, 0.8085106382978723]}, {\"hoverinfo\": \"none\", \"line\": {\"color\": \"#2e2e2e\", \"width\": 0.8}, \"mode\": \"lines\", \"opacity\": 0.1, \"type\": \"scatter\", \"x\": [9.214285714285714, 9.25], \"y\": [0.8695652173913044, 0.8936170212765957]}, {\"hoverinfo\": \"none\", \"line\": {\"color\": \"#2e2e2e\", \"width\": 1.6}, \"mode\": \"lines\", \"opacity\": 0.3, \"type\": \"scatter\", \"x\": [9.5, 9.222222222222221], \"y\": [0.8695652173913044, 0.8936170212765957]}, {\"hoverinfo\": \"none\", \"line\": {\"color\": \"#2e2e2e\", \"width\": 0.8}, \"mode\": \"lines\", \"opacity\": 0.1, \"type\": \"scatter\", \"x\": [8.88888888888889, 9.181818181818182], \"y\": [0.7608695652173914, 0.7872340425531914]}, {\"hoverinfo\": \"none\", \"line\": {\"color\": \"#2e2e2e\", \"width\": 0.8}, \"mode\": \"lines\", \"opacity\": 0.1, \"type\": \"scatter\", \"x\": [9.071428571428571, 9.0], \"y\": [0.8695652173913044, 0.8936170212765957]}, {\"hoverinfo\": \"none\", \"line\": {\"color\": \"#2e2e2e\", \"width\": 0.8}, \"mode\": \"lines\", \"opacity\": 0.1, \"type\": \"scatter\", \"x\": [8.5, 9.5], \"y\": [0.7826086956521738, 0.8799999999999999]}, {\"hoverinfo\": \"none\", \"line\": {\"color\": \"#2e2e2e\", \"width\": 0.8}, \"mode\": \"lines\", \"opacity\": 0.1, \"type\": \"scatter\", \"x\": [8.75, 8.5], \"y\": [0.8571428571428572, 0.86]}, {\"hoverinfo\": \"none\", \"line\": {\"color\": \"#2e2e2e\", \"width\": 0.8}, \"mode\": \"lines\", \"opacity\": 0.1, \"type\": \"scatter\", \"x\": [9.909090909090908, 9.8], \"y\": [0.8979591836734695, 0.9411764705882352]}, {\"hoverinfo\": \"none\", \"line\": {\"color\": \"#2e2e2e\", \"width\": 0.8}, \"mode\": \"lines\", \"opacity\": 0.1, \"type\": \"scatter\", \"x\": [8.7, 9.5], \"y\": [0.8979591836734695, 0.981132075471698]}, {\"hoverinfo\": \"none\", \"line\": {\"color\": \"#2e2e2e\", \"width\": 1.6}, \"mode\": \"lines\", \"opacity\": 0.3, \"type\": \"scatter\", \"x\": [9.214285714285714, 9.25], \"y\": [0.9387755102040816, 0.96]}, {\"hoverinfo\": \"none\", \"line\": {\"color\": \"#2e2e2e\", \"width\": 0.8}, \"mode\": \"lines\", \"opacity\": 0.1, \"type\": \"scatter\", \"x\": [8.928571428571429, 9.5], \"y\": [0.9387755102040816, 0.9803921568627452]}, {\"hoverinfo\": \"none\", \"line\": {\"color\": \"#2e2e2e\", \"width\": 0.8}, \"mode\": \"lines\", \"opacity\": 0.1, \"type\": \"scatter\", \"x\": [9.0, 8.11111111111111], \"y\": [0.8163265306122449, 0.8]}, {\"hoverinfo\": \"none\", \"line\": {\"color\": \"#2e2e2e\", \"width\": 0.8}, \"mode\": \"lines\", \"opacity\": 0.1, \"type\": \"scatter\", \"x\": [9.5, 9.214285714285714], \"y\": [0.9387755102040816, 0.96]}, {\"hoverinfo\": \"none\", \"line\": {\"color\": \"#2e2e2e\", \"width\": 0.8}, \"mode\": \"lines\", \"opacity\": 0.1, \"type\": \"scatter\", \"x\": [10.5, 9.166666666666666], \"y\": [0.836734693877551, 0.8431372549019608]}, {\"hoverinfo\": \"none\", \"line\": {\"color\": \"#2e2e2e\", \"width\": 0.8}, \"mode\": \"lines\", \"opacity\": 0.1, \"type\": \"scatter\", \"x\": [7.928571428571429, 8.5], \"y\": [0.7755102040816326, 0.8235294117647058]}, {\"hoverinfo\": \"none\", \"line\": {\"color\": \"#2e2e2e\", \"width\": 1.6}, \"mode\": \"lines\", \"opacity\": 0.3, \"type\": \"scatter\", \"x\": [8.928571428571429, 9.5], \"y\": [0.96, 1.0]}, {\"hoverinfo\": \"none\", \"line\": {\"color\": \"#2e2e2e\", \"width\": 0.8}, \"mode\": \"lines\", \"opacity\": 0.1, \"type\": \"scatter\", \"x\": [10.071428571428571, 9.5], \"y\": [0.94, 0.9807692307692308]}, {\"hoverinfo\": \"none\", \"line\": {\"color\": \"#2e2e2e\", \"width\": 1.6}, \"mode\": \"lines\", \"opacity\": 0.3, \"type\": \"scatter\", \"x\": [9.25, 9.5], \"y\": [0.96, 0.9803921568627452]}, {\"hoverinfo\": \"none\", \"line\": {\"color\": \"#2e2e2e\", \"width\": 0.8}, \"mode\": \"lines\", \"opacity\": 0.1, \"type\": \"scatter\", \"x\": [6.5, 8.5], \"y\": [0.6, 0.5555555555555555]}, {\"hoverinfo\": \"none\", \"line\": {\"color\": \"#2e2e2e\", \"width\": 0.8}, \"mode\": \"lines\", \"opacity\": 0.1, \"type\": \"scatter\", \"x\": [8.11111111111111, 7.818181818181818], \"y\": [0.8, 0.8039215686274509]}, {\"hoverinfo\": \"none\", \"line\": {\"color\": \"#2e2e2e\", \"width\": 0.8}, \"mode\": \"lines\", \"opacity\": 0.1, \"type\": \"scatter\", \"x\": [9.214285714285714, 9.25], \"y\": [0.96, 0.9803921568627452]}, {\"hoverinfo\": \"none\", \"line\": {\"color\": \"#2e2e2e\", \"width\": 0.8}, \"mode\": \"lines\", \"opacity\": 0.1, \"type\": \"scatter\", \"x\": [9.5, 10.5], \"y\": [0.8799999999999999, 0.8148148148148148]}, {\"hoverinfo\": \"none\", \"line\": {\"color\": \"#2e2e2e\", \"width\": 0.8}, \"mode\": \"lines\", \"opacity\": 0.1, \"type\": \"scatter\", \"x\": [8.4, 8.583333333333334], \"y\": [0.7317073170731707, 0.7619047619047621]}, {\"hoverinfo\": \"none\", \"line\": {\"color\": \"#2e2e2e\", \"width\": 0.8}, \"mode\": \"lines\", \"opacity\": 0.1, \"type\": \"scatter\", \"x\": [8.7, 8.25], \"y\": [0.7317073170731707, 0.7619047619047621]}, {\"hoverinfo\": \"none\", \"line\": {\"color\": \"#2e2e2e\", \"width\": 0.8}, \"mode\": \"lines\", \"opacity\": 0.1, \"type\": \"scatter\", \"x\": [8.454545454545455, 8.733333333333333], \"y\": [0.7317073170731707, 0.7906976744186047]}, {\"hoverinfo\": \"none\", \"line\": {\"color\": \"#2e2e2e\", \"width\": 0.8}, \"mode\": \"lines\", \"opacity\": 0.1, \"type\": \"scatter\", \"x\": [9.923076923076923, 9.588235294117647], \"y\": [0.7317073170731707, 0.7906976744186047]}, {\"hoverinfo\": \"none\", \"line\": {\"color\": \"#2e2e2e\", \"width\": 0.8}, \"mode\": \"lines\", \"opacity\": 0.1, \"type\": \"scatter\", \"x\": [8.375, 8.11111111111111], \"y\": [0.6097560975609756, 0.6428571428571429]}, {\"hoverinfo\": \"none\", \"line\": {\"color\": \"#2e2e2e\", \"width\": 0.8}, \"mode\": \"lines\", \"opacity\": 0.1, \"type\": \"scatter\", \"x\": [10.5, 10.5], \"y\": [0.6829268292682926, 0.6904761904761905]}, {\"hoverinfo\": \"none\", \"line\": {\"color\": \"#2e2e2e\", \"width\": 0.8}, \"mode\": \"lines\", \"opacity\": 0.1, \"type\": \"scatter\", \"x\": [8.5, 9.071428571428571], \"y\": [0.7317073170731707, 0.8444444444444443]}, {\"hoverinfo\": \"none\", \"line\": {\"color\": \"#2e2e2e\", \"width\": 0.8}, \"mode\": \"lines\", \"opacity\": 0.1, \"type\": \"scatter\", \"x\": [8.071428571428571, 8.25], \"y\": [0.7317073170731707, 0.7619047619047621]}, {\"hoverinfo\": \"none\", \"line\": {\"color\": \"#2e2e2e\", \"width\": 0.8}, \"mode\": \"lines\", \"opacity\": 0.1, \"type\": \"scatter\", \"x\": [8.11111111111111, 7.818181818181818], \"y\": [0.6097560975609756, 0.6428571428571429]}, {\"hoverinfo\": \"none\", \"line\": {\"color\": \"#2e2e2e\", \"width\": 0.8}, \"mode\": \"lines\", \"opacity\": 0.1, \"type\": \"scatter\", \"x\": [9.0, 9.8], \"y\": [0.7906976744186047, 0.8936170212765957]}, {\"hoverinfo\": \"none\", \"line\": {\"color\": \"#2e2e2e\", \"width\": 0.8}, \"mode\": \"lines\", \"opacity\": 0.1, \"type\": \"scatter\", \"x\": [7.785714285714286, 7.1], \"y\": [0.7441860465116279, 0.7999999999999999]}, {\"hoverinfo\": \"none\", \"line\": {\"color\": \"#2e2e2e\", \"width\": 0.8}, \"mode\": \"lines\", \"opacity\": 0.1, \"type\": \"scatter\", \"x\": [8.733333333333333, 8.588235294117647], \"y\": [0.7906976744186047, 0.8181818181818181]}, {\"hoverinfo\": \"none\", \"line\": {\"color\": \"#2e2e2e\", \"width\": 1.6}, \"mode\": \"lines\", \"opacity\": 0.3, \"type\": \"scatter\", \"x\": [8.733333333333333, 9.5], \"y\": [0.7906976744186047, 0.8444444444444443]}, {\"hoverinfo\": \"none\", \"line\": {\"color\": \"#2e2e2e\", \"width\": 0.8}, \"mode\": \"lines\", \"opacity\": 0.1, \"type\": \"scatter\", \"x\": [9.588235294117647, 9.5], \"y\": [0.7906976744186047, 0.8444444444444443]}, {\"hoverinfo\": \"none\", \"line\": {\"color\": \"#2e2e2e\", \"width\": 0.8}, \"mode\": \"lines\", \"opacity\": 0.1, \"type\": \"scatter\", \"x\": [7.818181818181818, 7.923076923076923], \"y\": [0.6744186046511628, 0.7045454545454546]}, {\"hoverinfo\": \"none\", \"line\": {\"color\": \"#2e2e2e\", \"width\": 0.8}, \"mode\": \"lines\", \"opacity\": 0.1, \"type\": \"scatter\", \"x\": [9.866666666666667, 9.647058823529411], \"y\": [0.7906976744186047, 0.8181818181818181]}, {\"hoverinfo\": \"none\", \"line\": {\"color\": \"#2e2e2e\", \"width\": 0.8}, \"mode\": \"lines\", \"opacity\": 0.1, \"type\": \"scatter\", \"x\": [8.266666666666667, 8.583333333333334], \"y\": [0.7906976744186047, 0.8444444444444443]}, {\"hoverinfo\": \"none\", \"line\": {\"color\": \"#2e2e2e\", \"width\": 0.8}, \"mode\": \"lines\", \"opacity\": 0.1, \"type\": \"scatter\", \"x\": [10.5, 10.642857142857142], \"y\": [0.7209302325581395, 0.75]}, {\"hoverinfo\": \"none\", \"line\": {\"color\": \"#2e2e2e\", \"width\": 0.8}, \"mode\": \"lines\", \"opacity\": 0.1, \"type\": \"scatter\", \"x\": [7.923076923076923, 7.3076923076923075], \"y\": [0.6744186046511628, 0.74468085106383]}, {\"hoverinfo\": \"none\", \"line\": {\"color\": \"#2e2e2e\", \"width\": 0.8}, \"mode\": \"lines\", \"opacity\": 0.1, \"type\": \"scatter\", \"x\": [7.733333333333333, 8.5], \"y\": [0.6511627906976744, 0.7111111111111111]}, {\"hoverinfo\": \"none\", \"line\": {\"color\": \"#2e2e2e\", \"width\": 1.6}, \"mode\": \"lines\", \"opacity\": 0.3, \"type\": \"scatter\", \"x\": [9.25, 9.5], \"y\": [0.8936170212765957, 0.9166666666666666]}, {\"hoverinfo\": \"none\", \"line\": {\"color\": \"#2e2e2e\", \"width\": 0.8}, \"mode\": \"lines\", \"opacity\": 0.1, \"type\": \"scatter\", \"x\": [9.5, 9.5], \"y\": [0.8936170212765957, 0.9166666666666666]}, {\"hoverinfo\": \"none\", \"line\": {\"color\": \"#2e2e2e\", \"width\": 0.8}, \"mode\": \"lines\", \"opacity\": 0.1, \"type\": \"scatter\", \"x\": [9.222222222222221, 9.0], \"y\": [0.8936170212765957, 0.9166666666666666]}, {\"hoverinfo\": \"none\", \"line\": {\"color\": \"#2e2e2e\", \"width\": 0.8}, \"mode\": \"lines\", \"opacity\": 0.1, \"type\": \"scatter\", \"x\": [9.181818181818182, 10.0], \"y\": [0.7872340425531914, 0.8125000000000001]}, {\"hoverinfo\": \"none\", \"line\": {\"color\": \"#2e2e2e\", \"width\": 0.8}, \"mode\": \"lines\", \"opacity\": 0.1, \"type\": \"scatter\", \"x\": [9.0, 9.1], \"y\": [0.8936170212765957, 0.9166666666666666]}, {\"hoverinfo\": \"none\", \"line\": {\"color\": \"#2e2e2e\", \"width\": 0.8}, \"mode\": \"lines\", \"opacity\": 0.1, \"type\": \"scatter\", \"x\": [7.3076923076923075, 7.3], \"y\": [0.74468085106383, 0.7500000000000001]}, {\"hoverinfo\": \"none\", \"line\": {\"color\": \"#2e2e2e\", \"width\": 0.8}, \"mode\": \"lines\", \"opacity\": 0.1, \"type\": \"scatter\", \"x\": [8.0, 7.928571428571429], \"y\": [0.7234042553191489, 0.7755102040816326]}, {\"hoverinfo\": \"none\", \"line\": {\"color\": \"#2e2e2e\", \"width\": 0.8}, \"mode\": \"lines\", \"opacity\": 0.1, \"type\": \"scatter\", \"x\": [9.8, 9.5], \"y\": [0.9411764705882352, 0.981132075471698]}, {\"hoverinfo\": \"none\", \"line\": {\"color\": \"#2e2e2e\", \"width\": 0.8}, \"mode\": \"lines\", \"opacity\": 0.1, \"type\": \"scatter\", \"x\": [9.25, 9.5], \"y\": [0.9803921568627452, 1.0]}, {\"hoverinfo\": \"none\", \"line\": {\"color\": \"#2e2e2e\", \"width\": 0.8}, \"mode\": \"lines\", \"opacity\": 0.1, \"type\": \"scatter\", \"x\": [9.166666666666666, 9.0], \"y\": [0.8431372549019608, 0.8653846153846154]}, {\"hoverinfo\": \"none\", \"line\": {\"color\": \"#2e2e2e\", \"width\": 0.8}, \"mode\": \"lines\", \"opacity\": 0.1, \"type\": \"scatter\", \"x\": [9.5, 9.214285714285714], \"y\": [0.981132075471698, 0.962962962962963]}, {\"hoverinfo\": \"none\", \"line\": {\"color\": \"#2e2e2e\", \"width\": 0.8}, \"mode\": \"lines\", \"opacity\": 0.1, \"type\": \"scatter\", \"x\": [9.5, 9.5], \"y\": [0.9285714285714286, 0.912280701754386]}, {\"hoverinfo\": \"none\", \"line\": {\"color\": \"#2e2e2e\", \"width\": 0.8}, \"mode\": \"lines\", \"opacity\": 0.1, \"type\": \"scatter\", \"x\": [9.5, 9.5], \"y\": [0.912280701754386, 0.8965517241379308]}, {\"hoverinfo\": \"none\", \"line\": {\"color\": \"#2e2e2e\", \"width\": 0.8}, \"mode\": \"lines\", \"opacity\": 0.1, \"type\": \"scatter\", \"x\": [9.5, 9.31578947368421], \"y\": [0.8275862068965517, 0.8135593220338984]}, {\"hoverinfo\": \"none\", \"line\": {\"color\": \"#2e2e2e\", \"width\": 0.8}, \"mode\": \"lines\", \"opacity\": 0.1, \"type\": \"scatter\", \"x\": [8.333333333333334, 9.0], \"y\": [0.20689655172413796, 0.2666666666666667]}, {\"hoverinfo\": \"none\", \"line\": {\"color\": \"#2e2e2e\", \"width\": 0.8}, \"mode\": \"lines\", \"opacity\": 0.1, \"type\": \"scatter\", \"x\": [6.642857142857143, 7.785714285714286], \"y\": [0.6153846153846155, 0.7441860465116279]}, {\"hoverinfo\": \"none\", \"line\": {\"color\": \"#2e2e2e\", \"width\": 1.6}, \"mode\": \"lines\", \"opacity\": 0.3, \"type\": \"scatter\", \"x\": [9.0, 8.733333333333333], \"y\": [0.6666666666666666, 0.7906976744186047]}, {\"hoverinfo\": \"none\", \"line\": {\"color\": \"#2e2e2e\", \"width\": 0.8}, \"mode\": \"lines\", \"opacity\": 0.1, \"type\": \"scatter\", \"x\": [9.0, 8.454545454545455], \"y\": [0.6666666666666666, 0.7317073170731707]}, {\"hoverinfo\": \"none\", \"line\": {\"color\": \"#2e2e2e\", \"width\": 0.8}, \"mode\": \"lines\", \"opacity\": 0.1, \"type\": \"scatter\", \"x\": [9.0, 9.8], \"y\": [0.6666666666666666, 0.7906976744186047]}, {\"hoverinfo\": \"none\", \"line\": {\"color\": \"#2e2e2e\", \"width\": 0.8}, \"mode\": \"lines\", \"opacity\": 0.1, \"type\": \"scatter\", \"x\": [8.928571428571429, 8.625], \"y\": [0.6666666666666666, 0.7000000000000001]}, {\"hoverinfo\": \"none\", \"line\": {\"color\": \"#2e2e2e\", \"width\": 0.8}, \"mode\": \"lines\", \"opacity\": 0.1, \"type\": \"scatter\", \"x\": [9.071428571428571, 9.866666666666667], \"y\": [0.6666666666666666, 0.7906976744186047]}, {\"hoverinfo\": \"none\", \"line\": {\"color\": \"#2e2e2e\", \"width\": 0.8}, \"mode\": \"lines\", \"opacity\": 0.1, \"type\": \"scatter\", \"x\": [8.785714285714286, 9.0], \"y\": [0.5897435897435898, 0.625]}, {\"hoverinfo\": \"none\", \"line\": {\"color\": \"#2e2e2e\", \"width\": 0.8}, \"mode\": \"lines\", \"opacity\": 0.1, \"type\": \"scatter\", \"x\": [7.0, 7.0], \"y\": [0.5897435897435898, 0.6]}, {\"hoverinfo\": \"none\", \"line\": {\"color\": \"#2e2e2e\", \"width\": 0.8}, \"mode\": \"lines\", \"opacity\": 0.1, \"type\": \"scatter\", \"x\": [8.0, 7.733333333333333], \"y\": [0.5384615384615384, 0.6511627906976744]}, {\"hoverinfo\": \"none\", \"line\": {\"color\": \"#2e2e2e\", \"width\": 0.8}, \"mode\": \"lines\", \"opacity\": 0.1, \"type\": \"scatter\", \"x\": [7.1, 8.7], \"y\": [0.7999999999999999, 0.8979591836734695]}, {\"hoverinfo\": \"none\", \"line\": {\"color\": \"#2e2e2e\", \"width\": 0.8}, \"mode\": \"lines\", \"opacity\": 0.1, \"type\": \"scatter\", \"x\": [8.5, 9.25], \"y\": [0.8444444444444443, 0.8936170212765957]}, {\"hoverinfo\": \"none\", \"line\": {\"color\": \"#2e2e2e\", \"width\": 0.8}, \"mode\": \"lines\", \"opacity\": 0.1, \"type\": \"scatter\", \"x\": [9.785714285714286, 9.75], \"y\": [0.8444444444444443, 0.8695652173913044]}, {\"hoverinfo\": \"none\", \"line\": {\"color\": \"#2e2e2e\", \"width\": 0.8}, \"mode\": \"lines\", \"opacity\": 0.1, \"type\": \"scatter\", \"x\": [9.5, 8.928571428571429], \"y\": [0.8444444444444443, 0.9387755102040816]}, {\"hoverinfo\": \"none\", \"line\": {\"color\": \"#2e2e2e\", \"width\": 0.8}, \"mode\": \"lines\", \"opacity\": 0.1, \"type\": \"scatter\", \"x\": [9.5, 9.214285714285714], \"y\": [0.8444444444444443, 0.8695652173913044]}, {\"hoverinfo\": \"none\", \"line\": {\"color\": \"#2e2e2e\", \"width\": 0.8}, \"mode\": \"lines\", \"opacity\": 0.1, \"type\": \"scatter\", \"x\": [9.5, 9.5], \"y\": [0.8444444444444443, 0.8695652173913044]}, {\"hoverinfo\": \"none\", \"line\": {\"color\": \"#2e2e2e\", \"width\": 0.8}, \"mode\": \"lines\", \"opacity\": 0.1, \"type\": \"scatter\", \"x\": [8.0, 8.88888888888889], \"y\": [0.7333333333333333, 0.7608695652173914]}, {\"hoverinfo\": \"none\", \"line\": {\"color\": \"#2e2e2e\", \"width\": 0.8}, \"mode\": \"lines\", \"opacity\": 0.1, \"type\": \"scatter\", \"x\": [10.5, 10.5], \"y\": [0.8444444444444443, 0.8936170212765957]}, {\"hoverinfo\": \"none\", \"line\": {\"color\": \"#2e2e2e\", \"width\": 0.8}, \"mode\": \"lines\", \"opacity\": 0.1, \"type\": \"scatter\", \"x\": [8.583333333333334, 9.071428571428571], \"y\": [0.8444444444444443, 0.8695652173913044]}, {\"hoverinfo\": \"none\", \"line\": {\"color\": \"#2e2e2e\", \"width\": 0.8}, \"mode\": \"lines\", \"opacity\": 0.1, \"type\": \"scatter\", \"x\": [10.5, 10.5], \"y\": [0.7777777777777778, 0.836734693877551]}, {\"hoverinfo\": \"none\", \"line\": {\"color\": \"#2e2e2e\", \"width\": 0.8}, \"mode\": \"lines\", \"opacity\": 0.1, \"type\": \"scatter\", \"x\": [8.5, 8.0], \"y\": [0.7111111111111111, 0.7234042553191489]}, {\"hoverinfo\": \"text\", \"marker\": {\"color\": \"#2e2e2e\", \"colorscale\": [[0.0, \"rgb(255,255,255)\"], [0.125, \"rgb(240,240,240)\"], [0.25, \"rgb(217,217,217)\"], [0.375, \"rgb(189,189,189)\"], [0.5, \"rgb(150,150,150)\"], [0.625, \"rgb(115,115,115)\"], [0.75, \"rgb(82,82,82)\"], [0.875, \"rgb(37,37,37)\"], [1.0, \"rgb(0,0,0)\"]], \"line\": {\"color\": \"#FFF\", \"width\": 0}, \"opacity\": 1.0, \"reversescale\": true, \"size\": [40.0, 0.8, 0.8, 9.600000000000001, 2.4000000000000004, 0.8, 0.8, 16.8, 3.2, 0.8, 0.8, 0.8, 0.8, 0.8, 0.8, 0.8, 0.8, 0.8, 0.8, 8.8, 0.8, 0.8, 0.8, 1.6, 0.8, 0.8, 0.8, 0.8, 1.6, 0.8, 0.8, 0.8, 0.8, 0.8, 0.8, 0.8, 0.8, 0.8, 1.6, 1.6, 0.8, 0.8, 0.8, 0.8, 0.8, 0.8, 0.8, 0.8, 0.8, 2.4000000000000004, 0.8, 0.8, 0.8, 0.8, 0.8, 0.8, 0.8, 0.8, 0.8, 0.8, 0.8, 0.8, 0.8, 1.6, 0.8, 0.8, 0.8, 0.8, 0.8, 0.8, 0.8, 0.8, 0.8, 0.8, 0.8, 0.8, 0.8, 0.8, 0.8, 0.8, 0.8, 0.8, 0.8, 0.8, 1.6, 2.4000000000000004, 0.8, 0.8, 0.8, 0.8, 0.8, 0.8, 0.8, 22.400000000000002, 0.8, 2.4000000000000004, 1.6, 0.8, 0.8, 3.2, 1.6, 0.8, 0.8, 0.8, 4.800000000000001, 0.8, 0.8, 0.8, 0.8, 0.8, 0.8, 0.8, 0.8, 0.8, 1.6, 0.8, 2.4000000000000004, 0.8, 0.8, 0.8, 0.8, 1.6, 0.8, 0.8, 0.8, 0.8, 0.8, 0.8, 0.8, 0.8, 1.6, 1.6, 0.8, 2.4000000000000004, 0.8, 0.8, 0.8, 0.8, 0.8, 0.8, 0.8, 0.8, 1.6, 1.6, 0.8, 0.8, 0.8, 3.2, 0.8, 0.8, 0.8, 0.8, 0.8, 0.8, 0.8, 0.8, 0.8, 1.6, 1.6, 2.4000000000000004, 0.8, 0.8, 3.2, 0.8, 2.4000000000000004, 0.8, 0.8, 0.8, 0.8, 0.8, 0.8, 0.8, 0.8, 1.6, 0.8, 0.8, 0.8, 0.8, 0.8, 0.8, 0.8, 1.6, 0.8, 0.8, 0.8, 0.8, 0.8, 0.8, 0.8, 2.4000000000000004, 0.8, 0.8, 0.8, 0.8, 0.8, 1.6, 0.8, 0.8, 0.8, 0.8, 0.8, 0.8, 1.6, 0.8, 0.8, 0.8, 0.8, 0.8, 0.8, 1.6, 1.6, 1.6, 0.8, 0.8, 0.8, 0.8, 1.6, 0.8, 0.8, 0.8, 0.8, 0.8, 0.8, 0.8, 0.8, 0.8, 0.8, 2.4000000000000004, 0.8, 0.8, 0.8, 0.8, 0.8, 0.8, 0.8, 0.8, 0.8, 0.8, 0.8, 1.6, 0.8, 0.8, 1.6, 0.8, 0.8, 0.8, 0.8, 0.8, 0.8, 0.8, 2.4000000000000004, 0.8, 0.8, 0.8, 0.8, 1.6, 0.8, 0.8, 0.8, 0.8, 0.8, 0.8, 0.8, 3.2, 0.8, 0.8, 0.8, 0.8, 0.8, 0.8, 0.8, 0.8, 1.6, 0.8, 0.8, 0.8, 0.8, 0.8, 0.8, 0.8, 0.8, 0.8, 0.8]}, \"mode\": \"markers\", \"type\": \"scatter\", \"x\": [8.5, 11.5, 12.5, 10.5, 7.5, 8.833333333333334, 9.833333333333334, 7.833333333333333, 10.5, 6.125, 8.166666666666666, 5.571428571428571, 7.166666666666667, 6.428571428571429, 6.833333333333333, 8.071428571428571, 11.357142857142858, 6.846153846153846, 9.375, 9.357142857142858, 10.375, 9.466666666666667, 9.5, 7.071428571428571, 7.25, 8.785714285714286, 7.214285714285714, 8.214285714285714, 7.642857142857143, 7.071428571428571, 9.071428571428571, 6.5, 6.642857142857143, 5.666666666666667, 8.166666666666666, 6.8, 11.3, 10.071428571428571, 8.5, 8.5, 10.75, 8.7, 10.307692307692308, 10.166666666666666, 7.0, 8.0, 8.5, 7.5, 9.5, 8.625, 10.5, 8.444444444444445, 8.166666666666666, 9.0, 7.5, 7.0, 8.166666666666666, 8.7, 7.857142857142857, 10.5, 10.944444444444445, 10.227272727272727, 10.0, 10.5, 8.588235294117647, 9.5, 9.0, 9.5, 7.3, 9.0, 7.923076923076923, 9.5625, 8.0625, 9.647058823529411, 10.642857142857142, 8.5, 8.38888888888889, 7.4375, 7.5, 9.5, 9.0, 10.5, 8.785714285714286, 9.9, 10.5, 9.5, 5.5, 10.0, 9.1, 8.5, 7.3, 9.0, 5.5, 6.5, 12.5, 9.0, 10.5, 7.5, 5.5, 6.0, 6.3, 7.2, 5.777777777777778, 7.75, 7.25, 7.5, 7.285714285714286, 6.444444444444445, 6.3076923076923075, 7.0, 6.666666666666667, 9.692307692307692, 6.769230769230769, 6.923076923076923, 6.833333333333333, 9.9, 9.5, 9.6, 9.0, 7.1, 8.4, 9.7, 7.9, 10.5, 7.3, 9.3, 7.0, 6.714285714285714, 12.5, 6.8, 9.166666666666666, 7.583333333333333, 11.0, 9.5, 11.5, 7.5, 7.0, 6.916666666666667, 8.916666666666666, 9.3, 8.916666666666666, 9.833333333333334, 9.416666666666666, 7.833333333333333, 8.833333333333334, 8.5, 9.8, 9.5, 9.5, 9.0, 9.5, 9.214285714285714, 8.5, 10.5, 9.0, 9.25, 12.5, 7.3, 7.0, 10.0, 6.8, 9.0, 6.5, 7.166666666666667, 8.9, 6.666666666666667, 7.3, 9.0, 4.7, 11.357142857142858, 8.75, 8.583333333333334, 9.583333333333334, 8.25, 10.5, 10.588235294117647, 9.0, 7.3, 9.285714285714286, 8.11111111111111, 8.461538461538462, 9.357142857142858, 10.5, 8.25, 7.818181818181818, 9.071428571428571, 8.2, 9.833333333333334, 8.615384615384615, 9.23076923076923, 10.5, 9.75, 8.5, 7.5, 9.214285714285714, 9.5, 8.88888888888889, 9.071428571428571, 8.5, 8.75, 9.909090909090908, 8.7, 9.214285714285714, 8.928571428571429, 9.0, 9.5, 10.5, 7.928571428571429, 8.5, 8.928571428571429, 10.071428571428571, 9.25, 6.5, 8.11111111111111, 9.214285714285714, 9.5, 8.4, 8.7, 8.454545454545455, 9.923076923076923, 8.375, 10.5, 8.5, 8.071428571428571, 8.11111111111111, 9.0, 7.785714285714286, 8.733333333333333, 10.473684210526315, 9.588235294117647, 7.818181818181818, 9.866666666666667, 8.266666666666667, 9.357142857142858, 9.8, 10.5, 7.923076923076923, 7.733333333333333, 9.8, 9.25, 9.5, 7.777777777777778, 9.222222222222221, 9.181818181818182, 9.0, 10.5, 9.0, 7.3076923076923075, 8.0, 9.8, 9.5, 7.818181818181818, 9.25, 9.166666666666666, 8.5, 9.5, 9.5, 9.5, 9.5, 9.5, 9.5, 8.333333333333334, 6.642857142857143, 9.0, 8.928571428571429, 9.071428571428571, 8.785714285714286, 7.0, 8.0, 7.1, 8.5, 9.785714285714286, 9.5, 9.5, 8.0, 10.5, 8.583333333333334, 10.5, 9.071428571428571, 8.857142857142858, 9.071428571428571, 8.5, 9.31578947368421], \"y\": [0, 0.07142857142857144, 0.0, 0.14285714285714288, 0.14285714285714288, 0.25, 0.1875, 0.375, 0.375, 0.375, 0.3125, 0.28124999999999994, 0.3125, 0.3125, 0.25, 0.4444444444444444, 0.2777777777777778, 0.5, 0.5555555555555556, 0.5555555555555556, 0.5555555555555556, 0.5555555555555556, 0.4444444444444444, 0.5277777777777778, 0.5555555555555556, 0.5555555555555556, 0.4722222222222222, 0.5555555555555556, 0.5555555555555556, 0.5555555555555556, 0.5, 0.5, 0.4166666666666667, 0.33333333333333337, 0.6, 0.6, 0.45, 0.7000000000000001, 0.7000000000000001, 0.6749999999999999, 0.7000000000000001, 0.7000000000000001, 0.7000000000000001, 0.55, 0.6, 0.7000000000000001, 0.6749999999999999, 0.625, 0.625, 0.7000000000000001, 0.7000000000000001, 0.7000000000000001, 0.7000000000000001, 0.625, 0.6, 0.6, 0.5, 0.7272727272727274, 0.7272727272727274, 0.5909090909090908, 0.5454545454545455, 0.8181818181818181, 0.7954545454545455, 0.8181818181818181, 0.8181818181818181, 0.8181818181818181, 0.5681818181818181, 0.7954545454545455, 0.7272727272727274, 0.8181818181818181, 0.7045454545454546, 0.8181818181818181, 0.8181818181818181, 0.8181818181818181, 0.75, 0.8181818181818181, 0.7272727272727274, 0.7272727272727274, 0.6136363636363638, 0.8333333333333333, 0.8333333333333333, 0.7083333333333333, 0.8333333333333333, 0.875, 0.8958333333333334, 0.9166666666666666, 0.5416666666666667, 0.8125000000000001, 0.9166666666666666, 0.9166666666666666, 0.7500000000000001, 0.9166666666666666, 0.6249999999999999, 0.2666666666666667, 0.06666666666666668, 0.2666666666666667, 0.2666666666666667, 0.2666666666666667, 0.2, 0.25806451612903225, 0.3225806451612904, 0.3225806451612904, 0.3333333333333333, 0.42424242424242425, 0.42424242424242425, 0.42424242424242425, 0.3636363636363637, 0.3636363636363637, 0.42857142857142855, 0.4571428571428572, 0.4571428571428572, 0.5142857142857142, 0.4857142857142858, 0.4571428571428572, 0.5135135135135135, 0.5945945945945945, 0.5945945945945945, 0.5945945945945945, 0.5945945945945945, 0.5945945945945945, 0.5945945945945945, 0.5945945945945945, 0.5945945945945945, 0.5405405405405405, 0.5945945945945945, 0.5135135135135135, 0.4594594594594594, 0.5263157894736842, 0.3157894736842105, 0.5789473684210527, 0.631578947368421, 0.631578947368421, 0.631578947368421, 0.631578947368421, 0.4736842105263157, 0.6052631578947368, 0.5789473684210527, 0.631578947368421, 0.631578947368421, 0.5526315789473685, 0.631578947368421, 0.631578947368421, 0.631578947368421, 0.6052631578947368, 0.631578947368421, 0.631578947368421, 0.9230769230769232, 1.0, 0.9807692307692308, 0.8653846153846154, 0.962962962962963, 0.962962962962963, 0.5555555555555555, 0.8148148148148148, 0.9454545454545454, 0.9454545454545454, 0.1764705882352941, 0.4705882352941176, 0.4705882352941176, 0.4705882352941176, 0.411764705882353, 0.3529411764705882, 0.44117647058823534, 0.4705882352941176, 0.4705882352941176, 0.38235294117647056, 0.4705882352941176, 0.4705882352941176, 0.2352941176470588, 0.4761904761904762, 0.7142857142857143, 0.7619047619047621, 0.7619047619047621, 0.7619047619047621, 0.7619047619047621, 0.7619047619047621, 0.5952380952380952, 0.6666666666666667, 0.5714285714285714, 0.6428571428571429, 0.7619047619047621, 0.7380952380952379, 0.6904761904761905, 0.7619047619047621, 0.6428571428571429, 0.7619047619047621, 0.7826086956521738, 0.8260869565217392, 0.8695652173913044, 0.8695652173913044, 0.8478260869565216, 0.8695652173913044, 0.5434782608695652, 0.7826086956521738, 0.8695652173913044, 0.8695652173913044, 0.7608695652173914, 0.8695652173913044, 0.7826086956521738, 0.8571428571428572, 0.8979591836734695, 0.8979591836734695, 0.9387755102040816, 0.9387755102040816, 0.8163265306122449, 0.9387755102040816, 0.836734693877551, 0.7755102040816326, 0.86, 0.96, 0.94, 0.96, 0.6, 0.8, 0.96, 0.8799999999999999, 0.7317073170731707, 0.7317073170731707, 0.7317073170731707, 0.7317073170731707, 0.6097560975609756, 0.6829268292682926, 0.7317073170731707, 0.7317073170731707, 0.6097560975609756, 0.7906976744186047, 0.7441860465116279, 0.7906976744186047, 0.7906976744186047, 0.7906976744186047, 0.6744186046511628, 0.7906976744186047, 0.7906976744186047, 0.7209302325581395, 0.7906976744186047, 0.7209302325581395, 0.6744186046511628, 0.6511627906976744, 0.8936170212765957, 0.8936170212765957, 0.8936170212765957, 0.8085106382978723, 0.8936170212765957, 0.7872340425531914, 0.8936170212765957, 0.8936170212765957, 0.8936170212765957, 0.74468085106383, 0.7234042553191489, 0.9411764705882352, 0.9803921568627452, 0.8039215686274509, 0.9803921568627452, 0.8431372549019608, 0.8235294117647058, 0.981132075471698, 0.981132075471698, 0.9285714285714286, 0.912280701754386, 0.8965517241379308, 0.8275862068965517, 0.20689655172413796, 0.6153846153846155, 0.6666666666666666, 0.6666666666666666, 0.6666666666666666, 0.5897435897435898, 0.5897435897435898, 0.5384615384615384, 0.7999999999999999, 0.8444444444444443, 0.8444444444444443, 0.8444444444444443, 0.8444444444444443, 0.7333333333333333, 0.8444444444444443, 0.8444444444444443, 0.7777777777777778, 0.8444444444444443, 0.8444444444444443, 0.7333333333333333, 0.7111111111111111, 0.8135593220338984]}],\n",
       "                        {\"height\": 400, \"hovermode\": \"closest\", \"margin\": {\"b\": 20, \"l\": 5, \"r\": 5, \"t\": 40}, \"shapes\": [{\"line\": {\"color\": \"black\", \"dash\": \"dot\", \"width\": 1}, \"type\": \"line\", \"x0\": 4, \"x1\": 13, \"y0\": 1, \"y1\": 1}, {\"line\": {\"color\": \"black\", \"dash\": \"dot\", \"width\": 1}, \"type\": \"line\", \"x0\": 4, \"x1\": 13, \"y0\": 0, \"y1\": 0}], \"showlegend\": false, \"template\": {\"data\": {\"bar\": [{\"error_x\": {\"color\": \"rgb(36,36,36)\"}, \"error_y\": {\"color\": \"rgb(36,36,36)\"}, \"marker\": {\"line\": {\"color\": \"white\", \"width\": 0.5}}, \"type\": \"bar\"}], \"barpolar\": [{\"marker\": {\"line\": {\"color\": \"white\", \"width\": 0.5}}, \"type\": \"barpolar\"}], \"carpet\": [{\"aaxis\": {\"endlinecolor\": \"rgb(36,36,36)\", \"gridcolor\": \"white\", \"linecolor\": \"white\", \"minorgridcolor\": \"white\", \"startlinecolor\": \"rgb(36,36,36)\"}, \"baxis\": {\"endlinecolor\": \"rgb(36,36,36)\", \"gridcolor\": \"white\", \"linecolor\": \"white\", \"minorgridcolor\": \"white\", \"startlinecolor\": \"rgb(36,36,36)\"}, \"type\": \"carpet\"}], \"choropleth\": [{\"colorbar\": {\"outlinewidth\": 1, \"tickcolor\": \"rgb(36,36,36)\", \"ticks\": \"outside\"}, \"type\": \"choropleth\"}], \"contour\": [{\"colorbar\": {\"outlinewidth\": 1, \"tickcolor\": \"rgb(36,36,36)\", \"ticks\": \"outside\"}, \"colorscale\": [[0.0, \"#440154\"], [0.1111111111111111, \"#482878\"], [0.2222222222222222, \"#3e4989\"], [0.3333333333333333, \"#31688e\"], [0.4444444444444444, \"#26828e\"], [0.5555555555555556, \"#1f9e89\"], [0.6666666666666666, \"#35b779\"], [0.7777777777777778, \"#6ece58\"], [0.8888888888888888, \"#b5de2b\"], [1.0, \"#fde725\"]], \"type\": \"contour\"}], \"contourcarpet\": [{\"colorbar\": {\"outlinewidth\": 1, \"tickcolor\": \"rgb(36,36,36)\", \"ticks\": \"outside\"}, \"type\": \"contourcarpet\"}], \"heatmap\": [{\"colorbar\": {\"outlinewidth\": 1, \"tickcolor\": \"rgb(36,36,36)\", \"ticks\": \"outside\"}, \"colorscale\": [[0.0, \"#440154\"], [0.1111111111111111, \"#482878\"], [0.2222222222222222, \"#3e4989\"], [0.3333333333333333, \"#31688e\"], [0.4444444444444444, \"#26828e\"], [0.5555555555555556, \"#1f9e89\"], [0.6666666666666666, \"#35b779\"], [0.7777777777777778, \"#6ece58\"], [0.8888888888888888, \"#b5de2b\"], [1.0, \"#fde725\"]], \"type\": \"heatmap\"}], \"heatmapgl\": [{\"colorbar\": {\"outlinewidth\": 1, \"tickcolor\": \"rgb(36,36,36)\", \"ticks\": \"outside\"}, \"colorscale\": [[0.0, \"#440154\"], [0.1111111111111111, \"#482878\"], [0.2222222222222222, \"#3e4989\"], [0.3333333333333333, \"#31688e\"], [0.4444444444444444, \"#26828e\"], [0.5555555555555556, \"#1f9e89\"], [0.6666666666666666, \"#35b779\"], [0.7777777777777778, \"#6ece58\"], [0.8888888888888888, \"#b5de2b\"], [1.0, \"#fde725\"]], \"type\": \"heatmapgl\"}], \"histogram\": [{\"marker\": {\"line\": {\"color\": \"white\", \"width\": 0.6}}, \"type\": \"histogram\"}], \"histogram2d\": [{\"colorbar\": {\"outlinewidth\": 1, \"tickcolor\": \"rgb(36,36,36)\", \"ticks\": \"outside\"}, \"colorscale\": [[0.0, \"#440154\"], [0.1111111111111111, \"#482878\"], [0.2222222222222222, \"#3e4989\"], [0.3333333333333333, \"#31688e\"], [0.4444444444444444, \"#26828e\"], [0.5555555555555556, \"#1f9e89\"], [0.6666666666666666, \"#35b779\"], [0.7777777777777778, \"#6ece58\"], [0.8888888888888888, \"#b5de2b\"], [1.0, \"#fde725\"]], \"type\": \"histogram2d\"}], \"histogram2dcontour\": [{\"colorbar\": {\"outlinewidth\": 1, \"tickcolor\": \"rgb(36,36,36)\", \"ticks\": \"outside\"}, \"colorscale\": [[0.0, \"#440154\"], [0.1111111111111111, \"#482878\"], [0.2222222222222222, \"#3e4989\"], [0.3333333333333333, \"#31688e\"], [0.4444444444444444, \"#26828e\"], [0.5555555555555556, \"#1f9e89\"], [0.6666666666666666, \"#35b779\"], [0.7777777777777778, \"#6ece58\"], [0.8888888888888888, \"#b5de2b\"], [1.0, \"#fde725\"]], \"type\": \"histogram2dcontour\"}], \"mesh3d\": [{\"colorbar\": {\"outlinewidth\": 1, \"tickcolor\": \"rgb(36,36,36)\", \"ticks\": \"outside\"}, \"type\": \"mesh3d\"}], \"parcoords\": [{\"line\": {\"colorbar\": {\"outlinewidth\": 1, \"tickcolor\": \"rgb(36,36,36)\", \"ticks\": \"outside\"}}, \"type\": \"parcoords\"}], \"pie\": [{\"automargin\": true, \"type\": \"pie\"}], \"scatter\": [{\"marker\": {\"colorbar\": {\"outlinewidth\": 1, \"tickcolor\": \"rgb(36,36,36)\", \"ticks\": \"outside\"}}, \"type\": \"scatter\"}], \"scatter3d\": [{\"line\": {\"colorbar\": {\"outlinewidth\": 1, \"tickcolor\": \"rgb(36,36,36)\", \"ticks\": \"outside\"}}, \"marker\": {\"colorbar\": {\"outlinewidth\": 1, \"tickcolor\": \"rgb(36,36,36)\", \"ticks\": \"outside\"}}, \"type\": \"scatter3d\"}], \"scattercarpet\": [{\"marker\": {\"colorbar\": {\"outlinewidth\": 1, \"tickcolor\": \"rgb(36,36,36)\", \"ticks\": \"outside\"}}, \"type\": \"scattercarpet\"}], \"scattergeo\": [{\"marker\": {\"colorbar\": {\"outlinewidth\": 1, \"tickcolor\": \"rgb(36,36,36)\", \"ticks\": \"outside\"}}, \"type\": \"scattergeo\"}], \"scattergl\": [{\"marker\": {\"colorbar\": {\"outlinewidth\": 1, \"tickcolor\": \"rgb(36,36,36)\", \"ticks\": \"outside\"}}, \"type\": \"scattergl\"}], \"scattermapbox\": [{\"marker\": {\"colorbar\": {\"outlinewidth\": 1, \"tickcolor\": \"rgb(36,36,36)\", \"ticks\": \"outside\"}}, \"type\": \"scattermapbox\"}], \"scatterpolar\": [{\"marker\": {\"colorbar\": {\"outlinewidth\": 1, \"tickcolor\": \"rgb(36,36,36)\", \"ticks\": \"outside\"}}, \"type\": \"scatterpolar\"}], \"scatterpolargl\": [{\"marker\": {\"colorbar\": {\"outlinewidth\": 1, \"tickcolor\": \"rgb(36,36,36)\", \"ticks\": \"outside\"}}, \"type\": \"scatterpolargl\"}], \"scatterternary\": [{\"marker\": {\"colorbar\": {\"outlinewidth\": 1, \"tickcolor\": \"rgb(36,36,36)\", \"ticks\": \"outside\"}}, \"type\": \"scatterternary\"}], \"surface\": [{\"colorbar\": {\"outlinewidth\": 1, \"tickcolor\": \"rgb(36,36,36)\", \"ticks\": \"outside\"}, \"colorscale\": [[0.0, \"#440154\"], [0.1111111111111111, \"#482878\"], [0.2222222222222222, \"#3e4989\"], [0.3333333333333333, \"#31688e\"], [0.4444444444444444, \"#26828e\"], [0.5555555555555556, \"#1f9e89\"], [0.6666666666666666, \"#35b779\"], [0.7777777777777778, \"#6ece58\"], [0.8888888888888888, \"#b5de2b\"], [1.0, \"#fde725\"]], \"type\": \"surface\"}], \"table\": [{\"cells\": {\"fill\": {\"color\": \"rgb(237,237,237)\"}, \"line\": {\"color\": \"white\"}}, \"header\": {\"fill\": {\"color\": \"rgb(217,217,217)\"}, \"line\": {\"color\": \"white\"}}, \"type\": \"table\"}]}, \"layout\": {\"annotationdefaults\": {\"arrowhead\": 0, \"arrowwidth\": 1}, \"coloraxis\": {\"colorbar\": {\"outlinewidth\": 1, \"tickcolor\": \"rgb(36,36,36)\", \"ticks\": \"outside\"}}, \"colorscale\": {\"diverging\": [[0.0, \"rgb(103,0,31)\"], [0.1, \"rgb(178,24,43)\"], [0.2, \"rgb(214,96,77)\"], [0.3, \"rgb(244,165,130)\"], [0.4, \"rgb(253,219,199)\"], [0.5, \"rgb(247,247,247)\"], [0.6, \"rgb(209,229,240)\"], [0.7, \"rgb(146,197,222)\"], [0.8, \"rgb(67,147,195)\"], [0.9, \"rgb(33,102,172)\"], [1.0, \"rgb(5,48,97)\"]], \"sequential\": [[0.0, \"#440154\"], [0.1111111111111111, \"#482878\"], [0.2222222222222222, \"#3e4989\"], [0.3333333333333333, \"#31688e\"], [0.4444444444444444, \"#26828e\"], [0.5555555555555556, \"#1f9e89\"], [0.6666666666666666, \"#35b779\"], [0.7777777777777778, \"#6ece58\"], [0.8888888888888888, \"#b5de2b\"], [1.0, \"#fde725\"]], \"sequentialminus\": [[0.0, \"#440154\"], [0.1111111111111111, \"#482878\"], [0.2222222222222222, \"#3e4989\"], [0.3333333333333333, \"#31688e\"], [0.4444444444444444, \"#26828e\"], [0.5555555555555556, \"#1f9e89\"], [0.6666666666666666, \"#35b779\"], [0.7777777777777778, \"#6ece58\"], [0.8888888888888888, \"#b5de2b\"], [1.0, \"#fde725\"]]}, \"colorway\": [\"#1F77B4\", \"#FF7F0E\", \"#2CA02C\", \"#D62728\", \"#9467BD\", \"#8C564B\", \"#E377C2\", \"#7F7F7F\", \"#BCBD22\", \"#17BECF\"], \"font\": {\"color\": \"rgb(36,36,36)\"}, \"geo\": {\"bgcolor\": \"white\", \"lakecolor\": \"white\", \"landcolor\": \"white\", \"showlakes\": true, \"showland\": true, \"subunitcolor\": \"white\"}, \"hoverlabel\": {\"align\": \"left\"}, \"hovermode\": \"closest\", \"mapbox\": {\"style\": \"light\"}, \"paper_bgcolor\": \"white\", \"plot_bgcolor\": \"white\", \"polar\": {\"angularaxis\": {\"gridcolor\": \"rgb(232,232,232)\", \"linecolor\": \"rgb(36,36,36)\", \"showgrid\": false, \"showline\": true, \"ticks\": \"outside\"}, \"bgcolor\": \"white\", \"radialaxis\": {\"gridcolor\": \"rgb(232,232,232)\", \"linecolor\": \"rgb(36,36,36)\", \"showgrid\": false, \"showline\": true, \"ticks\": \"outside\"}}, \"scene\": {\"xaxis\": {\"backgroundcolor\": \"white\", \"gridcolor\": \"rgb(232,232,232)\", \"gridwidth\": 2, \"linecolor\": \"rgb(36,36,36)\", \"showbackground\": true, \"showgrid\": false, \"showline\": true, \"ticks\": \"outside\", \"zeroline\": false, \"zerolinecolor\": \"rgb(36,36,36)\"}, \"yaxis\": {\"backgroundcolor\": \"white\", \"gridcolor\": \"rgb(232,232,232)\", \"gridwidth\": 2, \"linecolor\": \"rgb(36,36,36)\", \"showbackground\": true, \"showgrid\": false, \"showline\": true, \"ticks\": \"outside\", \"zeroline\": false, \"zerolinecolor\": \"rgb(36,36,36)\"}, \"zaxis\": {\"backgroundcolor\": \"white\", \"gridcolor\": \"rgb(232,232,232)\", \"gridwidth\": 2, \"linecolor\": \"rgb(36,36,36)\", \"showbackground\": true, \"showgrid\": false, \"showline\": true, \"ticks\": \"outside\", \"zeroline\": false, \"zerolinecolor\": \"rgb(36,36,36)\"}}, \"shapedefaults\": {\"fillcolor\": \"black\", \"line\": {\"width\": 0}, \"opacity\": 0.3}, \"ternary\": {\"aaxis\": {\"gridcolor\": \"rgb(232,232,232)\", \"linecolor\": \"rgb(36,36,36)\", \"showgrid\": false, \"showline\": true, \"ticks\": \"outside\"}, \"baxis\": {\"gridcolor\": \"rgb(232,232,232)\", \"linecolor\": \"rgb(36,36,36)\", \"showgrid\": false, \"showline\": true, \"ticks\": \"outside\"}, \"bgcolor\": \"white\", \"caxis\": {\"gridcolor\": \"rgb(232,232,232)\", \"linecolor\": \"rgb(36,36,36)\", \"showgrid\": false, \"showline\": true, \"ticks\": \"outside\"}}, \"title\": {\"x\": 0.05}, \"xaxis\": {\"automargin\": true, \"gridcolor\": \"rgb(232,232,232)\", \"linecolor\": \"rgb(36,36,36)\", \"showgrid\": false, \"showline\": true, \"ticks\": \"outside\", \"title\": {\"standoff\": 15}, \"zeroline\": false, \"zerolinecolor\": \"rgb(36,36,36)\"}, \"yaxis\": {\"automargin\": true, \"gridcolor\": \"rgb(232,232,232)\", \"linecolor\": \"rgb(36,36,36)\", \"showgrid\": false, \"showline\": true, \"ticks\": \"outside\", \"title\": {\"standoff\": 15}, \"zeroline\": false, \"zerolinecolor\": \"rgb(36,36,36)\"}}}, \"title\": {\"font\": {\"size\": 22}, \"text\": \"structure 1 | pre\"}, \"width\": 600, \"xaxis\": {\"range\": [4, 13], \"showgrid\": false, \"visible\": false, \"zeroline\": true}, \"yaxis\": {\"range\": [-0.1, 1.05], \"showgrid\": false, \"tickfont\": {\"color\": \"black\", \"family\": \"Helvetica\", \"size\": 24}, \"title\": {\"font\": {\"color\": \"black\", \"family\": \"Helvetica\", \"size\": 24}, \"text\": \"F1 score\"}}},\n",
       "                        {\"responsive\": true}\n",
       "                    ).then(function(){\n",
       "                            \n",
       "var gd = document.getElementById('09e28af1-6f77-45e3-95c5-96806820e320');\n",
       "var x = new MutationObserver(function (mutations, observer) {{\n",
       "        var display = window.getComputedStyle(gd).display;\n",
       "        if (!display || display === 'none') {{\n",
       "            console.log([gd, 'removed!']);\n",
       "            Plotly.purge(gd);\n",
       "            observer.disconnect();\n",
       "        }}\n",
       "}});\n",
       "\n",
       "// Listen for the removal of the full notebook cells\n",
       "var notebookContainer = gd.closest('#notebook-container');\n",
       "if (notebookContainer) {{\n",
       "    x.observe(notebookContainer, {childList: true});\n",
       "}}\n",
       "\n",
       "// Listen for the clearing of the current output cell\n",
       "var outputEl = gd.closest('.output');\n",
       "if (outputEl) {{\n",
       "    x.observe(outputEl, {childList: true});\n",
       "}}\n",
       "\n",
       "                        })\n",
       "                };\n",
       "                });\n",
       "            </script>\n",
       "        </div>"
      ]
     },
     "metadata": {},
     "output_type": "display_data"
    },
    {
     "data": {
      "application/vnd.plotly.v1+json": {
       "config": {
        "plotlyServerURL": "https://plot.ly"
       },
       "data": [
        {
         "hoverinfo": "none",
         "line": {
          "color": "#2e2e2e",
          "width": 0.8
         },
         "mode": "lines",
         "opacity": 0.1,
         "type": "scatter",
         "x": [
          8.5,
          4.5
         ],
         "y": [
          0,
          0.13333333333333336
         ]
        },
        {
         "hoverinfo": "none",
         "line": {
          "color": "#2e2e2e",
          "width": 18.400000000000002
         },
         "mode": "lines",
         "opacity": 0.95,
         "type": "scatter",
         "x": [
          8.5,
          10.5
         ],
         "y": [
          0,
          0.14285714285714288
         ]
        },
        {
         "hoverinfo": "none",
         "line": {
          "color": "#2e2e2e",
          "width": 1.6
         },
         "mode": "lines",
         "opacity": 0.3,
         "type": "scatter",
         "x": [
          8.5,
          10.5
         ],
         "y": [
          0,
          0.2666666666666667
         ]
        },
        {
         "hoverinfo": "none",
         "line": {
          "color": "#2e2e2e",
          "width": 12
         },
         "mode": "lines",
         "opacity": 0.95,
         "type": "scatter",
         "x": [
          8.5,
          6.5
         ],
         "y": [
          0,
          0.2666666666666667
         ]
        },
        {
         "hoverinfo": "none",
         "line": {
          "color": "#2e2e2e",
          "width": 1.6
         },
         "mode": "lines",
         "opacity": 0.3,
         "type": "scatter",
         "x": [
          8.5,
          11.5
         ],
         "y": [
          0,
          0.07142857142857144
         ]
        },
        {
         "hoverinfo": "none",
         "line": {
          "color": "#2e2e2e",
          "width": 1.6
         },
         "mode": "lines",
         "opacity": 0.3,
         "type": "scatter",
         "x": [
          8.5,
          7.5
         ],
         "y": [
          0,
          0.14285714285714288
         ]
        },
        {
         "hoverinfo": "none",
         "line": {
          "color": "#2e2e2e",
          "width": 0.8
         },
         "mode": "lines",
         "opacity": 0.1,
         "type": "scatter",
         "x": [
          8.5,
          7.5
         ],
         "y": [
          0,
          0.07407407407407407
         ]
        },
        {
         "hoverinfo": "none",
         "line": {
          "color": "#2e2e2e",
          "width": 1.6
         },
         "mode": "lines",
         "opacity": 0.3,
         "type": "scatter",
         "x": [
          8.5,
          7.5
         ],
         "y": [
          0,
          0.2
         ]
        },
        {
         "hoverinfo": "none",
         "line": {
          "color": "#2e2e2e",
          "width": 0.8
         },
         "mode": "lines",
         "opacity": 0.1,
         "type": "scatter",
         "x": [
          8.5,
          7.5
         ],
         "y": [
          0,
          0.2666666666666667
         ]
        },
        {
         "hoverinfo": "none",
         "line": {
          "color": "#2e2e2e",
          "width": 0.8
         },
         "mode": "lines",
         "opacity": 0.1,
         "type": "scatter",
         "x": [
          4.5,
          4.5
         ],
         "y": [
          0.13333333333333336,
          0.2058823529411765
         ]
        },
        {
         "hoverinfo": "none",
         "line": {
          "color": "#2e2e2e",
          "width": 2.4000000000000004
         },
         "mode": "lines",
         "opacity": 0.5,
         "type": "scatter",
         "x": [
          9,
          7.833333333333333
         ],
         "y": [
          0.2666666666666667,
          0.375
         ]
        },
        {
         "hoverinfo": "none",
         "line": {
          "color": "#2e2e2e",
          "width": 0.8
         },
         "mode": "lines",
         "opacity": 0.1,
         "type": "scatter",
         "x": [
          9,
          8.4
         ],
         "y": [
          0.2666666666666667,
          0.3225806451612904
         ]
        },
        {
         "hoverinfo": "none",
         "line": {
          "color": "#2e2e2e",
          "width": 0.8
         },
         "mode": "lines",
         "opacity": 0.1,
         "type": "scatter",
         "x": [
          10.5,
          9.3
         ],
         "y": [
          0.2666666666666667,
          0.411764705882353
         ]
        },
        {
         "hoverinfo": "none",
         "line": {
          "color": "#2e2e2e",
          "width": 0.8
         },
         "mode": "lines",
         "opacity": 0.1,
         "type": "scatter",
         "x": [
          10.5,
          8.9
         ],
         "y": [
          0.2666666666666667,
          0.4705882352941176
         ]
        },
        {
         "hoverinfo": "none",
         "line": {
          "color": "#2e2e2e",
          "width": 9.600000000000001
         },
         "mode": "lines",
         "opacity": 0.95,
         "type": "scatter",
         "x": [
          6.5,
          7.833333333333333
         ],
         "y": [
          0.2666666666666667,
          0.375
         ]
        },
        {
         "hoverinfo": "none",
         "line": {
          "color": "#2e2e2e",
          "width": 0.8
         },
         "mode": "lines",
         "opacity": 0.1,
         "type": "scatter",
         "x": [
          6.5,
          6.3
         ],
         "y": [
          0.2666666666666667,
          0.3225806451612904
         ]
        },
        {
         "hoverinfo": "none",
         "line": {
          "color": "#2e2e2e",
          "width": 0.8
         },
         "mode": "lines",
         "opacity": 0.1,
         "type": "scatter",
         "x": [
          6.5,
          6.2
         ],
         "y": [
          0.2666666666666667,
          0.2903225806451613
         ]
        },
        {
         "hoverinfo": "none",
         "line": {
          "color": "#2e2e2e",
          "width": 0.8
         },
         "mode": "lines",
         "opacity": 0.1,
         "type": "scatter",
         "x": [
          6.5,
          6.7
         ],
         "y": [
          0.2666666666666667,
          0.3225806451612904
         ]
        },
        {
         "hoverinfo": "none",
         "line": {
          "color": "#2e2e2e",
          "width": 0.8
         },
         "mode": "lines",
         "opacity": 0.1,
         "type": "scatter",
         "x": [
          6.5,
          6.5
         ],
         "y": [
          0.2666666666666667,
          0.44117647058823534
         ]
        },
        {
         "hoverinfo": "none",
         "line": {
          "color": "#2e2e2e",
          "width": 0.8
         },
         "mode": "lines",
         "opacity": 0.1,
         "type": "scatter",
         "x": [
          6.125,
          5.7
         ],
         "y": [
          0.2,
          0.1935483870967742
         ]
        },
        {
         "hoverinfo": "none",
         "line": {
          "color": "#2e2e2e",
          "width": 0.8
         },
         "mode": "lines",
         "opacity": 0.1,
         "type": "scatter",
         "x": [
          7.5,
          7.3
         ],
         "y": [
          0.2,
          0.25806451612903225
         ]
        },
        {
         "hoverinfo": "none",
         "line": {
          "color": "#2e2e2e",
          "width": 0.8
         },
         "mode": "lines",
         "opacity": 0.1,
         "type": "scatter",
         "x": [
          7.5,
          9.9
         ],
         "y": [
          0.2,
          0.3529411764705882
         ]
        },
        {
         "hoverinfo": "none",
         "line": {
          "color": "#2e2e2e",
          "width": 0.8
         },
         "mode": "lines",
         "opacity": 0.1,
         "type": "scatter",
         "x": [
          11.5,
          9.1
         ],
         "y": [
          0.2,
          0.3529411764705882
         ]
        },
        {
         "hoverinfo": "none",
         "line": {
          "color": "#2e2e2e",
          "width": 0.8
         },
         "mode": "lines",
         "opacity": 0.1,
         "type": "scatter",
         "x": [
          7.5,
          7
         ],
         "y": [
          0.2666666666666667,
          0.375
         ]
        },
        {
         "hoverinfo": "none",
         "line": {
          "color": "#2e2e2e",
          "width": 0.8
         },
         "mode": "lines",
         "opacity": 0.1,
         "type": "scatter",
         "x": [
          4.5,
          5.071428571428571
         ],
         "y": [
          0.2058823529411765,
          0.25
         ]
        },
        {
         "hoverinfo": "none",
         "line": {
          "color": "#2e2e2e",
          "width": 0.8
         },
         "mode": "lines",
         "opacity": 0.1,
         "type": "scatter",
         "x": [
          7.3,
          7.083333333333333
         ],
         "y": [
          0.4705882352941176,
          0.5142857142857142
         ]
        },
        {
         "hoverinfo": "none",
         "line": {
          "color": "#2e2e2e",
          "width": 2.4000000000000004
         },
         "mode": "lines",
         "opacity": 0.5,
         "type": "scatter",
         "x": [
          7.3,
          9.166666666666666
         ],
         "y": [
          0.4705882352941176,
          0.631578947368421
         ]
        },
        {
         "hoverinfo": "none",
         "line": {
          "color": "#2e2e2e",
          "width": 0.8
         },
         "mode": "lines",
         "opacity": 0.1,
         "type": "scatter",
         "x": [
          7.3,
          7.333333333333333
         ],
         "y": [
          0.4705882352941176,
          0.5142857142857142
         ]
        },
        {
         "hoverinfo": "none",
         "line": {
          "color": "#2e2e2e",
          "width": 0.8
         },
         "mode": "lines",
         "opacity": 0.1,
         "type": "scatter",
         "x": [
          7.3,
          7.071428571428571
         ],
         "y": [
          0.4705882352941176,
          0.5555555555555556
         ]
        },
        {
         "hoverinfo": "none",
         "line": {
          "color": "#2e2e2e",
          "width": 0.8
         },
         "mode": "lines",
         "opacity": 0.1,
         "type": "scatter",
         "x": [
          9.3,
          8.5
         ],
         "y": [
          0.411764705882353,
          0.5789473684210527
         ]
        },
        {
         "hoverinfo": "none",
         "line": {
          "color": "#2e2e2e",
          "width": 0.8
         },
         "mode": "lines",
         "opacity": 0.1,
         "type": "scatter",
         "x": [
          7.6,
          9.416666666666666
         ],
         "y": [
          0.4705882352941176,
          0.631578947368421
         ]
        },
        {
         "hoverinfo": "none",
         "line": {
          "color": "#2e2e2e",
          "width": 0.8
         },
         "mode": "lines",
         "opacity": 0.1,
         "type": "scatter",
         "x": [
          5.454545454545454,
          5.384615384615385
         ],
         "y": [
          0.3235294117647059,
          0.3142857142857143
         ]
        },
        {
         "hoverinfo": "none",
         "line": {
          "color": "#2e2e2e",
          "width": 0.8
         },
         "mode": "lines",
         "opacity": 0.1,
         "type": "scatter",
         "x": [
          8.3,
          8.357142857142858
         ],
         "y": [
          0.3529411764705882,
          0.4444444444444444
         ]
        },
        {
         "hoverinfo": "none",
         "line": {
          "color": "#2e2e2e",
          "width": 0.8
         },
         "mode": "lines",
         "opacity": 0.1,
         "type": "scatter",
         "x": [
          9.1,
          9
         ],
         "y": [
          0.3529411764705882,
          0.4
         ]
        },
        {
         "hoverinfo": "none",
         "line": {
          "color": "#2e2e2e",
          "width": 1.6
         },
         "mode": "lines",
         "opacity": 0.3,
         "type": "scatter",
         "x": [
          7,
          8.916666666666666
         ],
         "y": [
          0.4705882352941176,
          0.631578947368421
         ]
        },
        {
         "hoverinfo": "none",
         "line": {
          "color": "#2e2e2e",
          "width": 0.8
         },
         "mode": "lines",
         "opacity": 0.1,
         "type": "scatter",
         "x": [
          7,
          7.142857142857143
         ],
         "y": [
          0.4705882352941176,
          0.5555555555555556
         ]
        },
        {
         "hoverinfo": "none",
         "line": {
          "color": "#2e2e2e",
          "width": 0.8
         },
         "mode": "lines",
         "opacity": 0.1,
         "type": "scatter",
         "x": [
          6.833333333333333,
          7.357142857142857
         ],
         "y": [
          0.4705882352941176,
          0.5555555555555556
         ]
        },
        {
         "hoverinfo": "none",
         "line": {
          "color": "#2e2e2e",
          "width": 0.8
         },
         "mode": "lines",
         "opacity": 0.1,
         "type": "scatter",
         "x": [
          8.9,
          8.5
         ],
         "y": [
          0.4705882352941176,
          0.631578947368421
         ]
        },
        {
         "hoverinfo": "none",
         "line": {
          "color": "#2e2e2e",
          "width": 0.8
         },
         "mode": "lines",
         "opacity": 0.1,
         "type": "scatter",
         "x": [
          9.9,
          10.181818181818182
         ],
         "y": [
          0.3529411764705882,
          0.3428571428571429
         ]
        },
        {
         "hoverinfo": "none",
         "line": {
          "color": "#2e2e2e",
          "width": 0.8
         },
         "mode": "lines",
         "opacity": 0.1,
         "type": "scatter",
         "x": [
          6.5,
          7.071428571428571
         ],
         "y": [
          0.44117647058823534,
          0.5277777777777778
         ]
        },
        {
         "hoverinfo": "none",
         "line": {
          "color": "#2e2e2e",
          "width": 0.8
         },
         "mode": "lines",
         "opacity": 0.1,
         "type": "scatter",
         "x": [
          10,
          9.357142857142858
         ],
         "y": [
          0.4705882352941176,
          0.5555555555555556
         ]
        },
        {
         "hoverinfo": "none",
         "line": {
          "color": "#2e2e2e",
          "width": 0.8
         },
         "mode": "lines",
         "opacity": 0.1,
         "type": "scatter",
         "x": [
          5.071428571428571,
          5.833333333333333
         ],
         "y": [
          0.25,
          0.34210526315789475
         ]
        },
        {
         "hoverinfo": "none",
         "line": {
          "color": "#2e2e2e",
          "width": 4.800000000000001
         },
         "mode": "lines",
         "opacity": 0.95,
         "type": "scatter",
         "x": [
          9.357142857142858,
          9.5
         ],
         "y": [
          0.5555555555555556,
          0.631578947368421
         ]
        },
        {
         "hoverinfo": "none",
         "line": {
          "color": "#2e2e2e",
          "width": 4.800000000000001
         },
         "mode": "lines",
         "opacity": 0.95,
         "type": "scatter",
         "x": [
          9.357142857142858,
          9.5
         ],
         "y": [
          0.5555555555555556,
          0.5945945945945945
         ]
        },
        {
         "hoverinfo": "none",
         "line": {
          "color": "#2e2e2e",
          "width": 2.4000000000000004
         },
         "mode": "lines",
         "opacity": 0.5,
         "type": "scatter",
         "x": [
          9.357142857142858,
          10.5
         ],
         "y": [
          0.5555555555555556,
          0.7000000000000001
         ]
        },
        {
         "hoverinfo": "none",
         "line": {
          "color": "#2e2e2e",
          "width": 2.4000000000000004
         },
         "mode": "lines",
         "opacity": 0.5,
         "type": "scatter",
         "x": [
          9.357142857142858,
          9.166666666666666
         ],
         "y": [
          0.5555555555555556,
          0.631578947368421
         ]
        },
        {
         "hoverinfo": "none",
         "line": {
          "color": "#2e2e2e",
          "width": 1.6
         },
         "mode": "lines",
         "opacity": 0.3,
         "type": "scatter",
         "x": [
          7.142857142857143,
          6.916666666666667
         ],
         "y": [
          0.5555555555555556,
          0.631578947368421
         ]
        },
        {
         "hoverinfo": "none",
         "line": {
          "color": "#2e2e2e",
          "width": 0.8
         },
         "mode": "lines",
         "opacity": 0.1,
         "type": "scatter",
         "x": [
          7.142857142857143,
          7.583333333333333
         ],
         "y": [
          0.5555555555555556,
          0.631578947368421
         ]
        },
        {
         "hoverinfo": "none",
         "line": {
          "color": "#2e2e2e",
          "width": 0.8
         },
         "mode": "lines",
         "opacity": 0.1,
         "type": "scatter",
         "x": [
          7.142857142857143,
          8.625
         ],
         "y": [
          0.5555555555555556,
          0.7000000000000001
         ]
        },
        {
         "hoverinfo": "none",
         "line": {
          "color": "#2e2e2e",
          "width": 0.8
         },
         "mode": "lines",
         "opacity": 0.1,
         "type": "scatter",
         "x": [
          5.466666666666667,
          5.2
         ],
         "y": [
          0.33333333333333337,
          0.42105263157894735
         ]
        },
        {
         "hoverinfo": "none",
         "line": {
          "color": "#2e2e2e",
          "width": 0.8
         },
         "mode": "lines",
         "opacity": 0.1,
         "type": "scatter",
         "x": [
          8.357142857142858,
          10
         ],
         "y": [
          0.4444444444444444,
          0.55
         ]
        },
        {
         "hoverinfo": "none",
         "line": {
          "color": "#2e2e2e",
          "width": 0.8
         },
         "mode": "lines",
         "opacity": 0.1,
         "type": "scatter",
         "x": [
          9,
          10
         ],
         "y": [
          0.3888888888888889,
          0.4736842105263157
         ]
        },
        {
         "hoverinfo": "none",
         "line": {
          "color": "#2e2e2e",
          "width": 0.8
         },
         "mode": "lines",
         "opacity": 0.1,
         "type": "scatter",
         "x": [
          7.071428571428571,
          8.5
         ],
         "y": [
          0.5277777777777778,
          0.6749999999999999
         ]
        },
        {
         "hoverinfo": "none",
         "line": {
          "color": "#2e2e2e",
          "width": 0.8
         },
         "mode": "lines",
         "opacity": 0.1,
         "type": "scatter",
         "x": [
          7.071428571428571,
          7.833333333333333
         ],
         "y": [
          0.5277777777777778,
          0.6052631578947368
         ]
        },
        {
         "hoverinfo": "none",
         "line": {
          "color": "#2e2e2e",
          "width": 0.8
         },
         "mode": "lines",
         "opacity": 0.1,
         "type": "scatter",
         "x": [
          7.357142857142857,
          9
         ],
         "y": [
          0.5555555555555556,
          0.7000000000000001
         ]
        },
        {
         "hoverinfo": "none",
         "line": {
          "color": "#2e2e2e",
          "width": 0.8
         },
         "mode": "lines",
         "opacity": 0.1,
         "type": "scatter",
         "x": [
          7.642857142857143,
          8.833333333333334
         ],
         "y": [
          0.5555555555555556,
          0.631578947368421
         ]
        },
        {
         "hoverinfo": "none",
         "line": {
          "color": "#2e2e2e",
          "width": 0.8
         },
         "mode": "lines",
         "opacity": 0.1,
         "type": "scatter",
         "x": [
          8.785714285714286,
          8.9
         ],
         "y": [
          0.5555555555555556,
          0.5945945945945945
         ]
        },
        {
         "hoverinfo": "none",
         "line": {
          "color": "#2e2e2e",
          "width": 0.8
         },
         "mode": "lines",
         "opacity": 0.1,
         "type": "scatter",
         "x": [
          7.071428571428571,
          7.833333333333333
         ],
         "y": [
          0.5555555555555556,
          0.631578947368421
         ]
        },
        {
         "hoverinfo": "none",
         "line": {
          "color": "#2e2e2e",
          "width": 0.8
         },
         "mode": "lines",
         "opacity": 0.1,
         "type": "scatter",
         "x": [
          5.833333333333333,
          5.642857142857143
         ],
         "y": [
          0.34210526315789475,
          0.38095238095238104
         ]
        },
        {
         "hoverinfo": "none",
         "line": {
          "color": "#2e2e2e",
          "width": 4.800000000000001
         },
         "mode": "lines",
         "opacity": 0.95,
         "type": "scatter",
         "x": [
          9.5,
          9
         ],
         "y": [
          0.631578947368421,
          0.6666666666666666
         ]
        },
        {
         "hoverinfo": "none",
         "line": {
          "color": "#2e2e2e",
          "width": 0.8
         },
         "mode": "lines",
         "opacity": 0.1,
         "type": "scatter",
         "x": [
          8.5,
          9
         ],
         "y": [
          0.5789473684210527,
          0.65
         ]
        },
        {
         "hoverinfo": "none",
         "line": {
          "color": "#2e2e2e",
          "width": 0.8
         },
         "mode": "lines",
         "opacity": 0.1,
         "type": "scatter",
         "x": [
          9.416666666666666,
          9.285714285714286
         ],
         "y": [
          0.631578947368421,
          0.6666666666666666
         ]
        },
        {
         "hoverinfo": "none",
         "line": {
          "color": "#2e2e2e",
          "width": 0.8
         },
         "mode": "lines",
         "opacity": 0.1,
         "type": "scatter",
         "x": [
          8.916666666666666,
          8.25
         ],
         "y": [
          0.631578947368421,
          0.7619047619047621
         ]
        },
        {
         "hoverinfo": "none",
         "line": {
          "color": "#2e2e2e",
          "width": 2.4000000000000004
         },
         "mode": "lines",
         "opacity": 0.5,
         "type": "scatter",
         "x": [
          8.916666666666666,
          8.625
         ],
         "y": [
          0.631578947368421,
          0.7000000000000001
         ]
        },
        {
         "hoverinfo": "none",
         "line": {
          "color": "#2e2e2e",
          "width": 2.4000000000000004
         },
         "mode": "lines",
         "opacity": 0.5,
         "type": "scatter",
         "x": [
          9.166666666666666,
          8.5
         ],
         "y": [
          0.631578947368421,
          0.7000000000000001
         ]
        },
        {
         "hoverinfo": "none",
         "line": {
          "color": "#2e2e2e",
          "width": 0.8
         },
         "mode": "lines",
         "opacity": 0.1,
         "type": "scatter",
         "x": [
          9.166666666666666,
          8.928571428571429
         ],
         "y": [
          0.631578947368421,
          0.6666666666666666
         ]
        },
        {
         "hoverinfo": "none",
         "line": {
          "color": "#2e2e2e",
          "width": 0.8
         },
         "mode": "lines",
         "opacity": 0.1,
         "type": "scatter",
         "x": [
          9.166666666666666,
          7.833333333333333
         ],
         "y": [
          0.631578947368421,
          0.7142857142857143
         ]
        },
        {
         "hoverinfo": "none",
         "line": {
          "color": "#2e2e2e",
          "width": 0.8
         },
         "mode": "lines",
         "opacity": 0.1,
         "type": "scatter",
         "x": [
          6.916666666666667,
          7
         ],
         "y": [
          0.631578947368421,
          0.6666666666666666
         ]
        },
        {
         "hoverinfo": "none",
         "line": {
          "color": "#2e2e2e",
          "width": 0.8
         },
         "mode": "lines",
         "opacity": 0.1,
         "type": "scatter",
         "x": [
          6.916666666666667,
          8.25
         ],
         "y": [
          0.631578947368421,
          0.7619047619047621
         ]
        },
        {
         "hoverinfo": "none",
         "line": {
          "color": "#2e2e2e",
          "width": 0.8
         },
         "mode": "lines",
         "opacity": 0.1,
         "type": "scatter",
         "x": [
          5.2,
          6.444444444444445
         ],
         "y": [
          0.42105263157894735,
          0.5
         ]
        },
        {
         "hoverinfo": "none",
         "line": {
          "color": "#2e2e2e",
          "width": 0.8
         },
         "mode": "lines",
         "opacity": 0.1,
         "type": "scatter",
         "x": [
          9.3,
          8.833333333333334
         ],
         "y": [
          0.5526315789473685,
          0.5897435897435898
         ]
        },
        {
         "hoverinfo": "none",
         "line": {
          "color": "#2e2e2e",
          "width": 0.8
         },
         "mode": "lines",
         "opacity": 0.1,
         "type": "scatter",
         "x": [
          10,
          9.9
         ],
         "y": [
          0.4736842105263157,
          0.5128205128205128
         ]
        },
        {
         "hoverinfo": "none",
         "line": {
          "color": "#2e2e2e",
          "width": 0.8
         },
         "mode": "lines",
         "opacity": 0.1,
         "type": "scatter",
         "x": [
          8.5,
          8.5
         ],
         "y": [
          0.631578947368421,
          0.7619047619047621
         ]
        },
        {
         "hoverinfo": "none",
         "line": {
          "color": "#2e2e2e",
          "width": 0.8
         },
         "mode": "lines",
         "opacity": 0.1,
         "type": "scatter",
         "x": [
          7.583333333333333,
          7.6
         ],
         "y": [
          0.631578947368421,
          0.7000000000000001
         ]
        },
        {
         "hoverinfo": "none",
         "line": {
          "color": "#2e2e2e",
          "width": 0.8
         },
         "mode": "lines",
         "opacity": 0.1,
         "type": "scatter",
         "x": [
          8.25,
          8
         ],
         "y": [
          0.6052631578947368,
          0.6410256410256411
         ]
        },
        {
         "hoverinfo": "none",
         "line": {
          "color": "#2e2e2e",
          "width": 2.4000000000000004
         },
         "mode": "lines",
         "opacity": 0.5,
         "type": "scatter",
         "x": [
          9.166666666666666,
          9
         ],
         "y": [
          0.631578947368421,
          0.6666666666666666
         ]
        },
        {
         "hoverinfo": "none",
         "line": {
          "color": "#2e2e2e",
          "width": 0.8
         },
         "mode": "lines",
         "opacity": 0.1,
         "type": "scatter",
         "x": [
          7.833333333333333,
          8.5
         ],
         "y": [
          0.6052631578947368,
          0.6749999999999999
         ]
        },
        {
         "hoverinfo": "none",
         "line": {
          "color": "#2e2e2e",
          "width": 0.8
         },
         "mode": "lines",
         "opacity": 0.1,
         "type": "scatter",
         "x": [
          7.833333333333333,
          8.785714285714286
         ],
         "y": [
          0.631578947368421,
          0.7619047619047621
         ]
        },
        {
         "hoverinfo": "none",
         "line": {
          "color": "#2e2e2e",
          "width": 0.8
         },
         "mode": "lines",
         "opacity": 0.1,
         "type": "scatter",
         "x": [
          5.642857142857143,
          6
         ],
         "y": [
          0.38095238095238104,
          0.4347826086956522
         ]
        },
        {
         "hoverinfo": "none",
         "line": {
          "color": "#2e2e2e",
          "width": 0.8
         },
         "mode": "lines",
         "opacity": 0.1,
         "type": "scatter",
         "x": [
          8.8,
          8.823529411764707
         ],
         "y": [
          0.7619047619047621,
          0.7906976744186047
         ]
        },
        {
         "hoverinfo": "none",
         "line": {
          "color": "#2e2e2e",
          "width": 0.8
         },
         "mode": "lines",
         "opacity": 0.1,
         "type": "scatter",
         "x": [
          8.25,
          8.0625
         ],
         "y": [
          0.7619047619047621,
          0.8181818181818181
         ]
        },
        {
         "hoverinfo": "none",
         "line": {
          "color": "#2e2e2e",
          "width": 1.6
         },
         "mode": "lines",
         "opacity": 0.3,
         "type": "scatter",
         "x": [
          8.25,
          9.23076923076923
         ],
         "y": [
          0.7619047619047621,
          0.8695652173913044
         ]
        },
        {
         "hoverinfo": "none",
         "line": {
          "color": "#2e2e2e",
          "width": 0.8
         },
         "mode": "lines",
         "opacity": 0.1,
         "type": "scatter",
         "x": [
          7.833333333333333,
          8.5
         ],
         "y": [
          0.7142857142857143,
          0.8260869565217392
         ]
        },
        {
         "hoverinfo": "none",
         "line": {
          "color": "#2e2e2e",
          "width": 0.8
         },
         "mode": "lines",
         "opacity": 0.1,
         "type": "scatter",
         "x": [
          7.6923076923076925,
          8.25
         ],
         "y": [
          0.5714285714285714,
          0.6956521739130435
         ]
        },
        {
         "hoverinfo": "none",
         "line": {
          "color": "#2e2e2e",
          "width": 0.8
         },
         "mode": "lines",
         "opacity": 0.1,
         "type": "scatter",
         "x": [
          8.583333333333334,
          9
         ],
         "y": [
          0.7619047619047621,
          0.7906976744186047
         ]
        },
        {
         "hoverinfo": "none",
         "line": {
          "color": "#2e2e2e",
          "width": 0.8
         },
         "mode": "lines",
         "opacity": 0.1,
         "type": "scatter",
         "x": [
          10.5,
          9.5
         ],
         "y": [
          0.7619047619047621,
          0.8181818181818181
         ]
        },
        {
         "hoverinfo": "none",
         "line": {
          "color": "#2e2e2e",
          "width": 0.8
         },
         "mode": "lines",
         "opacity": 0.1,
         "type": "scatter",
         "x": [
          7.833333333333333,
          9.166666666666666
         ],
         "y": [
          0.7142857142857143,
          0.8260869565217392
         ]
        },
        {
         "hoverinfo": "none",
         "line": {
          "color": "#2e2e2e",
          "width": 0.8
         },
         "mode": "lines",
         "opacity": 0.1,
         "type": "scatter",
         "x": [
          8.5,
          8.8125
         ],
         "y": [
          0.7619047619047621,
          0.7906976744186047
         ]
        },
        {
         "hoverinfo": "none",
         "line": {
          "color": "#2e2e2e",
          "width": 0.8
         },
         "mode": "lines",
         "opacity": 0.1,
         "type": "scatter",
         "x": [
          8.142857142857142,
          8
         ],
         "y": [
          0.7619047619047621,
          0.8181818181818181
         ]
        },
        {
         "hoverinfo": "none",
         "line": {
          "color": "#2e2e2e",
          "width": 0.8
         },
         "mode": "lines",
         "opacity": 0.1,
         "type": "scatter",
         "x": [
          8.214285714285714,
          7.9375
         ],
         "y": [
          0.7380952380952379,
          0.7441860465116279
         ]
        },
        {
         "hoverinfo": "none",
         "line": {
          "color": "#2e2e2e",
          "width": 0.8
         },
         "mode": "lines",
         "opacity": 0.1,
         "type": "scatter",
         "x": [
          8.785714285714286,
          9.166666666666666
         ],
         "y": [
          0.7619047619047621,
          0.8695652173913044
         ]
        },
        {
         "hoverinfo": "none",
         "line": {
          "color": "#2e2e2e",
          "width": 0.8
         },
         "mode": "lines",
         "opacity": 0.1,
         "type": "scatter",
         "x": [
          6,
          6.5
         ],
         "y": [
          0.4347826086956522,
          0.4999999999999999
         ]
        },
        {
         "hoverinfo": "none",
         "line": {
          "color": "#2e2e2e",
          "width": 0.8
         },
         "mode": "lines",
         "opacity": 0.1,
         "type": "scatter",
         "x": [
          9.785714285714286,
          9.75
         ],
         "y": [
          0.8695652173913044,
          0.8936170212765957
         ]
        },
        {
         "hoverinfo": "none",
         "line": {
          "color": "#2e2e2e",
          "width": 2.4000000000000004
         },
         "mode": "lines",
         "opacity": 0.5,
         "type": "scatter",
         "x": [
          9.23076923076923,
          8.928571428571429
         ],
         "y": [
          0.8695652173913044,
          0.96
         ]
        },
        {
         "hoverinfo": "none",
         "line": {
          "color": "#2e2e2e",
          "width": 0.8
         },
         "mode": "lines",
         "opacity": 0.1,
         "type": "scatter",
         "x": [
          9.23076923076923,
          9
         ],
         "y": [
          0.8695652173913044,
          0.8936170212765957
         ]
        },
        {
         "hoverinfo": "none",
         "line": {
          "color": "#2e2e2e",
          "width": 0.8
         },
         "mode": "lines",
         "opacity": 0.1,
         "type": "scatter",
         "x": [
          9.23076923076923,
          10.071428571428571
         ],
         "y": [
          0.8695652173913044,
          0.96
         ]
        },
        {
         "hoverinfo": "none",
         "line": {
          "color": "#2e2e2e",
          "width": 1.6
         },
         "mode": "lines",
         "opacity": 0.3,
         "type": "scatter",
         "x": [
          8.5,
          9
         ],
         "y": [
          0.8260869565217392,
          0.8510638297872339
         ]
        },
        {
         "hoverinfo": "none",
         "line": {
          "color": "#2e2e2e",
          "width": 1.6
         },
         "mode": "lines",
         "opacity": 0.3,
         "type": "scatter",
         "x": [
          9.214285714285714,
          9.25
         ],
         "y": [
          0.8695652173913044,
          0.8936170212765957
         ]
        },
        {
         "hoverinfo": "none",
         "line": {
          "color": "#2e2e2e",
          "width": 0.8
         },
         "mode": "lines",
         "opacity": 0.1,
         "type": "scatter",
         "x": [
          8.25,
          8.333333333333334
         ],
         "y": [
          0.6956521739130435,
          0.7500000000000001
         ]
        },
        {
         "hoverinfo": "none",
         "line": {
          "color": "#2e2e2e",
          "width": 0.8
         },
         "mode": "lines",
         "opacity": 0.1,
         "type": "scatter",
         "x": [
          6.333333333333333,
          7.5
         ],
         "y": [
          0.6956521739130435,
          0.8
         ]
        },
        {
         "hoverinfo": "none",
         "line": {
          "color": "#2e2e2e",
          "width": 0.8
         },
         "mode": "lines",
         "opacity": 0.1,
         "type": "scatter",
         "x": [
          9.5,
          8.833333333333334
         ],
         "y": [
          0.7173913043478259,
          0.7234042553191489
         ]
        },
        {
         "hoverinfo": "none",
         "line": {
          "color": "#2e2e2e",
          "width": 0.8
         },
         "mode": "lines",
         "opacity": 0.1,
         "type": "scatter",
         "x": [
          9.571428571428571,
          9.8125
         ],
         "y": [
          0.8695652173913044,
          0.8936170212765957
         ]
        },
        {
         "hoverinfo": "none",
         "line": {
          "color": "#2e2e2e",
          "width": 0.8
         },
         "mode": "lines",
         "opacity": 0.1,
         "type": "scatter",
         "x": [
          9.166666666666666,
          8.5
         ],
         "y": [
          0.8260869565217392,
          0.8333333333333333
         ]
        },
        {
         "hoverinfo": "none",
         "line": {
          "color": "#2e2e2e",
          "width": 0.8
         },
         "mode": "lines",
         "opacity": 0.1,
         "type": "scatter",
         "x": [
          9.5,
          10
         ],
         "y": [
          0.6956521739130435,
          0.6808510638297872
         ]
        },
        {
         "hoverinfo": "none",
         "line": {
          "color": "#2e2e2e",
          "width": 0.8
         },
         "mode": "lines",
         "opacity": 0.1,
         "type": "scatter",
         "x": [
          9.166666666666666,
          8.75
         ],
         "y": [
          0.8695652173913044,
          0.875
         ]
        },
        {
         "hoverinfo": "none",
         "line": {
          "color": "#2e2e2e",
          "width": 0.8
         },
         "mode": "lines",
         "opacity": 0.1,
         "type": "scatter",
         "x": [
          9.5,
          9.214285714285714
         ],
         "y": [
          0.9166666666666666,
          0.9387755102040816
         ]
        },
        {
         "hoverinfo": "none",
         "line": {
          "color": "#2e2e2e",
          "width": 0.8
         },
         "mode": "lines",
         "opacity": 0.1,
         "type": "scatter",
         "x": [
          9.222222222222221,
          9
         ],
         "y": [
          0.8333333333333333,
          0.836734693877551
         ]
        },
        {
         "hoverinfo": "none",
         "line": {
          "color": "#2e2e2e",
          "width": 2.4000000000000004
         },
         "mode": "lines",
         "opacity": 0.5,
         "type": "scatter",
         "x": [
          8.7,
          9.5
         ],
         "y": [
          0.9166666666666666,
          1
         ]
        },
        {
         "hoverinfo": "none",
         "line": {
          "color": "#2e2e2e",
          "width": 1.6
         },
         "mode": "lines",
         "opacity": 0.3,
         "type": "scatter",
         "x": [
          9.1,
          9.5
         ],
         "y": [
          0.9166666666666666,
          0.9387755102040816
         ]
        },
        {
         "hoverinfo": "none",
         "line": {
          "color": "#2e2e2e",
          "width": 0.8
         },
         "mode": "lines",
         "opacity": 0.1,
         "type": "scatter",
         "x": [
          10.5,
          10.153846153846153
         ],
         "y": [
          0.8958333333333334,
          0.8979591836734695
         ]
        },
        {
         "hoverinfo": "none",
         "line": {
          "color": "#2e2e2e",
          "width": 0.8
         },
         "mode": "lines",
         "opacity": 0.1,
         "type": "scatter",
         "x": [
          11.5,
          11.5
         ],
         "y": [
          0.7083333333333333,
          0.68
         ]
        },
        {
         "hoverinfo": "none",
         "line": {
          "color": "#2e2e2e",
          "width": 0.8
         },
         "mode": "lines",
         "opacity": 0.1,
         "type": "scatter",
         "x": [
          9.5,
          9.5
         ],
         "y": [
          0.7083333333333333,
          0.6938775510204079
         ]
        },
        {
         "hoverinfo": "none",
         "line": {
          "color": "#2e2e2e",
          "width": 0.8
         },
         "mode": "lines",
         "opacity": 0.1,
         "type": "scatter",
         "x": [
          9.75,
          9.857142857142858
         ],
         "y": [
          0.9166666666666666,
          0.9387755102040816
         ]
        },
        {
         "hoverinfo": "none",
         "line": {
          "color": "#2e2e2e",
          "width": 0.8
         },
         "mode": "lines",
         "opacity": 0.1,
         "type": "scatter",
         "x": [
          10.5,
          10.071428571428571
         ],
         "y": [
          0.9166666666666666,
          0.96
         ]
        },
        {
         "hoverinfo": "none",
         "line": {
          "color": "#2e2e2e",
          "width": 0.8
         },
         "mode": "lines",
         "opacity": 0.1,
         "type": "scatter",
         "x": [
          10,
          10
         ],
         "y": [
          0.7083333333333333,
          0.7346938775510203
         ]
        },
        {
         "hoverinfo": "none",
         "line": {
          "color": "#2e2e2e",
          "width": 0.8
         },
         "mode": "lines",
         "opacity": 0.1,
         "type": "scatter",
         "x": [
          8.75,
          8.5
         ],
         "y": [
          0.875,
          0.8775510204081632
         ]
        },
        {
         "hoverinfo": "none",
         "line": {
          "color": "#2e2e2e",
          "width": 3.2
         },
         "mode": "lines",
         "opacity": 0.7,
         "type": "scatter",
         "x": [
          10.5,
          9
         ],
         "y": [
          0.14285714285714288,
          0.2666666666666667
         ]
        },
        {
         "hoverinfo": "none",
         "line": {
          "color": "#2e2e2e",
          "width": 5.6000000000000005
         },
         "mode": "lines",
         "opacity": 0.95,
         "type": "scatter",
         "x": [
          10.5,
          10.5
         ],
         "y": [
          0.14285714285714288,
          0.375
         ]
        },
        {
         "hoverinfo": "none",
         "line": {
          "color": "#2e2e2e",
          "width": 9.600000000000001
         },
         "mode": "lines",
         "opacity": 0.95,
         "type": "scatter",
         "x": [
          10.5,
          7.833333333333333
         ],
         "y": [
          0.14285714285714288,
          0.375
         ]
        },
        {
         "hoverinfo": "none",
         "line": {
          "color": "#2e2e2e",
          "width": 0.8
         },
         "mode": "lines",
         "opacity": 0.1,
         "type": "scatter",
         "x": [
          11.5,
          8.166666666666666
         ],
         "y": [
          0.07142857142857144,
          0.3125
         ]
        },
        {
         "hoverinfo": "none",
         "line": {
          "color": "#2e2e2e",
          "width": 0.8
         },
         "mode": "lines",
         "opacity": 0.1,
         "type": "scatter",
         "x": [
          11.5,
          11.5
         ],
         "y": [
          0.07142857142857144,
          0.2
         ]
        },
        {
         "hoverinfo": "none",
         "line": {
          "color": "#2e2e2e",
          "width": 0.8
         },
         "mode": "lines",
         "opacity": 0.1,
         "type": "scatter",
         "x": [
          7.5,
          6.5
         ],
         "y": [
          0.14285714285714288,
          0.2666666666666667
         ]
        },
        {
         "hoverinfo": "none",
         "line": {
          "color": "#2e2e2e",
          "width": 0.8
         },
         "mode": "lines",
         "opacity": 0.1,
         "type": "scatter",
         "x": [
          7.5,
          7
         ],
         "y": [
          0.14285714285714288,
          0.20689655172413796
         ]
        },
        {
         "hoverinfo": "none",
         "line": {
          "color": "#2e2e2e",
          "width": 0.8
         },
         "mode": "lines",
         "opacity": 0.1,
         "type": "scatter",
         "x": [
          6.5,
          6.833333333333333
         ],
         "y": [
          0.14285714285714288,
          0.20689655172413796
         ]
        },
        {
         "hoverinfo": "none",
         "line": {
          "color": "#2e2e2e",
          "width": 9.600000000000001
         },
         "mode": "lines",
         "opacity": 0.95,
         "type": "scatter",
         "x": [
          7.833333333333333,
          7.25
         ],
         "y": [
          0.375,
          0.42424242424242425
         ]
        },
        {
         "hoverinfo": "none",
         "line": {
          "color": "#2e2e2e",
          "width": 0.8
         },
         "mode": "lines",
         "opacity": 0.1,
         "type": "scatter",
         "x": [
          7.833333333333333,
          7.5
         ],
         "y": [
          0.375,
          0.42424242424242425
         ]
        },
        {
         "hoverinfo": "none",
         "line": {
          "color": "#2e2e2e",
          "width": 8.8
         },
         "mode": "lines",
         "opacity": 0.95,
         "type": "scatter",
         "x": [
          7.833333333333333,
          9.357142857142858
         ],
         "y": [
          0.375,
          0.5555555555555556
         ]
        },
        {
         "hoverinfo": "none",
         "line": {
          "color": "#2e2e2e",
          "width": 0.8
         },
         "mode": "lines",
         "opacity": 0.1,
         "type": "scatter",
         "x": [
          7.833333333333333,
          7.285714285714286
         ],
         "y": [
          0.375,
          0.3636363636363637
         ]
        },
        {
         "hoverinfo": "none",
         "line": {
          "color": "#2e2e2e",
          "width": 0.8
         },
         "mode": "lines",
         "opacity": 0.1,
         "type": "scatter",
         "x": [
          7.833333333333333,
          7.071428571428571
         ],
         "y": [
          0.375,
          0.5277777777777778
         ]
        },
        {
         "hoverinfo": "none",
         "line": {
          "color": "#2e2e2e",
          "width": 0.8
         },
         "mode": "lines",
         "opacity": 0.1,
         "type": "scatter",
         "x": [
          7.833333333333333,
          7.642857142857143
         ],
         "y": [
          0.375,
          0.5555555555555556
         ]
        },
        {
         "hoverinfo": "none",
         "line": {
          "color": "#2e2e2e",
          "width": 0.8
         },
         "mode": "lines",
         "opacity": 0.1,
         "type": "scatter",
         "x": [
          7.833333333333333,
          8.785714285714286
         ],
         "y": [
          0.375,
          0.5555555555555556
         ]
        },
        {
         "hoverinfo": "none",
         "line": {
          "color": "#2e2e2e",
          "width": 4.800000000000001
         },
         "mode": "lines",
         "opacity": 0.95,
         "type": "scatter",
         "x": [
          10.5,
          9.357142857142858
         ],
         "y": [
          0.375,
          0.5555555555555556
         ]
        },
        {
         "hoverinfo": "none",
         "line": {
          "color": "#2e2e2e",
          "width": 0.8
         },
         "mode": "lines",
         "opacity": 0.1,
         "type": "scatter",
         "x": [
          10.5,
          10
         ],
         "y": [
          0.375,
          0.4705882352941176
         ]
        },
        {
         "hoverinfo": "none",
         "line": {
          "color": "#2e2e2e",
          "width": 1.6
         },
         "mode": "lines",
         "opacity": 0.3,
         "type": "scatter",
         "x": [
          6.5,
          7.3
         ],
         "y": [
          0.375,
          0.4705882352941176
         ]
        },
        {
         "hoverinfo": "none",
         "line": {
          "color": "#2e2e2e",
          "width": 0.8
         },
         "mode": "lines",
         "opacity": 0.1,
         "type": "scatter",
         "x": [
          8.166666666666666,
          8.428571428571429
         ],
         "y": [
          0.3125,
          0.3636363636363637
         ]
        },
        {
         "hoverinfo": "none",
         "line": {
          "color": "#2e2e2e",
          "width": 0.8
         },
         "mode": "lines",
         "opacity": 0.1,
         "type": "scatter",
         "x": [
          5.428571428571429,
          5.444444444444445
         ],
         "y": [
          0.25,
          0.30303030303030304
         ]
        },
        {
         "hoverinfo": "none",
         "line": {
          "color": "#2e2e2e",
          "width": 0.8
         },
         "mode": "lines",
         "opacity": 0.1,
         "type": "scatter",
         "x": [
          7.5,
          7.888888888888889
         ],
         "y": [
          0.3125,
          0.3636363636363637
         ]
        },
        {
         "hoverinfo": "none",
         "line": {
          "color": "#2e2e2e",
          "width": 0.8
         },
         "mode": "lines",
         "opacity": 0.1,
         "type": "scatter",
         "x": [
          7,
          7.1
         ],
         "y": [
          0.375,
          0.42424242424242425
         ]
        },
        {
         "hoverinfo": "none",
         "line": {
          "color": "#2e2e2e",
          "width": 3.2
         },
         "mode": "lines",
         "opacity": 0.7,
         "type": "scatter",
         "x": [
          7.25,
          7.3
         ],
         "y": [
          0.42424242424242425,
          0.4705882352941176
         ]
        },
        {
         "hoverinfo": "none",
         "line": {
          "color": "#2e2e2e",
          "width": 2.4000000000000004
         },
         "mode": "lines",
         "opacity": 0.5,
         "type": "scatter",
         "x": [
          7.25,
          9.5
         ],
         "y": [
          0.42424242424242425,
          0.5945945945945945
         ]
        },
        {
         "hoverinfo": "none",
         "line": {
          "color": "#2e2e2e",
          "width": 2.4000000000000004
         },
         "mode": "lines",
         "opacity": 0.5,
         "type": "scatter",
         "x": [
          7.25,
          7
         ],
         "y": [
          0.42424242424242425,
          0.4705882352941176
         ]
        },
        {
         "hoverinfo": "none",
         "line": {
          "color": "#2e2e2e",
          "width": 1.6
         },
         "mode": "lines",
         "opacity": 0.3,
         "type": "scatter",
         "x": [
          7.25,
          7.333333333333333
         ],
         "y": [
          0.42424242424242425,
          0.5142857142857142
         ]
        },
        {
         "hoverinfo": "none",
         "line": {
          "color": "#2e2e2e",
          "width": 0.8
         },
         "mode": "lines",
         "opacity": 0.1,
         "type": "scatter",
         "x": [
          7.5,
          7.6
         ],
         "y": [
          0.42424242424242425,
          0.4705882352941176
         ]
        },
        {
         "hoverinfo": "none",
         "line": {
          "color": "#2e2e2e",
          "width": 0.8
         },
         "mode": "lines",
         "opacity": 0.1,
         "type": "scatter",
         "x": [
          8.428571428571429,
          11.5
         ],
         "y": [
          0.3636363636363637,
          0.4864864864864865
         ]
        },
        {
         "hoverinfo": "none",
         "line": {
          "color": "#2e2e2e",
          "width": 0.8
         },
         "mode": "lines",
         "opacity": 0.1,
         "type": "scatter",
         "x": [
          7.125,
          9.4
         ],
         "y": [
          0.3939393939393939,
          0.5675675675675677
         ]
        },
        {
         "hoverinfo": "none",
         "line": {
          "color": "#2e2e2e",
          "width": 0.8
         },
         "mode": "lines",
         "opacity": 0.1,
         "type": "scatter",
         "x": [
          5.444444444444445,
          5.454545454545454
         ],
         "y": [
          0.30303030303030304,
          0.3235294117647059
         ]
        },
        {
         "hoverinfo": "none",
         "line": {
          "color": "#2e2e2e",
          "width": 0.8
         },
         "mode": "lines",
         "opacity": 0.1,
         "type": "scatter",
         "x": [
          7.285714285714286,
          10.5
         ],
         "y": [
          0.3636363636363637,
          0.5405405405405405
         ]
        },
        {
         "hoverinfo": "none",
         "line": {
          "color": "#2e2e2e",
          "width": 0.8
         },
         "mode": "lines",
         "opacity": 0.1,
         "type": "scatter",
         "x": [
          7.888888888888889,
          8.3
         ],
         "y": [
          0.3636363636363637,
          0.3529411764705882
         ]
        },
        {
         "hoverinfo": "none",
         "line": {
          "color": "#2e2e2e",
          "width": 0.8
         },
         "mode": "lines",
         "opacity": 0.1,
         "type": "scatter",
         "x": [
          7.1,
          6.833333333333333
         ],
         "y": [
          0.42424242424242425,
          0.4705882352941176
         ]
        },
        {
         "hoverinfo": "none",
         "line": {
          "color": "#2e2e2e",
          "width": 0.8
         },
         "mode": "lines",
         "opacity": 0.1,
         "type": "scatter",
         "x": [
          7.083333333333333,
          6.8
         ],
         "y": [
          0.5142857142857142,
          0.5945945945945945
         ]
        },
        {
         "hoverinfo": "none",
         "line": {
          "color": "#2e2e2e",
          "width": 2.4000000000000004
         },
         "mode": "lines",
         "opacity": 0.5,
         "type": "scatter",
         "x": [
          7.333333333333333,
          7.142857142857143
         ],
         "y": [
          0.5142857142857142,
          0.5555555555555556
         ]
        },
        {
         "hoverinfo": "none",
         "line": {
          "color": "#2e2e2e",
          "width": 0.8
         },
         "mode": "lines",
         "opacity": 0.1,
         "type": "scatter",
         "x": [
          5.384615384615385,
          5.466666666666667
         ],
         "y": [
          0.3142857142857143,
          0.33333333333333337
         ]
        },
        {
         "hoverinfo": "none",
         "line": {
          "color": "#2e2e2e",
          "width": 0.8
         },
         "mode": "lines",
         "opacity": 0.1,
         "type": "scatter",
         "x": [
          9,
          9
         ],
         "y": [
          0.4,
          0.3888888888888889
         ]
        },
        {
         "hoverinfo": "none",
         "line": {
          "color": "#2e2e2e",
          "width": 0.8
         },
         "mode": "lines",
         "opacity": 0.1,
         "type": "scatter",
         "x": [
          10.181818181818182,
          9.5
         ],
         "y": [
          0.3428571428571429,
          0.5128205128205128
         ]
        },
        {
         "hoverinfo": "none",
         "line": {
          "color": "#2e2e2e",
          "width": 0.8
         },
         "mode": "lines",
         "opacity": 0.1,
         "type": "scatter",
         "x": [
          9.692307692307692,
          9.5
         ],
         "y": [
          0.5142857142857142,
          0.5945945945945945
         ]
        },
        {
         "hoverinfo": "none",
         "line": {
          "color": "#2e2e2e",
          "width": 0.8
         },
         "mode": "lines",
         "opacity": 0.1,
         "type": "scatter",
         "x": [
          6.8,
          8.4
         ],
         "y": [
          0.5945945945945945,
          0.7317073170731707
         ]
        },
        {
         "hoverinfo": "none",
         "line": {
          "color": "#2e2e2e",
          "width": 4
         },
         "mode": "lines",
         "opacity": 0.95,
         "type": "scatter",
         "x": [
          9.5,
          8.928571428571429
         ],
         "y": [
          0.5945945945945945,
          0.6666666666666666
         ]
        },
        {
         "hoverinfo": "none",
         "line": {
          "color": "#2e2e2e",
          "width": 1.6
         },
         "mode": "lines",
         "opacity": 0.3,
         "type": "scatter",
         "x": [
          9.5,
          8.916666666666666
         ],
         "y": [
          0.5945945945945945,
          0.631578947368421
         ]
        },
        {
         "hoverinfo": "none",
         "line": {
          "color": "#2e2e2e",
          "width": 1.6
         },
         "mode": "lines",
         "opacity": 0.3,
         "type": "scatter",
         "x": [
          9.5,
          9.166666666666666
         ],
         "y": [
          0.5945945945945945,
          0.631578947368421
         ]
        },
        {
         "hoverinfo": "none",
         "line": {
          "color": "#2e2e2e",
          "width": 0.8
         },
         "mode": "lines",
         "opacity": 0.1,
         "type": "scatter",
         "x": [
          11.5,
          11.5
         ],
         "y": [
          0.4864864864864865,
          0.5853658536585367
         ]
        },
        {
         "hoverinfo": "none",
         "line": {
          "color": "#2e2e2e",
          "width": 0.8
         },
         "mode": "lines",
         "opacity": 0.1,
         "type": "scatter",
         "x": [
          9.4,
          8.857142857142858
         ],
         "y": [
          0.5675675675675677,
          0.6410256410256411
         ]
        },
        {
         "hoverinfo": "none",
         "line": {
          "color": "#2e2e2e",
          "width": 0.8
         },
         "mode": "lines",
         "opacity": 0.1,
         "type": "scatter",
         "x": [
          10.5,
          9.3
         ],
         "y": [
          0.5405405405405405,
          0.5526315789473685
         ]
        },
        {
         "hoverinfo": "none",
         "line": {
          "color": "#2e2e2e",
          "width": 0.8
         },
         "mode": "lines",
         "opacity": 0.1,
         "type": "scatter",
         "x": [
          8.9,
          8.25
         ],
         "y": [
          0.5945945945945945,
          0.6052631578947368
         ]
        },
        {
         "hoverinfo": "none",
         "line": {
          "color": "#2e2e2e",
          "width": 0.8
         },
         "mode": "lines",
         "opacity": 0.1,
         "type": "scatter",
         "x": [
          9.5,
          10.071428571428571
         ],
         "y": [
          0.5945945945945945,
          0.7317073170731707
         ]
        },
        {
         "hoverinfo": "none",
         "line": {
          "color": "#2e2e2e",
          "width": 2.4000000000000004
         },
         "mode": "lines",
         "opacity": 0.5,
         "type": "scatter",
         "x": [
          8.4,
          9.545454545454545
         ],
         "y": [
          0.7317073170731707,
          0.8444444444444443
         ]
        },
        {
         "hoverinfo": "none",
         "line": {
          "color": "#2e2e2e",
          "width": 0.8
         },
         "mode": "lines",
         "opacity": 0.1,
         "type": "scatter",
         "x": [
          8.4,
          8.142857142857142
         ],
         "y": [
          0.7317073170731707,
          0.7906976744186047
         ]
        },
        {
         "hoverinfo": "none",
         "line": {
          "color": "#2e2e2e",
          "width": 0.8
         },
         "mode": "lines",
         "opacity": 0.1,
         "type": "scatter",
         "x": [
          8.4,
          8.583333333333334
         ],
         "y": [
          0.7317073170731707,
          0.7619047619047621
         ]
        },
        {
         "hoverinfo": "none",
         "line": {
          "color": "#2e2e2e",
          "width": 0.8
         },
         "mode": "lines",
         "opacity": 0.1,
         "type": "scatter",
         "x": [
          8.7,
          9.5
         ],
         "y": [
          0.7317073170731707,
          0.8444444444444443
         ]
        },
        {
         "hoverinfo": "none",
         "line": {
          "color": "#2e2e2e",
          "width": 0.8
         },
         "mode": "lines",
         "opacity": 0.1,
         "type": "scatter",
         "x": [
          10.3,
          10.166666666666666
         ],
         "y": [
          0.7317073170731707,
          0.8444444444444443
         ]
        },
        {
         "hoverinfo": "none",
         "line": {
          "color": "#2e2e2e",
          "width": 0.8
         },
         "mode": "lines",
         "opacity": 0.1,
         "type": "scatter",
         "x": [
          11.5,
          11.5
         ],
         "y": [
          0.5853658536585367,
          0.6666666666666666
         ]
        },
        {
         "hoverinfo": "none",
         "line": {
          "color": "#2e2e2e",
          "width": 0.8
         },
         "mode": "lines",
         "opacity": 0.1,
         "type": "scatter",
         "x": [
          8.571428571428571,
          7.818181818181818
         ],
         "y": [
          0.6097560975609756,
          0.6744186046511628
         ]
        },
        {
         "hoverinfo": "none",
         "line": {
          "color": "#2e2e2e",
          "width": 0.8
         },
         "mode": "lines",
         "opacity": 0.1,
         "type": "scatter",
         "x": [
          10.5,
          10.5
         ],
         "y": [
          0.7317073170731707,
          0.7619047619047621
         ]
        },
        {
         "hoverinfo": "none",
         "line": {
          "color": "#2e2e2e",
          "width": 0.8
         },
         "mode": "lines",
         "opacity": 0.1,
         "type": "scatter",
         "x": [
          10.5,
          9.833333333333334
         ],
         "y": [
          0.5853658536585367,
          0.6511627906976744
         ]
        },
        {
         "hoverinfo": "none",
         "line": {
          "color": "#2e2e2e",
          "width": 0.8
         },
         "mode": "lines",
         "opacity": 0.1,
         "type": "scatter",
         "x": [
          8.454545454545455,
          8.733333333333333
         ],
         "y": [
          0.7317073170731707,
          0.7906976744186047
         ]
        },
        {
         "hoverinfo": "none",
         "line": {
          "color": "#2e2e2e",
          "width": 0.8
         },
         "mode": "lines",
         "opacity": 0.1,
         "type": "scatter",
         "x": [
          10.071428571428571,
          9.5
         ],
         "y": [
          0.7317073170731707,
          0.7906976744186047
         ]
        },
        {
         "hoverinfo": "none",
         "line": {
          "color": "#2e2e2e",
          "width": 3.2
         },
         "mode": "lines",
         "opacity": 0.7,
         "type": "scatter",
         "x": [
          9.545454545454545,
          9
         ],
         "y": [
          0.8444444444444443,
          0.8936170212765957
         ]
        },
        {
         "hoverinfo": "none",
         "line": {
          "color": "#2e2e2e",
          "width": 0.8
         },
         "mode": "lines",
         "opacity": 0.1,
         "type": "scatter",
         "x": [
          9.5,
          9.785714285714286
         ],
         "y": [
          0.8444444444444443,
          0.8695652173913044
         ]
        },
        {
         "hoverinfo": "none",
         "line": {
          "color": "#2e2e2e",
          "width": 1.6
         },
         "mode": "lines",
         "opacity": 0.3,
         "type": "scatter",
         "x": [
          9.5,
          9.214285714285714
         ],
         "y": [
          0.8444444444444443,
          0.8695652173913044
         ]
        },
        {
         "hoverinfo": "none",
         "line": {
          "color": "#2e2e2e",
          "width": 0.8
         },
         "mode": "lines",
         "opacity": 0.1,
         "type": "scatter",
         "x": [
          9.5,
          8.928571428571429
         ],
         "y": [
          0.8444444444444443,
          0.9387755102040816
         ]
        },
        {
         "hoverinfo": "none",
         "line": {
          "color": "#2e2e2e",
          "width": 0.8
         },
         "mode": "lines",
         "opacity": 0.1,
         "type": "scatter",
         "x": [
          9.5,
          9
         ],
         "y": [
          0.8444444444444443,
          0.8936170212765957
         ]
        },
        {
         "hoverinfo": "none",
         "line": {
          "color": "#2e2e2e",
          "width": 0.8
         },
         "mode": "lines",
         "opacity": 0.1,
         "type": "scatter",
         "x": [
          9.5,
          10
         ],
         "y": [
          0.8444444444444443,
          0.8936170212765957
         ]
        },
        {
         "hoverinfo": "none",
         "line": {
          "color": "#2e2e2e",
          "width": 0.8
         },
         "mode": "lines",
         "opacity": 0.1,
         "type": "scatter",
         "x": [
          9.25,
          9.25
         ],
         "y": [
          0.7999999999999999,
          0.8043478260869567
         ]
        },
        {
         "hoverinfo": "none",
         "line": {
          "color": "#2e2e2e",
          "width": 0.8
         },
         "mode": "lines",
         "opacity": 0.1,
         "type": "scatter",
         "x": [
          9.5,
          10.071428571428571
         ],
         "y": [
          0.8444444444444443,
          0.9387755102040816
         ]
        },
        {
         "hoverinfo": "none",
         "line": {
          "color": "#2e2e2e",
          "width": 0.8
         },
         "mode": "lines",
         "opacity": 0.1,
         "type": "scatter",
         "x": [
          10.166666666666666,
          10.5
         ],
         "y": [
          0.8444444444444443,
          0.8936170212765957
         ]
        },
        {
         "hoverinfo": "none",
         "line": {
          "color": "#2e2e2e",
          "width": 0.8
         },
         "mode": "lines",
         "opacity": 0.1,
         "type": "scatter",
         "x": [
          11.5,
          11.5
         ],
         "y": [
          0.6666666666666666,
          0.7755102040816326
         ]
        },
        {
         "hoverinfo": "none",
         "line": {
          "color": "#2e2e2e",
          "width": 0.8
         },
         "mode": "lines",
         "opacity": 0.1,
         "type": "scatter",
         "x": [
          8.818181818181818,
          9.23076923076923
         ],
         "y": [
          0.8444444444444443,
          0.8695652173913044
         ]
        },
        {
         "hoverinfo": "none",
         "line": {
          "color": "#2e2e2e",
          "width": 0.8
         },
         "mode": "lines",
         "opacity": 0.1,
         "type": "scatter",
         "x": [
          6.285714285714286,
          6.333333333333333
         ],
         "y": [
          0.6888888888888889,
          0.6956521739130435
         ]
        },
        {
         "hoverinfo": "none",
         "line": {
          "color": "#2e2e2e",
          "width": 0.8
         },
         "mode": "lines",
         "opacity": 0.1,
         "type": "scatter",
         "x": [
          9.5,
          9.5
         ],
         "y": [
          0.7111111111111111,
          0.7173913043478259
         ]
        },
        {
         "hoverinfo": "none",
         "line": {
          "color": "#2e2e2e",
          "width": 0.8
         },
         "mode": "lines",
         "opacity": 0.1,
         "type": "scatter",
         "x": [
          9.583333333333334,
          9.571428571428571
         ],
         "y": [
          0.8444444444444443,
          0.8695652173913044
         ]
        },
        {
         "hoverinfo": "none",
         "line": {
          "color": "#2e2e2e",
          "width": 0.8
         },
         "mode": "lines",
         "opacity": 0.1,
         "type": "scatter",
         "x": [
          8.857142857142858,
          9.1875
         ],
         "y": [
          0.8444444444444443,
          0.8695652173913044
         ]
        },
        {
         "hoverinfo": "none",
         "line": {
          "color": "#2e2e2e",
          "width": 0.8
         },
         "mode": "lines",
         "opacity": 0.1,
         "type": "scatter",
         "x": [
          9.5,
          9.5
         ],
         "y": [
          0.7111111111111111,
          0.6956521739130435
         ]
        },
        {
         "hoverinfo": "none",
         "line": {
          "color": "#2e2e2e",
          "width": 0.8
         },
         "mode": "lines",
         "opacity": 0.1,
         "type": "scatter",
         "x": [
          9,
          8.733333333333333
         ],
         "y": [
          0.7999999999999999,
          0.8979591836734695
         ]
        },
        {
         "hoverinfo": "none",
         "line": {
          "color": "#2e2e2e",
          "width": 2.4000000000000004
         },
         "mode": "lines",
         "opacity": 0.5,
         "type": "scatter",
         "x": [
          9,
          9.75
         ],
         "y": [
          0.8936170212765957,
          0.9803921568627452
         ]
        },
        {
         "hoverinfo": "none",
         "line": {
          "color": "#2e2e2e",
          "width": 0.8
         },
         "mode": "lines",
         "opacity": 0.1,
         "type": "scatter",
         "x": [
          9,
          8.7
         ],
         "y": [
          0.8936170212765957,
          0.9166666666666666
         ]
        },
        {
         "hoverinfo": "none",
         "line": {
          "color": "#2e2e2e",
          "width": 0.8
         },
         "mode": "lines",
         "opacity": 0.1,
         "type": "scatter",
         "x": [
          9,
          9.166666666666666
         ],
         "y": [
          0.8936170212765957,
          0.9387755102040816
         ]
        },
        {
         "hoverinfo": "none",
         "line": {
          "color": "#2e2e2e",
          "width": 1.6
         },
         "mode": "lines",
         "opacity": 0.3,
         "type": "scatter",
         "x": [
          9,
          9.1
         ],
         "y": [
          0.8936170212765957,
          0.9166666666666666
         ]
        },
        {
         "hoverinfo": "none",
         "line": {
          "color": "#2e2e2e",
          "width": 0.8
         },
         "mode": "lines",
         "opacity": 0.1,
         "type": "scatter",
         "x": [
          9.75,
          9.5
         ],
         "y": [
          0.8936170212765957,
          0.9166666666666666
         ]
        },
        {
         "hoverinfo": "none",
         "line": {
          "color": "#2e2e2e",
          "width": 0.8
         },
         "mode": "lines",
         "opacity": 0.1,
         "type": "scatter",
         "x": [
          10.5,
          9.5
         ],
         "y": [
          0.8936170212765957,
          0.9803921568627452
         ]
        },
        {
         "hoverinfo": "none",
         "line": {
          "color": "#2e2e2e",
          "width": 0.8
         },
         "mode": "lines",
         "opacity": 0.1,
         "type": "scatter",
         "x": [
          10.5,
          10.071428571428571
         ],
         "y": [
          0.8936170212765957,
          0.9387755102040816
         ]
        },
        {
         "hoverinfo": "none",
         "line": {
          "color": "#2e2e2e",
          "width": 0.8
         },
         "mode": "lines",
         "opacity": 0.1,
         "type": "scatter",
         "x": [
          9,
          8.454545454545455
         ],
         "y": [
          0.8510638297872339,
          0.8979591836734695
         ]
        },
        {
         "hoverinfo": "none",
         "line": {
          "color": "#2e2e2e",
          "width": 0.8
         },
         "mode": "lines",
         "opacity": 0.1,
         "type": "scatter",
         "x": [
          9,
          8.733333333333333
         ],
         "y": [
          0.8510638297872339,
          0.9411764705882352
         ]
        },
        {
         "hoverinfo": "none",
         "line": {
          "color": "#2e2e2e",
          "width": 0.8
         },
         "mode": "lines",
         "opacity": 0.1,
         "type": "scatter",
         "x": [
          10.5,
          10.071428571428571
         ],
         "y": [
          0.8936170212765957,
          0.9387755102040816
         ]
        },
        {
         "hoverinfo": "none",
         "line": {
          "color": "#2e2e2e",
          "width": 1.6
         },
         "mode": "lines",
         "opacity": 0.3,
         "type": "scatter",
         "x": [
          9.25,
          9.5
         ],
         "y": [
          0.8936170212765957,
          0.9166666666666666
         ]
        },
        {
         "hoverinfo": "none",
         "line": {
          "color": "#2e2e2e",
          "width": 0.8
         },
         "mode": "lines",
         "opacity": 0.1,
         "type": "scatter",
         "x": [
          9,
          9.055555555555555
         ],
         "y": [
          0.8936170212765957,
          0.8235294117647058
         ]
        },
        {
         "hoverinfo": "none",
         "line": {
          "color": "#2e2e2e",
          "width": 0.8
         },
         "mode": "lines",
         "opacity": 0.1,
         "type": "scatter",
         "x": [
          9,
          8.928571428571429
         ],
         "y": [
          0.8936170212765957,
          0.9387755102040816
         ]
        },
        {
         "hoverinfo": "none",
         "line": {
          "color": "#2e2e2e",
          "width": 0.8
         },
         "mode": "lines",
         "opacity": 0.1,
         "type": "scatter",
         "x": [
          8.833333333333334,
          9.5
         ],
         "y": [
          0.7234042553191489,
          0.7083333333333333
         ]
        },
        {
         "hoverinfo": "none",
         "line": {
          "color": "#2e2e2e",
          "width": 0.8
         },
         "mode": "lines",
         "opacity": 0.1,
         "type": "scatter",
         "x": [
          9.8125,
          9.75
         ],
         "y": [
          0.8936170212765957,
          0.9166666666666666
         ]
        },
        {
         "hoverinfo": "none",
         "line": {
          "color": "#2e2e2e",
          "width": 0.8
         },
         "mode": "lines",
         "opacity": 0.1,
         "type": "scatter",
         "x": [
          8.5,
          8.928571428571429
         ],
         "y": [
          0.8936170212765957,
          0.9387755102040816
         ]
        },
        {
         "hoverinfo": "none",
         "line": {
          "color": "#2e2e2e",
          "width": 0.8
         },
         "mode": "lines",
         "opacity": 0.1,
         "type": "scatter",
         "x": [
          10,
          9.5
         ],
         "y": [
          0.8936170212765957,
          0.9803921568627452
         ]
        },
        {
         "hoverinfo": "none",
         "line": {
          "color": "#2e2e2e",
          "width": 0.8
         },
         "mode": "lines",
         "opacity": 0.1,
         "type": "scatter",
         "x": [
          10,
          10
         ],
         "y": [
          0.6808510638297872,
          0.7083333333333333
         ]
        },
        {
         "hoverinfo": "none",
         "line": {
          "color": "#2e2e2e",
          "width": 0.8
         },
         "mode": "lines",
         "opacity": 0.1,
         "type": "scatter",
         "x": [
          9.1,
          9.5
         ],
         "y": [
          0.8936170212765957,
          0.9387755102040816
         ]
        },
        {
         "hoverinfo": "none",
         "line": {
          "color": "#2e2e2e",
          "width": 3.2
         },
         "mode": "lines",
         "opacity": 0.7,
         "type": "scatter",
         "x": [
          9.75,
          9.5
         ],
         "y": [
          0.9803921568627452,
          1
         ]
        },
        {
         "hoverinfo": "none",
         "line": {
          "color": "#2e2e2e",
          "width": 2.4000000000000004
         },
         "mode": "lines",
         "opacity": 0.5,
         "type": "scatter",
         "x": [
          9.5,
          9.5
         ],
         "y": [
          0.9803921568627452,
          1
         ]
        },
        {
         "hoverinfo": "none",
         "line": {
          "color": "#2e2e2e",
          "width": 1.6
         },
         "mode": "lines",
         "opacity": 0.3,
         "type": "scatter",
         "x": [
          8.733333333333333,
          9.5
         ],
         "y": [
          0.9411764705882352,
          0.981132075471698
         ]
        },
        {
         "hoverinfo": "none",
         "line": {
          "color": "#2e2e2e",
          "width": 0.8
         },
         "mode": "lines",
         "opacity": 0.1,
         "type": "scatter",
         "x": [
          9.25,
          9.5
         ],
         "y": [
          0.9803921568627452,
          1
         ]
        },
        {
         "hoverinfo": "none",
         "line": {
          "color": "#2e2e2e",
          "width": 3.2
         },
         "mode": "lines",
         "opacity": 0.7,
         "type": "scatter",
         "x": [
          9,
          9.8
         ],
         "y": [
          0.6666666666666666,
          0.7906976744186047
         ]
        },
        {
         "hoverinfo": "none",
         "line": {
          "color": "#2e2e2e",
          "width": 0.8
         },
         "mode": "lines",
         "opacity": 0.1,
         "type": "scatter",
         "x": [
          9,
          8.2
         ],
         "y": [
          0.6666666666666666,
          0.7906976744186047
         ]
        },
        {
         "hoverinfo": "none",
         "line": {
          "color": "#2e2e2e",
          "width": 2.4000000000000004
         },
         "mode": "lines",
         "opacity": 0.5,
         "type": "scatter",
         "x": [
          9,
          8.733333333333333
         ],
         "y": [
          0.6666666666666666,
          0.7906976744186047
         ]
        },
        {
         "hoverinfo": "none",
         "line": {
          "color": "#2e2e2e",
          "width": 0.8
         },
         "mode": "lines",
         "opacity": 0.1,
         "type": "scatter",
         "x": [
          9,
          8.454545454545455
         ],
         "y": [
          0.6666666666666666,
          0.7317073170731707
         ]
        },
        {
         "hoverinfo": "none",
         "line": {
          "color": "#2e2e2e",
          "width": 0.8
         },
         "mode": "lines",
         "opacity": 0.1,
         "type": "scatter",
         "x": [
          9.285714285714286,
          9.272727272727273
         ],
         "y": [
          0.6666666666666666,
          0.7000000000000001
         ]
        },
        {
         "hoverinfo": "none",
         "line": {
          "color": "#2e2e2e",
          "width": 0.8
         },
         "mode": "lines",
         "opacity": 0.1,
         "type": "scatter",
         "x": [
          8.928571428571429,
          8.7
         ],
         "y": [
          0.6666666666666666,
          0.7317073170731707
         ]
        },
        {
         "hoverinfo": "none",
         "line": {
          "color": "#2e2e2e",
          "width": 0.8
         },
         "mode": "lines",
         "opacity": 0.1,
         "type": "scatter",
         "x": [
          8.928571428571429,
          10.3
         ],
         "y": [
          0.6666666666666666,
          0.7317073170731707
         ]
        },
        {
         "hoverinfo": "none",
         "line": {
          "color": "#2e2e2e",
          "width": 2.4000000000000004
         },
         "mode": "lines",
         "opacity": 0.5,
         "type": "scatter",
         "x": [
          8.928571428571429,
          8.625
         ],
         "y": [
          0.6666666666666666,
          0.7000000000000001
         ]
        },
        {
         "hoverinfo": "none",
         "line": {
          "color": "#2e2e2e",
          "width": 0.8
         },
         "mode": "lines",
         "opacity": 0.1,
         "type": "scatter",
         "x": [
          8.928571428571429,
          10.071428571428571
         ],
         "y": [
          0.6666666666666666,
          0.7906976744186047
         ]
        },
        {
         "hoverinfo": "none",
         "line": {
          "color": "#2e2e2e",
          "width": 0.8
         },
         "mode": "lines",
         "opacity": 0.1,
         "type": "scatter",
         "x": [
          8.857142857142858,
          8.5
         ],
         "y": [
          0.6410256410256411,
          0.6749999999999999
         ]
        },
        {
         "hoverinfo": "none",
         "line": {
          "color": "#2e2e2e",
          "width": 0.8
         },
         "mode": "lines",
         "opacity": 0.1,
         "type": "scatter",
         "x": [
          7,
          8.142857142857142
         ],
         "y": [
          0.6666666666666666,
          0.7906976744186047
         ]
        },
        {
         "hoverinfo": "none",
         "line": {
          "color": "#2e2e2e",
          "width": 0.8
         },
         "mode": "lines",
         "opacity": 0.1,
         "type": "scatter",
         "x": [
          8.833333333333334,
          10
         ],
         "y": [
          0.5897435897435898,
          0.625
         ]
        },
        {
         "hoverinfo": "none",
         "line": {
          "color": "#2e2e2e",
          "width": 0.8
         },
         "mode": "lines",
         "opacity": 0.1,
         "type": "scatter",
         "x": [
          9.9,
          10.5
         ],
         "y": [
          0.5128205128205128,
          0.5853658536585367
         ]
        },
        {
         "hoverinfo": "none",
         "line": {
          "color": "#2e2e2e",
          "width": 0.8
         },
         "mode": "lines",
         "opacity": 0.1,
         "type": "scatter",
         "x": [
          9.5,
          8.928571428571429
         ],
         "y": [
          0.5128205128205128,
          0.6511627906976744
         ]
        },
        {
         "hoverinfo": "none",
         "line": {
          "color": "#2e2e2e",
          "width": 2.4000000000000004
         },
         "mode": "lines",
         "opacity": 0.5,
         "type": "scatter",
         "x": [
          9.8,
          9.5
         ],
         "y": [
          0.7906976744186047,
          0.8444444444444443
         ]
        },
        {
         "hoverinfo": "none",
         "line": {
          "color": "#2e2e2e",
          "width": 0.8
         },
         "mode": "lines",
         "opacity": 0.1,
         "type": "scatter",
         "x": [
          9.8,
          10.5
         ],
         "y": [
          0.7906976744186047,
          0.8936170212765957
         ]
        },
        {
         "hoverinfo": "none",
         "line": {
          "color": "#2e2e2e",
          "width": 0.8
         },
         "mode": "lines",
         "opacity": 0.1,
         "type": "scatter",
         "x": [
          8.823529411764707,
          9
         ],
         "y": [
          0.7906976744186047,
          0.8181818181818181
         ]
        },
        {
         "hoverinfo": "none",
         "line": {
          "color": "#2e2e2e",
          "width": 1.6
         },
         "mode": "lines",
         "opacity": 0.3,
         "type": "scatter",
         "x": [
          8.142857142857142,
          9
         ],
         "y": [
          0.7906976744186047,
          0.8936170212765957
         ]
        },
        {
         "hoverinfo": "none",
         "line": {
          "color": "#2e2e2e",
          "width": 0.8
         },
         "mode": "lines",
         "opacity": 0.1,
         "type": "scatter",
         "x": [
          9,
          8.8125
         ],
         "y": [
          0.7906976744186047,
          0.8181818181818181
         ]
        },
        {
         "hoverinfo": "none",
         "line": {
          "color": "#2e2e2e",
          "width": 0.8
         },
         "mode": "lines",
         "opacity": 0.1,
         "type": "scatter",
         "x": [
          7.818181818181818,
          6.285714285714286
         ],
         "y": [
          0.6744186046511628,
          0.6888888888888889
         ]
        },
        {
         "hoverinfo": "none",
         "line": {
          "color": "#2e2e2e",
          "width": 0.8
         },
         "mode": "lines",
         "opacity": 0.1,
         "type": "scatter",
         "x": [
          8.2,
          9
         ],
         "y": [
          0.7906976744186047,
          0.8936170212765957
         ]
        },
        {
         "hoverinfo": "none",
         "line": {
          "color": "#2e2e2e",
          "width": 0.8
         },
         "mode": "lines",
         "opacity": 0.1,
         "type": "scatter",
         "x": [
          9.833333333333334,
          9.5
         ],
         "y": [
          0.6511627906976744,
          0.7111111111111111
         ]
        },
        {
         "hoverinfo": "none",
         "line": {
          "color": "#2e2e2e",
          "width": 0.8
         },
         "mode": "lines",
         "opacity": 0.1,
         "type": "scatter",
         "x": [
          8.733333333333333,
          8.5
         ],
         "y": [
          0.7906976744186047,
          0.8936170212765957
         ]
        },
        {
         "hoverinfo": "none",
         "line": {
          "color": "#2e2e2e",
          "width": 2.4000000000000004
         },
         "mode": "lines",
         "opacity": 0.5,
         "type": "scatter",
         "x": [
          8.733333333333333,
          9.5
         ],
         "y": [
          0.7906976744186047,
          0.8444444444444443
         ]
        },
        {
         "hoverinfo": "none",
         "line": {
          "color": "#2e2e2e",
          "width": 0.8
         },
         "mode": "lines",
         "opacity": 0.1,
         "type": "scatter",
         "x": [
          8.8125,
          8.666666666666666
         ],
         "y": [
          0.7906976744186047,
          0.8181818181818181
         ]
        },
        {
         "hoverinfo": "none",
         "line": {
          "color": "#2e2e2e",
          "width": 0.8
         },
         "mode": "lines",
         "opacity": 0.1,
         "type": "scatter",
         "x": [
          8.928571428571429,
          9.5
         ],
         "y": [
          0.6511627906976744,
          0.7111111111111111
         ]
        },
        {
         "hoverinfo": "none",
         "line": {
          "color": "#2e2e2e",
          "width": 0.8
         },
         "mode": "lines",
         "opacity": 0.1,
         "type": "scatter",
         "x": [
          7.9375,
          8.333333333333334
         ],
         "y": [
          0.7441860465116279,
          0.7727272727272727
         ]
        },
        {
         "hoverinfo": "none",
         "line": {
          "color": "#2e2e2e",
          "width": 0.8
         },
         "mode": "lines",
         "opacity": 0.1,
         "type": "scatter",
         "x": [
          10.071428571428571,
          10.5
         ],
         "y": [
          0.7906976744186047,
          0.8936170212765957
         ]
        },
        {
         "hoverinfo": "none",
         "line": {
          "color": "#2e2e2e",
          "width": 0.8
         },
         "mode": "lines",
         "opacity": 0.1,
         "type": "scatter",
         "x": [
          9.5,
          9.1
         ],
         "y": [
          0.7906976744186047,
          0.8936170212765957
         ]
        },
        {
         "hoverinfo": "none",
         "line": {
          "color": "#2e2e2e",
          "width": 0.8
         },
         "mode": "lines",
         "opacity": 0.1,
         "type": "scatter",
         "x": [
          9,
          9.2
         ],
         "y": [
          0.65,
          0.7727272727272727
         ]
        },
        {
         "hoverinfo": "none",
         "line": {
          "color": "#2e2e2e",
          "width": 0.8
         },
         "mode": "lines",
         "opacity": 0.1,
         "type": "scatter",
         "x": [
          9.272727272727273,
          8.8
         ],
         "y": [
          0.7000000000000001,
          0.7619047619047621
         ]
        },
        {
         "hoverinfo": "none",
         "line": {
          "color": "#2e2e2e",
          "width": 2.4000000000000004
         },
         "mode": "lines",
         "opacity": 0.5,
         "type": "scatter",
         "x": [
          8.5,
          8.4
         ],
         "y": [
          0.7000000000000001,
          0.7317073170731707
         ]
        },
        {
         "hoverinfo": "none",
         "line": {
          "color": "#2e2e2e",
          "width": 1.6
         },
         "mode": "lines",
         "opacity": 0.3,
         "type": "scatter",
         "x": [
          8.625,
          8.5625
         ],
         "y": [
          0.7000000000000001,
          0.8181818181818181
         ]
        },
        {
         "hoverinfo": "none",
         "line": {
          "color": "#2e2e2e",
          "width": 1.6
         },
         "mode": "lines",
         "opacity": 0.3,
         "type": "scatter",
         "x": [
          8.625,
          8.0625
         ],
         "y": [
          0.7000000000000001,
          0.8181818181818181
         ]
        },
        {
         "hoverinfo": "none",
         "line": {
          "color": "#2e2e2e",
          "width": 0.8
         },
         "mode": "lines",
         "opacity": 0.1,
         "type": "scatter",
         "x": [
          8.625,
          8.4
         ],
         "y": [
          0.7000000000000001,
          0.7317073170731707
         ]
        },
        {
         "hoverinfo": "none",
         "line": {
          "color": "#2e2e2e",
          "width": 0.8
         },
         "mode": "lines",
         "opacity": 0.1,
         "type": "scatter",
         "x": [
          8.625,
          9.5625
         ],
         "y": [
          0.7000000000000001,
          0.8181818181818181
         ]
        },
        {
         "hoverinfo": "none",
         "line": {
          "color": "#2e2e2e",
          "width": 0.8
         },
         "mode": "lines",
         "opacity": 0.1,
         "type": "scatter",
         "x": [
          8.625,
          8.25
         ],
         "y": [
          0.7000000000000001,
          0.7619047619047621
         ]
        },
        {
         "hoverinfo": "none",
         "line": {
          "color": "#2e2e2e",
          "width": 0.8
         },
         "mode": "lines",
         "opacity": 0.1,
         "type": "scatter",
         "x": [
          8.5,
          7.833333333333333
         ],
         "y": [
          0.6749999999999999,
          0.7142857142857143
         ]
        },
        {
         "hoverinfo": "none",
         "line": {
          "color": "#2e2e2e",
          "width": 0.8
         },
         "mode": "lines",
         "opacity": 0.1,
         "type": "scatter",
         "x": [
          8.5,
          8
         ],
         "y": [
          0.6749999999999999,
          0.7727272727272727
         ]
        },
        {
         "hoverinfo": "none",
         "line": {
          "color": "#2e2e2e",
          "width": 0.8
         },
         "mode": "lines",
         "opacity": 0.1,
         "type": "scatter",
         "x": [
          6.444444444444445,
          7.6923076923076925
         ],
         "y": [
          0.5,
          0.5714285714285714
         ]
        },
        {
         "hoverinfo": "none",
         "line": {
          "color": "#2e2e2e",
          "width": 1.6
         },
         "mode": "lines",
         "opacity": 0.3,
         "type": "scatter",
         "x": [
          10.5,
          10.5
         ],
         "y": [
          0.7000000000000001,
          0.8181818181818181
         ]
        },
        {
         "hoverinfo": "none",
         "line": {
          "color": "#2e2e2e",
          "width": 0.8
         },
         "mode": "lines",
         "opacity": 0.1,
         "type": "scatter",
         "x": [
          10.5,
          10.5
         ],
         "y": [
          0.7000000000000001,
          0.7317073170731707
         ]
        },
        {
         "hoverinfo": "none",
         "line": {
          "color": "#2e2e2e",
          "width": 0.8
         },
         "mode": "lines",
         "opacity": 0.1,
         "type": "scatter",
         "x": [
          10,
          8.571428571428571
         ],
         "y": [
          0.625,
          0.6097560975609756
         ]
        },
        {
         "hoverinfo": "none",
         "line": {
          "color": "#2e2e2e",
          "width": 0.8
         },
         "mode": "lines",
         "opacity": 0.1,
         "type": "scatter",
         "x": [
          10,
          10.75
         ],
         "y": [
          0.55,
          0.6363636363636364
         ]
        },
        {
         "hoverinfo": "none",
         "line": {
          "color": "#2e2e2e",
          "width": 0.8
         },
         "mode": "lines",
         "opacity": 0.1,
         "type": "scatter",
         "x": [
          9,
          9.75
         ],
         "y": [
          0.7000000000000001,
          0.8181818181818181
         ]
        },
        {
         "hoverinfo": "none",
         "line": {
          "color": "#2e2e2e",
          "width": 0.8
         },
         "mode": "lines",
         "opacity": 0.1,
         "type": "scatter",
         "x": [
          7.6,
          8.142857142857142
         ],
         "y": [
          0.7000000000000001,
          0.7619047619047621
         ]
        },
        {
         "hoverinfo": "none",
         "line": {
          "color": "#2e2e2e",
          "width": 0.8
         },
         "mode": "lines",
         "opacity": 0.1,
         "type": "scatter",
         "x": [
          8.5,
          8.214285714285714
         ],
         "y": [
          0.6749999999999999,
          0.7380952380952379
         ]
        },
        {
         "hoverinfo": "none",
         "line": {
          "color": "#2e2e2e",
          "width": 0.8
         },
         "mode": "lines",
         "opacity": 0.1,
         "type": "scatter",
         "x": [
          9.2,
          9.25
         ],
         "y": [
          0.7727272727272727,
          0.7999999999999999
         ]
        },
        {
         "hoverinfo": "none",
         "line": {
          "color": "#2e2e2e",
          "width": 0.8
         },
         "mode": "lines",
         "opacity": 0.1,
         "type": "scatter",
         "x": [
          9,
          9.222222222222221
         ],
         "y": [
          0.8181818181818181,
          0.8333333333333333
         ]
        },
        {
         "hoverinfo": "none",
         "line": {
          "color": "#2e2e2e",
          "width": 2.4000000000000004
         },
         "mode": "lines",
         "opacity": 0.5,
         "type": "scatter",
         "x": [
          8.0625,
          8.7
         ],
         "y": [
          0.8181818181818181,
          0.9166666666666666
         ]
        },
        {
         "hoverinfo": "none",
         "line": {
          "color": "#2e2e2e",
          "width": 1.6
         },
         "mode": "lines",
         "opacity": 0.3,
         "type": "scatter",
         "x": [
          8.5625,
          9.23076923076923
         ],
         "y": [
          0.8181818181818181,
          0.8695652173913044
         ]
        },
        {
         "hoverinfo": "none",
         "line": {
          "color": "#2e2e2e",
          "width": 0.8
         },
         "mode": "lines",
         "opacity": 0.1,
         "type": "scatter",
         "x": [
          8.8125,
          8.818181818181818
         ],
         "y": [
          0.8181818181818181,
          0.8444444444444443
         ]
        },
        {
         "hoverinfo": "none",
         "line": {
          "color": "#2e2e2e",
          "width": 0.8
         },
         "mode": "lines",
         "opacity": 0.1,
         "type": "scatter",
         "x": [
          10.5,
          10.5
         ],
         "y": [
          0.8181818181818181,
          0.8958333333333334
         ]
        },
        {
         "hoverinfo": "none",
         "line": {
          "color": "#2e2e2e",
          "width": 0.8
         },
         "mode": "lines",
         "opacity": 0.1,
         "type": "scatter",
         "x": [
          10.75,
          11.5
         ],
         "y": [
          0.6363636363636364,
          0.7083333333333333
         ]
        },
        {
         "hoverinfo": "none",
         "line": {
          "color": "#2e2e2e",
          "width": 0.8
         },
         "mode": "lines",
         "opacity": 0.1,
         "type": "scatter",
         "x": [
          9.5,
          9.545454545454545
         ],
         "y": [
          0.8181818181818181,
          0.8444444444444443
         ]
        },
        {
         "hoverinfo": "none",
         "line": {
          "color": "#2e2e2e",
          "width": 0.8
         },
         "mode": "lines",
         "opacity": 0.1,
         "type": "scatter",
         "x": [
          8,
          8.5
         ],
         "y": [
          0.7727272727272727,
          0.8260869565217392
         ]
        },
        {
         "hoverinfo": "none",
         "line": {
          "color": "#2e2e2e",
          "width": 0.8
         },
         "mode": "lines",
         "opacity": 0.1,
         "type": "scatter",
         "x": [
          9.75,
          9.583333333333334
         ],
         "y": [
          0.8181818181818181,
          0.8444444444444443
         ]
        },
        {
         "hoverinfo": "none",
         "line": {
          "color": "#2e2e2e",
          "width": 0.8
         },
         "mode": "lines",
         "opacity": 0.1,
         "type": "scatter",
         "x": [
          8.666666666666666,
          8.857142857142858
         ],
         "y": [
          0.8181818181818181,
          0.8444444444444443
         ]
        },
        {
         "hoverinfo": "none",
         "line": {
          "color": "#2e2e2e",
          "width": 0.8
         },
         "mode": "lines",
         "opacity": 0.1,
         "type": "scatter",
         "x": [
          8,
          8.352941176470589
         ],
         "y": [
          0.8181818181818181,
          0.8695652173913044
         ]
        },
        {
         "hoverinfo": "none",
         "line": {
          "color": "#2e2e2e",
          "width": 0.8
         },
         "mode": "lines",
         "opacity": 0.1,
         "type": "scatter",
         "x": [
          9.5625,
          10.5
         ],
         "y": [
          0.8181818181818181,
          0.9166666666666666
         ]
        },
        {
         "hoverinfo": "none",
         "line": {
          "color": "#2e2e2e",
          "width": 0.8
         },
         "mode": "lines",
         "opacity": 0.1,
         "type": "scatter",
         "x": [
          8.333333333333334,
          9
         ],
         "y": [
          0.7727272727272727,
          0.7999999999999999
         ]
        },
        {
         "hoverinfo": "none",
         "line": {
          "color": "#2e2e2e",
          "width": 0.8
         },
         "mode": "lines",
         "opacity": 0.1,
         "type": "scatter",
         "x": [
          9,
          9
         ],
         "y": [
          0.836734693877551,
          0.86
         ]
        },
        {
         "hoverinfo": "none",
         "line": {
          "color": "#2e2e2e",
          "width": 0.8
         },
         "mode": "lines",
         "opacity": 0.1,
         "type": "scatter",
         "x": [
          10.071428571428571,
          9.8125
         ],
         "y": [
          0.9387755102040816,
          0.96
         ]
        },
        {
         "hoverinfo": "none",
         "line": {
          "color": "#2e2e2e",
          "width": 0.8
         },
         "mode": "lines",
         "opacity": 0.1,
         "type": "scatter",
         "x": [
          10.071428571428571,
          9.5
         ],
         "y": [
          0.9387755102040816,
          0.9803921568627452
         ]
        },
        {
         "hoverinfo": "none",
         "line": {
          "color": "#2e2e2e",
          "width": 0.8
         },
         "mode": "lines",
         "opacity": 0.1,
         "type": "scatter",
         "x": [
          11.5,
          10.5
         ],
         "y": [
          0.7755102040816326,
          0.8679245283018868
         ]
        },
        {
         "hoverinfo": "none",
         "line": {
          "color": "#2e2e2e",
          "width": 0.8
         },
         "mode": "lines",
         "opacity": 0.1,
         "type": "scatter",
         "x": [
          8.454545454545455,
          8.733333333333333
         ],
         "y": [
          0.8979591836734695,
          0.9411764705882352
         ]
        },
        {
         "hoverinfo": "none",
         "line": {
          "color": "#2e2e2e",
          "width": 0.8
         },
         "mode": "lines",
         "opacity": 0.1,
         "type": "scatter",
         "x": [
          9.166666666666666,
          9.75
         ],
         "y": [
          0.9387755102040816,
          0.9803921568627452
         ]
        },
        {
         "hoverinfo": "none",
         "line": {
          "color": "#2e2e2e",
          "width": 0.8
         },
         "mode": "lines",
         "opacity": 0.1,
         "type": "scatter",
         "x": [
          9.5,
          9.214285714285714
         ],
         "y": [
          0.9387755102040816,
          0.96
         ]
        },
        {
         "hoverinfo": "none",
         "line": {
          "color": "#2e2e2e",
          "width": 0.8
         },
         "mode": "lines",
         "opacity": 0.1,
         "type": "scatter",
         "x": [
          10.071428571428571,
          9.5
         ],
         "y": [
          0.9387755102040816,
          0.9803921568627452
         ]
        },
        {
         "hoverinfo": "none",
         "line": {
          "color": "#2e2e2e",
          "width": 0.8
         },
         "mode": "lines",
         "opacity": 0.1,
         "type": "scatter",
         "x": [
          9.214285714285714,
          9.25
         ],
         "y": [
          0.9387755102040816,
          0.96
         ]
        },
        {
         "hoverinfo": "none",
         "line": {
          "color": "#2e2e2e",
          "width": 2.4000000000000004
         },
         "mode": "lines",
         "opacity": 0.5,
         "type": "scatter",
         "x": [
          8.928571428571429,
          9.5
         ],
         "y": [
          0.9387755102040816,
          0.9803921568627452
         ]
        },
        {
         "hoverinfo": "none",
         "line": {
          "color": "#2e2e2e",
          "width": 0.8
         },
         "mode": "lines",
         "opacity": 0.1,
         "type": "scatter",
         "x": [
          8.733333333333333,
          9.31578947368421
         ],
         "y": [
          0.8979591836734695,
          0.9411764705882352
         ]
        },
        {
         "hoverinfo": "none",
         "line": {
          "color": "#2e2e2e",
          "width": 0.8
         },
         "mode": "lines",
         "opacity": 0.1,
         "type": "scatter",
         "x": [
          8.5,
          8.5
         ],
         "y": [
          0.8775510204081632,
          0.86
         ]
        },
        {
         "hoverinfo": "none",
         "line": {
          "color": "#2e2e2e",
          "width": 0.8
         },
         "mode": "lines",
         "opacity": 0.1,
         "type": "scatter",
         "x": [
          9,
          9
         ],
         "y": [
          0.86,
          0.8431372549019608
         ]
        },
        {
         "hoverinfo": "none",
         "line": {
          "color": "#2e2e2e",
          "width": 0.8
         },
         "mode": "lines",
         "opacity": 0.1,
         "type": "scatter",
         "x": [
          9.8125,
          9.5
         ],
         "y": [
          0.96,
          0.9803921568627452
         ]
        },
        {
         "hoverinfo": "none",
         "line": {
          "color": "#2e2e2e",
          "width": 2.4000000000000004
         },
         "mode": "lines",
         "opacity": 0.5,
         "type": "scatter",
         "x": [
          8.928571428571429,
          9.5
         ],
         "y": [
          0.96,
          1
         ]
        },
        {
         "hoverinfo": "none",
         "line": {
          "color": "#2e2e2e",
          "width": 0.8
         },
         "mode": "lines",
         "opacity": 0.1,
         "type": "scatter",
         "x": [
          9.25,
          9.5
         ],
         "y": [
          0.96,
          0.9803921568627452
         ]
        },
        {
         "hoverinfo": "none",
         "line": {
          "color": "#2e2e2e",
          "width": 0.8
         },
         "mode": "lines",
         "opacity": 0.1,
         "type": "scatter",
         "x": [
          7.5,
          8.5
         ],
         "y": [
          0.8,
          0.8888888888888891
         ]
        },
        {
         "hoverinfo": "none",
         "line": {
          "color": "#2e2e2e",
          "width": 1.6
         },
         "mode": "lines",
         "opacity": 0.3,
         "type": "scatter",
         "x": [
          10.071428571428571,
          9.5
         ],
         "y": [
          0.96,
          1
         ]
        },
        {
         "hoverinfo": "none",
         "line": {
          "color": "#2e2e2e",
          "width": 0.8
         },
         "mode": "lines",
         "opacity": 0.1,
         "type": "scatter",
         "x": [
          9.214285714285714,
          9.25
         ],
         "y": [
          0.96,
          0.9803921568627452
         ]
        },
        {
         "hoverinfo": "none",
         "line": {
          "color": "#2e2e2e",
          "width": 0.8
         },
         "mode": "lines",
         "opacity": 0.1,
         "type": "scatter",
         "x": [
          6.3,
          6.5
         ],
         "y": [
          0.3225806451612904,
          0.375
         ]
        },
        {
         "hoverinfo": "none",
         "line": {
          "color": "#2e2e2e",
          "width": 0.8
         },
         "mode": "lines",
         "opacity": 0.1,
         "type": "scatter",
         "x": [
          6.2,
          7.125
         ],
         "y": [
          0.2903225806451613,
          0.3939393939393939
         ]
        },
        {
         "hoverinfo": "none",
         "line": {
          "color": "#2e2e2e",
          "width": 0.8
         },
         "mode": "lines",
         "opacity": 0.1,
         "type": "scatter",
         "x": [
          5.7,
          5.428571428571429
         ],
         "y": [
          0.1935483870967742,
          0.25
         ]
        },
        {
         "hoverinfo": "none",
         "line": {
          "color": "#2e2e2e",
          "width": 0.8
         },
         "mode": "lines",
         "opacity": 0.1,
         "type": "scatter",
         "x": [
          7.3,
          7.5
         ],
         "y": [
          0.25806451612903225,
          0.3125
         ]
        },
        {
         "hoverinfo": "none",
         "line": {
          "color": "#2e2e2e",
          "width": 0.8
         },
         "mode": "lines",
         "opacity": 0.1,
         "type": "scatter",
         "x": [
          6.7,
          6.5
         ],
         "y": [
          0.3225806451612904,
          0.375
         ]
        },
        {
         "hoverinfo": "none",
         "line": {
          "color": "#2e2e2e",
          "width": 0.8
         },
         "mode": "lines",
         "opacity": 0.1,
         "type": "scatter",
         "x": [
          8.4,
          7.833333333333333
         ],
         "y": [
          0.3225806451612904,
          0.375
         ]
        },
        {
         "hoverinfo": "none",
         "line": {
          "color": "#2e2e2e",
          "width": 0.8
         },
         "mode": "lines",
         "opacity": 0.1,
         "type": "scatter",
         "x": [
          8.4,
          9.692307692307692
         ],
         "y": [
          0.3225806451612904,
          0.5142857142857142
         ]
        },
        {
         "hoverinfo": "none",
         "line": {
          "color": "#2e2e2e",
          "width": 0.8
         },
         "mode": "lines",
         "opacity": 0.1,
         "type": "scatter",
         "x": [
          10.5,
          10.5
         ],
         "y": [
          0.8679245283018868,
          0.8888888888888891
         ]
        },
        {
         "hoverinfo": "none",
         "line": {
          "color": "#2e2e2e",
          "width": 0.8
         },
         "mode": "lines",
         "opacity": 0.1,
         "type": "scatter",
         "x": [
          10.5,
          10.23076923076923
         ],
         "y": [
          0.8888888888888891,
          0.9090909090909092
         ]
        },
        {
         "hoverinfo": "none",
         "line": {
          "color": "#2e2e2e",
          "width": 0.8
         },
         "mode": "lines",
         "opacity": 0.1,
         "type": "scatter",
         "x": [
          7.5,
          6.5
         ],
         "y": [
          0.07407407407407407,
          0.14285714285714288
         ]
        },
        {
         "hoverinfo": "none",
         "line": {
          "color": "#2e2e2e",
          "width": 0.8
         },
         "mode": "lines",
         "opacity": 0.1,
         "type": "scatter",
         "x": [
          6.833333333333333,
          6.125
         ],
         "y": [
          0.20689655172413796,
          0.2
         ]
        },
        {
         "hoverinfo": "none",
         "line": {
          "color": "#2e2e2e",
          "width": 0.8
         },
         "mode": "lines",
         "opacity": 0.1,
         "type": "scatter",
         "x": [
          7,
          8.4
         ],
         "y": [
          0.20689655172413796,
          0.3225806451612904
         ]
        },
        {
         "hoverinfo": "text",
         "marker": {
          "color": "#2e2e2e",
          "colorscale": [
           [
            0,
            "rgb(255,255,255)"
           ],
           [
            0.125,
            "rgb(240,240,240)"
           ],
           [
            0.25,
            "rgb(217,217,217)"
           ],
           [
            0.375,
            "rgb(189,189,189)"
           ],
           [
            0.5,
            "rgb(150,150,150)"
           ],
           [
            0.625,
            "rgb(115,115,115)"
           ],
           [
            0.75,
            "rgb(82,82,82)"
           ],
           [
            0.875,
            "rgb(37,37,37)"
           ],
           [
            1,
            "rgb(0,0,0)"
           ]
          ],
          "line": {
           "color": "#FFF",
           "width": 0
          },
          "opacity": 1,
          "reversescale": true,
          "size": [
           40,
           0.8,
           3.2,
           1.6,
           12.8,
           0.8,
           1.6,
           0.8,
           0.8,
           0.8,
           4.800000000000001,
           0.8,
           0.8,
           0.8,
           0.8,
           0.8,
           2.4000000000000004,
           0.8,
           0.8,
           0.8,
           0.8,
           0.8,
           0.8,
           14.4,
           3.2,
           0.8,
           0.8,
           0.8,
           1.6,
           0.8,
           0.8,
           0.8,
           0.8,
           0.8,
           4.800000000000001,
           0.8,
           0.8,
           3.2,
           4,
           1.6,
           0.8,
           0.8,
           0.8,
           0.8,
           0.8,
           0.8,
           0.8,
           2.4000000000000004,
           0.8,
           0.8,
           0.8,
           0.8,
           2.4000000000000004,
           0.8,
           0.8,
           0.8,
           0.8,
           0.8,
           0.8,
           0.8,
           0.8,
           0.8,
           0.8,
           0.8,
           0.8,
           4,
           1.6,
           1.6,
           0.8,
           0.8,
           0.8,
           0.8,
           0.8,
           0.8,
           0.8,
           0.8,
           0.8,
           0.8,
           2.4000000000000004,
           0.8,
           3.2,
           1.6,
           0.8,
           0.8,
           0.8,
           0.8,
           0.8,
           0.8,
           0.8,
           0.8,
           0.8,
           18.400000000000002,
           1.6,
           1.6,
           0.8,
           22.400000000000002,
           5.6000000000000005,
           1.6,
           0.8,
           0.8,
           0.8,
           0.8,
           9.600000000000001,
           0.8,
           0.8,
           0.8,
           0.8,
           0.8,
           0.8,
           0.8,
           0.8,
           2.4000000000000004,
           0.8,
           0.8,
           0.8,
           0.8,
           0.8,
           7.2,
           0.8,
           0.8,
           0.8,
           0.8,
           0.8,
           4,
           0.8,
           0.8,
           0.8,
           0.8,
           0.8,
           0.8,
           0.8,
           0.8,
           3.2,
           4.800000000000001,
           0.8,
           0.8,
           0.8,
           0.8,
           0.8,
           0.8,
           0.8,
           0.8,
           0.8,
           0.8,
           0.8,
           5.6000000000000005,
           0.8,
           1.6,
           1.6,
           0.8,
           1.6,
           1.6,
           0.8,
           0.8,
           0.8,
           0.8,
           0.8,
           0.8,
           3.2,
           0.8,
           2.4000000000000004,
           1.6,
           4.800000000000001,
           0.8,
           0.8,
           0.8,
           12.8,
           7.2,
           0.8,
           4.800000000000001,
           0.8,
           0.8,
           0.8,
           0.8,
           0.8,
           0.8,
           3.2,
           0.8,
           1.6,
           0.8,
           0.8,
           0.8,
           0.8,
           3.2,
           0.8,
           0.8,
           0.8,
           0.8,
           0.8,
           0.8,
           0.8,
           2.4000000000000004,
           5.6000000000000005,
           1.6,
           0.8,
           2.4000000000000004,
           0.8,
           0.8,
           0.8,
           0.8,
           0.8,
           0.8,
           0.8,
           2.4000000000000004,
           1.6,
           0.8,
           1.6,
           0.8,
           0.8,
           0.8,
           0.8,
           0.8,
           0.8,
           0.8,
           0.8,
           0.8,
           1.6,
           0.8,
           0.8,
           0.8,
           1.6,
           0.8,
           0.8,
           0.8,
           0.8,
           0.8,
           2.4000000000000004,
           0.8,
           0.8,
           0.8,
           0.8,
           0.8,
           0.8,
           2.4000000000000004,
           0.8,
           0.8,
           0.8,
           1.6,
           0.8,
           0.8,
           0.8,
           0.8,
           0.8,
           0.8,
           0.8,
           1.6,
           0.8,
           1.6,
           0.8,
           0.8,
           0.8,
           0.8,
           0.8,
           0.8
          ]
         },
         "mode": "markers",
         "type": "scatter",
         "x": [
          8.5,
          4.5,
          9,
          10.5,
          6.5,
          6.125,
          7.5,
          11.5,
          7.5,
          4.5,
          7.3,
          9.3,
          7.6,
          5.454545454545454,
          8.3,
          9.1,
          7,
          6.833333333333333,
          8.9,
          9.9,
          6.5,
          10,
          5.071428571428571,
          9.357142857142858,
          7.142857142857143,
          5.466666666666667,
          8.357142857142858,
          9,
          7.071428571428571,
          7.357142857142857,
          7.642857142857143,
          8.785714285714286,
          7.071428571428571,
          5.833333333333333,
          9.5,
          8.5,
          9.416666666666666,
          8.916666666666666,
          9.166666666666666,
          6.916666666666667,
          5.2,
          9.3,
          10,
          8.833333333333334,
          8.5,
          7.583333333333333,
          8.25,
          9.166666666666666,
          7.833333333333333,
          7.833333333333333,
          5.642857142857143,
          8.8,
          8.25,
          7.833333333333333,
          7.6923076923076925,
          8.583333333333334,
          10.5,
          7.833333333333333,
          8.5,
          8.142857142857142,
          8.214285714285714,
          8.785714285714286,
          6,
          9.785714285714286,
          9.25,
          9.23076923076923,
          8.5,
          9.214285714285714,
          8.25,
          6.333333333333333,
          9.5,
          9.571428571428571,
          9.166666666666666,
          9.1875,
          8.352941176470589,
          9.5,
          9.166666666666666,
          6.5,
          9.5,
          9.222222222222221,
          8.7,
          9.1,
          8.333333333333334,
          10.5,
          11.5,
          9.5,
          9.75,
          8.5,
          10.5,
          10,
          8.75,
          10.5,
          11.5,
          7.5,
          6.5,
          7.833333333333333,
          10.5,
          6.5,
          8.166666666666666,
          5.428571428571429,
          7.5,
          7,
          7.25,
          7.5,
          8.428571428571429,
          7.125,
          5.444444444444445,
          7.285714285714286,
          7.888888888888889,
          7.1,
          7.083333333333333,
          7.333333333333333,
          5.384615384615385,
          9,
          10.181818181818182,
          9.692307692307692,
          6.8,
          9.5,
          11.5,
          9.4,
          10.5,
          8.9,
          9.5,
          8.4,
          8.7,
          10.3,
          11.5,
          8.571428571428571,
          10.5,
          10.5,
          8.454545454545455,
          10.071428571428571,
          9.545454545454545,
          9.5,
          9.25,
          9.5,
          10.166666666666666,
          11.5,
          8.818181818181818,
          6.285714285714286,
          9.5,
          9.583333333333334,
          8.857142857142858,
          9.5,
          9,
          9,
          9.75,
          10.5,
          9,
          10.5,
          9.25,
          9,
          8.833333333333334,
          9.8125,
          8.5,
          10,
          10,
          9.1,
          9.75,
          9,
          9.5,
          8.733333333333333,
          9.5,
          9.055555555555555,
          9.25,
          9.31578947368421,
          9.5,
          9,
          9.285714285714286,
          8.928571428571429,
          8.857142857142858,
          7,
          8.833333333333334,
          9.9,
          8,
          9.5,
          9.8,
          8.823529411764707,
          8.142857142857142,
          9,
          7.818181818181818,
          8.2,
          9.833333333333334,
          8.733333333333333,
          8.8125,
          8.928571428571429,
          7.9375,
          10.071428571428571,
          9.5,
          9,
          9.272727272727273,
          8.5,
          8.625,
          8.5,
          6.444444444444445,
          10.5,
          10,
          10,
          9,
          7.6,
          8.5,
          9.2,
          9,
          8.0625,
          8.5625,
          8.8125,
          10.5,
          10.75,
          9.5,
          8,
          9.75,
          8.666666666666666,
          8,
          9.5625,
          8.333333333333334,
          9,
          10.071428571428571,
          11.5,
          8.454545454545455,
          9.166666666666666,
          9.5,
          10.071428571428571,
          9.214285714285714,
          10.153846153846153,
          9.5,
          9.857142857142858,
          8.928571428571429,
          10,
          8.733333333333333,
          8.5,
          9.5,
          9,
          9.8125,
          8.928571428571429,
          9.25,
          7.5,
          11.5,
          10.071428571428571,
          9.214285714285714,
          8.5,
          6.3,
          6.2,
          5.7,
          7.3,
          6.7,
          8.4,
          10.5,
          9.5,
          10.5,
          8.5,
          10.23076923076923,
          7.5,
          6.833333333333333,
          7
         ],
         "y": [
          0,
          0.13333333333333336,
          0.2666666666666667,
          0.2666666666666667,
          0.2666666666666667,
          0.2,
          0.2,
          0.2,
          0.2666666666666667,
          0.2058823529411765,
          0.4705882352941176,
          0.411764705882353,
          0.4705882352941176,
          0.3235294117647059,
          0.3529411764705882,
          0.3529411764705882,
          0.4705882352941176,
          0.4705882352941176,
          0.4705882352941176,
          0.3529411764705882,
          0.44117647058823534,
          0.4705882352941176,
          0.25,
          0.5555555555555556,
          0.5555555555555556,
          0.33333333333333337,
          0.4444444444444444,
          0.3888888888888889,
          0.5277777777777778,
          0.5555555555555556,
          0.5555555555555556,
          0.5555555555555556,
          0.5555555555555556,
          0.34210526315789475,
          0.631578947368421,
          0.5789473684210527,
          0.631578947368421,
          0.631578947368421,
          0.631578947368421,
          0.631578947368421,
          0.42105263157894735,
          0.5526315789473685,
          0.4736842105263157,
          0.631578947368421,
          0.631578947368421,
          0.631578947368421,
          0.6052631578947368,
          0.631578947368421,
          0.6052631578947368,
          0.631578947368421,
          0.38095238095238104,
          0.7619047619047621,
          0.7619047619047621,
          0.7142857142857143,
          0.5714285714285714,
          0.7619047619047621,
          0.7619047619047621,
          0.7142857142857143,
          0.7619047619047621,
          0.7619047619047621,
          0.7380952380952379,
          0.7619047619047621,
          0.4347826086956522,
          0.8695652173913044,
          0.8043478260869567,
          0.8695652173913044,
          0.8260869565217392,
          0.8695652173913044,
          0.6956521739130435,
          0.6956521739130435,
          0.7173913043478259,
          0.8695652173913044,
          0.8260869565217392,
          0.8695652173913044,
          0.8695652173913044,
          0.6956521739130435,
          0.8695652173913044,
          0.4999999999999999,
          0.9166666666666666,
          0.8333333333333333,
          0.9166666666666666,
          0.9166666666666666,
          0.7500000000000001,
          0.8958333333333334,
          0.7083333333333333,
          0.7083333333333333,
          0.9166666666666666,
          0.8333333333333333,
          0.9166666666666666,
          0.7083333333333333,
          0.875,
          0.14285714285714288,
          0.07142857142857144,
          0.14285714285714288,
          0.14285714285714288,
          0.375,
          0.375,
          0.375,
          0.3125,
          0.25,
          0.3125,
          0.375,
          0.42424242424242425,
          0.42424242424242425,
          0.3636363636363637,
          0.3939393939393939,
          0.30303030303030304,
          0.3636363636363637,
          0.3636363636363637,
          0.42424242424242425,
          0.5142857142857142,
          0.5142857142857142,
          0.3142857142857143,
          0.4,
          0.3428571428571429,
          0.5142857142857142,
          0.5945945945945945,
          0.5945945945945945,
          0.4864864864864865,
          0.5675675675675677,
          0.5405405405405405,
          0.5945945945945945,
          0.5945945945945945,
          0.7317073170731707,
          0.7317073170731707,
          0.7317073170731707,
          0.5853658536585367,
          0.6097560975609756,
          0.7317073170731707,
          0.5853658536585367,
          0.7317073170731707,
          0.7317073170731707,
          0.8444444444444443,
          0.8444444444444443,
          0.7999999999999999,
          0.8444444444444443,
          0.8444444444444443,
          0.6666666666666666,
          0.8444444444444443,
          0.6888888888888889,
          0.7111111111111111,
          0.8444444444444443,
          0.8444444444444443,
          0.7111111111111111,
          0.7999999999999999,
          0.8936170212765957,
          0.8936170212765957,
          0.8936170212765957,
          0.8510638297872339,
          0.8936170212765957,
          0.8936170212765957,
          0.8936170212765957,
          0.7234042553191489,
          0.8936170212765957,
          0.8936170212765957,
          0.8936170212765957,
          0.6808510638297872,
          0.8936170212765957,
          0.9803921568627452,
          0.8431372549019608,
          0.9803921568627452,
          0.9411764705882352,
          0.9803921568627452,
          0.8235294117647058,
          0.9803921568627452,
          0.9411764705882352,
          1,
          0.6666666666666666,
          0.6666666666666666,
          0.6666666666666666,
          0.6410256410256411,
          0.6666666666666666,
          0.5897435897435898,
          0.5128205128205128,
          0.6410256410256411,
          0.5128205128205128,
          0.7906976744186047,
          0.7906976744186047,
          0.7906976744186047,
          0.7906976744186047,
          0.6744186046511628,
          0.7906976744186047,
          0.6511627906976744,
          0.7906976744186047,
          0.7906976744186047,
          0.6511627906976744,
          0.7441860465116279,
          0.7906976744186047,
          0.7906976744186047,
          0.65,
          0.7000000000000001,
          0.7000000000000001,
          0.7000000000000001,
          0.6749999999999999,
          0.5,
          0.7000000000000001,
          0.625,
          0.55,
          0.7000000000000001,
          0.7000000000000001,
          0.6749999999999999,
          0.7727272727272727,
          0.8181818181818181,
          0.8181818181818181,
          0.8181818181818181,
          0.8181818181818181,
          0.8181818181818181,
          0.6363636363636364,
          0.8181818181818181,
          0.7727272727272727,
          0.8181818181818181,
          0.8181818181818181,
          0.8181818181818181,
          0.8181818181818181,
          0.7727272727272727,
          0.836734693877551,
          0.9387755102040816,
          0.7755102040816326,
          0.8979591836734695,
          0.9387755102040816,
          0.9387755102040816,
          0.9387755102040816,
          0.9387755102040816,
          0.8979591836734695,
          0.6938775510204079,
          0.9387755102040816,
          0.9387755102040816,
          0.7346938775510203,
          0.8979591836734695,
          0.8775510204081632,
          0.9387755102040816,
          0.86,
          0.96,
          0.96,
          0.96,
          0.8,
          0.68,
          0.96,
          0.96,
          0.86,
          0.3225806451612904,
          0.2903225806451613,
          0.1935483870967742,
          0.25806451612903225,
          0.3225806451612904,
          0.3225806451612904,
          0.8679245283018868,
          0.981132075471698,
          0.8888888888888891,
          0.8888888888888891,
          0.9090909090909092,
          0.07407407407407407,
          0.20689655172413796,
          0.20689655172413796
         ]
        }
       ],
       "layout": {
        "height": 400,
        "hovermode": "closest",
        "margin": {
         "b": 20,
         "l": 5,
         "r": 5,
         "t": 40
        },
        "shapes": [
         {
          "line": {
           "color": "black",
           "dash": "dot",
           "width": 1
          },
          "type": "line",
          "x0": 4,
          "x1": 13,
          "y0": 1,
          "y1": 1
         },
         {
          "line": {
           "color": "black",
           "dash": "dot",
           "width": 1
          },
          "type": "line",
          "x0": 4,
          "x1": 13,
          "y0": 0,
          "y1": 0
         }
        ],
        "showlegend": false,
        "template": {
         "data": {
          "bar": [
           {
            "error_x": {
             "color": "rgb(36,36,36)"
            },
            "error_y": {
             "color": "rgb(36,36,36)"
            },
            "marker": {
             "line": {
              "color": "white",
              "width": 0.5
             }
            },
            "type": "bar"
           }
          ],
          "barpolar": [
           {
            "marker": {
             "line": {
              "color": "white",
              "width": 0.5
             }
            },
            "type": "barpolar"
           }
          ],
          "carpet": [
           {
            "aaxis": {
             "endlinecolor": "rgb(36,36,36)",
             "gridcolor": "white",
             "linecolor": "white",
             "minorgridcolor": "white",
             "startlinecolor": "rgb(36,36,36)"
            },
            "baxis": {
             "endlinecolor": "rgb(36,36,36)",
             "gridcolor": "white",
             "linecolor": "white",
             "minorgridcolor": "white",
             "startlinecolor": "rgb(36,36,36)"
            },
            "type": "carpet"
           }
          ],
          "choropleth": [
           {
            "colorbar": {
             "outlinewidth": 1,
             "tickcolor": "rgb(36,36,36)",
             "ticks": "outside"
            },
            "type": "choropleth"
           }
          ],
          "contour": [
           {
            "colorbar": {
             "outlinewidth": 1,
             "tickcolor": "rgb(36,36,36)",
             "ticks": "outside"
            },
            "colorscale": [
             [
              0,
              "#440154"
             ],
             [
              0.1111111111111111,
              "#482878"
             ],
             [
              0.2222222222222222,
              "#3e4989"
             ],
             [
              0.3333333333333333,
              "#31688e"
             ],
             [
              0.4444444444444444,
              "#26828e"
             ],
             [
              0.5555555555555556,
              "#1f9e89"
             ],
             [
              0.6666666666666666,
              "#35b779"
             ],
             [
              0.7777777777777778,
              "#6ece58"
             ],
             [
              0.8888888888888888,
              "#b5de2b"
             ],
             [
              1,
              "#fde725"
             ]
            ],
            "type": "contour"
           }
          ],
          "contourcarpet": [
           {
            "colorbar": {
             "outlinewidth": 1,
             "tickcolor": "rgb(36,36,36)",
             "ticks": "outside"
            },
            "type": "contourcarpet"
           }
          ],
          "heatmap": [
           {
            "colorbar": {
             "outlinewidth": 1,
             "tickcolor": "rgb(36,36,36)",
             "ticks": "outside"
            },
            "colorscale": [
             [
              0,
              "#440154"
             ],
             [
              0.1111111111111111,
              "#482878"
             ],
             [
              0.2222222222222222,
              "#3e4989"
             ],
             [
              0.3333333333333333,
              "#31688e"
             ],
             [
              0.4444444444444444,
              "#26828e"
             ],
             [
              0.5555555555555556,
              "#1f9e89"
             ],
             [
              0.6666666666666666,
              "#35b779"
             ],
             [
              0.7777777777777778,
              "#6ece58"
             ],
             [
              0.8888888888888888,
              "#b5de2b"
             ],
             [
              1,
              "#fde725"
             ]
            ],
            "type": "heatmap"
           }
          ],
          "heatmapgl": [
           {
            "colorbar": {
             "outlinewidth": 1,
             "tickcolor": "rgb(36,36,36)",
             "ticks": "outside"
            },
            "colorscale": [
             [
              0,
              "#440154"
             ],
             [
              0.1111111111111111,
              "#482878"
             ],
             [
              0.2222222222222222,
              "#3e4989"
             ],
             [
              0.3333333333333333,
              "#31688e"
             ],
             [
              0.4444444444444444,
              "#26828e"
             ],
             [
              0.5555555555555556,
              "#1f9e89"
             ],
             [
              0.6666666666666666,
              "#35b779"
             ],
             [
              0.7777777777777778,
              "#6ece58"
             ],
             [
              0.8888888888888888,
              "#b5de2b"
             ],
             [
              1,
              "#fde725"
             ]
            ],
            "type": "heatmapgl"
           }
          ],
          "histogram": [
           {
            "marker": {
             "line": {
              "color": "white",
              "width": 0.6
             }
            },
            "type": "histogram"
           }
          ],
          "histogram2d": [
           {
            "colorbar": {
             "outlinewidth": 1,
             "tickcolor": "rgb(36,36,36)",
             "ticks": "outside"
            },
            "colorscale": [
             [
              0,
              "#440154"
             ],
             [
              0.1111111111111111,
              "#482878"
             ],
             [
              0.2222222222222222,
              "#3e4989"
             ],
             [
              0.3333333333333333,
              "#31688e"
             ],
             [
              0.4444444444444444,
              "#26828e"
             ],
             [
              0.5555555555555556,
              "#1f9e89"
             ],
             [
              0.6666666666666666,
              "#35b779"
             ],
             [
              0.7777777777777778,
              "#6ece58"
             ],
             [
              0.8888888888888888,
              "#b5de2b"
             ],
             [
              1,
              "#fde725"
             ]
            ],
            "type": "histogram2d"
           }
          ],
          "histogram2dcontour": [
           {
            "colorbar": {
             "outlinewidth": 1,
             "tickcolor": "rgb(36,36,36)",
             "ticks": "outside"
            },
            "colorscale": [
             [
              0,
              "#440154"
             ],
             [
              0.1111111111111111,
              "#482878"
             ],
             [
              0.2222222222222222,
              "#3e4989"
             ],
             [
              0.3333333333333333,
              "#31688e"
             ],
             [
              0.4444444444444444,
              "#26828e"
             ],
             [
              0.5555555555555556,
              "#1f9e89"
             ],
             [
              0.6666666666666666,
              "#35b779"
             ],
             [
              0.7777777777777778,
              "#6ece58"
             ],
             [
              0.8888888888888888,
              "#b5de2b"
             ],
             [
              1,
              "#fde725"
             ]
            ],
            "type": "histogram2dcontour"
           }
          ],
          "mesh3d": [
           {
            "colorbar": {
             "outlinewidth": 1,
             "tickcolor": "rgb(36,36,36)",
             "ticks": "outside"
            },
            "type": "mesh3d"
           }
          ],
          "parcoords": [
           {
            "line": {
             "colorbar": {
              "outlinewidth": 1,
              "tickcolor": "rgb(36,36,36)",
              "ticks": "outside"
             }
            },
            "type": "parcoords"
           }
          ],
          "pie": [
           {
            "automargin": true,
            "type": "pie"
           }
          ],
          "scatter": [
           {
            "marker": {
             "colorbar": {
              "outlinewidth": 1,
              "tickcolor": "rgb(36,36,36)",
              "ticks": "outside"
             }
            },
            "type": "scatter"
           }
          ],
          "scatter3d": [
           {
            "line": {
             "colorbar": {
              "outlinewidth": 1,
              "tickcolor": "rgb(36,36,36)",
              "ticks": "outside"
             }
            },
            "marker": {
             "colorbar": {
              "outlinewidth": 1,
              "tickcolor": "rgb(36,36,36)",
              "ticks": "outside"
             }
            },
            "type": "scatter3d"
           }
          ],
          "scattercarpet": [
           {
            "marker": {
             "colorbar": {
              "outlinewidth": 1,
              "tickcolor": "rgb(36,36,36)",
              "ticks": "outside"
             }
            },
            "type": "scattercarpet"
           }
          ],
          "scattergeo": [
           {
            "marker": {
             "colorbar": {
              "outlinewidth": 1,
              "tickcolor": "rgb(36,36,36)",
              "ticks": "outside"
             }
            },
            "type": "scattergeo"
           }
          ],
          "scattergl": [
           {
            "marker": {
             "colorbar": {
              "outlinewidth": 1,
              "tickcolor": "rgb(36,36,36)",
              "ticks": "outside"
             }
            },
            "type": "scattergl"
           }
          ],
          "scattermapbox": [
           {
            "marker": {
             "colorbar": {
              "outlinewidth": 1,
              "tickcolor": "rgb(36,36,36)",
              "ticks": "outside"
             }
            },
            "type": "scattermapbox"
           }
          ],
          "scatterpolar": [
           {
            "marker": {
             "colorbar": {
              "outlinewidth": 1,
              "tickcolor": "rgb(36,36,36)",
              "ticks": "outside"
             }
            },
            "type": "scatterpolar"
           }
          ],
          "scatterpolargl": [
           {
            "marker": {
             "colorbar": {
              "outlinewidth": 1,
              "tickcolor": "rgb(36,36,36)",
              "ticks": "outside"
             }
            },
            "type": "scatterpolargl"
           }
          ],
          "scatterternary": [
           {
            "marker": {
             "colorbar": {
              "outlinewidth": 1,
              "tickcolor": "rgb(36,36,36)",
              "ticks": "outside"
             }
            },
            "type": "scatterternary"
           }
          ],
          "surface": [
           {
            "colorbar": {
             "outlinewidth": 1,
             "tickcolor": "rgb(36,36,36)",
             "ticks": "outside"
            },
            "colorscale": [
             [
              0,
              "#440154"
             ],
             [
              0.1111111111111111,
              "#482878"
             ],
             [
              0.2222222222222222,
              "#3e4989"
             ],
             [
              0.3333333333333333,
              "#31688e"
             ],
             [
              0.4444444444444444,
              "#26828e"
             ],
             [
              0.5555555555555556,
              "#1f9e89"
             ],
             [
              0.6666666666666666,
              "#35b779"
             ],
             [
              0.7777777777777778,
              "#6ece58"
             ],
             [
              0.8888888888888888,
              "#b5de2b"
             ],
             [
              1,
              "#fde725"
             ]
            ],
            "type": "surface"
           }
          ],
          "table": [
           {
            "cells": {
             "fill": {
              "color": "rgb(237,237,237)"
             },
             "line": {
              "color": "white"
             }
            },
            "header": {
             "fill": {
              "color": "rgb(217,217,217)"
             },
             "line": {
              "color": "white"
             }
            },
            "type": "table"
           }
          ]
         },
         "layout": {
          "annotationdefaults": {
           "arrowhead": 0,
           "arrowwidth": 1
          },
          "coloraxis": {
           "colorbar": {
            "outlinewidth": 1,
            "tickcolor": "rgb(36,36,36)",
            "ticks": "outside"
           }
          },
          "colorscale": {
           "diverging": [
            [
             0,
             "rgb(103,0,31)"
            ],
            [
             0.1,
             "rgb(178,24,43)"
            ],
            [
             0.2,
             "rgb(214,96,77)"
            ],
            [
             0.3,
             "rgb(244,165,130)"
            ],
            [
             0.4,
             "rgb(253,219,199)"
            ],
            [
             0.5,
             "rgb(247,247,247)"
            ],
            [
             0.6,
             "rgb(209,229,240)"
            ],
            [
             0.7,
             "rgb(146,197,222)"
            ],
            [
             0.8,
             "rgb(67,147,195)"
            ],
            [
             0.9,
             "rgb(33,102,172)"
            ],
            [
             1,
             "rgb(5,48,97)"
            ]
           ],
           "sequential": [
            [
             0,
             "#440154"
            ],
            [
             0.1111111111111111,
             "#482878"
            ],
            [
             0.2222222222222222,
             "#3e4989"
            ],
            [
             0.3333333333333333,
             "#31688e"
            ],
            [
             0.4444444444444444,
             "#26828e"
            ],
            [
             0.5555555555555556,
             "#1f9e89"
            ],
            [
             0.6666666666666666,
             "#35b779"
            ],
            [
             0.7777777777777778,
             "#6ece58"
            ],
            [
             0.8888888888888888,
             "#b5de2b"
            ],
            [
             1,
             "#fde725"
            ]
           ],
           "sequentialminus": [
            [
             0,
             "#440154"
            ],
            [
             0.1111111111111111,
             "#482878"
            ],
            [
             0.2222222222222222,
             "#3e4989"
            ],
            [
             0.3333333333333333,
             "#31688e"
            ],
            [
             0.4444444444444444,
             "#26828e"
            ],
            [
             0.5555555555555556,
             "#1f9e89"
            ],
            [
             0.6666666666666666,
             "#35b779"
            ],
            [
             0.7777777777777778,
             "#6ece58"
            ],
            [
             0.8888888888888888,
             "#b5de2b"
            ],
            [
             1,
             "#fde725"
            ]
           ]
          },
          "colorway": [
           "#1F77B4",
           "#FF7F0E",
           "#2CA02C",
           "#D62728",
           "#9467BD",
           "#8C564B",
           "#E377C2",
           "#7F7F7F",
           "#BCBD22",
           "#17BECF"
          ],
          "font": {
           "color": "rgb(36,36,36)"
          },
          "geo": {
           "bgcolor": "white",
           "lakecolor": "white",
           "landcolor": "white",
           "showlakes": true,
           "showland": true,
           "subunitcolor": "white"
          },
          "hoverlabel": {
           "align": "left"
          },
          "hovermode": "closest",
          "mapbox": {
           "style": "light"
          },
          "paper_bgcolor": "white",
          "plot_bgcolor": "white",
          "polar": {
           "angularaxis": {
            "gridcolor": "rgb(232,232,232)",
            "linecolor": "rgb(36,36,36)",
            "showgrid": false,
            "showline": true,
            "ticks": "outside"
           },
           "bgcolor": "white",
           "radialaxis": {
            "gridcolor": "rgb(232,232,232)",
            "linecolor": "rgb(36,36,36)",
            "showgrid": false,
            "showline": true,
            "ticks": "outside"
           }
          },
          "scene": {
           "xaxis": {
            "backgroundcolor": "white",
            "gridcolor": "rgb(232,232,232)",
            "gridwidth": 2,
            "linecolor": "rgb(36,36,36)",
            "showbackground": true,
            "showgrid": false,
            "showline": true,
            "ticks": "outside",
            "zeroline": false,
            "zerolinecolor": "rgb(36,36,36)"
           },
           "yaxis": {
            "backgroundcolor": "white",
            "gridcolor": "rgb(232,232,232)",
            "gridwidth": 2,
            "linecolor": "rgb(36,36,36)",
            "showbackground": true,
            "showgrid": false,
            "showline": true,
            "ticks": "outside",
            "zeroline": false,
            "zerolinecolor": "rgb(36,36,36)"
           },
           "zaxis": {
            "backgroundcolor": "white",
            "gridcolor": "rgb(232,232,232)",
            "gridwidth": 2,
            "linecolor": "rgb(36,36,36)",
            "showbackground": true,
            "showgrid": false,
            "showline": true,
            "ticks": "outside",
            "zeroline": false,
            "zerolinecolor": "rgb(36,36,36)"
           }
          },
          "shapedefaults": {
           "fillcolor": "black",
           "line": {
            "width": 0
           },
           "opacity": 0.3
          },
          "ternary": {
           "aaxis": {
            "gridcolor": "rgb(232,232,232)",
            "linecolor": "rgb(36,36,36)",
            "showgrid": false,
            "showline": true,
            "ticks": "outside"
           },
           "baxis": {
            "gridcolor": "rgb(232,232,232)",
            "linecolor": "rgb(36,36,36)",
            "showgrid": false,
            "showline": true,
            "ticks": "outside"
           },
           "bgcolor": "white",
           "caxis": {
            "gridcolor": "rgb(232,232,232)",
            "linecolor": "rgb(36,36,36)",
            "showgrid": false,
            "showline": true,
            "ticks": "outside"
           }
          },
          "title": {
           "x": 0.05
          },
          "xaxis": {
           "automargin": true,
           "gridcolor": "rgb(232,232,232)",
           "linecolor": "rgb(36,36,36)",
           "showgrid": false,
           "showline": true,
           "ticks": "outside",
           "title": {
            "standoff": 15
           },
           "zeroline": false,
           "zerolinecolor": "rgb(36,36,36)"
          },
          "yaxis": {
           "automargin": true,
           "gridcolor": "rgb(232,232,232)",
           "linecolor": "rgb(36,36,36)",
           "showgrid": false,
           "showline": true,
           "ticks": "outside",
           "title": {
            "standoff": 15
           },
           "zeroline": false,
           "zerolinecolor": "rgb(36,36,36)"
          }
         }
        },
        "title": {
         "font": {
          "size": 22
         },
         "text": "structure 1 | post"
        },
        "width": 600,
        "xaxis": {
         "range": [
          4,
          13
         ],
         "showgrid": false,
         "visible": false,
         "zeroline": true
        },
        "yaxis": {
         "range": [
          -0.1,
          1.05
         ],
         "showgrid": false,
         "tickfont": {
          "color": "black",
          "family": "Helvetica",
          "size": 24
         },
         "title": {
          "font": {
           "color": "black",
           "family": "Helvetica",
           "size": 24
          },
          "text": "F1 score"
         }
        }
       }
      },
      "text/html": [
       "<div>\n",
       "        \n",
       "        \n",
       "            <div id=\"d0c9b539-103e-4fb4-b372-72770eb38204\" class=\"plotly-graph-div\" style=\"height:400px; width:600px;\"></div>\n",
       "            <script type=\"text/javascript\">\n",
       "                require([\"plotly\"], function(Plotly) {\n",
       "                    window.PLOTLYENV=window.PLOTLYENV || {};\n",
       "                    \n",
       "                if (document.getElementById(\"d0c9b539-103e-4fb4-b372-72770eb38204\")) {\n",
       "                    Plotly.newPlot(\n",
       "                        'd0c9b539-103e-4fb4-b372-72770eb38204',\n",
       "                        [{\"hoverinfo\": \"none\", \"line\": {\"color\": \"#2e2e2e\", \"width\": 0.8}, \"mode\": \"lines\", \"opacity\": 0.1, \"type\": \"scatter\", \"x\": [8.5, 4.5], \"y\": [0, 0.13333333333333336]}, {\"hoverinfo\": \"none\", \"line\": {\"color\": \"#2e2e2e\", \"width\": 18.400000000000002}, \"mode\": \"lines\", \"opacity\": 0.95, \"type\": \"scatter\", \"x\": [8.5, 10.5], \"y\": [0, 0.14285714285714288]}, {\"hoverinfo\": \"none\", \"line\": {\"color\": \"#2e2e2e\", \"width\": 1.6}, \"mode\": \"lines\", \"opacity\": 0.3, \"type\": \"scatter\", \"x\": [8.5, 10.5], \"y\": [0, 0.2666666666666667]}, {\"hoverinfo\": \"none\", \"line\": {\"color\": \"#2e2e2e\", \"width\": 12.0}, \"mode\": \"lines\", \"opacity\": 0.95, \"type\": \"scatter\", \"x\": [8.5, 6.5], \"y\": [0, 0.2666666666666667]}, {\"hoverinfo\": \"none\", \"line\": {\"color\": \"#2e2e2e\", \"width\": 1.6}, \"mode\": \"lines\", \"opacity\": 0.3, \"type\": \"scatter\", \"x\": [8.5, 11.5], \"y\": [0, 0.07142857142857144]}, {\"hoverinfo\": \"none\", \"line\": {\"color\": \"#2e2e2e\", \"width\": 1.6}, \"mode\": \"lines\", \"opacity\": 0.3, \"type\": \"scatter\", \"x\": [8.5, 7.5], \"y\": [0, 0.14285714285714288]}, {\"hoverinfo\": \"none\", \"line\": {\"color\": \"#2e2e2e\", \"width\": 0.8}, \"mode\": \"lines\", \"opacity\": 0.1, \"type\": \"scatter\", \"x\": [8.5, 7.5], \"y\": [0, 0.07407407407407407]}, {\"hoverinfo\": \"none\", \"line\": {\"color\": \"#2e2e2e\", \"width\": 1.6}, \"mode\": \"lines\", \"opacity\": 0.3, \"type\": \"scatter\", \"x\": [8.5, 7.5], \"y\": [0, 0.2]}, {\"hoverinfo\": \"none\", \"line\": {\"color\": \"#2e2e2e\", \"width\": 0.8}, \"mode\": \"lines\", \"opacity\": 0.1, \"type\": \"scatter\", \"x\": [8.5, 7.5], \"y\": [0, 0.2666666666666667]}, {\"hoverinfo\": \"none\", \"line\": {\"color\": \"#2e2e2e\", \"width\": 0.8}, \"mode\": \"lines\", \"opacity\": 0.1, \"type\": \"scatter\", \"x\": [4.5, 4.5], \"y\": [0.13333333333333336, 0.2058823529411765]}, {\"hoverinfo\": \"none\", \"line\": {\"color\": \"#2e2e2e\", \"width\": 2.4000000000000004}, \"mode\": \"lines\", \"opacity\": 0.5, \"type\": \"scatter\", \"x\": [9.0, 7.833333333333333], \"y\": [0.2666666666666667, 0.375]}, {\"hoverinfo\": \"none\", \"line\": {\"color\": \"#2e2e2e\", \"width\": 0.8}, \"mode\": \"lines\", \"opacity\": 0.1, \"type\": \"scatter\", \"x\": [9.0, 8.4], \"y\": [0.2666666666666667, 0.3225806451612904]}, {\"hoverinfo\": \"none\", \"line\": {\"color\": \"#2e2e2e\", \"width\": 0.8}, \"mode\": \"lines\", \"opacity\": 0.1, \"type\": \"scatter\", \"x\": [10.5, 9.3], \"y\": [0.2666666666666667, 0.411764705882353]}, {\"hoverinfo\": \"none\", \"line\": {\"color\": \"#2e2e2e\", \"width\": 0.8}, \"mode\": \"lines\", \"opacity\": 0.1, \"type\": \"scatter\", \"x\": [10.5, 8.9], \"y\": [0.2666666666666667, 0.4705882352941176]}, {\"hoverinfo\": \"none\", \"line\": {\"color\": \"#2e2e2e\", \"width\": 9.600000000000001}, \"mode\": \"lines\", \"opacity\": 0.95, \"type\": \"scatter\", \"x\": [6.5, 7.833333333333333], \"y\": [0.2666666666666667, 0.375]}, {\"hoverinfo\": \"none\", \"line\": {\"color\": \"#2e2e2e\", \"width\": 0.8}, \"mode\": \"lines\", \"opacity\": 0.1, \"type\": \"scatter\", \"x\": [6.5, 6.3], \"y\": [0.2666666666666667, 0.3225806451612904]}, {\"hoverinfo\": \"none\", \"line\": {\"color\": \"#2e2e2e\", \"width\": 0.8}, \"mode\": \"lines\", \"opacity\": 0.1, \"type\": \"scatter\", \"x\": [6.5, 6.2], \"y\": [0.2666666666666667, 0.2903225806451613]}, {\"hoverinfo\": \"none\", \"line\": {\"color\": \"#2e2e2e\", \"width\": 0.8}, \"mode\": \"lines\", \"opacity\": 0.1, \"type\": \"scatter\", \"x\": [6.5, 6.7], \"y\": [0.2666666666666667, 0.3225806451612904]}, {\"hoverinfo\": \"none\", \"line\": {\"color\": \"#2e2e2e\", \"width\": 0.8}, \"mode\": \"lines\", \"opacity\": 0.1, \"type\": \"scatter\", \"x\": [6.5, 6.5], \"y\": [0.2666666666666667, 0.44117647058823534]}, {\"hoverinfo\": \"none\", \"line\": {\"color\": \"#2e2e2e\", \"width\": 0.8}, \"mode\": \"lines\", \"opacity\": 0.1, \"type\": \"scatter\", \"x\": [6.125, 5.7], \"y\": [0.2, 0.1935483870967742]}, {\"hoverinfo\": \"none\", \"line\": {\"color\": \"#2e2e2e\", \"width\": 0.8}, \"mode\": \"lines\", \"opacity\": 0.1, \"type\": \"scatter\", \"x\": [7.5, 7.3], \"y\": [0.2, 0.25806451612903225]}, {\"hoverinfo\": \"none\", \"line\": {\"color\": \"#2e2e2e\", \"width\": 0.8}, \"mode\": \"lines\", \"opacity\": 0.1, \"type\": \"scatter\", \"x\": [7.5, 9.9], \"y\": [0.2, 0.3529411764705882]}, {\"hoverinfo\": \"none\", \"line\": {\"color\": \"#2e2e2e\", \"width\": 0.8}, \"mode\": \"lines\", \"opacity\": 0.1, \"type\": \"scatter\", \"x\": [11.5, 9.1], \"y\": [0.2, 0.3529411764705882]}, {\"hoverinfo\": \"none\", \"line\": {\"color\": \"#2e2e2e\", \"width\": 0.8}, \"mode\": \"lines\", \"opacity\": 0.1, \"type\": \"scatter\", \"x\": [7.5, 7.0], \"y\": [0.2666666666666667, 0.375]}, {\"hoverinfo\": \"none\", \"line\": {\"color\": \"#2e2e2e\", \"width\": 0.8}, \"mode\": \"lines\", \"opacity\": 0.1, \"type\": \"scatter\", \"x\": [4.5, 5.071428571428571], \"y\": [0.2058823529411765, 0.25]}, {\"hoverinfo\": \"none\", \"line\": {\"color\": \"#2e2e2e\", \"width\": 0.8}, \"mode\": \"lines\", \"opacity\": 0.1, \"type\": \"scatter\", \"x\": [7.3, 7.083333333333333], \"y\": [0.4705882352941176, 0.5142857142857142]}, {\"hoverinfo\": \"none\", \"line\": {\"color\": \"#2e2e2e\", \"width\": 2.4000000000000004}, \"mode\": \"lines\", \"opacity\": 0.5, \"type\": \"scatter\", \"x\": [7.3, 9.166666666666666], \"y\": [0.4705882352941176, 0.631578947368421]}, {\"hoverinfo\": \"none\", \"line\": {\"color\": \"#2e2e2e\", \"width\": 0.8}, \"mode\": \"lines\", \"opacity\": 0.1, \"type\": \"scatter\", \"x\": [7.3, 7.333333333333333], \"y\": [0.4705882352941176, 0.5142857142857142]}, {\"hoverinfo\": \"none\", \"line\": {\"color\": \"#2e2e2e\", \"width\": 0.8}, \"mode\": \"lines\", \"opacity\": 0.1, \"type\": \"scatter\", \"x\": [7.3, 7.071428571428571], \"y\": [0.4705882352941176, 0.5555555555555556]}, {\"hoverinfo\": \"none\", \"line\": {\"color\": \"#2e2e2e\", \"width\": 0.8}, \"mode\": \"lines\", \"opacity\": 0.1, \"type\": \"scatter\", \"x\": [9.3, 8.5], \"y\": [0.411764705882353, 0.5789473684210527]}, {\"hoverinfo\": \"none\", \"line\": {\"color\": \"#2e2e2e\", \"width\": 0.8}, \"mode\": \"lines\", \"opacity\": 0.1, \"type\": \"scatter\", \"x\": [7.6, 9.416666666666666], \"y\": [0.4705882352941176, 0.631578947368421]}, {\"hoverinfo\": \"none\", \"line\": {\"color\": \"#2e2e2e\", \"width\": 0.8}, \"mode\": \"lines\", \"opacity\": 0.1, \"type\": \"scatter\", \"x\": [5.454545454545454, 5.384615384615385], \"y\": [0.3235294117647059, 0.3142857142857143]}, {\"hoverinfo\": \"none\", \"line\": {\"color\": \"#2e2e2e\", \"width\": 0.8}, \"mode\": \"lines\", \"opacity\": 0.1, \"type\": \"scatter\", \"x\": [8.3, 8.357142857142858], \"y\": [0.3529411764705882, 0.4444444444444444]}, {\"hoverinfo\": \"none\", \"line\": {\"color\": \"#2e2e2e\", \"width\": 0.8}, \"mode\": \"lines\", \"opacity\": 0.1, \"type\": \"scatter\", \"x\": [9.1, 9.0], \"y\": [0.3529411764705882, 0.4]}, {\"hoverinfo\": \"none\", \"line\": {\"color\": \"#2e2e2e\", \"width\": 1.6}, \"mode\": \"lines\", \"opacity\": 0.3, \"type\": \"scatter\", \"x\": [7.0, 8.916666666666666], \"y\": [0.4705882352941176, 0.631578947368421]}, {\"hoverinfo\": \"none\", \"line\": {\"color\": \"#2e2e2e\", \"width\": 0.8}, \"mode\": \"lines\", \"opacity\": 0.1, \"type\": \"scatter\", \"x\": [7.0, 7.142857142857143], \"y\": [0.4705882352941176, 0.5555555555555556]}, {\"hoverinfo\": \"none\", \"line\": {\"color\": \"#2e2e2e\", \"width\": 0.8}, \"mode\": \"lines\", \"opacity\": 0.1, \"type\": \"scatter\", \"x\": [6.833333333333333, 7.357142857142857], \"y\": [0.4705882352941176, 0.5555555555555556]}, {\"hoverinfo\": \"none\", \"line\": {\"color\": \"#2e2e2e\", \"width\": 0.8}, \"mode\": \"lines\", \"opacity\": 0.1, \"type\": \"scatter\", \"x\": [8.9, 8.5], \"y\": [0.4705882352941176, 0.631578947368421]}, {\"hoverinfo\": \"none\", \"line\": {\"color\": \"#2e2e2e\", \"width\": 0.8}, \"mode\": \"lines\", \"opacity\": 0.1, \"type\": \"scatter\", \"x\": [9.9, 10.181818181818182], \"y\": [0.3529411764705882, 0.3428571428571429]}, {\"hoverinfo\": \"none\", \"line\": {\"color\": \"#2e2e2e\", \"width\": 0.8}, \"mode\": \"lines\", \"opacity\": 0.1, \"type\": \"scatter\", \"x\": [6.5, 7.071428571428571], \"y\": [0.44117647058823534, 0.5277777777777778]}, {\"hoverinfo\": \"none\", \"line\": {\"color\": \"#2e2e2e\", \"width\": 0.8}, \"mode\": \"lines\", \"opacity\": 0.1, \"type\": \"scatter\", \"x\": [10.0, 9.357142857142858], \"y\": [0.4705882352941176, 0.5555555555555556]}, {\"hoverinfo\": \"none\", \"line\": {\"color\": \"#2e2e2e\", \"width\": 0.8}, \"mode\": \"lines\", \"opacity\": 0.1, \"type\": \"scatter\", \"x\": [5.071428571428571, 5.833333333333333], \"y\": [0.25, 0.34210526315789475]}, {\"hoverinfo\": \"none\", \"line\": {\"color\": \"#2e2e2e\", \"width\": 4.800000000000001}, \"mode\": \"lines\", \"opacity\": 0.95, \"type\": \"scatter\", \"x\": [9.357142857142858, 9.5], \"y\": [0.5555555555555556, 0.631578947368421]}, {\"hoverinfo\": \"none\", \"line\": {\"color\": \"#2e2e2e\", \"width\": 4.800000000000001}, \"mode\": \"lines\", \"opacity\": 0.95, \"type\": \"scatter\", \"x\": [9.357142857142858, 9.5], \"y\": [0.5555555555555556, 0.5945945945945945]}, {\"hoverinfo\": \"none\", \"line\": {\"color\": \"#2e2e2e\", \"width\": 2.4000000000000004}, \"mode\": \"lines\", \"opacity\": 0.5, \"type\": \"scatter\", \"x\": [9.357142857142858, 10.5], \"y\": [0.5555555555555556, 0.7000000000000001]}, {\"hoverinfo\": \"none\", \"line\": {\"color\": \"#2e2e2e\", \"width\": 2.4000000000000004}, \"mode\": \"lines\", \"opacity\": 0.5, \"type\": \"scatter\", \"x\": [9.357142857142858, 9.166666666666666], \"y\": [0.5555555555555556, 0.631578947368421]}, {\"hoverinfo\": \"none\", \"line\": {\"color\": \"#2e2e2e\", \"width\": 1.6}, \"mode\": \"lines\", \"opacity\": 0.3, \"type\": \"scatter\", \"x\": [7.142857142857143, 6.916666666666667], \"y\": [0.5555555555555556, 0.631578947368421]}, {\"hoverinfo\": \"none\", \"line\": {\"color\": \"#2e2e2e\", \"width\": 0.8}, \"mode\": \"lines\", \"opacity\": 0.1, \"type\": \"scatter\", \"x\": [7.142857142857143, 7.583333333333333], \"y\": [0.5555555555555556, 0.631578947368421]}, {\"hoverinfo\": \"none\", \"line\": {\"color\": \"#2e2e2e\", \"width\": 0.8}, \"mode\": \"lines\", \"opacity\": 0.1, \"type\": \"scatter\", \"x\": [7.142857142857143, 8.625], \"y\": [0.5555555555555556, 0.7000000000000001]}, {\"hoverinfo\": \"none\", \"line\": {\"color\": \"#2e2e2e\", \"width\": 0.8}, \"mode\": \"lines\", \"opacity\": 0.1, \"type\": \"scatter\", \"x\": [5.466666666666667, 5.2], \"y\": [0.33333333333333337, 0.42105263157894735]}, {\"hoverinfo\": \"none\", \"line\": {\"color\": \"#2e2e2e\", \"width\": 0.8}, \"mode\": \"lines\", \"opacity\": 0.1, \"type\": \"scatter\", \"x\": [8.357142857142858, 10.0], \"y\": [0.4444444444444444, 0.55]}, {\"hoverinfo\": \"none\", \"line\": {\"color\": \"#2e2e2e\", \"width\": 0.8}, \"mode\": \"lines\", \"opacity\": 0.1, \"type\": \"scatter\", \"x\": [9.0, 10.0], \"y\": [0.3888888888888889, 0.4736842105263157]}, {\"hoverinfo\": \"none\", \"line\": {\"color\": \"#2e2e2e\", \"width\": 0.8}, \"mode\": \"lines\", \"opacity\": 0.1, \"type\": \"scatter\", \"x\": [7.071428571428571, 8.5], \"y\": [0.5277777777777778, 0.6749999999999999]}, {\"hoverinfo\": \"none\", \"line\": {\"color\": \"#2e2e2e\", \"width\": 0.8}, \"mode\": \"lines\", \"opacity\": 0.1, \"type\": \"scatter\", \"x\": [7.071428571428571, 7.833333333333333], \"y\": [0.5277777777777778, 0.6052631578947368]}, {\"hoverinfo\": \"none\", \"line\": {\"color\": \"#2e2e2e\", \"width\": 0.8}, \"mode\": \"lines\", \"opacity\": 0.1, \"type\": \"scatter\", \"x\": [7.357142857142857, 9.0], \"y\": [0.5555555555555556, 0.7000000000000001]}, {\"hoverinfo\": \"none\", \"line\": {\"color\": \"#2e2e2e\", \"width\": 0.8}, \"mode\": \"lines\", \"opacity\": 0.1, \"type\": \"scatter\", \"x\": [7.642857142857143, 8.833333333333334], \"y\": [0.5555555555555556, 0.631578947368421]}, {\"hoverinfo\": \"none\", \"line\": {\"color\": \"#2e2e2e\", \"width\": 0.8}, \"mode\": \"lines\", \"opacity\": 0.1, \"type\": \"scatter\", \"x\": [8.785714285714286, 8.9], \"y\": [0.5555555555555556, 0.5945945945945945]}, {\"hoverinfo\": \"none\", \"line\": {\"color\": \"#2e2e2e\", \"width\": 0.8}, \"mode\": \"lines\", \"opacity\": 0.1, \"type\": \"scatter\", \"x\": [7.071428571428571, 7.833333333333333], \"y\": [0.5555555555555556, 0.631578947368421]}, {\"hoverinfo\": \"none\", \"line\": {\"color\": \"#2e2e2e\", \"width\": 0.8}, \"mode\": \"lines\", \"opacity\": 0.1, \"type\": \"scatter\", \"x\": [5.833333333333333, 5.642857142857143], \"y\": [0.34210526315789475, 0.38095238095238104]}, {\"hoverinfo\": \"none\", \"line\": {\"color\": \"#2e2e2e\", \"width\": 4.800000000000001}, \"mode\": \"lines\", \"opacity\": 0.95, \"type\": \"scatter\", \"x\": [9.5, 9.0], \"y\": [0.631578947368421, 0.6666666666666666]}, {\"hoverinfo\": \"none\", \"line\": {\"color\": \"#2e2e2e\", \"width\": 0.8}, \"mode\": \"lines\", \"opacity\": 0.1, \"type\": \"scatter\", \"x\": [8.5, 9.0], \"y\": [0.5789473684210527, 0.65]}, {\"hoverinfo\": \"none\", \"line\": {\"color\": \"#2e2e2e\", \"width\": 0.8}, \"mode\": \"lines\", \"opacity\": 0.1, \"type\": \"scatter\", \"x\": [9.416666666666666, 9.285714285714286], \"y\": [0.631578947368421, 0.6666666666666666]}, {\"hoverinfo\": \"none\", \"line\": {\"color\": \"#2e2e2e\", \"width\": 0.8}, \"mode\": \"lines\", \"opacity\": 0.1, \"type\": \"scatter\", \"x\": [8.916666666666666, 8.25], \"y\": [0.631578947368421, 0.7619047619047621]}, {\"hoverinfo\": \"none\", \"line\": {\"color\": \"#2e2e2e\", \"width\": 2.4000000000000004}, \"mode\": \"lines\", \"opacity\": 0.5, \"type\": \"scatter\", \"x\": [8.916666666666666, 8.625], \"y\": [0.631578947368421, 0.7000000000000001]}, {\"hoverinfo\": \"none\", \"line\": {\"color\": \"#2e2e2e\", \"width\": 2.4000000000000004}, \"mode\": \"lines\", \"opacity\": 0.5, \"type\": \"scatter\", \"x\": [9.166666666666666, 8.5], \"y\": [0.631578947368421, 0.7000000000000001]}, {\"hoverinfo\": \"none\", \"line\": {\"color\": \"#2e2e2e\", \"width\": 0.8}, \"mode\": \"lines\", \"opacity\": 0.1, \"type\": \"scatter\", \"x\": [9.166666666666666, 8.928571428571429], \"y\": [0.631578947368421, 0.6666666666666666]}, {\"hoverinfo\": \"none\", \"line\": {\"color\": \"#2e2e2e\", \"width\": 0.8}, \"mode\": \"lines\", \"opacity\": 0.1, \"type\": \"scatter\", \"x\": [9.166666666666666, 7.833333333333333], \"y\": [0.631578947368421, 0.7142857142857143]}, {\"hoverinfo\": \"none\", \"line\": {\"color\": \"#2e2e2e\", \"width\": 0.8}, \"mode\": \"lines\", \"opacity\": 0.1, \"type\": \"scatter\", \"x\": [6.916666666666667, 7.0], \"y\": [0.631578947368421, 0.6666666666666666]}, {\"hoverinfo\": \"none\", \"line\": {\"color\": \"#2e2e2e\", \"width\": 0.8}, \"mode\": \"lines\", \"opacity\": 0.1, \"type\": \"scatter\", \"x\": [6.916666666666667, 8.25], \"y\": [0.631578947368421, 0.7619047619047621]}, {\"hoverinfo\": \"none\", \"line\": {\"color\": \"#2e2e2e\", \"width\": 0.8}, \"mode\": \"lines\", \"opacity\": 0.1, \"type\": \"scatter\", \"x\": [5.2, 6.444444444444445], \"y\": [0.42105263157894735, 0.5]}, {\"hoverinfo\": \"none\", \"line\": {\"color\": \"#2e2e2e\", \"width\": 0.8}, \"mode\": \"lines\", \"opacity\": 0.1, \"type\": \"scatter\", \"x\": [9.3, 8.833333333333334], \"y\": [0.5526315789473685, 0.5897435897435898]}, {\"hoverinfo\": \"none\", \"line\": {\"color\": \"#2e2e2e\", \"width\": 0.8}, \"mode\": \"lines\", \"opacity\": 0.1, \"type\": \"scatter\", \"x\": [10.0, 9.9], \"y\": [0.4736842105263157, 0.5128205128205128]}, {\"hoverinfo\": \"none\", \"line\": {\"color\": \"#2e2e2e\", \"width\": 0.8}, \"mode\": \"lines\", \"opacity\": 0.1, \"type\": \"scatter\", \"x\": [8.5, 8.5], \"y\": [0.631578947368421, 0.7619047619047621]}, {\"hoverinfo\": \"none\", \"line\": {\"color\": \"#2e2e2e\", \"width\": 0.8}, \"mode\": \"lines\", \"opacity\": 0.1, \"type\": \"scatter\", \"x\": [7.583333333333333, 7.6], \"y\": [0.631578947368421, 0.7000000000000001]}, {\"hoverinfo\": \"none\", \"line\": {\"color\": \"#2e2e2e\", \"width\": 0.8}, \"mode\": \"lines\", \"opacity\": 0.1, \"type\": \"scatter\", \"x\": [8.25, 8.0], \"y\": [0.6052631578947368, 0.6410256410256411]}, {\"hoverinfo\": \"none\", \"line\": {\"color\": \"#2e2e2e\", \"width\": 2.4000000000000004}, \"mode\": \"lines\", \"opacity\": 0.5, \"type\": \"scatter\", \"x\": [9.166666666666666, 9.0], \"y\": [0.631578947368421, 0.6666666666666666]}, {\"hoverinfo\": \"none\", \"line\": {\"color\": \"#2e2e2e\", \"width\": 0.8}, \"mode\": \"lines\", \"opacity\": 0.1, \"type\": \"scatter\", \"x\": [7.833333333333333, 8.5], \"y\": [0.6052631578947368, 0.6749999999999999]}, {\"hoverinfo\": \"none\", \"line\": {\"color\": \"#2e2e2e\", \"width\": 0.8}, \"mode\": \"lines\", \"opacity\": 0.1, \"type\": \"scatter\", \"x\": [7.833333333333333, 8.785714285714286], \"y\": [0.631578947368421, 0.7619047619047621]}, {\"hoverinfo\": \"none\", \"line\": {\"color\": \"#2e2e2e\", \"width\": 0.8}, \"mode\": \"lines\", \"opacity\": 0.1, \"type\": \"scatter\", \"x\": [5.642857142857143, 6.0], \"y\": [0.38095238095238104, 0.4347826086956522]}, {\"hoverinfo\": \"none\", \"line\": {\"color\": \"#2e2e2e\", \"width\": 0.8}, \"mode\": \"lines\", \"opacity\": 0.1, \"type\": \"scatter\", \"x\": [8.8, 8.823529411764707], \"y\": [0.7619047619047621, 0.7906976744186047]}, {\"hoverinfo\": \"none\", \"line\": {\"color\": \"#2e2e2e\", \"width\": 0.8}, \"mode\": \"lines\", \"opacity\": 0.1, \"type\": \"scatter\", \"x\": [8.25, 8.0625], \"y\": [0.7619047619047621, 0.8181818181818181]}, {\"hoverinfo\": \"none\", \"line\": {\"color\": \"#2e2e2e\", \"width\": 1.6}, \"mode\": \"lines\", \"opacity\": 0.3, \"type\": \"scatter\", \"x\": [8.25, 9.23076923076923], \"y\": [0.7619047619047621, 0.8695652173913044]}, {\"hoverinfo\": \"none\", \"line\": {\"color\": \"#2e2e2e\", \"width\": 0.8}, \"mode\": \"lines\", \"opacity\": 0.1, \"type\": \"scatter\", \"x\": [7.833333333333333, 8.5], \"y\": [0.7142857142857143, 0.8260869565217392]}, {\"hoverinfo\": \"none\", \"line\": {\"color\": \"#2e2e2e\", \"width\": 0.8}, \"mode\": \"lines\", \"opacity\": 0.1, \"type\": \"scatter\", \"x\": [7.6923076923076925, 8.25], \"y\": [0.5714285714285714, 0.6956521739130435]}, {\"hoverinfo\": \"none\", \"line\": {\"color\": \"#2e2e2e\", \"width\": 0.8}, \"mode\": \"lines\", \"opacity\": 0.1, \"type\": \"scatter\", \"x\": [8.583333333333334, 9.0], \"y\": [0.7619047619047621, 0.7906976744186047]}, {\"hoverinfo\": \"none\", \"line\": {\"color\": \"#2e2e2e\", \"width\": 0.8}, \"mode\": \"lines\", \"opacity\": 0.1, \"type\": \"scatter\", \"x\": [10.5, 9.5], \"y\": [0.7619047619047621, 0.8181818181818181]}, {\"hoverinfo\": \"none\", \"line\": {\"color\": \"#2e2e2e\", \"width\": 0.8}, \"mode\": \"lines\", \"opacity\": 0.1, \"type\": \"scatter\", \"x\": [7.833333333333333, 9.166666666666666], \"y\": [0.7142857142857143, 0.8260869565217392]}, {\"hoverinfo\": \"none\", \"line\": {\"color\": \"#2e2e2e\", \"width\": 0.8}, \"mode\": \"lines\", \"opacity\": 0.1, \"type\": \"scatter\", \"x\": [8.5, 8.8125], \"y\": [0.7619047619047621, 0.7906976744186047]}, {\"hoverinfo\": \"none\", \"line\": {\"color\": \"#2e2e2e\", \"width\": 0.8}, \"mode\": \"lines\", \"opacity\": 0.1, \"type\": \"scatter\", \"x\": [8.142857142857142, 8.0], \"y\": [0.7619047619047621, 0.8181818181818181]}, {\"hoverinfo\": \"none\", \"line\": {\"color\": \"#2e2e2e\", \"width\": 0.8}, \"mode\": \"lines\", \"opacity\": 0.1, \"type\": \"scatter\", \"x\": [8.214285714285714, 7.9375], \"y\": [0.7380952380952379, 0.7441860465116279]}, {\"hoverinfo\": \"none\", \"line\": {\"color\": \"#2e2e2e\", \"width\": 0.8}, \"mode\": \"lines\", \"opacity\": 0.1, \"type\": \"scatter\", \"x\": [8.785714285714286, 9.166666666666666], \"y\": [0.7619047619047621, 0.8695652173913044]}, {\"hoverinfo\": \"none\", \"line\": {\"color\": \"#2e2e2e\", \"width\": 0.8}, \"mode\": \"lines\", \"opacity\": 0.1, \"type\": \"scatter\", \"x\": [6.0, 6.5], \"y\": [0.4347826086956522, 0.4999999999999999]}, {\"hoverinfo\": \"none\", \"line\": {\"color\": \"#2e2e2e\", \"width\": 0.8}, \"mode\": \"lines\", \"opacity\": 0.1, \"type\": \"scatter\", \"x\": [9.785714285714286, 9.75], \"y\": [0.8695652173913044, 0.8936170212765957]}, {\"hoverinfo\": \"none\", \"line\": {\"color\": \"#2e2e2e\", \"width\": 2.4000000000000004}, \"mode\": \"lines\", \"opacity\": 0.5, \"type\": \"scatter\", \"x\": [9.23076923076923, 8.928571428571429], \"y\": [0.8695652173913044, 0.96]}, {\"hoverinfo\": \"none\", \"line\": {\"color\": \"#2e2e2e\", \"width\": 0.8}, \"mode\": \"lines\", \"opacity\": 0.1, \"type\": \"scatter\", \"x\": [9.23076923076923, 9.0], \"y\": [0.8695652173913044, 0.8936170212765957]}, {\"hoverinfo\": \"none\", \"line\": {\"color\": \"#2e2e2e\", \"width\": 0.8}, \"mode\": \"lines\", \"opacity\": 0.1, \"type\": \"scatter\", \"x\": [9.23076923076923, 10.071428571428571], \"y\": [0.8695652173913044, 0.96]}, {\"hoverinfo\": \"none\", \"line\": {\"color\": \"#2e2e2e\", \"width\": 1.6}, \"mode\": \"lines\", \"opacity\": 0.3, \"type\": \"scatter\", \"x\": [8.5, 9.0], \"y\": [0.8260869565217392, 0.8510638297872339]}, {\"hoverinfo\": \"none\", \"line\": {\"color\": \"#2e2e2e\", \"width\": 1.6}, \"mode\": \"lines\", \"opacity\": 0.3, \"type\": \"scatter\", \"x\": [9.214285714285714, 9.25], \"y\": [0.8695652173913044, 0.8936170212765957]}, {\"hoverinfo\": \"none\", \"line\": {\"color\": \"#2e2e2e\", \"width\": 0.8}, \"mode\": \"lines\", \"opacity\": 0.1, \"type\": \"scatter\", \"x\": [8.25, 8.333333333333334], \"y\": [0.6956521739130435, 0.7500000000000001]}, {\"hoverinfo\": \"none\", \"line\": {\"color\": \"#2e2e2e\", \"width\": 0.8}, \"mode\": \"lines\", \"opacity\": 0.1, \"type\": \"scatter\", \"x\": [6.333333333333333, 7.5], \"y\": [0.6956521739130435, 0.8]}, {\"hoverinfo\": \"none\", \"line\": {\"color\": \"#2e2e2e\", \"width\": 0.8}, \"mode\": \"lines\", \"opacity\": 0.1, \"type\": \"scatter\", \"x\": [9.5, 8.833333333333334], \"y\": [0.7173913043478259, 0.7234042553191489]}, {\"hoverinfo\": \"none\", \"line\": {\"color\": \"#2e2e2e\", \"width\": 0.8}, \"mode\": \"lines\", \"opacity\": 0.1, \"type\": \"scatter\", \"x\": [9.571428571428571, 9.8125], \"y\": [0.8695652173913044, 0.8936170212765957]}, {\"hoverinfo\": \"none\", \"line\": {\"color\": \"#2e2e2e\", \"width\": 0.8}, \"mode\": \"lines\", \"opacity\": 0.1, \"type\": \"scatter\", \"x\": [9.166666666666666, 8.5], \"y\": [0.8260869565217392, 0.8333333333333333]}, {\"hoverinfo\": \"none\", \"line\": {\"color\": \"#2e2e2e\", \"width\": 0.8}, \"mode\": \"lines\", \"opacity\": 0.1, \"type\": \"scatter\", \"x\": [9.5, 10.0], \"y\": [0.6956521739130435, 0.6808510638297872]}, {\"hoverinfo\": \"none\", \"line\": {\"color\": \"#2e2e2e\", \"width\": 0.8}, \"mode\": \"lines\", \"opacity\": 0.1, \"type\": \"scatter\", \"x\": [9.166666666666666, 8.75], \"y\": [0.8695652173913044, 0.875]}, {\"hoverinfo\": \"none\", \"line\": {\"color\": \"#2e2e2e\", \"width\": 0.8}, \"mode\": \"lines\", \"opacity\": 0.1, \"type\": \"scatter\", \"x\": [9.5, 9.214285714285714], \"y\": [0.9166666666666666, 0.9387755102040816]}, {\"hoverinfo\": \"none\", \"line\": {\"color\": \"#2e2e2e\", \"width\": 0.8}, \"mode\": \"lines\", \"opacity\": 0.1, \"type\": \"scatter\", \"x\": [9.222222222222221, 9.0], \"y\": [0.8333333333333333, 0.836734693877551]}, {\"hoverinfo\": \"none\", \"line\": {\"color\": \"#2e2e2e\", \"width\": 2.4000000000000004}, \"mode\": \"lines\", \"opacity\": 0.5, \"type\": \"scatter\", \"x\": [8.7, 9.5], \"y\": [0.9166666666666666, 1.0]}, {\"hoverinfo\": \"none\", \"line\": {\"color\": \"#2e2e2e\", \"width\": 1.6}, \"mode\": \"lines\", \"opacity\": 0.3, \"type\": \"scatter\", \"x\": [9.1, 9.5], \"y\": [0.9166666666666666, 0.9387755102040816]}, {\"hoverinfo\": \"none\", \"line\": {\"color\": \"#2e2e2e\", \"width\": 0.8}, \"mode\": \"lines\", \"opacity\": 0.1, \"type\": \"scatter\", \"x\": [10.5, 10.153846153846153], \"y\": [0.8958333333333334, 0.8979591836734695]}, {\"hoverinfo\": \"none\", \"line\": {\"color\": \"#2e2e2e\", \"width\": 0.8}, \"mode\": \"lines\", \"opacity\": 0.1, \"type\": \"scatter\", \"x\": [11.5, 11.5], \"y\": [0.7083333333333333, 0.68]}, {\"hoverinfo\": \"none\", \"line\": {\"color\": \"#2e2e2e\", \"width\": 0.8}, \"mode\": \"lines\", \"opacity\": 0.1, \"type\": \"scatter\", \"x\": [9.5, 9.5], \"y\": [0.7083333333333333, 0.6938775510204079]}, {\"hoverinfo\": \"none\", \"line\": {\"color\": \"#2e2e2e\", \"width\": 0.8}, \"mode\": \"lines\", \"opacity\": 0.1, \"type\": \"scatter\", \"x\": [9.75, 9.857142857142858], \"y\": [0.9166666666666666, 0.9387755102040816]}, {\"hoverinfo\": \"none\", \"line\": {\"color\": \"#2e2e2e\", \"width\": 0.8}, \"mode\": \"lines\", \"opacity\": 0.1, \"type\": \"scatter\", \"x\": [10.5, 10.071428571428571], \"y\": [0.9166666666666666, 0.96]}, {\"hoverinfo\": \"none\", \"line\": {\"color\": \"#2e2e2e\", \"width\": 0.8}, \"mode\": \"lines\", \"opacity\": 0.1, \"type\": \"scatter\", \"x\": [10.0, 10.0], \"y\": [0.7083333333333333, 0.7346938775510203]}, {\"hoverinfo\": \"none\", \"line\": {\"color\": \"#2e2e2e\", \"width\": 0.8}, \"mode\": \"lines\", \"opacity\": 0.1, \"type\": \"scatter\", \"x\": [8.75, 8.5], \"y\": [0.875, 0.8775510204081632]}, {\"hoverinfo\": \"none\", \"line\": {\"color\": \"#2e2e2e\", \"width\": 3.2}, \"mode\": \"lines\", \"opacity\": 0.7, \"type\": \"scatter\", \"x\": [10.5, 9.0], \"y\": [0.14285714285714288, 0.2666666666666667]}, {\"hoverinfo\": \"none\", \"line\": {\"color\": \"#2e2e2e\", \"width\": 5.6000000000000005}, \"mode\": \"lines\", \"opacity\": 0.95, \"type\": \"scatter\", \"x\": [10.5, 10.5], \"y\": [0.14285714285714288, 0.375]}, {\"hoverinfo\": \"none\", \"line\": {\"color\": \"#2e2e2e\", \"width\": 9.600000000000001}, \"mode\": \"lines\", \"opacity\": 0.95, \"type\": \"scatter\", \"x\": [10.5, 7.833333333333333], \"y\": [0.14285714285714288, 0.375]}, {\"hoverinfo\": \"none\", \"line\": {\"color\": \"#2e2e2e\", \"width\": 0.8}, \"mode\": \"lines\", \"opacity\": 0.1, \"type\": \"scatter\", \"x\": [11.5, 8.166666666666666], \"y\": [0.07142857142857144, 0.3125]}, {\"hoverinfo\": \"none\", \"line\": {\"color\": \"#2e2e2e\", \"width\": 0.8}, \"mode\": \"lines\", \"opacity\": 0.1, \"type\": \"scatter\", \"x\": [11.5, 11.5], \"y\": [0.07142857142857144, 0.2]}, {\"hoverinfo\": \"none\", \"line\": {\"color\": \"#2e2e2e\", \"width\": 0.8}, \"mode\": \"lines\", \"opacity\": 0.1, \"type\": \"scatter\", \"x\": [7.5, 6.5], \"y\": [0.14285714285714288, 0.2666666666666667]}, {\"hoverinfo\": \"none\", \"line\": {\"color\": \"#2e2e2e\", \"width\": 0.8}, \"mode\": \"lines\", \"opacity\": 0.1, \"type\": \"scatter\", \"x\": [7.5, 7.0], \"y\": [0.14285714285714288, 0.20689655172413796]}, {\"hoverinfo\": \"none\", \"line\": {\"color\": \"#2e2e2e\", \"width\": 0.8}, \"mode\": \"lines\", \"opacity\": 0.1, \"type\": \"scatter\", \"x\": [6.5, 6.833333333333333], \"y\": [0.14285714285714288, 0.20689655172413796]}, {\"hoverinfo\": \"none\", \"line\": {\"color\": \"#2e2e2e\", \"width\": 9.600000000000001}, \"mode\": \"lines\", \"opacity\": 0.95, \"type\": \"scatter\", \"x\": [7.833333333333333, 7.25], \"y\": [0.375, 0.42424242424242425]}, {\"hoverinfo\": \"none\", \"line\": {\"color\": \"#2e2e2e\", \"width\": 0.8}, \"mode\": \"lines\", \"opacity\": 0.1, \"type\": \"scatter\", \"x\": [7.833333333333333, 7.5], \"y\": [0.375, 0.42424242424242425]}, {\"hoverinfo\": \"none\", \"line\": {\"color\": \"#2e2e2e\", \"width\": 8.8}, \"mode\": \"lines\", \"opacity\": 0.95, \"type\": \"scatter\", \"x\": [7.833333333333333, 9.357142857142858], \"y\": [0.375, 0.5555555555555556]}, {\"hoverinfo\": \"none\", \"line\": {\"color\": \"#2e2e2e\", \"width\": 0.8}, \"mode\": \"lines\", \"opacity\": 0.1, \"type\": \"scatter\", \"x\": [7.833333333333333, 7.285714285714286], \"y\": [0.375, 0.3636363636363637]}, {\"hoverinfo\": \"none\", \"line\": {\"color\": \"#2e2e2e\", \"width\": 0.8}, \"mode\": \"lines\", \"opacity\": 0.1, \"type\": \"scatter\", \"x\": [7.833333333333333, 7.071428571428571], \"y\": [0.375, 0.5277777777777778]}, {\"hoverinfo\": \"none\", \"line\": {\"color\": \"#2e2e2e\", \"width\": 0.8}, \"mode\": \"lines\", \"opacity\": 0.1, \"type\": \"scatter\", \"x\": [7.833333333333333, 7.642857142857143], \"y\": [0.375, 0.5555555555555556]}, {\"hoverinfo\": \"none\", \"line\": {\"color\": \"#2e2e2e\", \"width\": 0.8}, \"mode\": \"lines\", \"opacity\": 0.1, \"type\": \"scatter\", \"x\": [7.833333333333333, 8.785714285714286], \"y\": [0.375, 0.5555555555555556]}, {\"hoverinfo\": \"none\", \"line\": {\"color\": \"#2e2e2e\", \"width\": 4.800000000000001}, \"mode\": \"lines\", \"opacity\": 0.95, \"type\": \"scatter\", \"x\": [10.5, 9.357142857142858], \"y\": [0.375, 0.5555555555555556]}, {\"hoverinfo\": \"none\", \"line\": {\"color\": \"#2e2e2e\", \"width\": 0.8}, \"mode\": \"lines\", \"opacity\": 0.1, \"type\": \"scatter\", \"x\": [10.5, 10.0], \"y\": [0.375, 0.4705882352941176]}, {\"hoverinfo\": \"none\", \"line\": {\"color\": \"#2e2e2e\", \"width\": 1.6}, \"mode\": \"lines\", \"opacity\": 0.3, \"type\": \"scatter\", \"x\": [6.5, 7.3], \"y\": [0.375, 0.4705882352941176]}, {\"hoverinfo\": \"none\", \"line\": {\"color\": \"#2e2e2e\", \"width\": 0.8}, \"mode\": \"lines\", \"opacity\": 0.1, \"type\": \"scatter\", \"x\": [8.166666666666666, 8.428571428571429], \"y\": [0.3125, 0.3636363636363637]}, {\"hoverinfo\": \"none\", \"line\": {\"color\": \"#2e2e2e\", \"width\": 0.8}, \"mode\": \"lines\", \"opacity\": 0.1, \"type\": \"scatter\", \"x\": [5.428571428571429, 5.444444444444445], \"y\": [0.25, 0.30303030303030304]}, {\"hoverinfo\": \"none\", \"line\": {\"color\": \"#2e2e2e\", \"width\": 0.8}, \"mode\": \"lines\", \"opacity\": 0.1, \"type\": \"scatter\", \"x\": [7.5, 7.888888888888889], \"y\": [0.3125, 0.3636363636363637]}, {\"hoverinfo\": \"none\", \"line\": {\"color\": \"#2e2e2e\", \"width\": 0.8}, \"mode\": \"lines\", \"opacity\": 0.1, \"type\": \"scatter\", \"x\": [7.0, 7.1], \"y\": [0.375, 0.42424242424242425]}, {\"hoverinfo\": \"none\", \"line\": {\"color\": \"#2e2e2e\", \"width\": 3.2}, \"mode\": \"lines\", \"opacity\": 0.7, \"type\": \"scatter\", \"x\": [7.25, 7.3], \"y\": [0.42424242424242425, 0.4705882352941176]}, {\"hoverinfo\": \"none\", \"line\": {\"color\": \"#2e2e2e\", \"width\": 2.4000000000000004}, \"mode\": \"lines\", \"opacity\": 0.5, \"type\": \"scatter\", \"x\": [7.25, 9.5], \"y\": [0.42424242424242425, 0.5945945945945945]}, {\"hoverinfo\": \"none\", \"line\": {\"color\": \"#2e2e2e\", \"width\": 2.4000000000000004}, \"mode\": \"lines\", \"opacity\": 0.5, \"type\": \"scatter\", \"x\": [7.25, 7.0], \"y\": [0.42424242424242425, 0.4705882352941176]}, {\"hoverinfo\": \"none\", \"line\": {\"color\": \"#2e2e2e\", \"width\": 1.6}, \"mode\": \"lines\", \"opacity\": 0.3, \"type\": \"scatter\", \"x\": [7.25, 7.333333333333333], \"y\": [0.42424242424242425, 0.5142857142857142]}, {\"hoverinfo\": \"none\", \"line\": {\"color\": \"#2e2e2e\", \"width\": 0.8}, \"mode\": \"lines\", \"opacity\": 0.1, \"type\": \"scatter\", \"x\": [7.5, 7.6], \"y\": [0.42424242424242425, 0.4705882352941176]}, {\"hoverinfo\": \"none\", \"line\": {\"color\": \"#2e2e2e\", \"width\": 0.8}, \"mode\": \"lines\", \"opacity\": 0.1, \"type\": \"scatter\", \"x\": [8.428571428571429, 11.5], \"y\": [0.3636363636363637, 0.4864864864864865]}, {\"hoverinfo\": \"none\", \"line\": {\"color\": \"#2e2e2e\", \"width\": 0.8}, \"mode\": \"lines\", \"opacity\": 0.1, \"type\": \"scatter\", \"x\": [7.125, 9.4], \"y\": [0.3939393939393939, 0.5675675675675677]}, {\"hoverinfo\": \"none\", \"line\": {\"color\": \"#2e2e2e\", \"width\": 0.8}, \"mode\": \"lines\", \"opacity\": 0.1, \"type\": \"scatter\", \"x\": [5.444444444444445, 5.454545454545454], \"y\": [0.30303030303030304, 0.3235294117647059]}, {\"hoverinfo\": \"none\", \"line\": {\"color\": \"#2e2e2e\", \"width\": 0.8}, \"mode\": \"lines\", \"opacity\": 0.1, \"type\": \"scatter\", \"x\": [7.285714285714286, 10.5], \"y\": [0.3636363636363637, 0.5405405405405405]}, {\"hoverinfo\": \"none\", \"line\": {\"color\": \"#2e2e2e\", \"width\": 0.8}, \"mode\": \"lines\", \"opacity\": 0.1, \"type\": \"scatter\", \"x\": [7.888888888888889, 8.3], \"y\": [0.3636363636363637, 0.3529411764705882]}, {\"hoverinfo\": \"none\", \"line\": {\"color\": \"#2e2e2e\", \"width\": 0.8}, \"mode\": \"lines\", \"opacity\": 0.1, \"type\": \"scatter\", \"x\": [7.1, 6.833333333333333], \"y\": [0.42424242424242425, 0.4705882352941176]}, {\"hoverinfo\": \"none\", \"line\": {\"color\": \"#2e2e2e\", \"width\": 0.8}, \"mode\": \"lines\", \"opacity\": 0.1, \"type\": \"scatter\", \"x\": [7.083333333333333, 6.8], \"y\": [0.5142857142857142, 0.5945945945945945]}, {\"hoverinfo\": \"none\", \"line\": {\"color\": \"#2e2e2e\", \"width\": 2.4000000000000004}, \"mode\": \"lines\", \"opacity\": 0.5, \"type\": \"scatter\", \"x\": [7.333333333333333, 7.142857142857143], \"y\": [0.5142857142857142, 0.5555555555555556]}, {\"hoverinfo\": \"none\", \"line\": {\"color\": \"#2e2e2e\", \"width\": 0.8}, \"mode\": \"lines\", \"opacity\": 0.1, \"type\": \"scatter\", \"x\": [5.384615384615385, 5.466666666666667], \"y\": [0.3142857142857143, 0.33333333333333337]}, {\"hoverinfo\": \"none\", \"line\": {\"color\": \"#2e2e2e\", \"width\": 0.8}, \"mode\": \"lines\", \"opacity\": 0.1, \"type\": \"scatter\", \"x\": [9.0, 9.0], \"y\": [0.4, 0.3888888888888889]}, {\"hoverinfo\": \"none\", \"line\": {\"color\": \"#2e2e2e\", \"width\": 0.8}, \"mode\": \"lines\", \"opacity\": 0.1, \"type\": \"scatter\", \"x\": [10.181818181818182, 9.5], \"y\": [0.3428571428571429, 0.5128205128205128]}, {\"hoverinfo\": \"none\", \"line\": {\"color\": \"#2e2e2e\", \"width\": 0.8}, \"mode\": \"lines\", \"opacity\": 0.1, \"type\": \"scatter\", \"x\": [9.692307692307692, 9.5], \"y\": [0.5142857142857142, 0.5945945945945945]}, {\"hoverinfo\": \"none\", \"line\": {\"color\": \"#2e2e2e\", \"width\": 0.8}, \"mode\": \"lines\", \"opacity\": 0.1, \"type\": \"scatter\", \"x\": [6.8, 8.4], \"y\": [0.5945945945945945, 0.7317073170731707]}, {\"hoverinfo\": \"none\", \"line\": {\"color\": \"#2e2e2e\", \"width\": 4.0}, \"mode\": \"lines\", \"opacity\": 0.95, \"type\": \"scatter\", \"x\": [9.5, 8.928571428571429], \"y\": [0.5945945945945945, 0.6666666666666666]}, {\"hoverinfo\": \"none\", \"line\": {\"color\": \"#2e2e2e\", \"width\": 1.6}, \"mode\": \"lines\", \"opacity\": 0.3, \"type\": \"scatter\", \"x\": [9.5, 8.916666666666666], \"y\": [0.5945945945945945, 0.631578947368421]}, {\"hoverinfo\": \"none\", \"line\": {\"color\": \"#2e2e2e\", \"width\": 1.6}, \"mode\": \"lines\", \"opacity\": 0.3, \"type\": \"scatter\", \"x\": [9.5, 9.166666666666666], \"y\": [0.5945945945945945, 0.631578947368421]}, {\"hoverinfo\": \"none\", \"line\": {\"color\": \"#2e2e2e\", \"width\": 0.8}, \"mode\": \"lines\", \"opacity\": 0.1, \"type\": \"scatter\", \"x\": [11.5, 11.5], \"y\": [0.4864864864864865, 0.5853658536585367]}, {\"hoverinfo\": \"none\", \"line\": {\"color\": \"#2e2e2e\", \"width\": 0.8}, \"mode\": \"lines\", \"opacity\": 0.1, \"type\": \"scatter\", \"x\": [9.4, 8.857142857142858], \"y\": [0.5675675675675677, 0.6410256410256411]}, {\"hoverinfo\": \"none\", \"line\": {\"color\": \"#2e2e2e\", \"width\": 0.8}, \"mode\": \"lines\", \"opacity\": 0.1, \"type\": \"scatter\", \"x\": [10.5, 9.3], \"y\": [0.5405405405405405, 0.5526315789473685]}, {\"hoverinfo\": \"none\", \"line\": {\"color\": \"#2e2e2e\", \"width\": 0.8}, \"mode\": \"lines\", \"opacity\": 0.1, \"type\": \"scatter\", \"x\": [8.9, 8.25], \"y\": [0.5945945945945945, 0.6052631578947368]}, {\"hoverinfo\": \"none\", \"line\": {\"color\": \"#2e2e2e\", \"width\": 0.8}, \"mode\": \"lines\", \"opacity\": 0.1, \"type\": \"scatter\", \"x\": [9.5, 10.071428571428571], \"y\": [0.5945945945945945, 0.7317073170731707]}, {\"hoverinfo\": \"none\", \"line\": {\"color\": \"#2e2e2e\", \"width\": 2.4000000000000004}, \"mode\": \"lines\", \"opacity\": 0.5, \"type\": \"scatter\", \"x\": [8.4, 9.545454545454545], \"y\": [0.7317073170731707, 0.8444444444444443]}, {\"hoverinfo\": \"none\", \"line\": {\"color\": \"#2e2e2e\", \"width\": 0.8}, \"mode\": \"lines\", \"opacity\": 0.1, \"type\": \"scatter\", \"x\": [8.4, 8.142857142857142], \"y\": [0.7317073170731707, 0.7906976744186047]}, {\"hoverinfo\": \"none\", \"line\": {\"color\": \"#2e2e2e\", \"width\": 0.8}, \"mode\": \"lines\", \"opacity\": 0.1, \"type\": \"scatter\", \"x\": [8.4, 8.583333333333334], \"y\": [0.7317073170731707, 0.7619047619047621]}, {\"hoverinfo\": \"none\", \"line\": {\"color\": \"#2e2e2e\", \"width\": 0.8}, \"mode\": \"lines\", \"opacity\": 0.1, \"type\": \"scatter\", \"x\": [8.7, 9.5], \"y\": [0.7317073170731707, 0.8444444444444443]}, {\"hoverinfo\": \"none\", \"line\": {\"color\": \"#2e2e2e\", \"width\": 0.8}, \"mode\": \"lines\", \"opacity\": 0.1, \"type\": \"scatter\", \"x\": [10.3, 10.166666666666666], \"y\": [0.7317073170731707, 0.8444444444444443]}, {\"hoverinfo\": \"none\", \"line\": {\"color\": \"#2e2e2e\", \"width\": 0.8}, \"mode\": \"lines\", \"opacity\": 0.1, \"type\": \"scatter\", \"x\": [11.5, 11.5], \"y\": [0.5853658536585367, 0.6666666666666666]}, {\"hoverinfo\": \"none\", \"line\": {\"color\": \"#2e2e2e\", \"width\": 0.8}, \"mode\": \"lines\", \"opacity\": 0.1, \"type\": \"scatter\", \"x\": [8.571428571428571, 7.818181818181818], \"y\": [0.6097560975609756, 0.6744186046511628]}, {\"hoverinfo\": \"none\", \"line\": {\"color\": \"#2e2e2e\", \"width\": 0.8}, \"mode\": \"lines\", \"opacity\": 0.1, \"type\": \"scatter\", \"x\": [10.5, 10.5], \"y\": [0.7317073170731707, 0.7619047619047621]}, {\"hoverinfo\": \"none\", \"line\": {\"color\": \"#2e2e2e\", \"width\": 0.8}, \"mode\": \"lines\", \"opacity\": 0.1, \"type\": \"scatter\", \"x\": [10.5, 9.833333333333334], \"y\": [0.5853658536585367, 0.6511627906976744]}, {\"hoverinfo\": \"none\", \"line\": {\"color\": \"#2e2e2e\", \"width\": 0.8}, \"mode\": \"lines\", \"opacity\": 0.1, \"type\": \"scatter\", \"x\": [8.454545454545455, 8.733333333333333], \"y\": [0.7317073170731707, 0.7906976744186047]}, {\"hoverinfo\": \"none\", \"line\": {\"color\": \"#2e2e2e\", \"width\": 0.8}, \"mode\": \"lines\", \"opacity\": 0.1, \"type\": \"scatter\", \"x\": [10.071428571428571, 9.5], \"y\": [0.7317073170731707, 0.7906976744186047]}, {\"hoverinfo\": \"none\", \"line\": {\"color\": \"#2e2e2e\", \"width\": 3.2}, \"mode\": \"lines\", \"opacity\": 0.7, \"type\": \"scatter\", \"x\": [9.545454545454545, 9.0], \"y\": [0.8444444444444443, 0.8936170212765957]}, {\"hoverinfo\": \"none\", \"line\": {\"color\": \"#2e2e2e\", \"width\": 0.8}, \"mode\": \"lines\", \"opacity\": 0.1, \"type\": \"scatter\", \"x\": [9.5, 9.785714285714286], \"y\": [0.8444444444444443, 0.8695652173913044]}, {\"hoverinfo\": \"none\", \"line\": {\"color\": \"#2e2e2e\", \"width\": 1.6}, \"mode\": \"lines\", \"opacity\": 0.3, \"type\": \"scatter\", \"x\": [9.5, 9.214285714285714], \"y\": [0.8444444444444443, 0.8695652173913044]}, {\"hoverinfo\": \"none\", \"line\": {\"color\": \"#2e2e2e\", \"width\": 0.8}, \"mode\": \"lines\", \"opacity\": 0.1, \"type\": \"scatter\", \"x\": [9.5, 8.928571428571429], \"y\": [0.8444444444444443, 0.9387755102040816]}, {\"hoverinfo\": \"none\", \"line\": {\"color\": \"#2e2e2e\", \"width\": 0.8}, \"mode\": \"lines\", \"opacity\": 0.1, \"type\": \"scatter\", \"x\": [9.5, 9.0], \"y\": [0.8444444444444443, 0.8936170212765957]}, {\"hoverinfo\": \"none\", \"line\": {\"color\": \"#2e2e2e\", \"width\": 0.8}, \"mode\": \"lines\", \"opacity\": 0.1, \"type\": \"scatter\", \"x\": [9.5, 10.0], \"y\": [0.8444444444444443, 0.8936170212765957]}, {\"hoverinfo\": \"none\", \"line\": {\"color\": \"#2e2e2e\", \"width\": 0.8}, \"mode\": \"lines\", \"opacity\": 0.1, \"type\": \"scatter\", \"x\": [9.25, 9.25], \"y\": [0.7999999999999999, 0.8043478260869567]}, {\"hoverinfo\": \"none\", \"line\": {\"color\": \"#2e2e2e\", \"width\": 0.8}, \"mode\": \"lines\", \"opacity\": 0.1, \"type\": \"scatter\", \"x\": [9.5, 10.071428571428571], \"y\": [0.8444444444444443, 0.9387755102040816]}, {\"hoverinfo\": \"none\", \"line\": {\"color\": \"#2e2e2e\", \"width\": 0.8}, \"mode\": \"lines\", \"opacity\": 0.1, \"type\": \"scatter\", \"x\": [10.166666666666666, 10.5], \"y\": [0.8444444444444443, 0.8936170212765957]}, {\"hoverinfo\": \"none\", \"line\": {\"color\": \"#2e2e2e\", \"width\": 0.8}, \"mode\": \"lines\", \"opacity\": 0.1, \"type\": \"scatter\", \"x\": [11.5, 11.5], \"y\": [0.6666666666666666, 0.7755102040816326]}, {\"hoverinfo\": \"none\", \"line\": {\"color\": \"#2e2e2e\", \"width\": 0.8}, \"mode\": \"lines\", \"opacity\": 0.1, \"type\": \"scatter\", \"x\": [8.818181818181818, 9.23076923076923], \"y\": [0.8444444444444443, 0.8695652173913044]}, {\"hoverinfo\": \"none\", \"line\": {\"color\": \"#2e2e2e\", \"width\": 0.8}, \"mode\": \"lines\", \"opacity\": 0.1, \"type\": \"scatter\", \"x\": [6.285714285714286, 6.333333333333333], \"y\": [0.6888888888888889, 0.6956521739130435]}, {\"hoverinfo\": \"none\", \"line\": {\"color\": \"#2e2e2e\", \"width\": 0.8}, \"mode\": \"lines\", \"opacity\": 0.1, \"type\": \"scatter\", \"x\": [9.5, 9.5], \"y\": [0.7111111111111111, 0.7173913043478259]}, {\"hoverinfo\": \"none\", \"line\": {\"color\": \"#2e2e2e\", \"width\": 0.8}, \"mode\": \"lines\", \"opacity\": 0.1, \"type\": \"scatter\", \"x\": [9.583333333333334, 9.571428571428571], \"y\": [0.8444444444444443, 0.8695652173913044]}, {\"hoverinfo\": \"none\", \"line\": {\"color\": \"#2e2e2e\", \"width\": 0.8}, \"mode\": \"lines\", \"opacity\": 0.1, \"type\": \"scatter\", \"x\": [8.857142857142858, 9.1875], \"y\": [0.8444444444444443, 0.8695652173913044]}, {\"hoverinfo\": \"none\", \"line\": {\"color\": \"#2e2e2e\", \"width\": 0.8}, \"mode\": \"lines\", \"opacity\": 0.1, \"type\": \"scatter\", \"x\": [9.5, 9.5], \"y\": [0.7111111111111111, 0.6956521739130435]}, {\"hoverinfo\": \"none\", \"line\": {\"color\": \"#2e2e2e\", \"width\": 0.8}, \"mode\": \"lines\", \"opacity\": 0.1, \"type\": \"scatter\", \"x\": [9.0, 8.733333333333333], \"y\": [0.7999999999999999, 0.8979591836734695]}, {\"hoverinfo\": \"none\", \"line\": {\"color\": \"#2e2e2e\", \"width\": 2.4000000000000004}, \"mode\": \"lines\", \"opacity\": 0.5, \"type\": \"scatter\", \"x\": [9.0, 9.75], \"y\": [0.8936170212765957, 0.9803921568627452]}, {\"hoverinfo\": \"none\", \"line\": {\"color\": \"#2e2e2e\", \"width\": 0.8}, \"mode\": \"lines\", \"opacity\": 0.1, \"type\": \"scatter\", \"x\": [9.0, 8.7], \"y\": [0.8936170212765957, 0.9166666666666666]}, {\"hoverinfo\": \"none\", \"line\": {\"color\": \"#2e2e2e\", \"width\": 0.8}, \"mode\": \"lines\", \"opacity\": 0.1, \"type\": \"scatter\", \"x\": [9.0, 9.166666666666666], \"y\": [0.8936170212765957, 0.9387755102040816]}, {\"hoverinfo\": \"none\", \"line\": {\"color\": \"#2e2e2e\", \"width\": 1.6}, \"mode\": \"lines\", \"opacity\": 0.3, \"type\": \"scatter\", \"x\": [9.0, 9.1], \"y\": [0.8936170212765957, 0.9166666666666666]}, {\"hoverinfo\": \"none\", \"line\": {\"color\": \"#2e2e2e\", \"width\": 0.8}, \"mode\": \"lines\", \"opacity\": 0.1, \"type\": \"scatter\", \"x\": [9.75, 9.5], \"y\": [0.8936170212765957, 0.9166666666666666]}, {\"hoverinfo\": \"none\", \"line\": {\"color\": \"#2e2e2e\", \"width\": 0.8}, \"mode\": \"lines\", \"opacity\": 0.1, \"type\": \"scatter\", \"x\": [10.5, 9.5], \"y\": [0.8936170212765957, 0.9803921568627452]}, {\"hoverinfo\": \"none\", \"line\": {\"color\": \"#2e2e2e\", \"width\": 0.8}, \"mode\": \"lines\", \"opacity\": 0.1, \"type\": \"scatter\", \"x\": [10.5, 10.071428571428571], \"y\": [0.8936170212765957, 0.9387755102040816]}, {\"hoverinfo\": \"none\", \"line\": {\"color\": \"#2e2e2e\", \"width\": 0.8}, \"mode\": \"lines\", \"opacity\": 0.1, \"type\": \"scatter\", \"x\": [9.0, 8.454545454545455], \"y\": [0.8510638297872339, 0.8979591836734695]}, {\"hoverinfo\": \"none\", \"line\": {\"color\": \"#2e2e2e\", \"width\": 0.8}, \"mode\": \"lines\", \"opacity\": 0.1, \"type\": \"scatter\", \"x\": [9.0, 8.733333333333333], \"y\": [0.8510638297872339, 0.9411764705882352]}, {\"hoverinfo\": \"none\", \"line\": {\"color\": \"#2e2e2e\", \"width\": 0.8}, \"mode\": \"lines\", \"opacity\": 0.1, \"type\": \"scatter\", \"x\": [10.5, 10.071428571428571], \"y\": [0.8936170212765957, 0.9387755102040816]}, {\"hoverinfo\": \"none\", \"line\": {\"color\": \"#2e2e2e\", \"width\": 1.6}, \"mode\": \"lines\", \"opacity\": 0.3, \"type\": \"scatter\", \"x\": [9.25, 9.5], \"y\": [0.8936170212765957, 0.9166666666666666]}, {\"hoverinfo\": \"none\", \"line\": {\"color\": \"#2e2e2e\", \"width\": 0.8}, \"mode\": \"lines\", \"opacity\": 0.1, \"type\": \"scatter\", \"x\": [9.0, 9.055555555555555], \"y\": [0.8936170212765957, 0.8235294117647058]}, {\"hoverinfo\": \"none\", \"line\": {\"color\": \"#2e2e2e\", \"width\": 0.8}, \"mode\": \"lines\", \"opacity\": 0.1, \"type\": \"scatter\", \"x\": [9.0, 8.928571428571429], \"y\": [0.8936170212765957, 0.9387755102040816]}, {\"hoverinfo\": \"none\", \"line\": {\"color\": \"#2e2e2e\", \"width\": 0.8}, \"mode\": \"lines\", \"opacity\": 0.1, \"type\": \"scatter\", \"x\": [8.833333333333334, 9.5], \"y\": [0.7234042553191489, 0.7083333333333333]}, {\"hoverinfo\": \"none\", \"line\": {\"color\": \"#2e2e2e\", \"width\": 0.8}, \"mode\": \"lines\", \"opacity\": 0.1, \"type\": \"scatter\", \"x\": [9.8125, 9.75], \"y\": [0.8936170212765957, 0.9166666666666666]}, {\"hoverinfo\": \"none\", \"line\": {\"color\": \"#2e2e2e\", \"width\": 0.8}, \"mode\": \"lines\", \"opacity\": 0.1, \"type\": \"scatter\", \"x\": [8.5, 8.928571428571429], \"y\": [0.8936170212765957, 0.9387755102040816]}, {\"hoverinfo\": \"none\", \"line\": {\"color\": \"#2e2e2e\", \"width\": 0.8}, \"mode\": \"lines\", \"opacity\": 0.1, \"type\": \"scatter\", \"x\": [10.0, 9.5], \"y\": [0.8936170212765957, 0.9803921568627452]}, {\"hoverinfo\": \"none\", \"line\": {\"color\": \"#2e2e2e\", \"width\": 0.8}, \"mode\": \"lines\", \"opacity\": 0.1, \"type\": \"scatter\", \"x\": [10.0, 10.0], \"y\": [0.6808510638297872, 0.7083333333333333]}, {\"hoverinfo\": \"none\", \"line\": {\"color\": \"#2e2e2e\", \"width\": 0.8}, \"mode\": \"lines\", \"opacity\": 0.1, \"type\": \"scatter\", \"x\": [9.1, 9.5], \"y\": [0.8936170212765957, 0.9387755102040816]}, {\"hoverinfo\": \"none\", \"line\": {\"color\": \"#2e2e2e\", \"width\": 3.2}, \"mode\": \"lines\", \"opacity\": 0.7, \"type\": \"scatter\", \"x\": [9.75, 9.5], \"y\": [0.9803921568627452, 1.0]}, {\"hoverinfo\": \"none\", \"line\": {\"color\": \"#2e2e2e\", \"width\": 2.4000000000000004}, \"mode\": \"lines\", \"opacity\": 0.5, \"type\": \"scatter\", \"x\": [9.5, 9.5], \"y\": [0.9803921568627452, 1.0]}, {\"hoverinfo\": \"none\", \"line\": {\"color\": \"#2e2e2e\", \"width\": 1.6}, \"mode\": \"lines\", \"opacity\": 0.3, \"type\": \"scatter\", \"x\": [8.733333333333333, 9.5], \"y\": [0.9411764705882352, 0.981132075471698]}, {\"hoverinfo\": \"none\", \"line\": {\"color\": \"#2e2e2e\", \"width\": 0.8}, \"mode\": \"lines\", \"opacity\": 0.1, \"type\": \"scatter\", \"x\": [9.25, 9.5], \"y\": [0.9803921568627452, 1.0]}, {\"hoverinfo\": \"none\", \"line\": {\"color\": \"#2e2e2e\", \"width\": 3.2}, \"mode\": \"lines\", \"opacity\": 0.7, \"type\": \"scatter\", \"x\": [9.0, 9.8], \"y\": [0.6666666666666666, 0.7906976744186047]}, {\"hoverinfo\": \"none\", \"line\": {\"color\": \"#2e2e2e\", \"width\": 0.8}, \"mode\": \"lines\", \"opacity\": 0.1, \"type\": \"scatter\", \"x\": [9.0, 8.2], \"y\": [0.6666666666666666, 0.7906976744186047]}, {\"hoverinfo\": \"none\", \"line\": {\"color\": \"#2e2e2e\", \"width\": 2.4000000000000004}, \"mode\": \"lines\", \"opacity\": 0.5, \"type\": \"scatter\", \"x\": [9.0, 8.733333333333333], \"y\": [0.6666666666666666, 0.7906976744186047]}, {\"hoverinfo\": \"none\", \"line\": {\"color\": \"#2e2e2e\", \"width\": 0.8}, \"mode\": \"lines\", \"opacity\": 0.1, \"type\": \"scatter\", \"x\": [9.0, 8.454545454545455], \"y\": [0.6666666666666666, 0.7317073170731707]}, {\"hoverinfo\": \"none\", \"line\": {\"color\": \"#2e2e2e\", \"width\": 0.8}, \"mode\": \"lines\", \"opacity\": 0.1, \"type\": \"scatter\", \"x\": [9.285714285714286, 9.272727272727273], \"y\": [0.6666666666666666, 0.7000000000000001]}, {\"hoverinfo\": \"none\", \"line\": {\"color\": \"#2e2e2e\", \"width\": 0.8}, \"mode\": \"lines\", \"opacity\": 0.1, \"type\": \"scatter\", \"x\": [8.928571428571429, 8.7], \"y\": [0.6666666666666666, 0.7317073170731707]}, {\"hoverinfo\": \"none\", \"line\": {\"color\": \"#2e2e2e\", \"width\": 0.8}, \"mode\": \"lines\", \"opacity\": 0.1, \"type\": \"scatter\", \"x\": [8.928571428571429, 10.3], \"y\": [0.6666666666666666, 0.7317073170731707]}, {\"hoverinfo\": \"none\", \"line\": {\"color\": \"#2e2e2e\", \"width\": 2.4000000000000004}, \"mode\": \"lines\", \"opacity\": 0.5, \"type\": \"scatter\", \"x\": [8.928571428571429, 8.625], \"y\": [0.6666666666666666, 0.7000000000000001]}, {\"hoverinfo\": \"none\", \"line\": {\"color\": \"#2e2e2e\", \"width\": 0.8}, \"mode\": \"lines\", \"opacity\": 0.1, \"type\": \"scatter\", \"x\": [8.928571428571429, 10.071428571428571], \"y\": [0.6666666666666666, 0.7906976744186047]}, {\"hoverinfo\": \"none\", \"line\": {\"color\": \"#2e2e2e\", \"width\": 0.8}, \"mode\": \"lines\", \"opacity\": 0.1, \"type\": \"scatter\", \"x\": [8.857142857142858, 8.5], \"y\": [0.6410256410256411, 0.6749999999999999]}, {\"hoverinfo\": \"none\", \"line\": {\"color\": \"#2e2e2e\", \"width\": 0.8}, \"mode\": \"lines\", \"opacity\": 0.1, \"type\": \"scatter\", \"x\": [7.0, 8.142857142857142], \"y\": [0.6666666666666666, 0.7906976744186047]}, {\"hoverinfo\": \"none\", \"line\": {\"color\": \"#2e2e2e\", \"width\": 0.8}, \"mode\": \"lines\", \"opacity\": 0.1, \"type\": \"scatter\", \"x\": [8.833333333333334, 10.0], \"y\": [0.5897435897435898, 0.625]}, {\"hoverinfo\": \"none\", \"line\": {\"color\": \"#2e2e2e\", \"width\": 0.8}, \"mode\": \"lines\", \"opacity\": 0.1, \"type\": \"scatter\", \"x\": [9.9, 10.5], \"y\": [0.5128205128205128, 0.5853658536585367]}, {\"hoverinfo\": \"none\", \"line\": {\"color\": \"#2e2e2e\", \"width\": 0.8}, \"mode\": \"lines\", \"opacity\": 0.1, \"type\": \"scatter\", \"x\": [9.5, 8.928571428571429], \"y\": [0.5128205128205128, 0.6511627906976744]}, {\"hoverinfo\": \"none\", \"line\": {\"color\": \"#2e2e2e\", \"width\": 2.4000000000000004}, \"mode\": \"lines\", \"opacity\": 0.5, \"type\": \"scatter\", \"x\": [9.8, 9.5], \"y\": [0.7906976744186047, 0.8444444444444443]}, {\"hoverinfo\": \"none\", \"line\": {\"color\": \"#2e2e2e\", \"width\": 0.8}, \"mode\": \"lines\", \"opacity\": 0.1, \"type\": \"scatter\", \"x\": [9.8, 10.5], \"y\": [0.7906976744186047, 0.8936170212765957]}, {\"hoverinfo\": \"none\", \"line\": {\"color\": \"#2e2e2e\", \"width\": 0.8}, \"mode\": \"lines\", \"opacity\": 0.1, \"type\": \"scatter\", \"x\": [8.823529411764707, 9.0], \"y\": [0.7906976744186047, 0.8181818181818181]}, {\"hoverinfo\": \"none\", \"line\": {\"color\": \"#2e2e2e\", \"width\": 1.6}, \"mode\": \"lines\", \"opacity\": 0.3, \"type\": \"scatter\", \"x\": [8.142857142857142, 9.0], \"y\": [0.7906976744186047, 0.8936170212765957]}, {\"hoverinfo\": \"none\", \"line\": {\"color\": \"#2e2e2e\", \"width\": 0.8}, \"mode\": \"lines\", \"opacity\": 0.1, \"type\": \"scatter\", \"x\": [9.0, 8.8125], \"y\": [0.7906976744186047, 0.8181818181818181]}, {\"hoverinfo\": \"none\", \"line\": {\"color\": \"#2e2e2e\", \"width\": 0.8}, \"mode\": \"lines\", \"opacity\": 0.1, \"type\": \"scatter\", \"x\": [7.818181818181818, 6.285714285714286], \"y\": [0.6744186046511628, 0.6888888888888889]}, {\"hoverinfo\": \"none\", \"line\": {\"color\": \"#2e2e2e\", \"width\": 0.8}, \"mode\": \"lines\", \"opacity\": 0.1, \"type\": \"scatter\", \"x\": [8.2, 9.0], \"y\": [0.7906976744186047, 0.8936170212765957]}, {\"hoverinfo\": \"none\", \"line\": {\"color\": \"#2e2e2e\", \"width\": 0.8}, \"mode\": \"lines\", \"opacity\": 0.1, \"type\": \"scatter\", \"x\": [9.833333333333334, 9.5], \"y\": [0.6511627906976744, 0.7111111111111111]}, {\"hoverinfo\": \"none\", \"line\": {\"color\": \"#2e2e2e\", \"width\": 0.8}, \"mode\": \"lines\", \"opacity\": 0.1, \"type\": \"scatter\", \"x\": [8.733333333333333, 8.5], \"y\": [0.7906976744186047, 0.8936170212765957]}, {\"hoverinfo\": \"none\", \"line\": {\"color\": \"#2e2e2e\", \"width\": 2.4000000000000004}, \"mode\": \"lines\", \"opacity\": 0.5, \"type\": \"scatter\", \"x\": [8.733333333333333, 9.5], \"y\": [0.7906976744186047, 0.8444444444444443]}, {\"hoverinfo\": \"none\", \"line\": {\"color\": \"#2e2e2e\", \"width\": 0.8}, \"mode\": \"lines\", \"opacity\": 0.1, \"type\": \"scatter\", \"x\": [8.8125, 8.666666666666666], \"y\": [0.7906976744186047, 0.8181818181818181]}, {\"hoverinfo\": \"none\", \"line\": {\"color\": \"#2e2e2e\", \"width\": 0.8}, \"mode\": \"lines\", \"opacity\": 0.1, \"type\": \"scatter\", \"x\": [8.928571428571429, 9.5], \"y\": [0.6511627906976744, 0.7111111111111111]}, {\"hoverinfo\": \"none\", \"line\": {\"color\": \"#2e2e2e\", \"width\": 0.8}, \"mode\": \"lines\", \"opacity\": 0.1, \"type\": \"scatter\", \"x\": [7.9375, 8.333333333333334], \"y\": [0.7441860465116279, 0.7727272727272727]}, {\"hoverinfo\": \"none\", \"line\": {\"color\": \"#2e2e2e\", \"width\": 0.8}, \"mode\": \"lines\", \"opacity\": 0.1, \"type\": \"scatter\", \"x\": [10.071428571428571, 10.5], \"y\": [0.7906976744186047, 0.8936170212765957]}, {\"hoverinfo\": \"none\", \"line\": {\"color\": \"#2e2e2e\", \"width\": 0.8}, \"mode\": \"lines\", \"opacity\": 0.1, \"type\": \"scatter\", \"x\": [9.5, 9.1], \"y\": [0.7906976744186047, 0.8936170212765957]}, {\"hoverinfo\": \"none\", \"line\": {\"color\": \"#2e2e2e\", \"width\": 0.8}, \"mode\": \"lines\", \"opacity\": 0.1, \"type\": \"scatter\", \"x\": [9.0, 9.2], \"y\": [0.65, 0.7727272727272727]}, {\"hoverinfo\": \"none\", \"line\": {\"color\": \"#2e2e2e\", \"width\": 0.8}, \"mode\": \"lines\", \"opacity\": 0.1, \"type\": \"scatter\", \"x\": [9.272727272727273, 8.8], \"y\": [0.7000000000000001, 0.7619047619047621]}, {\"hoverinfo\": \"none\", \"line\": {\"color\": \"#2e2e2e\", \"width\": 2.4000000000000004}, \"mode\": \"lines\", \"opacity\": 0.5, \"type\": \"scatter\", \"x\": [8.5, 8.4], \"y\": [0.7000000000000001, 0.7317073170731707]}, {\"hoverinfo\": \"none\", \"line\": {\"color\": \"#2e2e2e\", \"width\": 1.6}, \"mode\": \"lines\", \"opacity\": 0.3, \"type\": \"scatter\", \"x\": [8.625, 8.5625], \"y\": [0.7000000000000001, 0.8181818181818181]}, {\"hoverinfo\": \"none\", \"line\": {\"color\": \"#2e2e2e\", \"width\": 1.6}, \"mode\": \"lines\", \"opacity\": 0.3, \"type\": \"scatter\", \"x\": [8.625, 8.0625], \"y\": [0.7000000000000001, 0.8181818181818181]}, {\"hoverinfo\": \"none\", \"line\": {\"color\": \"#2e2e2e\", \"width\": 0.8}, \"mode\": \"lines\", \"opacity\": 0.1, \"type\": \"scatter\", \"x\": [8.625, 8.4], \"y\": [0.7000000000000001, 0.7317073170731707]}, {\"hoverinfo\": \"none\", \"line\": {\"color\": \"#2e2e2e\", \"width\": 0.8}, \"mode\": \"lines\", \"opacity\": 0.1, \"type\": \"scatter\", \"x\": [8.625, 9.5625], \"y\": [0.7000000000000001, 0.8181818181818181]}, {\"hoverinfo\": \"none\", \"line\": {\"color\": \"#2e2e2e\", \"width\": 0.8}, \"mode\": \"lines\", \"opacity\": 0.1, \"type\": \"scatter\", \"x\": [8.625, 8.25], \"y\": [0.7000000000000001, 0.7619047619047621]}, {\"hoverinfo\": \"none\", \"line\": {\"color\": \"#2e2e2e\", \"width\": 0.8}, \"mode\": \"lines\", \"opacity\": 0.1, \"type\": \"scatter\", \"x\": [8.5, 7.833333333333333], \"y\": [0.6749999999999999, 0.7142857142857143]}, {\"hoverinfo\": \"none\", \"line\": {\"color\": \"#2e2e2e\", \"width\": 0.8}, \"mode\": \"lines\", \"opacity\": 0.1, \"type\": \"scatter\", \"x\": [8.5, 8.0], \"y\": [0.6749999999999999, 0.7727272727272727]}, {\"hoverinfo\": \"none\", \"line\": {\"color\": \"#2e2e2e\", \"width\": 0.8}, \"mode\": \"lines\", \"opacity\": 0.1, \"type\": \"scatter\", \"x\": [6.444444444444445, 7.6923076923076925], \"y\": [0.5, 0.5714285714285714]}, {\"hoverinfo\": \"none\", \"line\": {\"color\": \"#2e2e2e\", \"width\": 1.6}, \"mode\": \"lines\", \"opacity\": 0.3, \"type\": \"scatter\", \"x\": [10.5, 10.5], \"y\": [0.7000000000000001, 0.8181818181818181]}, {\"hoverinfo\": \"none\", \"line\": {\"color\": \"#2e2e2e\", \"width\": 0.8}, \"mode\": \"lines\", \"opacity\": 0.1, \"type\": \"scatter\", \"x\": [10.5, 10.5], \"y\": [0.7000000000000001, 0.7317073170731707]}, {\"hoverinfo\": \"none\", \"line\": {\"color\": \"#2e2e2e\", \"width\": 0.8}, \"mode\": \"lines\", \"opacity\": 0.1, \"type\": \"scatter\", \"x\": [10.0, 8.571428571428571], \"y\": [0.625, 0.6097560975609756]}, {\"hoverinfo\": \"none\", \"line\": {\"color\": \"#2e2e2e\", \"width\": 0.8}, \"mode\": \"lines\", \"opacity\": 0.1, \"type\": \"scatter\", \"x\": [10.0, 10.75], \"y\": [0.55, 0.6363636363636364]}, {\"hoverinfo\": \"none\", \"line\": {\"color\": \"#2e2e2e\", \"width\": 0.8}, \"mode\": \"lines\", \"opacity\": 0.1, \"type\": \"scatter\", \"x\": [9.0, 9.75], \"y\": [0.7000000000000001, 0.8181818181818181]}, {\"hoverinfo\": \"none\", \"line\": {\"color\": \"#2e2e2e\", \"width\": 0.8}, \"mode\": \"lines\", \"opacity\": 0.1, \"type\": \"scatter\", \"x\": [7.6, 8.142857142857142], \"y\": [0.7000000000000001, 0.7619047619047621]}, {\"hoverinfo\": \"none\", \"line\": {\"color\": \"#2e2e2e\", \"width\": 0.8}, \"mode\": \"lines\", \"opacity\": 0.1, \"type\": \"scatter\", \"x\": [8.5, 8.214285714285714], \"y\": [0.6749999999999999, 0.7380952380952379]}, {\"hoverinfo\": \"none\", \"line\": {\"color\": \"#2e2e2e\", \"width\": 0.8}, \"mode\": \"lines\", \"opacity\": 0.1, \"type\": \"scatter\", \"x\": [9.2, 9.25], \"y\": [0.7727272727272727, 0.7999999999999999]}, {\"hoverinfo\": \"none\", \"line\": {\"color\": \"#2e2e2e\", \"width\": 0.8}, \"mode\": \"lines\", \"opacity\": 0.1, \"type\": \"scatter\", \"x\": [9.0, 9.222222222222221], \"y\": [0.8181818181818181, 0.8333333333333333]}, {\"hoverinfo\": \"none\", \"line\": {\"color\": \"#2e2e2e\", \"width\": 2.4000000000000004}, \"mode\": \"lines\", \"opacity\": 0.5, \"type\": \"scatter\", \"x\": [8.0625, 8.7], \"y\": [0.8181818181818181, 0.9166666666666666]}, {\"hoverinfo\": \"none\", \"line\": {\"color\": \"#2e2e2e\", \"width\": 1.6}, \"mode\": \"lines\", \"opacity\": 0.3, \"type\": \"scatter\", \"x\": [8.5625, 9.23076923076923], \"y\": [0.8181818181818181, 0.8695652173913044]}, {\"hoverinfo\": \"none\", \"line\": {\"color\": \"#2e2e2e\", \"width\": 0.8}, \"mode\": \"lines\", \"opacity\": 0.1, \"type\": \"scatter\", \"x\": [8.8125, 8.818181818181818], \"y\": [0.8181818181818181, 0.8444444444444443]}, {\"hoverinfo\": \"none\", \"line\": {\"color\": \"#2e2e2e\", \"width\": 0.8}, \"mode\": \"lines\", \"opacity\": 0.1, \"type\": \"scatter\", \"x\": [10.5, 10.5], \"y\": [0.8181818181818181, 0.8958333333333334]}, {\"hoverinfo\": \"none\", \"line\": {\"color\": \"#2e2e2e\", \"width\": 0.8}, \"mode\": \"lines\", \"opacity\": 0.1, \"type\": \"scatter\", \"x\": [10.75, 11.5], \"y\": [0.6363636363636364, 0.7083333333333333]}, {\"hoverinfo\": \"none\", \"line\": {\"color\": \"#2e2e2e\", \"width\": 0.8}, \"mode\": \"lines\", \"opacity\": 0.1, \"type\": \"scatter\", \"x\": [9.5, 9.545454545454545], \"y\": [0.8181818181818181, 0.8444444444444443]}, {\"hoverinfo\": \"none\", \"line\": {\"color\": \"#2e2e2e\", \"width\": 0.8}, \"mode\": \"lines\", \"opacity\": 0.1, \"type\": \"scatter\", \"x\": [8.0, 8.5], \"y\": [0.7727272727272727, 0.8260869565217392]}, {\"hoverinfo\": \"none\", \"line\": {\"color\": \"#2e2e2e\", \"width\": 0.8}, \"mode\": \"lines\", \"opacity\": 0.1, \"type\": \"scatter\", \"x\": [9.75, 9.583333333333334], \"y\": [0.8181818181818181, 0.8444444444444443]}, {\"hoverinfo\": \"none\", \"line\": {\"color\": \"#2e2e2e\", \"width\": 0.8}, \"mode\": \"lines\", \"opacity\": 0.1, \"type\": \"scatter\", \"x\": [8.666666666666666, 8.857142857142858], \"y\": [0.8181818181818181, 0.8444444444444443]}, {\"hoverinfo\": \"none\", \"line\": {\"color\": \"#2e2e2e\", \"width\": 0.8}, \"mode\": \"lines\", \"opacity\": 0.1, \"type\": \"scatter\", \"x\": [8.0, 8.352941176470589], \"y\": [0.8181818181818181, 0.8695652173913044]}, {\"hoverinfo\": \"none\", \"line\": {\"color\": \"#2e2e2e\", \"width\": 0.8}, \"mode\": \"lines\", \"opacity\": 0.1, \"type\": \"scatter\", \"x\": [9.5625, 10.5], \"y\": [0.8181818181818181, 0.9166666666666666]}, {\"hoverinfo\": \"none\", \"line\": {\"color\": \"#2e2e2e\", \"width\": 0.8}, \"mode\": \"lines\", \"opacity\": 0.1, \"type\": \"scatter\", \"x\": [8.333333333333334, 9.0], \"y\": [0.7727272727272727, 0.7999999999999999]}, {\"hoverinfo\": \"none\", \"line\": {\"color\": \"#2e2e2e\", \"width\": 0.8}, \"mode\": \"lines\", \"opacity\": 0.1, \"type\": \"scatter\", \"x\": [9.0, 9.0], \"y\": [0.836734693877551, 0.86]}, {\"hoverinfo\": \"none\", \"line\": {\"color\": \"#2e2e2e\", \"width\": 0.8}, \"mode\": \"lines\", \"opacity\": 0.1, \"type\": \"scatter\", \"x\": [10.071428571428571, 9.8125], \"y\": [0.9387755102040816, 0.96]}, {\"hoverinfo\": \"none\", \"line\": {\"color\": \"#2e2e2e\", \"width\": 0.8}, \"mode\": \"lines\", \"opacity\": 0.1, \"type\": \"scatter\", \"x\": [10.071428571428571, 9.5], \"y\": [0.9387755102040816, 0.9803921568627452]}, {\"hoverinfo\": \"none\", \"line\": {\"color\": \"#2e2e2e\", \"width\": 0.8}, \"mode\": \"lines\", \"opacity\": 0.1, \"type\": \"scatter\", \"x\": [11.5, 10.5], \"y\": [0.7755102040816326, 0.8679245283018868]}, {\"hoverinfo\": \"none\", \"line\": {\"color\": \"#2e2e2e\", \"width\": 0.8}, \"mode\": \"lines\", \"opacity\": 0.1, \"type\": \"scatter\", \"x\": [8.454545454545455, 8.733333333333333], \"y\": [0.8979591836734695, 0.9411764705882352]}, {\"hoverinfo\": \"none\", \"line\": {\"color\": \"#2e2e2e\", \"width\": 0.8}, \"mode\": \"lines\", \"opacity\": 0.1, \"type\": \"scatter\", \"x\": [9.166666666666666, 9.75], \"y\": [0.9387755102040816, 0.9803921568627452]}, {\"hoverinfo\": \"none\", \"line\": {\"color\": \"#2e2e2e\", \"width\": 0.8}, \"mode\": \"lines\", \"opacity\": 0.1, \"type\": \"scatter\", \"x\": [9.5, 9.214285714285714], \"y\": [0.9387755102040816, 0.96]}, {\"hoverinfo\": \"none\", \"line\": {\"color\": \"#2e2e2e\", \"width\": 0.8}, \"mode\": \"lines\", \"opacity\": 0.1, \"type\": \"scatter\", \"x\": [10.071428571428571, 9.5], \"y\": [0.9387755102040816, 0.9803921568627452]}, {\"hoverinfo\": \"none\", \"line\": {\"color\": \"#2e2e2e\", \"width\": 0.8}, \"mode\": \"lines\", \"opacity\": 0.1, \"type\": \"scatter\", \"x\": [9.214285714285714, 9.25], \"y\": [0.9387755102040816, 0.96]}, {\"hoverinfo\": \"none\", \"line\": {\"color\": \"#2e2e2e\", \"width\": 2.4000000000000004}, \"mode\": \"lines\", \"opacity\": 0.5, \"type\": \"scatter\", \"x\": [8.928571428571429, 9.5], \"y\": [0.9387755102040816, 0.9803921568627452]}, {\"hoverinfo\": \"none\", \"line\": {\"color\": \"#2e2e2e\", \"width\": 0.8}, \"mode\": \"lines\", \"opacity\": 0.1, \"type\": \"scatter\", \"x\": [8.733333333333333, 9.31578947368421], \"y\": [0.8979591836734695, 0.9411764705882352]}, {\"hoverinfo\": \"none\", \"line\": {\"color\": \"#2e2e2e\", \"width\": 0.8}, \"mode\": \"lines\", \"opacity\": 0.1, \"type\": \"scatter\", \"x\": [8.5, 8.5], \"y\": [0.8775510204081632, 0.86]}, {\"hoverinfo\": \"none\", \"line\": {\"color\": \"#2e2e2e\", \"width\": 0.8}, \"mode\": \"lines\", \"opacity\": 0.1, \"type\": \"scatter\", \"x\": [9.0, 9.0], \"y\": [0.86, 0.8431372549019608]}, {\"hoverinfo\": \"none\", \"line\": {\"color\": \"#2e2e2e\", \"width\": 0.8}, \"mode\": \"lines\", \"opacity\": 0.1, \"type\": \"scatter\", \"x\": [9.8125, 9.5], \"y\": [0.96, 0.9803921568627452]}, {\"hoverinfo\": \"none\", \"line\": {\"color\": \"#2e2e2e\", \"width\": 2.4000000000000004}, \"mode\": \"lines\", \"opacity\": 0.5, \"type\": \"scatter\", \"x\": [8.928571428571429, 9.5], \"y\": [0.96, 1.0]}, {\"hoverinfo\": \"none\", \"line\": {\"color\": \"#2e2e2e\", \"width\": 0.8}, \"mode\": \"lines\", \"opacity\": 0.1, \"type\": \"scatter\", \"x\": [9.25, 9.5], \"y\": [0.96, 0.9803921568627452]}, {\"hoverinfo\": \"none\", \"line\": {\"color\": \"#2e2e2e\", \"width\": 0.8}, \"mode\": \"lines\", \"opacity\": 0.1, \"type\": \"scatter\", \"x\": [7.5, 8.5], \"y\": [0.8, 0.8888888888888891]}, {\"hoverinfo\": \"none\", \"line\": {\"color\": \"#2e2e2e\", \"width\": 1.6}, \"mode\": \"lines\", \"opacity\": 0.3, \"type\": \"scatter\", \"x\": [10.071428571428571, 9.5], \"y\": [0.96, 1.0]}, {\"hoverinfo\": \"none\", \"line\": {\"color\": \"#2e2e2e\", \"width\": 0.8}, \"mode\": \"lines\", \"opacity\": 0.1, \"type\": \"scatter\", \"x\": [9.214285714285714, 9.25], \"y\": [0.96, 0.9803921568627452]}, {\"hoverinfo\": \"none\", \"line\": {\"color\": \"#2e2e2e\", \"width\": 0.8}, \"mode\": \"lines\", \"opacity\": 0.1, \"type\": \"scatter\", \"x\": [6.3, 6.5], \"y\": [0.3225806451612904, 0.375]}, {\"hoverinfo\": \"none\", \"line\": {\"color\": \"#2e2e2e\", \"width\": 0.8}, \"mode\": \"lines\", \"opacity\": 0.1, \"type\": \"scatter\", \"x\": [6.2, 7.125], \"y\": [0.2903225806451613, 0.3939393939393939]}, {\"hoverinfo\": \"none\", \"line\": {\"color\": \"#2e2e2e\", \"width\": 0.8}, \"mode\": \"lines\", \"opacity\": 0.1, \"type\": \"scatter\", \"x\": [5.7, 5.428571428571429], \"y\": [0.1935483870967742, 0.25]}, {\"hoverinfo\": \"none\", \"line\": {\"color\": \"#2e2e2e\", \"width\": 0.8}, \"mode\": \"lines\", \"opacity\": 0.1, \"type\": \"scatter\", \"x\": [7.3, 7.5], \"y\": [0.25806451612903225, 0.3125]}, {\"hoverinfo\": \"none\", \"line\": {\"color\": \"#2e2e2e\", \"width\": 0.8}, \"mode\": \"lines\", \"opacity\": 0.1, \"type\": \"scatter\", \"x\": [6.7, 6.5], \"y\": [0.3225806451612904, 0.375]}, {\"hoverinfo\": \"none\", \"line\": {\"color\": \"#2e2e2e\", \"width\": 0.8}, \"mode\": \"lines\", \"opacity\": 0.1, \"type\": \"scatter\", \"x\": [8.4, 7.833333333333333], \"y\": [0.3225806451612904, 0.375]}, {\"hoverinfo\": \"none\", \"line\": {\"color\": \"#2e2e2e\", \"width\": 0.8}, \"mode\": \"lines\", \"opacity\": 0.1, \"type\": \"scatter\", \"x\": [8.4, 9.692307692307692], \"y\": [0.3225806451612904, 0.5142857142857142]}, {\"hoverinfo\": \"none\", \"line\": {\"color\": \"#2e2e2e\", \"width\": 0.8}, \"mode\": \"lines\", \"opacity\": 0.1, \"type\": \"scatter\", \"x\": [10.5, 10.5], \"y\": [0.8679245283018868, 0.8888888888888891]}, {\"hoverinfo\": \"none\", \"line\": {\"color\": \"#2e2e2e\", \"width\": 0.8}, \"mode\": \"lines\", \"opacity\": 0.1, \"type\": \"scatter\", \"x\": [10.5, 10.23076923076923], \"y\": [0.8888888888888891, 0.9090909090909092]}, {\"hoverinfo\": \"none\", \"line\": {\"color\": \"#2e2e2e\", \"width\": 0.8}, \"mode\": \"lines\", \"opacity\": 0.1, \"type\": \"scatter\", \"x\": [7.5, 6.5], \"y\": [0.07407407407407407, 0.14285714285714288]}, {\"hoverinfo\": \"none\", \"line\": {\"color\": \"#2e2e2e\", \"width\": 0.8}, \"mode\": \"lines\", \"opacity\": 0.1, \"type\": \"scatter\", \"x\": [6.833333333333333, 6.125], \"y\": [0.20689655172413796, 0.2]}, {\"hoverinfo\": \"none\", \"line\": {\"color\": \"#2e2e2e\", \"width\": 0.8}, \"mode\": \"lines\", \"opacity\": 0.1, \"type\": \"scatter\", \"x\": [7.0, 8.4], \"y\": [0.20689655172413796, 0.3225806451612904]}, {\"hoverinfo\": \"text\", \"marker\": {\"color\": \"#2e2e2e\", \"colorscale\": [[0.0, \"rgb(255,255,255)\"], [0.125, \"rgb(240,240,240)\"], [0.25, \"rgb(217,217,217)\"], [0.375, \"rgb(189,189,189)\"], [0.5, \"rgb(150,150,150)\"], [0.625, \"rgb(115,115,115)\"], [0.75, \"rgb(82,82,82)\"], [0.875, \"rgb(37,37,37)\"], [1.0, \"rgb(0,0,0)\"]], \"line\": {\"color\": \"#FFF\", \"width\": 0}, \"opacity\": 1.0, \"reversescale\": true, \"size\": [40.0, 0.8, 3.2, 1.6, 12.8, 0.8, 1.6, 0.8, 0.8, 0.8, 4.800000000000001, 0.8, 0.8, 0.8, 0.8, 0.8, 2.4000000000000004, 0.8, 0.8, 0.8, 0.8, 0.8, 0.8, 14.4, 3.2, 0.8, 0.8, 0.8, 1.6, 0.8, 0.8, 0.8, 0.8, 0.8, 4.800000000000001, 0.8, 0.8, 3.2, 4.0, 1.6, 0.8, 0.8, 0.8, 0.8, 0.8, 0.8, 0.8, 2.4000000000000004, 0.8, 0.8, 0.8, 0.8, 2.4000000000000004, 0.8, 0.8, 0.8, 0.8, 0.8, 0.8, 0.8, 0.8, 0.8, 0.8, 0.8, 0.8, 4.0, 1.6, 1.6, 0.8, 0.8, 0.8, 0.8, 0.8, 0.8, 0.8, 0.8, 0.8, 0.8, 2.4000000000000004, 0.8, 3.2, 1.6, 0.8, 0.8, 0.8, 0.8, 0.8, 0.8, 0.8, 0.8, 0.8, 18.400000000000002, 1.6, 1.6, 0.8, 22.400000000000002, 5.6000000000000005, 1.6, 0.8, 0.8, 0.8, 0.8, 9.600000000000001, 0.8, 0.8, 0.8, 0.8, 0.8, 0.8, 0.8, 0.8, 2.4000000000000004, 0.8, 0.8, 0.8, 0.8, 0.8, 7.2, 0.8, 0.8, 0.8, 0.8, 0.8, 4.0, 0.8, 0.8, 0.8, 0.8, 0.8, 0.8, 0.8, 0.8, 3.2, 4.800000000000001, 0.8, 0.8, 0.8, 0.8, 0.8, 0.8, 0.8, 0.8, 0.8, 0.8, 0.8, 5.6000000000000005, 0.8, 1.6, 1.6, 0.8, 1.6, 1.6, 0.8, 0.8, 0.8, 0.8, 0.8, 0.8, 3.2, 0.8, 2.4000000000000004, 1.6, 4.800000000000001, 0.8, 0.8, 0.8, 12.8, 7.2, 0.8, 4.800000000000001, 0.8, 0.8, 0.8, 0.8, 0.8, 0.8, 3.2, 0.8, 1.6, 0.8, 0.8, 0.8, 0.8, 3.2, 0.8, 0.8, 0.8, 0.8, 0.8, 0.8, 0.8, 2.4000000000000004, 5.6000000000000005, 1.6, 0.8, 2.4000000000000004, 0.8, 0.8, 0.8, 0.8, 0.8, 0.8, 0.8, 2.4000000000000004, 1.6, 0.8, 1.6, 0.8, 0.8, 0.8, 0.8, 0.8, 0.8, 0.8, 0.8, 0.8, 1.6, 0.8, 0.8, 0.8, 1.6, 0.8, 0.8, 0.8, 0.8, 0.8, 2.4000000000000004, 0.8, 0.8, 0.8, 0.8, 0.8, 0.8, 2.4000000000000004, 0.8, 0.8, 0.8, 1.6, 0.8, 0.8, 0.8, 0.8, 0.8, 0.8, 0.8, 1.6, 0.8, 1.6, 0.8, 0.8, 0.8, 0.8, 0.8, 0.8]}, \"mode\": \"markers\", \"type\": \"scatter\", \"x\": [8.5, 4.5, 9.0, 10.5, 6.5, 6.125, 7.5, 11.5, 7.5, 4.5, 7.3, 9.3, 7.6, 5.454545454545454, 8.3, 9.1, 7.0, 6.833333333333333, 8.9, 9.9, 6.5, 10.0, 5.071428571428571, 9.357142857142858, 7.142857142857143, 5.466666666666667, 8.357142857142858, 9.0, 7.071428571428571, 7.357142857142857, 7.642857142857143, 8.785714285714286, 7.071428571428571, 5.833333333333333, 9.5, 8.5, 9.416666666666666, 8.916666666666666, 9.166666666666666, 6.916666666666667, 5.2, 9.3, 10.0, 8.833333333333334, 8.5, 7.583333333333333, 8.25, 9.166666666666666, 7.833333333333333, 7.833333333333333, 5.642857142857143, 8.8, 8.25, 7.833333333333333, 7.6923076923076925, 8.583333333333334, 10.5, 7.833333333333333, 8.5, 8.142857142857142, 8.214285714285714, 8.785714285714286, 6.0, 9.785714285714286, 9.25, 9.23076923076923, 8.5, 9.214285714285714, 8.25, 6.333333333333333, 9.5, 9.571428571428571, 9.166666666666666, 9.1875, 8.352941176470589, 9.5, 9.166666666666666, 6.5, 9.5, 9.222222222222221, 8.7, 9.1, 8.333333333333334, 10.5, 11.5, 9.5, 9.75, 8.5, 10.5, 10.0, 8.75, 10.5, 11.5, 7.5, 6.5, 7.833333333333333, 10.5, 6.5, 8.166666666666666, 5.428571428571429, 7.5, 7.0, 7.25, 7.5, 8.428571428571429, 7.125, 5.444444444444445, 7.285714285714286, 7.888888888888889, 7.1, 7.083333333333333, 7.333333333333333, 5.384615384615385, 9.0, 10.181818181818182, 9.692307692307692, 6.8, 9.5, 11.5, 9.4, 10.5, 8.9, 9.5, 8.4, 8.7, 10.3, 11.5, 8.571428571428571, 10.5, 10.5, 8.454545454545455, 10.071428571428571, 9.545454545454545, 9.5, 9.25, 9.5, 10.166666666666666, 11.5, 8.818181818181818, 6.285714285714286, 9.5, 9.583333333333334, 8.857142857142858, 9.5, 9.0, 9.0, 9.75, 10.5, 9.0, 10.5, 9.25, 9.0, 8.833333333333334, 9.8125, 8.5, 10.0, 10.0, 9.1, 9.75, 9.0, 9.5, 8.733333333333333, 9.5, 9.055555555555555, 9.25, 9.31578947368421, 9.5, 9.0, 9.285714285714286, 8.928571428571429, 8.857142857142858, 7.0, 8.833333333333334, 9.9, 8.0, 9.5, 9.8, 8.823529411764707, 8.142857142857142, 9.0, 7.818181818181818, 8.2, 9.833333333333334, 8.733333333333333, 8.8125, 8.928571428571429, 7.9375, 10.071428571428571, 9.5, 9.0, 9.272727272727273, 8.5, 8.625, 8.5, 6.444444444444445, 10.5, 10.0, 10.0, 9.0, 7.6, 8.5, 9.2, 9.0, 8.0625, 8.5625, 8.8125, 10.5, 10.75, 9.5, 8.0, 9.75, 8.666666666666666, 8.0, 9.5625, 8.333333333333334, 9.0, 10.071428571428571, 11.5, 8.454545454545455, 9.166666666666666, 9.5, 10.071428571428571, 9.214285714285714, 10.153846153846153, 9.5, 9.857142857142858, 8.928571428571429, 10.0, 8.733333333333333, 8.5, 9.5, 9.0, 9.8125, 8.928571428571429, 9.25, 7.5, 11.5, 10.071428571428571, 9.214285714285714, 8.5, 6.3, 6.2, 5.7, 7.3, 6.7, 8.4, 10.5, 9.5, 10.5, 8.5, 10.23076923076923, 7.5, 6.833333333333333, 7.0], \"y\": [0, 0.13333333333333336, 0.2666666666666667, 0.2666666666666667, 0.2666666666666667, 0.2, 0.2, 0.2, 0.2666666666666667, 0.2058823529411765, 0.4705882352941176, 0.411764705882353, 0.4705882352941176, 0.3235294117647059, 0.3529411764705882, 0.3529411764705882, 0.4705882352941176, 0.4705882352941176, 0.4705882352941176, 0.3529411764705882, 0.44117647058823534, 0.4705882352941176, 0.25, 0.5555555555555556, 0.5555555555555556, 0.33333333333333337, 0.4444444444444444, 0.3888888888888889, 0.5277777777777778, 0.5555555555555556, 0.5555555555555556, 0.5555555555555556, 0.5555555555555556, 0.34210526315789475, 0.631578947368421, 0.5789473684210527, 0.631578947368421, 0.631578947368421, 0.631578947368421, 0.631578947368421, 0.42105263157894735, 0.5526315789473685, 0.4736842105263157, 0.631578947368421, 0.631578947368421, 0.631578947368421, 0.6052631578947368, 0.631578947368421, 0.6052631578947368, 0.631578947368421, 0.38095238095238104, 0.7619047619047621, 0.7619047619047621, 0.7142857142857143, 0.5714285714285714, 0.7619047619047621, 0.7619047619047621, 0.7142857142857143, 0.7619047619047621, 0.7619047619047621, 0.7380952380952379, 0.7619047619047621, 0.4347826086956522, 0.8695652173913044, 0.8043478260869567, 0.8695652173913044, 0.8260869565217392, 0.8695652173913044, 0.6956521739130435, 0.6956521739130435, 0.7173913043478259, 0.8695652173913044, 0.8260869565217392, 0.8695652173913044, 0.8695652173913044, 0.6956521739130435, 0.8695652173913044, 0.4999999999999999, 0.9166666666666666, 0.8333333333333333, 0.9166666666666666, 0.9166666666666666, 0.7500000000000001, 0.8958333333333334, 0.7083333333333333, 0.7083333333333333, 0.9166666666666666, 0.8333333333333333, 0.9166666666666666, 0.7083333333333333, 0.875, 0.14285714285714288, 0.07142857142857144, 0.14285714285714288, 0.14285714285714288, 0.375, 0.375, 0.375, 0.3125, 0.25, 0.3125, 0.375, 0.42424242424242425, 0.42424242424242425, 0.3636363636363637, 0.3939393939393939, 0.30303030303030304, 0.3636363636363637, 0.3636363636363637, 0.42424242424242425, 0.5142857142857142, 0.5142857142857142, 0.3142857142857143, 0.4, 0.3428571428571429, 0.5142857142857142, 0.5945945945945945, 0.5945945945945945, 0.4864864864864865, 0.5675675675675677, 0.5405405405405405, 0.5945945945945945, 0.5945945945945945, 0.7317073170731707, 0.7317073170731707, 0.7317073170731707, 0.5853658536585367, 0.6097560975609756, 0.7317073170731707, 0.5853658536585367, 0.7317073170731707, 0.7317073170731707, 0.8444444444444443, 0.8444444444444443, 0.7999999999999999, 0.8444444444444443, 0.8444444444444443, 0.6666666666666666, 0.8444444444444443, 0.6888888888888889, 0.7111111111111111, 0.8444444444444443, 0.8444444444444443, 0.7111111111111111, 0.7999999999999999, 0.8936170212765957, 0.8936170212765957, 0.8936170212765957, 0.8510638297872339, 0.8936170212765957, 0.8936170212765957, 0.8936170212765957, 0.7234042553191489, 0.8936170212765957, 0.8936170212765957, 0.8936170212765957, 0.6808510638297872, 0.8936170212765957, 0.9803921568627452, 0.8431372549019608, 0.9803921568627452, 0.9411764705882352, 0.9803921568627452, 0.8235294117647058, 0.9803921568627452, 0.9411764705882352, 1.0, 0.6666666666666666, 0.6666666666666666, 0.6666666666666666, 0.6410256410256411, 0.6666666666666666, 0.5897435897435898, 0.5128205128205128, 0.6410256410256411, 0.5128205128205128, 0.7906976744186047, 0.7906976744186047, 0.7906976744186047, 0.7906976744186047, 0.6744186046511628, 0.7906976744186047, 0.6511627906976744, 0.7906976744186047, 0.7906976744186047, 0.6511627906976744, 0.7441860465116279, 0.7906976744186047, 0.7906976744186047, 0.65, 0.7000000000000001, 0.7000000000000001, 0.7000000000000001, 0.6749999999999999, 0.5, 0.7000000000000001, 0.625, 0.55, 0.7000000000000001, 0.7000000000000001, 0.6749999999999999, 0.7727272727272727, 0.8181818181818181, 0.8181818181818181, 0.8181818181818181, 0.8181818181818181, 0.8181818181818181, 0.6363636363636364, 0.8181818181818181, 0.7727272727272727, 0.8181818181818181, 0.8181818181818181, 0.8181818181818181, 0.8181818181818181, 0.7727272727272727, 0.836734693877551, 0.9387755102040816, 0.7755102040816326, 0.8979591836734695, 0.9387755102040816, 0.9387755102040816, 0.9387755102040816, 0.9387755102040816, 0.8979591836734695, 0.6938775510204079, 0.9387755102040816, 0.9387755102040816, 0.7346938775510203, 0.8979591836734695, 0.8775510204081632, 0.9387755102040816, 0.86, 0.96, 0.96, 0.96, 0.8, 0.68, 0.96, 0.96, 0.86, 0.3225806451612904, 0.2903225806451613, 0.1935483870967742, 0.25806451612903225, 0.3225806451612904, 0.3225806451612904, 0.8679245283018868, 0.981132075471698, 0.8888888888888891, 0.8888888888888891, 0.9090909090909092, 0.07407407407407407, 0.20689655172413796, 0.20689655172413796]}],\n",
       "                        {\"height\": 400, \"hovermode\": \"closest\", \"margin\": {\"b\": 20, \"l\": 5, \"r\": 5, \"t\": 40}, \"shapes\": [{\"line\": {\"color\": \"black\", \"dash\": \"dot\", \"width\": 1}, \"type\": \"line\", \"x0\": 4, \"x1\": 13, \"y0\": 1, \"y1\": 1}, {\"line\": {\"color\": \"black\", \"dash\": \"dot\", \"width\": 1}, \"type\": \"line\", \"x0\": 4, \"x1\": 13, \"y0\": 0, \"y1\": 0}], \"showlegend\": false, \"template\": {\"data\": {\"bar\": [{\"error_x\": {\"color\": \"rgb(36,36,36)\"}, \"error_y\": {\"color\": \"rgb(36,36,36)\"}, \"marker\": {\"line\": {\"color\": \"white\", \"width\": 0.5}}, \"type\": \"bar\"}], \"barpolar\": [{\"marker\": {\"line\": {\"color\": \"white\", \"width\": 0.5}}, \"type\": \"barpolar\"}], \"carpet\": [{\"aaxis\": {\"endlinecolor\": \"rgb(36,36,36)\", \"gridcolor\": \"white\", \"linecolor\": \"white\", \"minorgridcolor\": \"white\", \"startlinecolor\": \"rgb(36,36,36)\"}, \"baxis\": {\"endlinecolor\": \"rgb(36,36,36)\", \"gridcolor\": \"white\", \"linecolor\": \"white\", \"minorgridcolor\": \"white\", \"startlinecolor\": \"rgb(36,36,36)\"}, \"type\": \"carpet\"}], \"choropleth\": [{\"colorbar\": {\"outlinewidth\": 1, \"tickcolor\": \"rgb(36,36,36)\", \"ticks\": \"outside\"}, \"type\": \"choropleth\"}], \"contour\": [{\"colorbar\": {\"outlinewidth\": 1, \"tickcolor\": \"rgb(36,36,36)\", \"ticks\": \"outside\"}, \"colorscale\": [[0.0, \"#440154\"], [0.1111111111111111, \"#482878\"], [0.2222222222222222, \"#3e4989\"], [0.3333333333333333, \"#31688e\"], [0.4444444444444444, \"#26828e\"], [0.5555555555555556, \"#1f9e89\"], [0.6666666666666666, \"#35b779\"], [0.7777777777777778, \"#6ece58\"], [0.8888888888888888, \"#b5de2b\"], [1.0, \"#fde725\"]], \"type\": \"contour\"}], \"contourcarpet\": [{\"colorbar\": {\"outlinewidth\": 1, \"tickcolor\": \"rgb(36,36,36)\", \"ticks\": \"outside\"}, \"type\": \"contourcarpet\"}], \"heatmap\": [{\"colorbar\": {\"outlinewidth\": 1, \"tickcolor\": \"rgb(36,36,36)\", \"ticks\": \"outside\"}, \"colorscale\": [[0.0, \"#440154\"], [0.1111111111111111, \"#482878\"], [0.2222222222222222, \"#3e4989\"], [0.3333333333333333, \"#31688e\"], [0.4444444444444444, \"#26828e\"], [0.5555555555555556, \"#1f9e89\"], [0.6666666666666666, \"#35b779\"], [0.7777777777777778, \"#6ece58\"], [0.8888888888888888, \"#b5de2b\"], [1.0, \"#fde725\"]], \"type\": \"heatmap\"}], \"heatmapgl\": [{\"colorbar\": {\"outlinewidth\": 1, \"tickcolor\": \"rgb(36,36,36)\", \"ticks\": \"outside\"}, \"colorscale\": [[0.0, \"#440154\"], [0.1111111111111111, \"#482878\"], [0.2222222222222222, \"#3e4989\"], [0.3333333333333333, \"#31688e\"], [0.4444444444444444, \"#26828e\"], [0.5555555555555556, \"#1f9e89\"], [0.6666666666666666, \"#35b779\"], [0.7777777777777778, \"#6ece58\"], [0.8888888888888888, \"#b5de2b\"], [1.0, \"#fde725\"]], \"type\": \"heatmapgl\"}], \"histogram\": [{\"marker\": {\"line\": {\"color\": \"white\", \"width\": 0.6}}, \"type\": \"histogram\"}], \"histogram2d\": [{\"colorbar\": {\"outlinewidth\": 1, \"tickcolor\": \"rgb(36,36,36)\", \"ticks\": \"outside\"}, \"colorscale\": [[0.0, \"#440154\"], [0.1111111111111111, \"#482878\"], [0.2222222222222222, \"#3e4989\"], [0.3333333333333333, \"#31688e\"], [0.4444444444444444, \"#26828e\"], [0.5555555555555556, \"#1f9e89\"], [0.6666666666666666, \"#35b779\"], [0.7777777777777778, \"#6ece58\"], [0.8888888888888888, \"#b5de2b\"], [1.0, \"#fde725\"]], \"type\": \"histogram2d\"}], \"histogram2dcontour\": [{\"colorbar\": {\"outlinewidth\": 1, \"tickcolor\": \"rgb(36,36,36)\", \"ticks\": \"outside\"}, \"colorscale\": [[0.0, \"#440154\"], [0.1111111111111111, \"#482878\"], [0.2222222222222222, \"#3e4989\"], [0.3333333333333333, \"#31688e\"], [0.4444444444444444, \"#26828e\"], [0.5555555555555556, \"#1f9e89\"], [0.6666666666666666, \"#35b779\"], [0.7777777777777778, \"#6ece58\"], [0.8888888888888888, \"#b5de2b\"], [1.0, \"#fde725\"]], \"type\": \"histogram2dcontour\"}], \"mesh3d\": [{\"colorbar\": {\"outlinewidth\": 1, \"tickcolor\": \"rgb(36,36,36)\", \"ticks\": \"outside\"}, \"type\": \"mesh3d\"}], \"parcoords\": [{\"line\": {\"colorbar\": {\"outlinewidth\": 1, \"tickcolor\": \"rgb(36,36,36)\", \"ticks\": \"outside\"}}, \"type\": \"parcoords\"}], \"pie\": [{\"automargin\": true, \"type\": \"pie\"}], \"scatter\": [{\"marker\": {\"colorbar\": {\"outlinewidth\": 1, \"tickcolor\": \"rgb(36,36,36)\", \"ticks\": \"outside\"}}, \"type\": \"scatter\"}], \"scatter3d\": [{\"line\": {\"colorbar\": {\"outlinewidth\": 1, \"tickcolor\": \"rgb(36,36,36)\", \"ticks\": \"outside\"}}, \"marker\": {\"colorbar\": {\"outlinewidth\": 1, \"tickcolor\": \"rgb(36,36,36)\", \"ticks\": \"outside\"}}, \"type\": \"scatter3d\"}], \"scattercarpet\": [{\"marker\": {\"colorbar\": {\"outlinewidth\": 1, \"tickcolor\": \"rgb(36,36,36)\", \"ticks\": \"outside\"}}, \"type\": \"scattercarpet\"}], \"scattergeo\": [{\"marker\": {\"colorbar\": {\"outlinewidth\": 1, \"tickcolor\": \"rgb(36,36,36)\", \"ticks\": \"outside\"}}, \"type\": \"scattergeo\"}], \"scattergl\": [{\"marker\": {\"colorbar\": {\"outlinewidth\": 1, \"tickcolor\": \"rgb(36,36,36)\", \"ticks\": \"outside\"}}, \"type\": \"scattergl\"}], \"scattermapbox\": [{\"marker\": {\"colorbar\": {\"outlinewidth\": 1, \"tickcolor\": \"rgb(36,36,36)\", \"ticks\": \"outside\"}}, \"type\": \"scattermapbox\"}], \"scatterpolar\": [{\"marker\": {\"colorbar\": {\"outlinewidth\": 1, \"tickcolor\": \"rgb(36,36,36)\", \"ticks\": \"outside\"}}, \"type\": \"scatterpolar\"}], \"scatterpolargl\": [{\"marker\": {\"colorbar\": {\"outlinewidth\": 1, \"tickcolor\": \"rgb(36,36,36)\", \"ticks\": \"outside\"}}, \"type\": \"scatterpolargl\"}], \"scatterternary\": [{\"marker\": {\"colorbar\": {\"outlinewidth\": 1, \"tickcolor\": \"rgb(36,36,36)\", \"ticks\": \"outside\"}}, \"type\": \"scatterternary\"}], \"surface\": [{\"colorbar\": {\"outlinewidth\": 1, \"tickcolor\": \"rgb(36,36,36)\", \"ticks\": \"outside\"}, \"colorscale\": [[0.0, \"#440154\"], [0.1111111111111111, \"#482878\"], [0.2222222222222222, \"#3e4989\"], [0.3333333333333333, \"#31688e\"], [0.4444444444444444, \"#26828e\"], [0.5555555555555556, \"#1f9e89\"], [0.6666666666666666, \"#35b779\"], [0.7777777777777778, \"#6ece58\"], [0.8888888888888888, \"#b5de2b\"], [1.0, \"#fde725\"]], \"type\": \"surface\"}], \"table\": [{\"cells\": {\"fill\": {\"color\": \"rgb(237,237,237)\"}, \"line\": {\"color\": \"white\"}}, \"header\": {\"fill\": {\"color\": \"rgb(217,217,217)\"}, \"line\": {\"color\": \"white\"}}, \"type\": \"table\"}]}, \"layout\": {\"annotationdefaults\": {\"arrowhead\": 0, \"arrowwidth\": 1}, \"coloraxis\": {\"colorbar\": {\"outlinewidth\": 1, \"tickcolor\": \"rgb(36,36,36)\", \"ticks\": \"outside\"}}, \"colorscale\": {\"diverging\": [[0.0, \"rgb(103,0,31)\"], [0.1, \"rgb(178,24,43)\"], [0.2, \"rgb(214,96,77)\"], [0.3, \"rgb(244,165,130)\"], [0.4, \"rgb(253,219,199)\"], [0.5, \"rgb(247,247,247)\"], [0.6, \"rgb(209,229,240)\"], [0.7, \"rgb(146,197,222)\"], [0.8, \"rgb(67,147,195)\"], [0.9, \"rgb(33,102,172)\"], [1.0, \"rgb(5,48,97)\"]], \"sequential\": [[0.0, \"#440154\"], [0.1111111111111111, \"#482878\"], [0.2222222222222222, \"#3e4989\"], [0.3333333333333333, \"#31688e\"], [0.4444444444444444, \"#26828e\"], [0.5555555555555556, \"#1f9e89\"], [0.6666666666666666, \"#35b779\"], [0.7777777777777778, \"#6ece58\"], [0.8888888888888888, \"#b5de2b\"], [1.0, \"#fde725\"]], \"sequentialminus\": [[0.0, \"#440154\"], [0.1111111111111111, \"#482878\"], [0.2222222222222222, \"#3e4989\"], [0.3333333333333333, \"#31688e\"], [0.4444444444444444, \"#26828e\"], [0.5555555555555556, \"#1f9e89\"], [0.6666666666666666, \"#35b779\"], [0.7777777777777778, \"#6ece58\"], [0.8888888888888888, \"#b5de2b\"], [1.0, \"#fde725\"]]}, \"colorway\": [\"#1F77B4\", \"#FF7F0E\", \"#2CA02C\", \"#D62728\", \"#9467BD\", \"#8C564B\", \"#E377C2\", \"#7F7F7F\", \"#BCBD22\", \"#17BECF\"], \"font\": {\"color\": \"rgb(36,36,36)\"}, \"geo\": {\"bgcolor\": \"white\", \"lakecolor\": \"white\", \"landcolor\": \"white\", \"showlakes\": true, \"showland\": true, \"subunitcolor\": \"white\"}, \"hoverlabel\": {\"align\": \"left\"}, \"hovermode\": \"closest\", \"mapbox\": {\"style\": \"light\"}, \"paper_bgcolor\": \"white\", \"plot_bgcolor\": \"white\", \"polar\": {\"angularaxis\": {\"gridcolor\": \"rgb(232,232,232)\", \"linecolor\": \"rgb(36,36,36)\", \"showgrid\": false, \"showline\": true, \"ticks\": \"outside\"}, \"bgcolor\": \"white\", \"radialaxis\": {\"gridcolor\": \"rgb(232,232,232)\", \"linecolor\": \"rgb(36,36,36)\", \"showgrid\": false, \"showline\": true, \"ticks\": \"outside\"}}, \"scene\": {\"xaxis\": {\"backgroundcolor\": \"white\", \"gridcolor\": \"rgb(232,232,232)\", \"gridwidth\": 2, \"linecolor\": \"rgb(36,36,36)\", \"showbackground\": true, \"showgrid\": false, \"showline\": true, \"ticks\": \"outside\", \"zeroline\": false, \"zerolinecolor\": \"rgb(36,36,36)\"}, \"yaxis\": {\"backgroundcolor\": \"white\", \"gridcolor\": \"rgb(232,232,232)\", \"gridwidth\": 2, \"linecolor\": \"rgb(36,36,36)\", \"showbackground\": true, \"showgrid\": false, \"showline\": true, \"ticks\": \"outside\", \"zeroline\": false, \"zerolinecolor\": \"rgb(36,36,36)\"}, \"zaxis\": {\"backgroundcolor\": \"white\", \"gridcolor\": \"rgb(232,232,232)\", \"gridwidth\": 2, \"linecolor\": \"rgb(36,36,36)\", \"showbackground\": true, \"showgrid\": false, \"showline\": true, \"ticks\": \"outside\", \"zeroline\": false, \"zerolinecolor\": \"rgb(36,36,36)\"}}, \"shapedefaults\": {\"fillcolor\": \"black\", \"line\": {\"width\": 0}, \"opacity\": 0.3}, \"ternary\": {\"aaxis\": {\"gridcolor\": \"rgb(232,232,232)\", \"linecolor\": \"rgb(36,36,36)\", \"showgrid\": false, \"showline\": true, \"ticks\": \"outside\"}, \"baxis\": {\"gridcolor\": \"rgb(232,232,232)\", \"linecolor\": \"rgb(36,36,36)\", \"showgrid\": false, \"showline\": true, \"ticks\": \"outside\"}, \"bgcolor\": \"white\", \"caxis\": {\"gridcolor\": \"rgb(232,232,232)\", \"linecolor\": \"rgb(36,36,36)\", \"showgrid\": false, \"showline\": true, \"ticks\": \"outside\"}}, \"title\": {\"x\": 0.05}, \"xaxis\": {\"automargin\": true, \"gridcolor\": \"rgb(232,232,232)\", \"linecolor\": \"rgb(36,36,36)\", \"showgrid\": false, \"showline\": true, \"ticks\": \"outside\", \"title\": {\"standoff\": 15}, \"zeroline\": false, \"zerolinecolor\": \"rgb(36,36,36)\"}, \"yaxis\": {\"automargin\": true, \"gridcolor\": \"rgb(232,232,232)\", \"linecolor\": \"rgb(36,36,36)\", \"showgrid\": false, \"showline\": true, \"ticks\": \"outside\", \"title\": {\"standoff\": 15}, \"zeroline\": false, \"zerolinecolor\": \"rgb(36,36,36)\"}}}, \"title\": {\"font\": {\"size\": 22}, \"text\": \"structure 1 | post\"}, \"width\": 600, \"xaxis\": {\"range\": [4, 13], \"showgrid\": false, \"visible\": false, \"zeroline\": true}, \"yaxis\": {\"range\": [-0.1, 1.05], \"showgrid\": false, \"tickfont\": {\"color\": \"black\", \"family\": \"Helvetica\", \"size\": 24}, \"title\": {\"font\": {\"color\": \"black\", \"family\": \"Helvetica\", \"size\": 24}, \"text\": \"F1 score\"}}},\n",
       "                        {\"responsive\": true}\n",
       "                    ).then(function(){\n",
       "                            \n",
       "var gd = document.getElementById('d0c9b539-103e-4fb4-b372-72770eb38204');\n",
       "var x = new MutationObserver(function (mutations, observer) {{\n",
       "        var display = window.getComputedStyle(gd).display;\n",
       "        if (!display || display === 'none') {{\n",
       "            console.log([gd, 'removed!']);\n",
       "            Plotly.purge(gd);\n",
       "            observer.disconnect();\n",
       "        }}\n",
       "}});\n",
       "\n",
       "// Listen for the removal of the full notebook cells\n",
       "var notebookContainer = gd.closest('#notebook-container');\n",
       "if (notebookContainer) {{\n",
       "    x.observe(notebookContainer, {childList: true});\n",
       "}}\n",
       "\n",
       "// Listen for the clearing of the current output cell\n",
       "var outputEl = gd.closest('.output');\n",
       "if (outputEl) {{\n",
       "    x.observe(outputEl, {childList: true});\n",
       "}}\n",
       "\n",
       "                        })\n",
       "                };\n",
       "                });\n",
       "            </script>\n",
       "        </div>"
      ]
     },
     "metadata": {},
     "output_type": "display_data"
    }
   ],
   "source": [
    "importlib.reload(g) ## reimport graph utils\n",
    "phases = ['pre', 'post']\n",
    "for this_target in targets[:1]:\n",
    "    for this_phase in phases:\n",
    "        g.plot_trajectory_graph(data = dfic, \n",
    "                                target = this_target, \n",
    "                                phase = this_phase, \n",
    "                                save=False, \n",
    "                                out_dir = plot_dir,\n",
    "                                extension = 'test',\n",
    "                                x_lower_bound = 4,\n",
    "                                x_upper_bound = 13,\n",
    "                                edge_width_scale_factor = 0.8,\n",
    "                                node_size_scale_factor = 0.8)"
   ]
  },
  {
   "cell_type": "code",
   "execution_count": null,
   "metadata": {},
   "outputs": [],
   "source": []
  }
 ],
 "metadata": {
  "kernelspec": {
   "display_name": "Python 3",
   "language": "python",
   "name": "python3"
  },
  "language_info": {
   "codemirror_mode": {
    "name": "ipython",
    "version": 3
   },
   "file_extension": ".py",
   "mimetype": "text/x-python",
   "name": "python",
   "nbconvert_exporter": "python",
   "pygments_lexer": "ipython3",
   "version": "3.7.3"
  }
 },
 "nbformat": 4,
 "nbformat_minor": 2
}
