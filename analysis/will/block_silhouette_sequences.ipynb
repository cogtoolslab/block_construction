{
 "cells": [
  {
   "cell_type": "code",
   "execution_count": 1,
   "metadata": {},
   "outputs": [],
   "source": [
    "import os\n",
    "import sys\n",
    "import urllib, io\n",
    "os.getcwd()\n",
    "sys.path.append(\"..\")\n",
    "sys.path.append(\"../utils\")\n",
    "proj_dir = os.path.abspath('../..')\n",
    "\n",
    "if os.path.join(proj_dir,'stimuli') not in sys.path:\n",
    "    sys.path.append(os.path.join(proj_dir,'stimuli'))\n",
    "\n",
    "import numpy as np\n",
    "import scipy.stats as stats\n",
    "import pandas as pd\n",
    "from scipy.spatial import distance\n",
    "from random import random\n",
    "from sklearn.cluster import SpectralBiclustering\n",
    "import itertools\n",
    "from scipy.optimize import linear_sum_assignment\n",
    "\n",
    "import pymongo as pm\n",
    "from collections import Counter\n",
    "import json\n",
    "import re\n",
    "import ast\n",
    "\n",
    "from PIL import Image, ImageOps, ImageDraw, ImageFont \n",
    "\n",
    "from io import BytesIO\n",
    "import base64\n",
    "\n",
    "import  matplotlib\n",
    "from matplotlib import pylab, mlab, pyplot\n",
    "%matplotlib inline\n",
    "from IPython.core.pylabtools import figsize, getfigs\n",
    "plt = pyplot\n",
    "import matplotlib as mpl\n",
    "mpl.rcParams['pdf.fonttype'] = 42\n",
    "from matplotlib import colors\n",
    "\n",
    "import seaborn as sns\n",
    "sns.set_context('talk')\n",
    "sns.set_style('darkgrid')\n",
    "\n",
    "from IPython.display import clear_output\n",
    "\n",
    "import warnings\n",
    "warnings.filterwarnings(\"ignore\", category=DeprecationWarning)\n",
    "warnings.filterwarnings(\"ignore\", message=\"numpy.dtype size changed\")\n",
    "warnings.filterwarnings(\"ignore\", message=\"numpy.ufunc size changed\")\n",
    "\n",
    "import blockworld_helpers as utils\n",
    "import drawing_utils as drawing\n",
    "import importlib\n",
    "import scoring\n",
    "import rda"
   ]
  },
  {
   "cell_type": "code",
   "execution_count": 2,
   "metadata": {},
   "outputs": [],
   "source": [
    "## directory & file hierarchy\n",
    "proj_dir = os.path.abspath('../..')\n",
    "datavol_dir = os.path.join(proj_dir,'data')\n",
    "analysis_dir = os.path.abspath(os.path.join(os.getcwd(),'..'))\n",
    "results_dir = os.path.join(analysis_dir,'results')\n",
    "stim_dir = os.path.join(proj_dir,'stimuli')\n",
    "plot_dir = os.path.join(results_dir,'plots')\n",
    "csv_dir = os.path.join(results_dir,'csv')\n",
    "json_dir = os.path.join(results_dir,'json')\n",
    "exp_dir = os.path.abspath(os.path.join(proj_dir,'experiments'))\n",
    "png_dir = os.path.abspath(os.path.join(datavol_dir,'png'))\n",
    "jefan_dir = os.path.join(analysis_dir,'jefan')\n",
    "will_dir = os.path.join(analysis_dir,'will')\n",
    "\n",
    "## add helpers to python path\n",
    "if os.path.join(proj_dir,'stimuli') not in sys.path:\n",
    "    sys.path.append(os.path.join(proj_dir,'stimuli'))\n",
    "    \n",
    "if not os.path.exists(results_dir):\n",
    "    os.makedirs(results_dir)\n",
    "    \n",
    "if not os.path.exists(plot_dir):\n",
    "    os.makedirs(plot_dir)   \n",
    "    \n",
    "if not os.path.exists(csv_dir):\n",
    "    os.makedirs(csv_dir)       "
   ]
  },
  {
   "cell_type": "code",
   "execution_count": 3,
   "metadata": {},
   "outputs": [
    {
     "data": {
      "text/plain": [
       "'/Users/will/block_construction/stimuli'"
      ]
     },
     "execution_count": 3,
     "metadata": {},
     "output_type": "execute_result"
    }
   ],
   "source": [
    "stim_dir"
   ]
  },
  {
   "cell_type": "code",
   "execution_count": 4,
   "metadata": {},
   "outputs": [],
   "source": [
    "iteration_name = 'Exp2Pilot3'\n",
    "num_trials = 24 #for sanity checks"
   ]
  },
  {
   "cell_type": "code",
   "execution_count": 5,
   "metadata": {},
   "outputs": [
    {
     "name": "stdout",
     "output_type": "stream",
     "text": [
      "49 participants total\n"
     ]
    }
   ],
   "source": [
    "# Data already compiled into dataframes in CogSci 2020 Dataframe Generator\n",
    "\n",
    "# trial_end data\n",
    "trial_path = os.path.join(csv_dir,'block_silhouette_{}_good.csv'.format(iteration_name))\n",
    "df = pd.read_csv(trial_path)\n",
    "\n",
    "# # initial_block data\n",
    "initial_path = os.path.join(csv_dir,'block_silhouette_initial_{}_good.csv'.format(iteration_name))\n",
    "dfi = pd.read_csv(initial_path)\n",
    "\n",
    "# # settled_block data\n",
    "settled_path = os.path.join(csv_dir,'block_silhouette_settled_{}_good.csv'.format(iteration_name))\n",
    "dfs = pd.read_csv(settled_path)\n",
    "\n",
    "# # Sanity Check- same participants in each dataset.\n",
    "df_participants = df.gameID.unique()\n",
    "dfs_participants = dfs.gameID.unique()\n",
    "assert Counter(df_participants) == Counter(dfs_participants)\n",
    "\n",
    "n_before_outliers = len(df_participants)\n",
    "print(str(n_before_outliers) + ' participants total')\n",
    "\n",
    "dfi['usableDiscreteWorld'] = dfi['discreteWorld'].apply(lambda a: 1+(-1)*np.array(ast.literal_eval(a)))\n",
    "dfi['flatDiscreteWorld'] = dfi['discreteWorld'].apply(lambda a: (1+(-1)*np.array(ast.literal_eval(a))).flatten())"
   ]
  },
  {
   "cell_type": "markdown",
   "metadata": {},
   "source": [
    "## Actions\n",
    "\n",
    "Placement of block: <w,h,x,y>\n",
    "\n",
    "Only certain placements are possible at any one time: i.e. those just above the current tower (including in holes).\n",
    "\n",
    "Consider set of actions as possible block placements *inside the silhouette* plus an error action- placing a block anywhere outside the silhouette.\n"
   ]
  },
  {
   "cell_type": "code",
   "execution_count": 7,
   "metadata": {},
   "outputs": [],
   "source": [
    "blocks = np.array([[1,2],[2,1],[2,2],[2,4],[4,2]]) # block dimensions\n",
    "locations = np.arange(0,8) # locations to place blocks- inside 8x8 grid only"
   ]
  },
  {
   "cell_type": "markdown",
   "metadata": {},
   "source": [
    "### Maps of silhouette"
   ]
  },
  {
   "cell_type": "code",
   "execution_count": 13,
   "metadata": {},
   "outputs": [
    {
     "name": "stdout",
     "output_type": "stream",
     "text": [
      "Loaded 8 structures.\n"
     ]
    }
   ],
   "source": [
    "target_dir = os.path.join(stim_dir,'hand_selected_e2_subset')\n",
    "\n",
    "## load in list of structures\n",
    "file_list = os.listdir(target_dir)\n",
    "file_list = [x for x in file_list if not (x.startswith('.'))]\n",
    "\n",
    "print('Loaded {} structures.'.format(len(file_list)))\n",
    "\n",
    "target_blocks_dict = {}\n",
    "\n",
    "## loop through list of good sequences, and build list of versions, each containing a trial list \n",
    "Meta = [] ## initialize list of all trial lists\n",
    "for i,f in enumerate(file_list):\n",
    "    target = pd.read_json(os.path.join(target_dir,f)) ## stim list\n",
    "    targetName = f.split('.')[0]\n",
    "    targetBlocks = list(target['blocks'].values)\n",
    "    target_blocks_dict[targetName] = targetBlocks"
   ]
  },
  {
   "cell_type": "code",
   "execution_count": 14,
   "metadata": {},
   "outputs": [],
   "source": [
    "stimWidth = 8\n",
    "worldWidth = 18\n",
    "worldHeight = 13\n",
    "\n",
    "target_maps = {}\n",
    "\n",
    "for i, (target_name, block_list) in enumerate(target_blocks_dict.items()):\n",
    "    #block_list = target_blocks_dict['hand_selected_009']\n",
    "    target_map = np.zeros([worldWidth,worldHeight])\n",
    "\n",
    "    for block in block_list:\n",
    "        # add block to map\n",
    "        width = block['width']\n",
    "        height = block['height']\n",
    "        blockLeft = int((worldWidth-stimWidth)/2) + block['x']\n",
    "        blockBottom = block['y']\n",
    "        blockTop = blockBottom + height\n",
    "        blockRight = blockLeft + width\n",
    "\n",
    "        #console.log('width', width);\n",
    "        #console.log('height', height);\n",
    "        #console.log('blockLeft', blockLeft);\n",
    "        #console.log('blockBottom', blockBottom);\n",
    "        for y in range(blockBottom,blockTop):\n",
    "            for x in range(blockLeft, blockRight):\n",
    "                target_map[x][y] = 1\n",
    "    \n",
    "    target_maps[target_name] = target_map\n",
    "    "
   ]
  },
  {
   "cell_type": "code",
   "execution_count": 15,
   "metadata": {
    "scrolled": true
   },
   "outputs": [
    {
     "data": {
      "image/png": "[encoded data removed]",
      "text/plain": [
       "<Figure size 432x288 with 1 Axes>"
      ]
     },
     "metadata": {
      "needs_background": "light"
     },
     "output_type": "display_data"
    },
    {
     "data": {
      "image/png": "[encoded data removed]",
      "text/plain": [
       "<Figure size 432x288 with 1 Axes>"
      ]
     },
     "metadata": {
      "needs_background": "light"
     },
     "output_type": "display_data"
    },
    {
     "data": {
      "image/png": "[encoded data removed]",
      "text/plain": [
       "<Figure size 432x288 with 1 Axes>"
      ]
     },
     "metadata": {
      "needs_background": "light"
     },
     "output_type": "display_data"
    },
    {
     "data": {
      "image/png": "[encoded data removed]",
      "text/plain": [
       "<Figure size 432x288 with 1 Axes>"
      ]
     },
     "metadata": {
      "needs_background": "light"
     },
     "output_type": "display_data"
    },
    {
     "data": {
      "image/png": "[encoded data removed]",
      "text/plain": [
       "<Figure size 432x288 with 1 Axes>"
      ]
     },
     "metadata": {
      "needs_background": "light"
     },
     "output_type": "display_data"
    },
    {
     "data": {
      "image/png": "[encoded data removed]",
      "text/plain": [
       "<Figure size 432x288 with 1 Axes>"
      ]
     },
     "metadata": {
      "needs_background": "light"
     },
     "output_type": "display_data"
    },
    {
     "data": {
      "image/png": "[encoded data removed]",
      "text/plain": [
       "<Figure size 432x288 with 1 Axes>"
      ]
     },
     "metadata": {
      "needs_background": "light"
     },
     "output_type": "display_data"
    },
    {
     "data": {
      "image/png": "[encoded data removed]",
      "text/plain": [
       "<Figure size 432x288 with 1 Axes>"
      ]
     },
     "metadata": {
      "needs_background": "light"
     },
     "output_type": "display_data"
    }
   ],
   "source": [
    "for i, (target_name, target_map) in enumerate(target_maps.items()):\n",
    "    silhouette = 1*np.logical_not(target_map)\n",
    "    silhouette = np.rot90(silhouette)\n",
    "    fig, ax = plt.subplots()\n",
    "    ax.axis('off')\n",
    "    ax.imshow(silhouette)"
   ]
  },
  {
   "cell_type": "markdown",
   "metadata": {},
   "source": [
    "### Enumerate actions within silhouette"
   ]
  },
  {
   "cell_type": "code",
   "execution_count": null,
   "metadata": {},
   "outputs": [],
   "source": [
    "silhouette = 1*np.logical_not(target_maps['hand_selected_012'])\n",
    "silhouette = np.rot90(silhouette)\n",
    "fig, ax = plt.subplots()\n",
    "ax.axis('off')\n",
    "ax.imshow(silhouette)"
   ]
  },
  {
   "cell_type": "code",
   "execution_count": null,
   "metadata": {},
   "outputs": [],
   "source": [
    "tm = target_maps['hand_selected_012']"
   ]
  },
  {
   "cell_type": "code",
   "execution_count": null,
   "metadata": {},
   "outputs": [],
   "source": [
    "tm[5:12,0:8] # Slice only the silhouette"
   ]
  },
  {
   "cell_type": "markdown",
   "metadata": {},
   "source": [
    "for a current world state:\n",
    "find set of viable actions\n",
    "\n",
    "iterate through layers (keep track of floors?)\n",
    "for each block find viable locations\n",
    "or \n",
    "for each location find viable blocks\n",
    "\n",
    "some of these paths will lead to dead ends"
   ]
  },
  {
   "cell_type": "code",
   "execution_count": null,
   "metadata": {},
   "outputs": [],
   "source": []
  },
  {
   "cell_type": "markdown",
   "metadata": {},
   "source": [
    "## Actual distributions of human behavior\n",
    "\n",
    "Look at the sequences of actions people actually take\n",
    "And see how close they are\n",
    "Do they end up closer (by rep 4)?\n",
    "\n",
    "Similarity:\n",
    "Closer if: \n",
    "Same blocks in same place\n",
    "Same blocks in same placed placed at similar time"
   ]
  },
  {
   "cell_type": "code",
   "execution_count": null,
   "metadata": {},
   "outputs": [],
   "source": [
    "dfi['usableDiscreteWorld'] = dfi['discreteWorld'].apply(lambda a: 1+(-1)*np.array(ast.literal_eval(a)))\n",
    "dfi['flatDiscreteWorld'] = dfi['discreteWorld'].apply(lambda a: (1+(-1)*np.array(ast.literal_eval(a))).flatten())"
   ]
  },
  {
   "cell_type": "code",
   "execution_count": null,
   "metadata": {
    "scrolled": true
   },
   "outputs": [],
   "source": [
    "# We have sequences of world states, of length n where n is the number of blocks placed\n",
    "# Each layer is a block placement\n",
    "dfi['flatDiscreteWorld'][0]"
   ]
  },
  {
   "cell_type": "markdown",
   "metadata": {},
   "source": [
    "Vector representing where blocks have been placed\n",
    "Want to look at sequences of these\n",
    "If people complete the silhouette, these vectors will be the same\n",
    "Differing numbers of blocks mean the list of these vectors will be different lengths"
   ]
  },
  {
   "cell_type": "markdown",
   "metadata": {},
   "source": [
    "## Discrete World State"
   ]
  },
  {
   "cell_type": "code",
   "execution_count": null,
   "metadata": {},
   "outputs": [],
   "source": [
    "# get world state EVERY SECOND\n",
    "# i.e. the flatDiscreteWorld for the highest time preceding i \n",
    "# for every participant, for every structure\n",
    "\n",
    "targets = np.sort(df['targetName'].unique())\n",
    "ppts = np.sort(df['gameID'].unique())\n",
    "\n",
    "n_targets = df['targetName'].nunique()\n",
    "n_ppts = df['gameID'].nunique()\n",
    "\n",
    "m = np.zeros((n_targets,n_ppts,61,13*18)) #number of seconds, number of squares in grid\n",
    "\n",
    "for t, t_name in enumerate(targets):\n",
    "    for p, p_id in enumerate(ppts):\n",
    "        subset = dfi[(dfi.targetName==t_name) & (dfi.gameID==p_id) & (dfi.phase=='pre')]\n",
    "        prev_world = np.zeros(13*18)\n",
    "        i = 0\n",
    "        for index, row in subset.iterrows():\n",
    "            while ((i*1000 < row['relativePlacementTime']) & ((i*1000)<60000)):\n",
    "                m[t,p,i,:] = prev_world\n",
    "                i += 1\n",
    "            prev_world = row['flatDiscreteWorld']\n",
    "        while (i < 60):\n",
    "            m[t,p,i,:] = prev_world\n",
    "            i += 1\n"
   ]
  },
  {
   "cell_type": "code",
   "execution_count": null,
   "metadata": {},
   "outputs": [],
   "source": [
    "# get world state EVERY 10 SECONDS\n",
    "# i.e. the flatDiscreteWorld for the highest time preceding i \n",
    "# PRE PHASE, for every participant, for every structure\n",
    "\n",
    "targets = np.sort(df['targetName'].unique())\n",
    "ppts = np.sort(df['gameID'].unique())\n",
    "\n",
    "n_targets = df['targetName'].nunique()\n",
    "n_ppts = df['gameID'].nunique()\n",
    "\n",
    "m = np.zeros((n_targets,n_ppts,6,13*18)) #number of seconds, number of squares in grid\n",
    "\n",
    "for t, t_name in enumerate(targets):\n",
    "    for p, p_id in enumerate(ppts):\n",
    "        subset = dfi[(dfi.targetName==t_name) & (dfi.gameID==p_id) & (dfi.phase=='pre')]\n",
    "        prev_world = np.zeros(13*18)\n",
    "        i = 0\n",
    "        for index, row in subset.iterrows():\n",
    "            while ((i*10000 < row['relativePlacementTime']) & ((i*10000)<60000)):\n",
    "                m[t,p,i,:] = prev_world\n",
    "                i += 1\n",
    "            prev_world = row['flatDiscreteWorld']\n",
    "        while (i < 6):\n",
    "            m[t,p,i,:] = prev_world\n",
    "            i += 1\n"
   ]
  },
  {
   "cell_type": "code",
   "execution_count": null,
   "metadata": {},
   "outputs": [],
   "source": [
    "# get world state EVERY 10 SECONDS\n",
    "# i.e. the flatDiscreteWorld for the highest time preceding i \n",
    "# POST PHASE, for every participant, for every structure\n",
    "\n",
    "targets = np.sort(df['targetName'].unique())\n",
    "ppts = np.sort(df['gameID'].unique())\n",
    "\n",
    "n_targets = df['targetName'].nunique()\n",
    "n_ppts = df['gameID'].nunique()\n",
    "\n",
    "m2 = np.zeros((n_targets,n_ppts,6,13*18)) #number of seconds, number of squares in grid\n",
    "\n",
    "for t, t_name in enumerate(targets):\n",
    "    for p, p_id in enumerate(ppts):\n",
    "        subset = dfi[(dfi.targetName==t_name) & (dfi.gameID==p_id) & (dfi.phase=='post')]\n",
    "        prev_world = np.zeros(13*18)\n",
    "        i = 0\n",
    "        for index, row in subset.iterrows():\n",
    "            while ((i*10000 < row['relativePlacementTime']) & ((i*10000)<60000)):\n",
    "                m2[t,p,i,:] = prev_world\n",
    "                i += 1\n",
    "            prev_world = row['flatDiscreteWorld']\n",
    "        while (i < 6):\n",
    "            m2[t,p,i,:] = prev_world\n",
    "            i += 1\n"
   ]
  },
  {
   "cell_type": "code",
   "execution_count": null,
   "metadata": {},
   "outputs": [],
   "source": [
    "# (targets, participants, seconds, squares)\n",
    "# for one target, get all participants\n",
    "mat = m[3,:,50,:]"
   ]
  },
  {
   "cell_type": "markdown",
   "metadata": {},
   "source": [
    "## Explore matrix creation (compare ppt world state for a given structure over time)"
   ]
  },
  {
   "cell_type": "code",
   "execution_count": null,
   "metadata": {
    "scrolled": true
   },
   "outputs": [],
   "source": [
    "# Create rdm for a given structure and time step (all ppts, one phase)\n",
    "\n",
    "mat = m[3,:,1,:]\n",
    "n_rows = mat.shape[0]\n",
    "\n",
    "rdm = np.zeros((n_rows,n_rows))\n",
    "\n",
    "for i in range (0, n_rows): # row dim\n",
    "    for j in range (0, n_rows): # row dim\n",
    "        rdm[i,j] = distance.euclidean(mat[i,:],mat[j,:])\n",
    "        \n",
    "\n",
    "img = plt.matshow(rdm)\n",
    "img.set_cmap('hot')\n",
    "plt.axis('off')\n",
    "plt.savefig(\"test.png\", bbox_inches='tight')\n",
    "plt.colorbar()"
   ]
  },
  {
   "cell_type": "code",
   "execution_count": null,
   "metadata": {},
   "outputs": [],
   "source": [
    "# Use biclustering to arrange rows and columns. \n",
    "# This seems ok, except you have to specify the amount of clusters and the initial random state seems to have quite a large effect\n",
    "\n",
    "mat = m[1,:,2,:]\n",
    "n_rows = mat.shape[0]\n",
    "\n",
    "rdm = np.zeros((n_rows,n_rows))\n",
    "\n",
    "for i in range (0, n_rows): # row dim\n",
    "    for j in range (0, n_rows): # row dim\n",
    "        rdm[i,j] = distance.euclidean(mat[i,:],mat[j,:])\n",
    "\n",
    "clustering = SpectralBiclustering(n_clusters=5, random_state=0).fit(rdm) # https://scikit-learn.org/stable/auto_examples/bicluster/plot_spectral_biclustering.html\n",
    "order = clustering.row_labels_\n",
    "\n",
    "sorted_rdm = rdm[np.argsort(clustering.row_labels_)]\n",
    "sorted_rdm = sorted_rdm[:, np.argsort(clustering.column_labels_)]\n",
    "\n",
    "img1 = plt.matshow(rdm)\n",
    "plt.axis('off')\n",
    "plt.colorbar()\n",
    "img2 = plt.matshow(sorted_rdm)\n",
    "plt.axis('off')\n",
    "img1.set_cmap('hot')\n",
    "img2.set_cmap('hot')\n",
    "plt.colorbar()"
   ]
  },
  {
   "cell_type": "code",
   "execution_count": null,
   "metadata": {},
   "outputs": [],
   "source": [
    "importlib.reload(scoring)"
   ]
  },
  {
   "cell_type": "code",
   "execution_count": null,
   "metadata": {
    "scrolled": false
   },
   "outputs": [],
   "source": [
    "# Create and display RDMs for one structure (all ppts, one phase)\n",
    "\n",
    "mat = m[3,:,:,:]\n",
    "\n",
    "n_rows = mat.shape[0]\n",
    "time_steps = mat.shape[1]\n",
    "\n",
    "rdm = np.zeros((n_rows,n_rows, time_steps))\n",
    "\n",
    "for step in range(0,time_steps):\n",
    "    for i in range (0, n_rows): # row dim\n",
    "        for j in range (0, n_rows): # row dim\n",
    "            rdm[i,j,step] = scoring.get_jaccard(mat[i,step,:],mat[j,step,:])\n",
    "        \n",
    "for step in range(0,time_steps):\n",
    "    img = plt.matshow(rdm[:,:,step])\n",
    "    img.set_cmap('hot')\n",
    "    plt.axis('off')\n",
    "    plt.savefig(\"test.png\", bbox_inches='tight')\n",
    "    plt.colorbar()"
   ]
  },
  {
   "cell_type": "markdown",
   "metadata": {},
   "source": [
    "## Sequences of world states by action"
   ]
  },
  {
   "cell_type": "code",
   "execution_count": null,
   "metadata": {
    "scrolled": false
   },
   "outputs": [],
   "source": [
    "# Spread flatDiscreteWorld over columns\n",
    "\n",
    "dfic = dfi[dfi.condition=='repeated']\n",
    "dfic = dfic[['targetName','gameID','blockNum','repetition','flatDiscreteWorld']]\n",
    "\n",
    "# Create index names\n",
    "# for i in range(0,len(dfi['flatDiscreteWorld'][0])):\n",
    "#     inds.append('w_' + str(i).zfill(3))\n",
    "\n",
    "# Create columns from values in flatDiscreteWorld\n",
    "world_cols = dfic.apply(lambda x: pd.Series(x['flatDiscreteWorld']), axis=1)\n",
    "dfic = pd.concat([dfic, world_cols], axis=1)"
   ]
  },
  {
   "cell_type": "code",
   "execution_count": null,
   "metadata": {},
   "outputs": [],
   "source": [
    "# Make empty values for non-existent blockNums \n",
    "\n",
    "targets = np.sort(df['targetName'].unique())\n",
    "ppts = np.sort(df['gameID'].unique())\n",
    "reps = np.sort(df['repetition'].unique())\n",
    "max_actions = dfic['blockNum'].max()\n",
    "\n",
    "# create multi-index\n",
    "block_placement_index = (\n",
    "    pd.MultiIndex\n",
    "    .from_product(\n",
    "        iterables=[targets, ppts, reps, range(1,max_actions + 1)],\n",
    "        names=['targetName', 'gameID','repetition','blockNum']\n",
    "    )\n",
    ")\n",
    "\n",
    "# set indexes, then replace with full product index, filling blank values with NaNs \n",
    "world_states = dfic.set_index(['targetName', 'gameID','repetition','blockNum']).\\\n",
    "    reindex(index=block_placement_index, fill_value=np.nan).reset_index()"
   ]
  },
  {
   "cell_type": "code",
   "execution_count": null,
   "metadata": {
    "scrolled": false
   },
   "outputs": [],
   "source": [
    "# Get scores for each pair of repetitions\n",
    "\n",
    "importlib.reload(scoring)\n",
    "\n",
    "rep_pairs = list(combinations(reps,2))\n",
    "\n",
    "def get_scores(x):\n",
    "    tmp_df = pd.DataFrame(rep_pairs,\n",
    "                          columns=['rep_a','rep_b'])\n",
    "    #tmp_df = tmp_df.assign(score=lambda r: x[x.repetition==r.rep_a]['flatDiscreteWorld'])\n",
    "    tmp_df['score'] = tmp_df.apply(lambda r: scoring.get_jaccard(\\\n",
    "                            x[x.repetition==r.rep_a].iloc[:,5:].values,\\\n",
    "                            x[x.repetition==r.rep_b].iloc[:,5:].values),\\\n",
    "                                                    axis=1)\n",
    "    return tmp_df\n",
    "\n",
    "scores_df = world_states.groupby(['targetName','gameID','blockNum']).apply(lambda x: get_scores(x))\\\n",
    "                               .reset_index()"
   ]
  },
  {
   "cell_type": "code",
   "execution_count": null,
   "metadata": {},
   "outputs": [],
   "source": [
    "rep_pairs = list(combinations(reps,2))\n",
    "rep_pairs"
   ]
  },
  {
   "cell_type": "code",
   "execution_count": null,
   "metadata": {},
   "outputs": [],
   "source": [
    "# Add convenient names for pairs of repeititons\n",
    "scores_df['reps'] = scores_df.apply(lambda row: str(int(row.rep_a)) + ' to ' + str(int(row.rep_b)), axis = 1) "
   ]
  },
  {
   "cell_type": "code",
   "execution_count": null,
   "metadata": {},
   "outputs": [],
   "source": [
    "scores_sample = scores_df[scores_df.reps.isin(['0 to 1','1 to 2','2 to 3'])]\n",
    "\n",
    "g = sns.FacetGrid(scores_sample, col=\"targetName\", col_wrap=2, height=6, hue=\"reps\")\n",
    "g.map(sns.lineplot, \"blockNum\", \"score\");\n",
    "g.map(sns.scatterplot, \"blockNum\", \"score\");\n",
    "plt.legend(bbox_to_anchor=(1.0,1))"
   ]
  },
  {
   "cell_type": "code",
   "execution_count": null,
   "metadata": {},
   "outputs": [],
   "source": [
    "# Label pairs of repetitions by amount of overlap\n",
    "\n",
    "def same_diff_from_jaccard(j):\n",
    "    if np.isnan(j):\n",
    "        return 'no values'\n",
    "    elif j==1:\n",
    "        return 'same'\n",
    "    elif j==0:\n",
    "        return 'no overlap'\n",
    "    else:\n",
    "        return 'overlap'\n",
    "    \n",
    "v_s = np.vectorize(same_diff_from_jaccard)\n",
    "    \n",
    "scores_df['samediff'] = v_s(scores_df.score)"
   ]
  },
  {
   "cell_type": "code",
   "execution_count": null,
   "metadata": {
    "scrolled": false
   },
   "outputs": [],
   "source": [
    "scores_sample = scores_df[(scores_df.targetName==targets[0]) & (scores_df.reps.isin(['0 to 1','1 to 2','2 to 3']))]\n",
    "\n",
    "# g = sns.FacetGrid(scores_sample, col=\"reps\", col_wrap=2, height=6, hue=\"samediff\")\n",
    "# g.map(sns.barplot, \"blockNum\", );\n",
    "# plt.legend(bbox_to_anchor=(1.0,1))"
   ]
  },
  {
   "cell_type": "code",
   "execution_count": null,
   "metadata": {},
   "outputs": [],
   "source": [
    "scores_df.groupby(['targetName','blockNum','reps'])['samediff'].value_counts()"
   ]
  },
  {
   "cell_type": "code",
   "execution_count": null,
   "metadata": {},
   "outputs": [],
   "source": []
  },
  {
   "cell_type": "code",
   "execution_count": null,
   "metadata": {
    "scrolled": false
   },
   "outputs": [],
   "source": [
    "# calculate all distances\n",
    "\n",
    "# each small multiple is a target structure\n",
    "# rows and columns are repetitions\n",
    "# each value is a within participant, within structure, within action index, across repetition distance\n",
    "# each layer is an action\n",
    "targets = np.sort(df['targetName'].unique())\n",
    "ppts = np.sort(df['gameID'].unique())\n",
    "reps = np.sort(df['repetition'].unique())\n",
    "\n",
    "n_targets = df['targetName'].nunique()\n",
    "n_ppts = df['gameID'].nunique()\n",
    "n_reps = df['repetition'].nunique()\n",
    "n_grid_squares = 13*18\n",
    "\n",
    "max_actions = df['numBlocks'].max()\n",
    "\n",
    "dfic = dfi[['targetName','gameID','blockNum','condition','repetition','flatDiscreteWorld']]\n",
    "dfic = dfic[dfic.condition=='repeated']\n",
    "\n",
    "n_rows = n_reps\n",
    "n_cols = n_reps\n",
    "\n",
    "all_dists = np.zeros((n_targets, n_ppts, max_actions, n_rows, n_cols))\n",
    "\n",
    "df_dists = pd.DataFrame(columns=['target', 'participant', 'block_num','rep_a','rep_b','dist'])\n",
    "\n",
    "for t in range(0, n_targets):\n",
    "    for p in range(0, n_ppts):\n",
    "        for a in range(0, max_actions):\n",
    "            for rep_a in range (0, n_rows): # row dim\n",
    "                for rep_b in range (0, n_cols): # col dim\n",
    "                    world_a = all_worlds[t,p,a,rep_a,:]\n",
    "                    world_b = all_worlds[t,p,a,rep_b,:]\n",
    "                    all_dists[t,p,a,rep_a,rep_b] = scoring.get_jaccard(world_a,world_b)\n",
    "#                     df_dists = df_dists.append({'target': t,\n",
    "#                                     'participant': p, \n",
    "#                                     'block_num': a,\n",
    "#                                     'rep_a': rep_a,\n",
    "#                                     'rep_b': rep_b,\n",
    "#                                     'dist':scoring.get_jaccard(world_a,world_b)}, ignore_index=True)"
   ]
  },
  {
   "cell_type": "code",
   "execution_count": null,
   "metadata": {},
   "outputs": [],
   "source": [
    "v_jaccard = np.vectorize(scoring.get_jaccard)"
   ]
  },
  {
   "cell_type": "code",
   "execution_count": null,
   "metadata": {},
   "outputs": [],
   "source": [
    "img = plt.matshow(all_dists[1,3,8,:,:])\n",
    "img.set_cmap('hot')\n",
    "plt.axis('off')\n",
    "plt.colorbar()"
   ]
  },
  {
   "cell_type": "code",
   "execution_count": null,
   "metadata": {
    "scrolled": true
   },
   "outputs": [],
   "source": [
    "for action in range(0, max_actions):\n",
    "    action_dists = all_dists[1,:,action,:,:]\n",
    "    img.set_cmap('hot')\n",
    "    norm = plt.Normalize(0, 1)\n",
    "    img = plt.matshow(np.nanmean(action_dists, axis=0), norm=norm)\n",
    "    plt.axis('off')\n",
    "    plt.colorbar()"
   ]
  },
  {
   "cell_type": "code",
   "execution_count": null,
   "metadata": {},
   "outputs": [],
   "source": [
    "plt.set_cmap('hot')\n",
    "cmap = plt.cm.get_cmap()\n",
    "cmap.set_bad(color='green')\n",
    "norm = plt.Normalize(0, 1)\n",
    "\n",
    "for action in range(0, max_actions):\n",
    "    img = plt.matshow(all_dists[0,5,action,:,:], cmap = cmap, norm=norm)\n",
    "    plt.axis('off')\n",
    "    plt.colorbar()"
   ]
  },
  {
   "cell_type": "code",
   "execution_count": null,
   "metadata": {},
   "outputs": [],
   "source": [
    "#all_dists = (n_targets, n_ppts, max_actions, n_rows, n_cols)"
   ]
  },
  {
   "cell_type": "code",
   "execution_count": null,
   "metadata": {},
   "outputs": [],
   "source": [
    "mean_dists_ppts = np.mean(all_dists[:,:,:,:,:], axis = 1)\n",
    "mean_dists_ppts.shape"
   ]
  },
  {
   "cell_type": "code",
   "execution_count": null,
   "metadata": {},
   "outputs": [],
   "source": [
    "df_dists['reps'] = df_dists.apply(lambda row: str(int(row.rep_a)) + ' to ' + str(int(row.rep_b)), axis = 1) "
   ]
  },
  {
   "cell_type": "code",
   "execution_count": null,
   "metadata": {},
   "outputs": [],
   "source": [
    "#fig = plt.figure(figsize=(10,6))\n",
    "g = sns.FacetGrid(df_dists, row=\"target\", hue=\"rep_a\")\n",
    "g.map(sns.scatterplot, \"block_num\", \"dist\")"
   ]
  },
  {
   "cell_type": "code",
   "execution_count": null,
   "metadata": {
    "scrolled": false
   },
   "outputs": [],
   "source": [
    "fig = plt.figure()\n",
    "fig.set_size_inches(12, 16)\n",
    "sns.set(style=\"ticks\", rc={\"lines.linewidth\": 1})\n",
    "g = sns.FacetGrid(df_dists, col=\"target\", hue=\"reps\", col_wrap=2, height=8)\n",
    "g.map(sns.scatterplot, \"block_num\", \"dist\", s=15)\n",
    "g.map(sns.lineplot, \"block_num\", \"dist\")\n",
    "\n",
    "\n",
    "#g.map(sns.lineplot, \"block_num\", \"dist\")"
   ]
  },
  {
   "cell_type": "code",
   "execution_count": null,
   "metadata": {},
   "outputs": [],
   "source": [
    "df_dists.reps.unique()"
   ]
  },
  {
   "cell_type": "code",
   "execution_count": null,
   "metadata": {
    "scrolled": false
   },
   "outputs": [],
   "source": [
    "fig = plt.figure()\n",
    "fig.set_size_inches(12, 16)\n",
    "sns.set(style=\"ticks\", rc={\"lines.linewidth\": 1})\n",
    "g = sns.FacetGrid(df_dists[(df_dists.target==0) & (df_dists.participant.isin(range(0,5)))], col=\"reps\", hue=\"participant\", col_wrap=4, height=6)\n",
    "g.map(sns.scatterplot, \"block_num\", \"dist\", s=15)\n",
    "g.map(sns.pointplot, \"block_num\", \"dist\")\n"
   ]
  },
  {
   "cell_type": "code",
   "execution_count": null,
   "metadata": {
    "scrolled": false
   },
   "outputs": [],
   "source": [
    "target = 0\n",
    "\n",
    "fig = plt.figure(figsize=(10, 20))\n",
    "\n",
    "for t in range(0, n_targets): \n",
    "    plt.subplot(4,2,t+1)\n",
    "    plt.plot(mean_dists_ppts[t,:,0,1], label=\"1 to 2\", color=line_cmap[0])\n",
    "    #plt.plot(mean_dists_ppts[t,:,0,2], label=\"1 to 3\", color=line_cmap[1])\n",
    "    #plt.plot(mean_dists_ppts[t,:,0,3], label=\"1 to 4\", color=line_cmap[2])\n",
    "    plt.plot(mean_dists_ppts[t,:,1,2], label=\"2 to 3\", color=line_cmap[3])\n",
    "    #plt.plot(mean_dists_ppts[t,:,1,3], label=\"2 to 4\", color=line_cmap[4])\n",
    "    plt.plot(mean_dists_ppts[t,:,2,3], label=\"3 to 4\", color=line_cmap[5])\n",
    "plt.legend()\n",
    "box = ax.get_position()\n",
    "ax.set_position([box.x0, box.y0, box.width * 0.8, box.height])"
   ]
  },
  {
   "cell_type": "code",
   "execution_count": null,
   "metadata": {},
   "outputs": [],
   "source": []
  },
  {
   "cell_type": "code",
   "execution_count": null,
   "metadata": {},
   "outputs": [],
   "source": [
    "target = 0\n",
    "\n",
    "fig = plt.figure(figsize=(10, 20))\n",
    "\n",
    "for t in range(0, n_targets): \n",
    "    plt.subplot(4,2,t+1)\n",
    "    plt.plot(mean_dists_ppts[t,:,0,1], label=\"1 to 2\", color=line_cmap[0])\n",
    "    plt.scatter(x = all_dists[:,t,1,0,1], label=\"1 to 2\", color=line_cmap[0])\n",
    "    #plt.plot(mean_dists_ppts[t,:,0,2], label=\"1 to 3\", color=line_cmap[1])\n",
    "    #plt.plot(mean_dists_ppts[t,:,0,3], label=\"1 to 4\", color=line_cmap[2])\n",
    "    plt.plot(mean_dists_ppts[t,:,1,2], label=\"2 to 3\", color=line_cmap[3])\n",
    "    #plt.plot(mean_dists_ppts[t,:,1,3], label=\"2 to 4\", color=line_cmap[4])\n",
    "    plt.plot(mean_dists_ppts[t,:,2,3], label=\"3 to 4\", color=line_cmap[5])\n",
    "plt.legend()\n",
    "box = ax.get_position()\n",
    "ax.set_position([box.x0, box.y0, box.width * 0.8, box.height])"
   ]
  },
  {
   "cell_type": "code",
   "execution_count": null,
   "metadata": {},
   "outputs": [],
   "source": []
  },
  {
   "cell_type": "markdown",
   "metadata": {},
   "source": [
    "At each time point\n",
    "Relative proportion of full/partial/zero overlap\n",
    "Each point has a distribution of Jaccard numbers\n",
    "\n",
    "\n",
    "Over time, integration- area under curves"
   ]
  },
  {
   "cell_type": "code",
   "execution_count": null,
   "metadata": {},
   "outputs": [],
   "source": [
    "target = 0\n",
    "\n",
    "fig = plt.figure(figsize=(10, 20))\n",
    "\n",
    "for t in range(0, n_targets): \n",
    "    plt.subplot(4,2,t+1)\n",
    "    plt.plot(all_dists[t,1,:,0,1], label=\"1 to 2\", color=line_cmap[0])\n",
    "    plt.plot(all_dists[t,1,:,0,2], label=\"1 to 3\", color=line_cmap[1])\n",
    "    plt.plot(all_dists[t,1,:,0,3], label=\"1 to 4\", color=line_cmap[2])\n",
    "    plt.plot(all_dists[t,1,:,1,2], label=\"2 to 3\", color=line_cmap[3])\n",
    "    plt.plot(all_dists[t,1,:,1,3], label=\"2 to 4\", color=line_cmap[4])\n",
    "    plt.plot(all_dists[t,1,:,2,3], label=\"3 to 4\", color=line_cmap[5])\n",
    "plt.legend()\n",
    "box = ax.get_position()\n",
    "ax.set_position([box.x0, box.y0, box.width * 0.8, box.height])\n",
    "    \n"
   ]
  },
  {
   "cell_type": "markdown",
   "metadata": {},
   "source": [
    "## Test Jaccard"
   ]
  },
  {
   "cell_type": "code",
   "execution_count": null,
   "metadata": {},
   "outputs": [],
   "source": [
    "arr1, arr2 = np.zeros((13,18)), np.zeros((13,18))\n",
    "\n",
    "arr1[0:2,6:10] = 1\n",
    "plt.matshow(arr1)\n",
    "print('arr1: ', np.count_nonzero(arr1))\n",
    "\n",
    "arr2[0:2,7:11] = 1\n",
    "print('arr2: ', np.count_nonzero(arr1))\n",
    "plt.matshow(arr2)\n",
    "\n",
    "print('Jaccard: ', scoring.get_jaccard(arr1,arr2))"
   ]
  },
  {
   "cell_type": "code",
   "execution_count": null,
   "metadata": {},
   "outputs": [],
   "source": []
  },
  {
   "cell_type": "code",
   "execution_count": null,
   "metadata": {},
   "outputs": [],
   "source": [
    "importlib.reload(rda)\n",
    "\n",
    "all_dists, all_values = rda.rda_from_df(dfi[(dfi.gameID == ppts[0])], \n",
    "    row_col='repetition', \n",
    "    value_col='flatDiscreteWorld',\n",
    "    small_multiple_col='targetName', \n",
    "    layer_col='blockNum')"
   ]
  },
  {
   "cell_type": "code",
   "execution_count": null,
   "metadata": {},
   "outputs": [],
   "source": [
    "all_dists.shape"
   ]
  },
  {
   "cell_type": "markdown",
   "metadata": {},
   "source": [
    "# Action-centric analysis of build sequences"
   ]
  },
  {
   "cell_type": "markdown",
   "metadata": {},
   "source": [
    "## Create Dataframe and Matrices"
   ]
  },
  {
   "cell_type": "code",
   "execution_count": 9,
   "metadata": {},
   "outputs": [],
   "source": [
    "# Make action dataframe\n",
    "dfa = dfi[['gameID','trialNum','targetName','repetition','blockNum','condition','phase_extended','y_index','x_index','width_discrete','height_discrete']]\n",
    "dfa = dfa.rename(columns = {'y_index':'y',\n",
    "                            'x_index':'x',\n",
    "                            'width_discrete':'w',\n",
    "                            'height_discrete':'h'})\n",
    "\n",
    "targets = np.sort(df['targetName'].unique())\n",
    "ppts = np.sort(df['gameID'].unique())\n",
    "extended_phases = ['pre', 'repetition 1', 'repetition 2', 'post']"
   ]
  },
  {
   "cell_type": "markdown",
   "metadata": {},
   "source": [
    "## Experiment with one structure"
   ]
  },
  {
   "cell_type": "code",
   "execution_count": 10,
   "metadata": {},
   "outputs": [],
   "source": [
    "# Choose which sequences to compare\n",
    "truncating = True;\n",
    "\n",
    "pptA = ppts[15]\n",
    "targetA = targets[5]\n",
    "phaseA = extended_phases[0]\n",
    "\n",
    "pptB = ppts[15]\n",
    "targetB = targets[5]\n",
    "phaseB = extended_phases[3]"
   ]
  },
  {
   "cell_type": "markdown",
   "metadata": {},
   "source": [
    "### Calculate distance matrix and visualize"
   ]
  },
  {
   "cell_type": "code",
   "execution_count": 13,
   "metadata": {},
   "outputs": [],
   "source": [
    "# Calculate distance matrix\n",
    "\n",
    "# select two sets of actions e.g. compare one ppts attempts at one structure pre to post\n",
    "s1 = dfa[(dfa.gameID == pptA) & (dfa.targetName == targetA) & (dfa.phase_extended == phaseA)]\n",
    "s2 = dfa[(dfa.gameID == pptB) & (dfa.targetName == targetB) & (dfa.phase_extended == phaseB)]\n",
    "\n",
    "# truncate to length of smaller set of actions\n",
    "n_actions = min(len(s1),len(s2))\n",
    "\n",
    "if truncating:\n",
    "    s1 = s1.iloc[0:n_actions]\n",
    "    s2 = s2.iloc[0:n_actions]\n",
    "\n",
    "# apply distance metric between each 4-tuple in the sequence (but append s1 to s2)\n",
    "s1_s2 = s1.append(s2)\n",
    "\n",
    "dist_mat = s1_s2.apply(lambda r: \n",
    "            s1_s2.apply(lambda r2: \n",
    "                distance.euclidean(r[['x','y','w','h']],r2[['x','y','w','h']]),\n",
    "                axis=1),\n",
    "            axis=1)"
   ]
  },
  {
   "cell_type": "code",
   "execution_count": 12,
   "metadata": {
    "scrolled": false
   },
   "outputs": [
    {
     "name": "stdout",
     "output_type": "stream",
     "text": [
      "A: left, top, B: right, bottom\n"
     ]
    },
    {
     "data": {
      "text/plain": [
       "(0.0, 900.0, 0.0, 900.0)"
      ]
     },
     "execution_count": 12,
     "metadata": {},
     "output_type": "execute_result"
    },
    {
     "data": {
      "image/png": "[encoded data removed]",
      "text/plain": [
       "<Figure size 1728x576 with 3 Axes>"
      ]
     },
     "metadata": {
      "needs_background": "light"
     },
     "output_type": "display_data"
    }
   ],
   "source": [
    "# Plot matrix and structures\n",
    "fig, ax = plt.subplots(nrows=1, ncols=3, figsize=(24,8),\n",
    "                       gridspec_kw={\n",
    "                           'width_ratios': [1, 1.6, 1.6]})\n",
    "\n",
    "ax[0].axis('off')\n",
    "ax[0].imshow(dist_mat,vmin=0,vmax=10)\n",
    "ax[0].axvline(x=(len(s1))-0.5, ymin=0, ymax=2*(len(s1))+1,color='white')\n",
    "ax[0].axhline(y=(len(s1))-0.5, xmin=0, xmax=2*(len(s1))+1,color='white')\n",
    "ax[0].set_title('A                     B')\n",
    "print('A: left, top, B: right, bottom')\n",
    "\n",
    "# fig2, ax2 = plt.subplots(figsize=(3,3))\n",
    "drawing.draw_reconstruction_subplot(df=df[df.phase_extended == phaseA],gameID=pptA,targetName=targetA, ax=ax[1], n_colors = n_actions)\n",
    "#draw_from_actions_subplot(dfa[(dfa.phase_extended == phaseA) & (dfa.gameID==pptA) & (dfa.targetName==targetA)], ax[1])\n",
    "ax[1].set_title('A')\n",
    "ax[1].axis('off')\n",
    "\n",
    "# fig3, ax2 = plt.subplots(figsize=(3,3))\n",
    "drawing.draw_reconstruction_subplot(df=df[df.phase_extended == phaseB],gameID=pptB,targetName=targetB, ax=ax[2], n_colors = n_actions)\n",
    "# draw_from_actions_subplot(dfa[(dfa.phase_extended == phaseB) & (dfa.gameID==pptB) & (dfa.targetName==targetB)], ax[2])\n",
    "ax[2].set_title('B')\n",
    "ax[2].axis('off')"
   ]
  },
  {
   "cell_type": "markdown",
   "metadata": {},
   "source": [
    "## 1. Directly compare internal structures of each sequence\n",
    "Different measures are going to do different things here.\n",
    "Flattening upper triangles and taking cosine distance"
   ]
  },
  {
   "cell_type": "code",
   "execution_count": 170,
   "metadata": {},
   "outputs": [
    {
     "data": {
      "text/plain": [
       "Text(0.5, 1.0, 'BB')"
      ]
     },
     "execution_count": 170,
     "metadata": {},
     "output_type": "execute_result"
    },
    {
     "data": {
      "image/png": "[encoded data removed]",
      "text/plain": [
       "<Figure size 432x144 with 4 Axes>"
      ]
     },
     "metadata": {},
     "output_type": "display_data"
    }
   ],
   "source": [
    "AA = dist_mat.values[0:len(s1),0:len(s1)]\n",
    "AB = dist_mat.values[len(s1):,0:len(s1)]\n",
    "BA = dist_mat.values[0:len(s1),len(s1):]\n",
    "BB = dist_mat.values[len(s1):,len(s1):]\n",
    "\n",
    "fig, ax = plt.subplots(nrows=1, ncols=4, figsize=(6,2))\n",
    "\n",
    "ax[0].axis('off')\n",
    "ax[0].imshow(AA, vmin=0,vmax=10) \n",
    "ax[0].set_title('AA')\n",
    "ax[1].axis('off', vmin=0,vmax=10)\n",
    "ax[1].imshow(AB)\n",
    "ax[1].set_title('AB')\n",
    "ax[2].axis('off')\n",
    "ax[2].imshow(BA, vmin=0,vmax=10)\n",
    "ax[2].set_title('BA')\n",
    "ax[3].axis('off')\n",
    "ax[3].imshow(BB, vmin=0,vmax=10)\n",
    "ax[3].set_title('BB')"
   ]
  },
  {
   "cell_type": "markdown",
   "metadata": {},
   "source": [
    "Cosine distance between upper triangles"
   ]
  },
  {
   "cell_type": "code",
   "execution_count": 83,
   "metadata": {},
   "outputs": [],
   "source": [
    "assert (truncating == True) | (len(s1)==len(s2))\n",
    "\n",
    "AA_triu = AA[np.triu_indices(n_actions, k=1)]\n",
    "BB_triu = BB[np.triu_indices(n_actions, k=1)]"
   ]
  },
  {
   "cell_type": "code",
   "execution_count": null,
   "metadata": {},
   "outputs": [],
   "source": [
    "distance.cosine(AA_triu, BB_triu)"
   ]
  },
  {
   "cell_type": "markdown",
   "metadata": {},
   "source": [
    "### Decay function to find matches and near matches"
   ]
  },
  {
   "cell_type": "code",
   "execution_count": null,
   "metadata": {},
   "outputs": [],
   "source": [
    "def exp_decay(x):\n",
    "    return np.e**(-0.5 * (x/1)**2)"
   ]
  },
  {
   "cell_type": "code",
   "execution_count": null,
   "metadata": {},
   "outputs": [],
   "source": [
    "AB_filtered = np.vectorize(exp_decay)(AB)\n",
    "fig = plt.figure()\n",
    "plt.imshow(AB_filtered)\n",
    "AB_filtered"
   ]
  },
  {
   "cell_type": "markdown",
   "metadata": {},
   "source": [
    "## 2. Detect block-diagonal structure\n",
    "Not sure how to go about this\n",
    "Clustering?\n",
    "\n",
    "Wait until we are using chunkier structures"
   ]
  },
  {
   "cell_type": "markdown",
   "metadata": {},
   "source": [
    "## 3. Looking at between-sequence distances. \n",
    "\n",
    "Find measure of similarity that takes into account the fact that people might make the same placement but at different times\n",
    "\n",
    "Diagonal tells us if same action performed at same time.\n",
    "Any off-diagonals should be taken into account but downweighted in some way\n",
    "\n",
    "What does it mean to have a high score < 1 (less than max) here? 'Very similar action' not particularly meaningful here"
   ]
  },
  {
   "cell_type": "markdown",
   "metadata": {},
   "source": [
    "### Explore Linear Sum Assignment (still working with one example from above)\n",
    "\n",
    "This finds a mapping between two sequences that minimizes the total distances between each element.\n",
    "It is being used here to find a 1-1 correspondence between block placements in two build sequences"
   ]
  },
  {
   "cell_type": "code",
   "execution_count": 15,
   "metadata": {},
   "outputs": [
    {
     "name": "stdout",
     "output_type": "stream",
     "text": [
      "Total displacement AB:  6\n",
      "Total displacement BA:  6\n"
     ]
    }
   ],
   "source": [
    "# check displacements are equal in AB and BA case\n",
    "\n",
    "AA = dist_mat.values[0:len(s1),0:len(s1)]\n",
    "AB = dist_mat.values[len(s1):,0:len(s1)]\n",
    "BA = dist_mat.values[0:len(s1),len(s1):]\n",
    "BB = dist_mat.values[len(s1):,len(s1):]\n",
    " \n",
    "sum_displacement_AB = sum(np.abs(np.arange(AB.shape[0]) - linear_sum_assignment(AB)[1]))\n",
    "sum_displacement_BA = sum(np.abs(np.arange(BA.shape[0]) - linear_sum_assignment(BA)[1]))\n",
    "\n",
    "print('Total displacement AB: ', sum_displacement_AB)\n",
    "print('Total displacement BA: ', sum_displacement_BA)"
   ]
  },
  {
   "cell_type": "markdown",
   "metadata": {},
   "source": [
    "Turns out the are not always equal! Linear sum assignments can have multiple optimal, with different arrangements"
   ]
  },
  {
   "cell_type": "code",
   "execution_count": 16,
   "metadata": {},
   "outputs": [
    {
     "data": {
      "text/plain": [
       "Text(0.5, 1.0, 'AB_sorted')"
      ]
     },
     "execution_count": 16,
     "metadata": {},
     "output_type": "execute_result"
    },
    {
     "data": {
      "image/png": "[encoded data removed]",
      "text/plain": [
       "<Figure size 576x144 with 4 Axes>"
      ]
     },
     "metadata": {
      "needs_background": "light"
     },
     "output_type": "display_data"
    }
   ],
   "source": [
    "# Visualise the sort returned by linear_sum_assignment\n",
    "\n",
    "AB_sorted = AB[:,linear_sum_assignment(AB)[1]]\n",
    "BA_sorted = BA[:,linear_sum_assignment(BA)[1]]\n",
    "\n",
    "fig, ax = plt.subplots(nrows=1, ncols=4, figsize=(8,2))\n",
    "\n",
    "ax[0].axis('off')\n",
    "ax[0].imshow(BA, vmin=0,vmax=10)\n",
    "ax[0].set_title('BA')\n",
    "ax[1].axis('off')\n",
    "ax[1].imshow(BA_sorted, vmin=0,vmax=10) \n",
    "ax[1].set_title('BA_sorted')\n",
    "ax[2].axis('off')\n",
    "ax[2].imshow(AB, vmin=0,vmax=10)\n",
    "ax[2].set_title('AB')\n",
    "ax[3].axis('off')\n",
    "ax[3].imshow(AB_sorted, vmin=0,vmax=10)\n",
    "ax[3].set_title('AB_sorted')"
   ]
  },
  {
   "cell_type": "code",
   "execution_count": 173,
   "metadata": {},
   "outputs": [
    {
     "name": "stdout",
     "output_type": "stream",
     "text": [
      "Total displacement AB:  0.16666666666666666\n",
      "Total displacement BA:  0.16666666666666666\n"
     ]
    }
   ],
   "source": [
    "# Scaled displacement\n",
    "\n",
    "AA = dist_mat.values[0:len(s1),0:len(s1)]\n",
    "AB = dist_mat.values[len(s1):,0:len(s1)]\n",
    "BA = dist_mat.values[0:len(s1),len(s1):]\n",
    "BB = dist_mat.values[len(s1):,len(s1):]\n",
    "\n",
    "\n",
    "sum_displacement_AB = np.mean((np.abs(np.arange(AB.shape[0]) - linear_sum_assignment(AB)[1])/(len(AB))))\n",
    "sum_displacement_BA = np.mean((np.abs(np.arange(BA.shape[0]) - linear_sum_assignment(BA)[1])/(len(BA))))\n",
    "\n",
    "print('Total displacement AB: ', sum_displacement_AB)\n",
    "print('Total displacement BA: ', sum_displacement_BA)"
   ]
  },
  {
   "cell_type": "markdown",
   "metadata": {},
   "source": [
    "## Experimentation"
   ]
  },
  {
   "cell_type": "code",
   "execution_count": 131,
   "metadata": {},
   "outputs": [],
   "source": [
    "# for all participants, for all structures that are built 4 times\n",
    "\n",
    "truncating = True;\n",
    "\n",
    "dfa_repeated = dfa[dfa.condition=='repeated']\n",
    "\n",
    "displacements = np.zeros([len(ppts),len(targets),4,4])\n",
    "\n",
    "displacements = np.full_like(displacements, np.nan, dtype=np.double)\n",
    "\n",
    "for i_p, ppt in enumerate(ppts):\n",
    "    for i_t, target in enumerate(targets):\n",
    "        \n",
    "        dfar = dfa_repeated[(dfa_repeated.gameID==ppt) & (dfa_repeated.targetName==target)]\n",
    "\n",
    "        # check if any row exists for this ppt, structure pair\n",
    "        if (dfar[(dfar.gameID==ppt) & (dfar.targetName==target)]['x'].any()):\n",
    "\n",
    "            for i_pa, phaseA in enumerate(extended_phases):\n",
    "                for i_pb, phaseB in enumerate(extended_phases):\n",
    "\n",
    "                    if phaseA != phaseB:\n",
    "\n",
    "                        # Calculate distance matrix\n",
    "\n",
    "                        # select two sets of actions e.g. compare one ppts attempts at one structure pre to post\n",
    "                        s1 = dfar[(dfar.phase_extended == phaseA)]\n",
    "                        s2 = dfar[(dfar.phase_extended == phaseB)]\n",
    "\n",
    "                        # truncate to length of smaller set of actions\n",
    "                        n_actions = min(len(s1),len(s2))\n",
    "\n",
    "                        if truncating:\n",
    "                            s1 = s1.iloc[0:n_actions]\n",
    "                            s2 = s2.iloc[0:n_actions]\n",
    "\n",
    "                        BA = s1.apply(lambda r: \n",
    "                                    s2.apply(lambda r2: \n",
    "                                        distance.euclidean(r[['x','y','w','h']], r2[['x','y','w','h']]),\n",
    "                                        axis=1),\n",
    "                                    axis=1)\n",
    "\n",
    "\n",
    "                        #sum_displacement_AB = np.mean((np.abs(np.arange(AB.shape[0]) - linear_sum_assignment(AB)[1])/(len(AB))))\n",
    "                        sum_displacement_BA = np.mean((np.abs(np.arange(BA.shape[0]) - linear_sum_assignment(BA)[1])/(BA.shape[0])), dtype='float128')\n",
    "\n",
    "                        displacements[i_p, i_t, i_pa, i_pb] = sum_displacement_BA\n",
    "\n"
   ]
  },
  {
   "cell_type": "code",
   "execution_count": 107,
   "metadata": {},
   "outputs": [
    {
     "name": "stdout",
     "output_type": "stream",
     "text": [
      "1 5\n",
      "2 2\n",
      "3 1\n",
      "3 5\n",
      "4 2\n",
      "4 4\n",
      "6 4\n",
      "8 0\n",
      "8 6\n",
      "9 4\n",
      "11 1\n",
      "15 2\n",
      "15 5\n",
      "17 2\n",
      "18 1\n",
      "27 7\n",
      "29 3\n",
      "29 7\n",
      "33 5\n",
      "36 0\n",
      "41 1\n",
      "43 6\n",
      "45 3\n",
      "46 3\n",
      "46 7\n"
     ]
    },
    {
     "data": {
      "text/plain": [
       "False"
      ]
     },
     "execution_count": 107,
     "metadata": {},
     "output_type": "execute_result"
    }
   ],
   "source": [
    "# Find any <row, structure> pairs that have different A->B from B->A values\n",
    "# linear_sum_assignment finds a solution that optimizes Euclidean distance. There may be several of these.\n",
    "# The pairs below indicate that different pairs were found\n",
    "\n",
    "displacements2[np.isnan(displacements2)] = -1\n",
    "\n",
    "\n",
    "same == True\n",
    "for i_p, ppt in enumerate(ppts):\n",
    "    for i_t, target in enumerate(targets):\n",
    "        arr = np.reshape(displacements2[i_p,i_t,:,:],(4,4))\n",
    "        same = same & (arr.transpose() == arr).all()\n",
    "        if(not (arr.transpose() == arr).all()):\n",
    "            print(i_p, i_t)\n",
    "        \n",
    "same"
   ]
  },
  {
   "cell_type": "code",
   "execution_count": 175,
   "metadata": {},
   "outputs": [
    {
     "data": {
      "text/plain": [
       "array([[       nan, 0.0625    , 0.21875   , 0.15625   ],\n",
       "       [0.0625    ,        nan, 0.21875   , 0.21875   ],\n",
       "       [0.21875   , 0.25      ,        nan, 0.20833333],\n",
       "       [0.15625   , 0.21875   , 0.19444444,        nan]])"
      ]
     },
     "execution_count": 175,
     "metadata": {},
     "output_type": "execute_result"
    }
   ],
   "source": [
    "# Inspect phase displacement matrices for one participant and structure\n",
    "displacements[3,5,:,:]"
   ]
  },
  {
   "cell_type": "code",
   "execution_count": 109,
   "metadata": {
    "scrolled": false
   },
   "outputs": [
    {
     "name": "stderr",
     "output_type": "stream",
     "text": [
      "/home/wmccarth/anaconda3/envs/py35/lib/python3.5/site-packages/ipykernel_launcher.py:1: RuntimeWarning: Mean of empty slice\n",
      "  \"\"\"Entry point for launching an IPython kernel.\n"
     ]
    },
    {
     "data": {
      "text/plain": [
       "array([[[[       nan, 0.1428432 , 0.1735974 , 0.15040862],\n",
       "         [0.14245073,        nan, 0.11279779, 0.11484562],\n",
       "         [0.1735974 , 0.11279779,        nan, 0.12857138],\n",
       "         [0.14850929, 0.11484562, 0.12857138,        nan]],\n",
       "\n",
       "        [[       nan, 0.15972018, 0.13354656, 0.16433942],\n",
       "         [0.16120828,        nan, 0.12364692, 0.12654583],\n",
       "         [0.13619207, 0.12364692,        nan, 0.11231501],\n",
       "         [0.1655152 , 0.12654583, 0.11231501,        nan]],\n",
       "\n",
       "        [[       nan, 0.1622118 , 0.19444586, 0.16008926],\n",
       "         [0.16642807,        nan, 0.11849684, 0.12686831],\n",
       "         [0.19444586, 0.11849684,        nan, 0.14625484],\n",
       "         [0.16008926, 0.12758259, 0.14513877,        nan]],\n",
       "\n",
       "        [[       nan, 0.14889422, 0.16642566, 0.13580276],\n",
       "         [0.14556088,        nan, 0.12335932, 0.13929453],\n",
       "         [0.16642566, 0.12335932,        nan, 0.11582686],\n",
       "         [0.13913609, 0.13929453, 0.11479806,        nan]],\n",
       "\n",
       "        [[       nan, 0.15431583, 0.1526573 , 0.15467798],\n",
       "         [0.1553825 ,        nan, 0.10541352, 0.11957817],\n",
       "         [0.1526573 , 0.10541352,        nan, 0.13606763],\n",
       "         [0.15467798, 0.12450878, 0.13606763,        nan]],\n",
       "\n",
       "        [[       nan, 0.1523459 , 0.11115656, 0.11462872],\n",
       "         [0.1523459 ,        nan, 0.16696347, 0.15268041],\n",
       "         [0.10856795, 0.16696347,        nan, 0.10900217],\n",
       "         [0.11462872, 0.15214722, 0.10956221,        nan]],\n",
       "\n",
       "        [[       nan, 0.21124704, 0.17784205, 0.20543558],\n",
       "         [0.21124704,        nan, 0.13634504, 0.19836025],\n",
       "         [0.17784205, 0.14013801,        nan, 0.15513945],\n",
       "         [0.20543558, 0.19671551, 0.15513945,        nan]],\n",
       "\n",
       "        [[       nan, 0.20758534, 0.22082233, 0.20381343],\n",
       "         [0.20849443,        nan, 0.16694065, 0.17896584],\n",
       "         [0.22358671, 0.16630934,        nan, 0.12587227],\n",
       "         [0.20381343, 0.17679413, 0.12587227,        nan]]]])"
      ]
     },
     "execution_count": 109,
     "metadata": {},
     "output_type": "execute_result"
    }
   ],
   "source": [
    "# Inspect mean displacement matrices for all structures\n",
    "np.nanmean(displacements, axis=0, keepdims=True)"
   ]
  },
  {
   "cell_type": "code",
   "execution_count": 119,
   "metadata": {},
   "outputs": [
    {
     "name": "stderr",
     "output_type": "stream",
     "text": [
      "/home/wmccarth/anaconda3/envs/py35/lib/python3.5/site-packages/ipykernel_launcher.py:2: RuntimeWarning: Mean of empty slice\n",
      "  \n"
     ]
    },
    {
     "data": {
      "text/plain": [
       "array([[       nan, 0.16739544, 0.16631171, 0.16114947],\n",
       "       [0.16788973,        nan, 0.13174545, 0.14464237],\n",
       "       [0.16666437, 0.13214065,        nan, 0.1286312 ],\n",
       "       [0.16147569, 0.14480428, 0.1284331 ,        nan]])"
      ]
     },
     "execution_count": 119,
     "metadata": {},
     "output_type": "execute_result"
    }
   ],
   "source": [
    "# Inspect mean displacement matrices for all structures, all participants\n",
    "phase_differences = np.nanmean(np.nanmean(displacements, axis=0, keepdims=True), axis=1)[0]\n",
    "phase_differences"
   ]
  },
  {
   "cell_type": "code",
   "execution_count": 111,
   "metadata": {},
   "outputs": [
    {
     "name": "stderr",
     "output_type": "stream",
     "text": [
      "/home/wmccarth/anaconda3/envs/py35/lib/python3.5/site-packages/ipykernel_launcher.py:1: RuntimeWarning: Mean of empty slice\n",
      "  \"\"\"Entry point for launching an IPython kernel.\n"
     ]
    },
    {
     "data": {
      "text/plain": [
       "array([[[       nan, 0.00941754, 0.01213839, 0.01098429],\n",
       "        [0.00956102,        nan, 0.00830661, 0.01062038],\n",
       "        [0.01245347, 0.0083109 ,        nan, 0.00581203],\n",
       "        [0.01089825, 0.01012581, 0.00576162,        nan]]])"
      ]
     },
     "execution_count": 111,
     "metadata": {},
     "output_type": "execute_result"
    }
   ],
   "source": [
    "phase_differences_sem = stats.sem(np.nanmean(displacements, axis=0, keepdims=True), axis=1)\n",
    "phase_differences_sem"
   ]
  },
  {
   "cell_type": "code",
   "execution_count": 121,
   "metadata": {},
   "outputs": [
    {
     "name": "stderr",
     "output_type": "stream",
     "text": [
      "/home/wmccarth/anaconda3/envs/py35/lib/python3.5/site-packages/ipykernel_launcher.py:1: RuntimeWarning: Mean of empty slice\n",
      "  \"\"\"Entry point for launching an IPython kernel.\n",
      "/home/wmccarth/anaconda3/envs/py35/lib/python3.5/site-packages/numpy/lib/nanfunctions.py:1545: RuntimeWarning: Degrees of freedom <= 0 for slice.\n",
      "  keepdims=keepdims)\n"
     ]
    },
    {
     "data": {
      "text/plain": [
       "array([[       nan, 0.0088093 , 0.01135442, 0.01027486],\n",
       "       [0.00894352,        nan, 0.00777013, 0.00993446],\n",
       "       [0.01164916, 0.00777414,        nan, 0.00543666],\n",
       "       [0.01019438, 0.00947182, 0.0053895 ,        nan]])"
      ]
     },
     "execution_count": 121,
     "metadata": {},
     "output_type": "execute_result"
    }
   ],
   "source": [
    "phase_differences_se = np.nanstd(np.nanmean(displacements, axis=0), axis=0)/(np.sqrt(8))\n",
    "phase_differences_se"
   ]
  },
  {
   "cell_type": "code",
   "execution_count": 128,
   "metadata": {},
   "outputs": [
    {
     "data": {
      "text/plain": [
       "Text(0.5, 1.0, 'Comparing average displacements between consecutive phases')"
      ]
     },
     "execution_count": 128,
     "metadata": {},
     "output_type": "execute_result"
    },
    {
     "data": {
      "image/png": "[encoded data removed]",
      "text/plain": [
       "<Figure size 432x288 with 1 Axes>"
      ]
     },
     "metadata": {},
     "output_type": "display_data"
    }
   ],
   "source": [
    "plt.errorbar(x = range(1,4), \n",
    "             y = [phase_differences[0,1],phase_differences[1,2],phase_differences[2,3]], \n",
    "             yerr=[phase_differences_se[0,1],phase_differences_se[1,2],phase_differences_se[2,3]])\n",
    "plt.xticks([1,2,3],['pre to rep 1','rep 1 to rep 2','rep 2 to post'])\n",
    "plt.title('Comparing average displacements between consecutive phases')"
   ]
  },
  {
   "cell_type": "code",
   "execution_count": 127,
   "metadata": {},
   "outputs": [
    {
     "data": {
      "text/plain": [
       "Text(0.5, 1.0, 'Comparing average displacements between each phase and posttest')"
      ]
     },
     "execution_count": 127,
     "metadata": {},
     "output_type": "execute_result"
    },
    {
     "data": {
      "image/png": "[encoded data removed]",
      "text/plain": [
       "<Figure size 432x288 with 1 Axes>"
      ]
     },
     "metadata": {},
     "output_type": "display_data"
    }
   ],
   "source": [
    "plt.errorbar(x = range(1,4), \n",
    "             y = [phase_differences[0,3],phase_differences[1,3],phase_differences[2,3]], \n",
    "             yerr=[phase_differences_se[0,3],phase_differences_se[1,3],phase_differences_se[2,3]])\n",
    "plt.xticks([1,2,3],['pre to post','rep 1 to post','rep 2 to post'])\n",
    "plt.title('Comparing average displacements between each phase and posttest')"
   ]
  },
  {
   "cell_type": "code",
   "execution_count": 132,
   "metadata": {},
   "outputs": [],
   "source": [
    "# for all participants, for all structures that are built 4 times\n",
    "\n",
    "truncating = True;\n",
    "\n",
    "dfa_repeated = dfa[dfa.condition=='repeated']\n",
    "\n",
    "raw_displacements = np.zeros([len(ppts),len(targets),4,4])\n",
    "\n",
    "raw_displacements = np.full_like(displacements, np.nan, dtype=np.double)\n",
    "\n",
    "for i_p, ppt in enumerate(ppts):\n",
    "    for i_t, target in enumerate(targets):\n",
    "        \n",
    "        dfar = dfa_repeated[(dfa_repeated.gameID==ppt) & (dfa_repeated.targetName==target)]\n",
    "\n",
    "        if (dfar[(dfar.gameID==ppt) & (dfar.targetName==target)]['x'].any()):\n",
    "\n",
    "            for i_pa, phaseA in enumerate(extended_phases):\n",
    "                for i_pb, phaseB in enumerate(extended_phases):\n",
    "\n",
    "                    if phaseA != phaseB:\n",
    "\n",
    "                        # Calculate distance matrix\n",
    "\n",
    "                        # select two sets of actions e.g. compare one ppts attempts at one structure pre to post\n",
    "                        s1 = dfar[(dfar.phase_extended == phaseA)]\n",
    "                        s2 = dfar[(dfar.phase_extended == phaseB)]\n",
    "\n",
    "                        # truncate to length of smaller set of actions\n",
    "                        n_actions = min(len(s1),len(s2))\n",
    "\n",
    "                        if truncating:\n",
    "                            s1 = s1.iloc[0:n_actions]\n",
    "                            s2 = s2.iloc[0:n_actions]\n",
    "\n",
    "                        BA = s1.apply(lambda r: \n",
    "                                    s2.apply(lambda r2: \n",
    "                                        distance.euclidean(r[['x','y','w','h']], r2[['x','y','w','h']]),\n",
    "                                        axis=1),\n",
    "                                    axis=1)\n",
    "\n",
    "\n",
    "                        #sum_displacement_AB = np.mean((np.abs(np.arange(AB.shape[0]) - linear_sum_assignment(AB)[1])/(len(AB))))\n",
    "                        sum_displacement_BA = sum(np.abs(np.arange(BA.shape[0]) - linear_sum_assignment(BA)[1]))\n",
    "\n",
    "                        raw_displacements[i_p, i_t, i_pa, i_pb] = sum_displacement_BA\n",
    "\n"
   ]
  },
  {
   "cell_type": "code",
   "execution_count": 136,
   "metadata": {},
   "outputs": [
    {
     "name": "stderr",
     "output_type": "stream",
     "text": [
      "/home/wmccarth/anaconda3/envs/py35/lib/python3.5/site-packages/ipykernel_launcher.py:2: RuntimeWarning: Mean of empty slice\n",
      "  \n",
      "/home/wmccarth/anaconda3/envs/py35/lib/python3.5/site-packages/ipykernel_launcher.py:5: RuntimeWarning: Mean of empty slice\n",
      "  \"\"\"\n",
      "/home/wmccarth/anaconda3/envs/py35/lib/python3.5/site-packages/numpy/lib/nanfunctions.py:1545: RuntimeWarning: Degrees of freedom <= 0 for slice.\n",
      "  keepdims=keepdims)\n"
     ]
    },
    {
     "data": {
      "text/plain": [
       "array([[       nan, 1.56752843, 1.35993019, 1.42892289],\n",
       "       [1.56613968,        nan, 1.39294587, 1.63713138],\n",
       "       [1.37201746, 1.43501893,        nan, 1.43330156],\n",
       "       [1.41902948, 1.61976596, 1.43779797,        nan]])"
      ]
     },
     "execution_count": 136,
     "metadata": {},
     "output_type": "execute_result"
    }
   ],
   "source": [
    "# Inspect mean displacement matrices for all structures, all participants\n",
    "raw_phase_differences = np.nanmean(np.nanmean(raw_displacements, axis=0, keepdims=True), axis=1)[0]\n",
    "raw_phase_differences\n",
    "\n",
    "raw_phase_differences_se = np.nanstd(np.nanmean(raw_displacements, axis=0), axis=0)/(np.sqrt(8))\n",
    "raw_phase_differences_se"
   ]
  },
  {
   "cell_type": "code",
   "execution_count": 137,
   "metadata": {},
   "outputs": [
    {
     "data": {
      "text/plain": [
       "Text(0.5, 1.0, 'Comparing average displacements between consecutive phases')"
      ]
     },
     "execution_count": 137,
     "metadata": {},
     "output_type": "execute_result"
    },
    {
     "data": {
      "image/png": "[encoded data removed]",
      "text/plain": [
       "<Figure size 432x288 with 1 Axes>"
      ]
     },
     "metadata": {},
     "output_type": "display_data"
    }
   ],
   "source": [
    "plt.errorbar(x = range(1,4), \n",
    "             y = [raw_phase_differences[0,1],raw_phase_differences[1,2],raw_phase_differences[2,3]], \n",
    "             yerr=[raw_phase_differences_se[0,1],raw_phase_differences_se[1,2],raw_phase_differences_se[2,3]])\n",
    "plt.xticks([1,2,3],['pre to rep 1','rep 1 to rep 2','rep 2 to post'])\n",
    "plt.title('Comparing average displacements between consecutive phases')"
   ]
  },
  {
   "cell_type": "code",
   "execution_count": 138,
   "metadata": {},
   "outputs": [
    {
     "data": {
      "text/plain": [
       "Text(0.5, 1.0, 'Comparing average displacements between each phase and posttest')"
      ]
     },
     "execution_count": 138,
     "metadata": {},
     "output_type": "execute_result"
    },
    {
     "data": {
      "image/png": "[encoded data removed]",
      "text/plain": [
       "<Figure size 432x288 with 1 Axes>"
      ]
     },
     "metadata": {},
     "output_type": "display_data"
    }
   ],
   "source": [
    "plt.errorbar(x = range(1,4), \n",
    "             y = [raw_phase_differences[0,3],raw_phase_differences[1,3],raw_phase_differences[2,3]], \n",
    "             yerr=[raw_phase_differences_se[0,3],raw_phase_differences_se[1,3],raw_phase_differences_se[2,3]])\n",
    "plt.xticks([1,2,3],['pre to post','rep 1 to post','rep 2 to post'])\n",
    "plt.title('Comparing average displacements between each phase and posttest')"
   ]
  },
  {
   "cell_type": "code",
   "execution_count": 139,
   "metadata": {},
   "outputs": [],
   "source": [
    "# for all participants, for all structures that are built 4 times\n",
    "# Meaned but not scaled\n",
    "\n",
    "truncating = True;\n",
    "\n",
    "dfa_repeated = dfa[dfa.condition=='repeated']\n",
    "\n",
    "unscaled_displacements = np.zeros([len(ppts),len(targets),4,4])\n",
    "\n",
    "unscaled_displacements = np.full_like(displacements, np.nan, dtype=np.double)\n",
    "\n",
    "for i_p, ppt in enumerate(ppts):\n",
    "    for i_t, target in enumerate(targets):\n",
    "        \n",
    "        dfar = dfa_repeated[(dfa_repeated.gameID==ppt) & (dfa_repeated.targetName==target)]\n",
    "\n",
    "        # check if any row exists for this ppt, structure pair\n",
    "        if (dfar[(dfar.gameID==ppt) & (dfar.targetName==target)]['x'].any()):\n",
    "\n",
    "            for i_pa, phaseA in enumerate(extended_phases):\n",
    "                for i_pb, phaseB in enumerate(extended_phases):\n",
    "\n",
    "                    if phaseA != phaseB:\n",
    "\n",
    "                        # Calculate distance matrix\n",
    "\n",
    "                        # select two sets of actions e.g. compare one ppts attempts at one structure pre to post\n",
    "                        s1 = dfar[(dfar.phase_extended == phaseA)]\n",
    "                        s2 = dfar[(dfar.phase_extended == phaseB)]\n",
    "\n",
    "                        # truncate to length of smaller set of actions\n",
    "                        n_actions = min(len(s1),len(s2))\n",
    "\n",
    "                        if truncating:\n",
    "                            s1 = s1.iloc[0:n_actions]\n",
    "                            s2 = s2.iloc[0:n_actions]\n",
    "\n",
    "                        BA = s1.apply(lambda r: \n",
    "                                    s2.apply(lambda r2: \n",
    "                                        distance.euclidean(r[['x','y','w','h']], r2[['x','y','w','h']]),\n",
    "                                        axis=1),\n",
    "                                    axis=1)\n",
    "\n",
    "\n",
    "                        #sum_displacement_AB = np.mean((np.abs(np.arange(AB.shape[0]) - linear_sum_assignment(AB)[1])/(len(AB))))\n",
    "                        sum_displacement_BA = np.mean((np.abs(np.arange(BA.shape[0]) - linear_sum_assignment(BA)[1])), dtype='float128')\n",
    "\n",
    "                        unscaled_displacements[i_p, i_t, i_pa, i_pb] = sum_displacement_BA\n",
    "\n"
   ]
  },
  {
   "cell_type": "code",
   "execution_count": 140,
   "metadata": {},
   "outputs": [
    {
     "name": "stderr",
     "output_type": "stream",
     "text": [
      "/home/wmccarth/anaconda3/envs/py35/lib/python3.5/site-packages/ipykernel_launcher.py:2: RuntimeWarning: Mean of empty slice\n",
      "  \n",
      "/home/wmccarth/anaconda3/envs/py35/lib/python3.5/site-packages/ipykernel_launcher.py:5: RuntimeWarning: Mean of empty slice\n",
      "  \"\"\"\n",
      "/home/wmccarth/anaconda3/envs/py35/lib/python3.5/site-packages/numpy/lib/nanfunctions.py:1545: RuntimeWarning: Degrees of freedom <= 0 for slice.\n",
      "  keepdims=keepdims)\n"
     ]
    },
    {
     "data": {
      "text/plain": [
       "array([[       nan, 0.13304166, 0.11984213, 0.12220482],\n",
       "       [0.13294667,        nan, 0.09419609, 0.12865777],\n",
       "       [0.12191908, 0.09706876,        nan, 0.09934254],\n",
       "       [0.12125887, 0.1262268 , 0.09972913,        nan]])"
      ]
     },
     "execution_count": 140,
     "metadata": {},
     "output_type": "execute_result"
    }
   ],
   "source": [
    "# Inspect mean displacement matrices for all structures, all participants\n",
    "unscaled_phase_differences = np.nanmean(np.nanmean(unscaled_displacements, axis=0, keepdims=True), axis=1)[0]\n",
    "unscaled_phase_differences\n",
    "\n",
    "unscaled_phase_differences_se = np.nanstd(np.nanmean(unscaled_displacements, axis=0), axis=0)/(np.sqrt(8))\n",
    "unscaled_phase_differences_se"
   ]
  },
  {
   "cell_type": "code",
   "execution_count": 141,
   "metadata": {},
   "outputs": [
    {
     "data": {
      "text/plain": [
       "Text(0.5, 1.0, 'Comparing average displacements between consecutive phases')"
      ]
     },
     "execution_count": 141,
     "metadata": {},
     "output_type": "execute_result"
    },
    {
     "data": {
      "image/png": "[encoded data removed]",
      "text/plain": [
       "<Figure size 432x288 with 1 Axes>"
      ]
     },
     "metadata": {},
     "output_type": "display_data"
    }
   ],
   "source": [
    "plt.errorbar(x = range(1,4), \n",
    "             y = [unscaled_phase_differences[0,1],unscaled_phase_differences[1,2],unscaled_phase_differences[2,3]], \n",
    "             yerr=[unscaled_phase_differences_se[0,1],unscaled_phase_differences_se[1,2],unscaled_phase_differences_se[2,3]])\n",
    "plt.xticks([1,2,3],['pre to rep 1','rep 1 to rep 2','rep 2 to post'])\n",
    "plt.title('Comparing average displacements between consecutive phases')"
   ]
  },
  {
   "cell_type": "code",
   "execution_count": 142,
   "metadata": {
    "scrolled": true
   },
   "outputs": [
    {
     "data": {
      "text/plain": [
       "Text(0.5, 1.0, 'Comparing average displacements between each phase and posttest')"
      ]
     },
     "execution_count": 142,
     "metadata": {},
     "output_type": "execute_result"
    },
    {
     "data": {
      "image/png": "[encoded data removed]",
      "text/plain": [
       "<Figure size 432x288 with 1 Axes>"
      ]
     },
     "metadata": {},
     "output_type": "display_data"
    }
   ],
   "source": [
    "plt.errorbar(x = range(1,4), \n",
    "             y = [unscaled_phase_differences[0,3],unscaled_phase_differences[1,3],unscaled_phase_differences[2,3]], \n",
    "             yerr=[unscaled_phase_differences_se[0,3],unscaled_phase_differences_se[1,3],unscaled_phase_differences_se[2,3]])\n",
    "plt.xticks([1,2,3],['pre to post','rep 1 to post','rep 2 to post'])\n",
    "\n",
    "plt.title('Comparing average displacements between each phase and posttest')"
   ]
  },
  {
   "cell_type": "markdown",
   "metadata": {},
   "source": [
    "## Functions for applying any spatial distance metric, and any sequence/string distance metric"
   ]
  },
  {
   "cell_type": "code",
   "execution_count": 105,
   "metadata": {},
   "outputs": [],
   "source": [
    "# Create a dataframe with columns: ppt, structure, from_phase, to_phase, distance\n",
    "\n",
    "# 1. Define functions and useful arrays\n",
    "\n",
    "reps = np.sort(df['repetition'].unique())\n",
    "rep_pairs = list(itertools.combinations(reps,2))\n",
    "targets = np.sort(df['targetName'].unique())\n",
    "ppts = np.sort(df['gameID'].unique())\n",
    "extended_phases = ['pre', 'repetition 1', 'repetition 2', 'post']\n",
    "\n",
    "                                            \n",
    "def get_mean_displacement(distance_matrix):\n",
    "    '''\n",
    "    Takes a distance matrix, finds optimal mapping of rows, and returns the mean displacement of each action to achieve mapping\n",
    "\n",
    "    '''\n",
    "    displacements = (np.abs(np.arange(distance_matrix.shape[0]) - linear_sum_assignment(distance_matrix)[1])/distance_matrix.shape[0])\n",
    "    mean_displacement = np.mean(displacements)\n",
    "    return mean_displacement\n",
    "\n",
    "def kendall_tau_distance(distance_matrix):\n",
    "    '''\n",
    "    Percent of pairs of indices that occur in a different order\n",
    "    This metric ranges between -1 and 1, and is higher for more similar orders/strings\n",
    "    '''\n",
    "    kt = stats.kendalltau(np.arange(distance_matrix.shape[0]), linear_sum_assignment(distance_matrix)[1])[0]\n",
    "    return kt\n",
    "\n",
    "def get_distance_matrix(A,B,distance_measure=distance.euclidean, truncating = True):\n",
    "    '''\n",
    "    Returns distance matrix truncated to shortest sequence\n",
    "    '''\n",
    "\n",
    "    # truncate to length of smaller set of actions\n",
    "    n_actions = min(len(A),len(B))\n",
    "\n",
    "    if truncating:\n",
    "        A = A.iloc[0:n_actions]\n",
    "        B = B.iloc[0:n_actions]\n",
    "\n",
    "    B_to_A = A.apply(lambda r: \n",
    "                B.apply(lambda r2: \n",
    "                    distance_measure(r[['x','y','w','h']], r2[['x','y','w','h']]),\n",
    "                    axis=1),\n",
    "                axis=1)\n",
    "\n",
    "    return B_to_A\n",
    "\n",
    "def get_phase_displacements(group, displacement_measure = get_mean_displacement, distance_measure=distance.euclidean):\n",
    "    '''\n",
    "    Group is a dataframe (usually groupby of targetName and gameID)\n",
    "    displacement_measure calculates some temporal distance, or difference between sorts of action sequences\n",
    "    distance_measure is the distance between action vectors [x,y,w,h]\n",
    "    '''\n",
    "    rep_df = pd.DataFrame(rep_pairs,\n",
    "                          columns=['rep_a','rep_b'])\n",
    "    rep_df['temporal_distance'] = rep_df.apply(lambda r: displacement_measure(\n",
    "                                            get_distance_matrix(\\\n",
    "                                                group[group.repetition==r.rep_a],\\\n",
    "                                                group[group.repetition==r.rep_b],\\\n",
    "                                                distance_measure)),                           \n",
    "                                            axis=1)\n",
    "    return rep_df\n",
    "\n",
    "def get_aggregate_distances(group, distance_measure=distance.euclidean):\n",
    "    '''\n",
    "    Group is a dataframe (usually groupby of targetName and gameID)\n",
    "    distance_measure is the distance between action vectors [x,y,w,h]\n",
    "    '''\n",
    "    rep_df = pd.DataFrame(rep_pairs,\n",
    "                          columns=['rep_a','rep_b'])\n",
    "    rep_df['actual_euclidean_distance'] = rep_df.apply(lambda r: np.mean(\\\n",
    "                                            np.diag(\\\n",
    "                                                get_distance_matrix(\\\n",
    "                                                    group[group.repetition==r.rep_a],\\\n",
    "                                                    group[group.repetition==r.rep_b],\\\n",
    "                                                    distance_measure))),\n",
    "                                         axis=1)\n",
    "    return rep_df\n",
    "\n",
    "\n",
    "def get_optimal_aggregate_distances(group, distance_measure=distance.euclidean):\n",
    "    '''\n",
    "    Group is a dataframe (usually groupby of targetName and gameID)\n",
    "    distance_measure is the distance between action vectors [x,y,w,h]\n",
    "    '''\n",
    "    rep_df = pd.DataFrame(rep_pairs,\n",
    "                          columns=['rep_a','rep_b'])\n",
    "    rep_df['optimal_euclidean_distance'] = rep_df.apply(lambda r:\\\n",
    "                                          np.mean(\\\n",
    "                                              np.diag(\\\n",
    "                                                    optimal_sort(\\\n",
    "                                                    #distance matrix sorted by optimal order    \n",
    "                                                        get_distance_matrix(\\\n",
    "                                                            group[group.repetition==r.rep_a],\\\n",
    "                                                            group[group.repetition==r.rep_b],\\\n",
    "                                                            distance_measure).values))),\n",
    "                                                            \n",
    "                                         axis=1)\n",
    "    \n",
    "    return rep_df\n",
    "\n",
    "def optimal_sort(distance_matrix):\n",
    "    optimal_assignment = linear_sum_assignment(distance_matrix)[1]\n",
    "    sorted_matrix = distance_matrix[:, optimal_assignment]\n",
    "    return sorted_matrix\n",
    "\n"
   ]
  },
  {
   "cell_type": "markdown",
   "metadata": {},
   "source": [
    "### Action sequence similarity (what and where). "
   ]
  },
  {
   "cell_type": "code",
   "execution_count": 96,
   "metadata": {},
   "outputs": [],
   "source": [
    "# 2. Subset data\n",
    "dfa = dfi[['gameID','trialNum','targetName','repetition','blockNum','condition','phase_extended','y_index','x_index','width_discrete','height_discrete']]\n",
    "dfa = dfa.rename(columns = {'y_index':'y',\n",
    "                            'x_index':'x',\n",
    "                            'width_discrete':'w',\n",
    "                            'height_discrete':'h'})\n",
    "\n",
    "dfa_repeated = dfa[(dfa.condition=='repeated')]"
   ]
  },
  {
   "cell_type": "code",
   "execution_count": 97,
   "metadata": {
    "scrolled": false
   },
   "outputs": [],
   "source": [
    "# Group by ppt and targetName, apply spatial-distance measure and aggregate by taking mean of the diagonal\n",
    "df_optimal_euclidean_distances = dfa_repeated.groupby(['targetName','gameID'])\\\n",
    "        .apply(lambda x: get_optimal_aggregate_distances(x))\\\n",
    "        .reset_index()\n",
    "\n",
    "\n",
    "# 4. Add rep-to-rep column\n",
    "df_optimal_euclidean_distances['reps'] = df_optimal_euclidean_distances.apply(\\\n",
    "            lambda row: str(int(row.rep_a)) + ' to ' + str(int(row.rep_b)), axis = 1)"
   ]
  },
  {
   "cell_type": "code",
   "execution_count": 98,
   "metadata": {},
   "outputs": [
    {
     "data": {
      "text/html": [
       "<div>\n",
       "<style scoped>\n",
       "    .dataframe tbody tr th:only-of-type {\n",
       "        vertical-align: middle;\n",
       "    }\n",
       "\n",
       "    .dataframe tbody tr th {\n",
       "        vertical-align: top;\n",
       "    }\n",
       "\n",
       "    .dataframe thead th {\n",
       "        text-align: right;\n",
       "    }\n",
       "</style>\n",
       "<table border=\"1\" class=\"dataframe\">\n",
       "  <thead>\n",
       "    <tr style=\"text-align: right;\">\n",
       "      <th></th>\n",
       "      <th>targetName</th>\n",
       "      <th>gameID</th>\n",
       "      <th>level_2</th>\n",
       "      <th>rep_a</th>\n",
       "      <th>rep_b</th>\n",
       "      <th>optimal_euclidean_distance</th>\n",
       "      <th>reps</th>\n",
       "    </tr>\n",
       "  </thead>\n",
       "  <tbody>\n",
       "    <tr>\n",
       "      <td>0</td>\n",
       "      <td>hand_selected_004</td>\n",
       "      <td>0443-fd078367-c19d-495d-84d5-3519a281435d</td>\n",
       "      <td>0</td>\n",
       "      <td>0</td>\n",
       "      <td>1</td>\n",
       "      <td>0.844291</td>\n",
       "      <td>0 to 1</td>\n",
       "    </tr>\n",
       "    <tr>\n",
       "      <td>1</td>\n",
       "      <td>hand_selected_004</td>\n",
       "      <td>0443-fd078367-c19d-495d-84d5-3519a281435d</td>\n",
       "      <td>1</td>\n",
       "      <td>0</td>\n",
       "      <td>2</td>\n",
       "      <td>0.844291</td>\n",
       "      <td>0 to 2</td>\n",
       "    </tr>\n",
       "    <tr>\n",
       "      <td>2</td>\n",
       "      <td>hand_selected_004</td>\n",
       "      <td>0443-fd078367-c19d-495d-84d5-3519a281435d</td>\n",
       "      <td>2</td>\n",
       "      <td>0</td>\n",
       "      <td>3</td>\n",
       "      <td>0.936887</td>\n",
       "      <td>0 to 3</td>\n",
       "    </tr>\n",
       "    <tr>\n",
       "      <td>3</td>\n",
       "      <td>hand_selected_004</td>\n",
       "      <td>0443-fd078367-c19d-495d-84d5-3519a281435d</td>\n",
       "      <td>3</td>\n",
       "      <td>1</td>\n",
       "      <td>2</td>\n",
       "      <td>0.000000</td>\n",
       "      <td>1 to 2</td>\n",
       "    </tr>\n",
       "    <tr>\n",
       "      <td>4</td>\n",
       "      <td>hand_selected_004</td>\n",
       "      <td>0443-fd078367-c19d-495d-84d5-3519a281435d</td>\n",
       "      <td>4</td>\n",
       "      <td>1</td>\n",
       "      <td>3</td>\n",
       "      <td>0.824643</td>\n",
       "      <td>1 to 3</td>\n",
       "    </tr>\n",
       "    <tr>\n",
       "      <td>...</td>\n",
       "      <td>...</td>\n",
       "      <td>...</td>\n",
       "      <td>...</td>\n",
       "      <td>...</td>\n",
       "      <td>...</td>\n",
       "      <td>...</td>\n",
       "      <td>...</td>\n",
       "    </tr>\n",
       "    <tr>\n",
       "      <td>1171</td>\n",
       "      <td>hand_selected_016</td>\n",
       "      <td>9995-aa7dd1d6-ff3f-41e8-ade6-da416e7366c3</td>\n",
       "      <td>1</td>\n",
       "      <td>0</td>\n",
       "      <td>2</td>\n",
       "      <td>0.000000</td>\n",
       "      <td>0 to 2</td>\n",
       "    </tr>\n",
       "    <tr>\n",
       "      <td>1172</td>\n",
       "      <td>hand_selected_016</td>\n",
       "      <td>9995-aa7dd1d6-ff3f-41e8-ade6-da416e7366c3</td>\n",
       "      <td>2</td>\n",
       "      <td>0</td>\n",
       "      <td>3</td>\n",
       "      <td>1.746204</td>\n",
       "      <td>0 to 3</td>\n",
       "    </tr>\n",
       "    <tr>\n",
       "      <td>1173</td>\n",
       "      <td>hand_selected_016</td>\n",
       "      <td>9995-aa7dd1d6-ff3f-41e8-ade6-da416e7366c3</td>\n",
       "      <td>3</td>\n",
       "      <td>1</td>\n",
       "      <td>2</td>\n",
       "      <td>2.793158</td>\n",
       "      <td>1 to 2</td>\n",
       "    </tr>\n",
       "    <tr>\n",
       "      <td>1174</td>\n",
       "      <td>hand_selected_016</td>\n",
       "      <td>9995-aa7dd1d6-ff3f-41e8-ade6-da416e7366c3</td>\n",
       "      <td>4</td>\n",
       "      <td>1</td>\n",
       "      <td>3</td>\n",
       "      <td>1.320706</td>\n",
       "      <td>1 to 3</td>\n",
       "    </tr>\n",
       "    <tr>\n",
       "      <td>1175</td>\n",
       "      <td>hand_selected_016</td>\n",
       "      <td>9995-aa7dd1d6-ff3f-41e8-ade6-da416e7366c3</td>\n",
       "      <td>5</td>\n",
       "      <td>2</td>\n",
       "      <td>3</td>\n",
       "      <td>2.278692</td>\n",
       "      <td>2 to 3</td>\n",
       "    </tr>\n",
       "  </tbody>\n",
       "</table>\n",
       "<p>1176 rows × 7 columns</p>\n",
       "</div>"
      ],
      "text/plain": [
       "             targetName                                     gameID  level_2  \\\n",
       "0     hand_selected_004  0443-fd078367-c19d-495d-84d5-3519a281435d        0   \n",
       "1     hand_selected_004  0443-fd078367-c19d-495d-84d5-3519a281435d        1   \n",
       "2     hand_selected_004  0443-fd078367-c19d-495d-84d5-3519a281435d        2   \n",
       "3     hand_selected_004  0443-fd078367-c19d-495d-84d5-3519a281435d        3   \n",
       "4     hand_selected_004  0443-fd078367-c19d-495d-84d5-3519a281435d        4   \n",
       "...                 ...                                        ...      ...   \n",
       "1171  hand_selected_016  9995-aa7dd1d6-ff3f-41e8-ade6-da416e7366c3        1   \n",
       "1172  hand_selected_016  9995-aa7dd1d6-ff3f-41e8-ade6-da416e7366c3        2   \n",
       "1173  hand_selected_016  9995-aa7dd1d6-ff3f-41e8-ade6-da416e7366c3        3   \n",
       "1174  hand_selected_016  9995-aa7dd1d6-ff3f-41e8-ade6-da416e7366c3        4   \n",
       "1175  hand_selected_016  9995-aa7dd1d6-ff3f-41e8-ade6-da416e7366c3        5   \n",
       "\n",
       "      rep_a  rep_b  optimal_euclidean_distance    reps  \n",
       "0         0      1                    0.844291  0 to 1  \n",
       "1         0      2                    0.844291  0 to 2  \n",
       "2         0      3                    0.936887  0 to 3  \n",
       "3         1      2                    0.000000  1 to 2  \n",
       "4         1      3                    0.824643  1 to 3  \n",
       "...     ...    ...                         ...     ...  \n",
       "1171      0      2                    0.000000  0 to 2  \n",
       "1172      0      3                    1.746204  0 to 3  \n",
       "1173      1      2                    2.793158  1 to 2  \n",
       "1174      1      3                    1.320706  1 to 3  \n",
       "1175      2      3                    2.278692  2 to 3  \n",
       "\n",
       "[1176 rows x 7 columns]"
      ]
     },
     "execution_count": 98,
     "metadata": {},
     "output_type": "execute_result"
    }
   ],
   "source": [
    "df_optimal_euclidean_distances"
   ]
  },
  {
   "cell_type": "code",
   "execution_count": 92,
   "metadata": {},
   "outputs": [
    {
     "data": {
      "text/html": [
       "<div>\n",
       "<style scoped>\n",
       "    .dataframe tbody tr th:only-of-type {\n",
       "        vertical-align: middle;\n",
       "    }\n",
       "\n",
       "    .dataframe tbody tr th {\n",
       "        vertical-align: top;\n",
       "    }\n",
       "\n",
       "    .dataframe thead th {\n",
       "        text-align: right;\n",
       "    }\n",
       "</style>\n",
       "<table border=\"1\" class=\"dataframe\">\n",
       "  <thead>\n",
       "    <tr style=\"text-align: right;\">\n",
       "      <th></th>\n",
       "      <th>targetName</th>\n",
       "      <th>gameID</th>\n",
       "      <th>level_2</th>\n",
       "      <th>rep_a</th>\n",
       "      <th>rep_b</th>\n",
       "      <th>agg_distance</th>\n",
       "      <th>reps</th>\n",
       "    </tr>\n",
       "  </thead>\n",
       "  <tbody>\n",
       "    <tr>\n",
       "      <td>0</td>\n",
       "      <td>hand_selected_004</td>\n",
       "      <td>0443-fd078367-c19d-495d-84d5-3519a281435d</td>\n",
       "      <td>0</td>\n",
       "      <td>0</td>\n",
       "      <td>1</td>\n",
       "      <td>0.844291</td>\n",
       "      <td>0 to 1</td>\n",
       "    </tr>\n",
       "    <tr>\n",
       "      <td>1</td>\n",
       "      <td>hand_selected_004</td>\n",
       "      <td>0443-fd078367-c19d-495d-84d5-3519a281435d</td>\n",
       "      <td>1</td>\n",
       "      <td>0</td>\n",
       "      <td>2</td>\n",
       "      <td>0.844291</td>\n",
       "      <td>0 to 2</td>\n",
       "    </tr>\n",
       "    <tr>\n",
       "      <td>2</td>\n",
       "      <td>hand_selected_004</td>\n",
       "      <td>0443-fd078367-c19d-495d-84d5-3519a281435d</td>\n",
       "      <td>2</td>\n",
       "      <td>0</td>\n",
       "      <td>3</td>\n",
       "      <td>0.936887</td>\n",
       "      <td>0 to 3</td>\n",
       "    </tr>\n",
       "    <tr>\n",
       "      <td>3</td>\n",
       "      <td>hand_selected_004</td>\n",
       "      <td>0443-fd078367-c19d-495d-84d5-3519a281435d</td>\n",
       "      <td>3</td>\n",
       "      <td>1</td>\n",
       "      <td>2</td>\n",
       "      <td>0.000000</td>\n",
       "      <td>1 to 2</td>\n",
       "    </tr>\n",
       "    <tr>\n",
       "      <td>4</td>\n",
       "      <td>hand_selected_004</td>\n",
       "      <td>0443-fd078367-c19d-495d-84d5-3519a281435d</td>\n",
       "      <td>4</td>\n",
       "      <td>1</td>\n",
       "      <td>3</td>\n",
       "      <td>0.824643</td>\n",
       "      <td>1 to 3</td>\n",
       "    </tr>\n",
       "    <tr>\n",
       "      <td>...</td>\n",
       "      <td>...</td>\n",
       "      <td>...</td>\n",
       "      <td>...</td>\n",
       "      <td>...</td>\n",
       "      <td>...</td>\n",
       "      <td>...</td>\n",
       "      <td>...</td>\n",
       "    </tr>\n",
       "    <tr>\n",
       "      <td>1171</td>\n",
       "      <td>hand_selected_016</td>\n",
       "      <td>9995-aa7dd1d6-ff3f-41e8-ade6-da416e7366c3</td>\n",
       "      <td>1</td>\n",
       "      <td>0</td>\n",
       "      <td>2</td>\n",
       "      <td>0.000000</td>\n",
       "      <td>0 to 2</td>\n",
       "    </tr>\n",
       "    <tr>\n",
       "      <td>1172</td>\n",
       "      <td>hand_selected_016</td>\n",
       "      <td>9995-aa7dd1d6-ff3f-41e8-ade6-da416e7366c3</td>\n",
       "      <td>2</td>\n",
       "      <td>0</td>\n",
       "      <td>3</td>\n",
       "      <td>1.746204</td>\n",
       "      <td>0 to 3</td>\n",
       "    </tr>\n",
       "    <tr>\n",
       "      <td>1173</td>\n",
       "      <td>hand_selected_016</td>\n",
       "      <td>9995-aa7dd1d6-ff3f-41e8-ade6-da416e7366c3</td>\n",
       "      <td>3</td>\n",
       "      <td>1</td>\n",
       "      <td>2</td>\n",
       "      <td>2.793158</td>\n",
       "      <td>1 to 2</td>\n",
       "    </tr>\n",
       "    <tr>\n",
       "      <td>1174</td>\n",
       "      <td>hand_selected_016</td>\n",
       "      <td>9995-aa7dd1d6-ff3f-41e8-ade6-da416e7366c3</td>\n",
       "      <td>4</td>\n",
       "      <td>1</td>\n",
       "      <td>3</td>\n",
       "      <td>1.320706</td>\n",
       "      <td>1 to 3</td>\n",
       "    </tr>\n",
       "    <tr>\n",
       "      <td>1175</td>\n",
       "      <td>hand_selected_016</td>\n",
       "      <td>9995-aa7dd1d6-ff3f-41e8-ade6-da416e7366c3</td>\n",
       "      <td>5</td>\n",
       "      <td>2</td>\n",
       "      <td>3</td>\n",
       "      <td>2.278692</td>\n",
       "      <td>2 to 3</td>\n",
       "    </tr>\n",
       "  </tbody>\n",
       "</table>\n",
       "<p>1176 rows × 7 columns</p>\n",
       "</div>"
      ],
      "text/plain": [
       "             targetName                                     gameID  level_2  \\\n",
       "0     hand_selected_004  0443-fd078367-c19d-495d-84d5-3519a281435d        0   \n",
       "1     hand_selected_004  0443-fd078367-c19d-495d-84d5-3519a281435d        1   \n",
       "2     hand_selected_004  0443-fd078367-c19d-495d-84d5-3519a281435d        2   \n",
       "3     hand_selected_004  0443-fd078367-c19d-495d-84d5-3519a281435d        3   \n",
       "4     hand_selected_004  0443-fd078367-c19d-495d-84d5-3519a281435d        4   \n",
       "...                 ...                                        ...      ...   \n",
       "1171  hand_selected_016  9995-aa7dd1d6-ff3f-41e8-ade6-da416e7366c3        1   \n",
       "1172  hand_selected_016  9995-aa7dd1d6-ff3f-41e8-ade6-da416e7366c3        2   \n",
       "1173  hand_selected_016  9995-aa7dd1d6-ff3f-41e8-ade6-da416e7366c3        3   \n",
       "1174  hand_selected_016  9995-aa7dd1d6-ff3f-41e8-ade6-da416e7366c3        4   \n",
       "1175  hand_selected_016  9995-aa7dd1d6-ff3f-41e8-ade6-da416e7366c3        5   \n",
       "\n",
       "      rep_a  rep_b  agg_distance    reps  \n",
       "0         0      1      0.844291  0 to 1  \n",
       "1         0      2      0.844291  0 to 2  \n",
       "2         0      3      0.936887  0 to 3  \n",
       "3         1      2      0.000000  1 to 2  \n",
       "4         1      3      0.824643  1 to 3  \n",
       "...     ...    ...           ...     ...  \n",
       "1171      0      2      0.000000  0 to 2  \n",
       "1172      0      3      1.746204  0 to 3  \n",
       "1173      1      2      2.793158  1 to 2  \n",
       "1174      1      3      1.320706  1 to 3  \n",
       "1175      2      3      2.278692  2 to 3  \n",
       "\n",
       "[1176 rows x 7 columns]"
      ]
     },
     "execution_count": 92,
     "metadata": {},
     "output_type": "execute_result"
    }
   ],
   "source": [
    "df_euclidean_distances"
   ]
  },
  {
   "cell_type": "code",
   "execution_count": 104,
   "metadata": {},
   "outputs": [
    {
     "data": {
      "text/plain": [
       "<seaborn.axisgrid.FacetGrid at 0x1a204c4750>"
      ]
     },
     "execution_count": 104,
     "metadata": {},
     "output_type": "execute_result"
    },
    {
     "data": {
      "text/plain": [
       "<Figure size 864x1152 with 0 Axes>"
      ]
     },
     "metadata": {},
     "output_type": "display_data"
    },
    {
     "data": {
      "image/png": "[encoded data removed]",
      "text/plain": [
       "<Figure size 1728x864 with 8 Axes>"
      ]
     },
     "metadata": {},
     "output_type": "display_data"
    }
   ],
   "source": [
    "df_tmp = df_optimal_euclidean_distances[df_optimal_euclidean_distances.reps.isin(['0 to 1','1 to 2','2 to 3'])]\n",
    "\n",
    "\n",
    "fig = plt.figure()\n",
    "fig.set_size_inches(12, 16)\n",
    "sns.set(style=\"ticks\", rc={\"lines.linewidth\": 1})\n",
    "g = sns.FacetGrid(df_tmp, col=\"targetName\", col_wrap=4, height=6)\n",
    "g.map(sns.pointplot, \"reps\", \"optimal_euclidean_distance\")"
   ]
  },
  {
   "cell_type": "code",
   "execution_count": 100,
   "metadata": {},
   "outputs": [],
   "source": [
    "df_euclidean_distances = dfa_repeated.groupby(['targetName','gameID'])\\\n",
    "        .apply(lambda x: get_aggregate_distances(x))\\\n",
    "        .reset_index()\n",
    "\n",
    "\n",
    "# 4. Add rep-to-rep column\n",
    "df_euclidean_distances['reps'] = df_euclidean_distances.apply(\\\n",
    "            lambda row: str(int(row.rep_a)) + ' to ' + str(int(row.rep_b)), axis = 1)"
   ]
  },
  {
   "cell_type": "code",
   "execution_count": 101,
   "metadata": {},
   "outputs": [
    {
     "data": {
      "text/html": [
       "<div>\n",
       "<style scoped>\n",
       "    .dataframe tbody tr th:only-of-type {\n",
       "        vertical-align: middle;\n",
       "    }\n",
       "\n",
       "    .dataframe tbody tr th {\n",
       "        vertical-align: top;\n",
       "    }\n",
       "\n",
       "    .dataframe thead th {\n",
       "        text-align: right;\n",
       "    }\n",
       "</style>\n",
       "<table border=\"1\" class=\"dataframe\">\n",
       "  <thead>\n",
       "    <tr style=\"text-align: right;\">\n",
       "      <th></th>\n",
       "      <th>targetName</th>\n",
       "      <th>gameID</th>\n",
       "      <th>level_2</th>\n",
       "      <th>rep_a</th>\n",
       "      <th>rep_b</th>\n",
       "      <th>actual_euclidean_distance</th>\n",
       "      <th>reps</th>\n",
       "    </tr>\n",
       "  </thead>\n",
       "  <tbody>\n",
       "    <tr>\n",
       "      <td>0</td>\n",
       "      <td>hand_selected_004</td>\n",
       "      <td>0443-fd078367-c19d-495d-84d5-3519a281435d</td>\n",
       "      <td>0</td>\n",
       "      <td>0</td>\n",
       "      <td>1</td>\n",
       "      <td>2.711420</td>\n",
       "      <td>0 to 1</td>\n",
       "    </tr>\n",
       "    <tr>\n",
       "      <td>1</td>\n",
       "      <td>hand_selected_004</td>\n",
       "      <td>0443-fd078367-c19d-495d-84d5-3519a281435d</td>\n",
       "      <td>1</td>\n",
       "      <td>0</td>\n",
       "      <td>2</td>\n",
       "      <td>2.490231</td>\n",
       "      <td>0 to 2</td>\n",
       "    </tr>\n",
       "    <tr>\n",
       "      <td>2</td>\n",
       "      <td>hand_selected_004</td>\n",
       "      <td>0443-fd078367-c19d-495d-84d5-3519a281435d</td>\n",
       "      <td>2</td>\n",
       "      <td>0</td>\n",
       "      <td>3</td>\n",
       "      <td>2.340887</td>\n",
       "      <td>0 to 3</td>\n",
       "    </tr>\n",
       "    <tr>\n",
       "      <td>3</td>\n",
       "      <td>hand_selected_004</td>\n",
       "      <td>0443-fd078367-c19d-495d-84d5-3519a281435d</td>\n",
       "      <td>3</td>\n",
       "      <td>1</td>\n",
       "      <td>2</td>\n",
       "      <td>1.272144</td>\n",
       "      <td>1 to 2</td>\n",
       "    </tr>\n",
       "    <tr>\n",
       "      <td>4</td>\n",
       "      <td>hand_selected_004</td>\n",
       "      <td>0443-fd078367-c19d-495d-84d5-3519a281435d</td>\n",
       "      <td>4</td>\n",
       "      <td>1</td>\n",
       "      <td>3</td>\n",
       "      <td>2.222402</td>\n",
       "      <td>1 to 3</td>\n",
       "    </tr>\n",
       "    <tr>\n",
       "      <td>...</td>\n",
       "      <td>...</td>\n",
       "      <td>...</td>\n",
       "      <td>...</td>\n",
       "      <td>...</td>\n",
       "      <td>...</td>\n",
       "      <td>...</td>\n",
       "      <td>...</td>\n",
       "    </tr>\n",
       "    <tr>\n",
       "      <td>1171</td>\n",
       "      <td>hand_selected_016</td>\n",
       "      <td>9995-aa7dd1d6-ff3f-41e8-ade6-da416e7366c3</td>\n",
       "      <td>1</td>\n",
       "      <td>0</td>\n",
       "      <td>2</td>\n",
       "      <td>0.816497</td>\n",
       "      <td>0 to 2</td>\n",
       "    </tr>\n",
       "    <tr>\n",
       "      <td>1172</td>\n",
       "      <td>hand_selected_016</td>\n",
       "      <td>9995-aa7dd1d6-ff3f-41e8-ade6-da416e7366c3</td>\n",
       "      <td>2</td>\n",
       "      <td>0</td>\n",
       "      <td>3</td>\n",
       "      <td>4.929865</td>\n",
       "      <td>0 to 3</td>\n",
       "    </tr>\n",
       "    <tr>\n",
       "      <td>1173</td>\n",
       "      <td>hand_selected_016</td>\n",
       "      <td>9995-aa7dd1d6-ff3f-41e8-ade6-da416e7366c3</td>\n",
       "      <td>3</td>\n",
       "      <td>1</td>\n",
       "      <td>2</td>\n",
       "      <td>4.572609</td>\n",
       "      <td>1 to 2</td>\n",
       "    </tr>\n",
       "    <tr>\n",
       "      <td>1174</td>\n",
       "      <td>hand_selected_016</td>\n",
       "      <td>9995-aa7dd1d6-ff3f-41e8-ade6-da416e7366c3</td>\n",
       "      <td>4</td>\n",
       "      <td>1</td>\n",
       "      <td>3</td>\n",
       "      <td>5.956067</td>\n",
       "      <td>1 to 3</td>\n",
       "    </tr>\n",
       "    <tr>\n",
       "      <td>1175</td>\n",
       "      <td>hand_selected_016</td>\n",
       "      <td>9995-aa7dd1d6-ff3f-41e8-ade6-da416e7366c3</td>\n",
       "      <td>5</td>\n",
       "      <td>2</td>\n",
       "      <td>3</td>\n",
       "      <td>5.164964</td>\n",
       "      <td>2 to 3</td>\n",
       "    </tr>\n",
       "  </tbody>\n",
       "</table>\n",
       "<p>1176 rows × 7 columns</p>\n",
       "</div>"
      ],
      "text/plain": [
       "             targetName                                     gameID  level_2  \\\n",
       "0     hand_selected_004  0443-fd078367-c19d-495d-84d5-3519a281435d        0   \n",
       "1     hand_selected_004  0443-fd078367-c19d-495d-84d5-3519a281435d        1   \n",
       "2     hand_selected_004  0443-fd078367-c19d-495d-84d5-3519a281435d        2   \n",
       "3     hand_selected_004  0443-fd078367-c19d-495d-84d5-3519a281435d        3   \n",
       "4     hand_selected_004  0443-fd078367-c19d-495d-84d5-3519a281435d        4   \n",
       "...                 ...                                        ...      ...   \n",
       "1171  hand_selected_016  9995-aa7dd1d6-ff3f-41e8-ade6-da416e7366c3        1   \n",
       "1172  hand_selected_016  9995-aa7dd1d6-ff3f-41e8-ade6-da416e7366c3        2   \n",
       "1173  hand_selected_016  9995-aa7dd1d6-ff3f-41e8-ade6-da416e7366c3        3   \n",
       "1174  hand_selected_016  9995-aa7dd1d6-ff3f-41e8-ade6-da416e7366c3        4   \n",
       "1175  hand_selected_016  9995-aa7dd1d6-ff3f-41e8-ade6-da416e7366c3        5   \n",
       "\n",
       "      rep_a  rep_b  actual_euclidean_distance    reps  \n",
       "0         0      1                   2.711420  0 to 1  \n",
       "1         0      2                   2.490231  0 to 2  \n",
       "2         0      3                   2.340887  0 to 3  \n",
       "3         1      2                   1.272144  1 to 2  \n",
       "4         1      3                   2.222402  1 to 3  \n",
       "...     ...    ...                        ...     ...  \n",
       "1171      0      2                   0.816497  0 to 2  \n",
       "1172      0      3                   4.929865  0 to 3  \n",
       "1173      1      2                   4.572609  1 to 2  \n",
       "1174      1      3                   5.956067  1 to 3  \n",
       "1175      2      3                   5.164964  2 to 3  \n",
       "\n",
       "[1176 rows x 7 columns]"
      ]
     },
     "execution_count": 101,
     "metadata": {},
     "output_type": "execute_result"
    }
   ],
   "source": [
    "df_euclidean_distances"
   ]
  },
  {
   "cell_type": "code",
   "execution_count": 103,
   "metadata": {},
   "outputs": [
    {
     "name": "stderr",
     "output_type": "stream",
     "text": [
      "/Users/will/anaconda3/lib/python3.7/site-packages/seaborn/axisgrid.py:715: UserWarning: Using the pointplot function without specifying `order` is likely to produce an incorrect plot.\n",
      "  warnings.warn(warning)\n"
     ]
    },
    {
     "data": {
      "text/plain": [
       "<seaborn.axisgrid.FacetGrid at 0x1a230ecb50>"
      ]
     },
     "execution_count": 103,
     "metadata": {},
     "output_type": "execute_result"
    },
    {
     "data": {
      "text/plain": [
       "<Figure size 864x1152 with 0 Axes>"
      ]
     },
     "metadata": {},
     "output_type": "display_data"
    },
    {
     "data": {
      "image/png": "[encoded data removed]",
      "text/plain": [
       "<Figure size 1728x864 with 8 Axes>"
      ]
     },
     "metadata": {},
     "output_type": "display_data"
    }
   ],
   "source": [
    "df_tmp = df_euclidean_distances[df_euclidean_distances.reps.isin(['0 to 3','1 to 3','2 to 3'])]\n",
    "\n",
    "\n",
    "fig = plt.figure()\n",
    "fig.set_size_inches(12, 16)\n",
    "sns.set(style=\"ticks\", rc={\"lines.linewidth\": 1})\n",
    "g = sns.FacetGrid(df_tmp, col=\"targetName\", col_wrap=4, height=6)\n",
    "g.map(sns.pointplot, \"reps\", \"actual_euclidean_distance\")"
   ]
  },
  {
   "cell_type": "code",
   "execution_count": 68,
   "metadata": {},
   "outputs": [
    {
     "data": {
      "text/plain": [
       "<matplotlib.axes._subplots.AxesSubplot at 0x1a2b02d650>"
      ]
     },
     "execution_count": 68,
     "metadata": {},
     "output_type": "execute_result"
    },
    {
     "data": {
      "image/png": "[encoded data removed]",
      "text/plain": [
       "<Figure size 288x288 with 1 Axes>"
      ]
     },
     "metadata": {},
     "output_type": "display_data"
    }
   ],
   "source": [
    "df_tmp = df_euclidean_distances[df_euclidean_distances.reps.isin(['0 to 3','1 to 3','2 to 3'])]\n",
    "\n",
    "fig = plt.figure()\n",
    "fig.set_size_inches(4, 4)\n",
    "sns.set(style=\"ticks\", rc={\"lines.linewidth\": 1})\n",
    "sns.pointplot(data=df_tmp, x=\"reps\", y=\"agg_distance\", hue='targetName')"
   ]
  },
  {
   "cell_type": "markdown",
   "metadata": {},
   "source": [
    "### Action sequence similarity (when). "
   ]
  },
  {
   "cell_type": "code",
   "execution_count": 106,
   "metadata": {},
   "outputs": [],
   "source": [
    "# 2. Subset data\n",
    "dfa = dfi[['gameID','trialNum','targetName','repetition','blockNum','condition','phase_extended','y_index','x_index','width_discrete','height_discrete']]\n",
    "dfa = dfa.rename(columns = {'y_index':'y',\n",
    "                            'x_index':'x',\n",
    "                            'width_discrete':'w',\n",
    "                            'height_discrete':'h'})\n",
    "\n",
    "dfa_repeated = dfa[(dfa.condition=='repeated')]"
   ]
  },
  {
   "cell_type": "code",
   "execution_count": 107,
   "metadata": {},
   "outputs": [],
   "source": [
    "# 3. Group by ppt and targetName, apply spatial-distance and time-displacement measures\n",
    "df_temporal = dfa_repeated.groupby(['targetName','gameID']).apply(lambda x: get_phase_displacements(x, displacement_measure = kendall_tau_distance))\\\n",
    "                               .reset_index()\n",
    "\n",
    "# 4. Add rep-to-rep column\n",
    "df_temporal['reps'] = df_temporal.apply(lambda row: str(int(row.rep_a)) + ' to ' + str(int(row.rep_b)), axis = 1) \n"
   ]
  },
  {
   "cell_type": "code",
   "execution_count": 108,
   "metadata": {},
   "outputs": [
    {
     "data": {
      "text/plain": [
       "<seaborn.axisgrid.FacetGrid at 0x1a260f7710>"
      ]
     },
     "execution_count": 108,
     "metadata": {},
     "output_type": "execute_result"
    },
    {
     "data": {
      "text/plain": [
       "<Figure size 864x1152 with 0 Axes>"
      ]
     },
     "metadata": {},
     "output_type": "display_data"
    },
    {
     "data": {
      "image/png": "[encoded data removed]",
      "text/plain": [
       "<Figure size 1728x864 with 8 Axes>"
      ]
     },
     "metadata": {},
     "output_type": "display_data"
    }
   ],
   "source": [
    "df_tmp = df_temporal[df_temporal.reps.isin(['0 to 1','1 to 2','2 to 3'])]\n",
    "\n",
    "\n",
    "fig = plt.figure()\n",
    "fig.set_size_inches(12, 16)\n",
    "sns.set(style=\"ticks\", rc={\"lines.linewidth\": 1})\n",
    "g = sns.FacetGrid(df_tmp, col=\"targetName\", col_wrap=4, height=6)\n",
    "g.map(sns.pointplot, \"reps\", \"temporal_distance\")"
   ]
  },
  {
   "cell_type": "code",
   "execution_count": null,
   "metadata": {},
   "outputs": [],
   "source": []
  },
  {
   "cell_type": "code",
   "execution_count": 109,
   "metadata": {},
   "outputs": [
    {
     "data": {
      "text/html": [
       "<div>\n",
       "<style scoped>\n",
       "    .dataframe tbody tr th:only-of-type {\n",
       "        vertical-align: middle;\n",
       "    }\n",
       "\n",
       "    .dataframe tbody tr th {\n",
       "        vertical-align: top;\n",
       "    }\n",
       "\n",
       "    .dataframe thead th {\n",
       "        text-align: right;\n",
       "    }\n",
       "</style>\n",
       "<table border=\"1\" class=\"dataframe\">\n",
       "  <thead>\n",
       "    <tr style=\"text-align: right;\">\n",
       "      <th></th>\n",
       "      <th>targetName</th>\n",
       "      <th>gameID</th>\n",
       "      <th>level_2</th>\n",
       "      <th>rep_a</th>\n",
       "      <th>rep_b</th>\n",
       "      <th>actual_euclidean_distance</th>\n",
       "      <th>reps</th>\n",
       "    </tr>\n",
       "  </thead>\n",
       "  <tbody>\n",
       "    <tr>\n",
       "      <td>0</td>\n",
       "      <td>hand_selected_004</td>\n",
       "      <td>0443-fd078367-c19d-495d-84d5-3519a281435d</td>\n",
       "      <td>0</td>\n",
       "      <td>0</td>\n",
       "      <td>1</td>\n",
       "      <td>2.711420</td>\n",
       "      <td>0 to 1</td>\n",
       "    </tr>\n",
       "    <tr>\n",
       "      <td>1</td>\n",
       "      <td>hand_selected_004</td>\n",
       "      <td>0443-fd078367-c19d-495d-84d5-3519a281435d</td>\n",
       "      <td>1</td>\n",
       "      <td>0</td>\n",
       "      <td>2</td>\n",
       "      <td>2.490231</td>\n",
       "      <td>0 to 2</td>\n",
       "    </tr>\n",
       "    <tr>\n",
       "      <td>2</td>\n",
       "      <td>hand_selected_004</td>\n",
       "      <td>0443-fd078367-c19d-495d-84d5-3519a281435d</td>\n",
       "      <td>2</td>\n",
       "      <td>0</td>\n",
       "      <td>3</td>\n",
       "      <td>2.340887</td>\n",
       "      <td>0 to 3</td>\n",
       "    </tr>\n",
       "    <tr>\n",
       "      <td>3</td>\n",
       "      <td>hand_selected_004</td>\n",
       "      <td>0443-fd078367-c19d-495d-84d5-3519a281435d</td>\n",
       "      <td>3</td>\n",
       "      <td>1</td>\n",
       "      <td>2</td>\n",
       "      <td>1.272144</td>\n",
       "      <td>1 to 2</td>\n",
       "    </tr>\n",
       "    <tr>\n",
       "      <td>4</td>\n",
       "      <td>hand_selected_004</td>\n",
       "      <td>0443-fd078367-c19d-495d-84d5-3519a281435d</td>\n",
       "      <td>4</td>\n",
       "      <td>1</td>\n",
       "      <td>3</td>\n",
       "      <td>2.222402</td>\n",
       "      <td>1 to 3</td>\n",
       "    </tr>\n",
       "    <tr>\n",
       "      <td>...</td>\n",
       "      <td>...</td>\n",
       "      <td>...</td>\n",
       "      <td>...</td>\n",
       "      <td>...</td>\n",
       "      <td>...</td>\n",
       "      <td>...</td>\n",
       "      <td>...</td>\n",
       "    </tr>\n",
       "    <tr>\n",
       "      <td>1171</td>\n",
       "      <td>hand_selected_016</td>\n",
       "      <td>9995-aa7dd1d6-ff3f-41e8-ade6-da416e7366c3</td>\n",
       "      <td>1</td>\n",
       "      <td>0</td>\n",
       "      <td>2</td>\n",
       "      <td>0.816497</td>\n",
       "      <td>0 to 2</td>\n",
       "    </tr>\n",
       "    <tr>\n",
       "      <td>1172</td>\n",
       "      <td>hand_selected_016</td>\n",
       "      <td>9995-aa7dd1d6-ff3f-41e8-ade6-da416e7366c3</td>\n",
       "      <td>2</td>\n",
       "      <td>0</td>\n",
       "      <td>3</td>\n",
       "      <td>4.929865</td>\n",
       "      <td>0 to 3</td>\n",
       "    </tr>\n",
       "    <tr>\n",
       "      <td>1173</td>\n",
       "      <td>hand_selected_016</td>\n",
       "      <td>9995-aa7dd1d6-ff3f-41e8-ade6-da416e7366c3</td>\n",
       "      <td>3</td>\n",
       "      <td>1</td>\n",
       "      <td>2</td>\n",
       "      <td>4.572609</td>\n",
       "      <td>1 to 2</td>\n",
       "    </tr>\n",
       "    <tr>\n",
       "      <td>1174</td>\n",
       "      <td>hand_selected_016</td>\n",
       "      <td>9995-aa7dd1d6-ff3f-41e8-ade6-da416e7366c3</td>\n",
       "      <td>4</td>\n",
       "      <td>1</td>\n",
       "      <td>3</td>\n",
       "      <td>5.956067</td>\n",
       "      <td>1 to 3</td>\n",
       "    </tr>\n",
       "    <tr>\n",
       "      <td>1175</td>\n",
       "      <td>hand_selected_016</td>\n",
       "      <td>9995-aa7dd1d6-ff3f-41e8-ade6-da416e7366c3</td>\n",
       "      <td>5</td>\n",
       "      <td>2</td>\n",
       "      <td>3</td>\n",
       "      <td>5.164964</td>\n",
       "      <td>2 to 3</td>\n",
       "    </tr>\n",
       "  </tbody>\n",
       "</table>\n",
       "<p>1176 rows × 7 columns</p>\n",
       "</div>"
      ],
      "text/plain": [
       "             targetName                                     gameID  level_2  \\\n",
       "0     hand_selected_004  0443-fd078367-c19d-495d-84d5-3519a281435d        0   \n",
       "1     hand_selected_004  0443-fd078367-c19d-495d-84d5-3519a281435d        1   \n",
       "2     hand_selected_004  0443-fd078367-c19d-495d-84d5-3519a281435d        2   \n",
       "3     hand_selected_004  0443-fd078367-c19d-495d-84d5-3519a281435d        3   \n",
       "4     hand_selected_004  0443-fd078367-c19d-495d-84d5-3519a281435d        4   \n",
       "...                 ...                                        ...      ...   \n",
       "1171  hand_selected_016  9995-aa7dd1d6-ff3f-41e8-ade6-da416e7366c3        1   \n",
       "1172  hand_selected_016  9995-aa7dd1d6-ff3f-41e8-ade6-da416e7366c3        2   \n",
       "1173  hand_selected_016  9995-aa7dd1d6-ff3f-41e8-ade6-da416e7366c3        3   \n",
       "1174  hand_selected_016  9995-aa7dd1d6-ff3f-41e8-ade6-da416e7366c3        4   \n",
       "1175  hand_selected_016  9995-aa7dd1d6-ff3f-41e8-ade6-da416e7366c3        5   \n",
       "\n",
       "      rep_a  rep_b  actual_euclidean_distance    reps  \n",
       "0         0      1                   2.711420  0 to 1  \n",
       "1         0      2                   2.490231  0 to 2  \n",
       "2         0      3                   2.340887  0 to 3  \n",
       "3         1      2                   1.272144  1 to 2  \n",
       "4         1      3                   2.222402  1 to 3  \n",
       "...     ...    ...                        ...     ...  \n",
       "1171      0      2                   0.816497  0 to 2  \n",
       "1172      0      3                   4.929865  0 to 3  \n",
       "1173      1      2                   4.572609  1 to 2  \n",
       "1174      1      3                   5.956067  1 to 3  \n",
       "1175      2      3                   5.164964  2 to 3  \n",
       "\n",
       "[1176 rows x 7 columns]"
      ]
     },
     "execution_count": 109,
     "metadata": {},
     "output_type": "execute_result"
    }
   ],
   "source": [
    "df_euclidean_distances"
   ]
  },
  {
   "cell_type": "code",
   "execution_count": 110,
   "metadata": {},
   "outputs": [
    {
     "data": {
      "text/html": [
       "<div>\n",
       "<style scoped>\n",
       "    .dataframe tbody tr th:only-of-type {\n",
       "        vertical-align: middle;\n",
       "    }\n",
       "\n",
       "    .dataframe tbody tr th {\n",
       "        vertical-align: top;\n",
       "    }\n",
       "\n",
       "    .dataframe thead th {\n",
       "        text-align: right;\n",
       "    }\n",
       "</style>\n",
       "<table border=\"1\" class=\"dataframe\">\n",
       "  <thead>\n",
       "    <tr style=\"text-align: right;\">\n",
       "      <th></th>\n",
       "      <th>targetName</th>\n",
       "      <th>gameID</th>\n",
       "      <th>level_2</th>\n",
       "      <th>rep_a</th>\n",
       "      <th>rep_b</th>\n",
       "      <th>optimal_euclidean_distance</th>\n",
       "      <th>reps</th>\n",
       "    </tr>\n",
       "  </thead>\n",
       "  <tbody>\n",
       "    <tr>\n",
       "      <td>0</td>\n",
       "      <td>hand_selected_004</td>\n",
       "      <td>0443-fd078367-c19d-495d-84d5-3519a281435d</td>\n",
       "      <td>0</td>\n",
       "      <td>0</td>\n",
       "      <td>1</td>\n",
       "      <td>0.844291</td>\n",
       "      <td>0 to 1</td>\n",
       "    </tr>\n",
       "    <tr>\n",
       "      <td>1</td>\n",
       "      <td>hand_selected_004</td>\n",
       "      <td>0443-fd078367-c19d-495d-84d5-3519a281435d</td>\n",
       "      <td>1</td>\n",
       "      <td>0</td>\n",
       "      <td>2</td>\n",
       "      <td>0.844291</td>\n",
       "      <td>0 to 2</td>\n",
       "    </tr>\n",
       "    <tr>\n",
       "      <td>2</td>\n",
       "      <td>hand_selected_004</td>\n",
       "      <td>0443-fd078367-c19d-495d-84d5-3519a281435d</td>\n",
       "      <td>2</td>\n",
       "      <td>0</td>\n",
       "      <td>3</td>\n",
       "      <td>0.936887</td>\n",
       "      <td>0 to 3</td>\n",
       "    </tr>\n",
       "    <tr>\n",
       "      <td>3</td>\n",
       "      <td>hand_selected_004</td>\n",
       "      <td>0443-fd078367-c19d-495d-84d5-3519a281435d</td>\n",
       "      <td>3</td>\n",
       "      <td>1</td>\n",
       "      <td>2</td>\n",
       "      <td>0.000000</td>\n",
       "      <td>1 to 2</td>\n",
       "    </tr>\n",
       "    <tr>\n",
       "      <td>4</td>\n",
       "      <td>hand_selected_004</td>\n",
       "      <td>0443-fd078367-c19d-495d-84d5-3519a281435d</td>\n",
       "      <td>4</td>\n",
       "      <td>1</td>\n",
       "      <td>3</td>\n",
       "      <td>0.824643</td>\n",
       "      <td>1 to 3</td>\n",
       "    </tr>\n",
       "    <tr>\n",
       "      <td>...</td>\n",
       "      <td>...</td>\n",
       "      <td>...</td>\n",
       "      <td>...</td>\n",
       "      <td>...</td>\n",
       "      <td>...</td>\n",
       "      <td>...</td>\n",
       "      <td>...</td>\n",
       "    </tr>\n",
       "    <tr>\n",
       "      <td>1171</td>\n",
       "      <td>hand_selected_016</td>\n",
       "      <td>9995-aa7dd1d6-ff3f-41e8-ade6-da416e7366c3</td>\n",
       "      <td>1</td>\n",
       "      <td>0</td>\n",
       "      <td>2</td>\n",
       "      <td>0.000000</td>\n",
       "      <td>0 to 2</td>\n",
       "    </tr>\n",
       "    <tr>\n",
       "      <td>1172</td>\n",
       "      <td>hand_selected_016</td>\n",
       "      <td>9995-aa7dd1d6-ff3f-41e8-ade6-da416e7366c3</td>\n",
       "      <td>2</td>\n",
       "      <td>0</td>\n",
       "      <td>3</td>\n",
       "      <td>1.746204</td>\n",
       "      <td>0 to 3</td>\n",
       "    </tr>\n",
       "    <tr>\n",
       "      <td>1173</td>\n",
       "      <td>hand_selected_016</td>\n",
       "      <td>9995-aa7dd1d6-ff3f-41e8-ade6-da416e7366c3</td>\n",
       "      <td>3</td>\n",
       "      <td>1</td>\n",
       "      <td>2</td>\n",
       "      <td>2.793158</td>\n",
       "      <td>1 to 2</td>\n",
       "    </tr>\n",
       "    <tr>\n",
       "      <td>1174</td>\n",
       "      <td>hand_selected_016</td>\n",
       "      <td>9995-aa7dd1d6-ff3f-41e8-ade6-da416e7366c3</td>\n",
       "      <td>4</td>\n",
       "      <td>1</td>\n",
       "      <td>3</td>\n",
       "      <td>1.320706</td>\n",
       "      <td>1 to 3</td>\n",
       "    </tr>\n",
       "    <tr>\n",
       "      <td>1175</td>\n",
       "      <td>hand_selected_016</td>\n",
       "      <td>9995-aa7dd1d6-ff3f-41e8-ade6-da416e7366c3</td>\n",
       "      <td>5</td>\n",
       "      <td>2</td>\n",
       "      <td>3</td>\n",
       "      <td>2.278692</td>\n",
       "      <td>2 to 3</td>\n",
       "    </tr>\n",
       "  </tbody>\n",
       "</table>\n",
       "<p>1176 rows × 7 columns</p>\n",
       "</div>"
      ],
      "text/plain": [
       "             targetName                                     gameID  level_2  \\\n",
       "0     hand_selected_004  0443-fd078367-c19d-495d-84d5-3519a281435d        0   \n",
       "1     hand_selected_004  0443-fd078367-c19d-495d-84d5-3519a281435d        1   \n",
       "2     hand_selected_004  0443-fd078367-c19d-495d-84d5-3519a281435d        2   \n",
       "3     hand_selected_004  0443-fd078367-c19d-495d-84d5-3519a281435d        3   \n",
       "4     hand_selected_004  0443-fd078367-c19d-495d-84d5-3519a281435d        4   \n",
       "...                 ...                                        ...      ...   \n",
       "1171  hand_selected_016  9995-aa7dd1d6-ff3f-41e8-ade6-da416e7366c3        1   \n",
       "1172  hand_selected_016  9995-aa7dd1d6-ff3f-41e8-ade6-da416e7366c3        2   \n",
       "1173  hand_selected_016  9995-aa7dd1d6-ff3f-41e8-ade6-da416e7366c3        3   \n",
       "1174  hand_selected_016  9995-aa7dd1d6-ff3f-41e8-ade6-da416e7366c3        4   \n",
       "1175  hand_selected_016  9995-aa7dd1d6-ff3f-41e8-ade6-da416e7366c3        5   \n",
       "\n",
       "      rep_a  rep_b  optimal_euclidean_distance    reps  \n",
       "0         0      1                    0.844291  0 to 1  \n",
       "1         0      2                    0.844291  0 to 2  \n",
       "2         0      3                    0.936887  0 to 3  \n",
       "3         1      2                    0.000000  1 to 2  \n",
       "4         1      3                    0.824643  1 to 3  \n",
       "...     ...    ...                         ...     ...  \n",
       "1171      0      2                    0.000000  0 to 2  \n",
       "1172      0      3                    1.746204  0 to 3  \n",
       "1173      1      2                    2.793158  1 to 2  \n",
       "1174      1      3                    1.320706  1 to 3  \n",
       "1175      2      3                    2.278692  2 to 3  \n",
       "\n",
       "[1176 rows x 7 columns]"
      ]
     },
     "execution_count": 110,
     "metadata": {},
     "output_type": "execute_result"
    }
   ],
   "source": [
    "df_optimal_euclidean_distances"
   ]
  },
  {
   "cell_type": "code",
   "execution_count": 111,
   "metadata": {},
   "outputs": [
    {
     "data": {
      "text/html": [
       "<div>\n",
       "<style scoped>\n",
       "    .dataframe tbody tr th:only-of-type {\n",
       "        vertical-align: middle;\n",
       "    }\n",
       "\n",
       "    .dataframe tbody tr th {\n",
       "        vertical-align: top;\n",
       "    }\n",
       "\n",
       "    .dataframe thead th {\n",
       "        text-align: right;\n",
       "    }\n",
       "</style>\n",
       "<table border=\"1\" class=\"dataframe\">\n",
       "  <thead>\n",
       "    <tr style=\"text-align: right;\">\n",
       "      <th></th>\n",
       "      <th>targetName</th>\n",
       "      <th>gameID</th>\n",
       "      <th>level_2</th>\n",
       "      <th>rep_a</th>\n",
       "      <th>rep_b</th>\n",
       "      <th>temporal_distance</th>\n",
       "      <th>reps</th>\n",
       "    </tr>\n",
       "  </thead>\n",
       "  <tbody>\n",
       "    <tr>\n",
       "      <td>0</td>\n",
       "      <td>hand_selected_004</td>\n",
       "      <td>0443-fd078367-c19d-495d-84d5-3519a281435d</td>\n",
       "      <td>0</td>\n",
       "      <td>0</td>\n",
       "      <td>1</td>\n",
       "      <td>0.418182</td>\n",
       "      <td>0 to 1</td>\n",
       "    </tr>\n",
       "    <tr>\n",
       "      <td>1</td>\n",
       "      <td>hand_selected_004</td>\n",
       "      <td>0443-fd078367-c19d-495d-84d5-3519a281435d</td>\n",
       "      <td>1</td>\n",
       "      <td>0</td>\n",
       "      <td>2</td>\n",
       "      <td>0.527273</td>\n",
       "      <td>0 to 2</td>\n",
       "    </tr>\n",
       "    <tr>\n",
       "      <td>2</td>\n",
       "      <td>hand_selected_004</td>\n",
       "      <td>0443-fd078367-c19d-495d-84d5-3519a281435d</td>\n",
       "      <td>2</td>\n",
       "      <td>0</td>\n",
       "      <td>3</td>\n",
       "      <td>0.757576</td>\n",
       "      <td>0 to 3</td>\n",
       "    </tr>\n",
       "    <tr>\n",
       "      <td>3</td>\n",
       "      <td>hand_selected_004</td>\n",
       "      <td>0443-fd078367-c19d-495d-84d5-3519a281435d</td>\n",
       "      <td>3</td>\n",
       "      <td>1</td>\n",
       "      <td>2</td>\n",
       "      <td>0.890909</td>\n",
       "      <td>1 to 2</td>\n",
       "    </tr>\n",
       "    <tr>\n",
       "      <td>4</td>\n",
       "      <td>hand_selected_004</td>\n",
       "      <td>0443-fd078367-c19d-495d-84d5-3519a281435d</td>\n",
       "      <td>4</td>\n",
       "      <td>1</td>\n",
       "      <td>3</td>\n",
       "      <td>0.418182</td>\n",
       "      <td>1 to 3</td>\n",
       "    </tr>\n",
       "    <tr>\n",
       "      <td>...</td>\n",
       "      <td>...</td>\n",
       "      <td>...</td>\n",
       "      <td>...</td>\n",
       "      <td>...</td>\n",
       "      <td>...</td>\n",
       "      <td>...</td>\n",
       "      <td>...</td>\n",
       "    </tr>\n",
       "    <tr>\n",
       "      <td>1171</td>\n",
       "      <td>hand_selected_016</td>\n",
       "      <td>9995-aa7dd1d6-ff3f-41e8-ade6-da416e7366c3</td>\n",
       "      <td>1</td>\n",
       "      <td>0</td>\n",
       "      <td>2</td>\n",
       "      <td>0.866667</td>\n",
       "      <td>0 to 2</td>\n",
       "    </tr>\n",
       "    <tr>\n",
       "      <td>1172</td>\n",
       "      <td>hand_selected_016</td>\n",
       "      <td>9995-aa7dd1d6-ff3f-41e8-ade6-da416e7366c3</td>\n",
       "      <td>2</td>\n",
       "      <td>0</td>\n",
       "      <td>3</td>\n",
       "      <td>-0.200000</td>\n",
       "      <td>0 to 3</td>\n",
       "    </tr>\n",
       "    <tr>\n",
       "      <td>1173</td>\n",
       "      <td>hand_selected_016</td>\n",
       "      <td>9995-aa7dd1d6-ff3f-41e8-ade6-da416e7366c3</td>\n",
       "      <td>3</td>\n",
       "      <td>1</td>\n",
       "      <td>2</td>\n",
       "      <td>0.238095</td>\n",
       "      <td>1 to 2</td>\n",
       "    </tr>\n",
       "    <tr>\n",
       "      <td>1174</td>\n",
       "      <td>hand_selected_016</td>\n",
       "      <td>9995-aa7dd1d6-ff3f-41e8-ade6-da416e7366c3</td>\n",
       "      <td>4</td>\n",
       "      <td>1</td>\n",
       "      <td>3</td>\n",
       "      <td>-0.222222</td>\n",
       "      <td>1 to 3</td>\n",
       "    </tr>\n",
       "    <tr>\n",
       "      <td>1175</td>\n",
       "      <td>hand_selected_016</td>\n",
       "      <td>9995-aa7dd1d6-ff3f-41e8-ade6-da416e7366c3</td>\n",
       "      <td>5</td>\n",
       "      <td>2</td>\n",
       "      <td>3</td>\n",
       "      <td>-0.047619</td>\n",
       "      <td>2 to 3</td>\n",
       "    </tr>\n",
       "  </tbody>\n",
       "</table>\n",
       "<p>1176 rows × 7 columns</p>\n",
       "</div>"
      ],
      "text/plain": [
       "             targetName                                     gameID  level_2  \\\n",
       "0     hand_selected_004  0443-fd078367-c19d-495d-84d5-3519a281435d        0   \n",
       "1     hand_selected_004  0443-fd078367-c19d-495d-84d5-3519a281435d        1   \n",
       "2     hand_selected_004  0443-fd078367-c19d-495d-84d5-3519a281435d        2   \n",
       "3     hand_selected_004  0443-fd078367-c19d-495d-84d5-3519a281435d        3   \n",
       "4     hand_selected_004  0443-fd078367-c19d-495d-84d5-3519a281435d        4   \n",
       "...                 ...                                        ...      ...   \n",
       "1171  hand_selected_016  9995-aa7dd1d6-ff3f-41e8-ade6-da416e7366c3        1   \n",
       "1172  hand_selected_016  9995-aa7dd1d6-ff3f-41e8-ade6-da416e7366c3        2   \n",
       "1173  hand_selected_016  9995-aa7dd1d6-ff3f-41e8-ade6-da416e7366c3        3   \n",
       "1174  hand_selected_016  9995-aa7dd1d6-ff3f-41e8-ade6-da416e7366c3        4   \n",
       "1175  hand_selected_016  9995-aa7dd1d6-ff3f-41e8-ade6-da416e7366c3        5   \n",
       "\n",
       "      rep_a  rep_b  temporal_distance    reps  \n",
       "0         0      1           0.418182  0 to 1  \n",
       "1         0      2           0.527273  0 to 2  \n",
       "2         0      3           0.757576  0 to 3  \n",
       "3         1      2           0.890909  1 to 2  \n",
       "4         1      3           0.418182  1 to 3  \n",
       "...     ...    ...                ...     ...  \n",
       "1171      0      2           0.866667  0 to 2  \n",
       "1172      0      3          -0.200000  0 to 3  \n",
       "1173      1      2           0.238095  1 to 2  \n",
       "1174      1      3          -0.222222  1 to 3  \n",
       "1175      2      3          -0.047619  2 to 3  \n",
       "\n",
       "[1176 rows x 7 columns]"
      ]
     },
     "execution_count": 111,
     "metadata": {},
     "output_type": "execute_result"
    }
   ],
   "source": [
    "df_temporal"
   ]
  },
  {
   "cell_type": "code",
   "execution_count": 112,
   "metadata": {},
   "outputs": [],
   "source": [
    "df_euc = df_euclidean_distances.copy()\n",
    "df_opt = df_optimal_euclidean_distances.copy()\n",
    "df_time = df_temporal.copy()"
   ]
  },
  {
   "cell_type": "code",
   "execution_count": 115,
   "metadata": {},
   "outputs": [
    {
     "data": {
      "text/html": [
       "<div>\n",
       "<style scoped>\n",
       "    .dataframe tbody tr th:only-of-type {\n",
       "        vertical-align: middle;\n",
       "    }\n",
       "\n",
       "    .dataframe tbody tr th {\n",
       "        vertical-align: top;\n",
       "    }\n",
       "\n",
       "    .dataframe thead th {\n",
       "        text-align: right;\n",
       "    }\n",
       "</style>\n",
       "<table border=\"1\" class=\"dataframe\">\n",
       "  <thead>\n",
       "    <tr style=\"text-align: right;\">\n",
       "      <th></th>\n",
       "      <th>targetName</th>\n",
       "      <th>gameID</th>\n",
       "      <th>level_2</th>\n",
       "      <th>rep_a</th>\n",
       "      <th>rep_b</th>\n",
       "      <th>actual_euclidean_distance</th>\n",
       "      <th>reps</th>\n",
       "    </tr>\n",
       "  </thead>\n",
       "  <tbody>\n",
       "    <tr>\n",
       "      <td>0</td>\n",
       "      <td>hand_selected_004</td>\n",
       "      <td>0443-fd078367-c19d-495d-84d5-3519a281435d</td>\n",
       "      <td>0</td>\n",
       "      <td>0</td>\n",
       "      <td>1</td>\n",
       "      <td>2.711420</td>\n",
       "      <td>0 to 1</td>\n",
       "    </tr>\n",
       "    <tr>\n",
       "      <td>1</td>\n",
       "      <td>hand_selected_004</td>\n",
       "      <td>0443-fd078367-c19d-495d-84d5-3519a281435d</td>\n",
       "      <td>1</td>\n",
       "      <td>0</td>\n",
       "      <td>2</td>\n",
       "      <td>2.490231</td>\n",
       "      <td>0 to 2</td>\n",
       "    </tr>\n",
       "    <tr>\n",
       "      <td>2</td>\n",
       "      <td>hand_selected_004</td>\n",
       "      <td>0443-fd078367-c19d-495d-84d5-3519a281435d</td>\n",
       "      <td>2</td>\n",
       "      <td>0</td>\n",
       "      <td>3</td>\n",
       "      <td>2.340887</td>\n",
       "      <td>0 to 3</td>\n",
       "    </tr>\n",
       "    <tr>\n",
       "      <td>3</td>\n",
       "      <td>hand_selected_004</td>\n",
       "      <td>0443-fd078367-c19d-495d-84d5-3519a281435d</td>\n",
       "      <td>3</td>\n",
       "      <td>1</td>\n",
       "      <td>2</td>\n",
       "      <td>1.272144</td>\n",
       "      <td>1 to 2</td>\n",
       "    </tr>\n",
       "    <tr>\n",
       "      <td>4</td>\n",
       "      <td>hand_selected_004</td>\n",
       "      <td>0443-fd078367-c19d-495d-84d5-3519a281435d</td>\n",
       "      <td>4</td>\n",
       "      <td>1</td>\n",
       "      <td>3</td>\n",
       "      <td>2.222402</td>\n",
       "      <td>1 to 3</td>\n",
       "    </tr>\n",
       "    <tr>\n",
       "      <td>...</td>\n",
       "      <td>...</td>\n",
       "      <td>...</td>\n",
       "      <td>...</td>\n",
       "      <td>...</td>\n",
       "      <td>...</td>\n",
       "      <td>...</td>\n",
       "      <td>...</td>\n",
       "    </tr>\n",
       "    <tr>\n",
       "      <td>1171</td>\n",
       "      <td>hand_selected_016</td>\n",
       "      <td>9995-aa7dd1d6-ff3f-41e8-ade6-da416e7366c3</td>\n",
       "      <td>1</td>\n",
       "      <td>0</td>\n",
       "      <td>2</td>\n",
       "      <td>0.816497</td>\n",
       "      <td>0 to 2</td>\n",
       "    </tr>\n",
       "    <tr>\n",
       "      <td>1172</td>\n",
       "      <td>hand_selected_016</td>\n",
       "      <td>9995-aa7dd1d6-ff3f-41e8-ade6-da416e7366c3</td>\n",
       "      <td>2</td>\n",
       "      <td>0</td>\n",
       "      <td>3</td>\n",
       "      <td>4.929865</td>\n",
       "      <td>0 to 3</td>\n",
       "    </tr>\n",
       "    <tr>\n",
       "      <td>1173</td>\n",
       "      <td>hand_selected_016</td>\n",
       "      <td>9995-aa7dd1d6-ff3f-41e8-ade6-da416e7366c3</td>\n",
       "      <td>3</td>\n",
       "      <td>1</td>\n",
       "      <td>2</td>\n",
       "      <td>4.572609</td>\n",
       "      <td>1 to 2</td>\n",
       "    </tr>\n",
       "    <tr>\n",
       "      <td>1174</td>\n",
       "      <td>hand_selected_016</td>\n",
       "      <td>9995-aa7dd1d6-ff3f-41e8-ade6-da416e7366c3</td>\n",
       "      <td>4</td>\n",
       "      <td>1</td>\n",
       "      <td>3</td>\n",
       "      <td>5.956067</td>\n",
       "      <td>1 to 3</td>\n",
       "    </tr>\n",
       "    <tr>\n",
       "      <td>1175</td>\n",
       "      <td>hand_selected_016</td>\n",
       "      <td>9995-aa7dd1d6-ff3f-41e8-ade6-da416e7366c3</td>\n",
       "      <td>5</td>\n",
       "      <td>2</td>\n",
       "      <td>3</td>\n",
       "      <td>5.164964</td>\n",
       "      <td>2 to 3</td>\n",
       "    </tr>\n",
       "  </tbody>\n",
       "</table>\n",
       "<p>1176 rows × 7 columns</p>\n",
       "</div>"
      ],
      "text/plain": [
       "             targetName                                     gameID  level_2  \\\n",
       "0     hand_selected_004  0443-fd078367-c19d-495d-84d5-3519a281435d        0   \n",
       "1     hand_selected_004  0443-fd078367-c19d-495d-84d5-3519a281435d        1   \n",
       "2     hand_selected_004  0443-fd078367-c19d-495d-84d5-3519a281435d        2   \n",
       "3     hand_selected_004  0443-fd078367-c19d-495d-84d5-3519a281435d        3   \n",
       "4     hand_selected_004  0443-fd078367-c19d-495d-84d5-3519a281435d        4   \n",
       "...                 ...                                        ...      ...   \n",
       "1171  hand_selected_016  9995-aa7dd1d6-ff3f-41e8-ade6-da416e7366c3        1   \n",
       "1172  hand_selected_016  9995-aa7dd1d6-ff3f-41e8-ade6-da416e7366c3        2   \n",
       "1173  hand_selected_016  9995-aa7dd1d6-ff3f-41e8-ade6-da416e7366c3        3   \n",
       "1174  hand_selected_016  9995-aa7dd1d6-ff3f-41e8-ade6-da416e7366c3        4   \n",
       "1175  hand_selected_016  9995-aa7dd1d6-ff3f-41e8-ade6-da416e7366c3        5   \n",
       "\n",
       "      rep_a  rep_b  actual_euclidean_distance    reps  \n",
       "0         0      1                   2.711420  0 to 1  \n",
       "1         0      2                   2.490231  0 to 2  \n",
       "2         0      3                   2.340887  0 to 3  \n",
       "3         1      2                   1.272144  1 to 2  \n",
       "4         1      3                   2.222402  1 to 3  \n",
       "...     ...    ...                        ...     ...  \n",
       "1171      0      2                   0.816497  0 to 2  \n",
       "1172      0      3                   4.929865  0 to 3  \n",
       "1173      1      2                   4.572609  1 to 2  \n",
       "1174      1      3                   5.956067  1 to 3  \n",
       "1175      2      3                   5.164964  2 to 3  \n",
       "\n",
       "[1176 rows x 7 columns]"
      ]
     },
     "execution_count": 115,
     "metadata": {},
     "output_type": "execute_result"
    }
   ],
   "source": [
    "# merge these three.\n",
    "# add columns for accuracy, speed etc. in each rep"
   ]
  },
  {
   "cell_type": "code",
   "execution_count": 120,
   "metadata": {},
   "outputs": [
    {
     "data": {
      "text/html": [
       "<div>\n",
       "<style scoped>\n",
       "    .dataframe tbody tr th:only-of-type {\n",
       "        vertical-align: middle;\n",
       "    }\n",
       "\n",
       "    .dataframe tbody tr th {\n",
       "        vertical-align: top;\n",
       "    }\n",
       "\n",
       "    .dataframe thead th {\n",
       "        text-align: right;\n",
       "    }\n",
       "</style>\n",
       "<table border=\"1\" class=\"dataframe\">\n",
       "  <thead>\n",
       "    <tr style=\"text-align: right;\">\n",
       "      <th></th>\n",
       "      <th>targetName</th>\n",
       "      <th>gameID</th>\n",
       "      <th>level_2</th>\n",
       "      <th>rep_a</th>\n",
       "      <th>rep_b</th>\n",
       "      <th>actual_euclidean_distance</th>\n",
       "      <th>reps</th>\n",
       "      <th>optimal_euclidean_distance</th>\n",
       "      <th>temporal_distance</th>\n",
       "    </tr>\n",
       "  </thead>\n",
       "  <tbody>\n",
       "    <tr>\n",
       "      <td>0</td>\n",
       "      <td>hand_selected_004</td>\n",
       "      <td>0443-fd078367-c19d-495d-84d5-3519a281435d</td>\n",
       "      <td>0</td>\n",
       "      <td>0</td>\n",
       "      <td>1</td>\n",
       "      <td>2.711420</td>\n",
       "      <td>0 to 1</td>\n",
       "      <td>0.844291</td>\n",
       "      <td>0.418182</td>\n",
       "    </tr>\n",
       "    <tr>\n",
       "      <td>1</td>\n",
       "      <td>hand_selected_004</td>\n",
       "      <td>0443-fd078367-c19d-495d-84d5-3519a281435d</td>\n",
       "      <td>1</td>\n",
       "      <td>0</td>\n",
       "      <td>2</td>\n",
       "      <td>2.490231</td>\n",
       "      <td>0 to 2</td>\n",
       "      <td>0.844291</td>\n",
       "      <td>0.527273</td>\n",
       "    </tr>\n",
       "    <tr>\n",
       "      <td>2</td>\n",
       "      <td>hand_selected_004</td>\n",
       "      <td>0443-fd078367-c19d-495d-84d5-3519a281435d</td>\n",
       "      <td>2</td>\n",
       "      <td>0</td>\n",
       "      <td>3</td>\n",
       "      <td>2.340887</td>\n",
       "      <td>0 to 3</td>\n",
       "      <td>0.936887</td>\n",
       "      <td>0.757576</td>\n",
       "    </tr>\n",
       "    <tr>\n",
       "      <td>3</td>\n",
       "      <td>hand_selected_004</td>\n",
       "      <td>0443-fd078367-c19d-495d-84d5-3519a281435d</td>\n",
       "      <td>3</td>\n",
       "      <td>1</td>\n",
       "      <td>2</td>\n",
       "      <td>1.272144</td>\n",
       "      <td>1 to 2</td>\n",
       "      <td>0.000000</td>\n",
       "      <td>0.890909</td>\n",
       "    </tr>\n",
       "    <tr>\n",
       "      <td>4</td>\n",
       "      <td>hand_selected_004</td>\n",
       "      <td>0443-fd078367-c19d-495d-84d5-3519a281435d</td>\n",
       "      <td>4</td>\n",
       "      <td>1</td>\n",
       "      <td>3</td>\n",
       "      <td>2.222402</td>\n",
       "      <td>1 to 3</td>\n",
       "      <td>0.824643</td>\n",
       "      <td>0.418182</td>\n",
       "    </tr>\n",
       "    <tr>\n",
       "      <td>...</td>\n",
       "      <td>...</td>\n",
       "      <td>...</td>\n",
       "      <td>...</td>\n",
       "      <td>...</td>\n",
       "      <td>...</td>\n",
       "      <td>...</td>\n",
       "      <td>...</td>\n",
       "      <td>...</td>\n",
       "      <td>...</td>\n",
       "    </tr>\n",
       "    <tr>\n",
       "      <td>1171</td>\n",
       "      <td>hand_selected_016</td>\n",
       "      <td>9995-aa7dd1d6-ff3f-41e8-ade6-da416e7366c3</td>\n",
       "      <td>1</td>\n",
       "      <td>0</td>\n",
       "      <td>2</td>\n",
       "      <td>0.816497</td>\n",
       "      <td>0 to 2</td>\n",
       "      <td>0.000000</td>\n",
       "      <td>0.866667</td>\n",
       "    </tr>\n",
       "    <tr>\n",
       "      <td>1172</td>\n",
       "      <td>hand_selected_016</td>\n",
       "      <td>9995-aa7dd1d6-ff3f-41e8-ade6-da416e7366c3</td>\n",
       "      <td>2</td>\n",
       "      <td>0</td>\n",
       "      <td>3</td>\n",
       "      <td>4.929865</td>\n",
       "      <td>0 to 3</td>\n",
       "      <td>1.746204</td>\n",
       "      <td>-0.200000</td>\n",
       "    </tr>\n",
       "    <tr>\n",
       "      <td>1173</td>\n",
       "      <td>hand_selected_016</td>\n",
       "      <td>9995-aa7dd1d6-ff3f-41e8-ade6-da416e7366c3</td>\n",
       "      <td>3</td>\n",
       "      <td>1</td>\n",
       "      <td>2</td>\n",
       "      <td>4.572609</td>\n",
       "      <td>1 to 2</td>\n",
       "      <td>2.793158</td>\n",
       "      <td>0.238095</td>\n",
       "    </tr>\n",
       "    <tr>\n",
       "      <td>1174</td>\n",
       "      <td>hand_selected_016</td>\n",
       "      <td>9995-aa7dd1d6-ff3f-41e8-ade6-da416e7366c3</td>\n",
       "      <td>4</td>\n",
       "      <td>1</td>\n",
       "      <td>3</td>\n",
       "      <td>5.956067</td>\n",
       "      <td>1 to 3</td>\n",
       "      <td>1.320706</td>\n",
       "      <td>-0.222222</td>\n",
       "    </tr>\n",
       "    <tr>\n",
       "      <td>1175</td>\n",
       "      <td>hand_selected_016</td>\n",
       "      <td>9995-aa7dd1d6-ff3f-41e8-ade6-da416e7366c3</td>\n",
       "      <td>5</td>\n",
       "      <td>2</td>\n",
       "      <td>3</td>\n",
       "      <td>5.164964</td>\n",
       "      <td>2 to 3</td>\n",
       "      <td>2.278692</td>\n",
       "      <td>-0.047619</td>\n",
       "    </tr>\n",
       "  </tbody>\n",
       "</table>\n",
       "<p>1176 rows × 9 columns</p>\n",
       "</div>"
      ],
      "text/plain": [
       "             targetName                                     gameID  level_2  \\\n",
       "0     hand_selected_004  0443-fd078367-c19d-495d-84d5-3519a281435d        0   \n",
       "1     hand_selected_004  0443-fd078367-c19d-495d-84d5-3519a281435d        1   \n",
       "2     hand_selected_004  0443-fd078367-c19d-495d-84d5-3519a281435d        2   \n",
       "3     hand_selected_004  0443-fd078367-c19d-495d-84d5-3519a281435d        3   \n",
       "4     hand_selected_004  0443-fd078367-c19d-495d-84d5-3519a281435d        4   \n",
       "...                 ...                                        ...      ...   \n",
       "1171  hand_selected_016  9995-aa7dd1d6-ff3f-41e8-ade6-da416e7366c3        1   \n",
       "1172  hand_selected_016  9995-aa7dd1d6-ff3f-41e8-ade6-da416e7366c3        2   \n",
       "1173  hand_selected_016  9995-aa7dd1d6-ff3f-41e8-ade6-da416e7366c3        3   \n",
       "1174  hand_selected_016  9995-aa7dd1d6-ff3f-41e8-ade6-da416e7366c3        4   \n",
       "1175  hand_selected_016  9995-aa7dd1d6-ff3f-41e8-ade6-da416e7366c3        5   \n",
       "\n",
       "      rep_a  rep_b  actual_euclidean_distance    reps  \\\n",
       "0         0      1                   2.711420  0 to 1   \n",
       "1         0      2                   2.490231  0 to 2   \n",
       "2         0      3                   2.340887  0 to 3   \n",
       "3         1      2                   1.272144  1 to 2   \n",
       "4         1      3                   2.222402  1 to 3   \n",
       "...     ...    ...                        ...     ...   \n",
       "1171      0      2                   0.816497  0 to 2   \n",
       "1172      0      3                   4.929865  0 to 3   \n",
       "1173      1      2                   4.572609  1 to 2   \n",
       "1174      1      3                   5.956067  1 to 3   \n",
       "1175      2      3                   5.164964  2 to 3   \n",
       "\n",
       "      optimal_euclidean_distance  temporal_distance  \n",
       "0                       0.844291           0.418182  \n",
       "1                       0.844291           0.527273  \n",
       "2                       0.936887           0.757576  \n",
       "3                       0.000000           0.890909  \n",
       "4                       0.824643           0.418182  \n",
       "...                          ...                ...  \n",
       "1171                    0.000000           0.866667  \n",
       "1172                    1.746204          -0.200000  \n",
       "1173                    2.793158           0.238095  \n",
       "1174                    1.320706          -0.222222  \n",
       "1175                    2.278692          -0.047619  \n",
       "\n",
       "[1176 rows x 9 columns]"
      ]
     },
     "execution_count": 120,
     "metadata": {},
     "output_type": "execute_result"
    }
   ],
   "source": [
    "df_out = df_euc.merge(df_opt, how='left').merge(df_time, how='left')\n",
    "df_out"
   ]
  },
  {
   "cell_type": "code",
   "execution_count": 131,
   "metadata": {},
   "outputs": [],
   "source": [
    "phases = ['pre', 'repetition 1', 'repetition 2', 'post']"
   ]
  },
  {
   "cell_type": "code",
   "execution_count": 153,
   "metadata": {},
   "outputs": [],
   "source": [
    "df_out['rep_a_rawF1DiscreteScore'] = df_out.apply(lambda row: df[(df.targetName == row.targetName) &\n",
    "                            (df.gameID == row.gameID) &\n",
    "                            (df.phase_extended == phases[row.rep_a])]['rawF1DiscreteScore'].values[0],\n",
    "             axis = 1)\n",
    "\n",
    "df_out['rep_b_rawF1DiscreteScore'] = df_out.apply(lambda row: df[(df.targetName == row.targetName) &\n",
    "                            (df.gameID == row.gameID) &\n",
    "                            (df.phase_extended == phases[row.rep_b])]['rawF1DiscreteScore'].values[0],\n",
    "             axis = 1)"
   ]
  },
  {
   "cell_type": "code",
   "execution_count": 154,
   "metadata": {},
   "outputs": [
    {
     "data": {
      "text/html": [
       "<div>\n",
       "<style scoped>\n",
       "    .dataframe tbody tr th:only-of-type {\n",
       "        vertical-align: middle;\n",
       "    }\n",
       "\n",
       "    .dataframe tbody tr th {\n",
       "        vertical-align: top;\n",
       "    }\n",
       "\n",
       "    .dataframe thead th {\n",
       "        text-align: right;\n",
       "    }\n",
       "</style>\n",
       "<table border=\"1\" class=\"dataframe\">\n",
       "  <thead>\n",
       "    <tr style=\"text-align: right;\">\n",
       "      <th></th>\n",
       "      <th>targetName</th>\n",
       "      <th>gameID</th>\n",
       "      <th>level_2</th>\n",
       "      <th>rep_a</th>\n",
       "      <th>rep_b</th>\n",
       "      <th>actual_euclidean_distance</th>\n",
       "      <th>reps</th>\n",
       "      <th>optimal_euclidean_distance</th>\n",
       "      <th>temporal_distance</th>\n",
       "      <th>rep_a_rawF1DiscreteScore</th>\n",
       "      <th>rep_b_rawF1DiscreteScore</th>\n",
       "    </tr>\n",
       "  </thead>\n",
       "  <tbody>\n",
       "    <tr>\n",
       "      <td>0</td>\n",
       "      <td>hand_selected_004</td>\n",
       "      <td>0443-fd078367-c19d-495d-84d5-3519a281435d</td>\n",
       "      <td>0</td>\n",
       "      <td>0</td>\n",
       "      <td>1</td>\n",
       "      <td>2.711420</td>\n",
       "      <td>0 to 1</td>\n",
       "      <td>0.844291</td>\n",
       "      <td>0.418182</td>\n",
       "      <td>0.945455</td>\n",
       "      <td>1.000000</td>\n",
       "    </tr>\n",
       "    <tr>\n",
       "      <td>1</td>\n",
       "      <td>hand_selected_004</td>\n",
       "      <td>0443-fd078367-c19d-495d-84d5-3519a281435d</td>\n",
       "      <td>1</td>\n",
       "      <td>0</td>\n",
       "      <td>2</td>\n",
       "      <td>2.490231</td>\n",
       "      <td>0 to 2</td>\n",
       "      <td>0.844291</td>\n",
       "      <td>0.527273</td>\n",
       "      <td>0.945455</td>\n",
       "      <td>1.000000</td>\n",
       "    </tr>\n",
       "    <tr>\n",
       "      <td>2</td>\n",
       "      <td>hand_selected_004</td>\n",
       "      <td>0443-fd078367-c19d-495d-84d5-3519a281435d</td>\n",
       "      <td>2</td>\n",
       "      <td>0</td>\n",
       "      <td>3</td>\n",
       "      <td>2.340887</td>\n",
       "      <td>0 to 3</td>\n",
       "      <td>0.936887</td>\n",
       "      <td>0.757576</td>\n",
       "      <td>0.945455</td>\n",
       "      <td>1.000000</td>\n",
       "    </tr>\n",
       "    <tr>\n",
       "      <td>3</td>\n",
       "      <td>hand_selected_004</td>\n",
       "      <td>0443-fd078367-c19d-495d-84d5-3519a281435d</td>\n",
       "      <td>3</td>\n",
       "      <td>1</td>\n",
       "      <td>2</td>\n",
       "      <td>1.272144</td>\n",
       "      <td>1 to 2</td>\n",
       "      <td>0.000000</td>\n",
       "      <td>0.890909</td>\n",
       "      <td>1.000000</td>\n",
       "      <td>1.000000</td>\n",
       "    </tr>\n",
       "    <tr>\n",
       "      <td>4</td>\n",
       "      <td>hand_selected_004</td>\n",
       "      <td>0443-fd078367-c19d-495d-84d5-3519a281435d</td>\n",
       "      <td>4</td>\n",
       "      <td>1</td>\n",
       "      <td>3</td>\n",
       "      <td>2.222402</td>\n",
       "      <td>1 to 3</td>\n",
       "      <td>0.824643</td>\n",
       "      <td>0.418182</td>\n",
       "      <td>1.000000</td>\n",
       "      <td>1.000000</td>\n",
       "    </tr>\n",
       "    <tr>\n",
       "      <td>...</td>\n",
       "      <td>...</td>\n",
       "      <td>...</td>\n",
       "      <td>...</td>\n",
       "      <td>...</td>\n",
       "      <td>...</td>\n",
       "      <td>...</td>\n",
       "      <td>...</td>\n",
       "      <td>...</td>\n",
       "      <td>...</td>\n",
       "      <td>...</td>\n",
       "      <td>...</td>\n",
       "    </tr>\n",
       "    <tr>\n",
       "      <td>1171</td>\n",
       "      <td>hand_selected_016</td>\n",
       "      <td>9995-aa7dd1d6-ff3f-41e8-ade6-da416e7366c3</td>\n",
       "      <td>1</td>\n",
       "      <td>0</td>\n",
       "      <td>2</td>\n",
       "      <td>0.816497</td>\n",
       "      <td>0 to 2</td>\n",
       "      <td>0.000000</td>\n",
       "      <td>0.866667</td>\n",
       "      <td>0.657143</td>\n",
       "      <td>0.694444</td>\n",
       "    </tr>\n",
       "    <tr>\n",
       "      <td>1172</td>\n",
       "      <td>hand_selected_016</td>\n",
       "      <td>9995-aa7dd1d6-ff3f-41e8-ade6-da416e7366c3</td>\n",
       "      <td>2</td>\n",
       "      <td>0</td>\n",
       "      <td>3</td>\n",
       "      <td>4.929865</td>\n",
       "      <td>0 to 3</td>\n",
       "      <td>1.746204</td>\n",
       "      <td>-0.200000</td>\n",
       "      <td>0.657143</td>\n",
       "      <td>0.755556</td>\n",
       "    </tr>\n",
       "    <tr>\n",
       "      <td>1173</td>\n",
       "      <td>hand_selected_016</td>\n",
       "      <td>9995-aa7dd1d6-ff3f-41e8-ade6-da416e7366c3</td>\n",
       "      <td>3</td>\n",
       "      <td>1</td>\n",
       "      <td>2</td>\n",
       "      <td>4.572609</td>\n",
       "      <td>1 to 2</td>\n",
       "      <td>2.793158</td>\n",
       "      <td>0.238095</td>\n",
       "      <td>0.750000</td>\n",
       "      <td>0.694444</td>\n",
       "    </tr>\n",
       "    <tr>\n",
       "      <td>1174</td>\n",
       "      <td>hand_selected_016</td>\n",
       "      <td>9995-aa7dd1d6-ff3f-41e8-ade6-da416e7366c3</td>\n",
       "      <td>4</td>\n",
       "      <td>1</td>\n",
       "      <td>3</td>\n",
       "      <td>5.956067</td>\n",
       "      <td>1 to 3</td>\n",
       "      <td>1.320706</td>\n",
       "      <td>-0.222222</td>\n",
       "      <td>0.750000</td>\n",
       "      <td>0.755556</td>\n",
       "    </tr>\n",
       "    <tr>\n",
       "      <td>1175</td>\n",
       "      <td>hand_selected_016</td>\n",
       "      <td>9995-aa7dd1d6-ff3f-41e8-ade6-da416e7366c3</td>\n",
       "      <td>5</td>\n",
       "      <td>2</td>\n",
       "      <td>3</td>\n",
       "      <td>5.164964</td>\n",
       "      <td>2 to 3</td>\n",
       "      <td>2.278692</td>\n",
       "      <td>-0.047619</td>\n",
       "      <td>0.694444</td>\n",
       "      <td>0.755556</td>\n",
       "    </tr>\n",
       "  </tbody>\n",
       "</table>\n",
       "<p>1176 rows × 11 columns</p>\n",
       "</div>"
      ],
      "text/plain": [
       "             targetName                                     gameID  level_2  \\\n",
       "0     hand_selected_004  0443-fd078367-c19d-495d-84d5-3519a281435d        0   \n",
       "1     hand_selected_004  0443-fd078367-c19d-495d-84d5-3519a281435d        1   \n",
       "2     hand_selected_004  0443-fd078367-c19d-495d-84d5-3519a281435d        2   \n",
       "3     hand_selected_004  0443-fd078367-c19d-495d-84d5-3519a281435d        3   \n",
       "4     hand_selected_004  0443-fd078367-c19d-495d-84d5-3519a281435d        4   \n",
       "...                 ...                                        ...      ...   \n",
       "1171  hand_selected_016  9995-aa7dd1d6-ff3f-41e8-ade6-da416e7366c3        1   \n",
       "1172  hand_selected_016  9995-aa7dd1d6-ff3f-41e8-ade6-da416e7366c3        2   \n",
       "1173  hand_selected_016  9995-aa7dd1d6-ff3f-41e8-ade6-da416e7366c3        3   \n",
       "1174  hand_selected_016  9995-aa7dd1d6-ff3f-41e8-ade6-da416e7366c3        4   \n",
       "1175  hand_selected_016  9995-aa7dd1d6-ff3f-41e8-ade6-da416e7366c3        5   \n",
       "\n",
       "      rep_a  rep_b  actual_euclidean_distance    reps  \\\n",
       "0         0      1                   2.711420  0 to 1   \n",
       "1         0      2                   2.490231  0 to 2   \n",
       "2         0      3                   2.340887  0 to 3   \n",
       "3         1      2                   1.272144  1 to 2   \n",
       "4         1      3                   2.222402  1 to 3   \n",
       "...     ...    ...                        ...     ...   \n",
       "1171      0      2                   0.816497  0 to 2   \n",
       "1172      0      3                   4.929865  0 to 3   \n",
       "1173      1      2                   4.572609  1 to 2   \n",
       "1174      1      3                   5.956067  1 to 3   \n",
       "1175      2      3                   5.164964  2 to 3   \n",
       "\n",
       "      optimal_euclidean_distance  temporal_distance  rep_a_rawF1DiscreteScore  \\\n",
       "0                       0.844291           0.418182                  0.945455   \n",
       "1                       0.844291           0.527273                  0.945455   \n",
       "2                       0.936887           0.757576                  0.945455   \n",
       "3                       0.000000           0.890909                  1.000000   \n",
       "4                       0.824643           0.418182                  1.000000   \n",
       "...                          ...                ...                       ...   \n",
       "1171                    0.000000           0.866667                  0.657143   \n",
       "1172                    1.746204          -0.200000                  0.657143   \n",
       "1173                    2.793158           0.238095                  0.750000   \n",
       "1174                    1.320706          -0.222222                  0.750000   \n",
       "1175                    2.278692          -0.047619                  0.694444   \n",
       "\n",
       "      rep_b_rawF1DiscreteScore  \n",
       "0                     1.000000  \n",
       "1                     1.000000  \n",
       "2                     1.000000  \n",
       "3                     1.000000  \n",
       "4                     1.000000  \n",
       "...                        ...  \n",
       "1171                  0.694444  \n",
       "1172                  0.755556  \n",
       "1173                  0.694444  \n",
       "1174                  0.755556  \n",
       "1175                  0.755556  \n",
       "\n",
       "[1176 rows x 11 columns]"
      ]
     },
     "execution_count": 154,
     "metadata": {},
     "output_type": "execute_result"
    }
   ],
   "source": [
    "df_out"
   ]
  },
  {
   "cell_type": "code",
   "execution_count": 121,
   "metadata": {},
   "outputs": [],
   "source": [
    "out_path = os.path.join(csv_dir,'block_silhouette_{}_rep_distances.csv'.format(iteration_name))\n",
    "df_out.to_csv(out_path)"
   ]
  },
  {
   "cell_type": "code",
   "execution_count": 16,
   "metadata": {},
   "outputs": [],
   "source": [
    "targets = np.sort(df['targetName'].unique())"
   ]
  },
  {
   "cell_type": "code",
   "execution_count": 17,
   "metadata": {
    "scrolled": false
   },
   "outputs": [
    {
     "data": {
      "image/png": "[encoded data removed]",
      "text/plain": [
       "<Figure size 432x288 with 1 Axes>"
      ]
     },
     "metadata": {
      "needs_background": "light"
     },
     "output_type": "display_data"
    },
    {
     "data": {
      "image/png": "[encoded data removed]",
      "text/plain": [
       "<Figure size 432x288 with 1 Axes>"
      ]
     },
     "metadata": {
      "needs_background": "light"
     },
     "output_type": "display_data"
    },
    {
     "data": {
      "image/png": "[encoded data removed]",
      "text/plain": [
       "<Figure size 432x288 with 1 Axes>"
      ]
     },
     "metadata": {
      "needs_background": "light"
     },
     "output_type": "display_data"
    },
    {
     "data": {
      "image/png": "[encoded data removed]",
      "text/plain": [
       "<Figure size 432x288 with 1 Axes>"
      ]
     },
     "metadata": {
      "needs_background": "light"
     },
     "output_type": "display_data"
    },
    {
     "data": {
      "image/png": "[encoded data removed]",
      "text/plain": [
       "<Figure size 432x288 with 1 Axes>"
      ]
     },
     "metadata": {
      "needs_background": "light"
     },
     "output_type": "display_data"
    },
    {
     "data": {
      "image/png": "[encoded data removed]",
      "text/plain": [
       "<Figure size 432x288 with 1 Axes>"
      ]
     },
     "metadata": {
      "needs_background": "light"
     },
     "output_type": "display_data"
    },
    {
     "data": {
      "image/png": "[encoded data removed]",
      "text/plain": [
       "<Figure size 432x288 with 1 Axes>"
      ]
     },
     "metadata": {
      "needs_background": "light"
     },
     "output_type": "display_data"
    },
    {
     "data": {
      "image/png": "[encoded data removed]",
      "text/plain": [
       "<Figure size 432x288 with 1 Axes>"
      ]
     },
     "metadata": {
      "needs_background": "light"
     },
     "output_type": "display_data"
    }
   ],
   "source": [
    "for target_name in targets:\n",
    "    silhouette = 1*np.logical_not(target_maps[target_name])\n",
    "    silhouette = np.rot90(silhouette)\n",
    "    fig, ax = plt.subplots()\n",
    "    ax.axis('off')\n",
    "    ax.imshow(silhouette)"
   ]
  },
  {
   "cell_type": "code",
   "execution_count": 254,
   "metadata": {
    "scrolled": true
   },
   "outputs": [
    {
     "data": {
      "text/html": [
       "<div>\n",
       "<style scoped>\n",
       "    .dataframe tbody tr th:only-of-type {\n",
       "        vertical-align: middle;\n",
       "    }\n",
       "\n",
       "    .dataframe tbody tr th {\n",
       "        vertical-align: top;\n",
       "    }\n",
       "\n",
       "    .dataframe thead th {\n",
       "        text-align: right;\n",
       "    }\n",
       "</style>\n",
       "<table border=\"1\" class=\"dataframe\">\n",
       "  <thead>\n",
       "    <tr style=\"text-align: right;\">\n",
       "      <th></th>\n",
       "      <th>targetName</th>\n",
       "      <th>gameID</th>\n",
       "      <th>level_2</th>\n",
       "      <th>rep_a</th>\n",
       "      <th>rep_b</th>\n",
       "      <th>displacement</th>\n",
       "      <th>reps</th>\n",
       "    </tr>\n",
       "  </thead>\n",
       "  <tbody>\n",
       "    <tr>\n",
       "      <th>156</th>\n",
       "      <td>hand_selected_005</td>\n",
       "      <td>0622-493f8d2b-4aa3-4b1c-ad92-f6014b9fc709</td>\n",
       "      <td>0</td>\n",
       "      <td>0</td>\n",
       "      <td>1</td>\n",
       "      <td>0.000000</td>\n",
       "      <td>0 to 1</td>\n",
       "    </tr>\n",
       "    <tr>\n",
       "      <th>157</th>\n",
       "      <td>hand_selected_005</td>\n",
       "      <td>0622-493f8d2b-4aa3-4b1c-ad92-f6014b9fc709</td>\n",
       "      <td>1</td>\n",
       "      <td>0</td>\n",
       "      <td>2</td>\n",
       "      <td>0.055556</td>\n",
       "      <td>0 to 2</td>\n",
       "    </tr>\n",
       "    <tr>\n",
       "      <th>158</th>\n",
       "      <td>hand_selected_005</td>\n",
       "      <td>0622-493f8d2b-4aa3-4b1c-ad92-f6014b9fc709</td>\n",
       "      <td>2</td>\n",
       "      <td>0</td>\n",
       "      <td>3</td>\n",
       "      <td>0.111111</td>\n",
       "      <td>0 to 3</td>\n",
       "    </tr>\n",
       "    <tr>\n",
       "      <th>159</th>\n",
       "      <td>hand_selected_005</td>\n",
       "      <td>0622-493f8d2b-4aa3-4b1c-ad92-f6014b9fc709</td>\n",
       "      <td>3</td>\n",
       "      <td>1</td>\n",
       "      <td>2</td>\n",
       "      <td>0.098765</td>\n",
       "      <td>1 to 2</td>\n",
       "    </tr>\n",
       "    <tr>\n",
       "      <th>160</th>\n",
       "      <td>hand_selected_005</td>\n",
       "      <td>0622-493f8d2b-4aa3-4b1c-ad92-f6014b9fc709</td>\n",
       "      <td>4</td>\n",
       "      <td>1</td>\n",
       "      <td>3</td>\n",
       "      <td>0.100000</td>\n",
       "      <td>1 to 3</td>\n",
       "    </tr>\n",
       "    <tr>\n",
       "      <th>161</th>\n",
       "      <td>hand_selected_005</td>\n",
       "      <td>0622-493f8d2b-4aa3-4b1c-ad92-f6014b9fc709</td>\n",
       "      <td>5</td>\n",
       "      <td>2</td>\n",
       "      <td>3</td>\n",
       "      <td>0.049383</td>\n",
       "      <td>2 to 3</td>\n",
       "    </tr>\n",
       "    <tr>\n",
       "      <th>300</th>\n",
       "      <td>hand_selected_006</td>\n",
       "      <td>0622-493f8d2b-4aa3-4b1c-ad92-f6014b9fc709</td>\n",
       "      <td>0</td>\n",
       "      <td>0</td>\n",
       "      <td>1</td>\n",
       "      <td>0.160000</td>\n",
       "      <td>0 to 1</td>\n",
       "    </tr>\n",
       "    <tr>\n",
       "      <th>301</th>\n",
       "      <td>hand_selected_006</td>\n",
       "      <td>0622-493f8d2b-4aa3-4b1c-ad92-f6014b9fc709</td>\n",
       "      <td>1</td>\n",
       "      <td>0</td>\n",
       "      <td>2</td>\n",
       "      <td>0.326531</td>\n",
       "      <td>0 to 2</td>\n",
       "    </tr>\n",
       "    <tr>\n",
       "      <th>302</th>\n",
       "      <td>hand_selected_006</td>\n",
       "      <td>0622-493f8d2b-4aa3-4b1c-ad92-f6014b9fc709</td>\n",
       "      <td>2</td>\n",
       "      <td>0</td>\n",
       "      <td>3</td>\n",
       "      <td>0.285714</td>\n",
       "      <td>0 to 3</td>\n",
       "    </tr>\n",
       "    <tr>\n",
       "      <th>303</th>\n",
       "      <td>hand_selected_006</td>\n",
       "      <td>0622-493f8d2b-4aa3-4b1c-ad92-f6014b9fc709</td>\n",
       "      <td>3</td>\n",
       "      <td>1</td>\n",
       "      <td>2</td>\n",
       "      <td>0.320000</td>\n",
       "      <td>1 to 2</td>\n",
       "    </tr>\n",
       "    <tr>\n",
       "      <th>304</th>\n",
       "      <td>hand_selected_006</td>\n",
       "      <td>0622-493f8d2b-4aa3-4b1c-ad92-f6014b9fc709</td>\n",
       "      <td>4</td>\n",
       "      <td>1</td>\n",
       "      <td>3</td>\n",
       "      <td>0.320000</td>\n",
       "      <td>1 to 3</td>\n",
       "    </tr>\n",
       "    <tr>\n",
       "      <th>305</th>\n",
       "      <td>hand_selected_006</td>\n",
       "      <td>0622-493f8d2b-4aa3-4b1c-ad92-f6014b9fc709</td>\n",
       "      <td>5</td>\n",
       "      <td>2</td>\n",
       "      <td>3</td>\n",
       "      <td>0.062500</td>\n",
       "      <td>2 to 3</td>\n",
       "    </tr>\n",
       "    <tr>\n",
       "      <th>612</th>\n",
       "      <td>hand_selected_009</td>\n",
       "      <td>0622-493f8d2b-4aa3-4b1c-ad92-f6014b9fc709</td>\n",
       "      <td>0</td>\n",
       "      <td>0</td>\n",
       "      <td>1</td>\n",
       "      <td>0.244898</td>\n",
       "      <td>0 to 1</td>\n",
       "    </tr>\n",
       "    <tr>\n",
       "      <th>613</th>\n",
       "      <td>hand_selected_009</td>\n",
       "      <td>0622-493f8d2b-4aa3-4b1c-ad92-f6014b9fc709</td>\n",
       "      <td>1</td>\n",
       "      <td>0</td>\n",
       "      <td>2</td>\n",
       "      <td>0.326531</td>\n",
       "      <td>0 to 2</td>\n",
       "    </tr>\n",
       "    <tr>\n",
       "      <th>614</th>\n",
       "      <td>hand_selected_009</td>\n",
       "      <td>0622-493f8d2b-4aa3-4b1c-ad92-f6014b9fc709</td>\n",
       "      <td>2</td>\n",
       "      <td>0</td>\n",
       "      <td>3</td>\n",
       "      <td>0.285714</td>\n",
       "      <td>0 to 3</td>\n",
       "    </tr>\n",
       "    <tr>\n",
       "      <th>615</th>\n",
       "      <td>hand_selected_009</td>\n",
       "      <td>0622-493f8d2b-4aa3-4b1c-ad92-f6014b9fc709</td>\n",
       "      <td>3</td>\n",
       "      <td>1</td>\n",
       "      <td>2</td>\n",
       "      <td>0.280992</td>\n",
       "      <td>1 to 2</td>\n",
       "    </tr>\n",
       "    <tr>\n",
       "      <th>616</th>\n",
       "      <td>hand_selected_009</td>\n",
       "      <td>0622-493f8d2b-4aa3-4b1c-ad92-f6014b9fc709</td>\n",
       "      <td>4</td>\n",
       "      <td>1</td>\n",
       "      <td>3</td>\n",
       "      <td>0.120000</td>\n",
       "      <td>1 to 3</td>\n",
       "    </tr>\n",
       "    <tr>\n",
       "      <th>617</th>\n",
       "      <td>hand_selected_009</td>\n",
       "      <td>0622-493f8d2b-4aa3-4b1c-ad92-f6014b9fc709</td>\n",
       "      <td>5</td>\n",
       "      <td>2</td>\n",
       "      <td>3</td>\n",
       "      <td>0.140000</td>\n",
       "      <td>2 to 3</td>\n",
       "    </tr>\n",
       "    <tr>\n",
       "      <th>756</th>\n",
       "      <td>hand_selected_011</td>\n",
       "      <td>0622-493f8d2b-4aa3-4b1c-ad92-f6014b9fc709</td>\n",
       "      <td>0</td>\n",
       "      <td>0</td>\n",
       "      <td>1</td>\n",
       "      <td>0.062500</td>\n",
       "      <td>0 to 1</td>\n",
       "    </tr>\n",
       "    <tr>\n",
       "      <th>757</th>\n",
       "      <td>hand_selected_011</td>\n",
       "      <td>0622-493f8d2b-4aa3-4b1c-ad92-f6014b9fc709</td>\n",
       "      <td>1</td>\n",
       "      <td>0</td>\n",
       "      <td>2</td>\n",
       "      <td>0.218750</td>\n",
       "      <td>0 to 2</td>\n",
       "    </tr>\n",
       "    <tr>\n",
       "      <th>758</th>\n",
       "      <td>hand_selected_011</td>\n",
       "      <td>0622-493f8d2b-4aa3-4b1c-ad92-f6014b9fc709</td>\n",
       "      <td>2</td>\n",
       "      <td>0</td>\n",
       "      <td>3</td>\n",
       "      <td>0.156250</td>\n",
       "      <td>0 to 3</td>\n",
       "    </tr>\n",
       "    <tr>\n",
       "      <th>759</th>\n",
       "      <td>hand_selected_011</td>\n",
       "      <td>0622-493f8d2b-4aa3-4b1c-ad92-f6014b9fc709</td>\n",
       "      <td>3</td>\n",
       "      <td>1</td>\n",
       "      <td>2</td>\n",
       "      <td>0.218750</td>\n",
       "      <td>1 to 2</td>\n",
       "    </tr>\n",
       "    <tr>\n",
       "      <th>760</th>\n",
       "      <td>hand_selected_011</td>\n",
       "      <td>0622-493f8d2b-4aa3-4b1c-ad92-f6014b9fc709</td>\n",
       "      <td>4</td>\n",
       "      <td>1</td>\n",
       "      <td>3</td>\n",
       "      <td>0.218750</td>\n",
       "      <td>1 to 3</td>\n",
       "    </tr>\n",
       "    <tr>\n",
       "      <th>761</th>\n",
       "      <td>hand_selected_011</td>\n",
       "      <td>0622-493f8d2b-4aa3-4b1c-ad92-f6014b9fc709</td>\n",
       "      <td>5</td>\n",
       "      <td>2</td>\n",
       "      <td>3</td>\n",
       "      <td>0.208333</td>\n",
       "      <td>2 to 3</td>\n",
       "    </tr>\n",
       "  </tbody>\n",
       "</table>\n",
       "</div>"
      ],
      "text/plain": [
       "            targetName                                     gameID  level_2  \\\n",
       "156  hand_selected_005  0622-493f8d2b-4aa3-4b1c-ad92-f6014b9fc709        0   \n",
       "157  hand_selected_005  0622-493f8d2b-4aa3-4b1c-ad92-f6014b9fc709        1   \n",
       "158  hand_selected_005  0622-493f8d2b-4aa3-4b1c-ad92-f6014b9fc709        2   \n",
       "159  hand_selected_005  0622-493f8d2b-4aa3-4b1c-ad92-f6014b9fc709        3   \n",
       "160  hand_selected_005  0622-493f8d2b-4aa3-4b1c-ad92-f6014b9fc709        4   \n",
       "161  hand_selected_005  0622-493f8d2b-4aa3-4b1c-ad92-f6014b9fc709        5   \n",
       "300  hand_selected_006  0622-493f8d2b-4aa3-4b1c-ad92-f6014b9fc709        0   \n",
       "301  hand_selected_006  0622-493f8d2b-4aa3-4b1c-ad92-f6014b9fc709        1   \n",
       "302  hand_selected_006  0622-493f8d2b-4aa3-4b1c-ad92-f6014b9fc709        2   \n",
       "303  hand_selected_006  0622-493f8d2b-4aa3-4b1c-ad92-f6014b9fc709        3   \n",
       "304  hand_selected_006  0622-493f8d2b-4aa3-4b1c-ad92-f6014b9fc709        4   \n",
       "305  hand_selected_006  0622-493f8d2b-4aa3-4b1c-ad92-f6014b9fc709        5   \n",
       "612  hand_selected_009  0622-493f8d2b-4aa3-4b1c-ad92-f6014b9fc709        0   \n",
       "613  hand_selected_009  0622-493f8d2b-4aa3-4b1c-ad92-f6014b9fc709        1   \n",
       "614  hand_selected_009  0622-493f8d2b-4aa3-4b1c-ad92-f6014b9fc709        2   \n",
       "615  hand_selected_009  0622-493f8d2b-4aa3-4b1c-ad92-f6014b9fc709        3   \n",
       "616  hand_selected_009  0622-493f8d2b-4aa3-4b1c-ad92-f6014b9fc709        4   \n",
       "617  hand_selected_009  0622-493f8d2b-4aa3-4b1c-ad92-f6014b9fc709        5   \n",
       "756  hand_selected_011  0622-493f8d2b-4aa3-4b1c-ad92-f6014b9fc709        0   \n",
       "757  hand_selected_011  0622-493f8d2b-4aa3-4b1c-ad92-f6014b9fc709        1   \n",
       "758  hand_selected_011  0622-493f8d2b-4aa3-4b1c-ad92-f6014b9fc709        2   \n",
       "759  hand_selected_011  0622-493f8d2b-4aa3-4b1c-ad92-f6014b9fc709        3   \n",
       "760  hand_selected_011  0622-493f8d2b-4aa3-4b1c-ad92-f6014b9fc709        4   \n",
       "761  hand_selected_011  0622-493f8d2b-4aa3-4b1c-ad92-f6014b9fc709        5   \n",
       "\n",
       "     rep_a  rep_b  displacement    reps  \n",
       "156      0      1      0.000000  0 to 1  \n",
       "157      0      2      0.055556  0 to 2  \n",
       "158      0      3      0.111111  0 to 3  \n",
       "159      1      2      0.098765  1 to 2  \n",
       "160      1      3      0.100000  1 to 3  \n",
       "161      2      3      0.049383  2 to 3  \n",
       "300      0      1      0.160000  0 to 1  \n",
       "301      0      2      0.326531  0 to 2  \n",
       "302      0      3      0.285714  0 to 3  \n",
       "303      1      2      0.320000  1 to 2  \n",
       "304      1      3      0.320000  1 to 3  \n",
       "305      2      3      0.062500  2 to 3  \n",
       "612      0      1      0.244898  0 to 1  \n",
       "613      0      2      0.326531  0 to 2  \n",
       "614      0      3      0.285714  0 to 3  \n",
       "615      1      2      0.280992  1 to 2  \n",
       "616      1      3      0.120000  1 to 3  \n",
       "617      2      3      0.140000  2 to 3  \n",
       "756      0      1      0.062500  0 to 1  \n",
       "757      0      2      0.218750  0 to 2  \n",
       "758      0      3      0.156250  0 to 3  \n",
       "759      1      2      0.218750  1 to 2  \n",
       "760      1      3      0.218750  1 to 3  \n",
       "761      2      3      0.208333  2 to 3  "
      ]
     },
     "execution_count": 254,
     "metadata": {},
     "output_type": "execute_result"
    }
   ],
   "source": [
    "df_displacements[df_displacements.gameID==ppts[3]]"
   ]
  },
  {
   "cell_type": "code",
   "execution_count": 252,
   "metadata": {},
   "outputs": [
    {
     "data": {
      "text/plain": [
       "array([[[       nan,        nan,        nan,        nan],\n",
       "        [       nan,        nan,        nan,        nan],\n",
       "        [       nan,        nan,        nan,        nan],\n",
       "        [       nan,        nan,        nan,        nan]],\n",
       "\n",
       "       [[       nan, 0.        , 0.05555556, 0.11111111],\n",
       "        [0.        ,        nan, 0.09876543, 0.1       ],\n",
       "        [0.11111111, 0.09876543,        nan, 0.04938272],\n",
       "        [0.11111111, 0.1       , 0.04938272,        nan]],\n",
       "\n",
       "       [[       nan, 0.16      , 0.32653061, 0.28571429],\n",
       "        [0.16      ,        nan, 0.32      , 0.32      ],\n",
       "        [0.32653061, 0.32      ,        nan, 0.0625    ],\n",
       "        [0.28571429, 0.32      , 0.0625    ,        nan]],\n",
       "\n",
       "       [[       nan,        nan,        nan,        nan],\n",
       "        [       nan,        nan,        nan,        nan],\n",
       "        [       nan,        nan,        nan,        nan],\n",
       "        [       nan,        nan,        nan,        nan]],\n",
       "\n",
       "       [[       nan, 0.24489796, 0.32653061, 0.28571429],\n",
       "        [0.24489796,        nan, 0.28099174, 0.12      ],\n",
       "        [0.32653061, 0.28099174,        nan, 0.14      ],\n",
       "        [0.28571429, 0.12      , 0.14      ,        nan]],\n",
       "\n",
       "       [[       nan, 0.0625    , 0.21875   , 0.15625   ],\n",
       "        [0.0625    ,        nan, 0.21875   , 0.21875   ],\n",
       "        [0.21875   , 0.25      ,        nan, 0.20833333],\n",
       "        [0.15625   , 0.21875   , 0.19444444,        nan]],\n",
       "\n",
       "       [[       nan,        nan,        nan,        nan],\n",
       "        [       nan,        nan,        nan,        nan],\n",
       "        [       nan,        nan,        nan,        nan],\n",
       "        [       nan,        nan,        nan,        nan]],\n",
       "\n",
       "       [[       nan,        nan,        nan,        nan],\n",
       "        [       nan,        nan,        nan,        nan],\n",
       "        [       nan,        nan,        nan,        nan],\n",
       "        [       nan,        nan,        nan,        nan]]])"
      ]
     },
     "execution_count": 252,
     "metadata": {},
     "output_type": "execute_result"
    }
   ],
   "source": [
    "displacements[3,:,:,:]"
   ]
  },
  {
   "cell_type": "code",
   "execution_count": null,
   "metadata": {},
   "outputs": [],
   "source": []
  },
  {
   "cell_type": "code",
   "execution_count": null,
   "metadata": {},
   "outputs": [],
   "source": []
  }
 ],
 "metadata": {
  "kernelspec": {
   "display_name": "Python 3",
   "language": "python",
   "name": "python3"
  },
  "language_info": {
   "codemirror_mode": {
    "name": "ipython",
    "version": 3
   },
   "file_extension": ".py",
   "mimetype": "text/x-python",
   "name": "python",
   "nbconvert_exporter": "python",
   "pygments_lexer": "ipython3",
   "version": "3.7.4"
  }
 },
 "nbformat": 4,
 "nbformat_minor": 2
}
