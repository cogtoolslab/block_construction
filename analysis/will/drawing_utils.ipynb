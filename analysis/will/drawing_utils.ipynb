{
 "cells": [
  {
   "cell_type": "code",
   "execution_count": 32,
   "metadata": {},
   "outputs": [],
   "source": [
    "import os\n",
    "import sys\n",
    "import urllib, io\n",
    "\n",
    "from os import listdir\n",
    "from os.path import isfile, join\n",
    "\n",
    "import numpy as np\n",
    "import scipy.stats as stats\n",
    "import pandas as pd\n",
    "from random import random\n",
    "\n",
    "import pymongo as pm\n",
    "from collections import Counter\n",
    "import json\n",
    "import re\n",
    "import ast\n",
    "\n",
    "from PIL import Image, ImageOps, ImageDraw, ImageFont \n",
    "\n",
    "from io import BytesIO\n",
    "import base64\n",
    "\n",
    "import  matplotlib\n",
    "from matplotlib import pylab, mlab, pyplot\n",
    "%matplotlib inline\n",
    "from IPython.core.pylabtools import figsize, getfigs\n",
    "plt = pyplot\n",
    "import matplotlib as mpl\n",
    "mpl.rcParams['pdf.fonttype'] = 42\n",
    "\n",
    "import seaborn as sns\n",
    "sns.set_context('talk')\n",
    "sns.set_style('darkgrid')\n",
    "\n",
    "from IPython.display import clear_output\n",
    "\n",
    "import warnings\n",
    "warnings.filterwarnings(\"ignore\", category=DeprecationWarning)\n",
    "warnings.filterwarnings(\"ignore\", message=\"numpy.dtype size changed\")\n",
    "warnings.filterwarnings(\"ignore\", message=\"numpy.ufunc size changed\")\n",
    "\n",
    "import blockworld_helpers as utils\n"
   ]
  },
  {
   "cell_type": "code",
   "execution_count": 13,
   "metadata": {},
   "outputs": [],
   "source": [
    "## directory & file hierarchy\n",
    "proj_dir = os.path.abspath('../..')\n",
    "datavol_dir = os.path.join(proj_dir,'data')\n",
    "analysis_dir = os.path.abspath(os.path.join(os.getcwd(),'..'))\n",
    "results_dir = os.path.join(proj_dir,'results')\n",
    "stim_dir = os.path.join(proj_dir,'stimuli/interesting_structures')\n",
    "plot_dir = os.path.join(results_dir,'plots')\n",
    "csv_dir = os.path.join(results_dir,'csv')\n",
    "json_dir = os.path.join(results_dir,'json')\n",
    "exp_dir = os.path.abspath(os.path.join(proj_dir,'experiments'))\n",
    "png_dir = os.path.abspath(os.path.join(datavol_dir,'png'))\n",
    "jefan_dir = os.path.join(analysis_dir,'jefan')\n",
    "will_dir = os.path.join(analysis_dir,'will')\n",
    "\n",
    "## add helpers to python path\n",
    "if os.path.join(proj_dir,'stimuli') not in sys.path:\n",
    "    sys.path.append(os.path.join(proj_dir,'stimuli'))\n",
    "    \n",
    "if not os.path.exists(results_dir):\n",
    "    os.makedirs(results_dir)\n",
    "    \n",
    "if not os.path.exists(plot_dir):\n",
    "    os.makedirs(plot_dir)   \n",
    "    \n",
    "if not os.path.exists(csv_dir):\n",
    "    os.makedirs(csv_dir)       "
   ]
  },
  {
   "cell_type": "code",
   "execution_count": 14,
   "metadata": {},
   "outputs": [
    {
     "data": {
      "text/plain": [
       "'/Users/will/GitHub/block_construction'"
      ]
     },
     "execution_count": 14,
     "metadata": {},
     "output_type": "execute_result"
    }
   ],
   "source": []
  },
  {
   "cell_type": "code",
   "execution_count": 4,
   "metadata": {},
   "outputs": [
    {
     "name": "stdout",
     "output_type": "stream",
     "text": [
      "32 participants with score > 0 and full set of trials\n"
     ]
    }
   ],
   "source": [
    "iterationName = 'pilot4'\n",
    "\n",
    "# Trial_end data\n",
    "trial_path = os.path.join(csv_dir,'block_silhouette_{}.csv'.format(iterationName))\n",
    "df = pd.read_csv(trial_path)\n",
    "\n",
    "# Settled_block data\n",
    "settled_path = os.path.join(csv_dir,'block_silhouette_settled_{}.csv'.format(iterationName))\n",
    "dfs = pd.read_csv(settled_path)\n",
    "\n",
    "# Explore_end data\n",
    "explore_path = os.path.join(csv_dir,'block_silhouette_explore_{}.csv'.format(iterationName))\n",
    "dfe = pd.read_csv(explore_path)\n",
    "\n",
    "# Exclude outliers\n",
    "low_scores = df[(df.trialNum == 15) & (df.score == 0)]['gameID']\n",
    "\n",
    "df = df[~df.gameID.isin(low_scores)]\n",
    "dfs = dfs[~dfs.gameID.isin(low_scores)]\n",
    "dfe = dfe[~dfe.gameID.isin(low_scores)]\n",
    "\n",
    "n = df.gameID.nunique()\n",
    "print(str(n) + ' participants with score > 0 and full set of trials')"
   ]
  },
  {
   "cell_type": "code",
   "execution_count": 9,
   "metadata": {},
   "outputs": [],
   "source": [
    "import numpy as np\n",
    "from PIL import Image\n",
    "\n",
    "from matplotlib import pylab, mlab, pyplot\n",
    "import matplotlib.pyplot as plt\n",
    "import matplotlib.image as mpimg\n",
    "from matplotlib.path import Path\n",
    "import matplotlib.patches as patches\n",
    "import copy\n",
    "import json\n",
    "import datetime\n",
    "import random\n",
    "from random import randint\n",
    "import string\n",
    "import os\n",
    "\n",
    "world_size = 900;\n",
    "\n",
    "def patch_for_block(b):\n",
    "    return get_patch(b,color='#29335C')\n",
    "\n",
    "def patches_for_world(blocks):\n",
    "    patches = []\n",
    "    for (b) in blocks:\n",
    "        patches.append(patch_for_block(b))\n",
    "    return patches\n",
    "\n",
    "def draw_world(vertices):\n",
    "    fig = render_blockworld(patches_for_world(vertices)) \n",
    "    return fig\n",
    "\n",
    "def get_patch(verts,\n",
    "              color='orange',\n",
    "              line_width = 0.2):\n",
    "    '''\n",
    "    input:\n",
    "        verts: array or list of (x,y) vertices of convex polygon. \n",
    "                last vertex = first vertex, so len(verts) is num_vertices + 1\n",
    "        color: facecolor\n",
    "        line_width: edge width    \n",
    "    output:\n",
    "        patch matplotlib.path patch object\n",
    "    '''\n",
    "    codes = [1] + [2]*(len(verts)-1)    ## 1 = MOVETO, 2 = LINETO\n",
    "    path = Path(verts,codes)\n",
    "    patch = patches.PathPatch(path, facecolor=color, lw=line_width)\n",
    "    return patch\n",
    "\n",
    "def render_blockworld(patches,\n",
    "                      xlim=(0,world_size),\n",
    "                      ylim=(0,world_size),\n",
    "                      figsize=(4,4)):\n",
    "    \n",
    "    '''\n",
    "    input: \n",
    "        patches: list of patches generated by get_patch() function\n",
    "        xlim, ylim: axis limits\n",
    "        figsize: defaults to square aspect ratio\n",
    "    output:\n",
    "        visualization of block placement\n",
    "    '''\n",
    "    fig = plt.figure(figsize=figsize)\n",
    "    ax = fig.add_subplot(111)\n",
    "    for patch in patches:\n",
    "        ax.add_patch(patch)\n",
    "    ax.set_xlim(xlim)\n",
    "    ax.set_ylim(ylim) \n",
    "    cur_axes = plt.gca()\n",
    "    cur_axes.axes.get_xaxis().set_visible(False)\n",
    "    cur_axes.axes.get_yaxis().set_visible(False)        \n",
    "    #plt.show()\n",
    "    return fig\n",
    "\n",
    "def get_light_df(df_full):\n",
    "    ''' Get most essential columns from dataframe\n",
    "    '''\n",
    "    df_light = df_full[['randID','trialNum','phase','condition','eventType','score','normedScore','numBlocks']]\n",
    "    return df_light\n",
    "\n",
    "def compress_vertices(vert_dict):\n",
    "    '''\n",
    "    '''\n",
    "    vert_list = list(map(lambda block: list(map(lambda corner: (corner['x'],world_size-corner['y']), block)), vert_dict))\n",
    "    return vert_list\n",
    "    \n",
    "def get_world_vertices(row):\n",
    "    ''' Get vertices of this row.\n",
    "    '''\n",
    "    vert_dict = row['allVertices'] # extract dictionary of vertices of blocks \n",
    "    world_verts = compress_vertices(vert_dict) # convert dictionary to list of unlabelled tuples\n",
    "    return world_verts\n",
    "\n",
    "def draw_world_from_row(row):\n",
    "    ''' Renders state of world from one observation\n",
    "    '''\n",
    "    world_verts = get_final_vertices(row)\n",
    "    draw_world(world_verts)\n",
    "\n",
    "#def draw_block_in_context(row):\n",
    "    ''' draw new block in figure showing old blocks in a different color\n",
    "    '''"
   ]
  },
  {
   "cell_type": "code",
   "execution_count": null,
   "metadata": {},
   "outputs": [],
   "source": [
    "# Print all final structure for one participant\n",
    "sub1 = df.head(1).gameID\n",
    "dfSubjectTrials = df[df.gameID.isin(sub1)]\n",
    "for i in range(0,len(dfSubjectTrials)-1):\n",
    "    vert_dict = dfSubjectTrials.loc[dfSubjectTrials.trialNum == i,'allVertices'].apply(ast.literal_eval).values[0]\n",
    "    vertices = compress_vertices(vert_dict)\n",
    "    draw_world(vertices)"
   ]
  },
  {
   "cell_type": "code",
   "execution_count": null,
   "metadata": {},
   "outputs": [],
   "source": [
    "df.targetName.unique()"
   ]
  },
  {
   "cell_type": "code",
   "execution_count": null,
   "metadata": {},
   "outputs": [],
   "source": [
    "# Draw final structure for a participant\n",
    "def drawFinalStructure(df, gameID, target_name):\n",
    "    vert_dict = df.loc[(df.gameID == gameID) & (df.targetName == target_name),'allVertices'].apply(ast.literal_eval).values[0]\n",
    "    vertices = compress_vertices(vert_dict)\n",
    "    draw_world(vertices)"
   ]
  },
  {
   "cell_type": "code",
   "execution_count": 28,
   "metadata": {},
   "outputs": [
    {
     "data": {
      "text/plain": [
       "[[{'x': 444.9290823724809, 'y': 592.8611021306741},\n",
       "  {'x': 664.9290823401551, 'y': 592.8573306851223},\n",
       "  {'x': 664.9309680629308, 'y': 702.8573306689581},\n",
       "  {'x': 444.9309680952569, 'y': 702.8611021145099}],\n",
       " [{'x': 274.3366655207609, 'y': 482.5218391910096},\n",
       "  {'x': 384.3365507618864, 'y': 482.3629463366975},\n",
       "  {'x': 384.65433647051043, 'y': 702.3627168189452},\n",
       "  {'x': 274.65445122938496, 'y': 702.5216096732569}],\n",
       " [{'x': 384.95898366799514, 'y': 483.00717856731546},\n",
       "  {'x': 494.95898206966746, 'y': 482.98842671447994},\n",
       "  {'x': 494.9777339225031, 'y': 592.9884251161509},\n",
       "  {'x': 384.9777355208309, 'y': 593.0071769689883}],\n",
       " [{'x': 553.8928767222659, 'y': 482.9182103280854},\n",
       "  {'x': 663.8924048129923, 'y': 483.240421155894},\n",
       "  {'x': 663.5701939851839, 'y': 593.2399492466188},\n",
       "  {'x': 553.5706658944575, 'y': 592.9177384188101}],\n",
       " [{'x': 492.7970162280978, 'y': 373.09971403671835},\n",
       "  {'x': 712.7965668578886, 'y': 373.54437423322247},\n",
       "  {'x': 712.574236759636, 'y': 483.5441495481178},\n",
       "  {'x': 492.5746861298456, 'y': 483.09948935161367}],\n",
       " [{'x': 495.0455760533189, 'y': 263.23099138995354},\n",
       "  {'x': 715.0452025609712, 'y': 263.6363757668096},\n",
       "  {'x': 714.8425103725434, 'y': 373.63618902063655},\n",
       "  {'x': 494.84288386489106, 'y': 373.23080464378063}],\n",
       " [{'x': 378.04689039220426, 'y': 262.28382797950803},\n",
       "  {'x': 488.0437034997182, 'y': 263.1211488204649},\n",
       "  {'x': 486.3690618178045, 'y': 483.1147750354927},\n",
       "  {'x': 376.37224871029053, 'y': 482.27745419453584}]]"
      ]
     },
     "execution_count": 28,
     "metadata": {},
     "output_type": "execute_result"
    }
   ],
   "source": [
    "gameID = ppts[0]\n",
    "df.loc[(df.gameID == gameID) & (df.targetName == target_name),'allVertices'].apply(ast.literal_eval).values[0]"
   ]
  },
  {
   "cell_type": "code",
   "execution_count": 27,
   "metadata": {
    "scrolled": false
   },
   "outputs": [
    {
     "ename": "NameError",
     "evalue": "name 'drawFinalStructure' is not defined",
     "output_type": "error",
     "traceback": [
      "\u001b[0;31m---------------------------------------------------------------------------\u001b[0m",
      "\u001b[0;31mNameError\u001b[0m                                 Traceback (most recent call last)",
      "\u001b[0;32m<ipython-input-27-25879fd8baeb>\u001b[0m in \u001b[0;36m<module>\u001b[0;34m\u001b[0m\n\u001b[1;32m      7\u001b[0m \u001b[0;32mfor\u001b[0m \u001b[0mi\u001b[0m \u001b[0;32min\u001b[0m \u001b[0mrange\u001b[0m\u001b[0;34m(\u001b[0m\u001b[0;36m0\u001b[0m\u001b[0;34m,\u001b[0m\u001b[0mlen\u001b[0m\u001b[0;34m(\u001b[0m\u001b[0mdf\u001b[0m\u001b[0;34m.\u001b[0m\u001b[0mgameID\u001b[0m\u001b[0;34m.\u001b[0m\u001b[0munique\u001b[0m\u001b[0;34m(\u001b[0m\u001b[0;34m)\u001b[0m\u001b[0;34m)\u001b[0m\u001b[0;34m-\u001b[0m\u001b[0;36m1\u001b[0m\u001b[0;34m)\u001b[0m\u001b[0;34m:\u001b[0m\u001b[0;34m\u001b[0m\u001b[0;34m\u001b[0m\u001b[0m\n\u001b[1;32m      8\u001b[0m     \u001b[0mgameID\u001b[0m \u001b[0;34m=\u001b[0m \u001b[0mppts\u001b[0m\u001b[0;34m[\u001b[0m\u001b[0mi\u001b[0m\u001b[0;34m]\u001b[0m\u001b[0;34m\u001b[0m\u001b[0;34m\u001b[0m\u001b[0m\n\u001b[0;32m----> 9\u001b[0;31m     \u001b[0mdrawFinalStructure\u001b[0m\u001b[0;34m(\u001b[0m\u001b[0mdf\u001b[0m\u001b[0;34m,\u001b[0m\u001b[0mgameID\u001b[0m\u001b[0;34m,\u001b[0m\u001b[0mtarget_name\u001b[0m\u001b[0;34m)\u001b[0m\u001b[0;34m\u001b[0m\u001b[0;34m\u001b[0m\u001b[0m\n\u001b[0m",
      "\u001b[0;31mNameError\u001b[0m: name 'drawFinalStructure' is not defined"
     ]
    }
   ],
   "source": [
    "# draw all final structure for a given target\n",
    "ppts = df.gameID.unique()\n",
    "ppt = 0\n",
    "gameID = ppts[ppt]\n",
    "target_name = 'hand_selected_005'\n",
    "\n",
    "for i in range(0,len(df.gameID.unique())-1):\n",
    "    gameID = ppts[i]\n",
    "    drawFinalStructure(df,gameID,target_name)"
   ]
  },
  {
   "cell_type": "code",
   "execution_count": 21,
   "metadata": {},
   "outputs": [
    {
     "data": {
      "text/plain": [
       "['hand_selected_007.json',\n",
       " 'hand_selected_011.json',\n",
       " 'hand_selected_010.json',\n",
       " 'hand_selected_006.json',\n",
       " 'hand_selected_001.json',\n",
       " 'hand_selected_016.json',\n",
       " 'hand_selected_015.json',\n",
       " 'hand_selected_003.json',\n",
       " 'hand_selected_002.json',\n",
       " 'hand_selected_014.json',\n",
       " 'hand_selected_013.json',\n",
       " 'hand_selected_005.json',\n",
       " 'hand_selected_009.json',\n",
       " 'hand_selected_008.json',\n",
       " 'hand_selected_004.json',\n",
       " 'hand_selected_012.json']"
      ]
     },
     "execution_count": 21,
     "metadata": {},
     "output_type": "execute_result"
    }
   ],
   "source": [
    "# Draw stimuli\n",
    "image_paths = [f for f in listdir(stim_dir) if isfile(join(stim_dir, f))]    \n",
    "image_paths"
   ]
  },
  {
   "cell_type": "markdown",
   "metadata": {},
   "source": [
    "### Note to self: Stimulus files are in integer version. Will need to go into coding of experiment and see how I've converted these, and grab the values from display of stimuli."
   ]
  },
  {
   "cell_type": "code",
   "execution_count": 38,
   "metadata": {},
   "outputs": [
    {
     "data": {
      "text/plain": [
       "<Figure size 1440x1440 with 0 Axes>"
      ]
     },
     "metadata": {},
     "output_type": "display_data"
    },
    {
     "data": {
      "image/png": "[encoded data removed]",
      "text/plain": [
       "<Figure size 288x288 with 1 Axes>"
      ]
     },
     "metadata": {},
     "output_type": "display_data"
    },
    {
     "data": {
      "image/png": "[encoded data removed]",
      "text/plain": [
       "<Figure size 288x288 with 1 Axes>"
      ]
     },
     "metadata": {},
     "output_type": "display_data"
    },
    {
     "data": {
      "image/png": "[encoded data removed]",
      "text/plain": [
       "<Figure size 288x288 with 1 Axes>"
      ]
     },
     "metadata": {},
     "output_type": "display_data"
    },
    {
     "data": {
      "image/png": "[encoded data removed]",
      "text/plain": [
       "<Figure size 288x288 with 1 Axes>"
      ]
     },
     "metadata": {},
     "output_type": "display_data"
    },
    {
     "data": {
      "image/png": "[encoded data removed]",
      "text/plain": [
       "<Figure size 288x288 with 1 Axes>"
      ]
     },
     "metadata": {},
     "output_type": "display_data"
    },
    {
     "data": {
      "image/png": "[encoded data removed]",
      "text/plain": [
       "<Figure size 288x288 with 1 Axes>"
      ]
     },
     "metadata": {},
     "output_type": "display_data"
    },
    {
     "data": {
      "image/png": "[encoded data removed]",
      "text/plain": [
       "<Figure size 288x288 with 1 Axes>"
      ]
     },
     "metadata": {},
     "output_type": "display_data"
    },
    {
     "data": {
      "image/png": "[encoded data removed]",
      "text/plain": [
       "<Figure size 288x288 with 1 Axes>"
      ]
     },
     "metadata": {},
     "output_type": "display_data"
    },
    {
     "data": {
      "image/png": "[encoded data removed]",
      "text/plain": [
       "<Figure size 288x288 with 1 Axes>"
      ]
     },
     "metadata": {},
     "output_type": "display_data"
    },
    {
     "data": {
      "image/png": "[encoded data removed]",
      "text/plain": [
       "<Figure size 288x288 with 1 Axes>"
      ]
     },
     "metadata": {},
     "output_type": "display_data"
    },
    {
     "data": {
      "image/png": "[encoded data removed]",
      "text/plain": [
       "<Figure size 288x288 with 1 Axes>"
      ]
     },
     "metadata": {},
     "output_type": "display_data"
    },
    {
     "data": {
      "image/png": "[encoded data removed]",
      "text/plain": [
       "<Figure size 288x288 with 1 Axes>"
      ]
     },
     "metadata": {},
     "output_type": "display_data"
    },
    {
     "data": {
      "image/png": "[encoded data removed]",
      "text/plain": [
       "<Figure size 288x288 with 1 Axes>"
      ]
     },
     "metadata": {},
     "output_type": "display_data"
    },
    {
     "data": {
      "image/png": "[encoded data removed]",
      "text/plain": [
       "<Figure size 288x288 with 1 Axes>"
      ]
     },
     "metadata": {},
     "output_type": "display_data"
    },
    {
     "data": {
      "image/png": "[encoded data removed]",
      "text/plain": [
       "<Figure size 288x288 with 1 Axes>"
      ]
     },
     "metadata": {},
     "output_type": "display_data"
    },
    {
     "data": {
      "image/png": "[encoded data removed]",
      "text/plain": [
       "<Figure size 288x288 with 1 Axes>"
      ]
     },
     "metadata": {},
     "output_type": "display_data"
    }
   ],
   "source": [
    "fig=plt.figure(figsize=(20, 20))\n",
    "columns = 4\n",
    "rows = 4\n",
    "for i in range(0, columns*rows):\n",
    "    J = open(join(stim_dir,image_paths[i])).read()\n",
    "    #fig.add_subplot(rows, columns, i)\n",
    "    w = utils.World()\n",
    "    w.populate_from_json(J)\n",
    "    subfig = utils.draw_world(w)\n",
    "    #fig.add_subplot(rows, columns, i)\n",
    "    #plt.imshow(img)\n",
    "plt.show()"
   ]
  },
  {
   "cell_type": "code",
   "execution_count": null,
   "metadata": {},
   "outputs": [],
   "source": [
    "# Display in grid\n",
    "# Attach labels"
   ]
  },
  {
   "cell_type": "code",
   "execution_count": null,
   "metadata": {},
   "outputs": [],
   "source": []
  },
  {
   "cell_type": "code",
   "execution_count": null,
   "metadata": {},
   "outputs": [],
   "source": []
  },
  {
   "cell_type": "code",
   "execution_count": null,
   "metadata": {},
   "outputs": [],
   "source": []
  },
  {
   "cell_type": "code",
   "execution_count": null,
   "metadata": {},
   "outputs": [],
   "source": []
  }
 ],
 "metadata": {
  "kernelspec": {
   "display_name": "Python 3",
   "language": "python",
   "name": "python3"
  },
  "language_info": {
   "codemirror_mode": {
    "name": "ipython",
    "version": 3
   },
   "file_extension": ".py",
   "mimetype": "text/x-python",
   "name": "python",
   "nbconvert_exporter": "python",
   "pygments_lexer": "ipython3",
   "version": "3.6.8"
  }
 },
 "nbformat": 4,
 "nbformat_minor": 2
}
