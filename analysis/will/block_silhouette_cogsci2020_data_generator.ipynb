{
 "cells": [
  {
   "cell_type": "code",
   "execution_count": 35,
   "metadata": {},
   "outputs": [],
   "source": [
    "import os\n",
    "import sys\n",
    "import urllib, io\n",
    "\n",
    "import numpy as np\n",
    "import scipy.stats as stats\n",
    "import pandas as pd\n",
    "\n",
    "import pymongo as pm\n",
    "from collections import Counter\n",
    "import json\n",
    "import re\n",
    "import ast\n",
    "\n",
    "from PIL import Image, ImageOps, ImageDraw, ImageFont \n",
    "\n",
    "from io import BytesIO\n",
    "import base64\n",
    "\n",
    "import  matplotlib\n",
    "from matplotlib import pylab, mlab, pyplot\n",
    "%matplotlib inline\n",
    "from IPython.core.pylabtools import figsize, getfigs\n",
    "plt = pyplot\n",
    "import matplotlib as mpl\n",
    "mpl.rcParams['pdf.fonttype'] = 42\n",
    "\n",
    "import seaborn as sns\n",
    "sns.set_context('talk')\n",
    "sns.set_style('darkgrid')\n",
    "\n",
    "from IPython.display import clear_output\n",
    "\n",
    "import warnings\n",
    "warnings.filterwarnings(\"ignore\", category=DeprecationWarning)\n",
    "warnings.filterwarnings(\"ignore\", message=\"numpy.dtype size changed\")\n",
    "warnings.filterwarnings(\"ignore\", message=\"numpy.ufunc size changed\")"
   ]
  },
  {
   "cell_type": "code",
   "execution_count": 36,
   "metadata": {},
   "outputs": [],
   "source": [
    "## directory & file hierarchy\n",
    "proj_dir = os.path.abspath('..')\n",
    "datavol_dir = os.path.join(proj_dir,'data')\n",
    "analysis_dir = os.path.abspath(os.path.join(os.getcwd(),'..'))\n",
    "results_dir = os.path.join(proj_dir,'results')\n",
    "plot_dir = os.path.join(results_dir,'plots')\n",
    "csv_dir = os.path.join(results_dir,'csv')\n",
    "json_dir = os.path.join(results_dir,'json')\n",
    "exp_dir = os.path.abspath(os.path.join(proj_dir,'experiments'))\n",
    "png_dir = os.path.abspath(os.path.join(datavol_dir,'png'))\n",
    "jefan_dir = os.path.join(analysis_dir,'jefan')\n",
    "will_dir = os.path.join(analysis_dir,'will')\n",
    "\n",
    "## add helpers to python path\n",
    "if os.path.join(proj_dir,'stimuli') not in sys.path:\n",
    "    sys.path.append(os.path.join(proj_dir,'stimuli'))\n",
    "    \n",
    "if not os.path.exists(results_dir):\n",
    "    os.makedirs(results_dir)\n",
    "    \n",
    "if not os.path.exists(plot_dir):\n",
    "    os.makedirs(plot_dir)   \n",
    "    \n",
    "if not os.path.exists(csv_dir):\n",
    "    os.makedirs(csv_dir)       "
   ]
  },
  {
   "cell_type": "code",
   "execution_count": 37,
   "metadata": {},
   "outputs": [],
   "source": [
    "# set vars \n",
    "auth = pd.read_csv(os.path.join(analysis_dir,'auth.txt'), header = None) # this auth.txt file contains the password for the sketchloop user\n",
    "pswd = auth.values[0][0]\n",
    "user = 'sketchloop'\n",
    "host = 'cogtoolslab.org' ## cocolab ip address\n",
    "\n",
    "# have to fix this to be able to analyze from local\n",
    "import pymongo as pm\n",
    "conn = pm.MongoClient('mongodb://sketchloop:' + pswd + '@127.0.0.1')\n",
    "db = conn['block_construction']\n",
    "coll = db['silhouette']\n",
    "\n",
    "# which iteration name should we use?\n",
    "iterationName = 'Exp2Pilot3'\n",
    "\n",
    "# variables to check integrity of data\n",
    "numTrials = 24"
   ]
  },
  {
   "cell_type": "markdown",
   "metadata": {},
   "source": [
    "## Sanity Checks"
   ]
  },
  {
   "cell_type": "code",
   "execution_count": 38,
   "metadata": {},
   "outputs": [],
   "source": [
    "# Ensure one to one gameID and workerId \n",
    "# Should only happen if a repeat worker gets through\n",
    "\n",
    "query = coll.find({\"$and\":[\n",
    "                        {'workerId':{'$exists':True}},\n",
    "                        {'condition':{'$ne':'practice'}},\n",
    "                        {'eventType':'trial_end'},\n",
    "                        {\"$or\":[{'iterationName':'pilot2'},\n",
    "                                {'iterationName':'pilot3'},\n",
    "                                {'iterationName':'pilot4'},\n",
    "                                {'iterationName':'Exp2Pilot1'},\n",
    "                                {'iterationName':'Exp2Pilot1_turk'},\n",
    "                                {'iterationName':'Exp2Pilot1_turk'}]},\n",
    "                        {'trialNum':0}]\n",
    "                     })\n",
    "\n",
    "df_trial_end_full = pd.DataFrame(list(query.sort('timeAbsolute')))\n",
    "#df_trial_end_full[['workerId','gameID']]\n",
    "\n",
    "\n",
    "assert (np.mean(df_trial_end_full['workerId'].value_counts()) == np.mean(df_trial_end_full['gameID'].value_counts()))"
   ]
  },
  {
   "cell_type": "markdown",
   "metadata": {},
   "source": [
    "## Trial Level Data"
   ]
  },
  {
   "cell_type": "code",
   "execution_count": 39,
   "metadata": {},
   "outputs": [],
   "source": [
    "# Assuming that if trial 23 saves, then 0-22 have also saved \n",
    "# get ids of people with trial 23 data\n",
    "query = coll.find({\"$and\":[\n",
    "                        {'condition':{'$ne':'practice'}},\n",
    "                        {'eventType':'trial_end'},\n",
    "                        {'iterationName': iterationName},\n",
    "                        {'trialNum': numTrials-1}]\n",
    "                     })\n",
    "complete_data_df = pd.DataFrame(query)\n",
    "complete_data_ids = list(complete_data_df['workerId'])"
   ]
  },
  {
   "cell_type": "code",
   "execution_count": 40,
   "metadata": {},
   "outputs": [],
   "source": [
    "#complete_data_ids"
   ]
  },
  {
   "cell_type": "code",
   "execution_count": 41,
   "metadata": {},
   "outputs": [
    {
     "name": "stderr",
     "output_type": "stream",
     "text": [
      "/Users/will/anaconda3/lib/python3.6/site-packages/ipykernel_launcher.py:30: SettingWithCopyWarning: \n",
      "A value is trying to be set on a copy of a slice from a DataFrame.\n",
      "Try using .loc[row_indexer,col_indexer] = value instead\n",
      "\n",
      "See the caveats in the documentation: http://pandas.pydata.org/pandas-docs/stable/indexing.html#indexing-view-versus-copy\n"
     ]
    }
   ],
   "source": [
    "# Filter for full datasets\n",
    "query = coll.find({\"$and\":[\n",
    "                        {'condition':{'$ne':'practice'}},\n",
    "                        {'eventType':'trial_end'},\n",
    "                        {'iterationName':iterationName}]\n",
    "                     })\n",
    "\n",
    "df_trial_end_full = pd.DataFrame(list(query.sort('timeAbsolute')))\n",
    "\n",
    "\n",
    "# filter dataframe for complete datasets\n",
    "df_trial_end_full_filtered = df_trial_end_full[df_trial_end_full.workerId.isin(complete_data_ids)]\n",
    "\n",
    "# reduce to crucial information\n",
    "df_trial_end_reduced_filtered = df_trial_end_full_filtered[[\n",
    "    'gameID','trialNum','phase','condition','eventType','targetName','repetition','targetID', #trial identifiers\n",
    "    'nullScore','F1Score','normedScore','rawScoreDiscrete','nullScoreDiscrete','normedScoreDiscrete','scoreGapDiscrete', #scoring\n",
    "    'numBlocks','nPracticeAttempts','blockColor','blockColorID','blockFell','doNothingRepeats',#misc. trial info\n",
    "    'score','currBonus','timeBonus', #bonusing\n",
    "    'timeAbsolute','timeRelative','buildTime','buildStartTime','buildFinishTime','timeToBuild', #timing \n",
    "    'discreteWorld','allVertices', #world reconstruction\n",
    "    'browser','browserVersion','os','devMode', #developer info\n",
    "    #below here should be the same for every trial in a dataset\n",
    "    'iterationName',\n",
    "    'numTargets', 'prePostSetSize','numRepetitions', #pre-post info\n",
    "    'bonusThresholdLow','bonusThresholdMid','bonusThresholdHigh','timeThresholdYellow','timeThresholdRed', #bonus info\n",
    "    ]]\n",
    "\n",
    "#Fix error in data-saving- normedScoreDiscrete saved as rawScoreDiscrete\n",
    "df_trial_end_reduced_filtered['normedScoreDiscrete'] = df_trial_end_reduced_filtered['rawScoreDiscrete']\n",
    "df_trial_end_reduced_filtered.drop(['rawScoreDiscrete'], axis=1)\n",
    "\n",
    "\n",
    "df = df_trial_end_reduced_filtered.sort_values(by=['gameID', 'timeAbsolute'])"
   ]
  },
  {
   "cell_type": "markdown",
   "metadata": {},
   "source": [
    "### Compute Spatial Reconstruction Accuracy"
   ]
  },
  {
   "cell_type": "code",
   "execution_count": 42,
   "metadata": {},
   "outputs": [],
   "source": [
    "targetMaps = {}\n",
    "\n",
    "with open(os.path.join(csv_dir,'targetMaps.txt')) as json_file:\n",
    "    targetMaps = json.load(json_file)"
   ]
  },
  {
   "cell_type": "code",
   "execution_count": 43,
   "metadata": {},
   "outputs": [],
   "source": [
    "def getPrecision(arr1,arr2):\n",
    "    prod = np.multiply(arr1,arr2)\n",
    "    false_pos = np.subtract(arr2,prod)\n",
    "    numerator = np.sum(prod)\n",
    "    denominator = np.add(numerator,np.sum(false_pos))\n",
    "    recall = numerator/denominator\n",
    "    return recall\n",
    "\n",
    "def getRecall(arr1,arr2):\n",
    "    prod = np.multiply(arr1,arr2)\n",
    "    false_neg = np.subtract(arr1,prod)\n",
    "    numerator = np.sum(prod)\n",
    "    denominator = np.add(np.sum(prod),np.sum(false_neg))\n",
    "    recall = numerator/denominator\n",
    "    return recall\n",
    "\n",
    "def getF1Score(targetName, discreteWorld):\n",
    "    targetMap = targetMaps[targetName]\n",
    "    arr1 = 1*np.logical_not(np.array(targetMap))\n",
    "    arr2 = 1*np.logical_not(np.array(discreteWorld))\n",
    "    recall = getRecall(arr1, arr2)\n",
    "    precision = getPrecision(arr1, arr2)\n",
    "    numerator = np.multiply(precision, recall)\n",
    "    denominator = np.add(precision, recall)\n",
    "    quotient = np.divide(numerator, denominator)\n",
    "    f1Score = np.multiply(2, quotient)\n",
    "    #print('recall ' + recall);\n",
    "    return f1Score\n",
    "\n",
    "def getF1ScoreLambda(row):\n",
    "    return(getF1Score(row['targetName'], row['discreteWorld']))\n",
    "\n",
    "\n",
    "def getJaccard(targetName, discreteWorld):\n",
    "    targetMap = targetMaps[targetName]\n",
    "    arr1 = 1*np.logical_not(np.array(targetMap))\n",
    "    arr2 = 1*np.logical_not(np.array(discreteWorld))\n",
    "    \n",
    "    prod = np.multiply(arr1,arr2)\n",
    "    true_pos = np.sum(prod)\n",
    "    false_pos = np.sum(np.subtract(arr2,prod))\n",
    "    false_neg = np.sum(np.subtract(arr1,prod))\n",
    "#     print(true_pos)\n",
    "#     print(false_pos)\n",
    "#     print(false_neg)\n",
    "\n",
    "    denomenator = np.add(false_neg,np.add(false_pos,true_pos))\n",
    "    jaccard = np.divide(true_pos,denomenator)\n",
    "    #print('recall ' + recall);\n",
    "    return jaccard\n",
    "\n",
    "def getJaccardLambda(row):\n",
    "    return(getJaccard(row['targetName'], row['discreteWorld']))\n",
    "\n",
    "# def getNullScore(targetName):\n",
    "#     targetMap = targetMaps[targetName]\n",
    "#     arr1 = 1*np.logical_not(np.array(targetMap))\n",
    "#     arr2 = 1*np.zeros(arr1.shape)\n",
    "#     recall = getRecall(arr1, arr2)\n",
    "#     precision = getPrecision(arr1, arr2)\n",
    "#     numerator = np.multiply(precision, recall)\n",
    "#     denominator = np.add(precision, recall)\n",
    "#     quotient = np.divide(numerator, denominator)\n",
    "#     f1Score = np.multiply(2, quotient)\n",
    "#     print('recall ', str(recall));\n",
    "#     print('precision ', str(precision));\n",
    "#     print('quotient ', str(quotient));\n",
    "#     return f1Score"
   ]
  },
  {
   "cell_type": "code",
   "execution_count": 44,
   "metadata": {},
   "outputs": [
    {
     "name": "stderr",
     "output_type": "stream",
     "text": [
      "/Users/will/anaconda3/lib/python3.6/site-packages/ipykernel_launcher.py:25: RuntimeWarning: invalid value encountered in true_divide\n"
     ]
    }
   ],
   "source": [
    "df['rawF1DiscreteScore'] =  df.apply(getF1ScoreLambda, axis=1)"
   ]
  },
  {
   "cell_type": "code",
   "execution_count": 45,
   "metadata": {},
   "outputs": [],
   "source": [
    "df['jaccardDiscrete'] = df.apply(getJaccardLambda, axis=1)"
   ]
  },
  {
   "cell_type": "code",
   "execution_count": 46,
   "metadata": {},
   "outputs": [
    {
     "name": "stderr",
     "output_type": "stream",
     "text": [
      "/Users/will/anaconda3/lib/python3.6/site-packages/IPython/core/interactiveshell.py:3325: FutureWarning: specifying 'categories' or 'ordered' in .astype() is deprecated; pass a CategoricalDtype instead\n",
      "  exec(code_obj, self.user_global_ns, self.user_ns)\n"
     ]
    }
   ],
   "source": [
    "# Make new column: phase_extended\n",
    "# Same as phase but with 'repeated' split into 'repetition 1' and 'repetition 2'\n",
    "\n",
    "df['phase_extended'] = df['phase']\n",
    "df.loc[(df.phase=='repeated') & (df.repetition==1),'phase_extended'] = 'repetition 1'\n",
    "df.loc[(df.phase=='repeated') & (df.repetition==2),'phase_extended'] = 'repetition 2'\n",
    "\n",
    "phase_dict = {\n",
    "    'pre':0,\n",
    "    'repetition 1':1,\n",
    "    'repetition 2':2,\n",
    "    'post':3\n",
    "}\n",
    "\n",
    "ordered_phases = ['pre','repetition 1','repetition 2','post']\n",
    "df['phase_number'] = df.phase_extended.astype(\"category\",\n",
    "                                              ordered=True,\n",
    "                                              categories=ordered_phases).cat.codes\n",
    "\n",
    "#df['phase_number'] "
   ]
  },
  {
   "cell_type": "code",
   "execution_count": 47,
   "metadata": {},
   "outputs": [],
   "source": [
    "#Add useful variables for graphing\n",
    "\n",
    "df['targetNumber'] = df['targetName'].apply(lambda x: x[-2:])\n",
    "df['perfectScore'] = df.rawF1DiscreteScore == 1"
   ]
  },
  {
   "cell_type": "markdown",
   "metadata": {},
   "source": [
    "## Initial Block Data\n",
    "Initial block placements (before physics, after snapping, before falling)"
   ]
  },
  {
   "cell_type": "code",
   "execution_count": 48,
   "metadata": {},
   "outputs": [
    {
     "name": "stdout",
     "output_type": "stream",
     "text": [
      "Loaded 10977 complete sets of initial blocks\n"
     ]
    }
   ],
   "source": [
    "query = coll.find({\"$and\":[\n",
    "                        {'condition':{'$ne':'practice'}},\n",
    "                        {'eventType':'initial'},\n",
    "                        {'iterationName':iterationName}]\n",
    "                     })\n",
    "\n",
    "df_initial_full = pd.DataFrame(list(query))\n",
    "\n",
    "# filter dataframe for complete datasets\n",
    "df_initial_full_filtered = df_initial_full[df_initial_full.workerId.isin(complete_data_ids)]\n",
    "\n",
    "print('Loaded ' + str(df_initial_full_filtered.shape[0]) + ' complete sets of initial blocks')\n",
    "# reduce to crucial information"
   ]
  },
  {
   "cell_type": "code",
   "execution_count": 49,
   "metadata": {},
   "outputs": [
    {
     "data": {
      "text/plain": [
       "Index(['F1Score', '_id', 'aID', 'allBlockDims', 'blockBodyProperties',\n",
       "       'blockCenterX', 'blockCenterY', 'blockColor', 'blockColorID',\n",
       "       'blockColors', 'blockDimUnits', 'blockHeight', 'blockKind', 'blockNum',\n",
       "       'blockOptions', 'blockVertices', 'blockWidth', 'browser',\n",
       "       'browserVersion', 'buildDuration', 'canvasHeight', 'canvasWidth',\n",
       "       'condition', 'currBonus', 'dataType', 'devMode', 'discreteEnvHeight',\n",
       "       'discreteEnvWidth', 'discreteWorld', 'eventType', 'floorOptions',\n",
       "       'floorProperties', 'floorY', 'gameID', 'height_discrete', 'hitID',\n",
       "       'incrementalNormedScoreDiscretePrevious', 'incrementalScore',\n",
       "       'iterationName', 'menuHeight', 'menuWidth', 'normedIncrementalScore',\n",
       "       'normedScore', 'normedScoreDiscrete', 'nullScore', 'nullScoreDiscrete',\n",
       "       'numRepetitions', 'numTargets', 'numTrials', 'os', 'phase', 'points',\n",
       "       'practiceDuration', 'prePostSetSize', 'prompt', 'randID',\n",
       "       'rawScoreDiscrete', 'relativePlacementTime', 'repetition',\n",
       "       'scalingFactor', 'score', 'scoreGap', 'scoreGapDiscrete',\n",
       "       'stimCanvasHeight', 'stimCanvasWidth', 'stimX', 'stimY', 'stim_scale',\n",
       "       'targetBlocks', 'targetID', 'targetName', 'timeAbsolute',\n",
       "       'timeBlockPlaced', 'timeBlockSelected', 'timeRelative',\n",
       "       'timeThresholdRed', 'timeThresholdYellow', 'trialNum', 'version',\n",
       "       'vertices', 'width_discrete', 'workerId', 'worldHeightUnits',\n",
       "       'worldScale', 'worldWidthUnits', 'x_discrete', 'x_index', 'y_discrete',\n",
       "       'y_index'],\n",
       "      dtype='object')"
      ]
     },
     "execution_count": 49,
     "metadata": {},
     "output_type": "execute_result"
    }
   ],
   "source": [
    "df_initial_full_filtered.columns"
   ]
  },
  {
   "cell_type": "code",
   "execution_count": 51,
   "metadata": {},
   "outputs": [],
   "source": [
    "df_initial_reduced_filtered = df_initial_full_filtered[[\n",
    "    'gameID','trialNum','phase','condition','eventType','targetName','repetition','targetID','blockNum', #trial identifiers\n",
    "    'nullScore','incrementalScore','normedIncrementalScore','rawScoreDiscrete','incrementalNormedScoreDiscretePrevious', #scoring\n",
    "    'score','currBonus', #bonusing\n",
    "    'timeAbsolute','timeRelative','timeBlockSelected','timeBlockPlaced','relativePlacementTime', #timing \n",
    "    'discreteWorld','vertices','blockKind','blockColorID','blockColor','blockCenterX', 'blockCenterY', #world reconstruction\n",
    "    'x_index','y_index','x_discrete','y_discrete','width_discrete','height_discrete'\n",
    "    ]]\n",
    "\n",
    "df_initial_reduced_filtered = df_initial_reduced_filtered.sort_values(by=['gameID', 'timeAbsolute'])"
   ]
  },
  {
   "cell_type": "code",
   "execution_count": null,
   "metadata": {},
   "outputs": [],
   "source": [
    "dfi = df_initial_reduced_filtered"
   ]
  },
  {
   "cell_type": "markdown",
   "metadata": {},
   "source": [
    "## Settled Block Data\n",
    "Block data after coming to rest (after physics)"
   ]
  },
  {
   "cell_type": "code",
   "execution_count": null,
   "metadata": {},
   "outputs": [],
   "source": [
    "query = coll.find({\"$and\":[\n",
    "                        {'condition':{'$ne':'practice'}},\n",
    "                        {'eventType':'settled'},\n",
    "                        {'iterationName':iterationName}]\n",
    "                     })\n",
    "\n",
    "df_settled_full = pd.DataFrame(list(query))\n",
    "\n",
    "\n",
    "# filter dataframe for complete datasets\n",
    "df_settled_full_filtered = df_settled_full[df_settled_full.workerId.isin(complete_data_ids)]\n",
    "\n",
    "print('Loaded ' + str(df_settled_full_filtered.shape[0]) + ' complete sets of settled blocks')\n",
    "# reduce to crucial information"
   ]
  },
  {
   "cell_type": "code",
   "execution_count": null,
   "metadata": {},
   "outputs": [],
   "source": [
    "df_settled_full_filtered.columns"
   ]
  },
  {
   "cell_type": "code",
   "execution_count": null,
   "metadata": {},
   "outputs": [],
   "source": [
    "df_settled_reduced_filtered = df_settled_full_filtered[[\n",
    "    'gameID','trialNum','phase','condition','eventType','targetName','repetition','targetID', #trial identifiers\n",
    "    'nullScore','incrementalScore','normedIncrementalScore','rawScoreDiscrete','incrementalNormedScoreDiscrete','numBlocks','blockFell', #scoring\n",
    "    'score','currBonus', #bonusing\n",
    "    'timeAbsolute','timeRelative',#timing \n",
    "    'discreteWorld','allVertices','blockKind','blockColorID','blockColor','blockCenterX', 'blockCenterY',#world reconstruction\n",
    "    'x_index','y_index','x_discrete','y_discrete'\n",
    "    ]]\n",
    "\n",
    "df_settled_reduced_filtered = df_settled_reduced_filtered.sort_values(by=['gameID', 'timeAbsolute'])"
   ]
  },
  {
   "cell_type": "code",
   "execution_count": null,
   "metadata": {},
   "outputs": [],
   "source": [
    "dfs = df_settled_reduced_filtered"
   ]
  },
  {
   "cell_type": "markdown",
   "metadata": {},
   "source": [
    "## Survey Data"
   ]
  },
  {
   "cell_type": "code",
   "execution_count": null,
   "metadata": {},
   "outputs": [],
   "source": [
    "query = coll.find({\"$and\":[\n",
    "                        {'eventType':'survey_data'},\n",
    "                        {'iterationName':iterationName}]\n",
    "                     })\n",
    "df_survey = pd.DataFrame(list(query.sort('absoluteTime')))\n",
    "df_survey[['gameID','age','comments','difficulty','fun','strategies','inputDevice','sex','score']]"
   ]
  },
  {
   "cell_type": "markdown",
   "metadata": {},
   "source": [
    "## Data Cleaning (bugs)"
   ]
  },
  {
   "cell_type": "code",
   "execution_count": null,
   "metadata": {},
   "outputs": [],
   "source": [
    "# Remove two block placements (potentially from refreshing?)\n",
    "# These were recorded but don't seem to be a part of the final structure\n",
    "# Believe they are from refreshing\n",
    "\n",
    "dfi = dfi[~(((dfi.gameID == '4611-415301bd-3cd2-4751-9911-e530d1bce758') & \n",
    "        (dfi.trialNum==1) & \n",
    "        (dfi.blockNum == 1) & \n",
    "        (dfi.blockKind=='D')) |\n",
    "    ((dfi.gameID == '2328-cf96d18d-a95b-4d1b-bc43-602ee1bf5835') & \n",
    "        (dfi.trialNum==0) & \n",
    "        (dfi.blockNum == 1) & \n",
    "        (dfi.blockKind=='E')))]\n",
    "\n",
    "dfs = dfs[~(((dfi.gameID == '4611-415301bd-3cd2-4751-9911-e530d1bce758') & \n",
    "        (dfs.trialNum==1) & \n",
    "        (dfs.numBlocks == 1) & \n",
    "        (dfs.blockKind=='D')) |\n",
    "    ((dfs.gameID == '2328-cf96d18d-a95b-4d1b-bc43-602ee1bf5835') & \n",
    "        (dfs.trialNum==0) & \n",
    "        (dfs.numBlocks == 1) & \n",
    "        (dfs.blockKind=='E')))]"
   ]
  },
  {
   "cell_type": "code",
   "execution_count": null,
   "metadata": {},
   "outputs": [],
   "source": [
    "# Mark a participant as buggy\n",
    "\n",
    "df['buggy'] = False\n",
    "dfs['buggy'] = False\n",
    "dfi['buggy'] = False\n",
    "\n",
    "#Mark this participant as bugs found leading to >60s build time. Perhaps a very slow computer?\n",
    "df.loc[df.gameID==\"3988-e15c8e2e-0b53-43fd-a2d3-686d3efd6923\",'buggy'] = True \n",
    "dfs.loc[dfs.gameID==\"3988-e15c8e2e-0b53-43fd-a2d3-686d3efd6923\",'buggy'] = True \n",
    "dfi.loc[dfi.gameID==\"3988-e15c8e2e-0b53-43fd-a2d3-686d3efd6923\",'buggy'] = True \n",
    "\n",
    "#Mark this participant as NaNs found for two scores.\n",
    "df.loc[df.gameID==\"4739-25f27c31-0d4c-46ae-a515-02351c69042d\",'buggy'] = True \n",
    "dfs.loc[dfs.gameID==\"4739-25f27c31-0d4c-46ae-a515-02351c69042d\",'buggy'] = True \n",
    "dfi.loc[dfi.gameID==\"4739-25f27c31-0d4c-46ae-a515-02351c69042d\",'buggy'] = True "
   ]
  },
  {
   "cell_type": "markdown",
   "metadata": {},
   "source": [
    "## Export Data"
   ]
  },
  {
   "cell_type": "code",
   "execution_count": null,
   "metadata": {},
   "outputs": [],
   "source": [
    "out_path = os.path.join(csv_dir,'block_silhouette_{}.csv'.format(iterationName))\n",
    "df.to_csv(out_path)"
   ]
  },
  {
   "cell_type": "code",
   "execution_count": null,
   "metadata": {},
   "outputs": [],
   "source": [
    "out_path = os.path.join(csv_dir,'block_silhouette_initial_{}.csv'.format(iterationName))\n",
    "dfi.to_csv(out_path)"
   ]
  },
  {
   "cell_type": "code",
   "execution_count": null,
   "metadata": {},
   "outputs": [],
   "source": [
    "out_path = os.path.join(csv_dir,'block_silhouette_settled_{}.csv'.format(iterationName))\n",
    "dfs.to_csv(out_path)"
   ]
  },
  {
   "cell_type": "code",
   "execution_count": null,
   "metadata": {},
   "outputs": [],
   "source": [
    "out_path = os.path.join(csv_dir,'block_silhouette_{}_good.csv'.format(iterationName))\n",
    "df[~df.buggy].to_csv(out_path)"
   ]
  },
  {
   "cell_type": "code",
   "execution_count": null,
   "metadata": {},
   "outputs": [],
   "source": [
    "out_path = os.path.join(csv_dir,'block_silhouette_initial_{}_good.csv'.format(iterationName))\n",
    "dfi[~dfi.buggy].to_csv(out_path)"
   ]
  },
  {
   "cell_type": "code",
   "execution_count": null,
   "metadata": {},
   "outputs": [],
   "source": [
    "out_path = os.path.join(csv_dir,'block_silhouette_settled_{}_good.csv'.format(iterationName))\n",
    "dfs[~dfs.buggy].to_csv(out_path)"
   ]
  },
  {
   "cell_type": "code",
   "execution_count": null,
   "metadata": {},
   "outputs": [],
   "source": [
    "out_path = os.path.join(csv_dir,'block_silhouette_survey_{}.csv'.format(iterationName))\n",
    "df_survey.to_csv(out_path)"
   ]
  },
  {
   "cell_type": "code",
   "execution_count": null,
   "metadata": {},
   "outputs": [],
   "source": []
  }
 ],
 "metadata": {
  "kernelspec": {
   "display_name": "Python 3",
   "language": "python",
   "name": "python3"
  },
  "language_info": {
   "codemirror_mode": {
    "name": "ipython",
    "version": 3
   },
   "file_extension": ".py",
   "mimetype": "text/x-python",
   "name": "python",
   "nbconvert_exporter": "python",
   "pygments_lexer": "ipython3",
   "version": "3.6.8"
  }
 },
 "nbformat": 4,
 "nbformat_minor": 2
}
