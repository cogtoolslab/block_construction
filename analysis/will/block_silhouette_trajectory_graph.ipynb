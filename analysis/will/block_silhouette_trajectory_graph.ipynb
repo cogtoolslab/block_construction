{
 "cells": [
  {
   "cell_type": "code",
   "execution_count": 97,
   "metadata": {},
   "outputs": [],
   "source": [
    "import os\n",
    "import sys\n",
    "import urllib, io\n",
    "os.getcwd()\n",
    "sys.path.append(\"..\")\n",
    "sys.path.append(\"../utils\")\n",
    "proj_dir = os.path.abspath('../..')\n",
    "\n",
    "if os.path.join(proj_dir,'stimuli') not in sys.path:\n",
    "    sys.path.append(os.path.join(proj_dir,'stimuli'))\n",
    "\n",
    "import numpy as np\n",
    "import scipy.stats as stats\n",
    "import pandas as pd\n",
    "from scipy.spatial import distance\n",
    "from scipy import ndimage\n",
    "from random import random\n",
    "from sklearn.cluster import SpectralBiclustering\n",
    "import itertools\n",
    "\n",
    "import pymongo as pm\n",
    "from collections import Counter\n",
    "import json\n",
    "import re\n",
    "import ast\n",
    "\n",
    "from PIL import Image, ImageOps, ImageDraw, ImageFont \n",
    "\n",
    "from io import BytesIO\n",
    "import base64\n",
    "\n",
    "import  matplotlib\n",
    "from matplotlib import pylab, mlab, pyplot\n",
    "%matplotlib inline\n",
    "from IPython.core.pylabtools import figsize, getfigs\n",
    "plt = pyplot\n",
    "import matplotlib as mpl\n",
    "mpl.rcParams['pdf.fonttype'] = 42\n",
    "from matplotlib import colors\n",
    "\n",
    "import seaborn as sns\n",
    "sns.set_context('talk')\n",
    "sns.set_style('darkgrid')\n",
    "\n",
    "from IPython.display import clear_output\n",
    "\n",
    "import warnings\n",
    "warnings.filterwarnings(\"ignore\", category=DeprecationWarning)\n",
    "warnings.filterwarnings(\"ignore\", message=\"numpy.dtype size changed\")\n",
    "warnings.filterwarnings(\"ignore\", message=\"numpy.ufunc size changed\")\n",
    "\n",
    "import blockworld_helpers as utils\n",
    "import drawing_utils as drawing\n",
    "import importlib\n",
    "import scoring\n",
    "import rda\n",
    "\n",
    "#from pyvis.network import Network\n",
    "import networkx as nx\n",
    "import plotly.graph_objects as go"
   ]
  },
  {
   "cell_type": "code",
   "execution_count": 98,
   "metadata": {},
   "outputs": [],
   "source": [
    "## directory & file hierarchy\n",
    "proj_dir = os.path.abspath('../..')\n",
    "datavol_dir = os.path.join(proj_dir,'data')\n",
    "analysis_dir = os.path.abspath(os.path.join(os.getcwd(),'..'))\n",
    "results_dir = os.path.join(analysis_dir,'results')\n",
    "stim_dir = os.path.join(proj_dir,'stimuli')\n",
    "plot_dir = os.path.join(results_dir,'plots')\n",
    "csv_dir = os.path.join(results_dir,'csv')\n",
    "json_dir = os.path.join(results_dir,'json')\n",
    "exp_dir = os.path.abspath(os.path.join(proj_dir,'experiments'))\n",
    "png_dir = os.path.abspath(os.path.join(datavol_dir,'png'))\n",
    "jefan_dir = os.path.join(analysis_dir,'jefan')\n",
    "will_dir = os.path.join(analysis_dir,'will')\n",
    "\n",
    "## add helpers to python path\n",
    "if os.path.join(proj_dir,'stimuli') not in sys.path:\n",
    "    sys.path.append(os.path.join(proj_dir,'stimuli'))\n",
    "    \n",
    "if not os.path.exists(results_dir):\n",
    "    os.makedirs(results_dir)\n",
    "    \n",
    "if not os.path.exists(plot_dir):\n",
    "    os.makedirs(plot_dir)   \n",
    "    \n",
    "if not os.path.exists(csv_dir):\n",
    "    os.makedirs(csv_dir)       "
   ]
  },
  {
   "cell_type": "code",
   "execution_count": 99,
   "metadata": {},
   "outputs": [],
   "source": [
    "iteration_name = 'Exp2Pilot3'\n",
    "num_trials = 24 #for sanity checks"
   ]
  },
  {
   "cell_type": "code",
   "execution_count": 100,
   "metadata": {},
   "outputs": [
    {
     "name": "stdout",
     "output_type": "stream",
     "text": [
      "49 participants total\n"
     ]
    }
   ],
   "source": [
    "# Data already compiled into dataframes in CogSci 2020 Dataframe Generator\n",
    "\n",
    "# trial_end data\n",
    "trial_path = os.path.join(csv_dir,'block_silhouette_{}_good.csv'.format(iteration_name))\n",
    "df = pd.read_csv(trial_path)\n",
    "\n",
    "# # initial_block data\n",
    "initial_path = os.path.join(csv_dir,'block_silhouette_initial_{}_good.csv'.format(iteration_name))\n",
    "dfi = pd.read_csv(initial_path)\n",
    "\n",
    "# # settled_block data\n",
    "settled_path = os.path.join(csv_dir,'block_silhouette_settled_{}_good.csv'.format(iteration_name))\n",
    "dfs = pd.read_csv(settled_path)\n",
    "\n",
    "# # Sanity Check- same participants in each dataset.\n",
    "df_participants = df.gameID.unique()\n",
    "dfs_participants = dfs.gameID.unique()\n",
    "assert Counter(df_participants) == Counter(dfs_participants)\n",
    "\n",
    "n_before_outliers = len(df_participants)\n",
    "print(str(n_before_outliers) + ' participants total')"
   ]
  },
  {
   "cell_type": "code",
   "execution_count": 101,
   "metadata": {},
   "outputs": [],
   "source": [
    "def convert_to_str(flat_world):\n",
    "    s = [str(i) for i in list(flat_world)] \n",
    "    res = \"\".join(s)\n",
    "    return res"
   ]
  },
  {
   "cell_type": "code",
   "execution_count": 112,
   "metadata": {},
   "outputs": [],
   "source": [
    "targets = np.sort(df['targetName'].unique())\n",
    "ppts = np.sort(df['gameID'].unique())\n",
    "reps = np.sort(df['repetition'].unique())\n",
    "\n",
    "dfi['usableDiscreteWorld'] = dfi['discreteWorld'].apply(lambda a: 1+(-1)*np.array(ast.literal_eval(a)))\n",
    "dfi['flatDiscreteWorld'] = dfi['discreteWorld'].apply(lambda a: (1+(-1)*np.array(ast.literal_eval(a))).flatten())\n",
    "\n",
    "dfic = dfi[dfi.condition=='repeated']\n",
    "dfic = dfic[['targetName','gameID','blockNum','repetition','flatDiscreteWorld','usableDiscreteWorld','rawF1DiscreteScore']]\n",
    "dfic['discreteWorld'] = dfic['usableDiscreteWorld']\n",
    "dfic['flatDiscreteWorldStr'] = dfic['flatDiscreteWorld'].apply(convert_to_str)\n",
    "\n",
    "max_actions = dfic['blockNum'].max()"
   ]
  },
  {
   "cell_type": "code",
   "execution_count": null,
   "metadata": {},
   "outputs": [],
   "source": [
    "# need an easy way of representing thickness of lines between two nodes"
   ]
  },
  {
   "cell_type": "code",
   "execution_count": null,
   "metadata": {},
   "outputs": [],
   "source": [
    "class Node:\n",
    "    '''\n",
    "    Represents a world state (as defined by discrete bitmap representation of blocks present, \n",
    "        as opposed to individual block dimensions and locations).\n",
    "    Each Node can have multiple children.\n",
    "    '''\n",
    "    \n",
    "    def __init__(self, flat_world):\n",
    "        self.out_edges = [] #list of edges (child, ppt, rep)\n",
    "        self.flat_world = flat_world \n",
    "        self.flat_world_str = convert_to_str(flat_world)\n",
    "        self.world_size = np.sum(flat_world)\n",
    "        self.x = 0\n",
    "        self.y = self.world_size\n",
    "        \n",
    "    def __str__(self):\n",
    "        return('Node of size ' + str(self.world_size))\n",
    "    \n",
    "    def __repr__(self):\n",
    "        return('Node of size ' + str(self.world_size))\n",
    "\n",
    "    #def get_ppts(self):\n",
    "        #self.out_edges.m\n",
    "        \n",
    "    def add_child(self, node, ppt, rep, block_num):\n",
    "        self.out_edges.append(Edge(self, node, ppt, rep, block_num))"
   ]
  },
  {
   "cell_type": "code",
   "execution_count": null,
   "metadata": {},
   "outputs": [],
   "source": [
    "class Edge:\n",
    "    '''\n",
    "    Edges contain child nodes, as well as the (ppt, repetition) pair that \n",
    "        uniquely defines a building path in the experiment (for one structure)\n",
    "    '''\n",
    "    def __init__(self, source, target, ppt, rep, block_num):\n",
    "        self.source = source\n",
    "        self.target = target\n",
    "        self.ppt = ppt\n",
    "        self.rep = rep\n",
    "        self.block_num = block_num\n",
    "        print('created edge: ' + str(self))\n",
    "        \n",
    "    def __str__(self):\n",
    "        return('Block ' + str(self.block_num) + ', ppt: ' + self.ppt + ', rep: ' + str(self.rep))\n",
    "    \n",
    "    def __repr__(self):\n",
    "        return('Block ' + str(self.block_num) + ', ppt: ' + self.ppt + ', rep: ' + str(self.rep))\n"
   ]
  },
  {
   "cell_type": "code",
   "execution_count": null,
   "metadata": {},
   "outputs": [],
   "source": [
    "class WorldLayer:\n",
    "    '''\n",
    "    Height in a tree is set by the sum of covered squares in the bitmap representation of the world.\n",
    "    WorldLayer contains a dictionary that maps a flatdiscreteworld to a Node object\n",
    "    '''\n",
    "    def __init__(self, num_squares):\n",
    "        self.num_squares = num_squares\n",
    "        self.nodes = {}\n",
    "        \n",
    "    def __str__(self):\n",
    "        return(str(len(self.nodes)) + ' nodes in layer')\n",
    "    \n",
    "    def __repr__(self):\n",
    "        return(str(len(self.nodes)) + ' nodes in layer')\n",
    "    \n",
    "    def get_world_node(self, flat_world):\n",
    "        '''\n",
    "        add world state into layer\n",
    "        if already exists, then returns the existing node.\n",
    "        otherwise, creates new node and returns it\n",
    "        \n",
    "        '''\n",
    "        flat_world_str = convert_to_str(flat_world)\n",
    "        if flat_world_str in self.nodes:\n",
    "            existing_node = self.nodes[flat_world_str]\n",
    "            return existing_node\n",
    "        else:\n",
    "            new_node = Node(flat_world)\n",
    "            self.nodes[flat_world_str] = new_node\n",
    "            return new_node"
   ]
  },
  {
   "cell_type": "code",
   "execution_count": null,
   "metadata": {},
   "outputs": [],
   "source": [
    "class BuildTree:\n",
    "    def __init__(self, target_name):\n",
    "        self.target_name = target_name\n",
    "        self.world_layers = {} #dict.fromkeys(range(0, 80, 2))\n",
    "        self.world_layers[0] = WorldLayer(0) # layers to allow quick indexing of world state\n",
    "        \n",
    "        # Add layer for every multiple of two, or add manually?\n",
    "        \n",
    "        self.root = self.world_layers[0].get_world_node(np.zeros(13*18).astype(int)) # start with one node with empty world\n",
    "        self.prev_node = self.root\n",
    "        \n",
    "        \n",
    "    def __str__(self):\n",
    "        return('Tree for ' + self.target_name + ': \\n' + str(self.root) + '\\nLayers: ' + str(self.world_layers))\n",
    "    \n",
    "    def add_block_placement(self, discrete_world, discrete_world_str, ppt, rep, block_num):\n",
    "        # fetch correct node (or create new one)\n",
    "        world_squares = np.sum(discrete_world)\n",
    "        if not(world_squares in self.world_layers): #if layer doesn't exist, add layer\n",
    "            self.world_layers[world_squares] = WorldLayer(world_squares)\n",
    "            \n",
    "        # get node for this world state (if exists)\n",
    "        new_node = self.world_layers[world_squares].get_world_node(discrete_world)\n",
    "        \n",
    "        # link previous nodes to current node\n",
    "        self.prev_node.add_child(new_node, ppt ,rep, block_num)\n",
    "        self.prev_node = new_node\n",
    "        \n",
    "    def reset_prev_node(self):\n",
    "        '''\n",
    "        Reset pointer to previous node\n",
    "        '''\n",
    "        self.prev_node = self.root\n",
    "        \n",
    "        #print(discrete_world, discrete_world_str, ppt, rep)\n",
    "        \n",
    "    def add_build_path(self, df):\n",
    "        '''\n",
    "        adds series of block placements from dataframe (for one build sequence) to the tree\n",
    "        '''\n",
    "        df.apply(lambda r: self.add_block_placement(r.flatDiscreteWorld,\n",
    "                                        r.flatDiscreteWorldStr,\n",
    "                                        r.gameID,\n",
    "                                        r.repetition,\n",
    "                                        r.blockNum), axis=1)\n",
    "        self.reset_prev_node()\n",
    "        \n",
    "    def get_coords(self):\n",
    "        node_xs = []\n",
    "        node_ys = []\n",
    "        edge_xs = []\n",
    "        edge_ys = []\n",
    "        \n",
    "        for i, (k1, layer) in enumerate(self.world_layers.items()):\n",
    "            for j, (k2, node) in enumerate(layer.nodes.items()):\n",
    "                n_x = (j+1)/(len(layer.nodes)+1) #12 should be max width\n",
    "                n_y = layer.num_squares\n",
    "                node.x = n_x\n",
    "                node.y = n_y\n",
    "                node_xs.append(n_x)\n",
    "                node_ys.append(n_y)\n",
    "        \n",
    "        for i, (k1, layer) in enumerate(self.world_layers.items()):\n",
    "            for j, (k2, node) in enumerate(layer.nodes.items()):\n",
    "                parent_x = node.x\n",
    "                parent_y = node.y\n",
    "                for _, e in enumerate(node.out_edges):\n",
    "                    child_y = e.target.y\n",
    "                    child_x = e.target.x\n",
    "                    edge_xs.append(parent_x)\n",
    "                    edge_xs.append(child_x)\n",
    "                    edge_xs.append(None)\n",
    "                    edge_ys.append(parent_y)\n",
    "                    edge_ys.append(child_y)\n",
    "                    edge_ys.append(None)\n",
    "                \n",
    "        return (node_xs, node_ys, edge_xs, edge_ys)"
   ]
  },
  {
   "cell_type": "code",
   "execution_count": null,
   "metadata": {},
   "outputs": [],
   "source": [
    "t = BuildTree(targets[5])"
   ]
  },
  {
   "cell_type": "code",
   "execution_count": null,
   "metadata": {},
   "outputs": [],
   "source": [
    "# Add all build paths for one target during one rep\n",
    "t = BuildTree(targets[5]) # make new tree\n",
    "\n",
    "target = targets[5]\n",
    "rep = 0\n",
    "\n",
    "a = dfic[(dfic.targetName==target) & (dfic.repetition==rep)]\n",
    "a = a.groupby('gameID')\n",
    "a.apply(lambda g: t.add_build_path(g))"
   ]
  },
  {
   "cell_type": "code",
   "execution_count": null,
   "metadata": {
    "scrolled": true
   },
   "outputs": [],
   "source": [
    "node_xs, node_ys, edge_xs, edge_ys  = t.get_coords()\n",
    "\n",
    "\n",
    "edge_trace = go.Scatter(\n",
    "    x=edge_xs, y=edge_ys,\n",
    "    line=dict(width=0.5, color='#888'),\n",
    "    hoverinfo='none',\n",
    "    mode='lines')\n",
    "\n",
    "node_trace = go.Scatter(\n",
    "    x=node_xs, y=node_ys,\n",
    "    mode='markers',\n",
    "    hoverinfo='text',\n",
    "    marker=dict(\n",
    "        showscale=True,\n",
    "        # colorscale options\n",
    "        #'Greys' | 'YlGnBu' | 'Greens' | 'YlOrRd' | 'Bluered' | 'RdBu' |\n",
    "        #'Reds' | 'Blues' | 'Picnic' | 'Rainbow' | 'Portland' | 'Jet' |\n",
    "        #'Hot' | 'Blackbody' | 'Earth' | 'Electric' | 'Viridis' |\n",
    "        colorscale='YlGnBu',\n",
    "        reversescale=True,\n",
    "        color=[],\n",
    "        size=10,\n",
    "#         colorbar=dict(\n",
    "#             thickness=15,\n",
    "#             title='Node Connections',\n",
    "#             xanchor='left',\n",
    "#             titleside='right'\n",
    "#         ),\n",
    "        line_width=2))"
   ]
  },
  {
   "cell_type": "code",
   "execution_count": null,
   "metadata": {},
   "outputs": [],
   "source": [
    "fig = go.Figure(data=[edge_trace, node_trace],\n",
    "             layout=go.Layout(\n",
    "                title='<br>World states for target 0, repetition 1, by number of squares',\n",
    "                titlefont_size=16,\n",
    "                showlegend=False,\n",
    "                hovermode='closest',\n",
    "                margin=dict(b=20,l=5,r=5,t=40),\n",
    "                annotations=[ dict(\n",
    "                    text=\"\",\n",
    "                    showarrow=False,\n",
    "                    xref=\"paper\", yref=\"paper\",\n",
    "                    x=0.005, y=-0.002 ) ],\n",
    "                xaxis=dict(showgrid=False, zeroline=False, showticklabels=False))\n",
    "                #yaxis=dict(showgrid=False, zeroline=False, showticklabels=False))\n",
    "                \n",
    "                )\n",
    "\n",
    "fig.update_layout(\n",
    "    width=800,\n",
    "    height=800\n",
    ")\n",
    "\n",
    "fig.show()"
   ]
  },
  {
   "cell_type": "code",
   "execution_count": null,
   "metadata": {},
   "outputs": [],
   "source": [
    "Understand the distribution of action sequences that people take to build a structure"
   ]
  },
  {
   "cell_type": "code",
   "execution_count": null,
   "metadata": {},
   "outputs": [],
   "source": []
  },
  {
   "cell_type": "markdown",
   "metadata": {},
   "source": [
    "## More generic graph\n",
    "\n",
    "Create and display a graph of building trajectories\n",
    "This graph should have the flexibility to specify different dimensions for x and y,\n",
    "although what defines a node will always be the world state"
   ]
  },
  {
   "cell_type": "code",
   "execution_count": 433,
   "metadata": {},
   "outputs": [],
   "source": [
    "class GenericNode:\n",
    "    '''\n",
    "    Represents a world state (as defined by discrete bitmap representation of blocks present, \n",
    "        as opposed to individual block dimensions and locations).\n",
    "    Each Node can have multiple children.\n",
    "    '''\n",
    "    \n",
    "    def __init__(self, discrete_world, f1_score):\n",
    "        self.out_edges = [] #list of edges (child, ppt, rep)\n",
    "        self.discrete_world = discrete_world \n",
    "        self.world_str = convert_to_str(discrete_world)\n",
    "        #self.world_size = np.sum(flat_world) #shouldn't be needed in this\n",
    "        self.f1_score = f1_score\n",
    "        self.visits = 1\n",
    "        #self.children = []\n",
    "        self.child_edges = {}\n",
    "        \n",
    "        #self.y = np.round(self.f1_score*2, decimals=1)/2\n",
    "        self.y = self.f1_score\n",
    "        \n",
    "        #self.x = np.sum(discrete_world)\n",
    "        \n",
    "        \n",
    "        # consider only upper portion of structure\n",
    "        # get proportion of world covered by blocks\n",
    "        num_squares = np.sum(discrete_world)\n",
    "        \n",
    "        if num_squares > 0:\n",
    "            proportion_filled = num_squares/64 #proportion of grid-world (8x8) filled\n",
    "        else:\n",
    "            proportion_filled = 0\n",
    "        \n",
    "        # calculate center of mass above that value (minus one, rounded down)\n",
    "        condsider_mass_above = int(np.max([np.round(8*proportion_filled) - 1, 0]))\n",
    "        \n",
    "        self.x = ndimage.measurements.center_of_mass(discrete_world[:,condsider_mass_above:])[0]\n",
    "        \n",
    "        if np.isnan(self.x):\n",
    "            self.x = 8.5\n",
    "        \n",
    "    def __str__(self):\n",
    "        return('Node of size ' + str(self.world_size))\n",
    "    \n",
    "    def __repr__(self):\n",
    "        return('Node of size ' + str(self.world_size))\n",
    "\n",
    "    #def get_ppts(self):\n",
    "        #self.out_edges.m\n",
    "        \n",
    "    def add_child(self, node):\n",
    "        \n",
    "        if node.world_str in self.child_edges.keys():\n",
    "            self.child_edges[node.world_str].visit()\n",
    "        else: \n",
    "            new_edge = GenericEdge(self, node)\n",
    "            self.child_edges[node.world_str] = new_edge\n",
    "            self.out_edges.append(new_edge) \n",
    "    \n",
    "    def visit(self):\n",
    "        self.visits +=1"
   ]
  },
  {
   "cell_type": "code",
   "execution_count": 434,
   "metadata": {},
   "outputs": [],
   "source": [
    "class GenericEdge:\n",
    "    '''\n",
    "    Edges contain child nodes, as well as the (ppt, repetition) pair that \n",
    "        uniquely defines a building path in the experiment (for one structure)\n",
    "    '''\n",
    "    def __init__(self, source, target):\n",
    "        self.source = source\n",
    "        self.target = target\n",
    "        self.visits = 1\n",
    "        \n",
    "    def __str__(self):\n",
    "        return('Block ' + str(self.block_num) + ', ppt: ' + self.ppt + ', rep: ' + str(self.rep))\n",
    "    \n",
    "    def __repr__(self):\n",
    "        return('Block ' + str(self.block_num) + ', ppt: ' + self.ppt + ', rep: ' + str(self.rep))\n",
    "    \n",
    "    def visit(self):\n",
    "        self.visits +=1\n"
   ]
  },
  {
   "cell_type": "code",
   "execution_count": 435,
   "metadata": {},
   "outputs": [],
   "source": [
    "class GenericWorldLayer:\n",
    "    '''\n",
    "    In previous iterations of graph this was used to group nodes by y-axis.\n",
    "    Now here to allow faster access to nodes \n",
    "    '''\n",
    "    def __init__(self, num_squares):\n",
    "        self.num_squares = num_squares\n",
    "        self.nodes = {}\n",
    "        \n",
    "    def __str__(self):\n",
    "        return(str(len(self.nodes)) + ' nodes in layer')\n",
    "    \n",
    "    def __repr__(self):\n",
    "        return(str(len(self.nodes)) + ' nodes in layer')\n",
    "    \n",
    "    def get_world_node(self, discrete_world, f1_score):\n",
    "        '''\n",
    "        add world state into layer\n",
    "        if already exists, then returns the existing node.\n",
    "        otherwise, creates new node and returns it\n",
    "        \n",
    "        '''\n",
    "        world_str = convert_to_str(discrete_world)\n",
    "        if world_str in self.nodes:\n",
    "            existing_node = self.nodes[world_str]\n",
    "            existing_node.visit()\n",
    "            assert existing_node.f1_score == f1_score\n",
    "            return existing_node\n",
    "        else:\n",
    "            new_node = GenericNode(discrete_world, f1_score)\n",
    "            self.nodes[world_str] = new_node\n",
    "            return new_node"
   ]
  },
  {
   "cell_type": "code",
   "execution_count": 436,
   "metadata": {},
   "outputs": [],
   "source": [
    "class GenericBuildGraph:\n",
    "    def __init__(self, target_name='no_target_name_given'):\n",
    "        self.target_name = target_name\n",
    "        self.world_layers = {} #dict.fromkeys(range(0, 80, 2))\n",
    "        self.world_layers[0] = GenericWorldLayer(0) # layers to allow quick indexing of world state\n",
    "        \n",
    "        # Add layer for every multiple of two, or add manually?\n",
    "        \n",
    "        self.root = self.world_layers[0].get_world_node(np.zeros((18,13)).astype(int), 0) # start with one node with empty world\n",
    "        self.prev_node = self.root\n",
    "        \n",
    "        \n",
    "    def __str__(self):\n",
    "        return('Tree for ' + self.target_name + ': \\n' + str(self.root) + '\\nLayers: ' + str(self.world_layers))\n",
    "    \n",
    "    def add_block_placement(self, row):\n",
    "        #r :discrete_world, discrete_world_str, ppt, rep, block_num\n",
    "        \n",
    "        # fetch correct node (or create new one)\n",
    "        world_squares = np.sum(row.flatDiscreteWorld)\n",
    "        if not(world_squares in self.world_layers): #if layer doesn't exist, add layer\n",
    "            self.world_layers[world_squares] = GenericWorldLayer(world_squares)\n",
    "            \n",
    "        # get node for this world state (if exists)\n",
    "        layer = self.world_layers[world_squares]\n",
    "        new_node = layer.get_world_node(row.discreteWorld, row.rawF1DiscreteScore)\n",
    "        \n",
    "        # link previous nodes to current node\n",
    "        self.prev_node.add_child(new_node)\n",
    "        self.prev_node = new_node\n",
    "        \n",
    "    def reset_prev_node(self):\n",
    "        '''\n",
    "        Reset pointer to previous node\n",
    "        '''\n",
    "        self.prev_node = self.root\n",
    "        \n",
    "        #print(discrete_world, discrete_world_str, ppt, rep)\n",
    "        \n",
    "    def add_build_path(self, df):\n",
    "        '''\n",
    "        adds series of block placements from dataframe (for one build sequence) to the tree\n",
    "        '''\n",
    "        self.root.visit()\n",
    "        \n",
    "        df.apply(lambda row: self.add_block_placement(row), axis=1)\n",
    "#         df.apply(lambda r: self.add_block_placement(r.flatDiscreteWorld,\n",
    "#                                         r.flatDiscreteWorldStr,\n",
    "#                                         r.gameID,\n",
    "#                                         r.repetition,\n",
    "#                                         r.blockNum), axis=1)\n",
    "        self.reset_prev_node()\n",
    "        \n",
    "    def get_coords(self):\n",
    "        node_xs = []\n",
    "        node_ys = []\n",
    "        node_sizes = []\n",
    "        edge_xs = []\n",
    "        edge_ys = []\n",
    "        edge_ws = []\n",
    "        \n",
    "        for i, (k1, layer) in enumerate(self.world_layers.items()):\n",
    "            for j, (k2, node) in enumerate(layer.nodes.items()):\n",
    "                #n_x = (j+1)/(len(layer.nodes)+1) #12 should be max width\n",
    "                n_y = node.y\n",
    "                n_x = node.x\n",
    "                n_size = node.visits\n",
    "                #node.y = n_y\n",
    "                node_xs.append(n_x)\n",
    "                node_ys.append(n_y)\n",
    "                node_sizes.append(n_size)\n",
    "        \n",
    "        for i, (k1, layer) in enumerate(self.world_layers.items()):\n",
    "            for j, (k2, node) in enumerate(layer.nodes.items()):\n",
    "                parent_x = node.x\n",
    "                parent_y = node.y\n",
    "                for _, e in enumerate(node.out_edges):\n",
    "                    child_y = e.target.y\n",
    "                    child_x = e.target.x\n",
    "                    edge_xs.append(parent_x)\n",
    "                    edge_xs.append(child_x)\n",
    "                    #edge_xs.append(None)\n",
    "                    edge_ys.append(parent_y)\n",
    "                    edge_ys.append(child_y)\n",
    "                    #edge_ys.append(None)\n",
    "                    edge_ws.append(e.visits)\n",
    "                    #edge_ws.append(0)\n",
    "                \n",
    "        return (node_xs, node_ys, edge_xs, edge_ys, node_sizes, edge_ws)\n",
    "    \n",
    "    "
   ]
  },
  {
   "cell_type": "code",
   "execution_count": 437,
   "metadata": {
    "scrolled": true
   },
   "outputs": [
    {
     "name": "stderr",
     "output_type": "stream",
     "text": [
      "/Users/will/anaconda3/lib/python3.7/site-packages/scipy/ndimage/measurements.py:1359: RuntimeWarning:\n",
      "\n",
      "invalid value encountered in double_scalars\n",
      "\n"
     ]
    },
    {
     "data": {
      "text/html": [
       "<div>\n",
       "<style scoped>\n",
       "    .dataframe tbody tr th:only-of-type {\n",
       "        vertical-align: middle;\n",
       "    }\n",
       "\n",
       "    .dataframe tbody tr th {\n",
       "        vertical-align: top;\n",
       "    }\n",
       "\n",
       "    .dataframe thead th {\n",
       "        text-align: right;\n",
       "    }\n",
       "</style>\n",
       "<table border=\"1\" class=\"dataframe\">\n",
       "  <thead>\n",
       "    <tr style=\"text-align: right;\">\n",
       "      <th></th>\n",
       "    </tr>\n",
       "  </thead>\n",
       "  <tbody>\n",
       "  </tbody>\n",
       "</table>\n",
       "</div>"
      ],
      "text/plain": [
       "Empty DataFrame\n",
       "Columns: []\n",
       "Index: []"
      ]
     },
     "execution_count": 437,
     "metadata": {},
     "output_type": "execute_result"
    }
   ],
   "source": [
    "# Add all build paths for one target during one rep\n",
    "t = GenericBuildGraph() # make new tree\n",
    "\n",
    "target = targets[6]\n",
    "rep = 3\n",
    "\n",
    "a = dfic[(dfic.targetName==target) & (dfic.repetition==rep)]\n",
    "a = a.groupby('gameID')\n",
    "a.apply(lambda g: t.add_build_path(g))"
   ]
  },
  {
   "cell_type": "code",
   "execution_count": 438,
   "metadata": {},
   "outputs": [
    {
     "name": "stdout",
     "output_type": "stream",
     "text": [
      "254\n",
      "254\n",
      "127\n"
     ]
    }
   ],
   "source": [
    "node_xs, node_ys, edge_xs, edge_ys, node_sizes, edge_ws  = t.get_coords()\n",
    "print(len(edge_xs))\n",
    "print(len(edge_ys))\n",
    "print(len(edge_ws))"
   ]
  },
  {
   "cell_type": "code",
   "execution_count": 451,
   "metadata": {},
   "outputs": [],
   "source": [
    "node_xs, node_ys, edge_xs, edge_ys, node_sizes, edge_ws  = t.get_coords()\n",
    "\n",
    "\n",
    "\n",
    "\n",
    "def make_edge(x, y, width):\n",
    "    \"\"\"\n",
    "    Args:\n",
    "        x: a tuple of the x from and to, in the form: tuple([x0, x1, None])\n",
    "        y: a tuple of the y from and to, in the form: tuple([y0, y1, None])\n",
    "        width: The width of the line\n",
    "\n",
    "    Returns:\n",
    "        a Scatter plot which represents a line between the two points given. \n",
    "    \"\"\"\n",
    "    return  go.Scatter(\n",
    "                x=x,\n",
    "                y=y,\n",
    "                line=dict(width=width),\n",
    "                hoverinfo='none',\n",
    "                mode='lines')\n",
    "\n",
    "def make_edges(edge_xs, edge_ys, edge_ws):\n",
    "    \n",
    "    edge_trace = []\n",
    "    \n",
    "    for i in range(0, int(len(edge_xs)/2)):\n",
    "        edge_trace.append(\n",
    "            go.Scatter(\n",
    "                    x=(edge_xs[i*2],edge_xs[i*2+1]),\n",
    "                    y=(edge_ys[i*2],edge_ys[i*2+1]),\n",
    "                    line=dict(width=edge_ws[i],color='#888'),\n",
    "                    hoverinfo='none',\n",
    "                    mode='lines'))\n",
    "        \n",
    "    return edge_trace\n",
    "\n",
    "\n",
    "edge_trace = make_edges(edge_xs,edge_ys,edge_ws)\n",
    "\n",
    "# edge_trace = go.Scatter(\n",
    "#     x=edge_xs, y=edge_ys,\n",
    "#     line=dict(width=edge_ws, color='#888'),\n",
    "#     hoverinfo='none',\n",
    "#     mode='lines')\n",
    "\n",
    "\n",
    "node_trace = go.Scatter(\n",
    "    x=node_xs, y=node_ys,\n",
    "    mode='markers',\n",
    "    hoverinfo='text',\n",
    "    marker=dict(\n",
    "        showscale=True,\n",
    "        # colorscale options\n",
    "        #'Greys' | 'YlGnBu' | 'Greens' | 'YlOrRd' | 'Bluered' | 'RdBu' |\n",
    "        #'Reds' | 'Blues' | 'Picnic' | 'Rainbow' | 'Portland' | 'Jet' |\n",
    "        #'Hot' | 'Blackbody' | 'Earth' | 'Electric' | 'Viridis' |\n",
    "        #colorscale='YlGnBu',\n",
    "        reversescale=True,\n",
    "        size = [np.log2(s*4)*4 for s in node_sizes],\n",
    "        #color = node_sizes,\n",
    "#         colorbar=dict(\n",
    "#             thickness=15,\n",
    "#             title='Node Connections',\n",
    "#             xanchor='left',\n",
    "#             titleside='right'\n",
    "#         ),\n",
    "        line_width=2))"
   ]
  },
  {
   "cell_type": "code",
   "execution_count": 452,
   "metadata": {
    "scrolled": false
   },
   "outputs": [
    {
     "data": {
      "application/vnd.plotly.v1+json": {
       "config": {
        "plotlyServerURL": "https://plot.ly"
       },
       "data": [
        {
         "hoverinfo": "none",
         "line": {
          "color": "#888",
          "width": 11
         },
         "mode": "lines",
         "type": "scatter",
         "x": [
          8.5,
          9.5
         ],
         "y": [
          0,
          0.32
         ]
        },
        {
         "hoverinfo": "none",
         "line": {
          "color": "#888",
          "width": 2
         },
         "mode": "lines",
         "type": "scatter",
         "x": [
          8.5,
          8.5
         ],
         "y": [
          0,
          0.24
         ]
        },
        {
         "hoverinfo": "none",
         "line": {
          "color": "#888",
          "width": 4
         },
         "mode": "lines",
         "type": "scatter",
         "x": [
          8.5,
          5
         ],
         "y": [
          0,
          0.0909090909090909
         ]
        },
        {
         "hoverinfo": "none",
         "line": {
          "color": "#888",
          "width": 2
         },
         "mode": "lines",
         "type": "scatter",
         "x": [
          8.5,
          8.5
         ],
         "y": [
          0,
          0.32
         ]
        },
        {
         "hoverinfo": "none",
         "line": {
          "color": "#888",
          "width": 5
         },
         "mode": "lines",
         "type": "scatter",
         "x": [
          9.5,
          9.8
         ],
         "y": [
          0.32,
          0.3846153846153846
         ]
        },
        {
         "hoverinfo": "none",
         "line": {
          "color": "#888",
          "width": 4
         },
         "mode": "lines",
         "type": "scatter",
         "x": [
          9.5,
          8.6
         ],
         "y": [
          0.32,
          0.3846153846153846
         ]
        },
        {
         "hoverinfo": "none",
         "line": {
          "color": "#888",
          "width": 2
         },
         "mode": "lines",
         "type": "scatter",
         "x": [
          9.5,
          9
         ],
         "y": [
          0.32,
          0.4444444444444445
         ]
        },
        {
         "hoverinfo": "none",
         "line": {
          "color": "#888",
          "width": 2
         },
         "mode": "lines",
         "type": "scatter",
         "x": [
          8.5,
          7.6
         ],
         "y": [
          0.24,
          0.23076923076923075
         ]
        },
        {
         "hoverinfo": "none",
         "line": {
          "color": "#888",
          "width": 2
         },
         "mode": "lines",
         "type": "scatter",
         "x": [
          8.5,
          9
         ],
         "y": [
          0.32,
          0.4444444444444445
         ]
        },
        {
         "hoverinfo": "none",
         "line": {
          "color": "#888",
          "width": 4
         },
         "mode": "lines",
         "type": "scatter",
         "x": [
          9.8,
          10.25
         ],
         "y": [
          0.3846153846153846,
          0.4444444444444445
         ]
        },
        {
         "hoverinfo": "none",
         "line": {
          "color": "#888",
          "width": 1
         },
         "mode": "lines",
         "type": "scatter",
         "x": [
          9.8,
          9.285714285714286
         ],
         "y": [
          0.3846153846153846,
          0.4444444444444445
         ]
        },
        {
         "hoverinfo": "none",
         "line": {
          "color": "#888",
          "width": 2
         },
         "mode": "lines",
         "type": "scatter",
         "x": [
          7.6,
          6.571428571428571
         ],
         "y": [
          0.23076923076923075,
          0.22222222222222224
         ]
        },
        {
         "hoverinfo": "none",
         "line": {
          "color": "#888",
          "width": 3
         },
         "mode": "lines",
         "type": "scatter",
         "x": [
          8.6,
          7.571428571428571
         ],
         "y": [
          0.3846153846153846,
          0.4444444444444445
         ]
        },
        {
         "hoverinfo": "none",
         "line": {
          "color": "#888",
          "width": 2
         },
         "mode": "lines",
         "type": "scatter",
         "x": [
          8.6,
          9.285714285714286
         ],
         "y": [
          0.3846153846153846,
          0.4444444444444445
         ]
        },
        {
         "hoverinfo": "none",
         "line": {
          "color": "#888",
          "width": 4
         },
         "mode": "lines",
         "type": "scatter",
         "x": [
          10.25,
          10.4
         ],
         "y": [
          0.4444444444444445,
          0.5
         ]
        },
        {
         "hoverinfo": "none",
         "line": {
          "color": "#888",
          "width": 1
         },
         "mode": "lines",
         "type": "scatter",
         "x": [
          6.571428571428571,
          7.125
         ],
         "y": [
          0.22222222222222224,
          0.2857142857142857
         ]
        },
        {
         "hoverinfo": "none",
         "line": {
          "color": "#888",
          "width": 1
         },
         "mode": "lines",
         "type": "scatter",
         "x": [
          6.571428571428571,
          7.333333333333333
         ],
         "y": [
          0.22222222222222224,
          0.21428571428571427
         ]
        },
        {
         "hoverinfo": "none",
         "line": {
          "color": "#888",
          "width": 4
         },
         "mode": "lines",
         "type": "scatter",
         "x": [
          7.571428571428571,
          7.909090909090909
         ],
         "y": [
          0.4444444444444445,
          0.5517241379310345
         ]
        },
        {
         "hoverinfo": "none",
         "line": {
          "color": "#888",
          "width": 1
         },
         "mode": "lines",
         "type": "scatter",
         "x": [
          7.571428571428571,
          8.333333333333334
         ],
         "y": [
          0.4444444444444445,
          0.5
         ]
        },
        {
         "hoverinfo": "none",
         "line": {
          "color": "#888",
          "width": 1
         },
         "mode": "lines",
         "type": "scatter",
         "x": [
          9.285714285714286,
          8.333333333333334
         ],
         "y": [
          0.4444444444444445,
          0.5
         ]
        },
        {
         "hoverinfo": "none",
         "line": {
          "color": "#888",
          "width": 2
         },
         "mode": "lines",
         "type": "scatter",
         "x": [
          9.285714285714286,
          9.666666666666666
         ],
         "y": [
          0.4444444444444445,
          0.5
         ]
        },
        {
         "hoverinfo": "none",
         "line": {
          "color": "#888",
          "width": 1
         },
         "mode": "lines",
         "type": "scatter",
         "x": [
          9,
          8.833333333333334
         ],
         "y": [
          0.4444444444444445,
          0.5517241379310345
         ]
        },
        {
         "hoverinfo": "none",
         "line": {
          "color": "#888",
          "width": 1
         },
         "mode": "lines",
         "type": "scatter",
         "x": [
          9,
          9.333333333333334
         ],
         "y": [
          0.4444444444444445,
          0.42857142857142855
         ]
        },
        {
         "hoverinfo": "none",
         "line": {
          "color": "#888",
          "width": 1
         },
         "mode": "lines",
         "type": "scatter",
         "x": [
          9,
          8.555555555555555
         ],
         "y": [
          0.4444444444444445,
          0.5
         ]
        },
        {
         "hoverinfo": "none",
         "line": {
          "color": "#888",
          "width": 1
         },
         "mode": "lines",
         "type": "scatter",
         "x": [
          9,
          9.4
         ],
         "y": [
          0.4444444444444445,
          0.5
         ]
        },
        {
         "hoverinfo": "none",
         "line": {
          "color": "#888",
          "width": 1
         },
         "mode": "lines",
         "type": "scatter",
         "x": [
          7.333333333333333,
          7.909090909090909
         ],
         "y": [
          0.4444444444444445,
          0.5517241379310345
         ]
        },
        {
         "hoverinfo": "none",
         "line": {
          "color": "#888",
          "width": 1
         },
         "mode": "lines",
         "type": "scatter",
         "x": [
          10.4,
          9.909090909090908
         ],
         "y": [
          0.5,
          0.5517241379310345
         ]
        },
        {
         "hoverinfo": "none",
         "line": {
          "color": "#888",
          "width": 1
         },
         "mode": "lines",
         "type": "scatter",
         "x": [
          10.4,
          9.857142857142858
         ],
         "y": [
          0.5,
          0.6
         ]
        },
        {
         "hoverinfo": "none",
         "line": {
          "color": "#888",
          "width": 1
         },
         "mode": "lines",
         "type": "scatter",
         "x": [
          10.4,
          9.818181818181818
         ],
         "y": [
          0.5,
          0.4827586206896552
         ]
        },
        {
         "hoverinfo": "none",
         "line": {
          "color": "#888",
          "width": 1
         },
         "mode": "lines",
         "type": "scatter",
         "x": [
          10.4,
          9.571428571428571
         ],
         "y": [
          0.5,
          0.6875000000000001
         ]
        },
        {
         "hoverinfo": "none",
         "line": {
          "color": "#888",
          "width": 1
         },
         "mode": "lines",
         "type": "scatter",
         "x": [
          7.125,
          7.9
         ],
         "y": [
          0.2857142857142857,
          0.3448275862068965
         ]
        },
        {
         "hoverinfo": "none",
         "line": {
          "color": "#888",
          "width": 1
         },
         "mode": "lines",
         "type": "scatter",
         "x": [
          8.333333333333334,
          8.818181818181818
         ],
         "y": [
          0.5,
          0.5517241379310345
         ]
        },
        {
         "hoverinfo": "none",
         "line": {
          "color": "#888",
          "width": 1
         },
         "mode": "lines",
         "type": "scatter",
         "x": [
          8.333333333333334,
          8.333333333333334
         ],
         "y": [
          0.5,
          0.6875000000000001
         ]
        },
        {
         "hoverinfo": "none",
         "line": {
          "color": "#888",
          "width": 2
         },
         "mode": "lines",
         "type": "scatter",
         "x": [
          9.666666666666666,
          9.909090909090908
         ],
         "y": [
          0.5,
          0.5517241379310345
         ]
        },
        {
         "hoverinfo": "none",
         "line": {
          "color": "#888",
          "width": 1
         },
         "mode": "lines",
         "type": "scatter",
         "x": [
          7.333333333333333,
          7.818181818181818
         ],
         "y": [
          0.21428571428571427,
          0.206896551724138
         ]
        },
        {
         "hoverinfo": "none",
         "line": {
          "color": "#888",
          "width": 1
         },
         "mode": "lines",
         "type": "scatter",
         "x": [
          9.333333333333334,
          9.818181818181818
         ],
         "y": [
          0.42857142857142855,
          0.4137931034482759
         ]
        },
        {
         "hoverinfo": "none",
         "line": {
          "color": "#888",
          "width": 1
         },
         "mode": "lines",
         "type": "scatter",
         "x": [
          8.555555555555555,
          7.909090909090909
         ],
         "y": [
          0.5,
          0.5517241379310345
         ]
        },
        {
         "hoverinfo": "none",
         "line": {
          "color": "#888",
          "width": 1
         },
         "mode": "lines",
         "type": "scatter",
         "x": [
          9.4,
          9.666666666666666
         ],
         "y": [
          0.5,
          0.5517241379310345
         ]
        },
        {
         "hoverinfo": "none",
         "line": {
          "color": "#888",
          "width": 1
         },
         "mode": "lines",
         "type": "scatter",
         "x": [
          9.909090909090908,
          9.153846153846153
         ],
         "y": [
          0.5517241379310345,
          0.6
         ]
        },
        {
         "hoverinfo": "none",
         "line": {
          "color": "#888",
          "width": 1
         },
         "mode": "lines",
         "type": "scatter",
         "x": [
          9.909090909090908,
          9.533333333333333
         ],
         "y": [
          0.5517241379310345,
          0.6451612903225806
         ]
        },
        {
         "hoverinfo": "none",
         "line": {
          "color": "#888",
          "width": 1
         },
         "mode": "lines",
         "type": "scatter",
         "x": [
          9.909090909090908,
          8.428571428571429
         ],
         "y": [
          0.5517241379310345,
          0.6060606060606061
         ]
        },
        {
         "hoverinfo": "none",
         "line": {
          "color": "#888",
          "width": 1
         },
         "mode": "lines",
         "type": "scatter",
         "x": [
          7.9,
          8.416666666666666
         ],
         "y": [
          0.3448275862068965,
          0.4
         ]
        },
        {
         "hoverinfo": "none",
         "line": {
          "color": "#888",
          "width": 2
         },
         "mode": "lines",
         "type": "scatter",
         "x": [
          7.909090909090909,
          6.857142857142857
         ],
         "y": [
          0.5517241379310345,
          0.7272727272727273
         ]
        },
        {
         "hoverinfo": "none",
         "line": {
          "color": "#888",
          "width": 3
         },
         "mode": "lines",
         "type": "scatter",
         "x": [
          7.909090909090909,
          8.384615384615385
         ],
         "y": [
          0.5517241379310345,
          0.6
         ]
        },
        {
         "hoverinfo": "none",
         "line": {
          "color": "#888",
          "width": 1
         },
         "mode": "lines",
         "type": "scatter",
         "x": [
          7.909090909090909,
          7.461538461538462
         ],
         "y": [
          0.5517241379310345,
          0.6
         ]
        },
        {
         "hoverinfo": "none",
         "line": {
          "color": "#888",
          "width": 1
         },
         "mode": "lines",
         "type": "scatter",
         "x": [
          8.818181818181818,
          9.153846153846153
         ],
         "y": [
          0.5517241379310345,
          0.6
         ]
        },
        {
         "hoverinfo": "none",
         "line": {
          "color": "#888",
          "width": 1
         },
         "mode": "lines",
         "type": "scatter",
         "x": [
          7.818181818181818,
          8.153846153846153
         ],
         "y": [
          0.206896551724138,
          0.2
         ]
        },
        {
         "hoverinfo": "none",
         "line": {
          "color": "#888",
          "width": 1
         },
         "mode": "lines",
         "type": "scatter",
         "x": [
          8.833333333333334,
          8.75
         ],
         "y": [
          0.5517241379310345,
          0.6451612903225806
         ]
        },
        {
         "hoverinfo": "none",
         "line": {
          "color": "#888",
          "width": 1
         },
         "mode": "lines",
         "type": "scatter",
         "x": [
          9.818181818181818,
          9.846153846153847
         ],
         "y": [
          0.4137931034482759,
          0.4
         ]
        },
        {
         "hoverinfo": "none",
         "line": {
          "color": "#888",
          "width": 1
         },
         "mode": "lines",
         "type": "scatter",
         "x": [
          9.818181818181818,
          8.923076923076923
         ],
         "y": [
          0.4827586206896552,
          0.4666666666666666
         ]
        },
        {
         "hoverinfo": "none",
         "line": {
          "color": "#888",
          "width": 1
         },
         "mode": "lines",
         "type": "scatter",
         "x": [
          9.666666666666666,
          9.384615384615385
         ],
         "y": [
          0.5517241379310345,
          0.5333333333333333
         ]
        },
        {
         "hoverinfo": "none",
         "line": {
          "color": "#888",
          "width": 2
         },
         "mode": "lines",
         "type": "scatter",
         "x": [
          9.153846153846153,
          9.166666666666666
         ],
         "y": [
          0.6,
          0.6875000000000001
         ]
        },
        {
         "hoverinfo": "none",
         "line": {
          "color": "#888",
          "width": 1
         },
         "mode": "lines",
         "type": "scatter",
         "x": [
          8.416666666666666,
          8.692307692307692
         ],
         "y": [
          0.4,
          0.3870967741935483
         ]
        },
        {
         "hoverinfo": "none",
         "line": {
          "color": "#888",
          "width": 1
         },
         "mode": "lines",
         "type": "scatter",
         "x": [
          9.857142857142858,
          9.533333333333333
         ],
         "y": [
          0.6,
          0.6451612903225806
         ]
        },
        {
         "hoverinfo": "none",
         "line": {
          "color": "#888",
          "width": 1
         },
         "mode": "lines",
         "type": "scatter",
         "x": [
          8.153846153846153,
          8
         ],
         "y": [
          0.2,
          0.35294117647058826
         ]
        },
        {
         "hoverinfo": "none",
         "line": {
          "color": "#888",
          "width": 3
         },
         "mode": "lines",
         "type": "scatter",
         "x": [
          8.384615384615385,
          8.733333333333333
         ],
         "y": [
          0.6,
          0.6451612903225806
         ]
        },
        {
         "hoverinfo": "none",
         "line": {
          "color": "#888",
          "width": 1
         },
         "mode": "lines",
         "type": "scatter",
         "x": [
          9.846153846153847,
          10.133333333333333
         ],
         "y": [
          0.4,
          0.3870967741935483
         ]
        },
        {
         "hoverinfo": "none",
         "line": {
          "color": "#888",
          "width": 1
         },
         "mode": "lines",
         "type": "scatter",
         "x": [
          8.923076923076923,
          9
         ],
         "y": [
          0.4666666666666666,
          0.5625
         ]
        },
        {
         "hoverinfo": "none",
         "line": {
          "color": "#888",
          "width": 1
         },
         "mode": "lines",
         "type": "scatter",
         "x": [
          9.384615384615385,
          8.933333333333334
         ],
         "y": [
          0.5333333333333333,
          0.5161290322580645
         ]
        },
        {
         "hoverinfo": "none",
         "line": {
          "color": "#888",
          "width": 1
         },
         "mode": "lines",
         "type": "scatter",
         "x": [
          7.461538461538462,
          7.133333333333334
         ],
         "y": [
          0.6,
          0.6451612903225806
         ]
        },
        {
         "hoverinfo": "none",
         "line": {
          "color": "#888",
          "width": 7
         },
         "mode": "lines",
         "type": "scatter",
         "x": [
          9.166666666666666,
          8.0625
         ],
         "y": [
          0.6875000000000001,
          0.8333333333333333
         ]
        },
        {
         "hoverinfo": "none",
         "line": {
          "color": "#888",
          "width": 1
         },
         "mode": "lines",
         "type": "scatter",
         "x": [
          9.25,
          9
         ],
         "y": [
          0.4375,
          0.5294117647058824
         ]
        },
        {
         "hoverinfo": "none",
         "line": {
          "color": "#888",
          "width": 1
         },
         "mode": "lines",
         "type": "scatter",
         "x": [
          8.333333333333334,
          8.714285714285714
         ],
         "y": [
          0.6875000000000001,
          0.7272727272727273
         ]
        },
        {
         "hoverinfo": "none",
         "line": {
          "color": "#888",
          "width": 1
         },
         "mode": "lines",
         "type": "scatter",
         "x": [
          8.5,
          9
         ],
         "y": [
          0.6249999999999999,
          0.6060606060606061
         ]
        },
        {
         "hoverinfo": "none",
         "line": {
          "color": "#888",
          "width": 1
         },
         "mode": "lines",
         "type": "scatter",
         "x": [
          10.5,
          10.5
         ],
         "y": [
          0.375,
          0.4242424242424242
         ]
        },
        {
         "hoverinfo": "none",
         "line": {
          "color": "#888",
          "width": 1
         },
         "mode": "lines",
         "type": "scatter",
         "x": [
          9,
          9
         ],
         "y": [
          0.5625,
          0.6060606060606061
         ]
        },
        {
         "hoverinfo": "none",
         "line": {
          "color": "#888",
          "width": 1
         },
         "mode": "lines",
         "type": "scatter",
         "x": [
          9.571428571428571,
          8.736842105263158
         ],
         "y": [
          0.6875000000000001,
          0.8333333333333333
         ]
        },
        {
         "hoverinfo": "none",
         "line": {
          "color": "#888",
          "width": 4
         },
         "mode": "lines",
         "type": "scatter",
         "x": [
          8.0625,
          7.4
         ],
         "y": [
          0.8333333333333333,
          0.95
         ]
        },
        {
         "hoverinfo": "none",
         "line": {
          "color": "#888",
          "width": 3
         },
         "mode": "lines",
         "type": "scatter",
         "x": [
          8.0625,
          8.166666666666666
         ],
         "y": [
          0.8333333333333333,
          0.8648648648648648
         ]
        },
        {
         "hoverinfo": "none",
         "line": {
          "color": "#888",
          "width": 1
         },
         "mode": "lines",
         "type": "scatter",
         "x": [
          9.166666666666666,
          8.428571428571429
         ],
         "y": [
          0.6111111111111109,
          0.5945945945945946
         ]
        },
        {
         "hoverinfo": "none",
         "line": {
          "color": "#888",
          "width": 1
         },
         "mode": "lines",
         "type": "scatter",
         "x": [
          9.5,
          8.2
         ],
         "y": [
          0.7222222222222222,
          0.6500000000000001
         ]
        },
        {
         "hoverinfo": "none",
         "line": {
          "color": "#888",
          "width": 1
         },
         "mode": "lines",
         "type": "scatter",
         "x": [
          7.0625,
          7.5
         ],
         "y": [
          0.8333333333333333,
          0.8648648648648648
         ]
        },
        {
         "hoverinfo": "none",
         "line": {
          "color": "#888",
          "width": 4
         },
         "mode": "lines",
         "type": "scatter",
         "x": [
          7.4,
          7.545454545454546
         ],
         "y": [
          0.95,
          0.975609756097561
         ]
        },
        {
         "hoverinfo": "none",
         "line": {
          "color": "#888",
          "width": 2
         },
         "mode": "lines",
         "type": "scatter",
         "x": [
          7,
          7.363636363636363
         ],
         "y": [
          0.95,
          0.975609756097561
         ]
        },
        {
         "hoverinfo": "none",
         "line": {
          "color": "#888",
          "width": 1
         },
         "mode": "lines",
         "type": "scatter",
         "x": [
          8.625,
          8.8
         ],
         "y": [
          0.6500000000000001,
          0.6666666666666666
         ]
        },
        {
         "hoverinfo": "none",
         "line": {
          "color": "#888",
          "width": 5
         },
         "mode": "lines",
         "type": "scatter",
         "x": [
          7.545454545454546,
          7.666666666666667
         ],
         "y": [
          0.975609756097561,
          1
         ]
        },
        {
         "hoverinfo": "none",
         "line": {
          "color": "#888",
          "width": 2
         },
         "mode": "lines",
         "type": "scatter",
         "x": [
          7.363636363636363,
          7.666666666666667
         ],
         "y": [
          0.975609756097561,
          1
         ]
        },
        {
         "hoverinfo": "none",
         "line": {
          "color": "#888",
          "width": 1
         },
         "mode": "lines",
         "type": "scatter",
         "x": [
          7.7272727272727275,
          7.666666666666667
         ],
         "y": [
          0.975609756097561,
          1
         ]
        },
        {
         "hoverinfo": "none",
         "line": {
          "color": "#888",
          "width": 1
         },
         "mode": "lines",
         "type": "scatter",
         "x": [
          7.909090909090909,
          7.666666666666667
         ],
         "y": [
          0.975609756097561,
          1
         ]
        },
        {
         "hoverinfo": "none",
         "line": {
          "color": "#888",
          "width": 1
         },
         "mode": "lines",
         "type": "scatter",
         "x": [
          7.4,
          7.4
         ],
         "y": [
          0.8780487804878048,
          0.9047619047619048
         ]
        },
        {
         "hoverinfo": "none",
         "line": {
          "color": "#888",
          "width": 1
         },
         "mode": "lines",
         "type": "scatter",
         "x": [
          8.8,
          8.142857142857142
         ],
         "y": [
          0.6666666666666666,
          0.7826086956521741
         ]
        },
        {
         "hoverinfo": "none",
         "line": {
          "color": "#888",
          "width": 1
         },
         "mode": "lines",
         "type": "scatter",
         "x": [
          7.4,
          7.5
         ],
         "y": [
          0.9047619047619048,
          0.9302325581395348
         ]
        },
        {
         "hoverinfo": "none",
         "line": {
          "color": "#888",
          "width": 1
         },
         "mode": "lines",
         "type": "scatter",
         "x": [
          8.692307692307692,
          9.25
         ],
         "y": [
          0.3870967741935483,
          0.4375
         ]
        },
        {
         "hoverinfo": "none",
         "line": {
          "color": "#888",
          "width": 2
         },
         "mode": "lines",
         "type": "scatter",
         "x": [
          9.533333333333333,
          9.166666666666666
         ],
         "y": [
          0.6451612903225806,
          0.6875000000000001
         ]
        },
        {
         "hoverinfo": "none",
         "line": {
          "color": "#888",
          "width": 1
         },
         "mode": "lines",
         "type": "scatter",
         "x": [
          8.75,
          8.5
         ],
         "y": [
          0.6451612903225806,
          0.6249999999999999
         ]
        },
        {
         "hoverinfo": "none",
         "line": {
          "color": "#888",
          "width": 3
         },
         "mode": "lines",
         "type": "scatter",
         "x": [
          8.733333333333333,
          9.166666666666666
         ],
         "y": [
          0.6451612903225806,
          0.6875000000000001
         ]
        },
        {
         "hoverinfo": "none",
         "line": {
          "color": "#888",
          "width": 1
         },
         "mode": "lines",
         "type": "scatter",
         "x": [
          10.133333333333333,
          10.5
         ],
         "y": [
          0.3870967741935483,
          0.375
         ]
        },
        {
         "hoverinfo": "none",
         "line": {
          "color": "#888",
          "width": 1
         },
         "mode": "lines",
         "type": "scatter",
         "x": [
          8.933333333333334,
          8.285714285714286
         ],
         "y": [
          0.5161290322580645,
          0.6857142857142857
         ]
        },
        {
         "hoverinfo": "none",
         "line": {
          "color": "#888",
          "width": 1
         },
         "mode": "lines",
         "type": "scatter",
         "x": [
          7.133333333333334,
          6.8
         ],
         "y": [
          0.6451612903225806,
          0.8
         ]
        },
        {
         "hoverinfo": "none",
         "line": {
          "color": "#888",
          "width": 1
         },
         "mode": "lines",
         "type": "scatter",
         "x": [
          9,
          9.166666666666666
         ],
         "y": [
          0.5294117647058824,
          0.6111111111111109
         ]
        },
        {
         "hoverinfo": "none",
         "line": {
          "color": "#888",
          "width": 1
         },
         "mode": "lines",
         "type": "scatter",
         "x": [
          9,
          8.642857142857142
         ],
         "y": [
          0.7647058823529412,
          0.8
         ]
        },
        {
         "hoverinfo": "none",
         "line": {
          "color": "#888",
          "width": 1
         },
         "mode": "lines",
         "type": "scatter",
         "x": [
          8,
          6.75
         ],
         "y": [
          0.35294117647058826,
          0.42105263157894735
         ]
        },
        {
         "hoverinfo": "none",
         "line": {
          "color": "#888",
          "width": 1
         },
         "mode": "lines",
         "type": "scatter",
         "x": [
          9.25,
          9.285714285714286
         ],
         "y": [
          0.6470588235294118,
          0.6857142857142857
         ]
        },
        {
         "hoverinfo": "none",
         "line": {
          "color": "#888",
          "width": 1
         },
         "mode": "lines",
         "type": "scatter",
         "x": [
          9.714285714285714,
          8.470588235294118
         ],
         "y": [
          0.4705882352941176,
          0.6315789473684211
         ]
        },
        {
         "hoverinfo": "none",
         "line": {
          "color": "#888",
          "width": 1
         },
         "mode": "lines",
         "type": "scatter",
         "x": [
          8.428571428571429,
          8.333333333333334
         ],
         "y": [
          0.5945945945945946,
          0.5789473684210527
         ]
        },
        {
         "hoverinfo": "none",
         "line": {
          "color": "#888",
          "width": 1
         },
         "mode": "lines",
         "type": "scatter",
         "x": [
          8.166666666666666,
          7.545454545454546
         ],
         "y": [
          0.8648648648648648,
          0.975609756097561
         ]
        },
        {
         "hoverinfo": "none",
         "line": {
          "color": "#888",
          "width": 1
         },
         "mode": "lines",
         "type": "scatter",
         "x": [
          8.166666666666666,
          7.681818181818182
         ],
         "y": [
          0.8648648648648648,
          0.923076923076923
         ]
        },
        {
         "hoverinfo": "none",
         "line": {
          "color": "#888",
          "width": 1
         },
         "mode": "lines",
         "type": "scatter",
         "x": [
          8.166666666666666,
          7.909090909090909
         ],
         "y": [
          0.8648648648648648,
          0.975609756097561
         ]
        },
        {
         "hoverinfo": "none",
         "line": {
          "color": "#888",
          "width": 2
         },
         "mode": "lines",
         "type": "scatter",
         "x": [
          6.631578947368421,
          6.857142857142857
         ],
         "y": [
          0.8648648648648648,
          0.8947368421052632
         ]
        },
        {
         "hoverinfo": "none",
         "line": {
          "color": "#888",
          "width": 1
         },
         "mode": "lines",
         "type": "scatter",
         "x": [
          7.823529411764706,
          7.4
         ],
         "y": [
          0.7567567567567567,
          0.8780487804878048
         ]
        },
        {
         "hoverinfo": "none",
         "line": {
          "color": "#888",
          "width": 1
         },
         "mode": "lines",
         "type": "scatter",
         "x": [
          7.5,
          7.85
         ],
         "y": [
          0.8648648648648648,
          0.8947368421052632
         ]
        },
        {
         "hoverinfo": "none",
         "line": {
          "color": "#888",
          "width": 1
         },
         "mode": "lines",
         "type": "scatter",
         "x": [
          8.333333333333334,
          8.176470588235293
         ],
         "y": [
          0.5789473684210527,
          0.6153846153846153
         ]
        },
        {
         "hoverinfo": "none",
         "line": {
          "color": "#888",
          "width": 2
         },
         "mode": "lines",
         "type": "scatter",
         "x": [
          6.857142857142857,
          7.043478260869565
         ],
         "y": [
          0.8947368421052632,
          0.923076923076923
         ]
        },
        {
         "hoverinfo": "none",
         "line": {
          "color": "#888",
          "width": 1
         },
         "mode": "lines",
         "type": "scatter",
         "x": [
          6.75,
          6.583333333333333
         ],
         "y": [
          0.42105263157894735,
          0.5714285714285714
         ]
        },
        {
         "hoverinfo": "none",
         "line": {
          "color": "#888",
          "width": 1
         },
         "mode": "lines",
         "type": "scatter",
         "x": [
          8.470588235294118,
          8.625
         ],
         "y": [
          0.6315789473684211,
          0.6500000000000001
         ]
        },
        {
         "hoverinfo": "none",
         "line": {
          "color": "#888",
          "width": 1
         },
         "mode": "lines",
         "type": "scatter",
         "x": [
          7.85,
          7.666666666666667
         ],
         "y": [
          0.8947368421052632,
          1
         ]
        },
        {
         "hoverinfo": "none",
         "line": {
          "color": "#888",
          "width": 1
         },
         "mode": "lines",
         "type": "scatter",
         "x": [
          8.176470588235293,
          7
         ],
         "y": [
          0.6153846153846153,
          0.6976744186046512
         ]
        },
        {
         "hoverinfo": "none",
         "line": {
          "color": "#888",
          "width": 2
         },
         "mode": "lines",
         "type": "scatter",
         "x": [
          7.043478260869565,
          7
         ],
         "y": [
          0.923076923076923,
          0.95
         ]
        },
        {
         "hoverinfo": "none",
         "line": {
          "color": "#888",
          "width": 1
         },
         "mode": "lines",
         "type": "scatter",
         "x": [
          7.681818181818182,
          7.7272727272727275
         ],
         "y": [
          0.923076923076923,
          0.975609756097561
         ]
        },
        {
         "hoverinfo": "none",
         "line": {
          "color": "#888",
          "width": 1
         },
         "mode": "lines",
         "type": "scatter",
         "x": [
          7.863636363636363,
          7.9
         ],
         "y": [
          0.923076923076923,
          0.95
         ]
        },
        {
         "hoverinfo": "none",
         "line": {
          "color": "#888",
          "width": 1
         },
         "mode": "lines",
         "type": "scatter",
         "x": [
          8,
          8.2
         ],
         "y": [
          0.8205128205128205,
          0.8500000000000001
         ]
        },
        {
         "hoverinfo": "none",
         "line": {
          "color": "#888",
          "width": 1
         },
         "mode": "lines",
         "type": "scatter",
         "x": [
          7,
          7.315789473684211
         ],
         "y": [
          0.6976744186046512,
          0.7555555555555556
         ]
        },
        {
         "hoverinfo": "none",
         "line": {
          "color": "#888",
          "width": 1
         },
         "mode": "lines",
         "type": "scatter",
         "x": [
          7.5,
          7.666666666666667
         ],
         "y": [
          0.9302325581395348,
          0.9545454545454544
         ]
        },
        {
         "hoverinfo": "none",
         "line": {
          "color": "#888",
          "width": 3
         },
         "mode": "lines",
         "type": "scatter",
         "x": [
          5,
          5
         ],
         "y": [
          0.0909090909090909,
          0.17391304347826084
         ]
        },
        {
         "hoverinfo": "none",
         "line": {
          "color": "#888",
          "width": 1
         },
         "mode": "lines",
         "type": "scatter",
         "x": [
          5,
          8.6
         ],
         "y": [
          0.0909090909090909,
          0.3846153846153846
         ]
        },
        {
         "hoverinfo": "none",
         "line": {
          "color": "#888",
          "width": 2
         },
         "mode": "lines",
         "type": "scatter",
         "x": [
          5,
          7.571428571428571
         ],
         "y": [
          0.17391304347826084,
          0.4444444444444445
         ]
        },
        {
         "hoverinfo": "none",
         "line": {
          "color": "#888",
          "width": 1
         },
         "mode": "lines",
         "type": "scatter",
         "x": [
          5,
          7.333333333333333
         ],
         "y": [
          0.17391304347826084,
          0.4444444444444445
         ]
        },
        {
         "hoverinfo": "none",
         "line": {
          "color": "#888",
          "width": 2
         },
         "mode": "lines",
         "type": "scatter",
         "x": [
          6.857142857142857,
          6.631578947368421
         ],
         "y": [
          0.7272727272727273,
          0.8648648648648648
         ]
        },
        {
         "hoverinfo": "none",
         "line": {
          "color": "#888",
          "width": 1
         },
         "mode": "lines",
         "type": "scatter",
         "x": [
          8.714285714285714,
          9
         ],
         "y": [
          0.7272727272727273,
          0.7647058823529412
         ]
        },
        {
         "hoverinfo": "none",
         "line": {
          "color": "#888",
          "width": 1
         },
         "mode": "lines",
         "type": "scatter",
         "x": [
          9,
          9.25
         ],
         "y": [
          0.6060606060606061,
          0.6470588235294118
         ]
        },
        {
         "hoverinfo": "none",
         "line": {
          "color": "#888",
          "width": 1
         },
         "mode": "lines",
         "type": "scatter",
         "x": [
          10.5,
          9.714285714285714
         ],
         "y": [
          0.4242424242424242,
          0.4705882352941176
         ]
        },
        {
         "hoverinfo": "none",
         "line": {
          "color": "#888",
          "width": 1
         },
         "mode": "lines",
         "type": "scatter",
         "x": [
          8.428571428571429,
          7.823529411764706
         ],
         "y": [
          0.6060606060606061,
          0.7567567567567567
         ]
        },
        {
         "hoverinfo": "none",
         "line": {
          "color": "#888",
          "width": 1
         },
         "mode": "lines",
         "type": "scatter",
         "x": [
          9,
          8.428571428571429
         ],
         "y": [
          0.6060606060606061,
          0.6470588235294118
         ]
        },
        {
         "hoverinfo": "none",
         "line": {
          "color": "#888",
          "width": 1
         },
         "mode": "lines",
         "type": "scatter",
         "x": [
          8.642857142857142,
          7.863636363636363
         ],
         "y": [
          0.8,
          0.923076923076923
         ]
        },
        {
         "hoverinfo": "none",
         "line": {
          "color": "#888",
          "width": 1
         },
         "mode": "lines",
         "type": "scatter",
         "x": [
          9.285714285714286,
          9.5
         ],
         "y": [
          0.6857142857142857,
          0.7222222222222222
         ]
        },
        {
         "hoverinfo": "none",
         "line": {
          "color": "#888",
          "width": 1
         },
         "mode": "lines",
         "type": "scatter",
         "x": [
          8.285714285714286,
          8
         ],
         "y": [
          0.6857142857142857,
          0.8205128205128205
         ]
        },
        {
         "hoverinfo": "none",
         "line": {
          "color": "#888",
          "width": 1
         },
         "mode": "lines",
         "type": "scatter",
         "x": [
          6.8,
          7.0625
         ],
         "y": [
          0.8,
          0.8333333333333333
         ]
        },
        {
         "hoverinfo": "text",
         "marker": {
          "line": {
           "width": 2
          },
          "reversescale": true,
          "showscale": true,
          "size": [
           25.28771237954945,
           21.83772647454919,
           12,
           12,
           17.28771237954945,
           12,
           17.28771237954945,
           16,
           12,
           17.28771237954945,
           14.339850002884624,
           16,
           8,
           16,
           8,
           12,
           12,
           8,
           8,
           8,
           8,
           14.339850002884624,
           8,
           18.339850002884624,
           8,
           8,
           8,
           8,
           8,
           8,
           12,
           8,
           8,
           8,
           14.339850002884624,
           8,
           8,
           8,
           8,
           19.229419688230415,
           8,
           8,
           8,
           8,
           8,
           8,
           19.229419688230415,
           8,
           8,
           8,
           8,
           16,
           12,
           8,
           8,
           8,
           8,
           17.28771237954945,
           12,
           8,
           8,
           8,
           21.28771237954945,
           8,
           8,
           8,
           8,
           12,
           8,
           14.339850002884624,
           8,
           8,
           8,
           8,
           8,
           8,
           8,
           8,
           8,
           8,
           14.339850002884624,
           12,
           8,
           8,
           8,
           12,
           8,
           8,
           8,
           8,
           12,
           8,
           8,
           8,
           8,
           8,
           8,
           16,
           14.339850002884624,
           12,
           8,
           8,
           8,
           8,
           8,
           8,
           8,
           8,
           8,
           8,
           8
          ]
         },
         "mode": "markers",
         "type": "scatter",
         "x": [
          8.5,
          9.5,
          8.5,
          8.5,
          9.8,
          7.6,
          8.6,
          10.25,
          6.571428571428571,
          7.571428571428571,
          9.285714285714286,
          9,
          7.333333333333333,
          10.4,
          7.125,
          8.333333333333334,
          9.666666666666666,
          7.333333333333333,
          9.333333333333334,
          8.555555555555555,
          9.4,
          9.909090909090908,
          7.9,
          7.909090909090909,
          8.818181818181818,
          7.818181818181818,
          8.833333333333334,
          9.818181818181818,
          9.818181818181818,
          9.666666666666666,
          9.153846153846153,
          8.416666666666666,
          9.857142857142858,
          8.153846153846153,
          8.384615384615385,
          9.846153846153847,
          8.923076923076923,
          9.384615384615385,
          7.461538461538462,
          9.166666666666666,
          9.25,
          8.333333333333334,
          8.5,
          10.5,
          9,
          9.571428571428571,
          8.0625,
          9.166666666666666,
          9.5,
          7.0625,
          8.736842105263158,
          7.4,
          7,
          7.9,
          8.2,
          8.625,
          8.2,
          7.545454545454546,
          7.363636363636363,
          7.7272727272727275,
          7.909090909090909,
          7.4,
          7.666666666666667,
          6.583333333333333,
          8.8,
          7.4,
          8.692307692307692,
          9.533333333333333,
          8.75,
          8.733333333333333,
          10.133333333333333,
          8.933333333333334,
          7.133333333333334,
          9,
          9,
          8,
          9.25,
          9.714285714285714,
          8.428571428571429,
          8.428571428571429,
          8.166666666666666,
          6.631578947368421,
          7.823529411764706,
          7.5,
          8.333333333333334,
          6.857142857142857,
          6.75,
          8.470588235294118,
          7.85,
          8.176470588235293,
          7.043478260869565,
          7.681818181818182,
          7.863636363636363,
          8,
          7,
          7.5,
          7.315789473684211,
          5,
          5,
          6.857142857142857,
          8.714285714285714,
          9,
          10.5,
          8.428571428571429,
          9,
          8.642857142857142,
          9.285714285714286,
          8.285714285714286,
          6.8,
          8.142857142857142,
          7.666666666666667
         ],
         "y": [
          0,
          0.32,
          0.24,
          0.32,
          0.3846153846153846,
          0.23076923076923075,
          0.3846153846153846,
          0.4444444444444445,
          0.22222222222222224,
          0.4444444444444445,
          0.4444444444444445,
          0.4444444444444445,
          0.4444444444444445,
          0.5,
          0.2857142857142857,
          0.5,
          0.5,
          0.21428571428571427,
          0.42857142857142855,
          0.5,
          0.5,
          0.5517241379310345,
          0.3448275862068965,
          0.5517241379310345,
          0.5517241379310345,
          0.206896551724138,
          0.5517241379310345,
          0.4137931034482759,
          0.4827586206896552,
          0.5517241379310345,
          0.6,
          0.4,
          0.6,
          0.2,
          0.6,
          0.4,
          0.4666666666666666,
          0.5333333333333333,
          0.6,
          0.6875000000000001,
          0.4375,
          0.6875000000000001,
          0.6249999999999999,
          0.375,
          0.5625,
          0.6875000000000001,
          0.8333333333333333,
          0.6111111111111109,
          0.7222222222222222,
          0.8333333333333333,
          0.8333333333333333,
          0.95,
          0.95,
          0.95,
          0.6500000000000001,
          0.6500000000000001,
          0.8500000000000001,
          0.975609756097561,
          0.975609756097561,
          0.975609756097561,
          0.975609756097561,
          0.8780487804878048,
          1,
          0.5714285714285714,
          0.6666666666666666,
          0.9047619047619048,
          0.3870967741935483,
          0.6451612903225806,
          0.6451612903225806,
          0.6451612903225806,
          0.3870967741935483,
          0.5161290322580645,
          0.6451612903225806,
          0.5294117647058824,
          0.7647058823529412,
          0.35294117647058826,
          0.6470588235294118,
          0.4705882352941176,
          0.6470588235294118,
          0.5945945945945946,
          0.8648648648648648,
          0.8648648648648648,
          0.7567567567567567,
          0.8648648648648648,
          0.5789473684210527,
          0.8947368421052632,
          0.42105263157894735,
          0.6315789473684211,
          0.8947368421052632,
          0.6153846153846153,
          0.923076923076923,
          0.923076923076923,
          0.923076923076923,
          0.8205128205128205,
          0.6976744186046512,
          0.9302325581395348,
          0.7555555555555556,
          0.0909090909090909,
          0.17391304347826084,
          0.7272727272727273,
          0.7272727272727273,
          0.6060606060606061,
          0.4242424242424242,
          0.6060606060606061,
          0.6060606060606061,
          0.8,
          0.6857142857142857,
          0.6857142857142857,
          0.8,
          0.7826086956521741,
          0.9545454545454544
         ]
        }
       ],
       "layout": {
        "annotations": [
         {
          "showarrow": false,
          "text": "",
          "x": 0.005,
          "xref": "paper",
          "y": -0.002,
          "yref": "paper"
         }
        ],
        "height": 800,
        "hovermode": "closest",
        "margin": {
         "b": 20,
         "l": 5,
         "r": 5,
         "t": 40
        },
        "showlegend": false,
        "template": {
         "data": {
          "bar": [
           {
            "error_x": {
             "color": "#2a3f5f"
            },
            "error_y": {
             "color": "#2a3f5f"
            },
            "marker": {
             "line": {
              "color": "#E5ECF6",
              "width": 0.5
             }
            },
            "type": "bar"
           }
          ],
          "barpolar": [
           {
            "marker": {
             "line": {
              "color": "#E5ECF6",
              "width": 0.5
             }
            },
            "type": "barpolar"
           }
          ],
          "carpet": [
           {
            "aaxis": {
             "endlinecolor": "#2a3f5f",
             "gridcolor": "white",
             "linecolor": "white",
             "minorgridcolor": "white",
             "startlinecolor": "#2a3f5f"
            },
            "baxis": {
             "endlinecolor": "#2a3f5f",
             "gridcolor": "white",
             "linecolor": "white",
             "minorgridcolor": "white",
             "startlinecolor": "#2a3f5f"
            },
            "type": "carpet"
           }
          ],
          "choropleth": [
           {
            "colorbar": {
             "outlinewidth": 0,
             "ticks": ""
            },
            "type": "choropleth"
           }
          ],
          "contour": [
           {
            "colorbar": {
             "outlinewidth": 0,
             "ticks": ""
            },
            "colorscale": [
             [
              0,
              "#0d0887"
             ],
             [
              0.1111111111111111,
              "#46039f"
             ],
             [
              0.2222222222222222,
              "#7201a8"
             ],
             [
              0.3333333333333333,
              "#9c179e"
             ],
             [
              0.4444444444444444,
              "#bd3786"
             ],
             [
              0.5555555555555556,
              "#d8576b"
             ],
             [
              0.6666666666666666,
              "#ed7953"
             ],
             [
              0.7777777777777778,
              "#fb9f3a"
             ],
             [
              0.8888888888888888,
              "#fdca26"
             ],
             [
              1,
              "#f0f921"
             ]
            ],
            "type": "contour"
           }
          ],
          "contourcarpet": [
           {
            "colorbar": {
             "outlinewidth": 0,
             "ticks": ""
            },
            "type": "contourcarpet"
           }
          ],
          "heatmap": [
           {
            "colorbar": {
             "outlinewidth": 0,
             "ticks": ""
            },
            "colorscale": [
             [
              0,
              "#0d0887"
             ],
             [
              0.1111111111111111,
              "#46039f"
             ],
             [
              0.2222222222222222,
              "#7201a8"
             ],
             [
              0.3333333333333333,
              "#9c179e"
             ],
             [
              0.4444444444444444,
              "#bd3786"
             ],
             [
              0.5555555555555556,
              "#d8576b"
             ],
             [
              0.6666666666666666,
              "#ed7953"
             ],
             [
              0.7777777777777778,
              "#fb9f3a"
             ],
             [
              0.8888888888888888,
              "#fdca26"
             ],
             [
              1,
              "#f0f921"
             ]
            ],
            "type": "heatmap"
           }
          ],
          "heatmapgl": [
           {
            "colorbar": {
             "outlinewidth": 0,
             "ticks": ""
            },
            "colorscale": [
             [
              0,
              "#0d0887"
             ],
             [
              0.1111111111111111,
              "#46039f"
             ],
             [
              0.2222222222222222,
              "#7201a8"
             ],
             [
              0.3333333333333333,
              "#9c179e"
             ],
             [
              0.4444444444444444,
              "#bd3786"
             ],
             [
              0.5555555555555556,
              "#d8576b"
             ],
             [
              0.6666666666666666,
              "#ed7953"
             ],
             [
              0.7777777777777778,
              "#fb9f3a"
             ],
             [
              0.8888888888888888,
              "#fdca26"
             ],
             [
              1,
              "#f0f921"
             ]
            ],
            "type": "heatmapgl"
           }
          ],
          "histogram": [
           {
            "marker": {
             "colorbar": {
              "outlinewidth": 0,
              "ticks": ""
             }
            },
            "type": "histogram"
           }
          ],
          "histogram2d": [
           {
            "colorbar": {
             "outlinewidth": 0,
             "ticks": ""
            },
            "colorscale": [
             [
              0,
              "#0d0887"
             ],
             [
              0.1111111111111111,
              "#46039f"
             ],
             [
              0.2222222222222222,
              "#7201a8"
             ],
             [
              0.3333333333333333,
              "#9c179e"
             ],
             [
              0.4444444444444444,
              "#bd3786"
             ],
             [
              0.5555555555555556,
              "#d8576b"
             ],
             [
              0.6666666666666666,
              "#ed7953"
             ],
             [
              0.7777777777777778,
              "#fb9f3a"
             ],
             [
              0.8888888888888888,
              "#fdca26"
             ],
             [
              1,
              "#f0f921"
             ]
            ],
            "type": "histogram2d"
           }
          ],
          "histogram2dcontour": [
           {
            "colorbar": {
             "outlinewidth": 0,
             "ticks": ""
            },
            "colorscale": [
             [
              0,
              "#0d0887"
             ],
             [
              0.1111111111111111,
              "#46039f"
             ],
             [
              0.2222222222222222,
              "#7201a8"
             ],
             [
              0.3333333333333333,
              "#9c179e"
             ],
             [
              0.4444444444444444,
              "#bd3786"
             ],
             [
              0.5555555555555556,
              "#d8576b"
             ],
             [
              0.6666666666666666,
              "#ed7953"
             ],
             [
              0.7777777777777778,
              "#fb9f3a"
             ],
             [
              0.8888888888888888,
              "#fdca26"
             ],
             [
              1,
              "#f0f921"
             ]
            ],
            "type": "histogram2dcontour"
           }
          ],
          "mesh3d": [
           {
            "colorbar": {
             "outlinewidth": 0,
             "ticks": ""
            },
            "type": "mesh3d"
           }
          ],
          "parcoords": [
           {
            "line": {
             "colorbar": {
              "outlinewidth": 0,
              "ticks": ""
             }
            },
            "type": "parcoords"
           }
          ],
          "pie": [
           {
            "automargin": true,
            "type": "pie"
           }
          ],
          "scatter": [
           {
            "marker": {
             "colorbar": {
              "outlinewidth": 0,
              "ticks": ""
             }
            },
            "type": "scatter"
           }
          ],
          "scatter3d": [
           {
            "line": {
             "colorbar": {
              "outlinewidth": 0,
              "ticks": ""
             }
            },
            "marker": {
             "colorbar": {
              "outlinewidth": 0,
              "ticks": ""
             }
            },
            "type": "scatter3d"
           }
          ],
          "scattercarpet": [
           {
            "marker": {
             "colorbar": {
              "outlinewidth": 0,
              "ticks": ""
             }
            },
            "type": "scattercarpet"
           }
          ],
          "scattergeo": [
           {
            "marker": {
             "colorbar": {
              "outlinewidth": 0,
              "ticks": ""
             }
            },
            "type": "scattergeo"
           }
          ],
          "scattergl": [
           {
            "marker": {
             "colorbar": {
              "outlinewidth": 0,
              "ticks": ""
             }
            },
            "type": "scattergl"
           }
          ],
          "scattermapbox": [
           {
            "marker": {
             "colorbar": {
              "outlinewidth": 0,
              "ticks": ""
             }
            },
            "type": "scattermapbox"
           }
          ],
          "scatterpolar": [
           {
            "marker": {
             "colorbar": {
              "outlinewidth": 0,
              "ticks": ""
             }
            },
            "type": "scatterpolar"
           }
          ],
          "scatterpolargl": [
           {
            "marker": {
             "colorbar": {
              "outlinewidth": 0,
              "ticks": ""
             }
            },
            "type": "scatterpolargl"
           }
          ],
          "scatterternary": [
           {
            "marker": {
             "colorbar": {
              "outlinewidth": 0,
              "ticks": ""
             }
            },
            "type": "scatterternary"
           }
          ],
          "surface": [
           {
            "colorbar": {
             "outlinewidth": 0,
             "ticks": ""
            },
            "colorscale": [
             [
              0,
              "#0d0887"
             ],
             [
              0.1111111111111111,
              "#46039f"
             ],
             [
              0.2222222222222222,
              "#7201a8"
             ],
             [
              0.3333333333333333,
              "#9c179e"
             ],
             [
              0.4444444444444444,
              "#bd3786"
             ],
             [
              0.5555555555555556,
              "#d8576b"
             ],
             [
              0.6666666666666666,
              "#ed7953"
             ],
             [
              0.7777777777777778,
              "#fb9f3a"
             ],
             [
              0.8888888888888888,
              "#fdca26"
             ],
             [
              1,
              "#f0f921"
             ]
            ],
            "type": "surface"
           }
          ],
          "table": [
           {
            "cells": {
             "fill": {
              "color": "#EBF0F8"
             },
             "line": {
              "color": "white"
             }
            },
            "header": {
             "fill": {
              "color": "#C8D4E3"
             },
             "line": {
              "color": "white"
             }
            },
            "type": "table"
           }
          ]
         },
         "layout": {
          "annotationdefaults": {
           "arrowcolor": "#2a3f5f",
           "arrowhead": 0,
           "arrowwidth": 1
          },
          "coloraxis": {
           "colorbar": {
            "outlinewidth": 0,
            "ticks": ""
           }
          },
          "colorscale": {
           "diverging": [
            [
             0,
             "#8e0152"
            ],
            [
             0.1,
             "#c51b7d"
            ],
            [
             0.2,
             "#de77ae"
            ],
            [
             0.3,
             "#f1b6da"
            ],
            [
             0.4,
             "#fde0ef"
            ],
            [
             0.5,
             "#f7f7f7"
            ],
            [
             0.6,
             "#e6f5d0"
            ],
            [
             0.7,
             "#b8e186"
            ],
            [
             0.8,
             "#7fbc41"
            ],
            [
             0.9,
             "#4d9221"
            ],
            [
             1,
             "#276419"
            ]
           ],
           "sequential": [
            [
             0,
             "#0d0887"
            ],
            [
             0.1111111111111111,
             "#46039f"
            ],
            [
             0.2222222222222222,
             "#7201a8"
            ],
            [
             0.3333333333333333,
             "#9c179e"
            ],
            [
             0.4444444444444444,
             "#bd3786"
            ],
            [
             0.5555555555555556,
             "#d8576b"
            ],
            [
             0.6666666666666666,
             "#ed7953"
            ],
            [
             0.7777777777777778,
             "#fb9f3a"
            ],
            [
             0.8888888888888888,
             "#fdca26"
            ],
            [
             1,
             "#f0f921"
            ]
           ],
           "sequentialminus": [
            [
             0,
             "#0d0887"
            ],
            [
             0.1111111111111111,
             "#46039f"
            ],
            [
             0.2222222222222222,
             "#7201a8"
            ],
            [
             0.3333333333333333,
             "#9c179e"
            ],
            [
             0.4444444444444444,
             "#bd3786"
            ],
            [
             0.5555555555555556,
             "#d8576b"
            ],
            [
             0.6666666666666666,
             "#ed7953"
            ],
            [
             0.7777777777777778,
             "#fb9f3a"
            ],
            [
             0.8888888888888888,
             "#fdca26"
            ],
            [
             1,
             "#f0f921"
            ]
           ]
          },
          "colorway": [
           "#636efa",
           "#EF553B",
           "#00cc96",
           "#ab63fa",
           "#FFA15A",
           "#19d3f3",
           "#FF6692",
           "#B6E880",
           "#FF97FF",
           "#FECB52"
          ],
          "font": {
           "color": "#2a3f5f"
          },
          "geo": {
           "bgcolor": "white",
           "lakecolor": "white",
           "landcolor": "#E5ECF6",
           "showlakes": true,
           "showland": true,
           "subunitcolor": "white"
          },
          "hoverlabel": {
           "align": "left"
          },
          "hovermode": "closest",
          "mapbox": {
           "style": "light"
          },
          "paper_bgcolor": "white",
          "plot_bgcolor": "#E5ECF6",
          "polar": {
           "angularaxis": {
            "gridcolor": "white",
            "linecolor": "white",
            "ticks": ""
           },
           "bgcolor": "#E5ECF6",
           "radialaxis": {
            "gridcolor": "white",
            "linecolor": "white",
            "ticks": ""
           }
          },
          "scene": {
           "xaxis": {
            "backgroundcolor": "#E5ECF6",
            "gridcolor": "white",
            "gridwidth": 2,
            "linecolor": "white",
            "showbackground": true,
            "ticks": "",
            "zerolinecolor": "white"
           },
           "yaxis": {
            "backgroundcolor": "#E5ECF6",
            "gridcolor": "white",
            "gridwidth": 2,
            "linecolor": "white",
            "showbackground": true,
            "ticks": "",
            "zerolinecolor": "white"
           },
           "zaxis": {
            "backgroundcolor": "#E5ECF6",
            "gridcolor": "white",
            "gridwidth": 2,
            "linecolor": "white",
            "showbackground": true,
            "ticks": "",
            "zerolinecolor": "white"
           }
          },
          "shapedefaults": {
           "line": {
            "color": "#2a3f5f"
           }
          },
          "ternary": {
           "aaxis": {
            "gridcolor": "white",
            "linecolor": "white",
            "ticks": ""
           },
           "baxis": {
            "gridcolor": "white",
            "linecolor": "white",
            "ticks": ""
           },
           "bgcolor": "#E5ECF6",
           "caxis": {
            "gridcolor": "white",
            "linecolor": "white",
            "ticks": ""
           }
          },
          "title": {
           "x": 0.05
          },
          "xaxis": {
           "automargin": true,
           "gridcolor": "white",
           "linecolor": "white",
           "ticks": "",
           "title": {
            "standoff": 15
           },
           "zerolinecolor": "white",
           "zerolinewidth": 2
          },
          "yaxis": {
           "automargin": true,
           "gridcolor": "white",
           "linecolor": "white",
           "ticks": "",
           "title": {
            "standoff": 15
           },
           "zerolinecolor": "white",
           "zerolinewidth": 2
          }
         }
        },
        "title": {
         "font": {
          "size": 16
         },
         "text": "<br>World states for hand_selected_012, repetition 3, by number of squares"
        },
        "width": 800
       }
      },
      "text/html": [
       "<div>\n",
       "        \n",
       "        \n",
       "            <div id=\"cac9fc24-fec9-4187-90ca-5c21d13a46c3\" class=\"plotly-graph-div\" style=\"height:800px; width:800px;\"></div>\n",
       "            <script type=\"text/javascript\">\n",
       "                require([\"plotly\"], function(Plotly) {\n",
       "                    window.PLOTLYENV=window.PLOTLYENV || {};\n",
       "                    \n",
       "                if (document.getElementById(\"cac9fc24-fec9-4187-90ca-5c21d13a46c3\")) {\n",
       "                    Plotly.newPlot(\n",
       "                        'cac9fc24-fec9-4187-90ca-5c21d13a46c3',\n",
       "                        [{\"hoverinfo\": \"none\", \"line\": {\"color\": \"#888\", \"width\": 11}, \"mode\": \"lines\", \"type\": \"scatter\", \"x\": [8.5, 9.5], \"y\": [0, 0.32]}, {\"hoverinfo\": \"none\", \"line\": {\"color\": \"#888\", \"width\": 2}, \"mode\": \"lines\", \"type\": \"scatter\", \"x\": [8.5, 8.5], \"y\": [0, 0.24]}, {\"hoverinfo\": \"none\", \"line\": {\"color\": \"#888\", \"width\": 4}, \"mode\": \"lines\", \"type\": \"scatter\", \"x\": [8.5, 5.0], \"y\": [0, 0.0909090909090909]}, {\"hoverinfo\": \"none\", \"line\": {\"color\": \"#888\", \"width\": 2}, \"mode\": \"lines\", \"type\": \"scatter\", \"x\": [8.5, 8.5], \"y\": [0, 0.32]}, {\"hoverinfo\": \"none\", \"line\": {\"color\": \"#888\", \"width\": 5}, \"mode\": \"lines\", \"type\": \"scatter\", \"x\": [9.5, 9.8], \"y\": [0.32, 0.3846153846153846]}, {\"hoverinfo\": \"none\", \"line\": {\"color\": \"#888\", \"width\": 4}, \"mode\": \"lines\", \"type\": \"scatter\", \"x\": [9.5, 8.6], \"y\": [0.32, 0.3846153846153846]}, {\"hoverinfo\": \"none\", \"line\": {\"color\": \"#888\", \"width\": 2}, \"mode\": \"lines\", \"type\": \"scatter\", \"x\": [9.5, 9.0], \"y\": [0.32, 0.4444444444444445]}, {\"hoverinfo\": \"none\", \"line\": {\"color\": \"#888\", \"width\": 2}, \"mode\": \"lines\", \"type\": \"scatter\", \"x\": [8.5, 7.6], \"y\": [0.24, 0.23076923076923075]}, {\"hoverinfo\": \"none\", \"line\": {\"color\": \"#888\", \"width\": 2}, \"mode\": \"lines\", \"type\": \"scatter\", \"x\": [8.5, 9.0], \"y\": [0.32, 0.4444444444444445]}, {\"hoverinfo\": \"none\", \"line\": {\"color\": \"#888\", \"width\": 4}, \"mode\": \"lines\", \"type\": \"scatter\", \"x\": [9.8, 10.25], \"y\": [0.3846153846153846, 0.4444444444444445]}, {\"hoverinfo\": \"none\", \"line\": {\"color\": \"#888\", \"width\": 1}, \"mode\": \"lines\", \"type\": \"scatter\", \"x\": [9.8, 9.285714285714286], \"y\": [0.3846153846153846, 0.4444444444444445]}, {\"hoverinfo\": \"none\", \"line\": {\"color\": \"#888\", \"width\": 2}, \"mode\": \"lines\", \"type\": \"scatter\", \"x\": [7.6, 6.571428571428571], \"y\": [0.23076923076923075, 0.22222222222222224]}, {\"hoverinfo\": \"none\", \"line\": {\"color\": \"#888\", \"width\": 3}, \"mode\": \"lines\", \"type\": \"scatter\", \"x\": [8.6, 7.571428571428571], \"y\": [0.3846153846153846, 0.4444444444444445]}, {\"hoverinfo\": \"none\", \"line\": {\"color\": \"#888\", \"width\": 2}, \"mode\": \"lines\", \"type\": \"scatter\", \"x\": [8.6, 9.285714285714286], \"y\": [0.3846153846153846, 0.4444444444444445]}, {\"hoverinfo\": \"none\", \"line\": {\"color\": \"#888\", \"width\": 4}, \"mode\": \"lines\", \"type\": \"scatter\", \"x\": [10.25, 10.4], \"y\": [0.4444444444444445, 0.5]}, {\"hoverinfo\": \"none\", \"line\": {\"color\": \"#888\", \"width\": 1}, \"mode\": \"lines\", \"type\": \"scatter\", \"x\": [6.571428571428571, 7.125], \"y\": [0.22222222222222224, 0.2857142857142857]}, {\"hoverinfo\": \"none\", \"line\": {\"color\": \"#888\", \"width\": 1}, \"mode\": \"lines\", \"type\": \"scatter\", \"x\": [6.571428571428571, 7.333333333333333], \"y\": [0.22222222222222224, 0.21428571428571427]}, {\"hoverinfo\": \"none\", \"line\": {\"color\": \"#888\", \"width\": 4}, \"mode\": \"lines\", \"type\": \"scatter\", \"x\": [7.571428571428571, 7.909090909090909], \"y\": [0.4444444444444445, 0.5517241379310345]}, {\"hoverinfo\": \"none\", \"line\": {\"color\": \"#888\", \"width\": 1}, \"mode\": \"lines\", \"type\": \"scatter\", \"x\": [7.571428571428571, 8.333333333333334], \"y\": [0.4444444444444445, 0.5]}, {\"hoverinfo\": \"none\", \"line\": {\"color\": \"#888\", \"width\": 1}, \"mode\": \"lines\", \"type\": \"scatter\", \"x\": [9.285714285714286, 8.333333333333334], \"y\": [0.4444444444444445, 0.5]}, {\"hoverinfo\": \"none\", \"line\": {\"color\": \"#888\", \"width\": 2}, \"mode\": \"lines\", \"type\": \"scatter\", \"x\": [9.285714285714286, 9.666666666666666], \"y\": [0.4444444444444445, 0.5]}, {\"hoverinfo\": \"none\", \"line\": {\"color\": \"#888\", \"width\": 1}, \"mode\": \"lines\", \"type\": \"scatter\", \"x\": [9.0, 8.833333333333334], \"y\": [0.4444444444444445, 0.5517241379310345]}, {\"hoverinfo\": \"none\", \"line\": {\"color\": \"#888\", \"width\": 1}, \"mode\": \"lines\", \"type\": \"scatter\", \"x\": [9.0, 9.333333333333334], \"y\": [0.4444444444444445, 0.42857142857142855]}, {\"hoverinfo\": \"none\", \"line\": {\"color\": \"#888\", \"width\": 1}, \"mode\": \"lines\", \"type\": \"scatter\", \"x\": [9.0, 8.555555555555555], \"y\": [0.4444444444444445, 0.5]}, {\"hoverinfo\": \"none\", \"line\": {\"color\": \"#888\", \"width\": 1}, \"mode\": \"lines\", \"type\": \"scatter\", \"x\": [9.0, 9.4], \"y\": [0.4444444444444445, 0.5]}, {\"hoverinfo\": \"none\", \"line\": {\"color\": \"#888\", \"width\": 1}, \"mode\": \"lines\", \"type\": \"scatter\", \"x\": [7.333333333333333, 7.909090909090909], \"y\": [0.4444444444444445, 0.5517241379310345]}, {\"hoverinfo\": \"none\", \"line\": {\"color\": \"#888\", \"width\": 1}, \"mode\": \"lines\", \"type\": \"scatter\", \"x\": [10.4, 9.909090909090908], \"y\": [0.5, 0.5517241379310345]}, {\"hoverinfo\": \"none\", \"line\": {\"color\": \"#888\", \"width\": 1}, \"mode\": \"lines\", \"type\": \"scatter\", \"x\": [10.4, 9.857142857142858], \"y\": [0.5, 0.6]}, {\"hoverinfo\": \"none\", \"line\": {\"color\": \"#888\", \"width\": 1}, \"mode\": \"lines\", \"type\": \"scatter\", \"x\": [10.4, 9.818181818181818], \"y\": [0.5, 0.4827586206896552]}, {\"hoverinfo\": \"none\", \"line\": {\"color\": \"#888\", \"width\": 1}, \"mode\": \"lines\", \"type\": \"scatter\", \"x\": [10.4, 9.571428571428571], \"y\": [0.5, 0.6875000000000001]}, {\"hoverinfo\": \"none\", \"line\": {\"color\": \"#888\", \"width\": 1}, \"mode\": \"lines\", \"type\": \"scatter\", \"x\": [7.125, 7.9], \"y\": [0.2857142857142857, 0.3448275862068965]}, {\"hoverinfo\": \"none\", \"line\": {\"color\": \"#888\", \"width\": 1}, \"mode\": \"lines\", \"type\": \"scatter\", \"x\": [8.333333333333334, 8.818181818181818], \"y\": [0.5, 0.5517241379310345]}, {\"hoverinfo\": \"none\", \"line\": {\"color\": \"#888\", \"width\": 1}, \"mode\": \"lines\", \"type\": \"scatter\", \"x\": [8.333333333333334, 8.333333333333334], \"y\": [0.5, 0.6875000000000001]}, {\"hoverinfo\": \"none\", \"line\": {\"color\": \"#888\", \"width\": 2}, \"mode\": \"lines\", \"type\": \"scatter\", \"x\": [9.666666666666666, 9.909090909090908], \"y\": [0.5, 0.5517241379310345]}, {\"hoverinfo\": \"none\", \"line\": {\"color\": \"#888\", \"width\": 1}, \"mode\": \"lines\", \"type\": \"scatter\", \"x\": [7.333333333333333, 7.818181818181818], \"y\": [0.21428571428571427, 0.206896551724138]}, {\"hoverinfo\": \"none\", \"line\": {\"color\": \"#888\", \"width\": 1}, \"mode\": \"lines\", \"type\": \"scatter\", \"x\": [9.333333333333334, 9.818181818181818], \"y\": [0.42857142857142855, 0.4137931034482759]}, {\"hoverinfo\": \"none\", \"line\": {\"color\": \"#888\", \"width\": 1}, \"mode\": \"lines\", \"type\": \"scatter\", \"x\": [8.555555555555555, 7.909090909090909], \"y\": [0.5, 0.5517241379310345]}, {\"hoverinfo\": \"none\", \"line\": {\"color\": \"#888\", \"width\": 1}, \"mode\": \"lines\", \"type\": \"scatter\", \"x\": [9.4, 9.666666666666666], \"y\": [0.5, 0.5517241379310345]}, {\"hoverinfo\": \"none\", \"line\": {\"color\": \"#888\", \"width\": 1}, \"mode\": \"lines\", \"type\": \"scatter\", \"x\": [9.909090909090908, 9.153846153846153], \"y\": [0.5517241379310345, 0.6]}, {\"hoverinfo\": \"none\", \"line\": {\"color\": \"#888\", \"width\": 1}, \"mode\": \"lines\", \"type\": \"scatter\", \"x\": [9.909090909090908, 9.533333333333333], \"y\": [0.5517241379310345, 0.6451612903225806]}, {\"hoverinfo\": \"none\", \"line\": {\"color\": \"#888\", \"width\": 1}, \"mode\": \"lines\", \"type\": \"scatter\", \"x\": [9.909090909090908, 8.428571428571429], \"y\": [0.5517241379310345, 0.6060606060606061]}, {\"hoverinfo\": \"none\", \"line\": {\"color\": \"#888\", \"width\": 1}, \"mode\": \"lines\", \"type\": \"scatter\", \"x\": [7.9, 8.416666666666666], \"y\": [0.3448275862068965, 0.4]}, {\"hoverinfo\": \"none\", \"line\": {\"color\": \"#888\", \"width\": 2}, \"mode\": \"lines\", \"type\": \"scatter\", \"x\": [7.909090909090909, 6.857142857142857], \"y\": [0.5517241379310345, 0.7272727272727273]}, {\"hoverinfo\": \"none\", \"line\": {\"color\": \"#888\", \"width\": 3}, \"mode\": \"lines\", \"type\": \"scatter\", \"x\": [7.909090909090909, 8.384615384615385], \"y\": [0.5517241379310345, 0.6]}, {\"hoverinfo\": \"none\", \"line\": {\"color\": \"#888\", \"width\": 1}, \"mode\": \"lines\", \"type\": \"scatter\", \"x\": [7.909090909090909, 7.461538461538462], \"y\": [0.5517241379310345, 0.6]}, {\"hoverinfo\": \"none\", \"line\": {\"color\": \"#888\", \"width\": 1}, \"mode\": \"lines\", \"type\": \"scatter\", \"x\": [8.818181818181818, 9.153846153846153], \"y\": [0.5517241379310345, 0.6]}, {\"hoverinfo\": \"none\", \"line\": {\"color\": \"#888\", \"width\": 1}, \"mode\": \"lines\", \"type\": \"scatter\", \"x\": [7.818181818181818, 8.153846153846153], \"y\": [0.206896551724138, 0.2]}, {\"hoverinfo\": \"none\", \"line\": {\"color\": \"#888\", \"width\": 1}, \"mode\": \"lines\", \"type\": \"scatter\", \"x\": [8.833333333333334, 8.75], \"y\": [0.5517241379310345, 0.6451612903225806]}, {\"hoverinfo\": \"none\", \"line\": {\"color\": \"#888\", \"width\": 1}, \"mode\": \"lines\", \"type\": \"scatter\", \"x\": [9.818181818181818, 9.846153846153847], \"y\": [0.4137931034482759, 0.4]}, {\"hoverinfo\": \"none\", \"line\": {\"color\": \"#888\", \"width\": 1}, \"mode\": \"lines\", \"type\": \"scatter\", \"x\": [9.818181818181818, 8.923076923076923], \"y\": [0.4827586206896552, 0.4666666666666666]}, {\"hoverinfo\": \"none\", \"line\": {\"color\": \"#888\", \"width\": 1}, \"mode\": \"lines\", \"type\": \"scatter\", \"x\": [9.666666666666666, 9.384615384615385], \"y\": [0.5517241379310345, 0.5333333333333333]}, {\"hoverinfo\": \"none\", \"line\": {\"color\": \"#888\", \"width\": 2}, \"mode\": \"lines\", \"type\": \"scatter\", \"x\": [9.153846153846153, 9.166666666666666], \"y\": [0.6, 0.6875000000000001]}, {\"hoverinfo\": \"none\", \"line\": {\"color\": \"#888\", \"width\": 1}, \"mode\": \"lines\", \"type\": \"scatter\", \"x\": [8.416666666666666, 8.692307692307692], \"y\": [0.4, 0.3870967741935483]}, {\"hoverinfo\": \"none\", \"line\": {\"color\": \"#888\", \"width\": 1}, \"mode\": \"lines\", \"type\": \"scatter\", \"x\": [9.857142857142858, 9.533333333333333], \"y\": [0.6, 0.6451612903225806]}, {\"hoverinfo\": \"none\", \"line\": {\"color\": \"#888\", \"width\": 1}, \"mode\": \"lines\", \"type\": \"scatter\", \"x\": [8.153846153846153, 8.0], \"y\": [0.2, 0.35294117647058826]}, {\"hoverinfo\": \"none\", \"line\": {\"color\": \"#888\", \"width\": 3}, \"mode\": \"lines\", \"type\": \"scatter\", \"x\": [8.384615384615385, 8.733333333333333], \"y\": [0.6, 0.6451612903225806]}, {\"hoverinfo\": \"none\", \"line\": {\"color\": \"#888\", \"width\": 1}, \"mode\": \"lines\", \"type\": \"scatter\", \"x\": [9.846153846153847, 10.133333333333333], \"y\": [0.4, 0.3870967741935483]}, {\"hoverinfo\": \"none\", \"line\": {\"color\": \"#888\", \"width\": 1}, \"mode\": \"lines\", \"type\": \"scatter\", \"x\": [8.923076923076923, 9.0], \"y\": [0.4666666666666666, 0.5625]}, {\"hoverinfo\": \"none\", \"line\": {\"color\": \"#888\", \"width\": 1}, \"mode\": \"lines\", \"type\": \"scatter\", \"x\": [9.384615384615385, 8.933333333333334], \"y\": [0.5333333333333333, 0.5161290322580645]}, {\"hoverinfo\": \"none\", \"line\": {\"color\": \"#888\", \"width\": 1}, \"mode\": \"lines\", \"type\": \"scatter\", \"x\": [7.461538461538462, 7.133333333333334], \"y\": [0.6, 0.6451612903225806]}, {\"hoverinfo\": \"none\", \"line\": {\"color\": \"#888\", \"width\": 7}, \"mode\": \"lines\", \"type\": \"scatter\", \"x\": [9.166666666666666, 8.0625], \"y\": [0.6875000000000001, 0.8333333333333333]}, {\"hoverinfo\": \"none\", \"line\": {\"color\": \"#888\", \"width\": 1}, \"mode\": \"lines\", \"type\": \"scatter\", \"x\": [9.25, 9.0], \"y\": [0.4375, 0.5294117647058824]}, {\"hoverinfo\": \"none\", \"line\": {\"color\": \"#888\", \"width\": 1}, \"mode\": \"lines\", \"type\": \"scatter\", \"x\": [8.333333333333334, 8.714285714285714], \"y\": [0.6875000000000001, 0.7272727272727273]}, {\"hoverinfo\": \"none\", \"line\": {\"color\": \"#888\", \"width\": 1}, \"mode\": \"lines\", \"type\": \"scatter\", \"x\": [8.5, 9.0], \"y\": [0.6249999999999999, 0.6060606060606061]}, {\"hoverinfo\": \"none\", \"line\": {\"color\": \"#888\", \"width\": 1}, \"mode\": \"lines\", \"type\": \"scatter\", \"x\": [10.5, 10.5], \"y\": [0.375, 0.4242424242424242]}, {\"hoverinfo\": \"none\", \"line\": {\"color\": \"#888\", \"width\": 1}, \"mode\": \"lines\", \"type\": \"scatter\", \"x\": [9.0, 9.0], \"y\": [0.5625, 0.6060606060606061]}, {\"hoverinfo\": \"none\", \"line\": {\"color\": \"#888\", \"width\": 1}, \"mode\": \"lines\", \"type\": \"scatter\", \"x\": [9.571428571428571, 8.736842105263158], \"y\": [0.6875000000000001, 0.8333333333333333]}, {\"hoverinfo\": \"none\", \"line\": {\"color\": \"#888\", \"width\": 4}, \"mode\": \"lines\", \"type\": \"scatter\", \"x\": [8.0625, 7.4], \"y\": [0.8333333333333333, 0.95]}, {\"hoverinfo\": \"none\", \"line\": {\"color\": \"#888\", \"width\": 3}, \"mode\": \"lines\", \"type\": \"scatter\", \"x\": [8.0625, 8.166666666666666], \"y\": [0.8333333333333333, 0.8648648648648648]}, {\"hoverinfo\": \"none\", \"line\": {\"color\": \"#888\", \"width\": 1}, \"mode\": \"lines\", \"type\": \"scatter\", \"x\": [9.166666666666666, 8.428571428571429], \"y\": [0.6111111111111109, 0.5945945945945946]}, {\"hoverinfo\": \"none\", \"line\": {\"color\": \"#888\", \"width\": 1}, \"mode\": \"lines\", \"type\": \"scatter\", \"x\": [9.5, 8.2], \"y\": [0.7222222222222222, 0.6500000000000001]}, {\"hoverinfo\": \"none\", \"line\": {\"color\": \"#888\", \"width\": 1}, \"mode\": \"lines\", \"type\": \"scatter\", \"x\": [7.0625, 7.5], \"y\": [0.8333333333333333, 0.8648648648648648]}, {\"hoverinfo\": \"none\", \"line\": {\"color\": \"#888\", \"width\": 4}, \"mode\": \"lines\", \"type\": \"scatter\", \"x\": [7.4, 7.545454545454546], \"y\": [0.95, 0.975609756097561]}, {\"hoverinfo\": \"none\", \"line\": {\"color\": \"#888\", \"width\": 2}, \"mode\": \"lines\", \"type\": \"scatter\", \"x\": [7.0, 7.363636363636363], \"y\": [0.95, 0.975609756097561]}, {\"hoverinfo\": \"none\", \"line\": {\"color\": \"#888\", \"width\": 1}, \"mode\": \"lines\", \"type\": \"scatter\", \"x\": [8.625, 8.8], \"y\": [0.6500000000000001, 0.6666666666666666]}, {\"hoverinfo\": \"none\", \"line\": {\"color\": \"#888\", \"width\": 5}, \"mode\": \"lines\", \"type\": \"scatter\", \"x\": [7.545454545454546, 7.666666666666667], \"y\": [0.975609756097561, 1.0]}, {\"hoverinfo\": \"none\", \"line\": {\"color\": \"#888\", \"width\": 2}, \"mode\": \"lines\", \"type\": \"scatter\", \"x\": [7.363636363636363, 7.666666666666667], \"y\": [0.975609756097561, 1.0]}, {\"hoverinfo\": \"none\", \"line\": {\"color\": \"#888\", \"width\": 1}, \"mode\": \"lines\", \"type\": \"scatter\", \"x\": [7.7272727272727275, 7.666666666666667], \"y\": [0.975609756097561, 1.0]}, {\"hoverinfo\": \"none\", \"line\": {\"color\": \"#888\", \"width\": 1}, \"mode\": \"lines\", \"type\": \"scatter\", \"x\": [7.909090909090909, 7.666666666666667], \"y\": [0.975609756097561, 1.0]}, {\"hoverinfo\": \"none\", \"line\": {\"color\": \"#888\", \"width\": 1}, \"mode\": \"lines\", \"type\": \"scatter\", \"x\": [7.4, 7.4], \"y\": [0.8780487804878048, 0.9047619047619048]}, {\"hoverinfo\": \"none\", \"line\": {\"color\": \"#888\", \"width\": 1}, \"mode\": \"lines\", \"type\": \"scatter\", \"x\": [8.8, 8.142857142857142], \"y\": [0.6666666666666666, 0.7826086956521741]}, {\"hoverinfo\": \"none\", \"line\": {\"color\": \"#888\", \"width\": 1}, \"mode\": \"lines\", \"type\": \"scatter\", \"x\": [7.4, 7.5], \"y\": [0.9047619047619048, 0.9302325581395348]}, {\"hoverinfo\": \"none\", \"line\": {\"color\": \"#888\", \"width\": 1}, \"mode\": \"lines\", \"type\": \"scatter\", \"x\": [8.692307692307692, 9.25], \"y\": [0.3870967741935483, 0.4375]}, {\"hoverinfo\": \"none\", \"line\": {\"color\": \"#888\", \"width\": 2}, \"mode\": \"lines\", \"type\": \"scatter\", \"x\": [9.533333333333333, 9.166666666666666], \"y\": [0.6451612903225806, 0.6875000000000001]}, {\"hoverinfo\": \"none\", \"line\": {\"color\": \"#888\", \"width\": 1}, \"mode\": \"lines\", \"type\": \"scatter\", \"x\": [8.75, 8.5], \"y\": [0.6451612903225806, 0.6249999999999999]}, {\"hoverinfo\": \"none\", \"line\": {\"color\": \"#888\", \"width\": 3}, \"mode\": \"lines\", \"type\": \"scatter\", \"x\": [8.733333333333333, 9.166666666666666], \"y\": [0.6451612903225806, 0.6875000000000001]}, {\"hoverinfo\": \"none\", \"line\": {\"color\": \"#888\", \"width\": 1}, \"mode\": \"lines\", \"type\": \"scatter\", \"x\": [10.133333333333333, 10.5], \"y\": [0.3870967741935483, 0.375]}, {\"hoverinfo\": \"none\", \"line\": {\"color\": \"#888\", \"width\": 1}, \"mode\": \"lines\", \"type\": \"scatter\", \"x\": [8.933333333333334, 8.285714285714286], \"y\": [0.5161290322580645, 0.6857142857142857]}, {\"hoverinfo\": \"none\", \"line\": {\"color\": \"#888\", \"width\": 1}, \"mode\": \"lines\", \"type\": \"scatter\", \"x\": [7.133333333333334, 6.8], \"y\": [0.6451612903225806, 0.8]}, {\"hoverinfo\": \"none\", \"line\": {\"color\": \"#888\", \"width\": 1}, \"mode\": \"lines\", \"type\": \"scatter\", \"x\": [9.0, 9.166666666666666], \"y\": [0.5294117647058824, 0.6111111111111109]}, {\"hoverinfo\": \"none\", \"line\": {\"color\": \"#888\", \"width\": 1}, \"mode\": \"lines\", \"type\": \"scatter\", \"x\": [9.0, 8.642857142857142], \"y\": [0.7647058823529412, 0.8]}, {\"hoverinfo\": \"none\", \"line\": {\"color\": \"#888\", \"width\": 1}, \"mode\": \"lines\", \"type\": \"scatter\", \"x\": [8.0, 6.75], \"y\": [0.35294117647058826, 0.42105263157894735]}, {\"hoverinfo\": \"none\", \"line\": {\"color\": \"#888\", \"width\": 1}, \"mode\": \"lines\", \"type\": \"scatter\", \"x\": [9.25, 9.285714285714286], \"y\": [0.6470588235294118, 0.6857142857142857]}, {\"hoverinfo\": \"none\", \"line\": {\"color\": \"#888\", \"width\": 1}, \"mode\": \"lines\", \"type\": \"scatter\", \"x\": [9.714285714285714, 8.470588235294118], \"y\": [0.4705882352941176, 0.6315789473684211]}, {\"hoverinfo\": \"none\", \"line\": {\"color\": \"#888\", \"width\": 1}, \"mode\": \"lines\", \"type\": \"scatter\", \"x\": [8.428571428571429, 8.333333333333334], \"y\": [0.5945945945945946, 0.5789473684210527]}, {\"hoverinfo\": \"none\", \"line\": {\"color\": \"#888\", \"width\": 1}, \"mode\": \"lines\", \"type\": \"scatter\", \"x\": [8.166666666666666, 7.545454545454546], \"y\": [0.8648648648648648, 0.975609756097561]}, {\"hoverinfo\": \"none\", \"line\": {\"color\": \"#888\", \"width\": 1}, \"mode\": \"lines\", \"type\": \"scatter\", \"x\": [8.166666666666666, 7.681818181818182], \"y\": [0.8648648648648648, 0.923076923076923]}, {\"hoverinfo\": \"none\", \"line\": {\"color\": \"#888\", \"width\": 1}, \"mode\": \"lines\", \"type\": \"scatter\", \"x\": [8.166666666666666, 7.909090909090909], \"y\": [0.8648648648648648, 0.975609756097561]}, {\"hoverinfo\": \"none\", \"line\": {\"color\": \"#888\", \"width\": 2}, \"mode\": \"lines\", \"type\": \"scatter\", \"x\": [6.631578947368421, 6.857142857142857], \"y\": [0.8648648648648648, 0.8947368421052632]}, {\"hoverinfo\": \"none\", \"line\": {\"color\": \"#888\", \"width\": 1}, \"mode\": \"lines\", \"type\": \"scatter\", \"x\": [7.823529411764706, 7.4], \"y\": [0.7567567567567567, 0.8780487804878048]}, {\"hoverinfo\": \"none\", \"line\": {\"color\": \"#888\", \"width\": 1}, \"mode\": \"lines\", \"type\": \"scatter\", \"x\": [7.5, 7.85], \"y\": [0.8648648648648648, 0.8947368421052632]}, {\"hoverinfo\": \"none\", \"line\": {\"color\": \"#888\", \"width\": 1}, \"mode\": \"lines\", \"type\": \"scatter\", \"x\": [8.333333333333334, 8.176470588235293], \"y\": [0.5789473684210527, 0.6153846153846153]}, {\"hoverinfo\": \"none\", \"line\": {\"color\": \"#888\", \"width\": 2}, \"mode\": \"lines\", \"type\": \"scatter\", \"x\": [6.857142857142857, 7.043478260869565], \"y\": [0.8947368421052632, 0.923076923076923]}, {\"hoverinfo\": \"none\", \"line\": {\"color\": \"#888\", \"width\": 1}, \"mode\": \"lines\", \"type\": \"scatter\", \"x\": [6.75, 6.583333333333333], \"y\": [0.42105263157894735, 0.5714285714285714]}, {\"hoverinfo\": \"none\", \"line\": {\"color\": \"#888\", \"width\": 1}, \"mode\": \"lines\", \"type\": \"scatter\", \"x\": [8.470588235294118, 8.625], \"y\": [0.6315789473684211, 0.6500000000000001]}, {\"hoverinfo\": \"none\", \"line\": {\"color\": \"#888\", \"width\": 1}, \"mode\": \"lines\", \"type\": \"scatter\", \"x\": [7.85, 7.666666666666667], \"y\": [0.8947368421052632, 1.0]}, {\"hoverinfo\": \"none\", \"line\": {\"color\": \"#888\", \"width\": 1}, \"mode\": \"lines\", \"type\": \"scatter\", \"x\": [8.176470588235293, 7.0], \"y\": [0.6153846153846153, 0.6976744186046512]}, {\"hoverinfo\": \"none\", \"line\": {\"color\": \"#888\", \"width\": 2}, \"mode\": \"lines\", \"type\": \"scatter\", \"x\": [7.043478260869565, 7.0], \"y\": [0.923076923076923, 0.95]}, {\"hoverinfo\": \"none\", \"line\": {\"color\": \"#888\", \"width\": 1}, \"mode\": \"lines\", \"type\": \"scatter\", \"x\": [7.681818181818182, 7.7272727272727275], \"y\": [0.923076923076923, 0.975609756097561]}, {\"hoverinfo\": \"none\", \"line\": {\"color\": \"#888\", \"width\": 1}, \"mode\": \"lines\", \"type\": \"scatter\", \"x\": [7.863636363636363, 7.9], \"y\": [0.923076923076923, 0.95]}, {\"hoverinfo\": \"none\", \"line\": {\"color\": \"#888\", \"width\": 1}, \"mode\": \"lines\", \"type\": \"scatter\", \"x\": [8.0, 8.2], \"y\": [0.8205128205128205, 0.8500000000000001]}, {\"hoverinfo\": \"none\", \"line\": {\"color\": \"#888\", \"width\": 1}, \"mode\": \"lines\", \"type\": \"scatter\", \"x\": [7.0, 7.315789473684211], \"y\": [0.6976744186046512, 0.7555555555555556]}, {\"hoverinfo\": \"none\", \"line\": {\"color\": \"#888\", \"width\": 1}, \"mode\": \"lines\", \"type\": \"scatter\", \"x\": [7.5, 7.666666666666667], \"y\": [0.9302325581395348, 0.9545454545454544]}, {\"hoverinfo\": \"none\", \"line\": {\"color\": \"#888\", \"width\": 3}, \"mode\": \"lines\", \"type\": \"scatter\", \"x\": [5.0, 5.0], \"y\": [0.0909090909090909, 0.17391304347826084]}, {\"hoverinfo\": \"none\", \"line\": {\"color\": \"#888\", \"width\": 1}, \"mode\": \"lines\", \"type\": \"scatter\", \"x\": [5.0, 8.6], \"y\": [0.0909090909090909, 0.3846153846153846]}, {\"hoverinfo\": \"none\", \"line\": {\"color\": \"#888\", \"width\": 2}, \"mode\": \"lines\", \"type\": \"scatter\", \"x\": [5.0, 7.571428571428571], \"y\": [0.17391304347826084, 0.4444444444444445]}, {\"hoverinfo\": \"none\", \"line\": {\"color\": \"#888\", \"width\": 1}, \"mode\": \"lines\", \"type\": \"scatter\", \"x\": [5.0, 7.333333333333333], \"y\": [0.17391304347826084, 0.4444444444444445]}, {\"hoverinfo\": \"none\", \"line\": {\"color\": \"#888\", \"width\": 2}, \"mode\": \"lines\", \"type\": \"scatter\", \"x\": [6.857142857142857, 6.631578947368421], \"y\": [0.7272727272727273, 0.8648648648648648]}, {\"hoverinfo\": \"none\", \"line\": {\"color\": \"#888\", \"width\": 1}, \"mode\": \"lines\", \"type\": \"scatter\", \"x\": [8.714285714285714, 9.0], \"y\": [0.7272727272727273, 0.7647058823529412]}, {\"hoverinfo\": \"none\", \"line\": {\"color\": \"#888\", \"width\": 1}, \"mode\": \"lines\", \"type\": \"scatter\", \"x\": [9.0, 9.25], \"y\": [0.6060606060606061, 0.6470588235294118]}, {\"hoverinfo\": \"none\", \"line\": {\"color\": \"#888\", \"width\": 1}, \"mode\": \"lines\", \"type\": \"scatter\", \"x\": [10.5, 9.714285714285714], \"y\": [0.4242424242424242, 0.4705882352941176]}, {\"hoverinfo\": \"none\", \"line\": {\"color\": \"#888\", \"width\": 1}, \"mode\": \"lines\", \"type\": \"scatter\", \"x\": [8.428571428571429, 7.823529411764706], \"y\": [0.6060606060606061, 0.7567567567567567]}, {\"hoverinfo\": \"none\", \"line\": {\"color\": \"#888\", \"width\": 1}, \"mode\": \"lines\", \"type\": \"scatter\", \"x\": [9.0, 8.428571428571429], \"y\": [0.6060606060606061, 0.6470588235294118]}, {\"hoverinfo\": \"none\", \"line\": {\"color\": \"#888\", \"width\": 1}, \"mode\": \"lines\", \"type\": \"scatter\", \"x\": [8.642857142857142, 7.863636363636363], \"y\": [0.8, 0.923076923076923]}, {\"hoverinfo\": \"none\", \"line\": {\"color\": \"#888\", \"width\": 1}, \"mode\": \"lines\", \"type\": \"scatter\", \"x\": [9.285714285714286, 9.5], \"y\": [0.6857142857142857, 0.7222222222222222]}, {\"hoverinfo\": \"none\", \"line\": {\"color\": \"#888\", \"width\": 1}, \"mode\": \"lines\", \"type\": \"scatter\", \"x\": [8.285714285714286, 8.0], \"y\": [0.6857142857142857, 0.8205128205128205]}, {\"hoverinfo\": \"none\", \"line\": {\"color\": \"#888\", \"width\": 1}, \"mode\": \"lines\", \"type\": \"scatter\", \"x\": [6.8, 7.0625], \"y\": [0.8, 0.8333333333333333]}, {\"hoverinfo\": \"text\", \"marker\": {\"line\": {\"width\": 2}, \"reversescale\": true, \"showscale\": true, \"size\": [25.28771237954945, 21.83772647454919, 12.0, 12.0, 17.28771237954945, 12.0, 17.28771237954945, 16.0, 12.0, 17.28771237954945, 14.339850002884624, 16.0, 8.0, 16.0, 8.0, 12.0, 12.0, 8.0, 8.0, 8.0, 8.0, 14.339850002884624, 8.0, 18.339850002884624, 8.0, 8.0, 8.0, 8.0, 8.0, 8.0, 12.0, 8.0, 8.0, 8.0, 14.339850002884624, 8.0, 8.0, 8.0, 8.0, 19.229419688230415, 8.0, 8.0, 8.0, 8.0, 8.0, 8.0, 19.229419688230415, 8.0, 8.0, 8.0, 8.0, 16.0, 12.0, 8.0, 8.0, 8.0, 8.0, 17.28771237954945, 12.0, 8.0, 8.0, 8.0, 21.28771237954945, 8.0, 8.0, 8.0, 8.0, 12.0, 8.0, 14.339850002884624, 8.0, 8.0, 8.0, 8.0, 8.0, 8.0, 8.0, 8.0, 8.0, 8.0, 14.339850002884624, 12.0, 8.0, 8.0, 8.0, 12.0, 8.0, 8.0, 8.0, 8.0, 12.0, 8.0, 8.0, 8.0, 8.0, 8.0, 8.0, 16.0, 14.339850002884624, 12.0, 8.0, 8.0, 8.0, 8.0, 8.0, 8.0, 8.0, 8.0, 8.0, 8.0, 8.0]}, \"mode\": \"markers\", \"type\": \"scatter\", \"x\": [8.5, 9.5, 8.5, 8.5, 9.8, 7.6, 8.6, 10.25, 6.571428571428571, 7.571428571428571, 9.285714285714286, 9.0, 7.333333333333333, 10.4, 7.125, 8.333333333333334, 9.666666666666666, 7.333333333333333, 9.333333333333334, 8.555555555555555, 9.4, 9.909090909090908, 7.9, 7.909090909090909, 8.818181818181818, 7.818181818181818, 8.833333333333334, 9.818181818181818, 9.818181818181818, 9.666666666666666, 9.153846153846153, 8.416666666666666, 9.857142857142858, 8.153846153846153, 8.384615384615385, 9.846153846153847, 8.923076923076923, 9.384615384615385, 7.461538461538462, 9.166666666666666, 9.25, 8.333333333333334, 8.5, 10.5, 9.0, 9.571428571428571, 8.0625, 9.166666666666666, 9.5, 7.0625, 8.736842105263158, 7.4, 7.0, 7.9, 8.2, 8.625, 8.2, 7.545454545454546, 7.363636363636363, 7.7272727272727275, 7.909090909090909, 7.4, 7.666666666666667, 6.583333333333333, 8.8, 7.4, 8.692307692307692, 9.533333333333333, 8.75, 8.733333333333333, 10.133333333333333, 8.933333333333334, 7.133333333333334, 9.0, 9.0, 8.0, 9.25, 9.714285714285714, 8.428571428571429, 8.428571428571429, 8.166666666666666, 6.631578947368421, 7.823529411764706, 7.5, 8.333333333333334, 6.857142857142857, 6.75, 8.470588235294118, 7.85, 8.176470588235293, 7.043478260869565, 7.681818181818182, 7.863636363636363, 8.0, 7.0, 7.5, 7.315789473684211, 5.0, 5.0, 6.857142857142857, 8.714285714285714, 9.0, 10.5, 8.428571428571429, 9.0, 8.642857142857142, 9.285714285714286, 8.285714285714286, 6.8, 8.142857142857142, 7.666666666666667], \"y\": [0, 0.32, 0.24, 0.32, 0.3846153846153846, 0.23076923076923075, 0.3846153846153846, 0.4444444444444445, 0.22222222222222224, 0.4444444444444445, 0.4444444444444445, 0.4444444444444445, 0.4444444444444445, 0.5, 0.2857142857142857, 0.5, 0.5, 0.21428571428571427, 0.42857142857142855, 0.5, 0.5, 0.5517241379310345, 0.3448275862068965, 0.5517241379310345, 0.5517241379310345, 0.206896551724138, 0.5517241379310345, 0.4137931034482759, 0.4827586206896552, 0.5517241379310345, 0.6, 0.4, 0.6, 0.2, 0.6, 0.4, 0.4666666666666666, 0.5333333333333333, 0.6, 0.6875000000000001, 0.4375, 0.6875000000000001, 0.6249999999999999, 0.375, 0.5625, 0.6875000000000001, 0.8333333333333333, 0.6111111111111109, 0.7222222222222222, 0.8333333333333333, 0.8333333333333333, 0.95, 0.95, 0.95, 0.6500000000000001, 0.6500000000000001, 0.8500000000000001, 0.975609756097561, 0.975609756097561, 0.975609756097561, 0.975609756097561, 0.8780487804878048, 1.0, 0.5714285714285714, 0.6666666666666666, 0.9047619047619048, 0.3870967741935483, 0.6451612903225806, 0.6451612903225806, 0.6451612903225806, 0.3870967741935483, 0.5161290322580645, 0.6451612903225806, 0.5294117647058824, 0.7647058823529412, 0.35294117647058826, 0.6470588235294118, 0.4705882352941176, 0.6470588235294118, 0.5945945945945946, 0.8648648648648648, 0.8648648648648648, 0.7567567567567567, 0.8648648648648648, 0.5789473684210527, 0.8947368421052632, 0.42105263157894735, 0.6315789473684211, 0.8947368421052632, 0.6153846153846153, 0.923076923076923, 0.923076923076923, 0.923076923076923, 0.8205128205128205, 0.6976744186046512, 0.9302325581395348, 0.7555555555555556, 0.0909090909090909, 0.17391304347826084, 0.7272727272727273, 0.7272727272727273, 0.6060606060606061, 0.4242424242424242, 0.6060606060606061, 0.6060606060606061, 0.8, 0.6857142857142857, 0.6857142857142857, 0.8, 0.7826086956521741, 0.9545454545454544]}],\n",
       "                        {\"annotations\": [{\"showarrow\": false, \"text\": \"\", \"x\": 0.005, \"xref\": \"paper\", \"y\": -0.002, \"yref\": \"paper\"}], \"height\": 800, \"hovermode\": \"closest\", \"margin\": {\"b\": 20, \"l\": 5, \"r\": 5, \"t\": 40}, \"showlegend\": false, \"template\": {\"data\": {\"bar\": [{\"error_x\": {\"color\": \"#2a3f5f\"}, \"error_y\": {\"color\": \"#2a3f5f\"}, \"marker\": {\"line\": {\"color\": \"#E5ECF6\", \"width\": 0.5}}, \"type\": \"bar\"}], \"barpolar\": [{\"marker\": {\"line\": {\"color\": \"#E5ECF6\", \"width\": 0.5}}, \"type\": \"barpolar\"}], \"carpet\": [{\"aaxis\": {\"endlinecolor\": \"#2a3f5f\", \"gridcolor\": \"white\", \"linecolor\": \"white\", \"minorgridcolor\": \"white\", \"startlinecolor\": \"#2a3f5f\"}, \"baxis\": {\"endlinecolor\": \"#2a3f5f\", \"gridcolor\": \"white\", \"linecolor\": \"white\", \"minorgridcolor\": \"white\", \"startlinecolor\": \"#2a3f5f\"}, \"type\": \"carpet\"}], \"choropleth\": [{\"colorbar\": {\"outlinewidth\": 0, \"ticks\": \"\"}, \"type\": \"choropleth\"}], \"contour\": [{\"colorbar\": {\"outlinewidth\": 0, \"ticks\": \"\"}, \"colorscale\": [[0.0, \"#0d0887\"], [0.1111111111111111, \"#46039f\"], [0.2222222222222222, \"#7201a8\"], [0.3333333333333333, \"#9c179e\"], [0.4444444444444444, \"#bd3786\"], [0.5555555555555556, \"#d8576b\"], [0.6666666666666666, \"#ed7953\"], [0.7777777777777778, \"#fb9f3a\"], [0.8888888888888888, \"#fdca26\"], [1.0, \"#f0f921\"]], \"type\": \"contour\"}], \"contourcarpet\": [{\"colorbar\": {\"outlinewidth\": 0, \"ticks\": \"\"}, \"type\": \"contourcarpet\"}], \"heatmap\": [{\"colorbar\": {\"outlinewidth\": 0, \"ticks\": \"\"}, \"colorscale\": [[0.0, \"#0d0887\"], [0.1111111111111111, \"#46039f\"], [0.2222222222222222, \"#7201a8\"], [0.3333333333333333, \"#9c179e\"], [0.4444444444444444, \"#bd3786\"], [0.5555555555555556, \"#d8576b\"], [0.6666666666666666, \"#ed7953\"], [0.7777777777777778, \"#fb9f3a\"], [0.8888888888888888, \"#fdca26\"], [1.0, \"#f0f921\"]], \"type\": \"heatmap\"}], \"heatmapgl\": [{\"colorbar\": {\"outlinewidth\": 0, \"ticks\": \"\"}, \"colorscale\": [[0.0, \"#0d0887\"], [0.1111111111111111, \"#46039f\"], [0.2222222222222222, \"#7201a8\"], [0.3333333333333333, \"#9c179e\"], [0.4444444444444444, \"#bd3786\"], [0.5555555555555556, \"#d8576b\"], [0.6666666666666666, \"#ed7953\"], [0.7777777777777778, \"#fb9f3a\"], [0.8888888888888888, \"#fdca26\"], [1.0, \"#f0f921\"]], \"type\": \"heatmapgl\"}], \"histogram\": [{\"marker\": {\"colorbar\": {\"outlinewidth\": 0, \"ticks\": \"\"}}, \"type\": \"histogram\"}], \"histogram2d\": [{\"colorbar\": {\"outlinewidth\": 0, \"ticks\": \"\"}, \"colorscale\": [[0.0, \"#0d0887\"], [0.1111111111111111, \"#46039f\"], [0.2222222222222222, \"#7201a8\"], [0.3333333333333333, \"#9c179e\"], [0.4444444444444444, \"#bd3786\"], [0.5555555555555556, \"#d8576b\"], [0.6666666666666666, \"#ed7953\"], [0.7777777777777778, \"#fb9f3a\"], [0.8888888888888888, \"#fdca26\"], [1.0, \"#f0f921\"]], \"type\": \"histogram2d\"}], \"histogram2dcontour\": [{\"colorbar\": {\"outlinewidth\": 0, \"ticks\": \"\"}, \"colorscale\": [[0.0, \"#0d0887\"], [0.1111111111111111, \"#46039f\"], [0.2222222222222222, \"#7201a8\"], [0.3333333333333333, \"#9c179e\"], [0.4444444444444444, \"#bd3786\"], [0.5555555555555556, \"#d8576b\"], [0.6666666666666666, \"#ed7953\"], [0.7777777777777778, \"#fb9f3a\"], [0.8888888888888888, \"#fdca26\"], [1.0, \"#f0f921\"]], \"type\": \"histogram2dcontour\"}], \"mesh3d\": [{\"colorbar\": {\"outlinewidth\": 0, \"ticks\": \"\"}, \"type\": \"mesh3d\"}], \"parcoords\": [{\"line\": {\"colorbar\": {\"outlinewidth\": 0, \"ticks\": \"\"}}, \"type\": \"parcoords\"}], \"pie\": [{\"automargin\": true, \"type\": \"pie\"}], \"scatter\": [{\"marker\": {\"colorbar\": {\"outlinewidth\": 0, \"ticks\": \"\"}}, \"type\": \"scatter\"}], \"scatter3d\": [{\"line\": {\"colorbar\": {\"outlinewidth\": 0, \"ticks\": \"\"}}, \"marker\": {\"colorbar\": {\"outlinewidth\": 0, \"ticks\": \"\"}}, \"type\": \"scatter3d\"}], \"scattercarpet\": [{\"marker\": {\"colorbar\": {\"outlinewidth\": 0, \"ticks\": \"\"}}, \"type\": \"scattercarpet\"}], \"scattergeo\": [{\"marker\": {\"colorbar\": {\"outlinewidth\": 0, \"ticks\": \"\"}}, \"type\": \"scattergeo\"}], \"scattergl\": [{\"marker\": {\"colorbar\": {\"outlinewidth\": 0, \"ticks\": \"\"}}, \"type\": \"scattergl\"}], \"scattermapbox\": [{\"marker\": {\"colorbar\": {\"outlinewidth\": 0, \"ticks\": \"\"}}, \"type\": \"scattermapbox\"}], \"scatterpolar\": [{\"marker\": {\"colorbar\": {\"outlinewidth\": 0, \"ticks\": \"\"}}, \"type\": \"scatterpolar\"}], \"scatterpolargl\": [{\"marker\": {\"colorbar\": {\"outlinewidth\": 0, \"ticks\": \"\"}}, \"type\": \"scatterpolargl\"}], \"scatterternary\": [{\"marker\": {\"colorbar\": {\"outlinewidth\": 0, \"ticks\": \"\"}}, \"type\": \"scatterternary\"}], \"surface\": [{\"colorbar\": {\"outlinewidth\": 0, \"ticks\": \"\"}, \"colorscale\": [[0.0, \"#0d0887\"], [0.1111111111111111, \"#46039f\"], [0.2222222222222222, \"#7201a8\"], [0.3333333333333333, \"#9c179e\"], [0.4444444444444444, \"#bd3786\"], [0.5555555555555556, \"#d8576b\"], [0.6666666666666666, \"#ed7953\"], [0.7777777777777778, \"#fb9f3a\"], [0.8888888888888888, \"#fdca26\"], [1.0, \"#f0f921\"]], \"type\": \"surface\"}], \"table\": [{\"cells\": {\"fill\": {\"color\": \"#EBF0F8\"}, \"line\": {\"color\": \"white\"}}, \"header\": {\"fill\": {\"color\": \"#C8D4E3\"}, \"line\": {\"color\": \"white\"}}, \"type\": \"table\"}]}, \"layout\": {\"annotationdefaults\": {\"arrowcolor\": \"#2a3f5f\", \"arrowhead\": 0, \"arrowwidth\": 1}, \"coloraxis\": {\"colorbar\": {\"outlinewidth\": 0, \"ticks\": \"\"}}, \"colorscale\": {\"diverging\": [[0, \"#8e0152\"], [0.1, \"#c51b7d\"], [0.2, \"#de77ae\"], [0.3, \"#f1b6da\"], [0.4, \"#fde0ef\"], [0.5, \"#f7f7f7\"], [0.6, \"#e6f5d0\"], [0.7, \"#b8e186\"], [0.8, \"#7fbc41\"], [0.9, \"#4d9221\"], [1, \"#276419\"]], \"sequential\": [[0.0, \"#0d0887\"], [0.1111111111111111, \"#46039f\"], [0.2222222222222222, \"#7201a8\"], [0.3333333333333333, \"#9c179e\"], [0.4444444444444444, \"#bd3786\"], [0.5555555555555556, \"#d8576b\"], [0.6666666666666666, \"#ed7953\"], [0.7777777777777778, \"#fb9f3a\"], [0.8888888888888888, \"#fdca26\"], [1.0, \"#f0f921\"]], \"sequentialminus\": [[0.0, \"#0d0887\"], [0.1111111111111111, \"#46039f\"], [0.2222222222222222, \"#7201a8\"], [0.3333333333333333, \"#9c179e\"], [0.4444444444444444, \"#bd3786\"], [0.5555555555555556, \"#d8576b\"], [0.6666666666666666, \"#ed7953\"], [0.7777777777777778, \"#fb9f3a\"], [0.8888888888888888, \"#fdca26\"], [1.0, \"#f0f921\"]]}, \"colorway\": [\"#636efa\", \"#EF553B\", \"#00cc96\", \"#ab63fa\", \"#FFA15A\", \"#19d3f3\", \"#FF6692\", \"#B6E880\", \"#FF97FF\", \"#FECB52\"], \"font\": {\"color\": \"#2a3f5f\"}, \"geo\": {\"bgcolor\": \"white\", \"lakecolor\": \"white\", \"landcolor\": \"#E5ECF6\", \"showlakes\": true, \"showland\": true, \"subunitcolor\": \"white\"}, \"hoverlabel\": {\"align\": \"left\"}, \"hovermode\": \"closest\", \"mapbox\": {\"style\": \"light\"}, \"paper_bgcolor\": \"white\", \"plot_bgcolor\": \"#E5ECF6\", \"polar\": {\"angularaxis\": {\"gridcolor\": \"white\", \"linecolor\": \"white\", \"ticks\": \"\"}, \"bgcolor\": \"#E5ECF6\", \"radialaxis\": {\"gridcolor\": \"white\", \"linecolor\": \"white\", \"ticks\": \"\"}}, \"scene\": {\"xaxis\": {\"backgroundcolor\": \"#E5ECF6\", \"gridcolor\": \"white\", \"gridwidth\": 2, \"linecolor\": \"white\", \"showbackground\": true, \"ticks\": \"\", \"zerolinecolor\": \"white\"}, \"yaxis\": {\"backgroundcolor\": \"#E5ECF6\", \"gridcolor\": \"white\", \"gridwidth\": 2, \"linecolor\": \"white\", \"showbackground\": true, \"ticks\": \"\", \"zerolinecolor\": \"white\"}, \"zaxis\": {\"backgroundcolor\": \"#E5ECF6\", \"gridcolor\": \"white\", \"gridwidth\": 2, \"linecolor\": \"white\", \"showbackground\": true, \"ticks\": \"\", \"zerolinecolor\": \"white\"}}, \"shapedefaults\": {\"line\": {\"color\": \"#2a3f5f\"}}, \"ternary\": {\"aaxis\": {\"gridcolor\": \"white\", \"linecolor\": \"white\", \"ticks\": \"\"}, \"baxis\": {\"gridcolor\": \"white\", \"linecolor\": \"white\", \"ticks\": \"\"}, \"bgcolor\": \"#E5ECF6\", \"caxis\": {\"gridcolor\": \"white\", \"linecolor\": \"white\", \"ticks\": \"\"}}, \"title\": {\"x\": 0.05}, \"xaxis\": {\"automargin\": true, \"gridcolor\": \"white\", \"linecolor\": \"white\", \"ticks\": \"\", \"title\": {\"standoff\": 15}, \"zerolinecolor\": \"white\", \"zerolinewidth\": 2}, \"yaxis\": {\"automargin\": true, \"gridcolor\": \"white\", \"linecolor\": \"white\", \"ticks\": \"\", \"title\": {\"standoff\": 15}, \"zerolinecolor\": \"white\", \"zerolinewidth\": 2}}}, \"title\": {\"font\": {\"size\": 16}, \"text\": \"<br>World states for hand_selected_012, repetition 3, by number of squares\"}, \"width\": 800},\n",
       "                        {\"responsive\": true}\n",
       "                    ).then(function(){\n",
       "                            \n",
       "var gd = document.getElementById('cac9fc24-fec9-4187-90ca-5c21d13a46c3');\n",
       "var x = new MutationObserver(function (mutations, observer) {{\n",
       "        var display = window.getComputedStyle(gd).display;\n",
       "        if (!display || display === 'none') {{\n",
       "            console.log([gd, 'removed!']);\n",
       "            Plotly.purge(gd);\n",
       "            observer.disconnect();\n",
       "        }}\n",
       "}});\n",
       "\n",
       "// Listen for the removal of the full notebook cells\n",
       "var notebookContainer = gd.closest('#notebook-container');\n",
       "if (notebookContainer) {{\n",
       "    x.observe(notebookContainer, {childList: true});\n",
       "}}\n",
       "\n",
       "// Listen for the clearing of the current output cell\n",
       "var outputEl = gd.closest('.output');\n",
       "if (outputEl) {{\n",
       "    x.observe(outputEl, {childList: true});\n",
       "}}\n",
       "\n",
       "                        })\n",
       "                };\n",
       "                });\n",
       "            </script>\n",
       "        </div>"
      ]
     },
     "metadata": {},
     "output_type": "display_data"
    }
   ],
   "source": [
    "fig = go.Figure(data=edge_trace + [node_trace],\n",
    "             layout=go.Layout(\n",
    "                title='<br>World states for ' + str(target) +', repetition '+ str(rep) +', by number of squares',\n",
    "                titlefont_size=16,\n",
    "                showlegend=False,\n",
    "                hovermode='closest',\n",
    "                margin=dict(b=20,l=5,r=5,t=40),\n",
    "                annotations=[ dict(\n",
    "                    text=\"\",\n",
    "                    showarrow=False,\n",
    "                    xref=\"paper\", yref=\"paper\",\n",
    "                    x=0.005, y=-0.002 ) ])\n",
    "                #xaxis=dict(showgrid=False, zeroline=False, showticklabels=False))\n",
    "                #yaxis=dict(showgrid=False, zeroline=False, showticklabels=False))\n",
    "                )\n",
    "\n",
    "fig.update_layout(\n",
    "    width=800,\n",
    "    height=800\n",
    ")\n",
    "\n",
    "fig.show()"
   ]
  },
  {
   "cell_type": "code",
   "execution_count": 470,
   "metadata": {},
   "outputs": [
    {
     "data": {
      "text/plain": [
       "array([0, 0, 0, 0, 0, 0, 0, 0, 0, 0, 0, 0, 0, 0, 0, 0, 0, 0, 0, 0, 0, 0,\n",
       "       0, 0, 0, 0, 0, 0, 0, 0, 0, 0, 0, 0, 0, 0, 0, 0, 0, 0, 0, 0, 0, 0,\n",
       "       0, 0, 0, 0, 0, 0, 0, 0, 0, 0, 0, 0, 0, 0, 0, 0, 0, 0, 1, 0, 0, 0,\n",
       "       0, 0, 0, 0, 0, 0, 0, 0, 0, 0, 0, 0, 0, 0, 0, 0, 0, 0, 0, 0, 0, 0,\n",
       "       0, 0, 0, 0, 0, 0, 0, 0, 0, 0, 0, 0, 0, 0, 0, 0, 0, 0, 0, 0, 0, 0,\n",
       "       0])"
      ]
     },
     "execution_count": 470,
     "metadata": {},
     "output_type": "execute_result"
    }
   ],
   "source": [
    "np.equal(node_ys,1).astype(int)"
   ]
  },
  {
   "cell_type": "code",
   "execution_count": 483,
   "metadata": {},
   "outputs": [],
   "source": [
    "def plot_trajectory_graph(target_name, rep):\n",
    "\n",
    "    # Create graph\n",
    "    t = GenericBuildGraph() # make new tree\n",
    "\n",
    "    a = dfic[(dfic.targetName==target) & (dfic.repetition==rep)]\n",
    "    a = a.groupby('gameID')\n",
    "    a.apply(lambda g: t.add_build_path(g))\n",
    "    \n",
    "    \n",
    "    node_xs, node_ys, edge_xs, edge_ys, node_sizes, edge_ws  = t.get_coords()\n",
    "\n",
    "    def make_edge(x, y, width):\n",
    "        return  go.Scatter(\n",
    "                    x=x,\n",
    "                    y=y,\n",
    "                    line=dict(width=width),\n",
    "                    hoverinfo='none',\n",
    "                    mode='lines')\n",
    "\n",
    "    def make_edges(edge_xs, edge_ys, edge_ws):\n",
    "\n",
    "        edge_trace = []\n",
    "\n",
    "        for i in range(0, int(len(edge_xs)/2)):\n",
    "            edge_trace.append(\n",
    "                go.Scatter(\n",
    "                        x=(edge_xs[i*2],edge_xs[i*2+1]),\n",
    "                        y=(edge_ys[i*2],edge_ys[i*2+1]),\n",
    "                        line=dict(width=edge_ws[i],color='#888'),\n",
    "                        hoverinfo='none',\n",
    "                        mode='lines'))\n",
    "\n",
    "        return edge_trace\n",
    "\n",
    "\n",
    "    edge_trace = make_edges(edge_xs, edge_ys, edge_ws)\n",
    "\n",
    "    node_trace = go.Scatter(\n",
    "        x=node_xs, y=node_ys,\n",
    "        mode='markers',\n",
    "        hoverinfo='text',\n",
    "        marker=dict(\n",
    "            showscale=True,\n",
    "            # colorscale options\n",
    "            #'Greys' | 'YlGnBu' | 'Greens' | 'YlOrRd' | 'Bluered' | 'RdBu' |\n",
    "            #'Reds' | 'Blues' | 'Picnic' | 'Rainbow' | 'Portland' | 'Jet' |\n",
    "            #'Hot' | 'Blackbody' | 'Earth' | 'Electric' | 'Viridis' |\n",
    "            colorscale='YlGnBu',\n",
    "            reversescale=True,\n",
    "            size = [np.log2(s*4)*4 for s in node_sizes],\n",
    "            color = np.equal(node_ys,1).astype(int),\n",
    "    #         colorbar=dict(\n",
    "    #             thickness=15,\n",
    "    #             title='Node Connections',\n",
    "    #             xanchor='left',\n",
    "    #             titleside='right'\n",
    "    #         ),\n",
    "            line_width=2))\n",
    "    \n",
    "    \n",
    "    fig = go.Figure(data=edge_trace + [node_trace],\n",
    "                 layout=go.Layout(\n",
    "                    title='<br>World states for ' + str(target) +', repetition '+ str(rep) +', by number of squares',\n",
    "                    titlefont_size=16,\n",
    "                    showlegend=False,\n",
    "                    hovermode='closest',\n",
    "                    margin=dict(b=20,l=5,r=5,t=40),\n",
    "                    annotations=[ dict(\n",
    "                        text=\"\",\n",
    "                        showarrow=False,\n",
    "                        xref=\"paper\", yref=\"paper\",\n",
    "                        x=0.005, y=-0.002 ) ],\n",
    "                    xaxis=dict(range=[4,14]),\n",
    "                    yaxis=dict(range=[-0.1,1.1])\n",
    "                    )\n",
    "\n",
    "    fig.update_layout(\n",
    "        width=800,\n",
    "        height=800,\n",
    "\n",
    "    )\n",
    "    \n",
    "\n",
    "    fig.show()\n"
   ]
  },
  {
   "cell_type": "code",
   "execution_count": 484,
   "metadata": {
    "scrolled": false
   },
   "outputs": [
    {
     "data": {
      "application/vnd.plotly.v1+json": {
       "config": {
        "plotlyServerURL": "https://plot.ly"
       },
       "data": [
        {
         "hoverinfo": "none",
         "line": {
          "color": "#888",
          "width": 1
         },
         "mode": "lines",
         "type": "scatter",
         "x": [
          8.5,
          11.5
         ],
         "y": [
          0,
          0.2857142857142857
         ]
        },
        {
         "hoverinfo": "none",
         "line": {
          "color": "#888",
          "width": 7
         },
         "mode": "lines",
         "type": "scatter",
         "x": [
          8.5,
          6.5
         ],
         "y": [
          0,
          0.2857142857142857
         ]
        },
        {
         "hoverinfo": "none",
         "line": {
          "color": "#888",
          "width": 10
         },
         "mode": "lines",
         "type": "scatter",
         "x": [
          8.5,
          10.5
         ],
         "y": [
          0,
          0.2857142857142857
         ]
        },
        {
         "hoverinfo": "none",
         "line": {
          "color": "#888",
          "width": 2
         },
         "mode": "lines",
         "type": "scatter",
         "x": [
          8.5,
          8.5
         ],
         "y": [
          0,
          0.2857142857142857
         ]
        },
        {
         "hoverinfo": "none",
         "line": {
          "color": "#888",
          "width": 1
         },
         "mode": "lines",
         "type": "scatter",
         "x": [
          8.5,
          12.5
         ],
         "y": [
          0,
          0.14285714285714285
         ]
        },
        {
         "hoverinfo": "none",
         "line": {
          "color": "#888",
          "width": 1
         },
         "mode": "lines",
         "type": "scatter",
         "x": [
          8.5,
          4.5
         ],
         "y": [
          0,
          0.14285714285714285
         ]
        },
        {
         "hoverinfo": "none",
         "line": {
          "color": "#888",
          "width": 2
         },
         "mode": "lines",
         "type": "scatter",
         "x": [
          8.5,
          5.5
         ],
         "y": [
          0,
          0.2857142857142857
         ]
        },
        {
         "hoverinfo": "none",
         "line": {
          "color": "#888",
          "width": 1
         },
         "mode": "lines",
         "type": "scatter",
         "x": [
          8.5,
          8.5
         ],
         "y": [
          0,
          0.2857142857142857
         ]
        },
        {
         "hoverinfo": "none",
         "line": {
          "color": "#888",
          "width": 1
         },
         "mode": "lines",
         "type": "scatter",
         "x": [
          11.5,
          10.3
         ],
         "y": [
          0.2857142857142857,
          0.5
         ]
        },
        {
         "hoverinfo": "none",
         "line": {
          "color": "#888",
          "width": 5
         },
         "mode": "lines",
         "type": "scatter",
         "x": [
          6.5,
          8.5
         ],
         "y": [
          0.2857142857142857,
          0.5
         ]
        },
        {
         "hoverinfo": "none",
         "line": {
          "color": "#888",
          "width": 1
         },
         "mode": "lines",
         "type": "scatter",
         "x": [
          6.5,
          6
         ],
         "y": [
          0.2857142857142857,
          0.4
         ]
        },
        {
         "hoverinfo": "none",
         "line": {
          "color": "#888",
          "width": 1
         },
         "mode": "lines",
         "type": "scatter",
         "x": [
          6.5,
          6
         ],
         "y": [
          0.2857142857142857,
          0.27586206896551724
         ]
        },
        {
         "hoverinfo": "none",
         "line": {
          "color": "#888",
          "width": 8
         },
         "mode": "lines",
         "type": "scatter",
         "x": [
          10.5,
          8.5
         ],
         "y": [
          0.2857142857142857,
          0.5
         ]
        },
        {
         "hoverinfo": "none",
         "line": {
          "color": "#888",
          "width": 1
         },
         "mode": "lines",
         "type": "scatter",
         "x": [
          10.5,
          12.3
         ],
         "y": [
          0.2857142857142857,
          0.25
         ]
        },
        {
         "hoverinfo": "none",
         "line": {
          "color": "#888",
          "width": 1
         },
         "mode": "lines",
         "type": "scatter",
         "x": [
          10.5,
          11
         ],
         "y": [
          0.2857142857142857,
          0.4
         ]
        },
        {
         "hoverinfo": "none",
         "line": {
          "color": "#888",
          "width": 1
         },
         "mode": "lines",
         "type": "scatter",
         "x": [
          8.5,
          8.5
         ],
         "y": [
          0.2857142857142857,
          0.5
         ]
        },
        {
         "hoverinfo": "none",
         "line": {
          "color": "#888",
          "width": 1
         },
         "mode": "lines",
         "type": "scatter",
         "x": [
          8.5,
          7.3
         ],
         "y": [
          0.2857142857142857,
          0.4375000000000001
         ]
        },
        {
         "hoverinfo": "none",
         "line": {
          "color": "#888",
          "width": 1
         },
         "mode": "lines",
         "type": "scatter",
         "x": [
          12.5,
          12
         ],
         "y": [
          0.14285714285714285,
          0.26666666666666666
         ]
        },
        {
         "hoverinfo": "none",
         "line": {
          "color": "#888",
          "width": 1
         },
         "mode": "lines",
         "type": "scatter",
         "x": [
          4.5,
          5.7
         ],
         "y": [
          0.14285714285714285,
          0.375
         ]
        },
        {
         "hoverinfo": "none",
         "line": {
          "color": "#888",
          "width": 1
         },
         "mode": "lines",
         "type": "scatter",
         "x": [
          5.5,
          5.6
         ],
         "y": [
          0.2857142857142857,
          0.3448275862068966
         ]
        },
        {
         "hoverinfo": "none",
         "line": {
          "color": "#888",
          "width": 1
         },
         "mode": "lines",
         "type": "scatter",
         "x": [
          5.5,
          6
         ],
         "y": [
          0.2857142857142857,
          0.4
         ]
        },
        {
         "hoverinfo": "none",
         "line": {
          "color": "#888",
          "width": 1
         },
         "mode": "lines",
         "type": "scatter",
         "x": [
          8.5,
          9
         ],
         "y": [
          0.2857142857142857,
          0.3448275862068966
         ]
        },
        {
         "hoverinfo": "none",
         "line": {
          "color": "#888",
          "width": 1
         },
         "mode": "lines",
         "type": "scatter",
         "x": [
          10.3,
          8.5
         ],
         "y": [
          0.5,
          0.6666666666666666
         ]
        },
        {
         "hoverinfo": "none",
         "line": {
          "color": "#888",
          "width": 2
         },
         "mode": "lines",
         "type": "scatter",
         "x": [
          8.5,
          8.5
         ],
         "y": [
          0.5,
          0.6666666666666666
         ]
        },
        {
         "hoverinfo": "none",
         "line": {
          "color": "#888",
          "width": 5
         },
         "mode": "lines",
         "type": "scatter",
         "x": [
          8.5,
          9.5
         ],
         "y": [
          0.5,
          0.5882352941176471
         ]
        },
        {
         "hoverinfo": "none",
         "line": {
          "color": "#888",
          "width": 5
         },
         "mode": "lines",
         "type": "scatter",
         "x": [
          8.5,
          7.5
         ],
         "y": [
          0.5,
          0.5882352941176471
         ]
        },
        {
         "hoverinfo": "none",
         "line": {
          "color": "#888",
          "width": 1
         },
         "mode": "lines",
         "type": "scatter",
         "x": [
          8.5,
          8.5
         ],
         "y": [
          0.5,
          0.5882352941176471
         ]
        },
        {
         "hoverinfo": "none",
         "line": {
          "color": "#888",
          "width": 1
         },
         "mode": "lines",
         "type": "scatter",
         "x": [
          8.5,
          9.2
         ],
         "y": [
          0.5,
          0.5454545454545454
         ]
        },
        {
         "hoverinfo": "none",
         "line": {
          "color": "#888",
          "width": 1
         },
         "mode": "lines",
         "type": "scatter",
         "x": [
          8.5,
          8.5
         ],
         "y": [
          0.5,
          0.6111111111111109
         ]
        },
        {
         "hoverinfo": "none",
         "line": {
          "color": "#888",
          "width": 1
         },
         "mode": "lines",
         "type": "scatter",
         "x": [
          7.3,
          8.5
         ],
         "y": [
          0.4375000000000001,
          0.5555555555555556
         ]
        },
        {
         "hoverinfo": "none",
         "line": {
          "color": "#888",
          "width": 1
         },
         "mode": "lines",
         "type": "scatter",
         "x": [
          12.3,
          13.5
         ],
         "y": [
          0.25,
          0.4444444444444444
         ]
        },
        {
         "hoverinfo": "none",
         "line": {
          "color": "#888",
          "width": 1
         },
         "mode": "lines",
         "type": "scatter",
         "x": [
          5.7,
          4.5
         ],
         "y": [
          0.375,
          0.5
         ]
        },
        {
         "hoverinfo": "none",
         "line": {
          "color": "#888",
          "width": 1
         },
         "mode": "lines",
         "type": "scatter",
         "x": [
          6.7,
          7.5
         ],
         "y": [
          0.5,
          0.5882352941176471
         ]
        },
        {
         "hoverinfo": "none",
         "line": {
          "color": "#888",
          "width": 1
         },
         "mode": "lines",
         "type": "scatter",
         "x": [
          8.5,
          8.5
         ],
         "y": [
          0.6666666666666666,
          0.8
         ]
        },
        {
         "hoverinfo": "none",
         "line": {
          "color": "#888",
          "width": 2
         },
         "mode": "lines",
         "type": "scatter",
         "x": [
          8.5,
          8.5
         ],
         "y": [
          0.6666666666666666,
          0.7368421052631579
         ]
        },
        {
         "hoverinfo": "none",
         "line": {
          "color": "#888",
          "width": 2
         },
         "mode": "lines",
         "type": "scatter",
         "x": [
          8.5,
          7.75
         ],
         "y": [
          0.6666666666666666,
          0.7368421052631579
         ]
        },
        {
         "hoverinfo": "none",
         "line": {
          "color": "#888",
          "width": 1
         },
         "mode": "lines",
         "type": "scatter",
         "x": [
          8.5,
          9.166666666666666
         ],
         "y": [
          0.6111111111111109,
          0.631578947368421
         ]
        },
        {
         "hoverinfo": "none",
         "line": {
          "color": "#888",
          "width": 1
         },
         "mode": "lines",
         "type": "scatter",
         "x": [
          8.5,
          5.5
         ],
         "y": [
          0.5555555555555556,
          0.575
         ]
        },
        {
         "hoverinfo": "none",
         "line": {
          "color": "#888",
          "width": 1
         },
         "mode": "lines",
         "type": "scatter",
         "x": [
          13.5,
          8.5
         ],
         "y": [
          0.4444444444444444,
          0.4
         ]
        },
        {
         "hoverinfo": "none",
         "line": {
          "color": "#888",
          "width": 1
         },
         "mode": "lines",
         "type": "scatter",
         "x": [
          4.5,
          10.5
         ],
         "y": [
          0.5,
          0.5499999999999999
         ]
        },
        {
         "hoverinfo": "none",
         "line": {
          "color": "#888",
          "width": 4
         },
         "mode": "lines",
         "type": "scatter",
         "x": [
          7,
          8.5
         ],
         "y": [
          0.6666666666666666,
          0.7368421052631579
         ]
        },
        {
         "hoverinfo": "none",
         "line": {
          "color": "#888",
          "width": 1
         },
         "mode": "lines",
         "type": "scatter",
         "x": [
          7.333333333333333,
          7.357142857142857
         ],
         "y": [
          0.6111111111111109,
          0.6486486486486487
         ]
        },
        {
         "hoverinfo": "none",
         "line": {
          "color": "#888",
          "width": 1
         },
         "mode": "lines",
         "type": "scatter",
         "x": [
          5.5,
          6.5
         ],
         "y": [
          0.6388888888888891,
          0.6578947368421053
         ]
        },
        {
         "hoverinfo": "none",
         "line": {
          "color": "#888",
          "width": 1
         },
         "mode": "lines",
         "type": "scatter",
         "x": [
          12.5,
          12.666666666666666
         ],
         "y": [
          0.5,
          0.4864864864864865
         ]
        },
        {
         "hoverinfo": "none",
         "line": {
          "color": "#888",
          "width": 1
         },
         "mode": "lines",
         "type": "scatter",
         "x": [
          10,
          8.5
         ],
         "y": [
          0.6666666666666666,
          0.7368421052631579
         ]
        },
        {
         "hoverinfo": "none",
         "line": {
          "color": "#888",
          "width": 1
         },
         "mode": "lines",
         "type": "scatter",
         "x": [
          11,
          10.4
         ],
         "y": [
          0.6666666666666666,
          0.7027027027027027
         ]
        },
        {
         "hoverinfo": "none",
         "line": {
          "color": "#888",
          "width": 1
         },
         "mode": "lines",
         "type": "scatter",
         "x": [
          8.5,
          8.5
         ],
         "y": [
          0.8,
          0.8636363636363635
         ]
        },
        {
         "hoverinfo": "none",
         "line": {
          "color": "#888",
          "width": 1
         },
         "mode": "lines",
         "type": "scatter",
         "x": [
          8.5,
          9.083333333333334
         ],
         "y": [
          0.8,
          0.8292682926829268
         ]
        },
        {
         "hoverinfo": "none",
         "line": {
          "color": "#888",
          "width": 1
         },
         "mode": "lines",
         "type": "scatter",
         "x": [
          9.714285714285714,
          9.4
         ],
         "y": [
          0.65,
          0.7727272727272727
         ]
        },
        {
         "hoverinfo": "none",
         "line": {
          "color": "#888",
          "width": 1
         },
         "mode": "lines",
         "type": "scatter",
         "x": [
          8,
          8.222222222222221
         ],
         "y": [
          0.7000000000000001,
          0.6829268292682927
         ]
        },
        {
         "hoverinfo": "none",
         "line": {
          "color": "#888",
          "width": 2
         },
         "mode": "lines",
         "type": "scatter",
         "x": [
          8.6,
          8.166666666666666
         ],
         "y": [
          0.8,
          0.8292682926829268
         ]
        },
        {
         "hoverinfo": "none",
         "line": {
          "color": "#888",
          "width": 1
         },
         "mode": "lines",
         "type": "scatter",
         "x": [
          8.6,
          8.583333333333334
         ],
         "y": [
          0.8,
          0.9090909090909092
         ]
        },
        {
         "hoverinfo": "none",
         "line": {
          "color": "#888",
          "width": 1
         },
         "mode": "lines",
         "type": "scatter",
         "x": [
          8.6,
          8.571428571428571
         ],
         "y": [
          0.8,
          0.8571428571428571
         ]
        },
        {
         "hoverinfo": "none",
         "line": {
          "color": "#888",
          "width": 1
         },
         "mode": "lines",
         "type": "scatter",
         "x": [
          5.5,
          8.5
         ],
         "y": [
          0.575,
          0.6136363636363636
         ]
        },
        {
         "hoverinfo": "none",
         "line": {
          "color": "#888",
          "width": 1
         },
         "mode": "lines",
         "type": "scatter",
         "x": [
          8.5,
          8.5
         ],
         "y": [
          0.4,
          0.5454545454545454
         ]
        },
        {
         "hoverinfo": "none",
         "line": {
          "color": "#888",
          "width": 1
         },
         "mode": "lines",
         "type": "scatter",
         "x": [
          10.5,
          11
         ],
         "y": [
          0.5499999999999999,
          0.5365853658536585
         ]
        },
        {
         "hoverinfo": "none",
         "line": {
          "color": "#888",
          "width": 1
         },
         "mode": "lines",
         "type": "scatter",
         "x": [
          7.5,
          7.538461538461538
         ],
         "y": [
          0.725,
          0.7560975609756098
         ]
        },
        {
         "hoverinfo": "none",
         "line": {
          "color": "#888",
          "width": 1
         },
         "mode": "lines",
         "type": "scatter",
         "x": [
          8.625,
          8.6
         ],
         "y": [
          0.525,
          0.5952380952380953
         ]
        },
        {
         "hoverinfo": "none",
         "line": {
          "color": "#888",
          "width": 1
         },
         "mode": "lines",
         "type": "scatter",
         "x": [
          7.9,
          8.5
         ],
         "y": [
          0.8,
          0.8048780487804877
         ]
        },
        {
         "hoverinfo": "none",
         "line": {
          "color": "#888",
          "width": 1
         },
         "mode": "lines",
         "type": "scatter",
         "x": [
          7.4,
          7.583333333333333
         ],
         "y": [
          0.8,
          0.9090909090909092
         ]
        },
        {
         "hoverinfo": "none",
         "line": {
          "color": "#888",
          "width": 1
         },
         "mode": "lines",
         "type": "scatter",
         "x": [
          8.5,
          8.785714285714286
         ],
         "y": [
          0.8636363636363635,
          0.8260869565217391
         ]
        },
        {
         "hoverinfo": "none",
         "line": {
          "color": "#888",
          "width": 1
         },
         "mode": "lines",
         "type": "scatter",
         "x": [
          8.5,
          8
         ],
         "y": [
          0.6136363636363636,
          0.7291666666666665
         ]
        },
        {
         "hoverinfo": "none",
         "line": {
          "color": "#888",
          "width": 3
         },
         "mode": "lines",
         "type": "scatter",
         "x": [
          8.583333333333334,
          8.214285714285714
         ],
         "y": [
          0.9090909090909092,
          0.9333333333333332
         ]
        },
        {
         "hoverinfo": "none",
         "line": {
          "color": "#888",
          "width": 1
         },
         "mode": "lines",
         "type": "scatter",
         "x": [
          9.25,
          8.444444444444445
         ],
         "y": [
          0.9090909090909092,
          0.9347826086956522
         ]
        },
        {
         "hoverinfo": "none",
         "line": {
          "color": "#888",
          "width": 1
         },
         "mode": "lines",
         "type": "scatter",
         "x": [
          8.5,
          8.5
         ],
         "y": [
          0.5454545454545454,
          0.625
         ]
        },
        {
         "hoverinfo": "none",
         "line": {
          "color": "#888",
          "width": 1
         },
         "mode": "lines",
         "type": "scatter",
         "x": [
          8.416666666666666,
          8.142857142857142
         ],
         "y": [
          0.9090909090909092,
          0.9111111111111112
         ]
        },
        {
         "hoverinfo": "none",
         "line": {
          "color": "#888",
          "width": 1
         },
         "mode": "lines",
         "type": "scatter",
         "x": [
          7.285714285714286,
          7.125
         ],
         "y": [
          0.7727272727272727,
          0.7555555555555556
         ]
        },
        {
         "hoverinfo": "none",
         "line": {
          "color": "#888",
          "width": 1
         },
         "mode": "lines",
         "type": "scatter",
         "x": [
          7.583333333333333,
          8.4
         ],
         "y": [
          0.9090909090909092,
          0.9565217391304348
         ]
        },
        {
         "hoverinfo": "none",
         "line": {
          "color": "#888",
          "width": 1
         },
         "mode": "lines",
         "type": "scatter",
         "x": [
          8.583333333333334,
          8.214285714285714
         ],
         "y": [
          0.9090909090909092,
          0.9333333333333332
         ]
        },
        {
         "hoverinfo": "none",
         "line": {
          "color": "#888",
          "width": 1
         },
         "mode": "lines",
         "type": "scatter",
         "x": [
          8.444444444444445,
          8
         ],
         "y": [
          0.9347826086956522,
          0.9361702127659574
         ]
        },
        {
         "hoverinfo": "none",
         "line": {
          "color": "#888",
          "width": 1
         },
         "mode": "lines",
         "type": "scatter",
         "x": [
          8.4,
          8.333333333333334
         ],
         "y": [
          0.9565217391304348,
          0.9787234042553192
         ]
        },
        {
         "hoverinfo": "none",
         "line": {
          "color": "#888",
          "width": 1
         },
         "mode": "lines",
         "type": "scatter",
         "x": [
          7.75,
          7.3
         ],
         "y": [
          0.7368421052631579,
          0.7692307692307693
         ]
        },
        {
         "hoverinfo": "none",
         "line": {
          "color": "#888",
          "width": 1
         },
         "mode": "lines",
         "type": "scatter",
         "x": [
          7.75,
          8.5
         ],
         "y": [
          0.7368421052631579,
          0.8
         ]
        },
        {
         "hoverinfo": "none",
         "line": {
          "color": "#888",
          "width": 1
         },
         "mode": "lines",
         "type": "scatter",
         "x": [
          9.166666666666666,
          9.714285714285714
         ],
         "y": [
          0.631578947368421,
          0.6153846153846154
         ]
        },
        {
         "hoverinfo": "none",
         "line": {
          "color": "#888",
          "width": 1
         },
         "mode": "lines",
         "type": "scatter",
         "x": [
          7.833333333333333,
          8
         ],
         "y": [
          0.631578947368421,
          0.7000000000000001
         ]
        },
        {
         "hoverinfo": "none",
         "line": {
          "color": "#888",
          "width": 1
         },
         "mode": "lines",
         "type": "scatter",
         "x": [
          8.5,
          8.5
         ],
         "y": [
          0.7368421052631579,
          0.8571428571428571
         ]
        },
        {
         "hoverinfo": "none",
         "line": {
          "color": "#888",
          "width": 3
         },
         "mode": "lines",
         "type": "scatter",
         "x": [
          8.5,
          9.375
         ],
         "y": [
          0.7368421052631579,
          0.7692307692307693
         ]
        },
        {
         "hoverinfo": "none",
         "line": {
          "color": "#888",
          "width": 2
         },
         "mode": "lines",
         "type": "scatter",
         "x": [
          8.5,
          7.75
         ],
         "y": [
          0.7368421052631579,
          0.7692307692307693
         ]
        },
        {
         "hoverinfo": "none",
         "line": {
          "color": "#888",
          "width": 1
         },
         "mode": "lines",
         "type": "scatter",
         "x": [
          8.5,
          9.071428571428571
         ],
         "y": [
          0.7368421052631579,
          0.8571428571428571
         ]
        },
        {
         "hoverinfo": "none",
         "line": {
          "color": "#888",
          "width": 1
         },
         "mode": "lines",
         "type": "scatter",
         "x": [
          6.5,
          7.5
         ],
         "y": [
          0.6578947368421053,
          0.725
         ]
        },
        {
         "hoverinfo": "none",
         "line": {
          "color": "#888",
          "width": 1
         },
         "mode": "lines",
         "type": "scatter",
         "x": [
          7.3,
          7.071428571428571
         ],
         "y": [
          0.7692307692307693,
          0.8048780487804877
         ]
        },
        {
         "hoverinfo": "none",
         "line": {
          "color": "#888",
          "width": 1
         },
         "mode": "lines",
         "type": "scatter",
         "x": [
          8,
          8.083333333333334
         ],
         "y": [
          0.7435897435897435,
          0.8048780487804877
         ]
        },
        {
         "hoverinfo": "none",
         "line": {
          "color": "#888",
          "width": 1
         },
         "mode": "lines",
         "type": "scatter",
         "x": [
          9.714285714285714,
          9.714285714285714
         ],
         "y": [
          0.6153846153846154,
          0.65
         ]
        },
        {
         "hoverinfo": "none",
         "line": {
          "color": "#888",
          "width": 2
         },
         "mode": "lines",
         "type": "scatter",
         "x": [
          9.375,
          8.6
         ],
         "y": [
          0.7692307692307693,
          0.8
         ]
        },
        {
         "hoverinfo": "none",
         "line": {
          "color": "#888",
          "width": 1
         },
         "mode": "lines",
         "type": "scatter",
         "x": [
          9.375,
          9.2
         ],
         "y": [
          0.7692307692307693,
          0.8837209302325582
         ]
        },
        {
         "hoverinfo": "none",
         "line": {
          "color": "#888",
          "width": 2
         },
         "mode": "lines",
         "type": "scatter",
         "x": [
          9.375,
          9.416666666666666
         ],
         "y": [
          0.7692307692307693,
          0.8292682926829268
         ]
        },
        {
         "hoverinfo": "none",
         "line": {
          "color": "#888",
          "width": 1
         },
         "mode": "lines",
         "type": "scatter",
         "x": [
          9.375,
          9
         ],
         "y": [
          0.7692307692307693,
          0.8
         ]
        },
        {
         "hoverinfo": "none",
         "line": {
          "color": "#888",
          "width": 2
         },
         "mode": "lines",
         "type": "scatter",
         "x": [
          7.75,
          8.6
         ],
         "y": [
          0.7692307692307693,
          0.8
         ]
        },
        {
         "hoverinfo": "none",
         "line": {
          "color": "#888",
          "width": 1
         },
         "mode": "lines",
         "type": "scatter",
         "x": [
          7.75,
          7.9
         ],
         "y": [
          0.7692307692307693,
          0.8
         ]
        },
        {
         "hoverinfo": "none",
         "line": {
          "color": "#888",
          "width": 1
         },
         "mode": "lines",
         "type": "scatter",
         "x": [
          7.75,
          7.4
         ],
         "y": [
          0.7692307692307693,
          0.8
         ]
        },
        {
         "hoverinfo": "none",
         "line": {
          "color": "#888",
          "width": 1
         },
         "mode": "lines",
         "type": "scatter",
         "x": [
          10,
          8.625
         ],
         "y": [
          0.5128205128205129,
          0.525
         ]
        },
        {
         "hoverinfo": "none",
         "line": {
          "color": "#888",
          "width": 1
         },
         "mode": "lines",
         "type": "scatter",
         "x": [
          7.071428571428571,
          7.1
         ],
         "y": [
          0.8048780487804877,
          0.8604651162790697
         ]
        },
        {
         "hoverinfo": "none",
         "line": {
          "color": "#888",
          "width": 1
         },
         "mode": "lines",
         "type": "scatter",
         "x": [
          8.083333333333334,
          8.142857142857142
         ],
         "y": [
          0.8048780487804877,
          0.9111111111111112
         ]
        },
        {
         "hoverinfo": "none",
         "line": {
          "color": "#888",
          "width": 1
         },
         "mode": "lines",
         "type": "scatter",
         "x": [
          8.222222222222221,
          7.9
         ],
         "y": [
          0.6829268292682927,
          0.7999999999999999
         ]
        },
        {
         "hoverinfo": "none",
         "line": {
          "color": "#888",
          "width": 1
         },
         "mode": "lines",
         "type": "scatter",
         "x": [
          8.166666666666666,
          8.1
         ],
         "y": [
          0.8292682926829268,
          0.8837209302325582
         ]
        },
        {
         "hoverinfo": "none",
         "line": {
          "color": "#888",
          "width": 1
         },
         "mode": "lines",
         "type": "scatter",
         "x": [
          8.166666666666666,
          8.214285714285714
         ],
         "y": [
          0.8292682926829268,
          0.9333333333333332
         ]
        },
        {
         "hoverinfo": "none",
         "line": {
          "color": "#888",
          "width": 1
         },
         "mode": "lines",
         "type": "scatter",
         "x": [
          9.428571428571429,
          9.4375
         ],
         "y": [
          0.8292682926829268,
          0.8571428571428571
         ]
        },
        {
         "hoverinfo": "none",
         "line": {
          "color": "#888",
          "width": 1
         },
         "mode": "lines",
         "type": "scatter",
         "x": [
          11,
          11.8
         ],
         "y": [
          0.5365853658536585,
          0.5777777777777778
         ]
        },
        {
         "hoverinfo": "none",
         "line": {
          "color": "#888",
          "width": 1
         },
         "mode": "lines",
         "type": "scatter",
         "x": [
          9.083333333333334,
          8.714285714285714
         ],
         "y": [
          0.8292682926829268,
          0.8571428571428571
         ]
        },
        {
         "hoverinfo": "none",
         "line": {
          "color": "#888",
          "width": 1
         },
         "mode": "lines",
         "type": "scatter",
         "x": [
          7.538461538461538,
          7.6
         ],
         "y": [
          0.7560975609756098,
          0.7857142857142857
         ]
        },
        {
         "hoverinfo": "none",
         "line": {
          "color": "#888",
          "width": 1
         },
         "mode": "lines",
         "type": "scatter",
         "x": [
          8.5,
          9
         ],
         "y": [
          0.8048780487804877,
          0.8095238095238096
         ]
        },
        {
         "hoverinfo": "none",
         "line": {
          "color": "#888",
          "width": 1
         },
         "mode": "lines",
         "type": "scatter",
         "x": [
          9.416666666666666,
          8.928571428571429
         ],
         "y": [
          0.8292682926829268,
          0.8571428571428571
         ]
        },
        {
         "hoverinfo": "none",
         "line": {
          "color": "#888",
          "width": 1
         },
         "mode": "lines",
         "type": "scatter",
         "x": [
          9.416666666666666,
          9.2
         ],
         "y": [
          0.8292682926829268,
          0.8837209302325582
         ]
        },
        {
         "hoverinfo": "none",
         "line": {
          "color": "#888",
          "width": 1
         },
         "mode": "lines",
         "type": "scatter",
         "x": [
          7.1,
          7.916666666666667
         ],
         "y": [
          0.8604651162790697,
          0.8863636363636362
         ]
        },
        {
         "hoverinfo": "none",
         "line": {
          "color": "#888",
          "width": 1
         },
         "mode": "lines",
         "type": "scatter",
         "x": [
          9.2,
          8.666666666666666
         ],
         "y": [
          0.8837209302325582,
          0.9090909090909092
         ]
        },
        {
         "hoverinfo": "none",
         "line": {
          "color": "#888",
          "width": 2
         },
         "mode": "lines",
         "type": "scatter",
         "x": [
          9.2,
          8.583333333333334
         ],
         "y": [
          0.8837209302325582,
          0.9090909090909092
         ]
        },
        {
         "hoverinfo": "none",
         "line": {
          "color": "#888",
          "width": 1
         },
         "mode": "lines",
         "type": "scatter",
         "x": [
          8.1,
          8.25
         ],
         "y": [
          0.8837209302325582,
          0.9090909090909092
         ]
        },
        {
         "hoverinfo": "none",
         "line": {
          "color": "#888",
          "width": 1
         },
         "mode": "lines",
         "type": "scatter",
         "x": [
          8.4,
          8.416666666666666
         ],
         "y": [
          0.8837209302325582,
          0.9090909090909092
         ]
        },
        {
         "hoverinfo": "none",
         "line": {
          "color": "#888",
          "width": 1
         },
         "mode": "lines",
         "type": "scatter",
         "x": [
          8.9,
          9
         ],
         "y": [
          0.8837209302325582,
          0.9090909090909092
         ]
        },
        {
         "hoverinfo": "none",
         "line": {
          "color": "#888",
          "width": 4
         },
         "mode": "lines",
         "type": "scatter",
         "x": [
          9.5,
          11.666666666666666
         ],
         "y": [
          0.5882352941176471,
          0.6285714285714286
         ]
        },
        {
         "hoverinfo": "none",
         "line": {
          "color": "#888",
          "width": 1
         },
         "mode": "lines",
         "type": "scatter",
         "x": [
          9.5,
          8.5
         ],
         "y": [
          0.5882352941176471,
          0.6666666666666666
         ]
        },
        {
         "hoverinfo": "none",
         "line": {
          "color": "#888",
          "width": 1
         },
         "mode": "lines",
         "type": "scatter",
         "x": [
          9.5,
          10
         ],
         "y": [
          0.5882352941176471,
          0.6666666666666666
         ]
        },
        {
         "hoverinfo": "none",
         "line": {
          "color": "#888",
          "width": 3
         },
         "mode": "lines",
         "type": "scatter",
         "x": [
          7.5,
          7
         ],
         "y": [
          0.5882352941176471,
          0.6666666666666666
         ]
        },
        {
         "hoverinfo": "none",
         "line": {
          "color": "#888",
          "width": 1
         },
         "mode": "lines",
         "type": "scatter",
         "x": [
          7.5,
          5.5
         ],
         "y": [
          0.5882352941176471,
          0.6388888888888891
         ]
        },
        {
         "hoverinfo": "none",
         "line": {
          "color": "#888",
          "width": 1
         },
         "mode": "lines",
         "type": "scatter",
         "x": [
          7.5,
          5.5
         ],
         "y": [
          0.5882352941176471,
          0.6285714285714286
         ]
        },
        {
         "hoverinfo": "none",
         "line": {
          "color": "#888",
          "width": 1
         },
         "mode": "lines",
         "type": "scatter",
         "x": [
          7.5,
          8.5
         ],
         "y": [
          0.5882352941176471,
          0.6666666666666666
         ]
        },
        {
         "hoverinfo": "none",
         "line": {
          "color": "#888",
          "width": 1
         },
         "mode": "lines",
         "type": "scatter",
         "x": [
          8.5,
          12.5
         ],
         "y": [
          0.4705882352941176,
          0.5
         ]
        },
        {
         "hoverinfo": "none",
         "line": {
          "color": "#888",
          "width": 1
         },
         "mode": "lines",
         "type": "scatter",
         "x": [
          8.5,
          7
         ],
         "y": [
          0.5882352941176471,
          0.6666666666666666
         ]
        },
        {
         "hoverinfo": "none",
         "line": {
          "color": "#888",
          "width": 1
         },
         "mode": "lines",
         "type": "scatter",
         "x": [
          9.666666666666666,
          11.666666666666666
         ],
         "y": [
          0.5882352941176471,
          0.6285714285714286
         ]
        },
        {
         "hoverinfo": "none",
         "line": {
          "color": "#888",
          "width": 1
         },
         "mode": "lines",
         "type": "scatter",
         "x": [
          11.666666666666666,
          8
         ],
         "y": [
          0.6285714285714286,
          0.7435897435897435
         ]
        },
        {
         "hoverinfo": "none",
         "line": {
          "color": "#888",
          "width": 3
         },
         "mode": "lines",
         "type": "scatter",
         "x": [
          11.666666666666666,
          10.4
         ],
         "y": [
          0.6285714285714286,
          0.7027027027027027
         ]
        },
        {
         "hoverinfo": "none",
         "line": {
          "color": "#888",
          "width": 1
         },
         "mode": "lines",
         "type": "scatter",
         "x": [
          11.666666666666666,
          11
         ],
         "y": [
          0.6285714285714286,
          0.6666666666666666
         ]
        },
        {
         "hoverinfo": "none",
         "line": {
          "color": "#888",
          "width": 1
         },
         "mode": "lines",
         "type": "scatter",
         "x": [
          12.5,
          9
         ],
         "y": [
          0.5142857142857142,
          0.5945945945945945
         ]
        },
        {
         "hoverinfo": "none",
         "line": {
          "color": "#888",
          "width": 2
         },
         "mode": "lines",
         "type": "scatter",
         "x": [
          5.5,
          6.7
         ],
         "y": [
          0.6285714285714286,
          0.7027027027027027
         ]
        },
        {
         "hoverinfo": "none",
         "line": {
          "color": "#888",
          "width": 1
         },
         "mode": "lines",
         "type": "scatter",
         "x": [
          7.2,
          7.333333333333333
         ],
         "y": [
          0.5714285714285715,
          0.6111111111111109
         ]
        },
        {
         "hoverinfo": "none",
         "line": {
          "color": "#888",
          "width": 1
         },
         "mode": "lines",
         "type": "scatter",
         "x": [
          8.142857142857142,
          8.636363636363637
         ],
         "y": [
          0.9111111111111112,
          0.9574468085106383
         ]
        },
        {
         "hoverinfo": "none",
         "line": {
          "color": "#888",
          "width": 1
         },
         "mode": "lines",
         "type": "scatter",
         "x": [
          7.9,
          9.5
         ],
         "y": [
          0.7999999999999999,
          0.8085106382978724
         ]
        },
        {
         "hoverinfo": "none",
         "line": {
          "color": "#888",
          "width": 2
         },
         "mode": "lines",
         "type": "scatter",
         "x": [
          8.214285714285714,
          8.727272727272727
         ],
         "y": [
          0.9333333333333332,
          0.9787234042553192
         ]
        },
        {
         "hoverinfo": "none",
         "line": {
          "color": "#888",
          "width": 1
         },
         "mode": "lines",
         "type": "scatter",
         "x": [
          8.214285714285714,
          8.363636363636363
         ],
         "y": [
          0.9333333333333332,
          0.9787234042553192
         ]
        },
        {
         "hoverinfo": "none",
         "line": {
          "color": "#888",
          "width": 1
         },
         "mode": "lines",
         "type": "scatter",
         "x": [
          8.214285714285714,
          8.222222222222221
         ],
         "y": [
          0.9333333333333332,
          0.9565217391304348
         ]
        },
        {
         "hoverinfo": "none",
         "line": {
          "color": "#888",
          "width": 1
         },
         "mode": "lines",
         "type": "scatter",
         "x": [
          11.8,
          10.875
         ],
         "y": [
          0.5777777777777778,
          0.6530612244897959
         ]
        },
        {
         "hoverinfo": "none",
         "line": {
          "color": "#888",
          "width": 1
         },
         "mode": "lines",
         "type": "scatter",
         "x": [
          9.5,
          10
         ],
         "y": [
          0.8085106382978724,
          0.7916666666666666
         ]
        },
        {
         "hoverinfo": "none",
         "line": {
          "color": "#888",
          "width": 2
         },
         "mode": "lines",
         "type": "scatter",
         "x": [
          8.727272727272727,
          8.615384615384615
         ],
         "y": [
          0.9787234042553192,
          1
         ]
        },
        {
         "hoverinfo": "none",
         "line": {
          "color": "#888",
          "width": 1
         },
         "mode": "lines",
         "type": "scatter",
         "x": [
          8,
          8.4
         ],
         "y": [
          0.9361702127659574,
          0.9387755102040816
         ]
        },
        {
         "hoverinfo": "none",
         "line": {
          "color": "#888",
          "width": 1
         },
         "mode": "lines",
         "type": "scatter",
         "x": [
          8.363636363636363,
          8.615384615384615
         ],
         "y": [
          0.9787234042553192,
          1
         ]
        },
        {
         "hoverinfo": "none",
         "line": {
          "color": "#888",
          "width": 1
         },
         "mode": "lines",
         "type": "scatter",
         "x": [
          8.333333333333334,
          8.615384615384615
         ],
         "y": [
          0.9787234042553192,
          1
         ]
        },
        {
         "hoverinfo": "none",
         "line": {
          "color": "#888",
          "width": 1
         },
         "mode": "lines",
         "type": "scatter",
         "x": [
          12,
          11.666666666666666
         ],
         "y": [
          0.26666666666666666,
          0.3225806451612903
         ]
        },
        {
         "hoverinfo": "none",
         "line": {
          "color": "#888",
          "width": 1
         },
         "mode": "lines",
         "type": "scatter",
         "x": [
          6,
          5.9
         ],
         "y": [
          0.4,
          0.4516129032258064
         ]
        },
        {
         "hoverinfo": "none",
         "line": {
          "color": "#888",
          "width": 1
         },
         "mode": "lines",
         "type": "scatter",
         "x": [
          6,
          6.7
         ],
         "y": [
          0.4,
          0.5
         ]
        },
        {
         "hoverinfo": "none",
         "line": {
          "color": "#888",
          "width": 1
         },
         "mode": "lines",
         "type": "scatter",
         "x": [
          11,
          9.5
         ],
         "y": [
          0.4,
          0.5882352941176471
         ]
        },
        {
         "hoverinfo": "none",
         "line": {
          "color": "#888",
          "width": 1
         },
         "mode": "lines",
         "type": "scatter",
         "x": [
          8.5,
          8
         ],
         "y": [
          0.4,
          0.4516129032258064
         ]
        },
        {
         "hoverinfo": "none",
         "line": {
          "color": "#888",
          "width": 1
         },
         "mode": "lines",
         "type": "scatter",
         "x": [
          11.666666666666666,
          12.5
         ],
         "y": [
          0.3225806451612903,
          0.5142857142857142
         ]
        },
        {
         "hoverinfo": "none",
         "line": {
          "color": "#888",
          "width": 1
         },
         "mode": "lines",
         "type": "scatter",
         "x": [
          5.9,
          5.5
         ],
         "y": [
          0.4516129032258064,
          0.6285714285714286
         ]
        },
        {
         "hoverinfo": "none",
         "line": {
          "color": "#888",
          "width": 1
         },
         "mode": "lines",
         "type": "scatter",
         "x": [
          8,
          8.5
         ],
         "y": [
          0.4516129032258064,
          0.5
         ]
        },
        {
         "hoverinfo": "none",
         "line": {
          "color": "#888",
          "width": 1
         },
         "mode": "lines",
         "type": "scatter",
         "x": [
          9,
          7.833333333333333
         ],
         "y": [
          0.5945945945945945,
          0.631578947368421
         ]
        },
        {
         "hoverinfo": "none",
         "line": {
          "color": "#888",
          "width": 3
         },
         "mode": "lines",
         "type": "scatter",
         "x": [
          10.4,
          9.375
         ],
         "y": [
          0.7027027027027027,
          0.7692307692307693
         ]
        },
        {
         "hoverinfo": "none",
         "line": {
          "color": "#888",
          "width": 1
         },
         "mode": "lines",
         "type": "scatter",
         "x": [
          10.4,
          9.428571428571429
         ],
         "y": [
          0.7027027027027027,
          0.8292682926829268
         ]
        },
        {
         "hoverinfo": "none",
         "line": {
          "color": "#888",
          "width": 2
         },
         "mode": "lines",
         "type": "scatter",
         "x": [
          6.7,
          7.75
         ],
         "y": [
          0.7027027027027027,
          0.7692307692307693
         ]
        },
        {
         "hoverinfo": "none",
         "line": {
          "color": "#888",
          "width": 1
         },
         "mode": "lines",
         "type": "scatter",
         "x": [
          12.666666666666666,
          10
         ],
         "y": [
          0.4864864864864865,
          0.5128205128205129
         ]
        },
        {
         "hoverinfo": "none",
         "line": {
          "color": "#888",
          "width": 1
         },
         "mode": "lines",
         "type": "scatter",
         "x": [
          10,
          9.818181818181818
         ],
         "y": [
          0.7916666666666666,
          0.8400000000000001
         ]
        },
        {
         "hoverinfo": "none",
         "line": {
          "color": "#888",
          "width": 1
         },
         "mode": "lines",
         "type": "scatter",
         "x": [
          8,
          7.4
         ],
         "y": [
          0.7291666666666665,
          0.7142857142857142
         ]
        },
        {
         "hoverinfo": "none",
         "line": {
          "color": "#888",
          "width": 1
         },
         "mode": "lines",
         "type": "scatter",
         "x": [
          8.5,
          8.785714285714286
         ],
         "y": [
          0.625,
          0.6
         ]
        },
        {
         "hoverinfo": "none",
         "line": {
          "color": "#888",
          "width": 1
         },
         "mode": "lines",
         "type": "scatter",
         "x": [
          9.818181818181818,
          8.5
         ],
         "y": [
          0.8400000000000001,
          0.8461538461538461
         ]
        },
        {
         "hoverinfo": "none",
         "line": {
          "color": "#888",
          "width": 1
         },
         "mode": "lines",
         "type": "scatter",
         "x": [
          8.785714285714286,
          8.714285714285714
         ],
         "y": [
          0.6,
          0.5882352941176471
         ]
        },
        {
         "hoverinfo": "none",
         "line": {
          "color": "#888",
          "width": 1
         },
         "mode": "lines",
         "type": "scatter",
         "x": [
          8.5,
          8.222222222222221
         ],
         "y": [
          0.8461538461538461,
          0.8679245283018867
         ]
        },
        {
         "hoverinfo": "none",
         "line": {
          "color": "#888",
          "width": 1
         },
         "mode": "lines",
         "type": "scatter",
         "x": [
          8.222222222222221,
          7.666666666666667
         ],
         "y": [
          0.8679245283018867,
          0.8518518518518519
         ]
        },
        {
         "hoverinfo": "none",
         "line": {
          "color": "#888",
          "width": 1
         },
         "mode": "lines",
         "type": "scatter",
         "x": [
          9.4,
          8.846153846153847
         ],
         "y": [
          0.7169811320754716,
          0.6666666666666667
         ]
        },
        {
         "hoverinfo": "none",
         "line": {
          "color": "#888",
          "width": 1
         },
         "mode": "lines",
         "type": "scatter",
         "x": [
          8.5,
          9.2
         ],
         "y": [
          0.8571428571428571,
          0.8837209302325582
         ]
        },
        {
         "hoverinfo": "none",
         "line": {
          "color": "#888",
          "width": 1
         },
         "mode": "lines",
         "type": "scatter",
         "x": [
          9.4375,
          9.25
         ],
         "y": [
          0.8571428571428571,
          0.9090909090909092
         ]
        },
        {
         "hoverinfo": "none",
         "line": {
          "color": "#888",
          "width": 1
         },
         "mode": "lines",
         "type": "scatter",
         "x": [
          8.714285714285714,
          8.4
         ],
         "y": [
          0.8571428571428571,
          0.8837209302325582
         ]
        },
        {
         "hoverinfo": "none",
         "line": {
          "color": "#888",
          "width": 1
         },
         "mode": "lines",
         "type": "scatter",
         "x": [
          7.6,
          7.285714285714286
         ],
         "y": [
          0.7857142857142857,
          0.7727272727272727
         ]
        },
        {
         "hoverinfo": "none",
         "line": {
          "color": "#888",
          "width": 1
         },
         "mode": "lines",
         "type": "scatter",
         "x": [
          8.6,
          10
         ],
         "y": [
          0.5952380952380953,
          0.7173913043478259
         ]
        },
        {
         "hoverinfo": "none",
         "line": {
          "color": "#888",
          "width": 1
         },
         "mode": "lines",
         "type": "scatter",
         "x": [
          8.571428571428571,
          8.583333333333334
         ],
         "y": [
          0.8571428571428571,
          0.9090909090909092
         ]
        },
        {
         "hoverinfo": "none",
         "line": {
          "color": "#888",
          "width": 1
         },
         "mode": "lines",
         "type": "scatter",
         "x": [
          8.928571428571429,
          8.9
         ],
         "y": [
          0.8571428571428571,
          0.8837209302325582
         ]
        },
        {
         "hoverinfo": "none",
         "line": {
          "color": "#888",
          "width": 1
         },
         "mode": "lines",
         "type": "scatter",
         "x": [
          9.071428571428571,
          10
         ],
         "y": [
          0.8571428571428571,
          0.8837209302325582
         ]
        },
        {
         "hoverinfo": "none",
         "line": {
          "color": "#888",
          "width": 1
         },
         "mode": "lines",
         "type": "scatter",
         "x": [
          7.4,
          7.4
         ],
         "y": [
          0.7142857142857142,
          0.74
         ]
        },
        {
         "hoverinfo": "none",
         "line": {
          "color": "#888",
          "width": 1
         },
         "mode": "lines",
         "type": "scatter",
         "x": [
          10.875,
          9.4
         ],
         "y": [
          0.6530612244897959,
          0.7169811320754716
         ]
        },
        {
         "hoverinfo": "none",
         "line": {
          "color": "#888",
          "width": 1
         },
         "mode": "lines",
         "type": "scatter",
         "x": [
          8.846153846153847,
          8.846153846153847
         ],
         "y": [
          0.6666666666666667,
          0.6724137931034482
         ]
        },
        {
         "hoverinfo": "none",
         "line": {
          "color": "#888",
          "width": 1
         },
         "mode": "lines",
         "type": "scatter",
         "x": [
          5.6,
          7.285714285714286
         ],
         "y": [
          0.3448275862068966,
          0.4848484848484849
         ]
        },
        {
         "hoverinfo": "none",
         "line": {
          "color": "#888",
          "width": 1
         },
         "mode": "lines",
         "type": "scatter",
         "x": [
          6,
          8
         ],
         "y": [
          0.27586206896551724,
          0.4848484848484849
         ]
        },
        {
         "hoverinfo": "none",
         "line": {
          "color": "#888",
          "width": 1
         },
         "mode": "lines",
         "type": "scatter",
         "x": [
          9,
          8.5
         ],
         "y": [
          0.3448275862068966,
          0.4
         ]
        },
        {
         "hoverinfo": "none",
         "line": {
          "color": "#888",
          "width": 1
         },
         "mode": "lines",
         "type": "scatter",
         "x": [
          7.285714285714286,
          7.2
         ],
         "y": [
          0.4848484848484849,
          0.5714285714285715
         ]
        },
        {
         "hoverinfo": "none",
         "line": {
          "color": "#888",
          "width": 1
         },
         "mode": "lines",
         "type": "scatter",
         "x": [
          8,
          8.5
         ],
         "y": [
          0.4848484848484849,
          0.4705882352941176
         ]
        },
        {
         "hoverinfo": "none",
         "line": {
          "color": "#888",
          "width": 1
         },
         "mode": "lines",
         "type": "scatter",
         "x": [
          9.2,
          9.666666666666666
         ],
         "y": [
          0.5454545454545454,
          0.5882352941176471
         ]
        },
        {
         "hoverinfo": "text",
         "marker": {
          "color": [
           0,
           0,
           0,
           0,
           0,
           0,
           0,
           0,
           0,
           0,
           0,
           0,
           0,
           0,
           0,
           0,
           0,
           0,
           0,
           0,
           0,
           0,
           0,
           0,
           0,
           0,
           0,
           0,
           0,
           0,
           0,
           0,
           0,
           0,
           0,
           0,
           0,
           0,
           0,
           0,
           0,
           0,
           0,
           0,
           0,
           0,
           0,
           0,
           0,
           0,
           0,
           0,
           0,
           0,
           0,
           0,
           0,
           0,
           0,
           0,
           0,
           0,
           0,
           0,
           0,
           0,
           0,
           0,
           0,
           0,
           0,
           0,
           0,
           0,
           0,
           0,
           0,
           0,
           0,
           0,
           0,
           0,
           0,
           0,
           0,
           0,
           0,
           0,
           0,
           0,
           0,
           0,
           0,
           0,
           0,
           0,
           0,
           0,
           0,
           0,
           0,
           0,
           0,
           0,
           0,
           0,
           0,
           0,
           0,
           0,
           0,
           0,
           0,
           0,
           0,
           0,
           0,
           0,
           0,
           0,
           0,
           0,
           1,
           0,
           0,
           0,
           0,
           0,
           0,
           0,
           0,
           0,
           0,
           0,
           0,
           0,
           0,
           0,
           0,
           0,
           0,
           0,
           0,
           0,
           0,
           0,
           0,
           0,
           0,
           0,
           0,
           0
          ],
          "colorscale": [
           [
            0,
            "rgb(255,255,217)"
           ],
           [
            0.125,
            "rgb(237,248,177)"
           ],
           [
            0.25,
            "rgb(199,233,180)"
           ],
           [
            0.375,
            "rgb(127,205,187)"
           ],
           [
            0.5,
            "rgb(65,182,196)"
           ],
           [
            0.625,
            "rgb(29,145,192)"
           ],
           [
            0.75,
            "rgb(34,94,168)"
           ],
           [
            0.875,
            "rgb(37,52,148)"
           ],
           [
            1,
            "rgb(8,29,88)"
           ]
          ],
          "line": {
           "width": 2
          },
          "reversescale": true,
          "showscale": true,
          "size": [
           26.801758872564367,
           8,
           19.229419688230415,
           21.28771237954945,
           12,
           8,
           8,
           12,
           8,
           8,
           23.229419688230415,
           8,
           8,
           8,
           8,
           8,
           14.339850002884624,
           12,
           8,
           8,
           8,
           8,
           16,
           8,
           8,
           8,
           8,
           8,
           12,
           8,
           8,
           16,
           8,
           8,
           8,
           8,
           8,
           8,
           8,
           8,
           8,
           8,
           8,
           8,
           8,
           8,
           14.339850002884624,
           8,
           8,
           8,
           8,
           8,
           8,
           8,
           8,
           8,
           8,
           8,
           8,
           12,
           8,
           8,
           19.229419688230415,
           8,
           8,
           8,
           8,
           18.339850002884624,
           16,
           8,
           8,
           8,
           8,
           12,
           8,
           8,
           8,
           8,
           8,
           12,
           8,
           14.339850002884624,
           8,
           8,
           8,
           8,
           18.339850002884624,
           18.339850002884624,
           8,
           8,
           8,
           17.28771237954945,
           8,
           12,
           8,
           8,
           8,
           16,
           8,
           8,
           8,
           8,
           8,
           8,
           12,
           8,
           8,
           8,
           8,
           12,
           8,
           8,
           8,
           8,
           8,
           8,
           16,
           12,
           8,
           8,
           8,
           8,
           16,
           8,
           8,
           8,
           8,
           8,
           8,
           8,
           8,
           8,
           8,
           8,
           8,
           8,
           8,
           8,
           8,
           8,
           8,
           8,
           8,
           8,
           8,
           8,
           8,
           8,
           8,
           8,
           8,
           8
          ]
         },
         "mode": "markers",
         "type": "scatter",
         "x": [
          8.5,
          11.5,
          6.5,
          10.5,
          8.5,
          12.5,
          4.5,
          5.5,
          8.5,
          10.3,
          8.5,
          8.5,
          7.3,
          12.3,
          5.7,
          6.7,
          8.5,
          8.5,
          8.5,
          8.5,
          13.5,
          4.5,
          7,
          7.333333333333333,
          5.5,
          12.5,
          10,
          11,
          8.5,
          9.714285714285714,
          8,
          8.6,
          5.5,
          8.5,
          10.5,
          7.5,
          8.625,
          7.9,
          7.4,
          9,
          8.5,
          7.916666666666667,
          9.4,
          8.666666666666666,
          8.25,
          8.5,
          8.583333333333334,
          9.25,
          8.5,
          8.416666666666666,
          7.285714285714286,
          7.583333333333333,
          8.583333333333334,
          9,
          8.785714285714286,
          8.444444444444445,
          10,
          8.4,
          8.222222222222221,
          7.75,
          9.166666666666666,
          7.833333333333333,
          8.5,
          6.5,
          7.3,
          8,
          9.714285714285714,
          9.375,
          7.75,
          10,
          7.071428571428571,
          8.083333333333334,
          8.222222222222221,
          8.166666666666666,
          9.428571428571429,
          11,
          9.083333333333334,
          7.538461538461538,
          8.5,
          9.416666666666666,
          7.1,
          9.2,
          8.1,
          8.4,
          8.9,
          10,
          9.5,
          7.5,
          8.5,
          8.5,
          9.666666666666666,
          11.666666666666666,
          12.5,
          5.5,
          7.2,
          8.142857142857142,
          7.9,
          8.214285714285714,
          11.8,
          8.142857142857142,
          7.125,
          8.214285714285714,
          8.636363636363637,
          9.5,
          8.727272727272727,
          8,
          8.363636363636363,
          8.333333333333334,
          12,
          6,
          11,
          8.5,
          11.666666666666666,
          5.9,
          8,
          9,
          10.4,
          6.7,
          7.357142857142857,
          12.666666666666666,
          10,
          8,
          8.615384615384615,
          8.5,
          9.818181818181818,
          7.4,
          8.785714285714286,
          8.5,
          8.222222222222221,
          9.4,
          7.666666666666667,
          8.5,
          9.4375,
          8.714285714285714,
          7.6,
          8.6,
          9,
          8.571428571428571,
          8.928571428571429,
          9.071428571428571,
          7.4,
          8.4,
          10.875,
          8.714285714285714,
          8.846153846153847,
          8.846153846153847,
          5.6,
          6,
          9,
          7.285714285714286,
          8,
          9.2
         ],
         "y": [
          0,
          0.2857142857142857,
          0.2857142857142857,
          0.2857142857142857,
          0.2857142857142857,
          0.14285714285714285,
          0.14285714285714285,
          0.2857142857142857,
          0.2857142857142857,
          0.5,
          0.5,
          0.5,
          0.4375000000000001,
          0.25,
          0.375,
          0.5,
          0.6666666666666666,
          0.6666666666666666,
          0.6111111111111109,
          0.5555555555555556,
          0.4444444444444444,
          0.5,
          0.6666666666666666,
          0.6111111111111109,
          0.6388888888888891,
          0.5,
          0.6666666666666666,
          0.6666666666666666,
          0.8,
          0.65,
          0.7000000000000001,
          0.8,
          0.575,
          0.4,
          0.5499999999999999,
          0.725,
          0.525,
          0.8,
          0.8,
          0.8,
          0.8636363636363635,
          0.8863636363636362,
          0.7727272727272727,
          0.9090909090909092,
          0.9090909090909092,
          0.6136363636363636,
          0.9090909090909092,
          0.9090909090909092,
          0.5454545454545454,
          0.9090909090909092,
          0.7727272727272727,
          0.9090909090909092,
          0.9090909090909092,
          0.9090909090909092,
          0.8260869565217391,
          0.9347826086956522,
          0.7173913043478259,
          0.9565217391304348,
          0.9565217391304348,
          0.7368421052631579,
          0.631578947368421,
          0.631578947368421,
          0.7368421052631579,
          0.6578947368421053,
          0.7692307692307693,
          0.7435897435897435,
          0.6153846153846154,
          0.7692307692307693,
          0.7692307692307693,
          0.5128205128205129,
          0.8048780487804877,
          0.8048780487804877,
          0.6829268292682927,
          0.8292682926829268,
          0.8292682926829268,
          0.5365853658536585,
          0.8292682926829268,
          0.7560975609756098,
          0.8048780487804877,
          0.8292682926829268,
          0.8604651162790697,
          0.8837209302325582,
          0.8837209302325582,
          0.8837209302325582,
          0.8837209302325582,
          0.8837209302325582,
          0.5882352941176471,
          0.5882352941176471,
          0.4705882352941176,
          0.5882352941176471,
          0.5882352941176471,
          0.6285714285714286,
          0.5142857142857142,
          0.6285714285714286,
          0.5714285714285715,
          0.9111111111111112,
          0.7999999999999999,
          0.9333333333333332,
          0.5777777777777778,
          0.9111111111111112,
          0.7555555555555556,
          0.9333333333333332,
          0.9574468085106383,
          0.8085106382978724,
          0.9787234042553192,
          0.9361702127659574,
          0.9787234042553192,
          0.9787234042553192,
          0.26666666666666666,
          0.4,
          0.4,
          0.4,
          0.3225806451612903,
          0.4516129032258064,
          0.4516129032258064,
          0.5945945945945945,
          0.7027027027027027,
          0.7027027027027027,
          0.6486486486486487,
          0.4864864864864865,
          0.7916666666666666,
          0.7291666666666665,
          1,
          0.625,
          0.8400000000000001,
          0.74,
          0.6,
          0.8461538461538461,
          0.8679245283018867,
          0.7169811320754716,
          0.8518518518518519,
          0.8571428571428571,
          0.8571428571428571,
          0.8571428571428571,
          0.7857142857142857,
          0.5952380952380953,
          0.8095238095238096,
          0.8571428571428571,
          0.8571428571428571,
          0.8571428571428571,
          0.7142857142857142,
          0.9387755102040816,
          0.6530612244897959,
          0.5882352941176471,
          0.6666666666666667,
          0.6724137931034482,
          0.3448275862068966,
          0.27586206896551724,
          0.3448275862068966,
          0.4848484848484849,
          0.4848484848484849,
          0.5454545454545454
         ]
        }
       ],
       "layout": {
        "annotations": [
         {
          "showarrow": false,
          "text": "",
          "x": 0.005,
          "xref": "paper",
          "y": -0.002,
          "yref": "paper"
         }
        ],
        "height": 800,
        "hovermode": "closest",
        "margin": {
         "b": 20,
         "l": 5,
         "r": 5,
         "t": 40
        },
        "showlegend": false,
        "template": {
         "data": {
          "bar": [
           {
            "error_x": {
             "color": "#2a3f5f"
            },
            "error_y": {
             "color": "#2a3f5f"
            },
            "marker": {
             "line": {
              "color": "#E5ECF6",
              "width": 0.5
             }
            },
            "type": "bar"
           }
          ],
          "barpolar": [
           {
            "marker": {
             "line": {
              "color": "#E5ECF6",
              "width": 0.5
             }
            },
            "type": "barpolar"
           }
          ],
          "carpet": [
           {
            "aaxis": {
             "endlinecolor": "#2a3f5f",
             "gridcolor": "white",
             "linecolor": "white",
             "minorgridcolor": "white",
             "startlinecolor": "#2a3f5f"
            },
            "baxis": {
             "endlinecolor": "#2a3f5f",
             "gridcolor": "white",
             "linecolor": "white",
             "minorgridcolor": "white",
             "startlinecolor": "#2a3f5f"
            },
            "type": "carpet"
           }
          ],
          "choropleth": [
           {
            "colorbar": {
             "outlinewidth": 0,
             "ticks": ""
            },
            "type": "choropleth"
           }
          ],
          "contour": [
           {
            "colorbar": {
             "outlinewidth": 0,
             "ticks": ""
            },
            "colorscale": [
             [
              0,
              "#0d0887"
             ],
             [
              0.1111111111111111,
              "#46039f"
             ],
             [
              0.2222222222222222,
              "#7201a8"
             ],
             [
              0.3333333333333333,
              "#9c179e"
             ],
             [
              0.4444444444444444,
              "#bd3786"
             ],
             [
              0.5555555555555556,
              "#d8576b"
             ],
             [
              0.6666666666666666,
              "#ed7953"
             ],
             [
              0.7777777777777778,
              "#fb9f3a"
             ],
             [
              0.8888888888888888,
              "#fdca26"
             ],
             [
              1,
              "#f0f921"
             ]
            ],
            "type": "contour"
           }
          ],
          "contourcarpet": [
           {
            "colorbar": {
             "outlinewidth": 0,
             "ticks": ""
            },
            "type": "contourcarpet"
           }
          ],
          "heatmap": [
           {
            "colorbar": {
             "outlinewidth": 0,
             "ticks": ""
            },
            "colorscale": [
             [
              0,
              "#0d0887"
             ],
             [
              0.1111111111111111,
              "#46039f"
             ],
             [
              0.2222222222222222,
              "#7201a8"
             ],
             [
              0.3333333333333333,
              "#9c179e"
             ],
             [
              0.4444444444444444,
              "#bd3786"
             ],
             [
              0.5555555555555556,
              "#d8576b"
             ],
             [
              0.6666666666666666,
              "#ed7953"
             ],
             [
              0.7777777777777778,
              "#fb9f3a"
             ],
             [
              0.8888888888888888,
              "#fdca26"
             ],
             [
              1,
              "#f0f921"
             ]
            ],
            "type": "heatmap"
           }
          ],
          "heatmapgl": [
           {
            "colorbar": {
             "outlinewidth": 0,
             "ticks": ""
            },
            "colorscale": [
             [
              0,
              "#0d0887"
             ],
             [
              0.1111111111111111,
              "#46039f"
             ],
             [
              0.2222222222222222,
              "#7201a8"
             ],
             [
              0.3333333333333333,
              "#9c179e"
             ],
             [
              0.4444444444444444,
              "#bd3786"
             ],
             [
              0.5555555555555556,
              "#d8576b"
             ],
             [
              0.6666666666666666,
              "#ed7953"
             ],
             [
              0.7777777777777778,
              "#fb9f3a"
             ],
             [
              0.8888888888888888,
              "#fdca26"
             ],
             [
              1,
              "#f0f921"
             ]
            ],
            "type": "heatmapgl"
           }
          ],
          "histogram": [
           {
            "marker": {
             "colorbar": {
              "outlinewidth": 0,
              "ticks": ""
             }
            },
            "type": "histogram"
           }
          ],
          "histogram2d": [
           {
            "colorbar": {
             "outlinewidth": 0,
             "ticks": ""
            },
            "colorscale": [
             [
              0,
              "#0d0887"
             ],
             [
              0.1111111111111111,
              "#46039f"
             ],
             [
              0.2222222222222222,
              "#7201a8"
             ],
             [
              0.3333333333333333,
              "#9c179e"
             ],
             [
              0.4444444444444444,
              "#bd3786"
             ],
             [
              0.5555555555555556,
              "#d8576b"
             ],
             [
              0.6666666666666666,
              "#ed7953"
             ],
             [
              0.7777777777777778,
              "#fb9f3a"
             ],
             [
              0.8888888888888888,
              "#fdca26"
             ],
             [
              1,
              "#f0f921"
             ]
            ],
            "type": "histogram2d"
           }
          ],
          "histogram2dcontour": [
           {
            "colorbar": {
             "outlinewidth": 0,
             "ticks": ""
            },
            "colorscale": [
             [
              0,
              "#0d0887"
             ],
             [
              0.1111111111111111,
              "#46039f"
             ],
             [
              0.2222222222222222,
              "#7201a8"
             ],
             [
              0.3333333333333333,
              "#9c179e"
             ],
             [
              0.4444444444444444,
              "#bd3786"
             ],
             [
              0.5555555555555556,
              "#d8576b"
             ],
             [
              0.6666666666666666,
              "#ed7953"
             ],
             [
              0.7777777777777778,
              "#fb9f3a"
             ],
             [
              0.8888888888888888,
              "#fdca26"
             ],
             [
              1,
              "#f0f921"
             ]
            ],
            "type": "histogram2dcontour"
           }
          ],
          "mesh3d": [
           {
            "colorbar": {
             "outlinewidth": 0,
             "ticks": ""
            },
            "type": "mesh3d"
           }
          ],
          "parcoords": [
           {
            "line": {
             "colorbar": {
              "outlinewidth": 0,
              "ticks": ""
             }
            },
            "type": "parcoords"
           }
          ],
          "pie": [
           {
            "automargin": true,
            "type": "pie"
           }
          ],
          "scatter": [
           {
            "marker": {
             "colorbar": {
              "outlinewidth": 0,
              "ticks": ""
             }
            },
            "type": "scatter"
           }
          ],
          "scatter3d": [
           {
            "line": {
             "colorbar": {
              "outlinewidth": 0,
              "ticks": ""
             }
            },
            "marker": {
             "colorbar": {
              "outlinewidth": 0,
              "ticks": ""
             }
            },
            "type": "scatter3d"
           }
          ],
          "scattercarpet": [
           {
            "marker": {
             "colorbar": {
              "outlinewidth": 0,
              "ticks": ""
             }
            },
            "type": "scattercarpet"
           }
          ],
          "scattergeo": [
           {
            "marker": {
             "colorbar": {
              "outlinewidth": 0,
              "ticks": ""
             }
            },
            "type": "scattergeo"
           }
          ],
          "scattergl": [
           {
            "marker": {
             "colorbar": {
              "outlinewidth": 0,
              "ticks": ""
             }
            },
            "type": "scattergl"
           }
          ],
          "scattermapbox": [
           {
            "marker": {
             "colorbar": {
              "outlinewidth": 0,
              "ticks": ""
             }
            },
            "type": "scattermapbox"
           }
          ],
          "scatterpolar": [
           {
            "marker": {
             "colorbar": {
              "outlinewidth": 0,
              "ticks": ""
             }
            },
            "type": "scatterpolar"
           }
          ],
          "scatterpolargl": [
           {
            "marker": {
             "colorbar": {
              "outlinewidth": 0,
              "ticks": ""
             }
            },
            "type": "scatterpolargl"
           }
          ],
          "scatterternary": [
           {
            "marker": {
             "colorbar": {
              "outlinewidth": 0,
              "ticks": ""
             }
            },
            "type": "scatterternary"
           }
          ],
          "surface": [
           {
            "colorbar": {
             "outlinewidth": 0,
             "ticks": ""
            },
            "colorscale": [
             [
              0,
              "#0d0887"
             ],
             [
              0.1111111111111111,
              "#46039f"
             ],
             [
              0.2222222222222222,
              "#7201a8"
             ],
             [
              0.3333333333333333,
              "#9c179e"
             ],
             [
              0.4444444444444444,
              "#bd3786"
             ],
             [
              0.5555555555555556,
              "#d8576b"
             ],
             [
              0.6666666666666666,
              "#ed7953"
             ],
             [
              0.7777777777777778,
              "#fb9f3a"
             ],
             [
              0.8888888888888888,
              "#fdca26"
             ],
             [
              1,
              "#f0f921"
             ]
            ],
            "type": "surface"
           }
          ],
          "table": [
           {
            "cells": {
             "fill": {
              "color": "#EBF0F8"
             },
             "line": {
              "color": "white"
             }
            },
            "header": {
             "fill": {
              "color": "#C8D4E3"
             },
             "line": {
              "color": "white"
             }
            },
            "type": "table"
           }
          ]
         },
         "layout": {
          "annotationdefaults": {
           "arrowcolor": "#2a3f5f",
           "arrowhead": 0,
           "arrowwidth": 1
          },
          "coloraxis": {
           "colorbar": {
            "outlinewidth": 0,
            "ticks": ""
           }
          },
          "colorscale": {
           "diverging": [
            [
             0,
             "#8e0152"
            ],
            [
             0.1,
             "#c51b7d"
            ],
            [
             0.2,
             "#de77ae"
            ],
            [
             0.3,
             "#f1b6da"
            ],
            [
             0.4,
             "#fde0ef"
            ],
            [
             0.5,
             "#f7f7f7"
            ],
            [
             0.6,
             "#e6f5d0"
            ],
            [
             0.7,
             "#b8e186"
            ],
            [
             0.8,
             "#7fbc41"
            ],
            [
             0.9,
             "#4d9221"
            ],
            [
             1,
             "#276419"
            ]
           ],
           "sequential": [
            [
             0,
             "#0d0887"
            ],
            [
             0.1111111111111111,
             "#46039f"
            ],
            [
             0.2222222222222222,
             "#7201a8"
            ],
            [
             0.3333333333333333,
             "#9c179e"
            ],
            [
             0.4444444444444444,
             "#bd3786"
            ],
            [
             0.5555555555555556,
             "#d8576b"
            ],
            [
             0.6666666666666666,
             "#ed7953"
            ],
            [
             0.7777777777777778,
             "#fb9f3a"
            ],
            [
             0.8888888888888888,
             "#fdca26"
            ],
            [
             1,
             "#f0f921"
            ]
           ],
           "sequentialminus": [
            [
             0,
             "#0d0887"
            ],
            [
             0.1111111111111111,
             "#46039f"
            ],
            [
             0.2222222222222222,
             "#7201a8"
            ],
            [
             0.3333333333333333,
             "#9c179e"
            ],
            [
             0.4444444444444444,
             "#bd3786"
            ],
            [
             0.5555555555555556,
             "#d8576b"
            ],
            [
             0.6666666666666666,
             "#ed7953"
            ],
            [
             0.7777777777777778,
             "#fb9f3a"
            ],
            [
             0.8888888888888888,
             "#fdca26"
            ],
            [
             1,
             "#f0f921"
            ]
           ]
          },
          "colorway": [
           "#636efa",
           "#EF553B",
           "#00cc96",
           "#ab63fa",
           "#FFA15A",
           "#19d3f3",
           "#FF6692",
           "#B6E880",
           "#FF97FF",
           "#FECB52"
          ],
          "font": {
           "color": "#2a3f5f"
          },
          "geo": {
           "bgcolor": "white",
           "lakecolor": "white",
           "landcolor": "#E5ECF6",
           "showlakes": true,
           "showland": true,
           "subunitcolor": "white"
          },
          "hoverlabel": {
           "align": "left"
          },
          "hovermode": "closest",
          "mapbox": {
           "style": "light"
          },
          "paper_bgcolor": "white",
          "plot_bgcolor": "#E5ECF6",
          "polar": {
           "angularaxis": {
            "gridcolor": "white",
            "linecolor": "white",
            "ticks": ""
           },
           "bgcolor": "#E5ECF6",
           "radialaxis": {
            "gridcolor": "white",
            "linecolor": "white",
            "ticks": ""
           }
          },
          "scene": {
           "xaxis": {
            "backgroundcolor": "#E5ECF6",
            "gridcolor": "white",
            "gridwidth": 2,
            "linecolor": "white",
            "showbackground": true,
            "ticks": "",
            "zerolinecolor": "white"
           },
           "yaxis": {
            "backgroundcolor": "#E5ECF6",
            "gridcolor": "white",
            "gridwidth": 2,
            "linecolor": "white",
            "showbackground": true,
            "ticks": "",
            "zerolinecolor": "white"
           },
           "zaxis": {
            "backgroundcolor": "#E5ECF6",
            "gridcolor": "white",
            "gridwidth": 2,
            "linecolor": "white",
            "showbackground": true,
            "ticks": "",
            "zerolinecolor": "white"
           }
          },
          "shapedefaults": {
           "line": {
            "color": "#2a3f5f"
           }
          },
          "ternary": {
           "aaxis": {
            "gridcolor": "white",
            "linecolor": "white",
            "ticks": ""
           },
           "baxis": {
            "gridcolor": "white",
            "linecolor": "white",
            "ticks": ""
           },
           "bgcolor": "#E5ECF6",
           "caxis": {
            "gridcolor": "white",
            "linecolor": "white",
            "ticks": ""
           }
          },
          "title": {
           "x": 0.05
          },
          "xaxis": {
           "automargin": true,
           "gridcolor": "white",
           "linecolor": "white",
           "ticks": "",
           "title": {
            "standoff": 15
           },
           "zerolinecolor": "white",
           "zerolinewidth": 2
          },
          "yaxis": {
           "automargin": true,
           "gridcolor": "white",
           "linecolor": "white",
           "ticks": "",
           "title": {
            "standoff": 15
           },
           "zerolinecolor": "white",
           "zerolinewidth": 2
          }
         }
        },
        "title": {
         "font": {
          "size": 16
         },
         "text": "<br>World states for hand_selected_009, repetition 0, by number of squares"
        },
        "width": 800
       }
      },
      "text/html": [
       "<div>\n",
       "        \n",
       "        \n",
       "            <div id=\"23109305-bf73-4a02-8138-7f0a2a74f62a\" class=\"plotly-graph-div\" style=\"height:800px; width:800px;\"></div>\n",
       "            <script type=\"text/javascript\">\n",
       "                require([\"plotly\"], function(Plotly) {\n",
       "                    window.PLOTLYENV=window.PLOTLYENV || {};\n",
       "                    \n",
       "                if (document.getElementById(\"23109305-bf73-4a02-8138-7f0a2a74f62a\")) {\n",
       "                    Plotly.newPlot(\n",
       "                        '23109305-bf73-4a02-8138-7f0a2a74f62a',\n",
       "                        [{\"hoverinfo\": \"none\", \"line\": {\"color\": \"#888\", \"width\": 1}, \"mode\": \"lines\", \"type\": \"scatter\", \"x\": [8.5, 11.5], \"y\": [0, 0.2857142857142857]}, {\"hoverinfo\": \"none\", \"line\": {\"color\": \"#888\", \"width\": 7}, \"mode\": \"lines\", \"type\": \"scatter\", \"x\": [8.5, 6.5], \"y\": [0, 0.2857142857142857]}, {\"hoverinfo\": \"none\", \"line\": {\"color\": \"#888\", \"width\": 10}, \"mode\": \"lines\", \"type\": \"scatter\", \"x\": [8.5, 10.5], \"y\": [0, 0.2857142857142857]}, {\"hoverinfo\": \"none\", \"line\": {\"color\": \"#888\", \"width\": 2}, \"mode\": \"lines\", \"type\": \"scatter\", \"x\": [8.5, 8.5], \"y\": [0, 0.2857142857142857]}, {\"hoverinfo\": \"none\", \"line\": {\"color\": \"#888\", \"width\": 1}, \"mode\": \"lines\", \"type\": \"scatter\", \"x\": [8.5, 12.5], \"y\": [0, 0.14285714285714285]}, {\"hoverinfo\": \"none\", \"line\": {\"color\": \"#888\", \"width\": 1}, \"mode\": \"lines\", \"type\": \"scatter\", \"x\": [8.5, 4.5], \"y\": [0, 0.14285714285714285]}, {\"hoverinfo\": \"none\", \"line\": {\"color\": \"#888\", \"width\": 2}, \"mode\": \"lines\", \"type\": \"scatter\", \"x\": [8.5, 5.5], \"y\": [0, 0.2857142857142857]}, {\"hoverinfo\": \"none\", \"line\": {\"color\": \"#888\", \"width\": 1}, \"mode\": \"lines\", \"type\": \"scatter\", \"x\": [8.5, 8.5], \"y\": [0, 0.2857142857142857]}, {\"hoverinfo\": \"none\", \"line\": {\"color\": \"#888\", \"width\": 1}, \"mode\": \"lines\", \"type\": \"scatter\", \"x\": [11.5, 10.3], \"y\": [0.2857142857142857, 0.5]}, {\"hoverinfo\": \"none\", \"line\": {\"color\": \"#888\", \"width\": 5}, \"mode\": \"lines\", \"type\": \"scatter\", \"x\": [6.5, 8.5], \"y\": [0.2857142857142857, 0.5]}, {\"hoverinfo\": \"none\", \"line\": {\"color\": \"#888\", \"width\": 1}, \"mode\": \"lines\", \"type\": \"scatter\", \"x\": [6.5, 6.0], \"y\": [0.2857142857142857, 0.4]}, {\"hoverinfo\": \"none\", \"line\": {\"color\": \"#888\", \"width\": 1}, \"mode\": \"lines\", \"type\": \"scatter\", \"x\": [6.5, 6.0], \"y\": [0.2857142857142857, 0.27586206896551724]}, {\"hoverinfo\": \"none\", \"line\": {\"color\": \"#888\", \"width\": 8}, \"mode\": \"lines\", \"type\": \"scatter\", \"x\": [10.5, 8.5], \"y\": [0.2857142857142857, 0.5]}, {\"hoverinfo\": \"none\", \"line\": {\"color\": \"#888\", \"width\": 1}, \"mode\": \"lines\", \"type\": \"scatter\", \"x\": [10.5, 12.3], \"y\": [0.2857142857142857, 0.25]}, {\"hoverinfo\": \"none\", \"line\": {\"color\": \"#888\", \"width\": 1}, \"mode\": \"lines\", \"type\": \"scatter\", \"x\": [10.5, 11.0], \"y\": [0.2857142857142857, 0.4]}, {\"hoverinfo\": \"none\", \"line\": {\"color\": \"#888\", \"width\": 1}, \"mode\": \"lines\", \"type\": \"scatter\", \"x\": [8.5, 8.5], \"y\": [0.2857142857142857, 0.5]}, {\"hoverinfo\": \"none\", \"line\": {\"color\": \"#888\", \"width\": 1}, \"mode\": \"lines\", \"type\": \"scatter\", \"x\": [8.5, 7.3], \"y\": [0.2857142857142857, 0.4375000000000001]}, {\"hoverinfo\": \"none\", \"line\": {\"color\": \"#888\", \"width\": 1}, \"mode\": \"lines\", \"type\": \"scatter\", \"x\": [12.5, 12.0], \"y\": [0.14285714285714285, 0.26666666666666666]}, {\"hoverinfo\": \"none\", \"line\": {\"color\": \"#888\", \"width\": 1}, \"mode\": \"lines\", \"type\": \"scatter\", \"x\": [4.5, 5.7], \"y\": [0.14285714285714285, 0.375]}, {\"hoverinfo\": \"none\", \"line\": {\"color\": \"#888\", \"width\": 1}, \"mode\": \"lines\", \"type\": \"scatter\", \"x\": [5.5, 5.6], \"y\": [0.2857142857142857, 0.3448275862068966]}, {\"hoverinfo\": \"none\", \"line\": {\"color\": \"#888\", \"width\": 1}, \"mode\": \"lines\", \"type\": \"scatter\", \"x\": [5.5, 6.0], \"y\": [0.2857142857142857, 0.4]}, {\"hoverinfo\": \"none\", \"line\": {\"color\": \"#888\", \"width\": 1}, \"mode\": \"lines\", \"type\": \"scatter\", \"x\": [8.5, 9.0], \"y\": [0.2857142857142857, 0.3448275862068966]}, {\"hoverinfo\": \"none\", \"line\": {\"color\": \"#888\", \"width\": 1}, \"mode\": \"lines\", \"type\": \"scatter\", \"x\": [10.3, 8.5], \"y\": [0.5, 0.6666666666666666]}, {\"hoverinfo\": \"none\", \"line\": {\"color\": \"#888\", \"width\": 2}, \"mode\": \"lines\", \"type\": \"scatter\", \"x\": [8.5, 8.5], \"y\": [0.5, 0.6666666666666666]}, {\"hoverinfo\": \"none\", \"line\": {\"color\": \"#888\", \"width\": 5}, \"mode\": \"lines\", \"type\": \"scatter\", \"x\": [8.5, 9.5], \"y\": [0.5, 0.5882352941176471]}, {\"hoverinfo\": \"none\", \"line\": {\"color\": \"#888\", \"width\": 5}, \"mode\": \"lines\", \"type\": \"scatter\", \"x\": [8.5, 7.5], \"y\": [0.5, 0.5882352941176471]}, {\"hoverinfo\": \"none\", \"line\": {\"color\": \"#888\", \"width\": 1}, \"mode\": \"lines\", \"type\": \"scatter\", \"x\": [8.5, 8.5], \"y\": [0.5, 0.5882352941176471]}, {\"hoverinfo\": \"none\", \"line\": {\"color\": \"#888\", \"width\": 1}, \"mode\": \"lines\", \"type\": \"scatter\", \"x\": [8.5, 9.2], \"y\": [0.5, 0.5454545454545454]}, {\"hoverinfo\": \"none\", \"line\": {\"color\": \"#888\", \"width\": 1}, \"mode\": \"lines\", \"type\": \"scatter\", \"x\": [8.5, 8.5], \"y\": [0.5, 0.6111111111111109]}, {\"hoverinfo\": \"none\", \"line\": {\"color\": \"#888\", \"width\": 1}, \"mode\": \"lines\", \"type\": \"scatter\", \"x\": [7.3, 8.5], \"y\": [0.4375000000000001, 0.5555555555555556]}, {\"hoverinfo\": \"none\", \"line\": {\"color\": \"#888\", \"width\": 1}, \"mode\": \"lines\", \"type\": \"scatter\", \"x\": [12.3, 13.5], \"y\": [0.25, 0.4444444444444444]}, {\"hoverinfo\": \"none\", \"line\": {\"color\": \"#888\", \"width\": 1}, \"mode\": \"lines\", \"type\": \"scatter\", \"x\": [5.7, 4.5], \"y\": [0.375, 0.5]}, {\"hoverinfo\": \"none\", \"line\": {\"color\": \"#888\", \"width\": 1}, \"mode\": \"lines\", \"type\": \"scatter\", \"x\": [6.7, 7.5], \"y\": [0.5, 0.5882352941176471]}, {\"hoverinfo\": \"none\", \"line\": {\"color\": \"#888\", \"width\": 1}, \"mode\": \"lines\", \"type\": \"scatter\", \"x\": [8.5, 8.5], \"y\": [0.6666666666666666, 0.8]}, {\"hoverinfo\": \"none\", \"line\": {\"color\": \"#888\", \"width\": 2}, \"mode\": \"lines\", \"type\": \"scatter\", \"x\": [8.5, 8.5], \"y\": [0.6666666666666666, 0.7368421052631579]}, {\"hoverinfo\": \"none\", \"line\": {\"color\": \"#888\", \"width\": 2}, \"mode\": \"lines\", \"type\": \"scatter\", \"x\": [8.5, 7.75], \"y\": [0.6666666666666666, 0.7368421052631579]}, {\"hoverinfo\": \"none\", \"line\": {\"color\": \"#888\", \"width\": 1}, \"mode\": \"lines\", \"type\": \"scatter\", \"x\": [8.5, 9.166666666666666], \"y\": [0.6111111111111109, 0.631578947368421]}, {\"hoverinfo\": \"none\", \"line\": {\"color\": \"#888\", \"width\": 1}, \"mode\": \"lines\", \"type\": \"scatter\", \"x\": [8.5, 5.5], \"y\": [0.5555555555555556, 0.575]}, {\"hoverinfo\": \"none\", \"line\": {\"color\": \"#888\", \"width\": 1}, \"mode\": \"lines\", \"type\": \"scatter\", \"x\": [13.5, 8.5], \"y\": [0.4444444444444444, 0.4]}, {\"hoverinfo\": \"none\", \"line\": {\"color\": \"#888\", \"width\": 1}, \"mode\": \"lines\", \"type\": \"scatter\", \"x\": [4.5, 10.5], \"y\": [0.5, 0.5499999999999999]}, {\"hoverinfo\": \"none\", \"line\": {\"color\": \"#888\", \"width\": 4}, \"mode\": \"lines\", \"type\": \"scatter\", \"x\": [7.0, 8.5], \"y\": [0.6666666666666666, 0.7368421052631579]}, {\"hoverinfo\": \"none\", \"line\": {\"color\": \"#888\", \"width\": 1}, \"mode\": \"lines\", \"type\": \"scatter\", \"x\": [7.333333333333333, 7.357142857142857], \"y\": [0.6111111111111109, 0.6486486486486487]}, {\"hoverinfo\": \"none\", \"line\": {\"color\": \"#888\", \"width\": 1}, \"mode\": \"lines\", \"type\": \"scatter\", \"x\": [5.5, 6.5], \"y\": [0.6388888888888891, 0.6578947368421053]}, {\"hoverinfo\": \"none\", \"line\": {\"color\": \"#888\", \"width\": 1}, \"mode\": \"lines\", \"type\": \"scatter\", \"x\": [12.5, 12.666666666666666], \"y\": [0.5, 0.4864864864864865]}, {\"hoverinfo\": \"none\", \"line\": {\"color\": \"#888\", \"width\": 1}, \"mode\": \"lines\", \"type\": \"scatter\", \"x\": [10.0, 8.5], \"y\": [0.6666666666666666, 0.7368421052631579]}, {\"hoverinfo\": \"none\", \"line\": {\"color\": \"#888\", \"width\": 1}, \"mode\": \"lines\", \"type\": \"scatter\", \"x\": [11.0, 10.4], \"y\": [0.6666666666666666, 0.7027027027027027]}, {\"hoverinfo\": \"none\", \"line\": {\"color\": \"#888\", \"width\": 1}, \"mode\": \"lines\", \"type\": \"scatter\", \"x\": [8.5, 8.5], \"y\": [0.8, 0.8636363636363635]}, {\"hoverinfo\": \"none\", \"line\": {\"color\": \"#888\", \"width\": 1}, \"mode\": \"lines\", \"type\": \"scatter\", \"x\": [8.5, 9.083333333333334], \"y\": [0.8, 0.8292682926829268]}, {\"hoverinfo\": \"none\", \"line\": {\"color\": \"#888\", \"width\": 1}, \"mode\": \"lines\", \"type\": \"scatter\", \"x\": [9.714285714285714, 9.4], \"y\": [0.65, 0.7727272727272727]}, {\"hoverinfo\": \"none\", \"line\": {\"color\": \"#888\", \"width\": 1}, \"mode\": \"lines\", \"type\": \"scatter\", \"x\": [8.0, 8.222222222222221], \"y\": [0.7000000000000001, 0.6829268292682927]}, {\"hoverinfo\": \"none\", \"line\": {\"color\": \"#888\", \"width\": 2}, \"mode\": \"lines\", \"type\": \"scatter\", \"x\": [8.6, 8.166666666666666], \"y\": [0.8, 0.8292682926829268]}, {\"hoverinfo\": \"none\", \"line\": {\"color\": \"#888\", \"width\": 1}, \"mode\": \"lines\", \"type\": \"scatter\", \"x\": [8.6, 8.583333333333334], \"y\": [0.8, 0.9090909090909092]}, {\"hoverinfo\": \"none\", \"line\": {\"color\": \"#888\", \"width\": 1}, \"mode\": \"lines\", \"type\": \"scatter\", \"x\": [8.6, 8.571428571428571], \"y\": [0.8, 0.8571428571428571]}, {\"hoverinfo\": \"none\", \"line\": {\"color\": \"#888\", \"width\": 1}, \"mode\": \"lines\", \"type\": \"scatter\", \"x\": [5.5, 8.5], \"y\": [0.575, 0.6136363636363636]}, {\"hoverinfo\": \"none\", \"line\": {\"color\": \"#888\", \"width\": 1}, \"mode\": \"lines\", \"type\": \"scatter\", \"x\": [8.5, 8.5], \"y\": [0.4, 0.5454545454545454]}, {\"hoverinfo\": \"none\", \"line\": {\"color\": \"#888\", \"width\": 1}, \"mode\": \"lines\", \"type\": \"scatter\", \"x\": [10.5, 11.0], \"y\": [0.5499999999999999, 0.5365853658536585]}, {\"hoverinfo\": \"none\", \"line\": {\"color\": \"#888\", \"width\": 1}, \"mode\": \"lines\", \"type\": \"scatter\", \"x\": [7.5, 7.538461538461538], \"y\": [0.725, 0.7560975609756098]}, {\"hoverinfo\": \"none\", \"line\": {\"color\": \"#888\", \"width\": 1}, \"mode\": \"lines\", \"type\": \"scatter\", \"x\": [8.625, 8.6], \"y\": [0.525, 0.5952380952380953]}, {\"hoverinfo\": \"none\", \"line\": {\"color\": \"#888\", \"width\": 1}, \"mode\": \"lines\", \"type\": \"scatter\", \"x\": [7.9, 8.5], \"y\": [0.8, 0.8048780487804877]}, {\"hoverinfo\": \"none\", \"line\": {\"color\": \"#888\", \"width\": 1}, \"mode\": \"lines\", \"type\": \"scatter\", \"x\": [7.4, 7.583333333333333], \"y\": [0.8, 0.9090909090909092]}, {\"hoverinfo\": \"none\", \"line\": {\"color\": \"#888\", \"width\": 1}, \"mode\": \"lines\", \"type\": \"scatter\", \"x\": [8.5, 8.785714285714286], \"y\": [0.8636363636363635, 0.8260869565217391]}, {\"hoverinfo\": \"none\", \"line\": {\"color\": \"#888\", \"width\": 1}, \"mode\": \"lines\", \"type\": \"scatter\", \"x\": [8.5, 8.0], \"y\": [0.6136363636363636, 0.7291666666666665]}, {\"hoverinfo\": \"none\", \"line\": {\"color\": \"#888\", \"width\": 3}, \"mode\": \"lines\", \"type\": \"scatter\", \"x\": [8.583333333333334, 8.214285714285714], \"y\": [0.9090909090909092, 0.9333333333333332]}, {\"hoverinfo\": \"none\", \"line\": {\"color\": \"#888\", \"width\": 1}, \"mode\": \"lines\", \"type\": \"scatter\", \"x\": [9.25, 8.444444444444445], \"y\": [0.9090909090909092, 0.9347826086956522]}, {\"hoverinfo\": \"none\", \"line\": {\"color\": \"#888\", \"width\": 1}, \"mode\": \"lines\", \"type\": \"scatter\", \"x\": [8.5, 8.5], \"y\": [0.5454545454545454, 0.625]}, {\"hoverinfo\": \"none\", \"line\": {\"color\": \"#888\", \"width\": 1}, \"mode\": \"lines\", \"type\": \"scatter\", \"x\": [8.416666666666666, 8.142857142857142], \"y\": [0.9090909090909092, 0.9111111111111112]}, {\"hoverinfo\": \"none\", \"line\": {\"color\": \"#888\", \"width\": 1}, \"mode\": \"lines\", \"type\": \"scatter\", \"x\": [7.285714285714286, 7.125], \"y\": [0.7727272727272727, 0.7555555555555556]}, {\"hoverinfo\": \"none\", \"line\": {\"color\": \"#888\", \"width\": 1}, \"mode\": \"lines\", \"type\": \"scatter\", \"x\": [7.583333333333333, 8.4], \"y\": [0.9090909090909092, 0.9565217391304348]}, {\"hoverinfo\": \"none\", \"line\": {\"color\": \"#888\", \"width\": 1}, \"mode\": \"lines\", \"type\": \"scatter\", \"x\": [8.583333333333334, 8.214285714285714], \"y\": [0.9090909090909092, 0.9333333333333332]}, {\"hoverinfo\": \"none\", \"line\": {\"color\": \"#888\", \"width\": 1}, \"mode\": \"lines\", \"type\": \"scatter\", \"x\": [8.444444444444445, 8.0], \"y\": [0.9347826086956522, 0.9361702127659574]}, {\"hoverinfo\": \"none\", \"line\": {\"color\": \"#888\", \"width\": 1}, \"mode\": \"lines\", \"type\": \"scatter\", \"x\": [8.4, 8.333333333333334], \"y\": [0.9565217391304348, 0.9787234042553192]}, {\"hoverinfo\": \"none\", \"line\": {\"color\": \"#888\", \"width\": 1}, \"mode\": \"lines\", \"type\": \"scatter\", \"x\": [7.75, 7.3], \"y\": [0.7368421052631579, 0.7692307692307693]}, {\"hoverinfo\": \"none\", \"line\": {\"color\": \"#888\", \"width\": 1}, \"mode\": \"lines\", \"type\": \"scatter\", \"x\": [7.75, 8.5], \"y\": [0.7368421052631579, 0.8]}, {\"hoverinfo\": \"none\", \"line\": {\"color\": \"#888\", \"width\": 1}, \"mode\": \"lines\", \"type\": \"scatter\", \"x\": [9.166666666666666, 9.714285714285714], \"y\": [0.631578947368421, 0.6153846153846154]}, {\"hoverinfo\": \"none\", \"line\": {\"color\": \"#888\", \"width\": 1}, \"mode\": \"lines\", \"type\": \"scatter\", \"x\": [7.833333333333333, 8.0], \"y\": [0.631578947368421, 0.7000000000000001]}, {\"hoverinfo\": \"none\", \"line\": {\"color\": \"#888\", \"width\": 1}, \"mode\": \"lines\", \"type\": \"scatter\", \"x\": [8.5, 8.5], \"y\": [0.7368421052631579, 0.8571428571428571]}, {\"hoverinfo\": \"none\", \"line\": {\"color\": \"#888\", \"width\": 3}, \"mode\": \"lines\", \"type\": \"scatter\", \"x\": [8.5, 9.375], \"y\": [0.7368421052631579, 0.7692307692307693]}, {\"hoverinfo\": \"none\", \"line\": {\"color\": \"#888\", \"width\": 2}, \"mode\": \"lines\", \"type\": \"scatter\", \"x\": [8.5, 7.75], \"y\": [0.7368421052631579, 0.7692307692307693]}, {\"hoverinfo\": \"none\", \"line\": {\"color\": \"#888\", \"width\": 1}, \"mode\": \"lines\", \"type\": \"scatter\", \"x\": [8.5, 9.071428571428571], \"y\": [0.7368421052631579, 0.8571428571428571]}, {\"hoverinfo\": \"none\", \"line\": {\"color\": \"#888\", \"width\": 1}, \"mode\": \"lines\", \"type\": \"scatter\", \"x\": [6.5, 7.5], \"y\": [0.6578947368421053, 0.725]}, {\"hoverinfo\": \"none\", \"line\": {\"color\": \"#888\", \"width\": 1}, \"mode\": \"lines\", \"type\": \"scatter\", \"x\": [7.3, 7.071428571428571], \"y\": [0.7692307692307693, 0.8048780487804877]}, {\"hoverinfo\": \"none\", \"line\": {\"color\": \"#888\", \"width\": 1}, \"mode\": \"lines\", \"type\": \"scatter\", \"x\": [8.0, 8.083333333333334], \"y\": [0.7435897435897435, 0.8048780487804877]}, {\"hoverinfo\": \"none\", \"line\": {\"color\": \"#888\", \"width\": 1}, \"mode\": \"lines\", \"type\": \"scatter\", \"x\": [9.714285714285714, 9.714285714285714], \"y\": [0.6153846153846154, 0.65]}, {\"hoverinfo\": \"none\", \"line\": {\"color\": \"#888\", \"width\": 2}, \"mode\": \"lines\", \"type\": \"scatter\", \"x\": [9.375, 8.6], \"y\": [0.7692307692307693, 0.8]}, {\"hoverinfo\": \"none\", \"line\": {\"color\": \"#888\", \"width\": 1}, \"mode\": \"lines\", \"type\": \"scatter\", \"x\": [9.375, 9.2], \"y\": [0.7692307692307693, 0.8837209302325582]}, {\"hoverinfo\": \"none\", \"line\": {\"color\": \"#888\", \"width\": 2}, \"mode\": \"lines\", \"type\": \"scatter\", \"x\": [9.375, 9.416666666666666], \"y\": [0.7692307692307693, 0.8292682926829268]}, {\"hoverinfo\": \"none\", \"line\": {\"color\": \"#888\", \"width\": 1}, \"mode\": \"lines\", \"type\": \"scatter\", \"x\": [9.375, 9.0], \"y\": [0.7692307692307693, 0.8]}, {\"hoverinfo\": \"none\", \"line\": {\"color\": \"#888\", \"width\": 2}, \"mode\": \"lines\", \"type\": \"scatter\", \"x\": [7.75, 8.6], \"y\": [0.7692307692307693, 0.8]}, {\"hoverinfo\": \"none\", \"line\": {\"color\": \"#888\", \"width\": 1}, \"mode\": \"lines\", \"type\": \"scatter\", \"x\": [7.75, 7.9], \"y\": [0.7692307692307693, 0.8]}, {\"hoverinfo\": \"none\", \"line\": {\"color\": \"#888\", \"width\": 1}, \"mode\": \"lines\", \"type\": \"scatter\", \"x\": [7.75, 7.4], \"y\": [0.7692307692307693, 0.8]}, {\"hoverinfo\": \"none\", \"line\": {\"color\": \"#888\", \"width\": 1}, \"mode\": \"lines\", \"type\": \"scatter\", \"x\": [10.0, 8.625], \"y\": [0.5128205128205129, 0.525]}, {\"hoverinfo\": \"none\", \"line\": {\"color\": \"#888\", \"width\": 1}, \"mode\": \"lines\", \"type\": \"scatter\", \"x\": [7.071428571428571, 7.1], \"y\": [0.8048780487804877, 0.8604651162790697]}, {\"hoverinfo\": \"none\", \"line\": {\"color\": \"#888\", \"width\": 1}, \"mode\": \"lines\", \"type\": \"scatter\", \"x\": [8.083333333333334, 8.142857142857142], \"y\": [0.8048780487804877, 0.9111111111111112]}, {\"hoverinfo\": \"none\", \"line\": {\"color\": \"#888\", \"width\": 1}, \"mode\": \"lines\", \"type\": \"scatter\", \"x\": [8.222222222222221, 7.9], \"y\": [0.6829268292682927, 0.7999999999999999]}, {\"hoverinfo\": \"none\", \"line\": {\"color\": \"#888\", \"width\": 1}, \"mode\": \"lines\", \"type\": \"scatter\", \"x\": [8.166666666666666, 8.1], \"y\": [0.8292682926829268, 0.8837209302325582]}, {\"hoverinfo\": \"none\", \"line\": {\"color\": \"#888\", \"width\": 1}, \"mode\": \"lines\", \"type\": \"scatter\", \"x\": [8.166666666666666, 8.214285714285714], \"y\": [0.8292682926829268, 0.9333333333333332]}, {\"hoverinfo\": \"none\", \"line\": {\"color\": \"#888\", \"width\": 1}, \"mode\": \"lines\", \"type\": \"scatter\", \"x\": [9.428571428571429, 9.4375], \"y\": [0.8292682926829268, 0.8571428571428571]}, {\"hoverinfo\": \"none\", \"line\": {\"color\": \"#888\", \"width\": 1}, \"mode\": \"lines\", \"type\": \"scatter\", \"x\": [11.0, 11.8], \"y\": [0.5365853658536585, 0.5777777777777778]}, {\"hoverinfo\": \"none\", \"line\": {\"color\": \"#888\", \"width\": 1}, \"mode\": \"lines\", \"type\": \"scatter\", \"x\": [9.083333333333334, 8.714285714285714], \"y\": [0.8292682926829268, 0.8571428571428571]}, {\"hoverinfo\": \"none\", \"line\": {\"color\": \"#888\", \"width\": 1}, \"mode\": \"lines\", \"type\": \"scatter\", \"x\": [7.538461538461538, 7.6], \"y\": [0.7560975609756098, 0.7857142857142857]}, {\"hoverinfo\": \"none\", \"line\": {\"color\": \"#888\", \"width\": 1}, \"mode\": \"lines\", \"type\": \"scatter\", \"x\": [8.5, 9.0], \"y\": [0.8048780487804877, 0.8095238095238096]}, {\"hoverinfo\": \"none\", \"line\": {\"color\": \"#888\", \"width\": 1}, \"mode\": \"lines\", \"type\": \"scatter\", \"x\": [9.416666666666666, 8.928571428571429], \"y\": [0.8292682926829268, 0.8571428571428571]}, {\"hoverinfo\": \"none\", \"line\": {\"color\": \"#888\", \"width\": 1}, \"mode\": \"lines\", \"type\": \"scatter\", \"x\": [9.416666666666666, 9.2], \"y\": [0.8292682926829268, 0.8837209302325582]}, {\"hoverinfo\": \"none\", \"line\": {\"color\": \"#888\", \"width\": 1}, \"mode\": \"lines\", \"type\": \"scatter\", \"x\": [7.1, 7.916666666666667], \"y\": [0.8604651162790697, 0.8863636363636362]}, {\"hoverinfo\": \"none\", \"line\": {\"color\": \"#888\", \"width\": 1}, \"mode\": \"lines\", \"type\": \"scatter\", \"x\": [9.2, 8.666666666666666], \"y\": [0.8837209302325582, 0.9090909090909092]}, {\"hoverinfo\": \"none\", \"line\": {\"color\": \"#888\", \"width\": 2}, \"mode\": \"lines\", \"type\": \"scatter\", \"x\": [9.2, 8.583333333333334], \"y\": [0.8837209302325582, 0.9090909090909092]}, {\"hoverinfo\": \"none\", \"line\": {\"color\": \"#888\", \"width\": 1}, \"mode\": \"lines\", \"type\": \"scatter\", \"x\": [8.1, 8.25], \"y\": [0.8837209302325582, 0.9090909090909092]}, {\"hoverinfo\": \"none\", \"line\": {\"color\": \"#888\", \"width\": 1}, \"mode\": \"lines\", \"type\": \"scatter\", \"x\": [8.4, 8.416666666666666], \"y\": [0.8837209302325582, 0.9090909090909092]}, {\"hoverinfo\": \"none\", \"line\": {\"color\": \"#888\", \"width\": 1}, \"mode\": \"lines\", \"type\": \"scatter\", \"x\": [8.9, 9.0], \"y\": [0.8837209302325582, 0.9090909090909092]}, {\"hoverinfo\": \"none\", \"line\": {\"color\": \"#888\", \"width\": 4}, \"mode\": \"lines\", \"type\": \"scatter\", \"x\": [9.5, 11.666666666666666], \"y\": [0.5882352941176471, 0.6285714285714286]}, {\"hoverinfo\": \"none\", \"line\": {\"color\": \"#888\", \"width\": 1}, \"mode\": \"lines\", \"type\": \"scatter\", \"x\": [9.5, 8.5], \"y\": [0.5882352941176471, 0.6666666666666666]}, {\"hoverinfo\": \"none\", \"line\": {\"color\": \"#888\", \"width\": 1}, \"mode\": \"lines\", \"type\": \"scatter\", \"x\": [9.5, 10.0], \"y\": [0.5882352941176471, 0.6666666666666666]}, {\"hoverinfo\": \"none\", \"line\": {\"color\": \"#888\", \"width\": 3}, \"mode\": \"lines\", \"type\": \"scatter\", \"x\": [7.5, 7.0], \"y\": [0.5882352941176471, 0.6666666666666666]}, {\"hoverinfo\": \"none\", \"line\": {\"color\": \"#888\", \"width\": 1}, \"mode\": \"lines\", \"type\": \"scatter\", \"x\": [7.5, 5.5], \"y\": [0.5882352941176471, 0.6388888888888891]}, {\"hoverinfo\": \"none\", \"line\": {\"color\": \"#888\", \"width\": 1}, \"mode\": \"lines\", \"type\": \"scatter\", \"x\": [7.5, 5.5], \"y\": [0.5882352941176471, 0.6285714285714286]}, {\"hoverinfo\": \"none\", \"line\": {\"color\": \"#888\", \"width\": 1}, \"mode\": \"lines\", \"type\": \"scatter\", \"x\": [7.5, 8.5], \"y\": [0.5882352941176471, 0.6666666666666666]}, {\"hoverinfo\": \"none\", \"line\": {\"color\": \"#888\", \"width\": 1}, \"mode\": \"lines\", \"type\": \"scatter\", \"x\": [8.5, 12.5], \"y\": [0.4705882352941176, 0.5]}, {\"hoverinfo\": \"none\", \"line\": {\"color\": \"#888\", \"width\": 1}, \"mode\": \"lines\", \"type\": \"scatter\", \"x\": [8.5, 7.0], \"y\": [0.5882352941176471, 0.6666666666666666]}, {\"hoverinfo\": \"none\", \"line\": {\"color\": \"#888\", \"width\": 1}, \"mode\": \"lines\", \"type\": \"scatter\", \"x\": [9.666666666666666, 11.666666666666666], \"y\": [0.5882352941176471, 0.6285714285714286]}, {\"hoverinfo\": \"none\", \"line\": {\"color\": \"#888\", \"width\": 1}, \"mode\": \"lines\", \"type\": \"scatter\", \"x\": [11.666666666666666, 8.0], \"y\": [0.6285714285714286, 0.7435897435897435]}, {\"hoverinfo\": \"none\", \"line\": {\"color\": \"#888\", \"width\": 3}, \"mode\": \"lines\", \"type\": \"scatter\", \"x\": [11.666666666666666, 10.4], \"y\": [0.6285714285714286, 0.7027027027027027]}, {\"hoverinfo\": \"none\", \"line\": {\"color\": \"#888\", \"width\": 1}, \"mode\": \"lines\", \"type\": \"scatter\", \"x\": [11.666666666666666, 11.0], \"y\": [0.6285714285714286, 0.6666666666666666]}, {\"hoverinfo\": \"none\", \"line\": {\"color\": \"#888\", \"width\": 1}, \"mode\": \"lines\", \"type\": \"scatter\", \"x\": [12.5, 9.0], \"y\": [0.5142857142857142, 0.5945945945945945]}, {\"hoverinfo\": \"none\", \"line\": {\"color\": \"#888\", \"width\": 2}, \"mode\": \"lines\", \"type\": \"scatter\", \"x\": [5.5, 6.7], \"y\": [0.6285714285714286, 0.7027027027027027]}, {\"hoverinfo\": \"none\", \"line\": {\"color\": \"#888\", \"width\": 1}, \"mode\": \"lines\", \"type\": \"scatter\", \"x\": [7.2, 7.333333333333333], \"y\": [0.5714285714285715, 0.6111111111111109]}, {\"hoverinfo\": \"none\", \"line\": {\"color\": \"#888\", \"width\": 1}, \"mode\": \"lines\", \"type\": \"scatter\", \"x\": [8.142857142857142, 8.636363636363637], \"y\": [0.9111111111111112, 0.9574468085106383]}, {\"hoverinfo\": \"none\", \"line\": {\"color\": \"#888\", \"width\": 1}, \"mode\": \"lines\", \"type\": \"scatter\", \"x\": [7.9, 9.5], \"y\": [0.7999999999999999, 0.8085106382978724]}, {\"hoverinfo\": \"none\", \"line\": {\"color\": \"#888\", \"width\": 2}, \"mode\": \"lines\", \"type\": \"scatter\", \"x\": [8.214285714285714, 8.727272727272727], \"y\": [0.9333333333333332, 0.9787234042553192]}, {\"hoverinfo\": \"none\", \"line\": {\"color\": \"#888\", \"width\": 1}, \"mode\": \"lines\", \"type\": \"scatter\", \"x\": [8.214285714285714, 8.363636363636363], \"y\": [0.9333333333333332, 0.9787234042553192]}, {\"hoverinfo\": \"none\", \"line\": {\"color\": \"#888\", \"width\": 1}, \"mode\": \"lines\", \"type\": \"scatter\", \"x\": [8.214285714285714, 8.222222222222221], \"y\": [0.9333333333333332, 0.9565217391304348]}, {\"hoverinfo\": \"none\", \"line\": {\"color\": \"#888\", \"width\": 1}, \"mode\": \"lines\", \"type\": \"scatter\", \"x\": [11.8, 10.875], \"y\": [0.5777777777777778, 0.6530612244897959]}, {\"hoverinfo\": \"none\", \"line\": {\"color\": \"#888\", \"width\": 1}, \"mode\": \"lines\", \"type\": \"scatter\", \"x\": [9.5, 10.0], \"y\": [0.8085106382978724, 0.7916666666666666]}, {\"hoverinfo\": \"none\", \"line\": {\"color\": \"#888\", \"width\": 2}, \"mode\": \"lines\", \"type\": \"scatter\", \"x\": [8.727272727272727, 8.615384615384615], \"y\": [0.9787234042553192, 1.0]}, {\"hoverinfo\": \"none\", \"line\": {\"color\": \"#888\", \"width\": 1}, \"mode\": \"lines\", \"type\": \"scatter\", \"x\": [8.0, 8.4], \"y\": [0.9361702127659574, 0.9387755102040816]}, {\"hoverinfo\": \"none\", \"line\": {\"color\": \"#888\", \"width\": 1}, \"mode\": \"lines\", \"type\": \"scatter\", \"x\": [8.363636363636363, 8.615384615384615], \"y\": [0.9787234042553192, 1.0]}, {\"hoverinfo\": \"none\", \"line\": {\"color\": \"#888\", \"width\": 1}, \"mode\": \"lines\", \"type\": \"scatter\", \"x\": [8.333333333333334, 8.615384615384615], \"y\": [0.9787234042553192, 1.0]}, {\"hoverinfo\": \"none\", \"line\": {\"color\": \"#888\", \"width\": 1}, \"mode\": \"lines\", \"type\": \"scatter\", \"x\": [12.0, 11.666666666666666], \"y\": [0.26666666666666666, 0.3225806451612903]}, {\"hoverinfo\": \"none\", \"line\": {\"color\": \"#888\", \"width\": 1}, \"mode\": \"lines\", \"type\": \"scatter\", \"x\": [6.0, 5.9], \"y\": [0.4, 0.4516129032258064]}, {\"hoverinfo\": \"none\", \"line\": {\"color\": \"#888\", \"width\": 1}, \"mode\": \"lines\", \"type\": \"scatter\", \"x\": [6.0, 6.7], \"y\": [0.4, 0.5]}, {\"hoverinfo\": \"none\", \"line\": {\"color\": \"#888\", \"width\": 1}, \"mode\": \"lines\", \"type\": \"scatter\", \"x\": [11.0, 9.5], \"y\": [0.4, 0.5882352941176471]}, {\"hoverinfo\": \"none\", \"line\": {\"color\": \"#888\", \"width\": 1}, \"mode\": \"lines\", \"type\": \"scatter\", \"x\": [8.5, 8.0], \"y\": [0.4, 0.4516129032258064]}, {\"hoverinfo\": \"none\", \"line\": {\"color\": \"#888\", \"width\": 1}, \"mode\": \"lines\", \"type\": \"scatter\", \"x\": [11.666666666666666, 12.5], \"y\": [0.3225806451612903, 0.5142857142857142]}, {\"hoverinfo\": \"none\", \"line\": {\"color\": \"#888\", \"width\": 1}, \"mode\": \"lines\", \"type\": \"scatter\", \"x\": [5.9, 5.5], \"y\": [0.4516129032258064, 0.6285714285714286]}, {\"hoverinfo\": \"none\", \"line\": {\"color\": \"#888\", \"width\": 1}, \"mode\": \"lines\", \"type\": \"scatter\", \"x\": [8.0, 8.5], \"y\": [0.4516129032258064, 0.5]}, {\"hoverinfo\": \"none\", \"line\": {\"color\": \"#888\", \"width\": 1}, \"mode\": \"lines\", \"type\": \"scatter\", \"x\": [9.0, 7.833333333333333], \"y\": [0.5945945945945945, 0.631578947368421]}, {\"hoverinfo\": \"none\", \"line\": {\"color\": \"#888\", \"width\": 3}, \"mode\": \"lines\", \"type\": \"scatter\", \"x\": [10.4, 9.375], \"y\": [0.7027027027027027, 0.7692307692307693]}, {\"hoverinfo\": \"none\", \"line\": {\"color\": \"#888\", \"width\": 1}, \"mode\": \"lines\", \"type\": \"scatter\", \"x\": [10.4, 9.428571428571429], \"y\": [0.7027027027027027, 0.8292682926829268]}, {\"hoverinfo\": \"none\", \"line\": {\"color\": \"#888\", \"width\": 2}, \"mode\": \"lines\", \"type\": \"scatter\", \"x\": [6.7, 7.75], \"y\": [0.7027027027027027, 0.7692307692307693]}, {\"hoverinfo\": \"none\", \"line\": {\"color\": \"#888\", \"width\": 1}, \"mode\": \"lines\", \"type\": \"scatter\", \"x\": [12.666666666666666, 10.0], \"y\": [0.4864864864864865, 0.5128205128205129]}, {\"hoverinfo\": \"none\", \"line\": {\"color\": \"#888\", \"width\": 1}, \"mode\": \"lines\", \"type\": \"scatter\", \"x\": [10.0, 9.818181818181818], \"y\": [0.7916666666666666, 0.8400000000000001]}, {\"hoverinfo\": \"none\", \"line\": {\"color\": \"#888\", \"width\": 1}, \"mode\": \"lines\", \"type\": \"scatter\", \"x\": [8.0, 7.4], \"y\": [0.7291666666666665, 0.7142857142857142]}, {\"hoverinfo\": \"none\", \"line\": {\"color\": \"#888\", \"width\": 1}, \"mode\": \"lines\", \"type\": \"scatter\", \"x\": [8.5, 8.785714285714286], \"y\": [0.625, 0.6]}, {\"hoverinfo\": \"none\", \"line\": {\"color\": \"#888\", \"width\": 1}, \"mode\": \"lines\", \"type\": \"scatter\", \"x\": [9.818181818181818, 8.5], \"y\": [0.8400000000000001, 0.8461538461538461]}, {\"hoverinfo\": \"none\", \"line\": {\"color\": \"#888\", \"width\": 1}, \"mode\": \"lines\", \"type\": \"scatter\", \"x\": [8.785714285714286, 8.714285714285714], \"y\": [0.6, 0.5882352941176471]}, {\"hoverinfo\": \"none\", \"line\": {\"color\": \"#888\", \"width\": 1}, \"mode\": \"lines\", \"type\": \"scatter\", \"x\": [8.5, 8.222222222222221], \"y\": [0.8461538461538461, 0.8679245283018867]}, {\"hoverinfo\": \"none\", \"line\": {\"color\": \"#888\", \"width\": 1}, \"mode\": \"lines\", \"type\": \"scatter\", \"x\": [8.222222222222221, 7.666666666666667], \"y\": [0.8679245283018867, 0.8518518518518519]}, {\"hoverinfo\": \"none\", \"line\": {\"color\": \"#888\", \"width\": 1}, \"mode\": \"lines\", \"type\": \"scatter\", \"x\": [9.4, 8.846153846153847], \"y\": [0.7169811320754716, 0.6666666666666667]}, {\"hoverinfo\": \"none\", \"line\": {\"color\": \"#888\", \"width\": 1}, \"mode\": \"lines\", \"type\": \"scatter\", \"x\": [8.5, 9.2], \"y\": [0.8571428571428571, 0.8837209302325582]}, {\"hoverinfo\": \"none\", \"line\": {\"color\": \"#888\", \"width\": 1}, \"mode\": \"lines\", \"type\": \"scatter\", \"x\": [9.4375, 9.25], \"y\": [0.8571428571428571, 0.9090909090909092]}, {\"hoverinfo\": \"none\", \"line\": {\"color\": \"#888\", \"width\": 1}, \"mode\": \"lines\", \"type\": \"scatter\", \"x\": [8.714285714285714, 8.4], \"y\": [0.8571428571428571, 0.8837209302325582]}, {\"hoverinfo\": \"none\", \"line\": {\"color\": \"#888\", \"width\": 1}, \"mode\": \"lines\", \"type\": \"scatter\", \"x\": [7.6, 7.285714285714286], \"y\": [0.7857142857142857, 0.7727272727272727]}, {\"hoverinfo\": \"none\", \"line\": {\"color\": \"#888\", \"width\": 1}, \"mode\": \"lines\", \"type\": \"scatter\", \"x\": [8.6, 10.0], \"y\": [0.5952380952380953, 0.7173913043478259]}, {\"hoverinfo\": \"none\", \"line\": {\"color\": \"#888\", \"width\": 1}, \"mode\": \"lines\", \"type\": \"scatter\", \"x\": [8.571428571428571, 8.583333333333334], \"y\": [0.8571428571428571, 0.9090909090909092]}, {\"hoverinfo\": \"none\", \"line\": {\"color\": \"#888\", \"width\": 1}, \"mode\": \"lines\", \"type\": \"scatter\", \"x\": [8.928571428571429, 8.9], \"y\": [0.8571428571428571, 0.8837209302325582]}, {\"hoverinfo\": \"none\", \"line\": {\"color\": \"#888\", \"width\": 1}, \"mode\": \"lines\", \"type\": \"scatter\", \"x\": [9.071428571428571, 10.0], \"y\": [0.8571428571428571, 0.8837209302325582]}, {\"hoverinfo\": \"none\", \"line\": {\"color\": \"#888\", \"width\": 1}, \"mode\": \"lines\", \"type\": \"scatter\", \"x\": [7.4, 7.4], \"y\": [0.7142857142857142, 0.74]}, {\"hoverinfo\": \"none\", \"line\": {\"color\": \"#888\", \"width\": 1}, \"mode\": \"lines\", \"type\": \"scatter\", \"x\": [10.875, 9.4], \"y\": [0.6530612244897959, 0.7169811320754716]}, {\"hoverinfo\": \"none\", \"line\": {\"color\": \"#888\", \"width\": 1}, \"mode\": \"lines\", \"type\": \"scatter\", \"x\": [8.846153846153847, 8.846153846153847], \"y\": [0.6666666666666667, 0.6724137931034482]}, {\"hoverinfo\": \"none\", \"line\": {\"color\": \"#888\", \"width\": 1}, \"mode\": \"lines\", \"type\": \"scatter\", \"x\": [5.6, 7.285714285714286], \"y\": [0.3448275862068966, 0.4848484848484849]}, {\"hoverinfo\": \"none\", \"line\": {\"color\": \"#888\", \"width\": 1}, \"mode\": \"lines\", \"type\": \"scatter\", \"x\": [6.0, 8.0], \"y\": [0.27586206896551724, 0.4848484848484849]}, {\"hoverinfo\": \"none\", \"line\": {\"color\": \"#888\", \"width\": 1}, \"mode\": \"lines\", \"type\": \"scatter\", \"x\": [9.0, 8.5], \"y\": [0.3448275862068966, 0.4]}, {\"hoverinfo\": \"none\", \"line\": {\"color\": \"#888\", \"width\": 1}, \"mode\": \"lines\", \"type\": \"scatter\", \"x\": [7.285714285714286, 7.2], \"y\": [0.4848484848484849, 0.5714285714285715]}, {\"hoverinfo\": \"none\", \"line\": {\"color\": \"#888\", \"width\": 1}, \"mode\": \"lines\", \"type\": \"scatter\", \"x\": [8.0, 8.5], \"y\": [0.4848484848484849, 0.4705882352941176]}, {\"hoverinfo\": \"none\", \"line\": {\"color\": \"#888\", \"width\": 1}, \"mode\": \"lines\", \"type\": \"scatter\", \"x\": [9.2, 9.666666666666666], \"y\": [0.5454545454545454, 0.5882352941176471]}, {\"hoverinfo\": \"text\", \"marker\": {\"color\": [0, 0, 0, 0, 0, 0, 0, 0, 0, 0, 0, 0, 0, 0, 0, 0, 0, 0, 0, 0, 0, 0, 0, 0, 0, 0, 0, 0, 0, 0, 0, 0, 0, 0, 0, 0, 0, 0, 0, 0, 0, 0, 0, 0, 0, 0, 0, 0, 0, 0, 0, 0, 0, 0, 0, 0, 0, 0, 0, 0, 0, 0, 0, 0, 0, 0, 0, 0, 0, 0, 0, 0, 0, 0, 0, 0, 0, 0, 0, 0, 0, 0, 0, 0, 0, 0, 0, 0, 0, 0, 0, 0, 0, 0, 0, 0, 0, 0, 0, 0, 0, 0, 0, 0, 0, 0, 0, 0, 0, 0, 0, 0, 0, 0, 0, 0, 0, 0, 0, 0, 0, 0, 1, 0, 0, 0, 0, 0, 0, 0, 0, 0, 0, 0, 0, 0, 0, 0, 0, 0, 0, 0, 0, 0, 0, 0, 0, 0, 0, 0, 0, 0], \"colorscale\": [[0.0, \"rgb(255,255,217)\"], [0.125, \"rgb(237,248,177)\"], [0.25, \"rgb(199,233,180)\"], [0.375, \"rgb(127,205,187)\"], [0.5, \"rgb(65,182,196)\"], [0.625, \"rgb(29,145,192)\"], [0.75, \"rgb(34,94,168)\"], [0.875, \"rgb(37,52,148)\"], [1.0, \"rgb(8,29,88)\"]], \"line\": {\"width\": 2}, \"reversescale\": true, \"showscale\": true, \"size\": [26.801758872564367, 8.0, 19.229419688230415, 21.28771237954945, 12.0, 8.0, 8.0, 12.0, 8.0, 8.0, 23.229419688230415, 8.0, 8.0, 8.0, 8.0, 8.0, 14.339850002884624, 12.0, 8.0, 8.0, 8.0, 8.0, 16.0, 8.0, 8.0, 8.0, 8.0, 8.0, 12.0, 8.0, 8.0, 16.0, 8.0, 8.0, 8.0, 8.0, 8.0, 8.0, 8.0, 8.0, 8.0, 8.0, 8.0, 8.0, 8.0, 8.0, 14.339850002884624, 8.0, 8.0, 8.0, 8.0, 8.0, 8.0, 8.0, 8.0, 8.0, 8.0, 8.0, 8.0, 12.0, 8.0, 8.0, 19.229419688230415, 8.0, 8.0, 8.0, 8.0, 18.339850002884624, 16.0, 8.0, 8.0, 8.0, 8.0, 12.0, 8.0, 8.0, 8.0, 8.0, 8.0, 12.0, 8.0, 14.339850002884624, 8.0, 8.0, 8.0, 8.0, 18.339850002884624, 18.339850002884624, 8.0, 8.0, 8.0, 17.28771237954945, 8.0, 12.0, 8.0, 8.0, 8.0, 16.0, 8.0, 8.0, 8.0, 8.0, 8.0, 8.0, 12.0, 8.0, 8.0, 8.0, 8.0, 12.0, 8.0, 8.0, 8.0, 8.0, 8.0, 8.0, 16.0, 12.0, 8.0, 8.0, 8.0, 8.0, 16.0, 8.0, 8.0, 8.0, 8.0, 8.0, 8.0, 8.0, 8.0, 8.0, 8.0, 8.0, 8.0, 8.0, 8.0, 8.0, 8.0, 8.0, 8.0, 8.0, 8.0, 8.0, 8.0, 8.0, 8.0, 8.0, 8.0, 8.0, 8.0, 8.0]}, \"mode\": \"markers\", \"type\": \"scatter\", \"x\": [8.5, 11.5, 6.5, 10.5, 8.5, 12.5, 4.5, 5.5, 8.5, 10.3, 8.5, 8.5, 7.3, 12.3, 5.7, 6.7, 8.5, 8.5, 8.5, 8.5, 13.5, 4.5, 7.0, 7.333333333333333, 5.5, 12.5, 10.0, 11.0, 8.5, 9.714285714285714, 8.0, 8.6, 5.5, 8.5, 10.5, 7.5, 8.625, 7.9, 7.4, 9.0, 8.5, 7.916666666666667, 9.4, 8.666666666666666, 8.25, 8.5, 8.583333333333334, 9.25, 8.5, 8.416666666666666, 7.285714285714286, 7.583333333333333, 8.583333333333334, 9.0, 8.785714285714286, 8.444444444444445, 10.0, 8.4, 8.222222222222221, 7.75, 9.166666666666666, 7.833333333333333, 8.5, 6.5, 7.3, 8.0, 9.714285714285714, 9.375, 7.75, 10.0, 7.071428571428571, 8.083333333333334, 8.222222222222221, 8.166666666666666, 9.428571428571429, 11.0, 9.083333333333334, 7.538461538461538, 8.5, 9.416666666666666, 7.1, 9.2, 8.1, 8.4, 8.9, 10.0, 9.5, 7.5, 8.5, 8.5, 9.666666666666666, 11.666666666666666, 12.5, 5.5, 7.2, 8.142857142857142, 7.9, 8.214285714285714, 11.8, 8.142857142857142, 7.125, 8.214285714285714, 8.636363636363637, 9.5, 8.727272727272727, 8.0, 8.363636363636363, 8.333333333333334, 12.0, 6.0, 11.0, 8.5, 11.666666666666666, 5.9, 8.0, 9.0, 10.4, 6.7, 7.357142857142857, 12.666666666666666, 10.0, 8.0, 8.615384615384615, 8.5, 9.818181818181818, 7.4, 8.785714285714286, 8.5, 8.222222222222221, 9.4, 7.666666666666667, 8.5, 9.4375, 8.714285714285714, 7.6, 8.6, 9.0, 8.571428571428571, 8.928571428571429, 9.071428571428571, 7.4, 8.4, 10.875, 8.714285714285714, 8.846153846153847, 8.846153846153847, 5.6, 6.0, 9.0, 7.285714285714286, 8.0, 9.2], \"y\": [0, 0.2857142857142857, 0.2857142857142857, 0.2857142857142857, 0.2857142857142857, 0.14285714285714285, 0.14285714285714285, 0.2857142857142857, 0.2857142857142857, 0.5, 0.5, 0.5, 0.4375000000000001, 0.25, 0.375, 0.5, 0.6666666666666666, 0.6666666666666666, 0.6111111111111109, 0.5555555555555556, 0.4444444444444444, 0.5, 0.6666666666666666, 0.6111111111111109, 0.6388888888888891, 0.5, 0.6666666666666666, 0.6666666666666666, 0.8, 0.65, 0.7000000000000001, 0.8, 0.575, 0.4, 0.5499999999999999, 0.725, 0.525, 0.8, 0.8, 0.8, 0.8636363636363635, 0.8863636363636362, 0.7727272727272727, 0.9090909090909092, 0.9090909090909092, 0.6136363636363636, 0.9090909090909092, 0.9090909090909092, 0.5454545454545454, 0.9090909090909092, 0.7727272727272727, 0.9090909090909092, 0.9090909090909092, 0.9090909090909092, 0.8260869565217391, 0.9347826086956522, 0.7173913043478259, 0.9565217391304348, 0.9565217391304348, 0.7368421052631579, 0.631578947368421, 0.631578947368421, 0.7368421052631579, 0.6578947368421053, 0.7692307692307693, 0.7435897435897435, 0.6153846153846154, 0.7692307692307693, 0.7692307692307693, 0.5128205128205129, 0.8048780487804877, 0.8048780487804877, 0.6829268292682927, 0.8292682926829268, 0.8292682926829268, 0.5365853658536585, 0.8292682926829268, 0.7560975609756098, 0.8048780487804877, 0.8292682926829268, 0.8604651162790697, 0.8837209302325582, 0.8837209302325582, 0.8837209302325582, 0.8837209302325582, 0.8837209302325582, 0.5882352941176471, 0.5882352941176471, 0.4705882352941176, 0.5882352941176471, 0.5882352941176471, 0.6285714285714286, 0.5142857142857142, 0.6285714285714286, 0.5714285714285715, 0.9111111111111112, 0.7999999999999999, 0.9333333333333332, 0.5777777777777778, 0.9111111111111112, 0.7555555555555556, 0.9333333333333332, 0.9574468085106383, 0.8085106382978724, 0.9787234042553192, 0.9361702127659574, 0.9787234042553192, 0.9787234042553192, 0.26666666666666666, 0.4, 0.4, 0.4, 0.3225806451612903, 0.4516129032258064, 0.4516129032258064, 0.5945945945945945, 0.7027027027027027, 0.7027027027027027, 0.6486486486486487, 0.4864864864864865, 0.7916666666666666, 0.7291666666666665, 1.0, 0.625, 0.8400000000000001, 0.74, 0.6, 0.8461538461538461, 0.8679245283018867, 0.7169811320754716, 0.8518518518518519, 0.8571428571428571, 0.8571428571428571, 0.8571428571428571, 0.7857142857142857, 0.5952380952380953, 0.8095238095238096, 0.8571428571428571, 0.8571428571428571, 0.8571428571428571, 0.7142857142857142, 0.9387755102040816, 0.6530612244897959, 0.5882352941176471, 0.6666666666666667, 0.6724137931034482, 0.3448275862068966, 0.27586206896551724, 0.3448275862068966, 0.4848484848484849, 0.4848484848484849, 0.5454545454545454]}],\n",
       "                        {\"annotations\": [{\"showarrow\": false, \"text\": \"\", \"x\": 0.005, \"xref\": \"paper\", \"y\": -0.002, \"yref\": \"paper\"}], \"height\": 800, \"hovermode\": \"closest\", \"margin\": {\"b\": 20, \"l\": 5, \"r\": 5, \"t\": 40}, \"showlegend\": false, \"template\": {\"data\": {\"bar\": [{\"error_x\": {\"color\": \"#2a3f5f\"}, \"error_y\": {\"color\": \"#2a3f5f\"}, \"marker\": {\"line\": {\"color\": \"#E5ECF6\", \"width\": 0.5}}, \"type\": \"bar\"}], \"barpolar\": [{\"marker\": {\"line\": {\"color\": \"#E5ECF6\", \"width\": 0.5}}, \"type\": \"barpolar\"}], \"carpet\": [{\"aaxis\": {\"endlinecolor\": \"#2a3f5f\", \"gridcolor\": \"white\", \"linecolor\": \"white\", \"minorgridcolor\": \"white\", \"startlinecolor\": \"#2a3f5f\"}, \"baxis\": {\"endlinecolor\": \"#2a3f5f\", \"gridcolor\": \"white\", \"linecolor\": \"white\", \"minorgridcolor\": \"white\", \"startlinecolor\": \"#2a3f5f\"}, \"type\": \"carpet\"}], \"choropleth\": [{\"colorbar\": {\"outlinewidth\": 0, \"ticks\": \"\"}, \"type\": \"choropleth\"}], \"contour\": [{\"colorbar\": {\"outlinewidth\": 0, \"ticks\": \"\"}, \"colorscale\": [[0.0, \"#0d0887\"], [0.1111111111111111, \"#46039f\"], [0.2222222222222222, \"#7201a8\"], [0.3333333333333333, \"#9c179e\"], [0.4444444444444444, \"#bd3786\"], [0.5555555555555556, \"#d8576b\"], [0.6666666666666666, \"#ed7953\"], [0.7777777777777778, \"#fb9f3a\"], [0.8888888888888888, \"#fdca26\"], [1.0, \"#f0f921\"]], \"type\": \"contour\"}], \"contourcarpet\": [{\"colorbar\": {\"outlinewidth\": 0, \"ticks\": \"\"}, \"type\": \"contourcarpet\"}], \"heatmap\": [{\"colorbar\": {\"outlinewidth\": 0, \"ticks\": \"\"}, \"colorscale\": [[0.0, \"#0d0887\"], [0.1111111111111111, \"#46039f\"], [0.2222222222222222, \"#7201a8\"], [0.3333333333333333, \"#9c179e\"], [0.4444444444444444, \"#bd3786\"], [0.5555555555555556, \"#d8576b\"], [0.6666666666666666, \"#ed7953\"], [0.7777777777777778, \"#fb9f3a\"], [0.8888888888888888, \"#fdca26\"], [1.0, \"#f0f921\"]], \"type\": \"heatmap\"}], \"heatmapgl\": [{\"colorbar\": {\"outlinewidth\": 0, \"ticks\": \"\"}, \"colorscale\": [[0.0, \"#0d0887\"], [0.1111111111111111, \"#46039f\"], [0.2222222222222222, \"#7201a8\"], [0.3333333333333333, \"#9c179e\"], [0.4444444444444444, \"#bd3786\"], [0.5555555555555556, \"#d8576b\"], [0.6666666666666666, \"#ed7953\"], [0.7777777777777778, \"#fb9f3a\"], [0.8888888888888888, \"#fdca26\"], [1.0, \"#f0f921\"]], \"type\": \"heatmapgl\"}], \"histogram\": [{\"marker\": {\"colorbar\": {\"outlinewidth\": 0, \"ticks\": \"\"}}, \"type\": \"histogram\"}], \"histogram2d\": [{\"colorbar\": {\"outlinewidth\": 0, \"ticks\": \"\"}, \"colorscale\": [[0.0, \"#0d0887\"], [0.1111111111111111, \"#46039f\"], [0.2222222222222222, \"#7201a8\"], [0.3333333333333333, \"#9c179e\"], [0.4444444444444444, \"#bd3786\"], [0.5555555555555556, \"#d8576b\"], [0.6666666666666666, \"#ed7953\"], [0.7777777777777778, \"#fb9f3a\"], [0.8888888888888888, \"#fdca26\"], [1.0, \"#f0f921\"]], \"type\": \"histogram2d\"}], \"histogram2dcontour\": [{\"colorbar\": {\"outlinewidth\": 0, \"ticks\": \"\"}, \"colorscale\": [[0.0, \"#0d0887\"], [0.1111111111111111, \"#46039f\"], [0.2222222222222222, \"#7201a8\"], [0.3333333333333333, \"#9c179e\"], [0.4444444444444444, \"#bd3786\"], [0.5555555555555556, \"#d8576b\"], [0.6666666666666666, \"#ed7953\"], [0.7777777777777778, \"#fb9f3a\"], [0.8888888888888888, \"#fdca26\"], [1.0, \"#f0f921\"]], \"type\": \"histogram2dcontour\"}], \"mesh3d\": [{\"colorbar\": {\"outlinewidth\": 0, \"ticks\": \"\"}, \"type\": \"mesh3d\"}], \"parcoords\": [{\"line\": {\"colorbar\": {\"outlinewidth\": 0, \"ticks\": \"\"}}, \"type\": \"parcoords\"}], \"pie\": [{\"automargin\": true, \"type\": \"pie\"}], \"scatter\": [{\"marker\": {\"colorbar\": {\"outlinewidth\": 0, \"ticks\": \"\"}}, \"type\": \"scatter\"}], \"scatter3d\": [{\"line\": {\"colorbar\": {\"outlinewidth\": 0, \"ticks\": \"\"}}, \"marker\": {\"colorbar\": {\"outlinewidth\": 0, \"ticks\": \"\"}}, \"type\": \"scatter3d\"}], \"scattercarpet\": [{\"marker\": {\"colorbar\": {\"outlinewidth\": 0, \"ticks\": \"\"}}, \"type\": \"scattercarpet\"}], \"scattergeo\": [{\"marker\": {\"colorbar\": {\"outlinewidth\": 0, \"ticks\": \"\"}}, \"type\": \"scattergeo\"}], \"scattergl\": [{\"marker\": {\"colorbar\": {\"outlinewidth\": 0, \"ticks\": \"\"}}, \"type\": \"scattergl\"}], \"scattermapbox\": [{\"marker\": {\"colorbar\": {\"outlinewidth\": 0, \"ticks\": \"\"}}, \"type\": \"scattermapbox\"}], \"scatterpolar\": [{\"marker\": {\"colorbar\": {\"outlinewidth\": 0, \"ticks\": \"\"}}, \"type\": \"scatterpolar\"}], \"scatterpolargl\": [{\"marker\": {\"colorbar\": {\"outlinewidth\": 0, \"ticks\": \"\"}}, \"type\": \"scatterpolargl\"}], \"scatterternary\": [{\"marker\": {\"colorbar\": {\"outlinewidth\": 0, \"ticks\": \"\"}}, \"type\": \"scatterternary\"}], \"surface\": [{\"colorbar\": {\"outlinewidth\": 0, \"ticks\": \"\"}, \"colorscale\": [[0.0, \"#0d0887\"], [0.1111111111111111, \"#46039f\"], [0.2222222222222222, \"#7201a8\"], [0.3333333333333333, \"#9c179e\"], [0.4444444444444444, \"#bd3786\"], [0.5555555555555556, \"#d8576b\"], [0.6666666666666666, \"#ed7953\"], [0.7777777777777778, \"#fb9f3a\"], [0.8888888888888888, \"#fdca26\"], [1.0, \"#f0f921\"]], \"type\": \"surface\"}], \"table\": [{\"cells\": {\"fill\": {\"color\": \"#EBF0F8\"}, \"line\": {\"color\": \"white\"}}, \"header\": {\"fill\": {\"color\": \"#C8D4E3\"}, \"line\": {\"color\": \"white\"}}, \"type\": \"table\"}]}, \"layout\": {\"annotationdefaults\": {\"arrowcolor\": \"#2a3f5f\", \"arrowhead\": 0, \"arrowwidth\": 1}, \"coloraxis\": {\"colorbar\": {\"outlinewidth\": 0, \"ticks\": \"\"}}, \"colorscale\": {\"diverging\": [[0, \"#8e0152\"], [0.1, \"#c51b7d\"], [0.2, \"#de77ae\"], [0.3, \"#f1b6da\"], [0.4, \"#fde0ef\"], [0.5, \"#f7f7f7\"], [0.6, \"#e6f5d0\"], [0.7, \"#b8e186\"], [0.8, \"#7fbc41\"], [0.9, \"#4d9221\"], [1, \"#276419\"]], \"sequential\": [[0.0, \"#0d0887\"], [0.1111111111111111, \"#46039f\"], [0.2222222222222222, \"#7201a8\"], [0.3333333333333333, \"#9c179e\"], [0.4444444444444444, \"#bd3786\"], [0.5555555555555556, \"#d8576b\"], [0.6666666666666666, \"#ed7953\"], [0.7777777777777778, \"#fb9f3a\"], [0.8888888888888888, \"#fdca26\"], [1.0, \"#f0f921\"]], \"sequentialminus\": [[0.0, \"#0d0887\"], [0.1111111111111111, \"#46039f\"], [0.2222222222222222, \"#7201a8\"], [0.3333333333333333, \"#9c179e\"], [0.4444444444444444, \"#bd3786\"], [0.5555555555555556, \"#d8576b\"], [0.6666666666666666, \"#ed7953\"], [0.7777777777777778, \"#fb9f3a\"], [0.8888888888888888, \"#fdca26\"], [1.0, \"#f0f921\"]]}, \"colorway\": [\"#636efa\", \"#EF553B\", \"#00cc96\", \"#ab63fa\", \"#FFA15A\", \"#19d3f3\", \"#FF6692\", \"#B6E880\", \"#FF97FF\", \"#FECB52\"], \"font\": {\"color\": \"#2a3f5f\"}, \"geo\": {\"bgcolor\": \"white\", \"lakecolor\": \"white\", \"landcolor\": \"#E5ECF6\", \"showlakes\": true, \"showland\": true, \"subunitcolor\": \"white\"}, \"hoverlabel\": {\"align\": \"left\"}, \"hovermode\": \"closest\", \"mapbox\": {\"style\": \"light\"}, \"paper_bgcolor\": \"white\", \"plot_bgcolor\": \"#E5ECF6\", \"polar\": {\"angularaxis\": {\"gridcolor\": \"white\", \"linecolor\": \"white\", \"ticks\": \"\"}, \"bgcolor\": \"#E5ECF6\", \"radialaxis\": {\"gridcolor\": \"white\", \"linecolor\": \"white\", \"ticks\": \"\"}}, \"scene\": {\"xaxis\": {\"backgroundcolor\": \"#E5ECF6\", \"gridcolor\": \"white\", \"gridwidth\": 2, \"linecolor\": \"white\", \"showbackground\": true, \"ticks\": \"\", \"zerolinecolor\": \"white\"}, \"yaxis\": {\"backgroundcolor\": \"#E5ECF6\", \"gridcolor\": \"white\", \"gridwidth\": 2, \"linecolor\": \"white\", \"showbackground\": true, \"ticks\": \"\", \"zerolinecolor\": \"white\"}, \"zaxis\": {\"backgroundcolor\": \"#E5ECF6\", \"gridcolor\": \"white\", \"gridwidth\": 2, \"linecolor\": \"white\", \"showbackground\": true, \"ticks\": \"\", \"zerolinecolor\": \"white\"}}, \"shapedefaults\": {\"line\": {\"color\": \"#2a3f5f\"}}, \"ternary\": {\"aaxis\": {\"gridcolor\": \"white\", \"linecolor\": \"white\", \"ticks\": \"\"}, \"baxis\": {\"gridcolor\": \"white\", \"linecolor\": \"white\", \"ticks\": \"\"}, \"bgcolor\": \"#E5ECF6\", \"caxis\": {\"gridcolor\": \"white\", \"linecolor\": \"white\", \"ticks\": \"\"}}, \"title\": {\"x\": 0.05}, \"xaxis\": {\"automargin\": true, \"gridcolor\": \"white\", \"linecolor\": \"white\", \"ticks\": \"\", \"title\": {\"standoff\": 15}, \"zerolinecolor\": \"white\", \"zerolinewidth\": 2}, \"yaxis\": {\"automargin\": true, \"gridcolor\": \"white\", \"linecolor\": \"white\", \"ticks\": \"\", \"title\": {\"standoff\": 15}, \"zerolinecolor\": \"white\", \"zerolinewidth\": 2}}}, \"title\": {\"font\": {\"size\": 16}, \"text\": \"<br>World states for hand_selected_009, repetition 0, by number of squares\"}, \"width\": 800},\n",
       "                        {\"responsive\": true}\n",
       "                    ).then(function(){\n",
       "                            \n",
       "var gd = document.getElementById('23109305-bf73-4a02-8138-7f0a2a74f62a');\n",
       "var x = new MutationObserver(function (mutations, observer) {{\n",
       "        var display = window.getComputedStyle(gd).display;\n",
       "        if (!display || display === 'none') {{\n",
       "            console.log([gd, 'removed!']);\n",
       "            Plotly.purge(gd);\n",
       "            observer.disconnect();\n",
       "        }}\n",
       "}});\n",
       "\n",
       "// Listen for the removal of the full notebook cells\n",
       "var notebookContainer = gd.closest('#notebook-container');\n",
       "if (notebookContainer) {{\n",
       "    x.observe(notebookContainer, {childList: true});\n",
       "}}\n",
       "\n",
       "// Listen for the clearing of the current output cell\n",
       "var outputEl = gd.closest('.output');\n",
       "if (outputEl) {{\n",
       "    x.observe(outputEl, {childList: true});\n",
       "}}\n",
       "\n",
       "                        })\n",
       "                };\n",
       "                });\n",
       "            </script>\n",
       "        </div>"
      ]
     },
     "metadata": {},
     "output_type": "display_data"
    },
    {
     "data": {
      "application/vnd.plotly.v1+json": {
       "config": {
        "plotlyServerURL": "https://plot.ly"
       },
       "data": [
        {
         "hoverinfo": "none",
         "line": {
          "color": "#888",
          "width": 1
         },
         "mode": "lines",
         "type": "scatter",
         "x": [
          8.5,
          12.5
         ],
         "y": [
          0,
          0.14285714285714285
         ]
        },
        {
         "hoverinfo": "none",
         "line": {
          "color": "#888",
          "width": 7
         },
         "mode": "lines",
         "type": "scatter",
         "x": [
          8.5,
          6.5
         ],
         "y": [
          0,
          0.2857142857142857
         ]
        },
        {
         "hoverinfo": "none",
         "line": {
          "color": "#888",
          "width": 11
         },
         "mode": "lines",
         "type": "scatter",
         "x": [
          8.5,
          10.5
         ],
         "y": [
          0,
          0.2857142857142857
         ]
        },
        {
         "hoverinfo": "none",
         "line": {
          "color": "#888",
          "width": 2
         },
         "mode": "lines",
         "type": "scatter",
         "x": [
          8.5,
          8.5
         ],
         "y": [
          0,
          0.2857142857142857
         ]
        },
        {
         "hoverinfo": "none",
         "line": {
          "color": "#888",
          "width": 1
         },
         "mode": "lines",
         "type": "scatter",
         "x": [
          8.5,
          8.5
         ],
         "y": [
          0,
          0.2857142857142857
         ]
        },
        {
         "hoverinfo": "none",
         "line": {
          "color": "#888",
          "width": 1
         },
         "mode": "lines",
         "type": "scatter",
         "x": [
          8.5,
          9.5
         ],
         "y": [
          0,
          0.2857142857142857
         ]
        },
        {
         "hoverinfo": "none",
         "line": {
          "color": "#888",
          "width": 1
         },
         "mode": "lines",
         "type": "scatter",
         "x": [
          8.5,
          5.5
         ],
         "y": [
          0,
          0.2857142857142857
         ]
        },
        {
         "hoverinfo": "none",
         "line": {
          "color": "#888",
          "width": 1
         },
         "mode": "lines",
         "type": "scatter",
         "x": [
          8.5,
          5.5
         ],
         "y": [
          0,
          0.15384615384615385
         ]
        },
        {
         "hoverinfo": "none",
         "line": {
          "color": "#888",
          "width": 1
         },
         "mode": "lines",
         "type": "scatter",
         "x": [
          12.5,
          9
         ],
         "y": [
          0.14285714285714285,
          0.375
         ]
        },
        {
         "hoverinfo": "none",
         "line": {
          "color": "#888",
          "width": 8
         },
         "mode": "lines",
         "type": "scatter",
         "x": [
          6.5,
          8.5
         ],
         "y": [
          0.2857142857142857,
          0.5
         ]
        },
        {
         "hoverinfo": "none",
         "line": {
          "color": "#888",
          "width": 10
         },
         "mode": "lines",
         "type": "scatter",
         "x": [
          10.5,
          8.5
         ],
         "y": [
          0.2857142857142857,
          0.5
         ]
        },
        {
         "hoverinfo": "none",
         "line": {
          "color": "#888",
          "width": 1
         },
         "mode": "lines",
         "type": "scatter",
         "x": [
          10.5,
          11
         ],
         "y": [
          0.2857142857142857,
          0.4
         ]
        },
        {
         "hoverinfo": "none",
         "line": {
          "color": "#888",
          "width": 1
         },
         "mode": "lines",
         "type": "scatter",
         "x": [
          8.5,
          9.7
         ],
         "y": [
          0.2857142857142857,
          0.4375000000000001
         ]
        },
        {
         "hoverinfo": "none",
         "line": {
          "color": "#888",
          "width": 1
         },
         "mode": "lines",
         "type": "scatter",
         "x": [
          8.5,
          9
         ],
         "y": [
          0.2857142857142857,
          0.4
         ]
        },
        {
         "hoverinfo": "none",
         "line": {
          "color": "#888",
          "width": 1
         },
         "mode": "lines",
         "type": "scatter",
         "x": [
          8.5,
          6.7
         ],
         "y": [
          0.2857142857142857,
          0.5
         ]
        },
        {
         "hoverinfo": "none",
         "line": {
          "color": "#888",
          "width": 1
         },
         "mode": "lines",
         "type": "scatter",
         "x": [
          9.5,
          8.5
         ],
         "y": [
          0.2857142857142857,
          0.4
         ]
        },
        {
         "hoverinfo": "none",
         "line": {
          "color": "#888",
          "width": 1
         },
         "mode": "lines",
         "type": "scatter",
         "x": [
          5.5,
          6.7
         ],
         "y": [
          0.2857142857142857,
          0.5
         ]
        },
        {
         "hoverinfo": "none",
         "line": {
          "color": "#888",
          "width": 1
         },
         "mode": "lines",
         "type": "scatter",
         "x": [
          9,
          9
         ],
         "y": [
          0.375,
          0.5555555555555556
         ]
        },
        {
         "hoverinfo": "none",
         "line": {
          "color": "#888",
          "width": 4
         },
         "mode": "lines",
         "type": "scatter",
         "x": [
          8.5,
          8.5
         ],
         "y": [
          0.5,
          0.5882352941176471
         ]
        },
        {
         "hoverinfo": "none",
         "line": {
          "color": "#888",
          "width": 4
         },
         "mode": "lines",
         "type": "scatter",
         "x": [
          8.5,
          7.5
         ],
         "y": [
          0.5,
          0.5882352941176471
         ]
        },
        {
         "hoverinfo": "none",
         "line": {
          "color": "#888",
          "width": 10
         },
         "mode": "lines",
         "type": "scatter",
         "x": [
          8.5,
          9.5
         ],
         "y": [
          0.5,
          0.5882352941176471
         ]
        },
        {
         "hoverinfo": "none",
         "line": {
          "color": "#888",
          "width": 1
         },
         "mode": "lines",
         "type": "scatter",
         "x": [
          8.5,
          8.5
         ],
         "y": [
          0.5,
          0.6666666666666666
         ]
        },
        {
         "hoverinfo": "none",
         "line": {
          "color": "#888",
          "width": 1
         },
         "mode": "lines",
         "type": "scatter",
         "x": [
          9.7,
          8.5
         ],
         "y": [
          0.4375000000000001,
          0.5555555555555556
         ]
        },
        {
         "hoverinfo": "none",
         "line": {
          "color": "#888",
          "width": 1
         },
         "mode": "lines",
         "type": "scatter",
         "x": [
          6.7,
          8.5
         ],
         "y": [
          0.5,
          0.6666666666666666
         ]
        },
        {
         "hoverinfo": "none",
         "line": {
          "color": "#888",
          "width": 1
         },
         "mode": "lines",
         "type": "scatter",
         "x": [
          6.7,
          6.833333333333333
         ],
         "y": [
          0.5,
          0.5151515151515151
         ]
        },
        {
         "hoverinfo": "none",
         "line": {
          "color": "#888",
          "width": 1
         },
         "mode": "lines",
         "type": "scatter",
         "x": [
          8.5,
          8.181818181818182
         ],
         "y": [
          0.5,
          0.5454545454545454
         ]
        },
        {
         "hoverinfo": "none",
         "line": {
          "color": "#888",
          "width": 1
         },
         "mode": "lines",
         "type": "scatter",
         "x": [
          9,
          9
         ],
         "y": [
          0.5555555555555556,
          0.5945945945945945
         ]
        },
        {
         "hoverinfo": "none",
         "line": {
          "color": "#888",
          "width": 5
         },
         "mode": "lines",
         "type": "scatter",
         "x": [
          10,
          8.5
         ],
         "y": [
          0.6666666666666666,
          0.7368421052631579
         ]
        },
        {
         "hoverinfo": "none",
         "line": {
          "color": "#888",
          "width": 2
         },
         "mode": "lines",
         "type": "scatter",
         "x": [
          10,
          10.4
         ],
         "y": [
          0.6666666666666666,
          0.7027027027027027
         ]
        },
        {
         "hoverinfo": "none",
         "line": {
          "color": "#888",
          "width": 3
         },
         "mode": "lines",
         "type": "scatter",
         "x": [
          8.5,
          9.2
         ],
         "y": [
          0.6666666666666666,
          0.7027027027027027
         ]
        },
        {
         "hoverinfo": "none",
         "line": {
          "color": "#888",
          "width": 1
         },
         "mode": "lines",
         "type": "scatter",
         "x": [
          8.5,
          8.5
         ],
         "y": [
          0.6666666666666666,
          0.7368421052631579
         ]
        },
        {
         "hoverinfo": "none",
         "line": {
          "color": "#888",
          "width": 1
         },
         "mode": "lines",
         "type": "scatter",
         "x": [
          8.5,
          8.5
         ],
         "y": [
          0.5555555555555556,
          0.631578947368421
         ]
        },
        {
         "hoverinfo": "none",
         "line": {
          "color": "#888",
          "width": 2
         },
         "mode": "lines",
         "type": "scatter",
         "x": [
          7,
          8.5
         ],
         "y": [
          0.6666666666666666,
          0.7368421052631579
         ]
        },
        {
         "hoverinfo": "none",
         "line": {
          "color": "#888",
          "width": 1
         },
         "mode": "lines",
         "type": "scatter",
         "x": [
          7.5,
          7.6
         ],
         "y": [
          0.6111111111111109,
          0.6486486486486487
         ]
        },
        {
         "hoverinfo": "none",
         "line": {
          "color": "#888",
          "width": 1
         },
         "mode": "lines",
         "type": "scatter",
         "x": [
          6.5,
          7.214285714285714
         ],
         "y": [
          0.5833333333333334,
          0.725
         ]
        },
        {
         "hoverinfo": "none",
         "line": {
          "color": "#888",
          "width": 1
         },
         "mode": "lines",
         "type": "scatter",
         "x": [
          8.5,
          9.25
         ],
         "y": [
          0.6666666666666666,
          0.7368421052631579
         ]
        },
        {
         "hoverinfo": "none",
         "line": {
          "color": "#888",
          "width": 1
         },
         "mode": "lines",
         "type": "scatter",
         "x": [
          9,
          8.7
         ],
         "y": [
          0.5945945945945945,
          0.7317073170731708
         ]
        },
        {
         "hoverinfo": "none",
         "line": {
          "color": "#888",
          "width": 1
         },
         "mode": "lines",
         "type": "scatter",
         "x": [
          9.2,
          9.083333333333334
         ],
         "y": [
          0.7027027027027027,
          0.8292682926829268
         ]
        },
        {
         "hoverinfo": "none",
         "line": {
          "color": "#888",
          "width": 2
         },
         "mode": "lines",
         "type": "scatter",
         "x": [
          9.2,
          9.375
         ],
         "y": [
          0.7027027027027027,
          0.7692307692307693
         ]
        },
        {
         "hoverinfo": "none",
         "line": {
          "color": "#888",
          "width": 1
         },
         "mode": "lines",
         "type": "scatter",
         "x": [
          7.6,
          7
         ],
         "y": [
          0.6486486486486487,
          0.6842105263157894
         ]
        },
        {
         "hoverinfo": "none",
         "line": {
          "color": "#888",
          "width": 8
         },
         "mode": "lines",
         "type": "scatter",
         "x": [
          10.4,
          9.375
         ],
         "y": [
          0.7027027027027027,
          0.7692307692307693
         ]
        },
        {
         "hoverinfo": "none",
         "line": {
          "color": "#888",
          "width": 1
         },
         "mode": "lines",
         "type": "scatter",
         "x": [
          10.4,
          10.2
         ],
         "y": [
          0.7027027027027027,
          0.7692307692307693
         ]
        },
        {
         "hoverinfo": "none",
         "line": {
          "color": "#888",
          "width": 1
         },
         "mode": "lines",
         "type": "scatter",
         "x": [
          8.7,
          9.416666666666666
         ],
         "y": [
          0.7317073170731708,
          0.7142857142857143
         ]
        },
        {
         "hoverinfo": "none",
         "line": {
          "color": "#888",
          "width": 1
         },
         "mode": "lines",
         "type": "scatter",
         "x": [
          7.666666666666667,
          7.9
         ],
         "y": [
          0.8292682926829268,
          0.8837209302325582
         ]
        },
        {
         "hoverinfo": "none",
         "line": {
          "color": "#888",
          "width": 1
         },
         "mode": "lines",
         "type": "scatter",
         "x": [
          9.083333333333334,
          8.4
         ],
         "y": [
          0.8292682926829268,
          0.8837209302325582
         ]
        },
        {
         "hoverinfo": "none",
         "line": {
          "color": "#888",
          "width": 1
         },
         "mode": "lines",
         "type": "scatter",
         "x": [
          9.083333333333334,
          8.5
         ],
         "y": [
          0.8292682926829268,
          0.8333333333333333
         ]
        },
        {
         "hoverinfo": "none",
         "line": {
          "color": "#888",
          "width": 2
         },
         "mode": "lines",
         "type": "scatter",
         "x": [
          8.166666666666666,
          8.214285714285714
         ],
         "y": [
          0.8292682926829268,
          0.9333333333333332
         ]
        },
        {
         "hoverinfo": "none",
         "line": {
          "color": "#888",
          "width": 1
         },
         "mode": "lines",
         "type": "scatter",
         "x": [
          7.916666666666667,
          8.5
         ],
         "y": [
          0.7804878048780487,
          0.8095238095238096
         ]
        },
        {
         "hoverinfo": "none",
         "line": {
          "color": "#888",
          "width": 1
         },
         "mode": "lines",
         "type": "scatter",
         "x": [
          9.416666666666666,
          9.2
         ],
         "y": [
          0.8292682926829268,
          0.8837209302325582
         ]
        },
        {
         "hoverinfo": "none",
         "line": {
          "color": "#888",
          "width": 1
         },
         "mode": "lines",
         "type": "scatter",
         "x": [
          10,
          9.75
         ],
         "y": [
          0.8292682926829268,
          0.8571428571428571
         ]
        },
        {
         "hoverinfo": "none",
         "line": {
          "color": "#888",
          "width": 1
         },
         "mode": "lines",
         "type": "scatter",
         "x": [
          8.166666666666666,
          7.714285714285714
         ],
         "y": [
          0.8292682926829268,
          0.8333333333333333
         ]
        },
        {
         "hoverinfo": "none",
         "line": {
          "color": "#888",
          "width": 1
         },
         "mode": "lines",
         "type": "scatter",
         "x": [
          9.416666666666666,
          8.2
         ],
         "y": [
          0.7142857142857143,
          0.75
         ]
        },
        {
         "hoverinfo": "none",
         "line": {
          "color": "#888",
          "width": 1
         },
         "mode": "lines",
         "type": "scatter",
         "x": [
          6.5,
          8.5
         ],
         "y": [
          0.6428571428571429,
          0.6739130434782609
         ]
        },
        {
         "hoverinfo": "none",
         "line": {
          "color": "#888",
          "width": 1
         },
         "mode": "lines",
         "type": "scatter",
         "x": [
          8.5,
          8
         ],
         "y": [
          0.8333333333333333,
          0.8604651162790697
         ]
        },
        {
         "hoverinfo": "none",
         "line": {
          "color": "#888",
          "width": 1
         },
         "mode": "lines",
         "type": "scatter",
         "x": [
          8.5,
          9.2
         ],
         "y": [
          0.8571428571428571,
          0.8837209302325582
         ]
        },
        {
         "hoverinfo": "none",
         "line": {
          "color": "#888",
          "width": 1
         },
         "mode": "lines",
         "type": "scatter",
         "x": [
          8.5,
          8
         ],
         "y": [
          0.8571428571428571,
          0.8837209302325582
         ]
        },
        {
         "hoverinfo": "none",
         "line": {
          "color": "#888",
          "width": 1
         },
         "mode": "lines",
         "type": "scatter",
         "x": [
          8.5,
          9.777777777777779
         ],
         "y": [
          0.8095238095238096,
          0.8695652173913043
         ]
        },
        {
         "hoverinfo": "none",
         "line": {
          "color": "#888",
          "width": 1
         },
         "mode": "lines",
         "type": "scatter",
         "x": [
          9,
          9.1
         ],
         "y": [
          0.8571428571428571,
          0.8837209302325582
         ]
        },
        {
         "hoverinfo": "none",
         "line": {
          "color": "#888",
          "width": 1
         },
         "mode": "lines",
         "type": "scatter",
         "x": [
          9.75,
          9.666666666666666
         ],
         "y": [
          0.8571428571428571,
          0.9090909090909092
         ]
        },
        {
         "hoverinfo": "none",
         "line": {
          "color": "#888",
          "width": 1
         },
         "mode": "lines",
         "type": "scatter",
         "x": [
          8.2,
          7.153846153846154
         ],
         "y": [
          0.75,
          0.75
         ]
        },
        {
         "hoverinfo": "none",
         "line": {
          "color": "#888",
          "width": 1
         },
         "mode": "lines",
         "type": "scatter",
         "x": [
          8.583333333333334,
          8.214285714285714
         ],
         "y": [
          0.9090909090909092,
          0.9333333333333332
         ]
        },
        {
         "hoverinfo": "none",
         "line": {
          "color": "#888",
          "width": 4
         },
         "mode": "lines",
         "type": "scatter",
         "x": [
          8.666666666666666,
          9
         ],
         "y": [
          0.9090909090909092,
          0.9565217391304348
         ]
        },
        {
         "hoverinfo": "none",
         "line": {
          "color": "#888",
          "width": 1
         },
         "mode": "lines",
         "type": "scatter",
         "x": [
          8.666666666666666,
          8.785714285714286
         ],
         "y": [
          0.9090909090909092,
          0.9333333333333332
         ]
        },
        {
         "hoverinfo": "none",
         "line": {
          "color": "#888",
          "width": 1
         },
         "mode": "lines",
         "type": "scatter",
         "x": [
          8.666666666666666,
          8.6
         ],
         "y": [
          0.9090909090909092,
          0.9565217391304348
         ]
        },
        {
         "hoverinfo": "none",
         "line": {
          "color": "#888",
          "width": 1
         },
         "mode": "lines",
         "type": "scatter",
         "x": [
          9.25,
          9.285714285714286
         ],
         "y": [
          0.9090909090909092,
          0.9333333333333332
         ]
        },
        {
         "hoverinfo": "none",
         "line": {
          "color": "#888",
          "width": 1
         },
         "mode": "lines",
         "type": "scatter",
         "x": [
          7.3,
          8.5
         ],
         "y": [
          0.8409090909090909,
          0.8478260869565218
         ]
        },
        {
         "hoverinfo": "none",
         "line": {
          "color": "#888",
          "width": 1
         },
         "mode": "lines",
         "type": "scatter",
         "x": [
          7.583333333333333,
          8.214285714285714
         ],
         "y": [
          0.9090909090909092,
          0.9333333333333332
         ]
        },
        {
         "hoverinfo": "none",
         "line": {
          "color": "#888",
          "width": 1
         },
         "mode": "lines",
         "type": "scatter",
         "x": [
          9.666666666666666,
          9.214285714285714
         ],
         "y": [
          0.9090909090909092,
          0.9333333333333332
         ]
        },
        {
         "hoverinfo": "none",
         "line": {
          "color": "#888",
          "width": 1
         },
         "mode": "lines",
         "type": "scatter",
         "x": [
          9.666666666666666,
          9.428571428571429
         ],
         "y": [
          0.9090909090909092,
          0.9333333333333332
         ]
        },
        {
         "hoverinfo": "none",
         "line": {
          "color": "#888",
          "width": 1
         },
         "mode": "lines",
         "type": "scatter",
         "x": [
          8.5,
          8.1875
         ],
         "y": [
          0.8958333333333334,
          0.8979591836734694
         ]
        },
        {
         "hoverinfo": "none",
         "line": {
          "color": "#888",
          "width": 1
         },
         "mode": "lines",
         "type": "scatter",
         "x": [
          9.666666666666666,
          9.071428571428571
         ],
         "y": [
          0.8125,
          0.816326530612245
         ]
        },
        {
         "hoverinfo": "none",
         "line": {
          "color": "#888",
          "width": 4
         },
         "mode": "lines",
         "type": "scatter",
         "x": [
          8.5,
          10
         ],
         "y": [
          0.5882352941176471,
          0.6666666666666666
         ]
        },
        {
         "hoverinfo": "none",
         "line": {
          "color": "#888",
          "width": 1
         },
         "mode": "lines",
         "type": "scatter",
         "x": [
          8.5,
          7
         ],
         "y": [
          0.5882352941176471,
          0.6666666666666666
         ]
        },
        {
         "hoverinfo": "none",
         "line": {
          "color": "#888",
          "width": 2
         },
         "mode": "lines",
         "type": "scatter",
         "x": [
          7.5,
          8.5
         ],
         "y": [
          0.5882352941176471,
          0.6666666666666666
         ]
        },
        {
         "hoverinfo": "none",
         "line": {
          "color": "#888",
          "width": 1
         },
         "mode": "lines",
         "type": "scatter",
         "x": [
          7.5,
          7
         ],
         "y": [
          0.5882352941176471,
          0.6666666666666666
         ]
        },
        {
         "hoverinfo": "none",
         "line": {
          "color": "#888",
          "width": 1
         },
         "mode": "lines",
         "type": "scatter",
         "x": [
          7.5,
          7.5
         ],
         "y": [
          0.5882352941176471,
          0.6111111111111109
         ]
        },
        {
         "hoverinfo": "none",
         "line": {
          "color": "#888",
          "width": 3
         },
         "mode": "lines",
         "type": "scatter",
         "x": [
          9.5,
          10
         ],
         "y": [
          0.5882352941176471,
          0.6666666666666666
         ]
        },
        {
         "hoverinfo": "none",
         "line": {
          "color": "#888",
          "width": 1
         },
         "mode": "lines",
         "type": "scatter",
         "x": [
          9.5,
          8.5
         ],
         "y": [
          0.5882352941176471,
          0.6666666666666666
         ]
        },
        {
         "hoverinfo": "none",
         "line": {
          "color": "#888",
          "width": 7
         },
         "mode": "lines",
         "type": "scatter",
         "x": [
          9.5,
          11.666666666666666
         ],
         "y": [
          0.5882352941176471,
          0.6285714285714286
         ]
        },
        {
         "hoverinfo": "none",
         "line": {
          "color": "#888",
          "width": 1
         },
         "mode": "lines",
         "type": "scatter",
         "x": [
          7.214285714285714,
          6.5
         ],
         "y": [
          0.5294117647058825,
          0.5833333333333334
         ]
        },
        {
         "hoverinfo": "none",
         "line": {
          "color": "#888",
          "width": 2
         },
         "mode": "lines",
         "type": "scatter",
         "x": [
          8.5,
          7.75
         ],
         "y": [
          0.7368421052631579,
          0.7692307692307693
         ]
        },
        {
         "hoverinfo": "none",
         "line": {
          "color": "#888",
          "width": 2
         },
         "mode": "lines",
         "type": "scatter",
         "x": [
          8.5,
          8.5
         ],
         "y": [
          0.7368421052631579,
          0.8571428571428571
         ]
        },
        {
         "hoverinfo": "none",
         "line": {
          "color": "#888",
          "width": 4
         },
         "mode": "lines",
         "type": "scatter",
         "x": [
          8.5,
          9.375
         ],
         "y": [
          0.7368421052631579,
          0.7692307692307693
         ]
        },
        {
         "hoverinfo": "none",
         "line": {
          "color": "#888",
          "width": 1
         },
         "mode": "lines",
         "type": "scatter",
         "x": [
          8.5,
          6.5
         ],
         "y": [
          0.631578947368421,
          0.6428571428571429
         ]
        },
        {
         "hoverinfo": "none",
         "line": {
          "color": "#888",
          "width": 1
         },
         "mode": "lines",
         "type": "scatter",
         "x": [
          7,
          7.111111111111111
         ],
         "y": [
          0.6842105263157894,
          0.7179487179487181
         ]
        },
        {
         "hoverinfo": "none",
         "line": {
          "color": "#888",
          "width": 1
         },
         "mode": "lines",
         "type": "scatter",
         "x": [
          9.25,
          8.5
         ],
         "y": [
          0.7368421052631579,
          0.8
         ]
        },
        {
         "hoverinfo": "none",
         "line": {
          "color": "#888",
          "width": 1
         },
         "mode": "lines",
         "type": "scatter",
         "x": [
          7.75,
          7.666666666666667
         ],
         "y": [
          0.7692307692307693,
          0.8292682926829268
         ]
        },
        {
         "hoverinfo": "none",
         "line": {
          "color": "#888",
          "width": 1
         },
         "mode": "lines",
         "type": "scatter",
         "x": [
          7.75,
          7.4
         ],
         "y": [
          0.7692307692307693,
          0.8
         ]
        },
        {
         "hoverinfo": "none",
         "line": {
          "color": "#888",
          "width": 1
         },
         "mode": "lines",
         "type": "scatter",
         "x": [
          9.375,
          9.083333333333334
         ],
         "y": [
          0.7692307692307693,
          0.8292682926829268
         ]
        },
        {
         "hoverinfo": "none",
         "line": {
          "color": "#888",
          "width": 5
         },
         "mode": "lines",
         "type": "scatter",
         "x": [
          9.375,
          9.2
         ],
         "y": [
          0.7692307692307693,
          0.8837209302325582
         ]
        },
        {
         "hoverinfo": "none",
         "line": {
          "color": "#888",
          "width": 2
         },
         "mode": "lines",
         "type": "scatter",
         "x": [
          9.375,
          10
         ],
         "y": [
          0.7692307692307693,
          0.8837209302325582
         ]
        },
        {
         "hoverinfo": "none",
         "line": {
          "color": "#888",
          "width": 2
         },
         "mode": "lines",
         "type": "scatter",
         "x": [
          9.375,
          8.6
         ],
         "y": [
          0.7692307692307693,
          0.8
         ]
        },
        {
         "hoverinfo": "none",
         "line": {
          "color": "#888",
          "width": 1
         },
         "mode": "lines",
         "type": "scatter",
         "x": [
          9.375,
          8.8
         ],
         "y": [
          0.7692307692307693,
          0.8
         ]
        },
        {
         "hoverinfo": "none",
         "line": {
          "color": "#888",
          "width": 1
         },
         "mode": "lines",
         "type": "scatter",
         "x": [
          9.375,
          9.416666666666666
         ],
         "y": [
          0.7692307692307693,
          0.8292682926829268
         ]
        },
        {
         "hoverinfo": "none",
         "line": {
          "color": "#888",
          "width": 2
         },
         "mode": "lines",
         "type": "scatter",
         "x": [
          9.375,
          8.7
         ],
         "y": [
          0.7692307692307693,
          0.8
         ]
        },
        {
         "hoverinfo": "none",
         "line": {
          "color": "#888",
          "width": 1
         },
         "mode": "lines",
         "type": "scatter",
         "x": [
          7.111111111111111,
          7.545454545454546
         ],
         "y": [
          0.7179487179487181,
          0.75
         ]
        },
        {
         "hoverinfo": "none",
         "line": {
          "color": "#888",
          "width": 1
         },
         "mode": "lines",
         "type": "scatter",
         "x": [
          10.2,
          10
         ],
         "y": [
          0.7692307692307693,
          0.8292682926829268
         ]
        },
        {
         "hoverinfo": "none",
         "line": {
          "color": "#888",
          "width": 1
         },
         "mode": "lines",
         "type": "scatter",
         "x": [
          7.9,
          8.583333333333334
         ],
         "y": [
          0.8837209302325582,
          0.9090909090909092
         ]
        },
        {
         "hoverinfo": "none",
         "line": {
          "color": "#888",
          "width": 1
         },
         "mode": "lines",
         "type": "scatter",
         "x": [
          8,
          8.307692307692308
         ],
         "y": [
          0.8604651162790697,
          0.9148936170212766
         ]
        },
        {
         "hoverinfo": "none",
         "line": {
          "color": "#888",
          "width": 4
         },
         "mode": "lines",
         "type": "scatter",
         "x": [
          9.2,
          8.666666666666666
         ],
         "y": [
          0.8837209302325582,
          0.9090909090909092
         ]
        },
        {
         "hoverinfo": "none",
         "line": {
          "color": "#888",
          "width": 2
         },
         "mode": "lines",
         "type": "scatter",
         "x": [
          9.2,
          9.285714285714286
         ],
         "y": [
          0.8837209302325582,
          0.9333333333333332
         ]
        },
        {
         "hoverinfo": "none",
         "line": {
          "color": "#888",
          "width": 1
         },
         "mode": "lines",
         "type": "scatter",
         "x": [
          9.2,
          9.25
         ],
         "y": [
          0.8837209302325582,
          0.9090909090909092
         ]
        },
        {
         "hoverinfo": "none",
         "line": {
          "color": "#888",
          "width": 1
         },
         "mode": "lines",
         "type": "scatter",
         "x": [
          10,
          9.285714285714286
         ],
         "y": [
          0.8837209302325582,
          0.9333333333333332
         ]
        },
        {
         "hoverinfo": "none",
         "line": {
          "color": "#888",
          "width": 1
         },
         "mode": "lines",
         "type": "scatter",
         "x": [
          10,
          9.666666666666666
         ],
         "y": [
          0.8837209302325582,
          0.9090909090909092
         ]
        },
        {
         "hoverinfo": "none",
         "line": {
          "color": "#888",
          "width": 1
         },
         "mode": "lines",
         "type": "scatter",
         "x": [
          9.1,
          9.214285714285714
         ],
         "y": [
          0.8837209302325582,
          0.9333333333333332
         ]
        },
        {
         "hoverinfo": "none",
         "line": {
          "color": "#888",
          "width": 1
         },
         "mode": "lines",
         "type": "scatter",
         "x": [
          8,
          8.666666666666666
         ],
         "y": [
          0.8837209302325582,
          0.9090909090909092
         ]
        },
        {
         "hoverinfo": "none",
         "line": {
          "color": "#888",
          "width": 3
         },
         "mode": "lines",
         "type": "scatter",
         "x": [
          8.214285714285714,
          8.727272727272727
         ],
         "y": [
          0.9333333333333332,
          0.9787234042553192
         ]
        },
        {
         "hoverinfo": "none",
         "line": {
          "color": "#888",
          "width": 1
         },
         "mode": "lines",
         "type": "scatter",
         "x": [
          8.214285714285714,
          8.11111111111111
         ],
         "y": [
          0.9333333333333332,
          0.9347826086956522
         ]
        },
        {
         "hoverinfo": "none",
         "line": {
          "color": "#888",
          "width": 2
         },
         "mode": "lines",
         "type": "scatter",
         "x": [
          9.285714285714286,
          9.090909090909092
         ],
         "y": [
          0.9333333333333332,
          0.9565217391304348
         ]
        },
        {
         "hoverinfo": "none",
         "line": {
          "color": "#888",
          "width": 2
         },
         "mode": "lines",
         "type": "scatter",
         "x": [
          9.285714285714286,
          9.333333333333334
         ],
         "y": [
          0.9333333333333332,
          0.9565217391304348
         ]
        },
        {
         "hoverinfo": "none",
         "line": {
          "color": "#888",
          "width": 1
         },
         "mode": "lines",
         "type": "scatter",
         "x": [
          9.214285714285714,
          9.3
         ],
         "y": [
          0.9333333333333332,
          0.9565217391304348
         ]
        },
        {
         "hoverinfo": "none",
         "line": {
          "color": "#888",
          "width": 1
         },
         "mode": "lines",
         "type": "scatter",
         "x": [
          9.214285714285714,
          8.9
         ],
         "y": [
          0.9333333333333332,
          0.9565217391304348
         ]
        },
        {
         "hoverinfo": "none",
         "line": {
          "color": "#888",
          "width": 1
         },
         "mode": "lines",
         "type": "scatter",
         "x": [
          8.785714285714286,
          8.6
         ],
         "y": [
          0.9333333333333332,
          0.9347826086956522
         ]
        },
        {
         "hoverinfo": "none",
         "line": {
          "color": "#888",
          "width": 1
         },
         "mode": "lines",
         "type": "scatter",
         "x": [
          9.428571428571429,
          9.3
         ],
         "y": [
          0.9333333333333332,
          0.9565217391304348
         ]
        },
        {
         "hoverinfo": "none",
         "line": {
          "color": "#888",
          "width": 1
         },
         "mode": "lines",
         "type": "scatter",
         "x": [
          8.727272727272727,
          8.4
         ],
         "y": [
          0.9787234042553192,
          0.979591836734694
         ]
        },
        {
         "hoverinfo": "none",
         "line": {
          "color": "#888",
          "width": 3
         },
         "mode": "lines",
         "type": "scatter",
         "x": [
          8.727272727272727,
          8.615384615384615
         ],
         "y": [
          0.9787234042553192,
          1
         ]
        },
        {
         "hoverinfo": "none",
         "line": {
          "color": "#888",
          "width": 1
         },
         "mode": "lines",
         "type": "scatter",
         "x": [
          8.307692307692308,
          8.5
         ],
         "y": [
          0.9148936170212766,
          0.8958333333333334
         ]
        },
        {
         "hoverinfo": "none",
         "line": {
          "color": "#888",
          "width": 2
         },
         "mode": "lines",
         "type": "scatter",
         "x": [
          8.833333333333334,
          8.428571428571429
         ],
         "y": [
          0.9787234042553192,
          0.9791666666666666
         ]
        },
        {
         "hoverinfo": "none",
         "line": {
          "color": "#888",
          "width": 2
         },
         "mode": "lines",
         "type": "scatter",
         "x": [
          9.090909090909092,
          8.615384615384615
         ],
         "y": [
          0.9787234042553192,
          1
         ]
        },
        {
         "hoverinfo": "none",
         "line": {
          "color": "#888",
          "width": 1
         },
         "mode": "lines",
         "type": "scatter",
         "x": [
          8.75,
          8.571428571428571
         ],
         "y": [
          0.9574468085106383,
          0.9583333333333334
         ]
        },
        {
         "hoverinfo": "none",
         "line": {
          "color": "#888",
          "width": 1
         },
         "mode": "lines",
         "type": "scatter",
         "x": [
          9.1,
          9.666666666666666
         ],
         "y": [
          0.8297872340425533,
          0.8125
         ]
        },
        {
         "hoverinfo": "none",
         "line": {
          "color": "#888",
          "width": 1
         },
         "mode": "lines",
         "type": "scatter",
         "x": [
          8.1875,
          7.944444444444445
         ],
         "y": [
          0.8979591836734694,
          0.8799999999999999
         ]
        },
        {
         "hoverinfo": "none",
         "line": {
          "color": "#888",
          "width": 1
         },
         "mode": "lines",
         "type": "scatter",
         "x": [
          9.071428571428571,
          8.875
         ],
         "y": [
          0.816326530612245,
          0.8200000000000001
         ]
        },
        {
         "hoverinfo": "none",
         "line": {
          "color": "#888",
          "width": 1
         },
         "mode": "lines",
         "type": "scatter",
         "x": [
          8.5,
          7.357142857142857
         ],
         "y": [
          0.6739130434782609,
          0.68
         ]
        },
        {
         "hoverinfo": "none",
         "line": {
          "color": "#888",
          "width": 2
         },
         "mode": "lines",
         "type": "scatter",
         "x": [
          9,
          8.833333333333334
         ],
         "y": [
          0.9565217391304348,
          0.9787234042553192
         ]
        },
        {
         "hoverinfo": "none",
         "line": {
          "color": "#888",
          "width": 2
         },
         "mode": "lines",
         "type": "scatter",
         "x": [
          9,
          8.571428571428571
         ],
         "y": [
          0.9565217391304348,
          0.9583333333333334
         ]
        },
        {
         "hoverinfo": "none",
         "line": {
          "color": "#888",
          "width": 2
         },
         "mode": "lines",
         "type": "scatter",
         "x": [
          9.090909090909092,
          9.090909090909092
         ],
         "y": [
          0.9565217391304348,
          0.9787234042553192
         ]
        },
        {
         "hoverinfo": "none",
         "line": {
          "color": "#888",
          "width": 2
         },
         "mode": "lines",
         "type": "scatter",
         "x": [
          9.333333333333334,
          8.727272727272727
         ],
         "y": [
          0.9565217391304348,
          0.9787234042553192
         ]
        },
        {
         "hoverinfo": "none",
         "line": {
          "color": "#888",
          "width": 1
         },
         "mode": "lines",
         "type": "scatter",
         "x": [
          8.11111111111111,
          8.363636363636363
         ],
         "y": [
          0.9347826086956522,
          0.9574468085106383
         ]
        },
        {
         "hoverinfo": "none",
         "line": {
          "color": "#888",
          "width": 2
         },
         "mode": "lines",
         "type": "scatter",
         "x": [
          9.3,
          8.75
         ],
         "y": [
          0.9565217391304348,
          0.9787234042553192
         ]
        },
        {
         "hoverinfo": "none",
         "line": {
          "color": "#888",
          "width": 1
         },
         "mode": "lines",
         "type": "scatter",
         "x": [
          8.6,
          8.75
         ],
         "y": [
          0.9347826086956522,
          0.9574468085106383
         ]
        },
        {
         "hoverinfo": "none",
         "line": {
          "color": "#888",
          "width": 1
         },
         "mode": "lines",
         "type": "scatter",
         "x": [
          8.6,
          8.833333333333334
         ],
         "y": [
          0.9565217391304348,
          0.9787234042553192
         ]
        },
        {
         "hoverinfo": "none",
         "line": {
          "color": "#888",
          "width": 1
         },
         "mode": "lines",
         "type": "scatter",
         "x": [
          8.5,
          9.1
         ],
         "y": [
          0.8478260869565218,
          0.8297872340425533
         ]
        },
        {
         "hoverinfo": "none",
         "line": {
          "color": "#888",
          "width": 1
         },
         "mode": "lines",
         "type": "scatter",
         "x": [
          7.357142857142857,
          6.5
         ],
         "y": [
          0.68,
          0.7058823529411765
         ]
        },
        {
         "hoverinfo": "none",
         "line": {
          "color": "#888",
          "width": 1
         },
         "mode": "lines",
         "type": "scatter",
         "x": [
          7.944444444444445,
          7.642857142857143
         ],
         "y": [
          0.8799999999999999,
          0.8627450980392156
         ]
        },
        {
         "hoverinfo": "none",
         "line": {
          "color": "#888",
          "width": 1
         },
         "mode": "lines",
         "type": "scatter",
         "x": [
          8.875,
          8.416666666666666
         ],
         "y": [
          0.8200000000000001,
          0.8039215686274509
         ]
        },
        {
         "hoverinfo": "none",
         "line": {
          "color": "#888",
          "width": 1
         },
         "mode": "lines",
         "type": "scatter",
         "x": [
          6.5,
          6.5
         ],
         "y": [
          0.7058823529411765,
          0.6923076923076924
         ]
        },
        {
         "hoverinfo": "none",
         "line": {
          "color": "#888",
          "width": 1
         },
         "mode": "lines",
         "type": "scatter",
         "x": [
          7.642857142857143,
          8.055555555555555
         ],
         "y": [
          0.8627450980392156,
          0.8301886792452831
         ]
        },
        {
         "hoverinfo": "none",
         "line": {
          "color": "#888",
          "width": 1
         },
         "mode": "lines",
         "type": "scatter",
         "x": [
          8.416666666666666,
          8.5
         ],
         "y": [
          0.8039215686274509,
          0.8076923076923077
         ]
        },
        {
         "hoverinfo": "none",
         "line": {
          "color": "#888",
          "width": 1
         },
         "mode": "lines",
         "type": "scatter",
         "x": [
          6.5,
          7.5
         ],
         "y": [
          0.6923076923076924,
          0.7407407407407408
         ]
        },
        {
         "hoverinfo": "none",
         "line": {
          "color": "#888",
          "width": 1
         },
         "mode": "lines",
         "type": "scatter",
         "x": [
          8.055555555555555,
          8.357142857142858
         ],
         "y": [
          0.8301886792452831,
          0.8148148148148148
         ]
        },
        {
         "hoverinfo": "none",
         "line": {
          "color": "#888",
          "width": 1
         },
         "mode": "lines",
         "type": "scatter",
         "x": [
          8.5,
          8
         ],
         "y": [
          0.4,
          0.4516129032258064
         ]
        },
        {
         "hoverinfo": "none",
         "line": {
          "color": "#888",
          "width": 1
         },
         "mode": "lines",
         "type": "scatter",
         "x": [
          11,
          9.5
         ],
         "y": [
          0.4,
          0.5882352941176471
         ]
        },
        {
         "hoverinfo": "none",
         "line": {
          "color": "#888",
          "width": 1
         },
         "mode": "lines",
         "type": "scatter",
         "x": [
          9,
          8.5
         ],
         "y": [
          0.4,
          0.5
         ]
        },
        {
         "hoverinfo": "none",
         "line": {
          "color": "#888",
          "width": 1
         },
         "mode": "lines",
         "type": "scatter",
         "x": [
          8,
          8.5
         ],
         "y": [
          0.4516129032258064,
          0.5
         ]
        },
        {
         "hoverinfo": "none",
         "line": {
          "color": "#888",
          "width": 2
         },
         "mode": "lines",
         "type": "scatter",
         "x": [
          8.6,
          8.166666666666666
         ],
         "y": [
          0.8,
          0.8292682926829268
         ]
        },
        {
         "hoverinfo": "none",
         "line": {
          "color": "#888",
          "width": 1
         },
         "mode": "lines",
         "type": "scatter",
         "x": [
          7.545454545454546,
          7.916666666666667
         ],
         "y": [
          0.75,
          0.7804878048780487
         ]
        },
        {
         "hoverinfo": "none",
         "line": {
          "color": "#888",
          "width": 1
         },
         "mode": "lines",
         "type": "scatter",
         "x": [
          8.8,
          9
         ],
         "y": [
          0.8,
          0.8571428571428571
         ]
        },
        {
         "hoverinfo": "none",
         "line": {
          "color": "#888",
          "width": 1
         },
         "mode": "lines",
         "type": "scatter",
         "x": [
          7.214285714285714,
          7.3
         ],
         "y": [
          0.725,
          0.8409090909090909
         ]
        },
        {
         "hoverinfo": "none",
         "line": {
          "color": "#888",
          "width": 1
         },
         "mode": "lines",
         "type": "scatter",
         "x": [
          7.4,
          7.583333333333333
         ],
         "y": [
          0.8,
          0.9090909090909092
         ]
        },
        {
         "hoverinfo": "none",
         "line": {
          "color": "#888",
          "width": 1
         },
         "mode": "lines",
         "type": "scatter",
         "x": [
          8.5,
          8.166666666666666
         ],
         "y": [
          0.8,
          0.8292682926829268
         ]
        },
        {
         "hoverinfo": "none",
         "line": {
          "color": "#888",
          "width": 1
         },
         "mode": "lines",
         "type": "scatter",
         "x": [
          8.7,
          8.5
         ],
         "y": [
          0.8,
          0.8292682926829268
         ]
        },
        {
         "hoverinfo": "none",
         "line": {
          "color": "#888",
          "width": 1
         },
         "mode": "lines",
         "type": "scatter",
         "x": [
          8.7,
          8.666666666666666
         ],
         "y": [
          0.8,
          0.9090909090909092
         ]
        },
        {
         "hoverinfo": "none",
         "line": {
          "color": "#888",
          "width": 7
         },
         "mode": "lines",
         "type": "scatter",
         "x": [
          11.666666666666666,
          10.4
         ],
         "y": [
          0.6285714285714286,
          0.7027027027027027
         ]
        },
        {
         "hoverinfo": "none",
         "line": {
          "color": "#888",
          "width": 1
         },
         "mode": "lines",
         "type": "scatter",
         "x": [
          6.833333333333333,
          7.214285714285714
         ],
         "y": [
          0.5151515151515151,
          0.5294117647058825
         ]
        },
        {
         "hoverinfo": "none",
         "line": {
          "color": "#888",
          "width": 1
         },
         "mode": "lines",
         "type": "scatter",
         "x": [
          8.181818181818182,
          8.5
         ],
         "y": [
          0.5454545454545454,
          0.5882352941176471
         ]
        },
        {
         "hoverinfo": "none",
         "line": {
          "color": "#888",
          "width": 1
         },
         "mode": "lines",
         "type": "scatter",
         "x": [
          5.5,
          6.5
         ],
         "y": [
          0.15384615384615385,
          0.2857142857142857
         ]
        },
        {
         "hoverinfo": "text",
         "marker": {
          "color": [
           0,
           0,
           0,
           0,
           0,
           0,
           0,
           0,
           0,
           0,
           0,
           0,
           0,
           0,
           0,
           0,
           0,
           0,
           0,
           0,
           0,
           0,
           0,
           0,
           0,
           0,
           0,
           0,
           0,
           0,
           0,
           0,
           0,
           0,
           0,
           0,
           0,
           0,
           0,
           0,
           0,
           0,
           0,
           0,
           0,
           0,
           0,
           0,
           0,
           0,
           0,
           0,
           1,
           0,
           0,
           0,
           0,
           0,
           0,
           0,
           0,
           0,
           0,
           0,
           0,
           0,
           0,
           0,
           0,
           0,
           0,
           0,
           0,
           0,
           0,
           0,
           0,
           0,
           0,
           0,
           0,
           0,
           0,
           0,
           0,
           0,
           0,
           0,
           0,
           0,
           0,
           0,
           0,
           0,
           0,
           0,
           0,
           0,
           0,
           0,
           0,
           0,
           0,
           0,
           0,
           0,
           0,
           0,
           0,
           0,
           0,
           0,
           0,
           0,
           0,
           0,
           0,
           0,
           0,
           0,
           0,
           0,
           0,
           0,
           0,
           0,
           0
          ],
          "colorscale": [
           [
            0,
            "rgb(255,255,217)"
           ],
           [
            0.125,
            "rgb(237,248,177)"
           ],
           [
            0.25,
            "rgb(199,233,180)"
           ],
           [
            0.375,
            "rgb(127,205,187)"
           ],
           [
            0.5,
            "rgb(65,182,196)"
           ],
           [
            0.625,
            "rgb(29,145,192)"
           ],
           [
            0.75,
            "rgb(34,94,168)"
           ],
           [
            0.875,
            "rgb(37,52,148)"
           ],
           [
            1,
            "rgb(8,29,88)"
           ]
          ],
          "line": {
           "width": 2
          },
          "reversescale": true,
          "showscale": true,
          "size": [
           26.801758872564367,
           8,
           20,
           21.83772647454919,
           12,
           8,
           8,
           8,
           8,
           24.99171005377434,
           8,
           12,
           8,
           8,
           19.229419688230415,
           16,
           8,
           12,
           8,
           8,
           8,
           8,
           14.339850002884624,
           8,
           20.67970000576925,
           8,
           8,
           12,
           12,
           8,
           8,
           8,
           8,
           8,
           8,
           8,
           8,
           12,
           8,
           8,
           8,
           8,
           8,
           8,
           18.339850002884624,
           8,
           8,
           8,
           12,
           8,
           8,
           12,
           17.28771237954945,
           14.339850002884624,
           8,
           17.28771237954945,
           16,
           21.83772647454919,
           8,
           20,
           8,
           8,
           8,
           12,
           23.229419688230415,
           8,
           8,
           8,
           8,
           8,
           19.229419688230415,
           12,
           8,
           8,
           16,
           16,
           12,
           8,
           8,
           17.28771237954945,
           8,
           14.339850002884624,
           12,
           8,
           12,
           8,
           8,
           8,
           8,
           8,
           8,
           16,
           12,
           12,
           8,
           8,
           12,
           8,
           8,
           8,
           8,
           8,
           8,
           8,
           8,
           8,
           8,
           8,
           8,
           8,
           8,
           8,
           8,
           8,
           8,
           8,
           12,
           8,
           8,
           8,
           8,
           8,
           12,
           19.229419688230415,
           8,
           8,
           8
          ]
         },
         "mode": "markers",
         "type": "scatter",
         "x": [
          8.5,
          12.5,
          6.5,
          10.5,
          8.5,
          8.5,
          9.5,
          5.5,
          9,
          8.5,
          9.7,
          6.7,
          8.5,
          9,
          10,
          8.5,
          8.5,
          7,
          7.5,
          6.5,
          8.5,
          9,
          9.2,
          7.6,
          10.4,
          8.7,
          7.666666666666667,
          9.083333333333334,
          8.166666666666666,
          7.916666666666667,
          9.416666666666666,
          10,
          8.166666666666666,
          8.5,
          9.416666666666666,
          6.5,
          8.5,
          8.5,
          8.5,
          9,
          9.75,
          7.714285714285714,
          8.2,
          8.583333333333334,
          8.666666666666666,
          9.25,
          7.3,
          7.583333333333333,
          9.666666666666666,
          7.153846153846154,
          8.5,
          8.428571428571429,
          8.615384615384615,
          8.571428571428571,
          9.666666666666666,
          8.5,
          7.5,
          9.5,
          7.214285714285714,
          8.5,
          8.5,
          7,
          9.25,
          7.75,
          9.375,
          7.111111111111111,
          10.2,
          7.9,
          8.4,
          8,
          9.2,
          10,
          9.1,
          8,
          8.214285714285714,
          9.285714285714286,
          9.214285714285714,
          8.785714285714286,
          9.428571428571429,
          8.727272727272727,
          8.307692307692308,
          8.833333333333334,
          9.090909090909092,
          8.363636363636363,
          8.75,
          8.75,
          9.1,
          8.4,
          8.1875,
          9.071428571428571,
          8.5,
          9,
          9.090909090909092,
          9.333333333333334,
          8.11111111111111,
          9.777777777777779,
          9.3,
          8.6,
          8.6,
          8.5,
          8.9,
          7.357142857142857,
          7.944444444444445,
          8.875,
          6.5,
          7.642857142857143,
          8.416666666666666,
          6.5,
          8.5,
          7.5,
          8.357142857142858,
          8.055555555555555,
          8.5,
          11,
          9,
          8,
          8.6,
          7.545454545454546,
          8.8,
          7.214285714285714,
          7.4,
          8.5,
          8.7,
          11.666666666666666,
          6.833333333333333,
          8.181818181818182,
          5.5
         ],
         "y": [
          0,
          0.14285714285714285,
          0.2857142857142857,
          0.2857142857142857,
          0.2857142857142857,
          0.2857142857142857,
          0.2857142857142857,
          0.2857142857142857,
          0.375,
          0.5,
          0.4375000000000001,
          0.5,
          0.5,
          0.5555555555555556,
          0.6666666666666666,
          0.6666666666666666,
          0.5555555555555556,
          0.6666666666666666,
          0.6111111111111109,
          0.5833333333333334,
          0.6666666666666666,
          0.5945945945945945,
          0.7027027027027027,
          0.6486486486486487,
          0.7027027027027027,
          0.7317073170731708,
          0.8292682926829268,
          0.8292682926829268,
          0.8292682926829268,
          0.7804878048780487,
          0.8292682926829268,
          0.8292682926829268,
          0.8292682926829268,
          0.8292682926829268,
          0.7142857142857143,
          0.6428571428571429,
          0.8333333333333333,
          0.8571428571428571,
          0.8095238095238096,
          0.8571428571428571,
          0.8571428571428571,
          0.8333333333333333,
          0.75,
          0.9090909090909092,
          0.9090909090909092,
          0.9090909090909092,
          0.8409090909090909,
          0.9090909090909092,
          0.9090909090909092,
          0.75,
          0.8958333333333334,
          0.9791666666666666,
          1,
          0.9583333333333334,
          0.8125,
          0.5882352941176471,
          0.5882352941176471,
          0.5882352941176471,
          0.5294117647058825,
          0.7368421052631579,
          0.631578947368421,
          0.6842105263157894,
          0.7368421052631579,
          0.7692307692307693,
          0.7692307692307693,
          0.7179487179487181,
          0.7692307692307693,
          0.8837209302325582,
          0.8837209302325582,
          0.8604651162790697,
          0.8837209302325582,
          0.8837209302325582,
          0.8837209302325582,
          0.8837209302325582,
          0.9333333333333332,
          0.9333333333333332,
          0.9333333333333332,
          0.9333333333333332,
          0.9333333333333332,
          0.9787234042553192,
          0.9148936170212766,
          0.9787234042553192,
          0.9787234042553192,
          0.9574468085106383,
          0.9787234042553192,
          0.9574468085106383,
          0.8297872340425533,
          0.979591836734694,
          0.8979591836734694,
          0.816326530612245,
          0.6739130434782609,
          0.9565217391304348,
          0.9565217391304348,
          0.9565217391304348,
          0.9347826086956522,
          0.8695652173913043,
          0.9565217391304348,
          0.9347826086956522,
          0.9565217391304348,
          0.8478260869565218,
          0.9565217391304348,
          0.68,
          0.8799999999999999,
          0.8200000000000001,
          0.7058823529411765,
          0.8627450980392156,
          0.8039215686274509,
          0.6923076923076924,
          0.8076923076923077,
          0.7407407407407408,
          0.8148148148148148,
          0.8301886792452831,
          0.4,
          0.4,
          0.4,
          0.4516129032258064,
          0.8,
          0.75,
          0.8,
          0.725,
          0.8,
          0.8,
          0.8,
          0.6285714285714286,
          0.5151515151515151,
          0.5454545454545454,
          0.15384615384615385
         ]
        }
       ],
       "layout": {
        "annotations": [
         {
          "showarrow": false,
          "text": "",
          "x": 0.005,
          "xref": "paper",
          "y": -0.002,
          "yref": "paper"
         }
        ],
        "height": 800,
        "hovermode": "closest",
        "margin": {
         "b": 20,
         "l": 5,
         "r": 5,
         "t": 40
        },
        "showlegend": false,
        "template": {
         "data": {
          "bar": [
           {
            "error_x": {
             "color": "#2a3f5f"
            },
            "error_y": {
             "color": "#2a3f5f"
            },
            "marker": {
             "line": {
              "color": "#E5ECF6",
              "width": 0.5
             }
            },
            "type": "bar"
           }
          ],
          "barpolar": [
           {
            "marker": {
             "line": {
              "color": "#E5ECF6",
              "width": 0.5
             }
            },
            "type": "barpolar"
           }
          ],
          "carpet": [
           {
            "aaxis": {
             "endlinecolor": "#2a3f5f",
             "gridcolor": "white",
             "linecolor": "white",
             "minorgridcolor": "white",
             "startlinecolor": "#2a3f5f"
            },
            "baxis": {
             "endlinecolor": "#2a3f5f",
             "gridcolor": "white",
             "linecolor": "white",
             "minorgridcolor": "white",
             "startlinecolor": "#2a3f5f"
            },
            "type": "carpet"
           }
          ],
          "choropleth": [
           {
            "colorbar": {
             "outlinewidth": 0,
             "ticks": ""
            },
            "type": "choropleth"
           }
          ],
          "contour": [
           {
            "colorbar": {
             "outlinewidth": 0,
             "ticks": ""
            },
            "colorscale": [
             [
              0,
              "#0d0887"
             ],
             [
              0.1111111111111111,
              "#46039f"
             ],
             [
              0.2222222222222222,
              "#7201a8"
             ],
             [
              0.3333333333333333,
              "#9c179e"
             ],
             [
              0.4444444444444444,
              "#bd3786"
             ],
             [
              0.5555555555555556,
              "#d8576b"
             ],
             [
              0.6666666666666666,
              "#ed7953"
             ],
             [
              0.7777777777777778,
              "#fb9f3a"
             ],
             [
              0.8888888888888888,
              "#fdca26"
             ],
             [
              1,
              "#f0f921"
             ]
            ],
            "type": "contour"
           }
          ],
          "contourcarpet": [
           {
            "colorbar": {
             "outlinewidth": 0,
             "ticks": ""
            },
            "type": "contourcarpet"
           }
          ],
          "heatmap": [
           {
            "colorbar": {
             "outlinewidth": 0,
             "ticks": ""
            },
            "colorscale": [
             [
              0,
              "#0d0887"
             ],
             [
              0.1111111111111111,
              "#46039f"
             ],
             [
              0.2222222222222222,
              "#7201a8"
             ],
             [
              0.3333333333333333,
              "#9c179e"
             ],
             [
              0.4444444444444444,
              "#bd3786"
             ],
             [
              0.5555555555555556,
              "#d8576b"
             ],
             [
              0.6666666666666666,
              "#ed7953"
             ],
             [
              0.7777777777777778,
              "#fb9f3a"
             ],
             [
              0.8888888888888888,
              "#fdca26"
             ],
             [
              1,
              "#f0f921"
             ]
            ],
            "type": "heatmap"
           }
          ],
          "heatmapgl": [
           {
            "colorbar": {
             "outlinewidth": 0,
             "ticks": ""
            },
            "colorscale": [
             [
              0,
              "#0d0887"
             ],
             [
              0.1111111111111111,
              "#46039f"
             ],
             [
              0.2222222222222222,
              "#7201a8"
             ],
             [
              0.3333333333333333,
              "#9c179e"
             ],
             [
              0.4444444444444444,
              "#bd3786"
             ],
             [
              0.5555555555555556,
              "#d8576b"
             ],
             [
              0.6666666666666666,
              "#ed7953"
             ],
             [
              0.7777777777777778,
              "#fb9f3a"
             ],
             [
              0.8888888888888888,
              "#fdca26"
             ],
             [
              1,
              "#f0f921"
             ]
            ],
            "type": "heatmapgl"
           }
          ],
          "histogram": [
           {
            "marker": {
             "colorbar": {
              "outlinewidth": 0,
              "ticks": ""
             }
            },
            "type": "histogram"
           }
          ],
          "histogram2d": [
           {
            "colorbar": {
             "outlinewidth": 0,
             "ticks": ""
            },
            "colorscale": [
             [
              0,
              "#0d0887"
             ],
             [
              0.1111111111111111,
              "#46039f"
             ],
             [
              0.2222222222222222,
              "#7201a8"
             ],
             [
              0.3333333333333333,
              "#9c179e"
             ],
             [
              0.4444444444444444,
              "#bd3786"
             ],
             [
              0.5555555555555556,
              "#d8576b"
             ],
             [
              0.6666666666666666,
              "#ed7953"
             ],
             [
              0.7777777777777778,
              "#fb9f3a"
             ],
             [
              0.8888888888888888,
              "#fdca26"
             ],
             [
              1,
              "#f0f921"
             ]
            ],
            "type": "histogram2d"
           }
          ],
          "histogram2dcontour": [
           {
            "colorbar": {
             "outlinewidth": 0,
             "ticks": ""
            },
            "colorscale": [
             [
              0,
              "#0d0887"
             ],
             [
              0.1111111111111111,
              "#46039f"
             ],
             [
              0.2222222222222222,
              "#7201a8"
             ],
             [
              0.3333333333333333,
              "#9c179e"
             ],
             [
              0.4444444444444444,
              "#bd3786"
             ],
             [
              0.5555555555555556,
              "#d8576b"
             ],
             [
              0.6666666666666666,
              "#ed7953"
             ],
             [
              0.7777777777777778,
              "#fb9f3a"
             ],
             [
              0.8888888888888888,
              "#fdca26"
             ],
             [
              1,
              "#f0f921"
             ]
            ],
            "type": "histogram2dcontour"
           }
          ],
          "mesh3d": [
           {
            "colorbar": {
             "outlinewidth": 0,
             "ticks": ""
            },
            "type": "mesh3d"
           }
          ],
          "parcoords": [
           {
            "line": {
             "colorbar": {
              "outlinewidth": 0,
              "ticks": ""
             }
            },
            "type": "parcoords"
           }
          ],
          "pie": [
           {
            "automargin": true,
            "type": "pie"
           }
          ],
          "scatter": [
           {
            "marker": {
             "colorbar": {
              "outlinewidth": 0,
              "ticks": ""
             }
            },
            "type": "scatter"
           }
          ],
          "scatter3d": [
           {
            "line": {
             "colorbar": {
              "outlinewidth": 0,
              "ticks": ""
             }
            },
            "marker": {
             "colorbar": {
              "outlinewidth": 0,
              "ticks": ""
             }
            },
            "type": "scatter3d"
           }
          ],
          "scattercarpet": [
           {
            "marker": {
             "colorbar": {
              "outlinewidth": 0,
              "ticks": ""
             }
            },
            "type": "scattercarpet"
           }
          ],
          "scattergeo": [
           {
            "marker": {
             "colorbar": {
              "outlinewidth": 0,
              "ticks": ""
             }
            },
            "type": "scattergeo"
           }
          ],
          "scattergl": [
           {
            "marker": {
             "colorbar": {
              "outlinewidth": 0,
              "ticks": ""
             }
            },
            "type": "scattergl"
           }
          ],
          "scattermapbox": [
           {
            "marker": {
             "colorbar": {
              "outlinewidth": 0,
              "ticks": ""
             }
            },
            "type": "scattermapbox"
           }
          ],
          "scatterpolar": [
           {
            "marker": {
             "colorbar": {
              "outlinewidth": 0,
              "ticks": ""
             }
            },
            "type": "scatterpolar"
           }
          ],
          "scatterpolargl": [
           {
            "marker": {
             "colorbar": {
              "outlinewidth": 0,
              "ticks": ""
             }
            },
            "type": "scatterpolargl"
           }
          ],
          "scatterternary": [
           {
            "marker": {
             "colorbar": {
              "outlinewidth": 0,
              "ticks": ""
             }
            },
            "type": "scatterternary"
           }
          ],
          "surface": [
           {
            "colorbar": {
             "outlinewidth": 0,
             "ticks": ""
            },
            "colorscale": [
             [
              0,
              "#0d0887"
             ],
             [
              0.1111111111111111,
              "#46039f"
             ],
             [
              0.2222222222222222,
              "#7201a8"
             ],
             [
              0.3333333333333333,
              "#9c179e"
             ],
             [
              0.4444444444444444,
              "#bd3786"
             ],
             [
              0.5555555555555556,
              "#d8576b"
             ],
             [
              0.6666666666666666,
              "#ed7953"
             ],
             [
              0.7777777777777778,
              "#fb9f3a"
             ],
             [
              0.8888888888888888,
              "#fdca26"
             ],
             [
              1,
              "#f0f921"
             ]
            ],
            "type": "surface"
           }
          ],
          "table": [
           {
            "cells": {
             "fill": {
              "color": "#EBF0F8"
             },
             "line": {
              "color": "white"
             }
            },
            "header": {
             "fill": {
              "color": "#C8D4E3"
             },
             "line": {
              "color": "white"
             }
            },
            "type": "table"
           }
          ]
         },
         "layout": {
          "annotationdefaults": {
           "arrowcolor": "#2a3f5f",
           "arrowhead": 0,
           "arrowwidth": 1
          },
          "coloraxis": {
           "colorbar": {
            "outlinewidth": 0,
            "ticks": ""
           }
          },
          "colorscale": {
           "diverging": [
            [
             0,
             "#8e0152"
            ],
            [
             0.1,
             "#c51b7d"
            ],
            [
             0.2,
             "#de77ae"
            ],
            [
             0.3,
             "#f1b6da"
            ],
            [
             0.4,
             "#fde0ef"
            ],
            [
             0.5,
             "#f7f7f7"
            ],
            [
             0.6,
             "#e6f5d0"
            ],
            [
             0.7,
             "#b8e186"
            ],
            [
             0.8,
             "#7fbc41"
            ],
            [
             0.9,
             "#4d9221"
            ],
            [
             1,
             "#276419"
            ]
           ],
           "sequential": [
            [
             0,
             "#0d0887"
            ],
            [
             0.1111111111111111,
             "#46039f"
            ],
            [
             0.2222222222222222,
             "#7201a8"
            ],
            [
             0.3333333333333333,
             "#9c179e"
            ],
            [
             0.4444444444444444,
             "#bd3786"
            ],
            [
             0.5555555555555556,
             "#d8576b"
            ],
            [
             0.6666666666666666,
             "#ed7953"
            ],
            [
             0.7777777777777778,
             "#fb9f3a"
            ],
            [
             0.8888888888888888,
             "#fdca26"
            ],
            [
             1,
             "#f0f921"
            ]
           ],
           "sequentialminus": [
            [
             0,
             "#0d0887"
            ],
            [
             0.1111111111111111,
             "#46039f"
            ],
            [
             0.2222222222222222,
             "#7201a8"
            ],
            [
             0.3333333333333333,
             "#9c179e"
            ],
            [
             0.4444444444444444,
             "#bd3786"
            ],
            [
             0.5555555555555556,
             "#d8576b"
            ],
            [
             0.6666666666666666,
             "#ed7953"
            ],
            [
             0.7777777777777778,
             "#fb9f3a"
            ],
            [
             0.8888888888888888,
             "#fdca26"
            ],
            [
             1,
             "#f0f921"
            ]
           ]
          },
          "colorway": [
           "#636efa",
           "#EF553B",
           "#00cc96",
           "#ab63fa",
           "#FFA15A",
           "#19d3f3",
           "#FF6692",
           "#B6E880",
           "#FF97FF",
           "#FECB52"
          ],
          "font": {
           "color": "#2a3f5f"
          },
          "geo": {
           "bgcolor": "white",
           "lakecolor": "white",
           "landcolor": "#E5ECF6",
           "showlakes": true,
           "showland": true,
           "subunitcolor": "white"
          },
          "hoverlabel": {
           "align": "left"
          },
          "hovermode": "closest",
          "mapbox": {
           "style": "light"
          },
          "paper_bgcolor": "white",
          "plot_bgcolor": "#E5ECF6",
          "polar": {
           "angularaxis": {
            "gridcolor": "white",
            "linecolor": "white",
            "ticks": ""
           },
           "bgcolor": "#E5ECF6",
           "radialaxis": {
            "gridcolor": "white",
            "linecolor": "white",
            "ticks": ""
           }
          },
          "scene": {
           "xaxis": {
            "backgroundcolor": "#E5ECF6",
            "gridcolor": "white",
            "gridwidth": 2,
            "linecolor": "white",
            "showbackground": true,
            "ticks": "",
            "zerolinecolor": "white"
           },
           "yaxis": {
            "backgroundcolor": "#E5ECF6",
            "gridcolor": "white",
            "gridwidth": 2,
            "linecolor": "white",
            "showbackground": true,
            "ticks": "",
            "zerolinecolor": "white"
           },
           "zaxis": {
            "backgroundcolor": "#E5ECF6",
            "gridcolor": "white",
            "gridwidth": 2,
            "linecolor": "white",
            "showbackground": true,
            "ticks": "",
            "zerolinecolor": "white"
           }
          },
          "shapedefaults": {
           "line": {
            "color": "#2a3f5f"
           }
          },
          "ternary": {
           "aaxis": {
            "gridcolor": "white",
            "linecolor": "white",
            "ticks": ""
           },
           "baxis": {
            "gridcolor": "white",
            "linecolor": "white",
            "ticks": ""
           },
           "bgcolor": "#E5ECF6",
           "caxis": {
            "gridcolor": "white",
            "linecolor": "white",
            "ticks": ""
           }
          },
          "title": {
           "x": 0.05
          },
          "xaxis": {
           "automargin": true,
           "gridcolor": "white",
           "linecolor": "white",
           "ticks": "",
           "title": {
            "standoff": 15
           },
           "zerolinecolor": "white",
           "zerolinewidth": 2
          },
          "yaxis": {
           "automargin": true,
           "gridcolor": "white",
           "linecolor": "white",
           "ticks": "",
           "title": {
            "standoff": 15
           },
           "zerolinecolor": "white",
           "zerolinewidth": 2
          }
         }
        },
        "title": {
         "font": {
          "size": 16
         },
         "text": "<br>World states for hand_selected_009, repetition 3, by number of squares"
        },
        "width": 800
       }
      },
      "text/html": [
       "<div>\n",
       "        \n",
       "        \n",
       "            <div id=\"94d1d238-8f28-4013-acdc-37aa1b77608f\" class=\"plotly-graph-div\" style=\"height:800px; width:800px;\"></div>\n",
       "            <script type=\"text/javascript\">\n",
       "                require([\"plotly\"], function(Plotly) {\n",
       "                    window.PLOTLYENV=window.PLOTLYENV || {};\n",
       "                    \n",
       "                if (document.getElementById(\"94d1d238-8f28-4013-acdc-37aa1b77608f\")) {\n",
       "                    Plotly.newPlot(\n",
       "                        '94d1d238-8f28-4013-acdc-37aa1b77608f',\n",
       "                        [{\"hoverinfo\": \"none\", \"line\": {\"color\": \"#888\", \"width\": 1}, \"mode\": \"lines\", \"type\": \"scatter\", \"x\": [8.5, 12.5], \"y\": [0, 0.14285714285714285]}, {\"hoverinfo\": \"none\", \"line\": {\"color\": \"#888\", \"width\": 7}, \"mode\": \"lines\", \"type\": \"scatter\", \"x\": [8.5, 6.5], \"y\": [0, 0.2857142857142857]}, {\"hoverinfo\": \"none\", \"line\": {\"color\": \"#888\", \"width\": 11}, \"mode\": \"lines\", \"type\": \"scatter\", \"x\": [8.5, 10.5], \"y\": [0, 0.2857142857142857]}, {\"hoverinfo\": \"none\", \"line\": {\"color\": \"#888\", \"width\": 2}, \"mode\": \"lines\", \"type\": \"scatter\", \"x\": [8.5, 8.5], \"y\": [0, 0.2857142857142857]}, {\"hoverinfo\": \"none\", \"line\": {\"color\": \"#888\", \"width\": 1}, \"mode\": \"lines\", \"type\": \"scatter\", \"x\": [8.5, 8.5], \"y\": [0, 0.2857142857142857]}, {\"hoverinfo\": \"none\", \"line\": {\"color\": \"#888\", \"width\": 1}, \"mode\": \"lines\", \"type\": \"scatter\", \"x\": [8.5, 9.5], \"y\": [0, 0.2857142857142857]}, {\"hoverinfo\": \"none\", \"line\": {\"color\": \"#888\", \"width\": 1}, \"mode\": \"lines\", \"type\": \"scatter\", \"x\": [8.5, 5.5], \"y\": [0, 0.2857142857142857]}, {\"hoverinfo\": \"none\", \"line\": {\"color\": \"#888\", \"width\": 1}, \"mode\": \"lines\", \"type\": \"scatter\", \"x\": [8.5, 5.5], \"y\": [0, 0.15384615384615385]}, {\"hoverinfo\": \"none\", \"line\": {\"color\": \"#888\", \"width\": 1}, \"mode\": \"lines\", \"type\": \"scatter\", \"x\": [12.5, 9.0], \"y\": [0.14285714285714285, 0.375]}, {\"hoverinfo\": \"none\", \"line\": {\"color\": \"#888\", \"width\": 8}, \"mode\": \"lines\", \"type\": \"scatter\", \"x\": [6.5, 8.5], \"y\": [0.2857142857142857, 0.5]}, {\"hoverinfo\": \"none\", \"line\": {\"color\": \"#888\", \"width\": 10}, \"mode\": \"lines\", \"type\": \"scatter\", \"x\": [10.5, 8.5], \"y\": [0.2857142857142857, 0.5]}, {\"hoverinfo\": \"none\", \"line\": {\"color\": \"#888\", \"width\": 1}, \"mode\": \"lines\", \"type\": \"scatter\", \"x\": [10.5, 11.0], \"y\": [0.2857142857142857, 0.4]}, {\"hoverinfo\": \"none\", \"line\": {\"color\": \"#888\", \"width\": 1}, \"mode\": \"lines\", \"type\": \"scatter\", \"x\": [8.5, 9.7], \"y\": [0.2857142857142857, 0.4375000000000001]}, {\"hoverinfo\": \"none\", \"line\": {\"color\": \"#888\", \"width\": 1}, \"mode\": \"lines\", \"type\": \"scatter\", \"x\": [8.5, 9.0], \"y\": [0.2857142857142857, 0.4]}, {\"hoverinfo\": \"none\", \"line\": {\"color\": \"#888\", \"width\": 1}, \"mode\": \"lines\", \"type\": \"scatter\", \"x\": [8.5, 6.7], \"y\": [0.2857142857142857, 0.5]}, {\"hoverinfo\": \"none\", \"line\": {\"color\": \"#888\", \"width\": 1}, \"mode\": \"lines\", \"type\": \"scatter\", \"x\": [9.5, 8.5], \"y\": [0.2857142857142857, 0.4]}, {\"hoverinfo\": \"none\", \"line\": {\"color\": \"#888\", \"width\": 1}, \"mode\": \"lines\", \"type\": \"scatter\", \"x\": [5.5, 6.7], \"y\": [0.2857142857142857, 0.5]}, {\"hoverinfo\": \"none\", \"line\": {\"color\": \"#888\", \"width\": 1}, \"mode\": \"lines\", \"type\": \"scatter\", \"x\": [9.0, 9.0], \"y\": [0.375, 0.5555555555555556]}, {\"hoverinfo\": \"none\", \"line\": {\"color\": \"#888\", \"width\": 4}, \"mode\": \"lines\", \"type\": \"scatter\", \"x\": [8.5, 8.5], \"y\": [0.5, 0.5882352941176471]}, {\"hoverinfo\": \"none\", \"line\": {\"color\": \"#888\", \"width\": 4}, \"mode\": \"lines\", \"type\": \"scatter\", \"x\": [8.5, 7.5], \"y\": [0.5, 0.5882352941176471]}, {\"hoverinfo\": \"none\", \"line\": {\"color\": \"#888\", \"width\": 10}, \"mode\": \"lines\", \"type\": \"scatter\", \"x\": [8.5, 9.5], \"y\": [0.5, 0.5882352941176471]}, {\"hoverinfo\": \"none\", \"line\": {\"color\": \"#888\", \"width\": 1}, \"mode\": \"lines\", \"type\": \"scatter\", \"x\": [8.5, 8.5], \"y\": [0.5, 0.6666666666666666]}, {\"hoverinfo\": \"none\", \"line\": {\"color\": \"#888\", \"width\": 1}, \"mode\": \"lines\", \"type\": \"scatter\", \"x\": [9.7, 8.5], \"y\": [0.4375000000000001, 0.5555555555555556]}, {\"hoverinfo\": \"none\", \"line\": {\"color\": \"#888\", \"width\": 1}, \"mode\": \"lines\", \"type\": \"scatter\", \"x\": [6.7, 8.5], \"y\": [0.5, 0.6666666666666666]}, {\"hoverinfo\": \"none\", \"line\": {\"color\": \"#888\", \"width\": 1}, \"mode\": \"lines\", \"type\": \"scatter\", \"x\": [6.7, 6.833333333333333], \"y\": [0.5, 0.5151515151515151]}, {\"hoverinfo\": \"none\", \"line\": {\"color\": \"#888\", \"width\": 1}, \"mode\": \"lines\", \"type\": \"scatter\", \"x\": [8.5, 8.181818181818182], \"y\": [0.5, 0.5454545454545454]}, {\"hoverinfo\": \"none\", \"line\": {\"color\": \"#888\", \"width\": 1}, \"mode\": \"lines\", \"type\": \"scatter\", \"x\": [9.0, 9.0], \"y\": [0.5555555555555556, 0.5945945945945945]}, {\"hoverinfo\": \"none\", \"line\": {\"color\": \"#888\", \"width\": 5}, \"mode\": \"lines\", \"type\": \"scatter\", \"x\": [10.0, 8.5], \"y\": [0.6666666666666666, 0.7368421052631579]}, {\"hoverinfo\": \"none\", \"line\": {\"color\": \"#888\", \"width\": 2}, \"mode\": \"lines\", \"type\": \"scatter\", \"x\": [10.0, 10.4], \"y\": [0.6666666666666666, 0.7027027027027027]}, {\"hoverinfo\": \"none\", \"line\": {\"color\": \"#888\", \"width\": 3}, \"mode\": \"lines\", \"type\": \"scatter\", \"x\": [8.5, 9.2], \"y\": [0.6666666666666666, 0.7027027027027027]}, {\"hoverinfo\": \"none\", \"line\": {\"color\": \"#888\", \"width\": 1}, \"mode\": \"lines\", \"type\": \"scatter\", \"x\": [8.5, 8.5], \"y\": [0.6666666666666666, 0.7368421052631579]}, {\"hoverinfo\": \"none\", \"line\": {\"color\": \"#888\", \"width\": 1}, \"mode\": \"lines\", \"type\": \"scatter\", \"x\": [8.5, 8.5], \"y\": [0.5555555555555556, 0.631578947368421]}, {\"hoverinfo\": \"none\", \"line\": {\"color\": \"#888\", \"width\": 2}, \"mode\": \"lines\", \"type\": \"scatter\", \"x\": [7.0, 8.5], \"y\": [0.6666666666666666, 0.7368421052631579]}, {\"hoverinfo\": \"none\", \"line\": {\"color\": \"#888\", \"width\": 1}, \"mode\": \"lines\", \"type\": \"scatter\", \"x\": [7.5, 7.6], \"y\": [0.6111111111111109, 0.6486486486486487]}, {\"hoverinfo\": \"none\", \"line\": {\"color\": \"#888\", \"width\": 1}, \"mode\": \"lines\", \"type\": \"scatter\", \"x\": [6.5, 7.214285714285714], \"y\": [0.5833333333333334, 0.725]}, {\"hoverinfo\": \"none\", \"line\": {\"color\": \"#888\", \"width\": 1}, \"mode\": \"lines\", \"type\": \"scatter\", \"x\": [8.5, 9.25], \"y\": [0.6666666666666666, 0.7368421052631579]}, {\"hoverinfo\": \"none\", \"line\": {\"color\": \"#888\", \"width\": 1}, \"mode\": \"lines\", \"type\": \"scatter\", \"x\": [9.0, 8.7], \"y\": [0.5945945945945945, 0.7317073170731708]}, {\"hoverinfo\": \"none\", \"line\": {\"color\": \"#888\", \"width\": 1}, \"mode\": \"lines\", \"type\": \"scatter\", \"x\": [9.2, 9.083333333333334], \"y\": [0.7027027027027027, 0.8292682926829268]}, {\"hoverinfo\": \"none\", \"line\": {\"color\": \"#888\", \"width\": 2}, \"mode\": \"lines\", \"type\": \"scatter\", \"x\": [9.2, 9.375], \"y\": [0.7027027027027027, 0.7692307692307693]}, {\"hoverinfo\": \"none\", \"line\": {\"color\": \"#888\", \"width\": 1}, \"mode\": \"lines\", \"type\": \"scatter\", \"x\": [7.6, 7.0], \"y\": [0.6486486486486487, 0.6842105263157894]}, {\"hoverinfo\": \"none\", \"line\": {\"color\": \"#888\", \"width\": 8}, \"mode\": \"lines\", \"type\": \"scatter\", \"x\": [10.4, 9.375], \"y\": [0.7027027027027027, 0.7692307692307693]}, {\"hoverinfo\": \"none\", \"line\": {\"color\": \"#888\", \"width\": 1}, \"mode\": \"lines\", \"type\": \"scatter\", \"x\": [10.4, 10.2], \"y\": [0.7027027027027027, 0.7692307692307693]}, {\"hoverinfo\": \"none\", \"line\": {\"color\": \"#888\", \"width\": 1}, \"mode\": \"lines\", \"type\": \"scatter\", \"x\": [8.7, 9.416666666666666], \"y\": [0.7317073170731708, 0.7142857142857143]}, {\"hoverinfo\": \"none\", \"line\": {\"color\": \"#888\", \"width\": 1}, \"mode\": \"lines\", \"type\": \"scatter\", \"x\": [7.666666666666667, 7.9], \"y\": [0.8292682926829268, 0.8837209302325582]}, {\"hoverinfo\": \"none\", \"line\": {\"color\": \"#888\", \"width\": 1}, \"mode\": \"lines\", \"type\": \"scatter\", \"x\": [9.083333333333334, 8.4], \"y\": [0.8292682926829268, 0.8837209302325582]}, {\"hoverinfo\": \"none\", \"line\": {\"color\": \"#888\", \"width\": 1}, \"mode\": \"lines\", \"type\": \"scatter\", \"x\": [9.083333333333334, 8.5], \"y\": [0.8292682926829268, 0.8333333333333333]}, {\"hoverinfo\": \"none\", \"line\": {\"color\": \"#888\", \"width\": 2}, \"mode\": \"lines\", \"type\": \"scatter\", \"x\": [8.166666666666666, 8.214285714285714], \"y\": [0.8292682926829268, 0.9333333333333332]}, {\"hoverinfo\": \"none\", \"line\": {\"color\": \"#888\", \"width\": 1}, \"mode\": \"lines\", \"type\": \"scatter\", \"x\": [7.916666666666667, 8.5], \"y\": [0.7804878048780487, 0.8095238095238096]}, {\"hoverinfo\": \"none\", \"line\": {\"color\": \"#888\", \"width\": 1}, \"mode\": \"lines\", \"type\": \"scatter\", \"x\": [9.416666666666666, 9.2], \"y\": [0.8292682926829268, 0.8837209302325582]}, {\"hoverinfo\": \"none\", \"line\": {\"color\": \"#888\", \"width\": 1}, \"mode\": \"lines\", \"type\": \"scatter\", \"x\": [10.0, 9.75], \"y\": [0.8292682926829268, 0.8571428571428571]}, {\"hoverinfo\": \"none\", \"line\": {\"color\": \"#888\", \"width\": 1}, \"mode\": \"lines\", \"type\": \"scatter\", \"x\": [8.166666666666666, 7.714285714285714], \"y\": [0.8292682926829268, 0.8333333333333333]}, {\"hoverinfo\": \"none\", \"line\": {\"color\": \"#888\", \"width\": 1}, \"mode\": \"lines\", \"type\": \"scatter\", \"x\": [9.416666666666666, 8.2], \"y\": [0.7142857142857143, 0.75]}, {\"hoverinfo\": \"none\", \"line\": {\"color\": \"#888\", \"width\": 1}, \"mode\": \"lines\", \"type\": \"scatter\", \"x\": [6.5, 8.5], \"y\": [0.6428571428571429, 0.6739130434782609]}, {\"hoverinfo\": \"none\", \"line\": {\"color\": \"#888\", \"width\": 1}, \"mode\": \"lines\", \"type\": \"scatter\", \"x\": [8.5, 8.0], \"y\": [0.8333333333333333, 0.8604651162790697]}, {\"hoverinfo\": \"none\", \"line\": {\"color\": \"#888\", \"width\": 1}, \"mode\": \"lines\", \"type\": \"scatter\", \"x\": [8.5, 9.2], \"y\": [0.8571428571428571, 0.8837209302325582]}, {\"hoverinfo\": \"none\", \"line\": {\"color\": \"#888\", \"width\": 1}, \"mode\": \"lines\", \"type\": \"scatter\", \"x\": [8.5, 8.0], \"y\": [0.8571428571428571, 0.8837209302325582]}, {\"hoverinfo\": \"none\", \"line\": {\"color\": \"#888\", \"width\": 1}, \"mode\": \"lines\", \"type\": \"scatter\", \"x\": [8.5, 9.777777777777779], \"y\": [0.8095238095238096, 0.8695652173913043]}, {\"hoverinfo\": \"none\", \"line\": {\"color\": \"#888\", \"width\": 1}, \"mode\": \"lines\", \"type\": \"scatter\", \"x\": [9.0, 9.1], \"y\": [0.8571428571428571, 0.8837209302325582]}, {\"hoverinfo\": \"none\", \"line\": {\"color\": \"#888\", \"width\": 1}, \"mode\": \"lines\", \"type\": \"scatter\", \"x\": [9.75, 9.666666666666666], \"y\": [0.8571428571428571, 0.9090909090909092]}, {\"hoverinfo\": \"none\", \"line\": {\"color\": \"#888\", \"width\": 1}, \"mode\": \"lines\", \"type\": \"scatter\", \"x\": [8.2, 7.153846153846154], \"y\": [0.75, 0.75]}, {\"hoverinfo\": \"none\", \"line\": {\"color\": \"#888\", \"width\": 1}, \"mode\": \"lines\", \"type\": \"scatter\", \"x\": [8.583333333333334, 8.214285714285714], \"y\": [0.9090909090909092, 0.9333333333333332]}, {\"hoverinfo\": \"none\", \"line\": {\"color\": \"#888\", \"width\": 4}, \"mode\": \"lines\", \"type\": \"scatter\", \"x\": [8.666666666666666, 9.0], \"y\": [0.9090909090909092, 0.9565217391304348]}, {\"hoverinfo\": \"none\", \"line\": {\"color\": \"#888\", \"width\": 1}, \"mode\": \"lines\", \"type\": \"scatter\", \"x\": [8.666666666666666, 8.785714285714286], \"y\": [0.9090909090909092, 0.9333333333333332]}, {\"hoverinfo\": \"none\", \"line\": {\"color\": \"#888\", \"width\": 1}, \"mode\": \"lines\", \"type\": \"scatter\", \"x\": [8.666666666666666, 8.6], \"y\": [0.9090909090909092, 0.9565217391304348]}, {\"hoverinfo\": \"none\", \"line\": {\"color\": \"#888\", \"width\": 1}, \"mode\": \"lines\", \"type\": \"scatter\", \"x\": [9.25, 9.285714285714286], \"y\": [0.9090909090909092, 0.9333333333333332]}, {\"hoverinfo\": \"none\", \"line\": {\"color\": \"#888\", \"width\": 1}, \"mode\": \"lines\", \"type\": \"scatter\", \"x\": [7.3, 8.5], \"y\": [0.8409090909090909, 0.8478260869565218]}, {\"hoverinfo\": \"none\", \"line\": {\"color\": \"#888\", \"width\": 1}, \"mode\": \"lines\", \"type\": \"scatter\", \"x\": [7.583333333333333, 8.214285714285714], \"y\": [0.9090909090909092, 0.9333333333333332]}, {\"hoverinfo\": \"none\", \"line\": {\"color\": \"#888\", \"width\": 1}, \"mode\": \"lines\", \"type\": \"scatter\", \"x\": [9.666666666666666, 9.214285714285714], \"y\": [0.9090909090909092, 0.9333333333333332]}, {\"hoverinfo\": \"none\", \"line\": {\"color\": \"#888\", \"width\": 1}, \"mode\": \"lines\", \"type\": \"scatter\", \"x\": [9.666666666666666, 9.428571428571429], \"y\": [0.9090909090909092, 0.9333333333333332]}, {\"hoverinfo\": \"none\", \"line\": {\"color\": \"#888\", \"width\": 1}, \"mode\": \"lines\", \"type\": \"scatter\", \"x\": [8.5, 8.1875], \"y\": [0.8958333333333334, 0.8979591836734694]}, {\"hoverinfo\": \"none\", \"line\": {\"color\": \"#888\", \"width\": 1}, \"mode\": \"lines\", \"type\": \"scatter\", \"x\": [9.666666666666666, 9.071428571428571], \"y\": [0.8125, 0.816326530612245]}, {\"hoverinfo\": \"none\", \"line\": {\"color\": \"#888\", \"width\": 4}, \"mode\": \"lines\", \"type\": \"scatter\", \"x\": [8.5, 10.0], \"y\": [0.5882352941176471, 0.6666666666666666]}, {\"hoverinfo\": \"none\", \"line\": {\"color\": \"#888\", \"width\": 1}, \"mode\": \"lines\", \"type\": \"scatter\", \"x\": [8.5, 7.0], \"y\": [0.5882352941176471, 0.6666666666666666]}, {\"hoverinfo\": \"none\", \"line\": {\"color\": \"#888\", \"width\": 2}, \"mode\": \"lines\", \"type\": \"scatter\", \"x\": [7.5, 8.5], \"y\": [0.5882352941176471, 0.6666666666666666]}, {\"hoverinfo\": \"none\", \"line\": {\"color\": \"#888\", \"width\": 1}, \"mode\": \"lines\", \"type\": \"scatter\", \"x\": [7.5, 7.0], \"y\": [0.5882352941176471, 0.6666666666666666]}, {\"hoverinfo\": \"none\", \"line\": {\"color\": \"#888\", \"width\": 1}, \"mode\": \"lines\", \"type\": \"scatter\", \"x\": [7.5, 7.5], \"y\": [0.5882352941176471, 0.6111111111111109]}, {\"hoverinfo\": \"none\", \"line\": {\"color\": \"#888\", \"width\": 3}, \"mode\": \"lines\", \"type\": \"scatter\", \"x\": [9.5, 10.0], \"y\": [0.5882352941176471, 0.6666666666666666]}, {\"hoverinfo\": \"none\", \"line\": {\"color\": \"#888\", \"width\": 1}, \"mode\": \"lines\", \"type\": \"scatter\", \"x\": [9.5, 8.5], \"y\": [0.5882352941176471, 0.6666666666666666]}, {\"hoverinfo\": \"none\", \"line\": {\"color\": \"#888\", \"width\": 7}, \"mode\": \"lines\", \"type\": \"scatter\", \"x\": [9.5, 11.666666666666666], \"y\": [0.5882352941176471, 0.6285714285714286]}, {\"hoverinfo\": \"none\", \"line\": {\"color\": \"#888\", \"width\": 1}, \"mode\": \"lines\", \"type\": \"scatter\", \"x\": [7.214285714285714, 6.5], \"y\": [0.5294117647058825, 0.5833333333333334]}, {\"hoverinfo\": \"none\", \"line\": {\"color\": \"#888\", \"width\": 2}, \"mode\": \"lines\", \"type\": \"scatter\", \"x\": [8.5, 7.75], \"y\": [0.7368421052631579, 0.7692307692307693]}, {\"hoverinfo\": \"none\", \"line\": {\"color\": \"#888\", \"width\": 2}, \"mode\": \"lines\", \"type\": \"scatter\", \"x\": [8.5, 8.5], \"y\": [0.7368421052631579, 0.8571428571428571]}, {\"hoverinfo\": \"none\", \"line\": {\"color\": \"#888\", \"width\": 4}, \"mode\": \"lines\", \"type\": \"scatter\", \"x\": [8.5, 9.375], \"y\": [0.7368421052631579, 0.7692307692307693]}, {\"hoverinfo\": \"none\", \"line\": {\"color\": \"#888\", \"width\": 1}, \"mode\": \"lines\", \"type\": \"scatter\", \"x\": [8.5, 6.5], \"y\": [0.631578947368421, 0.6428571428571429]}, {\"hoverinfo\": \"none\", \"line\": {\"color\": \"#888\", \"width\": 1}, \"mode\": \"lines\", \"type\": \"scatter\", \"x\": [7.0, 7.111111111111111], \"y\": [0.6842105263157894, 0.7179487179487181]}, {\"hoverinfo\": \"none\", \"line\": {\"color\": \"#888\", \"width\": 1}, \"mode\": \"lines\", \"type\": \"scatter\", \"x\": [9.25, 8.5], \"y\": [0.7368421052631579, 0.8]}, {\"hoverinfo\": \"none\", \"line\": {\"color\": \"#888\", \"width\": 1}, \"mode\": \"lines\", \"type\": \"scatter\", \"x\": [7.75, 7.666666666666667], \"y\": [0.7692307692307693, 0.8292682926829268]}, {\"hoverinfo\": \"none\", \"line\": {\"color\": \"#888\", \"width\": 1}, \"mode\": \"lines\", \"type\": \"scatter\", \"x\": [7.75, 7.4], \"y\": [0.7692307692307693, 0.8]}, {\"hoverinfo\": \"none\", \"line\": {\"color\": \"#888\", \"width\": 1}, \"mode\": \"lines\", \"type\": \"scatter\", \"x\": [9.375, 9.083333333333334], \"y\": [0.7692307692307693, 0.8292682926829268]}, {\"hoverinfo\": \"none\", \"line\": {\"color\": \"#888\", \"width\": 5}, \"mode\": \"lines\", \"type\": \"scatter\", \"x\": [9.375, 9.2], \"y\": [0.7692307692307693, 0.8837209302325582]}, {\"hoverinfo\": \"none\", \"line\": {\"color\": \"#888\", \"width\": 2}, \"mode\": \"lines\", \"type\": \"scatter\", \"x\": [9.375, 10.0], \"y\": [0.7692307692307693, 0.8837209302325582]}, {\"hoverinfo\": \"none\", \"line\": {\"color\": \"#888\", \"width\": 2}, \"mode\": \"lines\", \"type\": \"scatter\", \"x\": [9.375, 8.6], \"y\": [0.7692307692307693, 0.8]}, {\"hoverinfo\": \"none\", \"line\": {\"color\": \"#888\", \"width\": 1}, \"mode\": \"lines\", \"type\": \"scatter\", \"x\": [9.375, 8.8], \"y\": [0.7692307692307693, 0.8]}, {\"hoverinfo\": \"none\", \"line\": {\"color\": \"#888\", \"width\": 1}, \"mode\": \"lines\", \"type\": \"scatter\", \"x\": [9.375, 9.416666666666666], \"y\": [0.7692307692307693, 0.8292682926829268]}, {\"hoverinfo\": \"none\", \"line\": {\"color\": \"#888\", \"width\": 2}, \"mode\": \"lines\", \"type\": \"scatter\", \"x\": [9.375, 8.7], \"y\": [0.7692307692307693, 0.8]}, {\"hoverinfo\": \"none\", \"line\": {\"color\": \"#888\", \"width\": 1}, \"mode\": \"lines\", \"type\": \"scatter\", \"x\": [7.111111111111111, 7.545454545454546], \"y\": [0.7179487179487181, 0.75]}, {\"hoverinfo\": \"none\", \"line\": {\"color\": \"#888\", \"width\": 1}, \"mode\": \"lines\", \"type\": \"scatter\", \"x\": [10.2, 10.0], \"y\": [0.7692307692307693, 0.8292682926829268]}, {\"hoverinfo\": \"none\", \"line\": {\"color\": \"#888\", \"width\": 1}, \"mode\": \"lines\", \"type\": \"scatter\", \"x\": [7.9, 8.583333333333334], \"y\": [0.8837209302325582, 0.9090909090909092]}, {\"hoverinfo\": \"none\", \"line\": {\"color\": \"#888\", \"width\": 1}, \"mode\": \"lines\", \"type\": \"scatter\", \"x\": [8.0, 8.307692307692308], \"y\": [0.8604651162790697, 0.9148936170212766]}, {\"hoverinfo\": \"none\", \"line\": {\"color\": \"#888\", \"width\": 4}, \"mode\": \"lines\", \"type\": \"scatter\", \"x\": [9.2, 8.666666666666666], \"y\": [0.8837209302325582, 0.9090909090909092]}, {\"hoverinfo\": \"none\", \"line\": {\"color\": \"#888\", \"width\": 2}, \"mode\": \"lines\", \"type\": \"scatter\", \"x\": [9.2, 9.285714285714286], \"y\": [0.8837209302325582, 0.9333333333333332]}, {\"hoverinfo\": \"none\", \"line\": {\"color\": \"#888\", \"width\": 1}, \"mode\": \"lines\", \"type\": \"scatter\", \"x\": [9.2, 9.25], \"y\": [0.8837209302325582, 0.9090909090909092]}, {\"hoverinfo\": \"none\", \"line\": {\"color\": \"#888\", \"width\": 1}, \"mode\": \"lines\", \"type\": \"scatter\", \"x\": [10.0, 9.285714285714286], \"y\": [0.8837209302325582, 0.9333333333333332]}, {\"hoverinfo\": \"none\", \"line\": {\"color\": \"#888\", \"width\": 1}, \"mode\": \"lines\", \"type\": \"scatter\", \"x\": [10.0, 9.666666666666666], \"y\": [0.8837209302325582, 0.9090909090909092]}, {\"hoverinfo\": \"none\", \"line\": {\"color\": \"#888\", \"width\": 1}, \"mode\": \"lines\", \"type\": \"scatter\", \"x\": [9.1, 9.214285714285714], \"y\": [0.8837209302325582, 0.9333333333333332]}, {\"hoverinfo\": \"none\", \"line\": {\"color\": \"#888\", \"width\": 1}, \"mode\": \"lines\", \"type\": \"scatter\", \"x\": [8.0, 8.666666666666666], \"y\": [0.8837209302325582, 0.9090909090909092]}, {\"hoverinfo\": \"none\", \"line\": {\"color\": \"#888\", \"width\": 3}, \"mode\": \"lines\", \"type\": \"scatter\", \"x\": [8.214285714285714, 8.727272727272727], \"y\": [0.9333333333333332, 0.9787234042553192]}, {\"hoverinfo\": \"none\", \"line\": {\"color\": \"#888\", \"width\": 1}, \"mode\": \"lines\", \"type\": \"scatter\", \"x\": [8.214285714285714, 8.11111111111111], \"y\": [0.9333333333333332, 0.9347826086956522]}, {\"hoverinfo\": \"none\", \"line\": {\"color\": \"#888\", \"width\": 2}, \"mode\": \"lines\", \"type\": \"scatter\", \"x\": [9.285714285714286, 9.090909090909092], \"y\": [0.9333333333333332, 0.9565217391304348]}, {\"hoverinfo\": \"none\", \"line\": {\"color\": \"#888\", \"width\": 2}, \"mode\": \"lines\", \"type\": \"scatter\", \"x\": [9.285714285714286, 9.333333333333334], \"y\": [0.9333333333333332, 0.9565217391304348]}, {\"hoverinfo\": \"none\", \"line\": {\"color\": \"#888\", \"width\": 1}, \"mode\": \"lines\", \"type\": \"scatter\", \"x\": [9.214285714285714, 9.3], \"y\": [0.9333333333333332, 0.9565217391304348]}, {\"hoverinfo\": \"none\", \"line\": {\"color\": \"#888\", \"width\": 1}, \"mode\": \"lines\", \"type\": \"scatter\", \"x\": [9.214285714285714, 8.9], \"y\": [0.9333333333333332, 0.9565217391304348]}, {\"hoverinfo\": \"none\", \"line\": {\"color\": \"#888\", \"width\": 1}, \"mode\": \"lines\", \"type\": \"scatter\", \"x\": [8.785714285714286, 8.6], \"y\": [0.9333333333333332, 0.9347826086956522]}, {\"hoverinfo\": \"none\", \"line\": {\"color\": \"#888\", \"width\": 1}, \"mode\": \"lines\", \"type\": \"scatter\", \"x\": [9.428571428571429, 9.3], \"y\": [0.9333333333333332, 0.9565217391304348]}, {\"hoverinfo\": \"none\", \"line\": {\"color\": \"#888\", \"width\": 1}, \"mode\": \"lines\", \"type\": \"scatter\", \"x\": [8.727272727272727, 8.4], \"y\": [0.9787234042553192, 0.979591836734694]}, {\"hoverinfo\": \"none\", \"line\": {\"color\": \"#888\", \"width\": 3}, \"mode\": \"lines\", \"type\": \"scatter\", \"x\": [8.727272727272727, 8.615384615384615], \"y\": [0.9787234042553192, 1.0]}, {\"hoverinfo\": \"none\", \"line\": {\"color\": \"#888\", \"width\": 1}, \"mode\": \"lines\", \"type\": \"scatter\", \"x\": [8.307692307692308, 8.5], \"y\": [0.9148936170212766, 0.8958333333333334]}, {\"hoverinfo\": \"none\", \"line\": {\"color\": \"#888\", \"width\": 2}, \"mode\": \"lines\", \"type\": \"scatter\", \"x\": [8.833333333333334, 8.428571428571429], \"y\": [0.9787234042553192, 0.9791666666666666]}, {\"hoverinfo\": \"none\", \"line\": {\"color\": \"#888\", \"width\": 2}, \"mode\": \"lines\", \"type\": \"scatter\", \"x\": [9.090909090909092, 8.615384615384615], \"y\": [0.9787234042553192, 1.0]}, {\"hoverinfo\": \"none\", \"line\": {\"color\": \"#888\", \"width\": 1}, \"mode\": \"lines\", \"type\": \"scatter\", \"x\": [8.75, 8.571428571428571], \"y\": [0.9574468085106383, 0.9583333333333334]}, {\"hoverinfo\": \"none\", \"line\": {\"color\": \"#888\", \"width\": 1}, \"mode\": \"lines\", \"type\": \"scatter\", \"x\": [9.1, 9.666666666666666], \"y\": [0.8297872340425533, 0.8125]}, {\"hoverinfo\": \"none\", \"line\": {\"color\": \"#888\", \"width\": 1}, \"mode\": \"lines\", \"type\": \"scatter\", \"x\": [8.1875, 7.944444444444445], \"y\": [0.8979591836734694, 0.8799999999999999]}, {\"hoverinfo\": \"none\", \"line\": {\"color\": \"#888\", \"width\": 1}, \"mode\": \"lines\", \"type\": \"scatter\", \"x\": [9.071428571428571, 8.875], \"y\": [0.816326530612245, 0.8200000000000001]}, {\"hoverinfo\": \"none\", \"line\": {\"color\": \"#888\", \"width\": 1}, \"mode\": \"lines\", \"type\": \"scatter\", \"x\": [8.5, 7.357142857142857], \"y\": [0.6739130434782609, 0.68]}, {\"hoverinfo\": \"none\", \"line\": {\"color\": \"#888\", \"width\": 2}, \"mode\": \"lines\", \"type\": \"scatter\", \"x\": [9.0, 8.833333333333334], \"y\": [0.9565217391304348, 0.9787234042553192]}, {\"hoverinfo\": \"none\", \"line\": {\"color\": \"#888\", \"width\": 2}, \"mode\": \"lines\", \"type\": \"scatter\", \"x\": [9.0, 8.571428571428571], \"y\": [0.9565217391304348, 0.9583333333333334]}, {\"hoverinfo\": \"none\", \"line\": {\"color\": \"#888\", \"width\": 2}, \"mode\": \"lines\", \"type\": \"scatter\", \"x\": [9.090909090909092, 9.090909090909092], \"y\": [0.9565217391304348, 0.9787234042553192]}, {\"hoverinfo\": \"none\", \"line\": {\"color\": \"#888\", \"width\": 2}, \"mode\": \"lines\", \"type\": \"scatter\", \"x\": [9.333333333333334, 8.727272727272727], \"y\": [0.9565217391304348, 0.9787234042553192]}, {\"hoverinfo\": \"none\", \"line\": {\"color\": \"#888\", \"width\": 1}, \"mode\": \"lines\", \"type\": \"scatter\", \"x\": [8.11111111111111, 8.363636363636363], \"y\": [0.9347826086956522, 0.9574468085106383]}, {\"hoverinfo\": \"none\", \"line\": {\"color\": \"#888\", \"width\": 2}, \"mode\": \"lines\", \"type\": \"scatter\", \"x\": [9.3, 8.75], \"y\": [0.9565217391304348, 0.9787234042553192]}, {\"hoverinfo\": \"none\", \"line\": {\"color\": \"#888\", \"width\": 1}, \"mode\": \"lines\", \"type\": \"scatter\", \"x\": [8.6, 8.75], \"y\": [0.9347826086956522, 0.9574468085106383]}, {\"hoverinfo\": \"none\", \"line\": {\"color\": \"#888\", \"width\": 1}, \"mode\": \"lines\", \"type\": \"scatter\", \"x\": [8.6, 8.833333333333334], \"y\": [0.9565217391304348, 0.9787234042553192]}, {\"hoverinfo\": \"none\", \"line\": {\"color\": \"#888\", \"width\": 1}, \"mode\": \"lines\", \"type\": \"scatter\", \"x\": [8.5, 9.1], \"y\": [0.8478260869565218, 0.8297872340425533]}, {\"hoverinfo\": \"none\", \"line\": {\"color\": \"#888\", \"width\": 1}, \"mode\": \"lines\", \"type\": \"scatter\", \"x\": [7.357142857142857, 6.5], \"y\": [0.68, 0.7058823529411765]}, {\"hoverinfo\": \"none\", \"line\": {\"color\": \"#888\", \"width\": 1}, \"mode\": \"lines\", \"type\": \"scatter\", \"x\": [7.944444444444445, 7.642857142857143], \"y\": [0.8799999999999999, 0.8627450980392156]}, {\"hoverinfo\": \"none\", \"line\": {\"color\": \"#888\", \"width\": 1}, \"mode\": \"lines\", \"type\": \"scatter\", \"x\": [8.875, 8.416666666666666], \"y\": [0.8200000000000001, 0.8039215686274509]}, {\"hoverinfo\": \"none\", \"line\": {\"color\": \"#888\", \"width\": 1}, \"mode\": \"lines\", \"type\": \"scatter\", \"x\": [6.5, 6.5], \"y\": [0.7058823529411765, 0.6923076923076924]}, {\"hoverinfo\": \"none\", \"line\": {\"color\": \"#888\", \"width\": 1}, \"mode\": \"lines\", \"type\": \"scatter\", \"x\": [7.642857142857143, 8.055555555555555], \"y\": [0.8627450980392156, 0.8301886792452831]}, {\"hoverinfo\": \"none\", \"line\": {\"color\": \"#888\", \"width\": 1}, \"mode\": \"lines\", \"type\": \"scatter\", \"x\": [8.416666666666666, 8.5], \"y\": [0.8039215686274509, 0.8076923076923077]}, {\"hoverinfo\": \"none\", \"line\": {\"color\": \"#888\", \"width\": 1}, \"mode\": \"lines\", \"type\": \"scatter\", \"x\": [6.5, 7.5], \"y\": [0.6923076923076924, 0.7407407407407408]}, {\"hoverinfo\": \"none\", \"line\": {\"color\": \"#888\", \"width\": 1}, \"mode\": \"lines\", \"type\": \"scatter\", \"x\": [8.055555555555555, 8.357142857142858], \"y\": [0.8301886792452831, 0.8148148148148148]}, {\"hoverinfo\": \"none\", \"line\": {\"color\": \"#888\", \"width\": 1}, \"mode\": \"lines\", \"type\": \"scatter\", \"x\": [8.5, 8.0], \"y\": [0.4, 0.4516129032258064]}, {\"hoverinfo\": \"none\", \"line\": {\"color\": \"#888\", \"width\": 1}, \"mode\": \"lines\", \"type\": \"scatter\", \"x\": [11.0, 9.5], \"y\": [0.4, 0.5882352941176471]}, {\"hoverinfo\": \"none\", \"line\": {\"color\": \"#888\", \"width\": 1}, \"mode\": \"lines\", \"type\": \"scatter\", \"x\": [9.0, 8.5], \"y\": [0.4, 0.5]}, {\"hoverinfo\": \"none\", \"line\": {\"color\": \"#888\", \"width\": 1}, \"mode\": \"lines\", \"type\": \"scatter\", \"x\": [8.0, 8.5], \"y\": [0.4516129032258064, 0.5]}, {\"hoverinfo\": \"none\", \"line\": {\"color\": \"#888\", \"width\": 2}, \"mode\": \"lines\", \"type\": \"scatter\", \"x\": [8.6, 8.166666666666666], \"y\": [0.8, 0.8292682926829268]}, {\"hoverinfo\": \"none\", \"line\": {\"color\": \"#888\", \"width\": 1}, \"mode\": \"lines\", \"type\": \"scatter\", \"x\": [7.545454545454546, 7.916666666666667], \"y\": [0.75, 0.7804878048780487]}, {\"hoverinfo\": \"none\", \"line\": {\"color\": \"#888\", \"width\": 1}, \"mode\": \"lines\", \"type\": \"scatter\", \"x\": [8.8, 9.0], \"y\": [0.8, 0.8571428571428571]}, {\"hoverinfo\": \"none\", \"line\": {\"color\": \"#888\", \"width\": 1}, \"mode\": \"lines\", \"type\": \"scatter\", \"x\": [7.214285714285714, 7.3], \"y\": [0.725, 0.8409090909090909]}, {\"hoverinfo\": \"none\", \"line\": {\"color\": \"#888\", \"width\": 1}, \"mode\": \"lines\", \"type\": \"scatter\", \"x\": [7.4, 7.583333333333333], \"y\": [0.8, 0.9090909090909092]}, {\"hoverinfo\": \"none\", \"line\": {\"color\": \"#888\", \"width\": 1}, \"mode\": \"lines\", \"type\": \"scatter\", \"x\": [8.5, 8.166666666666666], \"y\": [0.8, 0.8292682926829268]}, {\"hoverinfo\": \"none\", \"line\": {\"color\": \"#888\", \"width\": 1}, \"mode\": \"lines\", \"type\": \"scatter\", \"x\": [8.7, 8.5], \"y\": [0.8, 0.8292682926829268]}, {\"hoverinfo\": \"none\", \"line\": {\"color\": \"#888\", \"width\": 1}, \"mode\": \"lines\", \"type\": \"scatter\", \"x\": [8.7, 8.666666666666666], \"y\": [0.8, 0.9090909090909092]}, {\"hoverinfo\": \"none\", \"line\": {\"color\": \"#888\", \"width\": 7}, \"mode\": \"lines\", \"type\": \"scatter\", \"x\": [11.666666666666666, 10.4], \"y\": [0.6285714285714286, 0.7027027027027027]}, {\"hoverinfo\": \"none\", \"line\": {\"color\": \"#888\", \"width\": 1}, \"mode\": \"lines\", \"type\": \"scatter\", \"x\": [6.833333333333333, 7.214285714285714], \"y\": [0.5151515151515151, 0.5294117647058825]}, {\"hoverinfo\": \"none\", \"line\": {\"color\": \"#888\", \"width\": 1}, \"mode\": \"lines\", \"type\": \"scatter\", \"x\": [8.181818181818182, 8.5], \"y\": [0.5454545454545454, 0.5882352941176471]}, {\"hoverinfo\": \"none\", \"line\": {\"color\": \"#888\", \"width\": 1}, \"mode\": \"lines\", \"type\": \"scatter\", \"x\": [5.5, 6.5], \"y\": [0.15384615384615385, 0.2857142857142857]}, {\"hoverinfo\": \"text\", \"marker\": {\"color\": [0, 0, 0, 0, 0, 0, 0, 0, 0, 0, 0, 0, 0, 0, 0, 0, 0, 0, 0, 0, 0, 0, 0, 0, 0, 0, 0, 0, 0, 0, 0, 0, 0, 0, 0, 0, 0, 0, 0, 0, 0, 0, 0, 0, 0, 0, 0, 0, 0, 0, 0, 0, 1, 0, 0, 0, 0, 0, 0, 0, 0, 0, 0, 0, 0, 0, 0, 0, 0, 0, 0, 0, 0, 0, 0, 0, 0, 0, 0, 0, 0, 0, 0, 0, 0, 0, 0, 0, 0, 0, 0, 0, 0, 0, 0, 0, 0, 0, 0, 0, 0, 0, 0, 0, 0, 0, 0, 0, 0, 0, 0, 0, 0, 0, 0, 0, 0, 0, 0, 0, 0, 0, 0, 0, 0, 0, 0], \"colorscale\": [[0.0, \"rgb(255,255,217)\"], [0.125, \"rgb(237,248,177)\"], [0.25, \"rgb(199,233,180)\"], [0.375, \"rgb(127,205,187)\"], [0.5, \"rgb(65,182,196)\"], [0.625, \"rgb(29,145,192)\"], [0.75, \"rgb(34,94,168)\"], [0.875, \"rgb(37,52,148)\"], [1.0, \"rgb(8,29,88)\"]], \"line\": {\"width\": 2}, \"reversescale\": true, \"showscale\": true, \"size\": [26.801758872564367, 8.0, 20.0, 21.83772647454919, 12.0, 8.0, 8.0, 8.0, 8.0, 24.99171005377434, 8.0, 12.0, 8.0, 8.0, 19.229419688230415, 16.0, 8.0, 12.0, 8.0, 8.0, 8.0, 8.0, 14.339850002884624, 8.0, 20.67970000576925, 8.0, 8.0, 12.0, 12.0, 8.0, 8.0, 8.0, 8.0, 8.0, 8.0, 8.0, 8.0, 12.0, 8.0, 8.0, 8.0, 8.0, 8.0, 8.0, 18.339850002884624, 8.0, 8.0, 8.0, 12.0, 8.0, 8.0, 12.0, 17.28771237954945, 14.339850002884624, 8.0, 17.28771237954945, 16.0, 21.83772647454919, 8.0, 20.0, 8.0, 8.0, 8.0, 12.0, 23.229419688230415, 8.0, 8.0, 8.0, 8.0, 8.0, 19.229419688230415, 12.0, 8.0, 8.0, 16.0, 16.0, 12.0, 8.0, 8.0, 17.28771237954945, 8.0, 14.339850002884624, 12.0, 8.0, 12.0, 8.0, 8.0, 8.0, 8.0, 8.0, 8.0, 16.0, 12.0, 12.0, 8.0, 8.0, 12.0, 8.0, 8.0, 8.0, 8.0, 8.0, 8.0, 8.0, 8.0, 8.0, 8.0, 8.0, 8.0, 8.0, 8.0, 8.0, 8.0, 8.0, 8.0, 8.0, 12.0, 8.0, 8.0, 8.0, 8.0, 8.0, 12.0, 19.229419688230415, 8.0, 8.0, 8.0]}, \"mode\": \"markers\", \"type\": \"scatter\", \"x\": [8.5, 12.5, 6.5, 10.5, 8.5, 8.5, 9.5, 5.5, 9.0, 8.5, 9.7, 6.7, 8.5, 9.0, 10.0, 8.5, 8.5, 7.0, 7.5, 6.5, 8.5, 9.0, 9.2, 7.6, 10.4, 8.7, 7.666666666666667, 9.083333333333334, 8.166666666666666, 7.916666666666667, 9.416666666666666, 10.0, 8.166666666666666, 8.5, 9.416666666666666, 6.5, 8.5, 8.5, 8.5, 9.0, 9.75, 7.714285714285714, 8.2, 8.583333333333334, 8.666666666666666, 9.25, 7.3, 7.583333333333333, 9.666666666666666, 7.153846153846154, 8.5, 8.428571428571429, 8.615384615384615, 8.571428571428571, 9.666666666666666, 8.5, 7.5, 9.5, 7.214285714285714, 8.5, 8.5, 7.0, 9.25, 7.75, 9.375, 7.111111111111111, 10.2, 7.9, 8.4, 8.0, 9.2, 10.0, 9.1, 8.0, 8.214285714285714, 9.285714285714286, 9.214285714285714, 8.785714285714286, 9.428571428571429, 8.727272727272727, 8.307692307692308, 8.833333333333334, 9.090909090909092, 8.363636363636363, 8.75, 8.75, 9.1, 8.4, 8.1875, 9.071428571428571, 8.5, 9.0, 9.090909090909092, 9.333333333333334, 8.11111111111111, 9.777777777777779, 9.3, 8.6, 8.6, 8.5, 8.9, 7.357142857142857, 7.944444444444445, 8.875, 6.5, 7.642857142857143, 8.416666666666666, 6.5, 8.5, 7.5, 8.357142857142858, 8.055555555555555, 8.5, 11.0, 9.0, 8.0, 8.6, 7.545454545454546, 8.8, 7.214285714285714, 7.4, 8.5, 8.7, 11.666666666666666, 6.833333333333333, 8.181818181818182, 5.5], \"y\": [0, 0.14285714285714285, 0.2857142857142857, 0.2857142857142857, 0.2857142857142857, 0.2857142857142857, 0.2857142857142857, 0.2857142857142857, 0.375, 0.5, 0.4375000000000001, 0.5, 0.5, 0.5555555555555556, 0.6666666666666666, 0.6666666666666666, 0.5555555555555556, 0.6666666666666666, 0.6111111111111109, 0.5833333333333334, 0.6666666666666666, 0.5945945945945945, 0.7027027027027027, 0.6486486486486487, 0.7027027027027027, 0.7317073170731708, 0.8292682926829268, 0.8292682926829268, 0.8292682926829268, 0.7804878048780487, 0.8292682926829268, 0.8292682926829268, 0.8292682926829268, 0.8292682926829268, 0.7142857142857143, 0.6428571428571429, 0.8333333333333333, 0.8571428571428571, 0.8095238095238096, 0.8571428571428571, 0.8571428571428571, 0.8333333333333333, 0.75, 0.9090909090909092, 0.9090909090909092, 0.9090909090909092, 0.8409090909090909, 0.9090909090909092, 0.9090909090909092, 0.75, 0.8958333333333334, 0.9791666666666666, 1.0, 0.9583333333333334, 0.8125, 0.5882352941176471, 0.5882352941176471, 0.5882352941176471, 0.5294117647058825, 0.7368421052631579, 0.631578947368421, 0.6842105263157894, 0.7368421052631579, 0.7692307692307693, 0.7692307692307693, 0.7179487179487181, 0.7692307692307693, 0.8837209302325582, 0.8837209302325582, 0.8604651162790697, 0.8837209302325582, 0.8837209302325582, 0.8837209302325582, 0.8837209302325582, 0.9333333333333332, 0.9333333333333332, 0.9333333333333332, 0.9333333333333332, 0.9333333333333332, 0.9787234042553192, 0.9148936170212766, 0.9787234042553192, 0.9787234042553192, 0.9574468085106383, 0.9787234042553192, 0.9574468085106383, 0.8297872340425533, 0.979591836734694, 0.8979591836734694, 0.816326530612245, 0.6739130434782609, 0.9565217391304348, 0.9565217391304348, 0.9565217391304348, 0.9347826086956522, 0.8695652173913043, 0.9565217391304348, 0.9347826086956522, 0.9565217391304348, 0.8478260869565218, 0.9565217391304348, 0.68, 0.8799999999999999, 0.8200000000000001, 0.7058823529411765, 0.8627450980392156, 0.8039215686274509, 0.6923076923076924, 0.8076923076923077, 0.7407407407407408, 0.8148148148148148, 0.8301886792452831, 0.4, 0.4, 0.4, 0.4516129032258064, 0.8, 0.75, 0.8, 0.725, 0.8, 0.8, 0.8, 0.6285714285714286, 0.5151515151515151, 0.5454545454545454, 0.15384615384615385]}],\n",
       "                        {\"annotations\": [{\"showarrow\": false, \"text\": \"\", \"x\": 0.005, \"xref\": \"paper\", \"y\": -0.002, \"yref\": \"paper\"}], \"height\": 800, \"hovermode\": \"closest\", \"margin\": {\"b\": 20, \"l\": 5, \"r\": 5, \"t\": 40}, \"showlegend\": false, \"template\": {\"data\": {\"bar\": [{\"error_x\": {\"color\": \"#2a3f5f\"}, \"error_y\": {\"color\": \"#2a3f5f\"}, \"marker\": {\"line\": {\"color\": \"#E5ECF6\", \"width\": 0.5}}, \"type\": \"bar\"}], \"barpolar\": [{\"marker\": {\"line\": {\"color\": \"#E5ECF6\", \"width\": 0.5}}, \"type\": \"barpolar\"}], \"carpet\": [{\"aaxis\": {\"endlinecolor\": \"#2a3f5f\", \"gridcolor\": \"white\", \"linecolor\": \"white\", \"minorgridcolor\": \"white\", \"startlinecolor\": \"#2a3f5f\"}, \"baxis\": {\"endlinecolor\": \"#2a3f5f\", \"gridcolor\": \"white\", \"linecolor\": \"white\", \"minorgridcolor\": \"white\", \"startlinecolor\": \"#2a3f5f\"}, \"type\": \"carpet\"}], \"choropleth\": [{\"colorbar\": {\"outlinewidth\": 0, \"ticks\": \"\"}, \"type\": \"choropleth\"}], \"contour\": [{\"colorbar\": {\"outlinewidth\": 0, \"ticks\": \"\"}, \"colorscale\": [[0.0, \"#0d0887\"], [0.1111111111111111, \"#46039f\"], [0.2222222222222222, \"#7201a8\"], [0.3333333333333333, \"#9c179e\"], [0.4444444444444444, \"#bd3786\"], [0.5555555555555556, \"#d8576b\"], [0.6666666666666666, \"#ed7953\"], [0.7777777777777778, \"#fb9f3a\"], [0.8888888888888888, \"#fdca26\"], [1.0, \"#f0f921\"]], \"type\": \"contour\"}], \"contourcarpet\": [{\"colorbar\": {\"outlinewidth\": 0, \"ticks\": \"\"}, \"type\": \"contourcarpet\"}], \"heatmap\": [{\"colorbar\": {\"outlinewidth\": 0, \"ticks\": \"\"}, \"colorscale\": [[0.0, \"#0d0887\"], [0.1111111111111111, \"#46039f\"], [0.2222222222222222, \"#7201a8\"], [0.3333333333333333, \"#9c179e\"], [0.4444444444444444, \"#bd3786\"], [0.5555555555555556, \"#d8576b\"], [0.6666666666666666, \"#ed7953\"], [0.7777777777777778, \"#fb9f3a\"], [0.8888888888888888, \"#fdca26\"], [1.0, \"#f0f921\"]], \"type\": \"heatmap\"}], \"heatmapgl\": [{\"colorbar\": {\"outlinewidth\": 0, \"ticks\": \"\"}, \"colorscale\": [[0.0, \"#0d0887\"], [0.1111111111111111, \"#46039f\"], [0.2222222222222222, \"#7201a8\"], [0.3333333333333333, \"#9c179e\"], [0.4444444444444444, \"#bd3786\"], [0.5555555555555556, \"#d8576b\"], [0.6666666666666666, \"#ed7953\"], [0.7777777777777778, \"#fb9f3a\"], [0.8888888888888888, \"#fdca26\"], [1.0, \"#f0f921\"]], \"type\": \"heatmapgl\"}], \"histogram\": [{\"marker\": {\"colorbar\": {\"outlinewidth\": 0, \"ticks\": \"\"}}, \"type\": \"histogram\"}], \"histogram2d\": [{\"colorbar\": {\"outlinewidth\": 0, \"ticks\": \"\"}, \"colorscale\": [[0.0, \"#0d0887\"], [0.1111111111111111, \"#46039f\"], [0.2222222222222222, \"#7201a8\"], [0.3333333333333333, \"#9c179e\"], [0.4444444444444444, \"#bd3786\"], [0.5555555555555556, \"#d8576b\"], [0.6666666666666666, \"#ed7953\"], [0.7777777777777778, \"#fb9f3a\"], [0.8888888888888888, \"#fdca26\"], [1.0, \"#f0f921\"]], \"type\": \"histogram2d\"}], \"histogram2dcontour\": [{\"colorbar\": {\"outlinewidth\": 0, \"ticks\": \"\"}, \"colorscale\": [[0.0, \"#0d0887\"], [0.1111111111111111, \"#46039f\"], [0.2222222222222222, \"#7201a8\"], [0.3333333333333333, \"#9c179e\"], [0.4444444444444444, \"#bd3786\"], [0.5555555555555556, \"#d8576b\"], [0.6666666666666666, \"#ed7953\"], [0.7777777777777778, \"#fb9f3a\"], [0.8888888888888888, \"#fdca26\"], [1.0, \"#f0f921\"]], \"type\": \"histogram2dcontour\"}], \"mesh3d\": [{\"colorbar\": {\"outlinewidth\": 0, \"ticks\": \"\"}, \"type\": \"mesh3d\"}], \"parcoords\": [{\"line\": {\"colorbar\": {\"outlinewidth\": 0, \"ticks\": \"\"}}, \"type\": \"parcoords\"}], \"pie\": [{\"automargin\": true, \"type\": \"pie\"}], \"scatter\": [{\"marker\": {\"colorbar\": {\"outlinewidth\": 0, \"ticks\": \"\"}}, \"type\": \"scatter\"}], \"scatter3d\": [{\"line\": {\"colorbar\": {\"outlinewidth\": 0, \"ticks\": \"\"}}, \"marker\": {\"colorbar\": {\"outlinewidth\": 0, \"ticks\": \"\"}}, \"type\": \"scatter3d\"}], \"scattercarpet\": [{\"marker\": {\"colorbar\": {\"outlinewidth\": 0, \"ticks\": \"\"}}, \"type\": \"scattercarpet\"}], \"scattergeo\": [{\"marker\": {\"colorbar\": {\"outlinewidth\": 0, \"ticks\": \"\"}}, \"type\": \"scattergeo\"}], \"scattergl\": [{\"marker\": {\"colorbar\": {\"outlinewidth\": 0, \"ticks\": \"\"}}, \"type\": \"scattergl\"}], \"scattermapbox\": [{\"marker\": {\"colorbar\": {\"outlinewidth\": 0, \"ticks\": \"\"}}, \"type\": \"scattermapbox\"}], \"scatterpolar\": [{\"marker\": {\"colorbar\": {\"outlinewidth\": 0, \"ticks\": \"\"}}, \"type\": \"scatterpolar\"}], \"scatterpolargl\": [{\"marker\": {\"colorbar\": {\"outlinewidth\": 0, \"ticks\": \"\"}}, \"type\": \"scatterpolargl\"}], \"scatterternary\": [{\"marker\": {\"colorbar\": {\"outlinewidth\": 0, \"ticks\": \"\"}}, \"type\": \"scatterternary\"}], \"surface\": [{\"colorbar\": {\"outlinewidth\": 0, \"ticks\": \"\"}, \"colorscale\": [[0.0, \"#0d0887\"], [0.1111111111111111, \"#46039f\"], [0.2222222222222222, \"#7201a8\"], [0.3333333333333333, \"#9c179e\"], [0.4444444444444444, \"#bd3786\"], [0.5555555555555556, \"#d8576b\"], [0.6666666666666666, \"#ed7953\"], [0.7777777777777778, \"#fb9f3a\"], [0.8888888888888888, \"#fdca26\"], [1.0, \"#f0f921\"]], \"type\": \"surface\"}], \"table\": [{\"cells\": {\"fill\": {\"color\": \"#EBF0F8\"}, \"line\": {\"color\": \"white\"}}, \"header\": {\"fill\": {\"color\": \"#C8D4E3\"}, \"line\": {\"color\": \"white\"}}, \"type\": \"table\"}]}, \"layout\": {\"annotationdefaults\": {\"arrowcolor\": \"#2a3f5f\", \"arrowhead\": 0, \"arrowwidth\": 1}, \"coloraxis\": {\"colorbar\": {\"outlinewidth\": 0, \"ticks\": \"\"}}, \"colorscale\": {\"diverging\": [[0, \"#8e0152\"], [0.1, \"#c51b7d\"], [0.2, \"#de77ae\"], [0.3, \"#f1b6da\"], [0.4, \"#fde0ef\"], [0.5, \"#f7f7f7\"], [0.6, \"#e6f5d0\"], [0.7, \"#b8e186\"], [0.8, \"#7fbc41\"], [0.9, \"#4d9221\"], [1, \"#276419\"]], \"sequential\": [[0.0, \"#0d0887\"], [0.1111111111111111, \"#46039f\"], [0.2222222222222222, \"#7201a8\"], [0.3333333333333333, \"#9c179e\"], [0.4444444444444444, \"#bd3786\"], [0.5555555555555556, \"#d8576b\"], [0.6666666666666666, \"#ed7953\"], [0.7777777777777778, \"#fb9f3a\"], [0.8888888888888888, \"#fdca26\"], [1.0, \"#f0f921\"]], \"sequentialminus\": [[0.0, \"#0d0887\"], [0.1111111111111111, \"#46039f\"], [0.2222222222222222, \"#7201a8\"], [0.3333333333333333, \"#9c179e\"], [0.4444444444444444, \"#bd3786\"], [0.5555555555555556, \"#d8576b\"], [0.6666666666666666, \"#ed7953\"], [0.7777777777777778, \"#fb9f3a\"], [0.8888888888888888, \"#fdca26\"], [1.0, \"#f0f921\"]]}, \"colorway\": [\"#636efa\", \"#EF553B\", \"#00cc96\", \"#ab63fa\", \"#FFA15A\", \"#19d3f3\", \"#FF6692\", \"#B6E880\", \"#FF97FF\", \"#FECB52\"], \"font\": {\"color\": \"#2a3f5f\"}, \"geo\": {\"bgcolor\": \"white\", \"lakecolor\": \"white\", \"landcolor\": \"#E5ECF6\", \"showlakes\": true, \"showland\": true, \"subunitcolor\": \"white\"}, \"hoverlabel\": {\"align\": \"left\"}, \"hovermode\": \"closest\", \"mapbox\": {\"style\": \"light\"}, \"paper_bgcolor\": \"white\", \"plot_bgcolor\": \"#E5ECF6\", \"polar\": {\"angularaxis\": {\"gridcolor\": \"white\", \"linecolor\": \"white\", \"ticks\": \"\"}, \"bgcolor\": \"#E5ECF6\", \"radialaxis\": {\"gridcolor\": \"white\", \"linecolor\": \"white\", \"ticks\": \"\"}}, \"scene\": {\"xaxis\": {\"backgroundcolor\": \"#E5ECF6\", \"gridcolor\": \"white\", \"gridwidth\": 2, \"linecolor\": \"white\", \"showbackground\": true, \"ticks\": \"\", \"zerolinecolor\": \"white\"}, \"yaxis\": {\"backgroundcolor\": \"#E5ECF6\", \"gridcolor\": \"white\", \"gridwidth\": 2, \"linecolor\": \"white\", \"showbackground\": true, \"ticks\": \"\", \"zerolinecolor\": \"white\"}, \"zaxis\": {\"backgroundcolor\": \"#E5ECF6\", \"gridcolor\": \"white\", \"gridwidth\": 2, \"linecolor\": \"white\", \"showbackground\": true, \"ticks\": \"\", \"zerolinecolor\": \"white\"}}, \"shapedefaults\": {\"line\": {\"color\": \"#2a3f5f\"}}, \"ternary\": {\"aaxis\": {\"gridcolor\": \"white\", \"linecolor\": \"white\", \"ticks\": \"\"}, \"baxis\": {\"gridcolor\": \"white\", \"linecolor\": \"white\", \"ticks\": \"\"}, \"bgcolor\": \"#E5ECF6\", \"caxis\": {\"gridcolor\": \"white\", \"linecolor\": \"white\", \"ticks\": \"\"}}, \"title\": {\"x\": 0.05}, \"xaxis\": {\"automargin\": true, \"gridcolor\": \"white\", \"linecolor\": \"white\", \"ticks\": \"\", \"title\": {\"standoff\": 15}, \"zerolinecolor\": \"white\", \"zerolinewidth\": 2}, \"yaxis\": {\"automargin\": true, \"gridcolor\": \"white\", \"linecolor\": \"white\", \"ticks\": \"\", \"title\": {\"standoff\": 15}, \"zerolinecolor\": \"white\", \"zerolinewidth\": 2}}}, \"title\": {\"font\": {\"size\": 16}, \"text\": \"<br>World states for hand_selected_009, repetition 3, by number of squares\"}, \"width\": 800},\n",
       "                        {\"responsive\": true}\n",
       "                    ).then(function(){\n",
       "                            \n",
       "var gd = document.getElementById('94d1d238-8f28-4013-acdc-37aa1b77608f');\n",
       "var x = new MutationObserver(function (mutations, observer) {{\n",
       "        var display = window.getComputedStyle(gd).display;\n",
       "        if (!display || display === 'none') {{\n",
       "            console.log([gd, 'removed!']);\n",
       "            Plotly.purge(gd);\n",
       "            observer.disconnect();\n",
       "        }}\n",
       "}});\n",
       "\n",
       "// Listen for the removal of the full notebook cells\n",
       "var notebookContainer = gd.closest('#notebook-container');\n",
       "if (notebookContainer) {{\n",
       "    x.observe(notebookContainer, {childList: true});\n",
       "}}\n",
       "\n",
       "// Listen for the clearing of the current output cell\n",
       "var outputEl = gd.closest('.output');\n",
       "if (outputEl) {{\n",
       "    x.observe(outputEl, {childList: true});\n",
       "}}\n",
       "\n",
       "                        })\n",
       "                };\n",
       "                });\n",
       "            </script>\n",
       "        </div>"
      ]
     },
     "metadata": {},
     "output_type": "display_data"
    },
    {
     "data": {
      "image/png": "[encoded data removed]",
      "text/plain": [
       "<Figure size 432x288 with 1 Axes>"
      ]
     },
     "metadata": {},
     "output_type": "display_data"
    }
   ],
   "source": [
    "target = targets[4]\n",
    "fig, ax = plt.subplots()\n",
    "ax.axis('off')\n",
    "ax.imshow(np.rot90(target_maps[target]))\n",
    "plot_trajectory_graph(target_name=target, rep = 0)\n",
    "#plot_trajectory_graph(target_name=target, rep = 1)\n",
    "#plot_trajectory_graph(target_name=target, rep = 2)\n",
    "plot_trajectory_graph(target_name=target, rep = 3)"
   ]
  },
  {
   "cell_type": "code",
   "execution_count": 232,
   "metadata": {},
   "outputs": [],
   "source": [
    "class F1Node:\n",
    "    '''\n",
    "    Represents a world state (as defined by discrete bitmap representation of blocks present, \n",
    "        as opposed to individual block dimensions and locations).\n",
    "    Each Node can have multiple children.\n",
    "    '''\n",
    "    \n",
    "    def __init__(self, discrete_world, f1_score):\n",
    "        self.out_edges = [] #list of edges (child, ppt, rep)\n",
    "        self.discrete_world = discrete_world \n",
    "        self.world_str = convert_to_str(discrete_world)\n",
    "        #self.world_size = np.sum(flat_world) #shouldn't be needed in this\n",
    "        self.f1_score = f1_score\n",
    "        self.visits = 1\n",
    "        self.curr_pos = 0\n",
    "        \n",
    "        #self.y = np.round(self.f1_score*2, decimals=1)/2\n",
    "        self.y = self.f1_score\n",
    "        \n",
    "        #self.x = np.sum(discrete_world)\n",
    "        \n",
    "        self.x = ndimage.measurements.center_of_mass(discrete_world)[0]\n",
    "        \n",
    "        if np.isnan(self.x):\n",
    "            self.x = 8.5\n",
    "        \n",
    "    def __str__(self):\n",
    "        return('Node of size ' + str(self.visits))\n",
    "    \n",
    "    def __repr__(self):\n",
    "        return('Node of size ' + str(self.visits))\n",
    "\n",
    "    #def get_ppts(self):\n",
    "        #self.out_edges.m\n",
    "        \n",
    "    def add_child(self, node, ppt, rep, block_num):\n",
    "        self.out_edges.append(F1Edge(self, node, ppt, rep, block_num))\n",
    "    \n",
    "    def visit(self):\n",
    "        self.visits +=1"
   ]
  },
  {
   "cell_type": "code",
   "execution_count": 233,
   "metadata": {},
   "outputs": [],
   "source": [
    "class F1Edge:\n",
    "    '''\n",
    "    Edges contain child nodes, as well as the (ppt, repetition) pair that \n",
    "        uniquely defines a building path in the experiment (for one structure)\n",
    "    '''\n",
    "    def __init__(self, source, target, ppt, rep, block_num):\n",
    "        self.source = source\n",
    "        self.target = target\n",
    "        self.ppt = ppt\n",
    "        self.rep = rep\n",
    "        self.block_num = block_num\n",
    "        \n",
    "    def __str__(self):\n",
    "        return('Block ' + str(self.block_num) + ', ppt: ' + self.ppt + ', rep: ' + str(self.rep))\n",
    "    \n",
    "    def __repr__(self):\n",
    "        return('Block ' + str(self.block_num) + ', ppt: ' + self.ppt + ', rep: ' + str(self.rep))\n"
   ]
  },
  {
   "cell_type": "code",
   "execution_count": 276,
   "metadata": {},
   "outputs": [],
   "source": [
    "class F1Bin:\n",
    "    '''\n",
    "    In previous iterations of graph this was used to group nodes by y-axis.\n",
    "    Now here to allow faster access to nodes \n",
    "    '''\n",
    "    def __init__(self, lower_bound):\n",
    "        self.lower_bound = lower_bound\n",
    "        self.nodes = {}\n",
    "        self.ordered_nodes = []\n",
    "        \n",
    "    def __str__(self):\n",
    "        return(str(len(self.nodes)) + ' nodes in layer')\n",
    "    \n",
    "    def __repr__(self):\n",
    "        return(str(len(self.nodes)) + ' nodes in layer')\n",
    "    \n",
    "    def get_world_node(self, discrete_world, f1_score):\n",
    "        '''\n",
    "        add world state into layer\n",
    "        if already exists, then returns the existing node.\n",
    "        otherwise, creates new node and returns it\n",
    "        \n",
    "        '''\n",
    "        world_str = convert_to_str(discrete_world)\n",
    "        if world_str in self.nodes:\n",
    "            existing_node = self.nodes[world_str]\n",
    "            \n",
    "            existing_node.visit()\n",
    "            \n",
    "            #update order of nodes if needed\n",
    "            i = self.ordered_nodes.index(existing_node)\n",
    "            while (i > 0) & (existing_node.visits > self.ordered_nodes[i-1].visits):\n",
    "                #swap elements\n",
    "                i-=1\n",
    "                self.ordered_nodes[i],self.ordered_nodes[i+1] = self.ordered_nodes[i+1], self.ordered_nodes[i]\n",
    "                self.ordered_nodes[i+1].curr_pos=i+1\n",
    "                #print(str([node.curr_pos for node in self.ordered_nodes]))\n",
    "                \n",
    "            \n",
    "            existing_node.curr_pos = i\n",
    "            #assert existing_node.f1_score == f1_score #f1 check\n",
    "            return existing_node\n",
    "        \n",
    "        else:\n",
    "            new_node = F1Node(discrete_world, f1_score)\n",
    "            self.nodes[world_str] = new_node\n",
    "            self.ordered_nodes.append(new_node) #add to end as currently only visited once\n",
    "            new_node.curr_pos = len(self.ordered_nodes)-1\n",
    "            return new_node\n"
   ]
  },
  {
   "cell_type": "code",
   "execution_count": 277,
   "metadata": {},
   "outputs": [],
   "source": [
    "class F1BuildGraph:\n",
    "    def __init__(self, n_bins, target_name='no_target_name_given'):\n",
    "        self.target_name = target_name\n",
    "        self.bins = {} #dict.fromkeys(range(0, 80, 2))\n",
    "        self.lower_bounds = np.linspace(0,1,n_bins)\n",
    "        \n",
    "        for lower_bound in self.lower_bounds:\n",
    "            self.bins[lower_bound] = F1Bin(lower_bound)  # layers to arrange world state\n",
    "        \n",
    "        self.root = self.bins[0].get_world_node(np.zeros((18,13)).astype(int), 0) # start with one node with empty world\n",
    "        self.prev_node = self.root\n",
    "        \n",
    "        \n",
    "    def __str__(self):\n",
    "        return('Tree for ' + self.target_name + ': \\n' + str(self.root) + '\\nLayers: ' + str(self.bins))\n",
    "    \n",
    "    def add_block_placement(self, row):\n",
    "        #r :discrete_world, discrete_world_str, ppt, rep, block_num\n",
    "        \n",
    "        # calculate correct f1 bin\n",
    "        f1_score = row.rawF1DiscreteScore\n",
    "        i = 0\n",
    "        while self.lower_bounds[i] < f1_score:\n",
    "            i+=1\n",
    "       \n",
    "        lower_bound = self.lower_bounds[i]\n",
    "        \n",
    "        f1_bin = self.bins[lower_bound]\n",
    "        \n",
    "        # get node for this world state (if exists)\n",
    "        node = f1_bin.get_world_node(row.discreteWorld, row.rawF1DiscreteScore)\n",
    "        \n",
    "        # link previous nodes to current node\n",
    "        self.prev_node.add_child(node, row.gameID , row.repetition, row.blockNum)\n",
    "        self.prev_node = node\n",
    "        \n",
    "    def reset_prev_node(self):\n",
    "        '''\n",
    "        Reset pointer to previous node\n",
    "        '''\n",
    "        self.prev_node = self.root\n",
    "        \n",
    "        #print(discrete_world, discrete_world_str, ppt, rep)\n",
    "        \n",
    "    def add_build_path(self, df):\n",
    "        '''\n",
    "        adds series of block placements from dataframe (for one build sequence) to the tree\n",
    "        '''\n",
    "        self.root.visit()\n",
    "        \n",
    "        df.apply(lambda row: self.add_block_placement(row), axis=1)\n",
    "#         df.apply(lambda r: self.add_block_placement(r.flatDiscreteWorld,\n",
    "#                                         r.flatDiscreteWorldStr,\n",
    "#                                         r.gameID,\n",
    "#                                         r.repetition,\n",
    "#                                         r.blockNum), axis=1)\n",
    "        self.reset_prev_node()\n",
    "        \n",
    "    def get_coords(self):\n",
    "        node_xs = []\n",
    "        node_ys = []\n",
    "        edge_xs = []\n",
    "        edge_ys = []\n",
    "        node_sizes = []\n",
    "        \n",
    "        for i, (k1, layer) in enumerate(self.bins.items()):\n",
    "            for j, (k2, node) in enumerate(layer.nodes.items()):\n",
    "                #n_x = (j+1)/(len(layer.nodes)+1) #12 should be max width\n",
    "                n_y = node.y\n",
    "                n_x = node.curr_pos\n",
    "                n_size = node.visits\n",
    "                #node.y = n_y\n",
    "                node_xs.append(n_x)\n",
    "                node_ys.append(n_y)\n",
    "                node_sizes.append(n_size)\n",
    "        \n",
    "        for i, (k1, layer) in enumerate(self.bins.items()):\n",
    "            for j, (k2, node) in enumerate(layer.nodes.items()):\n",
    "                parent_x = node.curr_pos\n",
    "                parent_y = node.y\n",
    "                for _, e in enumerate(node.out_edges):\n",
    "                    child_y = e.target.y\n",
    "                    child_x = e.target.curr_pos\n",
    "                    edge_xs.append(parent_x)\n",
    "                    edge_xs.append(child_x)\n",
    "                    edge_xs.append(None)\n",
    "                    edge_ys.append(parent_y)\n",
    "                    edge_ys.append(child_y)\n",
    "                    edge_ys.append(None)\n",
    "                \n",
    "        return (node_xs, node_ys, edge_xs, edge_ys, node_sizes)"
   ]
  },
  {
   "cell_type": "code",
   "execution_count": 278,
   "metadata": {},
   "outputs": [],
   "source": [
    "def plot_f1_trajectory_graph(target_name, rep, bins=9):\n",
    "\n",
    "    # Create graph\n",
    "    t = F1BuildGraph(bins) # make new tree\n",
    "\n",
    "    a = dfic[(dfic.targetName==target) & (dfic.repetition==rep)]\n",
    "    a = a.groupby('gameID')\n",
    "    a.apply(lambda g: t.add_build_path(g))\n",
    "    \n",
    "    \n",
    "    # create node paths\n",
    "    node_xs, node_ys, edge_xs, edge_ys, node_sizes  = t.get_coords()\n",
    "\n",
    "    edge_trace = go.Scatter(\n",
    "        x=edge_xs, y=edge_ys,\n",
    "        line=dict(width=0.5, color='#888'),\n",
    "        hoverinfo='none',\n",
    "        mode='lines')\n",
    "\n",
    "    node_trace = go.Scatter(\n",
    "        x=node_xs, y=node_ys,\n",
    "        mode='markers',\n",
    "        hoverinfo='text',\n",
    "        marker=dict(\n",
    "            showscale=True,\n",
    "            # colorscale options\n",
    "            #'Greys' | 'YlGnBu' | 'Greens' | 'YlOrRd' | 'Bluered' | 'RdBu' |\n",
    "            #'Reds' | 'Blues' | 'Picnic' | 'Rainbow' | 'Portland' | 'Jet' |\n",
    "            #'Hot' | 'Blackbody' | 'Earth' | 'Electric' | 'Viridis' |\n",
    "            colorscale='YlGnBu',\n",
    "            reversescale=True,\n",
    "            size = [np.log2(s*4)*3 for s in node_sizes],\n",
    "            color = node_sizes,\n",
    "    #         colorbar=dict(\n",
    "    #             thickness=15,\n",
    "    #             title='Node Connections',\n",
    "    #             xanchor='left',\n",
    "    #             titleside='right'\n",
    "    #         ),\n",
    "            line_width=2))\n",
    "    \n",
    "    \n",
    "    # draw fig\n",
    "    fig = go.Figure(data=[edge_trace, node_trace],\n",
    "             layout=go.Layout(\n",
    "                title='<br>World states for ' + str(target) +', repetition '+ str(rep) +', by number of squares',\n",
    "                titlefont_size=16,\n",
    "                showlegend=False,\n",
    "                hovermode='closest',\n",
    "                margin=dict(b=20,l=5,r=5,t=40),\n",
    "                annotations=[ dict(\n",
    "                    text=\"\",\n",
    "                    showarrow=False,\n",
    "                    xref=\"paper\", yref=\"paper\",\n",
    "                    x=0.005, y=-0.002 ) ])\n",
    "                #xaxis=dict(showgrid=False, zeroline=False, showticklabels=False))\n",
    "                #yaxis=dict(showgrid=False, zeroline=False, showticklabels=False))\n",
    "                )\n",
    "\n",
    "    fig.update_layout(\n",
    "        width=600,\n",
    "        height=600\n",
    "    )\n",
    "\n",
    "    fig.show()\n"
   ]
  },
  {
   "cell_type": "code",
   "execution_count": 279,
   "metadata": {
    "scrolled": false
   },
   "outputs": [
    {
     "data": {
      "application/vnd.plotly.v1+json": {
       "config": {
        "plotlyServerURL": "https://plot.ly"
       },
       "data": [
        {
         "hoverinfo": "none",
         "line": {
          "color": "#888",
          "width": 0.5
         },
         "mode": "lines",
         "type": "scatter",
         "x": [
          0,
          1,
          null,
          0,
          0,
          null,
          0,
          1,
          null,
          0,
          0,
          null,
          0,
          5,
          null,
          0,
          0,
          null,
          0,
          0,
          null,
          0,
          0,
          null,
          0,
          0,
          null,
          0,
          0,
          null,
          0,
          9,
          null,
          0,
          0,
          null,
          0,
          0,
          null,
          0,
          10,
          null,
          0,
          0,
          null,
          0,
          1,
          null,
          0,
          0,
          null,
          0,
          4,
          null,
          0,
          0,
          null,
          0,
          0,
          null,
          0,
          0,
          null,
          0,
          0,
          null,
          1,
          2,
          null,
          2,
          3,
          null,
          3,
          4,
          null,
          1,
          7,
          null,
          1,
          12,
          null,
          0,
          2,
          null,
          0,
          2,
          null,
          2,
          7,
          null,
          2,
          19,
          null,
          4,
          2,
          null,
          4,
          5,
          null,
          5,
          6,
          null,
          6,
          3,
          null,
          7,
          3,
          null,
          3,
          1,
          null,
          3,
          1,
          null,
          0,
          1,
          null,
          0,
          1,
          null,
          0,
          11,
          null,
          0,
          1,
          null,
          1,
          6,
          null,
          1,
          8,
          null,
          1,
          13,
          null,
          8,
          0,
          null,
          9,
          2,
          null,
          2,
          14,
          null,
          2,
          15,
          null,
          10,
          2,
          null,
          11,
          10,
          null,
          12,
          3,
          null,
          0,
          3,
          null,
          0,
          4,
          null,
          0,
          2,
          null,
          0,
          0,
          null,
          0,
          0,
          null,
          0,
          0,
          null,
          0,
          0,
          null,
          0,
          2,
          null,
          0,
          31,
          null,
          1,
          0,
          null,
          1,
          12,
          null,
          4,
          6,
          null,
          5,
          2,
          null,
          6,
          1,
          null,
          2,
          1,
          null,
          2,
          1,
          null,
          7,
          8,
          null,
          8,
          9,
          null,
          9,
          13,
          null,
          10,
          11,
          null,
          11,
          16,
          null,
          12,
          17,
          null,
          13,
          14,
          null,
          14,
          23,
          null,
          3,
          4,
          null,
          4,
          5,
          null,
          5,
          0,
          null,
          6,
          7,
          null,
          7,
          0,
          null,
          2,
          8,
          null,
          2,
          16,
          null,
          8,
          9,
          null,
          9,
          6,
          null,
          1,
          10,
          null,
          1,
          9,
          null,
          1,
          22,
          null,
          10,
          11,
          null,
          11,
          7,
          null,
          0,
          10,
          null,
          0,
          12,
          null,
          0,
          2,
          null,
          0,
          18,
          null,
          0,
          2,
          null,
          12,
          13,
          null,
          13,
          17,
          null,
          14,
          18,
          null,
          15,
          20,
          null,
          17,
          23,
          null,
          18,
          24,
          null,
          19,
          20,
          null,
          20,
          21,
          null,
          21,
          25,
          null,
          22,
          29,
          null,
          23,
          30,
          null,
          0,
          5,
          null,
          0,
          2,
          null,
          5,
          3,
          null,
          3,
          0,
          null,
          3,
          0,
          null,
          6,
          3,
          null,
          7,
          8,
          null,
          8,
          4,
          null,
          9,
          5,
          null,
          10,
          11,
          null,
          11,
          12,
          null,
          12,
          9,
          null,
          13,
          1,
          null,
          1,
          14,
          null,
          1,
          14,
          null,
          14,
          15,
          null,
          15,
          12,
          null,
          2,
          1,
          null,
          2,
          27,
          null,
          16,
          16,
          null,
          17,
          17,
          null,
          18,
          19,
          null,
          19,
          20,
          null,
          20,
          21,
          null,
          21,
          22,
          null,
          22,
          13,
          null,
          23,
          22,
          null,
          24,
          25,
          null,
          25,
          26,
          null,
          26,
          24,
          null,
          27,
          28,
          null,
          28,
          26,
          null,
          29,
          4,
          null,
          4,
          3,
          null,
          30,
          4,
          null,
          31,
          32,
          null,
          32,
          33,
          null,
          33,
          27,
          null,
          0,
          1,
          null,
          1,
          2,
          null,
          2,
          5,
          null,
          5,
          6,
          null,
          6,
          7,
          null,
          7,
          8,
          null,
          8,
          7,
          null,
          9,
          10,
          null,
          10,
          11,
          null,
          12,
          13,
          null,
          14,
          9,
          null,
          15,
          10,
          null,
          16,
          11,
          null,
          17,
          18,
          null,
          18,
          19,
          null,
          20,
          21,
          null,
          22,
          23,
          null,
          23,
          15,
          null,
          25,
          18,
          null,
          26,
          19,
          null,
          27,
          28,
          null,
          2,
          3,
          null,
          3,
          0,
          null,
          0,
          1,
          null,
          0,
          1,
          null,
          1,
          1,
          null,
          1,
          9,
          null,
          5,
          6,
          null,
          6,
          3,
          null,
          7,
          8,
          null,
          8,
          4,
          null,
          9,
          15,
          null,
          10,
          5,
          null,
          11,
          12,
          null,
          13,
          14,
          null,
          15,
          16,
          null,
          16,
          8,
          null,
          19,
          20,
          null,
          20,
          21,
          null,
          0,
          4,
          null,
          1,
          2,
          null,
          5,
          6,
          null,
          6,
          7,
          null,
          8,
          17,
          null,
          9,
          10,
          null,
          10,
          11,
          null
         ],
         "y": [
          0,
          0,
          null,
          0,
          0.3076923076923077,
          null,
          0,
          0.08695652173913045,
          null,
          0,
          0.3076923076923077,
          null,
          0,
          0.3076923076923077,
          null,
          0,
          0.16666666666666669,
          null,
          0,
          0.3076923076923077,
          null,
          0,
          0.16666666666666669,
          null,
          0,
          0.3076923076923077,
          null,
          0,
          0.3076923076923077,
          null,
          0,
          0.15384615384615385,
          null,
          0,
          0.08695652173913045,
          null,
          0,
          0.08695652173913045,
          null,
          0,
          0.16666666666666669,
          null,
          0,
          0.16666666666666669,
          null,
          0,
          0.08695652173913045,
          null,
          0,
          0.3076923076923077,
          null,
          0,
          0.043478260869565216,
          null,
          0,
          0.3076923076923077,
          null,
          0,
          0.3076923076923077,
          null,
          0,
          0.16666666666666669,
          null,
          0,
          0.3076923076923077,
          null,
          0,
          0,
          null,
          0,
          0.06896551724137931,
          null,
          0.06896551724137931,
          0.13333333333333333,
          null,
          0.08695652173913045,
          0.16666666666666669,
          null,
          0.08695652173913045,
          0.16666666666666669,
          null,
          0.08695652173913045,
          0.125,
          null,
          0.08695652173913045,
          0.24,
          null,
          0.125,
          0.2692307692307692,
          null,
          0.125,
          0.3928571428571429,
          null,
          0.043478260869565216,
          0.125,
          null,
          0.13333333333333333,
          0.12500000000000006,
          null,
          0.12500000000000006,
          0.1818181818181818,
          null,
          0.1818181818181818,
          0.27027027027027023,
          null,
          0.16666666666666669,
          0.24,
          null,
          0.24,
          0.3076923076923077,
          null,
          0.24,
          0.3076923076923077,
          null,
          0.16666666666666669,
          0.24,
          null,
          0.16666666666666669,
          0.24,
          null,
          0.16666666666666669,
          0.24,
          null,
          0.16666666666666669,
          0.24,
          null,
          0.24,
          0.3703703703703704,
          null,
          0.24,
          0.23076923076923075,
          null,
          0.24,
          0.3076923076923077,
          null,
          0.23076923076923075,
          0.4,
          null,
          0.15384615384615385,
          0.4,
          null,
          0.24,
          0.4137931034482759,
          null,
          0.24,
          0.4827586206896552,
          null,
          0.16666666666666669,
          0.24,
          null,
          0.24,
          0.3076923076923077,
          null,
          0.16666666666666669,
          0.24,
          null,
          0.3076923076923077,
          0.42857142857142855,
          null,
          0.3076923076923077,
          0.3703703703703704,
          null,
          0.3076923076923077,
          0.3703703703703704,
          null,
          0.3076923076923077,
          0.4,
          null,
          0.3076923076923077,
          0.4,
          null,
          0.3076923076923077,
          0.4,
          null,
          0.3076923076923077,
          0.4,
          null,
          0.3076923076923077,
          0.3703703703703704,
          null,
          0.3076923076923077,
          0.5333333333333333,
          null,
          0.3076923076923077,
          0.5333333333333333,
          null,
          0.3076923076923077,
          0.3703703703703704,
          null,
          0.3703703703703704,
          0.42857142857142855,
          null,
          0.3076923076923077,
          0.4,
          null,
          0.3703703703703704,
          0.42857142857142855,
          null,
          0.3703703703703704,
          0.42857142857142855,
          null,
          0.3703703703703704,
          0.42857142857142855,
          null,
          0.2692307692307692,
          0.25925925925925924,
          null,
          0.25925925925925924,
          0.3548387096774194,
          null,
          0.3548387096774194,
          0.4857142857142857,
          null,
          0.3076923076923077,
          0.3703703703703704,
          null,
          0.3703703703703704,
          0.42857142857142855,
          null,
          0.3703703703703704,
          0.42857142857142855,
          null,
          0.3076923076923077,
          0.3703703703703704,
          null,
          0.3703703703703704,
          0.42857142857142855,
          null,
          0.42857142857142855,
          0.4482758620689656,
          null,
          0.4482758620689656,
          0.5,
          null,
          0.5,
          0.6764705882352942,
          null,
          0.42857142857142855,
          0.4827586206896552,
          null,
          0.4827586206896552,
          0.5333333333333333,
          null,
          0.4,
          0.46875,
          null,
          0.4,
          0.5882352941176471,
          null,
          0.46875,
          0.4848484848484849,
          null,
          0.4848484848484849,
          0.5945945945945945,
          null,
          0.42857142857142855,
          0.4827586206896552,
          null,
          0.42857142857142855,
          0.625,
          null,
          0.42857142857142855,
          0.4827586206896552,
          null,
          0.4827586206896552,
          0.5,
          null,
          0.5,
          0.5161290322580644,
          null,
          0.4,
          0.5294117647058824,
          null,
          0.4,
          0.4516129032258064,
          null,
          0.4,
          0.5000000000000001,
          null,
          0.4,
          0.4705882352941177,
          null,
          0.4,
          0.5000000000000001,
          null,
          0.4516129032258064,
          0.5000000000000001,
          null,
          0.4857142857142857,
          0.5897435897435898,
          null,
          0.4137931034482759,
          0.5454545454545455,
          null,
          0.4827586206896552,
          0.5333333333333333,
          null,
          0.42857142857142855,
          0.625,
          null,
          0.4705882352941177,
          0.5142857142857142,
          null,
          0.3928571428571429,
          0.4482758620689656,
          null,
          0.4482758620689656,
          0.5,
          null,
          0.5,
          0.6764705882352942,
          null,
          0.4827586206896552,
          0.5333333333333333,
          null,
          0.42857142857142855,
          0.5333333333333333,
          null,
          0.5333333333333333,
          0.5806451612903226,
          null,
          0.5333333333333333,
          0.7058823529411764,
          null,
          0.5806451612903226,
          0.625,
          null,
          0.625,
          0.7777777777777778,
          null,
          0.625,
          0.7777777777777778,
          null,
          0.5945945945945945,
          0.6666666666666667,
          null,
          0.5161290322580644,
          0.5625000000000001,
          null,
          0.5625000000000001,
          0.7222222222222223,
          null,
          0.625,
          0.6666666666666666,
          null,
          0.5294117647058824,
          0.5714285714285714,
          null,
          0.5714285714285714,
          0.6111111111111112,
          null,
          0.6111111111111112,
          0.6486486486486486,
          null,
          0.5000000000000001,
          0.5454545454545455,
          null,
          0.5454545454545455,
          0.5588235294117647,
          null,
          0.5454545454545455,
          0.7027027027027029,
          null,
          0.5588235294117647,
          0.5714285714285714,
          null,
          0.5714285714285714,
          0.7179487179487181,
          null,
          0.5000000000000001,
          0.5454545454545455,
          null,
          0.5000000000000001,
          0.5588235294117647,
          null,
          0.5882352941176471,
          0.7368421052631579,
          null,
          0.5897435897435898,
          0.6744186046511628,
          null,
          0.5454545454545455,
          0.5882352941176471,
          null,
          0.5882352941176471,
          0.7368421052631579,
          null,
          0.5333333333333333,
          0.5806451612903226,
          null,
          0.5806451612903226,
          0.625,
          null,
          0.625,
          0.7777777777777778,
          null,
          0.625,
          0.6666666666666666,
          null,
          0.5142857142857142,
          0.5277777777777777,
          null,
          0.5277777777777777,
          0.6052631578947368,
          null,
          0.6052631578947368,
          0.641025641025641,
          null,
          0.5588235294117647,
          0.6000000000000001,
          null,
          0.6000000000000001,
          0.6923076923076923,
          null,
          0.5333333333333333,
          0.5806451612903226,
          null,
          0.5806451612903226,
          0.625,
          null,
          0.5333333333333333,
          0.5806451612903226,
          null,
          0.5333333333333333,
          0.5806451612903226,
          null,
          0.5806451612903226,
          0.59375,
          null,
          0.59375,
          0.6764705882352942,
          null,
          0.6764705882352942,
          0.7142857142857143,
          null,
          0.7142857142857143,
          0.8461538461538459,
          null,
          0.7058823529411764,
          0.8421052631578948,
          null,
          0.6666666666666666,
          0.7058823529411764,
          null,
          0.7058823529411764,
          0.7428571428571429,
          null,
          0.7428571428571429,
          0.75,
          null,
          0.75,
          0.8157894736842106,
          null,
          0.6486486486486486,
          0.6842105263157896,
          null,
          0.6842105263157896,
          0.7179487179487181,
          null,
          0.7179487179487181,
          0.7441860465116279,
          null,
          0.7027027027027029,
          0.7692307692307693,
          null,
          0.7499999999999999,
          0.8636363636363636,
          null,
          0.7368421052631579,
          0.7692307692307693,
          null,
          0.6744186046511628,
          0.7446808510638298,
          null,
          0.7446808510638298,
          0.6862745098039215,
          null,
          0.7368421052631579,
          0.7499999999999999,
          null,
          0.6666666666666666,
          0.7058823529411764,
          null,
          0.7058823529411764,
          0.8421052631578948,
          null,
          0.6764705882352942,
          0.8157894736842106,
          null,
          0.6923076923076923,
          0.8139534883720929,
          null,
          0.6764705882352942,
          0.6571428571428571,
          null,
          0.8461538461538459,
          0.875,
          null,
          0.875,
          0.8780487804878049,
          null,
          0.7777777777777778,
          0.8421052631578948,
          null,
          0.7777777777777778,
          0.8421052631578948,
          null,
          0.8421052631578948,
          0.9523809523809524,
          null,
          0.8421052631578948,
          0.9,
          null,
          0.8421052631578948,
          0.8717948717948718,
          null,
          0.8717948717948718,
          0.9,
          null,
          0.8157894736842106,
          0.8461538461538459,
          null,
          0.8461538461538459,
          0.9069767441860463,
          null,
          0.7692307692307693,
          0.7499999999999999,
          null,
          0.8636363636363636,
          0.9130434782608696,
          null,
          0.7692307692307693,
          0.8292682926829269,
          null,
          0.7777777777777778,
          0.8108108108108109,
          null,
          0.8421052631578948,
          0.8717948717948718,
          null,
          0.8717948717948718,
          0.9,
          null,
          0.8139534883720929,
          0.8666666666666666,
          null,
          0.8666666666666666,
          0.8478260869565218,
          null,
          0.8780487804878049,
          0.8571428571428572,
          null,
          0.9523809523809524,
          1,
          null,
          0.9130434782608696,
          0.8936170212765958,
          null,
          0.8936170212765958,
          0.8958333333333334,
          null,
          0.9,
          0.8181818181818182,
          null,
          0.9,
          0.9523809523809524,
          null,
          0.9523809523809524,
          0.9545454545454546,
          null
         ]
        },
        {
         "hoverinfo": "text",
         "marker": {
          "color": [
           23,
           1,
           1,
           1,
           2,
           2,
           2,
           1,
           1,
           1,
           1,
           1,
           2,
           4,
           3,
           1,
           1,
           2,
           1,
           1,
           1,
           1,
           9,
           2,
           1,
           1,
           1,
           2,
           1,
           1,
           1,
           1,
           1,
           1,
           1,
           1,
           1,
           1,
           1,
           1,
           1,
           2,
           1,
           1,
           3,
           1,
           1,
           5,
           1,
           1,
           1,
           1,
           1,
           1,
           1,
           1,
           1,
           1,
           1,
           1,
           2,
           1,
           2,
           1,
           1,
           1,
           1,
           1,
           1,
           1,
           1,
           2,
           1,
           1,
           2,
           1,
           1,
           1,
           1,
           1,
           1,
           1,
           1,
           1,
           1,
           1,
           1,
           1,
           1,
           2,
           1,
           1,
           1,
           1,
           1,
           1,
           1,
           1,
           1,
           1,
           1,
           1,
           1,
           1,
           1,
           1,
           1,
           1,
           1,
           1,
           1,
           1,
           1,
           1,
           1,
           1,
           1,
           1,
           1,
           1,
           1,
           1,
           1,
           1,
           1,
           1,
           2,
           2,
           1,
           1,
           1,
           1,
           1,
           1,
           1,
           1,
           1,
           1,
           1,
           1,
           1,
           1,
           1,
           1,
           1,
           1,
           1,
           1,
           1,
           1,
           1,
           1,
           1,
           1,
           1,
           1,
           1
          ],
          "colorscale": [
           [
            0,
            "rgb(255,255,217)"
           ],
           [
            0.125,
            "rgb(237,248,177)"
           ],
           [
            0.25,
            "rgb(199,233,180)"
           ],
           [
            0.375,
            "rgb(127,205,187)"
           ],
           [
            0.5,
            "rgb(65,182,196)"
           ],
           [
            0.625,
            "rgb(29,145,192)"
           ],
           [
            0.75,
            "rgb(34,94,168)"
           ],
           [
            0.875,
            "rgb(37,52,148)"
           ],
           [
            1,
            "rgb(8,29,88)"
           ]
          ],
          "line": {
           "width": 2
          },
          "reversescale": true,
          "showscale": true,
          "size": [
           19.57068586817104,
           6,
           6,
           6,
           9,
           9,
           9,
           6,
           6,
           6,
           6,
           6,
           9,
           12,
           10.754887502163468,
           6,
           6,
           9,
           6,
           6,
           6,
           6,
           15.509775004326936,
           9,
           6,
           6,
           6,
           9,
           6,
           6,
           6,
           6,
           6,
           6,
           6,
           6,
           6,
           6,
           6,
           6,
           6,
           9,
           6,
           6,
           10.754887502163468,
           6,
           6,
           12.965784284662089,
           6,
           6,
           6,
           6,
           6,
           6,
           6,
           6,
           6,
           6,
           6,
           6,
           9,
           6,
           9,
           6,
           6,
           6,
           6,
           6,
           6,
           6,
           6,
           9,
           6,
           6,
           9,
           6,
           6,
           6,
           6,
           6,
           6,
           6,
           6,
           6,
           6,
           6,
           6,
           6,
           6,
           9,
           6,
           6,
           6,
           6,
           6,
           6,
           6,
           6,
           6,
           6,
           6,
           6,
           6,
           6,
           6,
           6,
           6,
           6,
           6,
           6,
           6,
           6,
           6,
           6,
           6,
           6,
           6,
           6,
           6,
           6,
           6,
           6,
           6,
           6,
           6,
           6,
           9,
           9,
           6,
           6,
           6,
           6,
           6,
           6,
           6,
           6,
           6,
           6,
           6,
           6,
           6,
           6,
           6,
           6,
           6,
           6,
           6,
           6,
           6,
           6,
           6,
           6,
           6,
           6,
           6,
           6,
           6
          ]
         },
         "mode": "markers",
         "type": "scatter",
         "x": [
          0,
          1,
          2,
          3,
          1,
          0,
          2,
          4,
          4,
          5,
          6,
          7,
          3,
          0,
          1,
          8,
          9,
          2,
          10,
          11,
          12,
          3,
          0,
          1,
          4,
          5,
          6,
          2,
          7,
          8,
          9,
          10,
          11,
          12,
          13,
          14,
          3,
          4,
          5,
          6,
          7,
          2,
          8,
          9,
          1,
          10,
          11,
          0,
          12,
          13,
          14,
          15,
          16,
          17,
          18,
          19,
          20,
          21,
          22,
          23,
          0,
          5,
          3,
          6,
          7,
          8,
          9,
          10,
          11,
          12,
          13,
          1,
          14,
          15,
          2,
          16,
          17,
          18,
          19,
          20,
          21,
          22,
          23,
          24,
          25,
          26,
          27,
          28,
          29,
          4,
          30,
          31,
          32,
          33,
          0,
          1,
          2,
          3,
          4,
          5,
          6,
          7,
          8,
          9,
          10,
          11,
          12,
          13,
          14,
          15,
          16,
          17,
          18,
          19,
          20,
          21,
          22,
          23,
          24,
          25,
          26,
          27,
          28,
          2,
          3,
          4,
          0,
          1,
          5,
          6,
          7,
          8,
          9,
          10,
          11,
          12,
          13,
          14,
          15,
          16,
          17,
          18,
          19,
          20,
          21,
          0,
          1,
          2,
          3,
          4,
          5,
          6,
          7,
          8,
          9,
          10,
          11
         ],
         "y": [
          0,
          0,
          0,
          0.06896551724137931,
          0.08695652173913045,
          0.08695652173913045,
          0.125,
          0.043478260869565216,
          0.13333333333333333,
          0.12500000000000006,
          0.1818181818181818,
          0.16666666666666669,
          0.24,
          0.16666666666666669,
          0.24,
          0.23076923076923075,
          0.15384615384615385,
          0.24,
          0.16666666666666669,
          0.24,
          0.16666666666666669,
          0.27027027027027023,
          0.3076923076923077,
          0.3076923076923077,
          0.3703703703703704,
          0.3076923076923077,
          0.3703703703703704,
          0.3703703703703704,
          0.2692307692307692,
          0.25925925925925924,
          0.3548387096774194,
          0.3076923076923077,
          0.3703703703703704,
          0.3703703703703704,
          0.3076923076923077,
          0.3703703703703704,
          0.42857142857142855,
          0.4482758620689656,
          0.5,
          0.42857142857142855,
          0.4827586206896552,
          0.4,
          0.46875,
          0.4848484848484849,
          0.42857142857142855,
          0.4827586206896552,
          0.5,
          0.4,
          0.4516129032258064,
          0.4857142857142857,
          0.4137931034482759,
          0.4827586206896552,
          0.42857142857142855,
          0.42857142857142855,
          0.4705882352941177,
          0.3928571428571429,
          0.4482758620689656,
          0.5,
          0.4827586206896552,
          0.42857142857142855,
          0.5333333333333333,
          0.5806451612903226,
          0.625,
          0.5945945945945945,
          0.5161290322580644,
          0.5625000000000001,
          0.625,
          0.5294117647058824,
          0.5714285714285714,
          0.6111111111111112,
          0.5000000000000001,
          0.5454545454545455,
          0.5588235294117647,
          0.5714285714285714,
          0.5000000000000001,
          0.5882352941176471,
          0.5897435897435898,
          0.5454545454545455,
          0.5882352941176471,
          0.5333333333333333,
          0.5806451612903226,
          0.625,
          0.625,
          0.5142857142857142,
          0.5277777777777777,
          0.6052631578947368,
          0.5588235294117647,
          0.6000000000000001,
          0.5333333333333333,
          0.5806451612903226,
          0.5333333333333333,
          0.5333333333333333,
          0.5806451612903226,
          0.59375,
          0.6764705882352942,
          0.7142857142857143,
          0.7058823529411764,
          0.6666666666666667,
          0.7222222222222223,
          0.6666666666666666,
          0.7058823529411764,
          0.7428571428571429,
          0.75,
          0.6486486486486486,
          0.6842105263157896,
          0.7179487179487181,
          0.7179487179487181,
          0.7441860465116279,
          0.7027027027027029,
          0.7499999999999999,
          0.7368421052631579,
          0.6744186046511628,
          0.7446808510638298,
          0.6862745098039215,
          0.7368421052631579,
          0.7499999999999999,
          0.6666666666666666,
          0.7058823529411764,
          0.641025641025641,
          0.6764705882352942,
          0.6923076923076923,
          0.6764705882352942,
          0.6571428571428571,
          0.8461538461538459,
          0.875,
          0.8571428571428572,
          0.7777777777777778,
          0.8421052631578948,
          0.8421052631578948,
          0.8717948717948718,
          0.8157894736842106,
          0.8461538461538459,
          0.7692307692307693,
          0.8636363636363636,
          0.7692307692307693,
          0.8292682926829269,
          0.7777777777777778,
          0.8108108108108109,
          0.8421052631578948,
          0.8717948717948718,
          0.8181818181818182,
          0.8157894736842106,
          0.8139534883720929,
          0.8666666666666666,
          0.8478260869565218,
          0.8780487804878049,
          0.9523809523809524,
          1,
          0.9,
          0.9069767441860463,
          0.9130434782608696,
          0.8936170212765958,
          0.8958333333333334,
          0.9,
          0.9,
          0.9523809523809524,
          0.9545454545454546
         ]
        }
       ],
       "layout": {
        "annotations": [
         {
          "showarrow": false,
          "text": "",
          "x": 0.005,
          "xref": "paper",
          "y": -0.002,
          "yref": "paper"
         }
        ],
        "height": 600,
        "hovermode": "closest",
        "margin": {
         "b": 20,
         "l": 5,
         "r": 5,
         "t": 40
        },
        "showlegend": false,
        "template": {
         "data": {
          "bar": [
           {
            "error_x": {
             "color": "#2a3f5f"
            },
            "error_y": {
             "color": "#2a3f5f"
            },
            "marker": {
             "line": {
              "color": "#E5ECF6",
              "width": 0.5
             }
            },
            "type": "bar"
           }
          ],
          "barpolar": [
           {
            "marker": {
             "line": {
              "color": "#E5ECF6",
              "width": 0.5
             }
            },
            "type": "barpolar"
           }
          ],
          "carpet": [
           {
            "aaxis": {
             "endlinecolor": "#2a3f5f",
             "gridcolor": "white",
             "linecolor": "white",
             "minorgridcolor": "white",
             "startlinecolor": "#2a3f5f"
            },
            "baxis": {
             "endlinecolor": "#2a3f5f",
             "gridcolor": "white",
             "linecolor": "white",
             "minorgridcolor": "white",
             "startlinecolor": "#2a3f5f"
            },
            "type": "carpet"
           }
          ],
          "choropleth": [
           {
            "colorbar": {
             "outlinewidth": 0,
             "ticks": ""
            },
            "type": "choropleth"
           }
          ],
          "contour": [
           {
            "colorbar": {
             "outlinewidth": 0,
             "ticks": ""
            },
            "colorscale": [
             [
              0,
              "#0d0887"
             ],
             [
              0.1111111111111111,
              "#46039f"
             ],
             [
              0.2222222222222222,
              "#7201a8"
             ],
             [
              0.3333333333333333,
              "#9c179e"
             ],
             [
              0.4444444444444444,
              "#bd3786"
             ],
             [
              0.5555555555555556,
              "#d8576b"
             ],
             [
              0.6666666666666666,
              "#ed7953"
             ],
             [
              0.7777777777777778,
              "#fb9f3a"
             ],
             [
              0.8888888888888888,
              "#fdca26"
             ],
             [
              1,
              "#f0f921"
             ]
            ],
            "type": "contour"
           }
          ],
          "contourcarpet": [
           {
            "colorbar": {
             "outlinewidth": 0,
             "ticks": ""
            },
            "type": "contourcarpet"
           }
          ],
          "heatmap": [
           {
            "colorbar": {
             "outlinewidth": 0,
             "ticks": ""
            },
            "colorscale": [
             [
              0,
              "#0d0887"
             ],
             [
              0.1111111111111111,
              "#46039f"
             ],
             [
              0.2222222222222222,
              "#7201a8"
             ],
             [
              0.3333333333333333,
              "#9c179e"
             ],
             [
              0.4444444444444444,
              "#bd3786"
             ],
             [
              0.5555555555555556,
              "#d8576b"
             ],
             [
              0.6666666666666666,
              "#ed7953"
             ],
             [
              0.7777777777777778,
              "#fb9f3a"
             ],
             [
              0.8888888888888888,
              "#fdca26"
             ],
             [
              1,
              "#f0f921"
             ]
            ],
            "type": "heatmap"
           }
          ],
          "heatmapgl": [
           {
            "colorbar": {
             "outlinewidth": 0,
             "ticks": ""
            },
            "colorscale": [
             [
              0,
              "#0d0887"
             ],
             [
              0.1111111111111111,
              "#46039f"
             ],
             [
              0.2222222222222222,
              "#7201a8"
             ],
             [
              0.3333333333333333,
              "#9c179e"
             ],
             [
              0.4444444444444444,
              "#bd3786"
             ],
             [
              0.5555555555555556,
              "#d8576b"
             ],
             [
              0.6666666666666666,
              "#ed7953"
             ],
             [
              0.7777777777777778,
              "#fb9f3a"
             ],
             [
              0.8888888888888888,
              "#fdca26"
             ],
             [
              1,
              "#f0f921"
             ]
            ],
            "type": "heatmapgl"
           }
          ],
          "histogram": [
           {
            "marker": {
             "colorbar": {
              "outlinewidth": 0,
              "ticks": ""
             }
            },
            "type": "histogram"
           }
          ],
          "histogram2d": [
           {
            "colorbar": {
             "outlinewidth": 0,
             "ticks": ""
            },
            "colorscale": [
             [
              0,
              "#0d0887"
             ],
             [
              0.1111111111111111,
              "#46039f"
             ],
             [
              0.2222222222222222,
              "#7201a8"
             ],
             [
              0.3333333333333333,
              "#9c179e"
             ],
             [
              0.4444444444444444,
              "#bd3786"
             ],
             [
              0.5555555555555556,
              "#d8576b"
             ],
             [
              0.6666666666666666,
              "#ed7953"
             ],
             [
              0.7777777777777778,
              "#fb9f3a"
             ],
             [
              0.8888888888888888,
              "#fdca26"
             ],
             [
              1,
              "#f0f921"
             ]
            ],
            "type": "histogram2d"
           }
          ],
          "histogram2dcontour": [
           {
            "colorbar": {
             "outlinewidth": 0,
             "ticks": ""
            },
            "colorscale": [
             [
              0,
              "#0d0887"
             ],
             [
              0.1111111111111111,
              "#46039f"
             ],
             [
              0.2222222222222222,
              "#7201a8"
             ],
             [
              0.3333333333333333,
              "#9c179e"
             ],
             [
              0.4444444444444444,
              "#bd3786"
             ],
             [
              0.5555555555555556,
              "#d8576b"
             ],
             [
              0.6666666666666666,
              "#ed7953"
             ],
             [
              0.7777777777777778,
              "#fb9f3a"
             ],
             [
              0.8888888888888888,
              "#fdca26"
             ],
             [
              1,
              "#f0f921"
             ]
            ],
            "type": "histogram2dcontour"
           }
          ],
          "mesh3d": [
           {
            "colorbar": {
             "outlinewidth": 0,
             "ticks": ""
            },
            "type": "mesh3d"
           }
          ],
          "parcoords": [
           {
            "line": {
             "colorbar": {
              "outlinewidth": 0,
              "ticks": ""
             }
            },
            "type": "parcoords"
           }
          ],
          "pie": [
           {
            "automargin": true,
            "type": "pie"
           }
          ],
          "scatter": [
           {
            "marker": {
             "colorbar": {
              "outlinewidth": 0,
              "ticks": ""
             }
            },
            "type": "scatter"
           }
          ],
          "scatter3d": [
           {
            "line": {
             "colorbar": {
              "outlinewidth": 0,
              "ticks": ""
             }
            },
            "marker": {
             "colorbar": {
              "outlinewidth": 0,
              "ticks": ""
             }
            },
            "type": "scatter3d"
           }
          ],
          "scattercarpet": [
           {
            "marker": {
             "colorbar": {
              "outlinewidth": 0,
              "ticks": ""
             }
            },
            "type": "scattercarpet"
           }
          ],
          "scattergeo": [
           {
            "marker": {
             "colorbar": {
              "outlinewidth": 0,
              "ticks": ""
             }
            },
            "type": "scattergeo"
           }
          ],
          "scattergl": [
           {
            "marker": {
             "colorbar": {
              "outlinewidth": 0,
              "ticks": ""
             }
            },
            "type": "scattergl"
           }
          ],
          "scattermapbox": [
           {
            "marker": {
             "colorbar": {
              "outlinewidth": 0,
              "ticks": ""
             }
            },
            "type": "scattermapbox"
           }
          ],
          "scatterpolar": [
           {
            "marker": {
             "colorbar": {
              "outlinewidth": 0,
              "ticks": ""
             }
            },
            "type": "scatterpolar"
           }
          ],
          "scatterpolargl": [
           {
            "marker": {
             "colorbar": {
              "outlinewidth": 0,
              "ticks": ""
             }
            },
            "type": "scatterpolargl"
           }
          ],
          "scatterternary": [
           {
            "marker": {
             "colorbar": {
              "outlinewidth": 0,
              "ticks": ""
             }
            },
            "type": "scatterternary"
           }
          ],
          "surface": [
           {
            "colorbar": {
             "outlinewidth": 0,
             "ticks": ""
            },
            "colorscale": [
             [
              0,
              "#0d0887"
             ],
             [
              0.1111111111111111,
              "#46039f"
             ],
             [
              0.2222222222222222,
              "#7201a8"
             ],
             [
              0.3333333333333333,
              "#9c179e"
             ],
             [
              0.4444444444444444,
              "#bd3786"
             ],
             [
              0.5555555555555556,
              "#d8576b"
             ],
             [
              0.6666666666666666,
              "#ed7953"
             ],
             [
              0.7777777777777778,
              "#fb9f3a"
             ],
             [
              0.8888888888888888,
              "#fdca26"
             ],
             [
              1,
              "#f0f921"
             ]
            ],
            "type": "surface"
           }
          ],
          "table": [
           {
            "cells": {
             "fill": {
              "color": "#EBF0F8"
             },
             "line": {
              "color": "white"
             }
            },
            "header": {
             "fill": {
              "color": "#C8D4E3"
             },
             "line": {
              "color": "white"
             }
            },
            "type": "table"
           }
          ]
         },
         "layout": {
          "annotationdefaults": {
           "arrowcolor": "#2a3f5f",
           "arrowhead": 0,
           "arrowwidth": 1
          },
          "coloraxis": {
           "colorbar": {
            "outlinewidth": 0,
            "ticks": ""
           }
          },
          "colorscale": {
           "diverging": [
            [
             0,
             "#8e0152"
            ],
            [
             0.1,
             "#c51b7d"
            ],
            [
             0.2,
             "#de77ae"
            ],
            [
             0.3,
             "#f1b6da"
            ],
            [
             0.4,
             "#fde0ef"
            ],
            [
             0.5,
             "#f7f7f7"
            ],
            [
             0.6,
             "#e6f5d0"
            ],
            [
             0.7,
             "#b8e186"
            ],
            [
             0.8,
             "#7fbc41"
            ],
            [
             0.9,
             "#4d9221"
            ],
            [
             1,
             "#276419"
            ]
           ],
           "sequential": [
            [
             0,
             "#0d0887"
            ],
            [
             0.1111111111111111,
             "#46039f"
            ],
            [
             0.2222222222222222,
             "#7201a8"
            ],
            [
             0.3333333333333333,
             "#9c179e"
            ],
            [
             0.4444444444444444,
             "#bd3786"
            ],
            [
             0.5555555555555556,
             "#d8576b"
            ],
            [
             0.6666666666666666,
             "#ed7953"
            ],
            [
             0.7777777777777778,
             "#fb9f3a"
            ],
            [
             0.8888888888888888,
             "#fdca26"
            ],
            [
             1,
             "#f0f921"
            ]
           ],
           "sequentialminus": [
            [
             0,
             "#0d0887"
            ],
            [
             0.1111111111111111,
             "#46039f"
            ],
            [
             0.2222222222222222,
             "#7201a8"
            ],
            [
             0.3333333333333333,
             "#9c179e"
            ],
            [
             0.4444444444444444,
             "#bd3786"
            ],
            [
             0.5555555555555556,
             "#d8576b"
            ],
            [
             0.6666666666666666,
             "#ed7953"
            ],
            [
             0.7777777777777778,
             "#fb9f3a"
            ],
            [
             0.8888888888888888,
             "#fdca26"
            ],
            [
             1,
             "#f0f921"
            ]
           ]
          },
          "colorway": [
           "#636efa",
           "#EF553B",
           "#00cc96",
           "#ab63fa",
           "#FFA15A",
           "#19d3f3",
           "#FF6692",
           "#B6E880",
           "#FF97FF",
           "#FECB52"
          ],
          "font": {
           "color": "#2a3f5f"
          },
          "geo": {
           "bgcolor": "white",
           "lakecolor": "white",
           "landcolor": "#E5ECF6",
           "showlakes": true,
           "showland": true,
           "subunitcolor": "white"
          },
          "hoverlabel": {
           "align": "left"
          },
          "hovermode": "closest",
          "mapbox": {
           "style": "light"
          },
          "paper_bgcolor": "white",
          "plot_bgcolor": "#E5ECF6",
          "polar": {
           "angularaxis": {
            "gridcolor": "white",
            "linecolor": "white",
            "ticks": ""
           },
           "bgcolor": "#E5ECF6",
           "radialaxis": {
            "gridcolor": "white",
            "linecolor": "white",
            "ticks": ""
           }
          },
          "scene": {
           "xaxis": {
            "backgroundcolor": "#E5ECF6",
            "gridcolor": "white",
            "gridwidth": 2,
            "linecolor": "white",
            "showbackground": true,
            "ticks": "",
            "zerolinecolor": "white"
           },
           "yaxis": {
            "backgroundcolor": "#E5ECF6",
            "gridcolor": "white",
            "gridwidth": 2,
            "linecolor": "white",
            "showbackground": true,
            "ticks": "",
            "zerolinecolor": "white"
           },
           "zaxis": {
            "backgroundcolor": "#E5ECF6",
            "gridcolor": "white",
            "gridwidth": 2,
            "linecolor": "white",
            "showbackground": true,
            "ticks": "",
            "zerolinecolor": "white"
           }
          },
          "shapedefaults": {
           "line": {
            "color": "#2a3f5f"
           }
          },
          "ternary": {
           "aaxis": {
            "gridcolor": "white",
            "linecolor": "white",
            "ticks": ""
           },
           "baxis": {
            "gridcolor": "white",
            "linecolor": "white",
            "ticks": ""
           },
           "bgcolor": "#E5ECF6",
           "caxis": {
            "gridcolor": "white",
            "linecolor": "white",
            "ticks": ""
           }
          },
          "title": {
           "x": 0.05
          },
          "xaxis": {
           "automargin": true,
           "gridcolor": "white",
           "linecolor": "white",
           "ticks": "",
           "title": {
            "standoff": 15
           },
           "zerolinecolor": "white",
           "zerolinewidth": 2
          },
          "yaxis": {
           "automargin": true,
           "gridcolor": "white",
           "linecolor": "white",
           "ticks": "",
           "title": {
            "standoff": 15
           },
           "zerolinecolor": "white",
           "zerolinewidth": 2
          }
         }
        },
        "title": {
         "font": {
          "size": 16
         },
         "text": "<br>World states for hand_selected_016, repetition 0, by number of squares"
        },
        "width": 600
       }
      },
      "text/html": [
       "<div>\n",
       "        \n",
       "        \n",
       "            <div id=\"4453a319-63d2-43f2-b8b4-1e18bc06a4ec\" class=\"plotly-graph-div\" style=\"height:600px; width:600px;\"></div>\n",
       "            <script type=\"text/javascript\">\n",
       "                require([\"plotly\"], function(Plotly) {\n",
       "                    window.PLOTLYENV=window.PLOTLYENV || {};\n",
       "                    \n",
       "                if (document.getElementById(\"4453a319-63d2-43f2-b8b4-1e18bc06a4ec\")) {\n",
       "                    Plotly.newPlot(\n",
       "                        '4453a319-63d2-43f2-b8b4-1e18bc06a4ec',\n",
       "                        [{\"hoverinfo\": \"none\", \"line\": {\"color\": \"#888\", \"width\": 0.5}, \"mode\": \"lines\", \"type\": \"scatter\", \"x\": [0, 1, null, 0, 0, null, 0, 1, null, 0, 0, null, 0, 5, null, 0, 0, null, 0, 0, null, 0, 0, null, 0, 0, null, 0, 0, null, 0, 9, null, 0, 0, null, 0, 0, null, 0, 10, null, 0, 0, null, 0, 1, null, 0, 0, null, 0, 4, null, 0, 0, null, 0, 0, null, 0, 0, null, 0, 0, null, 1, 2, null, 2, 3, null, 3, 4, null, 1, 7, null, 1, 12, null, 0, 2, null, 0, 2, null, 2, 7, null, 2, 19, null, 4, 2, null, 4, 5, null, 5, 6, null, 6, 3, null, 7, 3, null, 3, 1, null, 3, 1, null, 0, 1, null, 0, 1, null, 0, 11, null, 0, 1, null, 1, 6, null, 1, 8, null, 1, 13, null, 8, 0, null, 9, 2, null, 2, 14, null, 2, 15, null, 10, 2, null, 11, 10, null, 12, 3, null, 0, 3, null, 0, 4, null, 0, 2, null, 0, 0, null, 0, 0, null, 0, 0, null, 0, 0, null, 0, 2, null, 0, 31, null, 1, 0, null, 1, 12, null, 4, 6, null, 5, 2, null, 6, 1, null, 2, 1, null, 2, 1, null, 7, 8, null, 8, 9, null, 9, 13, null, 10, 11, null, 11, 16, null, 12, 17, null, 13, 14, null, 14, 23, null, 3, 4, null, 4, 5, null, 5, 0, null, 6, 7, null, 7, 0, null, 2, 8, null, 2, 16, null, 8, 9, null, 9, 6, null, 1, 10, null, 1, 9, null, 1, 22, null, 10, 11, null, 11, 7, null, 0, 10, null, 0, 12, null, 0, 2, null, 0, 18, null, 0, 2, null, 12, 13, null, 13, 17, null, 14, 18, null, 15, 20, null, 17, 23, null, 18, 24, null, 19, 20, null, 20, 21, null, 21, 25, null, 22, 29, null, 23, 30, null, 0, 5, null, 0, 2, null, 5, 3, null, 3, 0, null, 3, 0, null, 6, 3, null, 7, 8, null, 8, 4, null, 9, 5, null, 10, 11, null, 11, 12, null, 12, 9, null, 13, 1, null, 1, 14, null, 1, 14, null, 14, 15, null, 15, 12, null, 2, 1, null, 2, 27, null, 16, 16, null, 17, 17, null, 18, 19, null, 19, 20, null, 20, 21, null, 21, 22, null, 22, 13, null, 23, 22, null, 24, 25, null, 25, 26, null, 26, 24, null, 27, 28, null, 28, 26, null, 29, 4, null, 4, 3, null, 30, 4, null, 31, 32, null, 32, 33, null, 33, 27, null, 0, 1, null, 1, 2, null, 2, 5, null, 5, 6, null, 6, 7, null, 7, 8, null, 8, 7, null, 9, 10, null, 10, 11, null, 12, 13, null, 14, 9, null, 15, 10, null, 16, 11, null, 17, 18, null, 18, 19, null, 20, 21, null, 22, 23, null, 23, 15, null, 25, 18, null, 26, 19, null, 27, 28, null, 2, 3, null, 3, 0, null, 0, 1, null, 0, 1, null, 1, 1, null, 1, 9, null, 5, 6, null, 6, 3, null, 7, 8, null, 8, 4, null, 9, 15, null, 10, 5, null, 11, 12, null, 13, 14, null, 15, 16, null, 16, 8, null, 19, 20, null, 20, 21, null, 0, 4, null, 1, 2, null, 5, 6, null, 6, 7, null, 8, 17, null, 9, 10, null, 10, 11, null], \"y\": [0, 0.0, null, 0, 0.3076923076923077, null, 0, 0.08695652173913045, null, 0, 0.3076923076923077, null, 0, 0.3076923076923077, null, 0, 0.16666666666666669, null, 0, 0.3076923076923077, null, 0, 0.16666666666666669, null, 0, 0.3076923076923077, null, 0, 0.3076923076923077, null, 0, 0.15384615384615385, null, 0, 0.08695652173913045, null, 0, 0.08695652173913045, null, 0, 0.16666666666666669, null, 0, 0.16666666666666669, null, 0, 0.08695652173913045, null, 0, 0.3076923076923077, null, 0, 0.043478260869565216, null, 0, 0.3076923076923077, null, 0, 0.3076923076923077, null, 0, 0.16666666666666669, null, 0, 0.3076923076923077, null, 0.0, 0.0, null, 0.0, 0.06896551724137931, null, 0.06896551724137931, 0.13333333333333333, null, 0.08695652173913045, 0.16666666666666669, null, 0.08695652173913045, 0.16666666666666669, null, 0.08695652173913045, 0.125, null, 0.08695652173913045, 0.24, null, 0.125, 0.2692307692307692, null, 0.125, 0.3928571428571429, null, 0.043478260869565216, 0.125, null, 0.13333333333333333, 0.12500000000000006, null, 0.12500000000000006, 0.1818181818181818, null, 0.1818181818181818, 0.27027027027027023, null, 0.16666666666666669, 0.24, null, 0.24, 0.3076923076923077, null, 0.24, 0.3076923076923077, null, 0.16666666666666669, 0.24, null, 0.16666666666666669, 0.24, null, 0.16666666666666669, 0.24, null, 0.16666666666666669, 0.24, null, 0.24, 0.3703703703703704, null, 0.24, 0.23076923076923075, null, 0.24, 0.3076923076923077, null, 0.23076923076923075, 0.4, null, 0.15384615384615385, 0.4, null, 0.24, 0.4137931034482759, null, 0.24, 0.4827586206896552, null, 0.16666666666666669, 0.24, null, 0.24, 0.3076923076923077, null, 0.16666666666666669, 0.24, null, 0.3076923076923077, 0.42857142857142855, null, 0.3076923076923077, 0.3703703703703704, null, 0.3076923076923077, 0.3703703703703704, null, 0.3076923076923077, 0.4, null, 0.3076923076923077, 0.4, null, 0.3076923076923077, 0.4, null, 0.3076923076923077, 0.4, null, 0.3076923076923077, 0.3703703703703704, null, 0.3076923076923077, 0.5333333333333333, null, 0.3076923076923077, 0.5333333333333333, null, 0.3076923076923077, 0.3703703703703704, null, 0.3703703703703704, 0.42857142857142855, null, 0.3076923076923077, 0.4, null, 0.3703703703703704, 0.42857142857142855, null, 0.3703703703703704, 0.42857142857142855, null, 0.3703703703703704, 0.42857142857142855, null, 0.2692307692307692, 0.25925925925925924, null, 0.25925925925925924, 0.3548387096774194, null, 0.3548387096774194, 0.4857142857142857, null, 0.3076923076923077, 0.3703703703703704, null, 0.3703703703703704, 0.42857142857142855, null, 0.3703703703703704, 0.42857142857142855, null, 0.3076923076923077, 0.3703703703703704, null, 0.3703703703703704, 0.42857142857142855, null, 0.42857142857142855, 0.4482758620689656, null, 0.4482758620689656, 0.5, null, 0.5, 0.6764705882352942, null, 0.42857142857142855, 0.4827586206896552, null, 0.4827586206896552, 0.5333333333333333, null, 0.4, 0.46875, null, 0.4, 0.5882352941176471, null, 0.46875, 0.4848484848484849, null, 0.4848484848484849, 0.5945945945945945, null, 0.42857142857142855, 0.4827586206896552, null, 0.42857142857142855, 0.625, null, 0.42857142857142855, 0.4827586206896552, null, 0.4827586206896552, 0.5, null, 0.5, 0.5161290322580644, null, 0.4, 0.5294117647058824, null, 0.4, 0.4516129032258064, null, 0.4, 0.5000000000000001, null, 0.4, 0.4705882352941177, null, 0.4, 0.5000000000000001, null, 0.4516129032258064, 0.5000000000000001, null, 0.4857142857142857, 0.5897435897435898, null, 0.4137931034482759, 0.5454545454545455, null, 0.4827586206896552, 0.5333333333333333, null, 0.42857142857142855, 0.625, null, 0.4705882352941177, 0.5142857142857142, null, 0.3928571428571429, 0.4482758620689656, null, 0.4482758620689656, 0.5, null, 0.5, 0.6764705882352942, null, 0.4827586206896552, 0.5333333333333333, null, 0.42857142857142855, 0.5333333333333333, null, 0.5333333333333333, 0.5806451612903226, null, 0.5333333333333333, 0.7058823529411764, null, 0.5806451612903226, 0.625, null, 0.625, 0.7777777777777778, null, 0.625, 0.7777777777777778, null, 0.5945945945945945, 0.6666666666666667, null, 0.5161290322580644, 0.5625000000000001, null, 0.5625000000000001, 0.7222222222222223, null, 0.625, 0.6666666666666666, null, 0.5294117647058824, 0.5714285714285714, null, 0.5714285714285714, 0.6111111111111112, null, 0.6111111111111112, 0.6486486486486486, null, 0.5000000000000001, 0.5454545454545455, null, 0.5454545454545455, 0.5588235294117647, null, 0.5454545454545455, 0.7027027027027029, null, 0.5588235294117647, 0.5714285714285714, null, 0.5714285714285714, 0.7179487179487181, null, 0.5000000000000001, 0.5454545454545455, null, 0.5000000000000001, 0.5588235294117647, null, 0.5882352941176471, 0.7368421052631579, null, 0.5897435897435898, 0.6744186046511628, null, 0.5454545454545455, 0.5882352941176471, null, 0.5882352941176471, 0.7368421052631579, null, 0.5333333333333333, 0.5806451612903226, null, 0.5806451612903226, 0.625, null, 0.625, 0.7777777777777778, null, 0.625, 0.6666666666666666, null, 0.5142857142857142, 0.5277777777777777, null, 0.5277777777777777, 0.6052631578947368, null, 0.6052631578947368, 0.641025641025641, null, 0.5588235294117647, 0.6000000000000001, null, 0.6000000000000001, 0.6923076923076923, null, 0.5333333333333333, 0.5806451612903226, null, 0.5806451612903226, 0.625, null, 0.5333333333333333, 0.5806451612903226, null, 0.5333333333333333, 0.5806451612903226, null, 0.5806451612903226, 0.59375, null, 0.59375, 0.6764705882352942, null, 0.6764705882352942, 0.7142857142857143, null, 0.7142857142857143, 0.8461538461538459, null, 0.7058823529411764, 0.8421052631578948, null, 0.6666666666666666, 0.7058823529411764, null, 0.7058823529411764, 0.7428571428571429, null, 0.7428571428571429, 0.75, null, 0.75, 0.8157894736842106, null, 0.6486486486486486, 0.6842105263157896, null, 0.6842105263157896, 0.7179487179487181, null, 0.7179487179487181, 0.7441860465116279, null, 0.7027027027027029, 0.7692307692307693, null, 0.7499999999999999, 0.8636363636363636, null, 0.7368421052631579, 0.7692307692307693, null, 0.6744186046511628, 0.7446808510638298, null, 0.7446808510638298, 0.6862745098039215, null, 0.7368421052631579, 0.7499999999999999, null, 0.6666666666666666, 0.7058823529411764, null, 0.7058823529411764, 0.8421052631578948, null, 0.6764705882352942, 0.8157894736842106, null, 0.6923076923076923, 0.8139534883720929, null, 0.6764705882352942, 0.6571428571428571, null, 0.8461538461538459, 0.875, null, 0.875, 0.8780487804878049, null, 0.7777777777777778, 0.8421052631578948, null, 0.7777777777777778, 0.8421052631578948, null, 0.8421052631578948, 0.9523809523809524, null, 0.8421052631578948, 0.9, null, 0.8421052631578948, 0.8717948717948718, null, 0.8717948717948718, 0.9, null, 0.8157894736842106, 0.8461538461538459, null, 0.8461538461538459, 0.9069767441860463, null, 0.7692307692307693, 0.7499999999999999, null, 0.8636363636363636, 0.9130434782608696, null, 0.7692307692307693, 0.8292682926829269, null, 0.7777777777777778, 0.8108108108108109, null, 0.8421052631578948, 0.8717948717948718, null, 0.8717948717948718, 0.9, null, 0.8139534883720929, 0.8666666666666666, null, 0.8666666666666666, 0.8478260869565218, null, 0.8780487804878049, 0.8571428571428572, null, 0.9523809523809524, 1.0, null, 0.9130434782608696, 0.8936170212765958, null, 0.8936170212765958, 0.8958333333333334, null, 0.9, 0.8181818181818182, null, 0.9, 0.9523809523809524, null, 0.9523809523809524, 0.9545454545454546, null]}, {\"hoverinfo\": \"text\", \"marker\": {\"color\": [23, 1, 1, 1, 2, 2, 2, 1, 1, 1, 1, 1, 2, 4, 3, 1, 1, 2, 1, 1, 1, 1, 9, 2, 1, 1, 1, 2, 1, 1, 1, 1, 1, 1, 1, 1, 1, 1, 1, 1, 1, 2, 1, 1, 3, 1, 1, 5, 1, 1, 1, 1, 1, 1, 1, 1, 1, 1, 1, 1, 2, 1, 2, 1, 1, 1, 1, 1, 1, 1, 1, 2, 1, 1, 2, 1, 1, 1, 1, 1, 1, 1, 1, 1, 1, 1, 1, 1, 1, 2, 1, 1, 1, 1, 1, 1, 1, 1, 1, 1, 1, 1, 1, 1, 1, 1, 1, 1, 1, 1, 1, 1, 1, 1, 1, 1, 1, 1, 1, 1, 1, 1, 1, 1, 1, 1, 2, 2, 1, 1, 1, 1, 1, 1, 1, 1, 1, 1, 1, 1, 1, 1, 1, 1, 1, 1, 1, 1, 1, 1, 1, 1, 1, 1, 1, 1, 1], \"colorscale\": [[0.0, \"rgb(255,255,217)\"], [0.125, \"rgb(237,248,177)\"], [0.25, \"rgb(199,233,180)\"], [0.375, \"rgb(127,205,187)\"], [0.5, \"rgb(65,182,196)\"], [0.625, \"rgb(29,145,192)\"], [0.75, \"rgb(34,94,168)\"], [0.875, \"rgb(37,52,148)\"], [1.0, \"rgb(8,29,88)\"]], \"line\": {\"width\": 2}, \"reversescale\": true, \"showscale\": true, \"size\": [19.57068586817104, 6.0, 6.0, 6.0, 9.0, 9.0, 9.0, 6.0, 6.0, 6.0, 6.0, 6.0, 9.0, 12.0, 10.754887502163468, 6.0, 6.0, 9.0, 6.0, 6.0, 6.0, 6.0, 15.509775004326936, 9.0, 6.0, 6.0, 6.0, 9.0, 6.0, 6.0, 6.0, 6.0, 6.0, 6.0, 6.0, 6.0, 6.0, 6.0, 6.0, 6.0, 6.0, 9.0, 6.0, 6.0, 10.754887502163468, 6.0, 6.0, 12.965784284662089, 6.0, 6.0, 6.0, 6.0, 6.0, 6.0, 6.0, 6.0, 6.0, 6.0, 6.0, 6.0, 9.0, 6.0, 9.0, 6.0, 6.0, 6.0, 6.0, 6.0, 6.0, 6.0, 6.0, 9.0, 6.0, 6.0, 9.0, 6.0, 6.0, 6.0, 6.0, 6.0, 6.0, 6.0, 6.0, 6.0, 6.0, 6.0, 6.0, 6.0, 6.0, 9.0, 6.0, 6.0, 6.0, 6.0, 6.0, 6.0, 6.0, 6.0, 6.0, 6.0, 6.0, 6.0, 6.0, 6.0, 6.0, 6.0, 6.0, 6.0, 6.0, 6.0, 6.0, 6.0, 6.0, 6.0, 6.0, 6.0, 6.0, 6.0, 6.0, 6.0, 6.0, 6.0, 6.0, 6.0, 6.0, 6.0, 9.0, 9.0, 6.0, 6.0, 6.0, 6.0, 6.0, 6.0, 6.0, 6.0, 6.0, 6.0, 6.0, 6.0, 6.0, 6.0, 6.0, 6.0, 6.0, 6.0, 6.0, 6.0, 6.0, 6.0, 6.0, 6.0, 6.0, 6.0, 6.0, 6.0, 6.0]}, \"mode\": \"markers\", \"type\": \"scatter\", \"x\": [0, 1, 2, 3, 1, 0, 2, 4, 4, 5, 6, 7, 3, 0, 1, 8, 9, 2, 10, 11, 12, 3, 0, 1, 4, 5, 6, 2, 7, 8, 9, 10, 11, 12, 13, 14, 3, 4, 5, 6, 7, 2, 8, 9, 1, 10, 11, 0, 12, 13, 14, 15, 16, 17, 18, 19, 20, 21, 22, 23, 0, 5, 3, 6, 7, 8, 9, 10, 11, 12, 13, 1, 14, 15, 2, 16, 17, 18, 19, 20, 21, 22, 23, 24, 25, 26, 27, 28, 29, 4, 30, 31, 32, 33, 0, 1, 2, 3, 4, 5, 6, 7, 8, 9, 10, 11, 12, 13, 14, 15, 16, 17, 18, 19, 20, 21, 22, 23, 24, 25, 26, 27, 28, 2, 3, 4, 0, 1, 5, 6, 7, 8, 9, 10, 11, 12, 13, 14, 15, 16, 17, 18, 19, 20, 21, 0, 1, 2, 3, 4, 5, 6, 7, 8, 9, 10, 11], \"y\": [0, 0.0, 0.0, 0.06896551724137931, 0.08695652173913045, 0.08695652173913045, 0.125, 0.043478260869565216, 0.13333333333333333, 0.12500000000000006, 0.1818181818181818, 0.16666666666666669, 0.24, 0.16666666666666669, 0.24, 0.23076923076923075, 0.15384615384615385, 0.24, 0.16666666666666669, 0.24, 0.16666666666666669, 0.27027027027027023, 0.3076923076923077, 0.3076923076923077, 0.3703703703703704, 0.3076923076923077, 0.3703703703703704, 0.3703703703703704, 0.2692307692307692, 0.25925925925925924, 0.3548387096774194, 0.3076923076923077, 0.3703703703703704, 0.3703703703703704, 0.3076923076923077, 0.3703703703703704, 0.42857142857142855, 0.4482758620689656, 0.5, 0.42857142857142855, 0.4827586206896552, 0.4, 0.46875, 0.4848484848484849, 0.42857142857142855, 0.4827586206896552, 0.5, 0.4, 0.4516129032258064, 0.4857142857142857, 0.4137931034482759, 0.4827586206896552, 0.42857142857142855, 0.42857142857142855, 0.4705882352941177, 0.3928571428571429, 0.4482758620689656, 0.5, 0.4827586206896552, 0.42857142857142855, 0.5333333333333333, 0.5806451612903226, 0.625, 0.5945945945945945, 0.5161290322580644, 0.5625000000000001, 0.625, 0.5294117647058824, 0.5714285714285714, 0.6111111111111112, 0.5000000000000001, 0.5454545454545455, 0.5588235294117647, 0.5714285714285714, 0.5000000000000001, 0.5882352941176471, 0.5897435897435898, 0.5454545454545455, 0.5882352941176471, 0.5333333333333333, 0.5806451612903226, 0.625, 0.625, 0.5142857142857142, 0.5277777777777777, 0.6052631578947368, 0.5588235294117647, 0.6000000000000001, 0.5333333333333333, 0.5806451612903226, 0.5333333333333333, 0.5333333333333333, 0.5806451612903226, 0.59375, 0.6764705882352942, 0.7142857142857143, 0.7058823529411764, 0.6666666666666667, 0.7222222222222223, 0.6666666666666666, 0.7058823529411764, 0.7428571428571429, 0.75, 0.6486486486486486, 0.6842105263157896, 0.7179487179487181, 0.7179487179487181, 0.7441860465116279, 0.7027027027027029, 0.7499999999999999, 0.7368421052631579, 0.6744186046511628, 0.7446808510638298, 0.6862745098039215, 0.7368421052631579, 0.7499999999999999, 0.6666666666666666, 0.7058823529411764, 0.641025641025641, 0.6764705882352942, 0.6923076923076923, 0.6764705882352942, 0.6571428571428571, 0.8461538461538459, 0.875, 0.8571428571428572, 0.7777777777777778, 0.8421052631578948, 0.8421052631578948, 0.8717948717948718, 0.8157894736842106, 0.8461538461538459, 0.7692307692307693, 0.8636363636363636, 0.7692307692307693, 0.8292682926829269, 0.7777777777777778, 0.8108108108108109, 0.8421052631578948, 0.8717948717948718, 0.8181818181818182, 0.8157894736842106, 0.8139534883720929, 0.8666666666666666, 0.8478260869565218, 0.8780487804878049, 0.9523809523809524, 1.0, 0.9, 0.9069767441860463, 0.9130434782608696, 0.8936170212765958, 0.8958333333333334, 0.9, 0.9, 0.9523809523809524, 0.9545454545454546]}],\n",
       "                        {\"annotations\": [{\"showarrow\": false, \"text\": \"\", \"x\": 0.005, \"xref\": \"paper\", \"y\": -0.002, \"yref\": \"paper\"}], \"height\": 600, \"hovermode\": \"closest\", \"margin\": {\"b\": 20, \"l\": 5, \"r\": 5, \"t\": 40}, \"showlegend\": false, \"template\": {\"data\": {\"bar\": [{\"error_x\": {\"color\": \"#2a3f5f\"}, \"error_y\": {\"color\": \"#2a3f5f\"}, \"marker\": {\"line\": {\"color\": \"#E5ECF6\", \"width\": 0.5}}, \"type\": \"bar\"}], \"barpolar\": [{\"marker\": {\"line\": {\"color\": \"#E5ECF6\", \"width\": 0.5}}, \"type\": \"barpolar\"}], \"carpet\": [{\"aaxis\": {\"endlinecolor\": \"#2a3f5f\", \"gridcolor\": \"white\", \"linecolor\": \"white\", \"minorgridcolor\": \"white\", \"startlinecolor\": \"#2a3f5f\"}, \"baxis\": {\"endlinecolor\": \"#2a3f5f\", \"gridcolor\": \"white\", \"linecolor\": \"white\", \"minorgridcolor\": \"white\", \"startlinecolor\": \"#2a3f5f\"}, \"type\": \"carpet\"}], \"choropleth\": [{\"colorbar\": {\"outlinewidth\": 0, \"ticks\": \"\"}, \"type\": \"choropleth\"}], \"contour\": [{\"colorbar\": {\"outlinewidth\": 0, \"ticks\": \"\"}, \"colorscale\": [[0.0, \"#0d0887\"], [0.1111111111111111, \"#46039f\"], [0.2222222222222222, \"#7201a8\"], [0.3333333333333333, \"#9c179e\"], [0.4444444444444444, \"#bd3786\"], [0.5555555555555556, \"#d8576b\"], [0.6666666666666666, \"#ed7953\"], [0.7777777777777778, \"#fb9f3a\"], [0.8888888888888888, \"#fdca26\"], [1.0, \"#f0f921\"]], \"type\": \"contour\"}], \"contourcarpet\": [{\"colorbar\": {\"outlinewidth\": 0, \"ticks\": \"\"}, \"type\": \"contourcarpet\"}], \"heatmap\": [{\"colorbar\": {\"outlinewidth\": 0, \"ticks\": \"\"}, \"colorscale\": [[0.0, \"#0d0887\"], [0.1111111111111111, \"#46039f\"], [0.2222222222222222, \"#7201a8\"], [0.3333333333333333, \"#9c179e\"], [0.4444444444444444, \"#bd3786\"], [0.5555555555555556, \"#d8576b\"], [0.6666666666666666, \"#ed7953\"], [0.7777777777777778, \"#fb9f3a\"], [0.8888888888888888, \"#fdca26\"], [1.0, \"#f0f921\"]], \"type\": \"heatmap\"}], \"heatmapgl\": [{\"colorbar\": {\"outlinewidth\": 0, \"ticks\": \"\"}, \"colorscale\": [[0.0, \"#0d0887\"], [0.1111111111111111, \"#46039f\"], [0.2222222222222222, \"#7201a8\"], [0.3333333333333333, \"#9c179e\"], [0.4444444444444444, \"#bd3786\"], [0.5555555555555556, \"#d8576b\"], [0.6666666666666666, \"#ed7953\"], [0.7777777777777778, \"#fb9f3a\"], [0.8888888888888888, \"#fdca26\"], [1.0, \"#f0f921\"]], \"type\": \"heatmapgl\"}], \"histogram\": [{\"marker\": {\"colorbar\": {\"outlinewidth\": 0, \"ticks\": \"\"}}, \"type\": \"histogram\"}], \"histogram2d\": [{\"colorbar\": {\"outlinewidth\": 0, \"ticks\": \"\"}, \"colorscale\": [[0.0, \"#0d0887\"], [0.1111111111111111, \"#46039f\"], [0.2222222222222222, \"#7201a8\"], [0.3333333333333333, \"#9c179e\"], [0.4444444444444444, \"#bd3786\"], [0.5555555555555556, \"#d8576b\"], [0.6666666666666666, \"#ed7953\"], [0.7777777777777778, \"#fb9f3a\"], [0.8888888888888888, \"#fdca26\"], [1.0, \"#f0f921\"]], \"type\": \"histogram2d\"}], \"histogram2dcontour\": [{\"colorbar\": {\"outlinewidth\": 0, \"ticks\": \"\"}, \"colorscale\": [[0.0, \"#0d0887\"], [0.1111111111111111, \"#46039f\"], [0.2222222222222222, \"#7201a8\"], [0.3333333333333333, \"#9c179e\"], [0.4444444444444444, \"#bd3786\"], [0.5555555555555556, \"#d8576b\"], [0.6666666666666666, \"#ed7953\"], [0.7777777777777778, \"#fb9f3a\"], [0.8888888888888888, \"#fdca26\"], [1.0, \"#f0f921\"]], \"type\": \"histogram2dcontour\"}], \"mesh3d\": [{\"colorbar\": {\"outlinewidth\": 0, \"ticks\": \"\"}, \"type\": \"mesh3d\"}], \"parcoords\": [{\"line\": {\"colorbar\": {\"outlinewidth\": 0, \"ticks\": \"\"}}, \"type\": \"parcoords\"}], \"pie\": [{\"automargin\": true, \"type\": \"pie\"}], \"scatter\": [{\"marker\": {\"colorbar\": {\"outlinewidth\": 0, \"ticks\": \"\"}}, \"type\": \"scatter\"}], \"scatter3d\": [{\"line\": {\"colorbar\": {\"outlinewidth\": 0, \"ticks\": \"\"}}, \"marker\": {\"colorbar\": {\"outlinewidth\": 0, \"ticks\": \"\"}}, \"type\": \"scatter3d\"}], \"scattercarpet\": [{\"marker\": {\"colorbar\": {\"outlinewidth\": 0, \"ticks\": \"\"}}, \"type\": \"scattercarpet\"}], \"scattergeo\": [{\"marker\": {\"colorbar\": {\"outlinewidth\": 0, \"ticks\": \"\"}}, \"type\": \"scattergeo\"}], \"scattergl\": [{\"marker\": {\"colorbar\": {\"outlinewidth\": 0, \"ticks\": \"\"}}, \"type\": \"scattergl\"}], \"scattermapbox\": [{\"marker\": {\"colorbar\": {\"outlinewidth\": 0, \"ticks\": \"\"}}, \"type\": \"scattermapbox\"}], \"scatterpolar\": [{\"marker\": {\"colorbar\": {\"outlinewidth\": 0, \"ticks\": \"\"}}, \"type\": \"scatterpolar\"}], \"scatterpolargl\": [{\"marker\": {\"colorbar\": {\"outlinewidth\": 0, \"ticks\": \"\"}}, \"type\": \"scatterpolargl\"}], \"scatterternary\": [{\"marker\": {\"colorbar\": {\"outlinewidth\": 0, \"ticks\": \"\"}}, \"type\": \"scatterternary\"}], \"surface\": [{\"colorbar\": {\"outlinewidth\": 0, \"ticks\": \"\"}, \"colorscale\": [[0.0, \"#0d0887\"], [0.1111111111111111, \"#46039f\"], [0.2222222222222222, \"#7201a8\"], [0.3333333333333333, \"#9c179e\"], [0.4444444444444444, \"#bd3786\"], [0.5555555555555556, \"#d8576b\"], [0.6666666666666666, \"#ed7953\"], [0.7777777777777778, \"#fb9f3a\"], [0.8888888888888888, \"#fdca26\"], [1.0, \"#f0f921\"]], \"type\": \"surface\"}], \"table\": [{\"cells\": {\"fill\": {\"color\": \"#EBF0F8\"}, \"line\": {\"color\": \"white\"}}, \"header\": {\"fill\": {\"color\": \"#C8D4E3\"}, \"line\": {\"color\": \"white\"}}, \"type\": \"table\"}]}, \"layout\": {\"annotationdefaults\": {\"arrowcolor\": \"#2a3f5f\", \"arrowhead\": 0, \"arrowwidth\": 1}, \"coloraxis\": {\"colorbar\": {\"outlinewidth\": 0, \"ticks\": \"\"}}, \"colorscale\": {\"diverging\": [[0, \"#8e0152\"], [0.1, \"#c51b7d\"], [0.2, \"#de77ae\"], [0.3, \"#f1b6da\"], [0.4, \"#fde0ef\"], [0.5, \"#f7f7f7\"], [0.6, \"#e6f5d0\"], [0.7, \"#b8e186\"], [0.8, \"#7fbc41\"], [0.9, \"#4d9221\"], [1, \"#276419\"]], \"sequential\": [[0.0, \"#0d0887\"], [0.1111111111111111, \"#46039f\"], [0.2222222222222222, \"#7201a8\"], [0.3333333333333333, \"#9c179e\"], [0.4444444444444444, \"#bd3786\"], [0.5555555555555556, \"#d8576b\"], [0.6666666666666666, \"#ed7953\"], [0.7777777777777778, \"#fb9f3a\"], [0.8888888888888888, \"#fdca26\"], [1.0, \"#f0f921\"]], \"sequentialminus\": [[0.0, \"#0d0887\"], [0.1111111111111111, \"#46039f\"], [0.2222222222222222, \"#7201a8\"], [0.3333333333333333, \"#9c179e\"], [0.4444444444444444, \"#bd3786\"], [0.5555555555555556, \"#d8576b\"], [0.6666666666666666, \"#ed7953\"], [0.7777777777777778, \"#fb9f3a\"], [0.8888888888888888, \"#fdca26\"], [1.0, \"#f0f921\"]]}, \"colorway\": [\"#636efa\", \"#EF553B\", \"#00cc96\", \"#ab63fa\", \"#FFA15A\", \"#19d3f3\", \"#FF6692\", \"#B6E880\", \"#FF97FF\", \"#FECB52\"], \"font\": {\"color\": \"#2a3f5f\"}, \"geo\": {\"bgcolor\": \"white\", \"lakecolor\": \"white\", \"landcolor\": \"#E5ECF6\", \"showlakes\": true, \"showland\": true, \"subunitcolor\": \"white\"}, \"hoverlabel\": {\"align\": \"left\"}, \"hovermode\": \"closest\", \"mapbox\": {\"style\": \"light\"}, \"paper_bgcolor\": \"white\", \"plot_bgcolor\": \"#E5ECF6\", \"polar\": {\"angularaxis\": {\"gridcolor\": \"white\", \"linecolor\": \"white\", \"ticks\": \"\"}, \"bgcolor\": \"#E5ECF6\", \"radialaxis\": {\"gridcolor\": \"white\", \"linecolor\": \"white\", \"ticks\": \"\"}}, \"scene\": {\"xaxis\": {\"backgroundcolor\": \"#E5ECF6\", \"gridcolor\": \"white\", \"gridwidth\": 2, \"linecolor\": \"white\", \"showbackground\": true, \"ticks\": \"\", \"zerolinecolor\": \"white\"}, \"yaxis\": {\"backgroundcolor\": \"#E5ECF6\", \"gridcolor\": \"white\", \"gridwidth\": 2, \"linecolor\": \"white\", \"showbackground\": true, \"ticks\": \"\", \"zerolinecolor\": \"white\"}, \"zaxis\": {\"backgroundcolor\": \"#E5ECF6\", \"gridcolor\": \"white\", \"gridwidth\": 2, \"linecolor\": \"white\", \"showbackground\": true, \"ticks\": \"\", \"zerolinecolor\": \"white\"}}, \"shapedefaults\": {\"line\": {\"color\": \"#2a3f5f\"}}, \"ternary\": {\"aaxis\": {\"gridcolor\": \"white\", \"linecolor\": \"white\", \"ticks\": \"\"}, \"baxis\": {\"gridcolor\": \"white\", \"linecolor\": \"white\", \"ticks\": \"\"}, \"bgcolor\": \"#E5ECF6\", \"caxis\": {\"gridcolor\": \"white\", \"linecolor\": \"white\", \"ticks\": \"\"}}, \"title\": {\"x\": 0.05}, \"xaxis\": {\"automargin\": true, \"gridcolor\": \"white\", \"linecolor\": \"white\", \"ticks\": \"\", \"title\": {\"standoff\": 15}, \"zerolinecolor\": \"white\", \"zerolinewidth\": 2}, \"yaxis\": {\"automargin\": true, \"gridcolor\": \"white\", \"linecolor\": \"white\", \"ticks\": \"\", \"title\": {\"standoff\": 15}, \"zerolinecolor\": \"white\", \"zerolinewidth\": 2}}}, \"title\": {\"font\": {\"size\": 16}, \"text\": \"<br>World states for hand_selected_016, repetition 0, by number of squares\"}, \"width\": 600},\n",
       "                        {\"responsive\": true}\n",
       "                    ).then(function(){\n",
       "                            \n",
       "var gd = document.getElementById('4453a319-63d2-43f2-b8b4-1e18bc06a4ec');\n",
       "var x = new MutationObserver(function (mutations, observer) {{\n",
       "        var display = window.getComputedStyle(gd).display;\n",
       "        if (!display || display === 'none') {{\n",
       "            console.log([gd, 'removed!']);\n",
       "            Plotly.purge(gd);\n",
       "            observer.disconnect();\n",
       "        }}\n",
       "}});\n",
       "\n",
       "// Listen for the removal of the full notebook cells\n",
       "var notebookContainer = gd.closest('#notebook-container');\n",
       "if (notebookContainer) {{\n",
       "    x.observe(notebookContainer, {childList: true});\n",
       "}}\n",
       "\n",
       "// Listen for the clearing of the current output cell\n",
       "var outputEl = gd.closest('.output');\n",
       "if (outputEl) {{\n",
       "    x.observe(outputEl, {childList: true});\n",
       "}}\n",
       "\n",
       "                        })\n",
       "                };\n",
       "                });\n",
       "            </script>\n",
       "        </div>"
      ]
     },
     "metadata": {},
     "output_type": "display_data"
    },
    {
     "data": {
      "image/png": "[encoded data removed]",
      "text/plain": [
       "<Figure size 432x288 with 1 Axes>"
      ]
     },
     "metadata": {},
     "output_type": "display_data"
    }
   ],
   "source": [
    "target = targets[7]\n",
    "fig, ax = plt.subplots()\n",
    "ax.axis('off')\n",
    "ax.imshow(np.rot90(target_maps[target]))\n",
    "plot_f1_trajectory_graph(target_name=target, rep = 0, bins=9)"
   ]
  },
  {
   "cell_type": "code",
   "execution_count": 290,
   "metadata": {
    "scrolled": false
   },
   "outputs": [
    {
     "data": {
      "application/vnd.plotly.v1+json": {
       "config": {
        "plotlyServerURL": "https://plot.ly"
       },
       "data": [
        {
         "hoverinfo": "none",
         "line": {
          "color": "#888",
          "width": 0.5
         },
         "mode": "lines",
         "type": "scatter",
         "x": [
          0,
          2,
          null,
          0,
          2,
          null,
          0,
          1,
          null,
          0,
          1,
          null,
          0,
          2,
          null,
          0,
          2,
          null,
          0,
          0,
          null,
          0,
          0,
          null,
          0,
          1,
          null,
          0,
          3,
          null,
          0,
          0,
          null,
          0,
          0,
          null,
          0,
          4,
          null,
          0,
          4,
          null,
          0,
          0,
          null,
          0,
          0,
          null,
          0,
          5,
          null,
          0,
          0,
          null,
          0,
          2,
          null,
          0,
          1,
          null,
          0,
          1,
          null,
          0,
          0,
          null,
          0,
          1,
          null,
          0,
          1,
          null,
          0,
          3,
          null,
          2,
          0,
          null,
          3,
          1,
          null,
          4,
          7,
          null,
          0,
          1,
          null,
          0,
          1,
          null,
          0,
          1,
          null,
          5,
          6,
          null,
          6,
          2,
          null,
          1,
          4,
          null,
          1,
          6,
          null,
          2,
          0,
          null,
          2,
          0,
          null,
          2,
          0,
          null,
          1,
          4,
          null,
          1,
          0,
          null,
          1,
          0,
          null,
          1,
          0,
          null,
          1,
          0,
          null,
          0,
          2,
          null,
          0,
          6,
          null,
          0,
          4,
          null,
          0,
          2,
          null,
          0,
          5,
          null,
          3,
          5,
          null,
          4,
          0,
          null,
          5,
          1,
          null,
          6,
          4,
          null,
          0,
          0,
          null,
          0,
          0,
          null,
          0,
          5,
          null,
          0,
          0,
          null,
          0,
          8,
          null,
          0,
          0,
          null,
          0,
          0,
          null,
          0,
          0,
          null,
          0,
          0,
          null,
          0,
          0,
          null,
          2,
          0,
          null,
          2,
          0,
          null,
          2,
          0,
          null,
          4,
          3,
          null,
          4,
          15,
          null,
          4,
          3,
          null,
          1,
          1,
          null,
          1,
          3,
          null,
          1,
          1,
          null,
          1,
          3,
          null,
          1,
          3,
          null,
          5,
          6,
          null,
          6,
          8,
          null,
          7,
          8,
          null,
          8,
          11,
          null,
          3,
          2,
          null,
          3,
          9,
          null,
          3,
          2,
          null,
          9,
          14,
          null,
          4,
          5,
          null,
          5,
          0,
          null,
          3,
          7,
          null,
          3,
          17,
          null,
          7,
          6,
          null,
          1,
          10,
          null,
          1,
          19,
          null,
          8,
          9,
          null,
          9,
          13,
          null,
          0,
          1,
          null,
          0,
          10,
          null,
          0,
          1,
          null,
          0,
          1,
          null,
          0,
          29,
          null,
          10,
          17,
          null,
          11,
          12,
          null,
          2,
          13,
          null,
          2,
          16,
          null,
          13,
          18,
          null,
          14,
          22,
          null,
          15,
          24,
          null,
          16,
          27,
          null,
          0,
          3,
          null,
          0,
          1,
          null,
          0,
          3,
          null,
          0,
          1,
          null,
          3,
          4,
          null,
          3,
          0,
          null,
          4,
          1,
          null,
          2,
          2,
          null,
          2,
          2,
          null,
          2,
          1,
          null,
          5,
          7,
          null,
          1,
          2,
          null,
          1,
          2,
          null,
          1,
          0,
          null,
          1,
          2,
          null,
          6,
          7,
          null,
          7,
          8,
          null,
          8,
          9,
          null,
          10,
          11,
          null,
          11,
          12,
          null,
          12,
          9,
          null,
          13,
          14,
          null,
          14,
          15,
          null,
          15,
          16,
          null,
          17,
          12,
          null,
          18,
          18,
          null,
          19,
          20,
          null,
          20,
          21,
          null,
          21,
          21,
          null,
          22,
          23,
          null,
          24,
          25,
          null,
          25,
          26,
          null,
          26,
          22,
          null,
          27,
          28,
          null,
          28,
          24,
          null,
          29,
          30,
          null,
          30,
          26,
          null,
          1,
          2,
          null,
          2,
          3,
          null,
          3,
          4,
          null,
          4,
          5,
          null,
          5,
          6,
          null,
          7,
          5,
          null,
          0,
          4,
          null,
          0,
          4,
          null,
          9,
          10,
          null,
          10,
          11,
          null,
          12,
          13,
          null,
          13,
          14,
          null,
          14,
          15,
          null,
          15,
          16,
          null,
          16,
          17,
          null,
          17,
          7,
          null,
          18,
          19,
          null,
          19,
          8,
          null,
          20,
          9,
          null,
          21,
          11,
          null,
          22,
          23,
          null,
          24,
          25,
          null,
          26,
          27,
          null,
          1,
          1,
          null,
          1,
          1,
          null,
          1,
          3,
          null,
          5,
          6,
          null,
          6,
          4,
          null,
          2,
          3,
          null,
          2,
          3,
          null,
          2,
          3,
          null,
          3,
          0,
          null,
          3,
          0,
          null,
          3,
          15,
          null,
          0,
          1,
          null,
          0,
          1,
          null,
          0,
          2,
          null,
          0,
          13,
          null,
          4,
          0,
          null,
          4,
          0,
          null,
          8,
          20,
          null,
          9,
          10,
          null,
          11,
          12,
          null,
          13,
          14,
          null,
          14,
          10,
          null,
          15,
          2,
          null,
          4,
          5,
          null,
          5,
          6,
          null,
          1,
          7,
          null,
          1,
          8,
          null,
          7,
          0,
          null,
          2,
          9,
          null,
          2,
          12,
          null,
          9,
          0,
          null,
          10,
          11,
          null,
          12,
          0,
          null
         ],
         "y": [
          0,
          0.2758620689655173,
          null,
          0,
          0.6363636363636364,
          null,
          0,
          0.2758620689655173,
          null,
          0,
          0.2758620689655173,
          null,
          0,
          0.14814814814814814,
          null,
          0,
          0.2758620689655173,
          null,
          0,
          0.2758620689655173,
          null,
          0,
          0.2758620689655173,
          null,
          0,
          0.2758620689655173,
          null,
          0,
          0.20689655172413796,
          null,
          0,
          0.06896551724137932,
          null,
          0,
          0.2758620689655173,
          null,
          0,
          0.2758620689655173,
          null,
          0,
          0.14814814814814814,
          null,
          0,
          0.20689655172413796,
          null,
          0,
          0.2758620689655173,
          null,
          0,
          0.14814814814814814,
          null,
          0,
          0.20689655172413796,
          null,
          0,
          0.2758620689655173,
          null,
          0,
          0.2758620689655173,
          null,
          0,
          0.13793103448275865,
          null,
          0,
          0.20689655172413796,
          null,
          0,
          0.13793103448275865,
          null,
          0,
          0.2758620689655173,
          null,
          0.06896551724137932,
          0.30303030303030304,
          null,
          0.14814814814814814,
          0.2758620689655173,
          null,
          0.20689655172413796,
          0.3636363636363637,
          null,
          0.14814814814814814,
          0.3870967741935484,
          null,
          0.20689655172413796,
          0.3636363636363637,
          null,
          0.20689655172413796,
          0.3636363636363637,
          null,
          0.20689655172413796,
          0.3636363636363637,
          null,
          0.14814814814814814,
          0.21428571428571425,
          null,
          0.21428571428571425,
          0.33333333333333337,
          null,
          0.13793103448275865,
          0.3636363636363637,
          null,
          0.13793103448275865,
          0.25806451612903225,
          null,
          0.2758620689655173,
          0.3870967741935484,
          null,
          0.2758620689655173,
          0.3870967741935484,
          null,
          0.2758620689655173,
          0.3870967741935484,
          null,
          0.2758620689655173,
          0.4848484848484849,
          null,
          0.2758620689655173,
          0.3870967741935484,
          null,
          0.2758620689655173,
          0.3870967741935484,
          null,
          0.2758620689655173,
          0.3870967741935484,
          null,
          0.2758620689655173,
          0.3870967741935484,
          null,
          0.2758620689655173,
          0.33333333333333337,
          null,
          0.2758620689655173,
          0.4848484848484849,
          null,
          0.2758620689655173,
          0.3636363636363637,
          null,
          0.2758620689655173,
          0.33333333333333337,
          null,
          0.2758620689655173,
          0.3225806451612903,
          null,
          0.30303030303030304,
          0.3428571428571429,
          null,
          0.2758620689655173,
          0.4848484848484849,
          null,
          0.3225806451612903,
          0.3636363636363637,
          null,
          0.25806451612903225,
          0.3636363636363637,
          null,
          0.3870967741935484,
          0.5714285714285715,
          null,
          0.3870967741935484,
          0.5714285714285715,
          null,
          0.3870967741935484,
          0.4848484848484849,
          null,
          0.3870967741935484,
          0.5714285714285715,
          null,
          0.3870967741935484,
          0.5714285714285715,
          null,
          0.3870967741935484,
          0.4848484848484849,
          null,
          0.3870967741935484,
          0.4848484848484849,
          null,
          0.3870967741935484,
          0.4848484848484849,
          null,
          0.3870967741935484,
          0.5714285714285715,
          null,
          0.3870967741935484,
          0.4848484848484849,
          null,
          0.33333333333333337,
          0.3870967741935484,
          null,
          0.33333333333333337,
          0.3870967741935484,
          null,
          0.33333333333333337,
          0.3870967741935484,
          null,
          0.3636363636363637,
          0.4864864864864866,
          null,
          0.3636363636363637,
          0.4864864864864866,
          null,
          0.3636363636363637,
          0.4864864864864866,
          null,
          0.3636363636363637,
          0.4864864864864866,
          null,
          0.3636363636363637,
          0.4,
          null,
          0.3636363636363637,
          0.4864864864864866,
          null,
          0.3636363636363637,
          0.4,
          null,
          0.3636363636363637,
          0.4,
          null,
          0.3428571428571429,
          0.4324324324324325,
          null,
          0.4324324324324325,
          0.4615384615384615,
          null,
          0.3870967741935484,
          0.4375000000000001,
          null,
          0.4375000000000001,
          0.5,
          null,
          0.4,
          0.5128205128205129,
          null,
          0.4,
          0.4444444444444444,
          null,
          0.4,
          0.5128205128205129,
          null,
          0.4444444444444444,
          0.5499999999999999,
          null,
          0.4848484848484849,
          0.5714285714285715,
          null,
          0.4848484848484849,
          0.5714285714285715,
          null,
          0.4864864864864866,
          0.5263157894736842,
          null,
          0.4864864864864866,
          0.5128205128205129,
          null,
          0.5263157894736842,
          0.5641025641025641,
          null,
          0.4864864864864866,
          0.5853658536585366,
          null,
          0.4864864864864866,
          0.5853658536585366,
          null,
          0.4615384615384615,
          0.5365853658536586,
          null,
          0.5365853658536586,
          0.6046511627906976,
          null,
          0.4848484848484849,
          0.6486486486486487,
          null,
          0.4848484848484849,
          0.4705882352941176,
          null,
          0.4848484848484849,
          0.6486486486486487,
          null,
          0.4848484848484849,
          0.6486486486486487,
          null,
          0.4848484848484849,
          0.5714285714285715,
          null,
          0.4705882352941176,
          0.5789473684210525,
          null,
          0.5,
          0.4736842105263158,
          null,
          0.5128205128205129,
          0.5499999999999999,
          null,
          0.5128205128205129,
          0.5365853658536586,
          null,
          0.5499999999999999,
          0.6363636363636364,
          null,
          0.5499999999999999,
          0.5853658536585366,
          null,
          0.4864864864864866,
          0.5853658536585366,
          null,
          0.5365853658536586,
          0.6222222222222222,
          null,
          0.5714285714285715,
          0.6111111111111112,
          null,
          0.5714285714285715,
          0.6486486486486487,
          null,
          0.5714285714285715,
          0.6111111111111112,
          null,
          0.5714285714285715,
          0.6486486486486487,
          null,
          0.6111111111111112,
          0.6486486486486487,
          null,
          0.6111111111111112,
          0.6842105263157895,
          null,
          0.6486486486486487,
          0.7804878048780487,
          null,
          0.6363636363636364,
          0.6363636363636364,
          null,
          0.6363636363636364,
          0.6363636363636364,
          null,
          0.6363636363636364,
          0.6956521739130435,
          null,
          0.5714285714285715,
          0.7179487179487181,
          null,
          0.6486486486486487,
          0.7804878048780487,
          null,
          0.6486486486486487,
          0.7804878048780487,
          null,
          0.6486486486486487,
          0.6842105263157895,
          null,
          0.6486486486486487,
          0.7804878048780487,
          null,
          0.5641025641025641,
          0.6,
          null,
          0.6,
          0.6818181818181819,
          null,
          0.5714285714285715,
          0.6111111111111112,
          null,
          0.5853658536585366,
          0.6046511627906976,
          null,
          0.6046511627906976,
          0.6666666666666665,
          null,
          0.6666666666666665,
          0.7346938775510204,
          null,
          0.6046511627906976,
          0.5777777777777778,
          null,
          0.5777777777777778,
          0.6086956521739131,
          null,
          0.6086956521739131,
          0.56,
          null,
          0.5789473684210525,
          0.7142857142857143,
          null,
          0.6363636363636364,
          0.7499999999999999,
          null,
          0.5853658536585366,
          0.6190476190476191,
          null,
          0.6190476190476191,
          0.6511627906976745,
          null,
          0.6511627906976745,
          0.7659574468085107,
          null,
          0.5853658536585366,
          0.6666666666666665,
          null,
          0.5853658536585366,
          0.6511627906976745,
          null,
          0.6511627906976745,
          0.6363636363636364,
          null,
          0.6363636363636364,
          0.7499999999999999,
          null,
          0.6222222222222222,
          0.6086956521739131,
          null,
          0.6086956521739131,
          0.68,
          null,
          0.5714285714285715,
          0.6111111111111112,
          null,
          0.6111111111111112,
          0.7499999999999999,
          null,
          0.6956521739130435,
          0.7234042553191491,
          null,
          0.7234042553191491,
          0.7346938775510204,
          null,
          0.7346938775510204,
          0.76,
          null,
          0.76,
          0.7647058823529411,
          null,
          0.7647058823529411,
          0.7692307692307692,
          null,
          0.7179487179487181,
          0.7804878048780487,
          null,
          0.6842105263157895,
          0.8095238095238095,
          null,
          0.6842105263157895,
          0.8095238095238095,
          null,
          0.7346938775510204,
          0.72,
          null,
          0.72,
          0.7058823529411765,
          null,
          0.7142857142857143,
          0.7727272727272727,
          null,
          0.7727272727272727,
          0.7555555555555556,
          null,
          0.7555555555555556,
          0.7391304347826089,
          null,
          0.7391304347826089,
          0.7234042553191491,
          null,
          0.7234042553191491,
          0.7499999999999999,
          null,
          0.7499999999999999,
          0.8461538461538461,
          null,
          0.7499999999999999,
          0.7755102040816326,
          null,
          0.7755102040816326,
          0.7843137254901961,
          null,
          0.7692307692307692,
          0.8214285714285714,
          null,
          0.7659574468085107,
          0.7959183673469388,
          null,
          0.7499999999999999,
          0.7755102040816326,
          null,
          0.68,
          0.7407407407407408,
          null,
          0.7499999999999999,
          0.7619047619047621,
          null,
          0.7804878048780487,
          0.7804878048780487,
          null,
          0.7804878048780487,
          0.7804878048780487,
          null,
          0.7804878048780487,
          0.8888888888888891,
          null,
          0.7804878048780487,
          0.8095238095238095,
          null,
          0.8095238095238095,
          0.9130434782608696,
          null,
          0.7804878048780487,
          0.8372093023255813,
          null,
          0.7804878048780487,
          0.8372093023255813,
          null,
          0.7804878048780487,
          0.8372093023255813,
          null,
          0.8372093023255813,
          0.8636363636363636,
          null,
          0.8372093023255813,
          0.8636363636363636,
          null,
          0.8372093023255813,
          0.8636363636363636,
          null,
          0.8636363636363636,
          0.9583333333333334,
          null,
          0.8636363636363636,
          0.9583333333333334,
          null,
          0.8636363636363636,
          0.8888888888888891,
          null,
          0.8636363636363636,
          0.8444444444444444,
          null,
          0.8095238095238095,
          0.8636363636363636,
          null,
          0.8095238095238095,
          0.8636363636363636,
          null,
          0.7843137254901961,
          0.7692307692307692,
          null,
          0.8214285714285714,
          0.8421052631578947,
          null,
          0.7959183673469388,
          0.7843137254901961,
          null,
          0.8444444444444444,
          0.8695652173913043,
          null,
          0.8695652173913043,
          0.8936170212765958,
          null,
          0.8636363636363636,
          0.8888888888888891,
          null,
          0.9130434782608696,
          0.9166666666666666,
          null,
          0.9166666666666666,
          0.8979591836734694,
          null,
          0.9583333333333334,
          0.979591836734694,
          null,
          0.9583333333333334,
          0.979591836734694,
          null,
          0.979591836734694,
          1,
          null,
          0.8888888888888891,
          0.979591836734694,
          null,
          0.8888888888888891,
          0.979591836734694,
          null,
          0.979591836734694,
          1,
          null,
          0.8936170212765958,
          0.9166666666666666,
          null,
          0.979591836734694,
          1,
          null
         ]
        },
        {
         "hoverinfo": "text",
         "marker": {
          "color": [
           25,
           1,
           1,
           1,
           1,
           3,
           1,
           1,
           2,
           3,
           5,
           5,
           1,
           1,
           1,
           1,
           10,
           3,
           3,
           5,
           1,
           1,
           1,
           1,
           3,
           1,
           1,
           1,
           1,
           2,
           1,
           2,
           1,
           1,
           5,
           1,
           1,
           1,
           2,
           1,
           1,
           1,
           1,
           1,
           5,
           2,
           1,
           3,
           1,
           5,
           1,
           1,
           1,
           1,
           1,
           1,
           1,
           1,
           1,
           1,
           1,
           1,
           1,
           1,
           1,
           1,
           1,
           1,
           1,
           1,
           1,
           1,
           1,
           1,
           1,
           1,
           1,
           1,
           1,
           1,
           1,
           1,
           2,
           1,
           1,
           1,
           1,
           1,
           1,
           1,
           1,
           1,
           1,
           1,
           1,
           1,
           1,
           1,
           1,
           1,
           1,
           1,
           1,
           3,
           1,
           1,
           3,
           3,
           4,
           2,
           1,
           1,
           1,
           1,
           1,
           1,
           1,
           1,
           1,
           1,
           1,
           1,
           1,
           2,
           1,
           3,
           1,
           2,
           1,
           1,
           1,
           1
          ],
          "colorscale": [
           [
            0,
            "rgb(255,255,217)"
           ],
           [
            0.125,
            "rgb(237,248,177)"
           ],
           [
            0.25,
            "rgb(199,233,180)"
           ],
           [
            0.375,
            "rgb(127,205,187)"
           ],
           [
            0.5,
            "rgb(65,182,196)"
           ],
           [
            0.625,
            "rgb(29,145,192)"
           ],
           [
            0.75,
            "rgb(34,94,168)"
           ],
           [
            0.875,
            "rgb(37,52,148)"
           ],
           [
            1,
            "rgb(8,29,88)"
           ]
          ],
          "line": {
           "width": 2
          },
          "reversescale": true,
          "showscale": true,
          "size": [
           19.931568569324174,
           6,
           6,
           6,
           6,
           10.754887502163468,
           6,
           6,
           9,
           10.754887502163468,
           12.965784284662089,
           12.965784284662089,
           6,
           6,
           6,
           6,
           15.965784284662089,
           10.754887502163468,
           10.754887502163468,
           12.965784284662089,
           6,
           6,
           6,
           6,
           10.754887502163468,
           6,
           6,
           6,
           6,
           9,
           6,
           9,
           6,
           6,
           12.965784284662089,
           6,
           6,
           6,
           9,
           6,
           6,
           6,
           6,
           6,
           12.965784284662089,
           9,
           6,
           10.754887502163468,
           6,
           12.965784284662089,
           6,
           6,
           6,
           6,
           6,
           6,
           6,
           6,
           6,
           6,
           6,
           6,
           6,
           6,
           6,
           6,
           6,
           6,
           6,
           6,
           6,
           6,
           6,
           6,
           6,
           6,
           6,
           6,
           6,
           6,
           6,
           6,
           9,
           6,
           6,
           6,
           6,
           6,
           6,
           6,
           6,
           6,
           6,
           6,
           6,
           6,
           6,
           6,
           6,
           6,
           6,
           6,
           6,
           10.754887502163468,
           6,
           6,
           10.754887502163468,
           10.754887502163468,
           12,
           9,
           6,
           6,
           6,
           6,
           6,
           6,
           6,
           6,
           6,
           6,
           6,
           6,
           6,
           9,
           6,
           10.754887502163468,
           6,
           9,
           6,
           6,
           6,
           6
          ]
         },
         "mode": "markers",
         "type": "scatter",
         "x": [
          0,
          0,
          2,
          3,
          4,
          0,
          5,
          6,
          1,
          2,
          1,
          0,
          3,
          4,
          5,
          6,
          0,
          2,
          4,
          1,
          5,
          6,
          7,
          8,
          3,
          9,
          4,
          5,
          6,
          3,
          7,
          1,
          8,
          9,
          0,
          10,
          11,
          12,
          2,
          13,
          14,
          15,
          16,
          17,
          0,
          3,
          4,
          2,
          5,
          1,
          6,
          7,
          8,
          9,
          10,
          11,
          12,
          13,
          14,
          15,
          16,
          17,
          18,
          19,
          20,
          21,
          22,
          23,
          24,
          25,
          26,
          27,
          28,
          29,
          30,
          1,
          2,
          3,
          4,
          5,
          6,
          7,
          0,
          8,
          9,
          10,
          11,
          12,
          13,
          14,
          15,
          16,
          17,
          18,
          19,
          20,
          21,
          22,
          23,
          24,
          25,
          26,
          27,
          1,
          5,
          6,
          2,
          3,
          0,
          4,
          7,
          8,
          9,
          10,
          11,
          12,
          13,
          14,
          15,
          3,
          4,
          5,
          6,
          1,
          7,
          0,
          8,
          2,
          9,
          10,
          11,
          12
         ],
         "y": [
          0,
          0.06896551724137932,
          0.14814814814814814,
          0.20689655172413796,
          0.14814814814814814,
          0.20689655172413796,
          0.14814814814814814,
          0.21428571428571425,
          0.13793103448275865,
          0.2758620689655173,
          0.2758620689655173,
          0.2758620689655173,
          0.30303030303030304,
          0.2758620689655173,
          0.3225806451612903,
          0.25806451612903225,
          0.3870967741935484,
          0.33333333333333337,
          0.3636363636363637,
          0.3636363636363637,
          0.3428571428571429,
          0.4324324324324325,
          0.3870967741935484,
          0.4375000000000001,
          0.4,
          0.4444444444444444,
          0.4848484848484849,
          0.4848484848484849,
          0.4848484848484849,
          0.4864864864864866,
          0.5263157894736842,
          0.4864864864864866,
          0.4615384615384615,
          0.5365853658536586,
          0.4848484848484849,
          0.4705882352941176,
          0.5,
          0.4736842105263158,
          0.5128205128205129,
          0.5499999999999999,
          0.5499999999999999,
          0.4864864864864866,
          0.5365853658536586,
          0.5128205128205129,
          0.5714285714285715,
          0.6111111111111112,
          0.6486486486486487,
          0.6363636363636364,
          0.5714285714285715,
          0.6486486486486487,
          0.5641025641025641,
          0.6,
          0.5714285714285715,
          0.6111111111111112,
          0.5853658536585366,
          0.6046511627906976,
          0.6666666666666665,
          0.6046511627906976,
          0.5777777777777778,
          0.6086956521739131,
          0.56,
          0.5789473684210525,
          0.6363636363636364,
          0.5853658536585366,
          0.6190476190476191,
          0.6511627906976745,
          0.5853658536585366,
          0.6666666666666665,
          0.5853658536585366,
          0.6511627906976745,
          0.6363636363636364,
          0.6222222222222222,
          0.6086956521739131,
          0.5714285714285715,
          0.6111111111111112,
          0.6956521739130435,
          0.7234042553191491,
          0.7346938775510204,
          0.76,
          0.7647058823529411,
          0.7692307692307692,
          0.7179487179487181,
          0.6842105263157895,
          0.6818181818181819,
          0.7346938775510204,
          0.72,
          0.7058823529411765,
          0.7142857142857143,
          0.7727272727272727,
          0.7555555555555556,
          0.7391304347826089,
          0.7234042553191491,
          0.7499999999999999,
          0.7499999999999999,
          0.7755102040816326,
          0.7692307692307692,
          0.7659574468085107,
          0.7499999999999999,
          0.7755102040816326,
          0.68,
          0.7407407407407408,
          0.7499999999999999,
          0.7619047619047621,
          0.7804878048780487,
          0.7804878048780487,
          0.8095238095238095,
          0.7804878048780487,
          0.8372093023255813,
          0.8636363636363636,
          0.8095238095238095,
          0.8461538461538461,
          0.7843137254901961,
          0.8214285714285714,
          0.8421052631578947,
          0.7959183673469388,
          0.7843137254901961,
          0.8444444444444444,
          0.8695652173913043,
          0.8636363636363636,
          0.8888888888888891,
          0.9130434782608696,
          0.9166666666666666,
          0.8979591836734694,
          0.9583333333333334,
          0.979591836734694,
          1,
          0.979591836734694,
          0.8888888888888891,
          0.979591836734694,
          0.8936170212765958,
          0.9166666666666666,
          0.979591836734694
         ]
        }
       ],
       "layout": {
        "annotations": [
         {
          "showarrow": false,
          "text": "",
          "x": 0.005,
          "xref": "paper",
          "y": -0.002,
          "yref": "paper"
         }
        ],
        "height": 600,
        "hovermode": "closest",
        "margin": {
         "b": 20,
         "l": 5,
         "r": 5,
         "t": 40
        },
        "showlegend": false,
        "template": {
         "data": {
          "bar": [
           {
            "error_x": {
             "color": "#2a3f5f"
            },
            "error_y": {
             "color": "#2a3f5f"
            },
            "marker": {
             "line": {
              "color": "#E5ECF6",
              "width": 0.5
             }
            },
            "type": "bar"
           }
          ],
          "barpolar": [
           {
            "marker": {
             "line": {
              "color": "#E5ECF6",
              "width": 0.5
             }
            },
            "type": "barpolar"
           }
          ],
          "carpet": [
           {
            "aaxis": {
             "endlinecolor": "#2a3f5f",
             "gridcolor": "white",
             "linecolor": "white",
             "minorgridcolor": "white",
             "startlinecolor": "#2a3f5f"
            },
            "baxis": {
             "endlinecolor": "#2a3f5f",
             "gridcolor": "white",
             "linecolor": "white",
             "minorgridcolor": "white",
             "startlinecolor": "#2a3f5f"
            },
            "type": "carpet"
           }
          ],
          "choropleth": [
           {
            "colorbar": {
             "outlinewidth": 0,
             "ticks": ""
            },
            "type": "choropleth"
           }
          ],
          "contour": [
           {
            "colorbar": {
             "outlinewidth": 0,
             "ticks": ""
            },
            "colorscale": [
             [
              0,
              "#0d0887"
             ],
             [
              0.1111111111111111,
              "#46039f"
             ],
             [
              0.2222222222222222,
              "#7201a8"
             ],
             [
              0.3333333333333333,
              "#9c179e"
             ],
             [
              0.4444444444444444,
              "#bd3786"
             ],
             [
              0.5555555555555556,
              "#d8576b"
             ],
             [
              0.6666666666666666,
              "#ed7953"
             ],
             [
              0.7777777777777778,
              "#fb9f3a"
             ],
             [
              0.8888888888888888,
              "#fdca26"
             ],
             [
              1,
              "#f0f921"
             ]
            ],
            "type": "contour"
           }
          ],
          "contourcarpet": [
           {
            "colorbar": {
             "outlinewidth": 0,
             "ticks": ""
            },
            "type": "contourcarpet"
           }
          ],
          "heatmap": [
           {
            "colorbar": {
             "outlinewidth": 0,
             "ticks": ""
            },
            "colorscale": [
             [
              0,
              "#0d0887"
             ],
             [
              0.1111111111111111,
              "#46039f"
             ],
             [
              0.2222222222222222,
              "#7201a8"
             ],
             [
              0.3333333333333333,
              "#9c179e"
             ],
             [
              0.4444444444444444,
              "#bd3786"
             ],
             [
              0.5555555555555556,
              "#d8576b"
             ],
             [
              0.6666666666666666,
              "#ed7953"
             ],
             [
              0.7777777777777778,
              "#fb9f3a"
             ],
             [
              0.8888888888888888,
              "#fdca26"
             ],
             [
              1,
              "#f0f921"
             ]
            ],
            "type": "heatmap"
           }
          ],
          "heatmapgl": [
           {
            "colorbar": {
             "outlinewidth": 0,
             "ticks": ""
            },
            "colorscale": [
             [
              0,
              "#0d0887"
             ],
             [
              0.1111111111111111,
              "#46039f"
             ],
             [
              0.2222222222222222,
              "#7201a8"
             ],
             [
              0.3333333333333333,
              "#9c179e"
             ],
             [
              0.4444444444444444,
              "#bd3786"
             ],
             [
              0.5555555555555556,
              "#d8576b"
             ],
             [
              0.6666666666666666,
              "#ed7953"
             ],
             [
              0.7777777777777778,
              "#fb9f3a"
             ],
             [
              0.8888888888888888,
              "#fdca26"
             ],
             [
              1,
              "#f0f921"
             ]
            ],
            "type": "heatmapgl"
           }
          ],
          "histogram": [
           {
            "marker": {
             "colorbar": {
              "outlinewidth": 0,
              "ticks": ""
             }
            },
            "type": "histogram"
           }
          ],
          "histogram2d": [
           {
            "colorbar": {
             "outlinewidth": 0,
             "ticks": ""
            },
            "colorscale": [
             [
              0,
              "#0d0887"
             ],
             [
              0.1111111111111111,
              "#46039f"
             ],
             [
              0.2222222222222222,
              "#7201a8"
             ],
             [
              0.3333333333333333,
              "#9c179e"
             ],
             [
              0.4444444444444444,
              "#bd3786"
             ],
             [
              0.5555555555555556,
              "#d8576b"
             ],
             [
              0.6666666666666666,
              "#ed7953"
             ],
             [
              0.7777777777777778,
              "#fb9f3a"
             ],
             [
              0.8888888888888888,
              "#fdca26"
             ],
             [
              1,
              "#f0f921"
             ]
            ],
            "type": "histogram2d"
           }
          ],
          "histogram2dcontour": [
           {
            "colorbar": {
             "outlinewidth": 0,
             "ticks": ""
            },
            "colorscale": [
             [
              0,
              "#0d0887"
             ],
             [
              0.1111111111111111,
              "#46039f"
             ],
             [
              0.2222222222222222,
              "#7201a8"
             ],
             [
              0.3333333333333333,
              "#9c179e"
             ],
             [
              0.4444444444444444,
              "#bd3786"
             ],
             [
              0.5555555555555556,
              "#d8576b"
             ],
             [
              0.6666666666666666,
              "#ed7953"
             ],
             [
              0.7777777777777778,
              "#fb9f3a"
             ],
             [
              0.8888888888888888,
              "#fdca26"
             ],
             [
              1,
              "#f0f921"
             ]
            ],
            "type": "histogram2dcontour"
           }
          ],
          "mesh3d": [
           {
            "colorbar": {
             "outlinewidth": 0,
             "ticks": ""
            },
            "type": "mesh3d"
           }
          ],
          "parcoords": [
           {
            "line": {
             "colorbar": {
              "outlinewidth": 0,
              "ticks": ""
             }
            },
            "type": "parcoords"
           }
          ],
          "pie": [
           {
            "automargin": true,
            "type": "pie"
           }
          ],
          "scatter": [
           {
            "marker": {
             "colorbar": {
              "outlinewidth": 0,
              "ticks": ""
             }
            },
            "type": "scatter"
           }
          ],
          "scatter3d": [
           {
            "line": {
             "colorbar": {
              "outlinewidth": 0,
              "ticks": ""
             }
            },
            "marker": {
             "colorbar": {
              "outlinewidth": 0,
              "ticks": ""
             }
            },
            "type": "scatter3d"
           }
          ],
          "scattercarpet": [
           {
            "marker": {
             "colorbar": {
              "outlinewidth": 0,
              "ticks": ""
             }
            },
            "type": "scattercarpet"
           }
          ],
          "scattergeo": [
           {
            "marker": {
             "colorbar": {
              "outlinewidth": 0,
              "ticks": ""
             }
            },
            "type": "scattergeo"
           }
          ],
          "scattergl": [
           {
            "marker": {
             "colorbar": {
              "outlinewidth": 0,
              "ticks": ""
             }
            },
            "type": "scattergl"
           }
          ],
          "scattermapbox": [
           {
            "marker": {
             "colorbar": {
              "outlinewidth": 0,
              "ticks": ""
             }
            },
            "type": "scattermapbox"
           }
          ],
          "scatterpolar": [
           {
            "marker": {
             "colorbar": {
              "outlinewidth": 0,
              "ticks": ""
             }
            },
            "type": "scatterpolar"
           }
          ],
          "scatterpolargl": [
           {
            "marker": {
             "colorbar": {
              "outlinewidth": 0,
              "ticks": ""
             }
            },
            "type": "scatterpolargl"
           }
          ],
          "scatterternary": [
           {
            "marker": {
             "colorbar": {
              "outlinewidth": 0,
              "ticks": ""
             }
            },
            "type": "scatterternary"
           }
          ],
          "surface": [
           {
            "colorbar": {
             "outlinewidth": 0,
             "ticks": ""
            },
            "colorscale": [
             [
              0,
              "#0d0887"
             ],
             [
              0.1111111111111111,
              "#46039f"
             ],
             [
              0.2222222222222222,
              "#7201a8"
             ],
             [
              0.3333333333333333,
              "#9c179e"
             ],
             [
              0.4444444444444444,
              "#bd3786"
             ],
             [
              0.5555555555555556,
              "#d8576b"
             ],
             [
              0.6666666666666666,
              "#ed7953"
             ],
             [
              0.7777777777777778,
              "#fb9f3a"
             ],
             [
              0.8888888888888888,
              "#fdca26"
             ],
             [
              1,
              "#f0f921"
             ]
            ],
            "type": "surface"
           }
          ],
          "table": [
           {
            "cells": {
             "fill": {
              "color": "#EBF0F8"
             },
             "line": {
              "color": "white"
             }
            },
            "header": {
             "fill": {
              "color": "#C8D4E3"
             },
             "line": {
              "color": "white"
             }
            },
            "type": "table"
           }
          ]
         },
         "layout": {
          "annotationdefaults": {
           "arrowcolor": "#2a3f5f",
           "arrowhead": 0,
           "arrowwidth": 1
          },
          "coloraxis": {
           "colorbar": {
            "outlinewidth": 0,
            "ticks": ""
           }
          },
          "colorscale": {
           "diverging": [
            [
             0,
             "#8e0152"
            ],
            [
             0.1,
             "#c51b7d"
            ],
            [
             0.2,
             "#de77ae"
            ],
            [
             0.3,
             "#f1b6da"
            ],
            [
             0.4,
             "#fde0ef"
            ],
            [
             0.5,
             "#f7f7f7"
            ],
            [
             0.6,
             "#e6f5d0"
            ],
            [
             0.7,
             "#b8e186"
            ],
            [
             0.8,
             "#7fbc41"
            ],
            [
             0.9,
             "#4d9221"
            ],
            [
             1,
             "#276419"
            ]
           ],
           "sequential": [
            [
             0,
             "#0d0887"
            ],
            [
             0.1111111111111111,
             "#46039f"
            ],
            [
             0.2222222222222222,
             "#7201a8"
            ],
            [
             0.3333333333333333,
             "#9c179e"
            ],
            [
             0.4444444444444444,
             "#bd3786"
            ],
            [
             0.5555555555555556,
             "#d8576b"
            ],
            [
             0.6666666666666666,
             "#ed7953"
            ],
            [
             0.7777777777777778,
             "#fb9f3a"
            ],
            [
             0.8888888888888888,
             "#fdca26"
            ],
            [
             1,
             "#f0f921"
            ]
           ],
           "sequentialminus": [
            [
             0,
             "#0d0887"
            ],
            [
             0.1111111111111111,
             "#46039f"
            ],
            [
             0.2222222222222222,
             "#7201a8"
            ],
            [
             0.3333333333333333,
             "#9c179e"
            ],
            [
             0.4444444444444444,
             "#bd3786"
            ],
            [
             0.5555555555555556,
             "#d8576b"
            ],
            [
             0.6666666666666666,
             "#ed7953"
            ],
            [
             0.7777777777777778,
             "#fb9f3a"
            ],
            [
             0.8888888888888888,
             "#fdca26"
            ],
            [
             1,
             "#f0f921"
            ]
           ]
          },
          "colorway": [
           "#636efa",
           "#EF553B",
           "#00cc96",
           "#ab63fa",
           "#FFA15A",
           "#19d3f3",
           "#FF6692",
           "#B6E880",
           "#FF97FF",
           "#FECB52"
          ],
          "font": {
           "color": "#2a3f5f"
          },
          "geo": {
           "bgcolor": "white",
           "lakecolor": "white",
           "landcolor": "#E5ECF6",
           "showlakes": true,
           "showland": true,
           "subunitcolor": "white"
          },
          "hoverlabel": {
           "align": "left"
          },
          "hovermode": "closest",
          "mapbox": {
           "style": "light"
          },
          "paper_bgcolor": "white",
          "plot_bgcolor": "#E5ECF6",
          "polar": {
           "angularaxis": {
            "gridcolor": "white",
            "linecolor": "white",
            "ticks": ""
           },
           "bgcolor": "#E5ECF6",
           "radialaxis": {
            "gridcolor": "white",
            "linecolor": "white",
            "ticks": ""
           }
          },
          "scene": {
           "xaxis": {
            "backgroundcolor": "#E5ECF6",
            "gridcolor": "white",
            "gridwidth": 2,
            "linecolor": "white",
            "showbackground": true,
            "ticks": "",
            "zerolinecolor": "white"
           },
           "yaxis": {
            "backgroundcolor": "#E5ECF6",
            "gridcolor": "white",
            "gridwidth": 2,
            "linecolor": "white",
            "showbackground": true,
            "ticks": "",
            "zerolinecolor": "white"
           },
           "zaxis": {
            "backgroundcolor": "#E5ECF6",
            "gridcolor": "white",
            "gridwidth": 2,
            "linecolor": "white",
            "showbackground": true,
            "ticks": "",
            "zerolinecolor": "white"
           }
          },
          "shapedefaults": {
           "line": {
            "color": "#2a3f5f"
           }
          },
          "ternary": {
           "aaxis": {
            "gridcolor": "white",
            "linecolor": "white",
            "ticks": ""
           },
           "baxis": {
            "gridcolor": "white",
            "linecolor": "white",
            "ticks": ""
           },
           "bgcolor": "#E5ECF6",
           "caxis": {
            "gridcolor": "white",
            "linecolor": "white",
            "ticks": ""
           }
          },
          "title": {
           "x": 0.05
          },
          "xaxis": {
           "automargin": true,
           "gridcolor": "white",
           "linecolor": "white",
           "ticks": "",
           "title": {
            "standoff": 15
           },
           "zerolinecolor": "white",
           "zerolinewidth": 2
          },
          "yaxis": {
           "automargin": true,
           "gridcolor": "white",
           "linecolor": "white",
           "ticks": "",
           "title": {
            "standoff": 15
           },
           "zerolinecolor": "white",
           "zerolinewidth": 2
          }
         }
        },
        "title": {
         "font": {
          "size": 16
         },
         "text": "<br>World states for hand_selected_008, repetition 0, by number of squares"
        },
        "width": 600
       }
      },
      "text/html": [
       "<div>\n",
       "        \n",
       "        \n",
       "            <div id=\"f929ef6f-320d-40a3-9efa-e6c8184dc09b\" class=\"plotly-graph-div\" style=\"height:600px; width:600px;\"></div>\n",
       "            <script type=\"text/javascript\">\n",
       "                require([\"plotly\"], function(Plotly) {\n",
       "                    window.PLOTLYENV=window.PLOTLYENV || {};\n",
       "                    \n",
       "                if (document.getElementById(\"f929ef6f-320d-40a3-9efa-e6c8184dc09b\")) {\n",
       "                    Plotly.newPlot(\n",
       "                        'f929ef6f-320d-40a3-9efa-e6c8184dc09b',\n",
       "                        [{\"hoverinfo\": \"none\", \"line\": {\"color\": \"#888\", \"width\": 0.5}, \"mode\": \"lines\", \"type\": \"scatter\", \"x\": [0, 2, null, 0, 2, null, 0, 1, null, 0, 1, null, 0, 2, null, 0, 2, null, 0, 0, null, 0, 0, null, 0, 1, null, 0, 3, null, 0, 0, null, 0, 0, null, 0, 4, null, 0, 4, null, 0, 0, null, 0, 0, null, 0, 5, null, 0, 0, null, 0, 2, null, 0, 1, null, 0, 1, null, 0, 0, null, 0, 1, null, 0, 1, null, 0, 3, null, 2, 0, null, 3, 1, null, 4, 7, null, 0, 1, null, 0, 1, null, 0, 1, null, 5, 6, null, 6, 2, null, 1, 4, null, 1, 6, null, 2, 0, null, 2, 0, null, 2, 0, null, 1, 4, null, 1, 0, null, 1, 0, null, 1, 0, null, 1, 0, null, 0, 2, null, 0, 6, null, 0, 4, null, 0, 2, null, 0, 5, null, 3, 5, null, 4, 0, null, 5, 1, null, 6, 4, null, 0, 0, null, 0, 0, null, 0, 5, null, 0, 0, null, 0, 8, null, 0, 0, null, 0, 0, null, 0, 0, null, 0, 0, null, 0, 0, null, 2, 0, null, 2, 0, null, 2, 0, null, 4, 3, null, 4, 15, null, 4, 3, null, 1, 1, null, 1, 3, null, 1, 1, null, 1, 3, null, 1, 3, null, 5, 6, null, 6, 8, null, 7, 8, null, 8, 11, null, 3, 2, null, 3, 9, null, 3, 2, null, 9, 14, null, 4, 5, null, 5, 0, null, 3, 7, null, 3, 17, null, 7, 6, null, 1, 10, null, 1, 19, null, 8, 9, null, 9, 13, null, 0, 1, null, 0, 10, null, 0, 1, null, 0, 1, null, 0, 29, null, 10, 17, null, 11, 12, null, 2, 13, null, 2, 16, null, 13, 18, null, 14, 22, null, 15, 24, null, 16, 27, null, 0, 3, null, 0, 1, null, 0, 3, null, 0, 1, null, 3, 4, null, 3, 0, null, 4, 1, null, 2, 2, null, 2, 2, null, 2, 1, null, 5, 7, null, 1, 2, null, 1, 2, null, 1, 0, null, 1, 2, null, 6, 7, null, 7, 8, null, 8, 9, null, 10, 11, null, 11, 12, null, 12, 9, null, 13, 14, null, 14, 15, null, 15, 16, null, 17, 12, null, 18, 18, null, 19, 20, null, 20, 21, null, 21, 21, null, 22, 23, null, 24, 25, null, 25, 26, null, 26, 22, null, 27, 28, null, 28, 24, null, 29, 30, null, 30, 26, null, 1, 2, null, 2, 3, null, 3, 4, null, 4, 5, null, 5, 6, null, 7, 5, null, 0, 4, null, 0, 4, null, 9, 10, null, 10, 11, null, 12, 13, null, 13, 14, null, 14, 15, null, 15, 16, null, 16, 17, null, 17, 7, null, 18, 19, null, 19, 8, null, 20, 9, null, 21, 11, null, 22, 23, null, 24, 25, null, 26, 27, null, 1, 1, null, 1, 1, null, 1, 3, null, 5, 6, null, 6, 4, null, 2, 3, null, 2, 3, null, 2, 3, null, 3, 0, null, 3, 0, null, 3, 15, null, 0, 1, null, 0, 1, null, 0, 2, null, 0, 13, null, 4, 0, null, 4, 0, null, 8, 20, null, 9, 10, null, 11, 12, null, 13, 14, null, 14, 10, null, 15, 2, null, 4, 5, null, 5, 6, null, 1, 7, null, 1, 8, null, 7, 0, null, 2, 9, null, 2, 12, null, 9, 0, null, 10, 11, null, 12, 0, null], \"y\": [0, 0.2758620689655173, null, 0, 0.6363636363636364, null, 0, 0.2758620689655173, null, 0, 0.2758620689655173, null, 0, 0.14814814814814814, null, 0, 0.2758620689655173, null, 0, 0.2758620689655173, null, 0, 0.2758620689655173, null, 0, 0.2758620689655173, null, 0, 0.20689655172413796, null, 0, 0.06896551724137932, null, 0, 0.2758620689655173, null, 0, 0.2758620689655173, null, 0, 0.14814814814814814, null, 0, 0.20689655172413796, null, 0, 0.2758620689655173, null, 0, 0.14814814814814814, null, 0, 0.20689655172413796, null, 0, 0.2758620689655173, null, 0, 0.2758620689655173, null, 0, 0.13793103448275865, null, 0, 0.20689655172413796, null, 0, 0.13793103448275865, null, 0, 0.2758620689655173, null, 0.06896551724137932, 0.30303030303030304, null, 0.14814814814814814, 0.2758620689655173, null, 0.20689655172413796, 0.3636363636363637, null, 0.14814814814814814, 0.3870967741935484, null, 0.20689655172413796, 0.3636363636363637, null, 0.20689655172413796, 0.3636363636363637, null, 0.20689655172413796, 0.3636363636363637, null, 0.14814814814814814, 0.21428571428571425, null, 0.21428571428571425, 0.33333333333333337, null, 0.13793103448275865, 0.3636363636363637, null, 0.13793103448275865, 0.25806451612903225, null, 0.2758620689655173, 0.3870967741935484, null, 0.2758620689655173, 0.3870967741935484, null, 0.2758620689655173, 0.3870967741935484, null, 0.2758620689655173, 0.4848484848484849, null, 0.2758620689655173, 0.3870967741935484, null, 0.2758620689655173, 0.3870967741935484, null, 0.2758620689655173, 0.3870967741935484, null, 0.2758620689655173, 0.3870967741935484, null, 0.2758620689655173, 0.33333333333333337, null, 0.2758620689655173, 0.4848484848484849, null, 0.2758620689655173, 0.3636363636363637, null, 0.2758620689655173, 0.33333333333333337, null, 0.2758620689655173, 0.3225806451612903, null, 0.30303030303030304, 0.3428571428571429, null, 0.2758620689655173, 0.4848484848484849, null, 0.3225806451612903, 0.3636363636363637, null, 0.25806451612903225, 0.3636363636363637, null, 0.3870967741935484, 0.5714285714285715, null, 0.3870967741935484, 0.5714285714285715, null, 0.3870967741935484, 0.4848484848484849, null, 0.3870967741935484, 0.5714285714285715, null, 0.3870967741935484, 0.5714285714285715, null, 0.3870967741935484, 0.4848484848484849, null, 0.3870967741935484, 0.4848484848484849, null, 0.3870967741935484, 0.4848484848484849, null, 0.3870967741935484, 0.5714285714285715, null, 0.3870967741935484, 0.4848484848484849, null, 0.33333333333333337, 0.3870967741935484, null, 0.33333333333333337, 0.3870967741935484, null, 0.33333333333333337, 0.3870967741935484, null, 0.3636363636363637, 0.4864864864864866, null, 0.3636363636363637, 0.4864864864864866, null, 0.3636363636363637, 0.4864864864864866, null, 0.3636363636363637, 0.4864864864864866, null, 0.3636363636363637, 0.4, null, 0.3636363636363637, 0.4864864864864866, null, 0.3636363636363637, 0.4, null, 0.3636363636363637, 0.4, null, 0.3428571428571429, 0.4324324324324325, null, 0.4324324324324325, 0.4615384615384615, null, 0.3870967741935484, 0.4375000000000001, null, 0.4375000000000001, 0.5, null, 0.4, 0.5128205128205129, null, 0.4, 0.4444444444444444, null, 0.4, 0.5128205128205129, null, 0.4444444444444444, 0.5499999999999999, null, 0.4848484848484849, 0.5714285714285715, null, 0.4848484848484849, 0.5714285714285715, null, 0.4864864864864866, 0.5263157894736842, null, 0.4864864864864866, 0.5128205128205129, null, 0.5263157894736842, 0.5641025641025641, null, 0.4864864864864866, 0.5853658536585366, null, 0.4864864864864866, 0.5853658536585366, null, 0.4615384615384615, 0.5365853658536586, null, 0.5365853658536586, 0.6046511627906976, null, 0.4848484848484849, 0.6486486486486487, null, 0.4848484848484849, 0.4705882352941176, null, 0.4848484848484849, 0.6486486486486487, null, 0.4848484848484849, 0.6486486486486487, null, 0.4848484848484849, 0.5714285714285715, null, 0.4705882352941176, 0.5789473684210525, null, 0.5, 0.4736842105263158, null, 0.5128205128205129, 0.5499999999999999, null, 0.5128205128205129, 0.5365853658536586, null, 0.5499999999999999, 0.6363636363636364, null, 0.5499999999999999, 0.5853658536585366, null, 0.4864864864864866, 0.5853658536585366, null, 0.5365853658536586, 0.6222222222222222, null, 0.5714285714285715, 0.6111111111111112, null, 0.5714285714285715, 0.6486486486486487, null, 0.5714285714285715, 0.6111111111111112, null, 0.5714285714285715, 0.6486486486486487, null, 0.6111111111111112, 0.6486486486486487, null, 0.6111111111111112, 0.6842105263157895, null, 0.6486486486486487, 0.7804878048780487, null, 0.6363636363636364, 0.6363636363636364, null, 0.6363636363636364, 0.6363636363636364, null, 0.6363636363636364, 0.6956521739130435, null, 0.5714285714285715, 0.7179487179487181, null, 0.6486486486486487, 0.7804878048780487, null, 0.6486486486486487, 0.7804878048780487, null, 0.6486486486486487, 0.6842105263157895, null, 0.6486486486486487, 0.7804878048780487, null, 0.5641025641025641, 0.6, null, 0.6, 0.6818181818181819, null, 0.5714285714285715, 0.6111111111111112, null, 0.5853658536585366, 0.6046511627906976, null, 0.6046511627906976, 0.6666666666666665, null, 0.6666666666666665, 0.7346938775510204, null, 0.6046511627906976, 0.5777777777777778, null, 0.5777777777777778, 0.6086956521739131, null, 0.6086956521739131, 0.56, null, 0.5789473684210525, 0.7142857142857143, null, 0.6363636363636364, 0.7499999999999999, null, 0.5853658536585366, 0.6190476190476191, null, 0.6190476190476191, 0.6511627906976745, null, 0.6511627906976745, 0.7659574468085107, null, 0.5853658536585366, 0.6666666666666665, null, 0.5853658536585366, 0.6511627906976745, null, 0.6511627906976745, 0.6363636363636364, null, 0.6363636363636364, 0.7499999999999999, null, 0.6222222222222222, 0.6086956521739131, null, 0.6086956521739131, 0.68, null, 0.5714285714285715, 0.6111111111111112, null, 0.6111111111111112, 0.7499999999999999, null, 0.6956521739130435, 0.7234042553191491, null, 0.7234042553191491, 0.7346938775510204, null, 0.7346938775510204, 0.76, null, 0.76, 0.7647058823529411, null, 0.7647058823529411, 0.7692307692307692, null, 0.7179487179487181, 0.7804878048780487, null, 0.6842105263157895, 0.8095238095238095, null, 0.6842105263157895, 0.8095238095238095, null, 0.7346938775510204, 0.72, null, 0.72, 0.7058823529411765, null, 0.7142857142857143, 0.7727272727272727, null, 0.7727272727272727, 0.7555555555555556, null, 0.7555555555555556, 0.7391304347826089, null, 0.7391304347826089, 0.7234042553191491, null, 0.7234042553191491, 0.7499999999999999, null, 0.7499999999999999, 0.8461538461538461, null, 0.7499999999999999, 0.7755102040816326, null, 0.7755102040816326, 0.7843137254901961, null, 0.7692307692307692, 0.8214285714285714, null, 0.7659574468085107, 0.7959183673469388, null, 0.7499999999999999, 0.7755102040816326, null, 0.68, 0.7407407407407408, null, 0.7499999999999999, 0.7619047619047621, null, 0.7804878048780487, 0.7804878048780487, null, 0.7804878048780487, 0.7804878048780487, null, 0.7804878048780487, 0.8888888888888891, null, 0.7804878048780487, 0.8095238095238095, null, 0.8095238095238095, 0.9130434782608696, null, 0.7804878048780487, 0.8372093023255813, null, 0.7804878048780487, 0.8372093023255813, null, 0.7804878048780487, 0.8372093023255813, null, 0.8372093023255813, 0.8636363636363636, null, 0.8372093023255813, 0.8636363636363636, null, 0.8372093023255813, 0.8636363636363636, null, 0.8636363636363636, 0.9583333333333334, null, 0.8636363636363636, 0.9583333333333334, null, 0.8636363636363636, 0.8888888888888891, null, 0.8636363636363636, 0.8444444444444444, null, 0.8095238095238095, 0.8636363636363636, null, 0.8095238095238095, 0.8636363636363636, null, 0.7843137254901961, 0.7692307692307692, null, 0.8214285714285714, 0.8421052631578947, null, 0.7959183673469388, 0.7843137254901961, null, 0.8444444444444444, 0.8695652173913043, null, 0.8695652173913043, 0.8936170212765958, null, 0.8636363636363636, 0.8888888888888891, null, 0.9130434782608696, 0.9166666666666666, null, 0.9166666666666666, 0.8979591836734694, null, 0.9583333333333334, 0.979591836734694, null, 0.9583333333333334, 0.979591836734694, null, 0.979591836734694, 1.0, null, 0.8888888888888891, 0.979591836734694, null, 0.8888888888888891, 0.979591836734694, null, 0.979591836734694, 1.0, null, 0.8936170212765958, 0.9166666666666666, null, 0.979591836734694, 1.0, null]}, {\"hoverinfo\": \"text\", \"marker\": {\"color\": [25, 1, 1, 1, 1, 3, 1, 1, 2, 3, 5, 5, 1, 1, 1, 1, 10, 3, 3, 5, 1, 1, 1, 1, 3, 1, 1, 1, 1, 2, 1, 2, 1, 1, 5, 1, 1, 1, 2, 1, 1, 1, 1, 1, 5, 2, 1, 3, 1, 5, 1, 1, 1, 1, 1, 1, 1, 1, 1, 1, 1, 1, 1, 1, 1, 1, 1, 1, 1, 1, 1, 1, 1, 1, 1, 1, 1, 1, 1, 1, 1, 1, 2, 1, 1, 1, 1, 1, 1, 1, 1, 1, 1, 1, 1, 1, 1, 1, 1, 1, 1, 1, 1, 3, 1, 1, 3, 3, 4, 2, 1, 1, 1, 1, 1, 1, 1, 1, 1, 1, 1, 1, 1, 2, 1, 3, 1, 2, 1, 1, 1, 1], \"colorscale\": [[0.0, \"rgb(255,255,217)\"], [0.125, \"rgb(237,248,177)\"], [0.25, \"rgb(199,233,180)\"], [0.375, \"rgb(127,205,187)\"], [0.5, \"rgb(65,182,196)\"], [0.625, \"rgb(29,145,192)\"], [0.75, \"rgb(34,94,168)\"], [0.875, \"rgb(37,52,148)\"], [1.0, \"rgb(8,29,88)\"]], \"line\": {\"width\": 2}, \"reversescale\": true, \"showscale\": true, \"size\": [19.931568569324174, 6.0, 6.0, 6.0, 6.0, 10.754887502163468, 6.0, 6.0, 9.0, 10.754887502163468, 12.965784284662089, 12.965784284662089, 6.0, 6.0, 6.0, 6.0, 15.965784284662089, 10.754887502163468, 10.754887502163468, 12.965784284662089, 6.0, 6.0, 6.0, 6.0, 10.754887502163468, 6.0, 6.0, 6.0, 6.0, 9.0, 6.0, 9.0, 6.0, 6.0, 12.965784284662089, 6.0, 6.0, 6.0, 9.0, 6.0, 6.0, 6.0, 6.0, 6.0, 12.965784284662089, 9.0, 6.0, 10.754887502163468, 6.0, 12.965784284662089, 6.0, 6.0, 6.0, 6.0, 6.0, 6.0, 6.0, 6.0, 6.0, 6.0, 6.0, 6.0, 6.0, 6.0, 6.0, 6.0, 6.0, 6.0, 6.0, 6.0, 6.0, 6.0, 6.0, 6.0, 6.0, 6.0, 6.0, 6.0, 6.0, 6.0, 6.0, 6.0, 9.0, 6.0, 6.0, 6.0, 6.0, 6.0, 6.0, 6.0, 6.0, 6.0, 6.0, 6.0, 6.0, 6.0, 6.0, 6.0, 6.0, 6.0, 6.0, 6.0, 6.0, 10.754887502163468, 6.0, 6.0, 10.754887502163468, 10.754887502163468, 12.0, 9.0, 6.0, 6.0, 6.0, 6.0, 6.0, 6.0, 6.0, 6.0, 6.0, 6.0, 6.0, 6.0, 6.0, 9.0, 6.0, 10.754887502163468, 6.0, 9.0, 6.0, 6.0, 6.0, 6.0]}, \"mode\": \"markers\", \"type\": \"scatter\", \"x\": [0, 0, 2, 3, 4, 0, 5, 6, 1, 2, 1, 0, 3, 4, 5, 6, 0, 2, 4, 1, 5, 6, 7, 8, 3, 9, 4, 5, 6, 3, 7, 1, 8, 9, 0, 10, 11, 12, 2, 13, 14, 15, 16, 17, 0, 3, 4, 2, 5, 1, 6, 7, 8, 9, 10, 11, 12, 13, 14, 15, 16, 17, 18, 19, 20, 21, 22, 23, 24, 25, 26, 27, 28, 29, 30, 1, 2, 3, 4, 5, 6, 7, 0, 8, 9, 10, 11, 12, 13, 14, 15, 16, 17, 18, 19, 20, 21, 22, 23, 24, 25, 26, 27, 1, 5, 6, 2, 3, 0, 4, 7, 8, 9, 10, 11, 12, 13, 14, 15, 3, 4, 5, 6, 1, 7, 0, 8, 2, 9, 10, 11, 12], \"y\": [0, 0.06896551724137932, 0.14814814814814814, 0.20689655172413796, 0.14814814814814814, 0.20689655172413796, 0.14814814814814814, 0.21428571428571425, 0.13793103448275865, 0.2758620689655173, 0.2758620689655173, 0.2758620689655173, 0.30303030303030304, 0.2758620689655173, 0.3225806451612903, 0.25806451612903225, 0.3870967741935484, 0.33333333333333337, 0.3636363636363637, 0.3636363636363637, 0.3428571428571429, 0.4324324324324325, 0.3870967741935484, 0.4375000000000001, 0.4, 0.4444444444444444, 0.4848484848484849, 0.4848484848484849, 0.4848484848484849, 0.4864864864864866, 0.5263157894736842, 0.4864864864864866, 0.4615384615384615, 0.5365853658536586, 0.4848484848484849, 0.4705882352941176, 0.5, 0.4736842105263158, 0.5128205128205129, 0.5499999999999999, 0.5499999999999999, 0.4864864864864866, 0.5365853658536586, 0.5128205128205129, 0.5714285714285715, 0.6111111111111112, 0.6486486486486487, 0.6363636363636364, 0.5714285714285715, 0.6486486486486487, 0.5641025641025641, 0.6, 0.5714285714285715, 0.6111111111111112, 0.5853658536585366, 0.6046511627906976, 0.6666666666666665, 0.6046511627906976, 0.5777777777777778, 0.6086956521739131, 0.56, 0.5789473684210525, 0.6363636363636364, 0.5853658536585366, 0.6190476190476191, 0.6511627906976745, 0.5853658536585366, 0.6666666666666665, 0.5853658536585366, 0.6511627906976745, 0.6363636363636364, 0.6222222222222222, 0.6086956521739131, 0.5714285714285715, 0.6111111111111112, 0.6956521739130435, 0.7234042553191491, 0.7346938775510204, 0.76, 0.7647058823529411, 0.7692307692307692, 0.7179487179487181, 0.6842105263157895, 0.6818181818181819, 0.7346938775510204, 0.72, 0.7058823529411765, 0.7142857142857143, 0.7727272727272727, 0.7555555555555556, 0.7391304347826089, 0.7234042553191491, 0.7499999999999999, 0.7499999999999999, 0.7755102040816326, 0.7692307692307692, 0.7659574468085107, 0.7499999999999999, 0.7755102040816326, 0.68, 0.7407407407407408, 0.7499999999999999, 0.7619047619047621, 0.7804878048780487, 0.7804878048780487, 0.8095238095238095, 0.7804878048780487, 0.8372093023255813, 0.8636363636363636, 0.8095238095238095, 0.8461538461538461, 0.7843137254901961, 0.8214285714285714, 0.8421052631578947, 0.7959183673469388, 0.7843137254901961, 0.8444444444444444, 0.8695652173913043, 0.8636363636363636, 0.8888888888888891, 0.9130434782608696, 0.9166666666666666, 0.8979591836734694, 0.9583333333333334, 0.979591836734694, 1.0, 0.979591836734694, 0.8888888888888891, 0.979591836734694, 0.8936170212765958, 0.9166666666666666, 0.979591836734694]}],\n",
       "                        {\"annotations\": [{\"showarrow\": false, \"text\": \"\", \"x\": 0.005, \"xref\": \"paper\", \"y\": -0.002, \"yref\": \"paper\"}], \"height\": 600, \"hovermode\": \"closest\", \"margin\": {\"b\": 20, \"l\": 5, \"r\": 5, \"t\": 40}, \"showlegend\": false, \"template\": {\"data\": {\"bar\": [{\"error_x\": {\"color\": \"#2a3f5f\"}, \"error_y\": {\"color\": \"#2a3f5f\"}, \"marker\": {\"line\": {\"color\": \"#E5ECF6\", \"width\": 0.5}}, \"type\": \"bar\"}], \"barpolar\": [{\"marker\": {\"line\": {\"color\": \"#E5ECF6\", \"width\": 0.5}}, \"type\": \"barpolar\"}], \"carpet\": [{\"aaxis\": {\"endlinecolor\": \"#2a3f5f\", \"gridcolor\": \"white\", \"linecolor\": \"white\", \"minorgridcolor\": \"white\", \"startlinecolor\": \"#2a3f5f\"}, \"baxis\": {\"endlinecolor\": \"#2a3f5f\", \"gridcolor\": \"white\", \"linecolor\": \"white\", \"minorgridcolor\": \"white\", \"startlinecolor\": \"#2a3f5f\"}, \"type\": \"carpet\"}], \"choropleth\": [{\"colorbar\": {\"outlinewidth\": 0, \"ticks\": \"\"}, \"type\": \"choropleth\"}], \"contour\": [{\"colorbar\": {\"outlinewidth\": 0, \"ticks\": \"\"}, \"colorscale\": [[0.0, \"#0d0887\"], [0.1111111111111111, \"#46039f\"], [0.2222222222222222, \"#7201a8\"], [0.3333333333333333, \"#9c179e\"], [0.4444444444444444, \"#bd3786\"], [0.5555555555555556, \"#d8576b\"], [0.6666666666666666, \"#ed7953\"], [0.7777777777777778, \"#fb9f3a\"], [0.8888888888888888, \"#fdca26\"], [1.0, \"#f0f921\"]], \"type\": \"contour\"}], \"contourcarpet\": [{\"colorbar\": {\"outlinewidth\": 0, \"ticks\": \"\"}, \"type\": \"contourcarpet\"}], \"heatmap\": [{\"colorbar\": {\"outlinewidth\": 0, \"ticks\": \"\"}, \"colorscale\": [[0.0, \"#0d0887\"], [0.1111111111111111, \"#46039f\"], [0.2222222222222222, \"#7201a8\"], [0.3333333333333333, \"#9c179e\"], [0.4444444444444444, \"#bd3786\"], [0.5555555555555556, \"#d8576b\"], [0.6666666666666666, \"#ed7953\"], [0.7777777777777778, \"#fb9f3a\"], [0.8888888888888888, \"#fdca26\"], [1.0, \"#f0f921\"]], \"type\": \"heatmap\"}], \"heatmapgl\": [{\"colorbar\": {\"outlinewidth\": 0, \"ticks\": \"\"}, \"colorscale\": [[0.0, \"#0d0887\"], [0.1111111111111111, \"#46039f\"], [0.2222222222222222, \"#7201a8\"], [0.3333333333333333, \"#9c179e\"], [0.4444444444444444, \"#bd3786\"], [0.5555555555555556, \"#d8576b\"], [0.6666666666666666, \"#ed7953\"], [0.7777777777777778, \"#fb9f3a\"], [0.8888888888888888, \"#fdca26\"], [1.0, \"#f0f921\"]], \"type\": \"heatmapgl\"}], \"histogram\": [{\"marker\": {\"colorbar\": {\"outlinewidth\": 0, \"ticks\": \"\"}}, \"type\": \"histogram\"}], \"histogram2d\": [{\"colorbar\": {\"outlinewidth\": 0, \"ticks\": \"\"}, \"colorscale\": [[0.0, \"#0d0887\"], [0.1111111111111111, \"#46039f\"], [0.2222222222222222, \"#7201a8\"], [0.3333333333333333, \"#9c179e\"], [0.4444444444444444, \"#bd3786\"], [0.5555555555555556, \"#d8576b\"], [0.6666666666666666, \"#ed7953\"], [0.7777777777777778, \"#fb9f3a\"], [0.8888888888888888, \"#fdca26\"], [1.0, \"#f0f921\"]], \"type\": \"histogram2d\"}], \"histogram2dcontour\": [{\"colorbar\": {\"outlinewidth\": 0, \"ticks\": \"\"}, \"colorscale\": [[0.0, \"#0d0887\"], [0.1111111111111111, \"#46039f\"], [0.2222222222222222, \"#7201a8\"], [0.3333333333333333, \"#9c179e\"], [0.4444444444444444, \"#bd3786\"], [0.5555555555555556, \"#d8576b\"], [0.6666666666666666, \"#ed7953\"], [0.7777777777777778, \"#fb9f3a\"], [0.8888888888888888, \"#fdca26\"], [1.0, \"#f0f921\"]], \"type\": \"histogram2dcontour\"}], \"mesh3d\": [{\"colorbar\": {\"outlinewidth\": 0, \"ticks\": \"\"}, \"type\": \"mesh3d\"}], \"parcoords\": [{\"line\": {\"colorbar\": {\"outlinewidth\": 0, \"ticks\": \"\"}}, \"type\": \"parcoords\"}], \"pie\": [{\"automargin\": true, \"type\": \"pie\"}], \"scatter\": [{\"marker\": {\"colorbar\": {\"outlinewidth\": 0, \"ticks\": \"\"}}, \"type\": \"scatter\"}], \"scatter3d\": [{\"line\": {\"colorbar\": {\"outlinewidth\": 0, \"ticks\": \"\"}}, \"marker\": {\"colorbar\": {\"outlinewidth\": 0, \"ticks\": \"\"}}, \"type\": \"scatter3d\"}], \"scattercarpet\": [{\"marker\": {\"colorbar\": {\"outlinewidth\": 0, \"ticks\": \"\"}}, \"type\": \"scattercarpet\"}], \"scattergeo\": [{\"marker\": {\"colorbar\": {\"outlinewidth\": 0, \"ticks\": \"\"}}, \"type\": \"scattergeo\"}], \"scattergl\": [{\"marker\": {\"colorbar\": {\"outlinewidth\": 0, \"ticks\": \"\"}}, \"type\": \"scattergl\"}], \"scattermapbox\": [{\"marker\": {\"colorbar\": {\"outlinewidth\": 0, \"ticks\": \"\"}}, \"type\": \"scattermapbox\"}], \"scatterpolar\": [{\"marker\": {\"colorbar\": {\"outlinewidth\": 0, \"ticks\": \"\"}}, \"type\": \"scatterpolar\"}], \"scatterpolargl\": [{\"marker\": {\"colorbar\": {\"outlinewidth\": 0, \"ticks\": \"\"}}, \"type\": \"scatterpolargl\"}], \"scatterternary\": [{\"marker\": {\"colorbar\": {\"outlinewidth\": 0, \"ticks\": \"\"}}, \"type\": \"scatterternary\"}], \"surface\": [{\"colorbar\": {\"outlinewidth\": 0, \"ticks\": \"\"}, \"colorscale\": [[0.0, \"#0d0887\"], [0.1111111111111111, \"#46039f\"], [0.2222222222222222, \"#7201a8\"], [0.3333333333333333, \"#9c179e\"], [0.4444444444444444, \"#bd3786\"], [0.5555555555555556, \"#d8576b\"], [0.6666666666666666, \"#ed7953\"], [0.7777777777777778, \"#fb9f3a\"], [0.8888888888888888, \"#fdca26\"], [1.0, \"#f0f921\"]], \"type\": \"surface\"}], \"table\": [{\"cells\": {\"fill\": {\"color\": \"#EBF0F8\"}, \"line\": {\"color\": \"white\"}}, \"header\": {\"fill\": {\"color\": \"#C8D4E3\"}, \"line\": {\"color\": \"white\"}}, \"type\": \"table\"}]}, \"layout\": {\"annotationdefaults\": {\"arrowcolor\": \"#2a3f5f\", \"arrowhead\": 0, \"arrowwidth\": 1}, \"coloraxis\": {\"colorbar\": {\"outlinewidth\": 0, \"ticks\": \"\"}}, \"colorscale\": {\"diverging\": [[0, \"#8e0152\"], [0.1, \"#c51b7d\"], [0.2, \"#de77ae\"], [0.3, \"#f1b6da\"], [0.4, \"#fde0ef\"], [0.5, \"#f7f7f7\"], [0.6, \"#e6f5d0\"], [0.7, \"#b8e186\"], [0.8, \"#7fbc41\"], [0.9, \"#4d9221\"], [1, \"#276419\"]], \"sequential\": [[0.0, \"#0d0887\"], [0.1111111111111111, \"#46039f\"], [0.2222222222222222, \"#7201a8\"], [0.3333333333333333, \"#9c179e\"], [0.4444444444444444, \"#bd3786\"], [0.5555555555555556, \"#d8576b\"], [0.6666666666666666, \"#ed7953\"], [0.7777777777777778, \"#fb9f3a\"], [0.8888888888888888, \"#fdca26\"], [1.0, \"#f0f921\"]], \"sequentialminus\": [[0.0, \"#0d0887\"], [0.1111111111111111, \"#46039f\"], [0.2222222222222222, \"#7201a8\"], [0.3333333333333333, \"#9c179e\"], [0.4444444444444444, \"#bd3786\"], [0.5555555555555556, \"#d8576b\"], [0.6666666666666666, \"#ed7953\"], [0.7777777777777778, \"#fb9f3a\"], [0.8888888888888888, \"#fdca26\"], [1.0, \"#f0f921\"]]}, \"colorway\": [\"#636efa\", \"#EF553B\", \"#00cc96\", \"#ab63fa\", \"#FFA15A\", \"#19d3f3\", \"#FF6692\", \"#B6E880\", \"#FF97FF\", \"#FECB52\"], \"font\": {\"color\": \"#2a3f5f\"}, \"geo\": {\"bgcolor\": \"white\", \"lakecolor\": \"white\", \"landcolor\": \"#E5ECF6\", \"showlakes\": true, \"showland\": true, \"subunitcolor\": \"white\"}, \"hoverlabel\": {\"align\": \"left\"}, \"hovermode\": \"closest\", \"mapbox\": {\"style\": \"light\"}, \"paper_bgcolor\": \"white\", \"plot_bgcolor\": \"#E5ECF6\", \"polar\": {\"angularaxis\": {\"gridcolor\": \"white\", \"linecolor\": \"white\", \"ticks\": \"\"}, \"bgcolor\": \"#E5ECF6\", \"radialaxis\": {\"gridcolor\": \"white\", \"linecolor\": \"white\", \"ticks\": \"\"}}, \"scene\": {\"xaxis\": {\"backgroundcolor\": \"#E5ECF6\", \"gridcolor\": \"white\", \"gridwidth\": 2, \"linecolor\": \"white\", \"showbackground\": true, \"ticks\": \"\", \"zerolinecolor\": \"white\"}, \"yaxis\": {\"backgroundcolor\": \"#E5ECF6\", \"gridcolor\": \"white\", \"gridwidth\": 2, \"linecolor\": \"white\", \"showbackground\": true, \"ticks\": \"\", \"zerolinecolor\": \"white\"}, \"zaxis\": {\"backgroundcolor\": \"#E5ECF6\", \"gridcolor\": \"white\", \"gridwidth\": 2, \"linecolor\": \"white\", \"showbackground\": true, \"ticks\": \"\", \"zerolinecolor\": \"white\"}}, \"shapedefaults\": {\"line\": {\"color\": \"#2a3f5f\"}}, \"ternary\": {\"aaxis\": {\"gridcolor\": \"white\", \"linecolor\": \"white\", \"ticks\": \"\"}, \"baxis\": {\"gridcolor\": \"white\", \"linecolor\": \"white\", \"ticks\": \"\"}, \"bgcolor\": \"#E5ECF6\", \"caxis\": {\"gridcolor\": \"white\", \"linecolor\": \"white\", \"ticks\": \"\"}}, \"title\": {\"x\": 0.05}, \"xaxis\": {\"automargin\": true, \"gridcolor\": \"white\", \"linecolor\": \"white\", \"ticks\": \"\", \"title\": {\"standoff\": 15}, \"zerolinecolor\": \"white\", \"zerolinewidth\": 2}, \"yaxis\": {\"automargin\": true, \"gridcolor\": \"white\", \"linecolor\": \"white\", \"ticks\": \"\", \"title\": {\"standoff\": 15}, \"zerolinecolor\": \"white\", \"zerolinewidth\": 2}}}, \"title\": {\"font\": {\"size\": 16}, \"text\": \"<br>World states for hand_selected_008, repetition 0, by number of squares\"}, \"width\": 600},\n",
       "                        {\"responsive\": true}\n",
       "                    ).then(function(){\n",
       "                            \n",
       "var gd = document.getElementById('f929ef6f-320d-40a3-9efa-e6c8184dc09b');\n",
       "var x = new MutationObserver(function (mutations, observer) {{\n",
       "        var display = window.getComputedStyle(gd).display;\n",
       "        if (!display || display === 'none') {{\n",
       "            console.log([gd, 'removed!']);\n",
       "            Plotly.purge(gd);\n",
       "            observer.disconnect();\n",
       "        }}\n",
       "}});\n",
       "\n",
       "// Listen for the removal of the full notebook cells\n",
       "var notebookContainer = gd.closest('#notebook-container');\n",
       "if (notebookContainer) {{\n",
       "    x.observe(notebookContainer, {childList: true});\n",
       "}}\n",
       "\n",
       "// Listen for the clearing of the current output cell\n",
       "var outputEl = gd.closest('.output');\n",
       "if (outputEl) {{\n",
       "    x.observe(outputEl, {childList: true});\n",
       "}}\n",
       "\n",
       "                        })\n",
       "                };\n",
       "                });\n",
       "            </script>\n",
       "        </div>"
      ]
     },
     "metadata": {},
     "output_type": "display_data"
    },
    {
     "data": {
      "application/vnd.plotly.v1+json": {
       "config": {
        "plotlyServerURL": "https://plot.ly"
       },
       "data": [
        {
         "hoverinfo": "none",
         "line": {
          "color": "#888",
          "width": 0.5
         },
         "mode": "lines",
         "type": "scatter",
         "x": [
          0,
          1,
          null,
          0,
          0,
          null,
          0,
          0,
          null,
          0,
          0,
          null,
          0,
          1,
          null,
          0,
          1,
          null,
          0,
          0,
          null,
          0,
          0,
          null,
          0,
          4,
          null,
          0,
          3,
          null,
          0,
          1,
          null,
          0,
          1,
          null,
          0,
          5,
          null,
          0,
          0,
          null,
          0,
          2,
          null,
          0,
          0,
          null,
          0,
          6,
          null,
          0,
          1,
          null,
          0,
          0,
          null,
          0,
          0,
          null,
          0,
          4,
          null,
          0,
          2,
          null,
          0,
          0,
          null,
          0,
          3,
          null,
          1,
          2,
          null,
          1,
          2,
          null,
          0,
          1,
          null,
          0,
          1,
          null,
          0,
          1,
          null,
          0,
          1,
          null,
          4,
          6,
          null,
          3,
          0,
          null,
          3,
          12,
          null,
          5,
          0,
          null,
          2,
          3,
          null,
          2,
          1,
          null,
          6,
          2,
          null,
          1,
          0,
          null,
          1,
          0,
          null,
          1,
          8,
          null,
          1,
          0,
          null,
          0,
          0,
          null,
          0,
          0,
          null,
          0,
          0,
          null,
          0,
          0,
          null,
          0,
          2,
          null,
          0,
          0,
          null,
          0,
          0,
          null,
          2,
          2,
          null,
          2,
          2,
          null,
          2,
          2,
          null,
          3,
          10,
          null,
          4,
          0,
          null,
          0,
          3,
          null,
          0,
          5,
          null,
          0,
          9,
          null,
          0,
          0,
          null,
          0,
          0,
          null,
          0,
          0,
          null,
          0,
          13,
          null,
          0,
          0,
          null,
          0,
          0,
          null,
          0,
          0,
          null,
          0,
          0,
          null,
          0,
          0,
          null,
          0,
          3,
          null,
          5,
          1,
          null,
          1,
          3,
          null,
          1,
          3,
          null,
          1,
          3,
          null,
          1,
          1,
          null,
          1,
          11,
          null,
          1,
          11,
          null,
          3,
          1,
          null,
          3,
          4,
          null,
          3,
          4,
          null,
          2,
          0,
          null,
          2,
          9,
          null,
          2,
          0,
          null,
          2,
          0,
          null,
          4,
          3,
          null,
          4,
          4,
          null,
          6,
          7,
          null,
          7,
          5,
          null,
          8,
          9,
          null,
          9,
          6,
          null,
          10,
          8,
          null,
          12,
          0,
          null,
          1,
          2,
          null,
          1,
          20,
          null,
          2,
          6,
          null,
          0,
          1,
          null,
          0,
          0,
          null,
          0,
          0,
          null,
          0,
          1,
          null,
          0,
          0,
          null,
          0,
          2,
          null,
          0,
          2,
          null,
          0,
          1,
          null,
          0,
          0,
          null,
          0,
          25,
          null,
          3,
          10,
          null,
          5,
          12,
          null,
          6,
          7,
          null,
          7,
          15,
          null,
          8,
          22,
          null,
          9,
          10,
          null,
          10,
          24,
          null,
          11,
          12,
          null,
          12,
          13,
          null,
          3,
          4,
          null,
          3,
          0,
          null,
          4,
          5,
          null,
          5,
          0,
          null,
          6,
          7,
          null,
          7,
          8,
          null,
          9,
          1,
          null,
          1,
          0,
          null,
          1,
          0,
          null,
          1,
          15,
          null,
          0,
          0,
          null,
          0,
          0,
          null,
          0,
          6,
          null,
          0,
          0,
          null,
          0,
          0,
          null,
          0,
          0,
          null,
          10,
          11,
          null,
          11,
          2,
          null,
          13,
          14,
          null,
          14,
          3,
          null,
          15,
          16,
          null,
          16,
          17,
          null,
          17,
          18,
          null,
          18,
          19,
          null,
          19,
          4,
          null,
          20,
          21,
          null,
          21,
          7,
          null,
          22,
          23,
          null,
          23,
          10,
          null,
          24,
          13,
          null,
          2,
          0,
          null,
          2,
          14,
          null,
          25,
          16,
          null,
          0,
          5,
          null,
          1,
          8,
          null,
          3,
          13,
          null,
          4,
          5,
          null,
          6,
          2,
          null,
          7,
          16,
          null,
          8,
          9,
          null,
          10,
          11,
          null,
          11,
          17,
          null,
          12,
          18,
          null,
          14,
          20,
          null,
          15,
          4,
          null,
          5,
          6,
          null,
          6,
          7,
          null,
          7,
          4,
          null,
          8,
          9,
          null,
          9,
          5,
          null,
          0,
          2,
          null,
          0,
          10,
          null,
          0,
          2,
          null,
          0,
          2,
          null,
          0,
          3,
          null,
          0,
          3,
          null,
          0,
          3,
          null,
          2,
          1,
          null,
          2,
          1,
          null,
          2,
          1,
          null,
          2,
          1,
          null,
          1,
          0,
          null,
          1,
          0,
          null,
          1,
          0,
          null,
          1,
          15,
          null,
          1,
          0,
          null,
          1,
          0,
          null,
          10,
          11,
          null,
          11,
          12,
          null,
          12,
          8,
          null,
          13,
          14,
          null,
          14,
          15,
          null,
          15,
          13,
          null,
          16,
          8,
          null,
          17,
          12,
          null,
          18,
          19,
          null,
          19,
          16,
          null,
          3,
          1,
          null,
          3,
          1,
          null,
          20,
          4,
          null,
          4,
          21,
          null,
          4,
          0,
          null,
          0,
          3,
          null,
          0,
          12,
          null,
          0,
          2,
          null,
          0,
          3,
          null,
          5,
          6,
          null,
          6,
          7,
          null,
          8,
          9,
          null,
          9,
          10,
          null,
          10,
          11,
          null,
          12,
          1,
          null,
          13,
          14,
          null,
          15,
          2,
          null,
          2,
          1,
          null,
          2,
          1,
          null
         ],
         "y": [
          0,
          0.2758620689655173,
          null,
          0,
          0.2758620689655173,
          null,
          0,
          0.2758620689655173,
          null,
          0,
          0.2758620689655173,
          null,
          0,
          0.14814814814814814,
          null,
          0,
          0.2758620689655173,
          null,
          0,
          0.20689655172413796,
          null,
          0,
          0.20689655172413796,
          null,
          0,
          0.13793103448275865,
          null,
          0,
          0.14814814814814814,
          null,
          0,
          0.2758620689655173,
          null,
          0,
          0.2758620689655173,
          null,
          0,
          0.14814814814814814,
          null,
          0,
          0.20689655172413796,
          null,
          0,
          0.20689655172413796,
          null,
          0,
          0.2758620689655173,
          null,
          0,
          0.14814814814814814,
          null,
          0,
          0.14814814814814814,
          null,
          0,
          0.2758620689655173,
          null,
          0,
          0.2758620689655173,
          null,
          0,
          0.2758620689655173,
          null,
          0,
          0.20689655172413796,
          null,
          0,
          0.20689655172413796,
          null,
          0,
          0.14814814814814814,
          null,
          0.14814814814814814,
          0.2758620689655173,
          null,
          0.14814814814814814,
          0.2758620689655173,
          null,
          0.20689655172413796,
          0.3636363636363637,
          null,
          0.20689655172413796,
          0.3636363636363637,
          null,
          0.20689655172413796,
          0.3636363636363637,
          null,
          0.20689655172413796,
          0.3636363636363637,
          null,
          0.13793103448275865,
          0.3636363636363637,
          null,
          0.14814814814814814,
          0.2758620689655173,
          null,
          0.14814814814814814,
          0.3870967741935484,
          null,
          0.14814814814814814,
          0.3870967741935484,
          null,
          0.20689655172413796,
          0.3225806451612903,
          null,
          0.20689655172413796,
          0.3636363636363637,
          null,
          0.14814814814814814,
          0.2758620689655173,
          null,
          0.2758620689655173,
          0.3870967741935484,
          null,
          0.2758620689655173,
          0.3870967741935484,
          null,
          0.2758620689655173,
          0.3636363636363637,
          null,
          0.2758620689655173,
          0.3870967741935484,
          null,
          0.2758620689655173,
          0.3870967741935484,
          null,
          0.2758620689655173,
          0.3870967741935484,
          null,
          0.2758620689655173,
          0.3870967741935484,
          null,
          0.2758620689655173,
          0.3870967741935484,
          null,
          0.2758620689655173,
          0.33333333333333337,
          null,
          0.2758620689655173,
          0.3870967741935484,
          null,
          0.2758620689655173,
          0.3870967741935484,
          null,
          0.2758620689655173,
          0.33333333333333337,
          null,
          0.2758620689655173,
          0.33333333333333337,
          null,
          0.2758620689655173,
          0.33333333333333337,
          null,
          0.3225806451612903,
          0.375,
          null,
          0.2758620689655173,
          0.4848484848484849,
          null,
          0.3870967741935484,
          0.5714285714285715,
          null,
          0.3870967741935484,
          0.375,
          null,
          0.3870967741935484,
          0.5714285714285715,
          null,
          0.3870967741935484,
          0.4848484848484849,
          null,
          0.3870967741935484,
          0.4848484848484849,
          null,
          0.3870967741935484,
          0.4848484848484849,
          null,
          0.3870967741935484,
          0.5714285714285715,
          null,
          0.3870967741935484,
          0.4848484848484849,
          null,
          0.3870967741935484,
          0.4848484848484849,
          null,
          0.3870967741935484,
          0.4848484848484849,
          null,
          0.3870967741935484,
          0.4848484848484849,
          null,
          0.3870967741935484,
          0.4848484848484849,
          null,
          0.3870967741935484,
          0.5714285714285715,
          null,
          0.375,
          0.3636363636363637,
          null,
          0.3636363636363637,
          0.4,
          null,
          0.3636363636363637,
          0.4,
          null,
          0.3636363636363637,
          0.4,
          null,
          0.3636363636363637,
          0.4864864864864866,
          null,
          0.3636363636363637,
          0.3783783783783784,
          null,
          0.3636363636363637,
          0.4864864864864866,
          null,
          0.4,
          0.4864864864864866,
          null,
          0.4,
          0.4324324324324325,
          null,
          0.4,
          0.4324324324324325,
          null,
          0.33333333333333337,
          0.3870967741935484,
          null,
          0.33333333333333337,
          0.4705882352941176,
          null,
          0.33333333333333337,
          0.3870967741935484,
          null,
          0.33333333333333337,
          0.3870967741935484,
          null,
          0.4324324324324325,
          0.5128205128205129,
          null,
          0.4324324324324325,
          0.5365853658536586,
          null,
          0.3636363636363637,
          0.4,
          null,
          0.4,
          0.5128205128205129,
          null,
          0.3636363636363637,
          0.3783783783783784,
          null,
          0.3783783783783784,
          0.4878048780487805,
          null,
          0.375,
          0.4705882352941176,
          null,
          0.3870967741935484,
          0.4848484848484849,
          null,
          0.4864864864864866,
          0.5263157894736842,
          null,
          0.4864864864864866,
          0.6341463414634146,
          null,
          0.5263157894736842,
          0.5641025641025641,
          null,
          0.4848484848484849,
          0.6486486486486487,
          null,
          0.4848484848484849,
          0.6486486486486487,
          null,
          0.4848484848484849,
          0.6486486486486487,
          null,
          0.4848484848484849,
          0.6486486486486487,
          null,
          0.4848484848484849,
          0.6486486486486487,
          null,
          0.4848484848484849,
          0.5714285714285715,
          null,
          0.4848484848484849,
          0.5714285714285715,
          null,
          0.4848484848484849,
          0.6486486486486487,
          null,
          0.4848484848484849,
          0.6486486486486487,
          null,
          0.4848484848484849,
          0.6486486486486487,
          null,
          0.5128205128205129,
          0.5853658536585366,
          null,
          0.5128205128205129,
          0.5609756097560976,
          null,
          0.4878048780487805,
          0.5116279069767442,
          null,
          0.5116279069767442,
          0.6382978723404256,
          null,
          0.4705882352941176,
          0.5789473684210525,
          null,
          0.4705882352941176,
          0.5142857142857143,
          null,
          0.5142857142857143,
          0.6666666666666666,
          null,
          0.4864864864864866,
          0.5128205128205129,
          null,
          0.5128205128205129,
          0.5365853658536586,
          null,
          0.5714285714285715,
          0.6111111111111112,
          null,
          0.5714285714285715,
          0.6486486486486487,
          null,
          0.6111111111111112,
          0.6486486486486487,
          null,
          0.6486486486486487,
          0.7179487179487181,
          null,
          0.5641025641025641,
          0.6341463414634146,
          null,
          0.6341463414634146,
          0.6428571428571429,
          null,
          0.5714285714285715,
          0.7179487179487181,
          null,
          0.6486486486486487,
          0.7804878048780487,
          null,
          0.6486486486486487,
          0.7804878048780487,
          null,
          0.6486486486486487,
          0.6842105263157895,
          null,
          0.6486486486486487,
          0.7804878048780487,
          null,
          0.6486486486486487,
          0.7804878048780487,
          null,
          0.6486486486486487,
          0.6842105263157895,
          null,
          0.6486486486486487,
          0.7804878048780487,
          null,
          0.6486486486486487,
          0.7804878048780487,
          null,
          0.6486486486486487,
          0.7804878048780487,
          null,
          0.5853658536585366,
          0.6222222222222222,
          null,
          0.6222222222222222,
          0.6938775510204083,
          null,
          0.5714285714285715,
          0.6111111111111112,
          null,
          0.6111111111111112,
          0.6842105263157895,
          null,
          0.6382978723404256,
          0.6666666666666666,
          null,
          0.6666666666666666,
          0.6530612244897959,
          null,
          0.6530612244897959,
          0.64,
          null,
          0.64,
          0.6666666666666666,
          null,
          0.6666666666666666,
          0.6923076923076923,
          null,
          0.6341463414634146,
          0.6666666666666666,
          null,
          0.6666666666666666,
          0.6976744186046512,
          null,
          0.5789473684210525,
          0.6153846153846153,
          null,
          0.6153846153846153,
          0.7441860465116279,
          null,
          0.6666666666666666,
          0.7000000000000001,
          null,
          0.5714285714285715,
          0.6486486486486487,
          null,
          0.5714285714285715,
          0.7179487179487181,
          null,
          0.6486486486486487,
          0.6842105263157895,
          null,
          0.7179487179487181,
          0.7804878048780487,
          null,
          0.7179487179487181,
          0.8372093023255813,
          null,
          0.6842105263157895,
          0.8095238095238095,
          null,
          0.6923076923076923,
          0.7407407407407408,
          null,
          0.6842105263157895,
          0.8095238095238095,
          null,
          0.6976744186046512,
          0.7872340425531915,
          null,
          0.7450980392156863,
          0.7636363636363636,
          null,
          0.7441860465116279,
          0.7272727272727272,
          null,
          0.7272727272727272,
          0.7826086956521741,
          null,
          0.7659574468085107,
          0.8235294117647058,
          null,
          0.7179487179487181,
          0.7804878048780487,
          null,
          0.6842105263157895,
          0.8095238095238095,
          null,
          0.7804878048780487,
          0.8095238095238095,
          null,
          0.8095238095238095,
          0.8636363636363636,
          null,
          0.8636363636363636,
          0.9130434782608696,
          null,
          0.8372093023255813,
          0.8636363636363636,
          null,
          0.8636363636363636,
          0.8888888888888891,
          null,
          0.7804878048780487,
          0.8095238095238095,
          null,
          0.7804878048780487,
          0.7999999999999999,
          null,
          0.7804878048780487,
          0.8095238095238095,
          null,
          0.7804878048780487,
          0.8095238095238095,
          null,
          0.7804878048780487,
          0.8372093023255813,
          null,
          0.7804878048780487,
          0.8372093023255813,
          null,
          0.7804878048780487,
          0.8372093023255813,
          null,
          0.8095238095238095,
          0.8636363636363636,
          null,
          0.8095238095238095,
          0.8636363636363636,
          null,
          0.8095238095238095,
          0.8636363636363636,
          null,
          0.8095238095238095,
          0.8636363636363636,
          null,
          0.8636363636363636,
          0.9583333333333334,
          null,
          0.8636363636363636,
          0.9583333333333334,
          null,
          0.8636363636363636,
          0.9583333333333334,
          null,
          0.8636363636363636,
          0.8888888888888891,
          null,
          0.8636363636363636,
          0.9583333333333334,
          null,
          0.8636363636363636,
          0.9583333333333334,
          null,
          0.7999999999999999,
          0.8260869565217391,
          null,
          0.8260869565217391,
          0.8510638297872342,
          null,
          0.8510638297872342,
          0.8979591836734694,
          null,
          0.8095238095238095,
          0.8372093023255813,
          null,
          0.8372093023255813,
          0.8636363636363636,
          null,
          0.8636363636363636,
          0.8888888888888891,
          null,
          0.7872340425531915,
          0.7450980392156863,
          null,
          0.7826086956521741,
          0.7659574468085107,
          null,
          0.8235294117647058,
          0.8461538461538461,
          null,
          0.8461538461538461,
          0.8888888888888891,
          null,
          0.8372093023255813,
          0.8636363636363636,
          null,
          0.8372093023255813,
          0.8636363636363636,
          null,
          0.7804878048780487,
          0.8095238095238095,
          null,
          0.8095238095238095,
          0.8636363636363636,
          null,
          0.9130434782608696,
          0.9583333333333334,
          null,
          0.9583333333333334,
          0.979591836734694,
          null,
          0.9583333333333334,
          0.979591836734694,
          null,
          0.9583333333333334,
          0.979591836734694,
          null,
          0.9583333333333334,
          0.979591836734694,
          null,
          0.8888888888888891,
          0.9130434782608696,
          null,
          0.9130434782608696,
          0.92,
          null,
          0.8979591836734694,
          0.9411764705882352,
          null,
          0.9411764705882352,
          0.923076923076923,
          null,
          0.923076923076923,
          0.9056603773584904,
          null,
          0.979591836734694,
          1,
          null,
          0.8888888888888891,
          0.9130434782608696,
          null,
          0.8888888888888891,
          0.979591836734694,
          null,
          0.979591836734694,
          1,
          null,
          0.979591836734694,
          1,
          null
         ]
        },
        {
         "hoverinfo": "text",
         "marker": {
          "color": [
           25,
           2,
           4,
           1,
           2,
           1,
           2,
           1,
           4,
           7,
           3,
           1,
           1,
           13,
           1,
           6,
           3,
           4,
           2,
           1,
           1,
           1,
           1,
           1,
           1,
           1,
           2,
           1,
           10,
           1,
           1,
           1,
           1,
           1,
           1,
           1,
           1,
           1,
           1,
           1,
           2,
           1,
           1,
           1,
           1,
           1,
           1,
           3,
           6,
           1,
           1,
           1,
           1,
           1,
           1,
           1,
           1,
           1,
           1,
           1,
           1,
           1,
           1,
           1,
           2,
           1,
           1,
           1,
           1,
           1,
           1,
           1,
           1,
           1,
           1,
           1,
           1,
           1,
           1,
           1,
           1,
           1,
           1,
           1,
           1,
           1,
           1,
           1,
           7,
           4,
           6,
           1,
           1,
           1,
           1,
           1,
           1,
           1,
           1,
           1,
           1,
           3,
           1,
           2,
           1,
           1,
           6,
           1,
           1,
           1,
           2,
           1,
           1,
           1,
           1,
           1,
           3,
           1,
           1,
           1,
           2,
           1
          ],
          "colorscale": [
           [
            0,
            "rgb(255,255,217)"
           ],
           [
            0.125,
            "rgb(237,248,177)"
           ],
           [
            0.25,
            "rgb(199,233,180)"
           ],
           [
            0.375,
            "rgb(127,205,187)"
           ],
           [
            0.5,
            "rgb(65,182,196)"
           ],
           [
            0.625,
            "rgb(29,145,192)"
           ],
           [
            0.75,
            "rgb(34,94,168)"
           ],
           [
            0.875,
            "rgb(37,52,148)"
           ],
           [
            1,
            "rgb(8,29,88)"
           ]
          ],
          "line": {
           "width": 2
          },
          "reversescale": true,
          "showscale": true,
          "size": [
           19.931568569324174,
           9,
           12,
           6,
           9,
           6,
           9,
           6,
           12,
           14.422064766172811,
           10.754887502163468,
           6,
           6,
           17.101319154423276,
           6,
           13.754887502163468,
           10.754887502163468,
           12,
           9,
           6,
           6,
           6,
           6,
           6,
           6,
           6,
           9,
           6,
           15.965784284662089,
           6,
           6,
           6,
           6,
           6,
           6,
           6,
           6,
           6,
           6,
           6,
           9,
           6,
           6,
           6,
           6,
           6,
           6,
           10.754887502163468,
           13.754887502163468,
           6,
           6,
           6,
           6,
           6,
           6,
           6,
           6,
           6,
           6,
           6,
           6,
           6,
           6,
           6,
           9,
           6,
           6,
           6,
           6,
           6,
           6,
           6,
           6,
           6,
           6,
           6,
           6,
           6,
           6,
           6,
           6,
           6,
           6,
           6,
           6,
           6,
           6,
           6,
           14.422064766172811,
           12,
           13.754887502163468,
           6,
           6,
           6,
           6,
           6,
           6,
           6,
           6,
           6,
           6,
           10.754887502163468,
           6,
           9,
           6,
           6,
           13.754887502163468,
           6,
           6,
           6,
           9,
           6,
           6,
           6,
           6,
           6,
           10.754887502163468,
           6,
           6,
           6,
           9,
           6
          ]
         },
         "mode": "markers",
         "type": "scatter",
         "x": [
          0,
          1,
          0,
          4,
          3,
          5,
          2,
          6,
          1,
          0,
          2,
          3,
          4,
          0,
          5,
          1,
          3,
          2,
          4,
          6,
          7,
          8,
          9,
          10,
          11,
          12,
          1,
          2,
          0,
          3,
          4,
          5,
          6,
          7,
          8,
          9,
          10,
          11,
          12,
          13,
          3,
          4,
          5,
          6,
          7,
          8,
          9,
          1,
          0,
          10,
          11,
          12,
          13,
          14,
          15,
          16,
          17,
          18,
          19,
          20,
          21,
          22,
          23,
          24,
          2,
          25,
          0,
          1,
          2,
          3,
          4,
          5,
          6,
          7,
          8,
          9,
          10,
          11,
          12,
          13,
          14,
          15,
          16,
          5,
          6,
          7,
          8,
          9,
          0,
          2,
          1,
          10,
          11,
          12,
          13,
          14,
          15,
          16,
          17,
          18,
          19,
          3,
          20,
          4,
          21,
          4,
          0,
          5,
          6,
          7,
          3,
          8,
          9,
          10,
          11,
          12,
          1,
          13,
          14,
          15,
          2,
          16
         ],
         "y": [
          0,
          0.14814814814814814,
          0.20689655172413796,
          0.13793103448275865,
          0.14814814814814814,
          0.14814814814814814,
          0.20689655172413796,
          0.14814814814814814,
          0.2758620689655173,
          0.2758620689655173,
          0.2758620689655173,
          0.3225806451612903,
          0.2758620689655173,
          0.3870967741935484,
          0.375,
          0.3636363636363637,
          0.4,
          0.33333333333333337,
          0.4324324324324325,
          0.3636363636363637,
          0.4,
          0.3636363636363637,
          0.3783783783783784,
          0.375,
          0.3783783783783784,
          0.3870967741935484,
          0.4864864864864866,
          0.5263157894736842,
          0.4848484848484849,
          0.5128205128205129,
          0.5365853658536586,
          0.5128205128205129,
          0.4878048780487805,
          0.5116279069767442,
          0.4705882352941176,
          0.4705882352941176,
          0.5142857142857143,
          0.4864864864864866,
          0.5128205128205129,
          0.5365853658536586,
          0.5714285714285715,
          0.6111111111111112,
          0.6486486486486487,
          0.5641025641025641,
          0.6341463414634146,
          0.6428571428571429,
          0.5714285714285715,
          0.6486486486486487,
          0.6486486486486487,
          0.5853658536585366,
          0.6222222222222222,
          0.5609756097560976,
          0.5714285714285715,
          0.6111111111111112,
          0.6382978723404256,
          0.6666666666666666,
          0.6530612244897959,
          0.64,
          0.6666666666666666,
          0.6341463414634146,
          0.6666666666666666,
          0.5789473684210525,
          0.6153846153846153,
          0.6666666666666666,
          0.5714285714285715,
          0.6486486486486487,
          0.7179487179487181,
          0.7179487179487181,
          0.6938775510204083,
          0.6842105263157895,
          0.6923076923076923,
          0.7407407407407408,
          0.6842105263157895,
          0.6976744186046512,
          0.7450980392156863,
          0.7636363636363636,
          0.7441860465116279,
          0.7272727272727272,
          0.7659574468085107,
          0.7000000000000001,
          0.7179487179487181,
          0.6842105263157895,
          0.6842105263157895,
          0.7804878048780487,
          0.8095238095238095,
          0.8636363636363636,
          0.8372093023255813,
          0.8636363636363636,
          0.7804878048780487,
          0.8095238095238095,
          0.8636363636363636,
          0.7999999999999999,
          0.8260869565217391,
          0.8510638297872342,
          0.8095238095238095,
          0.8372093023255813,
          0.8636363636363636,
          0.7872340425531915,
          0.7826086956521741,
          0.8235294117647058,
          0.8461538461538461,
          0.8372093023255813,
          0.7804878048780487,
          0.8095238095238095,
          0.8636363636363636,
          0.9130434782608696,
          0.9583333333333334,
          0.8888888888888891,
          0.9130434782608696,
          0.92,
          0.979591836734694,
          0.8979591836734694,
          0.9411764705882352,
          0.923076923076923,
          0.9056603773584904,
          0.979591836734694,
          1,
          0.8888888888888891,
          0.9130434782608696,
          0.8888888888888891,
          0.979591836734694,
          0.8888888888888891
         ]
        }
       ],
       "layout": {
        "annotations": [
         {
          "showarrow": false,
          "text": "",
          "x": 0.005,
          "xref": "paper",
          "y": -0.002,
          "yref": "paper"
         }
        ],
        "height": 600,
        "hovermode": "closest",
        "margin": {
         "b": 20,
         "l": 5,
         "r": 5,
         "t": 40
        },
        "showlegend": false,
        "template": {
         "data": {
          "bar": [
           {
            "error_x": {
             "color": "#2a3f5f"
            },
            "error_y": {
             "color": "#2a3f5f"
            },
            "marker": {
             "line": {
              "color": "#E5ECF6",
              "width": 0.5
             }
            },
            "type": "bar"
           }
          ],
          "barpolar": [
           {
            "marker": {
             "line": {
              "color": "#E5ECF6",
              "width": 0.5
             }
            },
            "type": "barpolar"
           }
          ],
          "carpet": [
           {
            "aaxis": {
             "endlinecolor": "#2a3f5f",
             "gridcolor": "white",
             "linecolor": "white",
             "minorgridcolor": "white",
             "startlinecolor": "#2a3f5f"
            },
            "baxis": {
             "endlinecolor": "#2a3f5f",
             "gridcolor": "white",
             "linecolor": "white",
             "minorgridcolor": "white",
             "startlinecolor": "#2a3f5f"
            },
            "type": "carpet"
           }
          ],
          "choropleth": [
           {
            "colorbar": {
             "outlinewidth": 0,
             "ticks": ""
            },
            "type": "choropleth"
           }
          ],
          "contour": [
           {
            "colorbar": {
             "outlinewidth": 0,
             "ticks": ""
            },
            "colorscale": [
             [
              0,
              "#0d0887"
             ],
             [
              0.1111111111111111,
              "#46039f"
             ],
             [
              0.2222222222222222,
              "#7201a8"
             ],
             [
              0.3333333333333333,
              "#9c179e"
             ],
             [
              0.4444444444444444,
              "#bd3786"
             ],
             [
              0.5555555555555556,
              "#d8576b"
             ],
             [
              0.6666666666666666,
              "#ed7953"
             ],
             [
              0.7777777777777778,
              "#fb9f3a"
             ],
             [
              0.8888888888888888,
              "#fdca26"
             ],
             [
              1,
              "#f0f921"
             ]
            ],
            "type": "contour"
           }
          ],
          "contourcarpet": [
           {
            "colorbar": {
             "outlinewidth": 0,
             "ticks": ""
            },
            "type": "contourcarpet"
           }
          ],
          "heatmap": [
           {
            "colorbar": {
             "outlinewidth": 0,
             "ticks": ""
            },
            "colorscale": [
             [
              0,
              "#0d0887"
             ],
             [
              0.1111111111111111,
              "#46039f"
             ],
             [
              0.2222222222222222,
              "#7201a8"
             ],
             [
              0.3333333333333333,
              "#9c179e"
             ],
             [
              0.4444444444444444,
              "#bd3786"
             ],
             [
              0.5555555555555556,
              "#d8576b"
             ],
             [
              0.6666666666666666,
              "#ed7953"
             ],
             [
              0.7777777777777778,
              "#fb9f3a"
             ],
             [
              0.8888888888888888,
              "#fdca26"
             ],
             [
              1,
              "#f0f921"
             ]
            ],
            "type": "heatmap"
           }
          ],
          "heatmapgl": [
           {
            "colorbar": {
             "outlinewidth": 0,
             "ticks": ""
            },
            "colorscale": [
             [
              0,
              "#0d0887"
             ],
             [
              0.1111111111111111,
              "#46039f"
             ],
             [
              0.2222222222222222,
              "#7201a8"
             ],
             [
              0.3333333333333333,
              "#9c179e"
             ],
             [
              0.4444444444444444,
              "#bd3786"
             ],
             [
              0.5555555555555556,
              "#d8576b"
             ],
             [
              0.6666666666666666,
              "#ed7953"
             ],
             [
              0.7777777777777778,
              "#fb9f3a"
             ],
             [
              0.8888888888888888,
              "#fdca26"
             ],
             [
              1,
              "#f0f921"
             ]
            ],
            "type": "heatmapgl"
           }
          ],
          "histogram": [
           {
            "marker": {
             "colorbar": {
              "outlinewidth": 0,
              "ticks": ""
             }
            },
            "type": "histogram"
           }
          ],
          "histogram2d": [
           {
            "colorbar": {
             "outlinewidth": 0,
             "ticks": ""
            },
            "colorscale": [
             [
              0,
              "#0d0887"
             ],
             [
              0.1111111111111111,
              "#46039f"
             ],
             [
              0.2222222222222222,
              "#7201a8"
             ],
             [
              0.3333333333333333,
              "#9c179e"
             ],
             [
              0.4444444444444444,
              "#bd3786"
             ],
             [
              0.5555555555555556,
              "#d8576b"
             ],
             [
              0.6666666666666666,
              "#ed7953"
             ],
             [
              0.7777777777777778,
              "#fb9f3a"
             ],
             [
              0.8888888888888888,
              "#fdca26"
             ],
             [
              1,
              "#f0f921"
             ]
            ],
            "type": "histogram2d"
           }
          ],
          "histogram2dcontour": [
           {
            "colorbar": {
             "outlinewidth": 0,
             "ticks": ""
            },
            "colorscale": [
             [
              0,
              "#0d0887"
             ],
             [
              0.1111111111111111,
              "#46039f"
             ],
             [
              0.2222222222222222,
              "#7201a8"
             ],
             [
              0.3333333333333333,
              "#9c179e"
             ],
             [
              0.4444444444444444,
              "#bd3786"
             ],
             [
              0.5555555555555556,
              "#d8576b"
             ],
             [
              0.6666666666666666,
              "#ed7953"
             ],
             [
              0.7777777777777778,
              "#fb9f3a"
             ],
             [
              0.8888888888888888,
              "#fdca26"
             ],
             [
              1,
              "#f0f921"
             ]
            ],
            "type": "histogram2dcontour"
           }
          ],
          "mesh3d": [
           {
            "colorbar": {
             "outlinewidth": 0,
             "ticks": ""
            },
            "type": "mesh3d"
           }
          ],
          "parcoords": [
           {
            "line": {
             "colorbar": {
              "outlinewidth": 0,
              "ticks": ""
             }
            },
            "type": "parcoords"
           }
          ],
          "pie": [
           {
            "automargin": true,
            "type": "pie"
           }
          ],
          "scatter": [
           {
            "marker": {
             "colorbar": {
              "outlinewidth": 0,
              "ticks": ""
             }
            },
            "type": "scatter"
           }
          ],
          "scatter3d": [
           {
            "line": {
             "colorbar": {
              "outlinewidth": 0,
              "ticks": ""
             }
            },
            "marker": {
             "colorbar": {
              "outlinewidth": 0,
              "ticks": ""
             }
            },
            "type": "scatter3d"
           }
          ],
          "scattercarpet": [
           {
            "marker": {
             "colorbar": {
              "outlinewidth": 0,
              "ticks": ""
             }
            },
            "type": "scattercarpet"
           }
          ],
          "scattergeo": [
           {
            "marker": {
             "colorbar": {
              "outlinewidth": 0,
              "ticks": ""
             }
            },
            "type": "scattergeo"
           }
          ],
          "scattergl": [
           {
            "marker": {
             "colorbar": {
              "outlinewidth": 0,
              "ticks": ""
             }
            },
            "type": "scattergl"
           }
          ],
          "scattermapbox": [
           {
            "marker": {
             "colorbar": {
              "outlinewidth": 0,
              "ticks": ""
             }
            },
            "type": "scattermapbox"
           }
          ],
          "scatterpolar": [
           {
            "marker": {
             "colorbar": {
              "outlinewidth": 0,
              "ticks": ""
             }
            },
            "type": "scatterpolar"
           }
          ],
          "scatterpolargl": [
           {
            "marker": {
             "colorbar": {
              "outlinewidth": 0,
              "ticks": ""
             }
            },
            "type": "scatterpolargl"
           }
          ],
          "scatterternary": [
           {
            "marker": {
             "colorbar": {
              "outlinewidth": 0,
              "ticks": ""
             }
            },
            "type": "scatterternary"
           }
          ],
          "surface": [
           {
            "colorbar": {
             "outlinewidth": 0,
             "ticks": ""
            },
            "colorscale": [
             [
              0,
              "#0d0887"
             ],
             [
              0.1111111111111111,
              "#46039f"
             ],
             [
              0.2222222222222222,
              "#7201a8"
             ],
             [
              0.3333333333333333,
              "#9c179e"
             ],
             [
              0.4444444444444444,
              "#bd3786"
             ],
             [
              0.5555555555555556,
              "#d8576b"
             ],
             [
              0.6666666666666666,
              "#ed7953"
             ],
             [
              0.7777777777777778,
              "#fb9f3a"
             ],
             [
              0.8888888888888888,
              "#fdca26"
             ],
             [
              1,
              "#f0f921"
             ]
            ],
            "type": "surface"
           }
          ],
          "table": [
           {
            "cells": {
             "fill": {
              "color": "#EBF0F8"
             },
             "line": {
              "color": "white"
             }
            },
            "header": {
             "fill": {
              "color": "#C8D4E3"
             },
             "line": {
              "color": "white"
             }
            },
            "type": "table"
           }
          ]
         },
         "layout": {
          "annotationdefaults": {
           "arrowcolor": "#2a3f5f",
           "arrowhead": 0,
           "arrowwidth": 1
          },
          "coloraxis": {
           "colorbar": {
            "outlinewidth": 0,
            "ticks": ""
           }
          },
          "colorscale": {
           "diverging": [
            [
             0,
             "#8e0152"
            ],
            [
             0.1,
             "#c51b7d"
            ],
            [
             0.2,
             "#de77ae"
            ],
            [
             0.3,
             "#f1b6da"
            ],
            [
             0.4,
             "#fde0ef"
            ],
            [
             0.5,
             "#f7f7f7"
            ],
            [
             0.6,
             "#e6f5d0"
            ],
            [
             0.7,
             "#b8e186"
            ],
            [
             0.8,
             "#7fbc41"
            ],
            [
             0.9,
             "#4d9221"
            ],
            [
             1,
             "#276419"
            ]
           ],
           "sequential": [
            [
             0,
             "#0d0887"
            ],
            [
             0.1111111111111111,
             "#46039f"
            ],
            [
             0.2222222222222222,
             "#7201a8"
            ],
            [
             0.3333333333333333,
             "#9c179e"
            ],
            [
             0.4444444444444444,
             "#bd3786"
            ],
            [
             0.5555555555555556,
             "#d8576b"
            ],
            [
             0.6666666666666666,
             "#ed7953"
            ],
            [
             0.7777777777777778,
             "#fb9f3a"
            ],
            [
             0.8888888888888888,
             "#fdca26"
            ],
            [
             1,
             "#f0f921"
            ]
           ],
           "sequentialminus": [
            [
             0,
             "#0d0887"
            ],
            [
             0.1111111111111111,
             "#46039f"
            ],
            [
             0.2222222222222222,
             "#7201a8"
            ],
            [
             0.3333333333333333,
             "#9c179e"
            ],
            [
             0.4444444444444444,
             "#bd3786"
            ],
            [
             0.5555555555555556,
             "#d8576b"
            ],
            [
             0.6666666666666666,
             "#ed7953"
            ],
            [
             0.7777777777777778,
             "#fb9f3a"
            ],
            [
             0.8888888888888888,
             "#fdca26"
            ],
            [
             1,
             "#f0f921"
            ]
           ]
          },
          "colorway": [
           "#636efa",
           "#EF553B",
           "#00cc96",
           "#ab63fa",
           "#FFA15A",
           "#19d3f3",
           "#FF6692",
           "#B6E880",
           "#FF97FF",
           "#FECB52"
          ],
          "font": {
           "color": "#2a3f5f"
          },
          "geo": {
           "bgcolor": "white",
           "lakecolor": "white",
           "landcolor": "#E5ECF6",
           "showlakes": true,
           "showland": true,
           "subunitcolor": "white"
          },
          "hoverlabel": {
           "align": "left"
          },
          "hovermode": "closest",
          "mapbox": {
           "style": "light"
          },
          "paper_bgcolor": "white",
          "plot_bgcolor": "#E5ECF6",
          "polar": {
           "angularaxis": {
            "gridcolor": "white",
            "linecolor": "white",
            "ticks": ""
           },
           "bgcolor": "#E5ECF6",
           "radialaxis": {
            "gridcolor": "white",
            "linecolor": "white",
            "ticks": ""
           }
          },
          "scene": {
           "xaxis": {
            "backgroundcolor": "#E5ECF6",
            "gridcolor": "white",
            "gridwidth": 2,
            "linecolor": "white",
            "showbackground": true,
            "ticks": "",
            "zerolinecolor": "white"
           },
           "yaxis": {
            "backgroundcolor": "#E5ECF6",
            "gridcolor": "white",
            "gridwidth": 2,
            "linecolor": "white",
            "showbackground": true,
            "ticks": "",
            "zerolinecolor": "white"
           },
           "zaxis": {
            "backgroundcolor": "#E5ECF6",
            "gridcolor": "white",
            "gridwidth": 2,
            "linecolor": "white",
            "showbackground": true,
            "ticks": "",
            "zerolinecolor": "white"
           }
          },
          "shapedefaults": {
           "line": {
            "color": "#2a3f5f"
           }
          },
          "ternary": {
           "aaxis": {
            "gridcolor": "white",
            "linecolor": "white",
            "ticks": ""
           },
           "baxis": {
            "gridcolor": "white",
            "linecolor": "white",
            "ticks": ""
           },
           "bgcolor": "#E5ECF6",
           "caxis": {
            "gridcolor": "white",
            "linecolor": "white",
            "ticks": ""
           }
          },
          "title": {
           "x": 0.05
          },
          "xaxis": {
           "automargin": true,
           "gridcolor": "white",
           "linecolor": "white",
           "ticks": "",
           "title": {
            "standoff": 15
           },
           "zerolinecolor": "white",
           "zerolinewidth": 2
          },
          "yaxis": {
           "automargin": true,
           "gridcolor": "white",
           "linecolor": "white",
           "ticks": "",
           "title": {
            "standoff": 15
           },
           "zerolinecolor": "white",
           "zerolinewidth": 2
          }
         }
        },
        "title": {
         "font": {
          "size": 16
         },
         "text": "<br>World states for hand_selected_008, repetition 1, by number of squares"
        },
        "width": 600
       }
      },
      "text/html": [
       "<div>\n",
       "        \n",
       "        \n",
       "            <div id=\"914b8154-1643-48cc-8489-35aadab62c20\" class=\"plotly-graph-div\" style=\"height:600px; width:600px;\"></div>\n",
       "            <script type=\"text/javascript\">\n",
       "                require([\"plotly\"], function(Plotly) {\n",
       "                    window.PLOTLYENV=window.PLOTLYENV || {};\n",
       "                    \n",
       "                if (document.getElementById(\"914b8154-1643-48cc-8489-35aadab62c20\")) {\n",
       "                    Plotly.newPlot(\n",
       "                        '914b8154-1643-48cc-8489-35aadab62c20',\n",
       "                        [{\"hoverinfo\": \"none\", \"line\": {\"color\": \"#888\", \"width\": 0.5}, \"mode\": \"lines\", \"type\": \"scatter\", \"x\": [0, 1, null, 0, 0, null, 0, 0, null, 0, 0, null, 0, 1, null, 0, 1, null, 0, 0, null, 0, 0, null, 0, 4, null, 0, 3, null, 0, 1, null, 0, 1, null, 0, 5, null, 0, 0, null, 0, 2, null, 0, 0, null, 0, 6, null, 0, 1, null, 0, 0, null, 0, 0, null, 0, 4, null, 0, 2, null, 0, 0, null, 0, 3, null, 1, 2, null, 1, 2, null, 0, 1, null, 0, 1, null, 0, 1, null, 0, 1, null, 4, 6, null, 3, 0, null, 3, 12, null, 5, 0, null, 2, 3, null, 2, 1, null, 6, 2, null, 1, 0, null, 1, 0, null, 1, 8, null, 1, 0, null, 0, 0, null, 0, 0, null, 0, 0, null, 0, 0, null, 0, 2, null, 0, 0, null, 0, 0, null, 2, 2, null, 2, 2, null, 2, 2, null, 3, 10, null, 4, 0, null, 0, 3, null, 0, 5, null, 0, 9, null, 0, 0, null, 0, 0, null, 0, 0, null, 0, 13, null, 0, 0, null, 0, 0, null, 0, 0, null, 0, 0, null, 0, 0, null, 0, 3, null, 5, 1, null, 1, 3, null, 1, 3, null, 1, 3, null, 1, 1, null, 1, 11, null, 1, 11, null, 3, 1, null, 3, 4, null, 3, 4, null, 2, 0, null, 2, 9, null, 2, 0, null, 2, 0, null, 4, 3, null, 4, 4, null, 6, 7, null, 7, 5, null, 8, 9, null, 9, 6, null, 10, 8, null, 12, 0, null, 1, 2, null, 1, 20, null, 2, 6, null, 0, 1, null, 0, 0, null, 0, 0, null, 0, 1, null, 0, 0, null, 0, 2, null, 0, 2, null, 0, 1, null, 0, 0, null, 0, 25, null, 3, 10, null, 5, 12, null, 6, 7, null, 7, 15, null, 8, 22, null, 9, 10, null, 10, 24, null, 11, 12, null, 12, 13, null, 3, 4, null, 3, 0, null, 4, 5, null, 5, 0, null, 6, 7, null, 7, 8, null, 9, 1, null, 1, 0, null, 1, 0, null, 1, 15, null, 0, 0, null, 0, 0, null, 0, 6, null, 0, 0, null, 0, 0, null, 0, 0, null, 10, 11, null, 11, 2, null, 13, 14, null, 14, 3, null, 15, 16, null, 16, 17, null, 17, 18, null, 18, 19, null, 19, 4, null, 20, 21, null, 21, 7, null, 22, 23, null, 23, 10, null, 24, 13, null, 2, 0, null, 2, 14, null, 25, 16, null, 0, 5, null, 1, 8, null, 3, 13, null, 4, 5, null, 6, 2, null, 7, 16, null, 8, 9, null, 10, 11, null, 11, 17, null, 12, 18, null, 14, 20, null, 15, 4, null, 5, 6, null, 6, 7, null, 7, 4, null, 8, 9, null, 9, 5, null, 0, 2, null, 0, 10, null, 0, 2, null, 0, 2, null, 0, 3, null, 0, 3, null, 0, 3, null, 2, 1, null, 2, 1, null, 2, 1, null, 2, 1, null, 1, 0, null, 1, 0, null, 1, 0, null, 1, 15, null, 1, 0, null, 1, 0, null, 10, 11, null, 11, 12, null, 12, 8, null, 13, 14, null, 14, 15, null, 15, 13, null, 16, 8, null, 17, 12, null, 18, 19, null, 19, 16, null, 3, 1, null, 3, 1, null, 20, 4, null, 4, 21, null, 4, 0, null, 0, 3, null, 0, 12, null, 0, 2, null, 0, 3, null, 5, 6, null, 6, 7, null, 8, 9, null, 9, 10, null, 10, 11, null, 12, 1, null, 13, 14, null, 15, 2, null, 2, 1, null, 2, 1, null], \"y\": [0, 0.2758620689655173, null, 0, 0.2758620689655173, null, 0, 0.2758620689655173, null, 0, 0.2758620689655173, null, 0, 0.14814814814814814, null, 0, 0.2758620689655173, null, 0, 0.20689655172413796, null, 0, 0.20689655172413796, null, 0, 0.13793103448275865, null, 0, 0.14814814814814814, null, 0, 0.2758620689655173, null, 0, 0.2758620689655173, null, 0, 0.14814814814814814, null, 0, 0.20689655172413796, null, 0, 0.20689655172413796, null, 0, 0.2758620689655173, null, 0, 0.14814814814814814, null, 0, 0.14814814814814814, null, 0, 0.2758620689655173, null, 0, 0.2758620689655173, null, 0, 0.2758620689655173, null, 0, 0.20689655172413796, null, 0, 0.20689655172413796, null, 0, 0.14814814814814814, null, 0.14814814814814814, 0.2758620689655173, null, 0.14814814814814814, 0.2758620689655173, null, 0.20689655172413796, 0.3636363636363637, null, 0.20689655172413796, 0.3636363636363637, null, 0.20689655172413796, 0.3636363636363637, null, 0.20689655172413796, 0.3636363636363637, null, 0.13793103448275865, 0.3636363636363637, null, 0.14814814814814814, 0.2758620689655173, null, 0.14814814814814814, 0.3870967741935484, null, 0.14814814814814814, 0.3870967741935484, null, 0.20689655172413796, 0.3225806451612903, null, 0.20689655172413796, 0.3636363636363637, null, 0.14814814814814814, 0.2758620689655173, null, 0.2758620689655173, 0.3870967741935484, null, 0.2758620689655173, 0.3870967741935484, null, 0.2758620689655173, 0.3636363636363637, null, 0.2758620689655173, 0.3870967741935484, null, 0.2758620689655173, 0.3870967741935484, null, 0.2758620689655173, 0.3870967741935484, null, 0.2758620689655173, 0.3870967741935484, null, 0.2758620689655173, 0.3870967741935484, null, 0.2758620689655173, 0.33333333333333337, null, 0.2758620689655173, 0.3870967741935484, null, 0.2758620689655173, 0.3870967741935484, null, 0.2758620689655173, 0.33333333333333337, null, 0.2758620689655173, 0.33333333333333337, null, 0.2758620689655173, 0.33333333333333337, null, 0.3225806451612903, 0.375, null, 0.2758620689655173, 0.4848484848484849, null, 0.3870967741935484, 0.5714285714285715, null, 0.3870967741935484, 0.375, null, 0.3870967741935484, 0.5714285714285715, null, 0.3870967741935484, 0.4848484848484849, null, 0.3870967741935484, 0.4848484848484849, null, 0.3870967741935484, 0.4848484848484849, null, 0.3870967741935484, 0.5714285714285715, null, 0.3870967741935484, 0.4848484848484849, null, 0.3870967741935484, 0.4848484848484849, null, 0.3870967741935484, 0.4848484848484849, null, 0.3870967741935484, 0.4848484848484849, null, 0.3870967741935484, 0.4848484848484849, null, 0.3870967741935484, 0.5714285714285715, null, 0.375, 0.3636363636363637, null, 0.3636363636363637, 0.4, null, 0.3636363636363637, 0.4, null, 0.3636363636363637, 0.4, null, 0.3636363636363637, 0.4864864864864866, null, 0.3636363636363637, 0.3783783783783784, null, 0.3636363636363637, 0.4864864864864866, null, 0.4, 0.4864864864864866, null, 0.4, 0.4324324324324325, null, 0.4, 0.4324324324324325, null, 0.33333333333333337, 0.3870967741935484, null, 0.33333333333333337, 0.4705882352941176, null, 0.33333333333333337, 0.3870967741935484, null, 0.33333333333333337, 0.3870967741935484, null, 0.4324324324324325, 0.5128205128205129, null, 0.4324324324324325, 0.5365853658536586, null, 0.3636363636363637, 0.4, null, 0.4, 0.5128205128205129, null, 0.3636363636363637, 0.3783783783783784, null, 0.3783783783783784, 0.4878048780487805, null, 0.375, 0.4705882352941176, null, 0.3870967741935484, 0.4848484848484849, null, 0.4864864864864866, 0.5263157894736842, null, 0.4864864864864866, 0.6341463414634146, null, 0.5263157894736842, 0.5641025641025641, null, 0.4848484848484849, 0.6486486486486487, null, 0.4848484848484849, 0.6486486486486487, null, 0.4848484848484849, 0.6486486486486487, null, 0.4848484848484849, 0.6486486486486487, null, 0.4848484848484849, 0.6486486486486487, null, 0.4848484848484849, 0.5714285714285715, null, 0.4848484848484849, 0.5714285714285715, null, 0.4848484848484849, 0.6486486486486487, null, 0.4848484848484849, 0.6486486486486487, null, 0.4848484848484849, 0.6486486486486487, null, 0.5128205128205129, 0.5853658536585366, null, 0.5128205128205129, 0.5609756097560976, null, 0.4878048780487805, 0.5116279069767442, null, 0.5116279069767442, 0.6382978723404256, null, 0.4705882352941176, 0.5789473684210525, null, 0.4705882352941176, 0.5142857142857143, null, 0.5142857142857143, 0.6666666666666666, null, 0.4864864864864866, 0.5128205128205129, null, 0.5128205128205129, 0.5365853658536586, null, 0.5714285714285715, 0.6111111111111112, null, 0.5714285714285715, 0.6486486486486487, null, 0.6111111111111112, 0.6486486486486487, null, 0.6486486486486487, 0.7179487179487181, null, 0.5641025641025641, 0.6341463414634146, null, 0.6341463414634146, 0.6428571428571429, null, 0.5714285714285715, 0.7179487179487181, null, 0.6486486486486487, 0.7804878048780487, null, 0.6486486486486487, 0.7804878048780487, null, 0.6486486486486487, 0.6842105263157895, null, 0.6486486486486487, 0.7804878048780487, null, 0.6486486486486487, 0.7804878048780487, null, 0.6486486486486487, 0.6842105263157895, null, 0.6486486486486487, 0.7804878048780487, null, 0.6486486486486487, 0.7804878048780487, null, 0.6486486486486487, 0.7804878048780487, null, 0.5853658536585366, 0.6222222222222222, null, 0.6222222222222222, 0.6938775510204083, null, 0.5714285714285715, 0.6111111111111112, null, 0.6111111111111112, 0.6842105263157895, null, 0.6382978723404256, 0.6666666666666666, null, 0.6666666666666666, 0.6530612244897959, null, 0.6530612244897959, 0.64, null, 0.64, 0.6666666666666666, null, 0.6666666666666666, 0.6923076923076923, null, 0.6341463414634146, 0.6666666666666666, null, 0.6666666666666666, 0.6976744186046512, null, 0.5789473684210525, 0.6153846153846153, null, 0.6153846153846153, 0.7441860465116279, null, 0.6666666666666666, 0.7000000000000001, null, 0.5714285714285715, 0.6486486486486487, null, 0.5714285714285715, 0.7179487179487181, null, 0.6486486486486487, 0.6842105263157895, null, 0.7179487179487181, 0.7804878048780487, null, 0.7179487179487181, 0.8372093023255813, null, 0.6842105263157895, 0.8095238095238095, null, 0.6923076923076923, 0.7407407407407408, null, 0.6842105263157895, 0.8095238095238095, null, 0.6976744186046512, 0.7872340425531915, null, 0.7450980392156863, 0.7636363636363636, null, 0.7441860465116279, 0.7272727272727272, null, 0.7272727272727272, 0.7826086956521741, null, 0.7659574468085107, 0.8235294117647058, null, 0.7179487179487181, 0.7804878048780487, null, 0.6842105263157895, 0.8095238095238095, null, 0.7804878048780487, 0.8095238095238095, null, 0.8095238095238095, 0.8636363636363636, null, 0.8636363636363636, 0.9130434782608696, null, 0.8372093023255813, 0.8636363636363636, null, 0.8636363636363636, 0.8888888888888891, null, 0.7804878048780487, 0.8095238095238095, null, 0.7804878048780487, 0.7999999999999999, null, 0.7804878048780487, 0.8095238095238095, null, 0.7804878048780487, 0.8095238095238095, null, 0.7804878048780487, 0.8372093023255813, null, 0.7804878048780487, 0.8372093023255813, null, 0.7804878048780487, 0.8372093023255813, null, 0.8095238095238095, 0.8636363636363636, null, 0.8095238095238095, 0.8636363636363636, null, 0.8095238095238095, 0.8636363636363636, null, 0.8095238095238095, 0.8636363636363636, null, 0.8636363636363636, 0.9583333333333334, null, 0.8636363636363636, 0.9583333333333334, null, 0.8636363636363636, 0.9583333333333334, null, 0.8636363636363636, 0.8888888888888891, null, 0.8636363636363636, 0.9583333333333334, null, 0.8636363636363636, 0.9583333333333334, null, 0.7999999999999999, 0.8260869565217391, null, 0.8260869565217391, 0.8510638297872342, null, 0.8510638297872342, 0.8979591836734694, null, 0.8095238095238095, 0.8372093023255813, null, 0.8372093023255813, 0.8636363636363636, null, 0.8636363636363636, 0.8888888888888891, null, 0.7872340425531915, 0.7450980392156863, null, 0.7826086956521741, 0.7659574468085107, null, 0.8235294117647058, 0.8461538461538461, null, 0.8461538461538461, 0.8888888888888891, null, 0.8372093023255813, 0.8636363636363636, null, 0.8372093023255813, 0.8636363636363636, null, 0.7804878048780487, 0.8095238095238095, null, 0.8095238095238095, 0.8636363636363636, null, 0.9130434782608696, 0.9583333333333334, null, 0.9583333333333334, 0.979591836734694, null, 0.9583333333333334, 0.979591836734694, null, 0.9583333333333334, 0.979591836734694, null, 0.9583333333333334, 0.979591836734694, null, 0.8888888888888891, 0.9130434782608696, null, 0.9130434782608696, 0.92, null, 0.8979591836734694, 0.9411764705882352, null, 0.9411764705882352, 0.923076923076923, null, 0.923076923076923, 0.9056603773584904, null, 0.979591836734694, 1.0, null, 0.8888888888888891, 0.9130434782608696, null, 0.8888888888888891, 0.979591836734694, null, 0.979591836734694, 1.0, null, 0.979591836734694, 1.0, null]}, {\"hoverinfo\": \"text\", \"marker\": {\"color\": [25, 2, 4, 1, 2, 1, 2, 1, 4, 7, 3, 1, 1, 13, 1, 6, 3, 4, 2, 1, 1, 1, 1, 1, 1, 1, 2, 1, 10, 1, 1, 1, 1, 1, 1, 1, 1, 1, 1, 1, 2, 1, 1, 1, 1, 1, 1, 3, 6, 1, 1, 1, 1, 1, 1, 1, 1, 1, 1, 1, 1, 1, 1, 1, 2, 1, 1, 1, 1, 1, 1, 1, 1, 1, 1, 1, 1, 1, 1, 1, 1, 1, 1, 1, 1, 1, 1, 1, 7, 4, 6, 1, 1, 1, 1, 1, 1, 1, 1, 1, 1, 3, 1, 2, 1, 1, 6, 1, 1, 1, 2, 1, 1, 1, 1, 1, 3, 1, 1, 1, 2, 1], \"colorscale\": [[0.0, \"rgb(255,255,217)\"], [0.125, \"rgb(237,248,177)\"], [0.25, \"rgb(199,233,180)\"], [0.375, \"rgb(127,205,187)\"], [0.5, \"rgb(65,182,196)\"], [0.625, \"rgb(29,145,192)\"], [0.75, \"rgb(34,94,168)\"], [0.875, \"rgb(37,52,148)\"], [1.0, \"rgb(8,29,88)\"]], \"line\": {\"width\": 2}, \"reversescale\": true, \"showscale\": true, \"size\": [19.931568569324174, 9.0, 12.0, 6.0, 9.0, 6.0, 9.0, 6.0, 12.0, 14.422064766172811, 10.754887502163468, 6.0, 6.0, 17.101319154423276, 6.0, 13.754887502163468, 10.754887502163468, 12.0, 9.0, 6.0, 6.0, 6.0, 6.0, 6.0, 6.0, 6.0, 9.0, 6.0, 15.965784284662089, 6.0, 6.0, 6.0, 6.0, 6.0, 6.0, 6.0, 6.0, 6.0, 6.0, 6.0, 9.0, 6.0, 6.0, 6.0, 6.0, 6.0, 6.0, 10.754887502163468, 13.754887502163468, 6.0, 6.0, 6.0, 6.0, 6.0, 6.0, 6.0, 6.0, 6.0, 6.0, 6.0, 6.0, 6.0, 6.0, 6.0, 9.0, 6.0, 6.0, 6.0, 6.0, 6.0, 6.0, 6.0, 6.0, 6.0, 6.0, 6.0, 6.0, 6.0, 6.0, 6.0, 6.0, 6.0, 6.0, 6.0, 6.0, 6.0, 6.0, 6.0, 14.422064766172811, 12.0, 13.754887502163468, 6.0, 6.0, 6.0, 6.0, 6.0, 6.0, 6.0, 6.0, 6.0, 6.0, 10.754887502163468, 6.0, 9.0, 6.0, 6.0, 13.754887502163468, 6.0, 6.0, 6.0, 9.0, 6.0, 6.0, 6.0, 6.0, 6.0, 10.754887502163468, 6.0, 6.0, 6.0, 9.0, 6.0]}, \"mode\": \"markers\", \"type\": \"scatter\", \"x\": [0, 1, 0, 4, 3, 5, 2, 6, 1, 0, 2, 3, 4, 0, 5, 1, 3, 2, 4, 6, 7, 8, 9, 10, 11, 12, 1, 2, 0, 3, 4, 5, 6, 7, 8, 9, 10, 11, 12, 13, 3, 4, 5, 6, 7, 8, 9, 1, 0, 10, 11, 12, 13, 14, 15, 16, 17, 18, 19, 20, 21, 22, 23, 24, 2, 25, 0, 1, 2, 3, 4, 5, 6, 7, 8, 9, 10, 11, 12, 13, 14, 15, 16, 5, 6, 7, 8, 9, 0, 2, 1, 10, 11, 12, 13, 14, 15, 16, 17, 18, 19, 3, 20, 4, 21, 4, 0, 5, 6, 7, 3, 8, 9, 10, 11, 12, 1, 13, 14, 15, 2, 16], \"y\": [0, 0.14814814814814814, 0.20689655172413796, 0.13793103448275865, 0.14814814814814814, 0.14814814814814814, 0.20689655172413796, 0.14814814814814814, 0.2758620689655173, 0.2758620689655173, 0.2758620689655173, 0.3225806451612903, 0.2758620689655173, 0.3870967741935484, 0.375, 0.3636363636363637, 0.4, 0.33333333333333337, 0.4324324324324325, 0.3636363636363637, 0.4, 0.3636363636363637, 0.3783783783783784, 0.375, 0.3783783783783784, 0.3870967741935484, 0.4864864864864866, 0.5263157894736842, 0.4848484848484849, 0.5128205128205129, 0.5365853658536586, 0.5128205128205129, 0.4878048780487805, 0.5116279069767442, 0.4705882352941176, 0.4705882352941176, 0.5142857142857143, 0.4864864864864866, 0.5128205128205129, 0.5365853658536586, 0.5714285714285715, 0.6111111111111112, 0.6486486486486487, 0.5641025641025641, 0.6341463414634146, 0.6428571428571429, 0.5714285714285715, 0.6486486486486487, 0.6486486486486487, 0.5853658536585366, 0.6222222222222222, 0.5609756097560976, 0.5714285714285715, 0.6111111111111112, 0.6382978723404256, 0.6666666666666666, 0.6530612244897959, 0.64, 0.6666666666666666, 0.6341463414634146, 0.6666666666666666, 0.5789473684210525, 0.6153846153846153, 0.6666666666666666, 0.5714285714285715, 0.6486486486486487, 0.7179487179487181, 0.7179487179487181, 0.6938775510204083, 0.6842105263157895, 0.6923076923076923, 0.7407407407407408, 0.6842105263157895, 0.6976744186046512, 0.7450980392156863, 0.7636363636363636, 0.7441860465116279, 0.7272727272727272, 0.7659574468085107, 0.7000000000000001, 0.7179487179487181, 0.6842105263157895, 0.6842105263157895, 0.7804878048780487, 0.8095238095238095, 0.8636363636363636, 0.8372093023255813, 0.8636363636363636, 0.7804878048780487, 0.8095238095238095, 0.8636363636363636, 0.7999999999999999, 0.8260869565217391, 0.8510638297872342, 0.8095238095238095, 0.8372093023255813, 0.8636363636363636, 0.7872340425531915, 0.7826086956521741, 0.8235294117647058, 0.8461538461538461, 0.8372093023255813, 0.7804878048780487, 0.8095238095238095, 0.8636363636363636, 0.9130434782608696, 0.9583333333333334, 0.8888888888888891, 0.9130434782608696, 0.92, 0.979591836734694, 0.8979591836734694, 0.9411764705882352, 0.923076923076923, 0.9056603773584904, 0.979591836734694, 1.0, 0.8888888888888891, 0.9130434782608696, 0.8888888888888891, 0.979591836734694, 0.8888888888888891]}],\n",
       "                        {\"annotations\": [{\"showarrow\": false, \"text\": \"\", \"x\": 0.005, \"xref\": \"paper\", \"y\": -0.002, \"yref\": \"paper\"}], \"height\": 600, \"hovermode\": \"closest\", \"margin\": {\"b\": 20, \"l\": 5, \"r\": 5, \"t\": 40}, \"showlegend\": false, \"template\": {\"data\": {\"bar\": [{\"error_x\": {\"color\": \"#2a3f5f\"}, \"error_y\": {\"color\": \"#2a3f5f\"}, \"marker\": {\"line\": {\"color\": \"#E5ECF6\", \"width\": 0.5}}, \"type\": \"bar\"}], \"barpolar\": [{\"marker\": {\"line\": {\"color\": \"#E5ECF6\", \"width\": 0.5}}, \"type\": \"barpolar\"}], \"carpet\": [{\"aaxis\": {\"endlinecolor\": \"#2a3f5f\", \"gridcolor\": \"white\", \"linecolor\": \"white\", \"minorgridcolor\": \"white\", \"startlinecolor\": \"#2a3f5f\"}, \"baxis\": {\"endlinecolor\": \"#2a3f5f\", \"gridcolor\": \"white\", \"linecolor\": \"white\", \"minorgridcolor\": \"white\", \"startlinecolor\": \"#2a3f5f\"}, \"type\": \"carpet\"}], \"choropleth\": [{\"colorbar\": {\"outlinewidth\": 0, \"ticks\": \"\"}, \"type\": \"choropleth\"}], \"contour\": [{\"colorbar\": {\"outlinewidth\": 0, \"ticks\": \"\"}, \"colorscale\": [[0.0, \"#0d0887\"], [0.1111111111111111, \"#46039f\"], [0.2222222222222222, \"#7201a8\"], [0.3333333333333333, \"#9c179e\"], [0.4444444444444444, \"#bd3786\"], [0.5555555555555556, \"#d8576b\"], [0.6666666666666666, \"#ed7953\"], [0.7777777777777778, \"#fb9f3a\"], [0.8888888888888888, \"#fdca26\"], [1.0, \"#f0f921\"]], \"type\": \"contour\"}], \"contourcarpet\": [{\"colorbar\": {\"outlinewidth\": 0, \"ticks\": \"\"}, \"type\": \"contourcarpet\"}], \"heatmap\": [{\"colorbar\": {\"outlinewidth\": 0, \"ticks\": \"\"}, \"colorscale\": [[0.0, \"#0d0887\"], [0.1111111111111111, \"#46039f\"], [0.2222222222222222, \"#7201a8\"], [0.3333333333333333, \"#9c179e\"], [0.4444444444444444, \"#bd3786\"], [0.5555555555555556, \"#d8576b\"], [0.6666666666666666, \"#ed7953\"], [0.7777777777777778, \"#fb9f3a\"], [0.8888888888888888, \"#fdca26\"], [1.0, \"#f0f921\"]], \"type\": \"heatmap\"}], \"heatmapgl\": [{\"colorbar\": {\"outlinewidth\": 0, \"ticks\": \"\"}, \"colorscale\": [[0.0, \"#0d0887\"], [0.1111111111111111, \"#46039f\"], [0.2222222222222222, \"#7201a8\"], [0.3333333333333333, \"#9c179e\"], [0.4444444444444444, \"#bd3786\"], [0.5555555555555556, \"#d8576b\"], [0.6666666666666666, \"#ed7953\"], [0.7777777777777778, \"#fb9f3a\"], [0.8888888888888888, \"#fdca26\"], [1.0, \"#f0f921\"]], \"type\": \"heatmapgl\"}], \"histogram\": [{\"marker\": {\"colorbar\": {\"outlinewidth\": 0, \"ticks\": \"\"}}, \"type\": \"histogram\"}], \"histogram2d\": [{\"colorbar\": {\"outlinewidth\": 0, \"ticks\": \"\"}, \"colorscale\": [[0.0, \"#0d0887\"], [0.1111111111111111, \"#46039f\"], [0.2222222222222222, \"#7201a8\"], [0.3333333333333333, \"#9c179e\"], [0.4444444444444444, \"#bd3786\"], [0.5555555555555556, \"#d8576b\"], [0.6666666666666666, \"#ed7953\"], [0.7777777777777778, \"#fb9f3a\"], [0.8888888888888888, \"#fdca26\"], [1.0, \"#f0f921\"]], \"type\": \"histogram2d\"}], \"histogram2dcontour\": [{\"colorbar\": {\"outlinewidth\": 0, \"ticks\": \"\"}, \"colorscale\": [[0.0, \"#0d0887\"], [0.1111111111111111, \"#46039f\"], [0.2222222222222222, \"#7201a8\"], [0.3333333333333333, \"#9c179e\"], [0.4444444444444444, \"#bd3786\"], [0.5555555555555556, \"#d8576b\"], [0.6666666666666666, \"#ed7953\"], [0.7777777777777778, \"#fb9f3a\"], [0.8888888888888888, \"#fdca26\"], [1.0, \"#f0f921\"]], \"type\": \"histogram2dcontour\"}], \"mesh3d\": [{\"colorbar\": {\"outlinewidth\": 0, \"ticks\": \"\"}, \"type\": \"mesh3d\"}], \"parcoords\": [{\"line\": {\"colorbar\": {\"outlinewidth\": 0, \"ticks\": \"\"}}, \"type\": \"parcoords\"}], \"pie\": [{\"automargin\": true, \"type\": \"pie\"}], \"scatter\": [{\"marker\": {\"colorbar\": {\"outlinewidth\": 0, \"ticks\": \"\"}}, \"type\": \"scatter\"}], \"scatter3d\": [{\"line\": {\"colorbar\": {\"outlinewidth\": 0, \"ticks\": \"\"}}, \"marker\": {\"colorbar\": {\"outlinewidth\": 0, \"ticks\": \"\"}}, \"type\": \"scatter3d\"}], \"scattercarpet\": [{\"marker\": {\"colorbar\": {\"outlinewidth\": 0, \"ticks\": \"\"}}, \"type\": \"scattercarpet\"}], \"scattergeo\": [{\"marker\": {\"colorbar\": {\"outlinewidth\": 0, \"ticks\": \"\"}}, \"type\": \"scattergeo\"}], \"scattergl\": [{\"marker\": {\"colorbar\": {\"outlinewidth\": 0, \"ticks\": \"\"}}, \"type\": \"scattergl\"}], \"scattermapbox\": [{\"marker\": {\"colorbar\": {\"outlinewidth\": 0, \"ticks\": \"\"}}, \"type\": \"scattermapbox\"}], \"scatterpolar\": [{\"marker\": {\"colorbar\": {\"outlinewidth\": 0, \"ticks\": \"\"}}, \"type\": \"scatterpolar\"}], \"scatterpolargl\": [{\"marker\": {\"colorbar\": {\"outlinewidth\": 0, \"ticks\": \"\"}}, \"type\": \"scatterpolargl\"}], \"scatterternary\": [{\"marker\": {\"colorbar\": {\"outlinewidth\": 0, \"ticks\": \"\"}}, \"type\": \"scatterternary\"}], \"surface\": [{\"colorbar\": {\"outlinewidth\": 0, \"ticks\": \"\"}, \"colorscale\": [[0.0, \"#0d0887\"], [0.1111111111111111, \"#46039f\"], [0.2222222222222222, \"#7201a8\"], [0.3333333333333333, \"#9c179e\"], [0.4444444444444444, \"#bd3786\"], [0.5555555555555556, \"#d8576b\"], [0.6666666666666666, \"#ed7953\"], [0.7777777777777778, \"#fb9f3a\"], [0.8888888888888888, \"#fdca26\"], [1.0, \"#f0f921\"]], \"type\": \"surface\"}], \"table\": [{\"cells\": {\"fill\": {\"color\": \"#EBF0F8\"}, \"line\": {\"color\": \"white\"}}, \"header\": {\"fill\": {\"color\": \"#C8D4E3\"}, \"line\": {\"color\": \"white\"}}, \"type\": \"table\"}]}, \"layout\": {\"annotationdefaults\": {\"arrowcolor\": \"#2a3f5f\", \"arrowhead\": 0, \"arrowwidth\": 1}, \"coloraxis\": {\"colorbar\": {\"outlinewidth\": 0, \"ticks\": \"\"}}, \"colorscale\": {\"diverging\": [[0, \"#8e0152\"], [0.1, \"#c51b7d\"], [0.2, \"#de77ae\"], [0.3, \"#f1b6da\"], [0.4, \"#fde0ef\"], [0.5, \"#f7f7f7\"], [0.6, \"#e6f5d0\"], [0.7, \"#b8e186\"], [0.8, \"#7fbc41\"], [0.9, \"#4d9221\"], [1, \"#276419\"]], \"sequential\": [[0.0, \"#0d0887\"], [0.1111111111111111, \"#46039f\"], [0.2222222222222222, \"#7201a8\"], [0.3333333333333333, \"#9c179e\"], [0.4444444444444444, \"#bd3786\"], [0.5555555555555556, \"#d8576b\"], [0.6666666666666666, \"#ed7953\"], [0.7777777777777778, \"#fb9f3a\"], [0.8888888888888888, \"#fdca26\"], [1.0, \"#f0f921\"]], \"sequentialminus\": [[0.0, \"#0d0887\"], [0.1111111111111111, \"#46039f\"], [0.2222222222222222, \"#7201a8\"], [0.3333333333333333, \"#9c179e\"], [0.4444444444444444, \"#bd3786\"], [0.5555555555555556, \"#d8576b\"], [0.6666666666666666, \"#ed7953\"], [0.7777777777777778, \"#fb9f3a\"], [0.8888888888888888, \"#fdca26\"], [1.0, \"#f0f921\"]]}, \"colorway\": [\"#636efa\", \"#EF553B\", \"#00cc96\", \"#ab63fa\", \"#FFA15A\", \"#19d3f3\", \"#FF6692\", \"#B6E880\", \"#FF97FF\", \"#FECB52\"], \"font\": {\"color\": \"#2a3f5f\"}, \"geo\": {\"bgcolor\": \"white\", \"lakecolor\": \"white\", \"landcolor\": \"#E5ECF6\", \"showlakes\": true, \"showland\": true, \"subunitcolor\": \"white\"}, \"hoverlabel\": {\"align\": \"left\"}, \"hovermode\": \"closest\", \"mapbox\": {\"style\": \"light\"}, \"paper_bgcolor\": \"white\", \"plot_bgcolor\": \"#E5ECF6\", \"polar\": {\"angularaxis\": {\"gridcolor\": \"white\", \"linecolor\": \"white\", \"ticks\": \"\"}, \"bgcolor\": \"#E5ECF6\", \"radialaxis\": {\"gridcolor\": \"white\", \"linecolor\": \"white\", \"ticks\": \"\"}}, \"scene\": {\"xaxis\": {\"backgroundcolor\": \"#E5ECF6\", \"gridcolor\": \"white\", \"gridwidth\": 2, \"linecolor\": \"white\", \"showbackground\": true, \"ticks\": \"\", \"zerolinecolor\": \"white\"}, \"yaxis\": {\"backgroundcolor\": \"#E5ECF6\", \"gridcolor\": \"white\", \"gridwidth\": 2, \"linecolor\": \"white\", \"showbackground\": true, \"ticks\": \"\", \"zerolinecolor\": \"white\"}, \"zaxis\": {\"backgroundcolor\": \"#E5ECF6\", \"gridcolor\": \"white\", \"gridwidth\": 2, \"linecolor\": \"white\", \"showbackground\": true, \"ticks\": \"\", \"zerolinecolor\": \"white\"}}, \"shapedefaults\": {\"line\": {\"color\": \"#2a3f5f\"}}, \"ternary\": {\"aaxis\": {\"gridcolor\": \"white\", \"linecolor\": \"white\", \"ticks\": \"\"}, \"baxis\": {\"gridcolor\": \"white\", \"linecolor\": \"white\", \"ticks\": \"\"}, \"bgcolor\": \"#E5ECF6\", \"caxis\": {\"gridcolor\": \"white\", \"linecolor\": \"white\", \"ticks\": \"\"}}, \"title\": {\"x\": 0.05}, \"xaxis\": {\"automargin\": true, \"gridcolor\": \"white\", \"linecolor\": \"white\", \"ticks\": \"\", \"title\": {\"standoff\": 15}, \"zerolinecolor\": \"white\", \"zerolinewidth\": 2}, \"yaxis\": {\"automargin\": true, \"gridcolor\": \"white\", \"linecolor\": \"white\", \"ticks\": \"\", \"title\": {\"standoff\": 15}, \"zerolinecolor\": \"white\", \"zerolinewidth\": 2}}}, \"title\": {\"font\": {\"size\": 16}, \"text\": \"<br>World states for hand_selected_008, repetition 1, by number of squares\"}, \"width\": 600},\n",
       "                        {\"responsive\": true}\n",
       "                    ).then(function(){\n",
       "                            \n",
       "var gd = document.getElementById('914b8154-1643-48cc-8489-35aadab62c20');\n",
       "var x = new MutationObserver(function (mutations, observer) {{\n",
       "        var display = window.getComputedStyle(gd).display;\n",
       "        if (!display || display === 'none') {{\n",
       "            console.log([gd, 'removed!']);\n",
       "            Plotly.purge(gd);\n",
       "            observer.disconnect();\n",
       "        }}\n",
       "}});\n",
       "\n",
       "// Listen for the removal of the full notebook cells\n",
       "var notebookContainer = gd.closest('#notebook-container');\n",
       "if (notebookContainer) {{\n",
       "    x.observe(notebookContainer, {childList: true});\n",
       "}}\n",
       "\n",
       "// Listen for the clearing of the current output cell\n",
       "var outputEl = gd.closest('.output');\n",
       "if (outputEl) {{\n",
       "    x.observe(outputEl, {childList: true});\n",
       "}}\n",
       "\n",
       "                        })\n",
       "                };\n",
       "                });\n",
       "            </script>\n",
       "        </div>"
      ]
     },
     "metadata": {},
     "output_type": "display_data"
    },
    {
     "data": {
      "application/vnd.plotly.v1+json": {
       "config": {
        "plotlyServerURL": "https://plot.ly"
       },
       "data": [
        {
         "hoverinfo": "none",
         "line": {
          "color": "#888",
          "width": 0.5
         },
         "mode": "lines",
         "type": "scatter",
         "x": [
          0,
          0,
          null,
          0,
          0,
          null,
          0,
          1,
          null,
          0,
          2,
          null,
          0,
          3,
          null,
          0,
          0,
          null,
          0,
          0,
          null,
          0,
          0,
          null,
          0,
          1,
          null,
          0,
          0,
          null,
          0,
          0,
          null,
          0,
          1,
          null,
          0,
          2,
          null,
          0,
          0,
          null,
          0,
          2,
          null,
          0,
          2,
          null,
          0,
          1,
          null,
          0,
          1,
          null,
          0,
          0,
          null,
          0,
          0,
          null,
          0,
          4,
          null,
          0,
          2,
          null,
          0,
          0,
          null,
          0,
          5,
          null,
          3,
          1,
          null,
          0,
          1,
          null,
          0,
          1,
          null,
          0,
          1,
          null,
          0,
          1,
          null,
          1,
          1,
          null,
          1,
          1,
          null,
          1,
          4,
          null,
          2,
          3,
          null,
          2,
          1,
          null,
          4,
          2,
          null,
          0,
          0,
          null,
          0,
          0,
          null,
          0,
          0,
          null,
          0,
          0,
          null,
          0,
          0,
          null,
          0,
          0,
          null,
          0,
          10,
          null,
          1,
          5,
          null,
          1,
          2,
          null,
          1,
          3,
          null,
          1,
          2,
          null,
          1,
          2,
          null,
          2,
          0,
          null,
          2,
          0,
          null,
          2,
          0,
          null,
          3,
          6,
          null,
          3,
          7,
          null,
          4,
          0,
          null,
          5,
          8,
          null,
          0,
          1,
          null,
          0,
          3,
          null,
          0,
          1,
          null,
          0,
          0,
          null,
          0,
          0,
          null,
          0,
          0,
          null,
          0,
          0,
          null,
          0,
          0,
          null,
          0,
          1,
          null,
          0,
          1,
          null,
          0,
          0,
          null,
          0,
          1,
          null,
          3,
          4,
          null,
          4,
          2,
          null,
          5,
          4,
          null,
          2,
          0,
          null,
          2,
          0,
          null,
          2,
          0,
          null,
          2,
          0,
          null,
          1,
          1,
          null,
          1,
          6,
          null,
          1,
          7,
          null,
          1,
          1,
          null,
          1,
          11,
          null,
          6,
          5,
          null,
          7,
          8,
          null,
          8,
          9,
          null,
          9,
          12,
          null,
          2,
          3,
          null,
          4,
          5,
          null,
          0,
          0,
          null,
          0,
          0,
          null,
          0,
          9,
          null,
          0,
          11,
          null,
          0,
          0,
          null,
          0,
          0,
          null,
          0,
          9,
          null,
          0,
          0,
          null,
          1,
          3,
          null,
          1,
          27,
          null,
          5,
          10,
          null,
          6,
          13,
          null,
          7,
          13,
          null,
          8,
          20,
          null,
          9,
          25,
          null,
          10,
          1,
          null,
          11,
          3,
          null,
          12,
          10,
          null,
          1,
          2,
          null,
          1,
          0,
          null,
          1,
          2,
          null,
          1,
          2,
          null,
          1,
          0,
          null,
          1,
          0,
          null,
          2,
          0,
          null,
          2,
          0,
          null,
          2,
          0,
          null,
          5,
          6,
          null,
          6,
          1,
          null,
          0,
          1,
          null,
          0,
          5,
          null,
          0,
          1,
          null,
          0,
          1,
          null,
          0,
          17,
          null,
          0,
          1,
          null,
          0,
          1,
          null,
          0,
          1,
          null,
          3,
          7,
          null,
          3,
          4,
          null,
          7,
          4,
          null,
          4,
          8,
          null,
          4,
          26,
          null,
          8,
          6,
          null,
          9,
          9,
          null,
          10,
          10,
          null,
          11,
          12,
          null,
          12,
          15,
          null,
          13,
          14,
          null,
          14,
          15,
          null,
          15,
          16,
          null,
          16,
          17,
          null,
          17,
          18,
          null,
          18,
          19,
          null,
          19,
          18,
          null,
          20,
          21,
          null,
          21,
          22,
          null,
          22,
          23,
          null,
          23,
          24,
          null,
          24,
          19,
          null,
          25,
          26,
          null,
          26,
          21,
          null,
          27,
          28,
          null,
          28,
          23,
          null,
          0,
          4,
          null,
          0,
          4,
          null,
          0,
          20,
          null,
          1,
          2,
          null,
          2,
          3,
          null,
          3,
          4,
          null,
          4,
          6,
          null,
          5,
          2,
          null,
          6,
          7,
          null,
          7,
          8,
          null,
          9,
          8,
          null,
          10,
          11,
          null,
          11,
          12,
          null,
          13,
          14,
          null,
          14,
          9,
          null,
          15,
          16,
          null,
          16,
          13,
          null,
          17,
          15,
          null,
          19,
          16,
          null,
          20,
          0,
          null,
          21,
          22,
          null,
          23,
          24,
          null,
          24,
          19,
          null,
          26,
          20,
          null,
          4,
          5,
          null,
          4,
          5,
          null,
          5,
          1,
          null,
          5,
          10,
          null,
          1,
          7,
          null,
          1,
          2,
          null,
          1,
          2,
          null,
          1,
          18,
          null,
          1,
          2,
          null,
          1,
          2,
          null,
          7,
          3,
          null,
          3,
          3,
          null,
          3,
          5,
          null,
          2,
          3,
          null,
          2,
          0,
          null,
          2,
          0,
          null,
          2,
          0,
          null,
          2,
          0,
          null,
          0,
          1,
          null,
          0,
          1,
          null,
          0,
          3,
          null,
          0,
          3,
          null,
          0,
          1,
          null,
          0,
          1,
          null,
          8,
          3,
          null,
          9,
          10,
          null,
          10,
          11,
          null,
          11,
          12,
          null,
          13,
          14,
          null,
          15,
          0,
          null,
          16,
          17,
          null,
          18,
          0,
          null,
          19,
          25,
          null,
          20,
          21,
          null,
          21,
          22,
          null,
          1,
          4,
          null,
          1,
          9,
          null,
          1,
          2,
          null,
          1,
          2,
          null,
          1,
          4,
          null,
          3,
          2,
          null,
          3,
          2,
          null,
          3,
          2,
          null,
          2,
          0,
          null,
          2,
          0,
          null,
          2,
          0,
          null,
          2,
          0,
          null,
          5,
          6,
          null,
          6,
          7,
          null,
          7,
          8,
          null,
          8,
          0,
          null,
          9,
          0,
          null,
          10,
          1,
          null
         ],
         "y": [
          0,
          0.2758620689655173,
          null,
          0,
          0.2758620689655173,
          null,
          0,
          0.2758620689655173,
          null,
          0,
          0.2758620689655173,
          null,
          0,
          0.14814814814814814,
          null,
          0,
          0.2758620689655173,
          null,
          0,
          0.20689655172413796,
          null,
          0,
          0.2758620689655173,
          null,
          0,
          0.2758620689655173,
          null,
          0,
          0.20689655172413796,
          null,
          0,
          0.2758620689655173,
          null,
          0,
          0.14814814814814814,
          null,
          0,
          0.2758620689655173,
          null,
          0,
          0.20689655172413796,
          null,
          0,
          0.20689655172413796,
          null,
          0,
          0.2758620689655173,
          null,
          0,
          0.14814814814814814,
          null,
          0,
          0.14814814814814814,
          null,
          0,
          0.2758620689655173,
          null,
          0,
          0.2758620689655173,
          null,
          0,
          0.2758620689655173,
          null,
          0,
          0.20689655172413796,
          null,
          0,
          0.20689655172413796,
          null,
          0,
          0.2758620689655173,
          null,
          0.14814814814814814,
          0.2758620689655173,
          null,
          0.20689655172413796,
          0.3636363636363637,
          null,
          0.20689655172413796,
          0.3636363636363637,
          null,
          0.20689655172413796,
          0.3636363636363637,
          null,
          0.20689655172413796,
          0.3636363636363637,
          null,
          0.14814814814814814,
          0.2758620689655173,
          null,
          0.14814814814814814,
          0.2758620689655173,
          null,
          0.14814814814814814,
          0.21428571428571425,
          null,
          0.20689655172413796,
          0.3225806451612903,
          null,
          0.20689655172413796,
          0.3636363636363637,
          null,
          0.21428571428571425,
          0.33333333333333337,
          null,
          0.2758620689655173,
          0.3870967741935484,
          null,
          0.2758620689655173,
          0.3870967741935484,
          null,
          0.2758620689655173,
          0.3870967741935484,
          null,
          0.2758620689655173,
          0.4848484848484849,
          null,
          0.2758620689655173,
          0.3870967741935484,
          null,
          0.2758620689655173,
          0.3870967741935484,
          null,
          0.2758620689655173,
          0.4848484848484849,
          null,
          0.2758620689655173,
          0.3636363636363637,
          null,
          0.2758620689655173,
          0.33333333333333337,
          null,
          0.2758620689655173,
          0.3225806451612903,
          null,
          0.2758620689655173,
          0.33333333333333337,
          null,
          0.2758620689655173,
          0.33333333333333337,
          null,
          0.2758620689655173,
          0.3870967741935484,
          null,
          0.2758620689655173,
          0.3870967741935484,
          null,
          0.2758620689655173,
          0.3870967741935484,
          null,
          0.3225806451612903,
          0.3636363636363637,
          null,
          0.3225806451612903,
          0.375,
          null,
          0.2758620689655173,
          0.4848484848484849,
          null,
          0.2758620689655173,
          0.3870967741935484,
          null,
          0.3870967741935484,
          0.5714285714285715,
          null,
          0.3870967741935484,
          0.375,
          null,
          0.3870967741935484,
          0.5714285714285715,
          null,
          0.3870967741935484,
          0.4848484848484849,
          null,
          0.3870967741935484,
          0.4848484848484849,
          null,
          0.3870967741935484,
          0.4848484848484849,
          null,
          0.3870967741935484,
          0.4848484848484849,
          null,
          0.3870967741935484,
          0.4848484848484849,
          null,
          0.3870967741935484,
          0.5714285714285715,
          null,
          0.3870967741935484,
          0.5714285714285715,
          null,
          0.3870967741935484,
          0.4848484848484849,
          null,
          0.3870967741935484,
          0.5714285714285715,
          null,
          0.375,
          0.4117647058823529,
          null,
          0.4117647058823529,
          0.5,
          null,
          0.3636363636363637,
          0.4864864864864866,
          null,
          0.33333333333333337,
          0.3870967741935484,
          null,
          0.33333333333333337,
          0.3870967741935484,
          null,
          0.33333333333333337,
          0.3870967741935484,
          null,
          0.33333333333333337,
          0.3870967741935484,
          null,
          0.3636363636363637,
          0.4864864864864866,
          null,
          0.3636363636363637,
          0.5405405405405406,
          null,
          0.3636363636363637,
          0.4571428571428571,
          null,
          0.3636363636363637,
          0.4864864864864866,
          null,
          0.3636363636363637,
          0.4864864864864866,
          null,
          0.3636363636363637,
          0.5405405405405406,
          null,
          0.375,
          0.4705882352941176,
          null,
          0.3870967741935484,
          0.4375000000000001,
          null,
          0.4375000000000001,
          0.4705882352941176,
          null,
          0.5,
          0.4736842105263158,
          null,
          0.4864864864864866,
          0.5641025641025641,
          null,
          0.4848484848484849,
          0.6486486486486487,
          null,
          0.4848484848484849,
          0.6486486486486487,
          null,
          0.4848484848484849,
          0.6486486486486487,
          null,
          0.4848484848484849,
          0.5714285714285715,
          null,
          0.4848484848484849,
          0.6486486486486487,
          null,
          0.4848484848484849,
          0.6486486486486487,
          null,
          0.4848484848484849,
          0.5294117647058824,
          null,
          0.4848484848484849,
          0.6486486486486487,
          null,
          0.4864864864864866,
          0.5853658536585366,
          null,
          0.4864864864864866,
          0.6341463414634146,
          null,
          0.5405405405405406,
          0.6341463414634146,
          null,
          0.5405405405405406,
          0.6829268292682927,
          null,
          0.4571428571428571,
          0.5641025641025641,
          null,
          0.4705882352941176,
          0.5789473684210525,
          null,
          0.5294117647058824,
          0.6578947368421052,
          null,
          0.4848484848484849,
          0.5714285714285715,
          null,
          0.4864864864864866,
          0.5853658536585366,
          null,
          0.4705882352941176,
          0.4444444444444444,
          null,
          0.5714285714285715,
          0.6111111111111112,
          null,
          0.5714285714285715,
          0.6486486486486487,
          null,
          0.5714285714285715,
          0.6111111111111112,
          null,
          0.5714285714285715,
          0.6111111111111112,
          null,
          0.5714285714285715,
          0.6486486486486487,
          null,
          0.5714285714285715,
          0.6486486486486487,
          null,
          0.6111111111111112,
          0.6842105263157895,
          null,
          0.6111111111111112,
          0.6842105263157895,
          null,
          0.6111111111111112,
          0.6842105263157895,
          null,
          0.5641025641025641,
          0.6,
          null,
          0.6,
          0.6818181818181819,
          null,
          0.6486486486486487,
          0.7804878048780487,
          null,
          0.6486486486486487,
          0.7179487179487181,
          null,
          0.6486486486486487,
          0.7804878048780487,
          null,
          0.6486486486486487,
          0.7804878048780487,
          null,
          0.6486486486486487,
          0.6842105263157895,
          null,
          0.6486486486486487,
          0.7804878048780487,
          null,
          0.6486486486486487,
          0.7804878048780487,
          null,
          0.6486486486486487,
          0.7804878048780487,
          null,
          0.5853658536585366,
          0.6046511627906976,
          null,
          0.5853658536585366,
          0.6666666666666665,
          null,
          0.6046511627906976,
          0.6666666666666665,
          null,
          0.6666666666666665,
          0.6530612244897959,
          null,
          0.6666666666666665,
          0.7346938775510204,
          null,
          0.6530612244897959,
          0.7058823529411765,
          null,
          0.6486486486486487,
          0.6842105263157895,
          null,
          0.6341463414634146,
          0.7111111111111111,
          null,
          0.5714285714285715,
          0.6111111111111112,
          null,
          0.6111111111111112,
          0.6842105263157895,
          null,
          0.5641025641025641,
          0.6,
          null,
          0.6,
          0.5853658536585366,
          null,
          0.5853658536585366,
          0.5714285714285713,
          null,
          0.5714285714285713,
          0.5581395348837209,
          null,
          0.5581395348837209,
          0.5909090909090909,
          null,
          0.5909090909090909,
          0.5777777777777778,
          null,
          0.5777777777777778,
          0.6938775510204083,
          null,
          0.5789473684210525,
          0.6153846153846153,
          null,
          0.6153846153846153,
          0.6,
          null,
          0.6,
          0.6666666666666666,
          null,
          0.6666666666666666,
          0.6511627906976745,
          null,
          0.6511627906976745,
          0.7234042553191491,
          null,
          0.6578947368421052,
          0.6410256410256411,
          null,
          0.6410256410256411,
          0.675,
          null,
          0.6341463414634146,
          0.6666666666666666,
          null,
          0.6666666666666666,
          0.6976744186046512,
          null,
          0.6842105263157895,
          0.8095238095238095,
          null,
          0.6842105263157895,
          0.8095238095238095,
          null,
          0.6842105263157895,
          0.7499999999999999,
          null,
          0.6818181818181819,
          0.6888888888888889,
          null,
          0.6888888888888889,
          0.7446808510638298,
          null,
          0.7446808510638298,
          0.7708333333333333,
          null,
          0.7708333333333333,
          0.8653846153846153,
          null,
          0.7179487179487181,
          0.8372093023255813,
          null,
          0.7058823529411765,
          0.7636363636363636,
          null,
          0.7636363636363636,
          0.7118644067796609,
          null,
          0.6842105263157895,
          0.8095238095238095,
          null,
          0.7111111111111111,
          0.6956521739130435,
          null,
          0.6956521739130435,
          0.6808510638297872,
          null,
          0.6829268292682927,
          0.7555555555555556,
          null,
          0.7555555555555556,
          0.7826086956521741,
          null,
          0.6842105263157895,
          0.7179487179487181,
          null,
          0.7179487179487181,
          0.8372093023255813,
          null,
          0.6842105263157895,
          0.8095238095238095,
          null,
          0.7234042553191491,
          0.8235294117647058,
          null,
          0.7499999999999999,
          0.8636363636363636,
          null,
          0.675,
          0.7073170731707317,
          null,
          0.6976744186046512,
          0.7555555555555556,
          null,
          0.7555555555555556,
          0.7826086956521741,
          null,
          0.7346938775510204,
          0.7843137254901961,
          null,
          0.8095238095238095,
          0.8636363636363636,
          null,
          0.8095238095238095,
          0.8636363636363636,
          null,
          0.8636363636363636,
          0.9583333333333334,
          null,
          0.8636363636363636,
          0.9130434782608696,
          null,
          0.7804878048780487,
          0.8095238095238095,
          null,
          0.7804878048780487,
          0.8372093023255813,
          null,
          0.7804878048780487,
          0.8372093023255813,
          null,
          0.7804878048780487,
          0.8095238095238095,
          null,
          0.7804878048780487,
          0.8372093023255813,
          null,
          0.7804878048780487,
          0.8372093023255813,
          null,
          0.8095238095238095,
          0.8636363636363636,
          null,
          0.8636363636363636,
          0.8888888888888891,
          null,
          0.8636363636363636,
          0.8888888888888891,
          null,
          0.8372093023255813,
          0.8636363636363636,
          null,
          0.8372093023255813,
          0.8636363636363636,
          null,
          0.8372093023255813,
          0.8636363636363636,
          null,
          0.8372093023255813,
          0.8636363636363636,
          null,
          0.8372093023255813,
          0.8636363636363636,
          null,
          0.8636363636363636,
          0.9583333333333334,
          null,
          0.8636363636363636,
          0.9583333333333334,
          null,
          0.8636363636363636,
          0.8888888888888891,
          null,
          0.8636363636363636,
          0.8888888888888891,
          null,
          0.8636363636363636,
          0.9583333333333334,
          null,
          0.8636363636363636,
          0.9583333333333334,
          null,
          0.8095238095238095,
          0.8636363636363636,
          null,
          0.7826086956521741,
          0.8085106382978724,
          null,
          0.8085106382978724,
          0.8627450980392156,
          null,
          0.8627450980392156,
          0.8846153846153846,
          null,
          0.8372093023255813,
          0.8666666666666667,
          null,
          0.8095238095238095,
          0.8636363636363636,
          null,
          0.8235294117647058,
          0.8727272727272728,
          null,
          0.8095238095238095,
          0.8636363636363636,
          null,
          0.7826086956521741,
          0.76,
          null,
          0.7843137254901961,
          0.8113207547169812,
          null,
          0.8113207547169812,
          0.8,
          null,
          0.9583333333333334,
          0.979591836734694,
          null,
          0.9583333333333334,
          0.979591836734694,
          null,
          0.9583333333333334,
          0.979591836734694,
          null,
          0.9583333333333334,
          0.979591836734694,
          null,
          0.9583333333333334,
          0.979591836734694,
          null,
          0.8888888888888891,
          0.979591836734694,
          null,
          0.8888888888888891,
          0.979591836734694,
          null,
          0.8888888888888891,
          0.979591836734694,
          null,
          0.979591836734694,
          1,
          null,
          0.979591836734694,
          1,
          null,
          0.979591836734694,
          1,
          null,
          0.979591836734694,
          1,
          null,
          0.8888888888888891,
          0.9130434782608696,
          null,
          0.9130434782608696,
          0.9583333333333334,
          null,
          0.9583333333333334,
          0.979591836734694,
          null,
          0.979591836734694,
          1,
          null,
          0.979591836734694,
          1,
          null,
          0.9130434782608696,
          0.9583333333333334,
          null
         ]
        },
        {
         "hoverinfo": "text",
         "marker": {
          "color": [
           25,
           1,
           4,
           3,
           2,
           1,
           7,
           5,
           3,
           2,
           1,
           1,
           12,
           1,
           1,
           1,
           4,
           5,
           1,
           1,
           1,
           1,
           1,
           1,
           1,
           1,
           8,
           2,
           1,
           1,
           1,
           1,
           1,
           1,
           1,
           1,
           6,
           3,
           1,
           1,
           8,
           2,
           1,
           2,
           1,
           1,
           1,
           1,
           1,
           1,
           1,
           1,
           1,
           1,
           1,
           1,
           1,
           1,
           1,
           1,
           1,
           1,
           1,
           1,
           1,
           3,
           1,
           1,
           1,
           1,
           1,
           1,
           1,
           1,
           1,
           1,
           1,
           1,
           1,
           1,
           1,
           1,
           1,
           1,
           1,
           1,
           1,
           1,
           1,
           1,
           1,
           1,
           2,
           2,
           1,
           6,
           1,
           3,
           5,
           7,
           1,
           1,
           1,
           1,
           1,
           1,
           1,
           1,
           1,
           1,
           1,
           1,
           1,
           1,
           1,
           6,
           2,
           3,
           5,
           6,
           1,
           1,
           1,
           1,
           1,
           1
          ],
          "colorscale": [
           [
            0,
            "rgb(255,255,217)"
           ],
           [
            0.125,
            "rgb(237,248,177)"
           ],
           [
            0.25,
            "rgb(199,233,180)"
           ],
           [
            0.375,
            "rgb(127,205,187)"
           ],
           [
            0.5,
            "rgb(65,182,196)"
           ],
           [
            0.625,
            "rgb(29,145,192)"
           ],
           [
            0.75,
            "rgb(34,94,168)"
           ],
           [
            0.875,
            "rgb(37,52,148)"
           ],
           [
            1,
            "rgb(8,29,88)"
           ]
          ],
          "line": {
           "width": 2
          },
          "reversescale": true,
          "showscale": true,
          "size": [
           19.931568569324174,
           6,
           12,
           10.754887502163468,
           9,
           6,
           14.422064766172811,
           12.965784284662089,
           10.754887502163468,
           9,
           6,
           6,
           16.75488750216347,
           6,
           6,
           6,
           12,
           12.965784284662089,
           6,
           6,
           6,
           6,
           6,
           6,
           6,
           6,
           15,
           9,
           6,
           6,
           6,
           6,
           6,
           6,
           6,
           6,
           13.754887502163468,
           10.754887502163468,
           6,
           6,
           15,
           9,
           6,
           9,
           6,
           6,
           6,
           6,
           6,
           6,
           6,
           6,
           6,
           6,
           6,
           6,
           6,
           6,
           6,
           6,
           6,
           6,
           6,
           6,
           6,
           10.754887502163468,
           6,
           6,
           6,
           6,
           6,
           6,
           6,
           6,
           6,
           6,
           6,
           6,
           6,
           6,
           6,
           6,
           6,
           6,
           6,
           6,
           6,
           6,
           6,
           6,
           6,
           6,
           9,
           9,
           6,
           13.754887502163468,
           6,
           10.754887502163468,
           12.965784284662089,
           14.422064766172811,
           6,
           6,
           6,
           6,
           6,
           6,
           6,
           6,
           6,
           6,
           6,
           6,
           6,
           6,
           6,
           13.754887502163468,
           9,
           10.754887502163468,
           12.965784284662089,
           13.754887502163468,
           6,
           6,
           6,
           6,
           6,
           6
          ]
         },
         "mode": "markers",
         "type": "scatter",
         "x": [
          0,
          3,
          0,
          1,
          2,
          4,
          0,
          1,
          2,
          3,
          4,
          5,
          0,
          3,
          4,
          5,
          2,
          1,
          6,
          7,
          8,
          9,
          10,
          2,
          3,
          4,
          0,
          1,
          5,
          6,
          7,
          8,
          9,
          10,
          11,
          12,
          1,
          2,
          5,
          6,
          0,
          3,
          7,
          4,
          8,
          9,
          10,
          11,
          12,
          13,
          14,
          15,
          16,
          17,
          18,
          19,
          20,
          21,
          22,
          23,
          24,
          25,
          26,
          27,
          28,
          0,
          1,
          2,
          3,
          4,
          5,
          6,
          7,
          8,
          9,
          10,
          11,
          12,
          13,
          14,
          15,
          16,
          17,
          18,
          19,
          20,
          21,
          22,
          23,
          24,
          25,
          26,
          4,
          5,
          6,
          1,
          7,
          3,
          2,
          0,
          8,
          9,
          10,
          11,
          12,
          13,
          14,
          15,
          16,
          17,
          18,
          19,
          20,
          21,
          22,
          1,
          4,
          3,
          2,
          0,
          5,
          6,
          7,
          8,
          9,
          10
         ],
         "y": [
          0,
          0.14814814814814814,
          0.20689655172413796,
          0.14814814814814814,
          0.20689655172413796,
          0.21428571428571425,
          0.2758620689655173,
          0.2758620689655173,
          0.2758620689655173,
          0.3225806451612903,
          0.2758620689655173,
          0.2758620689655173,
          0.3870967741935484,
          0.375,
          0.4117647058823529,
          0.3636363636363637,
          0.33333333333333337,
          0.3636363636363637,
          0.3636363636363637,
          0.375,
          0.3870967741935484,
          0.4375000000000001,
          0.4444444444444444,
          0.5,
          0.4736842105263158,
          0.4864864864864866,
          0.4848484848484849,
          0.4864864864864866,
          0.5405405405405406,
          0.5405405405405406,
          0.4571428571428571,
          0.4705882352941176,
          0.5294117647058824,
          0.4848484848484849,
          0.4864864864864866,
          0.4705882352941176,
          0.5714285714285715,
          0.6111111111111112,
          0.5641025641025641,
          0.6,
          0.6486486486486487,
          0.5853658536585366,
          0.6046511627906976,
          0.6666666666666665,
          0.6530612244897959,
          0.6486486486486487,
          0.6341463414634146,
          0.5714285714285715,
          0.6111111111111112,
          0.5641025641025641,
          0.6,
          0.5853658536585366,
          0.5714285714285713,
          0.5581395348837209,
          0.5909090909090909,
          0.5777777777777778,
          0.5789473684210525,
          0.6153846153846153,
          0.6,
          0.6666666666666666,
          0.6511627906976745,
          0.6578947368421052,
          0.6410256410256411,
          0.6341463414634146,
          0.6666666666666666,
          0.6842105263157895,
          0.6818181818181819,
          0.6888888888888889,
          0.7446808510638298,
          0.7708333333333333,
          0.7179487179487181,
          0.7058823529411765,
          0.7636363636363636,
          0.7118644067796609,
          0.6842105263157895,
          0.7111111111111111,
          0.6956521739130435,
          0.6808510638297872,
          0.6829268292682927,
          0.7555555555555556,
          0.6842105263157895,
          0.7179487179487181,
          0.6842105263157895,
          0.6938775510204083,
          0.7234042553191491,
          0.7499999999999999,
          0.675,
          0.7073170731707317,
          0.6976744186046512,
          0.7555555555555556,
          0.76,
          0.7346938775510204,
          0.8095238095238095,
          0.8636363636363636,
          0.8653846153846153,
          0.7804878048780487,
          0.8095238095238095,
          0.8636363636363636,
          0.8372093023255813,
          0.8636363636363636,
          0.8095238095238095,
          0.7826086956521741,
          0.8085106382978724,
          0.8627450980392156,
          0.8846153846153846,
          0.8372093023255813,
          0.8666666666666667,
          0.8095238095238095,
          0.8235294117647058,
          0.8727272727272728,
          0.8095238095238095,
          0.7826086956521741,
          0.7843137254901961,
          0.8113207547169812,
          0.8,
          0.9583333333333334,
          0.979591836734694,
          0.8888888888888891,
          0.979591836734694,
          1,
          0.8888888888888891,
          0.9130434782608696,
          0.9583333333333334,
          0.979591836734694,
          0.979591836734694,
          0.9130434782608696
         ]
        }
       ],
       "layout": {
        "annotations": [
         {
          "showarrow": false,
          "text": "",
          "x": 0.005,
          "xref": "paper",
          "y": -0.002,
          "yref": "paper"
         }
        ],
        "height": 600,
        "hovermode": "closest",
        "margin": {
         "b": 20,
         "l": 5,
         "r": 5,
         "t": 40
        },
        "showlegend": false,
        "template": {
         "data": {
          "bar": [
           {
            "error_x": {
             "color": "#2a3f5f"
            },
            "error_y": {
             "color": "#2a3f5f"
            },
            "marker": {
             "line": {
              "color": "#E5ECF6",
              "width": 0.5
             }
            },
            "type": "bar"
           }
          ],
          "barpolar": [
           {
            "marker": {
             "line": {
              "color": "#E5ECF6",
              "width": 0.5
             }
            },
            "type": "barpolar"
           }
          ],
          "carpet": [
           {
            "aaxis": {
             "endlinecolor": "#2a3f5f",
             "gridcolor": "white",
             "linecolor": "white",
             "minorgridcolor": "white",
             "startlinecolor": "#2a3f5f"
            },
            "baxis": {
             "endlinecolor": "#2a3f5f",
             "gridcolor": "white",
             "linecolor": "white",
             "minorgridcolor": "white",
             "startlinecolor": "#2a3f5f"
            },
            "type": "carpet"
           }
          ],
          "choropleth": [
           {
            "colorbar": {
             "outlinewidth": 0,
             "ticks": ""
            },
            "type": "choropleth"
           }
          ],
          "contour": [
           {
            "colorbar": {
             "outlinewidth": 0,
             "ticks": ""
            },
            "colorscale": [
             [
              0,
              "#0d0887"
             ],
             [
              0.1111111111111111,
              "#46039f"
             ],
             [
              0.2222222222222222,
              "#7201a8"
             ],
             [
              0.3333333333333333,
              "#9c179e"
             ],
             [
              0.4444444444444444,
              "#bd3786"
             ],
             [
              0.5555555555555556,
              "#d8576b"
             ],
             [
              0.6666666666666666,
              "#ed7953"
             ],
             [
              0.7777777777777778,
              "#fb9f3a"
             ],
             [
              0.8888888888888888,
              "#fdca26"
             ],
             [
              1,
              "#f0f921"
             ]
            ],
            "type": "contour"
           }
          ],
          "contourcarpet": [
           {
            "colorbar": {
             "outlinewidth": 0,
             "ticks": ""
            },
            "type": "contourcarpet"
           }
          ],
          "heatmap": [
           {
            "colorbar": {
             "outlinewidth": 0,
             "ticks": ""
            },
            "colorscale": [
             [
              0,
              "#0d0887"
             ],
             [
              0.1111111111111111,
              "#46039f"
             ],
             [
              0.2222222222222222,
              "#7201a8"
             ],
             [
              0.3333333333333333,
              "#9c179e"
             ],
             [
              0.4444444444444444,
              "#bd3786"
             ],
             [
              0.5555555555555556,
              "#d8576b"
             ],
             [
              0.6666666666666666,
              "#ed7953"
             ],
             [
              0.7777777777777778,
              "#fb9f3a"
             ],
             [
              0.8888888888888888,
              "#fdca26"
             ],
             [
              1,
              "#f0f921"
             ]
            ],
            "type": "heatmap"
           }
          ],
          "heatmapgl": [
           {
            "colorbar": {
             "outlinewidth": 0,
             "ticks": ""
            },
            "colorscale": [
             [
              0,
              "#0d0887"
             ],
             [
              0.1111111111111111,
              "#46039f"
             ],
             [
              0.2222222222222222,
              "#7201a8"
             ],
             [
              0.3333333333333333,
              "#9c179e"
             ],
             [
              0.4444444444444444,
              "#bd3786"
             ],
             [
              0.5555555555555556,
              "#d8576b"
             ],
             [
              0.6666666666666666,
              "#ed7953"
             ],
             [
              0.7777777777777778,
              "#fb9f3a"
             ],
             [
              0.8888888888888888,
              "#fdca26"
             ],
             [
              1,
              "#f0f921"
             ]
            ],
            "type": "heatmapgl"
           }
          ],
          "histogram": [
           {
            "marker": {
             "colorbar": {
              "outlinewidth": 0,
              "ticks": ""
             }
            },
            "type": "histogram"
           }
          ],
          "histogram2d": [
           {
            "colorbar": {
             "outlinewidth": 0,
             "ticks": ""
            },
            "colorscale": [
             [
              0,
              "#0d0887"
             ],
             [
              0.1111111111111111,
              "#46039f"
             ],
             [
              0.2222222222222222,
              "#7201a8"
             ],
             [
              0.3333333333333333,
              "#9c179e"
             ],
             [
              0.4444444444444444,
              "#bd3786"
             ],
             [
              0.5555555555555556,
              "#d8576b"
             ],
             [
              0.6666666666666666,
              "#ed7953"
             ],
             [
              0.7777777777777778,
              "#fb9f3a"
             ],
             [
              0.8888888888888888,
              "#fdca26"
             ],
             [
              1,
              "#f0f921"
             ]
            ],
            "type": "histogram2d"
           }
          ],
          "histogram2dcontour": [
           {
            "colorbar": {
             "outlinewidth": 0,
             "ticks": ""
            },
            "colorscale": [
             [
              0,
              "#0d0887"
             ],
             [
              0.1111111111111111,
              "#46039f"
             ],
             [
              0.2222222222222222,
              "#7201a8"
             ],
             [
              0.3333333333333333,
              "#9c179e"
             ],
             [
              0.4444444444444444,
              "#bd3786"
             ],
             [
              0.5555555555555556,
              "#d8576b"
             ],
             [
              0.6666666666666666,
              "#ed7953"
             ],
             [
              0.7777777777777778,
              "#fb9f3a"
             ],
             [
              0.8888888888888888,
              "#fdca26"
             ],
             [
              1,
              "#f0f921"
             ]
            ],
            "type": "histogram2dcontour"
           }
          ],
          "mesh3d": [
           {
            "colorbar": {
             "outlinewidth": 0,
             "ticks": ""
            },
            "type": "mesh3d"
           }
          ],
          "parcoords": [
           {
            "line": {
             "colorbar": {
              "outlinewidth": 0,
              "ticks": ""
             }
            },
            "type": "parcoords"
           }
          ],
          "pie": [
           {
            "automargin": true,
            "type": "pie"
           }
          ],
          "scatter": [
           {
            "marker": {
             "colorbar": {
              "outlinewidth": 0,
              "ticks": ""
             }
            },
            "type": "scatter"
           }
          ],
          "scatter3d": [
           {
            "line": {
             "colorbar": {
              "outlinewidth": 0,
              "ticks": ""
             }
            },
            "marker": {
             "colorbar": {
              "outlinewidth": 0,
              "ticks": ""
             }
            },
            "type": "scatter3d"
           }
          ],
          "scattercarpet": [
           {
            "marker": {
             "colorbar": {
              "outlinewidth": 0,
              "ticks": ""
             }
            },
            "type": "scattercarpet"
           }
          ],
          "scattergeo": [
           {
            "marker": {
             "colorbar": {
              "outlinewidth": 0,
              "ticks": ""
             }
            },
            "type": "scattergeo"
           }
          ],
          "scattergl": [
           {
            "marker": {
             "colorbar": {
              "outlinewidth": 0,
              "ticks": ""
             }
            },
            "type": "scattergl"
           }
          ],
          "scattermapbox": [
           {
            "marker": {
             "colorbar": {
              "outlinewidth": 0,
              "ticks": ""
             }
            },
            "type": "scattermapbox"
           }
          ],
          "scatterpolar": [
           {
            "marker": {
             "colorbar": {
              "outlinewidth": 0,
              "ticks": ""
             }
            },
            "type": "scatterpolar"
           }
          ],
          "scatterpolargl": [
           {
            "marker": {
             "colorbar": {
              "outlinewidth": 0,
              "ticks": ""
             }
            },
            "type": "scatterpolargl"
           }
          ],
          "scatterternary": [
           {
            "marker": {
             "colorbar": {
              "outlinewidth": 0,
              "ticks": ""
             }
            },
            "type": "scatterternary"
           }
          ],
          "surface": [
           {
            "colorbar": {
             "outlinewidth": 0,
             "ticks": ""
            },
            "colorscale": [
             [
              0,
              "#0d0887"
             ],
             [
              0.1111111111111111,
              "#46039f"
             ],
             [
              0.2222222222222222,
              "#7201a8"
             ],
             [
              0.3333333333333333,
              "#9c179e"
             ],
             [
              0.4444444444444444,
              "#bd3786"
             ],
             [
              0.5555555555555556,
              "#d8576b"
             ],
             [
              0.6666666666666666,
              "#ed7953"
             ],
             [
              0.7777777777777778,
              "#fb9f3a"
             ],
             [
              0.8888888888888888,
              "#fdca26"
             ],
             [
              1,
              "#f0f921"
             ]
            ],
            "type": "surface"
           }
          ],
          "table": [
           {
            "cells": {
             "fill": {
              "color": "#EBF0F8"
             },
             "line": {
              "color": "white"
             }
            },
            "header": {
             "fill": {
              "color": "#C8D4E3"
             },
             "line": {
              "color": "white"
             }
            },
            "type": "table"
           }
          ]
         },
         "layout": {
          "annotationdefaults": {
           "arrowcolor": "#2a3f5f",
           "arrowhead": 0,
           "arrowwidth": 1
          },
          "coloraxis": {
           "colorbar": {
            "outlinewidth": 0,
            "ticks": ""
           }
          },
          "colorscale": {
           "diverging": [
            [
             0,
             "#8e0152"
            ],
            [
             0.1,
             "#c51b7d"
            ],
            [
             0.2,
             "#de77ae"
            ],
            [
             0.3,
             "#f1b6da"
            ],
            [
             0.4,
             "#fde0ef"
            ],
            [
             0.5,
             "#f7f7f7"
            ],
            [
             0.6,
             "#e6f5d0"
            ],
            [
             0.7,
             "#b8e186"
            ],
            [
             0.8,
             "#7fbc41"
            ],
            [
             0.9,
             "#4d9221"
            ],
            [
             1,
             "#276419"
            ]
           ],
           "sequential": [
            [
             0,
             "#0d0887"
            ],
            [
             0.1111111111111111,
             "#46039f"
            ],
            [
             0.2222222222222222,
             "#7201a8"
            ],
            [
             0.3333333333333333,
             "#9c179e"
            ],
            [
             0.4444444444444444,
             "#bd3786"
            ],
            [
             0.5555555555555556,
             "#d8576b"
            ],
            [
             0.6666666666666666,
             "#ed7953"
            ],
            [
             0.7777777777777778,
             "#fb9f3a"
            ],
            [
             0.8888888888888888,
             "#fdca26"
            ],
            [
             1,
             "#f0f921"
            ]
           ],
           "sequentialminus": [
            [
             0,
             "#0d0887"
            ],
            [
             0.1111111111111111,
             "#46039f"
            ],
            [
             0.2222222222222222,
             "#7201a8"
            ],
            [
             0.3333333333333333,
             "#9c179e"
            ],
            [
             0.4444444444444444,
             "#bd3786"
            ],
            [
             0.5555555555555556,
             "#d8576b"
            ],
            [
             0.6666666666666666,
             "#ed7953"
            ],
            [
             0.7777777777777778,
             "#fb9f3a"
            ],
            [
             0.8888888888888888,
             "#fdca26"
            ],
            [
             1,
             "#f0f921"
            ]
           ]
          },
          "colorway": [
           "#636efa",
           "#EF553B",
           "#00cc96",
           "#ab63fa",
           "#FFA15A",
           "#19d3f3",
           "#FF6692",
           "#B6E880",
           "#FF97FF",
           "#FECB52"
          ],
          "font": {
           "color": "#2a3f5f"
          },
          "geo": {
           "bgcolor": "white",
           "lakecolor": "white",
           "landcolor": "#E5ECF6",
           "showlakes": true,
           "showland": true,
           "subunitcolor": "white"
          },
          "hoverlabel": {
           "align": "left"
          },
          "hovermode": "closest",
          "mapbox": {
           "style": "light"
          },
          "paper_bgcolor": "white",
          "plot_bgcolor": "#E5ECF6",
          "polar": {
           "angularaxis": {
            "gridcolor": "white",
            "linecolor": "white",
            "ticks": ""
           },
           "bgcolor": "#E5ECF6",
           "radialaxis": {
            "gridcolor": "white",
            "linecolor": "white",
            "ticks": ""
           }
          },
          "scene": {
           "xaxis": {
            "backgroundcolor": "#E5ECF6",
            "gridcolor": "white",
            "gridwidth": 2,
            "linecolor": "white",
            "showbackground": true,
            "ticks": "",
            "zerolinecolor": "white"
           },
           "yaxis": {
            "backgroundcolor": "#E5ECF6",
            "gridcolor": "white",
            "gridwidth": 2,
            "linecolor": "white",
            "showbackground": true,
            "ticks": "",
            "zerolinecolor": "white"
           },
           "zaxis": {
            "backgroundcolor": "#E5ECF6",
            "gridcolor": "white",
            "gridwidth": 2,
            "linecolor": "white",
            "showbackground": true,
            "ticks": "",
            "zerolinecolor": "white"
           }
          },
          "shapedefaults": {
           "line": {
            "color": "#2a3f5f"
           }
          },
          "ternary": {
           "aaxis": {
            "gridcolor": "white",
            "linecolor": "white",
            "ticks": ""
           },
           "baxis": {
            "gridcolor": "white",
            "linecolor": "white",
            "ticks": ""
           },
           "bgcolor": "#E5ECF6",
           "caxis": {
            "gridcolor": "white",
            "linecolor": "white",
            "ticks": ""
           }
          },
          "title": {
           "x": 0.05
          },
          "xaxis": {
           "automargin": true,
           "gridcolor": "white",
           "linecolor": "white",
           "ticks": "",
           "title": {
            "standoff": 15
           },
           "zerolinecolor": "white",
           "zerolinewidth": 2
          },
          "yaxis": {
           "automargin": true,
           "gridcolor": "white",
           "linecolor": "white",
           "ticks": "",
           "title": {
            "standoff": 15
           },
           "zerolinecolor": "white",
           "zerolinewidth": 2
          }
         }
        },
        "title": {
         "font": {
          "size": 16
         },
         "text": "<br>World states for hand_selected_008, repetition 2, by number of squares"
        },
        "width": 600
       }
      },
      "text/html": [
       "<div>\n",
       "        \n",
       "        \n",
       "            <div id=\"b80717ef-b64e-414c-8ed8-331e9c04805d\" class=\"plotly-graph-div\" style=\"height:600px; width:600px;\"></div>\n",
       "            <script type=\"text/javascript\">\n",
       "                require([\"plotly\"], function(Plotly) {\n",
       "                    window.PLOTLYENV=window.PLOTLYENV || {};\n",
       "                    \n",
       "                if (document.getElementById(\"b80717ef-b64e-414c-8ed8-331e9c04805d\")) {\n",
       "                    Plotly.newPlot(\n",
       "                        'b80717ef-b64e-414c-8ed8-331e9c04805d',\n",
       "                        [{\"hoverinfo\": \"none\", \"line\": {\"color\": \"#888\", \"width\": 0.5}, \"mode\": \"lines\", \"type\": \"scatter\", \"x\": [0, 0, null, 0, 0, null, 0, 1, null, 0, 2, null, 0, 3, null, 0, 0, null, 0, 0, null, 0, 0, null, 0, 1, null, 0, 0, null, 0, 0, null, 0, 1, null, 0, 2, null, 0, 0, null, 0, 2, null, 0, 2, null, 0, 1, null, 0, 1, null, 0, 0, null, 0, 0, null, 0, 4, null, 0, 2, null, 0, 0, null, 0, 5, null, 3, 1, null, 0, 1, null, 0, 1, null, 0, 1, null, 0, 1, null, 1, 1, null, 1, 1, null, 1, 4, null, 2, 3, null, 2, 1, null, 4, 2, null, 0, 0, null, 0, 0, null, 0, 0, null, 0, 0, null, 0, 0, null, 0, 0, null, 0, 10, null, 1, 5, null, 1, 2, null, 1, 3, null, 1, 2, null, 1, 2, null, 2, 0, null, 2, 0, null, 2, 0, null, 3, 6, null, 3, 7, null, 4, 0, null, 5, 8, null, 0, 1, null, 0, 3, null, 0, 1, null, 0, 0, null, 0, 0, null, 0, 0, null, 0, 0, null, 0, 0, null, 0, 1, null, 0, 1, null, 0, 0, null, 0, 1, null, 3, 4, null, 4, 2, null, 5, 4, null, 2, 0, null, 2, 0, null, 2, 0, null, 2, 0, null, 1, 1, null, 1, 6, null, 1, 7, null, 1, 1, null, 1, 11, null, 6, 5, null, 7, 8, null, 8, 9, null, 9, 12, null, 2, 3, null, 4, 5, null, 0, 0, null, 0, 0, null, 0, 9, null, 0, 11, null, 0, 0, null, 0, 0, null, 0, 9, null, 0, 0, null, 1, 3, null, 1, 27, null, 5, 10, null, 6, 13, null, 7, 13, null, 8, 20, null, 9, 25, null, 10, 1, null, 11, 3, null, 12, 10, null, 1, 2, null, 1, 0, null, 1, 2, null, 1, 2, null, 1, 0, null, 1, 0, null, 2, 0, null, 2, 0, null, 2, 0, null, 5, 6, null, 6, 1, null, 0, 1, null, 0, 5, null, 0, 1, null, 0, 1, null, 0, 17, null, 0, 1, null, 0, 1, null, 0, 1, null, 3, 7, null, 3, 4, null, 7, 4, null, 4, 8, null, 4, 26, null, 8, 6, null, 9, 9, null, 10, 10, null, 11, 12, null, 12, 15, null, 13, 14, null, 14, 15, null, 15, 16, null, 16, 17, null, 17, 18, null, 18, 19, null, 19, 18, null, 20, 21, null, 21, 22, null, 22, 23, null, 23, 24, null, 24, 19, null, 25, 26, null, 26, 21, null, 27, 28, null, 28, 23, null, 0, 4, null, 0, 4, null, 0, 20, null, 1, 2, null, 2, 3, null, 3, 4, null, 4, 6, null, 5, 2, null, 6, 7, null, 7, 8, null, 9, 8, null, 10, 11, null, 11, 12, null, 13, 14, null, 14, 9, null, 15, 16, null, 16, 13, null, 17, 15, null, 19, 16, null, 20, 0, null, 21, 22, null, 23, 24, null, 24, 19, null, 26, 20, null, 4, 5, null, 4, 5, null, 5, 1, null, 5, 10, null, 1, 7, null, 1, 2, null, 1, 2, null, 1, 18, null, 1, 2, null, 1, 2, null, 7, 3, null, 3, 3, null, 3, 5, null, 2, 3, null, 2, 0, null, 2, 0, null, 2, 0, null, 2, 0, null, 0, 1, null, 0, 1, null, 0, 3, null, 0, 3, null, 0, 1, null, 0, 1, null, 8, 3, null, 9, 10, null, 10, 11, null, 11, 12, null, 13, 14, null, 15, 0, null, 16, 17, null, 18, 0, null, 19, 25, null, 20, 21, null, 21, 22, null, 1, 4, null, 1, 9, null, 1, 2, null, 1, 2, null, 1, 4, null, 3, 2, null, 3, 2, null, 3, 2, null, 2, 0, null, 2, 0, null, 2, 0, null, 2, 0, null, 5, 6, null, 6, 7, null, 7, 8, null, 8, 0, null, 9, 0, null, 10, 1, null], \"y\": [0, 0.2758620689655173, null, 0, 0.2758620689655173, null, 0, 0.2758620689655173, null, 0, 0.2758620689655173, null, 0, 0.14814814814814814, null, 0, 0.2758620689655173, null, 0, 0.20689655172413796, null, 0, 0.2758620689655173, null, 0, 0.2758620689655173, null, 0, 0.20689655172413796, null, 0, 0.2758620689655173, null, 0, 0.14814814814814814, null, 0, 0.2758620689655173, null, 0, 0.20689655172413796, null, 0, 0.20689655172413796, null, 0, 0.2758620689655173, null, 0, 0.14814814814814814, null, 0, 0.14814814814814814, null, 0, 0.2758620689655173, null, 0, 0.2758620689655173, null, 0, 0.2758620689655173, null, 0, 0.20689655172413796, null, 0, 0.20689655172413796, null, 0, 0.2758620689655173, null, 0.14814814814814814, 0.2758620689655173, null, 0.20689655172413796, 0.3636363636363637, null, 0.20689655172413796, 0.3636363636363637, null, 0.20689655172413796, 0.3636363636363637, null, 0.20689655172413796, 0.3636363636363637, null, 0.14814814814814814, 0.2758620689655173, null, 0.14814814814814814, 0.2758620689655173, null, 0.14814814814814814, 0.21428571428571425, null, 0.20689655172413796, 0.3225806451612903, null, 0.20689655172413796, 0.3636363636363637, null, 0.21428571428571425, 0.33333333333333337, null, 0.2758620689655173, 0.3870967741935484, null, 0.2758620689655173, 0.3870967741935484, null, 0.2758620689655173, 0.3870967741935484, null, 0.2758620689655173, 0.4848484848484849, null, 0.2758620689655173, 0.3870967741935484, null, 0.2758620689655173, 0.3870967741935484, null, 0.2758620689655173, 0.4848484848484849, null, 0.2758620689655173, 0.3636363636363637, null, 0.2758620689655173, 0.33333333333333337, null, 0.2758620689655173, 0.3225806451612903, null, 0.2758620689655173, 0.33333333333333337, null, 0.2758620689655173, 0.33333333333333337, null, 0.2758620689655173, 0.3870967741935484, null, 0.2758620689655173, 0.3870967741935484, null, 0.2758620689655173, 0.3870967741935484, null, 0.3225806451612903, 0.3636363636363637, null, 0.3225806451612903, 0.375, null, 0.2758620689655173, 0.4848484848484849, null, 0.2758620689655173, 0.3870967741935484, null, 0.3870967741935484, 0.5714285714285715, null, 0.3870967741935484, 0.375, null, 0.3870967741935484, 0.5714285714285715, null, 0.3870967741935484, 0.4848484848484849, null, 0.3870967741935484, 0.4848484848484849, null, 0.3870967741935484, 0.4848484848484849, null, 0.3870967741935484, 0.4848484848484849, null, 0.3870967741935484, 0.4848484848484849, null, 0.3870967741935484, 0.5714285714285715, null, 0.3870967741935484, 0.5714285714285715, null, 0.3870967741935484, 0.4848484848484849, null, 0.3870967741935484, 0.5714285714285715, null, 0.375, 0.4117647058823529, null, 0.4117647058823529, 0.5, null, 0.3636363636363637, 0.4864864864864866, null, 0.33333333333333337, 0.3870967741935484, null, 0.33333333333333337, 0.3870967741935484, null, 0.33333333333333337, 0.3870967741935484, null, 0.33333333333333337, 0.3870967741935484, null, 0.3636363636363637, 0.4864864864864866, null, 0.3636363636363637, 0.5405405405405406, null, 0.3636363636363637, 0.4571428571428571, null, 0.3636363636363637, 0.4864864864864866, null, 0.3636363636363637, 0.4864864864864866, null, 0.3636363636363637, 0.5405405405405406, null, 0.375, 0.4705882352941176, null, 0.3870967741935484, 0.4375000000000001, null, 0.4375000000000001, 0.4705882352941176, null, 0.5, 0.4736842105263158, null, 0.4864864864864866, 0.5641025641025641, null, 0.4848484848484849, 0.6486486486486487, null, 0.4848484848484849, 0.6486486486486487, null, 0.4848484848484849, 0.6486486486486487, null, 0.4848484848484849, 0.5714285714285715, null, 0.4848484848484849, 0.6486486486486487, null, 0.4848484848484849, 0.6486486486486487, null, 0.4848484848484849, 0.5294117647058824, null, 0.4848484848484849, 0.6486486486486487, null, 0.4864864864864866, 0.5853658536585366, null, 0.4864864864864866, 0.6341463414634146, null, 0.5405405405405406, 0.6341463414634146, null, 0.5405405405405406, 0.6829268292682927, null, 0.4571428571428571, 0.5641025641025641, null, 0.4705882352941176, 0.5789473684210525, null, 0.5294117647058824, 0.6578947368421052, null, 0.4848484848484849, 0.5714285714285715, null, 0.4864864864864866, 0.5853658536585366, null, 0.4705882352941176, 0.4444444444444444, null, 0.5714285714285715, 0.6111111111111112, null, 0.5714285714285715, 0.6486486486486487, null, 0.5714285714285715, 0.6111111111111112, null, 0.5714285714285715, 0.6111111111111112, null, 0.5714285714285715, 0.6486486486486487, null, 0.5714285714285715, 0.6486486486486487, null, 0.6111111111111112, 0.6842105263157895, null, 0.6111111111111112, 0.6842105263157895, null, 0.6111111111111112, 0.6842105263157895, null, 0.5641025641025641, 0.6, null, 0.6, 0.6818181818181819, null, 0.6486486486486487, 0.7804878048780487, null, 0.6486486486486487, 0.7179487179487181, null, 0.6486486486486487, 0.7804878048780487, null, 0.6486486486486487, 0.7804878048780487, null, 0.6486486486486487, 0.6842105263157895, null, 0.6486486486486487, 0.7804878048780487, null, 0.6486486486486487, 0.7804878048780487, null, 0.6486486486486487, 0.7804878048780487, null, 0.5853658536585366, 0.6046511627906976, null, 0.5853658536585366, 0.6666666666666665, null, 0.6046511627906976, 0.6666666666666665, null, 0.6666666666666665, 0.6530612244897959, null, 0.6666666666666665, 0.7346938775510204, null, 0.6530612244897959, 0.7058823529411765, null, 0.6486486486486487, 0.6842105263157895, null, 0.6341463414634146, 0.7111111111111111, null, 0.5714285714285715, 0.6111111111111112, null, 0.6111111111111112, 0.6842105263157895, null, 0.5641025641025641, 0.6, null, 0.6, 0.5853658536585366, null, 0.5853658536585366, 0.5714285714285713, null, 0.5714285714285713, 0.5581395348837209, null, 0.5581395348837209, 0.5909090909090909, null, 0.5909090909090909, 0.5777777777777778, null, 0.5777777777777778, 0.6938775510204083, null, 0.5789473684210525, 0.6153846153846153, null, 0.6153846153846153, 0.6, null, 0.6, 0.6666666666666666, null, 0.6666666666666666, 0.6511627906976745, null, 0.6511627906976745, 0.7234042553191491, null, 0.6578947368421052, 0.6410256410256411, null, 0.6410256410256411, 0.675, null, 0.6341463414634146, 0.6666666666666666, null, 0.6666666666666666, 0.6976744186046512, null, 0.6842105263157895, 0.8095238095238095, null, 0.6842105263157895, 0.8095238095238095, null, 0.6842105263157895, 0.7499999999999999, null, 0.6818181818181819, 0.6888888888888889, null, 0.6888888888888889, 0.7446808510638298, null, 0.7446808510638298, 0.7708333333333333, null, 0.7708333333333333, 0.8653846153846153, null, 0.7179487179487181, 0.8372093023255813, null, 0.7058823529411765, 0.7636363636363636, null, 0.7636363636363636, 0.7118644067796609, null, 0.6842105263157895, 0.8095238095238095, null, 0.7111111111111111, 0.6956521739130435, null, 0.6956521739130435, 0.6808510638297872, null, 0.6829268292682927, 0.7555555555555556, null, 0.7555555555555556, 0.7826086956521741, null, 0.6842105263157895, 0.7179487179487181, null, 0.7179487179487181, 0.8372093023255813, null, 0.6842105263157895, 0.8095238095238095, null, 0.7234042553191491, 0.8235294117647058, null, 0.7499999999999999, 0.8636363636363636, null, 0.675, 0.7073170731707317, null, 0.6976744186046512, 0.7555555555555556, null, 0.7555555555555556, 0.7826086956521741, null, 0.7346938775510204, 0.7843137254901961, null, 0.8095238095238095, 0.8636363636363636, null, 0.8095238095238095, 0.8636363636363636, null, 0.8636363636363636, 0.9583333333333334, null, 0.8636363636363636, 0.9130434782608696, null, 0.7804878048780487, 0.8095238095238095, null, 0.7804878048780487, 0.8372093023255813, null, 0.7804878048780487, 0.8372093023255813, null, 0.7804878048780487, 0.8095238095238095, null, 0.7804878048780487, 0.8372093023255813, null, 0.7804878048780487, 0.8372093023255813, null, 0.8095238095238095, 0.8636363636363636, null, 0.8636363636363636, 0.8888888888888891, null, 0.8636363636363636, 0.8888888888888891, null, 0.8372093023255813, 0.8636363636363636, null, 0.8372093023255813, 0.8636363636363636, null, 0.8372093023255813, 0.8636363636363636, null, 0.8372093023255813, 0.8636363636363636, null, 0.8372093023255813, 0.8636363636363636, null, 0.8636363636363636, 0.9583333333333334, null, 0.8636363636363636, 0.9583333333333334, null, 0.8636363636363636, 0.8888888888888891, null, 0.8636363636363636, 0.8888888888888891, null, 0.8636363636363636, 0.9583333333333334, null, 0.8636363636363636, 0.9583333333333334, null, 0.8095238095238095, 0.8636363636363636, null, 0.7826086956521741, 0.8085106382978724, null, 0.8085106382978724, 0.8627450980392156, null, 0.8627450980392156, 0.8846153846153846, null, 0.8372093023255813, 0.8666666666666667, null, 0.8095238095238095, 0.8636363636363636, null, 0.8235294117647058, 0.8727272727272728, null, 0.8095238095238095, 0.8636363636363636, null, 0.7826086956521741, 0.76, null, 0.7843137254901961, 0.8113207547169812, null, 0.8113207547169812, 0.8, null, 0.9583333333333334, 0.979591836734694, null, 0.9583333333333334, 0.979591836734694, null, 0.9583333333333334, 0.979591836734694, null, 0.9583333333333334, 0.979591836734694, null, 0.9583333333333334, 0.979591836734694, null, 0.8888888888888891, 0.979591836734694, null, 0.8888888888888891, 0.979591836734694, null, 0.8888888888888891, 0.979591836734694, null, 0.979591836734694, 1.0, null, 0.979591836734694, 1.0, null, 0.979591836734694, 1.0, null, 0.979591836734694, 1.0, null, 0.8888888888888891, 0.9130434782608696, null, 0.9130434782608696, 0.9583333333333334, null, 0.9583333333333334, 0.979591836734694, null, 0.979591836734694, 1.0, null, 0.979591836734694, 1.0, null, 0.9130434782608696, 0.9583333333333334, null]}, {\"hoverinfo\": \"text\", \"marker\": {\"color\": [25, 1, 4, 3, 2, 1, 7, 5, 3, 2, 1, 1, 12, 1, 1, 1, 4, 5, 1, 1, 1, 1, 1, 1, 1, 1, 8, 2, 1, 1, 1, 1, 1, 1, 1, 1, 6, 3, 1, 1, 8, 2, 1, 2, 1, 1, 1, 1, 1, 1, 1, 1, 1, 1, 1, 1, 1, 1, 1, 1, 1, 1, 1, 1, 1, 3, 1, 1, 1, 1, 1, 1, 1, 1, 1, 1, 1, 1, 1, 1, 1, 1, 1, 1, 1, 1, 1, 1, 1, 1, 1, 1, 2, 2, 1, 6, 1, 3, 5, 7, 1, 1, 1, 1, 1, 1, 1, 1, 1, 1, 1, 1, 1, 1, 1, 6, 2, 3, 5, 6, 1, 1, 1, 1, 1, 1], \"colorscale\": [[0.0, \"rgb(255,255,217)\"], [0.125, \"rgb(237,248,177)\"], [0.25, \"rgb(199,233,180)\"], [0.375, \"rgb(127,205,187)\"], [0.5, \"rgb(65,182,196)\"], [0.625, \"rgb(29,145,192)\"], [0.75, \"rgb(34,94,168)\"], [0.875, \"rgb(37,52,148)\"], [1.0, \"rgb(8,29,88)\"]], \"line\": {\"width\": 2}, \"reversescale\": true, \"showscale\": true, \"size\": [19.931568569324174, 6.0, 12.0, 10.754887502163468, 9.0, 6.0, 14.422064766172811, 12.965784284662089, 10.754887502163468, 9.0, 6.0, 6.0, 16.75488750216347, 6.0, 6.0, 6.0, 12.0, 12.965784284662089, 6.0, 6.0, 6.0, 6.0, 6.0, 6.0, 6.0, 6.0, 15.0, 9.0, 6.0, 6.0, 6.0, 6.0, 6.0, 6.0, 6.0, 6.0, 13.754887502163468, 10.754887502163468, 6.0, 6.0, 15.0, 9.0, 6.0, 9.0, 6.0, 6.0, 6.0, 6.0, 6.0, 6.0, 6.0, 6.0, 6.0, 6.0, 6.0, 6.0, 6.0, 6.0, 6.0, 6.0, 6.0, 6.0, 6.0, 6.0, 6.0, 10.754887502163468, 6.0, 6.0, 6.0, 6.0, 6.0, 6.0, 6.0, 6.0, 6.0, 6.0, 6.0, 6.0, 6.0, 6.0, 6.0, 6.0, 6.0, 6.0, 6.0, 6.0, 6.0, 6.0, 6.0, 6.0, 6.0, 6.0, 9.0, 9.0, 6.0, 13.754887502163468, 6.0, 10.754887502163468, 12.965784284662089, 14.422064766172811, 6.0, 6.0, 6.0, 6.0, 6.0, 6.0, 6.0, 6.0, 6.0, 6.0, 6.0, 6.0, 6.0, 6.0, 6.0, 13.754887502163468, 9.0, 10.754887502163468, 12.965784284662089, 13.754887502163468, 6.0, 6.0, 6.0, 6.0, 6.0, 6.0]}, \"mode\": \"markers\", \"type\": \"scatter\", \"x\": [0, 3, 0, 1, 2, 4, 0, 1, 2, 3, 4, 5, 0, 3, 4, 5, 2, 1, 6, 7, 8, 9, 10, 2, 3, 4, 0, 1, 5, 6, 7, 8, 9, 10, 11, 12, 1, 2, 5, 6, 0, 3, 7, 4, 8, 9, 10, 11, 12, 13, 14, 15, 16, 17, 18, 19, 20, 21, 22, 23, 24, 25, 26, 27, 28, 0, 1, 2, 3, 4, 5, 6, 7, 8, 9, 10, 11, 12, 13, 14, 15, 16, 17, 18, 19, 20, 21, 22, 23, 24, 25, 26, 4, 5, 6, 1, 7, 3, 2, 0, 8, 9, 10, 11, 12, 13, 14, 15, 16, 17, 18, 19, 20, 21, 22, 1, 4, 3, 2, 0, 5, 6, 7, 8, 9, 10], \"y\": [0, 0.14814814814814814, 0.20689655172413796, 0.14814814814814814, 0.20689655172413796, 0.21428571428571425, 0.2758620689655173, 0.2758620689655173, 0.2758620689655173, 0.3225806451612903, 0.2758620689655173, 0.2758620689655173, 0.3870967741935484, 0.375, 0.4117647058823529, 0.3636363636363637, 0.33333333333333337, 0.3636363636363637, 0.3636363636363637, 0.375, 0.3870967741935484, 0.4375000000000001, 0.4444444444444444, 0.5, 0.4736842105263158, 0.4864864864864866, 0.4848484848484849, 0.4864864864864866, 0.5405405405405406, 0.5405405405405406, 0.4571428571428571, 0.4705882352941176, 0.5294117647058824, 0.4848484848484849, 0.4864864864864866, 0.4705882352941176, 0.5714285714285715, 0.6111111111111112, 0.5641025641025641, 0.6, 0.6486486486486487, 0.5853658536585366, 0.6046511627906976, 0.6666666666666665, 0.6530612244897959, 0.6486486486486487, 0.6341463414634146, 0.5714285714285715, 0.6111111111111112, 0.5641025641025641, 0.6, 0.5853658536585366, 0.5714285714285713, 0.5581395348837209, 0.5909090909090909, 0.5777777777777778, 0.5789473684210525, 0.6153846153846153, 0.6, 0.6666666666666666, 0.6511627906976745, 0.6578947368421052, 0.6410256410256411, 0.6341463414634146, 0.6666666666666666, 0.6842105263157895, 0.6818181818181819, 0.6888888888888889, 0.7446808510638298, 0.7708333333333333, 0.7179487179487181, 0.7058823529411765, 0.7636363636363636, 0.7118644067796609, 0.6842105263157895, 0.7111111111111111, 0.6956521739130435, 0.6808510638297872, 0.6829268292682927, 0.7555555555555556, 0.6842105263157895, 0.7179487179487181, 0.6842105263157895, 0.6938775510204083, 0.7234042553191491, 0.7499999999999999, 0.675, 0.7073170731707317, 0.6976744186046512, 0.7555555555555556, 0.76, 0.7346938775510204, 0.8095238095238095, 0.8636363636363636, 0.8653846153846153, 0.7804878048780487, 0.8095238095238095, 0.8636363636363636, 0.8372093023255813, 0.8636363636363636, 0.8095238095238095, 0.7826086956521741, 0.8085106382978724, 0.8627450980392156, 0.8846153846153846, 0.8372093023255813, 0.8666666666666667, 0.8095238095238095, 0.8235294117647058, 0.8727272727272728, 0.8095238095238095, 0.7826086956521741, 0.7843137254901961, 0.8113207547169812, 0.8, 0.9583333333333334, 0.979591836734694, 0.8888888888888891, 0.979591836734694, 1.0, 0.8888888888888891, 0.9130434782608696, 0.9583333333333334, 0.979591836734694, 0.979591836734694, 0.9130434782608696]}],\n",
       "                        {\"annotations\": [{\"showarrow\": false, \"text\": \"\", \"x\": 0.005, \"xref\": \"paper\", \"y\": -0.002, \"yref\": \"paper\"}], \"height\": 600, \"hovermode\": \"closest\", \"margin\": {\"b\": 20, \"l\": 5, \"r\": 5, \"t\": 40}, \"showlegend\": false, \"template\": {\"data\": {\"bar\": [{\"error_x\": {\"color\": \"#2a3f5f\"}, \"error_y\": {\"color\": \"#2a3f5f\"}, \"marker\": {\"line\": {\"color\": \"#E5ECF6\", \"width\": 0.5}}, \"type\": \"bar\"}], \"barpolar\": [{\"marker\": {\"line\": {\"color\": \"#E5ECF6\", \"width\": 0.5}}, \"type\": \"barpolar\"}], \"carpet\": [{\"aaxis\": {\"endlinecolor\": \"#2a3f5f\", \"gridcolor\": \"white\", \"linecolor\": \"white\", \"minorgridcolor\": \"white\", \"startlinecolor\": \"#2a3f5f\"}, \"baxis\": {\"endlinecolor\": \"#2a3f5f\", \"gridcolor\": \"white\", \"linecolor\": \"white\", \"minorgridcolor\": \"white\", \"startlinecolor\": \"#2a3f5f\"}, \"type\": \"carpet\"}], \"choropleth\": [{\"colorbar\": {\"outlinewidth\": 0, \"ticks\": \"\"}, \"type\": \"choropleth\"}], \"contour\": [{\"colorbar\": {\"outlinewidth\": 0, \"ticks\": \"\"}, \"colorscale\": [[0.0, \"#0d0887\"], [0.1111111111111111, \"#46039f\"], [0.2222222222222222, \"#7201a8\"], [0.3333333333333333, \"#9c179e\"], [0.4444444444444444, \"#bd3786\"], [0.5555555555555556, \"#d8576b\"], [0.6666666666666666, \"#ed7953\"], [0.7777777777777778, \"#fb9f3a\"], [0.8888888888888888, \"#fdca26\"], [1.0, \"#f0f921\"]], \"type\": \"contour\"}], \"contourcarpet\": [{\"colorbar\": {\"outlinewidth\": 0, \"ticks\": \"\"}, \"type\": \"contourcarpet\"}], \"heatmap\": [{\"colorbar\": {\"outlinewidth\": 0, \"ticks\": \"\"}, \"colorscale\": [[0.0, \"#0d0887\"], [0.1111111111111111, \"#46039f\"], [0.2222222222222222, \"#7201a8\"], [0.3333333333333333, \"#9c179e\"], [0.4444444444444444, \"#bd3786\"], [0.5555555555555556, \"#d8576b\"], [0.6666666666666666, \"#ed7953\"], [0.7777777777777778, \"#fb9f3a\"], [0.8888888888888888, \"#fdca26\"], [1.0, \"#f0f921\"]], \"type\": \"heatmap\"}], \"heatmapgl\": [{\"colorbar\": {\"outlinewidth\": 0, \"ticks\": \"\"}, \"colorscale\": [[0.0, \"#0d0887\"], [0.1111111111111111, \"#46039f\"], [0.2222222222222222, \"#7201a8\"], [0.3333333333333333, \"#9c179e\"], [0.4444444444444444, \"#bd3786\"], [0.5555555555555556, \"#d8576b\"], [0.6666666666666666, \"#ed7953\"], [0.7777777777777778, \"#fb9f3a\"], [0.8888888888888888, \"#fdca26\"], [1.0, \"#f0f921\"]], \"type\": \"heatmapgl\"}], \"histogram\": [{\"marker\": {\"colorbar\": {\"outlinewidth\": 0, \"ticks\": \"\"}}, \"type\": \"histogram\"}], \"histogram2d\": [{\"colorbar\": {\"outlinewidth\": 0, \"ticks\": \"\"}, \"colorscale\": [[0.0, \"#0d0887\"], [0.1111111111111111, \"#46039f\"], [0.2222222222222222, \"#7201a8\"], [0.3333333333333333, \"#9c179e\"], [0.4444444444444444, \"#bd3786\"], [0.5555555555555556, \"#d8576b\"], [0.6666666666666666, \"#ed7953\"], [0.7777777777777778, \"#fb9f3a\"], [0.8888888888888888, \"#fdca26\"], [1.0, \"#f0f921\"]], \"type\": \"histogram2d\"}], \"histogram2dcontour\": [{\"colorbar\": {\"outlinewidth\": 0, \"ticks\": \"\"}, \"colorscale\": [[0.0, \"#0d0887\"], [0.1111111111111111, \"#46039f\"], [0.2222222222222222, \"#7201a8\"], [0.3333333333333333, \"#9c179e\"], [0.4444444444444444, \"#bd3786\"], [0.5555555555555556, \"#d8576b\"], [0.6666666666666666, \"#ed7953\"], [0.7777777777777778, \"#fb9f3a\"], [0.8888888888888888, \"#fdca26\"], [1.0, \"#f0f921\"]], \"type\": \"histogram2dcontour\"}], \"mesh3d\": [{\"colorbar\": {\"outlinewidth\": 0, \"ticks\": \"\"}, \"type\": \"mesh3d\"}], \"parcoords\": [{\"line\": {\"colorbar\": {\"outlinewidth\": 0, \"ticks\": \"\"}}, \"type\": \"parcoords\"}], \"pie\": [{\"automargin\": true, \"type\": \"pie\"}], \"scatter\": [{\"marker\": {\"colorbar\": {\"outlinewidth\": 0, \"ticks\": \"\"}}, \"type\": \"scatter\"}], \"scatter3d\": [{\"line\": {\"colorbar\": {\"outlinewidth\": 0, \"ticks\": \"\"}}, \"marker\": {\"colorbar\": {\"outlinewidth\": 0, \"ticks\": \"\"}}, \"type\": \"scatter3d\"}], \"scattercarpet\": [{\"marker\": {\"colorbar\": {\"outlinewidth\": 0, \"ticks\": \"\"}}, \"type\": \"scattercarpet\"}], \"scattergeo\": [{\"marker\": {\"colorbar\": {\"outlinewidth\": 0, \"ticks\": \"\"}}, \"type\": \"scattergeo\"}], \"scattergl\": [{\"marker\": {\"colorbar\": {\"outlinewidth\": 0, \"ticks\": \"\"}}, \"type\": \"scattergl\"}], \"scattermapbox\": [{\"marker\": {\"colorbar\": {\"outlinewidth\": 0, \"ticks\": \"\"}}, \"type\": \"scattermapbox\"}], \"scatterpolar\": [{\"marker\": {\"colorbar\": {\"outlinewidth\": 0, \"ticks\": \"\"}}, \"type\": \"scatterpolar\"}], \"scatterpolargl\": [{\"marker\": {\"colorbar\": {\"outlinewidth\": 0, \"ticks\": \"\"}}, \"type\": \"scatterpolargl\"}], \"scatterternary\": [{\"marker\": {\"colorbar\": {\"outlinewidth\": 0, \"ticks\": \"\"}}, \"type\": \"scatterternary\"}], \"surface\": [{\"colorbar\": {\"outlinewidth\": 0, \"ticks\": \"\"}, \"colorscale\": [[0.0, \"#0d0887\"], [0.1111111111111111, \"#46039f\"], [0.2222222222222222, \"#7201a8\"], [0.3333333333333333, \"#9c179e\"], [0.4444444444444444, \"#bd3786\"], [0.5555555555555556, \"#d8576b\"], [0.6666666666666666, \"#ed7953\"], [0.7777777777777778, \"#fb9f3a\"], [0.8888888888888888, \"#fdca26\"], [1.0, \"#f0f921\"]], \"type\": \"surface\"}], \"table\": [{\"cells\": {\"fill\": {\"color\": \"#EBF0F8\"}, \"line\": {\"color\": \"white\"}}, \"header\": {\"fill\": {\"color\": \"#C8D4E3\"}, \"line\": {\"color\": \"white\"}}, \"type\": \"table\"}]}, \"layout\": {\"annotationdefaults\": {\"arrowcolor\": \"#2a3f5f\", \"arrowhead\": 0, \"arrowwidth\": 1}, \"coloraxis\": {\"colorbar\": {\"outlinewidth\": 0, \"ticks\": \"\"}}, \"colorscale\": {\"diverging\": [[0, \"#8e0152\"], [0.1, \"#c51b7d\"], [0.2, \"#de77ae\"], [0.3, \"#f1b6da\"], [0.4, \"#fde0ef\"], [0.5, \"#f7f7f7\"], [0.6, \"#e6f5d0\"], [0.7, \"#b8e186\"], [0.8, \"#7fbc41\"], [0.9, \"#4d9221\"], [1, \"#276419\"]], \"sequential\": [[0.0, \"#0d0887\"], [0.1111111111111111, \"#46039f\"], [0.2222222222222222, \"#7201a8\"], [0.3333333333333333, \"#9c179e\"], [0.4444444444444444, \"#bd3786\"], [0.5555555555555556, \"#d8576b\"], [0.6666666666666666, \"#ed7953\"], [0.7777777777777778, \"#fb9f3a\"], [0.8888888888888888, \"#fdca26\"], [1.0, \"#f0f921\"]], \"sequentialminus\": [[0.0, \"#0d0887\"], [0.1111111111111111, \"#46039f\"], [0.2222222222222222, \"#7201a8\"], [0.3333333333333333, \"#9c179e\"], [0.4444444444444444, \"#bd3786\"], [0.5555555555555556, \"#d8576b\"], [0.6666666666666666, \"#ed7953\"], [0.7777777777777778, \"#fb9f3a\"], [0.8888888888888888, \"#fdca26\"], [1.0, \"#f0f921\"]]}, \"colorway\": [\"#636efa\", \"#EF553B\", \"#00cc96\", \"#ab63fa\", \"#FFA15A\", \"#19d3f3\", \"#FF6692\", \"#B6E880\", \"#FF97FF\", \"#FECB52\"], \"font\": {\"color\": \"#2a3f5f\"}, \"geo\": {\"bgcolor\": \"white\", \"lakecolor\": \"white\", \"landcolor\": \"#E5ECF6\", \"showlakes\": true, \"showland\": true, \"subunitcolor\": \"white\"}, \"hoverlabel\": {\"align\": \"left\"}, \"hovermode\": \"closest\", \"mapbox\": {\"style\": \"light\"}, \"paper_bgcolor\": \"white\", \"plot_bgcolor\": \"#E5ECF6\", \"polar\": {\"angularaxis\": {\"gridcolor\": \"white\", \"linecolor\": \"white\", \"ticks\": \"\"}, \"bgcolor\": \"#E5ECF6\", \"radialaxis\": {\"gridcolor\": \"white\", \"linecolor\": \"white\", \"ticks\": \"\"}}, \"scene\": {\"xaxis\": {\"backgroundcolor\": \"#E5ECF6\", \"gridcolor\": \"white\", \"gridwidth\": 2, \"linecolor\": \"white\", \"showbackground\": true, \"ticks\": \"\", \"zerolinecolor\": \"white\"}, \"yaxis\": {\"backgroundcolor\": \"#E5ECF6\", \"gridcolor\": \"white\", \"gridwidth\": 2, \"linecolor\": \"white\", \"showbackground\": true, \"ticks\": \"\", \"zerolinecolor\": \"white\"}, \"zaxis\": {\"backgroundcolor\": \"#E5ECF6\", \"gridcolor\": \"white\", \"gridwidth\": 2, \"linecolor\": \"white\", \"showbackground\": true, \"ticks\": \"\", \"zerolinecolor\": \"white\"}}, \"shapedefaults\": {\"line\": {\"color\": \"#2a3f5f\"}}, \"ternary\": {\"aaxis\": {\"gridcolor\": \"white\", \"linecolor\": \"white\", \"ticks\": \"\"}, \"baxis\": {\"gridcolor\": \"white\", \"linecolor\": \"white\", \"ticks\": \"\"}, \"bgcolor\": \"#E5ECF6\", \"caxis\": {\"gridcolor\": \"white\", \"linecolor\": \"white\", \"ticks\": \"\"}}, \"title\": {\"x\": 0.05}, \"xaxis\": {\"automargin\": true, \"gridcolor\": \"white\", \"linecolor\": \"white\", \"ticks\": \"\", \"title\": {\"standoff\": 15}, \"zerolinecolor\": \"white\", \"zerolinewidth\": 2}, \"yaxis\": {\"automargin\": true, \"gridcolor\": \"white\", \"linecolor\": \"white\", \"ticks\": \"\", \"title\": {\"standoff\": 15}, \"zerolinecolor\": \"white\", \"zerolinewidth\": 2}}}, \"title\": {\"font\": {\"size\": 16}, \"text\": \"<br>World states for hand_selected_008, repetition 2, by number of squares\"}, \"width\": 600},\n",
       "                        {\"responsive\": true}\n",
       "                    ).then(function(){\n",
       "                            \n",
       "var gd = document.getElementById('b80717ef-b64e-414c-8ed8-331e9c04805d');\n",
       "var x = new MutationObserver(function (mutations, observer) {{\n",
       "        var display = window.getComputedStyle(gd).display;\n",
       "        if (!display || display === 'none') {{\n",
       "            console.log([gd, 'removed!']);\n",
       "            Plotly.purge(gd);\n",
       "            observer.disconnect();\n",
       "        }}\n",
       "}});\n",
       "\n",
       "// Listen for the removal of the full notebook cells\n",
       "var notebookContainer = gd.closest('#notebook-container');\n",
       "if (notebookContainer) {{\n",
       "    x.observe(notebookContainer, {childList: true});\n",
       "}}\n",
       "\n",
       "// Listen for the clearing of the current output cell\n",
       "var outputEl = gd.closest('.output');\n",
       "if (outputEl) {{\n",
       "    x.observe(outputEl, {childList: true});\n",
       "}}\n",
       "\n",
       "                        })\n",
       "                };\n",
       "                });\n",
       "            </script>\n",
       "        </div>"
      ]
     },
     "metadata": {},
     "output_type": "display_data"
    },
    {
     "data": {
      "application/vnd.plotly.v1+json": {
       "config": {
        "plotlyServerURL": "https://plot.ly"
       },
       "data": [
        {
         "hoverinfo": "none",
         "line": {
          "color": "#888",
          "width": 0.5
         },
         "mode": "lines",
         "type": "scatter",
         "x": [
          0,
          1,
          null,
          0,
          2,
          null,
          0,
          0,
          null,
          0,
          0,
          null,
          0,
          2,
          null,
          0,
          1,
          null,
          0,
          2,
          null,
          0,
          1,
          null,
          0,
          0,
          null,
          0,
          1,
          null,
          0,
          3,
          null,
          0,
          0,
          null,
          0,
          1,
          null,
          0,
          4,
          null,
          0,
          0,
          null,
          0,
          0,
          null,
          0,
          2,
          null,
          0,
          0,
          null,
          0,
          0,
          null,
          0,
          0,
          null,
          0,
          5,
          null,
          0,
          0,
          null,
          0,
          1,
          null,
          0,
          0,
          null,
          0,
          0,
          null,
          2,
          2,
          null,
          1,
          0,
          null,
          1,
          0,
          null,
          3,
          4,
          null,
          0,
          3,
          null,
          0,
          3,
          null,
          0,
          1,
          null,
          0,
          1,
          null,
          0,
          3,
          null,
          4,
          1,
          null,
          5,
          11,
          null,
          1,
          0,
          null,
          1,
          0,
          null,
          1,
          0,
          null,
          1,
          0,
          null,
          2,
          3,
          null,
          2,
          3,
          null,
          2,
          6,
          null,
          2,
          3,
          null,
          0,
          0,
          null,
          0,
          0,
          null,
          0,
          1,
          null,
          0,
          0,
          null,
          0,
          0,
          null,
          0,
          0,
          null,
          0,
          1,
          null,
          0,
          0,
          null,
          4,
          9,
          null,
          3,
          4,
          null,
          3,
          4,
          null,
          3,
          4,
          null,
          0,
          1,
          null,
          0,
          0,
          null,
          0,
          1,
          null,
          0,
          1,
          null,
          0,
          0,
          null,
          0,
          0,
          null,
          0,
          0,
          null,
          0,
          1,
          null,
          0,
          0,
          null,
          0,
          1,
          null,
          0,
          0,
          null,
          3,
          5,
          null,
          3,
          0,
          null,
          3,
          0,
          null,
          5,
          0,
          null,
          6,
          7,
          null,
          7,
          8,
          null,
          8,
          4,
          null,
          9,
          5,
          null,
          4,
          6,
          null,
          4,
          9,
          null,
          4,
          1,
          null,
          1,
          2,
          null,
          1,
          2,
          null,
          1,
          2,
          null,
          1,
          2,
          null,
          2,
          10,
          null,
          2,
          10,
          null,
          2,
          12,
          null,
          2,
          16,
          null,
          10,
          2,
          null,
          11,
          12,
          null,
          12,
          13,
          null,
          0,
          0,
          null,
          0,
          0,
          null,
          0,
          0,
          null,
          0,
          0,
          null,
          0,
          6,
          null,
          0,
          0,
          null,
          0,
          0,
          null,
          0,
          16,
          null,
          4,
          4,
          null,
          1,
          3,
          null,
          1,
          3,
          null,
          5,
          9,
          null,
          6,
          7,
          null,
          7,
          2,
          null,
          2,
          3,
          null,
          2,
          3,
          null,
          3,
          8,
          null,
          3,
          17,
          null,
          8,
          7,
          null,
          9,
          8,
          null,
          10,
          11,
          null,
          11,
          23,
          null,
          12,
          12,
          null,
          13,
          14,
          null,
          14,
          15,
          null,
          15,
          14,
          null,
          16,
          2,
          null,
          1,
          0,
          null,
          1,
          0,
          null,
          1,
          0,
          null,
          1,
          10,
          null,
          1,
          0,
          null,
          0,
          1,
          null,
          0,
          0,
          null,
          0,
          3,
          null,
          0,
          1,
          null,
          0,
          1,
          null,
          0,
          1,
          null,
          0,
          0,
          null,
          0,
          0,
          null,
          0,
          0,
          null,
          0,
          1,
          null,
          0,
          35,
          null,
          4,
          5,
          null,
          5,
          6,
          null,
          3,
          8,
          null,
          3,
          11,
          null,
          6,
          11,
          null,
          2,
          12,
          null,
          2,
          9,
          null,
          7,
          17,
          null,
          8,
          2,
          null,
          9,
          19,
          null,
          10,
          21,
          null,
          11,
          26,
          null,
          12,
          13,
          null,
          13,
          27,
          null,
          14,
          15,
          null,
          15,
          33,
          null,
          16,
          0,
          null,
          0,
          2,
          null,
          0,
          1,
          null,
          0,
          21,
          null,
          0,
          1,
          null,
          2,
          4,
          null,
          3,
          4,
          null,
          4,
          5,
          null,
          5,
          5,
          null,
          6,
          7,
          null,
          1,
          3,
          null,
          1,
          0,
          null,
          1,
          3,
          null,
          8,
          10,
          null,
          9,
          10,
          null,
          10,
          11,
          null,
          11,
          17,
          null,
          12,
          13,
          null,
          13,
          14,
          null,
          14,
          15,
          null,
          15,
          16,
          null,
          17,
          18,
          null,
          19,
          20,
          null,
          21,
          22,
          null,
          22,
          22,
          null,
          23,
          24,
          null,
          24,
          25,
          null,
          25,
          26,
          null,
          26,
          29,
          null,
          27,
          28,
          null,
          28,
          29,
          null,
          29,
          30,
          null,
          30,
          31,
          null,
          31,
          32,
          null,
          33,
          34,
          null,
          35,
          1,
          null,
          1,
          2,
          null,
          1,
          2,
          null,
          1,
          8,
          null,
          1,
          2,
          null,
          1,
          28,
          null,
          2,
          0,
          null,
          2,
          0,
          null,
          2,
          0,
          null,
          0,
          0,
          null,
          0,
          0,
          null,
          0,
          0,
          null,
          0,
          3,
          null,
          0,
          3,
          null,
          0,
          0,
          null,
          4,
          5,
          null,
          5,
          6,
          null,
          6,
          7,
          null,
          7,
          7,
          null,
          8,
          9,
          null,
          9,
          3,
          null,
          3,
          0,
          null,
          3,
          0,
          null,
          11,
          12,
          null,
          12,
          13,
          null,
          13,
          14,
          null,
          14,
          15,
          null,
          15,
          16,
          null,
          16,
          11,
          null,
          17,
          18,
          null,
          18,
          19,
          null,
          19,
          20,
          null,
          21,
          0,
          null,
          22,
          23,
          null,
          23,
          24,
          null,
          24,
          25,
          null,
          26,
          27,
          null,
          28,
          0,
          null,
          29,
          30,
          null,
          30,
          12,
          null,
          0,
          4,
          null,
          0,
          9,
          null,
          0,
          4,
          null,
          0,
          2,
          null,
          0,
          13,
          null,
          4,
          10,
          null,
          5,
          6,
          null,
          7,
          8,
          null,
          9,
          1,
          null,
          3,
          2,
          null,
          3,
          2,
          null,
          3,
          2,
          null,
          2,
          1,
          null,
          2,
          1,
          null,
          2,
          1,
          null,
          2,
          1,
          null,
          13,
          14,
          null
         ],
         "y": [
          0,
          0.2758620689655173,
          null,
          0,
          0.2758620689655173,
          null,
          0,
          0.2758620689655173,
          null,
          0,
          0.2758620689655173,
          null,
          0,
          0.14814814814814814,
          null,
          0,
          0.2758620689655173,
          null,
          0,
          0.2758620689655173,
          null,
          0,
          0.2758620689655173,
          null,
          0,
          0.2758620689655173,
          null,
          0,
          0.14814814814814814,
          null,
          0,
          0.13793103448275865,
          null,
          0,
          0.20689655172413796,
          null,
          0,
          0.2758620689655173,
          null,
          0,
          0.20689655172413796,
          null,
          0,
          0.20689655172413796,
          null,
          0,
          0.2758620689655173,
          null,
          0,
          0.2758620689655173,
          null,
          0,
          0.20689655172413796,
          null,
          0,
          0.2758620689655173,
          null,
          0,
          0.2758620689655173,
          null,
          0,
          0.13793103448275865,
          null,
          0,
          0.20689655172413796,
          null,
          0,
          0.14814814814814814,
          null,
          0,
          0.07407407407407407,
          null,
          0.07407407407407407,
          0.20689655172413796,
          null,
          0.14814814814814814,
          0.2758620689655173,
          null,
          0.14814814814814814,
          0.2758620689655173,
          null,
          0.14814814814814814,
          0.2758620689655173,
          null,
          0.13793103448275865,
          0.25806451612903225,
          null,
          0.20689655172413796,
          0.3225806451612903,
          null,
          0.20689655172413796,
          0.3225806451612903,
          null,
          0.20689655172413796,
          0.3636363636363637,
          null,
          0.20689655172413796,
          0.3636363636363637,
          null,
          0.20689655172413796,
          0.3225806451612903,
          null,
          0.20689655172413796,
          0.3636363636363637,
          null,
          0.13793103448275865,
          0.3636363636363637,
          null,
          0.2758620689655173,
          0.3870967741935484,
          null,
          0.2758620689655173,
          0.3870967741935484,
          null,
          0.2758620689655173,
          0.4848484848484849,
          null,
          0.2758620689655173,
          0.3870967741935484,
          null,
          0.2758620689655173,
          0.33333333333333337,
          null,
          0.2758620689655173,
          0.33333333333333337,
          null,
          0.2758620689655173,
          0.33333333333333337,
          null,
          0.2758620689655173,
          0.33333333333333337,
          null,
          0.2758620689655173,
          0.3870967741935484,
          null,
          0.2758620689655173,
          0.3870967741935484,
          null,
          0.2758620689655173,
          0.4848484848484849,
          null,
          0.2758620689655173,
          0.3870967741935484,
          null,
          0.2758620689655173,
          0.3870967741935484,
          null,
          0.2758620689655173,
          0.3870967741935484,
          null,
          0.2758620689655173,
          0.4848484848484849,
          null,
          0.2758620689655173,
          0.3870967741935484,
          null,
          0.25806451612903225,
          0.3636363636363637,
          null,
          0.3225806451612903,
          0.375,
          null,
          0.3225806451612903,
          0.375,
          null,
          0.3225806451612903,
          0.375,
          null,
          0.3870967741935484,
          0.5714285714285715,
          null,
          0.3870967741935484,
          0.4848484848484849,
          null,
          0.3870967741935484,
          0.5714285714285715,
          null,
          0.3870967741935484,
          0.5714285714285715,
          null,
          0.3870967741935484,
          0.4848484848484849,
          null,
          0.3870967741935484,
          0.4848484848484849,
          null,
          0.3870967741935484,
          0.4848484848484849,
          null,
          0.3870967741935484,
          0.5714285714285715,
          null,
          0.3870967741935484,
          0.4848484848484849,
          null,
          0.3870967741935484,
          0.5714285714285715,
          null,
          0.3870967741935484,
          0.4848484848484849,
          null,
          0.33333333333333337,
          0.4375000000000001,
          null,
          0.33333333333333337,
          0.3870967741935484,
          null,
          0.33333333333333337,
          0.3870967741935484,
          null,
          0.4375000000000001,
          0.4848484848484849,
          null,
          0.33333333333333337,
          0.3870967741935484,
          null,
          0.3870967741935484,
          0.42424242424242425,
          null,
          0.42424242424242425,
          0.5405405405405406,
          null,
          0.3636363636363637,
          0.5405405405405406,
          null,
          0.375,
          0.5,
          null,
          0.375,
          0.4705882352941176,
          null,
          0.375,
          0.3636363636363637,
          null,
          0.3636363636363637,
          0.4,
          null,
          0.3636363636363637,
          0.4,
          null,
          0.3636363636363637,
          0.4,
          null,
          0.3636363636363637,
          0.4,
          null,
          0.4,
          0.4324324324324325,
          null,
          0.4,
          0.5128205128205129,
          null,
          0.4,
          0.4444444444444444,
          null,
          0.4,
          0.5128205128205129,
          null,
          0.4324324324324325,
          0.5365853658536586,
          null,
          0.3636363636363637,
          0.4864864864864866,
          null,
          0.4444444444444444,
          0.5499999999999999,
          null,
          0.4848484848484849,
          0.6486486486486487,
          null,
          0.4848484848484849,
          0.6486486486486487,
          null,
          0.4848484848484849,
          0.6486486486486487,
          null,
          0.4848484848484849,
          0.6486486486486487,
          null,
          0.4848484848484849,
          0.6486486486486487,
          null,
          0.4848484848484849,
          0.6486486486486487,
          null,
          0.4848484848484849,
          0.6486486486486487,
          null,
          0.4848484848484849,
          0.5714285714285715,
          null,
          0.5405405405405406,
          0.5853658536585366,
          null,
          0.4848484848484849,
          0.5714285714285715,
          null,
          0.4848484848484849,
          0.5714285714285715,
          null,
          0.5405405405405406,
          0.6829268292682927,
          null,
          0.5,
          0.5405405405405406,
          null,
          0.5405405405405406,
          0.6153846153846153,
          null,
          0.5365853658536586,
          0.5238095238095238,
          null,
          0.5365853658536586,
          0.5238095238095238,
          null,
          0.5238095238095238,
          0.5454545454545454,
          null,
          0.5238095238095238,
          0.5116279069767442,
          null,
          0.5454545454545454,
          0.6250000000000001,
          null,
          0.4705882352941176,
          0.5789473684210525,
          null,
          0.5128205128205129,
          0.5499999999999999,
          null,
          0.5499999999999999,
          0.6818181818181819,
          null,
          0.4864864864864866,
          0.6341463414634146,
          null,
          0.5499999999999999,
          0.5365853658536586,
          null,
          0.5365853658536586,
          0.5238095238095238,
          null,
          0.5238095238095238,
          0.6086956521739131,
          null,
          0.5128205128205129,
          0.5365853658536586,
          null,
          0.5714285714285715,
          0.6486486486486487,
          null,
          0.5714285714285715,
          0.6486486486486487,
          null,
          0.5714285714285715,
          0.6486486486486487,
          null,
          0.5714285714285715,
          0.6111111111111112,
          null,
          0.5714285714285715,
          0.6486486486486487,
          null,
          0.6486486486486487,
          0.7804878048780487,
          null,
          0.6486486486486487,
          0.6842105263157895,
          null,
          0.6486486486486487,
          0.7317073170731707,
          null,
          0.6486486486486487,
          0.7804878048780487,
          null,
          0.6486486486486487,
          0.7804878048780487,
          null,
          0.6486486486486487,
          0.7804878048780487,
          null,
          0.6486486486486487,
          0.6842105263157895,
          null,
          0.6486486486486487,
          0.6842105263157895,
          null,
          0.6486486486486487,
          0.6842105263157895,
          null,
          0.6486486486486487,
          0.7804878048780487,
          null,
          0.6486486486486487,
          0.7179487179487181,
          null,
          0.5853658536585366,
          0.7111111111111111,
          null,
          0.6530612244897959,
          0.68,
          null,
          0.5714285714285715,
          0.7179487179487181,
          null,
          0.5714285714285715,
          0.6111111111111112,
          null,
          0.6486486486486487,
          0.7804878048780487,
          null,
          0.6153846153846153,
          0.7441860465116279,
          null,
          0.6153846153846153,
          0.6,
          null,
          0.6250000000000001,
          0.6923076923076923,
          null,
          0.5789473684210525,
          0.6153846153846153,
          null,
          0.6,
          0.6818181818181819,
          null,
          0.6111111111111112,
          0.7000000000000001,
          null,
          0.6111111111111112,
          0.7499999999999999,
          null,
          0.6341463414634146,
          0.6428571428571429,
          null,
          0.6428571428571429,
          0.6744186046511629,
          null,
          0.6086956521739131,
          0.6666666666666666,
          null,
          0.6666666666666666,
          0.68,
          null,
          0.5714285714285715,
          0.6486486486486487,
          null,
          0.6842105263157895,
          0.7179487179487181,
          null,
          0.6842105263157895,
          0.7499999999999999,
          null,
          0.6842105263157895,
          0.8095238095238095,
          null,
          0.6842105263157895,
          0.7499999999999999,
          null,
          0.7179487179487181,
          0.8372093023255813,
          null,
          0.7317073170731707,
          0.7619047619047621,
          null,
          0.7619047619047621,
          0.7906976744186047,
          null,
          0.7111111111111111,
          0.6530612244897959,
          null,
          0.68,
          0.7058823529411765,
          null,
          0.7499999999999999,
          0.8636363636363636,
          null,
          0.7499999999999999,
          0.8636363636363636,
          null,
          0.7499999999999999,
          0.8636363636363636,
          null,
          0.7179487179487181,
          0.8372093023255813,
          null,
          0.6829268292682927,
          0.7142857142857143,
          null,
          0.7142857142857143,
          0.7727272727272727,
          null,
          0.7727272727272727,
          0.7826086956521741,
          null,
          0.7441860465116279,
          0.7272727272727272,
          null,
          0.7272727272727272,
          0.7111111111111111,
          null,
          0.7111111111111111,
          0.7234042553191491,
          null,
          0.7234042553191491,
          0.7499999999999999,
          null,
          0.6923076923076923,
          0.7407407407407408,
          null,
          0.6818181818181819,
          0.7391304347826089,
          null,
          0.7000000000000001,
          0.7619047619047621,
          null,
          0.7619047619047621,
          0.8695652173913043,
          null,
          0.6818181818181819,
          0.7111111111111111,
          null,
          0.7111111111111111,
          0.7659574468085107,
          null,
          0.7659574468085107,
          0.7916666666666667,
          null,
          0.7499999999999999,
          0.7804878048780487,
          null,
          0.6744186046511629,
          0.7045454545454546,
          null,
          0.7045454545454546,
          0.6888888888888889,
          null,
          0.6888888888888889,
          0.7446808510638298,
          null,
          0.7446808510638298,
          0.7708333333333333,
          null,
          0.7708333333333333,
          0.7755102040816326,
          null,
          0.68,
          0.7777777777777777,
          null,
          0.7179487179487181,
          0.7499999999999999,
          null,
          0.7804878048780487,
          0.8372093023255813,
          null,
          0.7804878048780487,
          0.8372093023255813,
          null,
          0.7804878048780487,
          0.8095238095238095,
          null,
          0.7804878048780487,
          0.8372093023255813,
          null,
          0.7804878048780487,
          0.8095238095238095,
          null,
          0.8372093023255813,
          0.8636363636363636,
          null,
          0.8372093023255813,
          0.8636363636363636,
          null,
          0.8372093023255813,
          0.8636363636363636,
          null,
          0.8636363636363636,
          0.9583333333333334,
          null,
          0.8636363636363636,
          0.9583333333333334,
          null,
          0.8636363636363636,
          0.9583333333333334,
          null,
          0.8636363636363636,
          0.8888888888888891,
          null,
          0.8636363636363636,
          0.8888888888888891,
          null,
          0.8636363636363636,
          0.9583333333333334,
          null,
          0.8372093023255813,
          0.8888888888888891,
          null,
          0.7906976744186047,
          0.8444444444444444,
          null,
          0.8444444444444444,
          0.8695652173913043,
          null,
          0.8695652173913043,
          0.96,
          null,
          0.8095238095238095,
          0.8636363636363636,
          null,
          0.8636363636363636,
          0.8888888888888891,
          null,
          0.8636363636363636,
          0.9583333333333334,
          null,
          0.8636363636363636,
          0.9583333333333334,
          null,
          0.7804878048780487,
          0.8095238095238095,
          null,
          0.8095238095238095,
          0.8372093023255813,
          null,
          0.8372093023255813,
          0.7999999999999999,
          null,
          0.7999999999999999,
          0.8510638297872342,
          null,
          0.8510638297872342,
          0.8333333333333333,
          null,
          0.8333333333333333,
          0.923076923076923,
          null,
          0.7826086956521741,
          0.8333333333333333,
          null,
          0.8333333333333333,
          0.8571428571428572,
          null,
          0.8571428571428572,
          0.88,
          null,
          0.8095238095238095,
          0.8636363636363636,
          null,
          0.8695652173913043,
          0.8510638297872342,
          null,
          0.8510638297872342,
          0.8333333333333333,
          null,
          0.8333333333333333,
          0.88,
          null,
          0.7916666666666667,
          0.8846153846153846,
          null,
          0.8095238095238095,
          0.8636363636363636,
          null,
          0.7804878048780487,
          0.8372093023255813,
          null,
          0.8372093023255813,
          0.9361702127659576,
          null,
          0.9583333333333334,
          0.979591836734694,
          null,
          0.9583333333333334,
          0.979591836734694,
          null,
          0.9583333333333334,
          0.979591836734694,
          null,
          0.9583333333333334,
          0.979591836734694,
          null,
          0.9583333333333334,
          0.96,
          null,
          0.979591836734694,
          0.98,
          null,
          0.8888888888888891,
          0.9387755102040816,
          null,
          0.96,
          0.9803921568627452,
          null,
          0.979591836734694,
          1,
          null,
          0.8888888888888891,
          0.979591836734694,
          null,
          0.8888888888888891,
          0.979591836734694,
          null,
          0.8888888888888891,
          0.979591836734694,
          null,
          0.979591836734694,
          1,
          null,
          0.979591836734694,
          1,
          null,
          0.979591836734694,
          1,
          null,
          0.979591836734694,
          1,
          null,
          0.96,
          0.9803921568627452,
          null
         ]
        },
        {
         "hoverinfo": "text",
         "marker": {
          "color": [
           25,
           1,
           1,
           2,
           1,
           5,
           1,
           1,
           4,
           4,
           8,
           1,
           3,
           11,
           3,
           1,
           1,
           1,
           1,
           1,
           3,
           4,
           4,
           1,
           1,
           1,
           8,
           1,
           2,
           1,
           1,
           1,
           2,
           2,
           1,
           1,
           1,
           1,
           1,
           1,
           1,
           1,
           1,
           1,
           5,
           11,
           1,
           1,
           2,
           1,
           2,
           1,
           1,
           1,
           1,
           1,
           1,
           1,
           1,
           1,
           1,
           4,
           1,
           1,
           1,
           1,
           1,
           1,
           3,
           1,
           1,
           1,
           1,
           1,
           1,
           1,
           1,
           1,
           1,
           1,
           1,
           1,
           1,
           1,
           1,
           1,
           1,
           1,
           1,
           1,
           1,
           1,
           1,
           1,
           1,
           1,
           1,
           5,
           3,
           6,
           1,
           1,
           1,
           1,
           1,
           1,
           2,
           1,
           1,
           1,
           1,
           1,
           1,
           1,
           1,
           1,
           1,
           1,
           1,
           1,
           1,
           1,
           1,
           1,
           1,
           1,
           1,
           1,
           6,
           2,
           1,
           1,
           1,
           1,
           1,
           5,
           3,
           4,
           1,
           1,
           1,
           1,
           1
          ],
          "colorscale": [
           [
            0,
            "rgb(255,255,217)"
           ],
           [
            0.125,
            "rgb(237,248,177)"
           ],
           [
            0.25,
            "rgb(199,233,180)"
           ],
           [
            0.375,
            "rgb(127,205,187)"
           ],
           [
            0.5,
            "rgb(65,182,196)"
           ],
           [
            0.625,
            "rgb(29,145,192)"
           ],
           [
            0.75,
            "rgb(34,94,168)"
           ],
           [
            0.875,
            "rgb(37,52,148)"
           ],
           [
            1,
            "rgb(8,29,88)"
           ]
          ],
          "line": {
           "width": 2
          },
          "reversescale": true,
          "showscale": true,
          "size": [
           19.931568569324174,
           6,
           6,
           9,
           6,
           12.965784284662089,
           6,
           6,
           12,
           12,
           15,
           6,
           10.754887502163468,
           16.378294855911893,
           10.754887502163468,
           6,
           6,
           6,
           6,
           6,
           10.754887502163468,
           12,
           12,
           6,
           6,
           6,
           15,
           6,
           9,
           6,
           6,
           6,
           9,
           9,
           6,
           6,
           6,
           6,
           6,
           6,
           6,
           6,
           6,
           6,
           12.965784284662089,
           16.378294855911893,
           6,
           6,
           9,
           6,
           9,
           6,
           6,
           6,
           6,
           6,
           6,
           6,
           6,
           6,
           6,
           12,
           6,
           6,
           6,
           6,
           6,
           6,
           10.754887502163468,
           6,
           6,
           6,
           6,
           6,
           6,
           6,
           6,
           6,
           6,
           6,
           6,
           6,
           6,
           6,
           6,
           6,
           6,
           6,
           6,
           6,
           6,
           6,
           6,
           6,
           6,
           6,
           6,
           12.965784284662089,
           10.754887502163468,
           13.754887502163468,
           6,
           6,
           6,
           6,
           6,
           6,
           9,
           6,
           6,
           6,
           6,
           6,
           6,
           6,
           6,
           6,
           6,
           6,
           6,
           6,
           6,
           6,
           6,
           6,
           6,
           6,
           6,
           6,
           13.754887502163468,
           9,
           6,
           6,
           6,
           6,
           6,
           12.965784284662089,
           10.754887502163468,
           12,
           6,
           6,
           6,
           6,
           6
          ]
         },
         "mode": "markers",
         "type": "scatter",
         "x": [
          0,
          0,
          2,
          1,
          3,
          0,
          4,
          5,
          1,
          2,
          0,
          4,
          3,
          0,
          3,
          5,
          6,
          7,
          8,
          9,
          4,
          1,
          2,
          10,
          11,
          12,
          0,
          4,
          1,
          5,
          6,
          7,
          2,
          3,
          8,
          9,
          10,
          11,
          12,
          13,
          14,
          15,
          16,
          17,
          1,
          0,
          4,
          5,
          3,
          6,
          2,
          7,
          8,
          9,
          10,
          11,
          12,
          13,
          14,
          15,
          16,
          0,
          2,
          3,
          4,
          5,
          6,
          7,
          1,
          8,
          9,
          10,
          11,
          12,
          13,
          14,
          15,
          16,
          17,
          18,
          19,
          20,
          21,
          22,
          23,
          24,
          25,
          26,
          27,
          28,
          29,
          30,
          31,
          32,
          33,
          34,
          35,
          1,
          2,
          0,
          4,
          5,
          6,
          7,
          8,
          9,
          3,
          10,
          11,
          12,
          13,
          14,
          15,
          16,
          17,
          18,
          19,
          20,
          21,
          22,
          23,
          24,
          25,
          26,
          27,
          28,
          29,
          30,
          0,
          4,
          5,
          6,
          7,
          8,
          9,
          1,
          3,
          2,
          10,
          11,
          12,
          13,
          14
         ],
         "y": [
          0,
          0.07407407407407407,
          0.14814814814814814,
          0.14814814814814814,
          0.13793103448275865,
          0.20689655172413796,
          0.20689655172413796,
          0.13793103448275865,
          0.2758620689655173,
          0.2758620689655173,
          0.2758620689655173,
          0.25806451612903225,
          0.3225806451612903,
          0.3870967741935484,
          0.33333333333333337,
          0.4375000000000001,
          0.33333333333333337,
          0.3870967741935484,
          0.42424242424242425,
          0.3636363636363637,
          0.375,
          0.3636363636363637,
          0.4,
          0.4324324324324325,
          0.3636363636363637,
          0.4444444444444444,
          0.4848484848484849,
          0.5405405405405406,
          0.4848484848484849,
          0.5405405405405406,
          0.5,
          0.5405405405405406,
          0.5365853658536586,
          0.5238095238095238,
          0.5454545454545454,
          0.4705882352941176,
          0.5128205128205129,
          0.5499999999999999,
          0.4864864864864866,
          0.5499999999999999,
          0.5365853658536586,
          0.5238095238095238,
          0.5128205128205129,
          0.5116279069767442,
          0.5714285714285715,
          0.6486486486486487,
          0.5853658536585366,
          0.6530612244897959,
          0.5714285714285715,
          0.6486486486486487,
          0.6153846153846153,
          0.6250000000000001,
          0.5789473684210525,
          0.6,
          0.6111111111111112,
          0.6111111111111112,
          0.6341463414634146,
          0.6428571428571429,
          0.6086956521739131,
          0.6666666666666666,
          0.5714285714285715,
          0.6842105263157895,
          0.7179487179487181,
          0.7317073170731707,
          0.7619047619047621,
          0.7111111111111111,
          0.68,
          0.7058823529411765,
          0.7499999999999999,
          0.7179487179487181,
          0.6829268292682927,
          0.7142857142857143,
          0.7727272727272727,
          0.7441860465116279,
          0.7272727272727272,
          0.7111111111111111,
          0.7234042553191491,
          0.7499999999999999,
          0.6923076923076923,
          0.7407407407407408,
          0.6818181818181819,
          0.7391304347826089,
          0.7000000000000001,
          0.7619047619047621,
          0.6818181818181819,
          0.7111111111111111,
          0.7659574468085107,
          0.7499999999999999,
          0.6744186046511629,
          0.7045454545454546,
          0.6888888888888889,
          0.7446808510638298,
          0.7708333333333333,
          0.7755102040816326,
          0.68,
          0.7777777777777777,
          0.7179487179487181,
          0.7804878048780487,
          0.8372093023255813,
          0.8636363636363636,
          0.8372093023255813,
          0.7906976744186047,
          0.8444444444444444,
          0.8695652173913043,
          0.8095238095238095,
          0.8636363636363636,
          0.8636363636363636,
          0.8372093023255813,
          0.7804878048780487,
          0.8095238095238095,
          0.8372093023255813,
          0.7999999999999999,
          0.8510638297872342,
          0.8333333333333333,
          0.7826086956521741,
          0.8333333333333333,
          0.8571428571428572,
          0.88,
          0.8095238095238095,
          0.8695652173913043,
          0.8510638297872342,
          0.8333333333333333,
          0.88,
          0.7916666666666667,
          0.8846153846153846,
          0.8095238095238095,
          0.7804878048780487,
          0.8372093023255813,
          0.9583333333333334,
          0.979591836734694,
          0.8888888888888891,
          0.9387755102040816,
          0.96,
          0.9803921568627452,
          0.979591836734694,
          1,
          0.8888888888888891,
          0.979591836734694,
          0.98,
          0.923076923076923,
          0.9361702127659576,
          0.96,
          0.9803921568627452
         ]
        }
       ],
       "layout": {
        "annotations": [
         {
          "showarrow": false,
          "text": "",
          "x": 0.005,
          "xref": "paper",
          "y": -0.002,
          "yref": "paper"
         }
        ],
        "height": 600,
        "hovermode": "closest",
        "margin": {
         "b": 20,
         "l": 5,
         "r": 5,
         "t": 40
        },
        "showlegend": false,
        "template": {
         "data": {
          "bar": [
           {
            "error_x": {
             "color": "#2a3f5f"
            },
            "error_y": {
             "color": "#2a3f5f"
            },
            "marker": {
             "line": {
              "color": "#E5ECF6",
              "width": 0.5
             }
            },
            "type": "bar"
           }
          ],
          "barpolar": [
           {
            "marker": {
             "line": {
              "color": "#E5ECF6",
              "width": 0.5
             }
            },
            "type": "barpolar"
           }
          ],
          "carpet": [
           {
            "aaxis": {
             "endlinecolor": "#2a3f5f",
             "gridcolor": "white",
             "linecolor": "white",
             "minorgridcolor": "white",
             "startlinecolor": "#2a3f5f"
            },
            "baxis": {
             "endlinecolor": "#2a3f5f",
             "gridcolor": "white",
             "linecolor": "white",
             "minorgridcolor": "white",
             "startlinecolor": "#2a3f5f"
            },
            "type": "carpet"
           }
          ],
          "choropleth": [
           {
            "colorbar": {
             "outlinewidth": 0,
             "ticks": ""
            },
            "type": "choropleth"
           }
          ],
          "contour": [
           {
            "colorbar": {
             "outlinewidth": 0,
             "ticks": ""
            },
            "colorscale": [
             [
              0,
              "#0d0887"
             ],
             [
              0.1111111111111111,
              "#46039f"
             ],
             [
              0.2222222222222222,
              "#7201a8"
             ],
             [
              0.3333333333333333,
              "#9c179e"
             ],
             [
              0.4444444444444444,
              "#bd3786"
             ],
             [
              0.5555555555555556,
              "#d8576b"
             ],
             [
              0.6666666666666666,
              "#ed7953"
             ],
             [
              0.7777777777777778,
              "#fb9f3a"
             ],
             [
              0.8888888888888888,
              "#fdca26"
             ],
             [
              1,
              "#f0f921"
             ]
            ],
            "type": "contour"
           }
          ],
          "contourcarpet": [
           {
            "colorbar": {
             "outlinewidth": 0,
             "ticks": ""
            },
            "type": "contourcarpet"
           }
          ],
          "heatmap": [
           {
            "colorbar": {
             "outlinewidth": 0,
             "ticks": ""
            },
            "colorscale": [
             [
              0,
              "#0d0887"
             ],
             [
              0.1111111111111111,
              "#46039f"
             ],
             [
              0.2222222222222222,
              "#7201a8"
             ],
             [
              0.3333333333333333,
              "#9c179e"
             ],
             [
              0.4444444444444444,
              "#bd3786"
             ],
             [
              0.5555555555555556,
              "#d8576b"
             ],
             [
              0.6666666666666666,
              "#ed7953"
             ],
             [
              0.7777777777777778,
              "#fb9f3a"
             ],
             [
              0.8888888888888888,
              "#fdca26"
             ],
             [
              1,
              "#f0f921"
             ]
            ],
            "type": "heatmap"
           }
          ],
          "heatmapgl": [
           {
            "colorbar": {
             "outlinewidth": 0,
             "ticks": ""
            },
            "colorscale": [
             [
              0,
              "#0d0887"
             ],
             [
              0.1111111111111111,
              "#46039f"
             ],
             [
              0.2222222222222222,
              "#7201a8"
             ],
             [
              0.3333333333333333,
              "#9c179e"
             ],
             [
              0.4444444444444444,
              "#bd3786"
             ],
             [
              0.5555555555555556,
              "#d8576b"
             ],
             [
              0.6666666666666666,
              "#ed7953"
             ],
             [
              0.7777777777777778,
              "#fb9f3a"
             ],
             [
              0.8888888888888888,
              "#fdca26"
             ],
             [
              1,
              "#f0f921"
             ]
            ],
            "type": "heatmapgl"
           }
          ],
          "histogram": [
           {
            "marker": {
             "colorbar": {
              "outlinewidth": 0,
              "ticks": ""
             }
            },
            "type": "histogram"
           }
          ],
          "histogram2d": [
           {
            "colorbar": {
             "outlinewidth": 0,
             "ticks": ""
            },
            "colorscale": [
             [
              0,
              "#0d0887"
             ],
             [
              0.1111111111111111,
              "#46039f"
             ],
             [
              0.2222222222222222,
              "#7201a8"
             ],
             [
              0.3333333333333333,
              "#9c179e"
             ],
             [
              0.4444444444444444,
              "#bd3786"
             ],
             [
              0.5555555555555556,
              "#d8576b"
             ],
             [
              0.6666666666666666,
              "#ed7953"
             ],
             [
              0.7777777777777778,
              "#fb9f3a"
             ],
             [
              0.8888888888888888,
              "#fdca26"
             ],
             [
              1,
              "#f0f921"
             ]
            ],
            "type": "histogram2d"
           }
          ],
          "histogram2dcontour": [
           {
            "colorbar": {
             "outlinewidth": 0,
             "ticks": ""
            },
            "colorscale": [
             [
              0,
              "#0d0887"
             ],
             [
              0.1111111111111111,
              "#46039f"
             ],
             [
              0.2222222222222222,
              "#7201a8"
             ],
             [
              0.3333333333333333,
              "#9c179e"
             ],
             [
              0.4444444444444444,
              "#bd3786"
             ],
             [
              0.5555555555555556,
              "#d8576b"
             ],
             [
              0.6666666666666666,
              "#ed7953"
             ],
             [
              0.7777777777777778,
              "#fb9f3a"
             ],
             [
              0.8888888888888888,
              "#fdca26"
             ],
             [
              1,
              "#f0f921"
             ]
            ],
            "type": "histogram2dcontour"
           }
          ],
          "mesh3d": [
           {
            "colorbar": {
             "outlinewidth": 0,
             "ticks": ""
            },
            "type": "mesh3d"
           }
          ],
          "parcoords": [
           {
            "line": {
             "colorbar": {
              "outlinewidth": 0,
              "ticks": ""
             }
            },
            "type": "parcoords"
           }
          ],
          "pie": [
           {
            "automargin": true,
            "type": "pie"
           }
          ],
          "scatter": [
           {
            "marker": {
             "colorbar": {
              "outlinewidth": 0,
              "ticks": ""
             }
            },
            "type": "scatter"
           }
          ],
          "scatter3d": [
           {
            "line": {
             "colorbar": {
              "outlinewidth": 0,
              "ticks": ""
             }
            },
            "marker": {
             "colorbar": {
              "outlinewidth": 0,
              "ticks": ""
             }
            },
            "type": "scatter3d"
           }
          ],
          "scattercarpet": [
           {
            "marker": {
             "colorbar": {
              "outlinewidth": 0,
              "ticks": ""
             }
            },
            "type": "scattercarpet"
           }
          ],
          "scattergeo": [
           {
            "marker": {
             "colorbar": {
              "outlinewidth": 0,
              "ticks": ""
             }
            },
            "type": "scattergeo"
           }
          ],
          "scattergl": [
           {
            "marker": {
             "colorbar": {
              "outlinewidth": 0,
              "ticks": ""
             }
            },
            "type": "scattergl"
           }
          ],
          "scattermapbox": [
           {
            "marker": {
             "colorbar": {
              "outlinewidth": 0,
              "ticks": ""
             }
            },
            "type": "scattermapbox"
           }
          ],
          "scatterpolar": [
           {
            "marker": {
             "colorbar": {
              "outlinewidth": 0,
              "ticks": ""
             }
            },
            "type": "scatterpolar"
           }
          ],
          "scatterpolargl": [
           {
            "marker": {
             "colorbar": {
              "outlinewidth": 0,
              "ticks": ""
             }
            },
            "type": "scatterpolargl"
           }
          ],
          "scatterternary": [
           {
            "marker": {
             "colorbar": {
              "outlinewidth": 0,
              "ticks": ""
             }
            },
            "type": "scatterternary"
           }
          ],
          "surface": [
           {
            "colorbar": {
             "outlinewidth": 0,
             "ticks": ""
            },
            "colorscale": [
             [
              0,
              "#0d0887"
             ],
             [
              0.1111111111111111,
              "#46039f"
             ],
             [
              0.2222222222222222,
              "#7201a8"
             ],
             [
              0.3333333333333333,
              "#9c179e"
             ],
             [
              0.4444444444444444,
              "#bd3786"
             ],
             [
              0.5555555555555556,
              "#d8576b"
             ],
             [
              0.6666666666666666,
              "#ed7953"
             ],
             [
              0.7777777777777778,
              "#fb9f3a"
             ],
             [
              0.8888888888888888,
              "#fdca26"
             ],
             [
              1,
              "#f0f921"
             ]
            ],
            "type": "surface"
           }
          ],
          "table": [
           {
            "cells": {
             "fill": {
              "color": "#EBF0F8"
             },
             "line": {
              "color": "white"
             }
            },
            "header": {
             "fill": {
              "color": "#C8D4E3"
             },
             "line": {
              "color": "white"
             }
            },
            "type": "table"
           }
          ]
         },
         "layout": {
          "annotationdefaults": {
           "arrowcolor": "#2a3f5f",
           "arrowhead": 0,
           "arrowwidth": 1
          },
          "coloraxis": {
           "colorbar": {
            "outlinewidth": 0,
            "ticks": ""
           }
          },
          "colorscale": {
           "diverging": [
            [
             0,
             "#8e0152"
            ],
            [
             0.1,
             "#c51b7d"
            ],
            [
             0.2,
             "#de77ae"
            ],
            [
             0.3,
             "#f1b6da"
            ],
            [
             0.4,
             "#fde0ef"
            ],
            [
             0.5,
             "#f7f7f7"
            ],
            [
             0.6,
             "#e6f5d0"
            ],
            [
             0.7,
             "#b8e186"
            ],
            [
             0.8,
             "#7fbc41"
            ],
            [
             0.9,
             "#4d9221"
            ],
            [
             1,
             "#276419"
            ]
           ],
           "sequential": [
            [
             0,
             "#0d0887"
            ],
            [
             0.1111111111111111,
             "#46039f"
            ],
            [
             0.2222222222222222,
             "#7201a8"
            ],
            [
             0.3333333333333333,
             "#9c179e"
            ],
            [
             0.4444444444444444,
             "#bd3786"
            ],
            [
             0.5555555555555556,
             "#d8576b"
            ],
            [
             0.6666666666666666,
             "#ed7953"
            ],
            [
             0.7777777777777778,
             "#fb9f3a"
            ],
            [
             0.8888888888888888,
             "#fdca26"
            ],
            [
             1,
             "#f0f921"
            ]
           ],
           "sequentialminus": [
            [
             0,
             "#0d0887"
            ],
            [
             0.1111111111111111,
             "#46039f"
            ],
            [
             0.2222222222222222,
             "#7201a8"
            ],
            [
             0.3333333333333333,
             "#9c179e"
            ],
            [
             0.4444444444444444,
             "#bd3786"
            ],
            [
             0.5555555555555556,
             "#d8576b"
            ],
            [
             0.6666666666666666,
             "#ed7953"
            ],
            [
             0.7777777777777778,
             "#fb9f3a"
            ],
            [
             0.8888888888888888,
             "#fdca26"
            ],
            [
             1,
             "#f0f921"
            ]
           ]
          },
          "colorway": [
           "#636efa",
           "#EF553B",
           "#00cc96",
           "#ab63fa",
           "#FFA15A",
           "#19d3f3",
           "#FF6692",
           "#B6E880",
           "#FF97FF",
           "#FECB52"
          ],
          "font": {
           "color": "#2a3f5f"
          },
          "geo": {
           "bgcolor": "white",
           "lakecolor": "white",
           "landcolor": "#E5ECF6",
           "showlakes": true,
           "showland": true,
           "subunitcolor": "white"
          },
          "hoverlabel": {
           "align": "left"
          },
          "hovermode": "closest",
          "mapbox": {
           "style": "light"
          },
          "paper_bgcolor": "white",
          "plot_bgcolor": "#E5ECF6",
          "polar": {
           "angularaxis": {
            "gridcolor": "white",
            "linecolor": "white",
            "ticks": ""
           },
           "bgcolor": "#E5ECF6",
           "radialaxis": {
            "gridcolor": "white",
            "linecolor": "white",
            "ticks": ""
           }
          },
          "scene": {
           "xaxis": {
            "backgroundcolor": "#E5ECF6",
            "gridcolor": "white",
            "gridwidth": 2,
            "linecolor": "white",
            "showbackground": true,
            "ticks": "",
            "zerolinecolor": "white"
           },
           "yaxis": {
            "backgroundcolor": "#E5ECF6",
            "gridcolor": "white",
            "gridwidth": 2,
            "linecolor": "white",
            "showbackground": true,
            "ticks": "",
            "zerolinecolor": "white"
           },
           "zaxis": {
            "backgroundcolor": "#E5ECF6",
            "gridcolor": "white",
            "gridwidth": 2,
            "linecolor": "white",
            "showbackground": true,
            "ticks": "",
            "zerolinecolor": "white"
           }
          },
          "shapedefaults": {
           "line": {
            "color": "#2a3f5f"
           }
          },
          "ternary": {
           "aaxis": {
            "gridcolor": "white",
            "linecolor": "white",
            "ticks": ""
           },
           "baxis": {
            "gridcolor": "white",
            "linecolor": "white",
            "ticks": ""
           },
           "bgcolor": "#E5ECF6",
           "caxis": {
            "gridcolor": "white",
            "linecolor": "white",
            "ticks": ""
           }
          },
          "title": {
           "x": 0.05
          },
          "xaxis": {
           "automargin": true,
           "gridcolor": "white",
           "linecolor": "white",
           "ticks": "",
           "title": {
            "standoff": 15
           },
           "zerolinecolor": "white",
           "zerolinewidth": 2
          },
          "yaxis": {
           "automargin": true,
           "gridcolor": "white",
           "linecolor": "white",
           "ticks": "",
           "title": {
            "standoff": 15
           },
           "zerolinecolor": "white",
           "zerolinewidth": 2
          }
         }
        },
        "title": {
         "font": {
          "size": 16
         },
         "text": "<br>World states for hand_selected_008, repetition 3, by number of squares"
        },
        "width": 600
       }
      },
      "text/html": [
       "<div>\n",
       "        \n",
       "        \n",
       "            <div id=\"7cbeda3b-ed0d-42ab-8589-750fae91d36d\" class=\"plotly-graph-div\" style=\"height:600px; width:600px;\"></div>\n",
       "            <script type=\"text/javascript\">\n",
       "                require([\"plotly\"], function(Plotly) {\n",
       "                    window.PLOTLYENV=window.PLOTLYENV || {};\n",
       "                    \n",
       "                if (document.getElementById(\"7cbeda3b-ed0d-42ab-8589-750fae91d36d\")) {\n",
       "                    Plotly.newPlot(\n",
       "                        '7cbeda3b-ed0d-42ab-8589-750fae91d36d',\n",
       "                        [{\"hoverinfo\": \"none\", \"line\": {\"color\": \"#888\", \"width\": 0.5}, \"mode\": \"lines\", \"type\": \"scatter\", \"x\": [0, 1, null, 0, 2, null, 0, 0, null, 0, 0, null, 0, 2, null, 0, 1, null, 0, 2, null, 0, 1, null, 0, 0, null, 0, 1, null, 0, 3, null, 0, 0, null, 0, 1, null, 0, 4, null, 0, 0, null, 0, 0, null, 0, 2, null, 0, 0, null, 0, 0, null, 0, 0, null, 0, 5, null, 0, 0, null, 0, 1, null, 0, 0, null, 0, 0, null, 2, 2, null, 1, 0, null, 1, 0, null, 3, 4, null, 0, 3, null, 0, 3, null, 0, 1, null, 0, 1, null, 0, 3, null, 4, 1, null, 5, 11, null, 1, 0, null, 1, 0, null, 1, 0, null, 1, 0, null, 2, 3, null, 2, 3, null, 2, 6, null, 2, 3, null, 0, 0, null, 0, 0, null, 0, 1, null, 0, 0, null, 0, 0, null, 0, 0, null, 0, 1, null, 0, 0, null, 4, 9, null, 3, 4, null, 3, 4, null, 3, 4, null, 0, 1, null, 0, 0, null, 0, 1, null, 0, 1, null, 0, 0, null, 0, 0, null, 0, 0, null, 0, 1, null, 0, 0, null, 0, 1, null, 0, 0, null, 3, 5, null, 3, 0, null, 3, 0, null, 5, 0, null, 6, 7, null, 7, 8, null, 8, 4, null, 9, 5, null, 4, 6, null, 4, 9, null, 4, 1, null, 1, 2, null, 1, 2, null, 1, 2, null, 1, 2, null, 2, 10, null, 2, 10, null, 2, 12, null, 2, 16, null, 10, 2, null, 11, 12, null, 12, 13, null, 0, 0, null, 0, 0, null, 0, 0, null, 0, 0, null, 0, 6, null, 0, 0, null, 0, 0, null, 0, 16, null, 4, 4, null, 1, 3, null, 1, 3, null, 5, 9, null, 6, 7, null, 7, 2, null, 2, 3, null, 2, 3, null, 3, 8, null, 3, 17, null, 8, 7, null, 9, 8, null, 10, 11, null, 11, 23, null, 12, 12, null, 13, 14, null, 14, 15, null, 15, 14, null, 16, 2, null, 1, 0, null, 1, 0, null, 1, 0, null, 1, 10, null, 1, 0, null, 0, 1, null, 0, 0, null, 0, 3, null, 0, 1, null, 0, 1, null, 0, 1, null, 0, 0, null, 0, 0, null, 0, 0, null, 0, 1, null, 0, 35, null, 4, 5, null, 5, 6, null, 3, 8, null, 3, 11, null, 6, 11, null, 2, 12, null, 2, 9, null, 7, 17, null, 8, 2, null, 9, 19, null, 10, 21, null, 11, 26, null, 12, 13, null, 13, 27, null, 14, 15, null, 15, 33, null, 16, 0, null, 0, 2, null, 0, 1, null, 0, 21, null, 0, 1, null, 2, 4, null, 3, 4, null, 4, 5, null, 5, 5, null, 6, 7, null, 1, 3, null, 1, 0, null, 1, 3, null, 8, 10, null, 9, 10, null, 10, 11, null, 11, 17, null, 12, 13, null, 13, 14, null, 14, 15, null, 15, 16, null, 17, 18, null, 19, 20, null, 21, 22, null, 22, 22, null, 23, 24, null, 24, 25, null, 25, 26, null, 26, 29, null, 27, 28, null, 28, 29, null, 29, 30, null, 30, 31, null, 31, 32, null, 33, 34, null, 35, 1, null, 1, 2, null, 1, 2, null, 1, 8, null, 1, 2, null, 1, 28, null, 2, 0, null, 2, 0, null, 2, 0, null, 0, 0, null, 0, 0, null, 0, 0, null, 0, 3, null, 0, 3, null, 0, 0, null, 4, 5, null, 5, 6, null, 6, 7, null, 7, 7, null, 8, 9, null, 9, 3, null, 3, 0, null, 3, 0, null, 11, 12, null, 12, 13, null, 13, 14, null, 14, 15, null, 15, 16, null, 16, 11, null, 17, 18, null, 18, 19, null, 19, 20, null, 21, 0, null, 22, 23, null, 23, 24, null, 24, 25, null, 26, 27, null, 28, 0, null, 29, 30, null, 30, 12, null, 0, 4, null, 0, 9, null, 0, 4, null, 0, 2, null, 0, 13, null, 4, 10, null, 5, 6, null, 7, 8, null, 9, 1, null, 3, 2, null, 3, 2, null, 3, 2, null, 2, 1, null, 2, 1, null, 2, 1, null, 2, 1, null, 13, 14, null], \"y\": [0, 0.2758620689655173, null, 0, 0.2758620689655173, null, 0, 0.2758620689655173, null, 0, 0.2758620689655173, null, 0, 0.14814814814814814, null, 0, 0.2758620689655173, null, 0, 0.2758620689655173, null, 0, 0.2758620689655173, null, 0, 0.2758620689655173, null, 0, 0.14814814814814814, null, 0, 0.13793103448275865, null, 0, 0.20689655172413796, null, 0, 0.2758620689655173, null, 0, 0.20689655172413796, null, 0, 0.20689655172413796, null, 0, 0.2758620689655173, null, 0, 0.2758620689655173, null, 0, 0.20689655172413796, null, 0, 0.2758620689655173, null, 0, 0.2758620689655173, null, 0, 0.13793103448275865, null, 0, 0.20689655172413796, null, 0, 0.14814814814814814, null, 0, 0.07407407407407407, null, 0.07407407407407407, 0.20689655172413796, null, 0.14814814814814814, 0.2758620689655173, null, 0.14814814814814814, 0.2758620689655173, null, 0.14814814814814814, 0.2758620689655173, null, 0.13793103448275865, 0.25806451612903225, null, 0.20689655172413796, 0.3225806451612903, null, 0.20689655172413796, 0.3225806451612903, null, 0.20689655172413796, 0.3636363636363637, null, 0.20689655172413796, 0.3636363636363637, null, 0.20689655172413796, 0.3225806451612903, null, 0.20689655172413796, 0.3636363636363637, null, 0.13793103448275865, 0.3636363636363637, null, 0.2758620689655173, 0.3870967741935484, null, 0.2758620689655173, 0.3870967741935484, null, 0.2758620689655173, 0.4848484848484849, null, 0.2758620689655173, 0.3870967741935484, null, 0.2758620689655173, 0.33333333333333337, null, 0.2758620689655173, 0.33333333333333337, null, 0.2758620689655173, 0.33333333333333337, null, 0.2758620689655173, 0.33333333333333337, null, 0.2758620689655173, 0.3870967741935484, null, 0.2758620689655173, 0.3870967741935484, null, 0.2758620689655173, 0.4848484848484849, null, 0.2758620689655173, 0.3870967741935484, null, 0.2758620689655173, 0.3870967741935484, null, 0.2758620689655173, 0.3870967741935484, null, 0.2758620689655173, 0.4848484848484849, null, 0.2758620689655173, 0.3870967741935484, null, 0.25806451612903225, 0.3636363636363637, null, 0.3225806451612903, 0.375, null, 0.3225806451612903, 0.375, null, 0.3225806451612903, 0.375, null, 0.3870967741935484, 0.5714285714285715, null, 0.3870967741935484, 0.4848484848484849, null, 0.3870967741935484, 0.5714285714285715, null, 0.3870967741935484, 0.5714285714285715, null, 0.3870967741935484, 0.4848484848484849, null, 0.3870967741935484, 0.4848484848484849, null, 0.3870967741935484, 0.4848484848484849, null, 0.3870967741935484, 0.5714285714285715, null, 0.3870967741935484, 0.4848484848484849, null, 0.3870967741935484, 0.5714285714285715, null, 0.3870967741935484, 0.4848484848484849, null, 0.33333333333333337, 0.4375000000000001, null, 0.33333333333333337, 0.3870967741935484, null, 0.33333333333333337, 0.3870967741935484, null, 0.4375000000000001, 0.4848484848484849, null, 0.33333333333333337, 0.3870967741935484, null, 0.3870967741935484, 0.42424242424242425, null, 0.42424242424242425, 0.5405405405405406, null, 0.3636363636363637, 0.5405405405405406, null, 0.375, 0.5, null, 0.375, 0.4705882352941176, null, 0.375, 0.3636363636363637, null, 0.3636363636363637, 0.4, null, 0.3636363636363637, 0.4, null, 0.3636363636363637, 0.4, null, 0.3636363636363637, 0.4, null, 0.4, 0.4324324324324325, null, 0.4, 0.5128205128205129, null, 0.4, 0.4444444444444444, null, 0.4, 0.5128205128205129, null, 0.4324324324324325, 0.5365853658536586, null, 0.3636363636363637, 0.4864864864864866, null, 0.4444444444444444, 0.5499999999999999, null, 0.4848484848484849, 0.6486486486486487, null, 0.4848484848484849, 0.6486486486486487, null, 0.4848484848484849, 0.6486486486486487, null, 0.4848484848484849, 0.6486486486486487, null, 0.4848484848484849, 0.6486486486486487, null, 0.4848484848484849, 0.6486486486486487, null, 0.4848484848484849, 0.6486486486486487, null, 0.4848484848484849, 0.5714285714285715, null, 0.5405405405405406, 0.5853658536585366, null, 0.4848484848484849, 0.5714285714285715, null, 0.4848484848484849, 0.5714285714285715, null, 0.5405405405405406, 0.6829268292682927, null, 0.5, 0.5405405405405406, null, 0.5405405405405406, 0.6153846153846153, null, 0.5365853658536586, 0.5238095238095238, null, 0.5365853658536586, 0.5238095238095238, null, 0.5238095238095238, 0.5454545454545454, null, 0.5238095238095238, 0.5116279069767442, null, 0.5454545454545454, 0.6250000000000001, null, 0.4705882352941176, 0.5789473684210525, null, 0.5128205128205129, 0.5499999999999999, null, 0.5499999999999999, 0.6818181818181819, null, 0.4864864864864866, 0.6341463414634146, null, 0.5499999999999999, 0.5365853658536586, null, 0.5365853658536586, 0.5238095238095238, null, 0.5238095238095238, 0.6086956521739131, null, 0.5128205128205129, 0.5365853658536586, null, 0.5714285714285715, 0.6486486486486487, null, 0.5714285714285715, 0.6486486486486487, null, 0.5714285714285715, 0.6486486486486487, null, 0.5714285714285715, 0.6111111111111112, null, 0.5714285714285715, 0.6486486486486487, null, 0.6486486486486487, 0.7804878048780487, null, 0.6486486486486487, 0.6842105263157895, null, 0.6486486486486487, 0.7317073170731707, null, 0.6486486486486487, 0.7804878048780487, null, 0.6486486486486487, 0.7804878048780487, null, 0.6486486486486487, 0.7804878048780487, null, 0.6486486486486487, 0.6842105263157895, null, 0.6486486486486487, 0.6842105263157895, null, 0.6486486486486487, 0.6842105263157895, null, 0.6486486486486487, 0.7804878048780487, null, 0.6486486486486487, 0.7179487179487181, null, 0.5853658536585366, 0.7111111111111111, null, 0.6530612244897959, 0.68, null, 0.5714285714285715, 0.7179487179487181, null, 0.5714285714285715, 0.6111111111111112, null, 0.6486486486486487, 0.7804878048780487, null, 0.6153846153846153, 0.7441860465116279, null, 0.6153846153846153, 0.6, null, 0.6250000000000001, 0.6923076923076923, null, 0.5789473684210525, 0.6153846153846153, null, 0.6, 0.6818181818181819, null, 0.6111111111111112, 0.7000000000000001, null, 0.6111111111111112, 0.7499999999999999, null, 0.6341463414634146, 0.6428571428571429, null, 0.6428571428571429, 0.6744186046511629, null, 0.6086956521739131, 0.6666666666666666, null, 0.6666666666666666, 0.68, null, 0.5714285714285715, 0.6486486486486487, null, 0.6842105263157895, 0.7179487179487181, null, 0.6842105263157895, 0.7499999999999999, null, 0.6842105263157895, 0.8095238095238095, null, 0.6842105263157895, 0.7499999999999999, null, 0.7179487179487181, 0.8372093023255813, null, 0.7317073170731707, 0.7619047619047621, null, 0.7619047619047621, 0.7906976744186047, null, 0.7111111111111111, 0.6530612244897959, null, 0.68, 0.7058823529411765, null, 0.7499999999999999, 0.8636363636363636, null, 0.7499999999999999, 0.8636363636363636, null, 0.7499999999999999, 0.8636363636363636, null, 0.7179487179487181, 0.8372093023255813, null, 0.6829268292682927, 0.7142857142857143, null, 0.7142857142857143, 0.7727272727272727, null, 0.7727272727272727, 0.7826086956521741, null, 0.7441860465116279, 0.7272727272727272, null, 0.7272727272727272, 0.7111111111111111, null, 0.7111111111111111, 0.7234042553191491, null, 0.7234042553191491, 0.7499999999999999, null, 0.6923076923076923, 0.7407407407407408, null, 0.6818181818181819, 0.7391304347826089, null, 0.7000000000000001, 0.7619047619047621, null, 0.7619047619047621, 0.8695652173913043, null, 0.6818181818181819, 0.7111111111111111, null, 0.7111111111111111, 0.7659574468085107, null, 0.7659574468085107, 0.7916666666666667, null, 0.7499999999999999, 0.7804878048780487, null, 0.6744186046511629, 0.7045454545454546, null, 0.7045454545454546, 0.6888888888888889, null, 0.6888888888888889, 0.7446808510638298, null, 0.7446808510638298, 0.7708333333333333, null, 0.7708333333333333, 0.7755102040816326, null, 0.68, 0.7777777777777777, null, 0.7179487179487181, 0.7499999999999999, null, 0.7804878048780487, 0.8372093023255813, null, 0.7804878048780487, 0.8372093023255813, null, 0.7804878048780487, 0.8095238095238095, null, 0.7804878048780487, 0.8372093023255813, null, 0.7804878048780487, 0.8095238095238095, null, 0.8372093023255813, 0.8636363636363636, null, 0.8372093023255813, 0.8636363636363636, null, 0.8372093023255813, 0.8636363636363636, null, 0.8636363636363636, 0.9583333333333334, null, 0.8636363636363636, 0.9583333333333334, null, 0.8636363636363636, 0.9583333333333334, null, 0.8636363636363636, 0.8888888888888891, null, 0.8636363636363636, 0.8888888888888891, null, 0.8636363636363636, 0.9583333333333334, null, 0.8372093023255813, 0.8888888888888891, null, 0.7906976744186047, 0.8444444444444444, null, 0.8444444444444444, 0.8695652173913043, null, 0.8695652173913043, 0.96, null, 0.8095238095238095, 0.8636363636363636, null, 0.8636363636363636, 0.8888888888888891, null, 0.8636363636363636, 0.9583333333333334, null, 0.8636363636363636, 0.9583333333333334, null, 0.7804878048780487, 0.8095238095238095, null, 0.8095238095238095, 0.8372093023255813, null, 0.8372093023255813, 0.7999999999999999, null, 0.7999999999999999, 0.8510638297872342, null, 0.8510638297872342, 0.8333333333333333, null, 0.8333333333333333, 0.923076923076923, null, 0.7826086956521741, 0.8333333333333333, null, 0.8333333333333333, 0.8571428571428572, null, 0.8571428571428572, 0.88, null, 0.8095238095238095, 0.8636363636363636, null, 0.8695652173913043, 0.8510638297872342, null, 0.8510638297872342, 0.8333333333333333, null, 0.8333333333333333, 0.88, null, 0.7916666666666667, 0.8846153846153846, null, 0.8095238095238095, 0.8636363636363636, null, 0.7804878048780487, 0.8372093023255813, null, 0.8372093023255813, 0.9361702127659576, null, 0.9583333333333334, 0.979591836734694, null, 0.9583333333333334, 0.979591836734694, null, 0.9583333333333334, 0.979591836734694, null, 0.9583333333333334, 0.979591836734694, null, 0.9583333333333334, 0.96, null, 0.979591836734694, 0.98, null, 0.8888888888888891, 0.9387755102040816, null, 0.96, 0.9803921568627452, null, 0.979591836734694, 1.0, null, 0.8888888888888891, 0.979591836734694, null, 0.8888888888888891, 0.979591836734694, null, 0.8888888888888891, 0.979591836734694, null, 0.979591836734694, 1.0, null, 0.979591836734694, 1.0, null, 0.979591836734694, 1.0, null, 0.979591836734694, 1.0, null, 0.96, 0.9803921568627452, null]}, {\"hoverinfo\": \"text\", \"marker\": {\"color\": [25, 1, 1, 2, 1, 5, 1, 1, 4, 4, 8, 1, 3, 11, 3, 1, 1, 1, 1, 1, 3, 4, 4, 1, 1, 1, 8, 1, 2, 1, 1, 1, 2, 2, 1, 1, 1, 1, 1, 1, 1, 1, 1, 1, 5, 11, 1, 1, 2, 1, 2, 1, 1, 1, 1, 1, 1, 1, 1, 1, 1, 4, 1, 1, 1, 1, 1, 1, 3, 1, 1, 1, 1, 1, 1, 1, 1, 1, 1, 1, 1, 1, 1, 1, 1, 1, 1, 1, 1, 1, 1, 1, 1, 1, 1, 1, 1, 5, 3, 6, 1, 1, 1, 1, 1, 1, 2, 1, 1, 1, 1, 1, 1, 1, 1, 1, 1, 1, 1, 1, 1, 1, 1, 1, 1, 1, 1, 1, 6, 2, 1, 1, 1, 1, 1, 5, 3, 4, 1, 1, 1, 1, 1], \"colorscale\": [[0.0, \"rgb(255,255,217)\"], [0.125, \"rgb(237,248,177)\"], [0.25, \"rgb(199,233,180)\"], [0.375, \"rgb(127,205,187)\"], [0.5, \"rgb(65,182,196)\"], [0.625, \"rgb(29,145,192)\"], [0.75, \"rgb(34,94,168)\"], [0.875, \"rgb(37,52,148)\"], [1.0, \"rgb(8,29,88)\"]], \"line\": {\"width\": 2}, \"reversescale\": true, \"showscale\": true, \"size\": [19.931568569324174, 6.0, 6.0, 9.0, 6.0, 12.965784284662089, 6.0, 6.0, 12.0, 12.0, 15.0, 6.0, 10.754887502163468, 16.378294855911893, 10.754887502163468, 6.0, 6.0, 6.0, 6.0, 6.0, 10.754887502163468, 12.0, 12.0, 6.0, 6.0, 6.0, 15.0, 6.0, 9.0, 6.0, 6.0, 6.0, 9.0, 9.0, 6.0, 6.0, 6.0, 6.0, 6.0, 6.0, 6.0, 6.0, 6.0, 6.0, 12.965784284662089, 16.378294855911893, 6.0, 6.0, 9.0, 6.0, 9.0, 6.0, 6.0, 6.0, 6.0, 6.0, 6.0, 6.0, 6.0, 6.0, 6.0, 12.0, 6.0, 6.0, 6.0, 6.0, 6.0, 6.0, 10.754887502163468, 6.0, 6.0, 6.0, 6.0, 6.0, 6.0, 6.0, 6.0, 6.0, 6.0, 6.0, 6.0, 6.0, 6.0, 6.0, 6.0, 6.0, 6.0, 6.0, 6.0, 6.0, 6.0, 6.0, 6.0, 6.0, 6.0, 6.0, 6.0, 12.965784284662089, 10.754887502163468, 13.754887502163468, 6.0, 6.0, 6.0, 6.0, 6.0, 6.0, 9.0, 6.0, 6.0, 6.0, 6.0, 6.0, 6.0, 6.0, 6.0, 6.0, 6.0, 6.0, 6.0, 6.0, 6.0, 6.0, 6.0, 6.0, 6.0, 6.0, 6.0, 6.0, 13.754887502163468, 9.0, 6.0, 6.0, 6.0, 6.0, 6.0, 12.965784284662089, 10.754887502163468, 12.0, 6.0, 6.0, 6.0, 6.0, 6.0]}, \"mode\": \"markers\", \"type\": \"scatter\", \"x\": [0, 0, 2, 1, 3, 0, 4, 5, 1, 2, 0, 4, 3, 0, 3, 5, 6, 7, 8, 9, 4, 1, 2, 10, 11, 12, 0, 4, 1, 5, 6, 7, 2, 3, 8, 9, 10, 11, 12, 13, 14, 15, 16, 17, 1, 0, 4, 5, 3, 6, 2, 7, 8, 9, 10, 11, 12, 13, 14, 15, 16, 0, 2, 3, 4, 5, 6, 7, 1, 8, 9, 10, 11, 12, 13, 14, 15, 16, 17, 18, 19, 20, 21, 22, 23, 24, 25, 26, 27, 28, 29, 30, 31, 32, 33, 34, 35, 1, 2, 0, 4, 5, 6, 7, 8, 9, 3, 10, 11, 12, 13, 14, 15, 16, 17, 18, 19, 20, 21, 22, 23, 24, 25, 26, 27, 28, 29, 30, 0, 4, 5, 6, 7, 8, 9, 1, 3, 2, 10, 11, 12, 13, 14], \"y\": [0, 0.07407407407407407, 0.14814814814814814, 0.14814814814814814, 0.13793103448275865, 0.20689655172413796, 0.20689655172413796, 0.13793103448275865, 0.2758620689655173, 0.2758620689655173, 0.2758620689655173, 0.25806451612903225, 0.3225806451612903, 0.3870967741935484, 0.33333333333333337, 0.4375000000000001, 0.33333333333333337, 0.3870967741935484, 0.42424242424242425, 0.3636363636363637, 0.375, 0.3636363636363637, 0.4, 0.4324324324324325, 0.3636363636363637, 0.4444444444444444, 0.4848484848484849, 0.5405405405405406, 0.4848484848484849, 0.5405405405405406, 0.5, 0.5405405405405406, 0.5365853658536586, 0.5238095238095238, 0.5454545454545454, 0.4705882352941176, 0.5128205128205129, 0.5499999999999999, 0.4864864864864866, 0.5499999999999999, 0.5365853658536586, 0.5238095238095238, 0.5128205128205129, 0.5116279069767442, 0.5714285714285715, 0.6486486486486487, 0.5853658536585366, 0.6530612244897959, 0.5714285714285715, 0.6486486486486487, 0.6153846153846153, 0.6250000000000001, 0.5789473684210525, 0.6, 0.6111111111111112, 0.6111111111111112, 0.6341463414634146, 0.6428571428571429, 0.6086956521739131, 0.6666666666666666, 0.5714285714285715, 0.6842105263157895, 0.7179487179487181, 0.7317073170731707, 0.7619047619047621, 0.7111111111111111, 0.68, 0.7058823529411765, 0.7499999999999999, 0.7179487179487181, 0.6829268292682927, 0.7142857142857143, 0.7727272727272727, 0.7441860465116279, 0.7272727272727272, 0.7111111111111111, 0.7234042553191491, 0.7499999999999999, 0.6923076923076923, 0.7407407407407408, 0.6818181818181819, 0.7391304347826089, 0.7000000000000001, 0.7619047619047621, 0.6818181818181819, 0.7111111111111111, 0.7659574468085107, 0.7499999999999999, 0.6744186046511629, 0.7045454545454546, 0.6888888888888889, 0.7446808510638298, 0.7708333333333333, 0.7755102040816326, 0.68, 0.7777777777777777, 0.7179487179487181, 0.7804878048780487, 0.8372093023255813, 0.8636363636363636, 0.8372093023255813, 0.7906976744186047, 0.8444444444444444, 0.8695652173913043, 0.8095238095238095, 0.8636363636363636, 0.8636363636363636, 0.8372093023255813, 0.7804878048780487, 0.8095238095238095, 0.8372093023255813, 0.7999999999999999, 0.8510638297872342, 0.8333333333333333, 0.7826086956521741, 0.8333333333333333, 0.8571428571428572, 0.88, 0.8095238095238095, 0.8695652173913043, 0.8510638297872342, 0.8333333333333333, 0.88, 0.7916666666666667, 0.8846153846153846, 0.8095238095238095, 0.7804878048780487, 0.8372093023255813, 0.9583333333333334, 0.979591836734694, 0.8888888888888891, 0.9387755102040816, 0.96, 0.9803921568627452, 0.979591836734694, 1.0, 0.8888888888888891, 0.979591836734694, 0.98, 0.923076923076923, 0.9361702127659576, 0.96, 0.9803921568627452]}],\n",
       "                        {\"annotations\": [{\"showarrow\": false, \"text\": \"\", \"x\": 0.005, \"xref\": \"paper\", \"y\": -0.002, \"yref\": \"paper\"}], \"height\": 600, \"hovermode\": \"closest\", \"margin\": {\"b\": 20, \"l\": 5, \"r\": 5, \"t\": 40}, \"showlegend\": false, \"template\": {\"data\": {\"bar\": [{\"error_x\": {\"color\": \"#2a3f5f\"}, \"error_y\": {\"color\": \"#2a3f5f\"}, \"marker\": {\"line\": {\"color\": \"#E5ECF6\", \"width\": 0.5}}, \"type\": \"bar\"}], \"barpolar\": [{\"marker\": {\"line\": {\"color\": \"#E5ECF6\", \"width\": 0.5}}, \"type\": \"barpolar\"}], \"carpet\": [{\"aaxis\": {\"endlinecolor\": \"#2a3f5f\", \"gridcolor\": \"white\", \"linecolor\": \"white\", \"minorgridcolor\": \"white\", \"startlinecolor\": \"#2a3f5f\"}, \"baxis\": {\"endlinecolor\": \"#2a3f5f\", \"gridcolor\": \"white\", \"linecolor\": \"white\", \"minorgridcolor\": \"white\", \"startlinecolor\": \"#2a3f5f\"}, \"type\": \"carpet\"}], \"choropleth\": [{\"colorbar\": {\"outlinewidth\": 0, \"ticks\": \"\"}, \"type\": \"choropleth\"}], \"contour\": [{\"colorbar\": {\"outlinewidth\": 0, \"ticks\": \"\"}, \"colorscale\": [[0.0, \"#0d0887\"], [0.1111111111111111, \"#46039f\"], [0.2222222222222222, \"#7201a8\"], [0.3333333333333333, \"#9c179e\"], [0.4444444444444444, \"#bd3786\"], [0.5555555555555556, \"#d8576b\"], [0.6666666666666666, \"#ed7953\"], [0.7777777777777778, \"#fb9f3a\"], [0.8888888888888888, \"#fdca26\"], [1.0, \"#f0f921\"]], \"type\": \"contour\"}], \"contourcarpet\": [{\"colorbar\": {\"outlinewidth\": 0, \"ticks\": \"\"}, \"type\": \"contourcarpet\"}], \"heatmap\": [{\"colorbar\": {\"outlinewidth\": 0, \"ticks\": \"\"}, \"colorscale\": [[0.0, \"#0d0887\"], [0.1111111111111111, \"#46039f\"], [0.2222222222222222, \"#7201a8\"], [0.3333333333333333, \"#9c179e\"], [0.4444444444444444, \"#bd3786\"], [0.5555555555555556, \"#d8576b\"], [0.6666666666666666, \"#ed7953\"], [0.7777777777777778, \"#fb9f3a\"], [0.8888888888888888, \"#fdca26\"], [1.0, \"#f0f921\"]], \"type\": \"heatmap\"}], \"heatmapgl\": [{\"colorbar\": {\"outlinewidth\": 0, \"ticks\": \"\"}, \"colorscale\": [[0.0, \"#0d0887\"], [0.1111111111111111, \"#46039f\"], [0.2222222222222222, \"#7201a8\"], [0.3333333333333333, \"#9c179e\"], [0.4444444444444444, \"#bd3786\"], [0.5555555555555556, \"#d8576b\"], [0.6666666666666666, \"#ed7953\"], [0.7777777777777778, \"#fb9f3a\"], [0.8888888888888888, \"#fdca26\"], [1.0, \"#f0f921\"]], \"type\": \"heatmapgl\"}], \"histogram\": [{\"marker\": {\"colorbar\": {\"outlinewidth\": 0, \"ticks\": \"\"}}, \"type\": \"histogram\"}], \"histogram2d\": [{\"colorbar\": {\"outlinewidth\": 0, \"ticks\": \"\"}, \"colorscale\": [[0.0, \"#0d0887\"], [0.1111111111111111, \"#46039f\"], [0.2222222222222222, \"#7201a8\"], [0.3333333333333333, \"#9c179e\"], [0.4444444444444444, \"#bd3786\"], [0.5555555555555556, \"#d8576b\"], [0.6666666666666666, \"#ed7953\"], [0.7777777777777778, \"#fb9f3a\"], [0.8888888888888888, \"#fdca26\"], [1.0, \"#f0f921\"]], \"type\": \"histogram2d\"}], \"histogram2dcontour\": [{\"colorbar\": {\"outlinewidth\": 0, \"ticks\": \"\"}, \"colorscale\": [[0.0, \"#0d0887\"], [0.1111111111111111, \"#46039f\"], [0.2222222222222222, \"#7201a8\"], [0.3333333333333333, \"#9c179e\"], [0.4444444444444444, \"#bd3786\"], [0.5555555555555556, \"#d8576b\"], [0.6666666666666666, \"#ed7953\"], [0.7777777777777778, \"#fb9f3a\"], [0.8888888888888888, \"#fdca26\"], [1.0, \"#f0f921\"]], \"type\": \"histogram2dcontour\"}], \"mesh3d\": [{\"colorbar\": {\"outlinewidth\": 0, \"ticks\": \"\"}, \"type\": \"mesh3d\"}], \"parcoords\": [{\"line\": {\"colorbar\": {\"outlinewidth\": 0, \"ticks\": \"\"}}, \"type\": \"parcoords\"}], \"pie\": [{\"automargin\": true, \"type\": \"pie\"}], \"scatter\": [{\"marker\": {\"colorbar\": {\"outlinewidth\": 0, \"ticks\": \"\"}}, \"type\": \"scatter\"}], \"scatter3d\": [{\"line\": {\"colorbar\": {\"outlinewidth\": 0, \"ticks\": \"\"}}, \"marker\": {\"colorbar\": {\"outlinewidth\": 0, \"ticks\": \"\"}}, \"type\": \"scatter3d\"}], \"scattercarpet\": [{\"marker\": {\"colorbar\": {\"outlinewidth\": 0, \"ticks\": \"\"}}, \"type\": \"scattercarpet\"}], \"scattergeo\": [{\"marker\": {\"colorbar\": {\"outlinewidth\": 0, \"ticks\": \"\"}}, \"type\": \"scattergeo\"}], \"scattergl\": [{\"marker\": {\"colorbar\": {\"outlinewidth\": 0, \"ticks\": \"\"}}, \"type\": \"scattergl\"}], \"scattermapbox\": [{\"marker\": {\"colorbar\": {\"outlinewidth\": 0, \"ticks\": \"\"}}, \"type\": \"scattermapbox\"}], \"scatterpolar\": [{\"marker\": {\"colorbar\": {\"outlinewidth\": 0, \"ticks\": \"\"}}, \"type\": \"scatterpolar\"}], \"scatterpolargl\": [{\"marker\": {\"colorbar\": {\"outlinewidth\": 0, \"ticks\": \"\"}}, \"type\": \"scatterpolargl\"}], \"scatterternary\": [{\"marker\": {\"colorbar\": {\"outlinewidth\": 0, \"ticks\": \"\"}}, \"type\": \"scatterternary\"}], \"surface\": [{\"colorbar\": {\"outlinewidth\": 0, \"ticks\": \"\"}, \"colorscale\": [[0.0, \"#0d0887\"], [0.1111111111111111, \"#46039f\"], [0.2222222222222222, \"#7201a8\"], [0.3333333333333333, \"#9c179e\"], [0.4444444444444444, \"#bd3786\"], [0.5555555555555556, \"#d8576b\"], [0.6666666666666666, \"#ed7953\"], [0.7777777777777778, \"#fb9f3a\"], [0.8888888888888888, \"#fdca26\"], [1.0, \"#f0f921\"]], \"type\": \"surface\"}], \"table\": [{\"cells\": {\"fill\": {\"color\": \"#EBF0F8\"}, \"line\": {\"color\": \"white\"}}, \"header\": {\"fill\": {\"color\": \"#C8D4E3\"}, \"line\": {\"color\": \"white\"}}, \"type\": \"table\"}]}, \"layout\": {\"annotationdefaults\": {\"arrowcolor\": \"#2a3f5f\", \"arrowhead\": 0, \"arrowwidth\": 1}, \"coloraxis\": {\"colorbar\": {\"outlinewidth\": 0, \"ticks\": \"\"}}, \"colorscale\": {\"diverging\": [[0, \"#8e0152\"], [0.1, \"#c51b7d\"], [0.2, \"#de77ae\"], [0.3, \"#f1b6da\"], [0.4, \"#fde0ef\"], [0.5, \"#f7f7f7\"], [0.6, \"#e6f5d0\"], [0.7, \"#b8e186\"], [0.8, \"#7fbc41\"], [0.9, \"#4d9221\"], [1, \"#276419\"]], \"sequential\": [[0.0, \"#0d0887\"], [0.1111111111111111, \"#46039f\"], [0.2222222222222222, \"#7201a8\"], [0.3333333333333333, \"#9c179e\"], [0.4444444444444444, \"#bd3786\"], [0.5555555555555556, \"#d8576b\"], [0.6666666666666666, \"#ed7953\"], [0.7777777777777778, \"#fb9f3a\"], [0.8888888888888888, \"#fdca26\"], [1.0, \"#f0f921\"]], \"sequentialminus\": [[0.0, \"#0d0887\"], [0.1111111111111111, \"#46039f\"], [0.2222222222222222, \"#7201a8\"], [0.3333333333333333, \"#9c179e\"], [0.4444444444444444, \"#bd3786\"], [0.5555555555555556, \"#d8576b\"], [0.6666666666666666, \"#ed7953\"], [0.7777777777777778, \"#fb9f3a\"], [0.8888888888888888, \"#fdca26\"], [1.0, \"#f0f921\"]]}, \"colorway\": [\"#636efa\", \"#EF553B\", \"#00cc96\", \"#ab63fa\", \"#FFA15A\", \"#19d3f3\", \"#FF6692\", \"#B6E880\", \"#FF97FF\", \"#FECB52\"], \"font\": {\"color\": \"#2a3f5f\"}, \"geo\": {\"bgcolor\": \"white\", \"lakecolor\": \"white\", \"landcolor\": \"#E5ECF6\", \"showlakes\": true, \"showland\": true, \"subunitcolor\": \"white\"}, \"hoverlabel\": {\"align\": \"left\"}, \"hovermode\": \"closest\", \"mapbox\": {\"style\": \"light\"}, \"paper_bgcolor\": \"white\", \"plot_bgcolor\": \"#E5ECF6\", \"polar\": {\"angularaxis\": {\"gridcolor\": \"white\", \"linecolor\": \"white\", \"ticks\": \"\"}, \"bgcolor\": \"#E5ECF6\", \"radialaxis\": {\"gridcolor\": \"white\", \"linecolor\": \"white\", \"ticks\": \"\"}}, \"scene\": {\"xaxis\": {\"backgroundcolor\": \"#E5ECF6\", \"gridcolor\": \"white\", \"gridwidth\": 2, \"linecolor\": \"white\", \"showbackground\": true, \"ticks\": \"\", \"zerolinecolor\": \"white\"}, \"yaxis\": {\"backgroundcolor\": \"#E5ECF6\", \"gridcolor\": \"white\", \"gridwidth\": 2, \"linecolor\": \"white\", \"showbackground\": true, \"ticks\": \"\", \"zerolinecolor\": \"white\"}, \"zaxis\": {\"backgroundcolor\": \"#E5ECF6\", \"gridcolor\": \"white\", \"gridwidth\": 2, \"linecolor\": \"white\", \"showbackground\": true, \"ticks\": \"\", \"zerolinecolor\": \"white\"}}, \"shapedefaults\": {\"line\": {\"color\": \"#2a3f5f\"}}, \"ternary\": {\"aaxis\": {\"gridcolor\": \"white\", \"linecolor\": \"white\", \"ticks\": \"\"}, \"baxis\": {\"gridcolor\": \"white\", \"linecolor\": \"white\", \"ticks\": \"\"}, \"bgcolor\": \"#E5ECF6\", \"caxis\": {\"gridcolor\": \"white\", \"linecolor\": \"white\", \"ticks\": \"\"}}, \"title\": {\"x\": 0.05}, \"xaxis\": {\"automargin\": true, \"gridcolor\": \"white\", \"linecolor\": \"white\", \"ticks\": \"\", \"title\": {\"standoff\": 15}, \"zerolinecolor\": \"white\", \"zerolinewidth\": 2}, \"yaxis\": {\"automargin\": true, \"gridcolor\": \"white\", \"linecolor\": \"white\", \"ticks\": \"\", \"title\": {\"standoff\": 15}, \"zerolinecolor\": \"white\", \"zerolinewidth\": 2}}}, \"title\": {\"font\": {\"size\": 16}, \"text\": \"<br>World states for hand_selected_008, repetition 3, by number of squares\"}, \"width\": 600},\n",
       "                        {\"responsive\": true}\n",
       "                    ).then(function(){\n",
       "                            \n",
       "var gd = document.getElementById('7cbeda3b-ed0d-42ab-8589-750fae91d36d');\n",
       "var x = new MutationObserver(function (mutations, observer) {{\n",
       "        var display = window.getComputedStyle(gd).display;\n",
       "        if (!display || display === 'none') {{\n",
       "            console.log([gd, 'removed!']);\n",
       "            Plotly.purge(gd);\n",
       "            observer.disconnect();\n",
       "        }}\n",
       "}});\n",
       "\n",
       "// Listen for the removal of the full notebook cells\n",
       "var notebookContainer = gd.closest('#notebook-container');\n",
       "if (notebookContainer) {{\n",
       "    x.observe(notebookContainer, {childList: true});\n",
       "}}\n",
       "\n",
       "// Listen for the clearing of the current output cell\n",
       "var outputEl = gd.closest('.output');\n",
       "if (outputEl) {{\n",
       "    x.observe(outputEl, {childList: true});\n",
       "}}\n",
       "\n",
       "                        })\n",
       "                };\n",
       "                });\n",
       "            </script>\n",
       "        </div>"
      ]
     },
     "metadata": {},
     "output_type": "display_data"
    },
    {
     "data": {
      "image/png": "[encoded data removed]",
      "text/plain": [
       "<Figure size 432x288 with 1 Axes>"
      ]
     },
     "metadata": {},
     "output_type": "display_data"
    }
   ],
   "source": [
    "target = targets[3]\n",
    "fig, ax = plt.subplots()\n",
    "ax.axis('off')\n",
    "ax.imshow(np.rot90(target_maps[target]))\n",
    "plot_f1_trajectory_graph(target_name=target, rep = 0, bins=10)\n",
    "plot_f1_trajectory_graph(target_name=target, rep = 1, bins=10)\n",
    "plot_f1_trajectory_graph(target_name=target, rep = 2, bins=10)\n",
    "plot_f1_trajectory_graph(target_name=target, rep = 3, bins=10)"
   ]
  },
  {
   "cell_type": "code",
   "execution_count": null,
   "metadata": {},
   "outputs": [],
   "source": []
  },
  {
   "cell_type": "code",
   "execution_count": null,
   "metadata": {},
   "outputs": [],
   "source": [
    "importlib.reload(scoring)"
   ]
  },
  {
   "cell_type": "code",
   "execution_count": 47,
   "metadata": {},
   "outputs": [],
   "source": [
    "target_maps = {}\n",
    "\n",
    "with open(os.path.abspath('../results/csv/targetMaps.txt')) as json_file:\n",
    "    target_maps = json.load(json_file)"
   ]
  },
  {
   "cell_type": "code",
   "execution_count": 49,
   "metadata": {},
   "outputs": [
    {
     "data": {
      "text/plain": [
       "<matplotlib.image.AxesImage at 0x1a1fbe6d90>"
      ]
     },
     "execution_count": 49,
     "metadata": {},
     "output_type": "execute_result"
    },
    {
     "data": {
      "image/png": "[encoded data removed]",
      "text/plain": [
       "<Figure size 432x288 with 1 Axes>"
      ]
     },
     "metadata": {
      "needs_background": "light"
     },
     "output_type": "display_data"
    }
   ],
   "source": [
    "fig, ax = plt.subplots()\n",
    "ax.axis('off')\n",
    "ax.imshow(np.rot90(target_maps[targets[6]]))"
   ]
  },
  {
   "cell_type": "code",
   "execution_count": 96,
   "metadata": {
    "scrolled": true
   },
   "outputs": [
    {
     "data": {
      "text/plain": [
       "targetName                                              hand_selected_011\n",
       "gameID                          0145-8cab6010-6b88-4e57-b04d-b9e9b4b7c959\n",
       "blockNum                                                                1\n",
       "repetition                                                              1\n",
       "flatDiscreteWorld       [0, 0, 0, 0, 0, 0, 0, 0, 0, 0, 0, 0, 0, 0, 0, ...\n",
       "usableDiscreteWorld     [[0, 0, 0, 0, 0, 0, 0, 0, 0, 0, 0, 0, 0], [0, ...\n",
       "rawF1DiscreteScore                                                    NaN\n",
       "discreteWorld           [[0, 0, 0, 0, 0, 0, 0, 0, 0, 0, 0, 0, 0], [0, ...\n",
       "flatDiscreteWorldStr    0000000000000000000000000000000000000000000000...\n",
       "Name: 65, dtype: object"
      ]
     },
     "execution_count": 96,
     "metadata": {},
     "output_type": "execute_result"
    }
   ],
   "source": [
    "dfic[(dfic.repetition==1)&(dfic.targetName==targets[5])].iloc[0]['discreteWorld']\n",
    "dfic[(dfic.repetition==1)&(dfic.targetName==targets[5])].iloc[0]"
   ]
  },
  {
   "cell_type": "code",
   "execution_count": null,
   "metadata": {},
   "outputs": [],
   "source": []
  }
 ],
 "metadata": {
  "kernelspec": {
   "display_name": "Python 3",
   "language": "python",
   "name": "python3"
  },
  "language_info": {
   "codemirror_mode": {
    "name": "ipython",
    "version": 3
   },
   "file_extension": ".py",
   "mimetype": "text/x-python",
   "name": "python",
   "nbconvert_exporter": "python",
   "pygments_lexer": "ipython3",
   "version": "3.7.4"
  }
 },
 "nbformat": 4,
 "nbformat_minor": 2
}
