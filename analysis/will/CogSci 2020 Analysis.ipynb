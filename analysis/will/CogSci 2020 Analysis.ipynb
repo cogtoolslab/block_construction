{
 "cells": [
  {
   "cell_type": "markdown",
   "metadata": {},
   "source": [
    "# Block-Silhouette Analysis for CogSci 2020"
   ]
  },
  {
   "cell_type": "markdown",
   "metadata": {},
   "source": [
    "## Import and set up directories"
   ]
  },
  {
   "cell_type": "code",
   "execution_count": null,
   "metadata": {},
   "outputs": [],
   "source": [
    "import os\n",
    "import sys\n",
    "import urllib, io\n",
    "os.getcwd()\n",
    "sys.path.append(\"..\")\n",
    "proj_dir = os.path.abspath('../..')\n",
    "\n",
    "if os.path.join(proj_dir,'stimuli') not in sys.path:\n",
    "    sys.path.append(os.path.join(proj_dir,'stimuli'))\n",
    "\n",
    "import numpy as np\n",
    "import scipy.stats as stats\n",
    "import pandas as pd\n",
    "from random import random\n",
    "\n",
    "import pymongo as pm\n",
    "from collections import Counter\n",
    "import json\n",
    "import re\n",
    "import ast\n",
    "\n",
    "from PIL import Image, ImageOps, ImageDraw, ImageFont \n",
    "\n",
    "from io import BytesIO\n",
    "import base64\n",
    "\n",
    "import  matplotlib\n",
    "from matplotlib import pylab, mlab, pyplot\n",
    "%matplotlib inline\n",
    "from IPython.core.pylabtools import figsize, getfigs\n",
    "plt = pyplot\n",
    "import matplotlib as mpl\n",
    "mpl.rcParams['pdf.fonttype'] = 42\n",
    "\n",
    "import seaborn as sns\n",
    "sns.set_context('talk')\n",
    "sns.set_style('darkgrid')\n",
    "\n",
    "from IPython.display import clear_output\n",
    "\n",
    "import warnings\n",
    "warnings.filterwarnings(\"ignore\", category=DeprecationWarning)\n",
    "warnings.filterwarnings(\"ignore\", message=\"numpy.dtype size changed\")\n",
    "warnings.filterwarnings(\"ignore\", message=\"numpy.ufunc size changed\")\n",
    "\n",
    "import blockworld_helpers as utils\n",
    "import drawing_utils as drawing\n",
    "import importlib"
   ]
  },
  {
   "cell_type": "code",
   "execution_count": null,
   "metadata": {},
   "outputs": [],
   "source": [
    "## directory & file hierarchy\n",
    "proj_dir = os.path.abspath('..')\n",
    "datavol_dir = os.path.join(proj_dir,'data')\n",
    "analysis_dir = os.path.abspath(os.path.join(os.getcwd(),'..'))\n",
    "results_dir = os.path.join(proj_dir,'results')\n",
    "plot_dir = os.path.join(results_dir,'plots')\n",
    "csv_dir = os.path.join(results_dir,'csv')\n",
    "json_dir = os.path.join(results_dir,'json')\n",
    "exp_dir = os.path.abspath(os.path.join(proj_dir,'experiments'))\n",
    "png_dir = os.path.abspath(os.path.join(datavol_dir,'png'))\n",
    "jefan_dir = os.path.join(analysis_dir,'jefan')\n",
    "will_dir = os.path.join(analysis_dir,'will')\n",
    "\n",
    "## add helpers to python path\n",
    "if os.path.join(proj_dir,'stimuli') not in sys.path:\n",
    "    sys.path.append(os.path.join(proj_dir,'stimuli'))\n",
    "    \n",
    "if not os.path.exists(results_dir):\n",
    "    os.makedirs(results_dir)\n",
    "    \n",
    "if not os.path.exists(plot_dir):\n",
    "    os.makedirs(plot_dir)   \n",
    "    \n",
    "if not os.path.exists(csv_dir):\n",
    "    os.makedirs(csv_dir)       "
   ]
  },
  {
   "cell_type": "markdown",
   "metadata": {},
   "source": [
    "## Load Data"
   ]
  },
  {
   "cell_type": "code",
   "execution_count": null,
   "metadata": {},
   "outputs": [],
   "source": [
    "iteration_name = 'Exp2Pilot2'\n",
    "num_trials = 24 #for sanity checks"
   ]
  },
  {
   "cell_type": "code",
   "execution_count": null,
   "metadata": {},
   "outputs": [],
   "source": [
    "# Data already compiled into dataframes in CogSci 2020 Dataframe Generator\n",
    "\n",
    "# Trial_end data\n",
    "trial_path = os.path.join(csv_dir,'block_silhouette_{}.csv'.format(iteration_name))\n",
    "df = pd.read_csv(trial_path)\n",
    "\n",
    "# # Settled_block data\n",
    "# settled_path = os.path.join(csv_dir,'block_silhouette_settled_{}.csv'.format(iterationName))\n",
    "# dfs = pd.read_csv(settled_path)\n",
    "\n",
    "# # Sanity Check- same participants in each dataset.\n",
    "# df_participants = df.gameID.unique()\n",
    "# dfs_participants = dfs.gameID.unique()\n",
    "# assert collections.Counter(df_participants) == collections.Counter(dfs_participants)\n",
    "\n",
    "# n_before_outliers = len(df_participants)\n",
    "# print(str(n_before_outliers) + ' participants total')"
   ]
  },
  {
   "cell_type": "code",
   "execution_count": null,
   "metadata": {},
   "outputs": [],
   "source": [
    "# Exclude outliers\n",
    "low_scores = df[(df.trialNum == (num_trials-1)) & (df.score == 0)]['gameID'] # people who achieved zero bonus\n",
    "\n",
    "df = df[~df.gameID.isin(low_scores)]\n",
    "#dfs = dfs[~dfs.gameID.isin(low_scores)]\n",
    "\n",
    "n = df.gameID.nunique()\n",
    "print(str(n) + ' participants with score > 0 and full set of trials')\n"
   ]
  },
  {
   "cell_type": "code",
   "execution_count": null,
   "metadata": {
    "scrolled": false
   },
   "outputs": [],
   "source": [
    "importlib.reload(drawing)\n",
    "drawing.draw_all_trials(df, figsize=(10,80))"
   ]
  },
  {
   "cell_type": "code",
   "execution_count": null,
   "metadata": {},
   "outputs": [],
   "source": [
    "d1 = df.groupby(['gameID','condition','phase'])['normedScoreDiscrete'].apply(np.mean)\n",
    "d1 = d1.reset_index()\n",
    "d1"
   ]
  },
  {
   "cell_type": "code",
   "execution_count": null,
   "metadata": {},
   "outputs": [],
   "source": [
    "fig = plt.figure(figsize=(8,6))\n",
    "sns.set_context('poster')\n",
    "sns.set_style('whitegrid', {'legend.frameon':False})\n",
    "c = sns.catplot(x='repetition', \n",
    "                y='normedScoreDiscrete',\n",
    "                hue='condition',\n",
    "                kind='point', \n",
    "                legend=d1,\n",
    "                data=df);\n",
    "plt.ylabel('Accuracy')\n",
    "plt.xlabel('Repetition')\n",
    "#plt.yticks(np.linspace(0.4,1,5))\n",
    "plt.setp(c.ax.lines,linewidth=2)\n",
    "plt.tight_layout()"
   ]
  },
  {
   "cell_type": "code",
   "execution_count": null,
   "metadata": {},
   "outputs": [],
   "source": [
    "fig = plt.figure(figsize=(8,6))\n",
    "sns.set_context('poster')\n",
    "sns.set_style('whitegrid', {'legend.frameon':False})\n",
    "c = sns.barplot(x='repetition', \n",
    "                y='normedScoreDiscrete', \n",
    "                hue='condition', \n",
    "                #kind='point', \n",
    "                #legend=False,\n",
    "                data=df)\n",
    "plt.ylabel('Accuracy')\n",
    "plt.xlabel('Repetition')\n",
    "plt.title('Accuracy by repetition (control repetition 1 happens at same time as repeated repetition 3)\\n',{'fontsize': 16})\n",
    "plt.ylim(0.4,1)\n",
    "plt.tight_layout()\n",
    "plt.legend(bbox_to_anchor=(1.05, 1), loc=2, borderaxespad=0)"
   ]
  },
  {
   "cell_type": "code",
   "execution_count": null,
   "metadata": {},
   "outputs": [],
   "source": [
    "fig = plt.figure(figsize=(8,6))\n",
    "sns.set_context('poster')\n",
    "sns.set_style('whitegrid', {'legend.frameon':False})\n",
    "c = sns.barplot(x='repetition', \n",
    "                y='timeToBuild', \n",
    "                hue='condition', \n",
    "                #kind='point', \n",
    "                #legend=False,\n",
    "                data=df)\n",
    "plt.ylabel('time to build (ms)')\n",
    "plt.xlabel('Repetition')\n",
    "plt.title('Build time by repetition (control repetition 1 happens at same time as repeated repetition 3)\\n',{'fontsize': 16})\n",
    "#plt.ylim(0.4,1)\n",
    "plt.tight_layout()\n",
    "plt.legend(bbox_to_anchor=(1.05, 1), loc=2, borderaxespad=0)"
   ]
  },
  {
   "cell_type": "code",
   "execution_count": null,
   "metadata": {},
   "outputs": [],
   "source": [
    "fig = plt.figure(figsize=(8,6))\n",
    "sns.set_context('poster')\n",
    "sns.set_style('whitegrid', {'legend.frameon':False})\n",
    "c = sns.barplot(x='phase', \n",
    "                y='numBlocks', \n",
    "                hue='condition', \n",
    "                #kind='point', \n",
    "                #legend=False,\n",
    "                data=df);\n",
    "plt.ylabel('Number Blocks Used')\n",
    "plt.xlabel('Phase')\n",
    "#plt.yticks(np.linspace(0.4,1,5))\n",
    "plt.tight_layout()\n",
    "\n",
    "fig = plt.figure(figsize=(8,6))\n",
    "sns.set_context('poster')\n",
    "sns.set_style('whitegrid', {'legend.frameon':False})\n",
    "c = sns.barplot(x='phase', \n",
    "                y='normedScoreDiscrete', \n",
    "                hue='condition', \n",
    "                #kind='point', \n",
    "                #legend=False,\n",
    "                data=df);\n",
    "plt.ylabel('Normed F1 Score')\n",
    "plt.xlabel('Phase')\n",
    "plt.ylim(0.4,1)\n",
    "plt.tight_layout()"
   ]
  },
  {
   "cell_type": "code",
   "execution_count": null,
   "metadata": {},
   "outputs": [],
   "source": [
    "subject_means_by_condition = df.groupby(['gameID','condition']).mean()\n",
    "condition_means = subject_means_by_condition.groupby('condition')['normedScore'].mean()\n",
    "\n",
    "subject_scores_by_condition = subject_means_by_condition['normedScore']\n",
    "\n",
    "fig = plt.figure(figsize=(8,6))\n",
    "sns.set_context('poster')\n",
    "sns.set_style('whitegrid', {'legend.frameon':False})\n",
    "c = sns.catplot(x='condition', \n",
    "                y='normedScore', \n",
    "                hue='gameID', \n",
    "                kind='point', \n",
    "                legend=False,\n",
    "                data=df);\n",
    "plt.ylabel('Normed F1 score')\n",
    "plt.xlabel('Condition')\n",
    "plt.yticks(np.linspace(0.4,1,5))\n",
    "plt.setp(c.ax.lines,linewidth=2)\n",
    "plt.tight_layout()"
   ]
  },
  {
   "cell_type": "code",
   "execution_count": null,
   "metadata": {},
   "outputs": [],
   "source": []
  }
 ],
 "metadata": {
  "kernelspec": {
   "display_name": "Python 3",
   "language": "python",
   "name": "python3"
  },
  "language_info": {
   "codemirror_mode": {
    "name": "ipython",
    "version": 3
   },
   "file_extension": ".py",
   "mimetype": "text/x-python",
   "name": "python",
   "nbconvert_exporter": "python",
   "pygments_lexer": "ipython3",
   "version": "3.6.8"
  }
 },
 "nbformat": 4,
 "nbformat_minor": 2
}
