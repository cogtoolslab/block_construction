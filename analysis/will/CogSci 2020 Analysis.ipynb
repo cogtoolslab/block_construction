{
 "cells": [
  {
   "cell_type": "markdown",
   "metadata": {},
   "source": [
    "# Block-Silhouette Analysis for CogSci 2020"
   ]
  },
  {
   "cell_type": "markdown",
   "metadata": {},
   "source": [
    "## Import and set up directories"
   ]
  },
  {
   "cell_type": "code",
   "execution_count": null,
   "metadata": {},
   "outputs": [],
   "source": [
    "import os\n",
    "import sys\n",
    "import urllib, io\n",
    "os.getcwd()\n",
    "sys.path.append(\"..\")\n",
    "sys.path.append(\"../utils\")\n",
    "proj_dir = os.path.abspath('../..')\n",
    "\n",
    "if os.path.join(proj_dir,'stimuli') not in sys.path:\n",
    "    sys.path.append(os.path.join(proj_dir,'stimuli'))\n",
    "\n",
    "import numpy as np\n",
    "import scipy.stats as stats\n",
    "import pandas as pd\n",
    "from random import random\n",
    "\n",
    "import pymongo as pm\n",
    "from collections import Counter\n",
    "import json\n",
    "import re\n",
    "import ast\n",
    "\n",
    "from PIL import Image, ImageOps, ImageDraw, ImageFont \n",
    "\n",
    "from io import BytesIO\n",
    "import base64\n",
    "\n",
    "import  matplotlib\n",
    "from matplotlib import pylab, mlab, pyplot\n",
    "%matplotlib inline\n",
    "from IPython.core.pylabtools import figsize, getfigs\n",
    "plt = pyplot\n",
    "import matplotlib as mpl\n",
    "mpl.rcParams['pdf.fonttype'] = 42\n",
    "from matplotlib import colors\n",
    "\n",
    "import seaborn as sns\n",
    "sns.set_context('talk')\n",
    "sns.set_style('darkgrid')\n",
    "\n",
    "from IPython.display import clear_output\n",
    "\n",
    "import warnings\n",
    "warnings.filterwarnings(\"ignore\", category=DeprecationWarning)\n",
    "warnings.filterwarnings(\"ignore\", message=\"numpy.dtype size changed\")\n",
    "warnings.filterwarnings(\"ignore\", message=\"numpy.ufunc size changed\")\n",
    "\n",
    "import blockworld_helpers as utils\n",
    "import drawing_utils as drawing\n",
    "import importlib"
   ]
  },
  {
   "cell_type": "code",
   "execution_count": null,
   "metadata": {},
   "outputs": [],
   "source": [
    "## directory & file hierarchy\n",
    "proj_dir = os.path.abspath('..')\n",
    "datavol_dir = os.path.join(proj_dir,'data')\n",
    "analysis_dir = os.path.abspath(os.path.join(os.getcwd(),'..'))\n",
    "results_dir = os.path.join(proj_dir,'results')\n",
    "plot_dir = os.path.join(results_dir,'plots')\n",
    "csv_dir = os.path.join(results_dir,'csv')\n",
    "json_dir = os.path.join(results_dir,'json')\n",
    "exp_dir = os.path.abspath(os.path.join(proj_dir,'experiments'))\n",
    "png_dir = os.path.abspath(os.path.join(datavol_dir,'png'))\n",
    "jefan_dir = os.path.join(analysis_dir,'jefan')\n",
    "will_dir = os.path.join(analysis_dir,'will')\n",
    "\n",
    "## add helpers to python path\n",
    "if os.path.join(proj_dir,'stimuli') not in sys.path:\n",
    "    sys.path.append(os.path.join(proj_dir,'stimuli'))\n",
    "    \n",
    "if not os.path.exists(results_dir):\n",
    "    os.makedirs(results_dir)\n",
    "    \n",
    "if not os.path.exists(plot_dir):\n",
    "    os.makedirs(plot_dir)   \n",
    "    \n",
    "if not os.path.exists(csv_dir):\n",
    "    os.makedirs(csv_dir)       "
   ]
  },
  {
   "cell_type": "markdown",
   "metadata": {},
   "source": [
    "## Load Data"
   ]
  },
  {
   "cell_type": "code",
   "execution_count": null,
   "metadata": {},
   "outputs": [],
   "source": [
    "iteration_name = 'Exp2Pilot3'\n",
    "num_trials = 24 #for sanity checks"
   ]
  },
  {
   "cell_type": "code",
   "execution_count": null,
   "metadata": {},
   "outputs": [],
   "source": [
    "# Data already compiled into dataframes in CogSci 2020 Dataframe Generator\n",
    "\n",
    "# trial_end data\n",
    "trial_path = os.path.join(csv_dir,'block_silhouette_{}_good.csv'.format(iteration_name))\n",
    "df = pd.read_csv(trial_path)\n",
    "\n",
    "# # initial_block data\n",
    "initial_path = os.path.join(csv_dir,'block_silhouette_initial_{}_good.csv'.format(iteration_name))\n",
    "dfi = pd.read_csv(initial_path)\n",
    "\n",
    "# # settled_block data\n",
    "settled_path = os.path.join(csv_dir,'block_silhouette_settled_{}_good.csv'.format(iteration_name))\n",
    "dfs = pd.read_csv(settled_path)\n",
    "\n",
    "# # Sanity Check- same participants in each dataset.\n",
    "df_participants = df.gameID.unique()\n",
    "dfs_participants = dfs.gameID.unique()\n",
    "assert Counter(df_participants) == Counter(dfs_participants)\n",
    "\n",
    "n_before_outliers = len(df_participants)\n",
    "print(str(n_before_outliers) + ' participants total')"
   ]
  },
  {
   "cell_type": "code",
   "execution_count": null,
   "metadata": {},
   "outputs": [],
   "source": [
    "import analysis_helpers as h\n",
    "importlib.reload(h)\n",
    "Z = h.save_bis(df,csv_dir,iteration_name)"
   ]
  },
  {
   "cell_type": "code",
   "execution_count": null,
   "metadata": {},
   "outputs": [],
   "source": [
    "fig = plt.figure(figsize=(8,6))\n",
    "sns.set_context('poster')\n",
    "sns.set_style('whitegrid', {'legend.frameon':False})\n",
    "c = sns.distplot(df['score'],\n",
    "                rug=True,\n",
    "                kde=False)\n",
    "plt.ylabel('Count')\n",
    "plt.xlabel('Total Bonus')\n",
    "plt.title('Distribution of total bonuses earned\\n',{'fontsize': 14})\n",
    "plt.tight_layout()"
   ]
  },
  {
   "cell_type": "code",
   "execution_count": null,
   "metadata": {},
   "outputs": [],
   "source": [
    "fig = plt.figure(figsize=(10,6))\n",
    "sns.set_context('poster')\n",
    "sns.set_style('whitegrid', {'legend.frameon':False})\n",
    "c = sns.swarmplot(x = 'phase_extended',\n",
    "                  y = 'rawF1DiscreteScore',\n",
    "                  hue = 'condition',\n",
    "                  dodge=True,\n",
    "            data = df)\n",
    "plt.ylabel('Count')\n",
    "plt.xlabel('Total Bonus')\n",
    "#plt.xticks(np.arange(df.gameID.nunique()),[str(n) for n in np.arange(df.gameID.nunique())])\n",
    "plt.title('Distribution of total bonuses earned\\n',{'fontsize': 14})\n",
    "plt.tight_layout()\n"
   ]
  },
  {
   "cell_type": "code",
   "execution_count": null,
   "metadata": {},
   "outputs": [],
   "source": [
    "fig = plt.figure(figsize=(8,6))\n",
    "sns.set_context('poster')\n",
    "sns.set_style('whitegrid', {'legend.frameon':False})\n",
    "c = sns.barplot(x = 'gameID',\n",
    "                y = 'rawF1DiscreteScore',\n",
    "                #hue = 'phase',\n",
    "                #hue = 'repetition',\n",
    "                data = df)\n",
    "plt.xticks(np.arange(df.gameID.nunique()),[str(n) for n in np.arange(df.gameID.nunique())])\n",
    "plt.title('Accuracy by participant\\n',{'fontsize': 14})\n",
    "plt.tight_layout()"
   ]
  },
  {
   "cell_type": "code",
   "execution_count": null,
   "metadata": {},
   "outputs": [],
   "source": [
    "fig = plt.figure(figsize=(8,6))\n",
    "sns.set_context('poster')\n",
    "sns.set_style('whitegrid', {'legend.frameon':False})\n",
    "c = sns.distplot(df['rawF1DiscreteScore'],\n",
    "                rug=True,\n",
    "                kde=False)\n",
    "plt.title('Distribution of Discrete F1 Scores\\n',{'fontsize': 14})\n",
    "plt.tight_layout()\n"
   ]
  },
  {
   "cell_type": "code",
   "execution_count": null,
   "metadata": {},
   "outputs": [],
   "source": [
    "names = df.targetName.unique()\n",
    "names.sort()\n",
    "structure_numbers = list(map(lambda x: x[-2:],names))\n",
    "\n",
    "fig = plt.figure(figsize=(8,6))\n",
    "sns.set_context('poster')\n",
    "sns.set_style('whitegrid', {'legend.frameon':False})\n",
    "c = sns.barplot(x = 'targetName',\n",
    "                y = 'rawF1DiscreteScore',\n",
    "                order = names,\n",
    "                data = df)\n",
    "plt.ylabel('Mean Discrete Score')\n",
    "plt.xlabel('Target ID')\n",
    "plt.xticks(np.arange(len(names)),structure_numbers)\n",
    "plt.title('Discrete F1 Scores by target\\n',{'fontsize': 14})\n",
    "plt.tight_layout()"
   ]
  },
  {
   "cell_type": "code",
   "execution_count": null,
   "metadata": {},
   "outputs": [],
   "source": [
    "fig = plt.figure(figsize=(10,6))\n",
    "sns.set_context('poster')\n",
    "sns.set_style('whitegrid', {'legend.frameon':False})\n",
    "c = sns.swarmplot(x = 'targetNumber',\n",
    "                  y = 'rawF1DiscreteScore',\n",
    "                  hue = 'condition',\n",
    "            data = df)\n",
    "#plt.xticks(np.arange(df.gameID.nunique()),[str(n) for n in np.arange(df.gameID.nunique())])\n",
    "plt.tight_layout()"
   ]
  },
  {
   "cell_type": "code",
   "execution_count": null,
   "metadata": {},
   "outputs": [],
   "source": [
    "# exclude outliers with low mean score\n",
    "remove_outliers = False\n",
    "\n",
    "if remove_outliers:\n",
    "\n",
    "    threshold = 0.7\n",
    "\n",
    "    df_means = df.groupby(by=['gameID'])['rawF1DiscreteScore'].apply(np.mean).reset_index()\n",
    "    low_scores = df_means[df_means.rawF1DiscreteScore< threshold]['gameID'] \n",
    "    df = df[~df.gameID.isin(low_scores)]\n",
    "    dfi = dfi[~dfi.gameID.isin(low_scores)]\n",
    "    dfs = dfs[~dfs.gameID.isin(low_scores)]\n",
    "\n",
    "    n = df.gameID.nunique()\n",
    "    print(str(n) + ' participants with score <'+str(threshold)+' and full set of trials')\n",
    "\n"
   ]
  },
  {
   "cell_type": "code",
   "execution_count": null,
   "metadata": {},
   "outputs": [],
   "source": [
    "# Exclude outliers with low total bonus\n",
    "\n",
    "remove_outliers = False\n",
    "\n",
    "if remove_outliers:\n",
    "\n",
    "    low_scores = df[(df.trialNum == (num_trials-1)) & (df.score == 0)]['gameID'] # people who achieved zero bonus\n",
    "\n",
    "\n",
    "    df = df[~df.gameID.isin(low_scores)]\n",
    "    dfi = dfi[~dfi.gameID.isin(low_scores)]\n",
    "    dfs = dfs[~dfs.gameID.isin(low_scores)]\n",
    "\n",
    "    n = df.gameID.nunique()\n",
    "    print(str(n) + ' participants with score > 0 and full set of trials')\n"
   ]
  },
  {
   "cell_type": "code",
   "execution_count": null,
   "metadata": {},
   "outputs": [],
   "source": [
    "if False:\n",
    "    importlib.reload(drawing)\n",
    "    drawing.draw_all_trials(df, figsize=(20,80))"
   ]
  },
  {
   "cell_type": "code",
   "execution_count": null,
   "metadata": {},
   "outputs": [],
   "source": [
    "fig = plt.figure(figsize=(8,6))\n",
    "sns.set_context('poster')\n",
    "sns.set_style('whitegrid', {'legend.frameon':False})\n",
    "c = sns.barplot(x='phase_extended', \n",
    "                y='rawF1DiscreteScore', \n",
    "                hue='condition', \n",
    "                #kind='point', \n",
    "                #legend=False,\n",
    "                data=df);\n",
    "plt.ylabel('Accuracy (rawF1DiscreteScore)')\n",
    "plt.xlabel('Phase')\n",
    "plt.ylim(0.4,1)\n",
    "plt.xticks(np.arange(4),['pre','rep 1', 'rep 2', 'post'])\n",
    "plt.tight_layout()\n"
   ]
  },
  {
   "cell_type": "code",
   "execution_count": null,
   "metadata": {},
   "outputs": [],
   "source": [
    "fig = plt.figure(figsize=(8,6))\n",
    "sns.set_context('poster')\n",
    "sns.set_style('whitegrid', {'legend.frameon':False})\n",
    "c = sns.swarmplot(y='targetName', \n",
    "                x='trialNum', \n",
    "                hue='condition', \n",
    "                #kind='point', \n",
    "                #legend=False,\n",
    "                data=df[df.phase=='pre']);\n",
    "plt.tight_layout()\n"
   ]
  },
  {
   "cell_type": "code",
   "execution_count": null,
   "metadata": {},
   "outputs": [],
   "source": [
    "fig = plt.figure(figsize=(8,6))\n",
    "sns.set_context('poster')\n",
    "sns.set_style('whitegrid', {'legend.frameon':False})\n",
    "sns.set(style=\"ticks\", rc={\"lines.linewidth\": 2})\n",
    "c = sns.pointplot(x='condition', \n",
    "                y='rawF1DiscreteScore', \n",
    "                hue='targetName', \n",
    "                #kind='point', \n",
    "                #legend=False,\n",
    "                data=df[df.phase=='pre']);\n",
    "plt.ylabel('Accuracy (rawF1DiscreteScore)')\n",
    "plt.xlabel('Condition')\n",
    "plt.ylim(0.4,1)\n",
    "plt.tight_layout()\n",
    "plt.legend(bbox_to_anchor=(1.0,1))"
   ]
  },
  {
   "cell_type": "code",
   "execution_count": null,
   "metadata": {},
   "outputs": [],
   "source": [
    "fig = plt.figure(figsize=(8,6))\n",
    "sns.set_context('poster')\n",
    "sns.set_style('whitegrid', {'legend.frameon':False})\n",
    "sns.set(style=\"ticks\", rc={\"lines.linewidth\": 2})\n",
    "c = sns.pointplot(x='condition', \n",
    "                y='rawF1DiscreteScore', \n",
    "                hue='gameID', \n",
    "                #kind='point', \n",
    "                #legend=False,\n",
    "                data=df[df.phase=='pre']);\n",
    "plt.ylabel('Accuracy (rawF1DiscreteScore)')\n",
    "plt.ylim(0.4,1)\n",
    "plt.tight_layout()\n",
    "plt.legend(bbox_to_anchor=(1.0,1))"
   ]
  },
  {
   "cell_type": "code",
   "execution_count": null,
   "metadata": {},
   "outputs": [],
   "source": [
    "# Accuracy by phase\n",
    "fig = plt.figure(figsize=(7,6))\n",
    "sns.set_context('poster')\n",
    "sns.set(font_scale=2)\n",
    "sns.set(style='whitegrid', rc={\"lines.linewidth\": 4})\n",
    "c = sns.lineplot(x='phase_number', \n",
    "                y='rawF1DiscreteScore', \n",
    "                #hue='condition',\n",
    "                #style='condition',\n",
    "                #style_order=['repeated','control'],\n",
    "                #kind='point', \n",
    "                #legend=False,]\n",
    "                #data=df[~df.blockFell]);\n",
    "                #data=df[~df.blockFell]);\n",
    "                data=df)\n",
    "plt.xticks(np.arange(4),['pre','rep 1', 'rep 2', 'post'])\n",
    "c.set(xlabel='Phase', ylabel='F1 Score')\n",
    "plt.yticks(np.linspace(0.7,0.9,5))\n",
    "plt.ylim((0.7,0.9))\n",
    "plt.tight_layout()"
   ]
  },
  {
   "cell_type": "code",
   "execution_count": null,
   "metadata": {},
   "outputs": [],
   "source": [
    "# Accuracy by phase\n",
    "fig = plt.figure(figsize=(8,6))\n",
    "sns.set_context('poster')\n",
    "sns.set_style('whitegrid', {'legend.frameon':False})\n",
    "c = sns.lineplot(x='phase_number', \n",
    "                y='rawF1DiscreteScore', \n",
    "                hue='condition',\n",
    "                style='condition',\n",
    "                style_order=['repeated','control'],\n",
    "                #kind='point', \n",
    "                #legend=False,]\n",
    "                #data=df[~df.blockFell]);\n",
    "                #data=df[~df.blockFell]);\n",
    "                data=df);\n",
    "plt.ylabel('Accuracy (rawF1DiscreteScore)')\n",
    "plt.xlabel('Phase')\n",
    "plt.xticks(np.arange(4),['pre','rep 1', 'rep 2', 'post'])\n",
    "#plt.yticks(np.linspace(.4,1,5))\n",
    "#plt.ylim((0.65,0.95))\n",
    "plt.tight_layout()\n",
    "plt.legend(bbox_to_anchor=(1.0,1))"
   ]
  },
  {
   "cell_type": "code",
   "execution_count": null,
   "metadata": {},
   "outputs": [],
   "source": [
    "#Mean number of trials with blocks falling\n",
    "\n",
    "df_block_fell_means = df.groupby(by=['gameID','phase_extended'])['blockFell'].agg(np.mean).reset_index()\n",
    "\n",
    "\n",
    "#perfect scores over time\n",
    "fig = plt.figure(figsize=(8,6))\n",
    "sns.set_context('poster')\n",
    "sns.set_style('whitegrid', {'legend':False})\n",
    "sns.set(style=\"ticks\", rc={\"lines.linewidth\": 0.7})\n",
    "c = sns.barplot(x='phase_extended', \n",
    "                y='blockFell', \n",
    "                order=['pre','repetition 1','repetition 2','post'],\n",
    "                palette=\"ch:r=-.3,d=.1_r\",\n",
    "                data = df_block_fell_means)\n",
    "c = sns.swarmplot(x='phase_extended', \n",
    "                    y='blockFell',\n",
    "                    order=['pre','repetition 1','repetition 2','post'],\n",
    "                    dodge=True,\n",
    "                    palette=\"ch:r=-.3,d=.15_r\",\n",
    "                    data = df_block_fell_means)"
   ]
  },
  {
   "cell_type": "code",
   "execution_count": null,
   "metadata": {},
   "outputs": [],
   "source": [
    "df_block_fell_means['blockFell'].value_counts()"
   ]
  },
  {
   "cell_type": "markdown",
   "metadata": {},
   "source": [
    "### Exploration into why F1 seems higher for repeated"
   ]
  },
  {
   "cell_type": "code",
   "execution_count": null,
   "metadata": {},
   "outputs": [],
   "source": [
    "# Accuracy by phase\n",
    "fig = plt.figure(figsize=(10,6))\n",
    "sns.set_context('poster')\n",
    "sns.set_style('whitegrid', {'legend.frameon':False})\n",
    "c = sns.lineplot(x='phase_number', \n",
    "                y='rawF1DiscreteScore', \n",
    "                hue='targetName',\n",
    "                style='condition',\n",
    "                ci = None,\n",
    "                #style_order=['repeated','control'],\n",
    "                #kind='point', \n",
    "                #legend=False,\n",
    "                data=df);\n",
    "plt.ylabel('Accuracy (rawF1DiscreteScore)')\n",
    "plt.xlabel('Phase')\n",
    "plt.xticks(np.arange(4),['pre','rep 1', 'rep 2', 'post'])\n",
    "#plt.yticks(np.linspace(0.4,1,5))\n",
    "plt.tight_layout()\n",
    "plt.legend(bbox_to_anchor=(1.0,1))"
   ]
  },
  {
   "cell_type": "code",
   "execution_count": null,
   "metadata": {},
   "outputs": [],
   "source": [
    "# def target_plot(df, x=  **kwargs):\n",
    "#     sns.lineplot(df, x=, **kwargs)\n",
    "\n",
    "# g = sns.FacetGrid(tips, col=\"sex\", height=4)\n",
    "# g.map(quantile_plot, \"total_bill\");\n",
    "\n",
    "df['targetNumber'] = df['targetName'].apply(lambda x: x[-2:])\n",
    "\n",
    "sns.set_style('whitegrid')\n",
    "fig = plt.figure(figsize=(10,6))\n",
    "g = sns.FacetGrid(df, col=\"targetNumber\", col_wrap=4, height=4, hue=\"condition\")\n",
    "g.map(sns.lineplot, \"phase_number\", \"rawF1DiscreteScore\")"
   ]
  },
  {
   "cell_type": "code",
   "execution_count": null,
   "metadata": {},
   "outputs": [],
   "source": [
    "# def target_plot(df, x=  **kwargs):\n",
    "#     sns.lineplot(df, x=, **kwargs)\n",
    "\n",
    "# g = sns.FacetGrid(tips, col=\"sex\", height=4)\n",
    "# g.map(quantile_plot, \"total_bill\");\n",
    "\n",
    "df['targetNumber'] = df['targetName'].apply(lambda x: x[-2:])\n",
    "\n",
    "sns.set_style('whitegrid')\n",
    "fig = plt.figure(figsize=(10,6))\n",
    "g = sns.FacetGrid(df[(~df.blockFell) & (df.phase.isin(['pre']))], col=\"targetNumber\", col_wrap=4, height=4, hue=\"condition\")\n",
    "#g.map(sns.lineplot, \"phase\", \"rawF1DiscreteScore\");\n",
    "g.map(plt.hist, \"rawF1DiscreteScore\", density=True, bins=8, alpha=0.5)\n",
    "plt.legend(bbox_to_anchor=(1.0,1))"
   ]
  },
  {
   "cell_type": "code",
   "execution_count": null,
   "metadata": {},
   "outputs": [],
   "source": [
    "# Number of blocks\n",
    "\n",
    "#df[df.condition=='control']['targetName'].value_counts()\n",
    "df[df.condition=='repeated']['targetName'].value_counts()"
   ]
  },
  {
   "cell_type": "code",
   "execution_count": null,
   "metadata": {},
   "outputs": [],
   "source": [
    "# Accuracy by phase\n",
    "fig = plt.figure(figsize=(10,6))\n",
    "sns.set_context('poster')\n",
    "sns.set_style('whitegrid', {'legend.frameon':False})\n",
    "c = sns.lineplot(x='trialNum', \n",
    "                y='rawF1DiscreteScore', \n",
    "                hue='condition',\n",
    "                style='condition',\n",
    "                style_order=['repeated','control'],\n",
    "                #kind='point', \n",
    "                #legend=False,\n",
    "                data=df[df.phase=='pre']);\n",
    "plt.ylabel('Accuracy (rawF1DiscreteScore)')\n",
    "plt.xlabel('Trial')\n",
    "#plt.xticks(np.arange(4),['pre','rep 1', 'rep 2', 'post'])\n",
    "#plt.yticks(np.linspace(0.4,1,5))\n",
    "plt.tight_layout()\n",
    "\n",
    "sns.set(style=\"ticks\", rc={\"lines.linewidth\": 1})\n",
    "sns.scatterplot(x='trialNum', \n",
    "                y='rawF1DiscreteScore', \n",
    "                hue='condition',\n",
    "                #kind='point', \n",
    "                #legend=False,\n",
    "                data=df[df.phase=='pre']);"
   ]
  },
  {
   "cell_type": "code",
   "execution_count": null,
   "metadata": {},
   "outputs": [],
   "source": []
  },
  {
   "cell_type": "code",
   "execution_count": null,
   "metadata": {},
   "outputs": [],
   "source": [
    "# Accuracy by phase\n",
    "fig = plt.figure(figsize=(10,6))\n",
    "sns.set_context('poster')\n",
    "sns.set_style('whitegrid', {'legend.frameon':False})\n",
    "c = sns.lineplot(x='trialNum', \n",
    "                y='rawF1DiscreteScore', \n",
    "                hue='condition',\n",
    "                style='condition',\n",
    "                style_order=['repeated','control'],\n",
    "                #kind='point', \n",
    "                #legend=False,\n",
    "                data=df);\n",
    "plt.ylabel('Accuracy (rawF1DiscreteScore)')\n",
    "plt.xlabel('Trial')\n",
    "#plt.xticks(np.arange(4),['pre','rep 1', 'rep 2', 'post'])\n",
    "#plt.yticks(np.linspace(0.4,1,5))\n",
    "plt.tight_layout()\n",
    "\n",
    "sns.set(style=\"ticks\", rc={\"lines.linewidth\": 1})\n",
    "sns.scatterplot(x='trialNum', \n",
    "                y='rawF1DiscreteScore', \n",
    "                hue='condition',\n",
    "                #kind='point', \n",
    "                #legend=False,\n",
    "                data=df);"
   ]
  },
  {
   "cell_type": "code",
   "execution_count": null,
   "metadata": {},
   "outputs": [],
   "source": []
  },
  {
   "cell_type": "code",
   "execution_count": null,
   "metadata": {},
   "outputs": [],
   "source": [
    "fig = plt.figure(figsize=(8,6))\n",
    "sns.set(style=\"ticks\", rc={\"lines.linewidth\": 0.5})\n",
    "sns.set_context('poster')\n",
    "sns.set_style('whitegrid', {'legend.frameon':False})\n",
    "c = sns.barplot(x='trialNum', \n",
    "                y='rawF1DiscreteScore', \n",
    "                hue='condition', \n",
    "                #kind='point', \n",
    "                #legend=False,\n",
    "                data=df);\n",
    "plt.ylabel('Accuracy (rawF1DiscreteScore)')\n",
    "plt.ylim(0.4,1)\n",
    "plt.tight_layout()\n"
   ]
  },
  {
   "cell_type": "code",
   "execution_count": null,
   "metadata": {},
   "outputs": [],
   "source": [
    "#double check that repeated condition isn't coming after control\n",
    "\n",
    "fig = plt.figure(figsize=(8,6))\n",
    "sns.set_context('poster')\n",
    "sns.set_style('whitegrid', {'legend.frameon':False})\n",
    "c = sns.pointplot(x='condition', \n",
    "                y='trialNum', \n",
    "                #hue='condition',\n",
    "                #kind='point', \n",
    "                #legend=False,\n",
    "                data=df[df.phase=='pre']);\n",
    "\n",
    "#plt.yticks(np.linspace(0.4,1,5))\n",
    "plt.tight_layout()"
   ]
  },
  {
   "cell_type": "code",
   "execution_count": null,
   "metadata": {},
   "outputs": [],
   "source": [
    "df_pre = df[df.phase=='pre']\n",
    "df_grouped_pre = df_pre.groupby(by=['gameID','condition'])['rawF1DiscreteScore'].apply(np.mean).reset_index()\n",
    "\n",
    "df_grouped_pre_wide = df_grouped_pre.pivot(index='gameID', columns='condition',values='rawF1DiscreteScore')\n",
    "\n",
    "\n",
    "# Build Time over trials\n",
    "fig = plt.figure(figsize=(10,10))\n",
    "sns.set_context('poster')\n",
    "sns.set_style('whitegrid', {'legend':False})\n",
    "#sns.set(style=\"ticks\", rc={\"lines.linewidth\": 0.7})\n",
    "c = sns.scatterplot(x='control', \n",
    "                    y='repeated', \n",
    "                    #hue='repeated',\n",
    "                    #size= 'numBlocks',\n",
    "                    #sizes=(16,16),\n",
    "                    linewidth=0,\n",
    "                    #palette=\"ch:r=-.3,d=.1_r\",\n",
    "                    #kind='point', \n",
    "                    data=df_grouped_pre_wide)\n"
   ]
  },
  {
   "cell_type": "code",
   "execution_count": null,
   "metadata": {},
   "outputs": [],
   "source": [
    "# Individual accuracy, pre- vs. post-\n",
    "\n",
    "fig = plt.figure(figsize=(8,6))\n",
    "sns.set_context('poster')\n",
    "sns.set_style('whitegrid', {'legend':False})\n",
    "sns.set(style=\"ticks\", rc={\"lines.linewidth\": 0.7})\n",
    "c = sns.pointplot(x='phase', \n",
    "                  y='rawF1DiscreteScore', \n",
    "                  hue='gameID',\n",
    "                  legend=False,\n",
    "                  #kind='point', \n",
    "                  size = 0.3,\n",
    "                  data=df[df.phase.isin(['pre','post'])])\n",
    "#plt.yticks(np.linspace(0.4,1,5))\n",
    "c.get_legend().set_visible(False)\n"
   ]
  },
  {
   "cell_type": "code",
   "execution_count": null,
   "metadata": {},
   "outputs": [],
   "source": [
    "# Individual accuracy, all phases\n",
    "\n",
    "fig = plt.figure(figsize=(8,6))\n",
    "sns.set_context('poster')\n",
    "sns.set_style('whitegrid', {'legend':False})\n",
    "sns.set(style=\"ticks\", rc={\"lines.linewidth\": 0.7})\n",
    "c = sns.pointplot(x='phase_extended', \n",
    "                  y='rawF1DiscreteScore', \n",
    "                  hue='gameID',\n",
    "                  legend=False,\n",
    "                  #kind='point', \n",
    "                  size = 0.3,\n",
    "                  data=df)\n",
    "#plt.yticks(np.linspace(0.4,1,5))\n",
    "c.get_legend().set_visible(False)"
   ]
  },
  {
   "cell_type": "markdown",
   "metadata": {},
   "source": [
    "## Number of blocks"
   ]
  },
  {
   "cell_type": "code",
   "execution_count": null,
   "metadata": {},
   "outputs": [],
   "source": [
    "# Number of blocks placed by phase\n",
    "# Should we control for fallen structures? \n",
    "\n",
    "fig = plt.figure(figsize=(8,6))\n",
    "sns.set_context('poster')\n",
    "sns.set_style('whitegrid', {'legend.frameon':False})\n",
    "sns.set(style=\"ticks\", rc={\"lines.linewidth\": 1.5})\n",
    "c = sns.lineplot(x='phase_number', \n",
    "                y='numBlocks', \n",
    "                hue='condition',\n",
    "                #style='condition',\n",
    "                #style_order=['repeated','control'],\n",
    "                #data=df[df.blockFell == False]);\n",
    "                data=df);\n",
    "plt.ylabel('numBlocks')\n",
    "plt.xlabel('Phase')\n",
    "plt.xticks(np.arange(4),['pre','rep 1', 'rep 2', 'post'])\n",
    "#plt.yticks(np.linspace(0.4,1,5))\n",
    "plt.tight_layout()"
   ]
  },
  {
   "cell_type": "code",
   "execution_count": null,
   "metadata": {},
   "outputs": [],
   "source": [
    "# Number of blocks placed by phase\n",
    "# Should we control for fallen structures? \n",
    "\n",
    "fig = plt.figure(figsize=(8,6))\n",
    "sns.set_context('poster')\n",
    "sns.set_style('whitegrid', {'legend.frameon':False})\n",
    "sns.set(style=\"ticks\", rc={\"lines.linewidth\": 1.5})\n",
    "c = sns.lineplot(x='phase_number', \n",
    "                y='numBlocks', \n",
    "                hue='blockFell',\n",
    "                #style='condition',\n",
    "                #style_order=['repeated','control'],\n",
    "                #data=df[df.blockFell == False]);\n",
    "                data=df);\n",
    "plt.ylabel('numBlocks')\n",
    "plt.xlabel('Phase')\n",
    "plt.xticks(np.arange(4),['pre','rep 1', 'rep 2', 'post'])\n",
    "#plt.yticks(np.linspace(0.4,1,5))\n",
    "plt.tight_layout()"
   ]
  },
  {
   "cell_type": "code",
   "execution_count": null,
   "metadata": {},
   "outputs": [],
   "source": [
    "# Individual block use pre- and post- \n",
    "\n",
    "fig = plt.figure(figsize=(8,6))\n",
    "sns.set_context('poster')\n",
    "sns.set_style('whitegrid', {'legend':False})\n",
    "sns.set(style=\"ticks\", rc={\"lines.linewidth\": 0.7})\n",
    "c = sns.pointplot(x='phase', \n",
    "                  y='numBlocks', \n",
    "                  hue='gameID',\n",
    "                  legend=False,\n",
    "                  #kind='point', \n",
    "                  size = 0.3,\n",
    "                  data=df[df.phase.isin(['pre','post'])])\n",
    "#plt.yticks(np.linspace(0.4,1,5))\n",
    "c.get_legend().set_visible(False)"
   ]
  },
  {
   "cell_type": "code",
   "execution_count": null,
   "metadata": {},
   "outputs": [],
   "source": [
    "# Individual block use, all phases\n",
    "\n",
    "fig = plt.figure(figsize=(8,6))\n",
    "sns.set_context('poster')\n",
    "sns.set_style('whitegrid', {'legend':False})\n",
    "sns.set(style=\"ticks\", rc={\"lines.linewidth\": 0.7})\n",
    "c = sns.pointplot(x='phase_extended', \n",
    "                  y='numBlocks', \n",
    "                  hue='gameID',\n",
    "                  legend=False,\n",
    "                  #kind='point', \n",
    "                  size = 0.3,\n",
    "                  data=df)\n",
    "#plt.yticks(np.linspace(0.4,1,5))\n",
    "c.get_legend().set_visible(False)"
   ]
  },
  {
   "cell_type": "markdown",
   "metadata": {},
   "source": [
    "### Area covered"
   ]
  },
  {
   "cell_type": "code",
   "execution_count": null,
   "metadata": {},
   "outputs": [],
   "source": [
    "# add area over time\n",
    "world_maps = df['discreteWorld'].apply(lambda a: 1+(-1)*np.array(ast.literal_eval(a)))\n",
    "df['area_covered'] = world_maps.apply(np.sum)"
   ]
  },
  {
   "cell_type": "code",
   "execution_count": null,
   "metadata": {},
   "outputs": [],
   "source": [
    "# Number of blocks placed by phase\n",
    "# Should we control for fallen structures? \n",
    "\n",
    "fig = plt.figure(figsize=(8,6))\n",
    "sns.set_context('poster')\n",
    "sns.set_style('whitegrid', {'legend.frameon':False})\n",
    "sns.set(style=\"ticks\", rc={\"lines.linewidth\": 1.5})\n",
    "c = sns.lineplot(x='phase_number', \n",
    "                y='area_covered', \n",
    "                hue='condition',\n",
    "                style='condition',\n",
    "                style_order=['repeated','control'],\n",
    "                #data=df[df.blockFell == False]);\n",
    "                data=df);\n",
    "plt.xlabel('Phase')\n",
    "plt.xticks(np.arange(4),['pre','rep 1', 'rep 2', 'post'])\n",
    "#plt.yticks(np.linspace(0.4,1,5))\n",
    "plt.tight_layout()"
   ]
  },
  {
   "cell_type": "markdown",
   "metadata": {},
   "source": [
    "## Build Time"
   ]
  },
  {
   "cell_type": "code",
   "execution_count": null,
   "metadata": {},
   "outputs": [],
   "source": [
    "fig = plt.figure(figsize=(8,6))\n",
    "sns.set_context('poster')\n",
    "sns.set_style('whitegrid', {'legend.frameon':False})\n",
    "c = sns.pointplot(x='phase', \n",
    "                y='timeToBuild', \n",
    "                hue='perfectScore', \n",
    "                #kind='point', \n",
    "                #legend=False,\n",
    "                data=df[df.phase.isin(['pre','post'])])\n",
    "plt.ylabel('time to build (ms)')\n",
    "plt.xlabel('Repetition')\n",
    "plt.title('Build time by repetition (control repetition 1 happens at same time as repeated repetition 3)\\n',{'fontsize': 16})\n",
    "#plt.ylim(0.4,1)\n",
    "plt.tight_layout()\n",
    "plt.legend(bbox_to_anchor=(1.05, 1), loc=2, borderaxespad=0)"
   ]
  },
  {
   "cell_type": "code",
   "execution_count": null,
   "metadata": {},
   "outputs": [],
   "source": [
    "fig = plt.figure(figsize=(8,6))\n",
    "sns.set_context('poster')\n",
    "sns.set_style('whitegrid', {'legend.frameon':False})\n",
    "c = sns.scatterplot(x='rawF1DiscreteScore', \n",
    "                y='jaccardDiscrete', \n",
    "                #hue='condition', \n",
    "                #kind='point', \n",
    "                #legend=False,\n",
    "                data=df)\n",
    "plt.ylabel('Jaccard')\n",
    "plt.xlabel('rawF1DiscreteScore (new)')\n",
    "plt.title('Jaccard vs. F1 score',{'fontsize': 16})\n",
    "#plt.ylim(0.4,1)\n",
    "plt.tight_layout()\n"
   ]
  },
  {
   "cell_type": "code",
   "execution_count": null,
   "metadata": {},
   "outputs": [],
   "source": [
    "# Build Time over phase\n",
    "\n",
    "fig = plt.figure(figsize=(8,6))\n",
    "sns.set_context('poster')\n",
    "sns.set_style('whitegrid', {'legend':False})\n",
    "sns.set(style=\"ticks\", rc={\"lines.linewidth\": 0.7})\n",
    "c = sns.pointplot(x='phase_extended', \n",
    "                  y='buildTime', \n",
    "                  hue='gameID',\n",
    "                  legend=False,\n",
    "                  #kind='point', \n",
    "                  size = 0.3,\n",
    "                  data=df)\n",
    "#plt.yticks(np.linspace(0.4,1,5))\n",
    "c.get_legend().set_visible(False)"
   ]
  },
  {
   "cell_type": "code",
   "execution_count": null,
   "metadata": {},
   "outputs": [],
   "source": []
  },
  {
   "cell_type": "code",
   "execution_count": null,
   "metadata": {},
   "outputs": [],
   "source": [
    "# Build Time over trials\n",
    "fig = plt.figure(figsize=(8,6))\n",
    "sns.set_context('poster')\n",
    "sns.set_style('whitegrid', {'legend':False})\n",
    "sns.set(style=\"ticks\", rc={\"lines.linewidth\": 0.7})\n",
    "c = sns.pointplot(x='phase', \n",
    "                  y='buildTime', \n",
    "                  hue='blockFell',\n",
    "                  legend=False,\n",
    "                  #kind='point', \n",
    "                  size = 0.3,\n",
    "                  data=df[df.phase.isin(['pre','post'])])\n",
    "#plt.yticks(np.linspace(0.4,1,5))\n",
    "#c.get_legend().set_visible(False)"
   ]
  },
  {
   "cell_type": "code",
   "execution_count": null,
   "metadata": {},
   "outputs": [],
   "source": [
    "# Build Time over trials\n",
    "fig = plt.figure(figsize=(8,6))\n",
    "sns.set_context('poster')\n",
    "sns.set_style('whitegrid', {'legend':False})\n",
    "sns.set(style=\"ticks\", rc={\"lines.linewidth\": 0.7})\n",
    "c = sns.pointplot(x='phase', \n",
    "                  y='buildTime', \n",
    "                  #hue='perfectScore',\n",
    "                  legend=False,\n",
    "                  #kind='point', \n",
    "                  size = 0.3,\n",
    "                  data=df[(df.phase.isin(['pre','post']))])\n",
    "#plt.yticks(np.linspace(0.4,1,5))\n",
    "#c.get_legend().set_visible(False)"
   ]
  },
  {
   "cell_type": "code",
   "execution_count": null,
   "metadata": {},
   "outputs": [],
   "source": [
    "# Individual block use pre- and post- \n",
    "\n",
    "fig = plt.figure(figsize=(8,6))\n",
    "sns.set_context('poster')\n",
    "sns.set_style('whitegrid', {'legend':False})\n",
    "sns.set(style=\"ticks\", rc={\"lines.linewidth\": 0.7})\n",
    "c = sns.pointplot(x='phase', \n",
    "                  y='buildTime', \n",
    "                  hue='gameID',\n",
    "                  legend=False,\n",
    "                  #kind='point', \n",
    "                  size = 0.3,\n",
    "                  data=df[df.phase.isin(['pre','post'])])\n",
    "#plt.yticks(np.linspace(0.4,1,5))\n",
    "c.get_legend().set_visible(False)"
   ]
  },
  {
   "cell_type": "code",
   "execution_count": null,
   "metadata": {},
   "outputs": [],
   "source": [
    "fig = plt.figure(figsize=(10,6))\n",
    "sns.set_context('poster')\n",
    "sns.set_style('whitegrid', {'legend':False})\n",
    "sns.set(style=\"ticks\", rc={\"lines.linewidth\": 0.7})\n",
    "g = sns.FacetGrid(df[df.phase.isin(['pre','post'])], col=\"targetNumber\", col_wrap=4, height=4, hue=\"gameID\")\n",
    "g.map(sns.pointplot, \"phase\",\"buildTime\");"
   ]
  },
  {
   "cell_type": "code",
   "execution_count": null,
   "metadata": {},
   "outputs": [],
   "source": [
    "# Build Time over trials\n",
    "fig = plt.figure(figsize=(8,6))\n",
    "sns.set_context('poster')\n",
    "sns.set_style('whitegrid', {'legend':False})\n",
    "sns.set(style=\"ticks\", rc={\"lines.linewidth\": 0.7})\n",
    "c = sns.pointplot(x='phase_extended', \n",
    "                  y='buildTime', \n",
    "                  hue='blockFell',\n",
    "                  legend=False,\n",
    "                  #kind='point', \n",
    "                  size = 0.3,\n",
    "                  data=df)\n",
    "#plt.yticks(np.linspace(0.4,1,5))\n",
    "#c.get_legend().set_visible(False)\n"
   ]
  },
  {
   "cell_type": "code",
   "execution_count": null,
   "metadata": {},
   "outputs": [],
   "source": [
    "# Build Time over trials\n",
    "fig = plt.figure(figsize=(8,6))\n",
    "sns.set_context('poster')\n",
    "sns.set_style('whitegrid', {'legend':False})\n",
    "sns.set(style=\"ticks\", rc={\"lines.linewidth\": 0.7})\n",
    "c = sns.pointplot(x='phase_extended', \n",
    "                  y='buildTime', \n",
    "                  hue='perfectScore',\n",
    "                  legend=False,\n",
    "                  #kind='point', \n",
    "                  size = 0.3,\n",
    "                  data=df[~df.blockFell])\n",
    "#plt.yticks(np.linspace(0.4,1,5))\n",
    "#c.get_legend().set_visible(False)\n"
   ]
  },
  {
   "cell_type": "code",
   "execution_count": null,
   "metadata": {},
   "outputs": [],
   "source": [
    "# Build Time over trials\n",
    "fig = plt.figure(figsize=(8,6))\n",
    "sns.set_context('poster')\n",
    "sns.set_style('whitegrid', {'legend':False})\n",
    "sns.set(style=\"ticks\", rc={\"lines.linewidth\": 0.7})\n",
    "c = sns.pointplot(x='phase_extended', \n",
    "                  y='buildTime', \n",
    "                  hue='condition',\n",
    "                  legend=False,\n",
    "                  #kind='point', \n",
    "                  size = 0.3,\n",
    "                  data=df)\n",
    "#plt.yticks(np.linspace(0.4,1,5))\n",
    "#c.get_legend().set_visible(False)\n"
   ]
  },
  {
   "cell_type": "code",
   "execution_count": null,
   "metadata": {},
   "outputs": [],
   "source": [
    "# Build Time over trials\n",
    "fig = plt.figure(figsize=(8,6))\n",
    "sns.set_context('poster')\n",
    "sns.set_style('whitegrid', {'legend':False})\n",
    "sns.set(style=\"ticks\", rc={\"lines.linewidth\": 0.7})\n",
    "c = sns.pointplot(y='blockFell', \n",
    "                  x='phase_extended',\n",
    "                  #kind='point', \n",
    "                  data=df)\n",
    "#plt.yticks(np.linspace(0.4,1,5))\n",
    "#c.get_legend().set_visible(False)\n"
   ]
  },
  {
   "cell_type": "code",
   "execution_count": null,
   "metadata": {},
   "outputs": [],
   "source": [
    "#perfect scores over time\n",
    "\n",
    "fig = plt.figure(figsize=(8,6))\n",
    "sns.set_context('poster')\n",
    "sns.set_style('whitegrid', {'legend':False})\n",
    "sns.set(style=\"ticks\", rc={\"lines.linewidth\": 0.7})\n",
    "c = sns.countplot(x='phase', hue='perfectScore', data = df)"
   ]
  },
  {
   "cell_type": "code",
   "execution_count": null,
   "metadata": {},
   "outputs": [],
   "source": [
    "df_perfect_score_means = df.groupby(by=['gameID','phase'])['perfectScore'].agg(np.mean).reset_index()\n",
    "\n",
    "#perfect scores over time\n",
    "fig = plt.figure(figsize=(8,6))\n",
    "sns.set_context('poster')\n",
    "sns.set_style('whitegrid', {'legend':False})\n",
    "sns.set(style=\"ticks\", rc={\"lines.linewidth\": 0.7})\n",
    "c = sns.barplot(x='phase', \n",
    "                y='perfectScore', \n",
    "                order=['pre','repeated','post'],\n",
    "                palette=\"ch:r=-.3,d=.1_r\",\n",
    "                data = df_perfect_score_means)\n",
    "c = sns.swarmplot(x='phase', \n",
    "                    order=['pre','repeated','post'],\n",
    "                    dodge=True,\n",
    "                    y='perfectScore',\n",
    "                    palette=\"ch:r=-.3,d=.15_r\",\n",
    "                    data = df_perfect_score_means)"
   ]
  },
  {
   "cell_type": "code",
   "execution_count": null,
   "metadata": {
    "scrolled": true
   },
   "outputs": [],
   "source": [
    "fig = plt.figure(figsize=(8,6))\n",
    "sns.set_context('poster')\n",
    "sns.set_style('whitegrid', {'legend':False})\n",
    "sns.set(style=\"ticks\", rc={\"lines.linewidth\": 0.7})\n",
    "c = sns.pointplot(x='phase', \n",
    "                  y='perfectScore', \n",
    "                  hue='gameID',\n",
    "                  order=['pre','repeated','post'],\n",
    "                  legend=False,\n",
    "                  dodge=True,\n",
    "                  #kind='point', \n",
    "                  size = 0.3,\n",
    "                  data=df_perfect_score_means)\n",
    "#plt.yticks(np.linspace(0.4,1,5))\n",
    "c.get_legend().set_visible(False)"
   ]
  },
  {
   "cell_type": "code",
   "execution_count": null,
   "metadata": {},
   "outputs": [],
   "source": [
    "df_perfect_score_means = df.groupby(by=['gameID','phase_extended'])['perfectScore'].agg(np.mean).reset_index()\n",
    "\n",
    "#perfect scores over time\n",
    "fig = plt.figure(figsize=(8,6))\n",
    "sns.set_context('poster')\n",
    "sns.set_style('whitegrid', {'legend':False})\n",
    "sns.set(style=\"ticks\", rc={\"lines.linewidth\": 0.7})\n",
    "\n",
    "c = sns.swarmplot(x='phase_extended', \n",
    "                    order=['pre','repetition 1','repetition 2','post'],\n",
    "                    dodge=True,\n",
    "                    y='perfectScore',\n",
    "                    palette=\"ch:r=-.25,d=.15_r\",\n",
    "                    data = df_perfect_score_means)\n",
    "c = sns.pointplot(x='phase_extended', \n",
    "                y='perfectScore', \n",
    "                order=['pre','repetition 1','repetition 2','post'],\n",
    "                data = df_perfect_score_means)"
   ]
  },
  {
   "cell_type": "code",
   "execution_count": null,
   "metadata": {},
   "outputs": [],
   "source": [
    "# Accuracy by phase\n",
    "fig = plt.figure(figsize=(8,6))\n",
    "sns.set_context('poster')\n",
    "sns.set_style('whitegrid', {'legend.frameon':False})\n",
    "c = sns.lineplot(x='phase_number', \n",
    "                y='rawF1DiscreteScore', \n",
    "                hue='condition',\n",
    "                style='condition',\n",
    "                style_order=['repeated','control'],\n",
    "                #kind='point', \n",
    "                #legend=False,\n",
    "                data=df[~df.perfectScore]);\n",
    "plt.ylabel('Accuracy (rawF1DiscreteScore)')\n",
    "plt.xlabel('Phase')\n",
    "plt.xticks(np.arange(4),['pre','rep 1', 'rep 2', 'post'])\n",
    "#plt.yticks(np.linspace(.4,1,5))\n",
    "\n",
    "plt.tight_layout()\n",
    "plt.legend(bbox_to_anchor=(1.0,1))"
   ]
  },
  {
   "cell_type": "code",
   "execution_count": null,
   "metadata": {},
   "outputs": [],
   "source": [
    "# Build Time over trials\n",
    "fig = plt.figure(figsize=(8,6))\n",
    "sns.set_context('poster')\n",
    "sns.set_style('whitegrid', {'legend':False})\n",
    "sns.set(style=\"ticks\", rc={\"lines.linewidth\": 0.7})\n",
    "c = sns.pointplot(x='phase_extended', \n",
    "                  y='buildTime', \n",
    "                  legend=False,\n",
    "                  #kind='point', \n",
    "                  size = 0.3,\n",
    "                  data=df[(~df.perfectScore)&(~df.blockFell)])\n",
    "#plt.yticks(np.linspace(0.4,1,5))\n",
    "#c.get_legend().set_visible(False)"
   ]
  },
  {
   "cell_type": "code",
   "execution_count": null,
   "metadata": {},
   "outputs": [],
   "source": [
    "# Score by Build Time\n",
    "fig = plt.figure(figsize=(8,6))\n",
    "sns.set_context('poster')\n",
    "sns.set_style('whitegrid', {'legend':False})\n",
    "sns.set(style=\"ticks\", rc={\"lines.linewidth\": 0.7})\n",
    "c = sns.scatterplot(x='buildTime', \n",
    "                    y='rawF1DiscreteScore', \n",
    "                    style='perfectScore',\n",
    "                    #size= 'numBlocks',\n",
    "                    #sizes=(16,16),\n",
    "                    hue='blockFell',\n",
    "                    linewidth=0,\n",
    "                    #kind='point',\n",
    "                    alpha=0.5,\n",
    "                    data=df)\n",
    "plt.legend(bbox_to_anchor=(1.0,1))\n",
    "#plt.yticks(np.linspace(0.4,1,5))\n",
    "#c.get_legend().set_visible(False)"
   ]
  },
  {
   "cell_type": "code",
   "execution_count": null,
   "metadata": {},
   "outputs": [],
   "source": [
    "fig = plt.figure(figsize=(10,6))\n",
    "sns.set_context('poster')\n",
    "sns.set_style('whitegrid', {'legend':False})\n",
    "sns.set(style=\"ticks\", rc={\"lines.linewidth\": 0.7})\n",
    "c = sns.scatterplot(x='trialNum', \n",
    "                    y='timeToBuild', \n",
    "                    style='perfectScore',\n",
    "                    #size= 'numBlocks',\n",
    "                    #sizes=(16,16),\n",
    "                    hue='rawF1DiscreteScore',\n",
    "                    linewidth=0,\n",
    "                    #kind='point',\n",
    "                    alpha=0.7,\n",
    "                    data=df[df.timeToBuild>60000])\n",
    "plt.legend(bbox_to_anchor=(1.0,1))\n",
    "#plt.yticks(np.linspace(0.4,1,5))\n",
    "#c.get_legend().set_visible(False)"
   ]
  },
  {
   "cell_type": "code",
   "execution_count": null,
   "metadata": {},
   "outputs": [],
   "source": [
    "fig = plt.figure(figsize=(10,6))\n",
    "sns.set_context('poster')\n",
    "sns.set_style('whitegrid', {'legend':False})\n",
    "sns.set(style=\"ticks\", rc={\"lines.linewidth\": 0.7})\n",
    "c = sns.scatterplot(x='trialNum', \n",
    "                    y='timeToBuild', \n",
    "                    style='perfectScore',\n",
    "                    #size= 'numBlocks',\n",
    "                    #sizes=(16,16),\n",
    "                    hue='rawF1DiscreteScore',\n",
    "                    linewidth=0,\n",
    "                    #kind='point',\n",
    "                    alpha=0.7,\n",
    "                    data=df[~df.blockFell])\n",
    "plt.legend(bbox_to_anchor=(1.0,1))\n",
    "#plt.yticks(np.linspace(0.4,1,5))\n",
    "#c.get_legend().set_visible(False)"
   ]
  },
  {
   "cell_type": "code",
   "execution_count": null,
   "metadata": {},
   "outputs": [],
   "source": [
    "fig = plt.figure(figsize=(10,6))\n",
    "sns.set_context('poster')\n",
    "sns.set_style('whitegrid', {'legend':False})\n",
    "sns.set(style=\"ticks\", rc={\"lines.linewidth\": 0.7})\n",
    "c = sns.scatterplot(x='trialNum', \n",
    "                    y='rawF1DiscreteScore', \n",
    "                    style='blockFell',\n",
    "                    #size= 'numBlocks',\n",
    "                    #sizes=(10,30),\n",
    "                    hue='phase_extended',\n",
    "                    linewidth=0,\n",
    "                    #kind='point',\n",
    "                    alpha=0.7,\n",
    "                    data=df)\n",
    "                    #data=df[~df.blockFell])\n",
    "plt.legend(bbox_to_anchor=(1.0,1))\n",
    "#plt.yticks(np.linspace(0.4,1,5))\n",
    "#c.get_legend().set_visible(False)"
   ]
  },
  {
   "cell_type": "markdown",
   "metadata": {},
   "source": [
    "## Block Distributions\n",
    "\n",
    "Here we calculate the probability distributions of using certain block kinds (that is blocks of a certain dimension)\n",
    "\n",
    "A: 1x2, B: 2x1, C: 2x2, D: 2x4, E: 4x2"
   ]
  },
  {
   "cell_type": "code",
   "execution_count": null,
   "metadata": {},
   "outputs": [],
   "source": [
    "#Helper functions\n",
    "\n",
    "def probs(data):\n",
    "    nBlocks = np.sum(data['blockKind'].value_counts())\n",
    "    sums = data['blockKind'].value_counts()\n",
    "    probs = (sums/nBlocks).sort_index().reset_index()\n",
    "    return probs\n",
    "\n",
    "def prob_list(data):\n",
    "    nBlocks = np.sum(data['blockKind'].value_counts())\n",
    "    sums = data['blockKind'].value_counts()\n",
    "    probs = (sums/nBlocks).sort_index()\n",
    "    return probs\n",
    "\n",
    "def block_kind_plot(**kwargs):\n",
    "    data = kwargs.pop(\"data\")\n",
    "    sns.barplot(x='index', \n",
    "                y='blockKind',\n",
    "                #hue='condition', \n",
    "                ci=False,\n",
    "                #kind='point', \n",
    "                #legend=False,\n",
    "                data=probs(data),\n",
    "                **kwargs)\n",
    "    \n",
    "    \n",
    "def block_counts(data):\n",
    "    sums = data['blockKind'].value_counts()\n",
    "    return sums"
   ]
  },
  {
   "cell_type": "code",
   "execution_count": null,
   "metadata": {},
   "outputs": [],
   "source": [
    "prob_list()"
   ]
  },
  {
   "cell_type": "markdown",
   "metadata": {},
   "source": [
    "### Visualize distributions of block kind\n",
    "\n",
    "Note that we would expect some difference between pre and post.\n",
    "People place more blocks.\n",
    "It is likely they are reaching higher parts of the structures, which will require a different distribution of blocks from the lower end of the structures.\n"
   ]
  },
  {
   "cell_type": "markdown",
   "metadata": {},
   "source": [
    "Before normalizing- see if pre is subsumed by post. Using same blockkind distribution plus final blocks"
   ]
  },
  {
   "cell_type": "code",
   "execution_count": null,
   "metadata": {},
   "outputs": [],
   "source": [
    "ppts = np.sort(df['gameID'].unique())\n",
    "targets = np.sort(df['targetName'].unique())\n",
    "\n",
    "block_counts(dfs[(dfs.gameID==ppts[0])&(dfs.targetName==targets[0])&(dfs.phase=='pre')])"
   ]
  },
  {
   "cell_type": "code",
   "execution_count": null,
   "metadata": {},
   "outputs": [],
   "source": [
    "#for each structure\n",
    "#for each participant\n",
    "#take pre and post\n",
    "#do they get more peaky?\n",
    "\n",
    "target_1 = np.zeros(len(ppts))\n",
    "\n"
   ]
  },
  {
   "cell_type": "code",
   "execution_count": null,
   "metadata": {},
   "outputs": [],
   "source": [
    "# pre vs post\n",
    "f = sns.FacetGrid(dfs[dfs.phase.isin(['pre','post'])], col=\"phase\")\n",
    "g = f.map_dataframe(block_kind_plot, palette=\"GnBu\")"
   ]
  },
  {
   "cell_type": "code",
   "execution_count": null,
   "metadata": {},
   "outputs": [],
   "source": [
    "# Compare overall change in blockKind distributions.\n",
    "\n",
    "f = sns.FacetGrid(dfs, col=\"phase\", row=\"condition\")\n",
    "g = f.map_dataframe(block_kind_plot, palette=\"GnBu\").add_legend()\n"
   ]
  },
  {
   "cell_type": "code",
   "execution_count": null,
   "metadata": {},
   "outputs": [],
   "source": [
    "#Compare pre and post for individual structures\n",
    "\n",
    "f = sns.FacetGrid(dfs[dfs.phase.isin(['pre','post'])], row=\"targetName\", col='phase')\n",
    "g = f.map_dataframe(blockKindPlot, palette=\"GnBu\")"
   ]
  },
  {
   "cell_type": "markdown",
   "metadata": {},
   "source": [
    "## Quantify difference: Earth Mover's (Wasserstein) Distance"
   ]
  },
  {
   "cell_type": "code",
   "execution_count": null,
   "metadata": {},
   "outputs": [],
   "source": [
    "#Calculate Earth Mover's (Wasserstein) Distance between distributions of block kinds\n",
    "#What is the difference pre and post?\n",
    "\n",
    "pre_probs = prob_list(dfs[dfs.phase=='pre'])\n",
    "post_probs = prob_list(dfs[dfs.phase=='post'])\n",
    "\n",
    "stats.wasserstein_distance(pre_probs, post_probs)"
   ]
  },
  {
   "cell_type": "markdown",
   "metadata": {},
   "source": [
    "How does this compare to difference between participants, and difference between structures?"
   ]
  },
  {
   "cell_type": "code",
   "execution_count": null,
   "metadata": {},
   "outputs": [],
   "source": [
    "#What are the difference in distribution across participants?\n",
    "ppts = np.sort(df['gameID'].unique())\n",
    "ppt_probs = [prob_list(dfs[dfs.gameID==ppt]) for ppt in ppts]\n",
    "\n",
    "ppt_dists = np.zeros((len(ppts),len(ppts)))\n",
    "\n",
    "for i, ppt1 in enumerate(ppt_probs):\n",
    "    for j, ppt2 in  enumerate(ppt_probs):\n",
    "        ppt_dists[i,j] = stats.wasserstein_distance(ppt1, ppt2)\n",
    "\n",
    "        \n",
    "fig, ax = plt.subplots()\n",
    "ax.imshow(ppt_dists)"
   ]
  },
  {
   "cell_type": "code",
   "execution_count": null,
   "metadata": {},
   "outputs": [],
   "source": [
    "#What are the difference in distribution across structure?\n",
    "\n",
    "targets = np.sort(df['targetName'].unique())\n",
    "target_probs = [prob_list(dfs[dfs.targetName==target]) for target in targets]\n",
    "\n",
    "target_dists = np.zeros((len(targets),len(targets)))\n",
    "\n",
    "for i, target1 in enumerate(target_probs):\n",
    "    for j, target2 in  enumerate(target_probs):\n",
    "        target_dists[i,j] = stats.wasserstein_distance(target1, target2)\n",
    "       \n",
    "fig, ax = plt.subplots()\n",
    "ax.imshow(target_dists)"
   ]
  },
  {
   "cell_type": "code",
   "execution_count": null,
   "metadata": {},
   "outputs": [],
   "source": [
    "t = np.tril(target_dists).flatten()\n",
    "p = np.tril(ppt_dists).flatten()\n",
    "t_filt = t[t>0] #is there a better way to do this that won't remove genuine zero-distance values\n",
    "p_filt = p[p>0] #is there a better way to do this that won't remove genuine zero-distance values\n",
    "sns.distplot(t_filt, kde=True)\n",
    "sns.distplot(p_filt, kde=True)"
   ]
  },
  {
   "cell_type": "code",
   "execution_count": null,
   "metadata": {},
   "outputs": [],
   "source": [
    "# Are participants converging on a small set of solutions?\n",
    "# Is there less between-subject variation in post compared to pre?\n",
    "\n",
    "targets = np.sort(df['targetName'].unique())\n",
    "\n",
    "pre_target_probs = [prob_list(dfs[(dfs.phase=='pre') & (dfs.targetName==target)]) for target in targets]\n",
    "pre_target_dists = np.zeros((len(targets),len(targets)))\n",
    "for i, target1 in enumerate(pre_target_probs):\n",
    "    for j, target2 in  enumerate(pre_target_probs):\n",
    "        pre_target_dists[i,j] = stats.wasserstein_distance(target1, target2)\n",
    "        \n",
    "post_target_probs = [prob_list(dfs[(dfs.phase=='post') & (dfs.targetName==target)]) for target in targets]\n",
    "post_target_dists = np.zeros((len(targets),len(targets)))\n",
    "for i, target1 in enumerate(post_target_probs):\n",
    "    for j, target2 in  enumerate(post_target_probs):\n",
    "        post_target_dists[i,j] = stats.wasserstein_distance(target1, target2)\n",
    "\n",
    "\n",
    "fig = plt.figure(figsize=(12,8))\n",
    "ax = fig.add_subplot(\n",
    "ax.set_title('pre')\n",
    "ax.imshow(pre_target_dists)\n",
    "ax = fig.add_subplot(1, 2, 2)\n",
    "ax.set_title('post')\n",
    "ax.imshow(post_target_dists)\n",
    "\n"
   ]
  },
  {
   "cell_type": "code",
   "execution_count": null,
   "metadata": {},
   "outputs": [],
   "source": [
    "dfs.columns"
   ]
  },
  {
   "cell_type": "markdown",
   "metadata": {},
   "source": [
    "The distance between pre and post (0.013) is pretty small compared to between participants, or between structures"
   ]
  },
  {
   "cell_type": "markdown",
   "metadata": {},
   "source": [
    "## Spatial Distribution"
   ]
  },
  {
   "cell_type": "code",
   "execution_count": null,
   "metadata": {},
   "outputs": [],
   "source": [
    "def showDiscreteMap(data, ax, vmax=None, **kwargs):\n",
    "    world_maps = data.apply(lambda a: 1+(-1)*np.array(ast.literal_eval(a)))\n",
    "    n = world_maps.shape[0]\n",
    "    av_map = np.add.reduce(np.array(world_maps))\n",
    "    av_map = np.rot90(av_map)/n\n",
    "    if ~(vmax==None):\n",
    "        ax.imshow(av_map, \n",
    "                  vmax= vmax,\n",
    "                **kwargs)\n",
    "    else:\n",
    "        ax.imshow(av_map,\n",
    "                **kwargs)\n",
    "    \n",
    "\n",
    "\n",
    "\n",
    "targets = np.sort(df['targetName'].unique())\n",
    "target= targets[2]\n",
    "cmap= 'hot'\n",
    "\n",
    "print(target)\n",
    "\n",
    "fig = plt.figure(figsize=(12,8))\n",
    "ax = fig.add_subplot(2, 2, 1)\n",
    "ax.axis('off')\n",
    "showDiscreteMap(df[(df.targetName==target) & (df.phase=='pre') & (df.condition=='control')]['discreteWorld'], ax, cmap=cmap)\n",
    "ax.set_title('pre, control')\n",
    "\n",
    "ax = fig.add_subplot(2, 2, 2)\n",
    "ax.axis('off')\n",
    "showDiscreteMap(df[(df.targetName==target) & (df.phase=='post') & (df.condition=='control')]['discreteWorld'], ax, cmap=cmap)\n",
    "ax.set_title('post, control')\n",
    "\n",
    "ax = fig.add_subplot(2, 2, 3)\n",
    "ax.axis('off')\n",
    "showDiscreteMap(df[(df.targetName==target) & (df.phase=='pre') & (df.condition=='repeated')]['discreteWorld'], ax, cmap=cmap)\n",
    "ax.set_title('pre, repeated')\n",
    "\n",
    "ax = fig.add_subplot(2, 2, 4)\n",
    "ax.axis('off')\n",
    "showDiscreteMap(df[(df.targetName==target) & (df.phase=='post') & (df.condition=='repeated')]['discreteWorld'], ax, cmap=cmap)\n",
    "ax.set_title('post, repeated')\n",
    "\n",
    "#fig, ax = plt.subplots()\n",
    "#showDiscreteMap(df[(df.targetName=='hand_selected_005') & (df.phase=='post')]['discreteWorld'], ax)"
   ]
  },
  {
   "cell_type": "code",
   "execution_count": null,
   "metadata": {},
   "outputs": [],
   "source": [
    "fig, ax = plt.subplots()\n",
    "ax.axis('off')\n",
    "showDiscreteMap(df[(df.targetName==target) & (df.phase=='pre')]['discreteWorld'], ax, cmap='hot')"
   ]
  },
  {
   "cell_type": "code",
   "execution_count": null,
   "metadata": {},
   "outputs": [],
   "source": [
    "targetMaps = {}\n",
    "\n",
    "with open(os.path.join(csv_dir,'targetMaps.txt')) as json_file:\n",
    "    targetMaps = json.load(json_file)"
   ]
  },
  {
   "cell_type": "code",
   "execution_count": null,
   "metadata": {
    "scrolled": false
   },
   "outputs": [],
   "source": [
    "#Need to unnormalize these??\n",
    "\n",
    "targets = np.sort(df['targetName'].unique())\n",
    "\n",
    "\n",
    "fig = plt.figure(figsize=(10,22))\n",
    "k=1\n",
    "\n",
    "for i, target in enumerate(targets):\n",
    "    \n",
    "    cmap = colors.ListedColormap([[28/255,55/255,62/255],[220/255,220/255,220/255]])\n",
    "    bounds=[0,1,50]\n",
    "    norm = colors.BoundaryNorm(bounds, cmap.N)\n",
    "\n",
    "    ax = fig.add_subplot(len(targets), 3, k)\n",
    "    ax.axis('off')\n",
    "    silhouette = 1*(targetMaps[target])\n",
    "    silhouette = np.rot90(silhouette)\n",
    "    ax.imshow(silhouette, cmap=cmap, norm=norm)\n",
    "    k+=1\n",
    "    \n",
    "    cmap= 'hot'\n",
    "    bounds=[0,1]\n",
    "    norm = mpl.colors.Normalize(vmin=0, vmax=1)\n",
    "    \n",
    "    ax = fig.add_subplot(len(targets), 3, k)\n",
    "    ax.axis('off')\n",
    "    showDiscreteMap(df[(df.targetName==target) & (df.phase=='pre')]['discreteWorld'], ax, cmap=cmap, norm=norm)\n",
    "    #ax.set_title(target + ': pre')\n",
    "    k+=1\n",
    "\n",
    "    ax = fig.add_subplot(len(targets), 3, k)\n",
    "    ax.axis('off')\n",
    "    showDiscreteMap(df[(df.targetName==target) & (df.phase=='post')]['discreteWorld'], ax, cmap=cmap, norm=norm)\n",
    "    #ax.set_title(target + ': post')\n",
    "    k+=1\n",
    "    \n",
    "#4, 6, 9, 11"
   ]
  },
  {
   "cell_type": "code",
   "execution_count": null,
   "metadata": {},
   "outputs": [],
   "source": [
    "im = np.repeat([np.linspace(0,1,500)],repeats=50,axis=0)\n",
    "fig, ax = plt.subplots(figsize=(8, 1))\n",
    "#fig.subplots_adjust(bottom=0.5)\n",
    "cmap = 'hot'\n",
    "ax.imshow(im, cmap=cmap,extent=[0,1,0,0.033])\n",
    "ax.set_yticks([])\n"
   ]
  },
  {
   "cell_type": "code",
   "execution_count": null,
   "metadata": {},
   "outputs": [],
   "source": [
    "fig.savefig('galleryScaled2.pdf')"
   ]
  },
  {
   "cell_type": "code",
   "execution_count": null,
   "metadata": {},
   "outputs": [],
   "source": [
    "cmap = 'hot'\n",
    "#norm = colors.BoundaryNorm(bounds, cmap.N)\n",
    "fig, ax = plt.subplots(figsize=(6, 1))\n",
    "fig.subplots_adjust(bottom=0.5)\n",
    "\n",
    "#cmap = mpl.cm.cool\n",
    "norm = mpl.colors.Normalize(vmin=0, vmax=1)\n",
    "\n",
    "cb1 = mpl.colorbar.ColorbarBase(ax, cmap=cmap,\n",
    "                                norm=norm,\n",
    "                                orientation='horizontal')\n",
    "cb1.set_label('Some Units')\n",
    "fig.show()"
   ]
  },
  {
   "cell_type": "code",
   "execution_count": null,
   "metadata": {},
   "outputs": [],
   "source": [
    "from collections import deque "
   ]
  },
  {
   "cell_type": "code",
   "execution_count": null,
   "metadata": {},
   "outputs": [],
   "source": [
    "q = deque([])"
   ]
  },
  {
   "cell_type": "code",
   "execution_count": null,
   "metadata": {},
   "outputs": [],
   "source": [
    "q.pop()"
   ]
  },
  {
   "cell_type": "code",
   "execution_count": null,
   "metadata": {
    "scrolled": true
   },
   "outputs": [],
   "source": [
    "test = np.array([[100,100,0,100],[100,100,0,100],[100,100,100,100],[100,0,100,100]])\n",
    "fig, ax = plt.subplots()\n",
    "ax.axis('off')\n",
    "ax.imshow(test)"
   ]
  },
  {
   "cell_type": "code",
   "execution_count": null,
   "metadata": {},
   "outputs": [],
   "source": [
    "def getBlockDists(mat, show_fig=False):\n",
    "    n = mat.shape[0] \n",
    "    m = mat.shape[1]\n",
    "    q = deque([])\n",
    "    for i in range(0,n):\n",
    "        for j in range(0,m):\n",
    "            if mat[i,j] == 0:\n",
    "                q.append((i,j,0))\n",
    "    changed=True\n",
    "    while (q):\n",
    "        (i,j,v) = q.popleft()\n",
    "        # check values around square\n",
    "        #xs = [i-1,i,i+1]\n",
    "        #ys = [j-1,j,j+1]\n",
    "        \n",
    "        moves = [(i-1,j),(i+1,j),(i,j+1),(i,j-1)]\n",
    "        \n",
    "        for (x,y) in moves:\n",
    "        #for x in xs:\n",
    "            if (x>=0) & (x<n):\n",
    "            #for y in ys:\n",
    "                if (y>=0) & (y<m):\n",
    "                    if (v+1) < mat[x,y]:\n",
    "                        mat[x,y] = v+1\n",
    "                        q.append((x,y,v+1))\n",
    "    if show_fig:\n",
    "        fig, ax = plt.subplots()\n",
    "        ax.axis('off')\n",
    "        ax.imshow(mat)\n",
    "    return mat\n",
    "              \n",
    "\n",
    "def calculate_distances(data, ax, vmax=None, **kwargs):\n",
    "    world_maps = data.apply(lambda a: 1+(-1)*np.array(ast.literal_eval(a)))\n",
    "    n = world_maps.shape[0]\n",
    "    av_map = np.add.reduce(np.array(world_maps))\n",
    "    av_map = np.rot90(av_map)/n\n",
    "    if ~(vmax==None):\n",
    "        ax.imshow(av_map, \n",
    "                  vmax= vmax,\n",
    "                **kwargs)\n",
    "    else:\n",
    "        ax.imshow(av_map,\n",
    "                **kwargs)\n",
    "\n",
    "        \n",
    "def (data, ax, vmax=None, **kwargs):\n",
    "    '''\n",
    "    given dataframe of structures to sample from \n",
    "    '''"
   ]
  },
  {
   "cell_type": "code",
   "execution_count": null,
   "metadata": {},
   "outputs": [],
   "source": [
    "# Calculate square dists\n",
    "\n",
    "targets = np.sort(df['targetName'].unique()) \n",
    "#dists = np.zeros((13,18,8))\n",
    "dists_squared = {}\n",
    "\n",
    "for i, target in enumerate(targets):\n",
    "    # get silhouettes\n",
    "    silhouette = (1*np.logical_not(targetMaps[target])-1)*(-100)\n",
    "    silhouette = np.rot90(silhouette)\n",
    "    #print(silhouette)\n",
    "    # get city block distances\n",
    "    silhouette_dists = getBlockDists(silhouette, show_fig=True)\n",
    "    #dists[:,:,i] = silhouette_dists\n",
    "    dists_squared[target] = np.square(silhouette_dists)"
   ]
  },
  {
   "cell_type": "code",
   "execution_count": null,
   "metadata": {
    "scrolled": false
   },
   "outputs": [],
   "source": [
    "cmap= 'hot'\n",
    "\n",
    "n = df['gameID'].nunique()\n",
    "nIters = 1\n",
    "all_mean_delta_errors = np.zeros(nIters)\n",
    "random_state_i = 0\n",
    "for i in range(0,nIters):\n",
    "    \n",
    "    all_delta_errors = np.zeros(8)\n",
    "    \n",
    "    for j, target in enumerate(targets):\n",
    "        random_state_i += 1\n",
    "        pre_random_state = random_state_i\n",
    "        random_state_i += 1\n",
    "        post_random_state = random_state_i\n",
    "        \n",
    "        pre_reconstructions = df[(df.targetName==target) & (df.phase=='pre')]['discreteWorld']\n",
    "        pre_sample = pre_reconstructions.sample(n=n, random_state=pre_random_state, replace=True)\n",
    "        pre_maps = pre_sample.apply(lambda a: 1+(-1)*np.array(ast.literal_eval(a)))\n",
    "        pre_hm_rotated = np.add.reduce(np.array(pre_maps))\n",
    "        pre_hm = np.rot90(pre_hm_rotated)/n\n",
    "        pre_errors = np.multiply(pre_hm,dists_squared[target])\n",
    "        \n",
    "        post_reconstructions = df[(df.targetName==target) & (df.phase=='post')]['discreteWorld']\n",
    "        post_sample = post_reconstructions.sample(n=n, random_state=post_random_state,replace=True)\n",
    "        post_maps = post_sample.apply(lambda a: 1+(-1)*np.array(ast.literal_eval(a)))\n",
    "        post_hm_rotated = np.add.reduce(np.array(post_maps))\n",
    "        post_hm = np.rot90(post_hm_rotated)/n\n",
    "        post_errors = np.multiply(post_hm,dists_squared[target])\n",
    "        \n",
    "        fig, ax = plt.subplots()\n",
    "        ax.axis('off')\n",
    "        ax.imshow(pre_errors, cmap = cmap)\n",
    "        fig, ax = plt.subplots()\n",
    "        ax.axis('off')\n",
    "        ax.imshow(post_errors, cmap = cmap)"
   ]
  },
  {
   "cell_type": "code",
   "execution_count": null,
   "metadata": {
    "scrolled": true
   },
   "outputs": [],
   "source": [
    "# Caclulate cityblock distances\n",
    "# randomly sample 49 reconstructions, 2*1000 times\n",
    "\n",
    "# random_reconstructions(target_reconstructions, n=None):\n",
    "#     if n == None:\n",
    "#         n = data.shape[0]\n",
    "\n",
    "\n",
    "n = df['gameID'].nunique()\n",
    "nIters = 1000\n",
    "all_mean_delta_errors = np.zeros(nIters)\n",
    "random_state_i = 0\n",
    "for i in range(0,nIters):\n",
    "    \n",
    "    all_delta_errors = np.zeros(8)\n",
    "    \n",
    "    for j, target in enumerate(targets):\n",
    "        random_state_i += 1\n",
    "        pre_random_state = random_state_i\n",
    "        post_random_state = random_state_i\n",
    "        \n",
    "        pre_reconstructions = df[(df.targetName==target) & (df.phase=='pre')].sort_values('gameID')['discreteWorld']\n",
    "        pre_sample = pre_reconstructions.sample(n=n, random_state=pre_random_state, replace=True)\n",
    "        pre_maps = pre_sample.apply(lambda a: 1+(-1)*np.array(ast.literal_eval(a)))\n",
    "        pre_hm_rotated = np.add.reduce(np.array(pre_maps))\n",
    "        pre_hm = np.rot90(pre_hm_rotated)/n\n",
    "        pre_errors = np.multiply(pre_hm,dists_squared[target])\n",
    "        \n",
    "        post_reconstructions = df[(df.targetName==target) & (df.phase=='post')].sort_values('gameID')['discreteWorld']\n",
    "        post_sample = post_reconstructions.sample(n=n, random_state=post_random_state,replace=True)\n",
    "        post_maps = post_sample.apply(lambda a: 1+(-1)*np.array(ast.literal_eval(a)))\n",
    "        post_hm_rotated = np.add.reduce(np.array(post_maps))\n",
    "        post_hm = np.rot90(post_hm_rotated)/n\n",
    "        post_errors = np.multiply(post_hm,dists_squared[target])\n",
    "        \n",
    "#         fig, ax = plt.subplots()\n",
    "#         ax.axis('off')\n",
    "#         ax.imshow(pre_errors)\n",
    "#         fig, ax = plt.subplots()\n",
    "#         ax.axis('off')\n",
    "#         ax.imshow(post_errors)\n",
    "        \n",
    "        #calculate one number for each matrix of errors\n",
    "        pre_error = np.sqrt(np.sum(pre_errors))\n",
    "        post_error = np.sqrt(np.sum(post_errors))\n",
    "        \n",
    "        delta_errors = post_error - pre_error\n",
    "        all_delta_errors[j] = delta_errors\n",
    "        #subtract pre from post\n",
    "\n",
    "    #mean over structures\n",
    "    mean_delta_errors = np.mean(all_delta_errors)\n",
    "    all_mean_delta_errors[i] = mean_delta_errors\n",
    "    if(mean_delta_errors>0):\n",
    "            print('yes')\n",
    "#calculate CI\n",
    "all_mean_delta_errors"
   ]
  },
  {
   "cell_type": "code",
   "execution_count": null,
   "metadata": {},
   "outputs": [],
   "source": [
    "sum(all_mean_delta_errors>0)"
   ]
  },
  {
   "cell_type": "code",
   "execution_count": null,
   "metadata": {},
   "outputs": [],
   "source": [
    "fig, ax = plt.subplots()\n",
    "plt.hist(all_mean_delta_errors)\n"
   ]
  },
  {
   "cell_type": "code",
   "execution_count": null,
   "metadata": {},
   "outputs": [],
   "source": [
    "np.percentile(all_mean_delta_errors,[2.5,97.5])"
   ]
  },
  {
   "cell_type": "code",
   "execution_count": null,
   "metadata": {},
   "outputs": [],
   "source": [
    "np.mean(all_mean_delta_errors)"
   ]
  },
  {
   "cell_type": "code",
   "execution_count": null,
   "metadata": {},
   "outputs": [],
   "source": [
    "pre_reconstructions = df[(df.targetName==target) & (df.phase=='pre')]['discreteWorld']\n",
    "pre_reconstructions.sample(n=n, random_state=pre_random_state)"
   ]
  },
  {
   "cell_type": "code",
   "execution_count": null,
   "metadata": {
    "scrolled": false
   },
   "outputs": [],
   "source": [
    "targets = np.sort(df['targetName'].unique()) \n",
    "cmap= colors.ListedColormap(['white', 'red'])\n",
    "\n",
    "target_maps = np.zeros((13,18,8))\n",
    "\n",
    "for target in targets:\n",
    "    fig, ax = plt.subplots()\n",
    "    ax.axis('off')\n",
    "    silhouette = 1*np.logical_not(targetMaps[target])\n",
    "    silhouette = np.rot90(silhouette)\n",
    "    ax.imshow(silhouette)"
   ]
  },
  {
   "cell_type": "code",
   "execution_count": null,
   "metadata": {},
   "outputs": [],
   "source": [
    "def getMeanIBI(values):\n",
    "    '''Obtain mean time between block placements'''\n",
    "    ibis = [] \n",
    "    for x, y in zip(values[0::], values[1::]): \n",
    "        #print(x,y)\n",
    "        ibi = y-x\n",
    "        assert(ibi >= 0)\n",
    "        ibis.append(y-x)\n",
    "    return np.mean(ibis)\n",
    "\n",
    "def getMedianIBI(values):\n",
    "    '''Obtain mean time between block placements'''\n",
    "    ibis = [] \n",
    "    for x, y in zip(values[0::], values[1::]): \n",
    "        #print(x,y)\n",
    "        ibi = y-x\n",
    "        assert(ibi >= 0)\n",
    "        ibis.append(y-x)\n",
    "    return np.median(ibis)\n",
    "\n",
    "\n",
    "def getSDIBI(values):\n",
    "    '''Obtain mean time between block placements'''\n",
    "    ibis = [] \n",
    "    for x, y in zip(values[0::], values[1::]): \n",
    "        #print(x,y)\n",
    "        ibi = y-x\n",
    "        assert(ibi >= 0)\n",
    "        ibis.append(y-x)\n",
    "    return np.std(ibis)\n",
    "\n",
    "def getMinIBI(values):\n",
    "    '''Obtain mean time between block placements'''\n",
    "    ibis = [] \n",
    "    for x, y in zip(values[0::], values[1::]): \n",
    "        #print(x,y)\n",
    "        ibi = y-x\n",
    "        assert(ibi >= 0)\n",
    "        ibis.append(y-x)\n",
    "    return np.min(ibis)"
   ]
  },
  {
   "cell_type": "code",
   "execution_count": null,
   "metadata": {},
   "outputs": [],
   "source": [
    "dfi = dfi.drop_duplicates(subset=['gameID','trialNum','blockNum'], keep='last')\n",
    "\n",
    "dfIBIMean = dfi.sort_values('timeAbsolute').groupby(['gameID','trialNum'])['relativePlacementTime']\\\n",
    "                    .agg(getMeanIBI).reset_index()\n",
    "dfIBIMean = dfIBIMean.rename(columns = {'relativePlacementTime':'meanIBI'})\n",
    "df = pd.merge(df, dfIBIMean, how='left', on=['gameID','trialNum'])\n",
    "\n",
    "dfIBIMin = dfi.sort_values('timeAbsolute').groupby(['gameID','trialNum'])['relativePlacementTime']\\\n",
    "                    .agg(getMinIBI).reset_index()\n",
    "dfIBIMin = dfIBIMin.rename(columns = {'relativePlacementTime':'minIBI'})\n",
    "df = pd.merge(df, dfIBIMin, how='left', on=['gameID','trialNum'])\n",
    "\n",
    "thinking_time = dfi[dfi.blockNum==1][['gameID','trialNum','relativePlacementTime']]\n",
    "thinking_time = thinking_time.rename(columns = {'relativePlacementTime':'thinkingTime'})\n",
    "df = pd.merge(df, thinking_time, how='left', on=['gameID','trialNum'])"
   ]
  },
  {
   "cell_type": "code",
   "execution_count": null,
   "metadata": {},
   "outputs": [],
   "source": [
    "dfIBIMedian = dfi.sort_values('timeAbsolute').groupby(['gameID','trialNum'])['relativePlacementTime']\\\n",
    "                    .agg(getMedianIBI).reset_index()\n",
    "dfIBIMedian = dfIBIMedian.rename(columns = {'relativePlacementTime':'medianIBI'})\n",
    "df = pd.merge(df, dfIBIMedian, how='left', on=['gameID','trialNum'])\n"
   ]
  },
  {
   "cell_type": "code",
   "execution_count": null,
   "metadata": {},
   "outputs": [],
   "source": [
    "dfIBISD = dfi.sort_values('timeAbsolute').groupby(['gameID','trialNum'])['relativePlacementTime']\\\n",
    "                    .agg(getSDIBI).reset_index()\n",
    "dfIBISD = dfIBISD.rename(columns = {'relativePlacementTime':'sdIBI'})\n",
    "df = pd.merge(df, dfIBISD, how='left', on=['gameID','trialNum'])\n"
   ]
  },
  {
   "cell_type": "code",
   "execution_count": null,
   "metadata": {},
   "outputs": [],
   "source": [
    "df"
   ]
  },
  {
   "cell_type": "code",
   "execution_count": null,
   "metadata": {},
   "outputs": [],
   "source": [
    "# Inter-block-interval over trials\n",
    "fig = plt.figure(figsize=(8,6))\n",
    "sns.set_context('poster')\n",
    "sns.set_style('whitegrid', {'legend':False})\n",
    "sns.set(style=\"ticks\", rc={\"lines.linewidth\": 0.7})\n",
    "c = sns.pointplot(x='phase_extended', \n",
    "                  y='meanIBI', \n",
    "                  hue='condition',\n",
    "                  legend=False,\n",
    "                  #kind='point', \n",
    "                  size = 0.3,\n",
    "                  data=df)"
   ]
  },
  {
   "cell_type": "code",
   "execution_count": null,
   "metadata": {},
   "outputs": [],
   "source": []
  },
  {
   "cell_type": "code",
   "execution_count": null,
   "metadata": {},
   "outputs": [],
   "source": [
    "# Inter-block-interval over trials\n",
    "fig = plt.figure(figsize=(8,6))\n",
    "sns.set_context('poster')\n",
    "sns.set_style('whitegrid', {'legend':False})\n",
    "sns.set(style=\"ticks\", rc={\"lines.linewidth\": 0.7})\n",
    "c = sns.pointplot(x='phase_extended', \n",
    "                  y='medianIBI', \n",
    "                  hue='perfectScore',\n",
    "                  legend=False,\n",
    "                  #kind='point', \n",
    "                  size = 0.3,\n",
    "                  data=df)"
   ]
  },
  {
   "cell_type": "code",
   "execution_count": null,
   "metadata": {},
   "outputs": [],
   "source": [
    "# Inter-block-interval over trials\n",
    "fig = plt.figure(figsize=(8,6))\n",
    "sns.set_context('poster')\n",
    "sns.set_style('whitegrid', {'legend':False})\n",
    "sns.set(style=\"ticks\", rc={\"lines.linewidth\": 0.7})\n",
    "c = sns.pointplot(x='phase_extended', \n",
    "                  y='sdIBI', \n",
    "                  hue='perfectScore',\n",
    "                  legend=False,\n",
    "                  #kind='point', \n",
    "                  size = 0.3,\n",
    "                  data=df)"
   ]
  },
  {
   "cell_type": "code",
   "execution_count": null,
   "metadata": {},
   "outputs": [],
   "source": [
    "# Inter-block-interval over trials\n",
    "fig = plt.figure(figsize=(8,6))\n",
    "sns.set_context('poster')\n",
    "sns.set_style('whitegrid', {'legend':False})\n",
    "sns.set(style=\"ticks\", rc={\"lines.linewidth\": 0.7})\n",
    "c = sns.pointplot(x='phase_extended', \n",
    "                  y='minIBI', \n",
    "                  #hue='perfectScore',\n",
    "                  legend=False,\n",
    "                  #kind='point', \n",
    "                  size = 0.3,\n",
    "                  data=df)"
   ]
  },
  {
   "cell_type": "code",
   "execution_count": null,
   "metadata": {
    "scrolled": true
   },
   "outputs": [],
   "source": [
    "# Thinking time over trials\n",
    "fig = plt.figure(figsize=(8,6))\n",
    "sns.set_context('poster')\n",
    "sns.set_style('whitegrid', {'legend':False})\n",
    "sns.set(style=\"ticks\", rc={\"lines.linewidth\": 0.7})\n",
    "c = sns.lineplot(x='phase_number', \n",
    "                  y='thinkingTime', \n",
    "                  #legend=False,\n",
    "                  #kind='point', \n",
    "                  data=df)"
   ]
  },
  {
   "cell_type": "code",
   "execution_count": null,
   "metadata": {},
   "outputs": [],
   "source": [
    "# Thinking time over trials\n",
    "fig = plt.figure(figsize=(8,6))\n",
    "sns.set_context('poster')\n",
    "sns.set_style('whitegrid', {'legend':False})\n",
    "sns.set(style=\"ticks\", rc={\"lines.linewidth\": 0.7})\n",
    "c = sns.scatterplot(x='rawF1DiscreteScore', \n",
    "                      y='thinkingTime', \n",
    "                      hue='condition',\n",
    "                      legend=False,\n",
    "                      #kind='point', \n",
    "                      size = 0.3,\n",
    "                      data=df)"
   ]
  },
  {
   "cell_type": "code",
   "execution_count": null,
   "metadata": {},
   "outputs": [],
   "source": []
  },
  {
   "cell_type": "markdown",
   "metadata": {},
   "source": [
    "## Block kind analysis including location\n",
    "\n",
    "We want to see if people are placing the same blocks in the same location\n",
    "So we should grab their first structure, find the location and type of each block.\n",
    "And for each (blockKind,location) pair, see if the same exists in the final structure.\n",
    "\n",
    "These heatmaps give a general sense of the changes in area covered from pre to post phases. However, they are insensitive to the particular strategies-- for example the specific block dimensions- that people used when building these structure. To quantify similarity between construction processes for the same structure, we compared where blocks of specific dimensions were placed.\n",
    "\n"
   ]
  },
  {
   "cell_type": "code",
   "execution_count": null,
   "metadata": {},
   "outputs": [],
   "source": [
    "def prop_unchanged(a_blocks, b_blocks):\n",
    "    '''\n",
    "    Given two dataframes a_blocks and b_blocks of block placements, \n",
    "    return the proportion of block placements in a_blocks that are also in b_blocks\n",
    "    '''\n",
    "    same = []\n",
    "    for index, a in a_blocks.iterrows():\n",
    "        same.append(b_blocks[(b_blocks.blockKind == a['blockKind']) & \n",
    "            (b_blocks.x_discrete == a['x_discrete']) & \n",
    "            (b_blocks.y_discrete == a['y_discrete'])].shape[0])\n",
    "    proportion = np.mean(same)\n",
    "    return proportion\n",
    "\n",
    "def compare_pre_post(rows):\n",
    "    pre_blocks = rows[rows.phase=='pre']\n",
    "    post_blocks = rows[rows.phase=='post']\n",
    "    return prop_unchanged(pre_blocks,post_blocks)\n",
    "\n",
    "def compare_reps(rows, rep_a, rep_b):\n",
    "    pre_blocks = rows[rows.repetition==rep_a]\n",
    "    post_blocks = rows[rows.repetition==rep_b]\n",
    "    return prop_unchanged(pre_blocks,post_blocks)"
   ]
  },
  {
   "cell_type": "code",
   "execution_count": null,
   "metadata": {},
   "outputs": [],
   "source": [
    "dfi_prop_unchanged_grouped = dfi[dfi.phase.isin(['pre','post'])].groupby(by=['gameID','targetName']).apply(compare_pre_post)\n",
    "dfi_prop_unchanged = dfi_prop_unchanged_grouped.reset_index().rename(columns={0: \"prop_unchanged\"})"
   ]
  },
  {
   "cell_type": "code",
   "execution_count": null,
   "metadata": {},
   "outputs": [],
   "source": [
    "d = pd.merge(df, dfi_prop_unchanged, how='left', on=['gameID','targetName'])\n",
    "d2 = d[d.phase=='pre']"
   ]
  },
  {
   "cell_type": "code",
   "execution_count": null,
   "metadata": {},
   "outputs": [],
   "source": [
    "plt.hist(x='prop_unchanged',\n",
    "         data=dfi_prop_unchanged)"
   ]
  },
  {
   "cell_type": "code",
   "execution_count": null,
   "metadata": {},
   "outputs": [],
   "source": [
    "ppt_prop_changed = dfi_prop_unchanged.groupby('gameID').apply(np.mean)\n",
    "plt.hist(x='prop_unchanged',\n",
    "         data=ppt_prop_changed)"
   ]
  },
  {
   "cell_type": "code",
   "execution_count": null,
   "metadata": {},
   "outputs": [],
   "source": [
    "plt.hist(x='prop_unchanged', alpha =0.5, data=d2[d2.condition=='repeated'])\n",
    "plt.hist(x='prop_unchanged', alpha =0.5, data=d2[d2.condition=='control'])"
   ]
  },
  {
   "cell_type": "code",
   "execution_count": null,
   "metadata": {},
   "outputs": [],
   "source": [
    "d = pd.merge(df, dfi_prop_unchanged, how='left', on=['gameID','targetName'])\n",
    "d2 = d[d.phase=='pre']\n",
    "plt.hist(x='prop_unchanged', alpha =0.5, data=d2[d2.rawF1DiscreteScore>0.8])\n",
    "#plt.hist(x='prop_unchanged', alpha =0.5, data=d2[d2.condition=='control'])"
   ]
  },
  {
   "cell_type": "code",
   "execution_count": null,
   "metadata": {},
   "outputs": [],
   "source": [
    "dpost = df[df.phase=='post'][['gameID','numBlocks','targetName','rawF1DiscreteScore']]"
   ]
  },
  {
   "cell_type": "code",
   "execution_count": null,
   "metadata": {},
   "outputs": [],
   "source": [
    "dpre = d2[['gameID','numBlocks','targetName','rawF1DiscreteScore','prop_unchanged']]\n",
    "\n",
    "dprepost = pd.merge(dpre, dpost, on=['gameID','targetName'], how='left', suffixes=('_pre', '_post'))\n",
    "out_path = os.path.join(csv_dir,'block_silhouette_reuse_{}.csv'.format('Exp2Pilot3'))\n",
    "dprepost.to_csv(out_path)"
   ]
  },
  {
   "cell_type": "code",
   "execution_count": null,
   "metadata": {},
   "outputs": [],
   "source": [
    "# For each ppt\n",
    "# 8 pre scores- sort\n",
    "# 2,2,2,2\n",
    "# Each has % reuse\n",
    "# Average those 2\n",
    "# Each of those quartile goes in a bar\n",
    "\n",
    "d2_quartile = d2.groupby('gameID').apply(\\\n",
    "    lambda x: x.sort_values('rawF1DiscreteScore').assign(f1_quartile=[1,1,2,2,3,3,4,4]))\\\n",
    "    .reset_index(drop=True)\n",
    "\n",
    "prop_quartiles = d2_quartile.groupby(['gameID','f1_quartile'])['prop_unchanged'].apply(np.mean).reset_index()\n",
    "prop_quartiles.loc[prop_quartiles.f1_quartile == 1,'f1_quartile'] = 'lowest'\n",
    "prop_quartiles.loc[prop_quartiles.f1_quartile == 2, 'f1_quartile'] = 'mid-low'\n",
    "prop_quartiles.loc[prop_quartiles.f1_quartile == 3, 'f1_quartile'] = 'mid-high'\n",
    "prop_quartiles.loc[prop_quartiles.f1_quartile == 4, 'f1_quartile'] = 'highest'\n",
    "\n",
    "\n",
    "\n",
    "saving = False\n",
    "if saving:\n",
    "    out_path = os.path.join(csv_dir,'block_silhouette_placement_quartiles_{}.csv'.format('Exp2Pilot3'))\n",
    "    prop_quartiles.to_csv(out_path)"
   ]
  },
  {
   "cell_type": "code",
   "execution_count": null,
   "metadata": {},
   "outputs": [],
   "source": [
    "fig = plt.figure(figsize=(8,6))\n",
    "pal = sns.cubehelix_palette(4, rot=-.25, light=.7)\n",
    "sns.set_style('whitegrid', {'legend.frameon':False})\n",
    "sns.set(rc = {'lines.linewidth':2})\n",
    "sns.scatterplot(x = 'f1_quartile', \n",
    "            y = 'prop_unchanged', \n",
    "            #jitter=0, \n",
    "            alpha = 0.6, \n",
    "            marker = 0,\n",
    "            s = 60,\n",
    "            data=prop_quartiles)\n",
    "sns.pointplot(x='f1_quartile',\n",
    "              y='prop_unchanged',\n",
    "              alpha = 0.8,\n",
    "              markers = [\"\"],\n",
    "              data = prop_quartiles)\n"
   ]
  },
  {
   "cell_type": "markdown",
   "metadata": {},
   "source": [
    "## Between repeatition 2 and 3"
   ]
  },
  {
   "cell_type": "code",
   "execution_count": null,
   "metadata": {},
   "outputs": [],
   "source": [
    "rdfi_prop_unchanged_grouped = dfi[(dfi.repetition>=2)].groupby(by=['gameID','targetName']).apply(lambda x: compare_reps(x, 2, 3))\n",
    "rdfi_prop_unchanged = rdfi_prop_unchanged_grouped.reset_index().rename(columns={0: \"prop_unchanged\"})"
   ]
  },
  {
   "cell_type": "code",
   "execution_count": null,
   "metadata": {},
   "outputs": [],
   "source": [
    "plt.hist(x='prop_unchanged',\n",
    "         data=rdfi_prop_unchanged)"
   ]
  },
  {
   "cell_type": "code",
   "execution_count": null,
   "metadata": {},
   "outputs": [],
   "source": [
    "rd = pd.merge(df, rdfi_prop_unchanged, how='left', on=['gameID','targetName'])\n",
    "rd2 = rd[rd.repetition==2]"
   ]
  },
  {
   "cell_type": "code",
   "execution_count": null,
   "metadata": {},
   "outputs": [],
   "source": [
    "rd2_quartile = rd2.groupby('gameID').apply(\\\n",
    "    lambda x: x.sort_values('rawF1DiscreteScore').assign(f1_quartile=[1,2,3,4]))\\\n",
    "    .reset_index(drop=True)\n",
    "\n",
    "#prop_quartiles = d2_quartile.groupby(['gameID','f1_quartile'])['prop_unchanged'].apply(np.mean).reset_index()"
   ]
  },
  {
   "cell_type": "code",
   "execution_count": null,
   "metadata": {},
   "outputs": [],
   "source": [
    "fig = plt.figure(figsize=(8,6))\n",
    "pal = sns.cubehelix_palette(4, rot=-.25, light=.7)\n",
    "sns.set(style=\"ticks\", rc={\"lines.linewidth\": 1.3})\n",
    "sns.stripplot('f1_quartile', 'prop_unchanged', jitter=0.05,alpha = 0.5, palette=pal, data=prop_quartiles)\n",
    "sns.pointplot(x='f1_quartile',\n",
    "              y='prop_unchanged',\n",
    "              color='black',\n",
    "              data = rd2_quartile)"
   ]
  },
  {
   "cell_type": "code",
   "execution_count": null,
   "metadata": {},
   "outputs": [],
   "source": [
    "allstr = df.shape[0]\n",
    "perfstr = df[df.perfectScore==True].shape[0]\n",
    "percent = 100*perfstr/allstr\n",
    "print('all structures: ' + str(allstr))\n",
    "print('perfect structures: ' + str(perfstr))\n",
    "print('percent perfect structures: ' + str(percent) + '%')"
   ]
  },
  {
   "cell_type": "code",
   "execution_count": null,
   "metadata": {},
   "outputs": [],
   "source": []
  }
 ],
 "metadata": {
  "kernelspec": {
   "display_name": "Python 3",
   "language": "python",
   "name": "python3"
  },
  "language_info": {
   "codemirror_mode": {
    "name": "ipython",
    "version": 3
   },
   "file_extension": ".py",
   "mimetype": "text/x-python",
   "name": "python",
   "nbconvert_exporter": "python",
   "pygments_lexer": "ipython3",
   "version": "3.5.6"
  }
 },
 "nbformat": 4,
 "nbformat_minor": 2
}
