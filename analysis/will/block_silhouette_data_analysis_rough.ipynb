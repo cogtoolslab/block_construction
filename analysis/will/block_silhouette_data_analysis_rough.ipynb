{
 "cells": [
  {
   "cell_type": "code",
   "execution_count": null,
   "metadata": {},
   "outputs": [],
   "source": [
    "import os\n",
    "import sys\n",
    "import urllib, io\n",
    "\n",
    "import numpy as np\n",
    "import scipy.stats as stats\n",
    "import pandas as pd\n",
    "\n",
    "import pymongo as pm\n",
    "from collections import Counter\n",
    "import json\n",
    "import re\n",
    "import ast\n",
    "\n",
    "from PIL import Image, ImageOps, ImageDraw, ImageFont \n",
    "\n",
    "from io import BytesIO\n",
    "import base64\n",
    "\n",
    "import  matplotlib\n",
    "from matplotlib import pylab, mlab, pyplot\n",
    "%matplotlib inline\n",
    "from IPython.core.pylabtools import figsize, getfigs\n",
    "plt = pyplot\n",
    "import matplotlib as mpl\n",
    "mpl.rcParams['pdf.fonttype'] = 42\n",
    "\n",
    "import seaborn as sns\n",
    "sns.set_context('talk')\n",
    "sns.set_style('darkgrid')\n",
    "\n",
    "from IPython.display import clear_output\n",
    "\n",
    "import warnings\n",
    "warnings.filterwarnings(\"ignore\", category=DeprecationWarning)\n",
    "warnings.filterwarnings(\"ignore\", message=\"numpy.dtype size changed\")\n",
    "warnings.filterwarnings(\"ignore\", message=\"numpy.ufunc size changed\")"
   ]
  },
  {
   "cell_type": "markdown",
   "metadata": {},
   "source": [
    "### setup paths"
   ]
  },
  {
   "cell_type": "code",
   "execution_count": null,
   "metadata": {},
   "outputs": [],
   "source": [
    "## directory & file hierarchy\n",
    "proj_dir = os.path.abspath('..')\n",
    "datavol_dir = os.path.join(proj_dir,'data')\n",
    "analysis_dir = os.path.abspath(os.path.join(os.getcwd(),'..'))\n",
    "results_dir = os.path.join(proj_dir,'results')\n",
    "plot_dir = os.path.join(results_dir,'plots')\n",
    "csv_dir = os.path.join(results_dir,'csv')\n",
    "json_dir = os.path.join(results_dir,'json')\n",
    "exp_dir = os.path.abspath(os.path.join(proj_dir,'experiments'))\n",
    "png_dir = os.path.abspath(os.path.join(datavol_dir,'png'))\n",
    "will_dir = os.getcwd()\n",
    "\n",
    "## add helpers to python path\n",
    "if os.path.join(proj_dir,'stimuli') not in sys.path:\n",
    "    sys.path.append(os.path.join(proj_dir,'stimuli'))\n",
    "    \n",
    "if not os.path.exists(results_dir):\n",
    "    os.makedirs(results_dir)\n",
    "    \n",
    "if not os.path.exists(plot_dir):\n",
    "    os.makedirs(plot_dir)   \n",
    "    \n",
    "if not os.path.exists(csv_dir):\n",
    "    os.makedirs(csv_dir)       \n",
    "    \n",
    "import blockworld_helpers as utils    \n",
    "    \n",
    "# ## Assign variables within imported analysis helpers\n",
    "# import analysis_helpers as h\n",
    "# if sys.version_info[0]>=3:\n",
    "#     from importlib import reload\n",
    "# reload(h)"
   ]
  },
  {
   "cell_type": "markdown",
   "metadata": {},
   "source": [
    "### connect to db [skip this if on compute server that is behind vpn]"
   ]
  },
  {
   "cell_type": "markdown",
   "metadata": {},
   "source": [
    "#### remember to establish tunnel to cogtoolslab server first: `ssh -fNL 27017:127.0.0.1:27017 USER@cogtoolslab.org`"
   ]
  },
  {
   "cell_type": "code",
   "execution_count": null,
   "metadata": {},
   "outputs": [],
   "source": [
    "## set vars \n",
    "auth = pd.read_csv(os.path.join(analysis_dir,'auth.txt'), header = None) # this auth.txt file contains the password for the sketchloop user\n",
    "pswd = auth.values[0][0]\n",
    "user = 'sketchloop'\n",
    "host = 'cogtoolslab.org' ## cocolab ip address\n",
    "\n",
    "## have to fix this to be able to analyze from local\n",
    "import pymongo as pm\n",
    "conn = pm.MongoClient('mongodb://sketchloop:' + pswd + '@127.0.0.1')\n",
    "db = conn['block_construction']\n",
    "coll = db['silhouette']\n",
    "\n",
    "## which iteration name should we use?\n",
    "iterationName = 'testing'"
   ]
  },
  {
   "cell_type": "code",
   "execution_count": null,
   "metadata": {},
   "outputs": [],
   "source": [
    "coll.distinct('iterationName')"
   ]
  },
  {
   "cell_type": "markdown",
   "metadata": {},
   "source": [
    "### query over mongodb records and organize into tidy dataframe"
   ]
  },
  {
   "cell_type": "code",
   "execution_count": null,
   "metadata": {},
   "outputs": [],
   "source": [
    "## define how we will initially query records in the database\n",
    "query = coll.find({'blockVertices':{'$exists':True},'iterationName':iterationName })"
   ]
  },
  {
   "cell_type": "code",
   "execution_count": null,
   "metadata": {},
   "outputs": [],
   "source": [
    "## convert into pandas dataframe\n",
    "df = pd.DataFrame(list(query.sort('time_absolute')))"
   ]
  },
  {
   "cell_type": "code",
   "execution_count": null,
   "metadata": {},
   "outputs": [],
   "source": [
    "query = coll.find({'randID':'v31lrjcfgdbtbrqb5utri'})\n",
    "df = pd.DataFrame(list(query.sort('time_absolute')))\n",
    "df['trialList']"
   ]
  },
  {
   "cell_type": "markdown",
   "metadata": {},
   "source": [
    "### Show some reduced dataframes\n",
    "\n",
    "Check if all data events are recorded"
   ]
  },
  {
   "cell_type": "code",
   "execution_count": null,
   "metadata": {
    "scrolled": true
   },
   "outputs": [],
   "source": [
    "# get whole sequence of data for one person\n",
    "query = coll.find({'randID':\"v1mpsbnlolhzyo9un4s4t\"})\n",
    "df = pd.DataFrame(list(query.sort('time_absolute')))\n",
    "df[['normedIncrementalScore','trialNum','condition','phase','eventType','score', 'points','iterationName','numBlocksExplore','buildTime','relativePlacementTime','numBlocks','blockNum']]"
   ]
  },
  {
   "cell_type": "code",
   "execution_count": null,
   "metadata": {
    "scrolled": false
   },
   "outputs": [],
   "source": [
    "# get whole sequence of data for one iteration\n",
    "query = coll.find({'iterationName':\"pilot4\"})\n",
    "df = pd.DataFrame(list(query.sort('time_absolute')))\n",
    "df[['normedIncrementalScore','trialNum','condition','phase','eventType',\n",
    "    'score', 'points','iterationName','numBlocksExplore','buildTime',\n",
    "    'relativePlacementTime','numBlocks','blockNum','success']]"
   ]
  },
  {
   "cell_type": "code",
   "execution_count": null,
   "metadata": {},
   "outputs": [],
   "source": [
    "# get whole sequence of data for one person\n",
    "query = coll.find({\"$and\":[\n",
    "                        {'workerId':{'$exists':True}},\n",
    "                        {'iterationName':\"pilot4\"},\n",
    "                        {'eventType':'trial_end'},\n",
    "                        {'trialNum':15}]})\n",
    "df = pd.DataFrame(list(query.sort('workerId')))\n",
    "df[['workerId','trialNum','condition','phase','eventType','score', 'points','iterationName','numBlocks','normedScore']]"
   ]
  },
  {
   "cell_type": "code",
   "execution_count": null,
   "metadata": {
    "scrolled": true
   },
   "outputs": [],
   "source": [
    "query = coll.find({\"workerId\":\"A1RFS3YXD1ZIKG\"})\n",
    "df = pd.DataFrame(list(query.sort('time_absolute')))\n",
    "#df[['workerId','trialNum','condition','phase','eventType','score', 'points','iterationName','normedIncrementalScore']]\n",
    "list(df['score'])"
   ]
  },
  {
   "cell_type": "code",
   "execution_count": null,
   "metadata": {},
   "outputs": [],
   "source": [
    "# get whole sequence of data for one person\n",
    "query = coll.find({'randID':\"l6krowoij8h48cr5dydt7e\"})\n",
    "df = pd.DataFrame(list(query.sort('time_absolute')))\n"
   ]
  },
  {
   "cell_type": "code",
   "execution_count": null,
   "metadata": {
    "scrolled": true
   },
   "outputs": [],
   "source": [
    "# get whole sequence of data for one person\n",
    "query = coll.find({\"$and\":[\n",
    "                        {'randID':\"v31lrjcfgdbtbrqb5utri\"},\n",
    "                        {'eventType':{\"$ne\":'settled'}},\n",
    "                        {'eventType':{\"$ne\":'initial'}}]\n",
    "                     })\n",
    "df = pd.DataFrame(list(query.sort('time_absolute')))\n",
    "df[['trialNum','phase','condition','eventType','score','normedScore']]"
   ]
  },
  {
   "cell_type": "markdown",
   "metadata": {},
   "source": [
    "### Basic analyses: accuracy and nblocks"
   ]
  },
  {
   "cell_type": "code",
   "execution_count": null,
   "metadata": {},
   "outputs": [],
   "source": [
    "# get sequence of trial_end data for all people\n",
    "# note that these currently lump everyone together, and don't\n",
    "query = coll.find({\"$and\":[\n",
    "                        {'condition':{'$ne':'practice'}},\n",
    "                        {'eventType':'trial_end'},\n",
    "                        {'iterationName':'pilot1'}]\n",
    "                     })\n",
    "df_full = pd.DataFrame(list(query.sort('workerId')))\n",
    "df = df_full[['workerId','trialNum','phase','condition','eventType','score','normedScore','numBlocks']]\n",
    "df"
   ]
  },
  {
   "cell_type": "code",
   "execution_count": null,
   "metadata": {},
   "outputs": [],
   "source": [
    "# get sequence of trial_end data for all people\n",
    "# note that these currently lump everyone together, and don't\n",
    "query = coll.find({\"$and\":[\n",
    "                        {'condition':{'$ne':'practice'}},\n",
    "                        {'eventType':'trial_end'},\n",
    "                        {'iterationName':'pilot2'}]\n",
    "                     })\n",
    "df_full = pd.DataFrame(list(query.sort('workerId')))\n",
    "df = df_full[['workerId','trialNum','phase','condition','eventType','score','normedScore','numBlocks']]\n",
    "df"
   ]
  },
  {
   "cell_type": "code",
   "execution_count": null,
   "metadata": {},
   "outputs": [],
   "source": [
    "# get sequence of trial_end data for all people\n",
    "# note that these currently lump everyone together, and don't\n",
    "query = coll.find({\"$and\":[\n",
    "                        {'condition':{'$ne':'practice'}},\n",
    "                        {'eventType':'trial_end'},\n",
    "                        {'iterationName':'pilot4'},\n",
    "                        {'workerId': 'A20N1NK5X5S88F'}]\n",
    "                     })\n",
    "df_full = pd.DataFrame(list(query.sort('timeAbsolute')))\n",
    "df = df_full[['workerId','trialNum','phase','condition','eventType','score','normedScore','numBlocks']]\n",
    "df"
   ]
  },
  {
   "cell_type": "code",
   "execution_count": null,
   "metadata": {},
   "outputs": [],
   "source": [
    "# get sequence of trial_end data for all people\n",
    "# note that these currently lump everyone together, and don't\n",
    "query = coll.find({\"$and\":[\n",
    "                        {'condition':{'$ne':'practice'}},\n",
    "                        {'eventType':'trial_end'},\n",
    "                        {'iterationName':'pilot2'}]\n",
    "                     })\n",
    "df_full = pd.DataFrame(list(query.sort('workerId')))\n",
    "df = df_full[['workerId','trialNum','phase','condition','eventType','score','normedScore','numBlocks']]\n",
    "df"
   ]
  },
  {
   "cell_type": "code",
   "execution_count": null,
   "metadata": {},
   "outputs": [],
   "source": [
    "# get sequence of trial_end data for all people\n",
    "# note that these currently lump everyone together, and don't\n",
    "query = coll.find({\"$and\":[\n",
    "                        {'condition':{'$ne':'practice'}},\n",
    "                        {'eventType':'trial_end'},\n",
    "                        {'iterationName':'pilot2'}]\n",
    "                     })\n",
    "df_full = pd.DataFrame(list(query.sort('workerId')))\n",
    "df = df_full[['workerId','trialNum','phase','condition','eventType','score','normedScore','numBlocks']]\n",
    "df"
   ]
  },
  {
   "cell_type": "code",
   "execution_count": null,
   "metadata": {},
   "outputs": [],
   "source": [
    "# Time taken from first block settled to last block settled\n",
    "query = coll.find({\"$and\":[\n",
    "                        {'workerId':'A3DS5B06ZCD3E3'},\n",
    "                        #{'condition':{'$ne':'practice'}},\n",
    "                        {'eventType':'settled'},\n",
    "                        {'iterationName':'pilot2'}]\n",
    "                     })\n",
    "df_full = pd.DataFrame(list(query.sort('timeAbsolute')))\n",
    "df = list(df_full['timeAbsolute'])\n",
    "(df[-1] - df[0])/(1000*60)\n"
   ]
  },
  {
   "cell_type": "code",
   "execution_count": null,
   "metadata": {},
   "outputs": [],
   "source": [
    "# get sequence of trial_end data for all people\n",
    "# note that these currently lump everyone together, and don't\n",
    "query = coll.find({\"$and\":[\n",
    "                        {'condition':{'$ne':'practice'}},\n",
    "                        {'eventType':'survey_data'},\n",
    "                        {'iterationName':'pilot4'}]\n",
    "                     })\n",
    "df_survey = pd.DataFrame(list(query.sort('workerId')))\n",
    "list(df_survey[['workerId','age','comments','difficulty','fun','strategies','inputDevice','sex','score']]['comments'])"
   ]
  },
  {
   "cell_type": "markdown",
   "metadata": {},
   "source": [
    "### Sanity checks\n",
    "\n",
    "- workerId not associated with multiple gameIDs\n",
    "- each participant has exactly one trial_end data for each trialNum (0-15)\n",
    "- 8 mental and 8 physical trials"
   ]
  },
  {
   "cell_type": "code",
   "execution_count": null,
   "metadata": {},
   "outputs": [],
   "source": [
    "# Ensure one to one gameID and workerId \n",
    "# Should only happen if a repeat worker gets through\n",
    "\n",
    "query = coll.find({\"$and\":[\n",
    "                        {'workerId':{'$exists':True}},\n",
    "                        {'condition':{'$ne':'practice'}},\n",
    "                        {'eventType':'trial_end'},\n",
    "                        {\"$or\":[{'iterationName':'pilot3'},\n",
    "                                {'iterationName':'pilot2'}]},\n",
    "                        {'trialNum':0}]\n",
    "                     })\n",
    "\n",
    "df_trial_end_full = pd.DataFrame(list(query.sort('timeAbsolute')))\n",
    "#df_trial_end_full[['workerId','gameID']]\n",
    "\n",
    "\n",
    "assert (np.mean(df_trial_end_full['workerId'].value_counts()) == np.mean(df_trial_end_full['gameID'].value_counts()))"
   ]
  },
  {
   "cell_type": "code",
   "execution_count": null,
   "metadata": {},
   "outputs": [],
   "source": [
    "# get ids of people with trial 15 data\n",
    "query = coll.find({\"$and\":[\n",
    "                        {'condition':{'$ne':'practice'}},\n",
    "                        {'eventType':'trial_end'},\n",
    "                        {'iterationName':'pilot3'},\n",
    "                        {'trialNum':15}]\n",
    "                     })\n",
    "complete_data_df = pd.DataFrame(query)\n",
    "complete_data_ids = list(complete_data_df['workerId'])"
   ]
  },
  {
   "cell_type": "code",
   "execution_count": null,
   "metadata": {},
   "outputs": [],
   "source": [
    "query = coll.find({\"$and\":[\n",
    "                        {'condition':{'$ne':'practice'}},\n",
    "                        {'eventType':'trial_end'},\n",
    "                        {'iterationName':'pilot3'}]\n",
    "                     })\n",
    "\n",
    "df_trial_end_full = pd.DataFrame(list(query.sort('timeAbsolute')))\n",
    "\n",
    "\n",
    "\n",
    "# filter dataframe for complete datasets\n",
    "df_trial_end_full_filtered = df_trial_end_full[df_trial_end_full.workerId.isin(complete_data_ids)]\n",
    "\n",
    "\n",
    "\n",
    "# reduce to crucial information\n",
    "df_trial_end_reduced_filtered = df_trial_end_full_filtered[['gameID','trialNum','phase','condition','eventType','score','normedScore','numBlocks','timeAbsolute','timeRelative','buildTime','currBonus','exploreResets','buildResets','allVertices','nPracticeAttempts','exploreStartTime','buildStartTime','buildFinishTime']]\n",
    "\n",
    "df_for_analysis = df_trial_end_reduced_filtered.sort_values(by=['gameID', 'timeAbsolute'])\n",
    "df_for_analysis\n"
   ]
  },
  {
   "cell_type": "code",
   "execution_count": null,
   "metadata": {},
   "outputs": [],
   "source": [
    "# By condition\n",
    "df_for_analysis[['condition','normedScore','numBlocks','buildTime']].groupby(by=['condition']).describe()"
   ]
  },
  {
   "cell_type": "code",
   "execution_count": null,
   "metadata": {},
   "outputs": [],
   "source": [
    "# By trial number\n",
    "df_for_analysis[['condition','normedScore','numBlocks','buildTime','trialNum']].groupby(by='trialNum').describe()"
   ]
  },
  {
   "cell_type": "markdown",
   "metadata": {},
   "source": [
    "### Helper functions - need to test"
   ]
  },
  {
   "cell_type": "code",
   "execution_count": null,
   "metadata": {},
   "outputs": [],
   "source": [
    "def get_light_df(df_full):\n",
    "    ''' Get most essential columns from dataframe\n",
    "    '''\n",
    "    df_light = df_full[['randID','trialNum','phase','condition','eventType','score','normedScore','numBlocks']]\n",
    "    return df_light\n",
    "\n",
    "def compress_vertices(vert_dict):\n",
    "    '''\n",
    "    '''\n",
    "    vert_list = list(map(lambda block: list(map(lambda corner: (corner['x'],world_size-corner['y']), block)), vert_dict))\n",
    "    return vert_list\n",
    "    \n",
    "def get_world_vertices(row):\n",
    "    ''' Get vertices of this row.\n",
    "    '''\n",
    "    vert_dict = row['allVertices'] # extract dictionary of vertices of blocks \n",
    "    world_verts = compress_vertices(vert_dict) # convert dictionary to list of unlabelled tuples\n",
    "    return world_verts\n",
    "\n",
    "def draw_world_from_row(row):\n",
    "    ''' Renders state of world from one observation\n",
    "    '''\n",
    "    world_verts = get_final_vertices(row)\n",
    "    draw_world(world_verts)\n",
    "\n",
    "#def draw_block_in_context(row):\n",
    "    ''' draw new block in figure showing old blocks in a different color\n",
    "    '''"
   ]
  },
  {
   "cell_type": "code",
   "execution_count": null,
   "metadata": {},
   "outputs": [],
   "source": [
    "# check final bonus amount\n",
    "df_for_analysis[df_for_analysis.trialNum == 15][['gameID','score']]"
   ]
  },
  {
   "cell_type": "code",
   "execution_count": null,
   "metadata": {},
   "outputs": [],
   "source": [
    "# Overall accuracy and nblocks\n",
    "df_for_analysis[['condition','normedScore','numBlocks']].describe()"
   ]
  },
  {
   "cell_type": "code",
   "execution_count": null,
   "metadata": {},
   "outputs": [],
   "source": [
    "query = coll.find({\"$and\":[\n",
    "                        {'condition':{'$ne':'practice'}},\n",
    "                        {'eventType':'trial_end'},\n",
    "                        {'iterationName':'pilot2'},\n",
    "                        {'trialNum':15}]\n",
    "                     })\n",
    "df_full = pd.DataFrame(list(query.sort('workerId')))\n",
    "complete_data_ids = list(df_full['workerId'])\n",
    "complete_data_ids\n",
    "\n",
    "query = coll.find({\"$and\":[\n",
    "                        {'condition':{'$ne':'practice'}},\n",
    "                        {'eventType':'survey_data'},\n",
    "                        {'iterationName':'pilot1'}] # filter out participants who weren't trying\n",
    "                     })\n",
    "df_full = pd.DataFrame(list(query.sort('workerId')))\n",
    "df_full[['workerId','age','comments','difficulty','fun','strategies','inputDevice','sex','score']]"
   ]
  },
  {
   "cell_type": "code",
   "execution_count": null,
   "metadata": {},
   "outputs": [],
   "source": [
    "query = coll.find({\"$and\":[\n",
    "                        {'iterationName':'pilot2'},\n",
    "                        {'condition':{'$ne':'practice'}},\n",
    "                        {'eventType':'trial_end'},\n",
    "                        {'trialNum':15}]\n",
    "                     })\n",
    "df_full = pd.DataFrame(list(query.sort('workerId')))\n",
    "df = df_full[['workerId','trialNum','phase','condition','eventType','normedScore','numBlocks','buildTime']]\n"
   ]
  },
  {
   "cell_type": "code",
   "execution_count": null,
   "metadata": {},
   "outputs": [],
   "source": [
    "query = coll.find({\"$and\":[\n",
    "                        {'condition':{'$ne':'practice'}},\n",
    "                        {'trialNum':'18'},\n",
    "                        {'iterationName':'pilot2'}]\n",
    "                     })"
   ]
  },
  {
   "cell_type": "code",
   "execution_count": null,
   "metadata": {},
   "outputs": [],
   "source": [
    "query = coll.find({\"$and\":[\n",
    "                        {'condition':{'$ne':'practice'}},\n",
    "                        {'eventType':'trial_end'},\n",
    "                        {'iterationName':'pilot2'}]\n",
    "                     })\n",
    "df_full = pd.DataFrame(list(query.sort('workerId')))\n",
    "df = df_full[['workerId','trialNum','phase','condition','eventType','normedScore','numBlocks','buildTime']]\n",
    "df.groupby(by='trialNum').describe()"
   ]
  },
  {
   "cell_type": "markdown",
   "metadata": {},
   "source": [
    "## trial_end data by trial number"
   ]
  },
  {
   "cell_type": "code",
   "execution_count": null,
   "metadata": {},
   "outputs": [],
   "source": [
    "# get full datasets\n",
    "query = coll.find({\"$and\":[\n",
    "                        {'condition':{'$ne':'practice'}},\n",
    "                        {'eventType':'trial_end'},\n",
    "                        {'iterationName':'pilot2'},\n",
    "                        {'trialNum':15}]\n",
    "                     })\n",
    "df_full = pd.DataFrame(list(query.sort('workerId')))\n",
    "complete_data_ids = list(df_full['workerId'])\n",
    "complete_data_ids\n",
    "\n",
    "\n",
    "# get all trial end data\n",
    "query = coll.find({\"$and\":[\n",
    "                        {'workerId':{'$exists':True}},\n",
    "                        {'condition':{'$ne':'practice'}},\n",
    "                        {'eventType':'trial_end'},\n",
    "                        #{'workerId':{'$ne':''}},# filter out participants who weren't trying\n",
    "                        {'iterationName':'pilot2'}\n",
    "                    ]})\n",
    "df_full = pd.DataFrame(list(query.sort('workerId')))\n",
    "df = df_full[['workerId','trialNum','phase','condition','eventType','score','normedScore','numBlocks']]\n",
    "df_filtered = df[df.workerId.isin(complete_data_ids)]\n",
    "df_filtered.groupby(by='trialNum').describe()"
   ]
  },
  {
   "cell_type": "markdown",
   "metadata": {
    "scrolled": true
   },
   "source": [
    "# Useful queries\n",
    "\n",
    "\n",
    "\n",
    "\n"
   ]
  },
  {
   "cell_type": "code",
   "execution_count": null,
   "metadata": {},
   "outputs": [],
   "source": [
    "# get whole sequence of data for one person\n",
    "query = coll.find({'gameID':'7970-01a11233-665c-40d2-b7a3-3dabeb8f2a35'})\n",
    "df = pd.DataFrame(list(query.sort('time_absolute')))\n",
    "df[['normedIncrementalScore','trialNum','phase','eventType','score']]\n"
   ]
  },
  {
   "cell_type": "code",
   "execution_count": null,
   "metadata": {},
   "outputs": [],
   "source": [
    "## get successful practice trials\n",
    "query = coll.find({'randID':\"tjj25al28dtwvg86troo6i\", 'eventType':'practice_attempt', 'success':True})\n",
    "df = pd.DataFrame(list(query.sort('time_absolute')))\n"
   ]
  },
  {
   "cell_type": "code",
   "execution_count": null,
   "metadata": {},
   "outputs": [],
   "source": [
    "## Get list of block placements from any person\n",
    "query = coll.find({'blockVertices':{'$exists':True},'trialList':{'$exists':True},'iterationName':'dataTesting' })\n",
    "df = pd.DataFrame(list(query.sort('phase')))\n"
   ]
  },
  {
   "cell_type": "code",
   "execution_count": null,
   "metadata": {},
   "outputs": [],
   "source": [
    "# Get survey data from someone\n",
    "query = coll.find({'eventType':\"survey_data\", 'randID' :'eab9cf17pm7qdfnfocxwk'})\n",
    "df = pd.DataFrame(list(query.sort('time_absolute')))"
   ]
  },
  {
   "cell_type": "code",
   "execution_count": null,
   "metadata": {},
   "outputs": [],
   "source": [
    "## get vertices of blocks at each settled-block event\n",
    "query = coll.find({'eventType':'settled', 'randID':\"5310wg9k0d06l9jn2tlui8\"})\n",
    "df = pd.DataFrame(list(query.sort('time_absolute')))\n",
    "listOfVertices = df['allVertices'] # list of vertices is a list of whole worlds of blocks\n",
    "vertices = listOfVertices[13] # vertices is one world, which contains multiple blocks"
   ]
  },
  {
   "cell_type": "code",
   "execution_count": null,
   "metadata": {},
   "outputs": [],
   "source": [
    "# Expression for converting vertices dict to vertices list \n",
    "list(map(lambda block: list(map(lambda corner: (corner['x'],world_size-corner['y']), block)), vertices))"
   ]
  },
  {
   "cell_type": "code",
   "execution_count": null,
   "metadata": {},
   "outputs": [],
   "source": [
    "# Find ids of datasets that have trial_end data for last trial\n",
    "query = coll.find({\"$and\":[\n",
    "                        {'condition':{'$ne':'practice'}},\n",
    "                        {'eventType':'trial_end'},\n",
    "                        {'iterationName':'pilot1'},\n",
    "                        {'trialNum':15}]\n",
    "                     })\n",
    "df_full = pd.DataFrame(list(query.sort('workerId')))\n",
    "complete_data_ids = list(df_full['workerId'])\n",
    "complete_data_ids"
   ]
  },
  {
   "cell_type": "markdown",
   "metadata": {},
   "source": [
    "# Draw world from vertices"
   ]
  },
  {
   "cell_type": "code",
   "execution_count": null,
   "metadata": {},
   "outputs": [],
   "source": [
    "import numpy as np\n",
    "from PIL import Image\n",
    "\n",
    "from matplotlib import pylab, mlab, pyplot\n",
    "import matplotlib.pyplot as plt\n",
    "import matplotlib.image as mpimg\n",
    "from matplotlib.path import Path\n",
    "import matplotlib.patches as patches\n",
    "import copy\n",
    "import json\n",
    "import datetime\n",
    "import random\n",
    "from random import randint\n",
    "import string\n",
    "import os\n",
    "\n",
    "world_size = 900;\n",
    "\n",
    "def patch_for_block(b):\n",
    "    return get_patch(b,color='#29335C')\n",
    "\n",
    "def patches_for_world(blocks):\n",
    "    patches = []\n",
    "    for (b) in blocks:\n",
    "        patches.append(patch_for_block(b))\n",
    "    return patches\n",
    "\n",
    "def draw_world(vertices):\n",
    "    fig = render_blockworld(patches_for_world(vertices)) \n",
    "    return fig\n",
    "\n",
    "def get_patch(verts,\n",
    "              color='orange',\n",
    "              line_width = 0.2):\n",
    "    '''\n",
    "    input:\n",
    "        verts: array or list of (x,y) vertices of convex polygon. \n",
    "                last vertex = first vertex, so len(verts) is num_vertices + 1\n",
    "        color: facecolor\n",
    "        line_width: edge width    \n",
    "    output:\n",
    "        patch matplotlib.path patch object\n",
    "    '''\n",
    "    codes = [1] + [2]*(len(verts)-1)    ## 1 = MOVETO, 2 = LINETO\n",
    "    path = Path(verts,codes)\n",
    "    patch = patches.PathPatch(path, facecolor=color, lw=line_width)\n",
    "    return patch\n",
    "\n",
    "def render_blockworld(patches,\n",
    "                      xlim=(0,world_size),\n",
    "                      ylim=(0,world_size),\n",
    "                      figsize=(4,4)):\n",
    "    \n",
    "    '''\n",
    "    input: \n",
    "        patches: list of patches generated by get_patch() function\n",
    "        xlim, ylim: axis limits\n",
    "        figsize: defaults to square aspect ratio\n",
    "    output:\n",
    "        visualization of block placement\n",
    "    '''\n",
    "    fig = plt.figure(figsize=figsize)\n",
    "    ax = fig.add_subplot(111)\n",
    "    for patch in patches:\n",
    "        ax.add_patch(patch)\n",
    "    ax.set_xlim(xlim)\n",
    "    ax.set_ylim(ylim) \n",
    "    cur_axes = plt.gca()\n",
    "    cur_axes.axes.get_xaxis().set_visible(False)\n",
    "    cur_axes.axes.get_yaxis().set_visible(False)        \n",
    "    plt.show()\n",
    "    return fig\n"
   ]
  },
  {
   "cell_type": "code",
   "execution_count": null,
   "metadata": {
    "scrolled": true
   },
   "outputs": [],
   "source": [
    "## get end state of trials\n",
    "query = coll.find({\"$and\":[{'eventType':'settled', 'phase':'build', 'workerId':\"A2XKVWHXJV0HWZ\"}]})\n",
    "df = pd.DataFrame(list(query.sort('time_absolute')))\n",
    "for i in range(0,100):\n",
    "    vertices = df['allVertices'][i]\n",
    "    collapsed_verts = list(map(lambda block: list(map(lambda corner: (corner['x'],world_size-corner['y']), block)), vertices))\n",
    "    draw_world(collapsed_verts)"
   ]
  },
  {
   "cell_type": "code",
   "execution_count": null,
   "metadata": {},
   "outputs": [],
   "source": []
  },
  {
   "cell_type": "code",
   "execution_count": null,
   "metadata": {},
   "outputs": [],
   "source": []
  },
  {
   "cell_type": "code",
   "execution_count": null,
   "metadata": {},
   "outputs": [],
   "source": []
  }
 ],
 "metadata": {
  "kernelspec": {
   "display_name": "Python 3",
   "language": "python",
   "name": "python3"
  },
  "language_info": {
   "codemirror_mode": {
    "name": "ipython",
    "version": 3
   },
   "file_extension": ".py",
   "mimetype": "text/x-python",
   "name": "python",
   "nbconvert_exporter": "python",
   "pygments_lexer": "ipython3",
   "version": "3.6.8"
  }
 },
 "nbformat": 4,
 "nbformat_minor": 2
}
