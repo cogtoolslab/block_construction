{
 "cells": [
  {
   "cell_type": "markdown",
   "metadata": {},
   "source": [
    "# Analyses for SPP"
   ]
  },
  {
   "cell_type": "code",
   "execution_count": null,
   "metadata": {},
   "outputs": [],
   "source": [
    "import os\n",
    "import sys\n",
    "import urllib, io\n",
    "\n",
    "import numpy as np\n",
    "import scipy.stats as stats\n",
    "import pandas as pd\n",
    "from random import random\n",
    "\n",
    "import pymongo as pm\n",
    "from collections import Counter\n",
    "import json\n",
    "import re\n",
    "import ast\n",
    "\n",
    "from PIL import Image, ImageOps, ImageDraw, ImageFont \n",
    "\n",
    "from io import BytesIO\n",
    "import base64\n",
    "\n",
    "import  matplotlib\n",
    "from matplotlib import pylab, mlab, pyplot\n",
    "%matplotlib inline\n",
    "from IPython.core.pylabtools import figsize, getfigs\n",
    "plt = pyplot\n",
    "import matplotlib as mpl\n",
    "mpl.rcParams['pdf.fonttype'] = 42\n",
    "\n",
    "import seaborn as sns\n",
    "sns.set_context('talk')\n",
    "sns.set_style('darkgrid')\n",
    "\n",
    "from IPython.display import clear_output\n",
    "\n",
    "import warnings\n",
    "warnings.filterwarnings(\"ignore\", category=DeprecationWarning)\n",
    "warnings.filterwarnings(\"ignore\", message=\"numpy.dtype size changed\")\n",
    "warnings.filterwarnings(\"ignore\", message=\"numpy.ufunc size changed\")"
   ]
  },
  {
   "cell_type": "code",
   "execution_count": null,
   "metadata": {},
   "outputs": [],
   "source": [
    "## directory & file hierarchy\n",
    "proj_dir = os.path.abspath('..')\n",
    "datavol_dir = os.path.join(proj_dir,'data')\n",
    "analysis_dir = os.path.abspath(os.path.join(os.getcwd(),'..'))\n",
    "results_dir = os.path.join(proj_dir,'results')\n",
    "plot_dir = os.path.join(results_dir,'plots')\n",
    "csv_dir = os.path.join(results_dir,'csv')\n",
    "json_dir = os.path.join(results_dir,'json')\n",
    "exp_dir = os.path.abspath(os.path.join(proj_dir,'experiments'))\n",
    "png_dir = os.path.abspath(os.path.join(datavol_dir,'png'))\n",
    "jefan_dir = os.path.join(analysis_dir,'jefan')\n",
    "will_dir = os.path.join(analysis_dir,'will')\n",
    "\n",
    "## add helpers to python path\n",
    "if os.path.join(proj_dir,'stimuli') not in sys.path:\n",
    "    sys.path.append(os.path.join(proj_dir,'stimuli'))\n",
    "    \n",
    "if not os.path.exists(results_dir):\n",
    "    os.makedirs(results_dir)\n",
    "    \n",
    "if not os.path.exists(plot_dir):\n",
    "    os.makedirs(plot_dir)   \n",
    "    \n",
    "if not os.path.exists(csv_dir):\n",
    "    os.makedirs(csv_dir)       "
   ]
  },
  {
   "cell_type": "markdown",
   "metadata": {},
   "source": [
    "### Load Data"
   ]
  },
  {
   "cell_type": "code",
   "execution_count": null,
   "metadata": {},
   "outputs": [],
   "source": [
    "# Trial_end data\n",
    "iterationName = 'pilot4'\n",
    "\n",
    "trial_path = os.path.join(csv_dir,'block_silhouette_{}.csv'.format(iterationName))\n",
    "df = pd.read_csv(trial_path)"
   ]
  },
  {
   "cell_type": "code",
   "execution_count": null,
   "metadata": {},
   "outputs": [],
   "source": [
    "# Settled_block data\n",
    "settled_path = os.path.join(csv_dir,'block_silhouette_settled_{}.csv'.format(iterationName))\n",
    "dfs = pd.read_csv(settled_path)"
   ]
  },
  {
   "cell_type": "code",
   "execution_count": null,
   "metadata": {},
   "outputs": [],
   "source": [
    "# Explore_end data\n",
    "explore_path = os.path.join(csv_dir,'block_silhouette_explore_{}.csv'.format(iterationName))\n",
    "dfe = pd.read_csv(explore_path)"
   ]
  },
  {
   "cell_type": "code",
   "execution_count": null,
   "metadata": {},
   "outputs": [],
   "source": [
    "# Exclude outliers\n",
    "low_scores = df[(df.trialNum == 15) & (df.score == 0)]['gameID']\n",
    "\n",
    "df = df[~df.gameID.isin(low_scores)]\n",
    "dfs = dfs[~dfs.gameID.isin(low_scores)]\n",
    "dfe = dfe[~dfe.gameID.isin(low_scores)]\n",
    "\n",
    "n = df.gameID.nunique()\n",
    "print(str(n) + ' participants with score > 0 and full set of trials')\n"
   ]
  },
  {
   "cell_type": "markdown",
   "metadata": {},
   "source": [
    "## Preprocessing"
   ]
  },
  {
   "cell_type": "markdown",
   "metadata": {},
   "source": [
    "### Block Data"
   ]
  },
  {
   "cell_type": "code",
   "execution_count": null,
   "metadata": {},
   "outputs": [],
   "source": [
    "# Add a condition for physical with 0 actions\n",
    "dfs['extendedCondition'] = dfs['condition']\n",
    "trialInfo = df[['gameID','trialNum','numBlocksExplore']]\n",
    "dfs = dfs.merge(trialInfo, on=['gameID', 'trialNum'], how='left')\n",
    "dfs.loc[(df.condition == 'physical') & (dfs.numBlocksExplore == 0),'extendedCondition'] = 'no_action_physical'\n",
    "\n",
    "# Add useful variables to dataframe\n",
    "dfs['subject_trial'] = dfs['gameID'] + '_' + str(dfs['trialNum'])\n",
    "dfs['condition_number'] = np.where(dfs['condition']=='mental', 100, 2)\n",
    "dfs['condition_code'] = dfs['condition_number'] + dfs['trialNum']\n",
    "dfs['time_bin'] = np.round_(dfs['timePlaced']/10000)*10000\n",
    "\n",
    "dfs_build = dfs[dfs.phase == 'build']\n",
    "dfs_explore = dfs[dfs.phase == 'explore']"
   ]
  },
  {
   "cell_type": "code",
   "execution_count": null,
   "metadata": {},
   "outputs": [],
   "source": [
    "df = df.merge(dfe[['gameID','trialNum','condition','totalExploreBlocks','numAttempts','finalExploreBlocks']], on=['gameID','trialNum','condition'], how='left')"
   ]
  },
  {
   "cell_type": "markdown",
   "metadata": {},
   "source": [
    "### Explore Data"
   ]
  },
  {
   "cell_type": "markdown",
   "metadata": {},
   "source": [
    "## Basic summaries"
   ]
  },
  {
   "cell_type": "markdown",
   "metadata": {},
   "source": [
    "### Did people use the physical practice phase? \n",
    "What percentage of physical trials did people place >0 blocks?\n",
    "\n",
    "What is the distribution of total time from first block placed to last block placed? (Did they use the full time?)"
   ]
  },
  {
   "cell_type": "code",
   "execution_count": null,
   "metadata": {},
   "outputs": [],
   "source": [
    "physical_explore = dfe[dfe.condition == 'physical']\n",
    "\n",
    "n_something = physical_explore[physical_explore.totalExploreBlocks > 0].shape[0]\n",
    "n_nothing = physical_explore[physical_explore.totalExploreBlocks == 0].shape[0]\n",
    "\n",
    "print('In ' + str(n_something) + ' physical explore phases, participant placed at least one block')\n",
    "print('In ' + str(n_nothing) + ' physical explore phases, participant placed zero blocks')\n",
    "print(str('{}%'.format(100*n_something/(n_something+n_nothing))))"
   ]
  },
  {
   "cell_type": "code",
   "execution_count": null,
   "metadata": {},
   "outputs": [],
   "source": [
    "def percent_used_exactly(totalExploreBlocks, how_many = 0):\n",
    "    n_something = totalExploreBlocks[totalExploreBlocks != how_many].shape[0]\n",
    "    n_nothing = totalExploreBlocks[totalExploreBlocks == how_many].shape[0]\n",
    "    return 100*n_something/(n_something+n_nothing)"
   ]
  },
  {
   "cell_type": "code",
   "execution_count": null,
   "metadata": {},
   "outputs": [],
   "source": [
    "def percent_used_at_least(totalExploreBlocks, how_many = 1):\n",
    "    n_something = totalExploreBlocks[totalExploreBlocks >= how_many].shape[0]\n",
    "    n_nothing = totalExploreBlocks[totalExploreBlocks < how_many].shape[0]\n",
    "    print(n_something)\n",
    "    print(n_nothing)\n",
    "    return 100*n_something/(n_something+n_nothing)"
   ]
  },
  {
   "cell_type": "code",
   "execution_count": null,
   "metadata": {
    "scrolled": true
   },
   "outputs": [],
   "source": [
    "percent_used_at_least(physical_explore['totalExploreBlocks'],1)"
   ]
  },
  {
   "cell_type": "code",
   "execution_count": null,
   "metadata": {},
   "outputs": [],
   "source": [
    "summaryUsedExplores = physical_explore.groupby(['gameID','trialNum'])['totalExploreBlocks'].apply(percent_used_exactly)"
   ]
  },
  {
   "cell_type": "code",
   "execution_count": null,
   "metadata": {},
   "outputs": [],
   "source": [
    "summaryUsedExplores"
   ]
  },
  {
   "cell_type": "code",
   "execution_count": null,
   "metadata": {},
   "outputs": [],
   "source": [
    "sum((pd.DataFrame(summaryUsedExplores).reset_index().groupby(by='gameID').agg(sum))['totalExploreBlocks']==0)"
   ]
  },
  {
   "cell_type": "code",
   "execution_count": null,
   "metadata": {},
   "outputs": [],
   "source": [
    "(pd.DataFrame(summaryUsedExplores).reset_index().groupby(by='gameID').agg(sum))"
   ]
  },
  {
   "cell_type": "code",
   "execution_count": null,
   "metadata": {},
   "outputs": [],
   "source": [
    "summaryUsedExplores = physical_explore.groupby(['gameID','trialNum'])['totalExploreBlocks'].apply(percent_used_exactly)\n",
    "sns.distplot(summaryUsedExplores.groupby('gameID').apply(percent_used_exactly),\n",
    "            bins = 10,\n",
    "            kde = False)\n",
    "plt.ylabel('count')\n",
    "plt.xlabel('percent explore phases used')\n",
    "plt.title('Participant use of explore phase')\n",
    "plt.tight_layout()\n",
    "percent_used(summaryUsedExplores, how_many = 100)"
   ]
  },
  {
   "cell_type": "code",
   "execution_count": null,
   "metadata": {
    "scrolled": true
   },
   "outputs": [],
   "source": [
    "physical_explore[physical_explore['totalExploreBlocks']>0].shape[0]"
   ]
  },
  {
   "cell_type": "code",
   "execution_count": null,
   "metadata": {},
   "outputs": [],
   "source": [
    "physical_explore[physical_explore['totalExploreBlocks']==0].shape[0]"
   ]
  },
  {
   "cell_type": "code",
   "execution_count": null,
   "metadata": {},
   "outputs": [],
   "source": [
    "trialExploreUsage = physical_explore.groupby(['trialNum','gameID'])['totalExploreBlocks'].apply(percent_used_exactly)\n",
    "trialExploreUsage = trialExploreUsage.reset_index()\n",
    "\n",
    "sns.set_context('poster')\n",
    "b = sns.lineplot(data = trialExploreUsage,\n",
    "                palette='husl',\n",
    "                x='trialNum',\n",
    "                y='totalExploreBlocks')\n",
    "plt.legend(bbox_to_anchor=(1.0,1))\n",
    "plt.ylabel('PercentExploresUsed')\n",
    "plt.xlabel('trialNum')\n",
    "plt.yticks(np.linspace(0,1,6))\n",
    "plt.tight_layout()\n",
    "plt.title('mean explore phase use over time', fontsize = 18)\n"
   ]
  },
  {
   "cell_type": "code",
   "execution_count": null,
   "metadata": {},
   "outputs": [],
   "source": [
    "trialExploreUsage = physical_explore.groupby(['targetName','gameID'])['totalExploreBlocks'].apply(percent_used_exactly)\n",
    "trialExploreUsage = trialExploreUsage.reset_index()\n",
    "\n",
    "sns.set_context('poster')\n",
    "b = sns.barplot(data = trialExploreUsage,\n",
    "                palette='husl',\n",
    "                x='targetName',\n",
    "                y='totalExploreBlocks')\n",
    "plt.ylabel('PercentExploresUsed')\n",
    "plt.xlabel('targetName')\n",
    "plt.yticks(np.linspace(0,1,6))\n",
    "plt.tight_layout()\n",
    "plt.title('mean explore phase use by structure', fontsize = 18)\n"
   ]
  },
  {
   "cell_type": "code",
   "execution_count": null,
   "metadata": {},
   "outputs": [],
   "source": [
    "fig = plt.figure(figsize=(8,6))\n",
    "sns.set_context('poster')\n",
    "sns.set_style('whitegrid', {'legend.frameon':False})\n",
    "c = sns.distplot(physical_explore['totalExploreBlocks'],\n",
    "                 bins=9, \n",
    "                 kde=False, \n",
    "                 #hue='gameID', \n",
    "                 #kind='point',\n",
    "                );\n",
    "plt.ylabel('count')\n",
    "plt.xlabel('blocks placed')\n",
    "plt.title('Blocks places in physical explore phase')\n",
    "plt.tight_layout()\n"
   ]
  },
  {
   "cell_type": "code",
   "execution_count": null,
   "metadata": {},
   "outputs": [],
   "source": [
    "y = physical_explore[physical_explore['totalExploreBlocks']>0]['totalExploreBlocks']\n",
    "\n",
    "np.mean(y)"
   ]
  },
  {
   "cell_type": "code",
   "execution_count": null,
   "metadata": {},
   "outputs": [],
   "source": [
    "np.std(physical_explore[physical_explore['totalExploreBlocks']>0]['totalExploreBlocks'])"
   ]
  },
  {
   "cell_type": "markdown",
   "metadata": {},
   "source": [
    "### Explore vs. exploit question: how many attempts did they make?\n",
    "Proportion of trials that had 0 attempts (no blocks), 1 attempt, 2+ attempts.\n",
    "\n",
    "\"Attempt\" operationalized as explore bout in which >= 1 block placed. \n",
    "\n",
    "How many \"failures\" (tower collapsed/fell over)?\n",
    "\n",
    "Insofar as num_blocks / attempt is \"high,\" suggestive of instrumental planning as opposed to exploration as such. "
   ]
  },
  {
   "cell_type": "code",
   "execution_count": null,
   "metadata": {},
   "outputs": [],
   "source": [
    "real_attempts = physical_explore['numAttempts'][physical_explore.totalExploreBlocks>0]\n",
    "\n",
    "fig = plt.figure(figsize=(8,6))\n",
    "sns.set_context('poster')\n",
    "sns.set_style('whitegrid', {'legend.frameon':False})\n",
    "c = sns.distplot(real_attempts,\n",
    "                 #bins=9, \n",
    "                 kde=False, \n",
    "                 #kind='point',\n",
    "                );\n",
    "plt.ylabel('count')\n",
    "plt.xlabel('n attempts')\n",
    "plt.title('Number of attempts')\n",
    "plt.tight_layout()\n"
   ]
  },
  {
   "cell_type": "code",
   "execution_count": null,
   "metadata": {},
   "outputs": [],
   "source": []
  },
  {
   "cell_type": "code",
   "execution_count": null,
   "metadata": {},
   "outputs": [],
   "source": [
    "one = sum(physical_explore['numAttempts'] == 1)\n",
    "two = sum(physical_explore['numAttempts'] == 2)\n",
    "three = sum(physical_explore['numAttempts'] == 3)\n",
    "\n",
    "print(one, two, three)\n",
    "\n"
   ]
  },
  {
   "cell_type": "code",
   "execution_count": null,
   "metadata": {},
   "outputs": [],
   "source": [
    "final_attempts = physical_explore['finalExploreBlocks'][physical_explore.totalExploreBlocks > 0]\n",
    "\n",
    "fig = plt.figure(figsize=(8,6))\n",
    "sns.set_context('poster')\n",
    "sns.set_style('whitegrid', {'legend.frameon':False})\n",
    "c = sns.distplot(final_attempts,\n",
    "                 #bins=9, \n",
    "                 kde=False, \n",
    "                 #kind='point',\n",
    "                );\n",
    "plt.ylabel('count')\n",
    "plt.xlabel('n blocks')\n",
    "plt.title('Number blocks in final attempt')\n",
    "plt.tight_layout()\n"
   ]
  },
  {
   "cell_type": "code",
   "execution_count": null,
   "metadata": {},
   "outputs": [],
   "source": [
    "numBlock_data = df\n",
    "\n",
    "fig = plt.figure(figsize=(8,6))\n",
    "sns.set_context('poster')\n",
    "sns.set_style('whitegrid', {'legend.frameon':False})\n",
    "c = sns.distplot(numBlock_data['numBlocks'],\n",
    "                 #bins=9, \n",
    "                 kde=False, \n",
    "                 #kind='point',\n",
    "                );\n",
    "plt.ylabel('count')\n",
    "plt.xlabel('n blocks')\n",
    "plt.title('Number blocks in reconstruction')\n",
    "plt.tight_layout()"
   ]
  },
  {
   "cell_type": "code",
   "execution_count": null,
   "metadata": {},
   "outputs": [],
   "source": [
    "print('reconstruction mean: {}'.format(np.mean(physical_explore['finalExploreBlocks'])) +\\\n",
    "      ', sd: {}'.format(np.std(physical_explore['finalExploreBlocks'])))\n",
    "\n",
    "print('explore mean: {}'.format(np.mean(numBlock_data['numBlocks'])) +\\\n",
    "      ', sd: {}'.format(np.std(numBlock_data['numBlocks'])))"
   ]
  },
  {
   "cell_type": "code",
   "execution_count": null,
   "metadata": {},
   "outputs": [],
   "source": [
    "list(df.columns)"
   ]
  },
  {
   "cell_type": "code",
   "execution_count": null,
   "metadata": {},
   "outputs": [],
   "source": [
    "df\n",
    "\n",
    "col_name = 'totalExploreBlocks'\n",
    "\n",
    "fig = plt.figure(figsize=(8,6))\n",
    "sns.set_context('poster')\n",
    "sns.set_style('whitegrid', {'legend.frameon':False})\n",
    "c = sns.distplot(df[(df.condition!='practice') & (df.buildTime>0)][col_name],\n",
    "                 bins=9, \n",
    "                 kde=False, \n",
    "                 #kind='point',\n",
    "                );\n",
    "plt.ylabel('count')\n",
    "plt.xlabel(col_name)\n",
    "plt.title(col_name)\n",
    "plt.tight_layout()\n",
    "\n",
    "print(col_name + ' mean: {}'.format(np.mean(numBlock_data[col_name])) +\\\n",
    "      ', sd: {}'.format(np.std(numBlock_data[col_name])))\n"
   ]
  },
  {
   "cell_type": "code",
   "execution_count": null,
   "metadata": {},
   "outputs": [],
   "source": [
    "import ast\n",
    "\n",
    "def newAppend(a,b):\n",
    "    c = ast.literal_eval(a).copy()\n",
    "    c.append(b)\n",
    "    return c\n",
    "\n",
    "attemptBlocks = physical_explore.apply(\n",
    "    lambda row: newAppend(row['preResetExploreBlocks'],row['finalExploreBlocks']),axis=1)\n",
    "\n",
    "\n",
    "block_and_attempts = []\n",
    "\n",
    "for subject, attemptList in enumerate(attemptBlocks):\n",
    "    for an, ab in enumerate(attemptList):\n",
    "        block_and_attempts.append([an+1,ab,an==len(attemptList)-1,subject,len(attemptList)])\n",
    "\n",
    "df_block_and_attempts = pd.DataFrame(block_and_attempts, columns = \n",
    "                                     ['attempt_number', 'attempt_blocks', 'final_attempt','subject','subjectAttempts']) \n",
    "        \n",
    "df_block_and_attempts['attempt_blocks_jittered'] = df_block_and_attempts['attempt_blocks'].apply(lambda x: x + ((random()-0.5)/5))\n",
    "\n",
    "fig = plt.figure(figsize=(8,6))\n",
    "sns.set_context('poster')\n",
    "sns.set_style('whitegrid', {'legend.frameon':False})\n",
    "sns.swarmplot(x=\"attempt_number\", y=\"attempt_blocks_jittered\", hue=\"subjectAttempts\", dodge = True,\n",
    "              palette=[\"r\", \"c\", \"y\"], data=df_block_and_attempts)\n",
    "plt.legend(bbox_to_anchor=(1.0,1))\n",
    "plt.ylabel('Number of blocks',fontsize=14)\n",
    "plt.xlabel('Number attempt',fontsize=14)\n",
    "plt.title('Number of blocks placed in each attempt, by number of attempts total', fontsize=16)\n"
   ]
  },
  {
   "cell_type": "code",
   "execution_count": null,
   "metadata": {},
   "outputs": [],
   "source": [
    "import ast\n",
    "\n",
    "def newAppend(a,b):\n",
    "    c = ast.literal_eval(a).copy()\n",
    "    c.append(b)\n",
    "    return c\n",
    "\n",
    "attemptBlocks = physical_explore.apply(\n",
    "    lambda row: newAppend(row['preResetExploreBlocks'],row['finalExploreBlocks']),axis=1)\n",
    "\n",
    "\n",
    "block_and_attempts = []\n",
    "\n",
    "for subject, attemptList in enumerate(attemptBlocks):\n",
    "    for an, ab in enumerate(attemptList):\n",
    "        block_and_attempts.append([an+1,ab,an==len(attemptList)-1,subject,len(attemptList)])\n",
    "\n",
    "df_block_and_attempts = pd.DataFrame(block_and_attempts, columns = \n",
    "                                     ['attempt_number', 'attempt_blocks', 'final_attempt','subject','subjectAttempts']) \n",
    "        \n",
    "df_block_and_attempts['attempt_blocks_jittered'] = df_block_and_attempts['attempt_blocks'].apply(lambda x: x + ((random()-0.5)/5))\n",
    "\n",
    "fig = plt.figure(figsize=(8,6))\n",
    "sns.set_context('poster')\n",
    "sns.set_style('whitegrid', {'legend.frameon':False})\n",
    "sns.swarmplot(x=\"subject\", y=\"attempt_blocks_jittered\", hue=\"attempt_number\", dodge = True,\n",
    "              palette=[\"r\", \"c\", \"y\"], data=df_block_and_attempts)\n",
    "plt.legend(bbox_to_anchor=(1.0,1))\n",
    "plt.ylabel('Number of blocks',fontsize=14)\n",
    "plt.xlabel('Number attempt',fontsize=14)\n",
    "plt.title('Number of blocks placed in each attempt, by number of attempts total', fontsize=16)\n"
   ]
  },
  {
   "cell_type": "markdown",
   "metadata": {},
   "source": [
    "### Within the final prototyping attempt, what did people build?\n",
    "\n",
    "How similar are the prototypes to the final reconstructions?\n",
    "\n",
    "- Intersection over Union for every matched time step within-participant, between-phase, within-structure -- compared to IOU for between-participant, btw-phase, within-structure.\n",
    "- ** block_id \"match proportion\" metric ... compare observed to null distribution with participants shuffled\n",
    "\n",
    "If this phase was meant to be practice, for those blocks that they did get to place in the practice phase, did they  place *those* blocks more accurately in the build phase than they did in the practice phase?\n",
    "\n",
    "- Compute difference in area under the curve ...\n",
    "- Examine cumulative surface area as function of block placement by phase\n",
    "\n",
    "How much did the within-trial observed accuracy timecourse deviate from optimal accuracy timecourse?"
   ]
  },
  {
   "cell_type": "code",
   "execution_count": null,
   "metadata": {},
   "outputs": [],
   "source": [
    "list(df.columns)"
   ]
  },
  {
   "cell_type": "code",
   "execution_count": null,
   "metadata": {},
   "outputs": [],
   "source": [
    "df = df[(df.numBlocks>2)]\n",
    "df = df[~df.gameID.isin(low_scores)]\n",
    "\n",
    "\n",
    "df['extendedCondition'] = df['condition']\n",
    "df.loc[(df.condition == 'physical') & (df.totalExploreBlocks >= 6),'extendedCondition'] = '>=6 blocks'\n",
    "df.loc[(df.condition == 'physical') & (df.totalExploreBlocks < 6),'extendedCondition'] = '3<x<6 blocks'\n",
    "df.loc[(df.condition == 'physical') & (df.totalExploreBlocks <= 3),'extendedCondition'] = '<=3 blocks'\n",
    "df.loc[(df.condition == 'physical') & (df.totalExploreBlocks == 0),'extendedCondition'] = '0 blocks'\n",
    "\n",
    "fig = plt.figure(figsize=(10,6))\n",
    "sns.set_context('poster')\n",
    "sns.set_style('whitegrid', {'legend.frameon':False})\n",
    "b = sns.barplot(data = df,\n",
    "                palette='husl',\n",
    "                hue='extendedCondition',\n",
    "                hue_order=['mental','0 blocks','<=3 blocks','3<x<6 blocks','>=6 blocks'],\n",
    "                #hue_order=['mental','no_action_physical','not_very_physical','physical','very_physical'],\n",
    "                x='condition',\n",
    "                y='normedScore')\n",
    "plt.legend(bbox_to_anchor=(1.0,1))\n",
    "plt.ylabel('Normed F1 score')\n",
    "plt.xlabel('Condition')\n",
    "plt.yticks(np.linspace(0,1,6))\n",
    "plt.tight_layout()\n",
    "plt.title('Accuracy of reconstruction by exploration', fontsize = 18)\n"
   ]
  },
  {
   "cell_type": "code",
   "execution_count": null,
   "metadata": {
    "scrolled": false
   },
   "outputs": [],
   "source": [
    "fig = plt.figure(figsize=(8,6))\n",
    "sns.set_context('poster')\n",
    "sns.set_style('whitegrid', {'legend.frameon':False})\n",
    "sns.swarmplot(data=df, x=\"condition\", y=\"normedScore\", hue=\"totalExploreBlocks\", dodge = True,\n",
    "              palette=sns.color_palette(\"hls\", 10))\n",
    "plt.legend(bbox_to_anchor=(1.0,1))\n",
    "plt.title('Accuracy of reconstruction by numblocks in exploration phase', fontsize = 18)"
   ]
  },
  {
   "cell_type": "code",
   "execution_count": null,
   "metadata": {},
   "outputs": [],
   "source": [
    "## save out to csv dir, where all the csv's go to live\n",
    "out_path = os.path.join(csv_dir,'full_temp_block_silhouette_{}.csv'.format(iterationName))\n",
    "df.to_csv(out_path)"
   ]
  },
  {
   "cell_type": "code",
   "execution_count": null,
   "metadata": {},
   "outputs": [],
   "source": []
  },
  {
   "cell_type": "code",
   "execution_count": null,
   "metadata": {},
   "outputs": [],
   "source": []
  }
 ],
 "metadata": {
  "kernelspec": {
   "display_name": "Python 3",
   "language": "python",
   "name": "python3"
  },
  "language_info": {
   "codemirror_mode": {
    "name": "ipython",
    "version": 3
   },
   "file_extension": ".py",
   "mimetype": "text/x-python",
   "name": "python",
   "nbconvert_exporter": "python",
   "pygments_lexer": "ipython3",
   "version": "3.7.4"
  }
 },
 "nbformat": 4,
 "nbformat_minor": 2
}
