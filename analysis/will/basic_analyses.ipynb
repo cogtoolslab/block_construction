{
 "cells": [
  {
   "cell_type": "code",
   "execution_count": null,
   "metadata": {},
   "outputs": [],
   "source": [
    "import os\n",
    "import sys\n",
    "import urllib, io\n",
    "\n",
    "import numpy as np\n",
    "import scipy.stats as stats\n",
    "import pandas as pd\n",
    "\n",
    "import pymongo as pm\n",
    "from collections import Counter\n",
    "import json\n",
    "import re\n",
    "import ast\n",
    "\n",
    "from PIL import Image, ImageOps, ImageDraw, ImageFont \n",
    "\n",
    "from io import BytesIO\n",
    "import base64\n",
    "\n",
    "import  matplotlib\n",
    "from matplotlib import pylab, mlab, pyplot\n",
    "%matplotlib inline\n",
    "from IPython.core.pylabtools import figsize, getfigs\n",
    "plt = pyplot\n",
    "import matplotlib as mpl\n",
    "mpl.rcParams['pdf.fonttype'] = 42\n",
    "\n",
    "import seaborn as sns\n",
    "sns.set_context('talk')\n",
    "sns.set_style('darkgrid')\n",
    "\n",
    "from IPython.display import clear_output\n",
    "\n",
    "import warnings\n",
    "warnings.filterwarnings(\"ignore\", category=DeprecationWarning)\n",
    "warnings.filterwarnings(\"ignore\", message=\"numpy.dtype size changed\")\n",
    "warnings.filterwarnings(\"ignore\", message=\"numpy.ufunc size changed\")"
   ]
  },
  {
   "cell_type": "code",
   "execution_count": null,
   "metadata": {},
   "outputs": [],
   "source": [
    "## directory & file hierarchy\n",
    "proj_dir = os.path.abspath('..')\n",
    "datavol_dir = os.path.join(proj_dir,'data')\n",
    "analysis_dir = os.path.abspath(os.path.join(os.getcwd(),'..'))\n",
    "results_dir = os.path.join(proj_dir,'results')\n",
    "plot_dir = os.path.join(results_dir,'plots')\n",
    "csv_dir = os.path.join(results_dir,'csv')\n",
    "json_dir = os.path.join(results_dir,'json')\n",
    "exp_dir = os.path.abspath(os.path.join(proj_dir,'experiments'))\n",
    "png_dir = os.path.abspath(os.path.join(datavol_dir,'png'))\n",
    "jefan_dir = os.path.join(analysis_dir,'jefan')\n",
    "will_dir = os.path.join(analysis_dir,'will')\n",
    "\n",
    "## add helpers to python path\n",
    "if os.path.join(proj_dir,'stimuli') not in sys.path:\n",
    "    sys.path.append(os.path.join(proj_dir,'stimuli'))\n",
    "    \n",
    "if not os.path.exists(results_dir):\n",
    "    os.makedirs(results_dir)\n",
    "    \n",
    "if not os.path.exists(plot_dir):\n",
    "    os.makedirs(plot_dir)   \n",
    "    \n",
    "if not os.path.exists(csv_dir):\n",
    "    os.makedirs(csv_dir)       "
   ]
  },
  {
   "cell_type": "code",
   "execution_count": null,
   "metadata": {},
   "outputs": [],
   "source": []
  },
  {
   "cell_type": "markdown",
   "metadata": {},
   "source": [
    "## Load dataframe"
   ]
  },
  {
   "cell_type": "code",
   "execution_count": null,
   "metadata": {},
   "outputs": [],
   "source": [
    "iterationName = 'pilot4'\n",
    "read_path = os.path.join(csv_dir,'block_silhouette_{}.csv'.format(iterationName))\n",
    "df = pd.read_csv(read_path)"
   ]
  },
  {
   "cell_type": "markdown",
   "metadata": {},
   "source": [
    "### Exclude Outliers"
   ]
  },
  {
   "cell_type": "code",
   "execution_count": null,
   "metadata": {},
   "outputs": [],
   "source": [
    "#in progress\n",
    "iterationName = 'pilot3'\n",
    "read_path = os.path.join(csv_dir,'block_silhouette_{}.csv'.format(iterationName))\n",
    "df3 = pd.read_csv(read_path)\n",
    "\n",
    "iterationName = 'pilot4'\n",
    "read_path = os.path.join(csv_dir,'block_silhouette_{}.csv'.format(iterationName))\n",
    "df4 = pd.read_csv(read_path)\n",
    "\n",
    "df = pd.merge(df3 , df4 , how='outer')\n",
    "\n",
    "low_scores = df[(df.trialNum == 15) & (df.score == 0)]['gameID']\n",
    "df = df[~df.gameID.isin(low_scores)]"
   ]
  },
  {
   "cell_type": "markdown",
   "metadata": {},
   "source": [
    "## Summary Statistics"
   ]
  },
  {
   "cell_type": "code",
   "execution_count": null,
   "metadata": {},
   "outputs": [],
   "source": [
    "# Accuracy etc. by condition\n",
    "df[['condition','normedScore','numBlocks','buildTime']].groupby(by=['condition']).describe()"
   ]
  },
  {
   "cell_type": "code",
   "execution_count": null,
   "metadata": {},
   "outputs": [],
   "source": [
    "# Accuracy etc. by trial number\n",
    "df[['condition','normedScore','numBlocks','buildTime','trialNum']].groupby(by='trialNum').describe()"
   ]
  },
  {
   "cell_type": "code",
   "execution_count": null,
   "metadata": {},
   "outputs": [],
   "source": [
    "subject_means_by_condition = df.groupby(['gameID','condition']).mean()\n",
    "condition_means = subject_means_by_condition.groupby('condition')['normedScore'].mean()\n",
    "\n",
    "subject_scores_by_condition = subject_means_by_condition['normedScore']\n",
    "\n",
    "fig = plt.figure(figsize=(8,6))\n",
    "sns.set_context('poster')\n",
    "sns.set_style('whitegrid', {'legend.frameon':False})\n",
    "c = sns.catplot(x='condition', \n",
    "                y='normedScore', \n",
    "                hue='gameID', \n",
    "                kind='point', \n",
    "                legend=False,\n",
    "                data=df);\n",
    "plt.ylabel('Normed F1 score')\n",
    "plt.xlabel('Condition')\n",
    "plt.yticks(np.linspace(0.4,1,5))\n",
    "plt.setp(c.ax.lines,linewidth=2)\n",
    "plt.tight_layout()\n",
    "\n"
   ]
  },
  {
   "cell_type": "code",
   "execution_count": null,
   "metadata": {},
   "outputs": [],
   "source": [
    "score_condition = df[['condition','normedScore']]"
   ]
  },
  {
   "cell_type": "code",
   "execution_count": null,
   "metadata": {},
   "outputs": [],
   "source": [
    "fig = plt.figure(figsize=(8,6))\n",
    "sns.set_context('poster')\n",
    "sns.set_style('whitegrid', {'legend.frameon':False})\n",
    "b = sns.barplot(data=score_condition,\n",
    "                palette='husl',\n",
    "                hue='condition',\n",
    "                x='condition',\n",
    "                y='normedScore')\n",
    "plt.legend(bbox_to_anchor=(1.0,1))\n",
    "plt.ylabel('Normed F1 score')\n",
    "plt.xlabel('Condition')\n",
    "plt.yticks(np.linspace(0,1,6))\n",
    "plt.tight_layout()\n"
   ]
  },
  {
   "cell_type": "code",
   "execution_count": null,
   "metadata": {},
   "outputs": [],
   "source": [
    "df['extendedCondition'] = df['condition']\n",
    "df.loc[(df.condition == 'physical') & (df.numBlocksExplore == 0),'extendedCondition'] = 'no_action_physical'\n",
    "\n",
    "fig = plt.figure(figsize=(4,4))\n",
    "sns.set_context('poster')\n",
    "sns.set_style('whitegrid', {'legend.frameon':False})\n",
    "b = sns.barplot(data = df,\n",
    "                palette='husl',\n",
    "                hue='extendedCondition',\n",
    "                x='condition',\n",
    "                y='normedScore')\n",
    "plt.legend(bbox_to_anchor=(1.0,1))\n",
    "plt.ylabel('Normed F1 score')\n",
    "plt.xlabel('Condition')\n",
    "plt.yticks(np.linspace(0,1,6))\n",
    "plt.tight_layout()\n",
    "\n",
    "\n"
   ]
  },
  {
   "cell_type": "code",
   "execution_count": null,
   "metadata": {},
   "outputs": [],
   "source": [
    "# Add a condition for physical with 0 actions\n",
    "df['extendedCondition'] = df['condition']\n",
    "df.loc[(df.condition == 'physical') & (df.numBlocksExplore == 0),'extendedCondition'] = 'no_action_physical'\n"
   ]
  },
  {
   "cell_type": "code",
   "execution_count": null,
   "metadata": {},
   "outputs": [],
   "source": [
    "fig = plt.figure(figsize=(4,4))\n",
    "sns.set_context('poster')\n",
    "sns.set_style('whitegrid', {'legend.frameon':False})\n",
    "b = sns.barplot(data=df,\n",
    "                palette='husl',\n",
    "                hue='extendedCondition',\n",
    "                x='condition',\n",
    "                y='numBlocks')\n",
    "plt.legend(bbox_to_anchor=(1.0,1))\n",
    "plt.ylabel('n blocks')\n",
    "plt.xlabel('condition')\n",
    "plt.yticks(np.linspace(0,12,6))\n",
    "plt.tight_layout()"
   ]
  },
  {
   "cell_type": "code",
   "execution_count": null,
   "metadata": {},
   "outputs": [],
   "source": [
    "score_trials = df[['trialNum','normedScore']]\n",
    "\n",
    "fig = plt.figure(figsize=(8,4))\n",
    "sns.set_context('poster')\n",
    "sns.set_style('whitegrid', {'legend.frameon':False})\n",
    "b = sns.lineplot(data=score_trials,\n",
    "                palette='husl',\n",
    "                x='trialNum',\n",
    "                y='normedScore')\n",
    "plt.ylabel('Normed F1 score')\n",
    "plt.xlabel('Trial')\n",
    "plt.yticks(np.linspace(0.4,1,6))\n",
    "plt.xticks(np.linspace(0,15,16))\n",
    "plt.tight_layout()"
   ]
  },
  {
   "cell_type": "markdown",
   "metadata": {},
   "source": [
    "## Load settled dataframe"
   ]
  },
  {
   "cell_type": "code",
   "execution_count": null,
   "metadata": {},
   "outputs": [],
   "source": [
    "## load in dataframe\n",
    "iterationName = 'pilot4'\n",
    "\n",
    "data_path = os.path.join(csv_dir,'block_silhouette_settled_{}.csv'.format(iterationName))\n",
    "dfs = pd.read_csv(data_path)"
   ]
  },
  {
   "cell_type": "markdown",
   "metadata": {},
   "source": [
    "### Exclude outliers"
   ]
  },
  {
   "cell_type": "code",
   "execution_count": null,
   "metadata": {},
   "outputs": [],
   "source": [
    "low_scores = df[(df.trialNum == 15) & (df.score == 0)]['gameID']\n",
    "dfs = dfs[~dfs.gameID.isin(low_scores)]"
   ]
  },
  {
   "cell_type": "code",
   "execution_count": null,
   "metadata": {},
   "outputs": [],
   "source": [
    "# Add a condition for physical with 0 actions\n",
    "dfs['extendedCondition'] = dfs['condition']\n",
    "\n",
    "trialInfo = df[['gameID','trialNum','numBlocksExplore']]\n",
    "\n",
    "dfs = dfs.merge(trialInfo, on=['gameID', 'trialNum'], how='left')"
   ]
  },
  {
   "cell_type": "code",
   "execution_count": null,
   "metadata": {},
   "outputs": [],
   "source": [
    "dfs.loc[(df.condition == 'physical') & (dfs.numBlocksExplore == 0),'extendedCondition'] = 'no_action_physical'"
   ]
  },
  {
   "cell_type": "code",
   "execution_count": null,
   "metadata": {},
   "outputs": [],
   "source": [
    "# Add useful variables to dataframe\n",
    "\n",
    "dfs['subject_trial'] = dfs['gameID'] + '_' + str(dfs['trialNum'])\n",
    "dfs['condition_number'] = np.where(dfs['condition']=='mental', 100, 2)\n",
    "dfs['condition_code'] = dfs['condition_number'] + dfs['trialNum']\n",
    "dfs['time_bin'] = np.round_(dfs['timePlaced']/10000)*10000\n",
    "\n",
    "dfs_build = dfs[dfs.phase == 'build']\n",
    "dfs_explore = dfs[dfs.phase == 'explore']\n"
   ]
  },
  {
   "cell_type": "code",
   "execution_count": null,
   "metadata": {},
   "outputs": [],
   "source": [
    "dfs['subject_trial'] = dfs['gameID'] + '_' + str(dfs['trialNum'])\n",
    "dfs['condition_number'] = np.where(dfs['condition']=='mental', 100, 2)\n",
    "dfs['condition_code'] = dfs['condition_number'] + dfs['trialNum']/2\n",
    "\n",
    "fig = plt.figure(figsize=(12,6))\n",
    "sns.set_context('poster')\n",
    "sns.set_style('whitegrid', {'legend.frameon':False})\n",
    "ax = sns.lineplot(x=\"timePlaced\", \n",
    "                  y=\"normedIncrementalScore\", \n",
    "                  hue='condition_code', \n",
    "                  units=\"subject_trial\",\n",
    "                  palette='coolwarm',\n",
    "                  estimator=None, lw=0.7,\n",
    "                  data=dfs[dfs['phase']=='build'])\n",
    "\n",
    "#red is mental, blue is physical"
   ]
  },
  {
   "cell_type": "code",
   "execution_count": null,
   "metadata": {},
   "outputs": [],
   "source": [
    "# 'Scores over time across participant and structure, by condition'\n",
    "\n",
    "fig = plt.figure(figsize=(12,6))\n",
    "sns.set_context('poster')\n",
    "sns.set_style('whitegrid', {'legend.frameon':False})\n",
    "ax = sns.lineplot(x=\"numBlocks\", \n",
    "                  y=\"normedIncrementalScore\", \n",
    "                  hue='extendedCondition', \n",
    "                  estimator= np.mean,\n",
    "                  palette='coolwarm',\n",
    "                  lw=0.7,\n",
    "                  data=dfs[dfs.phase == 'build']) #and numblocks=0"
   ]
  },
  {
   "cell_type": "code",
   "execution_count": null,
   "metadata": {},
   "outputs": [],
   "source": [
    "fig = plt.figure(figsize=(12,6))\n",
    "sns.set_context('poster')\n",
    "sns.set_style('whitegrid', {'legend.frameon':False})\n",
    "ax = sns.lineplot(x=\"time_bin\", \n",
    "                  y=\"normedIncrementalScore\", \n",
    "                  hue='extendedCondition', \n",
    "                  estimator= np.mean,\n",
    "                  palette='coolwarm',\n",
    "                  lw=0.7,\n",
    "                  data=dfs[dfs.phase == 'build'])"
   ]
  },
  {
   "cell_type": "code",
   "execution_count": null,
   "metadata": {
    "scrolled": false
   },
   "outputs": [],
   "source": [
    "# 'Mean scores for each structure over time (binned), by condition and phase'\n",
    "\n",
    "g = sns.FacetGrid(data=dfs, row=\"targetName\", col=\"phase\", height=4, aspect = 2)\n",
    "\n",
    "sns.set_context('poster')\n",
    "sns.set_style('whitegrid', {'legend.frameon':False})\n",
    "\n",
    "g = g.map_dataframe(sns.lineplot, x=\"time_bin\", \n",
    "                  y=\"normedIncrementalScore\", \n",
    "                  hue='condition', \n",
    "                  estimator= np.mean,\n",
    "                  palette='coolwarm',\n",
    "                  lw=0.7).set_titles(\"{row_name}\").add_legend()\n"
   ]
  },
  {
   "cell_type": "code",
   "execution_count": null,
   "metadata": {
    "scrolled": true
   },
   "outputs": [],
   "source": [
    "g = sns.FacetGrid(data=dfs, row=\"targetName\", col=\"phase\", height=4, aspect = 2)\n",
    "sns.set_context('poster')\n",
    "sns.set_style('whitegrid')\n",
    "g = g.map_dataframe(sns.lineplot,\n",
    "                    x=\"numBlocks\", \n",
    "                    y=\"normedIncrementalScore\", \n",
    "                    hue='condition', \n",
    "                    palette='coolwarm',\n",
    "                    lw=0.7).set_titles(\"{row_name}\").add_legend()\n"
   ]
  },
  {
   "cell_type": "code",
   "execution_count": null,
   "metadata": {},
   "outputs": [],
   "source": []
  },
  {
   "cell_type": "code",
   "execution_count": null,
   "metadata": {
    "scrolled": false
   },
   "outputs": [],
   "source": [
    "# 'Individual scores for each attempt at each structure over time, by condition and phase'\n",
    "\n",
    "g = sns.FacetGrid(data=dfs, row=\"targetName\", col=\"phase\", height=4, aspect = 2, legend_out = True)\n",
    "\n",
    "sns.set_context('poster')\n",
    "sns.set_style('whitegrid')\n",
    "g = g.map_dataframe(sns.lineplot,\n",
    "                        x=\"timePlaced\", \n",
    "                        y=\"normedIncrementalScore\", \n",
    "                        hue='condition', \n",
    "                        label='condition',\n",
    "                        units=\"subject_trial\",\n",
    "                        estimator=None,\n",
    "                        palette='coolwarm',\n",
    "                        lw=0.7).set_titles(\"{row_name}\").add_legend()\n"
   ]
  },
  {
   "cell_type": "code",
   "execution_count": null,
   "metadata": {},
   "outputs": [],
   "source": [
    "# 'Mean scores for each participant over time, by condition and phase'\n",
    "\n",
    "g = sns.FacetGrid(data=dfs, row=\"gameID\", col=\"phase\", height=4, aspect = 2, legend_out = True)\n",
    "\n",
    "sns.set_context('poster')\n",
    "sns.set_style('whitegrid')\n",
    "g = g.map_dataframe(sns.lineplot,\n",
    "                        x=\"time_bin\", \n",
    "                        y=\"normedIncrementalScore\", \n",
    "                        hue='condition', \n",
    "                        estimator=np.mean,\n",
    "                        palette='coolwarm',\n",
    "                        lw=0.7).set_titles('subject').add_legend()\n"
   ]
  },
  {
   "cell_type": "code",
   "execution_count": null,
   "metadata": {
    "scrolled": false
   },
   "outputs": [],
   "source": [
    "max_n_blocks = max(dfs['numBlocks'])\n",
    "n_block_kinds = dfs['blockKind'].nunique()\n",
    "blockKinds = np.sort(dfs['blockKind'].unique())\n",
    "targets = np.sort(dfs['targetName'].unique())\n",
    "\n",
    "b_map = dict(zip(blockKinds, range(0,n_block_kinds)))\n",
    "print(b_map)\n",
    "blockKind_blockNum = np.zeros([n_block_kinds,max_n_blocks])\n",
    "fig, axs = plt.subplots(len(targets)+1,2, figsize=(12,20))\n",
    "\n",
    "for ci, condition in enumerate(['mental','physical']):\n",
    "    p = 0\n",
    "    for target in targets:\n",
    "        p += 1\n",
    "        target_settled = dfs[(dfs.targetName == target) & (dfs.condition == condition)]\n",
    "\n",
    "        for i in range(1, max_n_blocks):\n",
    "            ith_blocks = target_settled[target_settled.numBlocks == i]['blockKind']\n",
    "            for b in ith_blocks:\n",
    "                blockKind_blockNum[b_map[b],i] += 1\n",
    "\n",
    "        #normalize\n",
    "        blockKind_blockNum = blockKind_blockNum/list(map((lambda x: max([1,x])),np.sum(blockKind_blockNum, axis=0)))\n",
    "\n",
    "        axs[p,ci].matshow(blockKind_blockNum)\n",
    "        \n",
    "        axs[p,ci].set_title(target, fontsize=10)\n",
    "\n",
    "for ax in axs.flat:\n",
    "    ax.axis('off')\n",
    "\n",
    "plt.get_cmap().set_bad(color='red')\n",
    "plt.set_cmap('magma')"
   ]
  },
  {
   "cell_type": "code",
   "execution_count": null,
   "metadata": {},
   "outputs": [],
   "source": [
    "# difference?\n",
    "# more similar at start, at end?"
   ]
  },
  {
   "cell_type": "code",
   "execution_count": null,
   "metadata": {},
   "outputs": [],
   "source": [
    "list()"
   ]
  },
  {
   "cell_type": "code",
   "execution_count": null,
   "metadata": {},
   "outputs": [],
   "source": [
    "#code that turned out not to be useful but keeping for reference if I want to do similar analyses\n",
    "\n",
    "dfsmat = dfs[['gameID','blockKind','numBlocks','targetName','condition']]\n",
    "dfsmatCounts = dfsmat.groupby(['condition','targetName','numBlocks','blockKind']).count()['gameID']\n",
    "dfsmatTotals = dfsmat.groupby(['condition','targetName','numBlocks']).count()['blockKind']\n",
    "dfsmatNormed = dfsmatCounts/dfsmatTotals\n",
    "dfsmatNormed = dfsmatNormed.reset_index()\n",
    "\n",
    "g = sns.FacetGrid(data=dfsmatNormed.unstack(level=0), \n",
    "                           row=\"targetName\", col=\"condition\", height=4, aspect = 2, legend_out = True)\n",
    "\n",
    "sns.set_context('poster')\n",
    "sns.set_style('whitegrid')\n",
    "g = g.map_dataframe(sns.heatmap, \n",
    "                        vmin = 0,\n",
    "                        vmax = 1,\n",
    "                        palette='coolwarm').set_titles(\"{targetName}\")\n"
   ]
  },
  {
   "cell_type": "code",
   "execution_count": null,
   "metadata": {
    "scrolled": true
   },
   "outputs": [],
   "source": [
    "dfsmat = dfs[['gameID','blockKind','numBlocks','targetName','condition']]\n",
    "dfsmatCounts = dfsmat.groupby(['condition','targetName','numBlocks','blockKind']).count()['gameID']\n",
    "dfsmatTotals = dfsmat.groupby(['condition','targetName','numBlocks']).count()['blockKind']\n",
    "dfsmatNormed = dfsmatCounts/dfsmatTotals"
   ]
  },
  {
   "cell_type": "code",
   "execution_count": null,
   "metadata": {},
   "outputs": [],
   "source": []
  },
  {
   "cell_type": "code",
   "execution_count": null,
   "metadata": {},
   "outputs": [],
   "source": []
  }
 ],
 "metadata": {
  "kernelspec": {
   "display_name": "Python 3",
   "language": "python",
   "name": "python3"
  },
  "language_info": {
   "codemirror_mode": {
    "name": "ipython",
    "version": 3
   },
   "file_extension": ".py",
   "mimetype": "text/x-python",
   "name": "python",
   "nbconvert_exporter": "python",
   "pygments_lexer": "ipython3",
   "version": "3.6.8"
  }
 },
 "nbformat": 4,
 "nbformat_minor": 2
}
