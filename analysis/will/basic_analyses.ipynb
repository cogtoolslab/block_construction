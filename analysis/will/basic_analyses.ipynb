{
 "cells": [
  {
   "cell_type": "code",
   "execution_count": 1,
   "metadata": {},
   "outputs": [],
   "source": [
    "import os\n",
    "import sys\n",
    "import urllib, io\n",
    "\n",
    "import numpy as np\n",
    "import scipy.stats as stats\n",
    "import pandas as pd\n",
    "\n",
    "import pymongo as pm\n",
    "from collections import Counter\n",
    "import json\n",
    "import re\n",
    "import ast\n",
    "\n",
    "from PIL import Image, ImageOps, ImageDraw, ImageFont \n",
    "\n",
    "from io import BytesIO\n",
    "import base64\n",
    "\n",
    "import  matplotlib\n",
    "from matplotlib import pylab, mlab, pyplot\n",
    "%matplotlib inline\n",
    "from IPython.core.pylabtools import figsize, getfigs\n",
    "plt = pyplot\n",
    "import matplotlib as mpl\n",
    "mpl.rcParams['pdf.fonttype'] = 42\n",
    "\n",
    "import seaborn as sns\n",
    "sns.set_context('talk')\n",
    "sns.set_style('darkgrid')\n",
    "\n",
    "from IPython.display import clear_output\n",
    "\n",
    "import warnings\n",
    "warnings.filterwarnings(\"ignore\", category=DeprecationWarning)\n",
    "warnings.filterwarnings(\"ignore\", message=\"numpy.dtype size changed\")\n",
    "warnings.filterwarnings(\"ignore\", message=\"numpy.ufunc size changed\")"
   ]
  },
  {
   "cell_type": "code",
   "execution_count": null,
   "metadata": {},
   "outputs": [],
   "source": [
    "## directory & file hierarchy\n",
    "proj_dir = os.path.abspath('..')\n",
    "datavol_dir = os.path.join(proj_dir,'data')\n",
    "analysis_dir = os.path.abspath(os.path.join(os.getcwd(),'..'))\n",
    "results_dir = os.path.join(proj_dir,'results')\n",
    "plot_dir = os.path.join(results_dir,'plots')\n",
    "csv_dir = os.path.join(results_dir,'csv')\n",
    "json_dir = os.path.join(results_dir,'json')\n",
    "exp_dir = os.path.abspath(os.path.join(proj_dir,'experiments'))\n",
    "png_dir = os.path.abspath(os.path.join(datavol_dir,'png'))\n",
    "jefan_dir = os.path.join(analysis_dir,'jefan')\n",
    "will_dir = os.path.join(analysis_dir,'will')\n",
    "\n",
    "## add helpers to python path\n",
    "if os.path.join(proj_dir,'stimuli') not in sys.path:\n",
    "    sys.path.append(os.path.join(proj_dir,'stimuli'))\n",
    "    \n",
    "if not os.path.exists(results_dir):\n",
    "    os.makedirs(results_dir)\n",
    "    \n",
    "if not os.path.exists(plot_dir):\n",
    "    os.makedirs(plot_dir)   \n",
    "    \n",
    "if not os.path.exists(csv_dir):\n",
    "    os.makedirs(csv_dir)       "
   ]
  },
  {
   "cell_type": "code",
   "execution_count": null,
   "metadata": {},
   "outputs": [],
   "source": []
  },
  {
   "cell_type": "markdown",
   "metadata": {},
   "source": [
    "## Load dataframe"
   ]
  },
  {
   "cell_type": "code",
   "execution_count": null,
   "metadata": {},
   "outputs": [],
   "source": [
    "iterationName = 'pilot4'\n",
    "read_path = os.path.join(csv_dir,'block_silhouette_{}.csv'.format(iterationName))\n",
    "df = pd.read_csv(read_path)"
   ]
  },
  {
   "cell_type": "markdown",
   "metadata": {},
   "source": [
    "### Exclude Outliers"
   ]
  },
  {
   "cell_type": "code",
   "execution_count": null,
   "metadata": {},
   "outputs": [],
   "source": [
    "#in progress\n",
    "#iterationName = 'pilot3'\n",
    "#read_path = os.path.join(csv_dir,'block_silhouette_{}.csv'.format(iterationName))\n",
    "#df3 = pd.read_csv(read_path)\n",
    "\n",
    "iterationName = 'pilot4'\n",
    "read_path = os.path.join(csv_dir,'block_silhouette_{}.csv'.format(iterationName))\n",
    "df = pd.read_csv(read_path)\n",
    "\n",
    "#df = pd.merge(df3 , df4 , how='outer')\n",
    "\n",
    "low_scores = df[(df.trialNum == 15) & (df.score == 0)]['gameID']\n",
    "df = df[~df.gameID.isin(low_scores)]"
   ]
  },
  {
   "cell_type": "markdown",
   "metadata": {},
   "source": [
    "## Summary Statistics"
   ]
  },
  {
   "cell_type": "code",
   "execution_count": null,
   "metadata": {},
   "outputs": [],
   "source": [
    "# Accuracy etc. by condition\n",
    "df[['condition','normedScore','numBlocks','buildTime']].groupby(by=['condition']).describe()"
   ]
  },
  {
   "cell_type": "code",
   "execution_count": null,
   "metadata": {},
   "outputs": [],
   "source": [
    "# Accuracy etc. by trial number\n",
    "df[['condition','normedScore','numBlocks','buildTime','trialNum']].groupby(by='trialNum').describe()"
   ]
  },
  {
   "cell_type": "code",
   "execution_count": null,
   "metadata": {},
   "outputs": [],
   "source": [
    "subject_means_by_condition = df.groupby(['gameID','condition']).mean()\n",
    "condition_means = subject_means_by_condition.groupby('condition')['normedScore'].mean()\n",
    "\n",
    "subject_scores_by_condition = subject_means_by_condition['normedScore']\n",
    "\n",
    "fig = plt.figure(figsize=(8,6))\n",
    "sns.set_context('poster')\n",
    "sns.set_style('whitegrid', {'legend.frameon':False})\n",
    "c = sns.catplot(x='condition', \n",
    "                y='normedScore', \n",
    "                hue='gameID', \n",
    "                kind='point', \n",
    "                legend=False,\n",
    "                data=df);\n",
    "plt.ylabel('Normed F1 score')\n",
    "plt.xlabel('Condition')\n",
    "plt.yticks(np.linspace(0.4,1,5))\n",
    "plt.setp(c.ax.lines,linewidth=2)\n",
    "plt.tight_layout()\n",
    "\n"
   ]
  },
  {
   "cell_type": "code",
   "execution_count": null,
   "metadata": {},
   "outputs": [],
   "source": [
    "score_condition = df[['condition','normedScore']]"
   ]
  },
  {
   "cell_type": "code",
   "execution_count": null,
   "metadata": {},
   "outputs": [],
   "source": [
    "fig = plt.figure(figsize=(8,6))\n",
    "sns.set_context('poster')\n",
    "sns.set_style('whitegrid', {'legend.frameon':False})\n",
    "b = sns.barplot(data=score_condition,\n",
    "                palette='husl',\n",
    "                hue='condition',\n",
    "                x='condition',\n",
    "                y='normedScore')\n",
    "plt.legend(bbox_to_anchor=(1.0,1))\n",
    "plt.ylabel('Normed F1 score')\n",
    "plt.xlabel('Condition')\n",
    "plt.yticks(np.linspace(0,1,6))\n",
    "plt.tight_layout()\n"
   ]
  },
  {
   "cell_type": "code",
   "execution_count": null,
   "metadata": {},
   "outputs": [],
   "source": [
    "df['extendedCondition'] = df['condition']\n",
    "df.loc[(df.condition == 'physical') & (df.numBlocksExplore == 0),'extendedCondition'] = 'no_action_physical'\n",
    "\n",
    "fig = plt.figure(figsize=(4,4))\n",
    "sns.set_context('poster')\n",
    "sns.set_style('whitegrid', {'legend.frameon':False})\n",
    "b = sns.barplot(data = df,\n",
    "                palette='husl',\n",
    "                hue='extendedCondition',\n",
    "                x='condition',\n",
    "                y='normedScore')\n",
    "plt.legend(bbox_to_anchor=(1.0,1))\n",
    "plt.ylabel('Normed F1 score')\n",
    "plt.xlabel('Condition')\n",
    "plt.yticks(np.linspace(0,1,6))\n",
    "plt.tight_layout()\n",
    "\n",
    "\n"
   ]
  },
  {
   "cell_type": "raw",
   "metadata": {},
   "source": [
    "df['extendedCondition'] = df['condition']\n",
    "df.loc[(df.condition == 'physical') & (df.numBlocksExplore == 0),'extendedCondition'] = 'no_action_physical'\n",
    "\n",
    "g = sns.FacetGrid(data=df, row=\"targetName\", col=\"condition\", height=4, aspect = 2, legend_out = True)\n",
    "\n",
    "sns.set_context('poster')\n",
    "sns.set_style('whitegrid')\n",
    "g = g.map_dataframe(plt.distplot,\n",
    "                    x='normedScore').set_titles(\"{row_name}\").add_legend()\n",
    "plt.tight_layout()\n"
   ]
  },
  {
   "cell_type": "code",
   "execution_count": null,
   "metadata": {},
   "outputs": [],
   "source": [
    "df = df[(df.numBlocks>2)]\n",
    "df = df[~df.gameID.isin(low_scores)]\n",
    "\n",
    "\n",
    "df['extendedCondition'] = df['condition']\n",
    "df.loc[(df.condition == 'physical') & (df.numBlocksExplore > 4),'extendedCondition'] = 'very_physical'\n",
    "df.loc[(df.condition == 'physical') & (df.numBlocksExplore <= 4),'extendedCondition'] = 'not_very_physical'\n",
    "df.loc[(df.condition == 'physical') & (df.numBlocksExplore == 0),'extendedCondition'] = 'no_action_physical'\n",
    "\n",
    "fig = plt.figure(figsize=(4,4))\n",
    "sns.set_context('poster')\n",
    "sns.set_style('whitegrid', {'legend.frameon':False})\n",
    "b = sns.barplot(data = df,\n",
    "                palette='husl',\n",
    "                hue='extendedCondition',\n",
    "                hue_order=['mental','no_action_physical','not_very_physical','physical','very_physical'],\n",
    "                x='condition',\n",
    "                y='normedScore')\n",
    "plt.legend(bbox_to_anchor=(1.0,1))\n",
    "plt.ylabel('Normed F1 score')\n",
    "plt.xlabel('Condition')\n",
    "plt.yticks(np.linspace(0,1,6))\n",
    "plt.tight_layout()\n",
    "\n",
    "\n"
   ]
  },
  {
   "cell_type": "code",
   "execution_count": null,
   "metadata": {},
   "outputs": [],
   "source": [
    "fig = plt.figure(figsize=(4,4))\n",
    "sns.set_context('poster')\n",
    "sns.set_style('whitegrid', {'legend.frameon':False})\n",
    "b = sns.barplot(data=df,\n",
    "                palette='husl',\n",
    "                hue='extendedCondition',\n",
    "                x='condition',\n",
    "                y='numBlocks')\n",
    "plt.legend(bbox_to_anchor=(1.0,1))\n",
    "plt.ylabel('n blocks')\n",
    "plt.xlabel('condition')\n",
    "plt.yticks(np.linspace(0,12,6))\n",
    "plt.tight_layout()"
   ]
  },
  {
   "cell_type": "code",
   "execution_count": null,
   "metadata": {},
   "outputs": [],
   "source": [
    "score_trials = df[['trialNum','normedScore']]\n",
    "\n",
    "fig = plt.figure(figsize=(8,4))\n",
    "sns.set_context('poster')\n",
    "sns.set_style('whitegrid', {'legend.frameon':False})\n",
    "b = sns.lineplot(data=score_trials,\n",
    "                palette='husl',\n",
    "                x='trialNum',\n",
    "                y='normedScore')\n",
    "plt.ylabel('Normed F1 score')\n",
    "plt.xlabel('Trial')\n",
    "plt.yticks(np.linspace(0.4,1,6))\n",
    "plt.xticks(np.linspace(0,15,16))\n",
    "plt.tight_layout()"
   ]
  },
  {
   "cell_type": "markdown",
   "metadata": {},
   "source": [
    "## Load settled dataframe"
   ]
  },
  {
   "cell_type": "code",
   "execution_count": null,
   "metadata": {},
   "outputs": [],
   "source": [
    "## load in dataframe\n",
    "iterationName = 'pilot4'\n",
    "\n",
    "data_path = os.path.join(csv_dir,'block_silhouette_settled_{}.csv'.format(iterationName))\n",
    "dfs = pd.read_csv(data_path)"
   ]
  },
  {
   "cell_type": "markdown",
   "metadata": {},
   "source": [
    "### Exclude outliers"
   ]
  },
  {
   "cell_type": "code",
   "execution_count": null,
   "metadata": {},
   "outputs": [],
   "source": [
    "low_scores = df[(df.trialNum == 15) & (df.score == 0)]['gameID']\n",
    "dfs = dfs[~dfs.gameID.isin(low_scores)]"
   ]
  },
  {
   "cell_type": "code",
   "execution_count": null,
   "metadata": {},
   "outputs": [],
   "source": [
    "# Add a condition for physical with 0 actions\n",
    "dfs['extendedCondition'] = dfs['condition']\n",
    "\n",
    "trialInfo = df[['gameID','trialNum','numBlocksExplore']]\n",
    "\n",
    "dfs = dfs.merge(trialInfo, on=['gameID', 'trialNum'], how='left')"
   ]
  },
  {
   "cell_type": "code",
   "execution_count": null,
   "metadata": {},
   "outputs": [],
   "source": [
    "dfs.loc[(df.condition == 'physical') & (dfs.numBlocksExplore == 0),'extendedCondition'] = 'no_action_physical'"
   ]
  },
  {
   "cell_type": "code",
   "execution_count": null,
   "metadata": {},
   "outputs": [],
   "source": [
    "# Add useful variables to dataframe\n",
    "\n",
    "dfs['subject_trial'] = dfs['gameID'] + '_' + str(dfs['trialNum'])\n",
    "dfs['condition_number'] = np.where(dfs['condition']=='mental', 100, 2)\n",
    "dfs['condition_code'] = dfs['condition_number'] + dfs['trialNum']\n",
    "dfs['time_bin'] = np.round_(dfs['timePlaced']/10000)*10000\n",
    "\n",
    "dfs_build = dfs[dfs.phase == 'build']\n",
    "dfs_explore = dfs[dfs.phase == 'explore']\n"
   ]
  },
  {
   "cell_type": "code",
   "execution_count": null,
   "metadata": {},
   "outputs": [],
   "source": [
    "dfs['subject_trial'] = dfs['gameID'] + '_' + str(dfs['trialNum'])\n",
    "dfs['condition_number'] = np.where(dfs['condition']=='mental', 100, 2)\n",
    "dfs['condition_code'] = dfs['condition_number'] + dfs['trialNum']/2\n",
    "\n",
    "fig = plt.figure(figsize=(12,6))\n",
    "sns.set_context('poster')\n",
    "sns.set_style('whitegrid', {'legend.frameon':False})\n",
    "ax = sns.lineplot(x=\"timePlaced\", \n",
    "                  y=\"normedIncrementalScore\", \n",
    "                  hue='condition_code', \n",
    "                  units=\"subject_trial\",\n",
    "                  palette='coolwarm',\n",
    "                  estimator=None, lw=0.7,\n",
    "                  data=dfs[dfs['phase']=='build'])\n",
    "\n",
    "#red is mental, blue is physical"
   ]
  },
  {
   "cell_type": "code",
   "execution_count": null,
   "metadata": {},
   "outputs": [],
   "source": [
    "# 'Scores over time across participant and structure, by condition'\n",
    "\n",
    "fig = plt.figure(figsize=(12,6))\n",
    "sns.set_context('poster')\n",
    "sns.set_style('whitegrid', {'legend.frameon':False})\n",
    "ax = sns.lineplot(x=\"numBlocks\", \n",
    "                  y=\"normedIncrementalScore\", \n",
    "                  hue='extendedCondition', \n",
    "                  estimator= np.mean,\n",
    "                  palette='coolwarm',\n",
    "                  lw=0.7,\n",
    "                  data=dfs[dfs.phase == 'build']) #and numblocks=0"
   ]
  },
  {
   "cell_type": "code",
   "execution_count": null,
   "metadata": {},
   "outputs": [],
   "source": [
    "fig = plt.figure(figsize=(12,6))\n",
    "sns.set_context('poster')\n",
    "sns.set_style('whitegrid', {'legend.frameon':False})\n",
    "ax = sns.lineplot(x=\"time_bin\", \n",
    "                  y=\"normedIncrementalScore\", \n",
    "                  hue='extendedCondition', \n",
    "                  estimator= np.mean,\n",
    "                  palette='coolwarm',\n",
    "                  lw=0.7,\n",
    "                  data=dfs[dfs.phase == 'build'])"
   ]
  },
  {
   "cell_type": "code",
   "execution_count": null,
   "metadata": {
    "scrolled": false
   },
   "outputs": [],
   "source": [
    "# 'Mean scores for each structure over time (binned), by condition and phase'\n",
    "\n",
    "g = sns.FacetGrid(data=dfs, row=\"targetName\", col=\"phase\", height=4, aspect = 2)\n",
    "\n",
    "sns.set_context('poster')\n",
    "sns.set_style('whitegrid', {'legend.frameon':False})\n",
    "\n",
    "g = g.map_dataframe(sns.lineplot, x=\"time_bin\", \n",
    "                  y=\"normedIncrementalScore\", \n",
    "                  hue='condition', \n",
    "                  estimator= np.mean,\n",
    "                  palette='coolwarm',\n",
    "                  lw=0.7).set_titles(\"{row_name}\").add_legend()\n"
   ]
  },
  {
   "cell_type": "code",
   "execution_count": null,
   "metadata": {
    "scrolled": true
   },
   "outputs": [],
   "source": [
    "g = sns.FacetGrid(data=dfs, row=\"targetName\", col=\"phase\", height=4, aspect = 2)\n",
    "sns.set_context('poster')\n",
    "sns.set_style('whitegrid')\n",
    "g = g.map_dataframe(sns.lineplot,\n",
    "                    x=\"numBlocks\", \n",
    "                    y=\"normedIncrementalScore\", \n",
    "                    hue='condition', \n",
    "                    palette='coolwarm',\n",
    "                    lw=0.7).set_titles(\"{row_name}\").add_legend()\n"
   ]
  },
  {
   "cell_type": "code",
   "execution_count": null,
   "metadata": {},
   "outputs": [],
   "source": []
  },
  {
   "cell_type": "code",
   "execution_count": null,
   "metadata": {
    "scrolled": false
   },
   "outputs": [],
   "source": [
    "# 'Individual scores for each attempt at each structure over time, by condition and phase'\n",
    "\n",
    "g = sns.FacetGrid(data=dfs, row=\"targetName\", col=\"phase\", height=4, aspect = 2, legend_out = True)\n",
    "\n",
    "sns.set_context('poster')\n",
    "sns.set_style('whitegrid')\n",
    "g = g.map_dataframe(sns.lineplot,\n",
    "                        x=\"timePlaced\", \n",
    "                        y=\"normedIncrementalScore\", \n",
    "                        hue='condition', \n",
    "                        label='condition',\n",
    "                        units=\"subject_trial\",\n",
    "                        estimator=None,\n",
    "                        palette='coolwarm',\n",
    "                        lw=0.7).set_titles(\"{row_name}\").add_legend()\n"
   ]
  },
  {
   "cell_type": "code",
   "execution_count": null,
   "metadata": {},
   "outputs": [],
   "source": [
    "# 'Mean scores for each participant over time, by condition and phase'\n",
    "\n",
    "g = sns.FacetGrid(data=dfs, row=\"gameID\", col=\"phase\", height=4, aspect = 2, legend_out = True)\n",
    "\n",
    "sns.set_context('poster')\n",
    "sns.set_style('whitegrid')\n",
    "g = g.map_dataframe(sns.lineplot,\n",
    "                        x=\"time_bin\", \n",
    "                        y=\"normedIncrementalScore\", \n",
    "                        hue='condition', \n",
    "                        estimator=np.mean,\n",
    "                        palette='coolwarm',\n",
    "                        lw=0.7).set_titles('subject').add_legend()\n"
   ]
  },
  {
   "cell_type": "code",
   "execution_count": null,
   "metadata": {},
   "outputs": [],
   "source": [
    "# difference?\n",
    "# more similar at start, at end?"
   ]
  },
  {
   "cell_type": "code",
   "execution_count": null,
   "metadata": {},
   "outputs": [],
   "source": [
    "def iou(x, y):\n",
    "    \n",
    "    assert(x.shape == y.shape)\n",
    "    nblocks = x.shape[0]\n",
    "    ncols = x.shape[1]\n",
    "\n",
    "    # find last    \n",
    "    sum_cols = np.sum(x,axis=0)\n",
    "    last_block = 0\n",
    "    while (sum_cols[last_block] > 0):    \n",
    "        last_block += 1\n",
    "    \n",
    "    xt = x[:,0:last_block]\n",
    "    yt = y[:,0:last_block]\n",
    "    \n",
    "    ones = np.ones([nblocks,last_block])\n",
    "    \n",
    "    # calculate intersection over union after truncating to length of x\n",
    "    return  np.sum(xt * yt, axis=None) / np.sum(np.fmin((xt + yt),ones), axis=None)"
   ]
  },
  {
   "cell_type": "code",
   "execution_count": null,
   "metadata": {
    "scrolled": false
   },
   "outputs": [],
   "source": [
    "max_n_blocks = max(dfs['numBlocks'])\n",
    "n_block_kinds = dfs['blockKind'].nunique()\n",
    "blockKinds = np.sort(dfs['blockKind'].unique())\n",
    "targets = np.sort(dfs['targetName'].unique())\n",
    "\n",
    "b_map = dict(zip(blockKinds, range(0,n_block_kinds)))\n",
    "print(b_map)\n",
    "blockKind_blockNum = np.zeros([n_block_kinds,max_n_blocks])\n",
    "fig, axs = plt.subplots(len(targets)+1,2, figsize=(12,20))\n",
    "\n",
    "for ci, condition in enumerate(['mental','physical']):\n",
    "    p = 0\n",
    "    for target in targets:\n",
    "        p += 1\n",
    "        target_settled = dfs[(dfs.targetName == target) & (dfs.condition == condition) & (dfs.phase == 'build')]\n",
    "\n",
    "        for i in range(1, max_n_blocks):\n",
    "            ith_blocks = target_settled[target_settled.numBlocks == i]['blockKind']\n",
    "            for b in ith_blocks:\n",
    "                blockKind_blockNum[b_map[b],i] += 1\n",
    "\n",
    "        #normalize\n",
    "        blockKind_blockNum = blockKind_blockNum/list(map((lambda x: max([1,x])),np.sum(blockKind_blockNum, axis=0)))\n",
    "\n",
    "        axs[p,ci].matshow(blockKind_blockNum)        \n",
    "        axs[p,ci].set_title(target, fontsize=10)\n",
    "\n",
    "for ax in axs.flat:\n",
    "    ax.axis('off')\n",
    "\n",
    "plt.get_cmap().set_bad(color='red')\n",
    "plt.set_cmap('magma')"
   ]
  },
  {
   "cell_type": "code",
   "execution_count": null,
   "metadata": {},
   "outputs": [],
   "source": []
  },
  {
   "cell_type": "code",
   "execution_count": null,
   "metadata": {},
   "outputs": [],
   "source": [
    "dfs_saved"
   ]
  },
  {
   "cell_type": "code",
   "execution_count": null,
   "metadata": {
    "scrolled": false
   },
   "outputs": [],
   "source": [
    "max_n_blocks = max(dfs['numBlocks'])\n",
    "n_block_kinds = dfs['blockKind'].nunique()\n",
    "blockKinds = np.sort(dfs['blockKind'].unique())\n",
    "targets = np.sort(dfs['targetName'].unique())\n",
    "gameIDs = np.sort(dfs['gameID'].unique())\n",
    "\n",
    "b_map = dict(zip(blockKinds, range(0,n_block_kinds)))\n",
    "print(b_map)\n",
    "fig, axs = plt.subplots(len(targets)+1,2, figsize=(12,20))\n",
    "\n",
    "for ph_i, phase in enumerate(['explore','build']):\n",
    "    p = 0\n",
    "    for target in targets:\n",
    "        blockKind_blockNum = np.zeros([n_block_kinds,max_n_blocks])\n",
    "        p += 1\n",
    "        target_settled = dfs[(dfs.targetName == target) &\\\n",
    "                             (dfs.phase == phase) &\\\n",
    "                             (dfs.condition == 'physical')\\\n",
    "                             #(dfs.gameID == gameIDs[1])\\\n",
    "                            ]\n",
    "\n",
    "        for i in range(1, max_n_blocks):\n",
    "            ith_blocks = target_settled[target_settled.numBlocks == i]['blockKind']\n",
    "            for b in ith_blocks:\n",
    "                blockKind_blockNum[b_map[b],i] += 1\n",
    "\n",
    "        #normalize\n",
    "        blockKind_blockNum = blockKind_blockNum/list(map((lambda x: max([1,x])),np.sum(blockKind_blockNum, axis=0)))\n",
    "\n",
    "        axs[p,ph_i].matshow(blockKind_blockNum)        \n",
    "        axs[p,ph_i].set_title(target, fontsize=10)\n",
    "\n",
    "for ax in axs.flat:\n",
    "    ax.axis('off')\n",
    "\n",
    "plt.get_cmap().set_bad(color='red')\n",
    "plt.set_cmap('magma')"
   ]
  },
  {
   "cell_type": "code",
   "execution_count": null,
   "metadata": {
    "scrolled": false
   },
   "outputs": [],
   "source": [
    "max_n_blocks = max(dfs['numBlocks'])\n",
    "n_block_kinds = dfs['blockKind'].nunique()\n",
    "blockKinds = np.sort(dfs['blockKind'].unique())\n",
    "targets = np.sort(dfs['targetName'].unique())\n",
    "gameIDs = np.sort(dfs['gameID'].unique())\n",
    "\n",
    "b_map = dict(zip(blockKinds, range(0,n_block_kinds)))\n",
    "print(b_map)\n",
    "fig, axs = plt.subplots(len(targets)+1,2, figsize=(12,20))\n",
    "\n",
    "for ph_i, phase in enumerate(['explore','build']):\n",
    "    p = 0\n",
    "    for target in targets:\n",
    "        blockKind_blockNum = np.zeros([n_block_kinds,max_n_blocks])\n",
    "        p += 1\n",
    "        target_settled = dfs[(dfs.targetName == target) &\\\n",
    "                             (dfs.phase == phase) &\\\n",
    "                             (dfs.gameID == gameIDs[0])]\n",
    "\n",
    "        for i in range(1, max_n_blocks):\n",
    "            ith_blocks = target_settled[target_settled.numBlocks == i]['blockKind']\n",
    "            for b in ith_blocks:\n",
    "                blockKind_blockNum[b_map[b],i-1] += 1\n",
    "\n",
    "        #normalize\n",
    "        blockKind_blockNum = blockKind_blockNum/list(map((lambda x: max([1,x])),np.sum(blockKind_blockNum, axis=0)))\n",
    "\n",
    "        axs[p,ph_i].matshow(blockKind_blockNum)        \n",
    "        axs[p,ph_i].set_title(target, fontsize=10)\n",
    "\n",
    "for ax in axs.flat:\n",
    "    ax.axis('off')\n",
    "\n",
    "plt.get_cmap().set_bad(color='red')\n",
    "plt.set_cmap('magma')"
   ]
  },
  {
   "cell_type": "code",
   "execution_count": null,
   "metadata": {},
   "outputs": [],
   "source": [
    "# 1\n",
    "#     within-physical, within-structure,  within-participant: final prototype vs. final construction. \n",
    "# vs. within-physical, within-structure, between-participant: final prototype vs. final construction. \n",
    "\n",
    "# SKIPPED Filter- only final prototypes\n",
    "# Should also do only final reconstructions\n",
    "\n",
    "# Make all matrices\n",
    "# for within participant\n",
    "\n",
    "max_n_blocks = max(dfs['numBlocks'])\n",
    "n_block_kinds = dfs['blockKind'].nunique()\n",
    "blockKinds = np.sort(dfs['blockKind'].unique())\n",
    "targets = np.sort(dfs['targetName'].unique())\n",
    "n_targets = dfs['targetName'].nunique()\n",
    "gameIDs = np.sort(dfs['gameID'].unique())\n",
    "n_gameIDs = dfs['gameID'].nunique()\n",
    "\n",
    "b_map = dict(zip(blockKinds, range(0,n_block_kinds)))\n",
    "seq_mat = np.zeros([n_gameIDs,2,n_targets,n_block_kinds, max_n_blocks])\n",
    "\n",
    "for gameID_i, gameID in enumerate(gameIDs):\n",
    "    for ph_i, phase in enumerate(['explore','build']):\n",
    "        p = 0\n",
    "        for target_i, target in enumerate(targets):\n",
    "            blockKind_blockNum = np.zeros([n_block_kinds,max_n_blocks])\n",
    "            p += 1\n",
    "            target_settled = dfs[(dfs.targetName == target) &\\\n",
    "                                 (dfs.condition == 'physical')&\\\n",
    "                                 (dfs.phase == phase) &\\\n",
    "                                 (dfs.gameID == gameID)]\n",
    "\n",
    "            for i in range(0, max_n_blocks-1):\n",
    "                ith_blocks = target_settled[target_settled.numBlocks == i+1]['blockKind']\n",
    "                for b in ith_blocks:\n",
    "                    seq_mat[gameID_i,ph_i,target_i,b_map[b],i] += 1\n",
    "\n",
    "            #normalize\n",
    "            seq_mat[gameID_i,ph_i,target_i,:,:] = seq_mat[gameID_i,ph_i,target_i,:,:]/\\\n",
    "                list(map((lambda x: max([1,x])),np.sum(seq_mat[gameID_i,ph_i,target_i,:,:], axis=0)))\n",
    "\n",
    "\n",
    "# Intersection over union\n",
    "# If all 1s and 0s: \n",
    "# crop to shorter length (or always explore? What if length is 0?)\n",
    "# (M * N)/(M + N)\n",
    "\n",
    "# for between participant\n",
    "# bootstrap- select 1000 random (although we only have a few?)\n",
    "# Calculating distribution of edit distances\n",
    "# And find our CI\n"
   ]
  },
  {
   "cell_type": "code",
   "execution_count": null,
   "metadata": {
    "scrolled": false
   },
   "outputs": [],
   "source": [
    "# Calculate edit distances between participants with bootstrapping\n",
    "import random\n",
    "\n",
    "n_bootstrap = 1000\n",
    "n_targets = 1\n",
    "\n",
    "iou_scores = np.zeros([n_targets, n_gameIDs, n_bootstrap])\n",
    "\n",
    "iter_diff = []\n",
    "\n",
    "for b in range(0, n_bootstrap-1):\n",
    "    \n",
    "    structures_diff = []  \n",
    "    \n",
    "    for structure in range(0,16):\n",
    "        \n",
    "        #get indices of participants with physical explore sequences of that structure\n",
    "        built_structure = np.sum(seq_mat[:,1,structure,:,1],axis = 1) > 0\n",
    "        struct_explore_seqs = seq_mat[built_structure,0,structure,:,:] # grab those sequences\n",
    "        struct_build_seqs = seq_mat[built_structure,1,structure,:,:] # grab those sequences\n",
    "    \n",
    "\n",
    "        num_phys = struct_build_seqs.shape[0]\n",
    "        \n",
    "        # calculate observed similarity\n",
    "        shuff_inds = list(range(0,num_phys-1))\n",
    "        random.shuffle(shuff_inds)\n",
    "        \n",
    "        observed_sim = np.zeros(n_gameIDs)\n",
    "        permuted_sim = np.zeros(n_gameIDs)\n",
    "        \n",
    "        # calculate observed similarity\n",
    "        for participant in range(0,num_phys-1):\n",
    "            explore_seq = struct_explore_seqs[participant,:,:]\n",
    "            build_seq = struct_build_seqs[participant,:,:]\n",
    "            iou_score = iou(explore_seq, build_seq)\n",
    "            observed_sim[participant] = iou_score\n",
    "        \n",
    "        observed_sim = observed_sim[~pd.isna(observed_sim)]\n",
    "                                \n",
    "        for participant in range(0,num_phys-1):\n",
    "            \n",
    "            explore_seq = struct_explore_seqs[participant,:,:]\n",
    "            build_seq = struct_build_seqs[shuff_inds[participant],:,:]\n",
    "            iou_score = iou(explore_seq, build_seq)\n",
    "            permuted_sim[participant] = iou_score\n",
    "            \n",
    "        permuted_sim = permuted_sim[~pd.isna(permuted_sim)]\n",
    "                                \n",
    "        diff_sim = np.mean(observed_sim - permuted_sim)\n",
    "        structures_diff.append(diff_sim)\n",
    "    \n",
    "    iter_diff.append(np.mean(structures_diff))\n",
    "        \n",
    "plt.hist(iter_diff)"
   ]
  },
  {
   "cell_type": "code",
   "execution_count": null,
   "metadata": {},
   "outputs": [],
   "source": [
    "np.mean(iter_diff)"
   ]
  },
  {
   "cell_type": "code",
   "execution_count": null,
   "metadata": {},
   "outputs": [],
   "source": [
    "accuracies['gameID'] = gameIDs[0]"
   ]
  },
  {
   "cell_type": "code",
   "execution_count": null,
   "metadata": {},
   "outputs": [],
   "source": [
    "# Calculate edit distance within participants\n",
    "\n",
    "targets = np.sort(dfs['targetName'].unique())\n",
    "n_targets = dfs['targetName'].nunique()\n",
    "gameIDs = np.sort(dfs['gameID'].unique())\n",
    "n_gameIDs = dfs['gameID'].nunique()\n",
    "\n",
    "iou_scores2 = np.zeros([n_gameIDs,n_targets])\n",
    "\n",
    "for participant in range(0,n_gameIDs):\n",
    "\n",
    "    for structure in range(0,16):\n",
    "        explore_seq = seq_mat[participant,0,structure,:,:]\n",
    "        build_seq = seq_mat[participant,1,structure,:,:]\n",
    "        iou_score = iou(explore_seq,build_seq)\n",
    "        iou_scores2[participant,structure] = iou_score\n"
   ]
  },
  {
   "cell_type": "code",
   "execution_count": null,
   "metadata": {},
   "outputs": [],
   "source": [
    "dict(enumerate(targets))"
   ]
  },
  {
   "cell_type": "code",
   "execution_count": null,
   "metadata": {
    "scrolled": false
   },
   "outputs": [],
   "source": [
    "similarities = pd.DataFrame(iou_scores2[:,:])\n",
    "similarities = similarities.rename(columns = dict(enumerate(targets)))\n",
    "similarities['gameID'] = np.sort(dfs['gameID'].unique())\n",
    "similarities = similarities.melt(id_vars = 'gameID')\n",
    "similarities = similarities.rename(columns = {'variable': 'targetName',\n",
    "                                              'value': 'explore_build_similarity'})\n",
    "similarities"
   ]
  },
  {
   "cell_type": "code",
   "execution_count": null,
   "metadata": {},
   "outputs": [],
   "source": [
    "df = df.merge(similarities, on=['gameID','targetName'], how='left')"
   ]
  },
  {
   "cell_type": "code",
   "execution_count": null,
   "metadata": {},
   "outputs": [],
   "source": [
    "df_saved = df.copy()"
   ]
  },
  {
   "cell_type": "code",
   "execution_count": null,
   "metadata": {},
   "outputs": [],
   "source": [
    "df['sim_group'] = 'None'\n",
    "df.loc[(df.explore_build_similarity == 1),'sim_group'] = 'total'\n",
    "df.loc[(df.explore_build_similarity < 1),'sim_group'] = 'low'\n",
    "df.loc[pd.isna(df.explore_build_similarity),'sim_group'] = 'None'"
   ]
  },
  {
   "cell_type": "code",
   "execution_count": null,
   "metadata": {},
   "outputs": [],
   "source": [
    "df['sim_group'] = 'None'\n",
    "df.loc[(df.explore_build_similarity == 1),'sim_group'] = 'total'\n",
    "df.loc[(df.explore_build_similarity < 1),'sim_group'] = 'low'\n",
    "df.loc[pd.isna(df.explore_build_similarity),'sim_group'] = 'None'\n",
    "\n",
    "fig = plt.figure(figsize=(4,4))\n",
    "sns.set_context('poster')\n",
    "sns.set_style('whitegrid', {'legend.frameon':False})\n",
    "b = sns.barplot(data = df[(df.condition=='physical') & (df.sim_group!='None')],\n",
    "                palette='husl',\n",
    "                hue='sim_group',\n",
    "                x='sim_group',\n",
    "                y='normedScore')\n",
    "plt.legend(bbox_to_anchor=(1.0,1))\n",
    "plt.ylabel('Normed F1 score')\n",
    "plt.xlabel('Similarity between build and explore phase block sequences')\n"
   ]
  },
  {
   "cell_type": "code",
   "execution_count": null,
   "metadata": {},
   "outputs": [],
   "source": [
    "list(dfs.columns)"
   ]
  },
  {
   "cell_type": "code",
   "execution_count": null,
   "metadata": {},
   "outputs": [],
   "source": [
    "# currently keeping all build attempts that are of same length as maximum explore bout\n",
    "\n",
    "df1 = dfs[(dfs.condition=='physical') & (dfs.phase=='explore')]\n",
    "df2 = df1.groupby(by=['trialNum', 'gameID']).count()['numBlocks'].reset_index()\n",
    "df2 = df2.rename(columns = {'numBlocks':'maxExploreBlocks'})\n",
    "dfs = dfs.merge(df2, on=['gameID','trialNum'], how = 'left')\n",
    "#dfs[dfs.numBlocks == dfs.maxExploreBlocks]"
   ]
  },
  {
   "cell_type": "code",
   "execution_count": null,
   "metadata": {},
   "outputs": [],
   "source": [
    "dfs = dfs.merge(similarities, on=['gameID','targetName'], how='left')\n",
    "dfs['sim_group'] = 'None'\n",
    "dfs.loc[(dfs.explore_build_similarity == 1),'sim_group'] = 'total'\n",
    "dfs.loc[(dfs.explore_build_similarity < 1),'sim_group'] = 'low'\n",
    "dfs.loc[pd.isna(dfs.explore_build_similarity),'sim_group'] = 'None'"
   ]
  },
  {
   "cell_type": "code",
   "execution_count": null,
   "metadata": {},
   "outputs": [],
   "source": [
    "fig = plt.figure(figsize=(4,4))\n",
    "sns.set_context('poster')\n",
    "sns.set_style('whitegrid', {'legend.frameon':False})\n",
    "b = sns.barplot(data = X3,\n",
    "                palette='husl',\n",
    "                hue='sim_group',\n",
    "                x='phase',\n",
    "                y='normedIncrementalScore')\n",
    "plt.ylabel('Normed F1 score')\n",
    "plt.xlabel('Diff accuracy in build and explore phase up to length of final explore block placed')\n",
    "#plt.ylim(0.4,0.7)\n",
    "#plt.yticks(np.linspace(0.4,0.7,5))\n",
    "plt.legend(bbox_to_anchor=(1.0,1))"
   ]
  },
  {
   "cell_type": "code",
   "execution_count": null,
   "metadata": {},
   "outputs": [],
   "source": [
    "# numBlocks = index in the block sequence\n",
    "# maxExploreBlocks = number of blocks that were placed in the explore phase\n",
    "X = dfs\n",
    "## subset data\n",
    "X2 = X[(X['condition']=='physical') & (X['maxExploreBlocks']==X['numBlocks'])].reset_index(drop=True)\n",
    "#X2.drop(labels=['Unnamed: 0', 'Unnamed: 0.1'],axis=1,inplace=True)\n",
    "X2['trialID'] = X2['gameID'] + '_' + X2['trialNum'].map(str) ## add trialID column\n",
    "## get list of valid trials for which we have exactly two rows\n",
    "from collections import Counter\n",
    "Y = pd.DataFrame.from_dict(Counter(X2['trialID']),orient='index').reset_index()\n",
    "Y.columns = ['trialID','numAppearances']\n",
    "valid_num_appearances = Y[Y['numAppearances']==2]['trialID'].values\n",
    "## get list of trialIDs that have at least one explore and one build phase\n",
    "Y = X2.groupby('trialID')['phase'].nunique().reset_index()\n",
    "valid_num_phases = Y[Y['phase']==2]['trialID'].values\n",
    "valid_trials = np.intersect1d(valid_num_appearances,valid_num_phases)\n",
    "## further subset to get valid data only\n",
    "X3 = X2[X2['trialID'].isin(valid_trials)].reset_index(drop=True)\n",
    "assert np.sum(X3['numBlocks']==0)==0 ## dont consider trials for which no blocks were placed in the explore phase\n",
    "## pivot to get build & explore scores for each trial\n",
    "X4 = X3.pivot(index='trialID',columns='phase',values='normedIncrementalScore').reset_index()"
   ]
  },
  {
   "cell_type": "code",
   "execution_count": null,
   "metadata": {},
   "outputs": [],
   "source": [
    "#dfs['trialID'] = dfs['gameID'] + dfs['trialNum'].map(str)\n",
    "X3"
   ]
  },
  {
   "cell_type": "code",
   "execution_count": null,
   "metadata": {},
   "outputs": [],
   "source": [
    "Y = dfs"
   ]
  },
  {
   "cell_type": "code",
   "execution_count": null,
   "metadata": {},
   "outputs": [],
   "source": [
    "Y = pd.DataFrame.from_dict(Counter(X2['trialID']),orient='index').reset_index()\n",
    "Y.columns = ['trialID','numAppearances']\n",
    "valid_num_appearances = Y[Y['numAppearances']==2]['trialID'].values\n",
    "## get list of trialIDs that have at least one explore and one build phase\n",
    "Y = X2.groupby('trialID')['phase'].nunique().reset_index()\n",
    "valid_num_phases = Y[Y['phase']==2]['trialID'].values\n",
    "valid_trials = np.intersect1d(valid_num_appearances,valid_num_phases)\n",
    "## further subset to get valid data only\n",
    "X3 = X2[X2['trialID'].isin(valid_trials)].reset_index(drop=True)\n",
    "assert np.sum(X3['numBlocks']==0)==0 ## dont consider trials for which no blocks were placed in the explore phase\n",
    "## pivot to get build & explore scores for each trial\n",
    "X4 = X3.pivot(index='trialID',columns='phase',values='normedIncrementalScore').reset_index()"
   ]
  },
  {
   "cell_type": "code",
   "execution_count": null,
   "metadata": {},
   "outputs": [],
   "source": [
    "\n",
    "## save out to csv dir, where all the csv's go to live\n",
    "out_path = os.path.join(csv_dir,'similarity_settled_block_silhouette_{}.csv'.format(iterationName))\n",
    "dfs.to_csv(out_path)"
   ]
  },
  {
   "cell_type": "code",
   "execution_count": null,
   "metadata": {},
   "outputs": [],
   "source": [
    "dfs[dfs.condition=='physical']"
   ]
  },
  {
   "cell_type": "code",
   "execution_count": null,
   "metadata": {},
   "outputs": [],
   "source": [
    "\n",
    "mean_similarities = np.mean(similarities,axis=1)\n",
    "plt.hist(mean_similarities[~pd.isna(mean_similarities)])"
   ]
  },
  {
   "cell_type": "code",
   "execution_count": null,
   "metadata": {},
   "outputs": [],
   "source": []
  },
  {
   "cell_type": "code",
   "execution_count": null,
   "metadata": {},
   "outputs": [],
   "source": [
    "all_sim = iou_scores2.reshape(-1)\n",
    "plt.hist(all_sim[~pd.isna(all_sim)])"
   ]
  },
  {
   "cell_type": "code",
   "execution_count": null,
   "metadata": {},
   "outputs": [],
   "source": [
    "# demo\n",
    "\n",
    "participant = 0\n",
    "\n",
    "fig, axs = plt.subplots(len(targets)+1,2, figsize=(12,20))\n",
    "\n",
    "iou_scores = []\n",
    "\n",
    "for structure in range(0,16):\n",
    "    explore_seq = seq_mat[participant,0,structure,:,:]\n",
    "    build_seq = seq_mat[participant,1,structure,:,:]\n",
    "    axs[structure,0].matshow(explore_seq)\n",
    "    axs[structure,1].matshow(build_seq)\n",
    "    iou_score = iou(explore_seq,build_seq)\n",
    "    iou_scores.append(iou_score)\n",
    "\n",
    "for ax in axs.flat:\n",
    "    ax.axis('off')\n",
    "\n",
    "plt.get_cmap().set_bad(color='red')\n",
    "plt.set_cmap('magma')\n",
    "\n",
    "print(iou_scores)"
   ]
  },
  {
   "cell_type": "code",
   "execution_count": null,
   "metadata": {},
   "outputs": [],
   "source": [
    "participant = 0\n",
    "\n",
    "fig, axs = plt.subplots(len(targets)+1,2, figsize=(12,20))\n",
    "\n",
    "for phase in [0,1]:\n",
    "    for structure in range(0,16):\n",
    "        axs[structure,phase].matshow(seq_mat[participant,phase,structure,:,:])        \n",
    "\n",
    "for ax in axs.flat:\n",
    "    ax.axis('off')\n",
    "\n",
    "plt.get_cmap().set_bad(color='red')\n",
    "plt.set_cmap('magma')"
   ]
  },
  {
   "cell_type": "code",
   "execution_count": null,
   "metadata": {},
   "outputs": [],
   "source": [
    "# 2\n",
    "# within-structure, between-conditions, between-participants : final physical constructions vs. final mental constructions\n"
   ]
  },
  {
   "cell_type": "code",
   "execution_count": null,
   "metadata": {},
   "outputs": [],
   "source": []
  },
  {
   "cell_type": "code",
   "execution_count": null,
   "metadata": {},
   "outputs": [],
   "source": [
    "#code that turned out not to be useful but keeping for reference if I want to do similar analyses\n",
    "\n",
    "dfsmat = dfs[['gameID','blockKind','numBlocks','targetName','condition']]\n",
    "dfsmatCounts = dfsmat.groupby(['condition','targetName','numBlocks','blockKind']).count()['gameID']\n",
    "dfsmatTotals = dfsmat.groupby(['condition','targetName','numBlocks']).count()['blockKind']\n",
    "dfsmatNormed = dfsmatCounts/dfsmatTotals\n",
    "dfsmatNormed = dfsmatNormed.reset_index()\n",
    "\n",
    "g = sns.FacetGrid(data=dfsmatNormed.unstack(level=0), \n",
    "                           row=\"targetName\", col=\"condition\", height=4, aspect = 2, legend_out = True)\n",
    "\n",
    "sns.set_context('poster')\n",
    "sns.set_style('whitegrid')\n",
    "g = g.map_dataframe(sns.heatmap, \n",
    "                        vmin = 0,\n",
    "                        vmax = 1,\n",
    "                        palette='coolwarm').set_titles(\"{targetName}\")\n"
   ]
  },
  {
   "cell_type": "code",
   "execution_count": null,
   "metadata": {
    "scrolled": true
   },
   "outputs": [],
   "source": [
    "dfsmat = dfs[['gameID','blockKind','numBlocks','targetName','condition']]\n",
    "dfsmatCounts = dfsmat.groupby(['condition','targetName','numBlocks','blockKind']).count()['gameID']\n",
    "dfsmatTotals = dfsmat.groupby(['condition','targetName','numBlocks']).count()['blockKind']\n",
    "dfsmatNormed = dfsmatCounts/dfsmatTotals"
   ]
  },
  {
   "cell_type": "code",
   "execution_count": null,
   "metadata": {},
   "outputs": [],
   "source": []
  },
  {
   "cell_type": "code",
   "execution_count": null,
   "metadata": {},
   "outputs": [],
   "source": []
  }
 ],
 "metadata": {
  "kernelspec": {
   "display_name": "Python 3",
   "language": "python",
   "name": "python3"
  },
  "language_info": {
   "codemirror_mode": {
    "name": "ipython",
    "version": 3
   },
   "file_extension": ".py",
   "mimetype": "text/x-python",
   "name": "python",
   "nbconvert_exporter": "python",
   "pygments_lexer": "ipython3",
   "version": "3.6.8"
  }
 },
 "nbformat": 4,
 "nbformat_minor": 2
}
