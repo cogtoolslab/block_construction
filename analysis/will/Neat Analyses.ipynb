{
 "cells": [
  {
   "cell_type": "code",
   "execution_count": null,
   "metadata": {},
   "outputs": [],
   "source": [
    "import os\n",
    "import sys\n",
    "import urllib, io\n",
    "\n",
    "os.getcwd()\n",
    "sys.path.append(\"..\")\n",
    "proj_dir = os.path.abspath('../..')\n",
    "if os.path.join(proj_dir,'stimuli') not in sys.path:\n",
    "    sys.path.append(os.path.join(proj_dir,'stimuli'))\n",
    "\n",
    "import numpy as np\n",
    "import scipy.stats as stats\n",
    "import pandas as pd\n",
    "from random import random\n",
    "\n",
    "import pymongo as pm\n",
    "from collections import Counter\n",
    "import json\n",
    "import re\n",
    "import ast\n",
    "\n",
    "from PIL import Image, ImageOps, ImageDraw, ImageFont \n",
    "\n",
    "from io import BytesIO\n",
    "import base64\n",
    "\n",
    "import  matplotlib\n",
    "from matplotlib import pylab, mlab, pyplot\n",
    "%matplotlib inline\n",
    "from IPython.core.pylabtools import figsize, getfigs\n",
    "plt = pyplot\n",
    "import matplotlib as mpl\n",
    "mpl.rcParams['pdf.fonttype'] = 42\n",
    "\n",
    "import seaborn as sns\n",
    "sns.set_context('talk')\n",
    "sns.set_style('darkgrid')\n",
    "\n",
    "from IPython.display import clear_output\n",
    "\n",
    "import warnings\n",
    "warnings.filterwarnings(\"ignore\", category=DeprecationWarning)\n",
    "warnings.filterwarnings(\"ignore\", message=\"numpy.dtype size changed\")\n",
    "warnings.filterwarnings(\"ignore\", message=\"numpy.ufunc size changed\")\n",
    "\n",
    "import blockworld_helpers as utils\n",
    "import drawing_utils as drawing"
   ]
  },
  {
   "cell_type": "code",
   "execution_count": null,
   "metadata": {},
   "outputs": [],
   "source": [
    "## directory & file hierarchy\n",
    "proj_dir = os.path.abspath('..')\n",
    "datavol_dir = os.path.join(proj_dir,'data')\n",
    "analysis_dir = os.path.abspath(os.path.join(os.getcwd(),'..'))\n",
    "results_dir = os.path.join(proj_dir,'results')\n",
    "stim_dir = os.path.join(proj_dir,'stimuli/interesting_structures')\n",
    "plot_dir = os.path.join(results_dir,'plots')\n",
    "csv_dir = os.path.join(results_dir,'csv')\n",
    "json_dir = os.path.join(results_dir,'json')\n",
    "exp_dir = os.path.abspath(os.path.join(proj_dir,'experiments'))\n",
    "png_dir = os.path.abspath(os.path.join(datavol_dir,'png'))\n",
    "jefan_dir = os.path.join(analysis_dir,'jefan')\n",
    "will_dir = os.path.join(analysis_dir,'will')\n",
    "\n",
    "## add helpers to python path\n",
    "if os.path.join(proj_dir,'stimuli') not in sys.path:\n",
    "    sys.path.append(os.path.join(proj_dir,'stimuli'))\n",
    "    \n",
    "if not os.path.exists(results_dir):\n",
    "    os.makedirs(results_dir)\n",
    "    \n",
    "if not os.path.exists(plot_dir):\n",
    "    os.makedirs(plot_dir)   \n",
    "    \n",
    "if not os.path.exists(csv_dir):\n",
    "    os.makedirs(csv_dir)       "
   ]
  },
  {
   "cell_type": "markdown",
   "metadata": {},
   "source": [
    "### Load Data"
   ]
  },
  {
   "cell_type": "code",
   "execution_count": null,
   "metadata": {},
   "outputs": [],
   "source": [
    "iterationName = 'pilot4'"
   ]
  },
  {
   "cell_type": "code",
   "execution_count": null,
   "metadata": {},
   "outputs": [],
   "source": [
    "# Trial_end data\n",
    "trial_path = os.path.join(csv_dir,'block_silhouette_{}.csv'.format(iterationName))\n",
    "df = pd.read_csv(trial_path)"
   ]
  },
  {
   "cell_type": "code",
   "execution_count": null,
   "metadata": {},
   "outputs": [],
   "source": [
    "# Settled_block data\n",
    "settled_path = os.path.join(csv_dir,'block_silhouette_settled_{}.csv'.format(iterationName))\n",
    "dfs = pd.read_csv(settled_path)"
   ]
  },
  {
   "cell_type": "code",
   "execution_count": null,
   "metadata": {},
   "outputs": [],
   "source": [
    "# Explore_end data\n",
    "explore_path = os.path.join(csv_dir,'block_silhouette_explore_{}.csv'.format(iterationName))\n",
    "dfe = pd.read_csv(explore_path)"
   ]
  },
  {
   "cell_type": "code",
   "execution_count": null,
   "metadata": {},
   "outputs": [],
   "source": [
    "# Exclude outliers\n",
    "low_scores = df[(df.trialNum == 15) & (df.score == 0)]['gameID']\n",
    "\n",
    "df = df[~df.gameID.isin(low_scores)]\n",
    "dfs = dfs[~dfs.gameID.isin(low_scores)]\n",
    "dfe = dfe[~dfe.gameID.isin(low_scores)]\n",
    "\n",
    "n = df.gameID.nunique()\n",
    "print(str(n) + ' participants with score > 0 and full set of trials')"
   ]
  },
  {
   "cell_type": "markdown",
   "metadata": {},
   "source": [
    "## Preprocessing"
   ]
  },
  {
   "cell_type": "markdown",
   "metadata": {},
   "source": [
    "### Block Data"
   ]
  },
  {
   "cell_type": "code",
   "execution_count": null,
   "metadata": {},
   "outputs": [],
   "source": [
    "# add useful explore_end information to trial_end dataframe\n",
    "df = df.merge(dfe[['gameID','trialNum','condition','totalExploreBlocks','numAttempts','finalExploreBlocks']], on=['gameID','trialNum','condition'], how='left')"
   ]
  },
  {
   "cell_type": "markdown",
   "metadata": {},
   "source": [
    "## Explore Data"
   ]
  },
  {
   "cell_type": "markdown",
   "metadata": {},
   "source": [
    "### Basic summaries"
   ]
  },
  {
   "cell_type": "code",
   "execution_count": null,
   "metadata": {},
   "outputs": [],
   "source": [
    "physical_explore = dfe[dfe.condition == 'physical']\n",
    "\n",
    "n_something = physical_explore[physical_explore.totalExploreBlocks > 0].shape[0]\n",
    "n_nothing = physical_explore[physical_explore.totalExploreBlocks == 0].shape[0]\n",
    "\n",
    "print('In ' + str(n_something) + ' physical explore phases, participant placed at least one block')\n",
    "print('In ' + str(n_nothing) + ' physical explore phases, participant placed zero blocks')\n",
    "print(str('{}% of physical exploration trials had one block placed in explore phase'\\\n",
    "          .format(100*n_something/(n_something+n_nothing))))"
   ]
  },
  {
   "cell_type": "code",
   "execution_count": null,
   "metadata": {},
   "outputs": [],
   "source": [
    "# Number of blocks placed in each exploration phase for each participant\n",
    "# For each participant\n",
    "\n",
    "fig = plt.figure(figsize=(8,6))\n",
    "sns.set_context('poster')\n",
    "sns.set_style('whitegrid', {'legend.frameon':False})\n",
    "b = sns.lineplot(data = physical_explore,\n",
    "                palette='husl',\n",
    "                hue='gameID',\n",
    "                x='trialNum',\n",
    "                y='totalExploreBlocks',\n",
    "                alpha=0.3,\n",
    "                legend=False)\n",
    "plt.ylabel('PercentExploresUsed')\n",
    "plt.xlabel('trialNum')\n",
    "plt.tight_layout()\n",
    "plt.title('blocks used in explore phase by participant', fontsize = 18)"
   ]
  },
  {
   "cell_type": "markdown",
   "metadata": {},
   "source": [
    "### Filter out people who didn't consistently explore"
   ]
  },
  {
   "cell_type": "code",
   "execution_count": null,
   "metadata": {},
   "outputs": [],
   "source": [
    "meanExploreBlocks = df.groupby(['gameID'])['totalExploreBlocks'].agg(np.mean)\n",
    "goodPhysicalExplorers = meanExploreBlocks.reset_index()[meanExploreBlocks.reset_index().totalExploreBlocks>1].gameID"
   ]
  },
  {
   "cell_type": "code",
   "execution_count": null,
   "metadata": {},
   "outputs": [],
   "source": [
    "# Number of blocks placed in each exploration phase for each good participant\n",
    "# where 'good participant' means someone who placed an average of > 1 block per explore phase\n",
    "\n",
    "dfeGoodPhysicalExplorers = dfe[dfe.gameID.isin(goodPhysicalExplorers)]\n",
    "physical_explore_good = dfeGoodPhysicalExplorers[dfeGoodPhysicalExplorers.condition == 'physical']\n",
    "\n",
    "fig = plt.figure(figsize=(8,6))\n",
    "sns.set_context('poster')\n",
    "sns.set_style('whitegrid', {'legend.frameon':False})\n",
    "b = sns.lineplot(data = physical_explore_good,\n",
    "                palette='husl',\n",
    "                hue='gameID',\n",
    "                x='trialNum',\n",
    "                y='totalExploreBlocks',\n",
    "                alpha=0.3,\n",
    "                legend=False)\n",
    "plt.ylabel('PercentExploresUsed')\n",
    "plt.xlabel('trialNum')\n",
    "plt.tight_layout()\n",
    "plt.title('blocks used in explore phase by participant', fontsize = 18)"
   ]
  },
  {
   "cell_type": "code",
   "execution_count": null,
   "metadata": {},
   "outputs": [],
   "source": [
    "dfGoodPhysicalExplorers = df[df.gameID.isin(goodPhysicalExplorers)]\n",
    "\n",
    "#df['activeExplorer'] = False\n",
    "#df[df.gameID.isin(goodPhysicalExplorers)]['activeExplorer'] = True\n",
    "\n",
    "fig = plt.figure(figsize=(6,6))\n",
    "sns.set_context('poster')\n",
    "sns.set_style('whitegrid', {'legend.frameon':False})\n",
    "b = sns.barplot(data=dfGoodPhysicalExplorers,\n",
    "                palette='husl',\n",
    "                x='condition',\n",
    "                y='normedScore')\n",
    "plt.legend(bbox_to_anchor=(1.0,1))\n",
    "plt.ylabel('Normed F1 score')\n",
    "plt.xlabel('Condition')\n",
    "plt.yticks(np.linspace(0,1,6))\n",
    "plt.tight_layout()"
   ]
  },
  {
   "cell_type": "code",
   "execution_count": null,
   "metadata": {},
   "outputs": [],
   "source": [
    "fig = plt.figure(figsize=(6,6))\n",
    "sns.set_context('poster')\n",
    "sns.set_style('whitegrid', {'legend.frameon':False})\n",
    "b = sns.barplot(data=df,\n",
    "                palette='husl',\n",
    "                x='condition',\n",
    "                y='normedScore')\n",
    "plt.legend(bbox_to_anchor=(1.0,1))\n",
    "plt.ylabel('Normed F1 score')\n",
    "plt.xlabel('Condition')\n",
    "plt.yticks(np.linspace(0,1,6))\n",
    "plt.tight_layout()"
   ]
  },
  {
   "cell_type": "markdown",
   "metadata": {},
   "source": [
    "## Look at structures that people created"
   ]
  },
  {
   "cell_type": "markdown",
   "metadata": {},
   "source": [
    "### Render all final structures- rows are participants, columns are structures"
   ]
  },
  {
   "cell_type": "code",
   "execution_count": null,
   "metadata": {
    "scrolled": true
   },
   "outputs": [],
   "source": [
    "drawing.draw_all_final_structures(df)"
   ]
  },
  {
   "cell_type": "code",
   "execution_count": null,
   "metadata": {},
   "outputs": [],
   "source": []
  }
 ],
 "metadata": {
  "kernelspec": {
   "display_name": "Python 3",
   "language": "python",
   "name": "python3"
  },
  "language_info": {
   "codemirror_mode": {
    "name": "ipython",
    "version": 3
   },
   "file_extension": ".py",
   "mimetype": "text/x-python",
   "name": "python",
   "nbconvert_exporter": "python",
   "pygments_lexer": "ipython3",
   "version": "3.6.8"
  }
 },
 "nbformat": 4,
 "nbformat_minor": 2
}
