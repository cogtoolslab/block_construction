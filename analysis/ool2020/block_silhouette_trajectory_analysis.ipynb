{
 "cells": [
  {
   "cell_type": "code",
   "execution_count": 1,
   "metadata": {},
   "outputs": [],
   "source": [
    "import os\n",
    "import sys\n",
    "import urllib, io\n",
    "os.getcwd()\n",
    "sys.path.append(\"..\")\n",
    "sys.path.append(\"../utils\")\n",
    "proj_dir = os.path.abspath('../..')\n",
    "\n",
    "## add helpers to python path\n",
    "if os.path.join(proj_dir,'stimuli') not in sys.path:\n",
    "    sys.path.append(os.path.join(proj_dir,'stimuli'))\n",
    "\n",
    "import numpy as np\n",
    "import scipy.stats as stats\n",
    "import pandas as pd\n",
    "from scipy import stats\n",
    "from scipy.spatial import distance\n",
    "from scipy import ndimage\n",
    "from scipy.stats import entropy\n",
    "from random import random\n",
    "from sklearn.cluster import SpectralBiclustering\n",
    "import itertools\n",
    "\n",
    "import pymongo as pm\n",
    "from collections import Counter\n",
    "import json\n",
    "import re\n",
    "import ast\n",
    "\n",
    "from PIL import Image, ImageOps, ImageDraw, ImageFont \n",
    "\n",
    "from io import BytesIO\n",
    "import base64\n",
    "\n",
    "import  matplotlib\n",
    "from matplotlib import pylab, mlab, pyplot\n",
    "%matplotlib inline\n",
    "from IPython.core.pylabtools import figsize, getfigs\n",
    "plt = pyplot\n",
    "import matplotlib as mpl\n",
    "mpl.rcParams['pdf.fonttype'] = 42\n",
    "from matplotlib import colors\n",
    "\n",
    "import seaborn as sns\n",
    "sns.set_context('talk')\n",
    "sns.set_style('darkgrid')\n",
    "\n",
    "from IPython.display import clear_output\n",
    "\n",
    "import warnings\n",
    "warnings.filterwarnings(\"ignore\", category=DeprecationWarning)\n",
    "warnings.filterwarnings(\"ignore\", message=\"numpy.dtype size changed\")\n",
    "warnings.filterwarnings(\"ignore\", message=\"numpy.ufunc size changed\")\n",
    "\n",
    "import plotly\n",
    "import plotly.graph_objects as go\n",
    "import plotly.io as pio\n",
    "pio.orca.config.use_xvfb = True\n",
    "plotly.io.orca.config.save()\n",
    "\n",
    "import importlib\n",
    "import trajectory as g"
   ]
  },
  {
   "cell_type": "code",
   "execution_count": 2,
   "metadata": {},
   "outputs": [],
   "source": [
    "## directory & file hierarchy\n",
    "proj_dir = os.path.abspath('../..')\n",
    "datavol_dir = os.path.join(proj_dir,'data')\n",
    "analysis_dir = os.path.abspath(os.path.join(os.getcwd(),'..'))\n",
    "results_dir = os.path.join(analysis_dir,'results')\n",
    "stim_dir = os.path.join(proj_dir,'stimuli')\n",
    "plot_dir = os.path.join(results_dir,'plots')\n",
    "csv_dir = os.path.join(results_dir,'csv')\n",
    "json_dir = os.path.join(results_dir,'json')\n",
    "exp_dir = os.path.abspath(os.path.join(proj_dir,'experiments'))\n",
    "png_dir = os.path.abspath(os.path.join(datavol_dir,'png'))\n",
    "jefan_dir = os.path.join(analysis_dir,'jefan')\n",
    "will_dir = os.path.join(analysis_dir,'will')\n",
    "    \n",
    "if not os.path.exists(results_dir):\n",
    "    os.makedirs(results_dir)\n",
    "    \n",
    "if not os.path.exists(plot_dir):\n",
    "    os.makedirs(plot_dir)   \n",
    "    \n",
    "if not os.path.exists(csv_dir):\n",
    "    os.makedirs(csv_dir)       "
   ]
  },
  {
   "cell_type": "markdown",
   "metadata": {},
   "source": [
    "### load in data"
   ]
  },
  {
   "cell_type": "code",
   "execution_count": 3,
   "metadata": {},
   "outputs": [],
   "source": [
    "iteration_name = 'Exp2Pilot3'\n",
    "num_trials = 24 #for sanity checks"
   ]
  },
  {
   "cell_type": "code",
   "execution_count": 4,
   "metadata": {},
   "outputs": [
    {
     "name": "stdout",
     "output_type": "stream",
     "text": [
      "49 participants total\n"
     ]
    }
   ],
   "source": [
    "# Data already compiled into dataframes in CogSci 2020 Dataframe Generator\n",
    "\n",
    "# trial_end data\n",
    "trial_path = os.path.join(csv_dir,'block_silhouette_{}_good.csv'.format(iteration_name))\n",
    "df = pd.read_csv(trial_path)\n",
    "\n",
    "# # initial_block data\n",
    "initial_path = os.path.join(csv_dir,'block_silhouette_initial_{}_good.csv'.format(iteration_name))\n",
    "dfi = pd.read_csv(initial_path)\n",
    "\n",
    "# # settled_block data\n",
    "settled_path = os.path.join(csv_dir,'block_silhouette_settled_{}_good.csv'.format(iteration_name))\n",
    "dfs = pd.read_csv(settled_path)\n",
    "\n",
    "# # Sanity Check- same participants in each dataset.\n",
    "df_participants = df.gameID.unique()\n",
    "dfs_participants = dfs.gameID.unique()\n",
    "assert Counter(df_participants) == Counter(dfs_participants)\n",
    "\n",
    "n_before_outliers = len(df_participants)\n",
    "print(str(n_before_outliers) + ' participants total')"
   ]
  },
  {
   "cell_type": "markdown",
   "metadata": {},
   "source": [
    "### apply preprocessing"
   ]
  },
  {
   "cell_type": "code",
   "execution_count": 5,
   "metadata": {},
   "outputs": [],
   "source": [
    "targets = np.sort(df['targetName'].unique())\n",
    "ppts = np.sort(df['gameID'].unique())\n",
    "reps = np.sort(df['repetition'].unique())\n",
    "\n",
    "dfi['usableDiscreteWorld'] = dfi['discreteWorld'].apply(lambda a: 1+(-1)*np.array(ast.literal_eval(a)))\n",
    "dfi['flatDiscreteWorld'] = dfi['discreteWorld'].apply(lambda a: (1+(-1)*np.array(ast.literal_eval(a))).flatten())\n",
    "\n",
    "dfic = dfi.copy()\n",
    "#dfic = dfi[dfi.condition=='repeated']\n",
    "dfic = dfic[['targetName','gameID','blockNum','repetition','phase_extended','flatDiscreteWorld','usableDiscreteWorld','rawF1DiscreteScore']]\n",
    "dfic['discreteWorld'] = dfic['usableDiscreteWorld']\n",
    "dfic['flatDiscreteWorldStr'] = dfic['flatDiscreteWorld'].apply(g.convert_to_str)\n",
    "\n",
    "max_actions = dfic['blockNum'].max()"
   ]
  },
  {
   "cell_type": "markdown",
   "metadata": {},
   "source": [
    "### make trajectory graph"
   ]
  },
  {
   "cell_type": "code",
   "execution_count": 6,
   "metadata": {
    "scrolled": false
   },
   "outputs": [],
   "source": [
    "importlib.reload(g) ## reimport graph utils\n",
    "make_plot = False\n",
    "if make_plot:\n",
    "    phases = ['pre', 'post']\n",
    "    for this_target in targets:\n",
    "        for this_phase in phases:\n",
    "            g.plot_trajectory_graph(data = dfic, \n",
    "                                    target = this_target, \n",
    "                                    phase = this_phase, \n",
    "                                    save=False, \n",
    "                                    out_dir = plot_dir,\n",
    "                                    extension = 'test',\n",
    "                                    x_lower_bound = 4,\n",
    "                                    x_upper_bound = 13,\n",
    "                                    edge_width_scale_factor = 0.8,\n",
    "                                    node_size_scale_factor = 0.8)"
   ]
  },
  {
   "cell_type": "markdown",
   "metadata": {},
   "source": [
    "### analyze sparsity over world states"
   ]
  },
  {
   "cell_type": "code",
   "execution_count": 7,
   "metadata": {},
   "outputs": [
    {
     "name": "stdout",
     "output_type": "stream",
     "text": [
      "Done!\n"
     ]
    }
   ],
   "source": [
    "importlib.reload(g)\n",
    "H = dict()\n",
    "P = dict()\n",
    "phases = ['pre', 'post']\n",
    "for target in targets:\n",
    "    H[target] = dict()\n",
    "    P[target] = dict()\n",
    "    for phase in phases:\n",
    "        print('Calculating sparsity metric for {} {}'.format(target, phase))\n",
    "        h,p = g.get_sparsity_over_states(data=dfic, target=target, phase=phase, metric='mean')\n",
    "        H[target][phase] = h\n",
    "        P[target][phase] = p\n",
    "        clear_output(wait=True)\n",
    "print('Done!')"
   ]
  },
  {
   "cell_type": "code",
   "execution_count": 8,
   "metadata": {},
   "outputs": [
    {
     "name": "stdout",
     "output_type": "stream",
     "text": [
      "**Mean difference in states visited in each phase**\n",
      "Original mean = 0.33143. Bootstrapped mean = 0.33024.\n",
      "95% CI = [0.18518, 0.49564].\n",
      "p<0=0.0 | p>0=2.0.\n",
      "t(7) = 3.76217 | p = 0.00705\n",
      "-------\n",
      "**Mean states visited in each phase**\n",
      "pre\n",
      "Original mean = 1.7711. Bootstrapped mean = 1.77035.\n",
      "95% CI = [1.57875, 1.95293].\n",
      "post\n",
      "Original mean = 2.10254. Bootstrapped mean = 2.10059.\n",
      "95% CI = [1.91135, 2.2988].\n"
     ]
    }
   ],
   "source": [
    "H2 = pd.DataFrame(H).transpose().reset_index()\n",
    "H2['diff'] = H2['post']-H2['pre']\n",
    "importlib.reload(g)\n",
    "\n",
    "print('**Mean difference in states visited in each phase**')\n",
    "## bootstrapped CI on difference in mean states visited\n",
    "U,lb,ub,p1,p2 = g.bootstrapCI(H2['diff'].values, verbose=True)\n",
    "## paired t-test on difference in mean states visited\n",
    "g.prettyTtest(H2['diff'].values)\n",
    "\n",
    "print('-------')\n",
    "print('**Mean states visited in each phase**')\n",
    "## bootstrapped CIs on mean states visited in each phase\n",
    "for phase in phases:\n",
    "    print('{}'.format(phase))\n",
    "    U,lb,ub,p1,p2 = g.bootstrapCI(H2[phase].values, verbose=True, compareNull=False)"
   ]
  },
  {
   "cell_type": "code",
   "execution_count": null,
   "metadata": {},
   "outputs": [],
   "source": []
  },
  {
   "cell_type": "markdown",
   "metadata": {},
   "source": [
    "### Analyze set relationships between pre states and post states"
   ]
  },
  {
   "cell_type": "code",
   "execution_count": 9,
   "metadata": {},
   "outputs": [
    {
     "name": "stdout",
     "output_type": "stream",
     "text": [
      "hand_selected_004 | Pre: 282 | Post: 253 | Intrsct: 74 | Union: 461 | PreOverlap: 0.481 | PostOverlap: 0.5828\n",
      "hand_selected_005 | Pre: 156 | Post: 176 | Intrsct: 48 | Union: 284 | PreOverlap: 0.658 | PostOverlap: 0.6617\n",
      "hand_selected_006 | Pre: 214 | Post: 249 | Intrsct: 52 | Union: 411 | PreOverlap: 0.4585 | PostOverlap: 0.4369\n",
      "hand_selected_008 | Pre: 214 | Post: 214 | Intrsct: 57 | Union: 371 | PreOverlap: 0.5495 | PostOverlap: 0.6409\n",
      "hand_selected_009 | Pre: 252 | Post: 193 | Intrsct: 68 | Union: 377 | PreOverlap: 0.5853 | PostOverlap: 0.7123\n",
      "hand_selected_011 | Pre: 182 | Post: 226 | Intrsct: 62 | Union: 346 | PreOverlap: 0.6499 | PostOverlap: 0.6373\n",
      "hand_selected_012 | Pre: 264 | Post: 261 | Intrsct: 80 | Union: 445 | PreOverlap: 0.5759 | PostOverlap: 0.6313\n",
      "hand_selected_016 | Pre: 299 | Post: 281 | Intrsct: 83 | Union: 497 | PreOverlap: 0.465 | PostOverlap: 0.5877\n"
     ]
    }
   ],
   "source": [
    "NS = dict() # num states dict\n",
    "for target in targets:\n",
    "    NS[target] = dict()\n",
    "    PRE = set(P[target]['pre'].keys())\n",
    "    POST = set(P[target]['post'].keys())\n",
    "    xsect = PRE.intersection(POST)\n",
    "    u = PRE.union(POST)\n",
    "    overlap = list(xsect)\n",
    "    post_prop = np.sum([P[target]['post'][o] for o in overlap])\n",
    "    pre_prop = np.sum([P[target]['pre'][o] for o in overlap])    \n",
    "    NS[target]['pre'] = len(PRE)\n",
    "    NS[target]['post'] = len(POST)\n",
    "    NS[target]['xsect'] = len(xsect)\n",
    "    NS[target]['union'] = len(u)\n",
    "    NS[target]['pre_overlap'] = pre_prop\n",
    "    NS[target]['post_overlap'] = post_prop   \n",
    "    NS[target]['diff'] = len(POST) - len(PRE)\n",
    "    print('{} | Pre: {} | Post: {} | Intrsct: {} | Union: {} | PreOverlap: {} | PostOverlap: {}'.\n",
    "          format(target, len(PRE),len(POST),len(xsect), len(u), pre_prop.round(4),post_prop.round(4)))\n",
    "\n",
    "## create num states dataframe \n",
    "ND = pd.DataFrame.from_dict(NS, orient='index').reset_index()    "
   ]
  },
  {
   "cell_type": "code",
   "execution_count": 10,
   "metadata": {},
   "outputs": [
    {
     "name": "stdout",
     "output_type": "stream",
     "text": [
      "t(7) = -0.10328 | p = 0.92064\n",
      "Original mean = -1.25. Bootstrapped mean = -1.22888.\n",
      "95% CI = [-22.00625, 20.00312].\n",
      "p<0=1.072 | p>0=0.922.\n"
     ]
    }
   ],
   "source": [
    "## difference in total num states visited between pre and post\n",
    "importlib.reload(g)\n",
    "g.statsPrint(ND['diff'].values)"
   ]
  },
  {
   "cell_type": "markdown",
   "metadata": {},
   "source": [
    "### calculate sparsity over state-state transitions"
   ]
  },
  {
   "cell_type": "code",
   "execution_count": 11,
   "metadata": {},
   "outputs": [
    {
     "name": "stdout",
     "output_type": "stream",
     "text": [
      "Done!\n"
     ]
    }
   ],
   "source": [
    "importlib.reload(g)\n",
    "H = dict()\n",
    "P = dict()\n",
    "phases = ['pre', 'post']\n",
    "for target in targets:\n",
    "    H[target] = dict()\n",
    "    P[target] = dict()\n",
    "    for phase in phases:\n",
    "        print('Calculating sparsity for {} {}'.format(target, phase))\n",
    "        h, E = g.get_sparsity_over_edges(data=dfic, target=target, phase=phase, metric='mean')\n",
    "        H[target][phase] = h\n",
    "        P[target][phase] = E\n",
    "        clear_output(wait=True)\n",
    "print('Done!')   "
   ]
  },
  {
   "cell_type": "code",
   "execution_count": 12,
   "metadata": {},
   "outputs": [
    {
     "name": "stdout",
     "output_type": "stream",
     "text": [
      "**Mean difference in state-state transitions taken in each phase**\n",
      "Original mean = 0.24753. Bootstrapped mean = 0.24672.\n",
      "95% CI = [0.15633, 0.34251].\n",
      "p<0=0.0 | p>0=2.0.\n",
      "t(7) = 4.66106 | p = 0.00231\n",
      "-------\n",
      "**Mean state-state transitions taken in each phase**\n",
      "pre\n",
      "Original mean = 1.54281. Bootstrapped mean = 1.54241.\n",
      "95% CI = [1.411, 1.6706].\n",
      "post\n",
      "Original mean = 1.79034. Bootstrapped mean = 1.78913.\n",
      "95% CI = [1.65145, 1.91795].\n"
     ]
    }
   ],
   "source": [
    "H2 = pd.DataFrame(H).transpose().reset_index()\n",
    "H2['diff'] = H2['post']-H2['pre']\n",
    "importlib.reload(g)\n",
    "\n",
    "print('**Mean difference in state-state transitions taken in each phase**')\n",
    "## bootstrapped CI on difference in mean states visited\n",
    "U,lb,ub,p1,p2 = g.bootstrapCI(H2['diff'].values, verbose=True)\n",
    "## paired t-test on difference in mean states visited\n",
    "g.prettyTtest(H2['diff'].values)\n",
    "\n",
    "print('-------')\n",
    "print('**Mean state-state transitions taken in each phase**')\n",
    "## bootstrapped CIs on mean states visited in each phase\n",
    "for phase in phases:\n",
    "    print('{}'.format(phase))\n",
    "    U,lb,ub,p1,p2 = g.bootstrapCI(H2[phase].values, verbose=True, compareNull=False)"
   ]
  },
  {
   "cell_type": "code",
   "execution_count": null,
   "metadata": {},
   "outputs": [],
   "source": []
  },
  {
   "cell_type": "code",
   "execution_count": null,
   "metadata": {},
   "outputs": [],
   "source": []
  }
 ],
 "metadata": {
  "kernelspec": {
   "display_name": "Python 3",
   "language": "python",
   "name": "python3"
  },
  "language_info": {
   "codemirror_mode": {
    "name": "ipython",
    "version": 3
   },
   "file_extension": ".py",
   "mimetype": "text/x-python",
   "name": "python",
   "nbconvert_exporter": "python",
   "pygments_lexer": "ipython3",
   "version": "3.7.3"
  }
 },
 "nbformat": 4,
 "nbformat_minor": 2
}
