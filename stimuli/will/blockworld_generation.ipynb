{
 "cells": [
  {
   "cell_type": "markdown",
   "metadata": {},
   "source": [
    "### Purpose of this notebook: Develop algorithms to procedurally generate block construction targets \n",
    "\n",
    "* blockworld is 8x8 grid\n",
    "* allowable blocks are: 1x1, 2x2, 4x4 squares and the triangles that comprise them\n",
    "* target difficulty roughly varies according to shape and number of holes\n",
    "* constraints on construction include: \n",
    "    * physical stability (a tipped over triangle will fall!)\n",
    "    * geometry (presence & shape of \"holes\")\n",
    "    * inventory (not infinite number of large 8x2 blocks!)\n",
    "    * cost (# blocks)"
   ]
  },
  {
   "cell_type": "code",
   "execution_count": null,
   "metadata": {},
   "outputs": [],
   "source": [
    "from __future__ import division\n",
    "\n",
    "import numpy as np\n",
    "import os, sys\n",
    "from PIL import Image\n",
    "\n",
    "from matplotlib import pylab, mlab, pyplot\n",
    "import matplotlib.pyplot as plt\n",
    "import matplotlib.image as mpimg\n",
    "from matplotlib.path import Path\n",
    "import matplotlib.patches as patches\n",
    "%matplotlib inline\n",
    "\n",
    "from IPython.core.pylabtools import figsize, getfigs\n",
    "\n",
    "import seaborn as sns\n",
    "\n",
    "import random\n",
    "\n",
    "from scipy.stats import norm\n",
    "from IPython.display import clear_output\n",
    "\n",
    "import copy\n",
    "import importlib\n",
    "\n",
    "### Add Paths\n",
    "\n",
    "## root paths\n",
    "curr_dir = os.getcwd()\n",
    "proj_dir = os.path.abspath(os.path.join(curr_dir,'..','..')) ## use relative paths\n",
    "\n",
    "## add helpers to python path\n",
    "import sys\n",
    "if os.path.join(proj_dir, 'stimuli') not in sys.path:\n",
    "    sys.path.append(os.path.join(proj_dir, 'stimuli'))\n",
    "\n",
    "## custom helper modules\n",
    "import separation_axis_theorem as sat\n",
    "import blockworld_helpers as utils\n",
    "\n",
    "def cls():\n",
    "    os.system('cls' if os.name=='nt' else 'clear')\n"
   ]
  },
  {
   "cell_type": "markdown",
   "metadata": {},
   "source": [
    "### start with simple cases "
   ]
  },
  {
   "cell_type": "markdown",
   "metadata": {},
   "source": [
    "#### define inventory of block types, positioned at origin"
   ]
  },
  {
   "cell_type": "code",
   "execution_count": null,
   "metadata": {},
   "outputs": [],
   "source": [
    "## block primitives\n",
    "\n",
    "#### squares\n",
    "s1 = np.array([(0, 0), (0, -1), (1, -1), (1, 0), (0,0)]) ## 1x1\n",
    "s2 = s1*2 ## 2x2\n",
    "s4 = s1*4 ## 4x4"
   ]
  },
  {
   "cell_type": "code",
   "execution_count": null,
   "metadata": {},
   "outputs": [],
   "source": [
    "## render two blocks side by side\n",
    "patch1 = utils.get_patch(s4)\n",
    "patch2 = utils.get_patch(s2-2)\n",
    "patch3 = utils.get_patch((utils.translate(s4, 2, 2)))\n",
    "\n",
    "patches = [patch1,patch2,patch3]\n",
    "\n",
    "utils.render_blockworld(patches)"
   ]
  },
  {
   "cell_type": "code",
   "execution_count": null,
   "metadata": {},
   "outputs": [],
   "source": [
    "## distinguish between two blocks merely touching & actually coinciding \n",
    "importlib.reload(sat)\n",
    "print(sat.separating_axis_theorem(s2[:-1]-2,s4[:-1])) ## \n",
    "print(sat.apply_sat(s2[:-1]-2,s4[:-1]))"
   ]
  },
  {
   "cell_type": "code",
   "execution_count": null,
   "metadata": {},
   "outputs": [],
   "source": []
  },
  {
   "cell_type": "code",
   "execution_count": null,
   "metadata": {},
   "outputs": [],
   "source": [
    "## sketch of blocklaying procedure:\n",
    "\n",
    "## sample block size and place in leftmost, lowest position that you can and place in the array\n",
    "\n",
    "## make sure that no blocks collide\n",
    "\n",
    "## keep going until the summed area of all blocks equals or exceeds the total area of the arena\n",
    "\n",
    "## fill these crevices"
   ]
  },
  {
   "cell_type": "code",
   "execution_count": null,
   "metadata": {},
   "outputs": [],
   "source": [
    "importlib.reload(utils)\n",
    "b1 = utils.Block(1,1)\n",
    "b2 = utils.Block(2,2)\n",
    "b3 = utils.Block(4,2)"
   ]
  },
  {
   "cell_type": "code",
   "execution_count": null,
   "metadata": {
    "scrolled": true
   },
   "outputs": [],
   "source": [
    "blocks = [b1,b2,b3]\n",
    "floor_space = 8\n",
    "\n",
    "def fill_floor(blocks, floor_space):\n",
    "    '''\n",
    "    Fills a level horizontal surface with blocks.\n",
    "    Input: Lexicon of blocks- np arrays with 5 coordinates; length of available floor space\n",
    "    Output: List of blocks that can be used to fill the floor space with no gaps\n",
    "    '''\n",
    "    block_widths = list(map(lambda b: b.width, blocks))\n",
    "\n",
    "    floor_blocks = []\n",
    "    floor_block_widths = []\n",
    "    viable_block_widths = copy.deepcopy(block_widths)\n",
    "    remaining_space = floor_space\n",
    "    while remaining_space > 0:\n",
    "        i = np.random.randint(0,len(viable_block_widths))\n",
    "        if block_widths[i] <= remaining_space:\n",
    "            floor_blocks.append([blocks[i],floor_space-remaining_space])\n",
    "            floor_block_widths.append(block_widths[i])\n",
    "            remaining_space -= block_widths[i]\n",
    "        else:\n",
    "            viable_block_widths.pop()\n",
    "    #print(floor_blocks)\n",
    "    #print(floor_block_widths)\n",
    "    return(floor_blocks)\n",
    "\n",
    "# visualize blocks placed on floor\n",
    "\n",
    "\n",
    "def patch_for_block_here(b, x, y):\n",
    "    return utils.get_patch(b.translate(b.verts,x,y))\n",
    "\n",
    "def patches_for_floor(floor_blocks):\n",
    "    patches = []\n",
    "    for block_and_x in floor_blocks:\n",
    "        patches.append(patch_for_block_here(block_and_x[0],block_and_x[1],0))\n",
    "    return patches\n"
   ]
  },
  {
   "cell_type": "code",
   "execution_count": null,
   "metadata": {},
   "outputs": [],
   "source": [
    "## Helper functions needed\n",
    "# Calculate 'floors' to be placed on\n",
    "# Recursively call fill_floor until whole square filled\n",
    "# Create World Class"
   ]
  },
  {
   "cell_type": "code",
   "execution_count": null,
   "metadata": {},
   "outputs": [],
   "source": [
    "# Visualize blocks placed on floor\n",
    "\n",
    "blocks = [b1,b2,b3]\n",
    "floor_space = 8\n",
    "floor_blocks = fill_floor(blocks, floor_space)\n",
    "utils.render_blockworld(patches_for_floor(floor_blocks))"
   ]
  },
  {
   "cell_type": "code",
   "execution_count": null,
   "metadata": {},
   "outputs": [],
   "source": []
  },
  {
   "cell_type": "code",
   "execution_count": null,
   "metadata": {},
   "outputs": [],
   "source": [
    "# calculate 'floors' to be placed on\n",
    "# traverse bitmap of world left to right, bottom to top. \n",
    "    # When find space, start counting floor. Stop when block or at end.\n",
    "    # Call fill_floor\n",
    "    #\n",
    "\n"
   ]
  },
  {
   "cell_type": "code",
   "execution_count": null,
   "metadata": {},
   "outputs": [],
   "source": [
    "def patch_for_block_here(b, x, y):\n",
    "    return utils.get_patch(b.translate(b.verts,x,y))\n",
    "\n",
    "def patches_for_floor(floor_blocks, xs):\n",
    "    patches = []\n",
    "    for (i, b) in enumerate(floor_blocks):\n",
    "        patches.append(patch_for_block_here(b,xs[i],0))\n",
    "    return patches\n",
    "\n",
    "def drawFloor(floor_blocks, xs):\n",
    "    utils.render_blockworld(patches_for_floor(floor_blocks, xs))\n",
    "    \n",
    "    \n",
    "def patches_for_world(blocks_and_locations):\n",
    "    patches = []\n",
    "    for (b, x, y) in blocks_and_locations:\n",
    "        patches.append(patch_for_block_here(b,x,y))\n",
    "    return patches\n",
    "\n",
    "def drawWorld(world):\n",
    "    utils.render_blockworld(patches_for_world(world.blocks))\n",
    "\n",
    "# World Class\n",
    "class World:\n",
    "    width = 8\n",
    "    height = 8\n",
    "\n",
    "    b1 = utils.Block(1,1)\n",
    "    b2 = utils.Block(1,2)\n",
    "    b3 = utils.Block(2,1)\n",
    "    b4 = utils.Block(2,2)\n",
    "    b5 = utils.Block(4,2)\n",
    "\n",
    "    block_types = [b1, b2, b3, b4, b5] # Block types should be in order from left to right, thinest to thickest, shortest to tallest\n",
    "    block_widths = list(map(lambda b: b.width, block_types))\n",
    "    \n",
    "    def __init__(self):\n",
    "        \n",
    "        # Actual blocks present in world\n",
    "        \n",
    "        self.block_map = np.zeros((World.width, World.height), dtype=int) #bitmap for placement of blocks\n",
    "        \n",
    "        self.blocks = []\n",
    "        \n",
    "        self.full = False\n",
    "        \n",
    "    def check_full(self):\n",
    "        '''\n",
    "        Checks to see whether the World contains any empty space by summing block_map\n",
    "        '''\n",
    "        if not self.full:\n",
    "            isFull = (sum(sum(self.block_map)) == width*height)\n",
    "            self.full = isFull\n",
    "            return isFull\n",
    "        else:\n",
    "            return True\n",
    "        \n",
    "    def fill_floor(self, floor_space):\n",
    "        '''\n",
    "        Fills a 'floor', a level horizontal surface, with blocks.\n",
    "        Input: Lexicon of blocks- np arrays with 5 coordinates; length of available floor space\n",
    "        Output: List of blocks that can be used to fill the floor space with no gaps\n",
    "        '''\n",
    "        \n",
    "        floor_blocks = []\n",
    "        floor_block_widths = []\n",
    "        viable_block_widths = copy.deepcopy(self.block_widths)\n",
    "        remaining_space = floor_space\n",
    "        while remaining_space > 0:\n",
    "            i = np.random.randint(0,len(viable_block_widths))\n",
    "            if self.block_widths[i] <= remaining_space:\n",
    "                floor_blocks.append([self.block_types[i],floor_space-remaining_space])\n",
    "                floor_block_widths.append(self.block_widths[i])\n",
    "                remaining_space -= self.block_widths[i]\n",
    "            else:\n",
    "                viable_block_widths.pop()\n",
    "        return(floor_blocks)\n",
    "\n",
    "    def fill_floor_here(self, lvl, left, right):\n",
    "        '''\n",
    "        Fills a 'floor', a level horizontal surface, with blocks.\n",
    "        Input: Lexicon of blocks- np arrays with 5 coordinates; length of available floor space\n",
    "        Output: List of blocks that can be used to fill the floor space with no gaps\n",
    "        '''\n",
    "        \n",
    "        floor_space = right-left\n",
    "        floor_blocks = []\n",
    "        floor_block_xs = [left]\n",
    "        \n",
    "        viable_block_widths = copy.deepcopy(self.block_widths)\n",
    "        viable_blocks = copy.deepcopy(self.block_types)\n",
    "        \n",
    "        remaining_height = World.height - lvl\n",
    "        remaining_space = floor_space\n",
    "        \n",
    "        while remaining_space > 0:\n",
    "            i = np.random.randint(0,len(viable_blocks))\n",
    "            block_type = self.block_types[i]\n",
    "            block_width = block_type.width\n",
    "            block_height = block_type.height\n",
    "            if block_width <= remaining_space and block_height <= remaining_height: \n",
    "                floor_blocks.append(self.block_types[i])\n",
    "                self.blocks.append((block_type,floor_block_xs[-1],lvl))\n",
    "                floor_block_xs.append(floor_block_xs[-1] + block_width) # x location of bottom left of blocks\n",
    "                remaining_space -= block_width\n",
    "            else:\n",
    "                viable_blocks.pop()\n",
    "        self.update_map_with_floor_blocks(lvl, floor_blocks, floor_block_xs)\n",
    "        return(floor_blocks, floor_block_xs)\n",
    "\n",
    "    def update_map_with_floor_blocks(self, lvl, floor_blocks, floor_block_xs):\n",
    "        for (i, b) in enumerate(floor_blocks):\n",
    "            self.block_map[self.height-(lvl+b.height): self.height-lvl, floor_block_xs[i]:floor_block_xs[i+1]] = 1  \n",
    "        #print(self.block_map)\n",
    "    \n",
    "    def fill_world(self):\n",
    "        '''\n",
    "        Semi-randomly fills world with blocks, adding a 'floor' of blocks to the next available flat surface \n",
    "        '''\n",
    "        lvl = 0 #Start at bottom and work up\n",
    "        while lvl <= World.height - 1:\n",
    "            #find floor\n",
    "            while self.block_map[World.height - lvl - 1].all() and lvl < World.height: # check if level is full or reached top\n",
    "                lvl += 1\n",
    "            if lvl == World.height:\n",
    "                    break\n",
    "            left = 0\n",
    "            while self.block_map[World.height - lvl - 1][left] == 1:\n",
    "                left += 1\n",
    "            right = left\n",
    "            while right < World.width and self.block_map[World.height - lvl - 1][right] == 0:\n",
    "                right += 1\n",
    "            #print('fill_world_here: ' + str((lvl, left, right)))\n",
    "            self.fill_floor_here(lvl, left, right)\n",
    "        \n",
    "        drawWorld(self)\n",
    "    \n",
    "\n",
    "    "
   ]
  },
  {
   "cell_type": "code",
   "execution_count": null,
   "metadata": {
    "scrolled": false
   },
   "outputs": [],
   "source": [
    "w = World()\n",
    "w.fill_world()\n"
   ]
  },
  {
   "cell_type": "code",
   "execution_count": null,
   "metadata": {},
   "outputs": [],
   "source": []
  },
  {
   "cell_type": "code",
   "execution_count": null,
   "metadata": {},
   "outputs": [],
   "source": []
  },
  {
   "cell_type": "code",
   "execution_count": null,
   "metadata": {},
   "outputs": [],
   "source": [
    "w = World()\n",
    "(floor_blocks, xs) = w.fill_floor_here(0, 0, 8)\n",
    "drawFloor(floor_blocks, xs)\n",
    "floor_blocks, xs\n",
    "\n",
    "#w.update_map_with_floor_blocks(0, floor_blocks, xs)\n"
   ]
  },
  {
   "cell_type": "code",
   "execution_count": null,
   "metadata": {},
   "outputs": [],
   "source": []
  },
  {
   "cell_type": "code",
   "execution_count": null,
   "metadata": {},
   "outputs": [],
   "source": [
    "# Better way to render blocks"
   ]
  },
  {
   "cell_type": "code",
   "execution_count": null,
   "metadata": {},
   "outputs": [],
   "source": [
    "#block_map = np.zeros((width, height), dtype=int)\n",
    "block_map = np.array([[0, 0, 0, 0, 0, 0, 0, 0],\n",
    "       [0, 0, 0, 0, 0, 0, 0, 0],\n",
    "       [0, 0, 0, 0, 0, 0, 0, 0],\n",
    "       [0, 0, 0, 0, 0, 0, 0, 0],\n",
    "       [0, 0, 0, 0, 0, 0, 0, 0],\n",
    "       [1, 1, 0, 0, 0, 1, 1, 0],\n",
    "       [1, 1, 1, 1, 1, 1, 1, 1],\n",
    "       [1, 1, 1, 1, 1, 1, 1, 1]])\n",
    "block_map[1:7, 5:7]\n",
    "\n",
    "\n",
    "# TO DO: Update blocks and block_map based on fill_floor"
   ]
  },
  {
   "cell_type": "code",
   "execution_count": null,
   "metadata": {},
   "outputs": [],
   "source": [
    "# Find the start and end points of the floor to place new blocks on\n",
    "# lvl is the level above which new blocks should be placed\n",
    "# left is the first free location in this floor\n",
    "# right is the last free location in this floor\n",
    "\n",
    "w = World()\n",
    "\n",
    "lvl = 0 #Start at bottom and work up\n",
    "while lvl <= World.height - 1:\n",
    "    #find floor\n",
    "    while w.block_map[World.height - lvl - 1].all() and lvl < World.height: # check if level is full or reached top\n",
    "        lvl += 1\n",
    "    if lvl == World.height:\n",
    "            break\n",
    "    left = 0\n",
    "    while w.block_map[World.height - lvl - 1][left] == 1:\n",
    "        left += 1\n",
    "    right = left\n",
    "    while right < World.width and w.block_map[World.height - lvl - 1][right] == 0:\n",
    "        right += 1\n",
    "    #print('fill_world_here: ' + str((lvl, left, right)))\n",
    "    w.fill_floor_here(lvl, left, right)\n",
    "    \n",
    "    "
   ]
  },
  {
   "cell_type": "code",
   "execution_count": null,
   "metadata": {},
   "outputs": [],
   "source": [
    "new_blocks = w.fill_floor_here(lvl, left, right)\n",
    "drawFloor(new_blocks)"
   ]
  },
  {
   "cell_type": "code",
   "execution_count": null,
   "metadata": {},
   "outputs": [],
   "source": []
  },
  {
   "cell_type": "code",
   "execution_count": null,
   "metadata": {},
   "outputs": [],
   "source": []
  }
 ],
 "metadata": {
  "kernelspec": {
   "display_name": "Python 3",
   "language": "python",
   "name": "python3"
  },
  "language_info": {
   "codemirror_mode": {
    "name": "ipython",
    "version": 3
   },
   "file_extension": ".py",
   "mimetype": "text/x-python",
   "name": "python",
   "nbconvert_exporter": "python",
   "pygments_lexer": "ipython3",
   "version": "3.6.8"
  }
 },
 "nbformat": 4,
 "nbformat_minor": 1
}
