{
 "cells": [
  {
   "cell_type": "markdown",
   "metadata": {},
   "source": [
    "### Purpose of this notebook: Develop algorithms to procedurally generate block construction targets \n",
    "\n",
    "* blockworld is 8x8 grid\n",
    "* allowable blocks are: 1x1, 2x2, 4x4 squares and the triangles that comprise them\n",
    "* target difficulty roughly varies according to shape and number of holes\n",
    "* constraints on construction include: \n",
    "    * physical stability (a tipped over triangle will fall!)\n",
    "    * geometry (presence & shape of \"holes\")\n",
    "    * inventory (not infinite number of large 8x2 blocks!)\n",
    "    * cost (# blocks)"
   ]
  },
  {
   "cell_type": "code",
   "execution_count": 37,
   "metadata": {},
   "outputs": [],
   "source": [
    "from __future__ import division\n",
    "\n",
    "import numpy as np\n",
    "import os, sys\n",
    "from PIL import Image\n",
    "\n",
    "from matplotlib import pylab, mlab, pyplot\n",
    "import matplotlib.pyplot as plt\n",
    "import matplotlib.image as mpimg\n",
    "from matplotlib.path import Path\n",
    "import matplotlib.patches as patches\n",
    "%matplotlib inline\n",
    "\n",
    "from IPython.core.pylabtools import figsize, getfigs\n",
    "\n",
    "import seaborn as sns\n",
    "\n",
    "import random\n",
    "\n",
    "from scipy.stats import norm\n",
    "from IPython.display import clear_output\n",
    "\n",
    "import copy\n",
    "import importlib\n",
    "\n",
    "### Add Paths\n",
    "\n",
    "## root paths\n",
    "curr_dir = os.getcwd()\n",
    "proj_dir = os.path.abspath(os.path.join(curr_dir,'..','..')) ## use relative paths\n",
    "\n",
    "## add helpers to python path\n",
    "import sys\n",
    "if os.path.join(proj_dir, 'stimuli') not in sys.path:\n",
    "    sys.path.append(os.path.join(proj_dir, 'stimuli'))\n",
    "\n",
    "## custom helper modules\n",
    "import separation_axis_theorem as sat\n",
    "import blockworld_helpers as utils\n",
    "\n",
    "def cls():\n",
    "    os.system('cls' if os.name=='nt' else 'clear')\n"
   ]
  },
  {
   "cell_type": "markdown",
   "metadata": {},
   "source": [
    "### start with simple cases "
   ]
  },
  {
   "cell_type": "markdown",
   "metadata": {},
   "source": [
    "#### define inventory of block types, positioned at origin"
   ]
  },
  {
   "cell_type": "code",
   "execution_count": null,
   "metadata": {},
   "outputs": [],
   "source": [
    "## sketch of blocklaying procedure:\n",
    "\n",
    "## sample block size and place in leftmost, lowest position that you can and place in the array\n",
    "\n",
    "## make sure that no blocks collide\n",
    "\n",
    "## keep going until the summed area of all blocks equals or exceeds the total area of the arena\n",
    "\n",
    "## fill these crevices"
   ]
  },
  {
   "cell_type": "code",
   "execution_count": null,
   "metadata": {},
   "outputs": [],
   "source": [
    "importlib.reload(utils)\n",
    "b1 = utils.Block(1,1)\n",
    "b2 = utils.Block(2,2)\n",
    "b3 = utils.Block(4,2)"
   ]
  },
  {
   "cell_type": "code",
   "execution_count": null,
   "metadata": {},
   "outputs": [],
   "source": [
    "importlib.reload(utils)\n",
    "\n",
    "def patch_for_block(b):\n",
    "    return utils.get_patch(b.base_block.translate(b.base_block.verts,b.x,b.y),color=b.base_block.color)\n",
    "\n",
    "def patches_for_floor(floor_blocks, xs):\n",
    "    patches = []\n",
    "    for (i, b) in enumerate(floor_blocks):\n",
    "        patches.append(patch_for_block_here(b,xs[i],0))\n",
    "    return patches\n",
    "\n",
    "def drawFloor(floor_blocks, xs):\n",
    "    utils.render_blockworld(patches_for_floor(floor_blocks, xs))\n",
    "    \n",
    "def patches_for_world(blocks):\n",
    "    patches = []\n",
    "    for (b) in blocks:\n",
    "        patches.append(patch_for_block(b))\n",
    "    return patches\n",
    "\n",
    "def drawWorld(world):\n",
    "    utils.render_blockworld(patches_for_world(world.blocks))\n",
    "\n",
    "# World Class\n",
    "class World:\n",
    "    \n",
    "    width = 8\n",
    "    height = 8\n",
    "\n",
    "    block_dims = [\n",
    "        (1,1),\n",
    "        (1,2),\n",
    "        (2,1),\n",
    "        (2,2),\n",
    "        (2,4),\n",
    "        (4,2),\n",
    "        (4,4),\n",
    "        (8,2)\n",
    "        ]\n",
    "    \n",
    "    block_colors = [\n",
    "        '#D33E43',\n",
    "        '#29335C',\n",
    "        '#EAEAEA',\n",
    "        '#0F8B8D',\n",
    "        '#2E3B44',\n",
    "        '#E79598',\n",
    "        '#8A8FA6',\n",
    "        '#91CACB',\n",
    "        '#B3B7BB',\n",
    "        '#D33E43',\n",
    "        '#EAEAEA'\n",
    "    ]\n",
    "\n",
    "    base_blocks = [utils.BlockType(w,h,color=c) for ((w,h),c) in list(zip(sorted(block_dims),block_colors[0:len(block_dims)]))] # Block types should be in order from left to right, thinest to thickest, shortest to tallest\n",
    "    block_widths = list(map(lambda b: b.width, base_blocks))\n",
    "    \n",
    "    def __init__(self):\n",
    "        \n",
    "        # Actual blocks present in world\n",
    "        \n",
    "        self.block_map = np.zeros((World.width, World.height), dtype=int) #bitmap for placement of blocks\n",
    "        \n",
    "        self.blocks = []\n",
    "        \n",
    "        self.full = False\n",
    "        \n",
    "    def check_full(self):\n",
    "        '''\n",
    "        Checks to see whether the World contains any empty space by summing block_map\n",
    "        '''\n",
    "        if not self.full:\n",
    "            isFull = (sum(sum(self.block_map)) == width*height)\n",
    "            self.full = isFull\n",
    "            return isFull\n",
    "        else:\n",
    "            return True\n",
    "      \n",
    "    def fill_floor(self, floor_space):\n",
    "        '''\n",
    "        Fills a 'floor', a level horizontal surface, with blocks.\n",
    "        Input: Lexicon of blocks- np arrays with 5 coordinates; length of available floor space\n",
    "        Output: List of blocks that can be used to fill the floor space with no gaps\n",
    "        '''\n",
    "        \n",
    "        floor_blocks = []\n",
    "        floor_block_widths = []\n",
    "        viable_block_widths = copy.deepcopy(self.block_widths)\n",
    "        remaining_space = floor_space\n",
    "        while remaining_space > 0:\n",
    "            i = np.random.randint(0,len(viable_block_widths))\n",
    "            if self.block_widths[i] <= remaining_space:\n",
    "                floor_blocks.append([self.base_blocks[i],floor_space-remaining_space])\n",
    "                floor_block_widths.append(self.block_widths[i])\n",
    "                remaining_space -= self.block_widths[i]\n",
    "            else:\n",
    "                viable_block_widths.pop()\n",
    "        return(floor_blocks)\n",
    "\n",
    "    def fill_floor_here(self, lvl, left, right):\n",
    "        '''\n",
    "        Fills a 'floor', a level horizontal surface, with blocks.\n",
    "        Input: Lexicon of blocks- np arrays with 5 coordinates; length of available floor space\n",
    "        Output: List of blocks that can be used to fill the floor space with no gaps\n",
    "        '''\n",
    "        \n",
    "        floor_space = right-left\n",
    "        floor_blocks = []\n",
    "        floor_block_x_location = left\n",
    "        \n",
    "        viable_block_widths = copy.deepcopy(self.block_widths)\n",
    "        viable_blocks = copy.deepcopy(self.base_blocks)\n",
    "        \n",
    "        remaining_height = World.height - lvl\n",
    "        remaining_space = floor_space\n",
    "        \n",
    "        while remaining_space > 0:\n",
    "            i = np.random.randint(0,len(viable_blocks))\n",
    "            base_block = self.base_blocks[i]\n",
    "            if base_block.width <= remaining_space and base_block.height <= remaining_height: \n",
    "                b = utils.Block(self.base_blocks[i],floor_block_x_location,lvl)\n",
    "                floor_block_x_location += b.width\n",
    "                floor_blocks.append(b)\n",
    "                self.blocks.append(b)\n",
    "                remaining_space -= b.width\n",
    "            else:\n",
    "                viable_blocks.pop()\n",
    "        self._update_map_with_floor_blocks(floor_blocks)\n",
    "\n",
    "    def _update_map_with_floor_blocks(self, floor_blocks):\n",
    "        for (i, b) in enumerate(floor_blocks):\n",
    "            self.block_map[self.height-(b.y+b.height): self.height-b.y, b.x:(b.x+b.width)] = 1  \n",
    "            #self.block_map[self.height-(lvl+b.height): self.height-lvl, floor_block_xs[i]:floor_block_xs[i+1]] = 1  \n",
    "        #print(self.block_map)\n",
    "    \n",
    "    def fill_world(self):\n",
    "        '''\n",
    "        Semi-randomly fills world with blocks, adding a 'floor' of blocks to the next available flat surface \n",
    "        '''\n",
    "        lvl = 0 #Start at bottom and work up\n",
    "        while lvl <= World.height - 1: # Until at top\n",
    "            #find floor\n",
    "            while self.block_map[World.height - lvl - 1].all() and lvl < World.height: # check if level is full or reached top\n",
    "                lvl += 1\n",
    "            if lvl == World.height:\n",
    "                    break\n",
    "            left = 0\n",
    "            while self.block_map[World.height - lvl - 1][left] == 1:\n",
    "                left += 1\n",
    "            right = left\n",
    "            while right < World.width and self.block_map[World.height - lvl - 1][right] == 0:\n",
    "                right += 1\n",
    "            #print('fill_world_here: ' + str((lvl, left, right)))\n",
    "            self.fill_floor_here(lvl, left, right)\n",
    "        \n",
    "        drawWorld(self)\n",
    "    \n",
    "    "
   ]
  },
  {
   "cell_type": "code",
   "execution_count": null,
   "metadata": {},
   "outputs": [],
   "source": [
    "importlib.reload(utils)\n",
    "w = utils.World()\n",
    "w.fill_world(render=True)"
   ]
  },
  {
   "cell_type": "code",
   "execution_count": null,
   "metadata": {},
   "outputs": [],
   "source": [
    "importlib.reload(utils)\n",
    "w = utils.World()\n",
    "w.add_block(4,2,1,4)\n",
    "w.add_block(2,4,2,0)\n",
    "utils.draw_world(w)"
   ]
  },
  {
   "cell_type": "code",
   "execution_count": null,
   "metadata": {
    "scrolled": false
   },
   "outputs": [],
   "source": [
    "# successively 'Jenga' blocks\n",
    "importlib.reload(utils)\n",
    "w = utils.World()\n",
    "w.fill_world()\n",
    "world_stages = [w]\n",
    "# loop\n",
    "\n",
    "# try removing blocks until one removed or no blocks left\n",
    "\n",
    "utils.draw_world(w)\n",
    "for j in range(0,5):\n",
    "    i = 0;\n",
    "    block_removed = False\n",
    "    while not block_removed:\n",
    "        #block_number = random_block_order.pop\n",
    "        (block_removed, w2) = w.jenga_block(i)\n",
    "        if block_removed:\n",
    "            world_stages.append(w2)\n",
    "            w = w2\n",
    "            utils.draw_world(w)\n",
    "        else:\n",
    "            i += 1;\n"
   ]
  },
  {
   "cell_type": "code",
   "execution_count": null,
   "metadata": {},
   "outputs": [],
   "source": [
    "importlib.reload(utils)\n",
    "w = utils.World()\n",
    "w.fill_world()\n",
    "json_obj = w.save_to_json()\n",
    "json_obj"
   ]
  },
  {
   "cell_type": "code",
   "execution_count": null,
   "metadata": {},
   "outputs": [],
   "source": [
    "w2 = utils.World()\n",
    "w2.populate_from_json(json_obj)\n",
    "utils.draw_world(w2)\n",
    "utils.draw_world(w)"
   ]
  },
  {
   "cell_type": "code",
   "execution_count": null,
   "metadata": {},
   "outputs": [],
   "source": []
  },
  {
   "cell_type": "code",
   "execution_count": 41,
   "metadata": {},
   "outputs": [
    {
     "data": {
      "image/png": "[encoded data removed]",
      "text/plain": [
       "<Figure size 288x288 with 1 Axes>"
      ]
     },
     "metadata": {
      "needs_background": "light"
     },
     "output_type": "display_data"
    },
    {
     "name": "stdout",
     "output_type": "stream",
     "text": [
      "\n",
      " a above b:  True \n",
      " a below b:  False \n",
      " a left b:  False \n",
      " a right b:  False\n",
      "\n",
      " b above a:  False \n",
      " b below a:  True \n",
      " b left a:  False \n",
      " b right a:  False\n",
      "\n",
      " a touching b:  True \n",
      " b touching a:  True\n",
      "\n",
      " a abs_overlap b (horizontal):  2 \n",
      " b abs_overlap a (horizontal):  2 \n",
      " a abs_overlap b (vertical):  0 \n",
      " b abs_overlap a (vertical):  0\n",
      "\n",
      " a partially supported by b:  True \n",
      " b partially supported by a:  False\n",
      "\n",
      " a completely supported by b:  False \n",
      " b completely supported by a:  False\n"
     ]
    }
   ],
   "source": [
    "importlib.reload(utils)\n",
    "w = utils.World()\n",
    "a = w.add_block(4,2,4,4)\n",
    "b = w.add_block(2,4,4,0)\n",
    "utils.draw_world(w)\n",
    "print('\\n',\n",
    "    'a above b: ', a.above(b), '\\n', \n",
    "    'a below b: ', a.below(b), '\\n', \n",
    "    'a left b: ', a.leftof(b), '\\n', \n",
    "    'a right b: ', a.rightof(b)\n",
    ")\n",
    "\n",
    "print('\\n',\n",
    "    'b above a: ', b.above(a), '\\n', \n",
    "    'b below a: ', b.below(a), '\\n', \n",
    "    'b left a: ', b.leftof(a), '\\n', \n",
    "    'b right a: ', b.rightof(a)\n",
    ")\n",
    "\n",
    "print('\\n',\n",
    "    'a touching b: ', a.touching(b), '\\n',\n",
    "    'b touching a: ', b.touching(a))\n",
    "\n",
    "print('\\n',\n",
    "    'a abs_overlap b (horizontal): ', a.abs_overlap(b), '\\n',\n",
    "    'b abs_overlap a (horizontal): ', b.abs_overlap(a), '\\n',\n",
    "    'a abs_overlap b (vertical): ', a.abs_overlap(b, horizontal_overlap=False), '\\n',\n",
    "    'b abs_overlap a (vertical): ', b.abs_overlap(a, horizontal_overlap=False))\n",
    "\n",
    "\n",
    "print('\\n',\n",
    "    'a partially supported by b: ', a.partially_supported_by(b), '\\n',\n",
    "    'b partially supported by a: ', b.partially_supported_by(a))\n",
    "\n",
    "print('\\n',\n",
    "    'a completely supported by b: ', a.completely_supported_by(b), '\\n',\n",
    "    'b completely supported by a: ', b.completely_supported_by(a))"
   ]
  },
  {
   "cell_type": "code",
   "execution_count": null,
   "metadata": {},
   "outputs": [],
   "source": []
  },
  {
   "cell_type": "code",
   "execution_count": 42,
   "metadata": {},
   "outputs": [
    {
     "data": {
      "image/png": "[encoded data removed]",
      "text/plain": [
       "<Figure size 288x288 with 1 Axes>"
      ]
     },
     "metadata": {
      "needs_background": "light"
     },
     "output_type": "display_data"
    },
    {
     "name": "stdout",
     "output_type": "stream",
     "text": [
      "above \n",
      " [[False  True False  True False  True  True  True  True  True]\n",
      " [False False False False False False  True  True  True  True]\n",
      " [False  True False  True False  True  True  True  True  True]\n",
      " [False False False False False False  True  True  True  True]\n",
      " [False  True False  True False  True  True  True  True  True]\n",
      " [False False False False False False  True  True  True  True]\n",
      " [False False False False False False False  True False False]\n",
      " [False False False False False False False False False False]\n",
      " [False False False False False False False  True False  True]\n",
      " [False False False False False False False  True False False]]\n",
      "below \n",
      " [[False False False False False False False False False False]\n",
      " [ True False  True False  True False False False False False]\n",
      " [False False False False False False False False False False]\n",
      " [ True False  True False  True False False False False False]\n",
      " [False False False False False False False False False False]\n",
      " [ True False  True False  True False False False False False]\n",
      " [ True  True  True  True  True  True False False False False]\n",
      " [ True  True  True  True  True  True  True False  True  True]\n",
      " [ True  True  True  True  True  True False False False False]\n",
      " [ True  True  True  True  True  True False False  True False]]\n",
      "partial support \n",
      " [[False  True False False False False False False False False]\n",
      " [False False False False False False False False  True False]\n",
      " [False False False  True False False False False False False]\n",
      " [False False False False False False  True False False False]\n",
      " [False False False False False  True False False False False]\n",
      " [False False False False False False  True False False False]\n",
      " [False False False False False False False  True False False]\n",
      " [False False False False False False False False False False]\n",
      " [False False False False False False False False False  True]\n",
      " [False False False False False False False False False False]]\n"
     ]
    }
   ],
   "source": [
    "importlib.reload(utils)\n",
    "w2 = utils.World()\n",
    "w2.add_block(1,2,2,0)\n",
    "w2.add_block(2,2,2,2)\n",
    "w2.add_block(2,2,4,0)\n",
    "w2.add_block(2,2,4,2)\n",
    "w2.add_block(1,2,7,0)\n",
    "w2.add_block(1,2,7,2)\n",
    "w2.add_block(4,2,4,4)\n",
    "w2.add_block(4,2,4,6)\n",
    "w2.add_block(2,1,2,4)\n",
    "w2.add_block(2,1,2,5)\n",
    "utils.draw_world(w2)\n",
    "\n",
    "\n",
    "\n",
    "block_array_x = np.array(w2.blocks)[None,:]\n",
    "block_array_y = np.array(w2.blocks)[:,None]\n",
    "\n",
    "#block_array_x = np.expand_dims(w2.blocks, axis=0)\n",
    "#block_array_y = np.expand_dims(w2.blocks, axis=1)\n",
    "\n",
    "above_function = np.vectorize(utils.Block.above)\n",
    "aboves = above_function(block_array_x, block_array_y)\n",
    "print(\"above \\n\",aboves)\n",
    "\n",
    "below_function = np.vectorize(utils.Block.below)\n",
    "belows = below_function(block_array_x, block_array_y)\n",
    "print(\"below \\n\", belows)\n",
    "\n",
    "partial_support_function = np.vectorize(utils.Block.partially_supported_by)\n",
    "partial_support = partial_support_function(block_array_x, block_array_y)\n",
    "print(\"partial support \\n\", partial_support)"
   ]
  },
  {
   "cell_type": "code",
   "execution_count": 39,
   "metadata": {},
   "outputs": [],
   "source": [
    "def jenga_blocks(w,n):\n",
    "\n",
    "    for j in range(0,n):\n",
    "        i = 0;\n",
    "        block_removed = False\n",
    "        while not block_removed:\n",
    "            #block_number = random_block_order.pop\n",
    "            (block_removed, w2) = w.jenga_block(i)\n",
    "            if block_removed:\n",
    "                w = w2\n",
    "            else:\n",
    "                i += 1;\n",
    "    return w"
   ]
  },
  {
   "cell_type": "code",
   "execution_count": 43,
   "metadata": {},
   "outputs": [
    {
     "data": {
      "image/png": "[encoded data removed]",
      "text/plain": [
       "<Figure size 288x288 with 1 Axes>"
      ]
     },
     "metadata": {
      "needs_background": "light"
     },
     "output_type": "display_data"
    },
    {
     "name": "stdout",
     "output_type": "stream",
     "text": [
      "partial support \n",
      "\n"
     ]
    },
    {
     "data": {
      "image/png": "[encoded data removed]",
      "text/plain": [
       "<PIL.Image.Image image mode=1 size=100x100 at 0x7F0C9AA2A0F0>"
      ]
     },
     "execution_count": 43,
     "metadata": {},
     "output_type": "execute_result"
    }
   ],
   "source": [
    "importlib.reload(utils)\n",
    "w = utils.World()\n",
    "w.fill_world()\n",
    "w = jenga_blocks(w,5)\n",
    "utils.draw_world(w)\n",
    "\n",
    "block_array_x = np.array(w.blocks)[None,:]\n",
    "block_array_y = np.array(w.blocks)[:,None]\n",
    "\n",
    "partial_support_function = np.vectorize(utils.Block.partially_supported_by)\n",
    "partial_support = partial_support_function(block_array_x, block_array_y)\n",
    "print(\"partial support \\n\")\n",
    "\n",
    "im = Image.fromarray(partial_support)\n",
    "\n",
    "im.resize((100,100))"
   ]
  },
  {
   "cell_type": "code",
   "execution_count": null,
   "metadata": {},
   "outputs": [],
   "source": []
  },
  {
   "cell_type": "code",
   "execution_count": 1432,
   "metadata": {},
   "outputs": [
    {
     "data": {
      "image/png": "[encoded data removed]",
      "text/plain": [
       "<Figure size 288x288 with 1 Axes>"
      ]
     },
     "metadata": {
      "needs_background": "light"
     },
     "output_type": "display_data"
    }
   ],
   "source": [
    "importlib.reload(utils)\n",
    "w = utils.World(\n",
    "    block_dims = [  (1,2),\n",
    "                    (2,1),\n",
    "                    (2,2),\n",
    "                    (2,4),\n",
    "                    (4,2)\n",
    "                    ])\n",
    "w.fill_world()\n",
    "w = jenga_blocks(w,5)\n",
    "utils.draw_world(w)"
   ]
  },
  {
   "cell_type": "code",
   "execution_count": 1355,
   "metadata": {},
   "outputs": [],
   "source": [
    "world_json = w.save_to_json()\n",
    "\n",
    "f = open(\"../interesting_structures.json\", \"a\")\n",
    "f.write(\"\\n\")\n",
    "f.write(world_json)\n",
    "f.close()"
   ]
  },
  {
   "cell_type": "code",
   "execution_count": 1348,
   "metadata": {
    "scrolled": false
   },
   "outputs": [
    {
     "data": {
      "image/png": "[encoded data removed]",
      "text/plain": [
       "<Figure size 288x288 with 1 Axes>"
      ]
     },
     "metadata": {
      "needs_background": "light"
     },
     "output_type": "display_data"
    },
    {
     "data": {
      "image/png": "[encoded data removed]",
      "text/plain": [
       "<Figure size 288x288 with 1 Axes>"
      ]
     },
     "metadata": {
      "needs_background": "light"
     },
     "output_type": "display_data"
    },
    {
     "data": {
      "image/png": "[encoded data removed]",
      "text/plain": [
       "<Figure size 288x288 with 1 Axes>"
      ]
     },
     "metadata": {
      "needs_background": "light"
     },
     "output_type": "display_data"
    },
    {
     "data": {
      "image/png": "[encoded data removed]",
      "text/plain": [
       "<Figure size 288x288 with 1 Axes>"
      ]
     },
     "metadata": {
      "needs_background": "light"
     },
     "output_type": "display_data"
    },
    {
     "data": {
      "image/png": "[encoded data removed]",
      "text/plain": [
       "<Figure size 288x288 with 1 Axes>"
      ]
     },
     "metadata": {
      "needs_background": "light"
     },
     "output_type": "display_data"
    },
    {
     "data": {
      "image/png": "[encoded data removed]",
      "text/plain": [
       "<Figure size 288x288 with 1 Axes>"
      ]
     },
     "metadata": {
      "needs_background": "light"
     },
     "output_type": "display_data"
    },
    {
     "data": {
      "image/png": "[encoded data removed]",
      "text/plain": [
       "<Figure size 288x288 with 1 Axes>"
      ]
     },
     "metadata": {
      "needs_background": "light"
     },
     "output_type": "display_data"
    },
    {
     "data": {
      "image/png": "[encoded data removed]",
      "text/plain": [
       "<Figure size 288x288 with 1 Axes>"
      ]
     },
     "metadata": {
      "needs_background": "light"
     },
     "output_type": "display_data"
    },
    {
     "data": {
      "image/png": "[encoded data removed]",
      "text/plain": [
       "<Figure size 288x288 with 1 Axes>"
      ]
     },
     "metadata": {
      "needs_background": "light"
     },
     "output_type": "display_data"
    },
    {
     "data": {
      "image/png": "[encoded data removed]",
      "text/plain": [
       "<Figure size 288x288 with 1 Axes>"
      ]
     },
     "metadata": {
      "needs_background": "light"
     },
     "output_type": "display_data"
    },
    {
     "data": {
      "image/png": "[encoded data removed]",
      "text/plain": [
       "<Figure size 288x288 with 1 Axes>"
      ]
     },
     "metadata": {
      "needs_background": "light"
     },
     "output_type": "display_data"
    },
    {
     "data": {
      "image/png": "[encoded data removed]",
      "text/plain": [
       "<Figure size 288x288 with 1 Axes>"
      ]
     },
     "metadata": {
      "needs_background": "light"
     },
     "output_type": "display_data"
    },
    {
     "data": {
      "image/png": "[encoded data removed]",
      "text/plain": [
       "<Figure size 288x288 with 1 Axes>"
      ]
     },
     "metadata": {
      "needs_background": "light"
     },
     "output_type": "display_data"
    },
    {
     "data": {
      "image/png": "[encoded data removed]",
      "text/plain": [
       "<Figure size 288x288 with 1 Axes>"
      ]
     },
     "metadata": {
      "needs_background": "light"
     },
     "output_type": "display_data"
    }
   ],
   "source": [
    "filepath = \"../interesting_structures.json\"\n",
    "with open(filepath) as fp:\n",
    "    for i,blocks in enumerate(fp):\n",
    "        w = utils.World()\n",
    "        #w = utils.World(block_colors = ['#000000','#000000','#000000','#000000','#000000','#000000','#000000','#000000'])\n",
    "        w.populate_from_json(blocks)\n",
    "        utils.draw_world(w)"
   ]
  },
  {
   "cell_type": "code",
   "execution_count": null,
   "metadata": {},
   "outputs": [],
   "source": []
  },
  {
   "cell_type": "code",
   "execution_count": null,
   "metadata": {},
   "outputs": [],
   "source": []
  }
 ],
 "metadata": {
  "kernelspec": {
   "display_name": "Python 3",
   "language": "python",
   "name": "python3"
  },
  "language_info": {
   "codemirror_mode": {
    "name": "ipython",
    "version": 3
   },
   "file_extension": ".py",
   "mimetype": "text/x-python",
   "name": "python",
   "nbconvert_exporter": "python",
   "pygments_lexer": "ipython3",
   "version": "3.7.3"
  }
 },
 "nbformat": 4,
 "nbformat_minor": 1
}
