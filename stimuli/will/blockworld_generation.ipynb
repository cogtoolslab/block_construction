{
 "cells": [
  {
   "cell_type": "markdown",
   "metadata": {},
   "source": [
    "### Purpose of this notebook: Develop algorithms to procedurally generate block construction targets \n",
    "\n",
    "* blockworld is 8x8 grid\n",
    "* allowable blocks are: 1x1, 2x2, 4x4 squares and the triangles that comprise them\n",
    "* target difficulty roughly varies according to shape and number of holes\n",
    "* constraints on construction include: \n",
    "    * physical stability (a tipped over triangle will fall!)\n",
    "    * geometry (presence & shape of \"holes\")\n",
    "    * inventory (not infinite number of large 8x2 blocks!)\n",
    "    * cost (# blocks)"
   ]
  },
  {
   "cell_type": "code",
   "execution_count": null,
   "metadata": {},
   "outputs": [],
   "source": [
    "from __future__ import division\n",
    "\n",
    "import numpy as np\n",
    "import os, sys\n",
    "from PIL import Image\n",
    "\n",
    "from matplotlib import pylab, mlab, pyplot\n",
    "import matplotlib.pyplot as plt\n",
    "import matplotlib.image as mpimg\n",
    "from matplotlib.path import Path\n",
    "import matplotlib.patches as patches\n",
    "%matplotlib inline\n",
    "\n",
    "from IPython.core.pylabtools import figsize, getfigs\n",
    "\n",
    "import seaborn as sns\n",
    "\n",
    "import random\n",
    "\n",
    "from scipy.stats import norm\n",
    "from IPython.display import clear_output\n",
    "\n",
    "import copy\n",
    "import importlib\n",
    "\n",
    "### Add Paths\n",
    "\n",
    "## root paths\n",
    "curr_dir = os.getcwd()\n",
    "proj_dir = os.path.abspath(os.path.join(curr_dir,'..','..')) ## use relative paths\n",
    "\n",
    "## add helpers to python path\n",
    "import sys\n",
    "if os.path.join(proj_dir, 'stimuli') not in sys.path:\n",
    "    sys.path.append(os.path.join(proj_dir, 'stimuli'))\n",
    "\n",
    "## custom helper modules\n",
    "import separation_axis_theorem as sat\n",
    "import blockworld_helpers as utils"
   ]
  },
  {
   "cell_type": "markdown",
   "metadata": {},
   "source": [
    "### start with simple cases "
   ]
  },
  {
   "cell_type": "markdown",
   "metadata": {},
   "source": [
    "#### define inventory of block types, positioned at origin"
   ]
  },
  {
   "cell_type": "code",
   "execution_count": null,
   "metadata": {},
   "outputs": [],
   "source": [
    "## block primitives\n",
    "\n",
    "#### squares\n",
    "s1 = np.array([(0, 0), (0, -1), (1, -1), (1, 0), (0,0)]) ## 1x1\n",
    "s2 = s1*2 ## 2x2\n",
    "s4 = s1*4 ## 4x4"
   ]
  },
  {
   "cell_type": "code",
   "execution_count": null,
   "metadata": {},
   "outputs": [],
   "source": [
    "## render two blocks side by side\n",
    "patch1 = utils.get_patch(s4)\n",
    "patch2 = utils.get_patch(s2-2)\n",
    "patch3 = utils.get_patch((utils.translate(s4, 2, 2)))\n",
    "\n",
    "patches = [patch1,patch2,patch3]\n",
    "\n",
    "utils.render_blockworld(patches)"
   ]
  },
  {
   "cell_type": "code",
   "execution_count": null,
   "metadata": {},
   "outputs": [],
   "source": [
    "## distinguish between two blocks merely touching & actually coinciding \n",
    "importlib.reload(sat)\n",
    "print(sat.separating_axis_theorem(s2[:-1]-2,s4[:-1])) ## \n",
    "print(sat.apply_sat(s2[:-1]-2,s4[:-1]))"
   ]
  },
  {
   "cell_type": "code",
   "execution_count": null,
   "metadata": {},
   "outputs": [],
   "source": []
  },
  {
   "cell_type": "code",
   "execution_count": null,
   "metadata": {},
   "outputs": [],
   "source": [
    "## sketch of blocklaying procedure:\n",
    "\n",
    "## sample block size and place in leftmost, lowest position that you can and place in the array\n",
    "\n",
    "## make sure that no blocks collide\n",
    "\n",
    "## keep going until the summed area of all blocks equals or exceeds the total area of the arena\n",
    "\n",
    "## fill these crevices"
   ]
  },
  {
   "cell_type": "code",
   "execution_count": null,
   "metadata": {},
   "outputs": [],
   "source": []
  },
  {
   "cell_type": "code",
   "execution_count": null,
   "metadata": {},
   "outputs": [],
   "source": [
    "importlib.reload(utils)\n",
    "b1 = utils.Block(1,1)\n",
    "b2 = utils.Block(2,2)\n",
    "b3 = utils.Block(4,2)"
   ]
  },
  {
   "cell_type": "code",
   "execution_count": null,
   "metadata": {
    "scrolled": true
   },
   "outputs": [],
   "source": [
    "blocks = [b1,b2,b3]\n",
    "floor_space = 8\n",
    "\n",
    "def fill_floor(blocks, floor_space):\n",
    "    '''\n",
    "    Fills a level horizontal surface with blocks.\n",
    "    Input: Lexicon of blocks- np arrays with 5 coordinates; length of available floor space\n",
    "    Output: List of blocks that can be used to fill the floor space with no gaps\n",
    "    '''\n",
    "    block_widths = list(map(lambda b: b.width, blocks))\n",
    "\n",
    "    floor_blocks = []\n",
    "    floor_block_widths = []\n",
    "    viable_block_widths = copy.deepcopy(block_widths)\n",
    "    remaining_space = floor_space\n",
    "    while remaining_space > 0:\n",
    "        i = np.random.randint(0,len(viable_block_widths))\n",
    "        if block_widths[i] <= remaining_space:\n",
    "            floor_blocks.append([blocks[i],floor_space-remaining_space])\n",
    "            floor_block_widths.append(block_widths[i])\n",
    "            remaining_space -= block_widths[i]\n",
    "        else:\n",
    "            viable_block_widths.pop()\n",
    "    #print(floor_blocks)\n",
    "    #print(floor_block_widths)\n",
    "    return(floor_blocks)\n",
    "\n",
    "# visualize blocks placed on floor\n",
    "\n",
    "\n",
    "def patch_for_block_here(b, x, y):\n",
    "    return utils.get_patch(b.translate(b.verts,x,y))\n",
    "\n",
    "def patches_for_floor(floor_blocks):\n",
    "    patches = []\n",
    "    for block_and_x in floor_blocks:\n",
    "        patches.append(patch_for_block_here(block_and_x[0],block_and_x[1],0))\n",
    "    return patches\n"
   ]
  },
  {
   "cell_type": "code",
   "execution_count": null,
   "metadata": {},
   "outputs": [],
   "source": [
    "## Helper functions needed\n",
    "# Visualize blocks placed on floor\n",
    "# Calculate 'floors' to be placed on\n",
    "# Recursively call fill_floor until whole square filled\n",
    "# Create World Class"
   ]
  },
  {
   "cell_type": "code",
   "execution_count": null,
   "metadata": {},
   "outputs": [],
   "source": [
    "# Visualize blocks placed on floor\n",
    "\n",
    "blocks = [b1,b2,b3]\n",
    "floor_space = 8\n",
    "floor_blocks = fill_floor(blocks, floor_space)\n",
    "utils.render_blockworld(patches_for_floor(floor_blocks))"
   ]
  },
  {
   "cell_type": "code",
   "execution_count": null,
   "metadata": {},
   "outputs": [],
   "source": []
  },
  {
   "cell_type": "code",
   "execution_count": null,
   "metadata": {},
   "outputs": [],
   "source": [
    "# calculate 'floors' to be placed on\n"
   ]
  },
  {
   "cell_type": "code",
   "execution_count": null,
   "metadata": {},
   "outputs": [],
   "source": [
    "# recursively call fill_floor until whole square filled\n",
    "# Use queue to fill from left to right, bottom to top?\n",
    "\n"
   ]
  },
  {
   "cell_type": "code",
   "execution_count": null,
   "metadata": {},
   "outputs": [],
   "source": [
    "# World Class\n"
   ]
  }
 ],
 "metadata": {
  "kernelspec": {
   "display_name": "Python 3",
   "language": "python",
   "name": "python3"
  },
  "language_info": {
   "codemirror_mode": {
    "name": "ipython",
    "version": 3
   },
   "file_extension": ".py",
   "mimetype": "text/x-python",
   "name": "python",
   "nbconvert_exporter": "python",
   "pygments_lexer": "ipython3",
   "version": "3.6.8"
  }
 },
 "nbformat": 4,
 "nbformat_minor": 1
}
