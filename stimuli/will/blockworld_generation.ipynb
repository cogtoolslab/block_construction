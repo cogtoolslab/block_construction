{
 "cells": [
  {
   "cell_type": "markdown",
   "metadata": {},
   "source": [
    "### Purpose of this notebook: Develop algorithms to procedurally generate block construction targets \n",
    "\n",
    "* blockworld is 8x8 grid\n",
    "* allowable blocks are: 1x1, 2x2, 4x4 squares and the triangles that comprise them\n",
    "* target difficulty roughly varies according to shape and number of holes\n",
    "* constraints on construction include: \n",
    "    * physical stability (a tipped over triangle will fall!)\n",
    "    * geometry (presence & shape of \"holes\")\n",
    "    * inventory (not infinite number of large 8x2 blocks!)\n",
    "    * cost (# blocks)"
   ]
  },
  {
   "cell_type": "code",
   "execution_count": 3,
   "metadata": {},
   "outputs": [
    {
     "name": "stderr",
     "output_type": "stream",
     "text": [
      "/Users/will/anaconda3/lib/python3.7/site-packages/statsmodels/tools/_testing.py:19: FutureWarning: pandas.util.testing is deprecated. Use the functions in the public API at pandas.testing instead.\n",
      "  import pandas.util.testing as tm\n"
     ]
    }
   ],
   "source": [
    "from __future__ import division\n",
    "\n",
    "import numpy as np\n",
    "import os, sys\n",
    "from PIL import Image\n",
    "\n",
    "from matplotlib import pylab, mlab, pyplot\n",
    "import matplotlib.pyplot as plt\n",
    "import matplotlib.image as mpimg\n",
    "from matplotlib.path import Path\n",
    "import matplotlib.patches as patches\n",
    "%matplotlib inline\n",
    "\n",
    "from IPython.core.pylabtools import figsize, getfigs\n",
    "\n",
    "import seaborn as sns\n",
    "\n",
    "import random\n",
    "\n",
    "from scipy.stats import norm\n",
    "from IPython.display import clear_output\n",
    "\n",
    "import copy\n",
    "import importlib\n",
    "\n",
    "\n",
    "## TODO: convert to python3"
   ]
  },
  {
   "cell_type": "markdown",
   "metadata": {},
   "source": [
    "### define paths"
   ]
  },
  {
   "cell_type": "code",
   "execution_count": 4,
   "metadata": {},
   "outputs": [],
   "source": [
    "## root paths\n",
    "curr_dir = os.getcwd()\n",
    "proj_dir = os.path.abspath(os.path.join(curr_dir,'..','..')) ## use relative paths\n",
    "\n",
    "## add helpers to python path\n",
    "import sys\n",
    "if os.path.join(proj_dir, 'stimuli') not in sys.path:\n",
    "    sys.path.append(os.path.join(proj_dir, 'stimuli'))\n",
    "\n",
    "## custom helper modules\n",
    "import separation_axis_theorem as sat\n",
    "import blockworld_helpers as utils"
   ]
  },
  {
   "cell_type": "code",
   "execution_count": 5,
   "metadata": {},
   "outputs": [
    {
     "data": {
      "text/plain": [
       "<module 'blockworld_helpers' from '/Users/will/block_construction/stimuli/blockworld_helpers.py'>"
      ]
     },
     "execution_count": 5,
     "metadata": {},
     "output_type": "execute_result"
    }
   ],
   "source": [
    "importlib.reload(utils)"
   ]
  },
  {
   "cell_type": "markdown",
   "metadata": {},
   "source": [
    "### start with simple cases "
   ]
  },
  {
   "cell_type": "markdown",
   "metadata": {},
   "source": [
    "#### define inventory of block types, positioned at origin"
   ]
  },
  {
   "cell_type": "code",
   "execution_count": 6,
   "metadata": {},
   "outputs": [],
   "source": [
    "class Block:\n",
    "    '''\n",
    "    Base Block class for defining a block object with attributes\n",
    "    '''\n",
    "    \n",
    "    def __init__(self, width=1, height=1, shape='rectangle'):\n",
    "        self.verts = np.array([(0, 0), \n",
    "                               (0, -1 * height), \n",
    "                               (1 * width, -1 * height), \n",
    "                               (1 * width, 0), \n",
    "                               (0,0)]) \n",
    "        self.width = width\n",
    "        self.height = height\n",
    "        self.shape = shape\n",
    "\n",
    "    def init(self):\n",
    "        self.corners = self.get_corners(self.verts)\n",
    "        self.area = self.get_area(self.dims,shape=self.shape) \n",
    "        \n",
    "    def translate(self,verts, dx, dy):\n",
    "        '''\n",
    "        input:\n",
    "            verts: array or list of (x,y) vertices of convex polygon. \n",
    "                    last vertex = first vertex, so len(verts) is num_vertices + 1\n",
    "            dx, dy: distance to translate in each direction\n",
    "        output:\n",
    "            new vertices\n",
    "        '''\n",
    "        new_verts = copy.deepcopy(verts)\n",
    "        new_verts[:,0] = verts[:,0] + dx\n",
    "        new_verts[:,1] = verts[:,1] + dy\n",
    "        return new_verts\n",
    "\n",
    "    def get_corners(self,verts):\n",
    "        '''\n",
    "        input: list or array of block vertices in absolute coordinates\n",
    "        output: absolute coordinates of top_left, bottom_left, bottom_right, top_right\n",
    "        '''\n",
    "        corners = {}\n",
    "        corners['top_left'] = verts[0]\n",
    "        corners['bottom_left'] = verts[1]\n",
    "        corners['bottom_right'] = verts[2]\n",
    "        corners['top_right'] = verts[3]\n",
    "        return corners\n",
    "\n",
    "    def get_area(self,dims,shape='rectangle'):\n",
    "        '''\n",
    "        input: w = width \n",
    "               h = height           \n",
    "               shape = ['rectangle', 'square', 'triangle']\n",
    "        output\n",
    "        '''\n",
    "        ## extract width and height from dims dictionary\n",
    "        w = dims['width']\n",
    "        h = dims['height']    \n",
    "        if shape in ['rectangle','square']:\n",
    "            area = w*h\n",
    "        elif shape=='triangle':\n",
    "            area = w*h*0.5\n",
    "        else:\n",
    "            print('Shape type not recognized. Please use recognized shape type.')\n",
    "        return area   "
   ]
  },
  {
   "cell_type": "code",
   "execution_count": 11,
   "metadata": {},
   "outputs": [
    {
     "ename": "TypeError",
     "evalue": "__init__() got an unexpected keyword argument 'width'",
     "output_type": "error",
     "traceback": [
      "\u001b[0;31m---------------------------------------------------------------------------\u001b[0m",
      "\u001b[0;31mTypeError\u001b[0m                                 Traceback (most recent call last)",
      "\u001b[0;32m<ipython-input-11-fd4098fc2115>\u001b[0m in \u001b[0;36m<module>\u001b[0;34m\u001b[0m\n\u001b[0;32m----> 1\u001b[0;31m \u001b[0mx\u001b[0m \u001b[0;34m=\u001b[0m \u001b[0mutils\u001b[0m\u001b[0;34m.\u001b[0m\u001b[0mBlock\u001b[0m\u001b[0;34m(\u001b[0m\u001b[0mwidth\u001b[0m \u001b[0;34m=\u001b[0m \u001b[0;36m5\u001b[0m\u001b[0;34m,\u001b[0m \u001b[0mheight\u001b[0m \u001b[0;34m=\u001b[0m \u001b[0;36m2\u001b[0m\u001b[0;34m)\u001b[0m\u001b[0;34m\u001b[0m\u001b[0;34m\u001b[0m\u001b[0m\n\u001b[0m",
      "\u001b[0;31mTypeError\u001b[0m: __init__() got an unexpected keyword argument 'width'"
     ]
    }
   ],
   "source": [
    "x = utils.Block(width = 5, height = 2)"
   ]
  },
  {
   "cell_type": "code",
   "execution_count": 8,
   "metadata": {},
   "outputs": [
    {
     "ename": "NameError",
     "evalue": "name 'x' is not defined",
     "output_type": "error",
     "traceback": [
      "\u001b[0;31m---------------------------------------------------------------------------\u001b[0m",
      "\u001b[0;31mNameError\u001b[0m                                 Traceback (most recent call last)",
      "\u001b[0;32m<ipython-input-8-cf5271fd2f5d>\u001b[0m in \u001b[0;36m<module>\u001b[0;34m\u001b[0m\n\u001b[0;32m----> 1\u001b[0;31m \u001b[0mx\u001b[0m\u001b[0;34m.\u001b[0m\u001b[0minit\u001b[0m\u001b[0;34m(\u001b[0m\u001b[0;34m)\u001b[0m\u001b[0;34m\u001b[0m\u001b[0;34m\u001b[0m\u001b[0m\n\u001b[0m",
      "\u001b[0;31mNameError\u001b[0m: name 'x' is not defined"
     ]
    }
   ],
   "source": [
    "x.init()"
   ]
  },
  {
   "cell_type": "code",
   "execution_count": 9,
   "metadata": {},
   "outputs": [
    {
     "ename": "NameError",
     "evalue": "name 'x' is not defined",
     "output_type": "error",
     "traceback": [
      "\u001b[0;31m---------------------------------------------------------------------------\u001b[0m",
      "\u001b[0;31mNameError\u001b[0m                                 Traceback (most recent call last)",
      "\u001b[0;32m<ipython-input-9-7e7b5aae4e02>\u001b[0m in \u001b[0;36m<module>\u001b[0;34m\u001b[0m\n\u001b[0;32m----> 1\u001b[0;31m \u001b[0mx\u001b[0m\u001b[0;34m.\u001b[0m\u001b[0marea\u001b[0m\u001b[0;34m\u001b[0m\u001b[0;34m\u001b[0m\u001b[0m\n\u001b[0m",
      "\u001b[0;31mNameError\u001b[0m: name 'x' is not defined"
     ]
    }
   ],
   "source": [
    "x.area"
   ]
  },
  {
   "cell_type": "code",
   "execution_count": 10,
   "metadata": {},
   "outputs": [
    {
     "ename": "NameError",
     "evalue": "name 'x' is not defined",
     "output_type": "error",
     "traceback": [
      "\u001b[0;31m---------------------------------------------------------------------------\u001b[0m",
      "\u001b[0;31mNameError\u001b[0m                                 Traceback (most recent call last)",
      "\u001b[0;32m<ipython-input-10-744652c63a8c>\u001b[0m in \u001b[0;36m<module>\u001b[0;34m\u001b[0m\n\u001b[0;32m----> 1\u001b[0;31m \u001b[0mpatch\u001b[0m \u001b[0;34m=\u001b[0m \u001b[0mutils\u001b[0m\u001b[0;34m.\u001b[0m\u001b[0mget_patch\u001b[0m\u001b[0;34m(\u001b[0m\u001b[0mx\u001b[0m\u001b[0;34m.\u001b[0m\u001b[0mverts\u001b[0m\u001b[0;34m)\u001b[0m\u001b[0;34m\u001b[0m\u001b[0;34m\u001b[0m\u001b[0m\n\u001b[0m\u001b[1;32m      2\u001b[0m \u001b[0mpatches\u001b[0m \u001b[0;34m=\u001b[0m \u001b[0;34m[\u001b[0m\u001b[0mpatch\u001b[0m\u001b[0;34m]\u001b[0m\u001b[0;34m\u001b[0m\u001b[0;34m\u001b[0m\u001b[0m\n\u001b[1;32m      3\u001b[0m \u001b[0mutils\u001b[0m\u001b[0;34m.\u001b[0m\u001b[0mrender_blockworld\u001b[0m\u001b[0;34m(\u001b[0m\u001b[0mpatches\u001b[0m\u001b[0;34m)\u001b[0m\u001b[0;34m\u001b[0m\u001b[0;34m\u001b[0m\u001b[0m\n",
      "\u001b[0;31mNameError\u001b[0m: name 'x' is not defined"
     ]
    }
   ],
   "source": [
    "patch = utils.get_patch(x.verts)\n",
    "patches = [patch]\n",
    "utils.render_blockworld(patches)"
   ]
  },
  {
   "cell_type": "code",
   "execution_count": null,
   "metadata": {},
   "outputs": [],
   "source": []
  },
  {
   "cell_type": "code",
   "execution_count": null,
   "metadata": {
    "collapsed": true
   },
   "outputs": [],
   "source": []
  },
  {
   "cell_type": "code",
   "execution_count": null,
   "metadata": {
    "collapsed": true
   },
   "outputs": [],
   "source": []
  },
  {
   "cell_type": "code",
   "execution_count": null,
   "metadata": {},
   "outputs": [],
   "source": []
  },
  {
   "cell_type": "code",
   "execution_count": null,
   "metadata": {},
   "outputs": [],
   "source": [
    "## block primitives\n",
    "\n",
    "#### squares\n",
    "s1 = np.array([(0, 0), (0, -1), (1, -1), (1, 0), (0,0)]) ## 1x1\n",
    "s2 = s1*2 ## 2x2\n",
    "s4 = s1*4 ## 4x4"
   ]
  },
  {
   "cell_type": "code",
   "execution_count": null,
   "metadata": {
    "collapsed": true
   },
   "outputs": [],
   "source": [
    "## render two blocks side by side\n",
    "patch1 = utils.get_patch(s4)\n",
    "patch2 = utils.get_patch(s2-2)\n",
    "patch3 = utils.get_patch((utils.translate(s4, 2, 2)))\n",
    "\n",
    "patches = [patch1,patch2,patch3]\n",
    "\n",
    "utils.render_blockworld(patches)"
   ]
  },
  {
   "cell_type": "code",
   "execution_count": null,
   "metadata": {
    "collapsed": true
   },
   "outputs": [],
   "source": [
    "## distinguish between two blocks merely touching & actually coinciding \n",
    "reload(sat)\n",
    "print sat.separating_axis_theorem(s2[:-1]-2,s4[:-1]) ## \n",
    "print sat.apply_sat(s2[:-1]-2,s4[:-1])"
   ]
  },
  {
   "cell_type": "code",
   "execution_count": null,
   "metadata": {
    "collapsed": true
   },
   "outputs": [],
   "source": []
  },
  {
   "cell_type": "code",
   "execution_count": null,
   "metadata": {
    "collapsed": true
   },
   "outputs": [],
   "source": [
    "## sketch of blocklaying procedure:\n",
    "\n",
    "## sample block size and place in leftmost, lowest position that you can and place in the array\n",
    "\n",
    "## make sure that no blocks collide\n",
    "\n",
    "## keep going until the summed area of all blocks equals or exceeds the total area of the arena\n",
    "\n",
    "## fill these crevices"
   ]
  },
  {
   "cell_type": "code",
   "execution_count": 8,
   "metadata": {},
   "outputs": [
    {
     "data": {
      "text/plain": [
       "<module 'blockworld_helpers' from 'blockworld_helpers.py'>"
      ]
     },
     "execution_count": 8,
     "metadata": {},
     "output_type": "execute_result"
    }
   ],
   "source": [
    "reload(utils)"
   ]
  },
  {
   "cell_type": "code",
   "execution_count": 15,
   "metadata": {
    "collapsed": true
   },
   "outputs": [],
   "source": [
    "x = utils.Block(width = 2, height = 5)"
   ]
  },
  {
   "cell_type": "code",
   "execution_count": 16,
   "metadata": {},
   "outputs": [],
   "source": [
    "x.init()"
   ]
  },
  {
   "cell_type": "code",
   "execution_count": 17,
   "metadata": {},
   "outputs": [
    {
     "data": {
      "text/plain": [
       "10"
      ]
     },
     "execution_count": 17,
     "metadata": {},
     "output_type": "execute_result"
    }
   ],
   "source": [
    "x.area"
   ]
  },
  {
   "cell_type": "code",
   "execution_count": null,
   "metadata": {
    "collapsed": true
   },
   "outputs": [],
   "source": []
  },
  {
   "cell_type": "code",
   "execution_count": null,
   "metadata": {},
   "outputs": [],
   "source": [
    "def return_corners(s):\n",
    "    '''\n",
    "    input: list or array of block vertices in absolute coordinates\n",
    "    output: absolute coordinates of top_left, bottom_left, bottom_right, top_right\n",
    "    '''\n",
    "    corners = {}\n",
    "    corners['top_left'] = s[0]\n",
    "    corners['bottom_left'] = s[1]\n",
    "    corners['bottom_right'] = s[2]\n",
    "    corners['top_right'] = s[3]\n",
    "    return corners\n",
    "\n",
    "def get_width_and_height(corners):\n",
    "    '''\n",
    "    input: corners dictionary, containing top_left, bottom_left, bottom_right, top_right\n",
    "    output: return dims dictionary, containing width and height    \n",
    "    '''\n",
    "    dims = {}\n",
    "    dims['width'] = np.abs(bottom_right[0] - top_left[0])\n",
    "    dims['height'] = np.abs(bottom_right[1] - top_left[1])       \n",
    "    return dims\n",
    "\n",
    "def compute_area(dims,shape='rectangle'):\n",
    "    '''\n",
    "    input: w = width \n",
    "           h = height           \n",
    "           shape = ['rectangle', 'square', 'triangle']\n",
    "    output\n",
    "    '''\n",
    "    ## extract width and height from dims dictionary\n",
    "    w = dims['width']\n",
    "    h = dims['height']    \n",
    "    if shape in ['rectangle','square']:\n",
    "        area = w*h\n",
    "    elif shape=='triangle':\n",
    "        area = w*h*0.5\n",
    "    else:\n",
    "        print('Shape type not recognized. Please use recognized shape type.')\n",
    "    return area"
   ]
  },
  {
   "cell_type": "code",
   "execution_count": null,
   "metadata": {
    "collapsed": true
   },
   "outputs": [],
   "source": [
    "reload(utils)\n",
    "corners = utils.return_corners(s4)\n",
    "print(corners)\n"
   ]
  },
  {
   "cell_type": "code",
   "execution_count": null,
   "metadata": {},
   "outputs": [],
   "source": [
    "dims = utils.get_width_and_height(corners)\n",
    "print(dims)"
   ]
  },
  {
   "cell_type": "code",
   "execution_count": null,
   "metadata": {},
   "outputs": [],
   "source": [
    "area = utils.compute_area(dims)"
   ]
  },
  {
   "cell_type": "code",
   "execution_count": null,
   "metadata": {},
   "outputs": [],
   "source": [
    "area"
   ]
  },
  {
   "cell_type": "code",
   "execution_count": null,
   "metadata": {
    "collapsed": true
   },
   "outputs": [],
   "source": [
    "## utils\n",
    "## write function that takes primitive block and places it in the correct place in the arena \n",
    "## (applies the appropriate delta-x, delta-y displacement)\n",
    "\n",
    "## given vertices, returns four corners\n",
    "\n",
    "## returns current state of the \"floor\": \n",
    "## deviations from flat that constrain how new blocks can be placed\n"
   ]
  },
  {
   "cell_type": "code",
   "execution_count": null,
   "metadata": {
    "collapsed": true
   },
   "outputs": [],
   "source": [
    "importlib.reload(utils)\n",
    "square = np.array([(0, 0), (0, -1), (1, -1), (1, 0), (0,0)]) \n",
    "square"
   ]
  },
  {
   "cell_type": "code",
   "execution_count": null,
   "metadata": {},
   "outputs": [],
   "source": [
    "utils.translate(square, 2, 2)"
   ]
  },
  {
   "cell_type": "code",
   "execution_count": null,
   "metadata": {},
   "outputs": [],
   "source": []
  },
  {
   "cell_type": "code",
   "execution_count": null,
   "metadata": {},
   "outputs": [],
   "source": [
    "block = [s1,s2,s4]\n",
    "\n",
    "block_widths = [,2,4]\n",
    "\n",
    "\n",
    "floor_blocks = []\n",
    "viable_block_widths = [1,2,4]\n",
    "remaining_space = 8\n",
    "while remaining_space > 0:\n",
    "    b = random.choice(viable_block_widths)\n",
    "    if b <= remaining_space:\n",
    "        floor_blocks.append(b)\n",
    "        remaining_space -= b\n",
    "    else:\n",
    "        viable_block_widths.pop()\n",
    "print(floor_blocks)\n",
    "    "
   ]
  },
  {
   "cell_type": "code",
   "execution_count": null,
   "metadata": {},
   "outputs": [],
   "source": [
    "blockWidths = [1,2,4]\n",
    "random.choice(blockWidths)"
   ]
  },
  {
   "cell_type": "code",
   "execution_count": null,
   "metadata": {
    "collapsed": true
   },
   "outputs": [],
   "source": []
  },
  {
   "cell_type": "markdown",
   "metadata": {
    "collapsed": true
   },
   "source": [
    "### experiment with whole worlds!!"
   ]
  },
  {
   "cell_type": "code",
   "execution_count": 2,
   "metadata": {},
   "outputs": [
    {
     "ename": "NameError",
     "evalue": "name 'importlib' is not defined",
     "output_type": "error",
     "traceback": [
      "\u001b[0;31m---------------------------------------------------------------------------\u001b[0m",
      "\u001b[0;31mNameError\u001b[0m                                 Traceback (most recent call last)",
      "\u001b[0;32m<ipython-input-2-424163d39367>\u001b[0m in \u001b[0;36m<module>\u001b[0;34m\u001b[0m\n\u001b[0;32m----> 1\u001b[0;31m \u001b[0mimportlib\u001b[0m\u001b[0;34m.\u001b[0m\u001b[0mreload\u001b[0m\u001b[0;34m(\u001b[0m\u001b[0mutils\u001b[0m\u001b[0;34m)\u001b[0m\u001b[0;34m\u001b[0m\u001b[0;34m\u001b[0m\u001b[0m\n\u001b[0m\u001b[1;32m      2\u001b[0m \u001b[0mw\u001b[0m \u001b[0;34m=\u001b[0m \u001b[0mutils\u001b[0m\u001b[0;34m.\u001b[0m\u001b[0mWorld\u001b[0m\u001b[0;34m(\u001b[0m\u001b[0;34m)\u001b[0m\u001b[0;34m\u001b[0m\u001b[0;34m\u001b[0m\u001b[0m\n\u001b[1;32m      3\u001b[0m \u001b[0mw\u001b[0m\u001b[0;34m.\u001b[0m\u001b[0mfill_world\u001b[0m\u001b[0;34m(\u001b[0m\u001b[0mrender\u001b[0m\u001b[0;34m=\u001b[0m\u001b[0;32mTrue\u001b[0m\u001b[0;34m)\u001b[0m\u001b[0;34m\u001b[0m\u001b[0;34m\u001b[0m\u001b[0m\n",
      "\u001b[0;31mNameError\u001b[0m: name 'importlib' is not defined"
     ]
    }
   ],
   "source": [
    "importlib.reload(utils)\n",
    "w = utils.World()\n",
    "w.fill_world(render=True)"
   ]
  },
  {
   "cell_type": "code",
   "execution_count": null,
   "metadata": {},
   "outputs": [],
   "source": []
  },
  {
   "cell_type": "code",
   "execution_count": null,
   "metadata": {},
   "outputs": [],
   "source": []
  },
  {
   "cell_type": "code",
   "execution_count": null,
   "metadata": {},
   "outputs": [],
   "source": []
  }
 ],
 "metadata": {
  "kernelspec": {
   "display_name": "Python 3",
   "language": "python",
   "name": "python3"
  },
  "language_info": {
   "codemirror_mode": {
    "name": "ipython",
    "version": 3
   },
   "file_extension": ".py",
   "mimetype": "text/x-python",
   "name": "python",
   "nbconvert_exporter": "python",
   "pygments_lexer": "ipython3",
   "version": "3.7.4"
  }
 },
 "nbformat": 4,
 "nbformat_minor": 1
}
