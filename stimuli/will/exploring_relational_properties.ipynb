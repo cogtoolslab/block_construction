{
 "cells": [
  {
   "cell_type": "markdown",
   "metadata": {},
   "source": [
    "### Purpose of this notebook\n",
    "\n",
    "- Generate a bunch of worlds and analyze their relational properties to help identify which are interesting, and to measure those properties in the population\n"
   ]
  },
  {
   "cell_type": "code",
   "execution_count": 1,
   "metadata": {},
   "outputs": [],
   "source": [
    "from __future__ import division\n",
    "\n",
    "import numpy as np\n",
    "import os, sys\n",
    "from PIL import Image\n",
    "\n",
    "from matplotlib import pylab, mlab, pyplot\n",
    "import matplotlib.pyplot as plt\n",
    "import matplotlib.image as mpimg\n",
    "from matplotlib.path import Path\n",
    "import matplotlib.patches as patches\n",
    "%matplotlib inline\n",
    "\n",
    "from IPython.core.pylabtools import figsize, getfigs\n",
    "\n",
    "import seaborn as sns\n",
    "\n",
    "import random\n",
    "\n",
    "from scipy.stats import norm\n",
    "from IPython.display import clear_output\n",
    "\n",
    "import copy\n",
    "import importlib\n",
    "\n",
    "\n",
    "### Add Paths\n",
    "\n",
    "## root paths\n",
    "curr_dir = os.getcwd()\n",
    "proj_dir = os.path.abspath(os.path.join(curr_dir,'..','..')) ## use relative paths\n",
    "\n",
    "## add helpers to python path\n",
    "import sys\n",
    "if os.path.join(proj_dir, 'stimuli') not in sys.path:\n",
    "    sys.path.append(os.path.join(proj_dir, 'stimuli'))\n",
    "\n",
    "## custom helper modules\n",
    "import separation_axis_theorem as sat\n",
    "import blockworld_helpers as utils"
   ]
  },
  {
   "cell_type": "markdown",
   "metadata": {},
   "source": [
    "### sample single random world and render it inline"
   ]
  },
  {
   "cell_type": "code",
   "execution_count": 2,
   "metadata": {},
   "outputs": [],
   "source": [
    "## sample random world and save to JSON\n",
    "importlib.reload(utils)\n",
    "_w = utils.World()\n",
    "_w.fill_world()\n",
    "block_dict = _w.get_block_dict()\n",
    "\n",
    "## build world from JSON\n",
    "w = utils.World()\n",
    "w.populate_from_block_dict(block_dict)"
   ]
  },
  {
   "cell_type": "code",
   "execution_count": null,
   "metadata": {},
   "outputs": [],
   "source": []
  },
  {
   "cell_type": "code",
   "execution_count": 3,
   "metadata": {},
   "outputs": [
    {
     "data": {
      "image/png": "[encoded data removed]",
      "text/plain": [
       "<Figure size 288x288 with 1 Axes>"
      ]
     },
     "metadata": {
      "needs_background": "light"
     },
     "output_type": "display_data"
    },
    {
     "name": "stdout",
     "output_type": "stream",
     "text": [
      "Area filled = 48\n",
      "Num blocks = 19\n",
      "Timestamp = 1633724744\n",
      "Stable? TODO\n"
     ]
    },
    {
     "name": "stderr",
     "output_type": "stream",
     "text": [
      "<ipython-input-3-2165955cc431>:18: DeprecationWarning: `np.int` is a deprecated alias for the builtin `int`. To silence this warning, use `int` by itself. Doing this will not modify any behavior and is safe. When replacing `np.int`, you may wish to use e.g. `np.int64` or `np.int32` to specify the precision. If you wish to review your current use, check the release note link for additional information.\n",
      "Deprecated in NumPy 1.20; for more details and guidance: https://numpy.org/devdocs/release/1.20.0-notes.html#deprecations\n",
      "  timestamp = np.int(datetime.datetime.now().timestamp())\n"
     ]
    }
   ],
   "source": [
    "## sample random world and save to JSON\n",
    "importlib.reload(utils)\n",
    "_w = utils.World()\n",
    "_w.fill_world()\n",
    "block_dict = _w.get_block_dict() \n",
    "\n",
    "## build world from JSON\n",
    "w = utils.World()\n",
    "w.populate_from_block_dict(block_dict)\n",
    "\n",
    "## remove some blocks to sparsify world\n",
    "w2 = utils.jenga_blocks(w,10)\n",
    "utils.draw_world(w2)\n",
    "\n",
    "area_filled = np.sum(w2.block_map)\n",
    "num_blocks = len(w2.blocks)\n",
    "import datetime\n",
    "timestamp = np.int(datetime.datetime.now().timestamp())\n",
    "print('Area filled = {}'.format(area_filled))\n",
    "print('Num blocks = {}'.format(num_blocks))\n",
    "print('Timestamp = {}'.format(timestamp))\n",
    "print('Stable? TODO') ## insert stability check here"
   ]
  },
  {
   "cell_type": "code",
   "execution_count": 4,
   "metadata": {},
   "outputs": [],
   "source": [
    "w2, block_dict = utils.generate_random_world()"
   ]
  },
  {
   "cell_type": "code",
   "execution_count": 6,
   "metadata": {},
   "outputs": [
    {
     "data": {
      "image/png": "[encoded data removed]",
      "text/plain": [
       "<Figure size 288x288 with 1 Axes>"
      ]
     },
     "metadata": {
      "needs_background": "light"
     },
     "output_type": "display_data"
    }
   ],
   "source": [
    "importlib.reload(utils)\n",
    "from IPython.display import clear_output\n",
    "num_worlds = 100\n",
    "for i in np.arange(num_worlds):\n",
    "    try:\n",
    "        # generate world\n",
    "        w, block_dict = utils.generate_random_world()\n",
    "        # save world\n",
    "        utils.save_world(block_dict)\n",
    "        clear_output(wait=True)\n",
    "    except:\n",
    "        pass"
   ]
  },
  {
   "cell_type": "code",
   "execution_count": null,
   "metadata": {},
   "outputs": [],
   "source": []
  },
  {
   "cell_type": "code",
   "execution_count": 8,
   "metadata": {},
   "outputs": [],
   "source": [
    "total_area = 0\n",
    "for block in block_dict['blocks']:\n",
    "    total_area += (block['height'] * block['width'])"
   ]
  },
  {
   "cell_type": "code",
   "execution_count": 9,
   "metadata": {},
   "outputs": [
    {
     "data": {
      "text/plain": [
       "7"
      ]
     },
     "execution_count": 9,
     "metadata": {},
     "output_type": "execute_result"
    }
   ],
   "source": [
    "len(block_dict['blocks'])"
   ]
  },
  {
   "cell_type": "code",
   "execution_count": 10,
   "metadata": {},
   "outputs": [],
   "source": [
    "block_list = []\n",
    "for i,this_block in enumerate(w2.blocks):\n",
    "    newdict = dict()\n",
    "    olddict = vars(w2.blocks[i])\n",
    "    for (key,value) in olddict.items():\n",
    "        if key in['x','y','width','height']:\n",
    "            newdict[key] = value\n",
    "    block_list.append(newdict)\n",
    "block_dict = {\"blocks\":block_list}"
   ]
  },
  {
   "cell_type": "code",
   "execution_count": 11,
   "metadata": {},
   "outputs": [],
   "source": [
    "## will-curated block structures\n",
    "w1 = {\"blocks\": [{\"width\": 4, \"height\": 2, \"x\": 0, \"y\": 0}, {\"width\": 4, \"height\": 2, \"x\": 4, \"y\": 0}, {\"width\": 2, \"height\": 4, \"x\": 0, \"y\": 2}, {\"width\": 4, \"height\": 2, \"x\": 3, \"y\": 2}, {\"width\": 4, \"height\": 2, \"x\": 2, \"y\": 4}, {\"width\": 2, \"height\": 1, \"x\": 6, \"y\": 4}, {\"width\": 1, \"height\": 1, \"x\": 6, \"y\": 5}, {\"width\": 1, \"height\": 2, \"x\": 7, \"y\": 5}, {\"width\": 1, \"height\": 1, \"x\": 0, \"y\": 6}, {\"width\": 2, \"height\": 2, \"x\": 3, \"y\": 6}, {\"width\": 1, \"height\": 1, \"x\": 5, \"y\": 6}, {\"width\": 1, \"height\": 2, \"x\": 6, \"y\": 6}, {\"width\": 1, \"height\": 1, \"x\": 0, \"y\": 7}, {\"width\": 1, \"height\": 1, \"x\": 5, \"y\": 7}, {\"width\": 1, \"height\": 1, \"x\": 7, \"y\": 7}]}\n",
    "w2 ={\"blocks\": [{\"width\": 2, \"height\": 4, \"x\": 0, \"y\": 0}, {\"width\": 4, \"height\": 4, \"x\": 3, \"y\": 0}, {\"width\": 1, \"height\": 2, \"x\": 7, \"y\": 0}, {\"width\": 1, \"height\": 1, \"x\": 7, \"y\": 2}, {\"width\": 1, \"height\": 1, \"x\": 7, \"y\": 3}, {\"width\": 2, \"height\": 2, \"x\": 0, \"y\": 4}, {\"width\": 4, \"height\": 2, \"x\": 2, \"y\": 4}, {\"width\": 1, \"height\": 2, \"x\": 6, \"y\": 4}, {\"width\": 1, \"height\": 1, \"x\": 7, \"y\": 4}, {\"width\": 1, \"height\": 2, \"x\": 7, \"y\": 5}, {\"width\": 1, \"height\": 1, \"x\": 0, \"y\": 6}, {\"width\": 1, \"height\": 1, \"x\": 5, \"y\": 6}, {\"width\": 1, \"height\": 1, \"x\": 0, \"y\": 7}, {\"width\": 1, \"height\": 1, \"x\": 5, \"y\": 7}, {\"width\": 1, \"height\": 1, \"x\": 7, \"y\": 7}]}\n",
    "w3 = {\"blocks\": [{\"width\": 2, \"height\": 1, \"x\": 1, \"y\": 0}, {\"width\": 1, \"height\": 2, \"x\": 5, \"y\": 0}, {\"width\": 2, \"height\": 4, \"x\": 6, \"y\": 0}, {\"width\": 2, \"height\": 1, \"x\": 1, \"y\": 1}, {\"width\": 4, \"height\": 4, \"x\": 0, \"y\": 2}, {\"width\": 2, \"height\": 1, \"x\": 4, \"y\": 2}, {\"width\": 2, \"height\": 4, \"x\": 4, \"y\": 3}, {\"width\": 2, \"height\": 1, \"x\": 6, \"y\": 4}, {\"width\": 1, \"height\": 2, \"x\": 7, \"y\": 5}, {\"width\": 1, \"height\": 1, \"x\": 4, \"y\": 7}, {\"width\": 2, \"height\": 1, \"x\": 5, \"y\": 7}, {\"width\": 1, \"height\": 1, \"x\": 7, \"y\": 7}]}\n",
    "w4 = {\"blocks\": [{\"width\": 4, \"height\": 2, \"x\": 1, \"y\": 0}, {\"width\": 2, \"height\": 1, \"x\": 5, \"y\": 0}, {\"width\": 1, \"height\": 2, \"x\": 7, \"y\": 0}, {\"width\": 2, \"height\": 1, \"x\": 5, \"y\": 1}, {\"width\": 4, \"height\": 2, \"x\": 0, \"y\": 2}, {\"width\": 1, \"height\": 1, \"x\": 6, \"y\": 2}, {\"width\": 1, \"height\": 2, \"x\": 7, \"y\": 2}, {\"width\": 1, \"height\": 2, \"x\": 6, \"y\": 3}, {\"width\": 4, \"height\": 2, \"x\": 0, \"y\": 4}, {\"width\": 1, \"height\": 1, \"x\": 7, \"y\": 4}, {\"width\": 4, \"height\": 2, \"x\": 4, \"y\": 5}, {\"width\": 1, \"height\": 1, \"x\": 0, \"y\": 6}, {\"width\": 2, \"height\": 2, \"x\": 1, \"y\": 6}, {\"width\": 1, \"height\": 1, \"x\": 3, \"y\": 6}, {\"width\": 1, \"height\": 1, \"x\": 0, \"y\": 7}, {\"width\": 2, \"height\": 1, \"x\": 3, \"y\": 7}, {\"width\": 2, \"height\": 1, \"x\": 5, \"y\": 7}, {\"width\": 1, \"height\": 1, \"x\": 7, \"y\": 7}]}\n",
    "w5 = {\"blocks\": [{\"width\": 4, \"height\": 4, \"x\": 0, \"y\": 0}, {\"width\": 1, \"height\": 2, \"x\": 4, \"y\": 0}, {\"width\": 1, \"height\": 2, \"x\": 7, \"y\": 0}, {\"width\": 1, \"height\": 2, \"x\": 4, \"y\": 2}, {\"width\": 1, \"height\": 2, \"x\": 7, \"y\": 2}, {\"width\": 2, \"height\": 1, \"x\": 0, \"y\": 4}, {\"width\": 4, \"height\": 2, \"x\": 4, \"y\": 4}, {\"width\": 1, \"height\": 2, \"x\": 0, \"y\": 5}, {\"width\": 1, \"height\": 1, \"x\": 4, \"y\": 6}, {\"width\": 1, \"height\": 2, \"x\": 5, \"y\": 6}, {\"width\": 2, \"height\": 1, \"x\": 6, \"y\": 6}, {\"width\": 1, \"height\": 1, \"x\": 0, \"y\": 7}, {\"width\": 1, \"height\": 1, \"x\": 4, \"y\": 7}, {\"width\": 1, \"height\": 1, \"x\": 6, \"y\": 7}, {\"width\": 1, \"height\": 1, \"x\": 7, \"y\": 7}]}\n",
    "w6 = {\"blocks\": [{\"width\": 2, \"height\": 2, \"x\": 1, \"y\": 0}, {\"width\": 1, \"height\": 1, \"x\": 5, \"y\": 0}, {\"width\": 2, \"height\": 4, \"x\": 6, \"y\": 0}, {\"width\": 1, \"height\": 1, \"x\": 5, \"y\": 1}, {\"width\": 4, \"height\": 2, \"x\": 0, \"y\": 2}, {\"width\": 4, \"height\": 2, \"x\": 0, \"y\": 4}, {\"width\": 2, \"height\": 1, \"x\": 5, \"y\": 4}, {\"width\": 1, \"height\": 2, \"x\": 7, \"y\": 4}, {\"width\": 2, \"height\": 1, \"x\": 5, \"y\": 5}, {\"width\": 4, \"height\": 2, \"x\": 0, \"y\": 6}, {\"width\": 2, \"height\": 1, \"x\": 4, \"y\": 6}, {\"width\": 1, \"height\": 2, \"x\": 6, \"y\": 6}, {\"width\": 1, \"height\": 2, \"x\": 7, \"y\": 6}, {\"width\": 2, \"height\": 1, \"x\": 4, \"y\": 7}]}\n",
    "w7 = {\"blocks\": [{\"width\": 2, \"height\": 4, \"x\": 0, \"y\": 0}, {\"width\": 2, \"height\": 1, \"x\": 3, \"y\": 0}, {\"width\": 1, \"height\": 2, \"x\": 6, \"y\": 0}, {\"width\": 1, \"height\": 2, \"x\": 7, \"y\": 0}, {\"width\": 4, \"height\": 4, \"x\": 2, \"y\": 1}, {\"width\": 1, \"height\": 2, \"x\": 6, \"y\": 2}, {\"width\": 1, \"height\": 2, \"x\": 7, \"y\": 2}, {\"width\": 1, \"height\": 1, \"x\": 1, \"y\": 4}, {\"width\": 1, \"height\": 2, \"x\": 6, \"y\": 4}, {\"width\": 1, \"height\": 1, \"x\": 7, \"y\": 4}, {\"width\": 2, \"height\": 2, \"x\": 0, \"y\": 5}, {\"width\": 2, \"height\": 2, \"x\": 2, \"y\": 5}, {\"width\": 1, \"height\": 1, \"x\": 5, \"y\": 5}, {\"width\": 1, \"height\": 2, \"x\": 7, \"y\": 5}, {\"width\": 2, \"height\": 2, \"x\": 4, \"y\": 6}, {\"width\": 1, \"height\": 1, \"x\": 6, \"y\": 6}, {\"width\": 2, \"height\": 1, \"x\": 0, \"y\": 7}, {\"width\": 2, \"height\": 1, \"x\": 2, \"y\": 7}, {\"width\": 2, \"height\": 1, \"x\": 6, \"y\": 7}]}\n",
    "w8 = {\"blocks\": [{\"width\": 2, \"height\": 4, \"x\": 0, \"y\": 0}, {\"width\": 4, \"height\": 2, \"x\": 2, \"y\": 0}, {\"width\": 2, \"height\": 4, \"x\": 6, \"y\": 0}, {\"width\": 1, \"height\": 2, \"x\": 3, \"y\": 2}, {\"width\": 2, \"height\": 2, \"x\": 2, \"y\": 4}, {\"width\": 1, \"height\": 1, \"x\": 6, \"y\": 4}, {\"width\": 1, \"height\": 2, \"x\": 7, \"y\": 4}, {\"width\": 1, \"height\": 1, \"x\": 6, \"y\": 5}, {\"width\": 8, \"height\": 2, \"x\": 0, \"y\": 6}]}\n",
    "w9 ={\"blocks\": [{\"width\": 1, \"height\": 1, \"x\": 1, \"y\": 0}, {\"width\": 4, \"height\": 2, \"x\": 3, \"y\": 0}, {\"width\": 1, \"height\": 1, \"x\": 7, \"y\": 0}, {\"width\": 2, \"height\": 2, \"x\": 0, \"y\": 1}, {\"width\": 1, \"height\": 2, \"x\": 7, \"y\": 1}, {\"width\": 4, \"height\": 4, \"x\": 2, \"y\": 2}, {\"width\": 1, \"height\": 1, \"x\": 1, \"y\": 3}, {\"width\": 1, \"height\": 2, \"x\": 7, \"y\": 3}, {\"width\": 1, \"height\": 1, \"x\": 1, \"y\": 4}, {\"width\": 2, \"height\": 1, \"x\": 0, \"y\": 5}, {\"width\": 1, \"height\": 1, \"x\": 7, \"y\": 5}, {\"width\": 4, \"height\": 2, \"x\": 0, \"y\": 6}, {\"width\": 1, \"height\": 1, \"x\": 4, \"y\": 6}, {\"width\": 2, \"height\": 2, \"x\": 5, \"y\": 6}, {\"width\": 1, \"height\": 2, \"x\": 7, \"y\": 6}, {\"width\": 1, \"height\": 1, \"x\": 4, \"y\": 7}]}\n",
    "w10 = {\"blocks\": [{\"width\": 1, \"height\": 1, \"x\": 0, \"y\": 0}, {\"width\": 2, \"height\": 4, \"x\": 5, \"y\": 0}, {\"width\": 1, \"height\": 1, \"x\": 7, \"y\": 0}, {\"width\": 1, \"height\": 1, \"x\": 0, \"y\": 1}, {\"width\": 1, \"height\": 1, \"x\": 7, \"y\": 1}, {\"width\": 1, \"height\": 2, \"x\": 0, \"y\": 2}, {\"width\": 1, \"height\": 1, \"x\": 7, \"y\": 2}, {\"width\": 1, \"height\": 1, \"x\": 7, \"y\": 3}, {\"width\": 8, \"height\": 2, \"x\": 0, \"y\": 4}, {\"width\": 2, \"height\": 1, \"x\": 2, \"y\": 6}, {\"width\": 2, \"height\": 1, \"x\": 6, \"y\": 6}, {\"width\": 2, \"height\": 1, \"x\": 1, \"y\": 7}, {\"width\": 1, \"height\": 1, \"x\": 3, \"y\": 7}, {\"width\": 1, \"height\": 1, \"x\": 6, \"y\": 7}, {\"width\": 1, \"height\": 1, \"x\": 7, \"y\": 7}]}\n",
    "w11 = {\"blocks\": [{\"width\": 4, \"height\": 2, \"x\": 0, \"y\": 0}, {\"width\": 2, \"height\": 1, \"x\": 5, \"y\": 0}, {\"width\": 4, \"height\": 2, \"x\": 4, \"y\": 1}, {\"width\": 2, \"height\": 1, \"x\": 0, \"y\": 2}, {\"width\": 1, \"height\": 2, \"x\": 3, \"y\": 2}, {\"width\": 1, \"height\": 1, \"x\": 0, \"y\": 3}, {\"width\": 4, \"height\": 2, \"x\": 4, \"y\": 3}, {\"width\": 1, \"height\": 1, \"x\": 3, \"y\": 4}, {\"width\": 8, \"height\": 2, \"x\": 0, \"y\": 5}, {\"width\": 2, \"height\": 1, \"x\": 0, \"y\": 7}, {\"width\": 1, \"height\": 1, \"x\": 2, \"y\": 7}, {\"width\": 2, \"height\": 1, \"x\": 3, \"y\": 7}, {\"width\": 1, \"height\": 1, \"x\": 5, \"y\": 7}, {\"width\": 1, \"height\": 1, \"x\": 6, \"y\": 7}, {\"width\": 1, \"height\": 1, \"x\": 7, \"y\": 7}]}\n",
    "w12 = {\"blocks\": [{\"width\": 2, \"height\": 2, \"x\": 0, \"y\": 0}, {\"width\": 4, \"height\": 2, \"x\": 2, \"y\": 0}, {\"width\": 2, \"height\": 4, \"x\": 6, \"y\": 0}, {\"width\": 2, \"height\": 1, \"x\": 0, \"y\": 2}, {\"width\": 2, \"height\": 2, \"x\": 3, \"y\": 2}, {\"width\": 2, \"height\": 4, \"x\": 0, \"y\": 3}, {\"width\": 4, \"height\": 2, \"x\": 2, \"y\": 4}, {\"width\": 2, \"height\": 2, \"x\": 6, \"y\": 4}, {\"width\": 2, \"height\": 1, \"x\": 3, \"y\": 6}, {\"width\": 2, \"height\": 1, \"x\": 0, \"y\": 7}, {\"width\": 2, \"height\": 1, \"x\": 3, \"y\": 7}]}"
   ]
  },
  {
   "cell_type": "code",
   "execution_count": 12,
   "metadata": {},
   "outputs": [],
   "source": [
    "# import json\n",
    "# path_to_dump = './sampled_worlds'\n",
    "# if not os.path.exists(path_to_dump):\n",
    "#     os.makedirs(path_to_dump)\n",
    "# with open(os.path.join(path_to_dump,'blockworld_area{}_num{}.js'.format(area_filled,num_blocks)), 'w') as fout:\n",
    "#      json.dump(block_dict, fout)"
   ]
  },
  {
   "cell_type": "code",
   "execution_count": 167,
   "metadata": {},
   "outputs": [],
   "source": [
    "# J = json.loads(open(os.path.join(path_to_dump,'blockworld_area{}_num{}.js'.format(area_filled,num_blocks)),mode='r').read())\n"
   ]
  },
  {
   "cell_type": "code",
   "execution_count": 168,
   "metadata": {},
   "outputs": [
    {
     "data": {
      "text/plain": [
       "{'blocks': [{'x': 0, 'y': 0, 'height': 2, 'width': 8},\n",
       "  {'x': 4, 'y': 2, 'height': 2, 'width': 4},\n",
       "  {'x': 4, 'y': 4, 'height': 2, 'width': 4},\n",
       "  {'x': 5, 'y': 6, 'height': 1, 'width': 2},\n",
       "  {'x': 6, 'y': 7, 'height': 1, 'width': 1}]}"
      ]
     },
     "execution_count": 168,
     "metadata": {},
     "output_type": "execute_result"
    }
   ],
   "source": [
    "J"
   ]
  },
  {
   "cell_type": "code",
   "execution_count": 148,
   "metadata": {},
   "outputs": [
    {
     "data": {
      "text/plain": [
       "'{\"blocks\": [{\"width\": 8, \"height\": 2, \"x\": 0, \"y\": 0}, {\"width\": 4, \"height\": 2, \"x\": 0, \"y\": 2}, {\"width\": 4, \"height\": 2, \"x\": 4, \"y\": 2}, {\"width\": 4, \"height\": 2, \"x\": 0, \"y\": 4}, {\"width\": 4, \"height\": 2, \"x\": 4, \"y\": 4}, {\"width\": 2, \"height\": 2, \"x\": 0, \"y\": 6}, {\"width\": 1, \"height\": 2, \"x\": 2, \"y\": 6}, {\"width\": 1, \"height\": 1, \"x\": 3, \"y\": 6}, {\"width\": 1, \"height\": 1, \"x\": 4, \"y\": 6}, {\"width\": 2, \"height\": 1, \"x\": 5, \"y\": 6}, {\"width\": 1, \"height\": 2, \"x\": 7, \"y\": 6}, {\"width\": 1, \"height\": 1, \"x\": 3, \"y\": 7}, {\"width\": 1, \"height\": 1, \"x\": 4, \"y\": 7}, {\"width\": 1, \"height\": 1, \"x\": 5, \"y\": 7}, {\"width\": 1, \"height\": 1, \"x\": 6, \"y\": 7}]}'"
      ]
     },
     "execution_count": 148,
     "metadata": {},
     "output_type": "execute_result"
    }
   ],
   "source": []
  },
  {
   "cell_type": "markdown",
   "metadata": {},
   "source": [
    "### extract relational representation"
   ]
  },
  {
   "cell_type": "code",
   "execution_count": 132,
   "metadata": {},
   "outputs": [],
   "source": [
    "importlib.reload(utils)\n",
    "\n",
    "block_array_x = np.array(w2.blocks)[None,:]\n",
    "block_array_y = np.array(w2.blocks)[:,None]\n",
    "\n",
    "above_function = np.vectorize(utils.Block.above)\n",
    "aboves = above_function(block_array_x, block_array_y)\n",
    "\n",
    "below_function = np.vectorize(utils.Block.below)\n",
    "belows = below_function(block_array_x, block_array_y)\n",
    "\n",
    "leftof_function = np.vectorize(utils.Block.leftof)\n",
    "leftofs = leftof_function(block_array_x, block_array_y)\n",
    "\n",
    "rightof_function = np.vectorize(utils.Block.rightof)\n",
    "rightofs = rightof_function(block_array_x, block_array_y)\n",
    "\n",
    "sidestouch_function = np.vectorize(utils.Block.sides_touch)\n",
    "sidestouches = sidestouch_function(block_array_x, block_array_y)\n",
    "\n",
    "verticaltouch_function = np.vectorize(utils.Block.vertical_touch)\n",
    "verticaltouches = verticaltouch_function(block_array_x, block_array_y)\n",
    "\n",
    "absoverlap_function = np.vectorize(utils.Block.abs_overlap)\n",
    "absoverlaps = absoverlap_function(block_array_x, block_array_y)\n",
    "\n",
    "completesupport_function = np.vectorize(utils.Block.completely_supported_by)\n",
    "completesupports = completesupport_function(block_array_x, block_array_y)\n",
    "\n",
    "partialsupport_function = np.vectorize(utils.Block.partially_supported_by)\n",
    "partialsupports = partialsupport_function(block_array_x, block_array_y)"
   ]
  },
  {
   "cell_type": "code",
   "execution_count": 133,
   "metadata": {},
   "outputs": [],
   "source": [
    "R = np.stack((aboves,belows,leftofs,rightofs,sidestouches,verticaltouches,completesupports,partialsupports),axis=2)"
   ]
  },
  {
   "cell_type": "code",
   "execution_count": 134,
   "metadata": {},
   "outputs": [
    {
     "data": {
      "text/plain": [
       "(6, 6, 8)"
      ]
     },
     "execution_count": 134,
     "metadata": {},
     "output_type": "execute_result"
    }
   ],
   "source": [
    "R.shape"
   ]
  },
  {
   "cell_type": "code",
   "execution_count": 100,
   "metadata": {},
   "outputs": [
    {
     "data": {
      "text/plain": [
       "array([[[False, False, False, ..., False, False, False],\n",
       "        [False, False, False, ..., False, False, False],\n",
       "        [False, False, False, ..., False, False, False],\n",
       "        ...,\n",
       "        [ True, False, False, ..., False, False, False],\n",
       "        [ True, False, False, ..., False, False, False],\n",
       "        [ True, False, False, ..., False, False, False]],\n",
       "\n",
       "       [[False, False,  True, ..., False, False, False],\n",
       "        [False, False, False, ..., False, False, False],\n",
       "        [ True, False, False, ...,  True, False,  True],\n",
       "        ...,\n",
       "        [ True, False,  True, ..., False, False, False],\n",
       "        [ True, False, False, ..., False, False, False],\n",
       "        [ True, False, False, ..., False, False, False]],\n",
       "\n",
       "       [[False, False,  True, ..., False, False, False],\n",
       "        [False,  True, False, ...,  True, False, False],\n",
       "        [False, False, False, ..., False, False, False],\n",
       "        ...,\n",
       "        [ True, False, False, ..., False, False, False],\n",
       "        [ True, False, False, ..., False, False, False],\n",
       "        [ True, False, False, ..., False, False, False]],\n",
       "\n",
       "       ...,\n",
       "\n",
       "       [[False,  True,  True, ..., False, False, False],\n",
       "        [False,  True, False, ..., False, False, False],\n",
       "        [False,  True, False, ..., False, False, False],\n",
       "        ...,\n",
       "        [False, False, False, ..., False, False, False],\n",
       "        [False, False, False, ..., False, False, False],\n",
       "        [False, False, False, ..., False, False, False]],\n",
       "\n",
       "       [[False,  True,  True, ..., False, False, False],\n",
       "        [False,  True, False, ..., False, False, False],\n",
       "        [False,  True, False, ..., False, False, False],\n",
       "        ...,\n",
       "        [False, False,  True, ..., False, False, False],\n",
       "        [False, False, False, ..., False, False, False],\n",
       "        [False, False, False, ..., False, False, False]],\n",
       "\n",
       "       [[False,  True,  True, ..., False, False, False],\n",
       "        [False,  True,  True, ..., False, False, False],\n",
       "        [False,  True,  True, ..., False, False, False],\n",
       "        ...,\n",
       "        [False, False,  True, ..., False, False, False],\n",
       "        [False, False,  True, ..., False, False, False],\n",
       "        [False, False, False, ..., False, False, False]]])"
      ]
     },
     "execution_count": 100,
     "metadata": {},
     "output_type": "execute_result"
    }
   ],
   "source": []
  },
  {
   "cell_type": "code",
   "execution_count": null,
   "metadata": {},
   "outputs": [],
   "source": []
  }
 ],
 "metadata": {
  "kernelspec": {
   "display_name": "Python 3",
   "language": "python",
   "name": "python3"
  },
  "language_info": {
   "codemirror_mode": {
    "name": "ipython",
    "version": 3
   },
   "file_extension": ".py",
   "mimetype": "text/x-python",
   "name": "python",
   "nbconvert_exporter": "python",
   "pygments_lexer": "ipython3",
   "version": "3.9.5"
  }
 },
 "nbformat": 4,
 "nbformat_minor": 2
}
