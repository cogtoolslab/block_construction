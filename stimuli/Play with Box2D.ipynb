{
 "cells": [
  {
   "cell_type": "code",
   "execution_count": null,
   "metadata": {},
   "outputs": [],
   "source": [
    "import sys\n",
    "import importlib\n",
    "import blockworld_helpers as utils\n",
    "from Box2D import *\n",
    "import copy\n",
    "import numpy as np"
   ]
  },
  {
   "cell_type": "code",
   "execution_count": null,
   "metadata": {},
   "outputs": [],
   "source": []
  },
  {
   "cell_type": "code",
   "execution_count": null,
   "metadata": {},
   "outputs": [],
   "source": [
    "world = b2World(gravity=(0,-10), doSleep=True)\n",
    "groundBody = world.CreateStaticBody(\n",
    "    position=(0,-10),\n",
    "    shapes=b2PolygonShape(box=(50,10)),\n",
    "    )\n",
    "\n",
    "body = world.CreateDynamicBody(position=(0,1))\n",
    "box = body.CreatePolygonFixture(box=(1,1), density=1, friction=0.3)\n",
    "start_positions = np.array([body.position for body in world.bodies])\n",
    "\n",
    "timeStep = 1.0 / 60\n",
    "\n",
    "vel_iters, pos_iters = 6, 2\n",
    "\n",
    "# This is our little game loop.\n",
    "for i in range(60):\n",
    "    # Instruct the world to perform a single step of simulation. It is\n",
    "    # generally best to keep the time step and iterations fixed.\n",
    "    world.Step(timeStep, vel_iters, pos_iters)\n",
    "\n",
    "    # Clear applied body forces. We didn't apply any forces, but you\n",
    "    # should know about this function.\n",
    "    world.ClearForces()\n",
    " \n",
    "    # Now print the position and angle of the body.\n",
    "    print(body.position, body.angle)\n",
    "\n",
    "end_positions = np.array([body.position for body in world.bodies])"
   ]
  },
  {
   "cell_type": "code",
   "execution_count": null,
   "metadata": {},
   "outputs": [],
   "source": [
    "epsilon = 0.1\n",
    "#start_positions = np.array([body.position for body in b2world_start.bodies])\n",
    "#end_positions = np.array([body.position for body in b2world_end.bodies])\n",
    "print(start_positions)\n",
    "print(end_positions)\n",
    "sum(sum(np.absolute(np.subtract(start_positions, end_positions))))"
   ]
  },
  {
   "cell_type": "code",
   "execution_count": null,
   "metadata": {},
   "outputs": [],
   "source": []
  },
  {
   "cell_type": "code",
   "execution_count": null,
   "metadata": {},
   "outputs": [],
   "source": [
    "# Helper functions for interacting between stimulus generation and pybox2D\n",
    "\n",
    "def b2_x(block):\n",
    "    '''\n",
    "    Takes a block from stimulus generation and returns the x value of the center of the block\n",
    "    '''\n",
    "    return ((block.x) + (block.width / 2))\n",
    "\n",
    "def b2_y(block):\n",
    "    '''\n",
    "    Takes a block from stimulus generation and returns the y value of the center of the block\n",
    "    '''\n",
    "    return ((block.y) + (block.height / 2))\n",
    "    \n",
    "def add_block_to_world(block, b2world):\n",
    "    '''\n",
    "    Add block from stimulus generation to b2world\n",
    "    '''\n",
    "    body = b2world.CreateDynamicBody(position=(b2_x(block),b2_y(block)))\n",
    "    world_block = body.CreatePolygonFixture(box=(block.width/2,block.height/2), density=1, friction=0.3)\n"
   ]
  },
  {
   "cell_type": "code",
   "execution_count": null,
   "metadata": {},
   "outputs": [],
   "source": [
    "importlib.reload(utils)\n",
    "\n",
    "# Create world for stability check\n",
    "b2world = b2World(gravity=(0,-10), doSleep=True)\n",
    "groundBody = b2world.CreateStaticBody( #add ground\n",
    "    position=(0,-10),\n",
    "    shapes=b2PolygonShape(box=(50,10)),\n",
    "    )\n",
    "\n",
    "# Add blocks\n",
    "world = utils.World(world_width = 4,world_height = 4)\n",
    "world.fill_world()\n",
    "\n",
    "for block in world.blocks:\n",
    "    b2block = add_block_to_world(block, b2world)\n",
    "    "
   ]
  },
  {
   "cell_type": "code",
   "execution_count": null,
   "metadata": {},
   "outputs": [],
   "source": [
    "b2world.bodies[1].fixtures[0].shape"
   ]
  },
  {
   "cell_type": "code",
   "execution_count": null,
   "metadata": {},
   "outputs": [],
   "source": [
    "# Run world\n",
    "timeStep = 1.0 / 60\n",
    "\n",
    "vel_iters, pos_iters = 6, 2\n",
    "\n",
    "# This is our little game loop.\n",
    "for i in range(60):\n",
    "    # Instruct the world to perform a single step of simulation. It is\n",
    "    # generally best to keep the time step and iterations fixed.\n",
    "    b2world.Step(timeStep, vel_iters, pos_iters)\n",
    "\n",
    "    # Clear applied body forces. We didn't apply any forces, but you\n",
    "    # should know about this function.\n",
    "    b2world.ClearForces()\n",
    " \n",
    "    # Now print the position and angle of the body.\n",
    "    print(world.blocks[1].x,world.blocks[1].y)\n",
    "    print(b2world.bodies[2].position, body.angle)"
   ]
  },
  {
   "cell_type": "code",
   "execution_count": null,
   "metadata": {},
   "outputs": [],
   "source": [
    "b2world.bodies"
   ]
  },
  {
   "cell_type": "code",
   "execution_count": null,
   "metadata": {},
   "outputs": [],
   "source": [
    "importlib.reload(display_world)\n",
    "display_world.display_world()"
   ]
  },
  {
   "cell_type": "code",
   "execution_count": null,
   "metadata": {
    "scrolled": false
   },
   "outputs": [],
   "source": [
    "help(b2World)"
   ]
  },
  {
   "cell_type": "code",
   "execution_count": null,
   "metadata": {},
   "outputs": [],
   "source": []
  }
 ],
 "metadata": {
  "kernelspec": {
   "display_name": "Python (py35)",
   "language": "python",
   "name": "py35"
  },
  "language_info": {
   "codemirror_mode": {
    "name": "ipython",
    "version": 3
   },
   "file_extension": ".py",
   "mimetype": "text/x-python",
   "name": "python",
   "nbconvert_exporter": "python",
   "pygments_lexer": "ipython3",
   "version": "3.5.6"
  }
 },
 "nbformat": 4,
 "nbformat_minor": 2
}
