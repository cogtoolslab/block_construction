{
 "cells": [
  {
   "cell_type": "code",
   "execution_count": 1,
   "metadata": {},
   "outputs": [],
   "source": [
    "import sys\n",
    "import importlib\n",
    "import blockworld_helpers as utils\n",
    "from Box2D import *\n",
    "import copy\n",
    "import numpy as np"
   ]
  },
  {
   "cell_type": "code",
   "execution_count": null,
   "metadata": {},
   "outputs": [],
   "source": []
  },
  {
   "cell_type": "code",
   "execution_count": 2,
   "metadata": {},
   "outputs": [
    {
     "name": "stdout",
     "output_type": "stream",
     "text": [
      "b2Vec2(0,1.0045) 0.00011596875265240669\n",
      "b2Vec2(-1.51816e-08,1.01456) 0.00014852664025966078\n",
      "b2Vec2(-2.10134e-08,1.01463) 0.00011569393245736137\n",
      "b2Vec2(-1.64603e-08,1.01469) 9.021456935442984e-05\n",
      "b2Vec2(-1.25036e-08,1.01474) 7.045112579362467e-05\n",
      "b2Vec2(-9.7566e-09,1.01479) 5.5100925237638876e-05\n",
      "b2Vec2(-7.56404e-09,1.01482) 4.3170071876375005e-05\n",
      "b2Vec2(-5.88105e-09,1.01485) 3.387146716704592e-05\n",
      "b2Vec2(-4.65211e-09,1.01488) 2.6618676201906055e-05\n",
      "b2Vec2(-3.61407e-09,1.0149) 2.0953819330316037e-05\n",
      "b2Vec2(-2.75561e-09,1.01491) 1.6519050404895097e-05\n",
      "b2Vec2(-1.9739e-09,1.01493) 1.3042827958997805e-05\n",
      "b2Vec2(-1.49882e-09,1.01494) 1.0324913091608323e-05\n",
      "b2Vec2(-1.04999e-09,1.01495) 8.178866664820816e-06\n",
      "b2Vec2(-6.46138e-10,1.01496) 6.49100775262923e-06\n",
      "b2Vec2(-3.05554e-10,1.01496) 5.174590569367865e-06\n",
      "b2Vec2(-6.37775e-11,1.01497) 4.137596988584846e-06\n",
      "b2Vec2(4.73128e-11,1.01498) 3.3006342619046336e-06\n",
      "b2Vec2(6.02825e-11,1.01498) 2.6427705961395986e-06\n",
      "b2Vec2(1.32875e-10,1.01498) 2.1135940642125206e-06\n",
      "b2Vec2(2.12677e-10,1.01499) 1.698665755611728e-06\n",
      "b2Vec2(5.62766e-10,1.01499) 1.369299980069627e-06\n",
      "b2Vec2(7.63628e-10,1.01499) 1.1116081850559567e-06\n",
      "b2Vec2(8.19592e-10,1.01499) 8.969756208898616e-07\n",
      "b2Vec2(7.65913e-10,1.01499) 7.253673288687423e-07\n",
      "b2Vec2(7.91323e-10,1.01499) 5.965959530840337e-07\n",
      "b2Vec2(8.79194e-10,1.01499) 4.963729338669509e-07\n",
      "b2Vec2(1.09392e-09,1.015) 3.960239496336726e-07\n",
      "b2Vec2(1.2257e-09,1.015) 3.2436753372167004e-07\n",
      "b2Vec2(1.20557e-09,1.015) 2.526756190945889e-07\n",
      "b2Vec2(1.20557e-09,1.015) 2.526756190945889e-07\n",
      "b2Vec2(1.20557e-09,1.015) 2.526756190945889e-07\n",
      "b2Vec2(1.20557e-09,1.015) 2.526756190945889e-07\n",
      "b2Vec2(1.20557e-09,1.015) 2.526756190945889e-07\n",
      "b2Vec2(1.20557e-09,1.015) 2.526756190945889e-07\n",
      "b2Vec2(1.20557e-09,1.015) 2.526756190945889e-07\n",
      "b2Vec2(1.20557e-09,1.015) 2.526756190945889e-07\n",
      "b2Vec2(1.20557e-09,1.015) 2.526756190945889e-07\n",
      "b2Vec2(1.20557e-09,1.015) 2.526756190945889e-07\n",
      "b2Vec2(1.20557e-09,1.015) 2.526756190945889e-07\n",
      "b2Vec2(1.20557e-09,1.015) 2.526756190945889e-07\n",
      "b2Vec2(1.20557e-09,1.015) 2.526756190945889e-07\n",
      "b2Vec2(1.20557e-09,1.015) 2.526756190945889e-07\n",
      "b2Vec2(1.20557e-09,1.015) 2.526756190945889e-07\n",
      "b2Vec2(1.20557e-09,1.015) 2.526756190945889e-07\n",
      "b2Vec2(1.20557e-09,1.015) 2.526756190945889e-07\n",
      "b2Vec2(1.20557e-09,1.015) 2.526756190945889e-07\n",
      "b2Vec2(1.20557e-09,1.015) 2.526756190945889e-07\n",
      "b2Vec2(1.20557e-09,1.015) 2.526756190945889e-07\n",
      "b2Vec2(1.20557e-09,1.015) 2.526756190945889e-07\n",
      "b2Vec2(1.20557e-09,1.015) 2.526756190945889e-07\n",
      "b2Vec2(1.20557e-09,1.015) 2.526756190945889e-07\n",
      "b2Vec2(1.20557e-09,1.015) 2.526756190945889e-07\n",
      "b2Vec2(1.20557e-09,1.015) 2.526756190945889e-07\n",
      "b2Vec2(1.20557e-09,1.015) 2.526756190945889e-07\n",
      "b2Vec2(1.20557e-09,1.015) 2.526756190945889e-07\n",
      "b2Vec2(1.20557e-09,1.015) 2.526756190945889e-07\n",
      "b2Vec2(1.20557e-09,1.015) 2.526756190945889e-07\n",
      "b2Vec2(1.20557e-09,1.015) 2.526756190945889e-07\n",
      "b2Vec2(1.20557e-09,1.015) 2.526756190945889e-07\n"
     ]
    }
   ],
   "source": [
    "world = b2World(gravity=(0,-10), doSleep=True)\n",
    "groundBody = world.CreateStaticBody(\n",
    "    position=(0,-10),\n",
    "    shapes=b2PolygonShape(box=(50,10)),\n",
    "    )\n",
    "\n",
    "body = world.CreateDynamicBody(position=(0,1))\n",
    "box = body.CreatePolygonFixture(box=(1,1), density=1, friction=0.3)\n",
    "start_positions = np.array([body.position for body in world.bodies])\n",
    "\n",
    "timeStep = 1.0 / 60\n",
    "\n",
    "vel_iters, pos_iters = 6, 2\n",
    "\n",
    "# This is our little game loop.\n",
    "for i in range(60):\n",
    "    # Instruct the world to perform a single step of simulation. It is\n",
    "    # generally best to keep the time step and iterations fixed.\n",
    "    world.Step(timeStep, vel_iters, pos_iters)\n",
    "\n",
    "    # Clear applied body forces. We didn't apply any forces, but you\n",
    "    # should know about this function.\n",
    "    world.ClearForces()\n",
    " \n",
    "    # Now print the position and angle of the body.\n",
    "    print(body.position, body.angle)\n",
    "\n",
    "end_positions = np.array([body.position for body in world.bodies])"
   ]
  },
  {
   "cell_type": "code",
   "execution_count": 3,
   "metadata": {},
   "outputs": [
    {
     "name": "stdout",
     "output_type": "stream",
     "text": [
      "[[  0. -10.]\n",
      " [  0.   1.]]\n",
      "[[ 0.00000000e+00 -1.00000000e+01]\n",
      " [ 1.20557464e-09  1.01499712e+00]]\n"
     ]
    },
    {
     "data": {
      "text/plain": [
       "0.014997125877510675"
      ]
     },
     "execution_count": 3,
     "metadata": {},
     "output_type": "execute_result"
    }
   ],
   "source": [
    "epsilon = 0.1\n",
    "#start_positions = np.array([body.position for body in b2world_start.bodies])\n",
    "#end_positions = np.array([body.position for body in b2world_end.bodies])\n",
    "print(start_positions)\n",
    "print(end_positions)\n",
    "sum(sum(np.absolute(np.subtract(start_positions, end_positions))))\n",
    ")"
   ]
  },
  {
   "cell_type": "code",
   "execution_count": 5,
   "metadata": {},
   "outputs": [
    {
     "name": "stdout",
     "output_type": "stream",
     "text": [
      "2\n"
     ]
    }
   ],
   "source": [
    "print(len(world.bodies))"
   ]
  },
  {
   "cell_type": "code",
   "execution_count": null,
   "metadata": {},
   "outputs": [],
   "source": [
    "# Helper functions for interacting between stimulus generation and pybox2D\n",
    "\n",
    "def b2_x(block):\n",
    "    '''\n",
    "    Takes a block from stimulus generation and returns the x value of the center of the block\n",
    "    '''\n",
    "    return ((block.x) + (block.width / 2))\n",
    "\n",
    "def b2_y(block):\n",
    "    '''\n",
    "    Takes a block from stimulus generation and returns the y value of the center of the block\n",
    "    '''\n",
    "    return ((block.y) + (block.height / 2))\n",
    "    \n",
    "def add_block_to_world(block, b2world):\n",
    "    '''\n",
    "    Add block from stimulus generation to b2world\n",
    "    '''\n",
    "    body = b2world.CreateDynamicBody(position=(b2_x(block),b2_y(block)))\n",
    "    world_block = body.CreatePolygonFixture(box=(block.width/2,block.height/2), density=1, friction=0.3)\n"
   ]
  },
  {
   "cell_type": "code",
   "execution_count": null,
   "metadata": {},
   "outputs": [],
   "source": [
    "importlib.reload(utils)\n",
    "\n",
    "# Create world for stability check\n",
    "b2world = b2World(gravity=(0,-10), doSleep=True)\n",
    "groundBody = b2world.CreateStaticBody( #add ground\n",
    "    position=(0,-10),\n",
    "    shapes=b2PolygonShape(box=(50,10)),\n",
    "    )\n",
    "\n",
    "# Add blocks\n",
    "world = utils.World(world_width = 4,world_height = 4)\n",
    "world.fill_world()\n",
    "\n",
    "for block in world.blocks:\n",
    "    b2block = add_block_to_world(block, b2world)\n",
    "    "
   ]
  },
  {
   "cell_type": "code",
   "execution_count": null,
   "metadata": {},
   "outputs": [],
   "source": [
    "b2world.bodies[1].fixtures[0].shape"
   ]
  },
  {
   "cell_type": "code",
   "execution_count": null,
   "metadata": {},
   "outputs": [],
   "source": [
    "# Run world\n",
    "timeStep = 1.0 / 60\n",
    "\n",
    "vel_iters, pos_iters = 6, 2\n",
    "\n",
    "# This is our little game loop.\n",
    "for i in range(60):\n",
    "    # Instruct the world to perform a single step of simulation. It is\n",
    "    # generally best to keep the time step and iterations fixed.\n",
    "    b2world.Step(timeStep, vel_iters, pos_iters)\n",
    "\n",
    "    # Clear applied body forces. We didn't apply any forces, but you\n",
    "    # should know about this function.\n",
    "    b2world.ClearForces()\n",
    " \n",
    "    # Now print the position and angle of the body.\n",
    "    print(world.blocks[1].x,world.blocks[1].y)\n",
    "    print(b2world.bodies[2].position, body.angle)"
   ]
  },
  {
   "cell_type": "code",
   "execution_count": null,
   "metadata": {},
   "outputs": [],
   "source": [
    "b2world.bodies"
   ]
  },
  {
   "cell_type": "code",
   "execution_count": null,
   "metadata": {},
   "outputs": [],
   "source": [
    "importlib.reload(display_world)\n",
    "display_world.display_world()"
   ]
  },
  {
   "cell_type": "code",
   "execution_count": null,
   "metadata": {
    "scrolled": false
   },
   "outputs": [],
   "source": [
    "help(b2World)"
   ]
  },
  {
   "cell_type": "code",
   "execution_count": null,
   "metadata": {},
   "outputs": [],
   "source": []
  }
 ],
 "metadata": {
  "kernelspec": {
   "display_name": "Python (py35)",
   "language": "python",
   "name": "py35"
  },
  "language_info": {
   "codemirror_mode": {
    "name": "ipython",
    "version": 3
   },
   "file_extension": ".py",
   "mimetype": "text/x-python",
   "name": "python",
   "nbconvert_exporter": "python",
   "pygments_lexer": "ipython3",
   "version": "3.5.6"
  }
 },
 "nbformat": 4,
 "nbformat_minor": 2
}
