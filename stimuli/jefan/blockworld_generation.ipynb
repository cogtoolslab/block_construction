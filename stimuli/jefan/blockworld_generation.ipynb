{
 "cells": [
  {
   "cell_type": "markdown",
   "metadata": {},
   "source": [
    "### Purpose of this notebook: Develop algorithms to procedurally generate block construction targets \n",
    "\n",
    "* blockworld is 8x8 grid\n",
    "* allowable blocks are: 1x1, 2x2, 4x4 squares and the triangles that comprise them\n",
    "* target difficulty roughly varies according to shape and number of holes\n",
    "* constraints on construction include: \n",
    "    * physical stability (a tipped over triangle will fall!)\n",
    "    * geometry (presence & shape of \"holes\")\n",
    "    * inventory (not infinite number of large 8x2 blocks!)\n",
    "    * cost (# blocks)"
   ]
  },
  {
   "cell_type": "code",
   "execution_count": null,
   "metadata": {
    "collapsed": true
   },
   "outputs": [],
   "source": [
    "from __future__ import division\n",
    "\n",
    "import numpy as np\n",
    "from PIL import Image\n",
    "\n",
    "from matplotlib import pylab, mlab, pyplot\n",
    "import matplotlib.pyplot as plt\n",
    "import matplotlib.image as mpimg\n",
    "from matplotlib.path import Path\n",
    "import matplotlib.patches as patches\n",
    "%matplotlib inline\n",
    "\n",
    "from IPython.core.pylabtools import figsize, getfigs\n",
    "\n",
    "import seaborn as sns\n",
    "\n",
    "import random\n",
    "\n",
    "from scipy.stats import norm\n",
    "from IPython.display import clear_output\n",
    "\n",
    "import copy\n",
    "\n",
    "## custom helper modules\n",
    "import separation_axis_theorem as sat\n",
    "import blockworld_helpers as utils\n",
    "\n",
    "import importlib\n",
    "\n",
    "## TODO: convert to python3"
   ]
  },
  {
   "cell_type": "markdown",
   "metadata": {},
   "source": [
    "### start with simple cases "
   ]
  },
  {
   "cell_type": "markdown",
   "metadata": {},
   "source": [
    "#### define inventory of block types, positioned at origin"
   ]
  },
  {
   "cell_type": "code",
   "execution_count": null,
   "metadata": {
    "collapsed": true
   },
   "outputs": [],
   "source": [
    "class Block:\n",
    "    '''\n",
    "    Base Block class for defining a block object with attributes\n",
    "    '''\n",
    "    \n",
    "    def __init__(self, width=1, height=1, shape='rectangle'):\n",
    "        self.verts = np.array([(0, 0), \n",
    "                               (0, -1 * height), \n",
    "                               (1 * width, -1 * height), \n",
    "                               (1 * width, 0), \n",
    "                               (0,0)]) \n",
    "        self.width = width\n",
    "        self.height = height\n",
    "        self.shape = shape\n",
    "\n",
    "    def init(self):\n",
    "        self.corners = self.get_corners(self.verts)\n",
    "        self.area = self.get_area(self.dims,shape=self.shape) \n",
    "        \n",
    "    def translate(self,verts, dx, dy):\n",
    "        '''\n",
    "        input:\n",
    "            verts: array or list of (x,y) vertices of convex polygon. \n",
    "                    last vertex = first vertex, so len(verts) is num_vertices + 1\n",
    "            dx, dy: distance to translate in each direction\n",
    "        output:\n",
    "            new vertices\n",
    "        '''\n",
    "        new_verts = copy.deepcopy(verts)\n",
    "        new_verts[:,0] = verts[:,0] + dx\n",
    "        new_verts[:,1] = verts[:,1] + dy\n",
    "        return new_verts\n",
    "\n",
    "    def get_corners(self,verts):\n",
    "        '''\n",
    "        input: list or array of block vertices in absolute coordinates\n",
    "        output: absolute coordinates of top_left, bottom_left, bottom_right, top_right\n",
    "        '''\n",
    "        corners = {}\n",
    "        corners['top_left'] = verts[0]\n",
    "        corners['bottom_left'] = verts[1]\n",
    "        corners['bottom_right'] = verts[2]\n",
    "        corners['top_right'] = verts[3]\n",
    "        return corners\n",
    "\n",
    "    def get_area(self,dims,shape='rectangle'):\n",
    "        '''\n",
    "        input: w = width \n",
    "               h = height           \n",
    "               shape = ['rectangle', 'square', 'triangle']\n",
    "        output\n",
    "        '''\n",
    "        ## extract width and height from dims dictionary\n",
    "        w = dims['width']\n",
    "        h = dims['height']    \n",
    "        if shape in ['rectangle','square']:\n",
    "            area = w*h\n",
    "        elif shape=='triangle':\n",
    "            area = w*h*0.5\n",
    "        else:\n",
    "            print('Shape type not recognized. Please use recognized shape type.')\n",
    "        return area   "
   ]
  },
  {
   "cell_type": "code",
   "execution_count": null,
   "metadata": {
    "collapsed": false
   },
   "outputs": [],
   "source": [
    "x = Block(width = 5, height = 2)"
   ]
  },
  {
   "cell_type": "code",
   "execution_count": 18,
   "metadata": {
    "collapsed": false
   },
   "outputs": [
    {
     "data": {
      "text/plain": [
       "array([[ 0,  0],\n",
       "       [ 0, -5],\n",
       "       [ 2, -5],\n",
       "       [ 2,  0],\n",
       "       [ 0,  0]])"
      ]
     },
     "execution_count": 18,
     "metadata": {},
     "output_type": "execute_result"
    }
   ],
   "source": [
    "x.verts"
   ]
  },
  {
   "cell_type": "code",
   "execution_count": 19,
   "metadata": {
    "collapsed": false
   },
   "outputs": [
    {
     "data": {
      "image/png": "[encoded data removed]",
      "text/plain": [
       "<Figure size 288x288 with 1 Axes>"
      ]
     },
     "metadata": {},
     "output_type": "display_data"
    }
   ],
   "source": [
    "patch = utils.get_patch(x.verts)\n",
    "patches = [patch]\n",
    "utils.render_blockworld(patches)"
   ]
  },
  {
   "cell_type": "code",
   "execution_count": null,
   "metadata": {
    "collapsed": false
   },
   "outputs": [],
   "source": []
  },
  {
   "cell_type": "code",
   "execution_count": null,
   "metadata": {
    "collapsed": true
   },
   "outputs": [],
   "source": []
  },
  {
   "cell_type": "code",
   "execution_count": null,
   "metadata": {
    "collapsed": true
   },
   "outputs": [],
   "source": []
  },
  {
   "cell_type": "code",
   "execution_count": null,
   "metadata": {
    "collapsed": false
   },
   "outputs": [],
   "source": []
  },
  {
   "cell_type": "code",
   "execution_count": null,
   "metadata": {
    "collapsed": false
   },
   "outputs": [],
   "source": [
    "## block primitives\n",
    "\n",
    "#### squares\n",
    "s1 = np.array([(0, 0), (0, -1), (1, -1), (1, 0), (0,0)]) ## 1x1\n",
    "s2 = s1*2 ## 2x2\n",
    "s4 = s1*4 ## 4x4"
   ]
  },
  {
   "cell_type": "code",
   "execution_count": null,
   "metadata": {
    "collapsed": true
   },
   "outputs": [],
   "source": [
    "## render two blocks side by side\n",
    "patch1 = utils.get_patch(s4)\n",
    "patch2 = utils.get_patch(s2-2)\n",
    "patch3 = utils.get_patch((utils.translate(s4, 2, 2)))\n",
    "\n",
    "patches = [patch1,patch2,patch3]\n",
    "\n",
    "utils.render_blockworld(patches)"
   ]
  },
  {
   "cell_type": "code",
   "execution_count": null,
   "metadata": {
    "collapsed": true
   },
   "outputs": [],
   "source": [
    "## distinguish between two blocks merely touching & actually coinciding \n",
    "reload(sat)\n",
    "print sat.separating_axis_theorem(s2[:-1]-2,s4[:-1]) ## \n",
    "print sat.apply_sat(s2[:-1]-2,s4[:-1])"
   ]
  },
  {
   "cell_type": "code",
   "execution_count": null,
   "metadata": {
    "collapsed": true
   },
   "outputs": [],
   "source": []
  },
  {
   "cell_type": "code",
   "execution_count": null,
   "metadata": {
    "collapsed": true
   },
   "outputs": [],
   "source": [
    "## sketch of blocklaying procedure:\n",
    "\n",
    "## sample block size and place in leftmost, lowest position that you can and place in the array\n",
    "\n",
    "## make sure that no blocks collide\n",
    "\n",
    "## keep going until the summed area of all blocks equals or exceeds the total area of the arena\n",
    "\n",
    "## fill these crevices"
   ]
  },
  {
   "cell_type": "code",
   "execution_count": 8,
   "metadata": {
    "collapsed": false
   },
   "outputs": [
    {
     "data": {
      "text/plain": [
       "<module 'blockworld_helpers' from 'blockworld_helpers.py'>"
      ]
     },
     "execution_count": 8,
     "metadata": {},
     "output_type": "execute_result"
    }
   ],
   "source": [
    "reload(utils)"
   ]
  },
  {
   "cell_type": "code",
   "execution_count": 15,
   "metadata": {
    "collapsed": true
   },
   "outputs": [],
   "source": [
    "x = utils.Block(width = 2, height = 5)"
   ]
  },
  {
   "cell_type": "code",
   "execution_count": 16,
   "metadata": {
    "collapsed": false
   },
   "outputs": [],
   "source": [
    "x.init()"
   ]
  },
  {
   "cell_type": "code",
   "execution_count": 17,
   "metadata": {
    "collapsed": false
   },
   "outputs": [
    {
     "data": {
      "text/plain": [
       "10"
      ]
     },
     "execution_count": 17,
     "metadata": {},
     "output_type": "execute_result"
    }
   ],
   "source": [
    "x.area"
   ]
  },
  {
   "cell_type": "code",
   "execution_count": null,
   "metadata": {
    "collapsed": true
   },
   "outputs": [],
   "source": []
  },
  {
   "cell_type": "code",
   "execution_count": null,
   "metadata": {
    "collapsed": false
   },
   "outputs": [],
   "source": [
    "def return_corners(s):\n",
    "    '''\n",
    "    input: list or array of block vertices in absolute coordinates\n",
    "    output: absolute coordinates of top_left, bottom_left, bottom_right, top_right\n",
    "    '''\n",
    "    corners = {}\n",
    "    corners['top_left'] = s[0]\n",
    "    corners['bottom_left'] = s[1]\n",
    "    corners['bottom_right'] = s[2]\n",
    "    corners['top_right'] = s[3]\n",
    "    return corners\n",
    "\n",
    "def get_width_and_height(corners):\n",
    "    '''\n",
    "    input: corners dictionary, containing top_left, bottom_left, bottom_right, top_right\n",
    "    output: return dims dictionary, containing width and height    \n",
    "    '''\n",
    "    dims = {}\n",
    "    dims['width'] = np.abs(bottom_right[0] - top_left[0])\n",
    "    dims['height'] = np.abs(bottom_right[1] - top_left[1])       \n",
    "    return dims\n",
    "\n",
    "def compute_area(dims,shape='rectangle'):\n",
    "    '''\n",
    "    input: w = width \n",
    "           h = height           \n",
    "           shape = ['rectangle', 'square', 'triangle']\n",
    "    output\n",
    "    '''\n",
    "    ## extract width and height from dims dictionary\n",
    "    w = dims['width']\n",
    "    h = dims['height']    \n",
    "    if shape in ['rectangle','square']:\n",
    "        area = w*h\n",
    "    elif shape=='triangle':\n",
    "        area = w*h*0.5\n",
    "    else:\n",
    "        print('Shape type not recognized. Please use recognized shape type.')\n",
    "    return area"
   ]
  },
  {
   "cell_type": "code",
   "execution_count": null,
   "metadata": {
    "collapsed": true
   },
   "outputs": [],
   "source": [
    "reload(utils)\n",
    "corners = utils.return_corners(s4)\n",
    "print(corners)\n"
   ]
  },
  {
   "cell_type": "code",
   "execution_count": null,
   "metadata": {
    "collapsed": false
   },
   "outputs": [],
   "source": [
    "dims = utils.get_width_and_height(corners)\n",
    "print(dims)"
   ]
  },
  {
   "cell_type": "code",
   "execution_count": null,
   "metadata": {
    "collapsed": false
   },
   "outputs": [],
   "source": [
    "area = utils.compute_area(dims)"
   ]
  },
  {
   "cell_type": "code",
   "execution_count": null,
   "metadata": {
    "collapsed": false
   },
   "outputs": [],
   "source": [
    "area"
   ]
  },
  {
   "cell_type": "code",
   "execution_count": null,
   "metadata": {
    "collapsed": true
   },
   "outputs": [],
   "source": [
    "## utils\n",
    "## write function that takes primitive block and places it in the correct place in the arena \n",
    "## (applies the appropriate delta-x, delta-y displacement)\n",
    "\n",
    "## given vertices, returns four corners\n",
    "\n",
    "## returns current state of the \"floor\": \n",
    "## deviations from flat that constrain how new blocks can be placed\n"
   ]
  },
  {
   "cell_type": "code",
   "execution_count": null,
   "metadata": {
    "collapsed": true
   },
   "outputs": [],
   "source": [
    "importlib.reload(utils)\n",
    "square = np.array([(0, 0), (0, -1), (1, -1), (1, 0), (0,0)]) \n",
    "square"
   ]
  },
  {
   "cell_type": "code",
   "execution_count": null,
   "metadata": {
    "collapsed": false
   },
   "outputs": [],
   "source": [
    "utils.translate(square, 2, 2)"
   ]
  },
  {
   "cell_type": "code",
   "execution_count": null,
   "metadata": {
    "collapsed": false
   },
   "outputs": [],
   "source": []
  },
  {
   "cell_type": "code",
   "execution_count": null,
   "metadata": {
    "collapsed": false
   },
   "outputs": [],
   "source": [
    "block = [s1,s2,s4]\n",
    "\n",
    "block_widths = [,2,4]\n",
    "\n",
    "\n",
    "floor_blocks = []\n",
    "viable_block_widths = [1,2,4]\n",
    "remaining_space = 8\n",
    "while remaining_space > 0:\n",
    "    b = random.choice(viable_block_widths)\n",
    "    if b <= remaining_space:\n",
    "        floor_blocks.append(b)\n",
    "        remaining_space -= b\n",
    "    else:\n",
    "        viable_block_widths.pop()\n",
    "print(floor_blocks)\n",
    "    "
   ]
  },
  {
   "cell_type": "code",
   "execution_count": null,
   "metadata": {
    "collapsed": false
   },
   "outputs": [],
   "source": [
    "blockWidths = [1,2,4]\n",
    "random.choice(blockWidths)"
   ]
  },
  {
   "cell_type": "code",
   "execution_count": null,
   "metadata": {
    "collapsed": true
   },
   "outputs": [],
   "source": []
  },
  {
   "cell_type": "code",
   "execution_count": null,
   "metadata": {
    "collapsed": true
   },
   "outputs": [],
   "source": []
  }
 ],
 "metadata": {
  "kernelspec": {
   "display_name": "Python 2",
   "language": "python",
   "name": "python2"
  },
  "language_info": {
   "codemirror_mode": {
    "name": "ipython",
    "version": 2
   },
   "file_extension": ".py",
   "mimetype": "text/x-python",
   "name": "python",
   "nbconvert_exporter": "python",
   "pygments_lexer": "ipython2",
   "version": "2.7.13"
  }
 },
 "nbformat": 4,
 "nbformat_minor": 1
}
