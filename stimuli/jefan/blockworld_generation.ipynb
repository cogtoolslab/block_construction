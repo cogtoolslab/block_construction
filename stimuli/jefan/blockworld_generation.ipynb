{
 "cells": [
  {
   "cell_type": "markdown",
   "metadata": {},
   "source": [
    "### Purpose of this notebook: Develop algorithms to procedurally generate block construction targets \n",
    "\n",
    "* blockworld is 8x8 grid\n",
    "* allowable blocks are: 1x1, 2x2, 4x4 squares and the triangles that comprise them\n",
    "* target difficulty roughly varies according to shape and number of holes\n",
    "* constraints on construction include: \n",
    "    * physical stability (a tipped over triangle will fall!)\n",
    "    * geometry (presence & shape of \"holes\")\n",
    "    * inventory (not infinite number of large 8x2 blocks!)\n",
    "    * cost (# blocks)"
   ]
  },
  {
   "cell_type": "code",
   "execution_count": 1,
   "metadata": {},
   "outputs": [],
   "source": [
    "from __future__ import division\n",
    "\n",
    "import numpy as np\n",
    "import os, sys\n",
    "from PIL import Image\n",
    "\n",
    "from matplotlib import pylab, mlab, pyplot\n",
    "import matplotlib.pyplot as plt\n",
    "import matplotlib.image as mpimg\n",
    "from matplotlib.path import Path\n",
    "import matplotlib.patches as patches\n",
    "%matplotlib inline\n",
    "\n",
    "from IPython.core.pylabtools import figsize, getfigs\n",
    "\n",
    "import seaborn as sns\n",
    "\n",
    "import random\n",
    "\n",
    "from scipy.stats import norm\n",
    "from IPython.display import clear_output\n",
    "\n",
    "import copy\n",
    "import importlib\n",
    "\n",
    "\n",
    "## TODO: convert to python3"
   ]
  },
  {
   "cell_type": "markdown",
   "metadata": {},
   "source": [
    "### define paths"
   ]
  },
  {
   "cell_type": "code",
   "execution_count": 2,
   "metadata": {},
   "outputs": [],
   "source": [
    "## root paths\n",
    "curr_dir = os.getcwd()\n",
    "proj_dir = os.path.abspath(os.path.join(curr_dir,'..','..')) ## use relative paths\n",
    "\n",
    "## add helpers to python path\n",
    "import sys\n",
    "if os.path.join(proj_dir, 'stimuli') not in sys.path:\n",
    "    sys.path.append(os.path.join(proj_dir, 'stimuli'))\n",
    "\n",
    "## custom helper modules\n",
    "import separation_axis_theorem as sat\n",
    "import blockworld_helpers as utils"
   ]
  },
  {
   "cell_type": "code",
   "execution_count": 4,
   "metadata": {},
   "outputs": [
    {
     "data": {
      "text/plain": [
       "<module 'blockworld_helpers' from '/home/jefan/block_construction/stimuli/blockworld_helpers.py'>"
      ]
     },
     "execution_count": 4,
     "metadata": {},
     "output_type": "execute_result"
    }
   ],
   "source": [
    "importlib.reload(utils)"
   ]
  },
  {
   "cell_type": "markdown",
   "metadata": {},
   "source": [
    "### start with simple cases "
   ]
  },
  {
   "cell_type": "markdown",
   "metadata": {},
   "source": [
    "#### define inventory of block types, positioned at origin"
   ]
  },
  {
   "cell_type": "code",
   "execution_count": 5,
   "metadata": {},
   "outputs": [],
   "source": [
    "class Block:\n",
    "    '''\n",
    "    Base Block class for defining a block object with attributes\n",
    "    '''\n",
    "    \n",
    "    def __init__(self, width=1, height=1, shape='rectangle'):\n",
    "        self.verts = np.array([(0, 0), \n",
    "                               (0, -1 * height), \n",
    "                               (1 * width, -1 * height), \n",
    "                               (1 * width, 0), \n",
    "                               (0,0)]) \n",
    "        self.width = width\n",
    "        self.height = height\n",
    "        self.shape = shape\n",
    "\n",
    "    def init(self):\n",
    "        self.corners = self.get_corners(self.verts)\n",
    "        self.area = self.get_area(self.dims,shape=self.shape) \n",
    "        \n",
    "    def translate(self,verts, dx, dy):\n",
    "        '''\n",
    "        input:\n",
    "            verts: array or list of (x,y) vertices of convex polygon. \n",
    "                    last vertex = first vertex, so len(verts) is num_vertices + 1\n",
    "            dx, dy: distance to translate in each direction\n",
    "        output:\n",
    "            new vertices\n",
    "        '''\n",
    "        new_verts = copy.deepcopy(verts)\n",
    "        new_verts[:,0] = verts[:,0] + dx\n",
    "        new_verts[:,1] = verts[:,1] + dy\n",
    "        return new_verts\n",
    "\n",
    "    def get_corners(self,verts):\n",
    "        '''\n",
    "        input: list or array of block vertices in absolute coordinates\n",
    "        output: absolute coordinates of top_left, bottom_left, bottom_right, top_right\n",
    "        '''\n",
    "        corners = {}\n",
    "        corners['top_left'] = verts[0]\n",
    "        corners['bottom_left'] = verts[1]\n",
    "        corners['bottom_right'] = verts[2]\n",
    "        corners['top_right'] = verts[3]\n",
    "        return corners\n",
    "\n",
    "    def get_area(self,dims,shape='rectangle'):\n",
    "        '''\n",
    "        input: w = width \n",
    "               h = height           \n",
    "               shape = ['rectangle', 'square', 'triangle']\n",
    "        output\n",
    "        '''\n",
    "        ## extract width and height from dims dictionary\n",
    "        w = dims['width']\n",
    "        h = dims['height']    \n",
    "        if shape in ['rectangle','square']:\n",
    "            area = w*h\n",
    "        elif shape=='triangle':\n",
    "            area = w*h*0.5\n",
    "        else:\n",
    "            print('Shape type not recognized. Please use recognized shape type.')\n",
    "        return area   "
   ]
  },
  {
   "cell_type": "code",
   "execution_count": 12,
   "metadata": {},
   "outputs": [],
   "source": [
    "x = utils.Block(width = 5, height = 2)"
   ]
  },
  {
   "cell_type": "code",
   "execution_count": 18,
   "metadata": {},
   "outputs": [],
   "source": [
    "x.init()"
   ]
  },
  {
   "cell_type": "code",
   "execution_count": 19,
   "metadata": {},
   "outputs": [
    {
     "data": {
      "text/plain": [
       "10"
      ]
     },
     "execution_count": 19,
     "metadata": {},
     "output_type": "execute_result"
    }
   ],
   "source": [
    "x.area"
   ]
  },
  {
   "cell_type": "code",
   "execution_count": 14,
   "metadata": {},
   "outputs": [
    {
     "data": {
      "image/png": "[encoded data removed]",
      "text/plain": [
       "<Figure size 288x288 with 1 Axes>"
      ]
     },
     "metadata": {},
     "output_type": "display_data"
    }
   ],
   "source": [
    "patch = utils.get_patch(x.verts)\n",
    "patches = [patch]\n",
    "utils.render_blockworld(patches)"
   ]
  },
  {
   "cell_type": "code",
   "execution_count": null,
   "metadata": {},
   "outputs": [],
   "source": []
  },
  {
   "cell_type": "code",
   "execution_count": null,
   "metadata": {
    "collapsed": true
   },
   "outputs": [],
   "source": []
  },
  {
   "cell_type": "code",
   "execution_count": null,
   "metadata": {
    "collapsed": true
   },
   "outputs": [],
   "source": []
  },
  {
   "cell_type": "code",
   "execution_count": null,
   "metadata": {},
   "outputs": [],
   "source": []
  },
  {
   "cell_type": "code",
   "execution_count": null,
   "metadata": {},
   "outputs": [],
   "source": [
    "## block primitives\n",
    "\n",
    "#### squares\n",
    "s1 = np.array([(0, 0), (0, -1), (1, -1), (1, 0), (0,0)]) ## 1x1\n",
    "s2 = s1*2 ## 2x2\n",
    "s4 = s1*4 ## 4x4"
   ]
  },
  {
   "cell_type": "code",
   "execution_count": null,
   "metadata": {
    "collapsed": true
   },
   "outputs": [],
   "source": [
    "## render two blocks side by side\n",
    "patch1 = utils.get_patch(s4)\n",
    "patch2 = utils.get_patch(s2-2)\n",
    "patch3 = utils.get_patch((utils.translate(s4, 2, 2)))\n",
    "\n",
    "patches = [patch1,patch2,patch3]\n",
    "\n",
    "utils.render_blockworld(patches)"
   ]
  },
  {
   "cell_type": "code",
   "execution_count": null,
   "metadata": {
    "collapsed": true
   },
   "outputs": [],
   "source": [
    "## distinguish between two blocks merely touching & actually coinciding \n",
    "reload(sat)\n",
    "print sat.separating_axis_theorem(s2[:-1]-2,s4[:-1]) ## \n",
    "print sat.apply_sat(s2[:-1]-2,s4[:-1])"
   ]
  },
  {
   "cell_type": "code",
   "execution_count": null,
   "metadata": {
    "collapsed": true
   },
   "outputs": [],
   "source": []
  },
  {
   "cell_type": "code",
   "execution_count": null,
   "metadata": {
    "collapsed": true
   },
   "outputs": [],
   "source": [
    "## sketch of blocklaying procedure:\n",
    "\n",
    "## sample block size and place in leftmost, lowest position that you can and place in the array\n",
    "\n",
    "## make sure that no blocks collide\n",
    "\n",
    "## keep going until the summed area of all blocks equals or exceeds the total area of the arena\n",
    "\n",
    "## fill these crevices"
   ]
  },
  {
   "cell_type": "code",
   "execution_count": 8,
   "metadata": {},
   "outputs": [
    {
     "data": {
      "text/plain": [
       "<module 'blockworld_helpers' from 'blockworld_helpers.py'>"
      ]
     },
     "execution_count": 8,
     "metadata": {},
     "output_type": "execute_result"
    }
   ],
   "source": [
    "reload(utils)"
   ]
  },
  {
   "cell_type": "code",
   "execution_count": 15,
   "metadata": {
    "collapsed": true
   },
   "outputs": [],
   "source": [
    "x = utils.Block(width = 2, height = 5)"
   ]
  },
  {
   "cell_type": "code",
   "execution_count": 16,
   "metadata": {},
   "outputs": [],
   "source": [
    "x.init()"
   ]
  },
  {
   "cell_type": "code",
   "execution_count": 17,
   "metadata": {},
   "outputs": [
    {
     "data": {
      "text/plain": [
       "10"
      ]
     },
     "execution_count": 17,
     "metadata": {},
     "output_type": "execute_result"
    }
   ],
   "source": [
    "x.area"
   ]
  },
  {
   "cell_type": "code",
   "execution_count": null,
   "metadata": {
    "collapsed": true
   },
   "outputs": [],
   "source": []
  },
  {
   "cell_type": "code",
   "execution_count": null,
   "metadata": {},
   "outputs": [],
   "source": [
    "def return_corners(s):\n",
    "    '''\n",
    "    input: list or array of block vertices in absolute coordinates\n",
    "    output: absolute coordinates of top_left, bottom_left, bottom_right, top_right\n",
    "    '''\n",
    "    corners = {}\n",
    "    corners['top_left'] = s[0]\n",
    "    corners['bottom_left'] = s[1]\n",
    "    corners['bottom_right'] = s[2]\n",
    "    corners['top_right'] = s[3]\n",
    "    return corners\n",
    "\n",
    "def get_width_and_height(corners):\n",
    "    '''\n",
    "    input: corners dictionary, containing top_left, bottom_left, bottom_right, top_right\n",
    "    output: return dims dictionary, containing width and height    \n",
    "    '''\n",
    "    dims = {}\n",
    "    dims['width'] = np.abs(bottom_right[0] - top_left[0])\n",
    "    dims['height'] = np.abs(bottom_right[1] - top_left[1])       \n",
    "    return dims\n",
    "\n",
    "def compute_area(dims,shape='rectangle'):\n",
    "    '''\n",
    "    input: w = width \n",
    "           h = height           \n",
    "           shape = ['rectangle', 'square', 'triangle']\n",
    "    output\n",
    "    '''\n",
    "    ## extract width and height from dims dictionary\n",
    "    w = dims['width']\n",
    "    h = dims['height']    \n",
    "    if shape in ['rectangle','square']:\n",
    "        area = w*h\n",
    "    elif shape=='triangle':\n",
    "        area = w*h*0.5\n",
    "    else:\n",
    "        print('Shape type not recognized. Please use recognized shape type.')\n",
    "    return area"
   ]
  },
  {
   "cell_type": "code",
   "execution_count": null,
   "metadata": {
    "collapsed": true
   },
   "outputs": [],
   "source": [
    "reload(utils)\n",
    "corners = utils.return_corners(s4)\n",
    "print(corners)\n"
   ]
  },
  {
   "cell_type": "code",
   "execution_count": null,
   "metadata": {},
   "outputs": [],
   "source": [
    "dims = utils.get_width_and_height(corners)\n",
    "print(dims)"
   ]
  },
  {
   "cell_type": "code",
   "execution_count": null,
   "metadata": {},
   "outputs": [],
   "source": [
    "area = utils.compute_area(dims)"
   ]
  },
  {
   "cell_type": "code",
   "execution_count": null,
   "metadata": {},
   "outputs": [],
   "source": [
    "area"
   ]
  },
  {
   "cell_type": "code",
   "execution_count": null,
   "metadata": {
    "collapsed": true
   },
   "outputs": [],
   "source": [
    "## utils\n",
    "## write function that takes primitive block and places it in the correct place in the arena \n",
    "## (applies the appropriate delta-x, delta-y displacement)\n",
    "\n",
    "## given vertices, returns four corners\n",
    "\n",
    "## returns current state of the \"floor\": \n",
    "## deviations from flat that constrain how new blocks can be placed\n"
   ]
  },
  {
   "cell_type": "code",
   "execution_count": null,
   "metadata": {
    "collapsed": true
   },
   "outputs": [],
   "source": [
    "importlib.reload(utils)\n",
    "square = np.array([(0, 0), (0, -1), (1, -1), (1, 0), (0,0)]) \n",
    "square"
   ]
  },
  {
   "cell_type": "code",
   "execution_count": null,
   "metadata": {},
   "outputs": [],
   "source": [
    "utils.translate(square, 2, 2)"
   ]
  },
  {
   "cell_type": "code",
   "execution_count": null,
   "metadata": {},
   "outputs": [],
   "source": []
  },
  {
   "cell_type": "code",
   "execution_count": null,
   "metadata": {},
   "outputs": [],
   "source": [
    "block = [s1,s2,s4]\n",
    "\n",
    "block_widths = [,2,4]\n",
    "\n",
    "\n",
    "floor_blocks = []\n",
    "viable_block_widths = [1,2,4]\n",
    "remaining_space = 8\n",
    "while remaining_space > 0:\n",
    "    b = random.choice(viable_block_widths)\n",
    "    if b <= remaining_space:\n",
    "        floor_blocks.append(b)\n",
    "        remaining_space -= b\n",
    "    else:\n",
    "        viable_block_widths.pop()\n",
    "print(floor_blocks)\n",
    "    "
   ]
  },
  {
   "cell_type": "code",
   "execution_count": null,
   "metadata": {},
   "outputs": [],
   "source": [
    "blockWidths = [1,2,4]\n",
    "random.choice(blockWidths)"
   ]
  },
  {
   "cell_type": "code",
   "execution_count": null,
   "metadata": {
    "collapsed": true
   },
   "outputs": [],
   "source": []
  },
  {
   "cell_type": "markdown",
   "metadata": {
    "collapsed": true
   },
   "source": [
    "### experiment with whole worlds!!"
   ]
  },
  {
   "cell_type": "code",
   "execution_count": 69,
   "metadata": {},
   "outputs": [],
   "source": [
    "importlib.reload(utils)\n",
    "\n",
    "def patch_for_block_here(b, x, y):\n",
    "    return utils.get_patch(b.translate(b.verts,x,y),color=b.color)\n",
    "\n",
    "def patches_for_floor(floor_blocks, xs):\n",
    "    patches = []\n",
    "    for (i, b) in enumerate(floor_blocks):\n",
    "        patches.append(patch_for_block_here(b,xs[i],0))\n",
    "    return patches\n",
    "       \n",
    "def patches_for_world(blocks_and_locations):\n",
    "    patches = []\n",
    "    for (b, x, y) in blocks_and_locations:\n",
    "        patches.append(patch_for_block_here(b,x,y))\n",
    "    return patches\n",
    "\n",
    "def draw_world(world):\n",
    "    utils.render_blockworld(patches_for_world(world.blocks))    \n",
    "    \n",
    "# World Class\n",
    "class World:       \n",
    "    '''\n",
    "    This class samples a block world. \n",
    "    \n",
    "    '''\n",
    "    \n",
    "    \n",
    "    def __init__(self, \n",
    "                block_dims = [(1,1), # Block types should be in order from left to right, thinest to thickest, shortest to tallest        \n",
    "                            (1,2),\n",
    "                            (2,1),\n",
    "                            (2,2),\n",
    "                            (2,4),\n",
    "                            (4,2),\n",
    "                            (4,4),\n",
    "                            (8,2)\n",
    "                            ],\n",
    "                block_colors = ['#D33E43',\n",
    "                            '#29335C',\n",
    "                            '#EAEAEA',\n",
    "                            '#0F8B8D',\n",
    "                            '#2E3B44',\n",
    "                            '#E79598',\n",
    "                            '#8A8FA6',\n",
    "                            '#91CACB',\n",
    "                            '#B3B7BB',\n",
    "                            '#D33E43',\n",
    "                            '#EAEAEA'],\n",
    "                world_width = 8, \n",
    "                world_height = 8):\n",
    "                                \n",
    "        # block parameters\n",
    "        self.block_dims = block_dims\n",
    "        self.block_colors = block_colors               \n",
    "        self.block_types = [utils.Block(w,h,color=c) for ((w,h),c) in list(zip(sorted(self.block_dims),self.block_colors[0:len(self.block_dims)]))]         \n",
    "        self.block_widths = list(map(lambda b: b.width, self.block_types))         \n",
    "        \n",
    "        # world parameters\n",
    "        self.world_width = world_width\n",
    "        self.world_height = world_height \n",
    "        self.block_map = np.zeros((self.world_width, self.world_height), dtype=int) ## bitmap for placement of blocks        \n",
    "        self.blocks = []        \n",
    "        self.full = False\n",
    "        \n",
    "    def check_full(self):\n",
    "        '''\n",
    "        Checks to see whether the World contains any empty space by summing block_map\n",
    "        '''\n",
    "        if not self.full:\n",
    "            self.full = (sum(sum(self.block_map)) == self.world_width*self.world_height)\n",
    "            return self.full\n",
    "        else:\n",
    "            return True\n",
    "        \n",
    "    def fill_floor(self, floor_space):\n",
    "        '''\n",
    "        Fills a 'floor', a level horizontal surface, with blocks.\n",
    "        Input: Lexicon of blocks- np arrays with 5 coordinates; length of available floor space\n",
    "        Output: List of blocks that can be used to fill the floor space with no gaps\n",
    "        '''\n",
    "        \n",
    "        floor_blocks = []\n",
    "        floor_block_widths = []\n",
    "        viable_block_widths = copy.deepcopy(self.block_widths)\n",
    "        remaining_space = floor_space\n",
    "        while remaining_space > 0:\n",
    "            i = np.random.randint(0,len(viable_block_widths))\n",
    "            if self.block_widths[i] <= remaining_space:\n",
    "                floor_blocks.append([self.block_types[i],floor_space-remaining_space])\n",
    "                floor_block_widths.append(self.block_widths[i])\n",
    "                remaining_space -= self.block_widths[i]\n",
    "            else:\n",
    "                viable_block_widths.pop()\n",
    "        return(floor_blocks)\n",
    "\n",
    "    def fill_floor_here(self, lvl, left, right):\n",
    "        '''\n",
    "        Fills a 'floor', a level horizontal surface, with blocks.\n",
    "        Input: Lexicon of blocks- np arrays with 5 coordinates; length of available floor space\n",
    "        Output: List of blocks that can be used to fill the floor space with no gaps\n",
    "        '''\n",
    "        \n",
    "        floor_space = right-left\n",
    "        floor_blocks = []\n",
    "        floor_block_xs = [left]\n",
    "        \n",
    "        viable_block_widths = copy.deepcopy(self.block_widths)\n",
    "        viable_blocks = copy.deepcopy(self.block_types)\n",
    "        \n",
    "        remaining_height = self.world_height - lvl\n",
    "        remaining_space = floor_space\n",
    "        \n",
    "        while remaining_space > 0:\n",
    "            i = np.random.randint(0,len(viable_blocks))\n",
    "            block_type = self.block_types[i]\n",
    "            block_width = block_type.width\n",
    "            block_height = block_type.height\n",
    "            if block_width <= remaining_space and block_height <= remaining_height: \n",
    "                floor_blocks.append(self.block_types[i])\n",
    "                self.blocks.append((block_type,floor_block_xs[-1],lvl))\n",
    "                floor_block_xs.append(floor_block_xs[-1] + block_width) # x location of bottom left of blocks\n",
    "                remaining_space -= block_width\n",
    "            else:\n",
    "                viable_blocks.pop()\n",
    "        self._update_map_with_floor_blocks(lvl, floor_blocks, floor_block_xs)\n",
    "        #return(floor_blocks, floor_block_xs)\n",
    "\n",
    "    def _update_map_with_floor_blocks(self, lvl, floor_blocks, floor_block_xs):\n",
    "        for (i, b) in enumerate(floor_blocks):\n",
    "            self.block_map[self.world_height-(lvl+b.height): self.world_height-lvl, floor_block_xs[i]:floor_block_xs[i+1]] = 1  \n",
    "        #print(self.block_map)\n",
    "    \n",
    "    def fill_world(self, render = True):\n",
    "        '''\n",
    "        Semi-randomly fills world with blocks, adding a 'floor' of blocks to the next available flat surface \n",
    "        '''\n",
    "        lvl = 0 #Start at bottom and work up\n",
    "        while lvl <= self.world_height - 1: # Until at top\n",
    "            #find floor\n",
    "            while self.block_map[self.world_height - lvl - 1].all() and lvl < self.world_height: # check if level is full or reached top\n",
    "                lvl += 1\n",
    "            if lvl == self.world_height:\n",
    "                    break\n",
    "            left = 0\n",
    "            while self.block_map[self.world_height - lvl - 1][left] == 1:\n",
    "                left += 1\n",
    "            right = left\n",
    "            while right < self.world_width and self.block_map[self.world_height - lvl - 1][right] == 0:\n",
    "                right += 1\n",
    "            #print('fill_world_here: ' + str((lvl, left, right)))\n",
    "            self.fill_floor_here(lvl, left, right)\n",
    "        \n",
    "        ## check that world is filled\n",
    "        self.check_full()\n",
    "        \n",
    "        ## optionally render world\n",
    "        if render==True\n",
    "            draw_world(self)\n",
    "    \n",
    "    "
   ]
  },
  {
   "cell_type": "code",
   "execution_count": 70,
   "metadata": {},
   "outputs": [
    {
     "data": {
      "image/png": "[encoded data removed]",
      "text/plain": [
       "<Figure size 288x288 with 1 Axes>"
      ]
     },
     "metadata": {
      "needs_background": "light"
     },
     "output_type": "display_data"
    }
   ],
   "source": [
    "importlib.reload(utils)\n",
    "w = World()\n",
    "w.fill_world()"
   ]
  },
  {
   "cell_type": "code",
   "execution_count": 71,
   "metadata": {},
   "outputs": [
    {
     "data": {
      "text/plain": [
       "False"
      ]
     },
     "execution_count": 71,
     "metadata": {},
     "output_type": "execute_result"
    }
   ],
   "source": [
    "w.full"
   ]
  },
  {
   "cell_type": "code",
   "execution_count": null,
   "metadata": {},
   "outputs": [],
   "source": []
  },
  {
   "cell_type": "code",
   "execution_count": null,
   "metadata": {},
   "outputs": [],
   "source": []
  },
  {
   "cell_type": "code",
   "execution_count": null,
   "metadata": {},
   "outputs": [],
   "source": []
  },
  {
   "cell_type": "code",
   "execution_count": null,
   "metadata": {},
   "outputs": [],
   "source": []
  }
 ],
 "metadata": {
  "kernelspec": {
   "display_name": "Python 3",
   "language": "python",
   "name": "python3"
  },
  "language_info": {
   "codemirror_mode": {
    "name": "ipython",
    "version": 3
   },
   "file_extension": ".py",
   "mimetype": "text/x-python",
   "name": "python",
   "nbconvert_exporter": "python",
   "pygments_lexer": "ipython3",
   "version": "3.7.3"
  }
 },
 "nbformat": 4,
 "nbformat_minor": 1
}
