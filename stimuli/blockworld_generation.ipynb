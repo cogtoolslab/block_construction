{
 "cells": [
  {
   "cell_type": "markdown",
   "metadata": {},
   "source": [
    "### Purpose of this notebook: Develop algorithms to procedurally generate block construction targets \n",
    "\n",
    "* blockworld is 8x8 grid\n",
    "* allowable blocks are: 1x1, 2x2, 4x4 squares and the triangles that comprise them\n",
    "* target difficulty roughly varies according to shape and number of holes\n",
    "* constraints on construction include: \n",
    "    * physical stability (a tipped over triangle will fall!)\n",
    "    * geometry (presence & shape of \"holes\")\n",
    "    * inventory (not infinite number of large 8x2 blocks!)\n",
    "    * cost (# blocks)"
   ]
  },
  {
   "cell_type": "code",
   "execution_count": 20,
   "metadata": {},
   "outputs": [],
   "source": [
    "from __future__ import division\n",
    "\n",
    "import numpy as np\n",
    "from PIL import Image\n",
    "\n",
    "from matplotlib import pylab, mlab, pyplot\n",
    "import matplotlib.pyplot as plt\n",
    "import matplotlib.image as mpimg\n",
    "from matplotlib.path import Path\n",
    "import matplotlib.patches as patches\n",
    "%matplotlib inline\n",
    "\n",
    "from IPython.core.pylabtools import figsize, getfigs\n",
    "\n",
    "import seaborn as sns\n",
    "\n",
    "from scipy.stats import norm\n",
    "from IPython.display import clear_output\n",
    "\n",
    "## custom helper modules\n",
    "import separation_axis_theorem as sat\n",
    "import blockworld_helpers as utils\n",
    "\n",
    "## TODO: convert to python3\n",
    "\n",
    "import importlib"
   ]
  },
  {
   "cell_type": "code",
   "execution_count": null,
   "metadata": {},
   "outputs": [],
   "source": []
  },
  {
   "cell_type": "markdown",
   "metadata": {},
   "source": [
    "### start with simple cases "
   ]
  },
  {
   "cell_type": "markdown",
   "metadata": {},
   "source": [
    "#### define inventory of block types, positioned at origin"
   ]
  },
  {
   "cell_type": "code",
   "execution_count": 5,
   "metadata": {},
   "outputs": [],
   "source": [
    "## block primitives\n",
    "\n",
    "#### squares\n",
    "s1 = np.array([(0, 0), (0, -1), (1, -1), (1, 0), (0,0)]) ## 1x1\n",
    "s2 = s1*2 ## 2x2\n",
    "s4 = s1*4 ## 4x4"
   ]
  },
  {
   "cell_type": "code",
   "execution_count": null,
   "metadata": {},
   "outputs": [],
   "source": [
    "## render two blocks side by side\n",
    "patch1 = utils.get_patch(s4)\n",
    "patch2 = utils.get_patch(s2-2)\n",
    "patch3 = utils.get_patch((utils.translate(s4, 2, 2)))\n",
    "\n",
    "patches = [patch1,patch2,patch3]\n",
    "\n",
    "\n",
    "\n",
    "utils.render_blockworld(patches)"
   ]
  },
  {
   "cell_type": "code",
   "execution_count": null,
   "metadata": {},
   "outputs": [],
   "source": [
    "## distinguish between two blocks merely touching & actually coinciding \n",
    "reload(sat)\n",
    "print sat.separating_axis_theorem(s2[:-1]-2,s4[:-1]) ## \n",
    "print sat.apply_sat(s2[:-1]-2,s4[:-1])"
   ]
  },
  {
   "cell_type": "code",
   "execution_count": null,
   "metadata": {},
   "outputs": [],
   "source": []
  },
  {
   "cell_type": "code",
   "execution_count": null,
   "metadata": {},
   "outputs": [],
   "source": [
    "## sketch of blocklaying procedure:\n",
    "\n",
    "## sample block size and place in leftmost, lowest position that you can and place in the array\n",
    "\n",
    "## make sure that no blocks collide\n",
    "\n",
    "## keep going until the summed area of all blocks equals or exceeds the total area of the arena\n",
    "\n",
    "## fill these crevices"
   ]
  },
  {
   "cell_type": "code",
   "execution_count": null,
   "metadata": {},
   "outputs": [],
   "source": [
    "def return_corners(s):\n",
    "    '''\n",
    "    input: list or array of block vertices in absolute coordinates\n",
    "    output: absolute coordinates of top_left, bottom_left, bottom_right, top_right\n",
    "    '''\n",
    "    corners = {}\n",
    "    corners['top_left'] = s[0]\n",
    "    corners['bottom_left'] = s[1]\n",
    "    corners['bottom_right'] = s[2]\n",
    "    corners['top_right'] = s[3]\n",
    "    return corners\n",
    "\n",
    "def get_width_and_height(corners):\n",
    "    '''\n",
    "    input: corners dictionary, containing top_left, bottom_left, bottom_right, top_right\n",
    "    output: return dims dictionary, containing width and height    \n",
    "    '''\n",
    "    dims = {}\n",
    "    dims['width'] = np.abs(bottom_right[0] - top_left[0])\n",
    "    dims['height'] = np.abs(bottom_right[1] - top_left[1])       \n",
    "    return dims\n",
    "\n",
    "def compute_area(dims,shape='rectangle'):\n",
    "    '''\n",
    "    input: w = width \n",
    "           h = height           \n",
    "           shape = ['rectangle', 'square', 'triangle']\n",
    "    output\n",
    "    '''\n",
    "    ## extract width and height from dims dictionary\n",
    "    w = dims['width']\n",
    "    h = dims['height']    \n",
    "    if shape in ['rectangle','square']:\n",
    "        area = w*h\n",
    "    elif shape=='triangle':\n",
    "        area = w*h*0.5\n",
    "    else:\n",
    "        print('Shape type not recognized. Please use recognized shape type.')\n",
    "    return area"
   ]
  },
  {
   "cell_type": "code",
   "execution_count": null,
   "metadata": {},
   "outputs": [],
   "source": [
    "corners = return_corners(s4)\n",
    "print(corners)\n"
   ]
  },
  {
   "cell_type": "code",
   "execution_count": null,
   "metadata": {},
   "outputs": [],
   "source": [
    "dims = get_width_and_height(corners)\n",
    "print(dims)"
   ]
  },
  {
   "cell_type": "code",
   "execution_count": null,
   "metadata": {},
   "outputs": [],
   "source": [
    "area = compute_area(dims)"
   ]
  },
  {
   "cell_type": "code",
   "execution_count": null,
   "metadata": {},
   "outputs": [],
   "source": [
    "area"
   ]
  },
  {
   "cell_type": "code",
   "execution_count": null,
   "metadata": {},
   "outputs": [],
   "source": [
    "## utils\n",
    "## write function that takes primitive block and places it in the correct place in the arena \n",
    "## (applies the appropriate delta-x, delta-y displacement)\n",
    "\n",
    "## given vertices, returns four corners\n",
    "\n",
    "## returns current state of the \"floor\": \n",
    "## deviations from flat that constrain how new blocks can be placed"
   ]
  },
  {
   "cell_type": "code",
   "execution_count": null,
   "metadata": {},
   "outputs": [],
   "source": [
    "importlib.reload(utils)\n",
    "square = np.array([(0, 0), (0, -1), (1, -1), (1, 0), (0,0)]) \n",
    "square"
   ]
  },
  {
   "cell_type": "code",
   "execution_count": null,
   "metadata": {},
   "outputs": [],
   "source": [
    "utils.translate(square, 2, 2)"
   ]
  },
  {
   "cell_type": "code",
   "execution_count": 23,
   "metadata": {},
   "outputs": [
    {
     "data": {
      "text/plain": [
       "[1, 2, 4]"
      ]
     },
     "execution_count": 23,
     "metadata": {},
     "output_type": "execute_result"
    }
   ],
   "source": [
    "import copy\n",
    "\n",
    "block = [s1,s2,s4]\n",
    "\n",
    "block_widths = list(map(lambda b: (utils.get_dims(utils.get_corners(b))[\"width\"]), block))\n",
    "\n",
    "floor_blocks = []\n",
    "viable_block_widths = copy.deepcopy(block_widths)\n"
   ]
  },
  {
   "cell_type": "code",
   "execution_count": 78,
   "metadata": {
    "scrolled": true
   },
   "outputs": [
    {
     "data": {
      "text/plain": [
       "[array([[ 0,  0],\n",
       "        [ 0, -4],\n",
       "        [ 4, -4],\n",
       "        [ 4,  0],\n",
       "        [ 0,  0]]), array([[ 0,  0],\n",
       "        [ 0, -2],\n",
       "        [ 2, -2],\n",
       "        [ 2,  0],\n",
       "        [ 0,  0]]), array([[ 0,  0],\n",
       "        [ 0, -2],\n",
       "        [ 2, -2],\n",
       "        [ 2,  0],\n",
       "        [ 0,  0]])]"
      ]
     },
     "execution_count": 78,
     "metadata": {},
     "output_type": "execute_result"
    }
   ],
   "source": [
    "blocks = [s1,s2,s4]\n",
    "floor_space = 8\n",
    "\n",
    "def fill_floor(blocks, floor_space):\n",
    "\n",
    "    block_widths = list(map(lambda b: (utils.get_dims(utils.get_corners(b))[\"width\"]), blocks))\n",
    "\n",
    "    floor_blocks = []\n",
    "    floor_block_widths = []\n",
    "    viable_block_widths = copy.deepcopy(block_widths)\n",
    "    remaining_space = floor_space\n",
    "    while remaining_space > 0:\n",
    "        i = np.random.randint(0,len(viable_block_widths))\n",
    "        if block_widths[i] <= remaining_space:\n",
    "            floor_blocks.append(block[i])\n",
    "            floor_block_widths.append(block_widths[i])\n",
    "            remaining_space -= block_widths[i]\n",
    "        else:\n",
    "            viable_block_widths.pop()\n",
    "    #print(floor_blocks)\n",
    "    #print(floor_block_widths)\n",
    "    return(floor_blocks)\n",
    "\n",
    "fill_floor(blocks, floor_space)\n"
   ]
  },
  {
   "cell_type": "code",
   "execution_count": null,
   "metadata": {},
   "outputs": [],
   "source": []
  },
  {
   "cell_type": "code",
   "execution_count": null,
   "metadata": {},
   "outputs": [],
   "source": []
  },
  {
   "cell_type": "code",
   "execution_count": null,
   "metadata": {},
   "outputs": [],
   "source": []
  }
 ],
 "metadata": {
  "kernelspec": {
   "display_name": "Python 3",
   "language": "python",
   "name": "python3"
  },
  "language_info": {
   "codemirror_mode": {
    "name": "ipython",
    "version": 3
   },
   "file_extension": ".py",
   "mimetype": "text/x-python",
   "name": "python",
   "nbconvert_exporter": "python",
   "pygments_lexer": "ipython3",
   "version": "3.6.8"
  }
 },
 "nbformat": 4,
 "nbformat_minor": 1
}
