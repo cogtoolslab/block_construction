{
 "cells": [
  {
   "cell_type": "markdown",
   "metadata": {},
   "source": [
    "### Demo some block stimuli functions\n",
    "\n",
    "- Generate a bunch of worlds and analyze their relational properties to help identify which are interesting, and to measure those properties in the population\n"
   ]
  },
  {
   "cell_type": "code",
   "execution_count": 2,
   "metadata": {},
   "outputs": [
    {
     "name": "stderr",
     "output_type": "stream",
     "text": [
      "/Users/will/anaconda3/lib/python3.7/site-packages/statsmodels/tools/_testing.py:19: FutureWarning: pandas.util.testing is deprecated. Use the functions in the public API at pandas.testing instead.\n",
      "  import pandas.util.testing as tm\n"
     ]
    }
   ],
   "source": [
    "from __future__ import division\n",
    "\n",
    "import numpy as np\n",
    "import os, sys\n",
    "from PIL import Image\n",
    "\n",
    "from matplotlib import pylab, mlab, pyplot\n",
    "import matplotlib.pyplot as plt\n",
    "import matplotlib.image as mpimg\n",
    "from matplotlib.path import Path\n",
    "import matplotlib.patches as patches\n",
    "%matplotlib inline\n",
    "\n",
    "from IPython.core.pylabtools import figsize, getfigs\n",
    "\n",
    "import seaborn as sns\n",
    "\n",
    "import random\n",
    "\n",
    "from scipy.stats import norm\n",
    "from IPython.display import clear_output\n",
    "\n",
    "import copy\n",
    "import importlib\n",
    "\n",
    "\n",
    "### Add Paths\n",
    "\n",
    "## root paths\n",
    "curr_dir = os.getcwd()\n",
    "proj_dir = os.path.abspath(os.path.join(curr_dir,'..','..')) ## use relative paths\n",
    "\n",
    "## add helpers to python path\n",
    "import sys\n",
    "if os.path.join(proj_dir, 'stimuli') not in sys.path:\n",
    "    sys.path.append(os.path.join(proj_dir, 'stimuli'))\n",
    "\n",
    "## custom helper modules\n",
    "import separation_axis_theorem as sat\n",
    "import blockworld_helpers as utils"
   ]
  },
  {
   "cell_type": "markdown",
   "metadata": {},
   "source": [
    "### sample single random world and render it"
   ]
  },
  {
   "cell_type": "markdown",
   "metadata": {},
   "source": [
    "World is a python class, however we want to be able to save them to JSON so they can be stored in a database and read by javascript."
   ]
  },
  {
   "cell_type": "code",
   "execution_count": null,
   "metadata": {},
   "outputs": [],
   "source": [
    "# if you make any changes to blockworld_helpers, you need to reload the library to see changes\n",
    "importlib.reload(utils)"
   ]
  },
  {
   "cell_type": "code",
   "execution_count": 3,
   "metadata": {},
   "outputs": [
    {
     "data": {
      "image/png": "[encoded data removed]",
      "text/plain": [
       "<Figure size 288x288 with 1 Axes>"
      ]
     },
     "metadata": {
      "needs_background": "light"
     },
     "output_type": "display_data"
    },
    {
     "name": "stdout",
     "output_type": "stream",
     "text": [
      "Area filled = 43\n",
      "Num blocks = 7\n",
      "Timestamp = 1612986710\n"
     ]
    }
   ],
   "source": [
    "## Create world, fill it with blocks, and save in dictionary format\n",
    "_w = utils.World()\n",
    "_w.fill_world()\n",
    "block_dict = _w.get_block_dict() \n",
    "\n",
    "## Build world from dictionary format\n",
    "w = utils.World()\n",
    "w.populate_from_block_dict(block_dict)\n",
    "\n",
    "## remove some blocks to make it more interesting\n",
    "w2 = utils.jenga_blocks(w,10)\n",
    "utils.draw_world(w2)\n",
    "\n",
    "# calculate some properties\n",
    "area_filled = np.sum(w2.block_map)\n",
    "num_blocks = len(w2.blocks)\n",
    "import datetime\n",
    "timestamp = np.int(datetime.datetime.now().timestamp())\n",
    "print('Area filled = {}'.format(area_filled))\n",
    "print('Num blocks = {}'.format(num_blocks))\n",
    "print('Timestamp = {}'.format(timestamp))"
   ]
  },
  {
   "cell_type": "code",
   "execution_count": 5,
   "metadata": {},
   "outputs": [],
   "source": [
    "w2, block_dict = utils.generate_random_world()"
   ]
  },
  {
   "cell_type": "code",
   "execution_count": 4,
   "metadata": {},
   "outputs": [
    {
     "data": {
      "image/png": "[encoded data removed]",
      "text/plain": [
       "<Figure size 288x288 with 1 Axes>"
      ]
     },
     "metadata": {
      "needs_background": "light"
     },
     "output_type": "display_data"
    }
   ],
   "source": [
    "# generates a bunch of worlds which you can then look at\n",
    "\n",
    "importlib.reload(utils)\n",
    "from IPython.display import clear_output\n",
    "num_worlds = 100\n",
    "for i in np.arange(num_worlds):\n",
    "    try:\n",
    "        # generate world\n",
    "        w, block_dict = utils.generate_random_world()\n",
    "        # save world\n",
    "        utils.save_world(block_dict)\n",
    "        clear_output(wait=True)\n",
    "    except:\n",
    "        pass"
   ]
  },
  {
   "cell_type": "markdown",
   "metadata": {},
   "source": [
    "### A few snippets that might be useful"
   ]
  },
  {
   "cell_type": "code",
   "execution_count": 8,
   "metadata": {},
   "outputs": [],
   "source": [
    "total_area = 0\n",
    "for block in block_dict['blocks']:\n",
    "    total_area += (block['height'] * block['width'])"
   ]
  },
  {
   "cell_type": "code",
   "execution_count": 9,
   "metadata": {},
   "outputs": [
    {
     "data": {
      "text/plain": [
       "7"
      ]
     },
     "execution_count": 9,
     "metadata": {},
     "output_type": "execute_result"
    }
   ],
   "source": [
    "len(block_dict['blocks'])"
   ]
  },
  {
   "cell_type": "code",
   "execution_count": 10,
   "metadata": {},
   "outputs": [],
   "source": [
    "block_list = []\n",
    "for i,this_block in enumerate(w2.blocks):\n",
    "    newdict = dict()\n",
    "    olddict = vars(w2.blocks[i])\n",
    "    for (key,value) in olddict.items():\n",
    "        if key in['x','y','width','height']:\n",
    "            newdict[key] = value\n",
    "    block_list.append(newdict)\n",
    "block_dict = {\"blocks\":block_list}"
   ]
  },
  {
   "cell_type": "code",
   "execution_count": 11,
   "metadata": {},
   "outputs": [],
   "source": [
    "## will-curated block structures\n",
    "w1 = {\"blocks\": [{\"width\": 4, \"height\": 2, \"x\": 0, \"y\": 0}, {\"width\": 4, \"height\": 2, \"x\": 4, \"y\": 0}, {\"width\": 2, \"height\": 4, \"x\": 0, \"y\": 2}, {\"width\": 4, \"height\": 2, \"x\": 3, \"y\": 2}, {\"width\": 4, \"height\": 2, \"x\": 2, \"y\": 4}, {\"width\": 2, \"height\": 1, \"x\": 6, \"y\": 4}, {\"width\": 1, \"height\": 1, \"x\": 6, \"y\": 5}, {\"width\": 1, \"height\": 2, \"x\": 7, \"y\": 5}, {\"width\": 1, \"height\": 1, \"x\": 0, \"y\": 6}, {\"width\": 2, \"height\": 2, \"x\": 3, \"y\": 6}, {\"width\": 1, \"height\": 1, \"x\": 5, \"y\": 6}, {\"width\": 1, \"height\": 2, \"x\": 6, \"y\": 6}, {\"width\": 1, \"height\": 1, \"x\": 0, \"y\": 7}, {\"width\": 1, \"height\": 1, \"x\": 5, \"y\": 7}, {\"width\": 1, \"height\": 1, \"x\": 7, \"y\": 7}]}\n",
    "w2 ={\"blocks\": [{\"width\": 2, \"height\": 4, \"x\": 0, \"y\": 0}, {\"width\": 4, \"height\": 4, \"x\": 3, \"y\": 0}, {\"width\": 1, \"height\": 2, \"x\": 7, \"y\": 0}, {\"width\": 1, \"height\": 1, \"x\": 7, \"y\": 2}, {\"width\": 1, \"height\": 1, \"x\": 7, \"y\": 3}, {\"width\": 2, \"height\": 2, \"x\": 0, \"y\": 4}, {\"width\": 4, \"height\": 2, \"x\": 2, \"y\": 4}, {\"width\": 1, \"height\": 2, \"x\": 6, \"y\": 4}, {\"width\": 1, \"height\": 1, \"x\": 7, \"y\": 4}, {\"width\": 1, \"height\": 2, \"x\": 7, \"y\": 5}, {\"width\": 1, \"height\": 1, \"x\": 0, \"y\": 6}, {\"width\": 1, \"height\": 1, \"x\": 5, \"y\": 6}, {\"width\": 1, \"height\": 1, \"x\": 0, \"y\": 7}, {\"width\": 1, \"height\": 1, \"x\": 5, \"y\": 7}, {\"width\": 1, \"height\": 1, \"x\": 7, \"y\": 7}]}\n",
    "w3 = {\"blocks\": [{\"width\": 2, \"height\": 1, \"x\": 1, \"y\": 0}, {\"width\": 1, \"height\": 2, \"x\": 5, \"y\": 0}, {\"width\": 2, \"height\": 4, \"x\": 6, \"y\": 0}, {\"width\": 2, \"height\": 1, \"x\": 1, \"y\": 1}, {\"width\": 4, \"height\": 4, \"x\": 0, \"y\": 2}, {\"width\": 2, \"height\": 1, \"x\": 4, \"y\": 2}, {\"width\": 2, \"height\": 4, \"x\": 4, \"y\": 3}, {\"width\": 2, \"height\": 1, \"x\": 6, \"y\": 4}, {\"width\": 1, \"height\": 2, \"x\": 7, \"y\": 5}, {\"width\": 1, \"height\": 1, \"x\": 4, \"y\": 7}, {\"width\": 2, \"height\": 1, \"x\": 5, \"y\": 7}, {\"width\": 1, \"height\": 1, \"x\": 7, \"y\": 7}]}\n",
    "w4 = {\"blocks\": [{\"width\": 4, \"height\": 2, \"x\": 1, \"y\": 0}, {\"width\": 2, \"height\": 1, \"x\": 5, \"y\": 0}, {\"width\": 1, \"height\": 2, \"x\": 7, \"y\": 0}, {\"width\": 2, \"height\": 1, \"x\": 5, \"y\": 1}, {\"width\": 4, \"height\": 2, \"x\": 0, \"y\": 2}, {\"width\": 1, \"height\": 1, \"x\": 6, \"y\": 2}, {\"width\": 1, \"height\": 2, \"x\": 7, \"y\": 2}, {\"width\": 1, \"height\": 2, \"x\": 6, \"y\": 3}, {\"width\": 4, \"height\": 2, \"x\": 0, \"y\": 4}, {\"width\": 1, \"height\": 1, \"x\": 7, \"y\": 4}, {\"width\": 4, \"height\": 2, \"x\": 4, \"y\": 5}, {\"width\": 1, \"height\": 1, \"x\": 0, \"y\": 6}, {\"width\": 2, \"height\": 2, \"x\": 1, \"y\": 6}, {\"width\": 1, \"height\": 1, \"x\": 3, \"y\": 6}, {\"width\": 1, \"height\": 1, \"x\": 0, \"y\": 7}, {\"width\": 2, \"height\": 1, \"x\": 3, \"y\": 7}, {\"width\": 2, \"height\": 1, \"x\": 5, \"y\": 7}, {\"width\": 1, \"height\": 1, \"x\": 7, \"y\": 7}]}\n",
    "w5 = {\"blocks\": [{\"width\": 4, \"height\": 4, \"x\": 0, \"y\": 0}, {\"width\": 1, \"height\": 2, \"x\": 4, \"y\": 0}, {\"width\": 1, \"height\": 2, \"x\": 7, \"y\": 0}, {\"width\": 1, \"height\": 2, \"x\": 4, \"y\": 2}, {\"width\": 1, \"height\": 2, \"x\": 7, \"y\": 2}, {\"width\": 2, \"height\": 1, \"x\": 0, \"y\": 4}, {\"width\": 4, \"height\": 2, \"x\": 4, \"y\": 4}, {\"width\": 1, \"height\": 2, \"x\": 0, \"y\": 5}, {\"width\": 1, \"height\": 1, \"x\": 4, \"y\": 6}, {\"width\": 1, \"height\": 2, \"x\": 5, \"y\": 6}, {\"width\": 2, \"height\": 1, \"x\": 6, \"y\": 6}, {\"width\": 1, \"height\": 1, \"x\": 0, \"y\": 7}, {\"width\": 1, \"height\": 1, \"x\": 4, \"y\": 7}, {\"width\": 1, \"height\": 1, \"x\": 6, \"y\": 7}, {\"width\": 1, \"height\": 1, \"x\": 7, \"y\": 7}]}\n",
    "w6 = {\"blocks\": [{\"width\": 2, \"height\": 2, \"x\": 1, \"y\": 0}, {\"width\": 1, \"height\": 1, \"x\": 5, \"y\": 0}, {\"width\": 2, \"height\": 4, \"x\": 6, \"y\": 0}, {\"width\": 1, \"height\": 1, \"x\": 5, \"y\": 1}, {\"width\": 4, \"height\": 2, \"x\": 0, \"y\": 2}, {\"width\": 4, \"height\": 2, \"x\": 0, \"y\": 4}, {\"width\": 2, \"height\": 1, \"x\": 5, \"y\": 4}, {\"width\": 1, \"height\": 2, \"x\": 7, \"y\": 4}, {\"width\": 2, \"height\": 1, \"x\": 5, \"y\": 5}, {\"width\": 4, \"height\": 2, \"x\": 0, \"y\": 6}, {\"width\": 2, \"height\": 1, \"x\": 4, \"y\": 6}, {\"width\": 1, \"height\": 2, \"x\": 6, \"y\": 6}, {\"width\": 1, \"height\": 2, \"x\": 7, \"y\": 6}, {\"width\": 2, \"height\": 1, \"x\": 4, \"y\": 7}]}\n",
    "w7 = {\"blocks\": [{\"width\": 2, \"height\": 4, \"x\": 0, \"y\": 0}, {\"width\": 2, \"height\": 1, \"x\": 3, \"y\": 0}, {\"width\": 1, \"height\": 2, \"x\": 6, \"y\": 0}, {\"width\": 1, \"height\": 2, \"x\": 7, \"y\": 0}, {\"width\": 4, \"height\": 4, \"x\": 2, \"y\": 1}, {\"width\": 1, \"height\": 2, \"x\": 6, \"y\": 2}, {\"width\": 1, \"height\": 2, \"x\": 7, \"y\": 2}, {\"width\": 1, \"height\": 1, \"x\": 1, \"y\": 4}, {\"width\": 1, \"height\": 2, \"x\": 6, \"y\": 4}, {\"width\": 1, \"height\": 1, \"x\": 7, \"y\": 4}, {\"width\": 2, \"height\": 2, \"x\": 0, \"y\": 5}, {\"width\": 2, \"height\": 2, \"x\": 2, \"y\": 5}, {\"width\": 1, \"height\": 1, \"x\": 5, \"y\": 5}, {\"width\": 1, \"height\": 2, \"x\": 7, \"y\": 5}, {\"width\": 2, \"height\": 2, \"x\": 4, \"y\": 6}, {\"width\": 1, \"height\": 1, \"x\": 6, \"y\": 6}, {\"width\": 2, \"height\": 1, \"x\": 0, \"y\": 7}, {\"width\": 2, \"height\": 1, \"x\": 2, \"y\": 7}, {\"width\": 2, \"height\": 1, \"x\": 6, \"y\": 7}]}\n",
    "w8 = {\"blocks\": [{\"width\": 2, \"height\": 4, \"x\": 0, \"y\": 0}, {\"width\": 4, \"height\": 2, \"x\": 2, \"y\": 0}, {\"width\": 2, \"height\": 4, \"x\": 6, \"y\": 0}, {\"width\": 1, \"height\": 2, \"x\": 3, \"y\": 2}, {\"width\": 2, \"height\": 2, \"x\": 2, \"y\": 4}, {\"width\": 1, \"height\": 1, \"x\": 6, \"y\": 4}, {\"width\": 1, \"height\": 2, \"x\": 7, \"y\": 4}, {\"width\": 1, \"height\": 1, \"x\": 6, \"y\": 5}, {\"width\": 8, \"height\": 2, \"x\": 0, \"y\": 6}]}\n",
    "w9 ={\"blocks\": [{\"width\": 1, \"height\": 1, \"x\": 1, \"y\": 0}, {\"width\": 4, \"height\": 2, \"x\": 3, \"y\": 0}, {\"width\": 1, \"height\": 1, \"x\": 7, \"y\": 0}, {\"width\": 2, \"height\": 2, \"x\": 0, \"y\": 1}, {\"width\": 1, \"height\": 2, \"x\": 7, \"y\": 1}, {\"width\": 4, \"height\": 4, \"x\": 2, \"y\": 2}, {\"width\": 1, \"height\": 1, \"x\": 1, \"y\": 3}, {\"width\": 1, \"height\": 2, \"x\": 7, \"y\": 3}, {\"width\": 1, \"height\": 1, \"x\": 1, \"y\": 4}, {\"width\": 2, \"height\": 1, \"x\": 0, \"y\": 5}, {\"width\": 1, \"height\": 1, \"x\": 7, \"y\": 5}, {\"width\": 4, \"height\": 2, \"x\": 0, \"y\": 6}, {\"width\": 1, \"height\": 1, \"x\": 4, \"y\": 6}, {\"width\": 2, \"height\": 2, \"x\": 5, \"y\": 6}, {\"width\": 1, \"height\": 2, \"x\": 7, \"y\": 6}, {\"width\": 1, \"height\": 1, \"x\": 4, \"y\": 7}]}\n",
    "w10 = {\"blocks\": [{\"width\": 1, \"height\": 1, \"x\": 0, \"y\": 0}, {\"width\": 2, \"height\": 4, \"x\": 5, \"y\": 0}, {\"width\": 1, \"height\": 1, \"x\": 7, \"y\": 0}, {\"width\": 1, \"height\": 1, \"x\": 0, \"y\": 1}, {\"width\": 1, \"height\": 1, \"x\": 7, \"y\": 1}, {\"width\": 1, \"height\": 2, \"x\": 0, \"y\": 2}, {\"width\": 1, \"height\": 1, \"x\": 7, \"y\": 2}, {\"width\": 1, \"height\": 1, \"x\": 7, \"y\": 3}, {\"width\": 8, \"height\": 2, \"x\": 0, \"y\": 4}, {\"width\": 2, \"height\": 1, \"x\": 2, \"y\": 6}, {\"width\": 2, \"height\": 1, \"x\": 6, \"y\": 6}, {\"width\": 2, \"height\": 1, \"x\": 1, \"y\": 7}, {\"width\": 1, \"height\": 1, \"x\": 3, \"y\": 7}, {\"width\": 1, \"height\": 1, \"x\": 6, \"y\": 7}, {\"width\": 1, \"height\": 1, \"x\": 7, \"y\": 7}]}\n",
    "w11 = {\"blocks\": [{\"width\": 4, \"height\": 2, \"x\": 0, \"y\": 0}, {\"width\": 2, \"height\": 1, \"x\": 5, \"y\": 0}, {\"width\": 4, \"height\": 2, \"x\": 4, \"y\": 1}, {\"width\": 2, \"height\": 1, \"x\": 0, \"y\": 2}, {\"width\": 1, \"height\": 2, \"x\": 3, \"y\": 2}, {\"width\": 1, \"height\": 1, \"x\": 0, \"y\": 3}, {\"width\": 4, \"height\": 2, \"x\": 4, \"y\": 3}, {\"width\": 1, \"height\": 1, \"x\": 3, \"y\": 4}, {\"width\": 8, \"height\": 2, \"x\": 0, \"y\": 5}, {\"width\": 2, \"height\": 1, \"x\": 0, \"y\": 7}, {\"width\": 1, \"height\": 1, \"x\": 2, \"y\": 7}, {\"width\": 2, \"height\": 1, \"x\": 3, \"y\": 7}, {\"width\": 1, \"height\": 1, \"x\": 5, \"y\": 7}, {\"width\": 1, \"height\": 1, \"x\": 6, \"y\": 7}, {\"width\": 1, \"height\": 1, \"x\": 7, \"y\": 7}]}\n",
    "w12 = {\"blocks\": [{\"width\": 2, \"height\": 2, \"x\": 0, \"y\": 0}, {\"width\": 4, \"height\": 2, \"x\": 2, \"y\": 0}, {\"width\": 2, \"height\": 4, \"x\": 6, \"y\": 0}, {\"width\": 2, \"height\": 1, \"x\": 0, \"y\": 2}, {\"width\": 2, \"height\": 2, \"x\": 3, \"y\": 2}, {\"width\": 2, \"height\": 4, \"x\": 0, \"y\": 3}, {\"width\": 4, \"height\": 2, \"x\": 2, \"y\": 4}, {\"width\": 2, \"height\": 2, \"x\": 6, \"y\": 4}, {\"width\": 2, \"height\": 1, \"x\": 3, \"y\": 6}, {\"width\": 2, \"height\": 1, \"x\": 0, \"y\": 7}, {\"width\": 2, \"height\": 1, \"x\": 3, \"y\": 7}]}"
   ]
  },
  {
   "cell_type": "code",
   "execution_count": 12,
   "metadata": {},
   "outputs": [],
   "source": [
    "# save structures\n",
    "\n",
    "# import json\n",
    "# path_to_dump = './sampled_worlds'\n",
    "# if not os.path.exists(path_to_dump):\n",
    "#     os.makedirs(path_to_dump)\n",
    "# with open(os.path.join(path_to_dump,'blockworld_area{}_num{}.js'.format(area_filled,num_blocks)), 'w') as fout:\n",
    "#      json.dump(block_dict, fout)"
   ]
  },
  {
   "cell_type": "code",
   "execution_count": 167,
   "metadata": {},
   "outputs": [],
   "source": [
    "# load structures\n",
    "# J = json.loads(open(os.path.join(path_to_dump,'blockworld_area{}_num{}.js'.format(area_filled,num_blocks)),mode='r').read())\n"
   ]
  }
 ],
 "metadata": {
  "kernelspec": {
   "display_name": "Python 3",
   "language": "python",
   "name": "python3"
  },
  "language_info": {
   "codemirror_mode": {
    "name": "ipython",
    "version": 3
   },
   "file_extension": ".py",
   "mimetype": "text/x-python",
   "name": "python",
   "nbconvert_exporter": "python",
   "pygments_lexer": "ipython3",
   "version": "3.7.4"
  }
 },
 "nbformat": 4,
 "nbformat_minor": 2
}
