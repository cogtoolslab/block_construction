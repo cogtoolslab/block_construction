{
 "cells": [
  {
   "cell_type": "code",
   "execution_count": 6,
   "metadata": {},
   "outputs": [],
   "source": [
    "import pymongo as pm\n",
    "import os\n",
    "import sys\n",
    "import numpy\n",
    "import pandas as pd\n",
    "import json\n",
    "from IPython.display import clear_output"
   ]
  },
  {
   "cell_type": "markdown",
   "metadata": {},
   "source": [
    "## connect to db"
   ]
  },
  {
   "cell_type": "markdown",
   "metadata": {},
   "source": [
    "#### (1) establish tunnel to lab server: \n",
    "- Run this in terminal: `ssh -fNL 27017:127.0.0.1:27017 USER@cogtoolslab.org`\n",
    "OR\n",
    "\n",
    "- Add this to your .bashrc or (.zshrc):\n",
    "`alias tunnel_cogtoolslab=\"ssh -fNL 27017:127.0.0.1:27017 USER@cogtoolslab.org\"`"
   ]
  },
  {
   "cell_type": "markdown",
   "metadata": {},
   "source": [
    "#### (2) establish connection to target db and collection"
   ]
  },
  {
   "cell_type": "code",
   "execution_count": 22,
   "metadata": {},
   "outputs": [],
   "source": [
    "# set vars \n",
    "auth = pd.read_csv('auth.txt', header = None) # this auth.txt file contains the password for the sketchloop user\n",
    "pswd = auth.values[0][0]\n",
    "user = 'sketchloop'\n",
    "host = 'cogtoolslab.org' ## experiment server ip address\n",
    "\n",
    "conn = pm.MongoClient('mongodb://sketchloop:' + pswd + '@127.0.0.1')\n",
    "db = conn['stimuli']\n",
    "coll = db['block-construction-silhouette']\n",
    "\n",
    "# raw stimulus data\n",
    "path_to_interesting_structures = 'interesting_structures_tmp.json'"
   ]
  },
  {
   "cell_type": "code",
   "execution_count": 20,
   "metadata": {},
   "outputs": [
    {
     "name": "stdout",
     "output_type": "stream",
     "text": [
      "dbnames:\n",
      "['3dObjects', 'admin', 'block_construction', 'collabdraw', 'collabdraw_recog', 'config', 'drawbase', 'gallerize', 'human_compression', 'iteratedNumber', 'local', 'semantic_parts', 'stimuli']\n",
      "colnames:\n",
      "['svg_annotation_sketchpad_basic_allcats', 'collabdraw_collab8_recog', 'semantic_parts_graphical_conventions', 'photodraw2']\n"
     ]
    }
   ],
   "source": [
    "# print list of database names \n",
    "print('dbnames:')\n",
    "print(conn.list_database_names())\n",
    "\n",
    "# now print list of collection names within stimuli db\n",
    "print('colnames:')\n",
    "print(conn['stimuli'].list_collection_names())"
   ]
  },
  {
   "cell_type": "code",
   "execution_count": 27,
   "metadata": {},
   "outputs": [],
   "source": [
    "x = pd.read_json(path_to_interesting_structures)"
   ]
  },
  {
   "cell_type": "code",
   "execution_count": null,
   "metadata": {},
   "outputs": [],
   "source": [
    "x.iloc[0]['blocks']"
   ]
  },
  {
   "cell_type": "code",
   "execution_count": 31,
   "metadata": {},
   "outputs": [],
   "source": [
    "coll = conn['stimuli']['photodraw2']"
   ]
  },
  {
   "cell_type": "code",
   "execution_count": 32,
   "metadata": {},
   "outputs": [
    {
     "data": {
      "text/plain": [
       "{'_id': ObjectId('5bb457eec63cca1455f14a4b'),\n",
       " 'category': 'airplane',\n",
       " 'image_id': 'airplane_0',\n",
       " 'image_url': 'https://s3.amazonaws.com/drawbase-demo/airplane_0.jpg',\n",
       " 'games': ['3572-11c5fce3-840b-4657-85e5-93867a67525d',\n",
       "  '0353-5948961b-ca4d-4da9-b837-c07e26e23be8',\n",
       "  '2747-25d4dabd-3bb3-4230-8304-02c23a470ded',\n",
       "  '8601-a605f002-e138-48b5-942e-6211f93c98c5',\n",
       "  '5015-b8323210-cecf-47f5-a8db-bc2e4f4abce0',\n",
       "  '4373-ebf42316-253c-4069-9a4d-0a3a29f80cac',\n",
       "  '3968-32c21139-3351-48b4-b084-92bc3c5f7b69',\n",
       "  '3812-3ce8db67-9f89-4c3a-ac49-daff763df1a2'],\n",
       " 'shuffler_ind': 11,\n",
       " 'condition': 'photo',\n",
       " 'numGames': 8}"
      ]
     },
     "execution_count": 32,
     "metadata": {},
     "output_type": "execute_result"
    }
   ],
   "source": [
    "coll.find_one()"
   ]
  },
  {
   "cell_type": "markdown",
   "metadata": {},
   "source": [
    "#### Setting up the stimulus dictionary\n",
    "- In the design of silhouette-study-1, there are two conditions: ['external', 'internal'], which will be manipulated between participant. (Or within participant, even?)\n",
    "- At the beginning of each experimental session, all of the trials to construct a single session are fetched from the database. \n",
    "- Each trial dictionary needs to contain the following attributes: \n",
    "    - `target`: \n",
    "    - `games`: Empty games list that will be populated by `getstims` inside `store.js` as games fetch this type of game"
   ]
  },
  {
   "cell_type": "code",
   "execution_count": null,
   "metadata": {},
   "outputs": [],
   "source": []
  },
  {
   "cell_type": "code",
   "execution_count": null,
   "metadata": {},
   "outputs": [],
   "source": []
  },
  {
   "cell_type": "code",
   "execution_count": null,
   "metadata": {},
   "outputs": [],
   "source": []
  }
 ],
 "metadata": {
  "kernelspec": {
   "display_name": "Python 3",
   "language": "python",
   "name": "python3"
  },
  "language_info": {
   "codemirror_mode": {
    "name": "ipython",
    "version": 3
   },
   "file_extension": ".py",
   "mimetype": "text/x-python",
   "name": "python",
   "nbconvert_exporter": "python",
   "pygments_lexer": "ipython3",
   "version": "3.7.3"
  }
 },
 "nbformat": 4,
 "nbformat_minor": 2
}
