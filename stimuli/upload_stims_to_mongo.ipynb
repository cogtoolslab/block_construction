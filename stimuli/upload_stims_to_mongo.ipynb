{
 "cells": [
  {
   "cell_type": "code",
   "execution_count": 6,
   "metadata": {},
   "outputs": [],
   "source": [
    "import pymongo as pm\n",
    "import os\n",
    "import sys\n",
    "import numpy\n",
    "import pandas as pd\n",
    "import json\n",
    "from IPython.display import clear_output"
   ]
  },
  {
   "cell_type": "markdown",
   "metadata": {},
   "source": [
    "## connect to db"
   ]
  },
  {
   "cell_type": "markdown",
   "metadata": {},
   "source": [
    "#### (1) establish tunnel to lab server: \n",
    "- Run this in terminal: `ssh -fNL 27017:127.0.0.1:27017 USER@cogtoolslab.org`\n",
    "OR\n",
    "\n",
    "- Add this to your .bashrc or (.zshrc):\n",
    "`alias tunnel_cogtoolslab=\"ssh -fNL 27017:127.0.0.1:27017 USER@cogtoolslab.org\"`"
   ]
  },
  {
   "cell_type": "markdown",
   "metadata": {},
   "source": [
    "#### (2) establish connection to target db and collection"
   ]
  },
  {
   "cell_type": "code",
   "execution_count": 75,
   "metadata": {},
   "outputs": [],
   "source": [
    "# set vars \n",
    "auth = pd.read_csv('auth.txt', header = None) # this auth.txt file contains the password for the sketchloop user\n",
    "pswd = auth.values[0][0]\n",
    "user = 'sketchloop'\n",
    "host = 'cogtoolslab.org' ## experiment server ip address\n",
    "\n",
    "conn = pm.MongoClient('mongodb://sketchloop:' + pswd + '@127.0.0.1')\n",
    "db = conn['stimuli']\n",
    "coll = db['block-construction-silhouette']\n",
    "\n",
    "# raw stimulus data\n",
    "path_to_interesting_structures = 'interesting_structures'\n"
   ]
  },
  {
   "cell_type": "code",
   "execution_count": 35,
   "metadata": {},
   "outputs": [
    {
     "name": "stdout",
     "output_type": "stream",
     "text": [
      "dbnames:\n",
      "['3dObjects', 'admin', 'block_construction', 'collabdraw', 'collabdraw_recog', 'config', 'drawbase', 'gallerize', 'human_compression', 'iteratedNumber', 'local', 'semantic_parts', 'stimuli']\n",
      "colnames:\n",
      "['svg_annotation_sketchpad_basic_allcats', 'collabdraw_collab8_recog', 'semantic_parts_graphical_conventions', 'photodraw2']\n"
     ]
    }
   ],
   "source": [
    "# print list of database names \n",
    "print('dbnames:')\n",
    "print(conn.list_database_names())\n",
    "\n",
    "# now print list of collection names within stimuli db\n",
    "print('colnames:')\n",
    "print(conn['stimuli'].list_collection_names())"
   ]
  },
  {
   "cell_type": "markdown",
   "metadata": {},
   "source": [
    "#### Setting up the stimulus dictionary\n",
    "- In the design of silhouette-study-1, there are two conditions: ['external', 'internal'], which will be manipulated between participant. (Or within participant, even?)\n",
    "- At the beginning of each experimental session, all of the trials to construct a single session are fetched from the database. \n",
    "- Each trial dictionary needs to contain the following attributes: \n",
    "    - `target`: List of blocks generated elsewhere in this `stimuli/` dir\n",
    "    - `condition`: \"external\" can be a placeholder\n",
    "    - `games`: Empty games list that will be populated by `getstims` inside `store.js` as games fetch this type of game"
   ]
  },
  {
   "cell_type": "code",
   "execution_count": 116,
   "metadata": {},
   "outputs": [
    {
     "name": "stdout",
     "output_type": "stream",
     "text": [
      "Our trial_list is 12 entries long.\n"
     ]
    }
   ],
   "source": [
    "file_list = os.listdir(path_to_interesting_structures)\n",
    "trial_list = []\n",
    "for i,f in enumerate(file_list):\n",
    "    x = pd.read_json(os.path.join(path_to_interesting_structures,f),orient='records')\n",
    "    this_targetBlocks = list(x['blocks'].values)\n",
    "    this_targetName = f.split('.')[0]\n",
    "    this_trial = {'targetBlocks':this_targetBlocks,\n",
    "                  'targetName': this_targetName,            \n",
    "                  'condition':'external'}\n",
    "    trial_list.append(this_trial) ## this is not particularly elegant -- I AM NOT PROUD, @jefan.\n",
    "print('Our trial_list is {} entries long.'.format(len(trial_list)))"
   ]
  },
  {
   "cell_type": "code",
   "execution_count": 144,
   "metadata": {},
   "outputs": [
    {
     "name": "stdout",
     "output_type": "stream",
     "text": [
      "Our stimList is 12 entries long.\n"
     ]
    }
   ],
   "source": [
    "## this is ALL not particularly elegant\n",
    "trial_df = pd.DataFrame(trial_list)\n",
    "## save out for redundancy\n",
    "trial_df.to_json('stimDict.json',orient='records')\n",
    "## ok, just make sure you can read it back in, and use this var to insert into mongo below\n",
    "trial_df = pd.read_json('stimDict.json')\n",
    "stimList = trial_df.to_dict(orient='records')\n",
    "print('Our stimList is {} entries long.'.format(len(stimList)))"
   ]
  },
  {
   "cell_type": "code",
   "execution_count": 153,
   "metadata": {},
   "outputs": [
    {
     "name": "stdout",
     "output_type": "stream",
     "text": [
      "Created stimDict.\n"
     ]
    }
   ],
   "source": [
    "## bundle all of the stims into stimDict, under the 'meta' key, and also add 'games' list \n",
    "## (to keep track of which games) and numTrials\n",
    "stimDict = {}\n",
    "stimDict['meta'] = stimList\n",
    "stimDict['games'] = []\n",
    "stimDict['numTrials'] = len(stimList)\n",
    "stimDict['version'] = 'silhouette-testing1' ## way of keeping track of different stimulus sets\n",
    "print('Created stimDict.')"
   ]
  },
  {
   "cell_type": "code",
   "execution_count": 157,
   "metadata": {},
   "outputs": [
    {
     "name": "stdout",
     "output_type": "stream",
     "text": [
      "Inserted silhouette-testing1 version of stimDict.\n"
     ]
    }
   ],
   "source": [
    "## now, iterate through each record and insert into mongo\n",
    "## loop through list of records and insert each into collection\n",
    "reallyRun = 1\n",
    "if reallyRun:\n",
    "    if 'meta' in stimDict.keys(): ## if 'meta' is accessible from the top of stimDict, implies that only one version of trial sequence\n",
    "        coll.insert_one(stimDict)\n",
    "        print('Inserted {} version of stimDict.'.format(stimDict['version']))\n",
    "    else:\n",
    "        for ind,row in stimDict.iterrows(): ## otherwise if there are multiple versions of experiment, then iterated through them\n",
    "            ## extract dictionary representation of each trial \n",
    "            this_record = row.to_dict()        \n",
    "            coll.insert_one(this_record)\n",
    "            print('Inserted {} records.'.format(ind+1))\n",
    "            clear_output(wait=True)\n",
    "else:\n",
    "    print('Did not insert any new data.')"
   ]
  },
  {
   "cell_type": "code",
   "execution_count": null,
   "metadata": {},
   "outputs": [],
   "source": []
  },
  {
   "cell_type": "markdown",
   "metadata": {},
   "source": [
    "### inspect and validate collection"
   ]
  },
  {
   "cell_type": "code",
   "execution_count": 158,
   "metadata": {},
   "outputs": [
    {
     "name": "stdout",
     "output_type": "stream",
     "text": [
      "There are 1 records in this collection.\n"
     ]
    }
   ],
   "source": [
    "print('There are {} records in this collection.'.format(coll.estimated_document_count()))"
   ]
  },
  {
   "cell_type": "code",
   "execution_count": 159,
   "metadata": {
    "scrolled": false
   },
   "outputs": [
    {
     "data": {
      "text/plain": [
       "{'_id': ObjectId('5daf75ed1faa5dacd8e53e1f'),\n",
       " 'meta': [{'condition': 'external',\n",
       "   'targetBlocks': [{'width': 4, 'height': 2, 'x': 0, 'y': 0},\n",
       "    {'width': 2, 'height': 2, 'x': 5, 'y': 0},\n",
       "    {'width': 2, 'height': 1, 'x': 0, 'y': 2},\n",
       "    {'width': 1, 'height': 2, 'x': 2, 'y': 2},\n",
       "    {'width': 4, 'height': 2, 'x': 4, 'y': 2},\n",
       "    {'width': 1, 'height': 2, 'x': 0, 'y': 3},\n",
       "    {'width': 1, 'height': 2, 'x': 1, 'y': 3},\n",
       "    {'width': 1, 'height': 2, 'x': 2, 'y': 4},\n",
       "    {'width': 1, 'height': 2, 'x': 5, 'y': 4},\n",
       "    {'width': 2, 'height': 1, 'x': 6, 'y': 4},\n",
       "    {'width': 1, 'height': 2, 'x': 1, 'y': 5},\n",
       "    {'width': 1, 'height': 2, 'x': 6, 'y': 5},\n",
       "    {'width': 1, 'height': 2, 'x': 7, 'y': 5},\n",
       "    {'width': 1, 'height': 2, 'x': 2, 'y': 6},\n",
       "    {'width': 1, 'height': 2, 'x': 5, 'y': 6},\n",
       "    {'width': 2, 'height': 1, 'x': 6, 'y': 7}],\n",
       "   'targetName': 'hand_selected_007'},\n",
       "  {'condition': 'external',\n",
       "   'targetBlocks': [{'width': 2, 'height': 1, 'x': 1, 'y': 0},\n",
       "    {'width': 4, 'height': 2, 'x': 3, 'y': 0},\n",
       "    {'width': 2, 'height': 1, 'x': 1, 'y': 1},\n",
       "    {'width': 4, 'height': 2, 'x': 0, 'y': 2},\n",
       "    {'width': 4, 'height': 2, 'x': 4, 'y': 2},\n",
       "    {'width': 2, 'height': 1, 'x': 0, 'y': 4},\n",
       "    {'width': 4, 'height': 2, 'x': 3, 'y': 4},\n",
       "    {'width': 1, 'height': 2, 'x': 1, 'y': 5},\n",
       "    {'width': 2, 'height': 2, 'x': 2, 'y': 6},\n",
       "    {'width': 4, 'height': 2, 'x': 4, 'y': 6}],\n",
       "   'targetName': 'hand_selected_011'},\n",
       "  {'condition': 'external',\n",
       "   'targetBlocks': [{'width': 4, 'height': 2, 'x': 0, 'y': 0},\n",
       "    {'width': 4, 'height': 2, 'x': 4, 'y': 0},\n",
       "    {'width': 1, 'height': 2, 'x': 1, 'y': 2},\n",
       "    {'width': 2, 'height': 2, 'x': 3, 'y': 2},\n",
       "    {'width': 1, 'height': 2, 'x': 7, 'y': 2},\n",
       "    {'width': 4, 'height': 2, 'x': 0, 'y': 4},\n",
       "    {'width': 4, 'height': 2, 'x': 4, 'y': 4},\n",
       "    {'width': 2, 'height': 1, 'x': 5, 'y': 6},\n",
       "    {'width': 1, 'height': 2, 'x': 7, 'y': 6},\n",
       "    {'width': 2, 'height': 1, 'x': 5, 'y': 7}],\n",
       "   'targetName': 'hand_selected_010'},\n",
       "  {'condition': 'external',\n",
       "   'targetBlocks': [{'width': 2, 'height': 1, 'x': 1, 'y': 0},\n",
       "    {'width': 4, 'height': 2, 'x': 4, 'y': 0},\n",
       "    {'width': 4, 'height': 2, 'x': 0, 'y': 1},\n",
       "    {'width': 2, 'height': 1, 'x': 6, 'y': 2},\n",
       "    {'width': 2, 'height': 1, 'x': 0, 'y': 3},\n",
       "    {'width': 4, 'height': 2, 'x': 3, 'y': 3},\n",
       "    {'width': 1, 'height': 2, 'x': 7, 'y': 3},\n",
       "    {'width': 2, 'height': 1, 'x': 0, 'y': 4},\n",
       "    {'width': 2, 'height': 2, 'x': 0, 'y': 5},\n",
       "    {'width': 2, 'height': 1, 'x': 2, 'y': 5},\n",
       "    {'width': 2, 'height': 1, 'x': 5, 'y': 5},\n",
       "    {'width': 1, 'height': 2, 'x': 2, 'y': 6},\n",
       "    {'width': 1, 'height': 2, 'x': 3, 'y': 6},\n",
       "    {'width': 2, 'height': 2, 'x': 5, 'y': 6},\n",
       "    {'width': 2, 'height': 1, 'x': 0, 'y': 7}],\n",
       "   'targetName': 'hand_selected_006'},\n",
       "  {'condition': 'external',\n",
       "   'targetBlocks': [{'width': 2, 'height': 4, 'x': 0, 'y': 0},\n",
       "    {'width': 2, 'height': 1, 'x': 2, 'y': 0},\n",
       "    {'width': 2, 'height': 2, 'x': 4, 'y': 0},\n",
       "    {'width': 2, 'height': 2, 'x': 6, 'y': 0},\n",
       "    {'width': 1, 'height': 2, 'x': 3, 'y': 1},\n",
       "    {'width': 1, 'height': 2, 'x': 4, 'y': 2},\n",
       "    {'width': 1, 'height': 2, 'x': 7, 'y': 2},\n",
       "    {'width': 2, 'height': 1, 'x': 0, 'y': 4},\n",
       "    {'width': 1, 'height': 2, 'x': 4, 'y': 4},\n",
       "    {'width': 1, 'height': 2, 'x': 7, 'y': 4},\n",
       "    {'width': 2, 'height': 1, 'x': 0, 'y': 5},\n",
       "    {'width': 2, 'height': 1, 'x': 0, 'y': 6},\n",
       "    {'width': 4, 'height': 2, 'x': 4, 'y': 6},\n",
       "    {'width': 2, 'height': 1, 'x': 0, 'y': 7}],\n",
       "   'targetName': 'hand_selected_001'},\n",
       "  {'condition': 'external',\n",
       "   'targetBlocks': [{'width': 4, 'height': 2, 'x': 0, 'y': 0},\n",
       "    {'width': 2, 'height': 4, 'x': 4, 'y': 0},\n",
       "    {'width': 1, 'height': 2, 'x': 7, 'y': 0},\n",
       "    {'width': 2, 'height': 4, 'x': 0, 'y': 2},\n",
       "    {'width': 2, 'height': 4, 'x': 2, 'y': 2},\n",
       "    {'width': 1, 'height': 2, 'x': 7, 'y': 2},\n",
       "    {'width': 1, 'height': 2, 'x': 5, 'y': 4},\n",
       "    {'width': 1, 'height': 2, 'x': 7, 'y': 4},\n",
       "    {'width': 1, 'height': 2, 'x': 1, 'y': 6},\n",
       "    {'width': 2, 'height': 1, 'x': 2, 'y': 6},\n",
       "    {'width': 4, 'height': 2, 'x': 4, 'y': 6},\n",
       "    {'width': 2, 'height': 1, 'x': 2, 'y': 7}],\n",
       "   'targetName': 'hand_selected_003'},\n",
       "  {'condition': 'external',\n",
       "   'targetBlocks': [{'width': 4, 'height': 2, 'x': 0, 'y': 0},\n",
       "    {'width': 2, 'height': 1, 'x': 4, 'y': 0},\n",
       "    {'width': 2, 'height': 4, 'x': 6, 'y': 0},\n",
       "    {'width': 2, 'height': 2, 'x': 4, 'y': 1},\n",
       "    {'width': 2, 'height': 4, 'x': 1, 'y': 2},\n",
       "    {'width': 2, 'height': 2, 'x': 4, 'y': 3},\n",
       "    {'width': 2, 'height': 2, 'x': 6, 'y': 4},\n",
       "    {'width': 2, 'height': 1, 'x': 4, 'y': 5},\n",
       "    {'width': 1, 'height': 2, 'x': 1, 'y': 6},\n",
       "    {'width': 4, 'height': 2, 'x': 2, 'y': 6},\n",
       "    {'width': 2, 'height': 2, 'x': 6, 'y': 6}],\n",
       "   'targetName': 'hand_selected_002'},\n",
       "  {'condition': 'external',\n",
       "   'targetBlocks': [{'width': 2, 'height': 4, 'x': 0, 'y': 0},\n",
       "    {'width': 2, 'height': 2, 'x': 3, 'y': 0},\n",
       "    {'width': 2, 'height': 2, 'x': 5, 'y': 0},\n",
       "    {'width': 2, 'height': 4, 'x': 2, 'y': 2},\n",
       "    {'width': 2, 'height': 2, 'x': 5, 'y': 2},\n",
       "    {'width': 4, 'height': 2, 'x': 4, 'y': 4},\n",
       "    {'width': 1, 'height': 2, 'x': 2, 'y': 6},\n",
       "    {'width': 1, 'height': 2, 'x': 3, 'y': 6},\n",
       "    {'width': 2, 'height': 1, 'x': 4, 'y': 6},\n",
       "    {'width': 1, 'height': 2, 'x': 6, 'y': 6},\n",
       "    {'width': 1, 'height': 2, 'x': 7, 'y': 6},\n",
       "    {'width': 2, 'height': 1, 'x': 4, 'y': 7}],\n",
       "   'targetName': 'hand_selected_005'},\n",
       "  {'condition': 'external',\n",
       "   'targetBlocks': [{'width': 2, 'height': 1, 'x': 0, 'y': 0},\n",
       "    {'width': 4, 'height': 2, 'x': 2, 'y': 0},\n",
       "    {'width': 2, 'height': 4, 'x': 6, 'y': 0},\n",
       "    {'width': 2, 'height': 2, 'x': 0, 'y': 1},\n",
       "    {'width': 2, 'height': 2, 'x': 3, 'y': 2},\n",
       "    {'width': 2, 'height': 1, 'x': 0, 'y': 3},\n",
       "    {'width': 2, 'height': 1, 'x': 0, 'y': 4},\n",
       "    {'width': 4, 'height': 2, 'x': 2, 'y': 4},\n",
       "    {'width': 1, 'height': 2, 'x': 7, 'y': 4},\n",
       "    {'width': 1, 'height': 2, 'x': 1, 'y': 5},\n",
       "    {'width': 2, 'height': 2, 'x': 3, 'y': 6},\n",
       "    {'width': 1, 'height': 2, 'x': 5, 'y': 6}],\n",
       "   'targetName': 'hand_selected_009'},\n",
       "  {'condition': 'external',\n",
       "   'targetBlocks': [{'width': 2, 'height': 4, 'x': 1, 'y': 0},\n",
       "    {'width': 4, 'height': 2, 'x': 3, 'y': 0},\n",
       "    {'width': 4, 'height': 2, 'x': 4, 'y': 2},\n",
       "    {'width': 4, 'height': 2, 'x': 0, 'y': 4},\n",
       "    {'width': 2, 'height': 2, 'x': 4, 'y': 4},\n",
       "    {'width': 1, 'height': 2, 'x': 7, 'y': 4},\n",
       "    {'width': 2, 'height': 1, 'x': 1, 'y': 6},\n",
       "    {'width': 4, 'height': 2, 'x': 3, 'y': 6},\n",
       "    {'width': 1, 'height': 2, 'x': 7, 'y': 6}],\n",
       "   'targetName': 'hand_selected_008'},\n",
       "  {'condition': 'external',\n",
       "   'targetBlocks': [{'width': 2, 'height': 1, 'x': 0, 'y': 0},\n",
       "    {'width': 2, 'height': 1, 'x': 2, 'y': 0},\n",
       "    {'width': 2, 'height': 1, 'x': 5, 'y': 0},\n",
       "    {'width': 2, 'height': 2, 'x': 0, 'y': 1},\n",
       "    {'width': 2, 'height': 4, 'x': 2, 'y': 1},\n",
       "    {'width': 2, 'height': 1, 'x': 5, 'y': 1},\n",
       "    {'width': 4, 'height': 2, 'x': 4, 'y': 2},\n",
       "    {'width': 4, 'height': 2, 'x': 4, 'y': 4},\n",
       "    {'width': 1, 'height': 2, 'x': 1, 'y': 3},\n",
       "    {'width': 2, 'height': 2, 'x': 2, 'y': 5},\n",
       "    {'width': 2, 'height': 1, 'x': 4, 'y': 6},\n",
       "    {'width': 2, 'height': 1, 'x': 6, 'y': 6},\n",
       "    {'width': 2, 'height': 1, 'x': 2, 'y': 7},\n",
       "    {'width': 2, 'height': 1, 'x': 4, 'y': 7},\n",
       "    {'width': 2, 'height': 1, 'x': 6, 'y': 7}],\n",
       "   'targetName': 'hand_selected_004'},\n",
       "  {'condition': 'external',\n",
       "   'targetBlocks': [{'width': 1, 'height': 2, 'x': 0, 'y': 0},\n",
       "    {'width': 4, 'height': 2, 'x': 3, 'y': 0},\n",
       "    {'width': 1, 'height': 2, 'x': 0, 'y': 2},\n",
       "    {'width': 2, 'height': 1, 'x': 3, 'y': 2},\n",
       "    {'width': 1, 'height': 2, 'x': 6, 'y': 2},\n",
       "    {'width': 2, 'height': 1, 'x': 3, 'y': 3},\n",
       "    {'width': 4, 'height': 2, 'x': 0, 'y': 4},\n",
       "    {'width': 1, 'height': 2, 'x': 4, 'y': 4},\n",
       "    {'width': 1, 'height': 2, 'x': 6, 'y': 4},\n",
       "    {'width': 4, 'height': 2, 'x': 0, 'y': 6},\n",
       "    {'width': 1, 'height': 2, 'x': 4, 'y': 6},\n",
       "    {'width': 1, 'height': 2, 'x': 6, 'y': 6}],\n",
       "   'targetName': 'hand_selected_012'}],\n",
       " 'games': [],\n",
       " 'numTrials': 12,\n",
       " 'version': 'silhouette-testing1'}"
      ]
     },
     "execution_count": 159,
     "metadata": {},
     "output_type": "execute_result"
    }
   ],
   "source": [
    "## Now let's look at one of the records\n",
    "coll.find_one()"
   ]
  },
  {
   "cell_type": "code",
   "execution_count": null,
   "metadata": {},
   "outputs": [],
   "source": []
  },
  {
   "cell_type": "code",
   "execution_count": null,
   "metadata": {},
   "outputs": [],
   "source": []
  },
  {
   "cell_type": "code",
   "execution_count": null,
   "metadata": {},
   "outputs": [],
   "source": []
  }
 ],
 "metadata": {
  "kernelspec": {
   "display_name": "Python 3",
   "language": "python",
   "name": "python3"
  },
  "language_info": {
   "codemirror_mode": {
    "name": "ipython",
    "version": 3
   },
   "file_extension": ".py",
   "mimetype": "text/x-python",
   "name": "python",
   "nbconvert_exporter": "python",
   "pygments_lexer": "ipython3",
   "version": "3.7.3"
  }
 },
 "nbformat": 4,
 "nbformat_minor": 2
}
